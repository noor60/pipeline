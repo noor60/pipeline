{
 "cells": [
  {
   "cell_type": "code",
   "execution_count": 368,
   "metadata": {},
   "outputs": [],
   "source": [
    "import pandas as pd\n"
   ]
  },
  {
   "cell_type": "code",
   "execution_count": 369,
   "metadata": {},
   "outputs": [],
   "source": [
    "path=\"/Users/nooreen/Desktop/High margin/PZ/notebooks/Jet's Pizza Store Details.xlsx\"\n",
    "\n",
    "input_data_ar=pd.read_excel(path)\n",
    "\n",
    "input_data_ar=input_data_ar[input_data_ar['*state']=='FL']\n",
    "input_data_ar['*zip_code']=input_data_ar['*zip_code'].astype(str)\n",
    "\n",
    "zip_income_dict = dict(zip(input_data_ar['*zip_code'], input_data_ar['household_median_income']))\n",
    "zip_store_ids = dict(zip(input_data_ar['*zip_code'], input_data_ar['*name']))\n"
   ]
  },
  {
   "cell_type": "code",
   "execution_count": null,
   "metadata": {},
   "outputs": [],
   "source": [
    "\n",
    "\n"
   ]
  },
  {
   "cell_type": "code",
   "execution_count": 370,
   "metadata": {},
   "outputs": [
    {
     "data": {
      "text/plain": [
       "77     34698\n",
       "78     33765\n",
       "117    33334\n",
       "137    34104\n",
       "141    33547\n",
       "145    33708\n",
       "147    33928\n",
       "148    34684\n",
       "150    33803\n",
       "191    33511\n",
       "208    34232\n",
       "209    32225\n",
       "221    32541\n",
       "224    33991\n",
       "236    33907\n",
       "237    34108\n",
       "286    32703\n",
       "289    33903\n",
       "290    34202\n",
       "314    33434\n",
       "316    33065\n",
       "320    33411\n",
       "321    33060\n",
       "323    33904\n",
       "328    34286\n",
       "335    33618\n",
       "342    33328\n",
       "344    34134\n",
       "351    33954\n",
       "372    34221\n",
       "386    33809\n",
       "387    32129\n",
       "395    34119\n",
       "414    32504\n",
       "419    33770\n",
       "423    34761\n",
       "429    32257\n",
       "433    32073\n",
       "Name: *zip_code, dtype: object"
      ]
     },
     "execution_count": 370,
     "metadata": {},
     "output_type": "execute_result"
    }
   ],
   "source": [
    "input_data_ar['*zip_code']\n"
   ]
  },
  {
   "cell_type": "code",
   "execution_count": 371,
   "metadata": {},
   "outputs": [
    {
     "data": {
      "text/html": [
       "<div>\n",
       "<style scoped>\n",
       "    .dataframe tbody tr th:only-of-type {\n",
       "        vertical-align: middle;\n",
       "    }\n",
       "\n",
       "    .dataframe tbody tr th {\n",
       "        vertical-align: top;\n",
       "    }\n",
       "\n",
       "    .dataframe thead th {\n",
       "        text-align: right;\n",
       "    }\n",
       "</style>\n",
       "<table border=\"1\" class=\"dataframe\">\n",
       "  <thead>\n",
       "    <tr style=\"text-align: right;\">\n",
       "      <th></th>\n",
       "      <th>*monday lobby</th>\n",
       "      <th>*tuesday lobby</th>\n",
       "      <th>*wednesday lobby</th>\n",
       "      <th>*thursday lobby</th>\n",
       "      <th>*friday lobby</th>\n",
       "      <th>*saturday lobby</th>\n",
       "      <th>*sunday lobby</th>\n",
       "      <th>text_to_order_url</th>\n",
       "      <th>text_to_order_note</th>\n",
       "      <th>*ordering_url</th>\n",
       "      <th>...</th>\n",
       "      <th>*store_phone</th>\n",
       "      <th>companymanaged</th>\n",
       "      <th>dma</th>\n",
       "      <th>timezone</th>\n",
       "      <th>latitude</th>\n",
       "      <th>longitude</th>\n",
       "      <th>opendate</th>\n",
       "      <th>AADT</th>\n",
       "      <th>classification</th>\n",
       "      <th>household_median_income</th>\n",
       "    </tr>\n",
       "  </thead>\n",
       "  <tbody>\n",
       "    <tr>\n",
       "      <th>141</th>\n",
       "      <td>10:00:00-22:00:00</td>\n",
       "      <td>10:00:00-22:00:00</td>\n",
       "      <td>10:00:00-22:00:00</td>\n",
       "      <td>10:00:00-22:00:00</td>\n",
       "      <td>10:00:00-23:00:00</td>\n",
       "      <td>10:00:00-23:00:00</td>\n",
       "      <td>11:00:00-22:00:00</td>\n",
       "      <td>https://www.jetspizza.com/textorder/?jets_id=F...</td>\n",
       "      <td>Text your order to get 15% off menu-priced pizza</td>\n",
       "      <td>https://ordering.jetspizza.com/?uniqueStoreIde...</td>\n",
       "      <td>...</td>\n",
       "      <td>8136545388</td>\n",
       "      <td>False</td>\n",
       "      <td>Tampa-St. Petersburg (Sarasota)</td>\n",
       "      <td>Eastern (UTC -5 / -4)</td>\n",
       "      <td>27.853051</td>\n",
       "      <td>-82.267708</td>\n",
       "      <td>2008-03-12</td>\n",
       "      <td>31500.0</td>\n",
       "      <td>suburban</td>\n",
       "      <td>121769.0</td>\n",
       "    </tr>\n",
       "  </tbody>\n",
       "</table>\n",
       "<p>1 rows × 33 columns</p>\n",
       "</div>"
      ],
      "text/plain": [
       "         *monday lobby     *tuesday lobby   *wednesday lobby  \\\n",
       "141  10:00:00-22:00:00  10:00:00-22:00:00  10:00:00-22:00:00   \n",
       "\n",
       "       *thursday lobby      *friday lobby    *saturday lobby  \\\n",
       "141  10:00:00-22:00:00  10:00:00-23:00:00  10:00:00-23:00:00   \n",
       "\n",
       "         *sunday lobby                                  text_to_order_url  \\\n",
       "141  11:00:00-22:00:00  https://www.jetspizza.com/textorder/?jets_id=F...   \n",
       "\n",
       "                                   text_to_order_note  \\\n",
       "141  Text your order to get 15% off menu-priced pizza   \n",
       "\n",
       "                                         *ordering_url  ... *store_phone  \\\n",
       "141  https://ordering.jetspizza.com/?uniqueStoreIde...  ...   8136545388   \n",
       "\n",
       "    companymanaged                              dma               timezone  \\\n",
       "141          False  Tampa-St. Petersburg (Sarasota)  Eastern (UTC -5 / -4)   \n",
       "\n",
       "      latitude  longitude   opendate     AADT classification  \\\n",
       "141  27.853051 -82.267708 2008-03-12  31500.0       suburban   \n",
       "\n",
       "    household_median_income  \n",
       "141                121769.0  \n",
       "\n",
       "[1 rows x 33 columns]"
      ]
     },
     "execution_count": 371,
     "metadata": {},
     "output_type": "execute_result"
    }
   ],
   "source": [
    "input_data_ar[input_data_ar['*zip_code']=='33547']\n"
   ]
  },
  {
   "cell_type": "code",
   "execution_count": 372,
   "metadata": {},
   "outputs": [
    {
     "data": {
      "text/plain": [
       "Index(['*monday lobby', '*tuesday lobby', '*wednesday lobby',\n",
       "       '*thursday lobby', '*friday lobby', '*saturday lobby', '*sunday lobby',\n",
       "       'text_to_order_url', 'text_to_order_note', '*ordering_url', 'status',\n",
       "       'pro_order_url', 'pro_order_note', '*ordering_platform', 'possystem',\n",
       "       '*name', '*address_1', 'address_2', '*city', 'county', '*state',\n",
       "       '*zip_code', 'store_local_reference', '*store_phone', 'companymanaged',\n",
       "       'dma', 'timezone', 'latitude', 'longitude', 'opendate', 'AADT',\n",
       "       'classification', 'household_median_income'],\n",
       "      dtype='object')"
      ]
     },
     "execution_count": 372,
     "metadata": {},
     "output_type": "execute_result"
    }
   ],
   "source": [
    "input_data_ar.columns\n"
   ]
  },
  {
   "cell_type": "code",
   "execution_count": 373,
   "metadata": {},
   "outputs": [
    {
     "data": {
      "text/html": [
       "<div>\n",
       "<style scoped>\n",
       "    .dataframe tbody tr th:only-of-type {\n",
       "        vertical-align: middle;\n",
       "    }\n",
       "\n",
       "    .dataframe tbody tr th {\n",
       "        vertical-align: top;\n",
       "    }\n",
       "\n",
       "    .dataframe thead th {\n",
       "        text-align: right;\n",
       "    }\n",
       "</style>\n",
       "<table border=\"1\" class=\"dataframe\">\n",
       "  <thead>\n",
       "    <tr style=\"text-align: right;\">\n",
       "      <th></th>\n",
       "      <th>zip_code</th>\n",
       "      <th>area_classification</th>\n",
       "      <th>traffic_count</th>\n",
       "      <th>population</th>\n",
       "    </tr>\n",
       "  </thead>\n",
       "  <tbody>\n",
       "    <tr>\n",
       "      <th>0</th>\n",
       "      <td>34698</td>\n",
       "      <td>urban</td>\n",
       "      <td>32500.0</td>\n",
       "      <td>38010</td>\n",
       "    </tr>\n",
       "    <tr>\n",
       "      <th>1</th>\n",
       "      <td>33765</td>\n",
       "      <td>urban</td>\n",
       "      <td>49000.0</td>\n",
       "      <td>13844</td>\n",
       "    </tr>\n",
       "  </tbody>\n",
       "</table>\n",
       "</div>"
      ],
      "text/plain": [
       "  zip_code area_classification  traffic_count  population\n",
       "0    34698               urban        32500.0       38010\n",
       "1    33765               urban        49000.0       13844"
      ]
     },
     "execution_count": 373,
     "metadata": {},
     "output_type": "execute_result"
    }
   ],
   "source": [
    "input_data=pd.read_csv('../data/input_data.csv').drop(columns=['Unnamed: 0','household_total_income'])\n",
    "input_data['zip_code']=input_data['zip_code'].astype(str)\n",
    "zip_code_list=list(input_data['zip_code'].unique())\n",
    "input_data.head(2)\n"
   ]
  },
  {
   "cell_type": "code",
   "execution_count": 374,
   "metadata": {},
   "outputs": [],
   "source": [
    "input_data['household_median_income']=input_data['zip_code'].map(zip_income_dict)\n"
   ]
  },
  {
   "cell_type": "code",
   "execution_count": 375,
   "metadata": {},
   "outputs": [
    {
     "data": {
      "text/html": [
       "<div>\n",
       "<style scoped>\n",
       "    .dataframe tbody tr th:only-of-type {\n",
       "        vertical-align: middle;\n",
       "    }\n",
       "\n",
       "    .dataframe tbody tr th {\n",
       "        vertical-align: top;\n",
       "    }\n",
       "\n",
       "    .dataframe thead th {\n",
       "        text-align: right;\n",
       "    }\n",
       "</style>\n",
       "<table border=\"1\" class=\"dataframe\">\n",
       "  <thead>\n",
       "    <tr style=\"text-align: right;\">\n",
       "      <th></th>\n",
       "      <th>zip_code</th>\n",
       "      <th>area_classification</th>\n",
       "      <th>traffic_count</th>\n",
       "      <th>population</th>\n",
       "      <th>household_median_income</th>\n",
       "    </tr>\n",
       "  </thead>\n",
       "  <tbody>\n",
       "    <tr>\n",
       "      <th>4</th>\n",
       "      <td>33547</td>\n",
       "      <td>suburban</td>\n",
       "      <td>31500.0</td>\n",
       "      <td>30935</td>\n",
       "      <td>121769.0</td>\n",
       "    </tr>\n",
       "  </tbody>\n",
       "</table>\n",
       "</div>"
      ],
      "text/plain": [
       "  zip_code area_classification  traffic_count  population  \\\n",
       "4    33547            suburban        31500.0       30935   \n",
       "\n",
       "   household_median_income  \n",
       "4                 121769.0  "
      ]
     },
     "execution_count": 375,
     "metadata": {},
     "output_type": "execute_result"
    }
   ],
   "source": [
    "\n",
    "input_data[input_data['zip_code']=='33547']\n"
   ]
  },
  {
   "cell_type": "markdown",
   "metadata": {},
   "source": [
    "# area square miles \n"
   ]
  },
  {
   "cell_type": "code",
   "execution_count": 376,
   "metadata": {},
   "outputs": [
    {
     "data": {
      "text/html": [
       "<div>\n",
       "<style scoped>\n",
       "    .dataframe tbody tr th:only-of-type {\n",
       "        vertical-align: middle;\n",
       "    }\n",
       "\n",
       "    .dataframe tbody tr th {\n",
       "        vertical-align: top;\n",
       "    }\n",
       "\n",
       "    .dataframe thead th {\n",
       "        text-align: right;\n",
       "    }\n",
       "</style>\n",
       "<table border=\"1\" class=\"dataframe\">\n",
       "  <thead>\n",
       "    <tr style=\"text-align: right;\">\n",
       "      <th></th>\n",
       "      <th>Geographic Identifier</th>\n",
       "      <th>Geographic Area Name</th>\n",
       "      <th>Area (Land, in square meters)</th>\n",
       "      <th>Area (Water, in square meters)</th>\n",
       "      <th>Area (Land, in square miles)</th>\n",
       "      <th>Area (Water, in square miles)</th>\n",
       "      <th>Internal Point (Latitude)</th>\n",
       "      <th>Internal Point (Longitude)</th>\n",
       "      <th>NaN</th>\n",
       "      <th>zip_code</th>\n",
       "    </tr>\n",
       "  </thead>\n",
       "  <tbody>\n",
       "    <tr>\n",
       "      <th>0</th>\n",
       "      <td>860Z200US32003</td>\n",
       "      <td>ZCTA5 32003</td>\n",
       "      <td>41020988</td>\n",
       "      <td>18177131</td>\n",
       "      <td>15.838</td>\n",
       "      <td>7.018</td>\n",
       "      <td>30.0955841</td>\n",
       "      <td>-81.7101617</td>\n",
       "      <td>NaN</td>\n",
       "      <td>32003</td>\n",
       "    </tr>\n",
       "    <tr>\n",
       "      <th>1</th>\n",
       "      <td>860Z200US32008</td>\n",
       "      <td>ZCTA5 32008</td>\n",
       "      <td>390088888</td>\n",
       "      <td>6731030</td>\n",
       "      <td>150.614</td>\n",
       "      <td>2.599</td>\n",
       "      <td>29.9079199</td>\n",
       "      <td>-82.8974653</td>\n",
       "      <td>NaN</td>\n",
       "      <td>32008</td>\n",
       "    </tr>\n",
       "  </tbody>\n",
       "</table>\n",
       "</div>"
      ],
      "text/plain": [
       "0 Geographic Identifier Geographic Area Name Area (Land, in square meters)  \\\n",
       "0        860Z200US32003          ZCTA5 32003                      41020988   \n",
       "1        860Z200US32008          ZCTA5 32008                     390088888   \n",
       "\n",
       "0 Area (Water, in square meters) Area (Land, in square miles)  \\\n",
       "0                       18177131                       15.838   \n",
       "1                        6731030                      150.614   \n",
       "\n",
       "0 Area (Water, in square miles) Internal Point (Latitude)  \\\n",
       "0                         7.018                30.0955841   \n",
       "1                         2.599                29.9079199   \n",
       "\n",
       "0 Internal Point (Longitude)  NaN zip_code  \n",
       "0                -81.7101617  NaN    32003  \n",
       "1                -82.8974653  NaN    32008  "
      ]
     },
     "execution_count": 376,
     "metadata": {},
     "output_type": "execute_result"
    }
   ],
   "source": [
    "square_miles=pd.read_csv('/Users/nooreen/Desktop/High margin/PZ/notebooks/GEOINFO2023.GEOINFO-Data.csv')\n",
    "# square_miles=square_miles[1:]\n",
    "\n",
    "# Set the first row as column names and reset the index\n",
    "square_miles.columns = square_miles.iloc[0]  # Set first row as column names\n",
    "square_miles = square_miles[1:].reset_index(drop=True)  # Remove the first row and reset index\n",
    "\n",
    "square_miles['zip_code'] = square_miles['Geographic Area Name'].apply(lambda x: x.split(' ')[-1])\n",
    "square_miles['zip_code']=square_miles['zip_code'].astype(str)\n",
    "zip_code_ex=list(square_miles['zip_code'].unique())\n",
    "square_miles.head(2)\n",
    "\n"
   ]
  },
  {
   "cell_type": "code",
   "execution_count": 377,
   "metadata": {},
   "outputs": [],
   "source": [
    "# 33547\n"
   ]
  },
  {
   "cell_type": "code",
   "execution_count": 378,
   "metadata": {},
   "outputs": [
    {
     "name": "stdout",
     "output_type": "stream",
     "text": [
      "38\n"
     ]
    },
    {
     "data": {
      "text/plain": [
       "38"
      ]
     },
     "execution_count": 378,
     "metadata": {},
     "output_type": "execute_result"
    }
   ],
   "source": [
    "print(len(zip_code_list))\n",
    "# checking the zip code info\n",
    "zip_union = set(zip_code_ex).intersection(set(zip_code_list))\n",
    "len(zip_union)\n"
   ]
  },
  {
   "cell_type": "code",
   "execution_count": 379,
   "metadata": {},
   "outputs": [],
   "source": [
    "\n",
    "square_miles_df=square_miles[['zip_code','Area (Land, in square miles)']]\n"
   ]
  },
  {
   "cell_type": "code",
   "execution_count": 380,
   "metadata": {},
   "outputs": [
    {
     "data": {
      "text/html": [
       "<div>\n",
       "<style scoped>\n",
       "    .dataframe tbody tr th:only-of-type {\n",
       "        vertical-align: middle;\n",
       "    }\n",
       "\n",
       "    .dataframe tbody tr th {\n",
       "        vertical-align: top;\n",
       "    }\n",
       "\n",
       "    .dataframe thead th {\n",
       "        text-align: right;\n",
       "    }\n",
       "</style>\n",
       "<table border=\"1\" class=\"dataframe\">\n",
       "  <thead>\n",
       "    <tr style=\"text-align: right;\">\n",
       "      <th></th>\n",
       "      <th>zip_code</th>\n",
       "      <th>area_classification</th>\n",
       "      <th>traffic_count</th>\n",
       "      <th>population</th>\n",
       "      <th>household_median_income</th>\n",
       "      <th>Area (Land, in square miles)</th>\n",
       "    </tr>\n",
       "  </thead>\n",
       "  <tbody>\n",
       "    <tr>\n",
       "      <th>0</th>\n",
       "      <td>34698</td>\n",
       "      <td>urban</td>\n",
       "      <td>32500.0</td>\n",
       "      <td>38010</td>\n",
       "      <td>67323.0</td>\n",
       "      <td>11.180</td>\n",
       "    </tr>\n",
       "    <tr>\n",
       "      <th>1</th>\n",
       "      <td>33765</td>\n",
       "      <td>urban</td>\n",
       "      <td>49000.0</td>\n",
       "      <td>13844</td>\n",
       "      <td>61910.0</td>\n",
       "      <td>4.177</td>\n",
       "    </tr>\n",
       "    <tr>\n",
       "      <th>2</th>\n",
       "      <td>33334</td>\n",
       "      <td>urban</td>\n",
       "      <td>35000.0</td>\n",
       "      <td>30138</td>\n",
       "      <td>69512.0</td>\n",
       "      <td>4.767</td>\n",
       "    </tr>\n",
       "    <tr>\n",
       "      <th>3</th>\n",
       "      <td>34104</td>\n",
       "      <td>suburban</td>\n",
       "      <td>38500.0</td>\n",
       "      <td>25485</td>\n",
       "      <td>70301.0</td>\n",
       "      <td>9.857</td>\n",
       "    </tr>\n",
       "    <tr>\n",
       "      <th>4</th>\n",
       "      <td>33547</td>\n",
       "      <td>suburban</td>\n",
       "      <td>31500.0</td>\n",
       "      <td>30935</td>\n",
       "      <td>121769.0</td>\n",
       "      <td>160.579</td>\n",
       "    </tr>\n",
       "    <tr>\n",
       "      <th>5</th>\n",
       "      <td>33708</td>\n",
       "      <td>suburban</td>\n",
       "      <td>45500.0</td>\n",
       "      <td>16034</td>\n",
       "      <td>83773.0</td>\n",
       "      <td>3.406</td>\n",
       "    </tr>\n",
       "    <tr>\n",
       "      <th>6</th>\n",
       "      <td>33928</td>\n",
       "      <td>suburban</td>\n",
       "      <td>30000.0</td>\n",
       "      <td>28955</td>\n",
       "      <td>100264.0</td>\n",
       "      <td>41.681</td>\n",
       "    </tr>\n",
       "    <tr>\n",
       "      <th>7</th>\n",
       "      <td>34684</td>\n",
       "      <td>suburban</td>\n",
       "      <td>91500.0</td>\n",
       "      <td>27078</td>\n",
       "      <td>67542.0</td>\n",
       "      <td>6.736</td>\n",
       "    </tr>\n",
       "    <tr>\n",
       "      <th>8</th>\n",
       "      <td>33803</td>\n",
       "      <td>urban</td>\n",
       "      <td>36000.0</td>\n",
       "      <td>29082</td>\n",
       "      <td>63180.0</td>\n",
       "      <td>16.592</td>\n",
       "    </tr>\n",
       "    <tr>\n",
       "      <th>9</th>\n",
       "      <td>33511</td>\n",
       "      <td>suburban</td>\n",
       "      <td>29500.0</td>\n",
       "      <td>56627</td>\n",
       "      <td>77383.0</td>\n",
       "      <td>16.045</td>\n",
       "    </tr>\n",
       "    <tr>\n",
       "      <th>10</th>\n",
       "      <td>34232</td>\n",
       "      <td>urban</td>\n",
       "      <td>53500.0</td>\n",
       "      <td>34671</td>\n",
       "      <td>81041.0</td>\n",
       "      <td>11.033</td>\n",
       "    </tr>\n",
       "    <tr>\n",
       "      <th>11</th>\n",
       "      <td>32225</td>\n",
       "      <td>suburban</td>\n",
       "      <td>60000.0</td>\n",
       "      <td>57441</td>\n",
       "      <td>87715.0</td>\n",
       "      <td>26.307</td>\n",
       "    </tr>\n",
       "    <tr>\n",
       "      <th>12</th>\n",
       "      <td>32541</td>\n",
       "      <td>urban</td>\n",
       "      <td>60000.0</td>\n",
       "      <td>18419</td>\n",
       "      <td>93004.0</td>\n",
       "      <td>12.346</td>\n",
       "    </tr>\n",
       "    <tr>\n",
       "      <th>13</th>\n",
       "      <td>33991</td>\n",
       "      <td>urban</td>\n",
       "      <td>16200.0</td>\n",
       "      <td>26381</td>\n",
       "      <td>82927.0</td>\n",
       "      <td>12.815</td>\n",
       "    </tr>\n",
       "    <tr>\n",
       "      <th>14</th>\n",
       "      <td>33907</td>\n",
       "      <td>suburban</td>\n",
       "      <td>23000.0</td>\n",
       "      <td>24980</td>\n",
       "      <td>49826.0</td>\n",
       "      <td>7.343</td>\n",
       "    </tr>\n",
       "    <tr>\n",
       "      <th>15</th>\n",
       "      <td>34108</td>\n",
       "      <td>suburban</td>\n",
       "      <td>57000.0</td>\n",
       "      <td>16142</td>\n",
       "      <td>120187.0</td>\n",
       "      <td>7.837</td>\n",
       "    </tr>\n",
       "    <tr>\n",
       "      <th>16</th>\n",
       "      <td>32703</td>\n",
       "      <td>suburban</td>\n",
       "      <td>58500.0</td>\n",
       "      <td>54805</td>\n",
       "      <td>70338.0</td>\n",
       "      <td>32.110</td>\n",
       "    </tr>\n",
       "    <tr>\n",
       "      <th>17</th>\n",
       "      <td>33903</td>\n",
       "      <td>suburban</td>\n",
       "      <td>36000.0</td>\n",
       "      <td>23294</td>\n",
       "      <td>56317.0</td>\n",
       "      <td>11.330</td>\n",
       "    </tr>\n",
       "    <tr>\n",
       "      <th>18</th>\n",
       "      <td>34202</td>\n",
       "      <td>suburban</td>\n",
       "      <td>58000.0</td>\n",
       "      <td>26797</td>\n",
       "      <td>123210.0</td>\n",
       "      <td>23.100</td>\n",
       "    </tr>\n",
       "    <tr>\n",
       "      <th>19</th>\n",
       "      <td>33434</td>\n",
       "      <td>suburban</td>\n",
       "      <td>48000.0</td>\n",
       "      <td>21003</td>\n",
       "      <td>75480.0</td>\n",
       "      <td>6.907</td>\n",
       "    </tr>\n",
       "    <tr>\n",
       "      <th>20</th>\n",
       "      <td>33065</td>\n",
       "      <td>suburban</td>\n",
       "      <td>30500.0</td>\n",
       "      <td>59668</td>\n",
       "      <td>70435.0</td>\n",
       "      <td>8.579</td>\n",
       "    </tr>\n",
       "    <tr>\n",
       "      <th>21</th>\n",
       "      <td>33411</td>\n",
       "      <td>suburban</td>\n",
       "      <td>41500.0</td>\n",
       "      <td>74206</td>\n",
       "      <td>89329.0</td>\n",
       "      <td>34.852</td>\n",
       "    </tr>\n",
       "    <tr>\n",
       "      <th>22</th>\n",
       "      <td>33060</td>\n",
       "      <td>urban</td>\n",
       "      <td>40500.0</td>\n",
       "      <td>35793</td>\n",
       "      <td>59757.0</td>\n",
       "      <td>6.953</td>\n",
       "    </tr>\n",
       "    <tr>\n",
       "      <th>23</th>\n",
       "      <td>33904</td>\n",
       "      <td>urban</td>\n",
       "      <td>52500.0</td>\n",
       "      <td>32029</td>\n",
       "      <td>66933.0</td>\n",
       "      <td>9.731</td>\n",
       "    </tr>\n",
       "    <tr>\n",
       "      <th>24</th>\n",
       "      <td>34286</td>\n",
       "      <td>suburban</td>\n",
       "      <td>20100.0</td>\n",
       "      <td>22000</td>\n",
       "      <td>74712.0</td>\n",
       "      <td>27.442</td>\n",
       "    </tr>\n",
       "    <tr>\n",
       "      <th>25</th>\n",
       "      <td>33618</td>\n",
       "      <td>suburban</td>\n",
       "      <td>64400.0</td>\n",
       "      <td>26474</td>\n",
       "      <td>79850.0</td>\n",
       "      <td>8.466</td>\n",
       "    </tr>\n",
       "    <tr>\n",
       "      <th>26</th>\n",
       "      <td>33328</td>\n",
       "      <td>suburban</td>\n",
       "      <td>50500.0</td>\n",
       "      <td>28997</td>\n",
       "      <td>127386.0</td>\n",
       "      <td>9.144</td>\n",
       "    </tr>\n",
       "    <tr>\n",
       "      <th>27</th>\n",
       "      <td>34134</td>\n",
       "      <td>urban</td>\n",
       "      <td>26500.0</td>\n",
       "      <td>15906</td>\n",
       "      <td>122102.0</td>\n",
       "      <td>13.441</td>\n",
       "    </tr>\n",
       "    <tr>\n",
       "      <th>28</th>\n",
       "      <td>33954</td>\n",
       "      <td>suburban</td>\n",
       "      <td>11900.0</td>\n",
       "      <td>11040</td>\n",
       "      <td>83081.0</td>\n",
       "      <td>8.609</td>\n",
       "    </tr>\n",
       "    <tr>\n",
       "      <th>29</th>\n",
       "      <td>34221</td>\n",
       "      <td>rural</td>\n",
       "      <td>5000.0</td>\n",
       "      <td>48082</td>\n",
       "      <td>74314.0</td>\n",
       "      <td>53.902</td>\n",
       "    </tr>\n",
       "    <tr>\n",
       "      <th>30</th>\n",
       "      <td>33809</td>\n",
       "      <td>suburban</td>\n",
       "      <td>57500.0</td>\n",
       "      <td>30629</td>\n",
       "      <td>67112.0</td>\n",
       "      <td>65.860</td>\n",
       "    </tr>\n",
       "    <tr>\n",
       "      <th>31</th>\n",
       "      <td>32129</td>\n",
       "      <td>urban</td>\n",
       "      <td>24000.0</td>\n",
       "      <td>21594</td>\n",
       "      <td>65936.0</td>\n",
       "      <td>7.520</td>\n",
       "    </tr>\n",
       "    <tr>\n",
       "      <th>32</th>\n",
       "      <td>34119</td>\n",
       "      <td>suburban</td>\n",
       "      <td>NaN</td>\n",
       "      <td>34933</td>\n",
       "      <td>109260.0</td>\n",
       "      <td>22.549</td>\n",
       "    </tr>\n",
       "    <tr>\n",
       "      <th>33</th>\n",
       "      <td>32504</td>\n",
       "      <td>suburban</td>\n",
       "      <td>19100.0</td>\n",
       "      <td>21791</td>\n",
       "      <td>74067.0</td>\n",
       "      <td>10.490</td>\n",
       "    </tr>\n",
       "    <tr>\n",
       "      <th>34</th>\n",
       "      <td>33770</td>\n",
       "      <td>urban</td>\n",
       "      <td>19400.0</td>\n",
       "      <td>25475</td>\n",
       "      <td>58071.0</td>\n",
       "      <td>5.200</td>\n",
       "    </tr>\n",
       "    <tr>\n",
       "      <th>35</th>\n",
       "      <td>34761</td>\n",
       "      <td>suburban</td>\n",
       "      <td>25000.0</td>\n",
       "      <td>48193</td>\n",
       "      <td>90406.0</td>\n",
       "      <td>17.457</td>\n",
       "    </tr>\n",
       "    <tr>\n",
       "      <th>36</th>\n",
       "      <td>32257</td>\n",
       "      <td>suburban</td>\n",
       "      <td>37000.0</td>\n",
       "      <td>41439</td>\n",
       "      <td>75180.0</td>\n",
       "      <td>12.253</td>\n",
       "    </tr>\n",
       "    <tr>\n",
       "      <th>37</th>\n",
       "      <td>32073</td>\n",
       "      <td>suburban</td>\n",
       "      <td>59500.0</td>\n",
       "      <td>43527</td>\n",
       "      <td>76139.0</td>\n",
       "      <td>16.838</td>\n",
       "    </tr>\n",
       "  </tbody>\n",
       "</table>\n",
       "</div>"
      ],
      "text/plain": [
       "   zip_code area_classification  traffic_count  population  \\\n",
       "0     34698               urban        32500.0       38010   \n",
       "1     33765               urban        49000.0       13844   \n",
       "2     33334               urban        35000.0       30138   \n",
       "3     34104            suburban        38500.0       25485   \n",
       "4     33547            suburban        31500.0       30935   \n",
       "5     33708            suburban        45500.0       16034   \n",
       "6     33928            suburban        30000.0       28955   \n",
       "7     34684            suburban        91500.0       27078   \n",
       "8     33803               urban        36000.0       29082   \n",
       "9     33511            suburban        29500.0       56627   \n",
       "10    34232               urban        53500.0       34671   \n",
       "11    32225            suburban        60000.0       57441   \n",
       "12    32541               urban        60000.0       18419   \n",
       "13    33991               urban        16200.0       26381   \n",
       "14    33907            suburban        23000.0       24980   \n",
       "15    34108            suburban        57000.0       16142   \n",
       "16    32703            suburban        58500.0       54805   \n",
       "17    33903            suburban        36000.0       23294   \n",
       "18    34202            suburban        58000.0       26797   \n",
       "19    33434            suburban        48000.0       21003   \n",
       "20    33065            suburban        30500.0       59668   \n",
       "21    33411            suburban        41500.0       74206   \n",
       "22    33060               urban        40500.0       35793   \n",
       "23    33904               urban        52500.0       32029   \n",
       "24    34286            suburban        20100.0       22000   \n",
       "25    33618            suburban        64400.0       26474   \n",
       "26    33328            suburban        50500.0       28997   \n",
       "27    34134               urban        26500.0       15906   \n",
       "28    33954            suburban        11900.0       11040   \n",
       "29    34221               rural         5000.0       48082   \n",
       "30    33809            suburban        57500.0       30629   \n",
       "31    32129               urban        24000.0       21594   \n",
       "32    34119            suburban            NaN       34933   \n",
       "33    32504            suburban        19100.0       21791   \n",
       "34    33770               urban        19400.0       25475   \n",
       "35    34761            suburban        25000.0       48193   \n",
       "36    32257            suburban        37000.0       41439   \n",
       "37    32073            suburban        59500.0       43527   \n",
       "\n",
       "    household_median_income Area (Land, in square miles)  \n",
       "0                   67323.0                       11.180  \n",
       "1                   61910.0                        4.177  \n",
       "2                   69512.0                        4.767  \n",
       "3                   70301.0                        9.857  \n",
       "4                  121769.0                      160.579  \n",
       "5                   83773.0                        3.406  \n",
       "6                  100264.0                       41.681  \n",
       "7                   67542.0                        6.736  \n",
       "8                   63180.0                       16.592  \n",
       "9                   77383.0                       16.045  \n",
       "10                  81041.0                       11.033  \n",
       "11                  87715.0                       26.307  \n",
       "12                  93004.0                       12.346  \n",
       "13                  82927.0                       12.815  \n",
       "14                  49826.0                        7.343  \n",
       "15                 120187.0                        7.837  \n",
       "16                  70338.0                       32.110  \n",
       "17                  56317.0                       11.330  \n",
       "18                 123210.0                       23.100  \n",
       "19                  75480.0                        6.907  \n",
       "20                  70435.0                        8.579  \n",
       "21                  89329.0                       34.852  \n",
       "22                  59757.0                        6.953  \n",
       "23                  66933.0                        9.731  \n",
       "24                  74712.0                       27.442  \n",
       "25                  79850.0                        8.466  \n",
       "26                 127386.0                        9.144  \n",
       "27                 122102.0                       13.441  \n",
       "28                  83081.0                        8.609  \n",
       "29                  74314.0                       53.902  \n",
       "30                  67112.0                       65.860  \n",
       "31                  65936.0                        7.520  \n",
       "32                 109260.0                       22.549  \n",
       "33                  74067.0                       10.490  \n",
       "34                  58071.0                        5.200  \n",
       "35                  90406.0                       17.457  \n",
       "36                  75180.0                       12.253  \n",
       "37                  76139.0                       16.838  "
      ]
     },
     "execution_count": 380,
     "metadata": {},
     "output_type": "execute_result"
    }
   ],
   "source": [
    "data1=pd.merge(input_data,square_miles_df,on='zip_code',how='left')\n",
    "data1\n"
   ]
  },
  {
   "cell_type": "markdown",
   "metadata": {},
   "source": [
    "# population density\n"
   ]
  },
  {
   "cell_type": "code",
   "execution_count": 381,
   "metadata": {},
   "outputs": [],
   "source": [
    "data1.head()\n",
    "data1[['population','Area (Land, in square miles)']]=data1[['population','Area (Land, in square miles)']].astype(float)\n"
   ]
  },
  {
   "cell_type": "code",
   "execution_count": 382,
   "metadata": {},
   "outputs": [
    {
     "data": {
      "text/html": [
       "<div>\n",
       "<style scoped>\n",
       "    .dataframe tbody tr th:only-of-type {\n",
       "        vertical-align: middle;\n",
       "    }\n",
       "\n",
       "    .dataframe tbody tr th {\n",
       "        vertical-align: top;\n",
       "    }\n",
       "\n",
       "    .dataframe thead th {\n",
       "        text-align: right;\n",
       "    }\n",
       "</style>\n",
       "<table border=\"1\" class=\"dataframe\">\n",
       "  <thead>\n",
       "    <tr style=\"text-align: right;\">\n",
       "      <th></th>\n",
       "      <th>zip_code</th>\n",
       "      <th>area_classification</th>\n",
       "      <th>traffic_count</th>\n",
       "      <th>population</th>\n",
       "      <th>household_median_income</th>\n",
       "      <th>Area (Land, in square miles)</th>\n",
       "      <th>population_density</th>\n",
       "    </tr>\n",
       "  </thead>\n",
       "  <tbody>\n",
       "    <tr>\n",
       "      <th>0</th>\n",
       "      <td>34698</td>\n",
       "      <td>urban</td>\n",
       "      <td>32500.0</td>\n",
       "      <td>38010.0</td>\n",
       "      <td>67323.0</td>\n",
       "      <td>11.180</td>\n",
       "      <td>3399.821109</td>\n",
       "    </tr>\n",
       "    <tr>\n",
       "      <th>1</th>\n",
       "      <td>33765</td>\n",
       "      <td>urban</td>\n",
       "      <td>49000.0</td>\n",
       "      <td>13844.0</td>\n",
       "      <td>61910.0</td>\n",
       "      <td>4.177</td>\n",
       "      <td>3314.340436</td>\n",
       "    </tr>\n",
       "  </tbody>\n",
       "</table>\n",
       "</div>"
      ],
      "text/plain": [
       "  zip_code area_classification  traffic_count  population  \\\n",
       "0    34698               urban        32500.0     38010.0   \n",
       "1    33765               urban        49000.0     13844.0   \n",
       "\n",
       "   household_median_income  Area (Land, in square miles)  population_density  \n",
       "0                  67323.0                        11.180         3399.821109  \n",
       "1                  61910.0                         4.177         3314.340436  "
      ]
     },
     "execution_count": 382,
     "metadata": {},
     "output_type": "execute_result"
    }
   ],
   "source": [
    "data1['population_density']=data1['population']/data1['Area (Land, in square miles)']\n",
    "data1.head(2)\n"
   ]
  },
  {
   "cell_type": "markdown",
   "metadata": {},
   "source": [
    "# addition of AADT\n"
   ]
  },
  {
   "cell_type": "code",
   "execution_count": 383,
   "metadata": {},
   "outputs": [
    {
     "data": {
      "text/html": [
       "<div>\n",
       "<style scoped>\n",
       "    .dataframe tbody tr th:only-of-type {\n",
       "        vertical-align: middle;\n",
       "    }\n",
       "\n",
       "    .dataframe tbody tr th {\n",
       "        vertical-align: top;\n",
       "    }\n",
       "\n",
       "    .dataframe thead th {\n",
       "        text-align: right;\n",
       "    }\n",
       "</style>\n",
       "<table border=\"1\" class=\"dataframe\">\n",
       "  <thead>\n",
       "    <tr style=\"text-align: right;\">\n",
       "      <th></th>\n",
       "      <th>zip_code</th>\n",
       "      <th>area_classification</th>\n",
       "      <th>traffic_count</th>\n",
       "      <th>population</th>\n",
       "      <th>household_median_income</th>\n",
       "      <th>Area (Land, in square miles)</th>\n",
       "      <th>population_density</th>\n",
       "      <th>AADT</th>\n",
       "    </tr>\n",
       "  </thead>\n",
       "  <tbody>\n",
       "    <tr>\n",
       "      <th>0</th>\n",
       "      <td>34698</td>\n",
       "      <td>urban</td>\n",
       "      <td>32500.0</td>\n",
       "      <td>38010.0</td>\n",
       "      <td>67323.0</td>\n",
       "      <td>11.180</td>\n",
       "      <td>3399.821109</td>\n",
       "      <td>32500</td>\n",
       "    </tr>\n",
       "    <tr>\n",
       "      <th>1</th>\n",
       "      <td>33765</td>\n",
       "      <td>urban</td>\n",
       "      <td>49000.0</td>\n",
       "      <td>13844.0</td>\n",
       "      <td>61910.0</td>\n",
       "      <td>4.177</td>\n",
       "      <td>3314.340436</td>\n",
       "      <td>49000</td>\n",
       "    </tr>\n",
       "  </tbody>\n",
       "</table>\n",
       "</div>"
      ],
      "text/plain": [
       "  zip_code area_classification  traffic_count  population  \\\n",
       "0    34698               urban        32500.0     38010.0   \n",
       "1    33765               urban        49000.0     13844.0   \n",
       "\n",
       "   household_median_income  Area (Land, in square miles)  population_density  \\\n",
       "0                  67323.0                        11.180         3399.821109   \n",
       "1                  61910.0                         4.177         3314.340436   \n",
       "\n",
       "    AADT  \n",
       "0  32500  \n",
       "1  49000  "
      ]
     },
     "execution_count": 383,
     "metadata": {},
     "output_type": "execute_result"
    }
   ],
   "source": [
    "aadt={'34698':32500,\n",
    "'33765':49000,\n",
    "'33334': 35000,\n",
    "'34104':38000,\n",
    "'33547':31500,\n",
    "'3708':45500,\n",
    "'33928':30000,\n",
    "'34684':91500,\n",
    "'33803':36000,\n",
    "'33511':29500,\n",
    "'34232':53500,\n",
    "'32225':60000,\n",
    "'32541':12400,\n",
    "'33991':16200,\n",
    "'33907':23000,\n",
    "'34108':57000,\n",
    "'32703':58500,\n",
    "'33903':36000,\n",
    "'34202':58000,\n",
    "'33434':38000,\n",
    "'33065':30500,\n",
    "'33411':41500,\n",
    "'33060':4200,\n",
    "'33904':52500,\n",
    "'34286':9500,\n",
    "'33618':64000,\n",
    "'33328':35500,\n",
    "'34134':26500,\n",
    "'33954':7800,\n",
    "'34221':5000,\n",
    "'33809':57500,\n",
    "'32129':24000,\n",
    "'34119':14300,\n",
    "'32504':19100,\n",
    "'33770':19400,\n",
    "'34761':25000,\n",
    "'32257':37000,\n",
    "'32073':59500,\n",
    "'33708':45500\n",
    "\n",
    "}\n",
    "\n",
    "data1['AADT']=data1['zip_code'].map(aadt)\n",
    "data1.head(2)\n"
   ]
  },
  {
   "cell_type": "code",
   "execution_count": null,
   "metadata": {},
   "outputs": [],
   "source": []
  },
  {
   "cell_type": "code",
   "execution_count": 384,
   "metadata": {},
   "outputs": [],
   "source": [
    "data1.to_csv('revised_input_data.csv')\n"
   ]
  },
  {
   "cell_type": "code",
   "execution_count": 385,
   "metadata": {},
   "outputs": [],
   "source": [
    "# # household income\n",
    "# # population density\n",
    "# # square miles area\n",
    "# input_data_rev=data1[['household_total_income','population_density','Area (Land, in square miles)','zip_code']]\n",
    "# input_data_rev.to_csv('revised_input_data.csv')\n"
   ]
  },
  {
   "cell_type": "markdown",
   "metadata": {},
   "source": [
    "# clustering\n"
   ]
  },
  {
   "cell_type": "code",
   "execution_count": 386,
   "metadata": {},
   "outputs": [],
   "source": [
    "import pandas as pd\n",
    "import seaborn as sns\n",
    "import matplotlib.pyplot as plt\n",
    "import numpy as np\n",
    "from sklearn.preprocessing import StandardScaler,RobustScaler\n",
    "\n",
    "\n",
    "import time\n",
    "from numpy import log as ln\n",
    "\n",
    "import pandas as pd\n",
    "import seaborn as sns\n",
    "import matplotlib.pyplot as plt\n",
    "import numpy as np\n",
    "import plotly.express as px\n",
    "\n",
    "from sklearn.preprocessing import StandardScaler,MinMaxScaler\n",
    "from sklearn.neighbors import NearestNeighbors\n",
    "from sklearn.cluster import DBSCAN\n",
    "\n",
    "from sklearn.metrics import silhouette_score, davies_bouldin_score\n",
    "from sklearn.metrics import calinski_harabasz_score\n",
    "from kneed import KneeLocator\n",
    "\n",
    "\n",
    "\n",
    "from sklearn.decomposition import PCA\n",
    "from sklearn.manifold import TSNE\n",
    "\n",
    "from mpl_toolkits.mplot3d import Axes3D\n",
    "\n",
    "import matplotlib.pyplot as plt\n",
    "from sklearn.decomposition import PCA\n",
    "import pandas as pd\n",
    "\n",
    "\n",
    "import scipy.cluster.hierarchy as sch\n",
    "from sklearn.cluster import AgglomerativeClustering\n",
    "\n",
    "        \n",
    "from sklearn.manifold import TSNE\n",
    "from scipy.spatial import ConvexHull\n",
    "import pandas as pd\n",
    "import plotly.express as px\n",
    "import plotly.graph_objects as go\n"
   ]
  },
  {
   "cell_type": "code",
   "execution_count": 387,
   "metadata": {},
   "outputs": [
    {
     "data": {
      "text/html": [
       "<div>\n",
       "<style scoped>\n",
       "    .dataframe tbody tr th:only-of-type {\n",
       "        vertical-align: middle;\n",
       "    }\n",
       "\n",
       "    .dataframe tbody tr th {\n",
       "        vertical-align: top;\n",
       "    }\n",
       "\n",
       "    .dataframe thead th {\n",
       "        text-align: right;\n",
       "    }\n",
       "</style>\n",
       "<table border=\"1\" class=\"dataframe\">\n",
       "  <thead>\n",
       "    <tr style=\"text-align: right;\">\n",
       "      <th></th>\n",
       "      <th>zip_code</th>\n",
       "      <th>area_classification</th>\n",
       "      <th>traffic_count</th>\n",
       "      <th>population</th>\n",
       "      <th>household_median_income</th>\n",
       "      <th>Area (Land, in square miles)</th>\n",
       "      <th>population_density</th>\n",
       "      <th>AADT</th>\n",
       "    </tr>\n",
       "  </thead>\n",
       "  <tbody>\n",
       "    <tr>\n",
       "      <th>0</th>\n",
       "      <td>34698</td>\n",
       "      <td>urban</td>\n",
       "      <td>32500.0</td>\n",
       "      <td>38010.0</td>\n",
       "      <td>67323.0</td>\n",
       "      <td>11.180</td>\n",
       "      <td>3399.821109</td>\n",
       "      <td>32500</td>\n",
       "    </tr>\n",
       "    <tr>\n",
       "      <th>1</th>\n",
       "      <td>33765</td>\n",
       "      <td>urban</td>\n",
       "      <td>49000.0</td>\n",
       "      <td>13844.0</td>\n",
       "      <td>61910.0</td>\n",
       "      <td>4.177</td>\n",
       "      <td>3314.340436</td>\n",
       "      <td>49000</td>\n",
       "    </tr>\n",
       "  </tbody>\n",
       "</table>\n",
       "</div>"
      ],
      "text/plain": [
       "   zip_code area_classification  traffic_count  population  \\\n",
       "0     34698               urban        32500.0     38010.0   \n",
       "1     33765               urban        49000.0     13844.0   \n",
       "\n",
       "   household_median_income  Area (Land, in square miles)  population_density  \\\n",
       "0                  67323.0                        11.180         3399.821109   \n",
       "1                  61910.0                         4.177         3314.340436   \n",
       "\n",
       "    AADT  \n",
       "0  32500  \n",
       "1  49000  "
      ]
     },
     "execution_count": 387,
     "metadata": {},
     "output_type": "execute_result"
    }
   ],
   "source": [
    "input_data1=pd.read_csv('revised_input_data.csv').drop(columns=['Unnamed: 0'])\n",
    "\n",
    "input_data1.drop(index=[4], inplace=True)\n",
    "\n",
    "input_data1.head(2)\n"
   ]
  },
  {
   "cell_type": "code",
   "execution_count": 388,
   "metadata": {},
   "outputs": [
    {
     "data": {
      "text/plain": [
       "Index(['zip_code', 'area_classification', 'traffic_count', 'population',\n",
       "       'household_median_income', 'Area (Land, in square miles)',\n",
       "       'population_density', 'AADT'],\n",
       "      dtype='object')"
      ]
     },
     "execution_count": 388,
     "metadata": {},
     "output_type": "execute_result"
    }
   ],
   "source": [
    "input_data1.columns\n"
   ]
  },
  {
   "cell_type": "code",
   "execution_count": 389,
   "metadata": {},
   "outputs": [
    {
     "data": {
      "text/plain": [
       "zip_code                        0\n",
       "area_classification             0\n",
       "traffic_count                   1\n",
       "population                      0\n",
       "household_median_income         0\n",
       "Area (Land, in square miles)    0\n",
       "population_density              0\n",
       "AADT                            0\n",
       "dtype: int64"
      ]
     },
     "execution_count": 389,
     "metadata": {},
     "output_type": "execute_result"
    }
   ],
   "source": [
    "input_data1.isna().sum()\n"
   ]
  },
  {
   "cell_type": "code",
   "execution_count": 390,
   "metadata": {},
   "outputs": [
    {
     "data": {
      "text/html": [
       "<div>\n",
       "<style scoped>\n",
       "    .dataframe tbody tr th:only-of-type {\n",
       "        vertical-align: middle;\n",
       "    }\n",
       "\n",
       "    .dataframe tbody tr th {\n",
       "        vertical-align: top;\n",
       "    }\n",
       "\n",
       "    .dataframe thead th {\n",
       "        text-align: right;\n",
       "    }\n",
       "</style>\n",
       "<table border=\"1\" class=\"dataframe\">\n",
       "  <thead>\n",
       "    <tr style=\"text-align: right;\">\n",
       "      <th></th>\n",
       "      <th>household_median_income</th>\n",
       "      <th>Area (Land, in square miles)</th>\n",
       "      <th>population_density</th>\n",
       "    </tr>\n",
       "  </thead>\n",
       "  <tbody>\n",
       "    <tr>\n",
       "      <th>0</th>\n",
       "      <td>67323.0</td>\n",
       "      <td>11.180</td>\n",
       "      <td>3399.821109</td>\n",
       "    </tr>\n",
       "    <tr>\n",
       "      <th>1</th>\n",
       "      <td>61910.0</td>\n",
       "      <td>4.177</td>\n",
       "      <td>3314.340436</td>\n",
       "    </tr>\n",
       "  </tbody>\n",
       "</table>\n",
       "</div>"
      ],
      "text/plain": [
       "   household_median_income  Area (Land, in square miles)  population_density\n",
       "0                  67323.0                        11.180         3399.821109\n",
       "1                  61910.0                         4.177         3314.340436"
      ]
     },
     "execution_count": 390,
     "metadata": {},
     "output_type": "execute_result"
    }
   ],
   "source": [
    "input_data=input_data1[['household_median_income', 'Area (Land, in square miles)', 'population_density']]\n",
    "# df2=input_data[[\n",
    "#        'household_total_income', 'Area (Land, in square miles)',\n",
    "#        'population_density', 'AADT']]\n",
    "input_data.head(2)\n"
   ]
  },
  {
   "cell_type": "code",
   "execution_count": 391,
   "metadata": {},
   "outputs": [],
   "source": [
    "\n",
    "# df=pd.read_csv('revised_input_data.csv').drop(columns=['Unnamed: 0'])\n",
    "# df=data1.copy()\n",
    "# df.drop(columns=['area_classification','zip_code'],inplace=True)\n",
    "# df.isna().sum()\n",
    "# df.dropna(inplace=True)\n",
    "# df.drop(index=[4], inplace=True)\n",
    "# df.dropna(inplace=True)\n"
   ]
  },
  {
   "cell_type": "code",
   "execution_count": 392,
   "metadata": {},
   "outputs": [],
   "source": [
    "df=input_data.copy()\n"
   ]
  },
  {
   "cell_type": "code",
   "execution_count": 393,
   "metadata": {},
   "outputs": [
    {
     "data": {
      "image/png": "[encoded data removed]",
      "text/plain": [
       "<Figure size 720x360 with 1 Axes>"
      ]
     },
     "metadata": {
      "needs_background": "light"
     },
     "output_type": "display_data"
    }
   ],
   "source": [
    "\n",
    "\n",
    "scaler = StandardScaler()\n",
    "df_scaled = scaler.fit_transform(df)  # Standardize features\n",
    "\n",
    "\n",
    "# Step 2: Plot the Dendrogram to determine clusters\n",
    "plt.figure(figsize=(10, 5))\n",
    "dendrogram = sch.dendrogram(sch.linkage(df_scaled, method='ward'))\n",
    "plt.title(\"Dendrogram for Hierarchical Clustering\")\n",
    "plt.xlabel(\"Data Points\")\n",
    "plt.ylabel(\"Euclidean Distance\")\n",
    "plt.show()\n"
   ]
  },
  {
   "cell_type": "code",
   "execution_count": 394,
   "metadata": {},
   "outputs": [
    {
     "name": "stdout",
     "output_type": "stream",
     "text": [
      "Best number of clusters: 2, Best linkage: single, Silhouette score: 0.4811253877516873\n"
     ]
    },
    {
     "data": {
      "text/plain": [
       "{(2, 'single'): 0.4811253877516873,\n",
       " (2, 'complete'): 0.3575582529489957,\n",
       " (2, 'average'): 0.36318249605316566,\n",
       " (2, 'ward'): 0.4039356595723741,\n",
       " (3, 'single'): 0.3068424850970235,\n",
       " (3, 'complete'): 0.2597985554394821,\n",
       " (3, 'average'): 0.4579198343273429,\n",
       " (3, 'ward'): 0.4579198343273429,\n",
       " (4, 'single'): 0.3840025695776189,\n",
       " (4, 'complete'): 0.32836829220554914,\n",
       " (4, 'average'): 0.4123484453245242,\n",
       " (4, 'ward'): 0.421914071850167,\n",
       " (5, 'single'): 0.29997922289077633,\n",
       " (5, 'complete'): 0.3404627289975214,\n",
       " (5, 'average'): 0.39772389638630884,\n",
       " (5, 'ward'): 0.41655930908389943}"
      ]
     },
     "execution_count": 394,
     "metadata": {},
     "output_type": "execute_result"
    }
   ],
   "source": [
    "from sklearn.cluster import AgglomerativeClustering\n",
    "from sklearn.metrics import silhouette_score\n",
    "\n",
    "cluster_scores = {}  # Dictionary to store (n_clusters, linkage) and silhouette scores\n",
    "\n",
    "\n",
    "for i in range(2, 6):\n",
    "    for lin in [\"single\", \"complete\", \"average\", \"ward\"]:  # Ward replaces \"mcquitty\", \"median\", \"centroid\" (unsupported)\n",
    "        hc = AgglomerativeClustering(n_clusters=i, affinity='euclidean', linkage=lin)\n",
    "        df['Cluster'] = hc.fit_predict(df_scaled)  \n",
    "\n",
    "        silhouette_avg = silhouette_score(df_scaled, df['Cluster'].values)\n",
    "        \n",
    "        cluster_scores[(i, lin)] = silhouette_avg  # Store as key-value pair\n",
    "\n",
    "# Find the best (n_clusters, linkage) based on the highest silhouette score\n",
    "best_params = max(cluster_scores, key=cluster_scores.get)\n",
    "best_score = cluster_scores[best_params]\n",
    "\n",
    "print(f\"Best number of clusters: {best_params[0]}, Best linkage: {best_params[1]}, Silhouette score: {best_score}\")\n",
    "cluster_scores\n",
    "\n"
   ]
  },
  {
   "cell_type": "code",
   "execution_count": 395,
   "metadata": {},
   "outputs": [
    {
     "name": "stdout",
     "output_type": "stream",
     "text": [
      "Silhouette Score: 0.4579198343273429\n"
     ]
    }
   ],
   "source": [
    "# Step 3: Choose Number of Clusters and Apply Agglomerative Clustering\n",
    "n_clusters = 3  # Choose based on dendrogram\n",
    "hc = AgglomerativeClustering(n_clusters=n_clusters, affinity='euclidean', linkage='ward')\n",
    "df['Cluster'] = hc.fit_predict(df_scaled)  # Assign cluster labels\n",
    "\n",
    "silhouette_avg = silhouette_score(df_scaled, df['Cluster'].values)\n",
    "print(f\"Silhouette Score: {silhouette_avg}\")\n"
   ]
  },
  {
   "cell_type": "code",
   "execution_count": 396,
   "metadata": {},
   "outputs": [],
   "source": [
    "def twoD_data_creation_with_boundaries(labels, scaled_data):\n",
    "    # Perform t-SNE\n",
    "    tsne = TSNE(n_components=2, verbose=1, perplexity=30, n_iter=1000, random_state=0)\n",
    "    tsne_results = tsne.fit_transform(scaled_data)\n",
    "    \n",
    "    # Create a DataFrame for t-SNE results\n",
    "    tsne_df = pd.DataFrame(data=tsne_results, columns=['tsne1', 'tsne2'])\n",
    "    tsne_df['cluster'] = labels\n",
    "    # tsne_df=tsne_df[tsne_df['cluster']!=-1]\n",
    "    \n",
    "    # Plot points with cluster colors\n",
    "    fig = px.scatter(tsne_df, x=\"tsne1\", y=\"tsne2\", color='cluster', symbol='cluster',\n",
    "                     width=800, height=600)\n",
    "    fig.update_traces(marker=dict(size=10)) \n",
    "    # Add convex hull boundaries\n",
    "    for cluster_id in tsne_df['cluster'].unique():\n",
    "        cluster_points = tsne_df[tsne_df['cluster'] == cluster_id][['tsne1', 'tsne2']].values\n",
    "        if len(cluster_points) > 2:  # ConvexHull needs at least 3 points\n",
    "            hull = ConvexHull(cluster_points)\n",
    "            hull_vertices = hull.vertices\n",
    "            hull_points = cluster_points[hull_vertices]\n",
    "            hull_points = list(hull_points) + [hull_points[0]]  # Close the loop\n",
    "            \n",
    "            # Add boundary line to the figure\n",
    "            fig.add_trace(go.Scatter(\n",
    "                x=[point[0] for point in hull_points],\n",
    "                y=[point[1] for point in hull_points],\n",
    "                mode='lines',\n",
    "                line=dict(color='black'),\n",
    "                name=f'Boundary Cluster {cluster_id}'\n",
    "            ))\n",
    "    \n",
    "    # Show the figure\n",
    "    fig.show()\n"
   ]
  },
  {
   "cell_type": "code",
   "execution_count": 397,
   "metadata": {},
   "outputs": [],
   "source": [
    "\n",
    "# twoD_data_creation_with_boundaries(df['Cluster'].values, df_scaled)\n"
   ]
  },
  {
   "cell_type": "code",
   "execution_count": 398,
   "metadata": {},
   "outputs": [],
   "source": [
    "def pca_2d(labels, scaled_data):\n",
    "    # Perform PCA\n",
    "    pca = PCA(n_components=2)\n",
    "    pca_results = pca.fit_transform(scaled_data)\n",
    "    \n",
    "    # Create a DataFrame for PCA results\n",
    "    pca_df = pd.DataFrame(data=pca_results, columns=['pca1', 'pca2'])\n",
    "    pca_df['cluster'] = labels\n",
    "    # pca_df = pca_df[pca_df['cluster'].isin([ -1,12])]\n",
    "    \n",
    "    # Plot points with cluster colors\n",
    "    fig = px.scatter(pca_df, x=\"pca1\", y=\"pca2\", color='cluster', symbol='cluster',\n",
    "                     width=800, height=600)\n",
    "    fig.update_traces(marker=dict(size=10)) \n",
    "    \n",
    "    # Add convex hull boundaries\n",
    "    for cluster_id in pca_df['cluster'].unique():\n",
    "        cluster_points = pca_df[pca_df['cluster'] == cluster_id][['pca1', 'pca2']].values\n",
    "        if len(cluster_points) > 2:  # ConvexHull needs at least 3 points\n",
    "            hull = ConvexHull(cluster_points)\n",
    "            hull_vertices = hull.vertices\n",
    "            hull_points = cluster_points[hull_vertices]\n",
    "            hull_points = list(hull_points) + [hull_points[0]]  # Close the loop\n",
    "            \n",
    "            # Add boundary line to the figure\n",
    "            fig.add_trace(go.Scatter(\n",
    "                x=[point[0] for point in hull_points],\n",
    "                y=[point[1] for point in hull_points],\n",
    "                mode='lines',\n",
    "                line=dict(color='black'),\n",
    "                name=f'Boundary Cluster {cluster_id}'\n",
    "            ))\n",
    "    \n",
    "    # Show the figure\n",
    "    fig.show()\n"
   ]
  },
  {
   "cell_type": "code",
   "execution_count": 399,
   "metadata": {},
   "outputs": [
    {
     "data": {
      "application/vnd.plotly.v1+json": {
       "config": {
        "plotlyServerURL": "https://plot.ly"
       },
       "data": [
        {
         "hovertemplate": "cluster=%{marker.color}<br>pca1=%{x}<br>pca2=%{y}<extra></extra>",
         "legendgroup": "0",
         "marker": {
          "color": [
           0,
           0,
           0,
           0,
           0,
           0,
           0,
           0,
           0,
           0,
           0,
           0,
           0,
           0,
           0,
           0,
           0,
           0,
           0,
           0,
           0,
           0,
           0,
           0,
           0
          ],
          "coloraxis": "coloraxis",
          "size": 10,
          "symbol": "circle"
         },
         "mode": "markers",
         "name": "0",
         "orientation": "v",
         "showlegend": true,
         "type": "scatter",
         "x": [
          -0.8092878780821503,
          -1.1943784932994745,
          -2.3939318626922566,
          -0.42783029031212105,
          -1.4028886190823995,
          -1.2866184750009055,
          0.10065437503192609,
          -0.43908287055948686,
          -0.40294962010068136,
          0.6732391955932684,
          0.21631892819304255,
          -1.3543039196064832,
          -0.4182257621244198,
          -0.6569947426310648,
          -2.498363972633695,
          -1.9645996206538623,
          -0.8314548915066792,
          -0.5344690792798426,
          0.3926335101505038,
          -0.7564026884914797,
          -0.08464918068033914,
          -1.9631128308299386,
          0.25704662907791226,
          -0.5853620866207631,
          0.005056382793138687
         ],
         "xaxis": "x",
         "y": [
          0.3536166136600384,
          0.34373609933570864,
          -0.12246533721375864,
          0.21096870753016161,
          -0.7342143242701806,
          0.1504182614106576,
          0.8185834100749461,
          0.07417674374631279,
          -0.25527585042282563,
          -0.6639005896971123,
          -0.2217563249715497,
          0.9983663886598013,
          0.918811838867309,
          -0.1520905102051448,
          -0.05477530604517303,
          0.4530510823765575,
          0.3232068158834674,
          -0.29529301453618056,
          -0.3452972437691666,
          0.30724857359779517,
          0.08983957402415188,
          0.4765174515560411,
          -0.42136718222130143,
          0.04105281956954285,
          0.20513990414182723
         ],
         "yaxis": "y"
        },
        {
         "hovertemplate": "cluster=%{marker.color}<br>pca1=%{x}<br>pca2=%{y}<extra></extra>",
         "legendgroup": "1",
         "marker": {
          "color": [
           1,
           1,
           1,
           1,
           1,
           1,
           1
          ],
          "coloraxis": "coloraxis",
          "size": 10,
          "symbol": "diamond"
         },
         "mode": "markers",
         "name": "1",
         "orientation": "v",
         "showlegend": true,
         "type": "scatter",
         "x": [
          2.489266555749683,
          0.8557103335881721,
          0.9589773968215968,
          1.2918423377558057,
          1.2648766759679222,
          2.380394158445643,
          2.949958272948334
         ],
         "xaxis": "x",
         "y": [
          0.12596810289052324,
          0.05252223666351148,
          1.0691415122275851,
          0.2964267600606841,
          0.7454084483709188,
          1.7303884791741053,
          2.513649054781721
         ],
         "yaxis": "y"
        },
        {
         "hovertemplate": "cluster=%{marker.color}<br>pca1=%{x}<br>pca2=%{y}<extra></extra>",
         "legendgroup": "2",
         "marker": {
          "color": [
           2,
           2,
           2,
           2,
           2
          ],
          "coloraxis": "coloraxis",
          "size": 10,
          "symbol": "square"
         },
         "mode": "markers",
         "name": "2",
         "orientation": "v",
         "showlegend": true,
         "type": "scatter",
         "x": [
          0.7950955472506412,
          1.9476342455001208,
          0.4939210312033785,
          1.4875604256396524,
          1.4447208824773012
         ],
         "xaxis": "x",
         "y": [
          -2.077800189291862,
          -1.6093412012681956,
          -2.4072215861844177,
          -1.915362258601384,
          -1.0220779599051155
         ],
         "yaxis": "y"
        },
        {
         "line": {
          "color": "black"
         },
         "mode": "lines",
         "name": "Boundary Cluster 0",
         "type": "scatter",
         "x": [
          0.6732391955932684,
          0.10065437503192609,
          -0.4182257621244198,
          -1.3543039196064832,
          -1.9631128308299386,
          -2.498363972633695,
          -2.3939318626922566,
          -1.4028886190823995,
          0.6732391955932684
         ],
         "y": [
          -0.6639005896971123,
          0.8185834100749461,
          0.918811838867309,
          0.9983663886598013,
          0.4765174515560411,
          -0.05477530604517303,
          -0.12246533721375864,
          -0.7342143242701806,
          -0.6639005896971123
         ]
        },
        {
         "line": {
          "color": "black"
         },
         "mode": "lines",
         "name": "Boundary Cluster 1",
         "type": "scatter",
         "x": [
          0.8557103335881721,
          2.489266555749683,
          2.949958272948334,
          0.9589773968215968,
          0.8557103335881721
         ],
         "y": [
          0.05252223666351148,
          0.12596810289052324,
          2.513649054781721,
          1.0691415122275851,
          0.05252223666351148
         ]
        },
        {
         "line": {
          "color": "black"
         },
         "mode": "lines",
         "name": "Boundary Cluster 2",
         "type": "scatter",
         "x": [
          1.4447208824773012,
          0.4939210312033785,
          1.4875604256396524,
          1.9476342455001208,
          1.4447208824773012
         ],
         "y": [
          -1.0220779599051155,
          -2.4072215861844177,
          -1.915362258601384,
          -1.6093412012681956,
          -1.0220779599051155
         ]
        }
       ],
       "layout": {
        "coloraxis": {
         "colorbar": {
          "title": {
           "text": "cluster"
          }
         },
         "colorscale": [
          [
           0,
           "#0d0887"
          ],
          [
           0.1111111111111111,
           "#46039f"
          ],
          [
           0.2222222222222222,
           "#7201a8"
          ],
          [
           0.3333333333333333,
           "#9c179e"
          ],
          [
           0.4444444444444444,
           "#bd3786"
          ],
          [
           0.5555555555555556,
           "#d8576b"
          ],
          [
           0.6666666666666666,
           "#ed7953"
          ],
          [
           0.7777777777777778,
           "#fb9f3a"
          ],
          [
           0.8888888888888888,
           "#fdca26"
          ],
          [
           1,
           "#f0f921"
          ]
         ]
        },
        "height": 600,
        "legend": {
         "title": {
          "text": "cluster"
         },
         "tracegroupgap": 0
        },
        "margin": {
         "t": 60
        },
        "template": {
         "data": {
          "bar": [
           {
            "error_x": {
             "color": "#2a3f5f"
            },
            "error_y": {
             "color": "#2a3f5f"
            },
            "marker": {
             "line": {
              "color": "#E5ECF6",
              "width": 0.5
             },
             "pattern": {
              "fillmode": "overlay",
              "size": 10,
              "solidity": 0.2
             }
            },
            "type": "bar"
           }
          ],
          "barpolar": [
           {
            "marker": {
             "line": {
              "color": "#E5ECF6",
              "width": 0.5
             },
             "pattern": {
              "fillmode": "overlay",
              "size": 10,
              "solidity": 0.2
             }
            },
            "type": "barpolar"
           }
          ],
          "carpet": [
           {
            "aaxis": {
             "endlinecolor": "#2a3f5f",
             "gridcolor": "white",
             "linecolor": "white",
             "minorgridcolor": "white",
             "startlinecolor": "#2a3f5f"
            },
            "baxis": {
             "endlinecolor": "#2a3f5f",
             "gridcolor": "white",
             "linecolor": "white",
             "minorgridcolor": "white",
             "startlinecolor": "#2a3f5f"
            },
            "type": "carpet"
           }
          ],
          "choropleth": [
           {
            "colorbar": {
             "outlinewidth": 0,
             "ticks": ""
            },
            "type": "choropleth"
           }
          ],
          "contour": [
           {
            "colorbar": {
             "outlinewidth": 0,
             "ticks": ""
            },
            "colorscale": [
             [
              0,
              "#0d0887"
             ],
             [
              0.1111111111111111,
              "#46039f"
             ],
             [
              0.2222222222222222,
              "#7201a8"
             ],
             [
              0.3333333333333333,
              "#9c179e"
             ],
             [
              0.4444444444444444,
              "#bd3786"
             ],
             [
              0.5555555555555556,
              "#d8576b"
             ],
             [
              0.6666666666666666,
              "#ed7953"
             ],
             [
              0.7777777777777778,
              "#fb9f3a"
             ],
             [
              0.8888888888888888,
              "#fdca26"
             ],
             [
              1,
              "#f0f921"
             ]
            ],
            "type": "contour"
           }
          ],
          "contourcarpet": [
           {
            "colorbar": {
             "outlinewidth": 0,
             "ticks": ""
            },
            "type": "contourcarpet"
           }
          ],
          "heatmap": [
           {
            "colorbar": {
             "outlinewidth": 0,
             "ticks": ""
            },
            "colorscale": [
             [
              0,
              "#0d0887"
             ],
             [
              0.1111111111111111,
              "#46039f"
             ],
             [
              0.2222222222222222,
              "#7201a8"
             ],
             [
              0.3333333333333333,
              "#9c179e"
             ],
             [
              0.4444444444444444,
              "#bd3786"
             ],
             [
              0.5555555555555556,
              "#d8576b"
             ],
             [
              0.6666666666666666,
              "#ed7953"
             ],
             [
              0.7777777777777778,
              "#fb9f3a"
             ],
             [
              0.8888888888888888,
              "#fdca26"
             ],
             [
              1,
              "#f0f921"
             ]
            ],
            "type": "heatmap"
           }
          ],
          "heatmapgl": [
           {
            "colorbar": {
             "outlinewidth": 0,
             "ticks": ""
            },
            "colorscale": [
             [
              0,
              "#0d0887"
             ],
             [
              0.1111111111111111,
              "#46039f"
             ],
             [
              0.2222222222222222,
              "#7201a8"
             ],
             [
              0.3333333333333333,
              "#9c179e"
             ],
             [
              0.4444444444444444,
              "#bd3786"
             ],
             [
              0.5555555555555556,
              "#d8576b"
             ],
             [
              0.6666666666666666,
              "#ed7953"
             ],
             [
              0.7777777777777778,
              "#fb9f3a"
             ],
             [
              0.8888888888888888,
              "#fdca26"
             ],
             [
              1,
              "#f0f921"
             ]
            ],
            "type": "heatmapgl"
           }
          ],
          "histogram": [
           {
            "marker": {
             "pattern": {
              "fillmode": "overlay",
              "size": 10,
              "solidity": 0.2
             }
            },
            "type": "histogram"
           }
          ],
          "histogram2d": [
           {
            "colorbar": {
             "outlinewidth": 0,
             "ticks": ""
            },
            "colorscale": [
             [
              0,
              "#0d0887"
             ],
             [
              0.1111111111111111,
              "#46039f"
             ],
             [
              0.2222222222222222,
              "#7201a8"
             ],
             [
              0.3333333333333333,
              "#9c179e"
             ],
             [
              0.4444444444444444,
              "#bd3786"
             ],
             [
              0.5555555555555556,
              "#d8576b"
             ],
             [
              0.6666666666666666,
              "#ed7953"
             ],
             [
              0.7777777777777778,
              "#fb9f3a"
             ],
             [
              0.8888888888888888,
              "#fdca26"
             ],
             [
              1,
              "#f0f921"
             ]
            ],
            "type": "histogram2d"
           }
          ],
          "histogram2dcontour": [
           {
            "colorbar": {
             "outlinewidth": 0,
             "ticks": ""
            },
            "colorscale": [
             [
              0,
              "#0d0887"
             ],
             [
              0.1111111111111111,
              "#46039f"
             ],
             [
              0.2222222222222222,
              "#7201a8"
             ],
             [
              0.3333333333333333,
              "#9c179e"
             ],
             [
              0.4444444444444444,
              "#bd3786"
             ],
             [
              0.5555555555555556,
              "#d8576b"
             ],
             [
              0.6666666666666666,
              "#ed7953"
             ],
             [
              0.7777777777777778,
              "#fb9f3a"
             ],
             [
              0.8888888888888888,
              "#fdca26"
             ],
             [
              1,
              "#f0f921"
             ]
            ],
            "type": "histogram2dcontour"
           }
          ],
          "mesh3d": [
           {
            "colorbar": {
             "outlinewidth": 0,
             "ticks": ""
            },
            "type": "mesh3d"
           }
          ],
          "parcoords": [
           {
            "line": {
             "colorbar": {
              "outlinewidth": 0,
              "ticks": ""
             }
            },
            "type": "parcoords"
           }
          ],
          "pie": [
           {
            "automargin": true,
            "type": "pie"
           }
          ],
          "scatter": [
           {
            "fillpattern": {
             "fillmode": "overlay",
             "size": 10,
             "solidity": 0.2
            },
            "type": "scatter"
           }
          ],
          "scatter3d": [
           {
            "line": {
             "colorbar": {
              "outlinewidth": 0,
              "ticks": ""
             }
            },
            "marker": {
             "colorbar": {
              "outlinewidth": 0,
              "ticks": ""
             }
            },
            "type": "scatter3d"
           }
          ],
          "scattercarpet": [
           {
            "marker": {
             "colorbar": {
              "outlinewidth": 0,
              "ticks": ""
             }
            },
            "type": "scattercarpet"
           }
          ],
          "scattergeo": [
           {
            "marker": {
             "colorbar": {
              "outlinewidth": 0,
              "ticks": ""
             }
            },
            "type": "scattergeo"
           }
          ],
          "scattergl": [
           {
            "marker": {
             "colorbar": {
              "outlinewidth": 0,
              "ticks": ""
             }
            },
            "type": "scattergl"
           }
          ],
          "scattermapbox": [
           {
            "marker": {
             "colorbar": {
              "outlinewidth": 0,
              "ticks": ""
             }
            },
            "type": "scattermapbox"
           }
          ],
          "scatterpolar": [
           {
            "marker": {
             "colorbar": {
              "outlinewidth": 0,
              "ticks": ""
             }
            },
            "type": "scatterpolar"
           }
          ],
          "scatterpolargl": [
           {
            "marker": {
             "colorbar": {
              "outlinewidth": 0,
              "ticks": ""
             }
            },
            "type": "scatterpolargl"
           }
          ],
          "scatterternary": [
           {
            "marker": {
             "colorbar": {
              "outlinewidth": 0,
              "ticks": ""
             }
            },
            "type": "scatterternary"
           }
          ],
          "surface": [
           {
            "colorbar": {
             "outlinewidth": 0,
             "ticks": ""
            },
            "colorscale": [
             [
              0,
              "#0d0887"
             ],
             [
              0.1111111111111111,
              "#46039f"
             ],
             [
              0.2222222222222222,
              "#7201a8"
             ],
             [
              0.3333333333333333,
              "#9c179e"
             ],
             [
              0.4444444444444444,
              "#bd3786"
             ],
             [
              0.5555555555555556,
              "#d8576b"
             ],
             [
              0.6666666666666666,
              "#ed7953"
             ],
             [
              0.7777777777777778,
              "#fb9f3a"
             ],
             [
              0.8888888888888888,
              "#fdca26"
             ],
             [
              1,
              "#f0f921"
             ]
            ],
            "type": "surface"
           }
          ],
          "table": [
           {
            "cells": {
             "fill": {
              "color": "#EBF0F8"
             },
             "line": {
              "color": "white"
             }
            },
            "header": {
             "fill": {
              "color": "#C8D4E3"
             },
             "line": {
              "color": "white"
             }
            },
            "type": "table"
           }
          ]
         },
         "layout": {
          "annotationdefaults": {
           "arrowcolor": "#2a3f5f",
           "arrowhead": 0,
           "arrowwidth": 1
          },
          "autotypenumbers": "strict",
          "coloraxis": {
           "colorbar": {
            "outlinewidth": 0,
            "ticks": ""
           }
          },
          "colorscale": {
           "diverging": [
            [
             0,
             "#8e0152"
            ],
            [
             0.1,
             "#c51b7d"
            ],
            [
             0.2,
             "#de77ae"
            ],
            [
             0.3,
             "#f1b6da"
            ],
            [
             0.4,
             "#fde0ef"
            ],
            [
             0.5,
             "#f7f7f7"
            ],
            [
             0.6,
             "#e6f5d0"
            ],
            [
             0.7,
             "#b8e186"
            ],
            [
             0.8,
             "#7fbc41"
            ],
            [
             0.9,
             "#4d9221"
            ],
            [
             1,
             "#276419"
            ]
           ],
           "sequential": [
            [
             0,
             "#0d0887"
            ],
            [
             0.1111111111111111,
             "#46039f"
            ],
            [
             0.2222222222222222,
             "#7201a8"
            ],
            [
             0.3333333333333333,
             "#9c179e"
            ],
            [
             0.4444444444444444,
             "#bd3786"
            ],
            [
             0.5555555555555556,
             "#d8576b"
            ],
            [
             0.6666666666666666,
             "#ed7953"
            ],
            [
             0.7777777777777778,
             "#fb9f3a"
            ],
            [
             0.8888888888888888,
             "#fdca26"
            ],
            [
             1,
             "#f0f921"
            ]
           ],
           "sequentialminus": [
            [
             0,
             "#0d0887"
            ],
            [
             0.1111111111111111,
             "#46039f"
            ],
            [
             0.2222222222222222,
             "#7201a8"
            ],
            [
             0.3333333333333333,
             "#9c179e"
            ],
            [
             0.4444444444444444,
             "#bd3786"
            ],
            [
             0.5555555555555556,
             "#d8576b"
            ],
            [
             0.6666666666666666,
             "#ed7953"
            ],
            [
             0.7777777777777778,
             "#fb9f3a"
            ],
            [
             0.8888888888888888,
             "#fdca26"
            ],
            [
             1,
             "#f0f921"
            ]
           ]
          },
          "colorway": [
           "#636efa",
           "#EF553B",
           "#00cc96",
           "#ab63fa",
           "#FFA15A",
           "#19d3f3",
           "#FF6692",
           "#B6E880",
           "#FF97FF",
           "#FECB52"
          ],
          "font": {
           "color": "#2a3f5f"
          },
          "geo": {
           "bgcolor": "white",
           "lakecolor": "white",
           "landcolor": "#E5ECF6",
           "showlakes": true,
           "showland": true,
           "subunitcolor": "white"
          },
          "hoverlabel": {
           "align": "left"
          },
          "hovermode": "closest",
          "mapbox": {
           "style": "light"
          },
          "paper_bgcolor": "white",
          "plot_bgcolor": "#E5ECF6",
          "polar": {
           "angularaxis": {
            "gridcolor": "white",
            "linecolor": "white",
            "ticks": ""
           },
           "bgcolor": "#E5ECF6",
           "radialaxis": {
            "gridcolor": "white",
            "linecolor": "white",
            "ticks": ""
           }
          },
          "scene": {
           "xaxis": {
            "backgroundcolor": "#E5ECF6",
            "gridcolor": "white",
            "gridwidth": 2,
            "linecolor": "white",
            "showbackground": true,
            "ticks": "",
            "zerolinecolor": "white"
           },
           "yaxis": {
            "backgroundcolor": "#E5ECF6",
            "gridcolor": "white",
            "gridwidth": 2,
            "linecolor": "white",
            "showbackground": true,
            "ticks": "",
            "zerolinecolor": "white"
           },
           "zaxis": {
            "backgroundcolor": "#E5ECF6",
            "gridcolor": "white",
            "gridwidth": 2,
            "linecolor": "white",
            "showbackground": true,
            "ticks": "",
            "zerolinecolor": "white"
           }
          },
          "shapedefaults": {
           "line": {
            "color": "#2a3f5f"
           }
          },
          "ternary": {
           "aaxis": {
            "gridcolor": "white",
            "linecolor": "white",
            "ticks": ""
           },
           "baxis": {
            "gridcolor": "white",
            "linecolor": "white",
            "ticks": ""
           },
           "bgcolor": "#E5ECF6",
           "caxis": {
            "gridcolor": "white",
            "linecolor": "white",
            "ticks": ""
           }
          },
          "title": {
           "x": 0.05
          },
          "xaxis": {
           "automargin": true,
           "gridcolor": "white",
           "linecolor": "white",
           "ticks": "",
           "title": {
            "standoff": 15
           },
           "zerolinecolor": "white",
           "zerolinewidth": 2
          },
          "yaxis": {
           "automargin": true,
           "gridcolor": "white",
           "linecolor": "white",
           "ticks": "",
           "title": {
            "standoff": 15
           },
           "zerolinecolor": "white",
           "zerolinewidth": 2
          }
         }
        },
        "width": 800,
        "xaxis": {
         "anchor": "y",
         "domain": [
          0,
          1
         ],
         "title": {
          "text": "pca1"
         }
        },
        "yaxis": {
         "anchor": "x",
         "domain": [
          0,
          1
         ],
         "title": {
          "text": "pca2"
         }
        }
       }
      }
     },
     "metadata": {},
     "output_type": "display_data"
    }
   ],
   "source": [
    "pca_2d(df['Cluster'].values, df_scaled)\n"
   ]
  },
  {
   "cell_type": "code",
   "execution_count": 400,
   "metadata": {},
   "outputs": [
    {
     "data": {
      "text/html": [
       "<div>\n",
       "<style scoped>\n",
       "    .dataframe tbody tr th:only-of-type {\n",
       "        vertical-align: middle;\n",
       "    }\n",
       "\n",
       "    .dataframe tbody tr th {\n",
       "        vertical-align: top;\n",
       "    }\n",
       "\n",
       "    .dataframe thead th {\n",
       "        text-align: right;\n",
       "    }\n",
       "</style>\n",
       "<table border=\"1\" class=\"dataframe\">\n",
       "  <thead>\n",
       "    <tr style=\"text-align: right;\">\n",
       "      <th></th>\n",
       "      <th>household_median_income</th>\n",
       "      <th>Area (Land, in square miles)</th>\n",
       "      <th>population_density</th>\n",
       "      <th>Cluster</th>\n",
       "    </tr>\n",
       "  </thead>\n",
       "  <tbody>\n",
       "    <tr>\n",
       "      <th>0</th>\n",
       "      <td>67323.0</td>\n",
       "      <td>11.180</td>\n",
       "      <td>3399.821109</td>\n",
       "      <td>0</td>\n",
       "    </tr>\n",
       "    <tr>\n",
       "      <th>1</th>\n",
       "      <td>61910.0</td>\n",
       "      <td>4.177</td>\n",
       "      <td>3314.340436</td>\n",
       "      <td>0</td>\n",
       "    </tr>\n",
       "    <tr>\n",
       "      <th>2</th>\n",
       "      <td>69512.0</td>\n",
       "      <td>4.767</td>\n",
       "      <td>6322.215230</td>\n",
       "      <td>0</td>\n",
       "    </tr>\n",
       "    <tr>\n",
       "      <th>3</th>\n",
       "      <td>70301.0</td>\n",
       "      <td>9.857</td>\n",
       "      <td>2585.472253</td>\n",
       "      <td>0</td>\n",
       "    </tr>\n",
       "    <tr>\n",
       "      <th>5</th>\n",
       "      <td>83773.0</td>\n",
       "      <td>3.406</td>\n",
       "      <td>4707.574868</td>\n",
       "      <td>0</td>\n",
       "    </tr>\n",
       "    <tr>\n",
       "      <th>6</th>\n",
       "      <td>100264.0</td>\n",
       "      <td>41.681</td>\n",
       "      <td>694.681030</td>\n",
       "      <td>1</td>\n",
       "    </tr>\n",
       "    <tr>\n",
       "      <th>7</th>\n",
       "      <td>67542.0</td>\n",
       "      <td>6.736</td>\n",
       "      <td>4019.893112</td>\n",
       "      <td>0</td>\n",
       "    </tr>\n",
       "    <tr>\n",
       "      <th>8</th>\n",
       "      <td>63180.0</td>\n",
       "      <td>16.592</td>\n",
       "      <td>1752.772420</td>\n",
       "      <td>0</td>\n",
       "    </tr>\n",
       "    <tr>\n",
       "      <th>9</th>\n",
       "      <td>77383.0</td>\n",
       "      <td>16.045</td>\n",
       "      <td>3529.261452</td>\n",
       "      <td>0</td>\n",
       "    </tr>\n",
       "    <tr>\n",
       "      <th>10</th>\n",
       "      <td>81041.0</td>\n",
       "      <td>11.033</td>\n",
       "      <td>3142.481646</td>\n",
       "      <td>0</td>\n",
       "    </tr>\n",
       "    <tr>\n",
       "      <th>11</th>\n",
       "      <td>87715.0</td>\n",
       "      <td>26.307</td>\n",
       "      <td>2183.487285</td>\n",
       "      <td>1</td>\n",
       "    </tr>\n",
       "    <tr>\n",
       "      <th>12</th>\n",
       "      <td>93004.0</td>\n",
       "      <td>12.346</td>\n",
       "      <td>1491.900211</td>\n",
       "      <td>0</td>\n",
       "    </tr>\n",
       "    <tr>\n",
       "      <th>13</th>\n",
       "      <td>82927.0</td>\n",
       "      <td>12.815</td>\n",
       "      <td>2058.603199</td>\n",
       "      <td>0</td>\n",
       "    </tr>\n",
       "    <tr>\n",
       "      <th>14</th>\n",
       "      <td>49826.0</td>\n",
       "      <td>7.343</td>\n",
       "      <td>3401.879341</td>\n",
       "      <td>0</td>\n",
       "    </tr>\n",
       "    <tr>\n",
       "      <th>15</th>\n",
       "      <td>120187.0</td>\n",
       "      <td>7.837</td>\n",
       "      <td>2059.716728</td>\n",
       "      <td>2</td>\n",
       "    </tr>\n",
       "    <tr>\n",
       "      <th>16</th>\n",
       "      <td>70338.0</td>\n",
       "      <td>32.110</td>\n",
       "      <td>1706.789162</td>\n",
       "      <td>1</td>\n",
       "    </tr>\n",
       "    <tr>\n",
       "      <th>17</th>\n",
       "      <td>56317.0</td>\n",
       "      <td>11.330</td>\n",
       "      <td>2055.957635</td>\n",
       "      <td>0</td>\n",
       "    </tr>\n",
       "    <tr>\n",
       "      <th>18</th>\n",
       "      <td>123210.0</td>\n",
       "      <td>23.100</td>\n",
       "      <td>1160.043290</td>\n",
       "      <td>2</td>\n",
       "    </tr>\n",
       "    <tr>\n",
       "      <th>19</th>\n",
       "      <td>75480.0</td>\n",
       "      <td>6.907</td>\n",
       "      <td>3040.828145</td>\n",
       "      <td>0</td>\n",
       "    </tr>\n",
       "    <tr>\n",
       "      <th>20</th>\n",
       "      <td>70435.0</td>\n",
       "      <td>8.579</td>\n",
       "      <td>6955.122975</td>\n",
       "      <td>0</td>\n",
       "    </tr>\n",
       "    <tr>\n",
       "      <th>21</th>\n",
       "      <td>89329.0</td>\n",
       "      <td>34.852</td>\n",
       "      <td>2129.174796</td>\n",
       "      <td>1</td>\n",
       "    </tr>\n",
       "    <tr>\n",
       "      <th>22</th>\n",
       "      <td>59757.0</td>\n",
       "      <td>6.953</td>\n",
       "      <td>5147.849849</td>\n",
       "      <td>0</td>\n",
       "    </tr>\n",
       "    <tr>\n",
       "      <th>23</th>\n",
       "      <td>66933.0</td>\n",
       "      <td>9.731</td>\n",
       "      <td>3291.439729</td>\n",
       "      <td>0</td>\n",
       "    </tr>\n",
       "    <tr>\n",
       "      <th>24</th>\n",
       "      <td>74712.0</td>\n",
       "      <td>27.442</td>\n",
       "      <td>801.690839</td>\n",
       "      <td>1</td>\n",
       "    </tr>\n",
       "    <tr>\n",
       "      <th>25</th>\n",
       "      <td>79850.0</td>\n",
       "      <td>8.466</td>\n",
       "      <td>3127.096622</td>\n",
       "      <td>0</td>\n",
       "    </tr>\n",
       "    <tr>\n",
       "      <th>26</th>\n",
       "      <td>127386.0</td>\n",
       "      <td>9.144</td>\n",
       "      <td>3171.150481</td>\n",
       "      <td>2</td>\n",
       "    </tr>\n",
       "    <tr>\n",
       "      <th>27</th>\n",
       "      <td>122102.0</td>\n",
       "      <td>13.441</td>\n",
       "      <td>1183.394093</td>\n",
       "      <td>2</td>\n",
       "    </tr>\n",
       "    <tr>\n",
       "      <th>28</th>\n",
       "      <td>83081.0</td>\n",
       "      <td>8.609</td>\n",
       "      <td>1282.378906</td>\n",
       "      <td>0</td>\n",
       "    </tr>\n",
       "    <tr>\n",
       "      <th>29</th>\n",
       "      <td>74314.0</td>\n",
       "      <td>53.902</td>\n",
       "      <td>892.026270</td>\n",
       "      <td>1</td>\n",
       "    </tr>\n",
       "    <tr>\n",
       "      <th>30</th>\n",
       "      <td>67112.0</td>\n",
       "      <td>65.860</td>\n",
       "      <td>465.062253</td>\n",
       "      <td>1</td>\n",
       "    </tr>\n",
       "    <tr>\n",
       "      <th>31</th>\n",
       "      <td>65936.0</td>\n",
       "      <td>7.520</td>\n",
       "      <td>2871.542553</td>\n",
       "      <td>0</td>\n",
       "    </tr>\n",
       "    <tr>\n",
       "      <th>32</th>\n",
       "      <td>109260.0</td>\n",
       "      <td>22.549</td>\n",
       "      <td>1549.203956</td>\n",
       "      <td>2</td>\n",
       "    </tr>\n",
       "    <tr>\n",
       "      <th>33</th>\n",
       "      <td>74067.0</td>\n",
       "      <td>10.490</td>\n",
       "      <td>2077.311725</td>\n",
       "      <td>0</td>\n",
       "    </tr>\n",
       "    <tr>\n",
       "      <th>34</th>\n",
       "      <td>58071.0</td>\n",
       "      <td>5.200</td>\n",
       "      <td>4899.038462</td>\n",
       "      <td>0</td>\n",
       "    </tr>\n",
       "    <tr>\n",
       "      <th>35</th>\n",
       "      <td>90406.0</td>\n",
       "      <td>17.457</td>\n",
       "      <td>2760.669073</td>\n",
       "      <td>0</td>\n",
       "    </tr>\n",
       "    <tr>\n",
       "      <th>36</th>\n",
       "      <td>75180.0</td>\n",
       "      <td>12.253</td>\n",
       "      <td>3381.947278</td>\n",
       "      <td>0</td>\n",
       "    </tr>\n",
       "    <tr>\n",
       "      <th>37</th>\n",
       "      <td>76139.0</td>\n",
       "      <td>16.838</td>\n",
       "      <td>2585.045730</td>\n",
       "      <td>0</td>\n",
       "    </tr>\n",
       "  </tbody>\n",
       "</table>\n",
       "</div>"
      ],
      "text/plain": [
       "    household_median_income  Area (Land, in square miles)  population_density  \\\n",
       "0                   67323.0                        11.180         3399.821109   \n",
       "1                   61910.0                         4.177         3314.340436   \n",
       "2                   69512.0                         4.767         6322.215230   \n",
       "3                   70301.0                         9.857         2585.472253   \n",
       "5                   83773.0                         3.406         4707.574868   \n",
       "6                  100264.0                        41.681          694.681030   \n",
       "7                   67542.0                         6.736         4019.893112   \n",
       "8                   63180.0                        16.592         1752.772420   \n",
       "9                   77383.0                        16.045         3529.261452   \n",
       "10                  81041.0                        11.033         3142.481646   \n",
       "11                  87715.0                        26.307         2183.487285   \n",
       "12                  93004.0                        12.346         1491.900211   \n",
       "13                  82927.0                        12.815         2058.603199   \n",
       "14                  49826.0                         7.343         3401.879341   \n",
       "15                 120187.0                         7.837         2059.716728   \n",
       "16                  70338.0                        32.110         1706.789162   \n",
       "17                  56317.0                        11.330         2055.957635   \n",
       "18                 123210.0                        23.100         1160.043290   \n",
       "19                  75480.0                         6.907         3040.828145   \n",
       "20                  70435.0                         8.579         6955.122975   \n",
       "21                  89329.0                        34.852         2129.174796   \n",
       "22                  59757.0                         6.953         5147.849849   \n",
       "23                  66933.0                         9.731         3291.439729   \n",
       "24                  74712.0                        27.442          801.690839   \n",
       "25                  79850.0                         8.466         3127.096622   \n",
       "26                 127386.0                         9.144         3171.150481   \n",
       "27                 122102.0                        13.441         1183.394093   \n",
       "28                  83081.0                         8.609         1282.378906   \n",
       "29                  74314.0                        53.902          892.026270   \n",
       "30                  67112.0                        65.860          465.062253   \n",
       "31                  65936.0                         7.520         2871.542553   \n",
       "32                 109260.0                        22.549         1549.203956   \n",
       "33                  74067.0                        10.490         2077.311725   \n",
       "34                  58071.0                         5.200         4899.038462   \n",
       "35                  90406.0                        17.457         2760.669073   \n",
       "36                  75180.0                        12.253         3381.947278   \n",
       "37                  76139.0                        16.838         2585.045730   \n",
       "\n",
       "    Cluster  \n",
       "0         0  \n",
       "1         0  \n",
       "2         0  \n",
       "3         0  \n",
       "5         0  \n",
       "6         1  \n",
       "7         0  \n",
       "8         0  \n",
       "9         0  \n",
       "10        0  \n",
       "11        1  \n",
       "12        0  \n",
       "13        0  \n",
       "14        0  \n",
       "15        2  \n",
       "16        1  \n",
       "17        0  \n",
       "18        2  \n",
       "19        0  \n",
       "20        0  \n",
       "21        1  \n",
       "22        0  \n",
       "23        0  \n",
       "24        1  \n",
       "25        0  \n",
       "26        2  \n",
       "27        2  \n",
       "28        0  \n",
       "29        1  \n",
       "30        1  \n",
       "31        0  \n",
       "32        2  \n",
       "33        0  \n",
       "34        0  \n",
       "35        0  \n",
       "36        0  \n",
       "37        0  "
      ]
     },
     "execution_count": 400,
     "metadata": {},
     "output_type": "execute_result"
    }
   ],
   "source": [
    "df\n"
   ]
  },
  {
   "cell_type": "code",
   "execution_count": 401,
   "metadata": {},
   "outputs": [
    {
     "data": {
      "text/html": [
       "<div>\n",
       "<style scoped>\n",
       "    .dataframe tbody tr th:only-of-type {\n",
       "        vertical-align: middle;\n",
       "    }\n",
       "\n",
       "    .dataframe tbody tr th {\n",
       "        vertical-align: top;\n",
       "    }\n",
       "\n",
       "    .dataframe thead th {\n",
       "        text-align: right;\n",
       "    }\n",
       "</style>\n",
       "<table border=\"1\" class=\"dataframe\">\n",
       "  <thead>\n",
       "    <tr style=\"text-align: right;\">\n",
       "      <th></th>\n",
       "      <th>household_median_income</th>\n",
       "      <th>Area (Land, in square miles)</th>\n",
       "      <th>population_density</th>\n",
       "      <th>Cluster</th>\n",
       "    </tr>\n",
       "  </thead>\n",
       "  <tbody>\n",
       "    <tr>\n",
       "      <th>0</th>\n",
       "      <td>67323.0</td>\n",
       "      <td>11.180</td>\n",
       "      <td>3399.821109</td>\n",
       "      <td>0</td>\n",
       "    </tr>\n",
       "    <tr>\n",
       "      <th>35</th>\n",
       "      <td>90406.0</td>\n",
       "      <td>17.457</td>\n",
       "      <td>2760.669073</td>\n",
       "      <td>0</td>\n",
       "    </tr>\n",
       "    <tr>\n",
       "      <th>34</th>\n",
       "      <td>58071.0</td>\n",
       "      <td>5.200</td>\n",
       "      <td>4899.038462</td>\n",
       "      <td>0</td>\n",
       "    </tr>\n",
       "    <tr>\n",
       "      <th>33</th>\n",
       "      <td>74067.0</td>\n",
       "      <td>10.490</td>\n",
       "      <td>2077.311725</td>\n",
       "      <td>0</td>\n",
       "    </tr>\n",
       "    <tr>\n",
       "      <th>31</th>\n",
       "      <td>65936.0</td>\n",
       "      <td>7.520</td>\n",
       "      <td>2871.542553</td>\n",
       "      <td>0</td>\n",
       "    </tr>\n",
       "    <tr>\n",
       "      <th>28</th>\n",
       "      <td>83081.0</td>\n",
       "      <td>8.609</td>\n",
       "      <td>1282.378906</td>\n",
       "      <td>0</td>\n",
       "    </tr>\n",
       "    <tr>\n",
       "      <th>25</th>\n",
       "      <td>79850.0</td>\n",
       "      <td>8.466</td>\n",
       "      <td>3127.096622</td>\n",
       "      <td>0</td>\n",
       "    </tr>\n",
       "    <tr>\n",
       "      <th>23</th>\n",
       "      <td>66933.0</td>\n",
       "      <td>9.731</td>\n",
       "      <td>3291.439729</td>\n",
       "      <td>0</td>\n",
       "    </tr>\n",
       "    <tr>\n",
       "      <th>22</th>\n",
       "      <td>59757.0</td>\n",
       "      <td>6.953</td>\n",
       "      <td>5147.849849</td>\n",
       "      <td>0</td>\n",
       "    </tr>\n",
       "    <tr>\n",
       "      <th>20</th>\n",
       "      <td>70435.0</td>\n",
       "      <td>8.579</td>\n",
       "      <td>6955.122975</td>\n",
       "      <td>0</td>\n",
       "    </tr>\n",
       "    <tr>\n",
       "      <th>36</th>\n",
       "      <td>75180.0</td>\n",
       "      <td>12.253</td>\n",
       "      <td>3381.947278</td>\n",
       "      <td>0</td>\n",
       "    </tr>\n",
       "    <tr>\n",
       "      <th>17</th>\n",
       "      <td>56317.0</td>\n",
       "      <td>11.330</td>\n",
       "      <td>2055.957635</td>\n",
       "      <td>0</td>\n",
       "    </tr>\n",
       "    <tr>\n",
       "      <th>14</th>\n",
       "      <td>49826.0</td>\n",
       "      <td>7.343</td>\n",
       "      <td>3401.879341</td>\n",
       "      <td>0</td>\n",
       "    </tr>\n",
       "    <tr>\n",
       "      <th>19</th>\n",
       "      <td>75480.0</td>\n",
       "      <td>6.907</td>\n",
       "      <td>3040.828145</td>\n",
       "      <td>0</td>\n",
       "    </tr>\n",
       "    <tr>\n",
       "      <th>37</th>\n",
       "      <td>76139.0</td>\n",
       "      <td>16.838</td>\n",
       "      <td>2585.045730</td>\n",
       "      <td>0</td>\n",
       "    </tr>\n",
       "    <tr>\n",
       "      <th>2</th>\n",
       "      <td>69512.0</td>\n",
       "      <td>4.767</td>\n",
       "      <td>6322.215230</td>\n",
       "      <td>0</td>\n",
       "    </tr>\n",
       "    <tr>\n",
       "      <th>13</th>\n",
       "      <td>82927.0</td>\n",
       "      <td>12.815</td>\n",
       "      <td>2058.603199</td>\n",
       "      <td>0</td>\n",
       "    </tr>\n",
       "    <tr>\n",
       "      <th>7</th>\n",
       "      <td>67542.0</td>\n",
       "      <td>6.736</td>\n",
       "      <td>4019.893112</td>\n",
       "      <td>0</td>\n",
       "    </tr>\n",
       "    <tr>\n",
       "      <th>5</th>\n",
       "      <td>83773.0</td>\n",
       "      <td>3.406</td>\n",
       "      <td>4707.574868</td>\n",
       "      <td>0</td>\n",
       "    </tr>\n",
       "    <tr>\n",
       "      <th>9</th>\n",
       "      <td>77383.0</td>\n",
       "      <td>16.045</td>\n",
       "      <td>3529.261452</td>\n",
       "      <td>0</td>\n",
       "    </tr>\n",
       "    <tr>\n",
       "      <th>8</th>\n",
       "      <td>63180.0</td>\n",
       "      <td>16.592</td>\n",
       "      <td>1752.772420</td>\n",
       "      <td>0</td>\n",
       "    </tr>\n",
       "    <tr>\n",
       "      <th>10</th>\n",
       "      <td>81041.0</td>\n",
       "      <td>11.033</td>\n",
       "      <td>3142.481646</td>\n",
       "      <td>0</td>\n",
       "    </tr>\n",
       "    <tr>\n",
       "      <th>1</th>\n",
       "      <td>61910.0</td>\n",
       "      <td>4.177</td>\n",
       "      <td>3314.340436</td>\n",
       "      <td>0</td>\n",
       "    </tr>\n",
       "    <tr>\n",
       "      <th>12</th>\n",
       "      <td>93004.0</td>\n",
       "      <td>12.346</td>\n",
       "      <td>1491.900211</td>\n",
       "      <td>0</td>\n",
       "    </tr>\n",
       "    <tr>\n",
       "      <th>3</th>\n",
       "      <td>70301.0</td>\n",
       "      <td>9.857</td>\n",
       "      <td>2585.472253</td>\n",
       "      <td>0</td>\n",
       "    </tr>\n",
       "    <tr>\n",
       "      <th>11</th>\n",
       "      <td>87715.0</td>\n",
       "      <td>26.307</td>\n",
       "      <td>2183.487285</td>\n",
       "      <td>1</td>\n",
       "    </tr>\n",
       "    <tr>\n",
       "      <th>24</th>\n",
       "      <td>74712.0</td>\n",
       "      <td>27.442</td>\n",
       "      <td>801.690839</td>\n",
       "      <td>1</td>\n",
       "    </tr>\n",
       "    <tr>\n",
       "      <th>16</th>\n",
       "      <td>70338.0</td>\n",
       "      <td>32.110</td>\n",
       "      <td>1706.789162</td>\n",
       "      <td>1</td>\n",
       "    </tr>\n",
       "    <tr>\n",
       "      <th>6</th>\n",
       "      <td>100264.0</td>\n",
       "      <td>41.681</td>\n",
       "      <td>694.681030</td>\n",
       "      <td>1</td>\n",
       "    </tr>\n",
       "    <tr>\n",
       "      <th>29</th>\n",
       "      <td>74314.0</td>\n",
       "      <td>53.902</td>\n",
       "      <td>892.026270</td>\n",
       "      <td>1</td>\n",
       "    </tr>\n",
       "    <tr>\n",
       "      <th>30</th>\n",
       "      <td>67112.0</td>\n",
       "      <td>65.860</td>\n",
       "      <td>465.062253</td>\n",
       "      <td>1</td>\n",
       "    </tr>\n",
       "    <tr>\n",
       "      <th>21</th>\n",
       "      <td>89329.0</td>\n",
       "      <td>34.852</td>\n",
       "      <td>2129.174796</td>\n",
       "      <td>1</td>\n",
       "    </tr>\n",
       "    <tr>\n",
       "      <th>15</th>\n",
       "      <td>120187.0</td>\n",
       "      <td>7.837</td>\n",
       "      <td>2059.716728</td>\n",
       "      <td>2</td>\n",
       "    </tr>\n",
       "    <tr>\n",
       "      <th>27</th>\n",
       "      <td>122102.0</td>\n",
       "      <td>13.441</td>\n",
       "      <td>1183.394093</td>\n",
       "      <td>2</td>\n",
       "    </tr>\n",
       "    <tr>\n",
       "      <th>18</th>\n",
       "      <td>123210.0</td>\n",
       "      <td>23.100</td>\n",
       "      <td>1160.043290</td>\n",
       "      <td>2</td>\n",
       "    </tr>\n",
       "    <tr>\n",
       "      <th>32</th>\n",
       "      <td>109260.0</td>\n",
       "      <td>22.549</td>\n",
       "      <td>1549.203956</td>\n",
       "      <td>2</td>\n",
       "    </tr>\n",
       "    <tr>\n",
       "      <th>26</th>\n",
       "      <td>127386.0</td>\n",
       "      <td>9.144</td>\n",
       "      <td>3171.150481</td>\n",
       "      <td>2</td>\n",
       "    </tr>\n",
       "  </tbody>\n",
       "</table>\n",
       "</div>"
      ],
      "text/plain": [
       "    household_median_income  Area (Land, in square miles)  population_density  \\\n",
       "0                   67323.0                        11.180         3399.821109   \n",
       "35                  90406.0                        17.457         2760.669073   \n",
       "34                  58071.0                         5.200         4899.038462   \n",
       "33                  74067.0                        10.490         2077.311725   \n",
       "31                  65936.0                         7.520         2871.542553   \n",
       "28                  83081.0                         8.609         1282.378906   \n",
       "25                  79850.0                         8.466         3127.096622   \n",
       "23                  66933.0                         9.731         3291.439729   \n",
       "22                  59757.0                         6.953         5147.849849   \n",
       "20                  70435.0                         8.579         6955.122975   \n",
       "36                  75180.0                        12.253         3381.947278   \n",
       "17                  56317.0                        11.330         2055.957635   \n",
       "14                  49826.0                         7.343         3401.879341   \n",
       "19                  75480.0                         6.907         3040.828145   \n",
       "37                  76139.0                        16.838         2585.045730   \n",
       "2                   69512.0                         4.767         6322.215230   \n",
       "13                  82927.0                        12.815         2058.603199   \n",
       "7                   67542.0                         6.736         4019.893112   \n",
       "5                   83773.0                         3.406         4707.574868   \n",
       "9                   77383.0                        16.045         3529.261452   \n",
       "8                   63180.0                        16.592         1752.772420   \n",
       "10                  81041.0                        11.033         3142.481646   \n",
       "1                   61910.0                         4.177         3314.340436   \n",
       "12                  93004.0                        12.346         1491.900211   \n",
       "3                   70301.0                         9.857         2585.472253   \n",
       "11                  87715.0                        26.307         2183.487285   \n",
       "24                  74712.0                        27.442          801.690839   \n",
       "16                  70338.0                        32.110         1706.789162   \n",
       "6                  100264.0                        41.681          694.681030   \n",
       "29                  74314.0                        53.902          892.026270   \n",
       "30                  67112.0                        65.860          465.062253   \n",
       "21                  89329.0                        34.852         2129.174796   \n",
       "15                 120187.0                         7.837         2059.716728   \n",
       "27                 122102.0                        13.441         1183.394093   \n",
       "18                 123210.0                        23.100         1160.043290   \n",
       "32                 109260.0                        22.549         1549.203956   \n",
       "26                 127386.0                         9.144         3171.150481   \n",
       "\n",
       "    Cluster  \n",
       "0         0  \n",
       "35        0  \n",
       "34        0  \n",
       "33        0  \n",
       "31        0  \n",
       "28        0  \n",
       "25        0  \n",
       "23        0  \n",
       "22        0  \n",
       "20        0  \n",
       "36        0  \n",
       "17        0  \n",
       "14        0  \n",
       "19        0  \n",
       "37        0  \n",
       "2         0  \n",
       "13        0  \n",
       "7         0  \n",
       "5         0  \n",
       "9         0  \n",
       "8         0  \n",
       "10        0  \n",
       "1         0  \n",
       "12        0  \n",
       "3         0  \n",
       "11        1  \n",
       "24        1  \n",
       "16        1  \n",
       "6         1  \n",
       "29        1  \n",
       "30        1  \n",
       "21        1  \n",
       "15        2  \n",
       "27        2  \n",
       "18        2  \n",
       "32        2  \n",
       "26        2  "
      ]
     },
     "execution_count": 401,
     "metadata": {},
     "output_type": "execute_result"
    }
   ],
   "source": [
    "df.sort_values(by='Cluster')\n"
   ]
  },
  {
   "cell_type": "code",
   "execution_count": 406,
   "metadata": {},
   "outputs": [],
   "source": [
    "df['zip_code']=input_data1['zip_code'].values\n",
    "df['zip_code']=df['zip_code'].astype(str)\n"
   ]
  },
  {
   "cell_type": "code",
   "execution_count": 407,
   "metadata": {},
   "outputs": [],
   "source": [
    "\n",
    "df['store_id']=df['zip_code'].map(zip_store_ids)\n"
   ]
  },
  {
   "cell_type": "code",
   "execution_count": 408,
   "metadata": {},
   "outputs": [
    {
     "data": {
      "text/html": [
       "<div>\n",
       "<style scoped>\n",
       "    .dataframe tbody tr th:only-of-type {\n",
       "        vertical-align: middle;\n",
       "    }\n",
       "\n",
       "    .dataframe tbody tr th {\n",
       "        vertical-align: top;\n",
       "    }\n",
       "\n",
       "    .dataframe thead th {\n",
       "        text-align: right;\n",
       "    }\n",
       "</style>\n",
       "<table border=\"1\" class=\"dataframe\">\n",
       "  <thead>\n",
       "    <tr style=\"text-align: right;\">\n",
       "      <th></th>\n",
       "      <th>household_median_income</th>\n",
       "      <th>Area (Land, in square miles)</th>\n",
       "      <th>population_density</th>\n",
       "      <th>Cluster</th>\n",
       "      <th>zip_code</th>\n",
       "      <th>store_id</th>\n",
       "    </tr>\n",
       "  </thead>\n",
       "  <tbody>\n",
       "    <tr>\n",
       "      <th>0</th>\n",
       "      <td>67323.0</td>\n",
       "      <td>11.180</td>\n",
       "      <td>3399.821109</td>\n",
       "      <td>0</td>\n",
       "      <td>34698</td>\n",
       "      <td>FL-010</td>\n",
       "    </tr>\n",
       "    <tr>\n",
       "      <th>1</th>\n",
       "      <td>61910.0</td>\n",
       "      <td>4.177</td>\n",
       "      <td>3314.340436</td>\n",
       "      <td>0</td>\n",
       "      <td>33765</td>\n",
       "      <td>FL-009</td>\n",
       "    </tr>\n",
       "    <tr>\n",
       "      <th>2</th>\n",
       "      <td>69512.0</td>\n",
       "      <td>4.767</td>\n",
       "      <td>6322.215230</td>\n",
       "      <td>0</td>\n",
       "      <td>33334</td>\n",
       "      <td>FL-005</td>\n",
       "    </tr>\n",
       "    <tr>\n",
       "      <th>3</th>\n",
       "      <td>70301.0</td>\n",
       "      <td>9.857</td>\n",
       "      <td>2585.472253</td>\n",
       "      <td>0</td>\n",
       "      <td>34104</td>\n",
       "      <td>FL-013</td>\n",
       "    </tr>\n",
       "    <tr>\n",
       "      <th>5</th>\n",
       "      <td>83773.0</td>\n",
       "      <td>3.406</td>\n",
       "      <td>4707.574868</td>\n",
       "      <td>0</td>\n",
       "      <td>33708</td>\n",
       "      <td>FL-015</td>\n",
       "    </tr>\n",
       "    <tr>\n",
       "      <th>6</th>\n",
       "      <td>100264.0</td>\n",
       "      <td>41.681</td>\n",
       "      <td>694.681030</td>\n",
       "      <td>1</td>\n",
       "      <td>33928</td>\n",
       "      <td>FL-016</td>\n",
       "    </tr>\n",
       "    <tr>\n",
       "      <th>7</th>\n",
       "      <td>67542.0</td>\n",
       "      <td>6.736</td>\n",
       "      <td>4019.893112</td>\n",
       "      <td>0</td>\n",
       "      <td>34684</td>\n",
       "      <td>FL-008</td>\n",
       "    </tr>\n",
       "    <tr>\n",
       "      <th>8</th>\n",
       "      <td>63180.0</td>\n",
       "      <td>16.592</td>\n",
       "      <td>1752.772420</td>\n",
       "      <td>0</td>\n",
       "      <td>33803</td>\n",
       "      <td>FL-017</td>\n",
       "    </tr>\n",
       "    <tr>\n",
       "      <th>9</th>\n",
       "      <td>77383.0</td>\n",
       "      <td>16.045</td>\n",
       "      <td>3529.261452</td>\n",
       "      <td>0</td>\n",
       "      <td>33511</td>\n",
       "      <td>FL-018</td>\n",
       "    </tr>\n",
       "    <tr>\n",
       "      <th>10</th>\n",
       "      <td>81041.0</td>\n",
       "      <td>11.033</td>\n",
       "      <td>3142.481646</td>\n",
       "      <td>0</td>\n",
       "      <td>34232</td>\n",
       "      <td>FL-012</td>\n",
       "    </tr>\n",
       "    <tr>\n",
       "      <th>11</th>\n",
       "      <td>87715.0</td>\n",
       "      <td>26.307</td>\n",
       "      <td>2183.487285</td>\n",
       "      <td>1</td>\n",
       "      <td>32225</td>\n",
       "      <td>FL-019</td>\n",
       "    </tr>\n",
       "    <tr>\n",
       "      <th>12</th>\n",
       "      <td>93004.0</td>\n",
       "      <td>12.346</td>\n",
       "      <td>1491.900211</td>\n",
       "      <td>0</td>\n",
       "      <td>32541</td>\n",
       "      <td>FL-020</td>\n",
       "    </tr>\n",
       "    <tr>\n",
       "      <th>13</th>\n",
       "      <td>82927.0</td>\n",
       "      <td>12.815</td>\n",
       "      <td>2058.603199</td>\n",
       "      <td>0</td>\n",
       "      <td>33991</td>\n",
       "      <td>FL-021</td>\n",
       "    </tr>\n",
       "    <tr>\n",
       "      <th>14</th>\n",
       "      <td>49826.0</td>\n",
       "      <td>7.343</td>\n",
       "      <td>3401.879341</td>\n",
       "      <td>0</td>\n",
       "      <td>33907</td>\n",
       "      <td>FL-022</td>\n",
       "    </tr>\n",
       "    <tr>\n",
       "      <th>15</th>\n",
       "      <td>120187.0</td>\n",
       "      <td>7.837</td>\n",
       "      <td>2059.716728</td>\n",
       "      <td>2</td>\n",
       "      <td>34108</td>\n",
       "      <td>FL-023</td>\n",
       "    </tr>\n",
       "    <tr>\n",
       "      <th>16</th>\n",
       "      <td>70338.0</td>\n",
       "      <td>32.110</td>\n",
       "      <td>1706.789162</td>\n",
       "      <td>1</td>\n",
       "      <td>32703</td>\n",
       "      <td>FL-024</td>\n",
       "    </tr>\n",
       "    <tr>\n",
       "      <th>17</th>\n",
       "      <td>56317.0</td>\n",
       "      <td>11.330</td>\n",
       "      <td>2055.957635</td>\n",
       "      <td>0</td>\n",
       "      <td>33903</td>\n",
       "      <td>FL-025</td>\n",
       "    </tr>\n",
       "    <tr>\n",
       "      <th>18</th>\n",
       "      <td>123210.0</td>\n",
       "      <td>23.100</td>\n",
       "      <td>1160.043290</td>\n",
       "      <td>2</td>\n",
       "      <td>34202</td>\n",
       "      <td>FL-026</td>\n",
       "    </tr>\n",
       "    <tr>\n",
       "      <th>19</th>\n",
       "      <td>75480.0</td>\n",
       "      <td>6.907</td>\n",
       "      <td>3040.828145</td>\n",
       "      <td>0</td>\n",
       "      <td>33434</td>\n",
       "      <td>FL-029</td>\n",
       "    </tr>\n",
       "    <tr>\n",
       "      <th>20</th>\n",
       "      <td>70435.0</td>\n",
       "      <td>8.579</td>\n",
       "      <td>6955.122975</td>\n",
       "      <td>0</td>\n",
       "      <td>33065</td>\n",
       "      <td>FL-030</td>\n",
       "    </tr>\n",
       "    <tr>\n",
       "      <th>21</th>\n",
       "      <td>89329.0</td>\n",
       "      <td>34.852</td>\n",
       "      <td>2129.174796</td>\n",
       "      <td>1</td>\n",
       "      <td>33411</td>\n",
       "      <td>FL-032</td>\n",
       "    </tr>\n",
       "    <tr>\n",
       "      <th>22</th>\n",
       "      <td>59757.0</td>\n",
       "      <td>6.953</td>\n",
       "      <td>5147.849849</td>\n",
       "      <td>0</td>\n",
       "      <td>33060</td>\n",
       "      <td>FL-033</td>\n",
       "    </tr>\n",
       "    <tr>\n",
       "      <th>23</th>\n",
       "      <td>66933.0</td>\n",
       "      <td>9.731</td>\n",
       "      <td>3291.439729</td>\n",
       "      <td>0</td>\n",
       "      <td>33904</td>\n",
       "      <td>FL-031</td>\n",
       "    </tr>\n",
       "    <tr>\n",
       "      <th>24</th>\n",
       "      <td>74712.0</td>\n",
       "      <td>27.442</td>\n",
       "      <td>801.690839</td>\n",
       "      <td>1</td>\n",
       "      <td>34286</td>\n",
       "      <td>FL-034</td>\n",
       "    </tr>\n",
       "    <tr>\n",
       "      <th>25</th>\n",
       "      <td>79850.0</td>\n",
       "      <td>8.466</td>\n",
       "      <td>3127.096622</td>\n",
       "      <td>0</td>\n",
       "      <td>33618</td>\n",
       "      <td>FL-035</td>\n",
       "    </tr>\n",
       "    <tr>\n",
       "      <th>26</th>\n",
       "      <td>127386.0</td>\n",
       "      <td>9.144</td>\n",
       "      <td>3171.150481</td>\n",
       "      <td>2</td>\n",
       "      <td>33328</td>\n",
       "      <td>FL-037</td>\n",
       "    </tr>\n",
       "    <tr>\n",
       "      <th>27</th>\n",
       "      <td>122102.0</td>\n",
       "      <td>13.441</td>\n",
       "      <td>1183.394093</td>\n",
       "      <td>2</td>\n",
       "      <td>34134</td>\n",
       "      <td>FL-038</td>\n",
       "    </tr>\n",
       "    <tr>\n",
       "      <th>28</th>\n",
       "      <td>83081.0</td>\n",
       "      <td>8.609</td>\n",
       "      <td>1282.378906</td>\n",
       "      <td>0</td>\n",
       "      <td>33954</td>\n",
       "      <td>FL-039</td>\n",
       "    </tr>\n",
       "    <tr>\n",
       "      <th>29</th>\n",
       "      <td>74314.0</td>\n",
       "      <td>53.902</td>\n",
       "      <td>892.026270</td>\n",
       "      <td>1</td>\n",
       "      <td>34221</td>\n",
       "      <td>FL-040</td>\n",
       "    </tr>\n",
       "    <tr>\n",
       "      <th>30</th>\n",
       "      <td>67112.0</td>\n",
       "      <td>65.860</td>\n",
       "      <td>465.062253</td>\n",
       "      <td>1</td>\n",
       "      <td>33809</td>\n",
       "      <td>FL-041</td>\n",
       "    </tr>\n",
       "    <tr>\n",
       "      <th>31</th>\n",
       "      <td>65936.0</td>\n",
       "      <td>7.520</td>\n",
       "      <td>2871.542553</td>\n",
       "      <td>0</td>\n",
       "      <td>32129</td>\n",
       "      <td>FL-042</td>\n",
       "    </tr>\n",
       "    <tr>\n",
       "      <th>32</th>\n",
       "      <td>109260.0</td>\n",
       "      <td>22.549</td>\n",
       "      <td>1549.203956</td>\n",
       "      <td>2</td>\n",
       "      <td>34119</td>\n",
       "      <td>FL-043</td>\n",
       "    </tr>\n",
       "    <tr>\n",
       "      <th>33</th>\n",
       "      <td>74067.0</td>\n",
       "      <td>10.490</td>\n",
       "      <td>2077.311725</td>\n",
       "      <td>0</td>\n",
       "      <td>32504</td>\n",
       "      <td>FL-044</td>\n",
       "    </tr>\n",
       "    <tr>\n",
       "      <th>34</th>\n",
       "      <td>58071.0</td>\n",
       "      <td>5.200</td>\n",
       "      <td>4899.038462</td>\n",
       "      <td>0</td>\n",
       "      <td>33770</td>\n",
       "      <td>FL-045</td>\n",
       "    </tr>\n",
       "    <tr>\n",
       "      <th>35</th>\n",
       "      <td>90406.0</td>\n",
       "      <td>17.457</td>\n",
       "      <td>2760.669073</td>\n",
       "      <td>0</td>\n",
       "      <td>34761</td>\n",
       "      <td>FL-046</td>\n",
       "    </tr>\n",
       "    <tr>\n",
       "      <th>36</th>\n",
       "      <td>75180.0</td>\n",
       "      <td>12.253</td>\n",
       "      <td>3381.947278</td>\n",
       "      <td>0</td>\n",
       "      <td>32257</td>\n",
       "      <td>FL-047</td>\n",
       "    </tr>\n",
       "    <tr>\n",
       "      <th>37</th>\n",
       "      <td>76139.0</td>\n",
       "      <td>16.838</td>\n",
       "      <td>2585.045730</td>\n",
       "      <td>0</td>\n",
       "      <td>32073</td>\n",
       "      <td>FL-048</td>\n",
       "    </tr>\n",
       "  </tbody>\n",
       "</table>\n",
       "</div>"
      ],
      "text/plain": [
       "    household_median_income  Area (Land, in square miles)  population_density  \\\n",
       "0                   67323.0                        11.180         3399.821109   \n",
       "1                   61910.0                         4.177         3314.340436   \n",
       "2                   69512.0                         4.767         6322.215230   \n",
       "3                   70301.0                         9.857         2585.472253   \n",
       "5                   83773.0                         3.406         4707.574868   \n",
       "6                  100264.0                        41.681          694.681030   \n",
       "7                   67542.0                         6.736         4019.893112   \n",
       "8                   63180.0                        16.592         1752.772420   \n",
       "9                   77383.0                        16.045         3529.261452   \n",
       "10                  81041.0                        11.033         3142.481646   \n",
       "11                  87715.0                        26.307         2183.487285   \n",
       "12                  93004.0                        12.346         1491.900211   \n",
       "13                  82927.0                        12.815         2058.603199   \n",
       "14                  49826.0                         7.343         3401.879341   \n",
       "15                 120187.0                         7.837         2059.716728   \n",
       "16                  70338.0                        32.110         1706.789162   \n",
       "17                  56317.0                        11.330         2055.957635   \n",
       "18                 123210.0                        23.100         1160.043290   \n",
       "19                  75480.0                         6.907         3040.828145   \n",
       "20                  70435.0                         8.579         6955.122975   \n",
       "21                  89329.0                        34.852         2129.174796   \n",
       "22                  59757.0                         6.953         5147.849849   \n",
       "23                  66933.0                         9.731         3291.439729   \n",
       "24                  74712.0                        27.442          801.690839   \n",
       "25                  79850.0                         8.466         3127.096622   \n",
       "26                 127386.0                         9.144         3171.150481   \n",
       "27                 122102.0                        13.441         1183.394093   \n",
       "28                  83081.0                         8.609         1282.378906   \n",
       "29                  74314.0                        53.902          892.026270   \n",
       "30                  67112.0                        65.860          465.062253   \n",
       "31                  65936.0                         7.520         2871.542553   \n",
       "32                 109260.0                        22.549         1549.203956   \n",
       "33                  74067.0                        10.490         2077.311725   \n",
       "34                  58071.0                         5.200         4899.038462   \n",
       "35                  90406.0                        17.457         2760.669073   \n",
       "36                  75180.0                        12.253         3381.947278   \n",
       "37                  76139.0                        16.838         2585.045730   \n",
       "\n",
       "    Cluster zip_code store_id  \n",
       "0         0    34698   FL-010  \n",
       "1         0    33765   FL-009  \n",
       "2         0    33334   FL-005  \n",
       "3         0    34104   FL-013  \n",
       "5         0    33708   FL-015  \n",
       "6         1    33928   FL-016  \n",
       "7         0    34684   FL-008  \n",
       "8         0    33803   FL-017  \n",
       "9         0    33511   FL-018  \n",
       "10        0    34232   FL-012  \n",
       "11        1    32225   FL-019  \n",
       "12        0    32541   FL-020  \n",
       "13        0    33991   FL-021  \n",
       "14        0    33907   FL-022  \n",
       "15        2    34108   FL-023  \n",
       "16        1    32703   FL-024  \n",
       "17        0    33903   FL-025  \n",
       "18        2    34202   FL-026  \n",
       "19        0    33434   FL-029  \n",
       "20        0    33065   FL-030  \n",
       "21        1    33411   FL-032  \n",
       "22        0    33060   FL-033  \n",
       "23        0    33904   FL-031  \n",
       "24        1    34286   FL-034  \n",
       "25        0    33618   FL-035  \n",
       "26        2    33328   FL-037  \n",
       "27        2    34134   FL-038  \n",
       "28        0    33954   FL-039  \n",
       "29        1    34221   FL-040  \n",
       "30        1    33809   FL-041  \n",
       "31        0    32129   FL-042  \n",
       "32        2    34119   FL-043  \n",
       "33        0    32504   FL-044  \n",
       "34        0    33770   FL-045  \n",
       "35        0    34761   FL-046  \n",
       "36        0    32257   FL-047  \n",
       "37        0    32073   FL-048  "
      ]
     },
     "execution_count": 408,
     "metadata": {},
     "output_type": "execute_result"
    }
   ],
   "source": [
    "df\n"
   ]
  },
  {
   "cell_type": "code",
   "execution_count": 409,
   "metadata": {},
   "outputs": [
    {
     "data": {
      "text/html": [
       "<div>\n",
       "<style scoped>\n",
       "    .dataframe tbody tr th:only-of-type {\n",
       "        vertical-align: middle;\n",
       "    }\n",
       "\n",
       "    .dataframe tbody tr th {\n",
       "        vertical-align: top;\n",
       "    }\n",
       "\n",
       "    .dataframe thead th {\n",
       "        text-align: right;\n",
       "    }\n",
       "</style>\n",
       "<table border=\"1\" class=\"dataframe\">\n",
       "  <thead>\n",
       "    <tr style=\"text-align: right;\">\n",
       "      <th></th>\n",
       "      <th>zip_code</th>\n",
       "      <th>area_classification</th>\n",
       "      <th>traffic_count</th>\n",
       "      <th>population</th>\n",
       "      <th>household_median_income</th>\n",
       "      <th>Area (Land, in square miles)</th>\n",
       "      <th>population_density</th>\n",
       "      <th>AADT</th>\n",
       "    </tr>\n",
       "  </thead>\n",
       "  <tbody>\n",
       "    <tr>\n",
       "      <th>0</th>\n",
       "      <td>34698</td>\n",
       "      <td>urban</td>\n",
       "      <td>32500.0</td>\n",
       "      <td>38010.0</td>\n",
       "      <td>67323.0</td>\n",
       "      <td>11.180</td>\n",
       "      <td>3399.821109</td>\n",
       "      <td>32500</td>\n",
       "    </tr>\n",
       "    <tr>\n",
       "      <th>1</th>\n",
       "      <td>33765</td>\n",
       "      <td>urban</td>\n",
       "      <td>49000.0</td>\n",
       "      <td>13844.0</td>\n",
       "      <td>61910.0</td>\n",
       "      <td>4.177</td>\n",
       "      <td>3314.340436</td>\n",
       "      <td>49000</td>\n",
       "    </tr>\n",
       "  </tbody>\n",
       "</table>\n",
       "</div>"
      ],
      "text/plain": [
       "   zip_code area_classification  traffic_count  population  \\\n",
       "0     34698               urban        32500.0     38010.0   \n",
       "1     33765               urban        49000.0     13844.0   \n",
       "\n",
       "   household_median_income  Area (Land, in square miles)  population_density  \\\n",
       "0                  67323.0                        11.180         3399.821109   \n",
       "1                  61910.0                         4.177         3314.340436   \n",
       "\n",
       "    AADT  \n",
       "0  32500  \n",
       "1  49000  "
      ]
     },
     "execution_count": 409,
     "metadata": {},
     "output_type": "execute_result"
    }
   ],
   "source": [
    "input_data1.head(2)\n"
   ]
  },
  {
   "cell_type": "code",
   "execution_count": 410,
   "metadata": {},
   "outputs": [
    {
     "data": {
      "text/html": [
       "<div>\n",
       "<style scoped>\n",
       "    .dataframe tbody tr th:only-of-type {\n",
       "        vertical-align: middle;\n",
       "    }\n",
       "\n",
       "    .dataframe tbody tr th {\n",
       "        vertical-align: top;\n",
       "    }\n",
       "\n",
       "    .dataframe thead th {\n",
       "        text-align: right;\n",
       "    }\n",
       "</style>\n",
       "<table border=\"1\" class=\"dataframe\">\n",
       "  <thead>\n",
       "    <tr style=\"text-align: right;\">\n",
       "      <th></th>\n",
       "      <th>household_median_income</th>\n",
       "      <th>Area (Land, in square miles)</th>\n",
       "      <th>population_density</th>\n",
       "      <th>Cluster</th>\n",
       "      <th>zip_code</th>\n",
       "      <th>store_id</th>\n",
       "    </tr>\n",
       "  </thead>\n",
       "  <tbody>\n",
       "    <tr>\n",
       "      <th>0</th>\n",
       "      <td>67323.0</td>\n",
       "      <td>11.180</td>\n",
       "      <td>3399.821109</td>\n",
       "      <td>0</td>\n",
       "      <td>34698</td>\n",
       "      <td>FL-010</td>\n",
       "    </tr>\n",
       "    <tr>\n",
       "      <th>1</th>\n",
       "      <td>61910.0</td>\n",
       "      <td>4.177</td>\n",
       "      <td>3314.340436</td>\n",
       "      <td>0</td>\n",
       "      <td>33765</td>\n",
       "      <td>FL-009</td>\n",
       "    </tr>\n",
       "  </tbody>\n",
       "</table>\n",
       "</div>"
      ],
      "text/plain": [
       "   household_median_income  Area (Land, in square miles)  population_density  \\\n",
       "0                  67323.0                        11.180         3399.821109   \n",
       "1                  61910.0                         4.177         3314.340436   \n",
       "\n",
       "   Cluster zip_code store_id  \n",
       "0        0    34698   FL-010  \n",
       "1        0    33765   FL-009  "
      ]
     },
     "execution_count": 410,
     "metadata": {},
     "output_type": "execute_result"
    }
   ],
   "source": [
    "df.head(2)\n"
   ]
  },
  {
   "cell_type": "code",
   "execution_count": 411,
   "metadata": {},
   "outputs": [],
   "source": [
    "df.to_csv('jtz_clusters02.csv',index=False)\n"
   ]
  },
  {
   "cell_type": "code",
   "execution_count": 413,
   "metadata": {},
   "outputs": [
    {
     "data": {
      "text/plain": [
       "array([0, 1, 2])"
      ]
     },
     "execution_count": 413,
     "metadata": {},
     "output_type": "execute_result"
    }
   ],
   "source": [
    "dd1=pd.read_csv('jtz_clusters02.csv')\n",
    "dd1.Cluster.unique()\n"
   ]
  },
  {
   "cell_type": "markdown",
   "metadata": {},
   "source": [
    "# kmeans\n"
   ]
  },
  {
   "cell_type": "code",
   "execution_count": 302,
   "metadata": {},
   "outputs": [],
   "source": [
    "from sklearn.cluster import KMeans\n",
    "import matplotlib.pyplot as plt\n"
   ]
  },
  {
   "cell_type": "code",
   "execution_count": 243,
   "metadata": {},
   "outputs": [
    {
     "data": {
      "image/png": "[encoded data removed]",
      "text/plain": [
       "<Figure size 576x432 with 1 Axes>"
      ]
     },
     "metadata": {
      "needs_background": "light"
     },
     "output_type": "display_data"
    }
   ],
   "source": [
    "scaler = StandardScaler()\n",
    "scaled_data = scaler.fit_transform(df)\n",
    "\n",
    "# df=input_data.copy()\n",
    "def choose_k_elbow(scaled_data, max_k=10):\n",
    "    wcss = []  # Store Within-Cluster Sum of Squares for each k\n",
    "\n",
    "    # Test K-Means with k ranging from 1 to max_k\n",
    "    for k in range(1, max_k + 1):\n",
    "        kmeans = KMeans(n_clusters=k, init='k-means++', max_iter=300, random_state=42)\n",
    "        kmeans.fit(scaled_data)\n",
    "        wcss.append(kmeans.inertia_)  # Inertia is the WCSS value\n",
    "\n",
    "    # Plot the elbow curve\n",
    "    plt.figure(figsize=(8, 6))\n",
    "    plt.plot(range(1, max_k + 1), wcss, marker='o')\n",
    "    plt.title('Elbow Method to Determine Optimal K')\n",
    "    plt.xlabel('Number of Clusters (k)')\n",
    "    plt.ylabel('WCSS')\n",
    "    plt.grid()\n",
    "    plt.show()\n",
    "choose_k_elbow(scaled_data, max_k=10)\n"
   ]
  },
  {
   "cell_type": "code",
   "execution_count": 244,
   "metadata": {},
   "outputs": [
    {
     "name": "stdout",
     "output_type": "stream",
     "text": [
      "Best number of clusters: 4, Silhouette score: 0.41541571947063827\n"
     ]
    },
    {
     "data": {
      "text/plain": [
       "{2: 0.3719849484181047,\n",
       " 3: 0.38927216740418397,\n",
       " 4: 0.41541571947063827,\n",
       " 5: 0.35521081579696073}"
      ]
     },
     "execution_count": 244,
     "metadata": {},
     "output_type": "execute_result"
    }
   ],
   "source": [
    "from sklearn.cluster import KMeans\n",
    "from sklearn.metrics import silhouette_score\n",
    "\n",
    "cluster_scores = {}  # Dictionary to store n_clusters and silhouette scores\n",
    "\n",
    "for i in range(2, 6):  # Testing for cluster numbers from 2 to 5\n",
    "    kmeans = KMeans(n_clusters=i, random_state=42, n_init=10)  # Using n_init=10 for stable results\n",
    "    l = kmeans.fit_predict(df_scaled)\n",
    "\n",
    "    silhouette_avg = silhouette_score(df_scaled, l)\n",
    "\n",
    "    cluster_scores[i] = silhouette_avg  # Store as key-value pair\n",
    "\n",
    "# Find the best n_clusters based on the highest silhouette score\n",
    "best_n_clusters = max(cluster_scores, key=cluster_scores.get)\n",
    "best_score = cluster_scores[best_n_clusters]\n",
    "\n",
    "print(f\"Best number of clusters: {best_n_clusters}, Silhouette score: {best_score}\")\n",
    "cluster_scores\n"
   ]
  },
  {
   "cell_type": "code",
   "execution_count": 245,
   "metadata": {},
   "outputs": [
    {
     "name": "stdout",
     "output_type": "stream",
     "text": [
      "0.38927216740418397\n"
     ]
    }
   ],
   "source": [
    "k=3\n",
    "\n",
    "kmeans = KMeans(n_clusters=k, random_state=42, n_init=10)  # Using n_init=10 for stable results\n",
    "df['Cluster'] = kmeans.fit_predict(df_scaled)\n",
    "\n",
    "silhouette_avg = silhouette_score(df_scaled, df['Cluster'].values)\n",
    "\n",
    "print(silhouette_avg)\n"
   ]
  },
  {
   "cell_type": "code",
   "execution_count": 246,
   "metadata": {},
   "outputs": [
    {
     "name": "stderr",
     "output_type": "stream",
     "text": [
      "/Library/Frameworks/Python.framework/Versions/3.7/lib/python3.7/site-packages/sklearn/manifold/_t_sne.py:783: FutureWarning:\n",
      "\n",
      "The default initialization in TSNE will change from 'random' to 'pca' in 1.2.\n",
      "\n",
      "/Library/Frameworks/Python.framework/Versions/3.7/lib/python3.7/site-packages/sklearn/manifold/_t_sne.py:793: FutureWarning:\n",
      "\n",
      "The default learning rate in TSNE will change from 200.0 to 'auto' in 1.2.\n",
      "\n"
     ]
    },
    {
     "name": "stdout",
     "output_type": "stream",
     "text": [
      "[t-SNE] Computing 36 nearest neighbors...\n",
      "[t-SNE] Indexed 37 samples in 0.000s...\n",
      "[t-SNE] Computed neighbors for 37 samples in 0.002s...\n",
      "[t-SNE] Computed conditional probabilities for sample 37 / 37\n",
      "[t-SNE] Mean sigma: 2.703585\n",
      "[t-SNE] KL divergence after 250 iterations with early exaggeration: 49.553062\n",
      "[t-SNE] KL divergence after 1000 iterations: 0.354524\n"
     ]
    },
    {
     "data": {
      "application/vnd.plotly.v1+json": {
       "config": {
        "plotlyServerURL": "https://plot.ly"
       },
       "data": [
        {
         "hovertemplate": "cluster=%{marker.color}<br>tsne1=%{x}<br>tsne2=%{y}<extra></extra>",
         "legendgroup": "1",
         "marker": {
          "color": [
           1,
           1,
           1,
           1,
           1,
           1,
           1,
           1,
           1,
           1,
           1,
           1,
           1,
           1,
           1,
           1,
           1,
           1,
           1,
           1,
           1
          ],
          "coloraxis": "coloraxis",
          "size": 10,
          "symbol": "circle"
         },
         "mode": "markers",
         "name": "1",
         "orientation": "v",
         "showlegend": true,
         "type": "scatter",
         "x": [
          5.0563893,
          28.228928,
          10.820982,
          -39.06134,
          71.10919,
          -5.7879486,
          -64.689186,
          30.283102,
          -24.961226,
          -49.82781,
          -63.094067,
          -10.007409,
          90.95421,
          -28.241169,
          16.384472,
          -22.446068,
          -63.945576,
          32.50289,
          18.572952,
          3.9137065,
          -8.746157
         ],
         "xaxis": "x",
         "y": [
          55.793434,
          79.312675,
          108.6456,
          31.38547,
          5.7033606,
          78.72902,
          -15.206175,
          8.8647585,
          55.34826,
          72.4456,
          14.317768,
          34.52594,
          38.7443,
          97.20373,
          31.944227,
          12.723412,
          45.11665,
          50.661892,
          -15.522946,
          11.184007,
          -10.688814
         ],
         "yaxis": "y"
        },
        {
         "hovertemplate": "cluster=%{marker.color}<br>tsne1=%{x}<br>tsne2=%{y}<extra></extra>",
         "legendgroup": "0",
         "marker": {
          "color": [
           0,
           0,
           0,
           0,
           0,
           0
          ],
          "coloraxis": "coloraxis",
          "size": 10,
          "symbol": "diamond"
         },
         "mode": "markers",
         "name": "0",
         "orientation": "v",
         "showlegend": true,
         "type": "scatter",
         "x": [
          -2.317203,
          -42.008385,
          9.062249,
          -22.210829,
          -35.863796,
          -62.960827
         ],
         "xaxis": "x",
         "y": [
          -88.79817,
          -44.33222,
          -55.95221,
          -63.262684,
          -92.667946,
          -76.74592
         ],
         "yaxis": "y"
        },
        {
         "hovertemplate": "cluster=%{marker.color}<br>tsne1=%{x}<br>tsne2=%{y}<extra></extra>",
         "legendgroup": "2",
         "marker": {
          "color": [
           2,
           2,
           2,
           2,
           2,
           2,
           2,
           2,
           2,
           2
          ],
          "coloraxis": "coloraxis",
          "size": 10,
          "symbol": "square"
         },
         "mode": "markers",
         "name": "2",
         "orientation": "v",
         "showlegend": true,
         "type": "scatter",
         "x": [
          -9.617805,
          59.799595,
          -35.75197,
          64.182556,
          36.080822,
          80.762344,
          50.31091,
          49.273933,
          30.734837,
          46.58711
         ],
         "xaxis": "x",
         "y": [
          -38.64745,
          56.528667,
          -10.084067,
          -85.04357,
          -104.8558,
          -57.72096,
          -56.030037,
          27.32306,
          -76.67722,
          -16.298605
         ],
         "yaxis": "y"
        },
        {
         "line": {
          "color": "black"
         },
         "mode": "lines",
         "name": "Boundary Cluster 1",
         "type": "scatter",
         "x": [
          90.95420837402344,
          10.820981979370117,
          -28.241168975830078,
          -49.82780838012695,
          -63.94557571411133,
          -64.6891860961914,
          18.572952270507812,
          71.10919189453125,
          90.95420837402344
         ],
         "y": [
          38.744300842285156,
          108.64559936523438,
          97.20372772216797,
          72.44560241699219,
          45.11664962768555,
          -15.206174850463867,
          -15.52294635772705,
          5.703360557556152,
          38.744300842285156
         ]
        },
        {
         "line": {
          "color": "black"
         },
         "mode": "lines",
         "name": "Boundary Cluster 0",
         "type": "scatter",
         "x": [
          -42.008384704589844,
          -62.9608268737793,
          -35.86379623413086,
          -2.3172030448913574,
          9.062249183654785,
          -42.008384704589844
         ],
         "y": [
          -44.332218170166016,
          -76.74591827392578,
          -92.6679458618164,
          -88.79817199707031,
          -55.95220947265625,
          -44.332218170166016
         ]
        },
        {
         "line": {
          "color": "black"
         },
         "mode": "lines",
         "name": "Boundary Cluster 2",
         "type": "scatter",
         "x": [
          59.79959487915039,
          -35.75196838378906,
          36.0808219909668,
          64.18255615234375,
          80.76234436035156,
          59.79959487915039
         ],
         "y": [
          56.52866744995117,
          -10.084067344665527,
          -104.85579681396484,
          -85.04357147216797,
          -57.7209587097168,
          56.52866744995117
         ]
        }
       ],
       "layout": {
        "coloraxis": {
         "colorbar": {
          "title": {
           "text": "cluster"
          }
         },
         "colorscale": [
          [
           0,
           "#0d0887"
          ],
          [
           0.1111111111111111,
           "#46039f"
          ],
          [
           0.2222222222222222,
           "#7201a8"
          ],
          [
           0.3333333333333333,
           "#9c179e"
          ],
          [
           0.4444444444444444,
           "#bd3786"
          ],
          [
           0.5555555555555556,
           "#d8576b"
          ],
          [
           0.6666666666666666,
           "#ed7953"
          ],
          [
           0.7777777777777778,
           "#fb9f3a"
          ],
          [
           0.8888888888888888,
           "#fdca26"
          ],
          [
           1,
           "#f0f921"
          ]
         ]
        },
        "height": 600,
        "legend": {
         "title": {
          "text": "cluster"
         },
         "tracegroupgap": 0
        },
        "margin": {
         "t": 60
        },
        "template": {
         "data": {
          "bar": [
           {
            "error_x": {
             "color": "#2a3f5f"
            },
            "error_y": {
             "color": "#2a3f5f"
            },
            "marker": {
             "line": {
              "color": "#E5ECF6",
              "width": 0.5
             },
             "pattern": {
              "fillmode": "overlay",
              "size": 10,
              "solidity": 0.2
             }
            },
            "type": "bar"
           }
          ],
          "barpolar": [
           {
            "marker": {
             "line": {
              "color": "#E5ECF6",
              "width": 0.5
             },
             "pattern": {
              "fillmode": "overlay",
              "size": 10,
              "solidity": 0.2
             }
            },
            "type": "barpolar"
           }
          ],
          "carpet": [
           {
            "aaxis": {
             "endlinecolor": "#2a3f5f",
             "gridcolor": "white",
             "linecolor": "white",
             "minorgridcolor": "white",
             "startlinecolor": "#2a3f5f"
            },
            "baxis": {
             "endlinecolor": "#2a3f5f",
             "gridcolor": "white",
             "linecolor": "white",
             "minorgridcolor": "white",
             "startlinecolor": "#2a3f5f"
            },
            "type": "carpet"
           }
          ],
          "choropleth": [
           {
            "colorbar": {
             "outlinewidth": 0,
             "ticks": ""
            },
            "type": "choropleth"
           }
          ],
          "contour": [
           {
            "colorbar": {
             "outlinewidth": 0,
             "ticks": ""
            },
            "colorscale": [
             [
              0,
              "#0d0887"
             ],
             [
              0.1111111111111111,
              "#46039f"
             ],
             [
              0.2222222222222222,
              "#7201a8"
             ],
             [
              0.3333333333333333,
              "#9c179e"
             ],
             [
              0.4444444444444444,
              "#bd3786"
             ],
             [
              0.5555555555555556,
              "#d8576b"
             ],
             [
              0.6666666666666666,
              "#ed7953"
             ],
             [
              0.7777777777777778,
              "#fb9f3a"
             ],
             [
              0.8888888888888888,
              "#fdca26"
             ],
             [
              1,
              "#f0f921"
             ]
            ],
            "type": "contour"
           }
          ],
          "contourcarpet": [
           {
            "colorbar": {
             "outlinewidth": 0,
             "ticks": ""
            },
            "type": "contourcarpet"
           }
          ],
          "heatmap": [
           {
            "colorbar": {
             "outlinewidth": 0,
             "ticks": ""
            },
            "colorscale": [
             [
              0,
              "#0d0887"
             ],
             [
              0.1111111111111111,
              "#46039f"
             ],
             [
              0.2222222222222222,
              "#7201a8"
             ],
             [
              0.3333333333333333,
              "#9c179e"
             ],
             [
              0.4444444444444444,
              "#bd3786"
             ],
             [
              0.5555555555555556,
              "#d8576b"
             ],
             [
              0.6666666666666666,
              "#ed7953"
             ],
             [
              0.7777777777777778,
              "#fb9f3a"
             ],
             [
              0.8888888888888888,
              "#fdca26"
             ],
             [
              1,
              "#f0f921"
             ]
            ],
            "type": "heatmap"
           }
          ],
          "heatmapgl": [
           {
            "colorbar": {
             "outlinewidth": 0,
             "ticks": ""
            },
            "colorscale": [
             [
              0,
              "#0d0887"
             ],
             [
              0.1111111111111111,
              "#46039f"
             ],
             [
              0.2222222222222222,
              "#7201a8"
             ],
             [
              0.3333333333333333,
              "#9c179e"
             ],
             [
              0.4444444444444444,
              "#bd3786"
             ],
             [
              0.5555555555555556,
              "#d8576b"
             ],
             [
              0.6666666666666666,
              "#ed7953"
             ],
             [
              0.7777777777777778,
              "#fb9f3a"
             ],
             [
              0.8888888888888888,
              "#fdca26"
             ],
             [
              1,
              "#f0f921"
             ]
            ],
            "type": "heatmapgl"
           }
          ],
          "histogram": [
           {
            "marker": {
             "pattern": {
              "fillmode": "overlay",
              "size": 10,
              "solidity": 0.2
             }
            },
            "type": "histogram"
           }
          ],
          "histogram2d": [
           {
            "colorbar": {
             "outlinewidth": 0,
             "ticks": ""
            },
            "colorscale": [
             [
              0,
              "#0d0887"
             ],
             [
              0.1111111111111111,
              "#46039f"
             ],
             [
              0.2222222222222222,
              "#7201a8"
             ],
             [
              0.3333333333333333,
              "#9c179e"
             ],
             [
              0.4444444444444444,
              "#bd3786"
             ],
             [
              0.5555555555555556,
              "#d8576b"
             ],
             [
              0.6666666666666666,
              "#ed7953"
             ],
             [
              0.7777777777777778,
              "#fb9f3a"
             ],
             [
              0.8888888888888888,
              "#fdca26"
             ],
             [
              1,
              "#f0f921"
             ]
            ],
            "type": "histogram2d"
           }
          ],
          "histogram2dcontour": [
           {
            "colorbar": {
             "outlinewidth": 0,
             "ticks": ""
            },
            "colorscale": [
             [
              0,
              "#0d0887"
             ],
             [
              0.1111111111111111,
              "#46039f"
             ],
             [
              0.2222222222222222,
              "#7201a8"
             ],
             [
              0.3333333333333333,
              "#9c179e"
             ],
             [
              0.4444444444444444,
              "#bd3786"
             ],
             [
              0.5555555555555556,
              "#d8576b"
             ],
             [
              0.6666666666666666,
              "#ed7953"
             ],
             [
              0.7777777777777778,
              "#fb9f3a"
             ],
             [
              0.8888888888888888,
              "#fdca26"
             ],
             [
              1,
              "#f0f921"
             ]
            ],
            "type": "histogram2dcontour"
           }
          ],
          "mesh3d": [
           {
            "colorbar": {
             "outlinewidth": 0,
             "ticks": ""
            },
            "type": "mesh3d"
           }
          ],
          "parcoords": [
           {
            "line": {
             "colorbar": {
              "outlinewidth": 0,
              "ticks": ""
             }
            },
            "type": "parcoords"
           }
          ],
          "pie": [
           {
            "automargin": true,
            "type": "pie"
           }
          ],
          "scatter": [
           {
            "fillpattern": {
             "fillmode": "overlay",
             "size": 10,
             "solidity": 0.2
            },
            "type": "scatter"
           }
          ],
          "scatter3d": [
           {
            "line": {
             "colorbar": {
              "outlinewidth": 0,
              "ticks": ""
             }
            },
            "marker": {
             "colorbar": {
              "outlinewidth": 0,
              "ticks": ""
             }
            },
            "type": "scatter3d"
           }
          ],
          "scattercarpet": [
           {
            "marker": {
             "colorbar": {
              "outlinewidth": 0,
              "ticks": ""
             }
            },
            "type": "scattercarpet"
           }
          ],
          "scattergeo": [
           {
            "marker": {
             "colorbar": {
              "outlinewidth": 0,
              "ticks": ""
             }
            },
            "type": "scattergeo"
           }
          ],
          "scattergl": [
           {
            "marker": {
             "colorbar": {
              "outlinewidth": 0,
              "ticks": ""
             }
            },
            "type": "scattergl"
           }
          ],
          "scattermapbox": [
           {
            "marker": {
             "colorbar": {
              "outlinewidth": 0,
              "ticks": ""
             }
            },
            "type": "scattermapbox"
           }
          ],
          "scatterpolar": [
           {
            "marker": {
             "colorbar": {
              "outlinewidth": 0,
              "ticks": ""
             }
            },
            "type": "scatterpolar"
           }
          ],
          "scatterpolargl": [
           {
            "marker": {
             "colorbar": {
              "outlinewidth": 0,
              "ticks": ""
             }
            },
            "type": "scatterpolargl"
           }
          ],
          "scatterternary": [
           {
            "marker": {
             "colorbar": {
              "outlinewidth": 0,
              "ticks": ""
             }
            },
            "type": "scatterternary"
           }
          ],
          "surface": [
           {
            "colorbar": {
             "outlinewidth": 0,
             "ticks": ""
            },
            "colorscale": [
             [
              0,
              "#0d0887"
             ],
             [
              0.1111111111111111,
              "#46039f"
             ],
             [
              0.2222222222222222,
              "#7201a8"
             ],
             [
              0.3333333333333333,
              "#9c179e"
             ],
             [
              0.4444444444444444,
              "#bd3786"
             ],
             [
              0.5555555555555556,
              "#d8576b"
             ],
             [
              0.6666666666666666,
              "#ed7953"
             ],
             [
              0.7777777777777778,
              "#fb9f3a"
             ],
             [
              0.8888888888888888,
              "#fdca26"
             ],
             [
              1,
              "#f0f921"
             ]
            ],
            "type": "surface"
           }
          ],
          "table": [
           {
            "cells": {
             "fill": {
              "color": "#EBF0F8"
             },
             "line": {
              "color": "white"
             }
            },
            "header": {
             "fill": {
              "color": "#C8D4E3"
             },
             "line": {
              "color": "white"
             }
            },
            "type": "table"
           }
          ]
         },
         "layout": {
          "annotationdefaults": {
           "arrowcolor": "#2a3f5f",
           "arrowhead": 0,
           "arrowwidth": 1
          },
          "autotypenumbers": "strict",
          "coloraxis": {
           "colorbar": {
            "outlinewidth": 0,
            "ticks": ""
           }
          },
          "colorscale": {
           "diverging": [
            [
             0,
             "#8e0152"
            ],
            [
             0.1,
             "#c51b7d"
            ],
            [
             0.2,
             "#de77ae"
            ],
            [
             0.3,
             "#f1b6da"
            ],
            [
             0.4,
             "#fde0ef"
            ],
            [
             0.5,
             "#f7f7f7"
            ],
            [
             0.6,
             "#e6f5d0"
            ],
            [
             0.7,
             "#b8e186"
            ],
            [
             0.8,
             "#7fbc41"
            ],
            [
             0.9,
             "#4d9221"
            ],
            [
             1,
             "#276419"
            ]
           ],
           "sequential": [
            [
             0,
             "#0d0887"
            ],
            [
             0.1111111111111111,
             "#46039f"
            ],
            [
             0.2222222222222222,
             "#7201a8"
            ],
            [
             0.3333333333333333,
             "#9c179e"
            ],
            [
             0.4444444444444444,
             "#bd3786"
            ],
            [
             0.5555555555555556,
             "#d8576b"
            ],
            [
             0.6666666666666666,
             "#ed7953"
            ],
            [
             0.7777777777777778,
             "#fb9f3a"
            ],
            [
             0.8888888888888888,
             "#fdca26"
            ],
            [
             1,
             "#f0f921"
            ]
           ],
           "sequentialminus": [
            [
             0,
             "#0d0887"
            ],
            [
             0.1111111111111111,
             "#46039f"
            ],
            [
             0.2222222222222222,
             "#7201a8"
            ],
            [
             0.3333333333333333,
             "#9c179e"
            ],
            [
             0.4444444444444444,
             "#bd3786"
            ],
            [
             0.5555555555555556,
             "#d8576b"
            ],
            [
             0.6666666666666666,
             "#ed7953"
            ],
            [
             0.7777777777777778,
             "#fb9f3a"
            ],
            [
             0.8888888888888888,
             "#fdca26"
            ],
            [
             1,
             "#f0f921"
            ]
           ]
          },
          "colorway": [
           "#636efa",
           "#EF553B",
           "#00cc96",
           "#ab63fa",
           "#FFA15A",
           "#19d3f3",
           "#FF6692",
           "#B6E880",
           "#FF97FF",
           "#FECB52"
          ],
          "font": {
           "color": "#2a3f5f"
          },
          "geo": {
           "bgcolor": "white",
           "lakecolor": "white",
           "landcolor": "#E5ECF6",
           "showlakes": true,
           "showland": true,
           "subunitcolor": "white"
          },
          "hoverlabel": {
           "align": "left"
          },
          "hovermode": "closest",
          "mapbox": {
           "style": "light"
          },
          "paper_bgcolor": "white",
          "plot_bgcolor": "#E5ECF6",
          "polar": {
           "angularaxis": {
            "gridcolor": "white",
            "linecolor": "white",
            "ticks": ""
           },
           "bgcolor": "#E5ECF6",
           "radialaxis": {
            "gridcolor": "white",
            "linecolor": "white",
            "ticks": ""
           }
          },
          "scene": {
           "xaxis": {
            "backgroundcolor": "#E5ECF6",
            "gridcolor": "white",
            "gridwidth": 2,
            "linecolor": "white",
            "showbackground": true,
            "ticks": "",
            "zerolinecolor": "white"
           },
           "yaxis": {
            "backgroundcolor": "#E5ECF6",
            "gridcolor": "white",
            "gridwidth": 2,
            "linecolor": "white",
            "showbackground": true,
            "ticks": "",
            "zerolinecolor": "white"
           },
           "zaxis": {
            "backgroundcolor": "#E5ECF6",
            "gridcolor": "white",
            "gridwidth": 2,
            "linecolor": "white",
            "showbackground": true,
            "ticks": "",
            "zerolinecolor": "white"
           }
          },
          "shapedefaults": {
           "line": {
            "color": "#2a3f5f"
           }
          },
          "ternary": {
           "aaxis": {
            "gridcolor": "white",
            "linecolor": "white",
            "ticks": ""
           },
           "baxis": {
            "gridcolor": "white",
            "linecolor": "white",
            "ticks": ""
           },
           "bgcolor": "#E5ECF6",
           "caxis": {
            "gridcolor": "white",
            "linecolor": "white",
            "ticks": ""
           }
          },
          "title": {
           "x": 0.05
          },
          "xaxis": {
           "automargin": true,
           "gridcolor": "white",
           "linecolor": "white",
           "ticks": "",
           "title": {
            "standoff": 15
           },
           "zerolinecolor": "white",
           "zerolinewidth": 2
          },
          "yaxis": {
           "automargin": true,
           "gridcolor": "white",
           "linecolor": "white",
           "ticks": "",
           "title": {
            "standoff": 15
           },
           "zerolinecolor": "white",
           "zerolinewidth": 2
          }
         }
        },
        "width": 800,
        "xaxis": {
         "anchor": "y",
         "domain": [
          0,
          1
         ],
         "title": {
          "text": "tsne1"
         }
        },
        "yaxis": {
         "anchor": "x",
         "domain": [
          0,
          1
         ],
         "title": {
          "text": "tsne2"
         }
        }
       }
      }
     },
     "metadata": {},
     "output_type": "display_data"
    }
   ],
   "source": [
    "twoD_data_creation_with_boundaries(df['Cluster'].values, scaled_data)\n"
   ]
  },
  {
   "cell_type": "code",
   "execution_count": 247,
   "metadata": {},
   "outputs": [
    {
     "data": {
      "application/vnd.plotly.v1+json": {
       "config": {
        "plotlyServerURL": "https://plot.ly"
       },
       "data": [
        {
         "hovertemplate": "cluster=%{marker.color}<br>pca1=%{x}<br>pca2=%{y}<extra></extra>",
         "legendgroup": "1",
         "marker": {
          "color": [
           1,
           1,
           1,
           1,
           1,
           1,
           1,
           1,
           1,
           1,
           1,
           1,
           1,
           1,
           1,
           1,
           1,
           1,
           1,
           1,
           1
          ],
          "coloraxis": "coloraxis",
          "size": 10,
          "symbol": "circle"
         },
         "mode": "markers",
         "name": "1",
         "orientation": "v",
         "showlegend": true,
         "type": "scatter",
         "x": [
          -1.0765833099893067,
          -1.4015330966018937,
          -2.2245059573589283,
          -0.7633625291060566,
          -1.3540033659117636,
          -1.4223766381012335,
          -0.44677887785896375,
          -0.7164666389943564,
          -0.6478436816688061,
          -1.6368405807729778,
          -0.8873747340764321,
          -0.8813355064340119,
          -2.299799324524018,
          -1.9985934755121937,
          -1.094327591088937,
          -0.7524843181642689,
          -1.044139934611901,
          -0.47449602090692083,
          -2.010194102749414,
          -0.8394319303344168,
          -0.39892038654854073
         ],
         "xaxis": "x",
         "y": [
          0.18617677895479795,
          0.05169817933110477,
          -0.9233999606212808,
          0.23868084666485428,
          -1.0218753824279818,
          -0.18486084390488305,
          0.9860148240536003,
          0.06485314650332995,
          -0.18405533431825152,
          0.5543219455994982,
          0.8789362276948313,
          -0.1760996295316882,
          -0.9360504524667356,
          -0.21823603195406896,
          0.15859328637587358,
          -0.26220044428455047,
          0.1937898693651198,
          0.2795868539474586,
          -0.18372235969469752,
          -0.005033778543446189,
          0.38069637780467447
         ],
         "yaxis": "y"
        },
        {
         "hovertemplate": "cluster=%{marker.color}<br>pca1=%{x}<br>pca2=%{y}<extra></extra>",
         "legendgroup": "0",
         "marker": {
          "color": [
           0,
           0,
           0,
           0,
           0,
           0
          ],
          "coloraxis": "coloraxis",
          "size": 10,
          "symbol": "diamond"
         },
         "mode": "markers",
         "name": "0",
         "orientation": "v",
         "showlegend": true,
         "type": "scatter",
         "x": [
          2.425075409540238,
          1.0268947681388407,
          1.4449092731426592,
          1.3021663608671168,
          2.0854647496271177,
          2.423446235171034
         ],
         "xaxis": "x",
         "y": [
          0.8382253713156901,
          1.0716093596236576,
          0.49794381944516464,
          0.948106327810558,
          2.1671814769797098,
          3.0565879806641543
         ],
         "yaxis": "y"
        },
        {
         "hovertemplate": "cluster=%{marker.color}<br>pca1=%{x}<br>pca2=%{y}<extra></extra>",
         "legendgroup": "2",
         "marker": {
          "color": [
           2,
           2,
           2,
           2,
           2,
           2,
           2,
           2,
           2,
           2
          ],
          "coloraxis": "coloraxis",
          "size": 10,
          "symbol": "square"
         },
         "mode": "markers",
         "name": "2",
         "orientation": "v",
         "showlegend": true,
         "type": "scatter",
         "x": [
          1.1194709537586354,
          0.2605103910889871,
          -0.17283064499140482,
          2.1976052002600373,
          3.0579566568861276,
          2.0378357718038713,
          2.721166813730775,
          -0.03353022918676195,
          2.5563867061398278,
          -0.08113641466175904
         ],
         "xaxis": "x",
         "y": [
          0.13749930870021912,
          -0.0772917558783732,
          0.11541451898668698,
          -2.127901799572767,
          -1.2843507548372763,
          -2.574838785371588,
          -1.7045080935672947,
          0.1125313152661875,
          -0.972823006079835,
          -0.08119940203245253
         ],
         "yaxis": "y"
        },
        {
         "line": {
          "color": "black"
         },
         "mode": "lines",
         "name": "Boundary Cluster 1",
         "type": "scatter",
         "x": [
          -2.299799324524018,
          -1.3540033659117636,
          -0.6478436816688061,
          -0.39892038654854073,
          -0.44677887785896375,
          -0.8873747340764321,
          -1.6368405807729778,
          -2.010194102749414,
          -2.299799324524018
         ],
         "y": [
          -0.9360504524667356,
          -1.0218753824279818,
          -0.18405533431825152,
          0.38069637780467447,
          0.9860148240536003,
          0.8789362276948313,
          0.5543219455994982,
          -0.18372235969469752,
          -0.9360504524667356
         ]
        },
        {
         "line": {
          "color": "black"
         },
         "mode": "lines",
         "name": "Boundary Cluster 0",
         "type": "scatter",
         "x": [
          2.423446235171034,
          1.0268947681388407,
          1.4449092731426592,
          2.425075409540238,
          2.423446235171034
         ],
         "y": [
          3.0565879806641543,
          1.0716093596236576,
          0.49794381944516464,
          0.8382253713156901,
          3.0565879806641543
         ]
        },
        {
         "line": {
          "color": "black"
         },
         "mode": "lines",
         "name": "Boundary Cluster 2",
         "type": "scatter",
         "x": [
          2.0378357718038713,
          3.0579566568861276,
          1.1194709537586354,
          -0.17283064499140482,
          -0.08113641466175904,
          2.0378357718038713
         ],
         "y": [
          -2.574838785371588,
          -1.2843507548372763,
          0.13749930870021912,
          0.11541451898668698,
          -0.08119940203245253,
          -2.574838785371588
         ]
        }
       ],
       "layout": {
        "coloraxis": {
         "colorbar": {
          "title": {
           "text": "cluster"
          }
         },
         "colorscale": [
          [
           0,
           "#0d0887"
          ],
          [
           0.1111111111111111,
           "#46039f"
          ],
          [
           0.2222222222222222,
           "#7201a8"
          ],
          [
           0.3333333333333333,
           "#9c179e"
          ],
          [
           0.4444444444444444,
           "#bd3786"
          ],
          [
           0.5555555555555556,
           "#d8576b"
          ],
          [
           0.6666666666666666,
           "#ed7953"
          ],
          [
           0.7777777777777778,
           "#fb9f3a"
          ],
          [
           0.8888888888888888,
           "#fdca26"
          ],
          [
           1,
           "#f0f921"
          ]
         ]
        },
        "height": 600,
        "legend": {
         "title": {
          "text": "cluster"
         },
         "tracegroupgap": 0
        },
        "margin": {
         "t": 60
        },
        "template": {
         "data": {
          "bar": [
           {
            "error_x": {
             "color": "#2a3f5f"
            },
            "error_y": {
             "color": "#2a3f5f"
            },
            "marker": {
             "line": {
              "color": "#E5ECF6",
              "width": 0.5
             },
             "pattern": {
              "fillmode": "overlay",
              "size": 10,
              "solidity": 0.2
             }
            },
            "type": "bar"
           }
          ],
          "barpolar": [
           {
            "marker": {
             "line": {
              "color": "#E5ECF6",
              "width": 0.5
             },
             "pattern": {
              "fillmode": "overlay",
              "size": 10,
              "solidity": 0.2
             }
            },
            "type": "barpolar"
           }
          ],
          "carpet": [
           {
            "aaxis": {
             "endlinecolor": "#2a3f5f",
             "gridcolor": "white",
             "linecolor": "white",
             "minorgridcolor": "white",
             "startlinecolor": "#2a3f5f"
            },
            "baxis": {
             "endlinecolor": "#2a3f5f",
             "gridcolor": "white",
             "linecolor": "white",
             "minorgridcolor": "white",
             "startlinecolor": "#2a3f5f"
            },
            "type": "carpet"
           }
          ],
          "choropleth": [
           {
            "colorbar": {
             "outlinewidth": 0,
             "ticks": ""
            },
            "type": "choropleth"
           }
          ],
          "contour": [
           {
            "colorbar": {
             "outlinewidth": 0,
             "ticks": ""
            },
            "colorscale": [
             [
              0,
              "#0d0887"
             ],
             [
              0.1111111111111111,
              "#46039f"
             ],
             [
              0.2222222222222222,
              "#7201a8"
             ],
             [
              0.3333333333333333,
              "#9c179e"
             ],
             [
              0.4444444444444444,
              "#bd3786"
             ],
             [
              0.5555555555555556,
              "#d8576b"
             ],
             [
              0.6666666666666666,
              "#ed7953"
             ],
             [
              0.7777777777777778,
              "#fb9f3a"
             ],
             [
              0.8888888888888888,
              "#fdca26"
             ],
             [
              1,
              "#f0f921"
             ]
            ],
            "type": "contour"
           }
          ],
          "contourcarpet": [
           {
            "colorbar": {
             "outlinewidth": 0,
             "ticks": ""
            },
            "type": "contourcarpet"
           }
          ],
          "heatmap": [
           {
            "colorbar": {
             "outlinewidth": 0,
             "ticks": ""
            },
            "colorscale": [
             [
              0,
              "#0d0887"
             ],
             [
              0.1111111111111111,
              "#46039f"
             ],
             [
              0.2222222222222222,
              "#7201a8"
             ],
             [
              0.3333333333333333,
              "#9c179e"
             ],
             [
              0.4444444444444444,
              "#bd3786"
             ],
             [
              0.5555555555555556,
              "#d8576b"
             ],
             [
              0.6666666666666666,
              "#ed7953"
             ],
             [
              0.7777777777777778,
              "#fb9f3a"
             ],
             [
              0.8888888888888888,
              "#fdca26"
             ],
             [
              1,
              "#f0f921"
             ]
            ],
            "type": "heatmap"
           }
          ],
          "heatmapgl": [
           {
            "colorbar": {
             "outlinewidth": 0,
             "ticks": ""
            },
            "colorscale": [
             [
              0,
              "#0d0887"
             ],
             [
              0.1111111111111111,
              "#46039f"
             ],
             [
              0.2222222222222222,
              "#7201a8"
             ],
             [
              0.3333333333333333,
              "#9c179e"
             ],
             [
              0.4444444444444444,
              "#bd3786"
             ],
             [
              0.5555555555555556,
              "#d8576b"
             ],
             [
              0.6666666666666666,
              "#ed7953"
             ],
             [
              0.7777777777777778,
              "#fb9f3a"
             ],
             [
              0.8888888888888888,
              "#fdca26"
             ],
             [
              1,
              "#f0f921"
             ]
            ],
            "type": "heatmapgl"
           }
          ],
          "histogram": [
           {
            "marker": {
             "pattern": {
              "fillmode": "overlay",
              "size": 10,
              "solidity": 0.2
             }
            },
            "type": "histogram"
           }
          ],
          "histogram2d": [
           {
            "colorbar": {
             "outlinewidth": 0,
             "ticks": ""
            },
            "colorscale": [
             [
              0,
              "#0d0887"
             ],
             [
              0.1111111111111111,
              "#46039f"
             ],
             [
              0.2222222222222222,
              "#7201a8"
             ],
             [
              0.3333333333333333,
              "#9c179e"
             ],
             [
              0.4444444444444444,
              "#bd3786"
             ],
             [
              0.5555555555555556,
              "#d8576b"
             ],
             [
              0.6666666666666666,
              "#ed7953"
             ],
             [
              0.7777777777777778,
              "#fb9f3a"
             ],
             [
              0.8888888888888888,
              "#fdca26"
             ],
             [
              1,
              "#f0f921"
             ]
            ],
            "type": "histogram2d"
           }
          ],
          "histogram2dcontour": [
           {
            "colorbar": {
             "outlinewidth": 0,
             "ticks": ""
            },
            "colorscale": [
             [
              0,
              "#0d0887"
             ],
             [
              0.1111111111111111,
              "#46039f"
             ],
             [
              0.2222222222222222,
              "#7201a8"
             ],
             [
              0.3333333333333333,
              "#9c179e"
             ],
             [
              0.4444444444444444,
              "#bd3786"
             ],
             [
              0.5555555555555556,
              "#d8576b"
             ],
             [
              0.6666666666666666,
              "#ed7953"
             ],
             [
              0.7777777777777778,
              "#fb9f3a"
             ],
             [
              0.8888888888888888,
              "#fdca26"
             ],
             [
              1,
              "#f0f921"
             ]
            ],
            "type": "histogram2dcontour"
           }
          ],
          "mesh3d": [
           {
            "colorbar": {
             "outlinewidth": 0,
             "ticks": ""
            },
            "type": "mesh3d"
           }
          ],
          "parcoords": [
           {
            "line": {
             "colorbar": {
              "outlinewidth": 0,
              "ticks": ""
             }
            },
            "type": "parcoords"
           }
          ],
          "pie": [
           {
            "automargin": true,
            "type": "pie"
           }
          ],
          "scatter": [
           {
            "fillpattern": {
             "fillmode": "overlay",
             "size": 10,
             "solidity": 0.2
            },
            "type": "scatter"
           }
          ],
          "scatter3d": [
           {
            "line": {
             "colorbar": {
              "outlinewidth": 0,
              "ticks": ""
             }
            },
            "marker": {
             "colorbar": {
              "outlinewidth": 0,
              "ticks": ""
             }
            },
            "type": "scatter3d"
           }
          ],
          "scattercarpet": [
           {
            "marker": {
             "colorbar": {
              "outlinewidth": 0,
              "ticks": ""
             }
            },
            "type": "scattercarpet"
           }
          ],
          "scattergeo": [
           {
            "marker": {
             "colorbar": {
              "outlinewidth": 0,
              "ticks": ""
             }
            },
            "type": "scattergeo"
           }
          ],
          "scattergl": [
           {
            "marker": {
             "colorbar": {
              "outlinewidth": 0,
              "ticks": ""
             }
            },
            "type": "scattergl"
           }
          ],
          "scattermapbox": [
           {
            "marker": {
             "colorbar": {
              "outlinewidth": 0,
              "ticks": ""
             }
            },
            "type": "scattermapbox"
           }
          ],
          "scatterpolar": [
           {
            "marker": {
             "colorbar": {
              "outlinewidth": 0,
              "ticks": ""
             }
            },
            "type": "scatterpolar"
           }
          ],
          "scatterpolargl": [
           {
            "marker": {
             "colorbar": {
              "outlinewidth": 0,
              "ticks": ""
             }
            },
            "type": "scatterpolargl"
           }
          ],
          "scatterternary": [
           {
            "marker": {
             "colorbar": {
              "outlinewidth": 0,
              "ticks": ""
             }
            },
            "type": "scatterternary"
           }
          ],
          "surface": [
           {
            "colorbar": {
             "outlinewidth": 0,
             "ticks": ""
            },
            "colorscale": [
             [
              0,
              "#0d0887"
             ],
             [
              0.1111111111111111,
              "#46039f"
             ],
             [
              0.2222222222222222,
              "#7201a8"
             ],
             [
              0.3333333333333333,
              "#9c179e"
             ],
             [
              0.4444444444444444,
              "#bd3786"
             ],
             [
              0.5555555555555556,
              "#d8576b"
             ],
             [
              0.6666666666666666,
              "#ed7953"
             ],
             [
              0.7777777777777778,
              "#fb9f3a"
             ],
             [
              0.8888888888888888,
              "#fdca26"
             ],
             [
              1,
              "#f0f921"
             ]
            ],
            "type": "surface"
           }
          ],
          "table": [
           {
            "cells": {
             "fill": {
              "color": "#EBF0F8"
             },
             "line": {
              "color": "white"
             }
            },
            "header": {
             "fill": {
              "color": "#C8D4E3"
             },
             "line": {
              "color": "white"
             }
            },
            "type": "table"
           }
          ]
         },
         "layout": {
          "annotationdefaults": {
           "arrowcolor": "#2a3f5f",
           "arrowhead": 0,
           "arrowwidth": 1
          },
          "autotypenumbers": "strict",
          "coloraxis": {
           "colorbar": {
            "outlinewidth": 0,
            "ticks": ""
           }
          },
          "colorscale": {
           "diverging": [
            [
             0,
             "#8e0152"
            ],
            [
             0.1,
             "#c51b7d"
            ],
            [
             0.2,
             "#de77ae"
            ],
            [
             0.3,
             "#f1b6da"
            ],
            [
             0.4,
             "#fde0ef"
            ],
            [
             0.5,
             "#f7f7f7"
            ],
            [
             0.6,
             "#e6f5d0"
            ],
            [
             0.7,
             "#b8e186"
            ],
            [
             0.8,
             "#7fbc41"
            ],
            [
             0.9,
             "#4d9221"
            ],
            [
             1,
             "#276419"
            ]
           ],
           "sequential": [
            [
             0,
             "#0d0887"
            ],
            [
             0.1111111111111111,
             "#46039f"
            ],
            [
             0.2222222222222222,
             "#7201a8"
            ],
            [
             0.3333333333333333,
             "#9c179e"
            ],
            [
             0.4444444444444444,
             "#bd3786"
            ],
            [
             0.5555555555555556,
             "#d8576b"
            ],
            [
             0.6666666666666666,
             "#ed7953"
            ],
            [
             0.7777777777777778,
             "#fb9f3a"
            ],
            [
             0.8888888888888888,
             "#fdca26"
            ],
            [
             1,
             "#f0f921"
            ]
           ],
           "sequentialminus": [
            [
             0,
             "#0d0887"
            ],
            [
             0.1111111111111111,
             "#46039f"
            ],
            [
             0.2222222222222222,
             "#7201a8"
            ],
            [
             0.3333333333333333,
             "#9c179e"
            ],
            [
             0.4444444444444444,
             "#bd3786"
            ],
            [
             0.5555555555555556,
             "#d8576b"
            ],
            [
             0.6666666666666666,
             "#ed7953"
            ],
            [
             0.7777777777777778,
             "#fb9f3a"
            ],
            [
             0.8888888888888888,
             "#fdca26"
            ],
            [
             1,
             "#f0f921"
            ]
           ]
          },
          "colorway": [
           "#636efa",
           "#EF553B",
           "#00cc96",
           "#ab63fa",
           "#FFA15A",
           "#19d3f3",
           "#FF6692",
           "#B6E880",
           "#FF97FF",
           "#FECB52"
          ],
          "font": {
           "color": "#2a3f5f"
          },
          "geo": {
           "bgcolor": "white",
           "lakecolor": "white",
           "landcolor": "#E5ECF6",
           "showlakes": true,
           "showland": true,
           "subunitcolor": "white"
          },
          "hoverlabel": {
           "align": "left"
          },
          "hovermode": "closest",
          "mapbox": {
           "style": "light"
          },
          "paper_bgcolor": "white",
          "plot_bgcolor": "#E5ECF6",
          "polar": {
           "angularaxis": {
            "gridcolor": "white",
            "linecolor": "white",
            "ticks": ""
           },
           "bgcolor": "#E5ECF6",
           "radialaxis": {
            "gridcolor": "white",
            "linecolor": "white",
            "ticks": ""
           }
          },
          "scene": {
           "xaxis": {
            "backgroundcolor": "#E5ECF6",
            "gridcolor": "white",
            "gridwidth": 2,
            "linecolor": "white",
            "showbackground": true,
            "ticks": "",
            "zerolinecolor": "white"
           },
           "yaxis": {
            "backgroundcolor": "#E5ECF6",
            "gridcolor": "white",
            "gridwidth": 2,
            "linecolor": "white",
            "showbackground": true,
            "ticks": "",
            "zerolinecolor": "white"
           },
           "zaxis": {
            "backgroundcolor": "#E5ECF6",
            "gridcolor": "white",
            "gridwidth": 2,
            "linecolor": "white",
            "showbackground": true,
            "ticks": "",
            "zerolinecolor": "white"
           }
          },
          "shapedefaults": {
           "line": {
            "color": "#2a3f5f"
           }
          },
          "ternary": {
           "aaxis": {
            "gridcolor": "white",
            "linecolor": "white",
            "ticks": ""
           },
           "baxis": {
            "gridcolor": "white",
            "linecolor": "white",
            "ticks": ""
           },
           "bgcolor": "#E5ECF6",
           "caxis": {
            "gridcolor": "white",
            "linecolor": "white",
            "ticks": ""
           }
          },
          "title": {
           "x": 0.05
          },
          "xaxis": {
           "automargin": true,
           "gridcolor": "white",
           "linecolor": "white",
           "ticks": "",
           "title": {
            "standoff": 15
           },
           "zerolinecolor": "white",
           "zerolinewidth": 2
          },
          "yaxis": {
           "automargin": true,
           "gridcolor": "white",
           "linecolor": "white",
           "ticks": "",
           "title": {
            "standoff": 15
           },
           "zerolinecolor": "white",
           "zerolinewidth": 2
          }
         }
        },
        "width": 800,
        "xaxis": {
         "anchor": "y",
         "domain": [
          0,
          1
         ],
         "title": {
          "text": "pca1"
         }
        },
        "yaxis": {
         "anchor": "x",
         "domain": [
          0,
          1
         ],
         "title": {
          "text": "pca2"
         }
        }
       }
      }
     },
     "metadata": {},
     "output_type": "display_data"
    }
   ],
   "source": [
    "pca_2d(df['Cluster'].values, scaled_data)\n"
   ]
  },
  {
   "cell_type": "code",
   "execution_count": null,
   "metadata": {},
   "outputs": [],
   "source": []
  },
  {
   "cell_type": "code",
   "execution_count": 227,
   "metadata": {},
   "outputs": [
    {
     "data": {
      "text/html": [
       "<div>\n",
       "<style scoped>\n",
       "    .dataframe tbody tr th:only-of-type {\n",
       "        vertical-align: middle;\n",
       "    }\n",
       "\n",
       "    .dataframe tbody tr th {\n",
       "        vertical-align: top;\n",
       "    }\n",
       "\n",
       "    .dataframe thead th {\n",
       "        text-align: right;\n",
       "    }\n",
       "</style>\n",
       "<table border=\"1\" class=\"dataframe\">\n",
       "  <thead>\n",
       "    <tr style=\"text-align: right;\">\n",
       "      <th></th>\n",
       "      <th>household_median_income</th>\n",
       "      <th>Area (Land, in square miles)</th>\n",
       "      <th>population_density</th>\n",
       "      <th>Cluster</th>\n",
       "      <th>cluster</th>\n",
       "    </tr>\n",
       "  </thead>\n",
       "  <tbody>\n",
       "    <tr>\n",
       "      <th>0</th>\n",
       "      <td>67323.0</td>\n",
       "      <td>11.180</td>\n",
       "      <td>3399.821109</td>\n",
       "      <td>5.551115e-17</td>\n",
       "      <td>1</td>\n",
       "    </tr>\n",
       "    <tr>\n",
       "      <th>1</th>\n",
       "      <td>61910.0</td>\n",
       "      <td>4.177</td>\n",
       "      <td>3314.340436</td>\n",
       "      <td>5.551115e-17</td>\n",
       "      <td>1</td>\n",
       "    </tr>\n",
       "    <tr>\n",
       "      <th>2</th>\n",
       "      <td>69512.0</td>\n",
       "      <td>4.767</td>\n",
       "      <td>6322.215230</td>\n",
       "      <td>5.551115e-17</td>\n",
       "      <td>1</td>\n",
       "    </tr>\n",
       "    <tr>\n",
       "      <th>3</th>\n",
       "      <td>70301.0</td>\n",
       "      <td>9.857</td>\n",
       "      <td>2585.472253</td>\n",
       "      <td>5.551115e-17</td>\n",
       "      <td>1</td>\n",
       "    </tr>\n",
       "    <tr>\n",
       "      <th>4</th>\n",
       "      <td>83773.0</td>\n",
       "      <td>3.406</td>\n",
       "      <td>4707.574868</td>\n",
       "      <td>5.551115e-17</td>\n",
       "      <td>1</td>\n",
       "    </tr>\n",
       "    <tr>\n",
       "      <th>5</th>\n",
       "      <td>100264.0</td>\n",
       "      <td>41.681</td>\n",
       "      <td>694.681030</td>\n",
       "      <td>1.000000e+00</td>\n",
       "      <td>0</td>\n",
       "    </tr>\n",
       "    <tr>\n",
       "      <th>6</th>\n",
       "      <td>67542.0</td>\n",
       "      <td>6.736</td>\n",
       "      <td>4019.893112</td>\n",
       "      <td>5.551115e-17</td>\n",
       "      <td>1</td>\n",
       "    </tr>\n",
       "    <tr>\n",
       "      <th>7</th>\n",
       "      <td>63180.0</td>\n",
       "      <td>16.592</td>\n",
       "      <td>1752.772420</td>\n",
       "      <td>5.551115e-17</td>\n",
       "      <td>1</td>\n",
       "    </tr>\n",
       "    <tr>\n",
       "      <th>8</th>\n",
       "      <td>77383.0</td>\n",
       "      <td>16.045</td>\n",
       "      <td>3529.261452</td>\n",
       "      <td>5.551115e-17</td>\n",
       "      <td>1</td>\n",
       "    </tr>\n",
       "    <tr>\n",
       "      <th>9</th>\n",
       "      <td>81041.0</td>\n",
       "      <td>11.033</td>\n",
       "      <td>3142.481646</td>\n",
       "      <td>5.551115e-17</td>\n",
       "      <td>1</td>\n",
       "    </tr>\n",
       "    <tr>\n",
       "      <th>10</th>\n",
       "      <td>87715.0</td>\n",
       "      <td>26.307</td>\n",
       "      <td>2183.487285</td>\n",
       "      <td>1.000000e+00</td>\n",
       "      <td>2</td>\n",
       "    </tr>\n",
       "    <tr>\n",
       "      <th>11</th>\n",
       "      <td>93004.0</td>\n",
       "      <td>12.346</td>\n",
       "      <td>1491.900211</td>\n",
       "      <td>5.551115e-17</td>\n",
       "      <td>2</td>\n",
       "    </tr>\n",
       "    <tr>\n",
       "      <th>12</th>\n",
       "      <td>82927.0</td>\n",
       "      <td>12.815</td>\n",
       "      <td>2058.603199</td>\n",
       "      <td>5.551115e-17</td>\n",
       "      <td>2</td>\n",
       "    </tr>\n",
       "    <tr>\n",
       "      <th>13</th>\n",
       "      <td>49826.0</td>\n",
       "      <td>7.343</td>\n",
       "      <td>3401.879341</td>\n",
       "      <td>5.551115e-17</td>\n",
       "      <td>1</td>\n",
       "    </tr>\n",
       "    <tr>\n",
       "      <th>14</th>\n",
       "      <td>120187.0</td>\n",
       "      <td>7.837</td>\n",
       "      <td>2059.716728</td>\n",
       "      <td>2.000000e+00</td>\n",
       "      <td>2</td>\n",
       "    </tr>\n",
       "    <tr>\n",
       "      <th>15</th>\n",
       "      <td>70338.0</td>\n",
       "      <td>32.110</td>\n",
       "      <td>1706.789162</td>\n",
       "      <td>1.000000e+00</td>\n",
       "      <td>0</td>\n",
       "    </tr>\n",
       "    <tr>\n",
       "      <th>16</th>\n",
       "      <td>56317.0</td>\n",
       "      <td>11.330</td>\n",
       "      <td>2055.957635</td>\n",
       "      <td>5.551115e-17</td>\n",
       "      <td>1</td>\n",
       "    </tr>\n",
       "    <tr>\n",
       "      <th>17</th>\n",
       "      <td>123210.0</td>\n",
       "      <td>23.100</td>\n",
       "      <td>1160.043290</td>\n",
       "      <td>2.000000e+00</td>\n",
       "      <td>2</td>\n",
       "    </tr>\n",
       "    <tr>\n",
       "      <th>18</th>\n",
       "      <td>75480.0</td>\n",
       "      <td>6.907</td>\n",
       "      <td>3040.828145</td>\n",
       "      <td>5.551115e-17</td>\n",
       "      <td>1</td>\n",
       "    </tr>\n",
       "    <tr>\n",
       "      <th>19</th>\n",
       "      <td>70435.0</td>\n",
       "      <td>8.579</td>\n",
       "      <td>6955.122975</td>\n",
       "      <td>5.551115e-17</td>\n",
       "      <td>1</td>\n",
       "    </tr>\n",
       "    <tr>\n",
       "      <th>20</th>\n",
       "      <td>89329.0</td>\n",
       "      <td>34.852</td>\n",
       "      <td>2129.174796</td>\n",
       "      <td>1.000000e+00</td>\n",
       "      <td>0</td>\n",
       "    </tr>\n",
       "    <tr>\n",
       "      <th>21</th>\n",
       "      <td>59757.0</td>\n",
       "      <td>6.953</td>\n",
       "      <td>5147.849849</td>\n",
       "      <td>5.551115e-17</td>\n",
       "      <td>1</td>\n",
       "    </tr>\n",
       "    <tr>\n",
       "      <th>22</th>\n",
       "      <td>66933.0</td>\n",
       "      <td>9.731</td>\n",
       "      <td>3291.439729</td>\n",
       "      <td>5.551115e-17</td>\n",
       "      <td>1</td>\n",
       "    </tr>\n",
       "    <tr>\n",
       "      <th>23</th>\n",
       "      <td>74712.0</td>\n",
       "      <td>27.442</td>\n",
       "      <td>801.690839</td>\n",
       "      <td>1.000000e+00</td>\n",
       "      <td>0</td>\n",
       "    </tr>\n",
       "    <tr>\n",
       "      <th>24</th>\n",
       "      <td>79850.0</td>\n",
       "      <td>8.466</td>\n",
       "      <td>3127.096622</td>\n",
       "      <td>5.551115e-17</td>\n",
       "      <td>1</td>\n",
       "    </tr>\n",
       "    <tr>\n",
       "      <th>25</th>\n",
       "      <td>127386.0</td>\n",
       "      <td>9.144</td>\n",
       "      <td>3171.150481</td>\n",
       "      <td>2.000000e+00</td>\n",
       "      <td>2</td>\n",
       "    </tr>\n",
       "    <tr>\n",
       "      <th>26</th>\n",
       "      <td>122102.0</td>\n",
       "      <td>13.441</td>\n",
       "      <td>1183.394093</td>\n",
       "      <td>2.000000e+00</td>\n",
       "      <td>2</td>\n",
       "    </tr>\n",
       "    <tr>\n",
       "      <th>27</th>\n",
       "      <td>83081.0</td>\n",
       "      <td>8.609</td>\n",
       "      <td>1282.378906</td>\n",
       "      <td>5.551115e-17</td>\n",
       "      <td>2</td>\n",
       "    </tr>\n",
       "    <tr>\n",
       "      <th>28</th>\n",
       "      <td>74314.0</td>\n",
       "      <td>53.902</td>\n",
       "      <td>892.026270</td>\n",
       "      <td>1.000000e+00</td>\n",
       "      <td>0</td>\n",
       "    </tr>\n",
       "    <tr>\n",
       "      <th>29</th>\n",
       "      <td>67112.0</td>\n",
       "      <td>65.860</td>\n",
       "      <td>465.062253</td>\n",
       "      <td>1.000000e+00</td>\n",
       "      <td>0</td>\n",
       "    </tr>\n",
       "    <tr>\n",
       "      <th>30</th>\n",
       "      <td>65936.0</td>\n",
       "      <td>7.520</td>\n",
       "      <td>2871.542553</td>\n",
       "      <td>5.551115e-17</td>\n",
       "      <td>1</td>\n",
       "    </tr>\n",
       "    <tr>\n",
       "      <th>31</th>\n",
       "      <td>109260.0</td>\n",
       "      <td>22.549</td>\n",
       "      <td>1549.203956</td>\n",
       "      <td>2.000000e+00</td>\n",
       "      <td>2</td>\n",
       "    </tr>\n",
       "    <tr>\n",
       "      <th>32</th>\n",
       "      <td>74067.0</td>\n",
       "      <td>10.490</td>\n",
       "      <td>2077.311725</td>\n",
       "      <td>5.551115e-17</td>\n",
       "      <td>1</td>\n",
       "    </tr>\n",
       "    <tr>\n",
       "      <th>33</th>\n",
       "      <td>58071.0</td>\n",
       "      <td>5.200</td>\n",
       "      <td>4899.038462</td>\n",
       "      <td>5.551115e-17</td>\n",
       "      <td>1</td>\n",
       "    </tr>\n",
       "    <tr>\n",
       "      <th>34</th>\n",
       "      <td>90406.0</td>\n",
       "      <td>17.457</td>\n",
       "      <td>2760.669073</td>\n",
       "      <td>5.551115e-17</td>\n",
       "      <td>2</td>\n",
       "    </tr>\n",
       "    <tr>\n",
       "      <th>35</th>\n",
       "      <td>75180.0</td>\n",
       "      <td>12.253</td>\n",
       "      <td>3381.947278</td>\n",
       "      <td>5.551115e-17</td>\n",
       "      <td>1</td>\n",
       "    </tr>\n",
       "    <tr>\n",
       "      <th>36</th>\n",
       "      <td>76139.0</td>\n",
       "      <td>16.838</td>\n",
       "      <td>2585.045730</td>\n",
       "      <td>5.551115e-17</td>\n",
       "      <td>1</td>\n",
       "    </tr>\n",
       "  </tbody>\n",
       "</table>\n",
       "</div>"
      ],
      "text/plain": [
       "    household_median_income  Area (Land, in square miles)  population_density  \\\n",
       "0                   67323.0                        11.180         3399.821109   \n",
       "1                   61910.0                         4.177         3314.340436   \n",
       "2                   69512.0                         4.767         6322.215230   \n",
       "3                   70301.0                         9.857         2585.472253   \n",
       "4                   83773.0                         3.406         4707.574868   \n",
       "5                  100264.0                        41.681          694.681030   \n",
       "6                   67542.0                         6.736         4019.893112   \n",
       "7                   63180.0                        16.592         1752.772420   \n",
       "8                   77383.0                        16.045         3529.261452   \n",
       "9                   81041.0                        11.033         3142.481646   \n",
       "10                  87715.0                        26.307         2183.487285   \n",
       "11                  93004.0                        12.346         1491.900211   \n",
       "12                  82927.0                        12.815         2058.603199   \n",
       "13                  49826.0                         7.343         3401.879341   \n",
       "14                 120187.0                         7.837         2059.716728   \n",
       "15                  70338.0                        32.110         1706.789162   \n",
       "16                  56317.0                        11.330         2055.957635   \n",
       "17                 123210.0                        23.100         1160.043290   \n",
       "18                  75480.0                         6.907         3040.828145   \n",
       "19                  70435.0                         8.579         6955.122975   \n",
       "20                  89329.0                        34.852         2129.174796   \n",
       "21                  59757.0                         6.953         5147.849849   \n",
       "22                  66933.0                         9.731         3291.439729   \n",
       "23                  74712.0                        27.442          801.690839   \n",
       "24                  79850.0                         8.466         3127.096622   \n",
       "25                 127386.0                         9.144         3171.150481   \n",
       "26                 122102.0                        13.441         1183.394093   \n",
       "27                  83081.0                         8.609         1282.378906   \n",
       "28                  74314.0                        53.902          892.026270   \n",
       "29                  67112.0                        65.860          465.062253   \n",
       "30                  65936.0                         7.520         2871.542553   \n",
       "31                 109260.0                        22.549         1549.203956   \n",
       "32                  74067.0                        10.490         2077.311725   \n",
       "33                  58071.0                         5.200         4899.038462   \n",
       "34                  90406.0                        17.457         2760.669073   \n",
       "35                  75180.0                        12.253         3381.947278   \n",
       "36                  76139.0                        16.838         2585.045730   \n",
       "\n",
       "         Cluster  cluster  \n",
       "0   5.551115e-17        1  \n",
       "1   5.551115e-17        1  \n",
       "2   5.551115e-17        1  \n",
       "3   5.551115e-17        1  \n",
       "4   5.551115e-17        1  \n",
       "5   1.000000e+00        0  \n",
       "6   5.551115e-17        1  \n",
       "7   5.551115e-17        1  \n",
       "8   5.551115e-17        1  \n",
       "9   5.551115e-17        1  \n",
       "10  1.000000e+00        2  \n",
       "11  5.551115e-17        2  \n",
       "12  5.551115e-17        2  \n",
       "13  5.551115e-17        1  \n",
       "14  2.000000e+00        2  \n",
       "15  1.000000e+00        0  \n",
       "16  5.551115e-17        1  \n",
       "17  2.000000e+00        2  \n",
       "18  5.551115e-17        1  \n",
       "19  5.551115e-17        1  \n",
       "20  1.000000e+00        0  \n",
       "21  5.551115e-17        1  \n",
       "22  5.551115e-17        1  \n",
       "23  1.000000e+00        0  \n",
       "24  5.551115e-17        1  \n",
       "25  2.000000e+00        2  \n",
       "26  2.000000e+00        2  \n",
       "27  5.551115e-17        2  \n",
       "28  1.000000e+00        0  \n",
       "29  1.000000e+00        0  \n",
       "30  5.551115e-17        1  \n",
       "31  2.000000e+00        2  \n",
       "32  5.551115e-17        1  \n",
       "33  5.551115e-17        1  \n",
       "34  5.551115e-17        2  \n",
       "35  5.551115e-17        1  \n",
       "36  5.551115e-17        1  "
      ]
     },
     "execution_count": 227,
     "metadata": {},
     "output_type": "execute_result"
    }
   ],
   "source": [
    "\n",
    "reversed_data=pd.DataFrame(scaler.inverse_transform(scaled_data),columns=df.columns)\n",
    "reversed_data['cluster']=df['Cluster'].values\n",
    "clusters=list(set(df['Cluster'].values))\n",
    "cluster_mean_df=pd.DataFrame()\n",
    "reversed_data\n"
   ]
  },
  {
   "cell_type": "code",
   "execution_count": 228,
   "metadata": {},
   "outputs": [
    {
     "data": {
      "text/html": [
       "<div>\n",
       "<style scoped>\n",
       "    .dataframe tbody tr th:only-of-type {\n",
       "        vertical-align: middle;\n",
       "    }\n",
       "\n",
       "    .dataframe tbody tr th {\n",
       "        vertical-align: top;\n",
       "    }\n",
       "\n",
       "    .dataframe thead th {\n",
       "        text-align: right;\n",
       "    }\n",
       "</style>\n",
       "<table border=\"1\" class=\"dataframe\">\n",
       "  <thead>\n",
       "    <tr style=\"text-align: right;\">\n",
       "      <th></th>\n",
       "      <th>household_median_income</th>\n",
       "      <th>Area (Land, in square miles)</th>\n",
       "      <th>population_density</th>\n",
       "      <th>Cluster</th>\n",
       "      <th>cluster</th>\n",
       "    </tr>\n",
       "  </thead>\n",
       "  <tbody>\n",
       "    <tr>\n",
       "      <th>0</th>\n",
       "      <td>67323.0</td>\n",
       "      <td>11.180</td>\n",
       "      <td>3399.821109</td>\n",
       "      <td>5.551115e-17</td>\n",
       "      <td>1</td>\n",
       "    </tr>\n",
       "    <tr>\n",
       "      <th>1</th>\n",
       "      <td>61910.0</td>\n",
       "      <td>4.177</td>\n",
       "      <td>3314.340436</td>\n",
       "      <td>5.551115e-17</td>\n",
       "      <td>1</td>\n",
       "    </tr>\n",
       "    <tr>\n",
       "      <th>2</th>\n",
       "      <td>69512.0</td>\n",
       "      <td>4.767</td>\n",
       "      <td>6322.215230</td>\n",
       "      <td>5.551115e-17</td>\n",
       "      <td>1</td>\n",
       "    </tr>\n",
       "    <tr>\n",
       "      <th>3</th>\n",
       "      <td>70301.0</td>\n",
       "      <td>9.857</td>\n",
       "      <td>2585.472253</td>\n",
       "      <td>5.551115e-17</td>\n",
       "      <td>1</td>\n",
       "    </tr>\n",
       "    <tr>\n",
       "      <th>4</th>\n",
       "      <td>83773.0</td>\n",
       "      <td>3.406</td>\n",
       "      <td>4707.574868</td>\n",
       "      <td>5.551115e-17</td>\n",
       "      <td>1</td>\n",
       "    </tr>\n",
       "    <tr>\n",
       "      <th>6</th>\n",
       "      <td>67542.0</td>\n",
       "      <td>6.736</td>\n",
       "      <td>4019.893112</td>\n",
       "      <td>5.551115e-17</td>\n",
       "      <td>1</td>\n",
       "    </tr>\n",
       "    <tr>\n",
       "      <th>7</th>\n",
       "      <td>63180.0</td>\n",
       "      <td>16.592</td>\n",
       "      <td>1752.772420</td>\n",
       "      <td>5.551115e-17</td>\n",
       "      <td>1</td>\n",
       "    </tr>\n",
       "    <tr>\n",
       "      <th>8</th>\n",
       "      <td>77383.0</td>\n",
       "      <td>16.045</td>\n",
       "      <td>3529.261452</td>\n",
       "      <td>5.551115e-17</td>\n",
       "      <td>1</td>\n",
       "    </tr>\n",
       "    <tr>\n",
       "      <th>9</th>\n",
       "      <td>81041.0</td>\n",
       "      <td>11.033</td>\n",
       "      <td>3142.481646</td>\n",
       "      <td>5.551115e-17</td>\n",
       "      <td>1</td>\n",
       "    </tr>\n",
       "    <tr>\n",
       "      <th>13</th>\n",
       "      <td>49826.0</td>\n",
       "      <td>7.343</td>\n",
       "      <td>3401.879341</td>\n",
       "      <td>5.551115e-17</td>\n",
       "      <td>1</td>\n",
       "    </tr>\n",
       "    <tr>\n",
       "      <th>16</th>\n",
       "      <td>56317.0</td>\n",
       "      <td>11.330</td>\n",
       "      <td>2055.957635</td>\n",
       "      <td>5.551115e-17</td>\n",
       "      <td>1</td>\n",
       "    </tr>\n",
       "    <tr>\n",
       "      <th>18</th>\n",
       "      <td>75480.0</td>\n",
       "      <td>6.907</td>\n",
       "      <td>3040.828145</td>\n",
       "      <td>5.551115e-17</td>\n",
       "      <td>1</td>\n",
       "    </tr>\n",
       "    <tr>\n",
       "      <th>19</th>\n",
       "      <td>70435.0</td>\n",
       "      <td>8.579</td>\n",
       "      <td>6955.122975</td>\n",
       "      <td>5.551115e-17</td>\n",
       "      <td>1</td>\n",
       "    </tr>\n",
       "    <tr>\n",
       "      <th>21</th>\n",
       "      <td>59757.0</td>\n",
       "      <td>6.953</td>\n",
       "      <td>5147.849849</td>\n",
       "      <td>5.551115e-17</td>\n",
       "      <td>1</td>\n",
       "    </tr>\n",
       "    <tr>\n",
       "      <th>22</th>\n",
       "      <td>66933.0</td>\n",
       "      <td>9.731</td>\n",
       "      <td>3291.439729</td>\n",
       "      <td>5.551115e-17</td>\n",
       "      <td>1</td>\n",
       "    </tr>\n",
       "    <tr>\n",
       "      <th>24</th>\n",
       "      <td>79850.0</td>\n",
       "      <td>8.466</td>\n",
       "      <td>3127.096622</td>\n",
       "      <td>5.551115e-17</td>\n",
       "      <td>1</td>\n",
       "    </tr>\n",
       "    <tr>\n",
       "      <th>30</th>\n",
       "      <td>65936.0</td>\n",
       "      <td>7.520</td>\n",
       "      <td>2871.542553</td>\n",
       "      <td>5.551115e-17</td>\n",
       "      <td>1</td>\n",
       "    </tr>\n",
       "    <tr>\n",
       "      <th>32</th>\n",
       "      <td>74067.0</td>\n",
       "      <td>10.490</td>\n",
       "      <td>2077.311725</td>\n",
       "      <td>5.551115e-17</td>\n",
       "      <td>1</td>\n",
       "    </tr>\n",
       "    <tr>\n",
       "      <th>33</th>\n",
       "      <td>58071.0</td>\n",
       "      <td>5.200</td>\n",
       "      <td>4899.038462</td>\n",
       "      <td>5.551115e-17</td>\n",
       "      <td>1</td>\n",
       "    </tr>\n",
       "    <tr>\n",
       "      <th>35</th>\n",
       "      <td>75180.0</td>\n",
       "      <td>12.253</td>\n",
       "      <td>3381.947278</td>\n",
       "      <td>5.551115e-17</td>\n",
       "      <td>1</td>\n",
       "    </tr>\n",
       "    <tr>\n",
       "      <th>36</th>\n",
       "      <td>76139.0</td>\n",
       "      <td>16.838</td>\n",
       "      <td>2585.045730</td>\n",
       "      <td>5.551115e-17</td>\n",
       "      <td>1</td>\n",
       "    </tr>\n",
       "  </tbody>\n",
       "</table>\n",
       "</div>"
      ],
      "text/plain": [
       "    household_median_income  Area (Land, in square miles)  population_density  \\\n",
       "0                   67323.0                        11.180         3399.821109   \n",
       "1                   61910.0                         4.177         3314.340436   \n",
       "2                   69512.0                         4.767         6322.215230   \n",
       "3                   70301.0                         9.857         2585.472253   \n",
       "4                   83773.0                         3.406         4707.574868   \n",
       "6                   67542.0                         6.736         4019.893112   \n",
       "7                   63180.0                        16.592         1752.772420   \n",
       "8                   77383.0                        16.045         3529.261452   \n",
       "9                   81041.0                        11.033         3142.481646   \n",
       "13                  49826.0                         7.343         3401.879341   \n",
       "16                  56317.0                        11.330         2055.957635   \n",
       "18                  75480.0                         6.907         3040.828145   \n",
       "19                  70435.0                         8.579         6955.122975   \n",
       "21                  59757.0                         6.953         5147.849849   \n",
       "22                  66933.0                         9.731         3291.439729   \n",
       "24                  79850.0                         8.466         3127.096622   \n",
       "30                  65936.0                         7.520         2871.542553   \n",
       "32                  74067.0                        10.490         2077.311725   \n",
       "33                  58071.0                         5.200         4899.038462   \n",
       "35                  75180.0                        12.253         3381.947278   \n",
       "36                  76139.0                        16.838         2585.045730   \n",
       "\n",
       "         Cluster  cluster  \n",
       "0   5.551115e-17        1  \n",
       "1   5.551115e-17        1  \n",
       "2   5.551115e-17        1  \n",
       "3   5.551115e-17        1  \n",
       "4   5.551115e-17        1  \n",
       "6   5.551115e-17        1  \n",
       "7   5.551115e-17        1  \n",
       "8   5.551115e-17        1  \n",
       "9   5.551115e-17        1  \n",
       "13  5.551115e-17        1  \n",
       "16  5.551115e-17        1  \n",
       "18  5.551115e-17        1  \n",
       "19  5.551115e-17        1  \n",
       "21  5.551115e-17        1  \n",
       "22  5.551115e-17        1  \n",
       "24  5.551115e-17        1  \n",
       "30  5.551115e-17        1  \n",
       "32  5.551115e-17        1  \n",
       "33  5.551115e-17        1  \n",
       "35  5.551115e-17        1  \n",
       "36  5.551115e-17        1  "
      ]
     },
     "execution_count": 228,
     "metadata": {},
     "output_type": "execute_result"
    }
   ],
   "source": [
    "reversed_data[reversed_data['cluster']==1]\n"
   ]
  },
  {
   "cell_type": "code",
   "execution_count": 229,
   "metadata": {},
   "outputs": [
    {
     "data": {
      "text/html": [
       "<div>\n",
       "<style scoped>\n",
       "    .dataframe tbody tr th:only-of-type {\n",
       "        vertical-align: middle;\n",
       "    }\n",
       "\n",
       "    .dataframe tbody tr th {\n",
       "        vertical-align: top;\n",
       "    }\n",
       "\n",
       "    .dataframe thead th {\n",
       "        text-align: right;\n",
       "    }\n",
       "</style>\n",
       "<table border=\"1\" class=\"dataframe\">\n",
       "  <thead>\n",
       "    <tr style=\"text-align: right;\">\n",
       "      <th></th>\n",
       "      <th>household_median_income</th>\n",
       "      <th>Area (Land, in square miles)</th>\n",
       "      <th>population_density</th>\n",
       "      <th>Cluster</th>\n",
       "      <th>cluster</th>\n",
       "    </tr>\n",
       "  </thead>\n",
       "  <tbody>\n",
       "    <tr>\n",
       "      <th>5</th>\n",
       "      <td>100264.0</td>\n",
       "      <td>41.681</td>\n",
       "      <td>694.681030</td>\n",
       "      <td>1.0</td>\n",
       "      <td>0</td>\n",
       "    </tr>\n",
       "    <tr>\n",
       "      <th>15</th>\n",
       "      <td>70338.0</td>\n",
       "      <td>32.110</td>\n",
       "      <td>1706.789162</td>\n",
       "      <td>1.0</td>\n",
       "      <td>0</td>\n",
       "    </tr>\n",
       "    <tr>\n",
       "      <th>20</th>\n",
       "      <td>89329.0</td>\n",
       "      <td>34.852</td>\n",
       "      <td>2129.174796</td>\n",
       "      <td>1.0</td>\n",
       "      <td>0</td>\n",
       "    </tr>\n",
       "    <tr>\n",
       "      <th>23</th>\n",
       "      <td>74712.0</td>\n",
       "      <td>27.442</td>\n",
       "      <td>801.690839</td>\n",
       "      <td>1.0</td>\n",
       "      <td>0</td>\n",
       "    </tr>\n",
       "    <tr>\n",
       "      <th>28</th>\n",
       "      <td>74314.0</td>\n",
       "      <td>53.902</td>\n",
       "      <td>892.026270</td>\n",
       "      <td>1.0</td>\n",
       "      <td>0</td>\n",
       "    </tr>\n",
       "    <tr>\n",
       "      <th>29</th>\n",
       "      <td>67112.0</td>\n",
       "      <td>65.860</td>\n",
       "      <td>465.062253</td>\n",
       "      <td>1.0</td>\n",
       "      <td>0</td>\n",
       "    </tr>\n",
       "  </tbody>\n",
       "</table>\n",
       "</div>"
      ],
      "text/plain": [
       "    household_median_income  Area (Land, in square miles)  population_density  \\\n",
       "5                  100264.0                        41.681          694.681030   \n",
       "15                  70338.0                        32.110         1706.789162   \n",
       "20                  89329.0                        34.852         2129.174796   \n",
       "23                  74712.0                        27.442          801.690839   \n",
       "28                  74314.0                        53.902          892.026270   \n",
       "29                  67112.0                        65.860          465.062253   \n",
       "\n",
       "    Cluster  cluster  \n",
       "5       1.0        0  \n",
       "15      1.0        0  \n",
       "20      1.0        0  \n",
       "23      1.0        0  \n",
       "28      1.0        0  \n",
       "29      1.0        0  "
      ]
     },
     "execution_count": 229,
     "metadata": {},
     "output_type": "execute_result"
    }
   ],
   "source": [
    "reversed_data[reversed_data['cluster']==0]\n"
   ]
  },
  {
   "cell_type": "code",
   "execution_count": 57,
   "metadata": {},
   "outputs": [
    {
     "data": {
      "text/plain": [
       "array([0., 1.])"
      ]
     },
     "execution_count": 57,
     "metadata": {},
     "output_type": "execute_result"
    }
   ],
   "source": [
    "reversed_data['Cluster'].unique()\n"
   ]
  },
  {
   "cell_type": "code",
   "execution_count": 58,
   "metadata": {},
   "outputs": [
    {
     "data": {
      "text/html": [
       "<div>\n",
       "<style scoped>\n",
       "    .dataframe tbody tr th:only-of-type {\n",
       "        vertical-align: middle;\n",
       "    }\n",
       "\n",
       "    .dataframe tbody tr th {\n",
       "        vertical-align: top;\n",
       "    }\n",
       "\n",
       "    .dataframe thead th {\n",
       "        text-align: right;\n",
       "    }\n",
       "</style>\n",
       "<table border=\"1\" class=\"dataframe\">\n",
       "  <thead>\n",
       "    <tr style=\"text-align: right;\">\n",
       "      <th></th>\n",
       "      <th>household_total_income</th>\n",
       "      <th>Area (Land, in square miles)</th>\n",
       "      <th>population_density</th>\n",
       "    </tr>\n",
       "  </thead>\n",
       "  <tbody>\n",
       "    <tr>\n",
       "      <th>0</th>\n",
       "      <td>18161</td>\n",
       "      <td>11.180</td>\n",
       "      <td>3399.821109</td>\n",
       "    </tr>\n",
       "    <tr>\n",
       "      <th>1</th>\n",
       "      <td>6126</td>\n",
       "      <td>4.177</td>\n",
       "      <td>3314.340436</td>\n",
       "    </tr>\n",
       "    <tr>\n",
       "      <th>2</th>\n",
       "      <td>12905</td>\n",
       "      <td>4.767</td>\n",
       "      <td>6322.215230</td>\n",
       "    </tr>\n",
       "    <tr>\n",
       "      <th>3</th>\n",
       "      <td>11521</td>\n",
       "      <td>9.857</td>\n",
       "      <td>2585.472253</td>\n",
       "    </tr>\n",
       "    <tr>\n",
       "      <th>5</th>\n",
       "      <td>8052</td>\n",
       "      <td>3.406</td>\n",
       "      <td>4707.574868</td>\n",
       "    </tr>\n",
       "    <tr>\n",
       "      <th>6</th>\n",
       "      <td>14289</td>\n",
       "      <td>41.681</td>\n",
       "      <td>694.681030</td>\n",
       "    </tr>\n",
       "    <tr>\n",
       "      <th>7</th>\n",
       "      <td>12686</td>\n",
       "      <td>6.736</td>\n",
       "      <td>4019.893112</td>\n",
       "    </tr>\n",
       "    <tr>\n",
       "      <th>8</th>\n",
       "      <td>12588</td>\n",
       "      <td>16.592</td>\n",
       "      <td>1752.772420</td>\n",
       "    </tr>\n",
       "    <tr>\n",
       "      <th>9</th>\n",
       "      <td>22685</td>\n",
       "      <td>16.045</td>\n",
       "      <td>3529.261452</td>\n",
       "    </tr>\n",
       "    <tr>\n",
       "      <th>10</th>\n",
       "      <td>15335</td>\n",
       "      <td>11.033</td>\n",
       "      <td>3142.481646</td>\n",
       "    </tr>\n",
       "    <tr>\n",
       "      <th>11</th>\n",
       "      <td>21729</td>\n",
       "      <td>26.307</td>\n",
       "      <td>2183.487285</td>\n",
       "    </tr>\n",
       "    <tr>\n",
       "      <th>12</th>\n",
       "      <td>8366</td>\n",
       "      <td>12.346</td>\n",
       "      <td>1491.900211</td>\n",
       "    </tr>\n",
       "    <tr>\n",
       "      <th>13</th>\n",
       "      <td>9862</td>\n",
       "      <td>12.815</td>\n",
       "      <td>2058.603199</td>\n",
       "    </tr>\n",
       "    <tr>\n",
       "      <th>14</th>\n",
       "      <td>11132</td>\n",
       "      <td>7.343</td>\n",
       "      <td>3401.879341</td>\n",
       "    </tr>\n",
       "    <tr>\n",
       "      <th>15</th>\n",
       "      <td>8461</td>\n",
       "      <td>7.837</td>\n",
       "      <td>2059.716728</td>\n",
       "    </tr>\n",
       "    <tr>\n",
       "      <th>16</th>\n",
       "      <td>20496</td>\n",
       "      <td>32.110</td>\n",
       "      <td>1706.789162</td>\n",
       "    </tr>\n",
       "    <tr>\n",
       "      <th>17</th>\n",
       "      <td>11671</td>\n",
       "      <td>11.330</td>\n",
       "      <td>2055.957635</td>\n",
       "    </tr>\n",
       "    <tr>\n",
       "      <th>18</th>\n",
       "      <td>10795</td>\n",
       "      <td>23.100</td>\n",
       "      <td>1160.043290</td>\n",
       "    </tr>\n",
       "    <tr>\n",
       "      <th>19</th>\n",
       "      <td>10686</td>\n",
       "      <td>6.907</td>\n",
       "      <td>3040.828145</td>\n",
       "    </tr>\n",
       "    <tr>\n",
       "      <th>20</th>\n",
       "      <td>20140</td>\n",
       "      <td>8.579</td>\n",
       "      <td>6955.122975</td>\n",
       "    </tr>\n",
       "    <tr>\n",
       "      <th>21</th>\n",
       "      <td>28173</td>\n",
       "      <td>34.852</td>\n",
       "      <td>2129.174796</td>\n",
       "    </tr>\n",
       "    <tr>\n",
       "      <th>22</th>\n",
       "      <td>13727</td>\n",
       "      <td>6.953</td>\n",
       "      <td>5147.849849</td>\n",
       "    </tr>\n",
       "    <tr>\n",
       "      <th>23</th>\n",
       "      <td>14782</td>\n",
       "      <td>9.731</td>\n",
       "      <td>3291.439729</td>\n",
       "    </tr>\n",
       "    <tr>\n",
       "      <th>24</th>\n",
       "      <td>8230</td>\n",
       "      <td>27.442</td>\n",
       "      <td>801.690839</td>\n",
       "    </tr>\n",
       "    <tr>\n",
       "      <th>25</th>\n",
       "      <td>11737</td>\n",
       "      <td>8.466</td>\n",
       "      <td>3127.096622</td>\n",
       "    </tr>\n",
       "    <tr>\n",
       "      <th>26</th>\n",
       "      <td>10141</td>\n",
       "      <td>9.144</td>\n",
       "      <td>3171.150481</td>\n",
       "    </tr>\n",
       "    <tr>\n",
       "      <th>27</th>\n",
       "      <td>8673</td>\n",
       "      <td>13.441</td>\n",
       "      <td>1183.394093</td>\n",
       "    </tr>\n",
       "    <tr>\n",
       "      <th>28</th>\n",
       "      <td>4735</td>\n",
       "      <td>8.609</td>\n",
       "      <td>1282.378906</td>\n",
       "    </tr>\n",
       "    <tr>\n",
       "      <th>29</th>\n",
       "      <td>20419</td>\n",
       "      <td>53.902</td>\n",
       "      <td>892.026270</td>\n",
       "    </tr>\n",
       "    <tr>\n",
       "      <th>30</th>\n",
       "      <td>11633</td>\n",
       "      <td>65.860</td>\n",
       "      <td>465.062253</td>\n",
       "    </tr>\n",
       "    <tr>\n",
       "      <th>31</th>\n",
       "      <td>10538</td>\n",
       "      <td>7.520</td>\n",
       "      <td>2871.542553</td>\n",
       "    </tr>\n",
       "    <tr>\n",
       "      <th>32</th>\n",
       "      <td>14640</td>\n",
       "      <td>22.549</td>\n",
       "      <td>1549.203956</td>\n",
       "    </tr>\n",
       "    <tr>\n",
       "      <th>33</th>\n",
       "      <td>9763</td>\n",
       "      <td>10.490</td>\n",
       "      <td>2077.311725</td>\n",
       "    </tr>\n",
       "    <tr>\n",
       "      <th>34</th>\n",
       "      <td>11190</td>\n",
       "      <td>5.200</td>\n",
       "      <td>4899.038462</td>\n",
       "    </tr>\n",
       "    <tr>\n",
       "      <th>35</th>\n",
       "      <td>14153</td>\n",
       "      <td>17.457</td>\n",
       "      <td>2760.669073</td>\n",
       "    </tr>\n",
       "    <tr>\n",
       "      <th>36</th>\n",
       "      <td>17391</td>\n",
       "      <td>12.253</td>\n",
       "      <td>3381.947278</td>\n",
       "    </tr>\n",
       "    <tr>\n",
       "      <th>37</th>\n",
       "      <td>16462</td>\n",
       "      <td>16.838</td>\n",
       "      <td>2585.045730</td>\n",
       "    </tr>\n",
       "  </tbody>\n",
       "</table>\n",
       "</div>"
      ],
      "text/plain": [
       "    household_total_income  Area (Land, in square miles)  population_density\n",
       "0                    18161                        11.180         3399.821109\n",
       "1                     6126                         4.177         3314.340436\n",
       "2                    12905                         4.767         6322.215230\n",
       "3                    11521                         9.857         2585.472253\n",
       "5                     8052                         3.406         4707.574868\n",
       "6                    14289                        41.681          694.681030\n",
       "7                    12686                         6.736         4019.893112\n",
       "8                    12588                        16.592         1752.772420\n",
       "9                    22685                        16.045         3529.261452\n",
       "10                   15335                        11.033         3142.481646\n",
       "11                   21729                        26.307         2183.487285\n",
       "12                    8366                        12.346         1491.900211\n",
       "13                    9862                        12.815         2058.603199\n",
       "14                   11132                         7.343         3401.879341\n",
       "15                    8461                         7.837         2059.716728\n",
       "16                   20496                        32.110         1706.789162\n",
       "17                   11671                        11.330         2055.957635\n",
       "18                   10795                        23.100         1160.043290\n",
       "19                   10686                         6.907         3040.828145\n",
       "20                   20140                         8.579         6955.122975\n",
       "21                   28173                        34.852         2129.174796\n",
       "22                   13727                         6.953         5147.849849\n",
       "23                   14782                         9.731         3291.439729\n",
       "24                    8230                        27.442          801.690839\n",
       "25                   11737                         8.466         3127.096622\n",
       "26                   10141                         9.144         3171.150481\n",
       "27                    8673                        13.441         1183.394093\n",
       "28                    4735                         8.609         1282.378906\n",
       "29                   20419                        53.902          892.026270\n",
       "30                   11633                        65.860          465.062253\n",
       "31                   10538                         7.520         2871.542553\n",
       "32                   14640                        22.549         1549.203956\n",
       "33                    9763                        10.490         2077.311725\n",
       "34                   11190                         5.200         4899.038462\n",
       "35                   14153                        17.457         2760.669073\n",
       "36                   17391                        12.253         3381.947278\n",
       "37                   16462                        16.838         2585.045730"
      ]
     },
     "execution_count": 58,
     "metadata": {},
     "output_type": "execute_result"
    }
   ],
   "source": [
    "input_data\n"
   ]
  },
  {
   "cell_type": "code",
   "execution_count": 59,
   "metadata": {},
   "outputs": [],
   "source": [
    "reversed_data['zip_code']=input_data1['zip_code'].values\n"
   ]
  },
  {
   "cell_type": "code",
   "execution_count": 60,
   "metadata": {},
   "outputs": [],
   "source": [
    "reversed_data.drop(columns='Cluster',inplace=True)\n"
   ]
  },
  {
   "cell_type": "code",
   "execution_count": 69,
   "metadata": {},
   "outputs": [],
   "source": [
    "# reversed_data.to_csv('jtz_clusters_without_addt.csv',index=False)\n",
    "p=pd.read_csv('jtz_clusters_without_addt.csv')\n",
    "p.to_csv('jtz_clusters_without_aadt.csv',index=False)\n"
   ]
  },
  {
   "cell_type": "code",
   "execution_count": 68,
   "metadata": {},
   "outputs": [],
   "source": [
    "# reversed_data.to_csv('jtz_clusters_without_addt.csv',index=False)\n",
    "p=pd.read_csv('jtz_clusters_with_addt.csv')\n",
    "# p.drop(columns='Cluster',inplace=True)\n",
    "p.to_csv('jtz_clusters_with_aadt.csv',index=False)\n"
   ]
  },
  {
   "cell_type": "code",
   "execution_count": null,
   "metadata": {},
   "outputs": [],
   "source": [
    "# model with aadt\n",
    "# no.of clusters: 2\n",
    "# Silhouette Score=0.3847479763017808\n",
    "\n",
    "# model without aadt\n",
    "# no.of clusters: 2\n",
    "# Silhouette Score: 0.4600637673680892\n",
    "\n"
   ]
  }
 ],
 "metadata": {
  "kernelspec": {
   "display_name": "hm",
   "language": "python",
   "name": "python3"
  },
  "language_info": {
   "codemirror_mode": {
    "name": "ipython",
    "version": 3
   },
   "file_extension": ".py",
   "mimetype": "text/x-python",
   "name": "python",
   "nbconvert_exporter": "python",
   "pygments_lexer": "ipython3",
   "version": "3.7.9"
  }
 },
 "nbformat": 4,
 "nbformat_minor": 2
}
