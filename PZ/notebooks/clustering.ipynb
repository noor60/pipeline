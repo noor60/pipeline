{
 "cells": [
  {
   "cell_type": "code",
   "execution_count": 2,
   "metadata": {},
   "outputs": [],
   "source": [
    "import pandas as pd\n",
    "import seaborn as sns\n",
    "import matplotlib.pyplot as plt\n",
    "import numpy as np\n",
    "from sklearn.preprocessing import StandardScaler,RobustScaler\n",
    "\n",
    "\n",
    "import time\n",
    "from numpy import log as ln\n",
    "\n",
    "import pandas as pd\n",
    "import seaborn as sns\n",
    "import matplotlib.pyplot as plt\n",
    "import numpy as np\n",
    "import plotly.express as px\n",
    "\n",
    "from sklearn.preprocessing import StandardScaler,MinMaxScaler\n",
    "from sklearn.neighbors import NearestNeighbors\n",
    "from sklearn.cluster import DBSCAN\n",
    "\n",
    "from sklearn.metrics import silhouette_score, davies_bouldin_score\n",
    "from sklearn.metrics import calinski_harabasz_score\n",
    "from kneed import KneeLocator\n",
    "\n",
    "\n",
    "\n",
    "from sklearn.decomposition import PCA\n",
    "from sklearn.manifold import TSNE\n",
    "\n",
    "from mpl_toolkits.mplot3d import Axes3D\n",
    "\n",
    "import matplotlib.pyplot as plt\n",
    "from sklearn.decomposition import PCA\n",
    "import pandas as pd\n",
    "\n"
   ]
  },
  {
   "cell_type": "code",
   "execution_count": 3,
   "metadata": {},
   "outputs": [],
   "source": [
    "import utils\n"
   ]
  },
  {
   "cell_type": "code",
   "execution_count": 19,
   "metadata": {},
   "outputs": [],
   "source": [
    "input_data=pd.read_csv('../data/input_data.csv').drop(columns=['Unnamed: 0'])\n",
    "input_data['area_classification'] = input_data['area_classification'].astype('category')\n",
    "name=pd.Categorical(input_data['area_classification']).codes\n",
    "\n",
    "input_data['area_classification'] = name\n",
    "# there is one null value\n",
    "input_data['traffic_count']=np.where(input_data['traffic_count'].isna(),min(input_data['traffic_count']),input_data['traffic_count'])\n",
    "\n",
    "input_data.head(2)\n",
    "input_data['area_classification']=input_data['area_classification'].astype('category')\n",
    "area_classification_mapping=dict(enumerate(input_data['area_classification'].cat.categories ))\n"
   ]
  },
  {
   "cell_type": "code",
   "execution_count": 20,
   "metadata": {},
   "outputs": [
    {
     "data": {
      "text/html": [
       "<div>\n",
       "<style scoped>\n",
       "    .dataframe tbody tr th:only-of-type {\n",
       "        vertical-align: middle;\n",
       "    }\n",
       "\n",
       "    .dataframe tbody tr th {\n",
       "        vertical-align: top;\n",
       "    }\n",
       "\n",
       "    .dataframe thead th {\n",
       "        text-align: right;\n",
       "    }\n",
       "</style>\n",
       "<table border=\"1\" class=\"dataframe\">\n",
       "  <thead>\n",
       "    <tr style=\"text-align: right;\">\n",
       "      <th></th>\n",
       "      <th>classification</th>\n",
       "      <th>area_classification</th>\n",
       "    </tr>\n",
       "  </thead>\n",
       "  <tbody>\n",
       "    <tr>\n",
       "      <th>0</th>\n",
       "      <td>2</td>\n",
       "      <td>urban</td>\n",
       "    </tr>\n",
       "    <tr>\n",
       "      <th>1</th>\n",
       "      <td>2</td>\n",
       "      <td>urban</td>\n",
       "    </tr>\n",
       "    <tr>\n",
       "      <th>2</th>\n",
       "      <td>2</td>\n",
       "      <td>urban</td>\n",
       "    </tr>\n",
       "    <tr>\n",
       "      <th>3</th>\n",
       "      <td>1</td>\n",
       "      <td>suburban</td>\n",
       "    </tr>\n",
       "    <tr>\n",
       "      <th>4</th>\n",
       "      <td>1</td>\n",
       "      <td>suburban</td>\n",
       "    </tr>\n",
       "    <tr>\n",
       "      <th>5</th>\n",
       "      <td>1</td>\n",
       "      <td>suburban</td>\n",
       "    </tr>\n",
       "    <tr>\n",
       "      <th>6</th>\n",
       "      <td>1</td>\n",
       "      <td>suburban</td>\n",
       "    </tr>\n",
       "    <tr>\n",
       "      <th>7</th>\n",
       "      <td>1</td>\n",
       "      <td>suburban</td>\n",
       "    </tr>\n",
       "    <tr>\n",
       "      <th>8</th>\n",
       "      <td>2</td>\n",
       "      <td>urban</td>\n",
       "    </tr>\n",
       "    <tr>\n",
       "      <th>9</th>\n",
       "      <td>1</td>\n",
       "      <td>suburban</td>\n",
       "    </tr>\n",
       "    <tr>\n",
       "      <th>10</th>\n",
       "      <td>2</td>\n",
       "      <td>urban</td>\n",
       "    </tr>\n",
       "    <tr>\n",
       "      <th>11</th>\n",
       "      <td>1</td>\n",
       "      <td>suburban</td>\n",
       "    </tr>\n",
       "    <tr>\n",
       "      <th>12</th>\n",
       "      <td>2</td>\n",
       "      <td>urban</td>\n",
       "    </tr>\n",
       "    <tr>\n",
       "      <th>13</th>\n",
       "      <td>2</td>\n",
       "      <td>urban</td>\n",
       "    </tr>\n",
       "    <tr>\n",
       "      <th>14</th>\n",
       "      <td>1</td>\n",
       "      <td>suburban</td>\n",
       "    </tr>\n",
       "    <tr>\n",
       "      <th>15</th>\n",
       "      <td>1</td>\n",
       "      <td>suburban</td>\n",
       "    </tr>\n",
       "    <tr>\n",
       "      <th>16</th>\n",
       "      <td>1</td>\n",
       "      <td>suburban</td>\n",
       "    </tr>\n",
       "    <tr>\n",
       "      <th>17</th>\n",
       "      <td>1</td>\n",
       "      <td>suburban</td>\n",
       "    </tr>\n",
       "    <tr>\n",
       "      <th>18</th>\n",
       "      <td>1</td>\n",
       "      <td>suburban</td>\n",
       "    </tr>\n",
       "    <tr>\n",
       "      <th>19</th>\n",
       "      <td>1</td>\n",
       "      <td>suburban</td>\n",
       "    </tr>\n",
       "    <tr>\n",
       "      <th>20</th>\n",
       "      <td>1</td>\n",
       "      <td>suburban</td>\n",
       "    </tr>\n",
       "    <tr>\n",
       "      <th>21</th>\n",
       "      <td>1</td>\n",
       "      <td>suburban</td>\n",
       "    </tr>\n",
       "    <tr>\n",
       "      <th>22</th>\n",
       "      <td>2</td>\n",
       "      <td>urban</td>\n",
       "    </tr>\n",
       "    <tr>\n",
       "      <th>23</th>\n",
       "      <td>2</td>\n",
       "      <td>urban</td>\n",
       "    </tr>\n",
       "    <tr>\n",
       "      <th>24</th>\n",
       "      <td>1</td>\n",
       "      <td>suburban</td>\n",
       "    </tr>\n",
       "    <tr>\n",
       "      <th>25</th>\n",
       "      <td>1</td>\n",
       "      <td>suburban</td>\n",
       "    </tr>\n",
       "    <tr>\n",
       "      <th>26</th>\n",
       "      <td>1</td>\n",
       "      <td>suburban</td>\n",
       "    </tr>\n",
       "    <tr>\n",
       "      <th>27</th>\n",
       "      <td>2</td>\n",
       "      <td>urban</td>\n",
       "    </tr>\n",
       "    <tr>\n",
       "      <th>28</th>\n",
       "      <td>1</td>\n",
       "      <td>suburban</td>\n",
       "    </tr>\n",
       "    <tr>\n",
       "      <th>29</th>\n",
       "      <td>0</td>\n",
       "      <td>rural</td>\n",
       "    </tr>\n",
       "    <tr>\n",
       "      <th>30</th>\n",
       "      <td>1</td>\n",
       "      <td>suburban</td>\n",
       "    </tr>\n",
       "    <tr>\n",
       "      <th>31</th>\n",
       "      <td>2</td>\n",
       "      <td>urban</td>\n",
       "    </tr>\n",
       "    <tr>\n",
       "      <th>32</th>\n",
       "      <td>1</td>\n",
       "      <td>suburban</td>\n",
       "    </tr>\n",
       "    <tr>\n",
       "      <th>33</th>\n",
       "      <td>1</td>\n",
       "      <td>suburban</td>\n",
       "    </tr>\n",
       "    <tr>\n",
       "      <th>34</th>\n",
       "      <td>2</td>\n",
       "      <td>urban</td>\n",
       "    </tr>\n",
       "    <tr>\n",
       "      <th>35</th>\n",
       "      <td>1</td>\n",
       "      <td>suburban</td>\n",
       "    </tr>\n",
       "    <tr>\n",
       "      <th>36</th>\n",
       "      <td>1</td>\n",
       "      <td>suburban</td>\n",
       "    </tr>\n",
       "    <tr>\n",
       "      <th>37</th>\n",
       "      <td>1</td>\n",
       "      <td>suburban</td>\n",
       "    </tr>\n",
       "  </tbody>\n",
       "</table>\n",
       "</div>"
      ],
      "text/plain": [
       "   classification area_classification\n",
       "0               2               urban\n",
       "1               2               urban\n",
       "2               2               urban\n",
       "3               1            suburban\n",
       "4               1            suburban\n",
       "5               1            suburban\n",
       "6               1            suburban\n",
       "7               1            suburban\n",
       "8               2               urban\n",
       "9               1            suburban\n",
       "10              2               urban\n",
       "11              1            suburban\n",
       "12              2               urban\n",
       "13              2               urban\n",
       "14              1            suburban\n",
       "15              1            suburban\n",
       "16              1            suburban\n",
       "17              1            suburban\n",
       "18              1            suburban\n",
       "19              1            suburban\n",
       "20              1            suburban\n",
       "21              1            suburban\n",
       "22              2               urban\n",
       "23              2               urban\n",
       "24              1            suburban\n",
       "25              1            suburban\n",
       "26              1            suburban\n",
       "27              2               urban\n",
       "28              1            suburban\n",
       "29              0               rural\n",
       "30              1            suburban\n",
       "31              2               urban\n",
       "32              1            suburban\n",
       "33              1            suburban\n",
       "34              2               urban\n",
       "35              1            suburban\n",
       "36              1            suburban\n",
       "37              1            suburban"
      ]
     },
     "execution_count": 20,
     "metadata": {},
     "output_type": "execute_result"
    }
   ],
   "source": [
    "input=pd.read_csv('../data/input_data.csv').drop(columns=['Unnamed: 0'])\n",
    "input['classification'] = input_data['area_classification'].astype('category')\n",
    "\n",
    "input[['classification','area_classification']]\n"
   ]
  },
  {
   "cell_type": "code",
   "execution_count": 21,
   "metadata": {},
   "outputs": [
    {
     "data": {
      "text/plain": [
       "array([2, 2, 2, 1, 1, 1, 1, 1, 2, 1, 2, 1, 2, 2, 1, 1, 1, 1, 1, 1, 1, 1,\n",
       "       2, 2, 1, 1, 1, 2, 1, 0, 1, 2, 1, 1, 2, 1, 1, 1], dtype=int8)"
      ]
     },
     "execution_count": 21,
     "metadata": {},
     "output_type": "execute_result"
    }
   ],
   "source": [
    "name\n"
   ]
  },
  {
   "cell_type": "code",
   "execution_count": 22,
   "metadata": {},
   "outputs": [
    {
     "data": {
      "text/html": [
       "<div>\n",
       "<style scoped>\n",
       "    .dataframe tbody tr th:only-of-type {\n",
       "        vertical-align: middle;\n",
       "    }\n",
       "\n",
       "    .dataframe tbody tr th {\n",
       "        vertical-align: top;\n",
       "    }\n",
       "\n",
       "    .dataframe thead th {\n",
       "        text-align: right;\n",
       "    }\n",
       "</style>\n",
       "<table border=\"1\" class=\"dataframe\">\n",
       "  <thead>\n",
       "    <tr style=\"text-align: right;\">\n",
       "      <th></th>\n",
       "      <th>zip_code</th>\n",
       "      <th>area_classification</th>\n",
       "      <th>traffic_count</th>\n",
       "      <th>population</th>\n",
       "      <th>household_total_income</th>\n",
       "    </tr>\n",
       "  </thead>\n",
       "  <tbody>\n",
       "    <tr>\n",
       "      <th>0</th>\n",
       "      <td>34698</td>\n",
       "      <td>2</td>\n",
       "      <td>32500.0</td>\n",
       "      <td>38010</td>\n",
       "      <td>18161</td>\n",
       "    </tr>\n",
       "    <tr>\n",
       "      <th>1</th>\n",
       "      <td>33765</td>\n",
       "      <td>2</td>\n",
       "      <td>49000.0</td>\n",
       "      <td>13844</td>\n",
       "      <td>6126</td>\n",
       "    </tr>\n",
       "  </tbody>\n",
       "</table>\n",
       "</div>"
      ],
      "text/plain": [
       "   zip_code area_classification  traffic_count  population  \\\n",
       "0     34698                   2        32500.0       38010   \n",
       "1     33765                   2        49000.0       13844   \n",
       "\n",
       "   household_total_income  \n",
       "0                   18161  \n",
       "1                    6126  "
      ]
     },
     "execution_count": 22,
     "metadata": {},
     "output_type": "execute_result"
    }
   ],
   "source": [
    "input_data.head(2)\n"
   ]
  },
  {
   "cell_type": "markdown",
   "metadata": {},
   "source": []
  },
  {
   "cell_type": "code",
   "execution_count": 23,
   "metadata": {},
   "outputs": [
    {
     "data": {
      "text/plain": [
       "(38, 5)"
      ]
     },
     "execution_count": 23,
     "metadata": {},
     "output_type": "execute_result"
    }
   ],
   "source": [
    "input_data.shape\n"
   ]
  },
  {
   "cell_type": "markdown",
   "metadata": {},
   "source": [
    "# Feature selection\n"
   ]
  },
  {
   "cell_type": "code",
   "execution_count": 108,
   "metadata": {},
   "outputs": [],
   "source": [
    "input_data=pd.read_csv('revised_input_data.csv').drop(columns=['Unnamed: 0'])\n",
    "\n"
   ]
  },
  {
   "cell_type": "code",
   "execution_count": 111,
   "metadata": {},
   "outputs": [],
   "source": [
    "%store -r data1\n"
   ]
  },
  {
   "cell_type": "code",
   "execution_count": 112,
   "metadata": {},
   "outputs": [
    {
     "ename": "KeyError",
     "evalue": "\"['zip_code' 'area_classification'] not found in axis\"",
     "output_type": "error",
     "traceback": [
      "\u001b[0;31m---------------------------------------------------------------------------\u001b[0m",
      "\u001b[0;31mKeyError\u001b[0m                                  Traceback (most recent call last)",
      "\u001b[0;32m/var/folders/lg/b8pw7x296y397cn0g302yt680000gp/T/ipykernel_82072/2058954293.py\u001b[0m in \u001b[0;36m<module>\u001b[0;34m\u001b[0m\n\u001b[0;32m----> 1\u001b[0;31m \u001b[0mdata1\u001b[0m\u001b[0;34m.\u001b[0m\u001b[0mdrop\u001b[0m\u001b[0;34m(\u001b[0m\u001b[0mcolumns\u001b[0m\u001b[0;34m=\u001b[0m\u001b[0;34m[\u001b[0m\u001b[0;34m'zip_code'\u001b[0m\u001b[0;34m,\u001b[0m\u001b[0;34m'area_classification'\u001b[0m\u001b[0;34m]\u001b[0m\u001b[0;34m,\u001b[0m\u001b[0minplace\u001b[0m\u001b[0;34m=\u001b[0m\u001b[0;32mTrue\u001b[0m\u001b[0;34m)\u001b[0m\u001b[0;34m\u001b[0m\u001b[0;34m\u001b[0m\u001b[0m\n\u001b[0m",
      "\u001b[0;32m/Library/Frameworks/Python.framework/Versions/3.7/lib/python3.7/site-packages/pandas/util/_decorators.py\u001b[0m in \u001b[0;36mwrapper\u001b[0;34m(*args, **kwargs)\u001b[0m\n\u001b[1;32m    309\u001b[0m                     \u001b[0mstacklevel\u001b[0m\u001b[0;34m=\u001b[0m\u001b[0mstacklevel\u001b[0m\u001b[0;34m,\u001b[0m\u001b[0;34m\u001b[0m\u001b[0;34m\u001b[0m\u001b[0m\n\u001b[1;32m    310\u001b[0m                 )\n\u001b[0;32m--> 311\u001b[0;31m             \u001b[0;32mreturn\u001b[0m \u001b[0mfunc\u001b[0m\u001b[0;34m(\u001b[0m\u001b[0;34m*\u001b[0m\u001b[0margs\u001b[0m\u001b[0;34m,\u001b[0m \u001b[0;34m**\u001b[0m\u001b[0mkwargs\u001b[0m\u001b[0;34m)\u001b[0m\u001b[0;34m\u001b[0m\u001b[0;34m\u001b[0m\u001b[0m\n\u001b[0m\u001b[1;32m    312\u001b[0m \u001b[0;34m\u001b[0m\u001b[0m\n\u001b[1;32m    313\u001b[0m         \u001b[0;32mreturn\u001b[0m \u001b[0mwrapper\u001b[0m\u001b[0;34m\u001b[0m\u001b[0;34m\u001b[0m\u001b[0m\n",
      "\u001b[0;32m/Library/Frameworks/Python.framework/Versions/3.7/lib/python3.7/site-packages/pandas/core/frame.py\u001b[0m in \u001b[0;36mdrop\u001b[0;34m(self, labels, axis, index, columns, level, inplace, errors)\u001b[0m\n\u001b[1;32m   4911\u001b[0m             \u001b[0mlevel\u001b[0m\u001b[0;34m=\u001b[0m\u001b[0mlevel\u001b[0m\u001b[0;34m,\u001b[0m\u001b[0;34m\u001b[0m\u001b[0;34m\u001b[0m\u001b[0m\n\u001b[1;32m   4912\u001b[0m             \u001b[0minplace\u001b[0m\u001b[0;34m=\u001b[0m\u001b[0minplace\u001b[0m\u001b[0;34m,\u001b[0m\u001b[0;34m\u001b[0m\u001b[0;34m\u001b[0m\u001b[0m\n\u001b[0;32m-> 4913\u001b[0;31m             \u001b[0merrors\u001b[0m\u001b[0;34m=\u001b[0m\u001b[0merrors\u001b[0m\u001b[0;34m,\u001b[0m\u001b[0;34m\u001b[0m\u001b[0;34m\u001b[0m\u001b[0m\n\u001b[0m\u001b[1;32m   4914\u001b[0m         )\n\u001b[1;32m   4915\u001b[0m \u001b[0;34m\u001b[0m\u001b[0m\n",
      "\u001b[0;32m/Library/Frameworks/Python.framework/Versions/3.7/lib/python3.7/site-packages/pandas/core/generic.py\u001b[0m in \u001b[0;36mdrop\u001b[0;34m(self, labels, axis, index, columns, level, inplace, errors)\u001b[0m\n\u001b[1;32m   4148\u001b[0m         \u001b[0;32mfor\u001b[0m \u001b[0maxis\u001b[0m\u001b[0;34m,\u001b[0m \u001b[0mlabels\u001b[0m \u001b[0;32min\u001b[0m \u001b[0maxes\u001b[0m\u001b[0;34m.\u001b[0m\u001b[0mitems\u001b[0m\u001b[0;34m(\u001b[0m\u001b[0;34m)\u001b[0m\u001b[0;34m:\u001b[0m\u001b[0;34m\u001b[0m\u001b[0;34m\u001b[0m\u001b[0m\n\u001b[1;32m   4149\u001b[0m             \u001b[0;32mif\u001b[0m \u001b[0mlabels\u001b[0m \u001b[0;32mis\u001b[0m \u001b[0;32mnot\u001b[0m \u001b[0;32mNone\u001b[0m\u001b[0;34m:\u001b[0m\u001b[0;34m\u001b[0m\u001b[0;34m\u001b[0m\u001b[0m\n\u001b[0;32m-> 4150\u001b[0;31m                 \u001b[0mobj\u001b[0m \u001b[0;34m=\u001b[0m \u001b[0mobj\u001b[0m\u001b[0;34m.\u001b[0m\u001b[0m_drop_axis\u001b[0m\u001b[0;34m(\u001b[0m\u001b[0mlabels\u001b[0m\u001b[0;34m,\u001b[0m \u001b[0maxis\u001b[0m\u001b[0;34m,\u001b[0m \u001b[0mlevel\u001b[0m\u001b[0;34m=\u001b[0m\u001b[0mlevel\u001b[0m\u001b[0;34m,\u001b[0m \u001b[0merrors\u001b[0m\u001b[0;34m=\u001b[0m\u001b[0merrors\u001b[0m\u001b[0;34m)\u001b[0m\u001b[0;34m\u001b[0m\u001b[0;34m\u001b[0m\u001b[0m\n\u001b[0m\u001b[1;32m   4151\u001b[0m \u001b[0;34m\u001b[0m\u001b[0m\n\u001b[1;32m   4152\u001b[0m         \u001b[0;32mif\u001b[0m \u001b[0minplace\u001b[0m\u001b[0;34m:\u001b[0m\u001b[0;34m\u001b[0m\u001b[0;34m\u001b[0m\u001b[0m\n",
      "\u001b[0;32m/Library/Frameworks/Python.framework/Versions/3.7/lib/python3.7/site-packages/pandas/core/generic.py\u001b[0m in \u001b[0;36m_drop_axis\u001b[0;34m(self, labels, axis, level, errors)\u001b[0m\n\u001b[1;32m   4183\u001b[0m                 \u001b[0mnew_axis\u001b[0m \u001b[0;34m=\u001b[0m \u001b[0maxis\u001b[0m\u001b[0;34m.\u001b[0m\u001b[0mdrop\u001b[0m\u001b[0;34m(\u001b[0m\u001b[0mlabels\u001b[0m\u001b[0;34m,\u001b[0m \u001b[0mlevel\u001b[0m\u001b[0;34m=\u001b[0m\u001b[0mlevel\u001b[0m\u001b[0;34m,\u001b[0m \u001b[0merrors\u001b[0m\u001b[0;34m=\u001b[0m\u001b[0merrors\u001b[0m\u001b[0;34m)\u001b[0m\u001b[0;34m\u001b[0m\u001b[0;34m\u001b[0m\u001b[0m\n\u001b[1;32m   4184\u001b[0m             \u001b[0;32melse\u001b[0m\u001b[0;34m:\u001b[0m\u001b[0;34m\u001b[0m\u001b[0;34m\u001b[0m\u001b[0m\n\u001b[0;32m-> 4185\u001b[0;31m                 \u001b[0mnew_axis\u001b[0m \u001b[0;34m=\u001b[0m \u001b[0maxis\u001b[0m\u001b[0;34m.\u001b[0m\u001b[0mdrop\u001b[0m\u001b[0;34m(\u001b[0m\u001b[0mlabels\u001b[0m\u001b[0;34m,\u001b[0m \u001b[0merrors\u001b[0m\u001b[0;34m=\u001b[0m\u001b[0merrors\u001b[0m\u001b[0;34m)\u001b[0m\u001b[0;34m\u001b[0m\u001b[0;34m\u001b[0m\u001b[0m\n\u001b[0m\u001b[1;32m   4186\u001b[0m             \u001b[0mresult\u001b[0m \u001b[0;34m=\u001b[0m \u001b[0mself\u001b[0m\u001b[0;34m.\u001b[0m\u001b[0mreindex\u001b[0m\u001b[0;34m(\u001b[0m\u001b[0;34m**\u001b[0m\u001b[0;34m{\u001b[0m\u001b[0maxis_name\u001b[0m\u001b[0;34m:\u001b[0m \u001b[0mnew_axis\u001b[0m\u001b[0;34m}\u001b[0m\u001b[0;34m)\u001b[0m\u001b[0;34m\u001b[0m\u001b[0;34m\u001b[0m\u001b[0m\n\u001b[1;32m   4187\u001b[0m \u001b[0;34m\u001b[0m\u001b[0m\n",
      "\u001b[0;32m/Library/Frameworks/Python.framework/Versions/3.7/lib/python3.7/site-packages/pandas/core/indexes/base.py\u001b[0m in \u001b[0;36mdrop\u001b[0;34m(self, labels, errors)\u001b[0m\n\u001b[1;32m   6015\u001b[0m         \u001b[0;32mif\u001b[0m \u001b[0mmask\u001b[0m\u001b[0;34m.\u001b[0m\u001b[0many\u001b[0m\u001b[0;34m(\u001b[0m\u001b[0;34m)\u001b[0m\u001b[0;34m:\u001b[0m\u001b[0;34m\u001b[0m\u001b[0;34m\u001b[0m\u001b[0m\n\u001b[1;32m   6016\u001b[0m             \u001b[0;32mif\u001b[0m \u001b[0merrors\u001b[0m \u001b[0;34m!=\u001b[0m \u001b[0;34m\"ignore\"\u001b[0m\u001b[0;34m:\u001b[0m\u001b[0;34m\u001b[0m\u001b[0;34m\u001b[0m\u001b[0m\n\u001b[0;32m-> 6017\u001b[0;31m                 \u001b[0;32mraise\u001b[0m \u001b[0mKeyError\u001b[0m\u001b[0;34m(\u001b[0m\u001b[0;34mf\"{labels[mask]} not found in axis\"\u001b[0m\u001b[0;34m)\u001b[0m\u001b[0;34m\u001b[0m\u001b[0;34m\u001b[0m\u001b[0m\n\u001b[0m\u001b[1;32m   6018\u001b[0m             \u001b[0mindexer\u001b[0m \u001b[0;34m=\u001b[0m \u001b[0mindexer\u001b[0m\u001b[0;34m[\u001b[0m\u001b[0;34m~\u001b[0m\u001b[0mmask\u001b[0m\u001b[0;34m]\u001b[0m\u001b[0;34m\u001b[0m\u001b[0;34m\u001b[0m\u001b[0m\n\u001b[1;32m   6019\u001b[0m         \u001b[0;32mreturn\u001b[0m \u001b[0mself\u001b[0m\u001b[0;34m.\u001b[0m\u001b[0mdelete\u001b[0m\u001b[0;34m(\u001b[0m\u001b[0mindexer\u001b[0m\u001b[0;34m)\u001b[0m\u001b[0;34m\u001b[0m\u001b[0;34m\u001b[0m\u001b[0m\n",
      "\u001b[0;31mKeyError\u001b[0m: \"['zip_code' 'area_classification'] not found in axis\""
     ]
    }
   ],
   "source": [
    "data1.drop(columns=['zip_code','area_classification'],inplace=True)\n"
   ]
  },
  {
   "cell_type": "code",
   "execution_count": 113,
   "metadata": {},
   "outputs": [],
   "source": [
    "input_data=data1.copy()\n",
    "input_data.drop(index=[4,19], inplace=True)\n"
   ]
  },
  {
   "cell_type": "code",
   "execution_count": 114,
   "metadata": {},
   "outputs": [],
   "source": [
    "input_data.var()\n",
    "input_data.dropna(inplace=True)\n",
    "# indicate the spread of the data in each feature\n",
    "# The high variance in traffic_count, population, and household_total_income\n",
    "# Low variance suggests that most values in this feature are close to the mean.a lack of diversity in categories.\n",
    "# standardizing features, especially for models sensitive to scale, such as linear regression, logistic regression, support vector machines (SVM), and k-means clustering. The `StandardScaler` standardizes features by removing the mean and scaling to unit variance (z-score normalization):\n"
   ]
  },
  {
   "cell_type": "code",
   "execution_count": 115,
   "metadata": {},
   "outputs": [
    {
     "data": {
      "image/png": "[encoded data removed]",
      "text/plain": [
       "<Figure size 720x720 with 2 Axes>"
      ]
     },
     "metadata": {
      "needs_background": "light"
     },
     "output_type": "display_data"
    }
   ],
   "source": [
    "corrmat = input_data.corr()\n",
    "top_corr_features = corrmat.index\n",
    "plt.figure(figsize=(10,10))\n",
    "#plot heat map\n",
    "g=sns.heatmap(input_data[top_corr_features].corr(),annot=True,cmap=\"RdYlGn\")\n"
   ]
  },
  {
   "cell_type": "markdown",
   "metadata": {},
   "source": [
    "# data vizualization 2d/3d\n",
    "\n"
   ]
  },
  {
   "cell_type": "raw",
   "metadata": {
    "vscode": {
     "languageId": "raw"
    }
   },
   "source": [
    "both are dimensionality reduction techniques used to visualize high-dimensional data.\n",
    "Comparison Summary\n",
    "Feature\tPCA 2D\tt-SNE 2D\n",
    "Type\tLinear\tNon-linear\n",
    "Preserves\tGlobal structure\tLocal structure\n",
    "Best for\tUnderstanding variance\tClustering visualization\n",
    "Computational Cost\tLow\tHigh\n",
    "Interpretability\tHigh\tLow\n",
    "Global Distances Meaningful?\tYes\tNo\n",
    "Which One to Use?\n",
    "If you want to analyze variance and maintain global relationships, use PCA.\n",
    "If you want to visualize clusters and local structures, use t-SNE.\n"
   ]
  },
  {
   "cell_type": "code",
   "execution_count": 80,
   "metadata": {},
   "outputs": [
    {
     "data": {
      "image/png": "[encoded data removed]",
      "text/plain": [
       "<Figure size 432x288 with 1 Axes>"
      ]
     },
     "metadata": {
      "needs_background": "light"
     },
     "output_type": "display_data"
    }
   ],
   "source": [
    "utils.twod(input_data)\n",
    "\n"
   ]
  },
  {
   "cell_type": "code",
   "execution_count": 81,
   "metadata": {},
   "outputs": [
    {
     "name": "stderr",
     "output_type": "stream",
     "text": [
      "/Library/Frameworks/Python.framework/Versions/3.7/lib/python3.7/site-packages/sklearn/manifold/_t_sne.py:783: FutureWarning:\n",
      "\n",
      "The default initialization in TSNE will change from 'random' to 'pca' in 1.2.\n",
      "\n",
      "/Library/Frameworks/Python.framework/Versions/3.7/lib/python3.7/site-packages/sklearn/manifold/_t_sne.py:793: FutureWarning:\n",
      "\n",
      "The default learning rate in TSNE will change from 200.0 to 'auto' in 1.2.\n",
      "\n"
     ]
    },
    {
     "name": "stdout",
     "output_type": "stream",
     "text": [
      "[t-SNE] Computing 36 nearest neighbors...\n",
      "[t-SNE] Indexed 37 samples in 0.000s...\n",
      "[t-SNE] Computed neighbors for 37 samples in 0.003s...\n",
      "[t-SNE] Computed conditional probabilities for sample 37 / 37\n",
      "[t-SNE] Mean sigma: 2.712253\n",
      "[t-SNE] KL divergence after 250 iterations with early exaggeration: 45.591362\n",
      "[t-SNE] KL divergence after 1000 iterations: 0.320433\n"
     ]
    },
    {
     "data": {
      "application/vnd.plotly.v1+json": {
       "config": {
        "plotlyServerURL": "https://plot.ly"
       },
       "data": [
        {
         "hovertemplate": "tsne1=%{x}<br>tsne2=%{y}<extra></extra>",
         "legendgroup": "",
         "marker": {
          "color": "#636efa",
          "symbol": "circle"
         },
         "mode": "markers",
         "name": "",
         "orientation": "v",
         "showlegend": false,
         "type": "scatter",
         "x": [
          76.71926,
          -35.98497,
          85.73487,
          -16.21537,
          -81.509056,
          -59.61159,
          -65.78157,
          45.457268,
          -41.947083,
          76.46426,
          12.09,
          22.97256,
          -12.25892,
          -70.83854,
          22.64883,
          -6.9816003,
          53.70585,
          -42.033646,
          -20.740557,
          -24.695116,
          99.531235,
          112.98114,
          53.875355,
          25.858747,
          -99.098755,
          19.764969,
          -1.5756775,
          -104.739845,
          -96.86915,
          -16.093706,
          -42.330654,
          -56.050632,
          -73.7981,
          55.01057,
          40.258415,
          49.154453,
          10.964149
         ],
         "xaxis": "x",
         "y": [
          -12.601584,
          56.829613,
          30.663656,
          -17.828167,
          -103.10134,
          77.7502,
          -58.427067,
          -126.516594,
          -33.49548,
          -51.851276,
          -30.726414,
          -93.31151,
          82.0783,
          -19.987534,
          62.606236,
          46.350697,
          -82.91245,
          -1.5985757,
          -55.03162,
          22.517624,
          -82.80876,
          -43.003403,
          15.711743,
          -4.516775,
          -38.040546,
          26.870321,
          6.4277434,
          0.31473342,
          41.03558,
          -114.74111,
          -83.67536,
          32.700066,
          10.052489,
          53.54282,
          -50.140186,
          -22.961159,
          -62.883057
         ],
         "yaxis": "y"
        }
       ],
       "layout": {
        "height": 300,
        "legend": {
         "tracegroupgap": 0
        },
        "template": {
         "data": {
          "bar": [
           {
            "error_x": {
             "color": "#2a3f5f"
            },
            "error_y": {
             "color": "#2a3f5f"
            },
            "marker": {
             "line": {
              "color": "#E5ECF6",
              "width": 0.5
             },
             "pattern": {
              "fillmode": "overlay",
              "size": 10,
              "solidity": 0.2
             }
            },
            "type": "bar"
           }
          ],
          "barpolar": [
           {
            "marker": {
             "line": {
              "color": "#E5ECF6",
              "width": 0.5
             },
             "pattern": {
              "fillmode": "overlay",
              "size": 10,
              "solidity": 0.2
             }
            },
            "type": "barpolar"
           }
          ],
          "carpet": [
           {
            "aaxis": {
             "endlinecolor": "#2a3f5f",
             "gridcolor": "white",
             "linecolor": "white",
             "minorgridcolor": "white",
             "startlinecolor": "#2a3f5f"
            },
            "baxis": {
             "endlinecolor": "#2a3f5f",
             "gridcolor": "white",
             "linecolor": "white",
             "minorgridcolor": "white",
             "startlinecolor": "#2a3f5f"
            },
            "type": "carpet"
           }
          ],
          "choropleth": [
           {
            "colorbar": {
             "outlinewidth": 0,
             "ticks": ""
            },
            "type": "choropleth"
           }
          ],
          "contour": [
           {
            "colorbar": {
             "outlinewidth": 0,
             "ticks": ""
            },
            "colorscale": [
             [
              0,
              "#0d0887"
             ],
             [
              0.1111111111111111,
              "#46039f"
             ],
             [
              0.2222222222222222,
              "#7201a8"
             ],
             [
              0.3333333333333333,
              "#9c179e"
             ],
             [
              0.4444444444444444,
              "#bd3786"
             ],
             [
              0.5555555555555556,
              "#d8576b"
             ],
             [
              0.6666666666666666,
              "#ed7953"
             ],
             [
              0.7777777777777778,
              "#fb9f3a"
             ],
             [
              0.8888888888888888,
              "#fdca26"
             ],
             [
              1,
              "#f0f921"
             ]
            ],
            "type": "contour"
           }
          ],
          "contourcarpet": [
           {
            "colorbar": {
             "outlinewidth": 0,
             "ticks": ""
            },
            "type": "contourcarpet"
           }
          ],
          "heatmap": [
           {
            "colorbar": {
             "outlinewidth": 0,
             "ticks": ""
            },
            "colorscale": [
             [
              0,
              "#0d0887"
             ],
             [
              0.1111111111111111,
              "#46039f"
             ],
             [
              0.2222222222222222,
              "#7201a8"
             ],
             [
              0.3333333333333333,
              "#9c179e"
             ],
             [
              0.4444444444444444,
              "#bd3786"
             ],
             [
              0.5555555555555556,
              "#d8576b"
             ],
             [
              0.6666666666666666,
              "#ed7953"
             ],
             [
              0.7777777777777778,
              "#fb9f3a"
             ],
             [
              0.8888888888888888,
              "#fdca26"
             ],
             [
              1,
              "#f0f921"
             ]
            ],
            "type": "heatmap"
           }
          ],
          "heatmapgl": [
           {
            "colorbar": {
             "outlinewidth": 0,
             "ticks": ""
            },
            "colorscale": [
             [
              0,
              "#0d0887"
             ],
             [
              0.1111111111111111,
              "#46039f"
             ],
             [
              0.2222222222222222,
              "#7201a8"
             ],
             [
              0.3333333333333333,
              "#9c179e"
             ],
             [
              0.4444444444444444,
              "#bd3786"
             ],
             [
              0.5555555555555556,
              "#d8576b"
             ],
             [
              0.6666666666666666,
              "#ed7953"
             ],
             [
              0.7777777777777778,
              "#fb9f3a"
             ],
             [
              0.8888888888888888,
              "#fdca26"
             ],
             [
              1,
              "#f0f921"
             ]
            ],
            "type": "heatmapgl"
           }
          ],
          "histogram": [
           {
            "marker": {
             "pattern": {
              "fillmode": "overlay",
              "size": 10,
              "solidity": 0.2
             }
            },
            "type": "histogram"
           }
          ],
          "histogram2d": [
           {
            "colorbar": {
             "outlinewidth": 0,
             "ticks": ""
            },
            "colorscale": [
             [
              0,
              "#0d0887"
             ],
             [
              0.1111111111111111,
              "#46039f"
             ],
             [
              0.2222222222222222,
              "#7201a8"
             ],
             [
              0.3333333333333333,
              "#9c179e"
             ],
             [
              0.4444444444444444,
              "#bd3786"
             ],
             [
              0.5555555555555556,
              "#d8576b"
             ],
             [
              0.6666666666666666,
              "#ed7953"
             ],
             [
              0.7777777777777778,
              "#fb9f3a"
             ],
             [
              0.8888888888888888,
              "#fdca26"
             ],
             [
              1,
              "#f0f921"
             ]
            ],
            "type": "histogram2d"
           }
          ],
          "histogram2dcontour": [
           {
            "colorbar": {
             "outlinewidth": 0,
             "ticks": ""
            },
            "colorscale": [
             [
              0,
              "#0d0887"
             ],
             [
              0.1111111111111111,
              "#46039f"
             ],
             [
              0.2222222222222222,
              "#7201a8"
             ],
             [
              0.3333333333333333,
              "#9c179e"
             ],
             [
              0.4444444444444444,
              "#bd3786"
             ],
             [
              0.5555555555555556,
              "#d8576b"
             ],
             [
              0.6666666666666666,
              "#ed7953"
             ],
             [
              0.7777777777777778,
              "#fb9f3a"
             ],
             [
              0.8888888888888888,
              "#fdca26"
             ],
             [
              1,
              "#f0f921"
             ]
            ],
            "type": "histogram2dcontour"
           }
          ],
          "mesh3d": [
           {
            "colorbar": {
             "outlinewidth": 0,
             "ticks": ""
            },
            "type": "mesh3d"
           }
          ],
          "parcoords": [
           {
            "line": {
             "colorbar": {
              "outlinewidth": 0,
              "ticks": ""
             }
            },
            "type": "parcoords"
           }
          ],
          "pie": [
           {
            "automargin": true,
            "type": "pie"
           }
          ],
          "scatter": [
           {
            "fillpattern": {
             "fillmode": "overlay",
             "size": 10,
             "solidity": 0.2
            },
            "type": "scatter"
           }
          ],
          "scatter3d": [
           {
            "line": {
             "colorbar": {
              "outlinewidth": 0,
              "ticks": ""
             }
            },
            "marker": {
             "colorbar": {
              "outlinewidth": 0,
              "ticks": ""
             }
            },
            "type": "scatter3d"
           }
          ],
          "scattercarpet": [
           {
            "marker": {
             "colorbar": {
              "outlinewidth": 0,
              "ticks": ""
             }
            },
            "type": "scattercarpet"
           }
          ],
          "scattergeo": [
           {
            "marker": {
             "colorbar": {
              "outlinewidth": 0,
              "ticks": ""
             }
            },
            "type": "scattergeo"
           }
          ],
          "scattergl": [
           {
            "marker": {
             "colorbar": {
              "outlinewidth": 0,
              "ticks": ""
             }
            },
            "type": "scattergl"
           }
          ],
          "scattermapbox": [
           {
            "marker": {
             "colorbar": {
              "outlinewidth": 0,
              "ticks": ""
             }
            },
            "type": "scattermapbox"
           }
          ],
          "scatterpolar": [
           {
            "marker": {
             "colorbar": {
              "outlinewidth": 0,
              "ticks": ""
             }
            },
            "type": "scatterpolar"
           }
          ],
          "scatterpolargl": [
           {
            "marker": {
             "colorbar": {
              "outlinewidth": 0,
              "ticks": ""
             }
            },
            "type": "scatterpolargl"
           }
          ],
          "scatterternary": [
           {
            "marker": {
             "colorbar": {
              "outlinewidth": 0,
              "ticks": ""
             }
            },
            "type": "scatterternary"
           }
          ],
          "surface": [
           {
            "colorbar": {
             "outlinewidth": 0,
             "ticks": ""
            },
            "colorscale": [
             [
              0,
              "#0d0887"
             ],
             [
              0.1111111111111111,
              "#46039f"
             ],
             [
              0.2222222222222222,
              "#7201a8"
             ],
             [
              0.3333333333333333,
              "#9c179e"
             ],
             [
              0.4444444444444444,
              "#bd3786"
             ],
             [
              0.5555555555555556,
              "#d8576b"
             ],
             [
              0.6666666666666666,
              "#ed7953"
             ],
             [
              0.7777777777777778,
              "#fb9f3a"
             ],
             [
              0.8888888888888888,
              "#fdca26"
             ],
             [
              1,
              "#f0f921"
             ]
            ],
            "type": "surface"
           }
          ],
          "table": [
           {
            "cells": {
             "fill": {
              "color": "#EBF0F8"
             },
             "line": {
              "color": "white"
             }
            },
            "header": {
             "fill": {
              "color": "#C8D4E3"
             },
             "line": {
              "color": "white"
             }
            },
            "type": "table"
           }
          ]
         },
         "layout": {
          "annotationdefaults": {
           "arrowcolor": "#2a3f5f",
           "arrowhead": 0,
           "arrowwidth": 1
          },
          "autotypenumbers": "strict",
          "coloraxis": {
           "colorbar": {
            "outlinewidth": 0,
            "ticks": ""
           }
          },
          "colorscale": {
           "diverging": [
            [
             0,
             "#8e0152"
            ],
            [
             0.1,
             "#c51b7d"
            ],
            [
             0.2,
             "#de77ae"
            ],
            [
             0.3,
             "#f1b6da"
            ],
            [
             0.4,
             "#fde0ef"
            ],
            [
             0.5,
             "#f7f7f7"
            ],
            [
             0.6,
             "#e6f5d0"
            ],
            [
             0.7,
             "#b8e186"
            ],
            [
             0.8,
             "#7fbc41"
            ],
            [
             0.9,
             "#4d9221"
            ],
            [
             1,
             "#276419"
            ]
           ],
           "sequential": [
            [
             0,
             "#0d0887"
            ],
            [
             0.1111111111111111,
             "#46039f"
            ],
            [
             0.2222222222222222,
             "#7201a8"
            ],
            [
             0.3333333333333333,
             "#9c179e"
            ],
            [
             0.4444444444444444,
             "#bd3786"
            ],
            [
             0.5555555555555556,
             "#d8576b"
            ],
            [
             0.6666666666666666,
             "#ed7953"
            ],
            [
             0.7777777777777778,
             "#fb9f3a"
            ],
            [
             0.8888888888888888,
             "#fdca26"
            ],
            [
             1,
             "#f0f921"
            ]
           ],
           "sequentialminus": [
            [
             0,
             "#0d0887"
            ],
            [
             0.1111111111111111,
             "#46039f"
            ],
            [
             0.2222222222222222,
             "#7201a8"
            ],
            [
             0.3333333333333333,
             "#9c179e"
            ],
            [
             0.4444444444444444,
             "#bd3786"
            ],
            [
             0.5555555555555556,
             "#d8576b"
            ],
            [
             0.6666666666666666,
             "#ed7953"
            ],
            [
             0.7777777777777778,
             "#fb9f3a"
            ],
            [
             0.8888888888888888,
             "#fdca26"
            ],
            [
             1,
             "#f0f921"
            ]
           ]
          },
          "colorway": [
           "#636efa",
           "#EF553B",
           "#00cc96",
           "#ab63fa",
           "#FFA15A",
           "#19d3f3",
           "#FF6692",
           "#B6E880",
           "#FF97FF",
           "#FECB52"
          ],
          "font": {
           "color": "#2a3f5f"
          },
          "geo": {
           "bgcolor": "white",
           "lakecolor": "white",
           "landcolor": "#E5ECF6",
           "showlakes": true,
           "showland": true,
           "subunitcolor": "white"
          },
          "hoverlabel": {
           "align": "left"
          },
          "hovermode": "closest",
          "mapbox": {
           "style": "light"
          },
          "paper_bgcolor": "white",
          "plot_bgcolor": "#E5ECF6",
          "polar": {
           "angularaxis": {
            "gridcolor": "white",
            "linecolor": "white",
            "ticks": ""
           },
           "bgcolor": "#E5ECF6",
           "radialaxis": {
            "gridcolor": "white",
            "linecolor": "white",
            "ticks": ""
           }
          },
          "scene": {
           "xaxis": {
            "backgroundcolor": "#E5ECF6",
            "gridcolor": "white",
            "gridwidth": 2,
            "linecolor": "white",
            "showbackground": true,
            "ticks": "",
            "zerolinecolor": "white"
           },
           "yaxis": {
            "backgroundcolor": "#E5ECF6",
            "gridcolor": "white",
            "gridwidth": 2,
            "linecolor": "white",
            "showbackground": true,
            "ticks": "",
            "zerolinecolor": "white"
           },
           "zaxis": {
            "backgroundcolor": "#E5ECF6",
            "gridcolor": "white",
            "gridwidth": 2,
            "linecolor": "white",
            "showbackground": true,
            "ticks": "",
            "zerolinecolor": "white"
           }
          },
          "shapedefaults": {
           "line": {
            "color": "#2a3f5f"
           }
          },
          "ternary": {
           "aaxis": {
            "gridcolor": "white",
            "linecolor": "white",
            "ticks": ""
           },
           "baxis": {
            "gridcolor": "white",
            "linecolor": "white",
            "ticks": ""
           },
           "bgcolor": "#E5ECF6",
           "caxis": {
            "gridcolor": "white",
            "linecolor": "white",
            "ticks": ""
           }
          },
          "title": {
           "x": 0.05
          },
          "xaxis": {
           "automargin": true,
           "gridcolor": "white",
           "linecolor": "white",
           "ticks": "",
           "title": {
            "standoff": 15
           },
           "zerolinecolor": "white",
           "zerolinewidth": 2
          },
          "yaxis": {
           "automargin": true,
           "gridcolor": "white",
           "linecolor": "white",
           "ticks": "",
           "title": {
            "standoff": 15
           },
           "zerolinecolor": "white",
           "zerolinewidth": 2
          }
         }
        },
        "title": {
         "text": "2D View of Data points"
        },
        "width": 400,
        "xaxis": {
         "anchor": "y",
         "domain": [
          0,
          1
         ],
         "title": {
          "text": "tsne1"
         }
        },
        "yaxis": {
         "anchor": "x",
         "domain": [
          0,
          1
         ],
         "title": {
          "text": "tsne2"
         }
        }
       }
      }
     },
     "metadata": {},
     "output_type": "display_data"
    }
   ],
   "source": [
    "scaler = StandardScaler()\n",
    "scaled_data = scaler.fit_transform(input_data)\n",
    "def twoD_tsne(scaled_data):\n",
    "        tsne = TSNE(n_components=2, verbose=1, perplexity=30, n_iter=1000,random_state=0)\n",
    "        tsne_results = tsne.fit_transform(scaled_data)\n",
    "        tsne_df = pd.DataFrame(data = tsne_results,columns=['tsne1','tsne2'])\n",
    "        # tsne_df = pd.concat([tsne_df, pd.DataFrame({'cluster':labels})], axis=1)\n",
    "        fig = px.scatter(tsne_df,x=\"tsne1\", y=\"tsne2\",\n",
    "                         width=400, height=300,title='2D View of Data points')\n",
    "        fig.show()  \n",
    "twoD_tsne(scaled_data)\n"
   ]
  },
  {
   "cell_type": "code",
   "execution_count": 82,
   "metadata": {},
   "outputs": [
    {
     "name": "stderr",
     "output_type": "stream",
     "text": [
      "/Library/Frameworks/Python.framework/Versions/3.7/lib/python3.7/site-packages/sklearn/manifold/_t_sne.py:783: FutureWarning:\n",
      "\n",
      "The default initialization in TSNE will change from 'random' to 'pca' in 1.2.\n",
      "\n",
      "/Library/Frameworks/Python.framework/Versions/3.7/lib/python3.7/site-packages/sklearn/manifold/_t_sne.py:793: FutureWarning:\n",
      "\n",
      "The default learning rate in TSNE will change from 200.0 to 'auto' in 1.2.\n",
      "\n"
     ]
    },
    {
     "name": "stdout",
     "output_type": "stream",
     "text": [
      "[t-SNE] Computing 36 nearest neighbors...\n",
      "[t-SNE] Indexed 37 samples in 0.000s...\n",
      "[t-SNE] Computed neighbors for 37 samples in 0.002s...\n",
      "[t-SNE] Computed conditional probabilities for sample 37 / 37\n",
      "[t-SNE] Mean sigma: 2.712253\n",
      "[t-SNE] KL divergence after 250 iterations with early exaggeration: 70.504059\n",
      "[t-SNE] KL divergence after 1000 iterations: 0.726871\n"
     ]
    },
    {
     "data": {
      "application/vnd.plotly.v1+json": {
       "config": {
        "plotlyServerURL": "https://plot.ly"
       },
       "data": [
        {
         "hovertemplate": "tsne1=%{x}<br>tsne2=%{y}<br>tsne3=%{z}<extra></extra>",
         "legendgroup": "",
         "marker": {
          "color": "#636efa",
          "symbol": "circle"
         },
         "mode": "markers",
         "name": "",
         "scene": "scene",
         "showlegend": false,
         "type": "scatter3d",
         "x": [
          11.598209,
          -53.45723,
          -216.93085,
          47.690006,
          244.13527,
          -139.36517,
          -88.74353,
          101.48791,
          -348.1776,
          143.05904,
          55.004684,
          188.67267,
          27.65329,
          -76.00995,
          -37.991135,
          58.769547,
          137.6541,
          -101.151146,
          19.563786,
          -113.61501,
          189.0838,
          -103.12012,
          59.391575,
          -96.283905,
          36.137627,
          -34.01997,
          155.21358,
          -57.01276,
          -31.330225,
          15.484344,
          134.52618,
          -52.22941,
          87.766396,
          -201.1016,
          56.514034,
          -141.99765,
          -184.7492
         ],
         "y": [
          76.95357,
          -205.91818,
          -20.035599,
          -140.91528,
          49.783947,
          -141.94458,
          37.88122,
          -64.74441,
          334.90915,
          47.82325,
          -35.28822,
          -82.99495,
          216.34755,
          175.24893,
          -82.747604,
          -15.370071,
          164.04715,
          175.77017,
          -33.509113,
          -29.8744,
          -142.13222,
          -192.5539,
          -168.72891,
          -61.535877,
          -145.9387,
          65.088684,
          47.660725,
          -65.36059,
          197.90443,
          78.776566,
          -20.637373,
          61.267044,
          101.5209,
          -103.849525,
          147.18306,
          61.411694,
          73.50949
         ],
         "z": [
          74.98187,
          31.998674,
          102.12931,
          -22.143274,
          0.10187827,
          113.27409,
          148.29065,
          213.35237,
          75.718445,
          134.51071,
          70.81,
          83.24743,
          -18.143017,
          -117.27981,
          172.20659,
          -197.51814,
          80.76618,
          12.986699,
          -78.307495,
          -60.97274,
          -73.08796,
          -102.89743,
          111.06433,
          -174.40393,
          -157.30936,
          -42.002903,
          -137.51367,
          35.52024,
          128.2342,
          218.61598,
          -29.39823,
          -177.94565,
          -33.055035,
          -4.957127,
          -153.73967,
          34.680416,
          -94.25667
         ]
        }
       ],
       "layout": {
        "height": 400,
        "legend": {
         "tracegroupgap": 0
        },
        "margin": {
         "t": 60
        },
        "scene": {
         "domain": {
          "x": [
           0,
           1
          ],
          "y": [
           0,
           1
          ]
         },
         "xaxis": {
          "title": {
           "text": "tsne1"
          }
         },
         "yaxis": {
          "title": {
           "text": "tsne2"
          }
         },
         "zaxis": {
          "title": {
           "text": "tsne3"
          }
         }
        },
        "template": {
         "data": {
          "bar": [
           {
            "error_x": {
             "color": "#2a3f5f"
            },
            "error_y": {
             "color": "#2a3f5f"
            },
            "marker": {
             "line": {
              "color": "#E5ECF6",
              "width": 0.5
             },
             "pattern": {
              "fillmode": "overlay",
              "size": 10,
              "solidity": 0.2
             }
            },
            "type": "bar"
           }
          ],
          "barpolar": [
           {
            "marker": {
             "line": {
              "color": "#E5ECF6",
              "width": 0.5
             },
             "pattern": {
              "fillmode": "overlay",
              "size": 10,
              "solidity": 0.2
             }
            },
            "type": "barpolar"
           }
          ],
          "carpet": [
           {
            "aaxis": {
             "endlinecolor": "#2a3f5f",
             "gridcolor": "white",
             "linecolor": "white",
             "minorgridcolor": "white",
             "startlinecolor": "#2a3f5f"
            },
            "baxis": {
             "endlinecolor": "#2a3f5f",
             "gridcolor": "white",
             "linecolor": "white",
             "minorgridcolor": "white",
             "startlinecolor": "#2a3f5f"
            },
            "type": "carpet"
           }
          ],
          "choropleth": [
           {
            "colorbar": {
             "outlinewidth": 0,
             "ticks": ""
            },
            "type": "choropleth"
           }
          ],
          "contour": [
           {
            "colorbar": {
             "outlinewidth": 0,
             "ticks": ""
            },
            "colorscale": [
             [
              0,
              "#0d0887"
             ],
             [
              0.1111111111111111,
              "#46039f"
             ],
             [
              0.2222222222222222,
              "#7201a8"
             ],
             [
              0.3333333333333333,
              "#9c179e"
             ],
             [
              0.4444444444444444,
              "#bd3786"
             ],
             [
              0.5555555555555556,
              "#d8576b"
             ],
             [
              0.6666666666666666,
              "#ed7953"
             ],
             [
              0.7777777777777778,
              "#fb9f3a"
             ],
             [
              0.8888888888888888,
              "#fdca26"
             ],
             [
              1,
              "#f0f921"
             ]
            ],
            "type": "contour"
           }
          ],
          "contourcarpet": [
           {
            "colorbar": {
             "outlinewidth": 0,
             "ticks": ""
            },
            "type": "contourcarpet"
           }
          ],
          "heatmap": [
           {
            "colorbar": {
             "outlinewidth": 0,
             "ticks": ""
            },
            "colorscale": [
             [
              0,
              "#0d0887"
             ],
             [
              0.1111111111111111,
              "#46039f"
             ],
             [
              0.2222222222222222,
              "#7201a8"
             ],
             [
              0.3333333333333333,
              "#9c179e"
             ],
             [
              0.4444444444444444,
              "#bd3786"
             ],
             [
              0.5555555555555556,
              "#d8576b"
             ],
             [
              0.6666666666666666,
              "#ed7953"
             ],
             [
              0.7777777777777778,
              "#fb9f3a"
             ],
             [
              0.8888888888888888,
              "#fdca26"
             ],
             [
              1,
              "#f0f921"
             ]
            ],
            "type": "heatmap"
           }
          ],
          "heatmapgl": [
           {
            "colorbar": {
             "outlinewidth": 0,
             "ticks": ""
            },
            "colorscale": [
             [
              0,
              "#0d0887"
             ],
             [
              0.1111111111111111,
              "#46039f"
             ],
             [
              0.2222222222222222,
              "#7201a8"
             ],
             [
              0.3333333333333333,
              "#9c179e"
             ],
             [
              0.4444444444444444,
              "#bd3786"
             ],
             [
              0.5555555555555556,
              "#d8576b"
             ],
             [
              0.6666666666666666,
              "#ed7953"
             ],
             [
              0.7777777777777778,
              "#fb9f3a"
             ],
             [
              0.8888888888888888,
              "#fdca26"
             ],
             [
              1,
              "#f0f921"
             ]
            ],
            "type": "heatmapgl"
           }
          ],
          "histogram": [
           {
            "marker": {
             "pattern": {
              "fillmode": "overlay",
              "size": 10,
              "solidity": 0.2
             }
            },
            "type": "histogram"
           }
          ],
          "histogram2d": [
           {
            "colorbar": {
             "outlinewidth": 0,
             "ticks": ""
            },
            "colorscale": [
             [
              0,
              "#0d0887"
             ],
             [
              0.1111111111111111,
              "#46039f"
             ],
             [
              0.2222222222222222,
              "#7201a8"
             ],
             [
              0.3333333333333333,
              "#9c179e"
             ],
             [
              0.4444444444444444,
              "#bd3786"
             ],
             [
              0.5555555555555556,
              "#d8576b"
             ],
             [
              0.6666666666666666,
              "#ed7953"
             ],
             [
              0.7777777777777778,
              "#fb9f3a"
             ],
             [
              0.8888888888888888,
              "#fdca26"
             ],
             [
              1,
              "#f0f921"
             ]
            ],
            "type": "histogram2d"
           }
          ],
          "histogram2dcontour": [
           {
            "colorbar": {
             "outlinewidth": 0,
             "ticks": ""
            },
            "colorscale": [
             [
              0,
              "#0d0887"
             ],
             [
              0.1111111111111111,
              "#46039f"
             ],
             [
              0.2222222222222222,
              "#7201a8"
             ],
             [
              0.3333333333333333,
              "#9c179e"
             ],
             [
              0.4444444444444444,
              "#bd3786"
             ],
             [
              0.5555555555555556,
              "#d8576b"
             ],
             [
              0.6666666666666666,
              "#ed7953"
             ],
             [
              0.7777777777777778,
              "#fb9f3a"
             ],
             [
              0.8888888888888888,
              "#fdca26"
             ],
             [
              1,
              "#f0f921"
             ]
            ],
            "type": "histogram2dcontour"
           }
          ],
          "mesh3d": [
           {
            "colorbar": {
             "outlinewidth": 0,
             "ticks": ""
            },
            "type": "mesh3d"
           }
          ],
          "parcoords": [
           {
            "line": {
             "colorbar": {
              "outlinewidth": 0,
              "ticks": ""
             }
            },
            "type": "parcoords"
           }
          ],
          "pie": [
           {
            "automargin": true,
            "type": "pie"
           }
          ],
          "scatter": [
           {
            "fillpattern": {
             "fillmode": "overlay",
             "size": 10,
             "solidity": 0.2
            },
            "type": "scatter"
           }
          ],
          "scatter3d": [
           {
            "line": {
             "colorbar": {
              "outlinewidth": 0,
              "ticks": ""
             }
            },
            "marker": {
             "colorbar": {
              "outlinewidth": 0,
              "ticks": ""
             }
            },
            "type": "scatter3d"
           }
          ],
          "scattercarpet": [
           {
            "marker": {
             "colorbar": {
              "outlinewidth": 0,
              "ticks": ""
             }
            },
            "type": "scattercarpet"
           }
          ],
          "scattergeo": [
           {
            "marker": {
             "colorbar": {
              "outlinewidth": 0,
              "ticks": ""
             }
            },
            "type": "scattergeo"
           }
          ],
          "scattergl": [
           {
            "marker": {
             "colorbar": {
              "outlinewidth": 0,
              "ticks": ""
             }
            },
            "type": "scattergl"
           }
          ],
          "scattermapbox": [
           {
            "marker": {
             "colorbar": {
              "outlinewidth": 0,
              "ticks": ""
             }
            },
            "type": "scattermapbox"
           }
          ],
          "scatterpolar": [
           {
            "marker": {
             "colorbar": {
              "outlinewidth": 0,
              "ticks": ""
             }
            },
            "type": "scatterpolar"
           }
          ],
          "scatterpolargl": [
           {
            "marker": {
             "colorbar": {
              "outlinewidth": 0,
              "ticks": ""
             }
            },
            "type": "scatterpolargl"
           }
          ],
          "scatterternary": [
           {
            "marker": {
             "colorbar": {
              "outlinewidth": 0,
              "ticks": ""
             }
            },
            "type": "scatterternary"
           }
          ],
          "surface": [
           {
            "colorbar": {
             "outlinewidth": 0,
             "ticks": ""
            },
            "colorscale": [
             [
              0,
              "#0d0887"
             ],
             [
              0.1111111111111111,
              "#46039f"
             ],
             [
              0.2222222222222222,
              "#7201a8"
             ],
             [
              0.3333333333333333,
              "#9c179e"
             ],
             [
              0.4444444444444444,
              "#bd3786"
             ],
             [
              0.5555555555555556,
              "#d8576b"
             ],
             [
              0.6666666666666666,
              "#ed7953"
             ],
             [
              0.7777777777777778,
              "#fb9f3a"
             ],
             [
              0.8888888888888888,
              "#fdca26"
             ],
             [
              1,
              "#f0f921"
             ]
            ],
            "type": "surface"
           }
          ],
          "table": [
           {
            "cells": {
             "fill": {
              "color": "#EBF0F8"
             },
             "line": {
              "color": "white"
             }
            },
            "header": {
             "fill": {
              "color": "#C8D4E3"
             },
             "line": {
              "color": "white"
             }
            },
            "type": "table"
           }
          ]
         },
         "layout": {
          "annotationdefaults": {
           "arrowcolor": "#2a3f5f",
           "arrowhead": 0,
           "arrowwidth": 1
          },
          "autotypenumbers": "strict",
          "coloraxis": {
           "colorbar": {
            "outlinewidth": 0,
            "ticks": ""
           }
          },
          "colorscale": {
           "diverging": [
            [
             0,
             "#8e0152"
            ],
            [
             0.1,
             "#c51b7d"
            ],
            [
             0.2,
             "#de77ae"
            ],
            [
             0.3,
             "#f1b6da"
            ],
            [
             0.4,
             "#fde0ef"
            ],
            [
             0.5,
             "#f7f7f7"
            ],
            [
             0.6,
             "#e6f5d0"
            ],
            [
             0.7,
             "#b8e186"
            ],
            [
             0.8,
             "#7fbc41"
            ],
            [
             0.9,
             "#4d9221"
            ],
            [
             1,
             "#276419"
            ]
           ],
           "sequential": [
            [
             0,
             "#0d0887"
            ],
            [
             0.1111111111111111,
             "#46039f"
            ],
            [
             0.2222222222222222,
             "#7201a8"
            ],
            [
             0.3333333333333333,
             "#9c179e"
            ],
            [
             0.4444444444444444,
             "#bd3786"
            ],
            [
             0.5555555555555556,
             "#d8576b"
            ],
            [
             0.6666666666666666,
             "#ed7953"
            ],
            [
             0.7777777777777778,
             "#fb9f3a"
            ],
            [
             0.8888888888888888,
             "#fdca26"
            ],
            [
             1,
             "#f0f921"
            ]
           ],
           "sequentialminus": [
            [
             0,
             "#0d0887"
            ],
            [
             0.1111111111111111,
             "#46039f"
            ],
            [
             0.2222222222222222,
             "#7201a8"
            ],
            [
             0.3333333333333333,
             "#9c179e"
            ],
            [
             0.4444444444444444,
             "#bd3786"
            ],
            [
             0.5555555555555556,
             "#d8576b"
            ],
            [
             0.6666666666666666,
             "#ed7953"
            ],
            [
             0.7777777777777778,
             "#fb9f3a"
            ],
            [
             0.8888888888888888,
             "#fdca26"
            ],
            [
             1,
             "#f0f921"
            ]
           ]
          },
          "colorway": [
           "#636efa",
           "#EF553B",
           "#00cc96",
           "#ab63fa",
           "#FFA15A",
           "#19d3f3",
           "#FF6692",
           "#B6E880",
           "#FF97FF",
           "#FECB52"
          ],
          "font": {
           "color": "#2a3f5f"
          },
          "geo": {
           "bgcolor": "white",
           "lakecolor": "white",
           "landcolor": "#E5ECF6",
           "showlakes": true,
           "showland": true,
           "subunitcolor": "white"
          },
          "hoverlabel": {
           "align": "left"
          },
          "hovermode": "closest",
          "mapbox": {
           "style": "light"
          },
          "paper_bgcolor": "white",
          "plot_bgcolor": "#E5ECF6",
          "polar": {
           "angularaxis": {
            "gridcolor": "white",
            "linecolor": "white",
            "ticks": ""
           },
           "bgcolor": "#E5ECF6",
           "radialaxis": {
            "gridcolor": "white",
            "linecolor": "white",
            "ticks": ""
           }
          },
          "scene": {
           "xaxis": {
            "backgroundcolor": "#E5ECF6",
            "gridcolor": "white",
            "gridwidth": 2,
            "linecolor": "white",
            "showbackground": true,
            "ticks": "",
            "zerolinecolor": "white"
           },
           "yaxis": {
            "backgroundcolor": "#E5ECF6",
            "gridcolor": "white",
            "gridwidth": 2,
            "linecolor": "white",
            "showbackground": true,
            "ticks": "",
            "zerolinecolor": "white"
           },
           "zaxis": {
            "backgroundcolor": "#E5ECF6",
            "gridcolor": "white",
            "gridwidth": 2,
            "linecolor": "white",
            "showbackground": true,
            "ticks": "",
            "zerolinecolor": "white"
           }
          },
          "shapedefaults": {
           "line": {
            "color": "#2a3f5f"
           }
          },
          "ternary": {
           "aaxis": {
            "gridcolor": "white",
            "linecolor": "white",
            "ticks": ""
           },
           "baxis": {
            "gridcolor": "white",
            "linecolor": "white",
            "ticks": ""
           },
           "bgcolor": "#E5ECF6",
           "caxis": {
            "gridcolor": "white",
            "linecolor": "white",
            "ticks": ""
           }
          },
          "title": {
           "x": 0.05
          },
          "xaxis": {
           "automargin": true,
           "gridcolor": "white",
           "linecolor": "white",
           "ticks": "",
           "title": {
            "standoff": 15
           },
           "zerolinecolor": "white",
           "zerolinewidth": 2
          },
          "yaxis": {
           "automargin": true,
           "gridcolor": "white",
           "linecolor": "white",
           "ticks": "",
           "title": {
            "standoff": 15
           },
           "zerolinecolor": "white",
           "zerolinewidth": 2
          }
         }
        },
        "width": 500
       }
      }
     },
     "metadata": {},
     "output_type": "display_data"
    }
   ],
   "source": [
    "def threeD_tsne(scaled_data):\n",
    "    tsne = TSNE(n_components=3, verbose=1, perplexity=30, n_iter=1000, random_state=0)\n",
    "    tsne_results = tsne.fit_transform(scaled_data)\n",
    "    \n",
    "    tsne_df = pd.DataFrame(data=tsne_results, columns=['tsne1', 'tsne2', 'tsne3'])\n",
    "    \n",
    "    fig = px.scatter_3d(tsne_df, x=\"tsne1\", y=\"tsne2\", z=\"tsne3\",\n",
    "                         width=500, height=400)\n",
    "    \n",
    "    fig.show()\n",
    "threeD_tsne(scaled_data)\n"
   ]
  },
  {
   "cell_type": "code",
   "execution_count": 83,
   "metadata": {},
   "outputs": [
    {
     "data": {
      "image/png": "[encoded data removed]",
      "text/plain": [
       "<Figure size 432x288 with 1 Axes>"
      ]
     },
     "metadata": {
      "needs_background": "light"
     },
     "output_type": "display_data"
    }
   ],
   "source": [
    "\n",
    "utils.twod(input_data)\n"
   ]
  },
  {
   "cell_type": "code",
   "execution_count": null,
   "metadata": {},
   "outputs": [],
   "source": []
  },
  {
   "cell_type": "code",
   "execution_count": 84,
   "metadata": {},
   "outputs": [
    {
     "data": {
      "image/png": "[encoded data removed]",
      "text/plain": [
       "<Figure size 432x288 with 1 Axes>"
      ]
     },
     "metadata": {
      "needs_background": "light"
     },
     "output_type": "display_data"
    }
   ],
   "source": [
    "utils.threeD(input_data)\n"
   ]
  },
  {
   "cell_type": "markdown",
   "metadata": {},
   "source": [
    "# dbscan\n"
   ]
  },
  {
   "cell_type": "code",
   "execution_count": 85,
   "metadata": {},
   "outputs": [
    {
     "name": "stdout",
     "output_type": "stream",
     "text": [
      "dist_matrics: cosine\n",
      " min_sample_k:round(ln(input_data.shape[0]))\n",
      "k:min_sample1\n",
      "epsilon value for metric: cosine is 0.27187044703823127 \n",
      " 0    34\n",
      "-1     3\n",
      "Name: cluster, dtype: int64\n",
      "Silhouette Score on basis of cosine: 0.33\n",
      "Calinski Harabasz Score on basis of cosine: 6.50\n",
      "Davies Bouldin Score on basis of cosine: 1.27\n",
      "_______________________________________________________\n",
      "\n",
      "dist_matrics: euclidean\n",
      " min_sample_k:round(ln(input_data.shape[0]))\n",
      "k:min_sample1\n",
      "epsilon value for metric: euclidean is 2.3488899256771303 \n",
      " 0    36\n",
      "-1     1\n",
      "Name: cluster, dtype: int64\n",
      "Silhouette Score on basis of euclidean: 0.53\n",
      "Calinski Harabasz Score on basis of euclidean: 7.08\n",
      "Davies Bouldin Score on basis of euclidean: 0.33\n",
      "_______________________________________________________\n",
      "\n",
      "dist_matrics: manhattan\n",
      " min_sample_k:round(ln(input_data.shape[0]))\n",
      "k:min_sample1\n",
      "epsilon value for metric: manhattan is 2.9350731422242977 \n",
      " 0    33\n",
      "-1     4\n",
      "Name: cluster, dtype: int64\n",
      "Silhouette Score on basis of manhattan: 0.41\n",
      "Calinski Harabasz Score on basis of manhattan: 7.14\n",
      "Davies Bouldin Score on basis of manhattan: 1.63\n",
      "_______________________________________________________\n",
      "\n",
      "dist_matrics: l1\n",
      " min_sample_k:round(ln(input_data.shape[0]))\n",
      "k:min_sample1\n",
      "epsilon value for metric: l1 is 2.9350731422242977 \n",
      " 0    33\n",
      "-1     4\n",
      "Name: cluster, dtype: int64\n",
      "Silhouette Score on basis of l1: 0.41\n",
      "Calinski Harabasz Score on basis of l1: 7.14\n",
      "Davies Bouldin Score on basis of l1: 1.63\n",
      "_______________________________________________________\n",
      "\n",
      "dist_matrics: l2\n",
      " min_sample_k:round(ln(input_data.shape[0]))\n",
      "k:min_sample1\n",
      "epsilon value for metric: l2 is 2.3488899256771303 \n",
      " 0    36\n",
      "-1     1\n",
      "Name: cluster, dtype: int64\n",
      "Silhouette Score on basis of l2: 0.53\n",
      "Calinski Harabasz Score on basis of l2: 7.08\n",
      "Davies Bouldin Score on basis of l2: 0.33\n",
      "_______________________________________________________\n",
      "\n",
      "dist_matrics: cityblock\n",
      " min_sample_k:round(ln(input_data.shape[0]))\n",
      "k:min_sample1\n",
      "epsilon value for metric: cityblock is 2.9350731422242977 \n",
      " 0    33\n",
      "-1     4\n",
      "Name: cluster, dtype: int64\n",
      "Silhouette Score on basis of cityblock: 0.41\n",
      "Calinski Harabasz Score on basis of cityblock: 7.14\n",
      "Davies Bouldin Score on basis of cityblock: 1.63\n",
      "_______________________________________________________\n",
      "\n",
      "dist_matrics: cosine\n",
      " min_sample_k:input_data.shape[1]*2\n",
      "k:min_sample2-1\n",
      "epsilon value for metric: cosine is 0.645226898297754 \n",
      "0    37\n",
      "Name: cluster, dtype: int64\n",
      "dist_matrics: euclidean\n",
      " min_sample_k:input_data.shape[1]*2\n",
      "k:min_sample2-1\n",
      "epsilon value for metric: euclidean is 2.658972209279386 \n",
      " 0    36\n",
      "-1     1\n",
      "Name: cluster, dtype: int64\n",
      "Silhouette Score on basis of euclidean: 0.53\n",
      "Calinski Harabasz Score on basis of euclidean: 7.08\n",
      "Davies Bouldin Score on basis of euclidean: 0.33\n",
      "_______________________________________________________\n",
      "\n",
      "dist_matrics: manhattan\n",
      " min_sample_k:input_data.shape[1]*2\n",
      "k:min_sample2-1\n",
      "epsilon value for metric: manhattan is 3.4552259554737472 \n",
      " 0    33\n",
      "-1     4\n",
      "Name: cluster, dtype: int64\n",
      "Silhouette Score on basis of manhattan: 0.41\n",
      "Calinski Harabasz Score on basis of manhattan: 7.14\n",
      "Davies Bouldin Score on basis of manhattan: 1.63\n",
      "_______________________________________________________\n",
      "\n",
      "dist_matrics: l1\n",
      " min_sample_k:input_data.shape[1]*2\n",
      "k:min_sample2-1\n",
      "epsilon value for metric: l1 is 3.4552259554737472 \n",
      " 0    33\n",
      "-1     4\n",
      "Name: cluster, dtype: int64\n",
      "Silhouette Score on basis of l1: 0.41\n",
      "Calinski Harabasz Score on basis of l1: 7.14\n",
      "Davies Bouldin Score on basis of l1: 1.63\n",
      "_______________________________________________________\n",
      "\n",
      "dist_matrics: l2\n",
      " min_sample_k:input_data.shape[1]*2\n",
      "k:min_sample2-1\n",
      "epsilon value for metric: l2 is 2.658972209279386 \n",
      " 0    36\n",
      "-1     1\n",
      "Name: cluster, dtype: int64\n",
      "Silhouette Score on basis of l2: 0.53\n",
      "Calinski Harabasz Score on basis of l2: 7.08\n",
      "Davies Bouldin Score on basis of l2: 0.33\n",
      "_______________________________________________________\n",
      "\n",
      "dist_matrics: cityblock\n",
      " min_sample_k:input_data.shape[1]*2\n",
      "k:min_sample2-1\n",
      "epsilon value for metric: cityblock is 3.4552259554737472 \n",
      " 0    33\n",
      "-1     4\n",
      "Name: cluster, dtype: int64\n",
      "Silhouette Score on basis of cityblock: 0.41\n",
      "Calinski Harabasz Score on basis of cityblock: 7.14\n",
      "Davies Bouldin Score on basis of cityblock: 1.63\n",
      "_______________________________________________________\n",
      "\n",
      "dist_matrics: cosine\n",
      " min_sample_k:round((1/2)*(scaled_data.shape[1]))\n",
      "k:min_sample\n",
      "epsilon value for metric: cosine is 0.10283718444924572 \n",
      "-1    37\n",
      "Name: cluster, dtype: int64\n",
      "dist_matrics: euclidean\n",
      " min_sample_k:round((1/2)*(scaled_data.shape[1]))\n",
      "k:min_sample\n",
      "epsilon value for metric: euclidean is 1.5644634367722219 \n",
      " 0    31\n",
      "-1     6\n",
      "Name: cluster, dtype: int64\n",
      "Silhouette Score on basis of euclidean: 0.34\n",
      "Calinski Harabasz Score on basis of euclidean: 4.86\n",
      "Davies Bouldin Score on basis of euclidean: 2.32\n",
      "_______________________________________________________\n",
      "\n",
      "dist_matrics: manhattan\n",
      " min_sample_k:round((1/2)*(scaled_data.shape[1]))\n",
      "k:min_sample\n",
      "epsilon value for metric: manhattan is 2.4119767194314763 \n",
      " 0    27\n",
      "-1    10\n",
      "Name: cluster, dtype: int64\n",
      "Silhouette Score on basis of manhattan: 0.30\n",
      "Calinski Harabasz Score on basis of manhattan: 9.16\n",
      "Davies Bouldin Score on basis of manhattan: 1.79\n",
      "_______________________________________________________\n",
      "\n",
      "dist_matrics: l1\n",
      " min_sample_k:round((1/2)*(scaled_data.shape[1]))\n",
      "k:min_sample\n",
      "epsilon value for metric: l1 is 2.4119767194314763 \n",
      " 0    27\n",
      "-1    10\n",
      "Name: cluster, dtype: int64\n",
      "Silhouette Score on basis of l1: 0.30\n",
      "Calinski Harabasz Score on basis of l1: 9.16\n",
      "Davies Bouldin Score on basis of l1: 1.79\n",
      "_______________________________________________________\n",
      "\n",
      "dist_matrics: l2\n",
      " min_sample_k:round((1/2)*(scaled_data.shape[1]))\n",
      "k:min_sample\n",
      "epsilon value for metric: l2 is 1.5644634367722219 \n",
      " 0    31\n",
      "-1     6\n",
      "Name: cluster, dtype: int64\n",
      "Silhouette Score on basis of l2: 0.34\n",
      "Calinski Harabasz Score on basis of l2: 4.86\n",
      "Davies Bouldin Score on basis of l2: 2.32\n",
      "_______________________________________________________\n",
      "\n",
      "dist_matrics: cityblock\n",
      " min_sample_k:round((1/2)*(scaled_data.shape[1]))\n",
      "k:min_sample\n",
      "epsilon value for metric: cityblock is 2.4119767194314763 \n",
      " 0    27\n",
      "-1    10\n",
      "Name: cluster, dtype: int64\n",
      "Silhouette Score on basis of cityblock: 0.30\n",
      "Calinski Harabasz Score on basis of cityblock: 9.16\n",
      "Davies Bouldin Score on basis of cityblock: 1.79\n",
      "_______________________________________________________\n",
      "\n"
     ]
    }
   ],
   "source": [
    "import math\n",
    "scaler = StandardScaler()\n",
    "scaled_data = scaler.fit_transform(input_data)\n",
    "\n",
    "dist_matrics=['cosine','euclidean','manhattan','l1','l2','cityblock']\n",
    "min_sample1=round(ln(input_data.shape[0]))\n",
    "k1=min_sample1\n",
    "\n",
    "min_sample2=input_data.shape[1]*2\n",
    "k2=min_sample2-1\n",
    "\n",
    "min_sample3=round(math.sqrt(scaled_data.shape[0]))\n",
    "k3=min_sample3\n",
    "\n",
    "min_sample4=round((1/2)*(scaled_data.shape[1]))\n",
    "k4=min_sample4\n",
    "\n",
    "min_sample_k={min_sample1:[k1,'round(ln(input_data.shape[0]))',\"min_sample1\"],\n",
    "              min_sample2:[k2,'input_data.shape[1]*2','min_sample2-1'],\n",
    "              min_sample3:[k3,'round(math.sqrt(scaled_data.shape[0]))','min_sample'],\n",
    "              min_sample3:[k4,'round((1/2)*(scaled_data.shape[1]))','min_sample']\n",
    "              }\n",
    "             \n",
    "data=scaled_data.copy()\n",
    "\n",
    "utils.dbscan_on_multiple_matrics(data,dist_matrics,min_sample_k)\n",
    "\n"
   ]
  },
  {
   "cell_type": "raw",
   "metadata": {
    "vscode": {
     "languageId": "raw"
    }
   },
   "source": [
    "epsilon value for metric: cosine is 0.2856617434186718 \n",
    " 1    16\n",
    " 0    10\n",
    " 2     8\n",
    "-1     4\n",
    "Name: cluster, dtype: int64\n",
    "Silhouette Score on basis of cosine: 0.32\n",
    "Calinski Harabasz Score on basis of cosine: 14.08\n",
    "Davies Bouldin Score on basis of cosine: 2.35\n",
    "\n",
    "dist_matrics: cosine\n",
    "min_sample_k:input_data.shape[1]*2\n",
    "k:min_sample2-1\n",
    "epsilon value for metric: cosine is 0.2856617434186718 \n"
   ]
  },
  {
   "cell_type": "code",
   "execution_count": 86,
   "metadata": {},
   "outputs": [
    {
     "name": "stdout",
     "output_type": "stream",
     "text": [
      "-1    37\n",
      "Name: cluster, dtype: int64\n"
     ]
    }
   ],
   "source": [
    "def dbscan_on_choosen_matrics(df,matric,min_sample,k,eps):     \n",
    "        model = DBSCAN(eps=eps, min_samples=min_sample, metric=matric)\n",
    "        labels = model.fit_predict(df)\n",
    "        clus_data=pd.DataFrame()\n",
    "        clus_data['cluster']=labels \n",
    "        print(clus_data['cluster'].value_counts())\n",
    "        return labels\n",
    "\n",
    "dist_matrics='cosine'\n",
    "min_sample_k=input_data.shape[1]*2\n",
    "k=min_sample_k-1\n",
    "epsilon=0.2856617434186718 \n",
    "\n",
    "\n",
    "labels=dbscan_on_choosen_matrics(data,dist_matrics,min_sample_k,k,epsilon)\n"
   ]
  },
  {
   "cell_type": "code",
   "execution_count": 87,
   "metadata": {},
   "outputs": [
    {
     "name": "stderr",
     "output_type": "stream",
     "text": [
      "/Library/Frameworks/Python.framework/Versions/3.7/lib/python3.7/site-packages/sklearn/manifold/_t_sne.py:783: FutureWarning:\n",
      "\n",
      "The default initialization in TSNE will change from 'random' to 'pca' in 1.2.\n",
      "\n",
      "/Library/Frameworks/Python.framework/Versions/3.7/lib/python3.7/site-packages/sklearn/manifold/_t_sne.py:793: FutureWarning:\n",
      "\n",
      "The default learning rate in TSNE will change from 200.0 to 'auto' in 1.2.\n",
      "\n"
     ]
    },
    {
     "name": "stdout",
     "output_type": "stream",
     "text": [
      "[t-SNE] Computing 36 nearest neighbors...\n",
      "[t-SNE] Indexed 37 samples in 0.000s...\n",
      "[t-SNE] Computed neighbors for 37 samples in 0.001s...\n",
      "[t-SNE] Computed conditional probabilities for sample 37 / 37\n",
      "[t-SNE] Mean sigma: 2.712253\n",
      "[t-SNE] KL divergence after 250 iterations with early exaggeration: 45.591362\n",
      "[t-SNE] KL divergence after 1000 iterations: 0.320433\n"
     ]
    },
    {
     "data": {
      "application/vnd.plotly.v1+json": {
       "config": {
        "plotlyServerURL": "https://plot.ly"
       },
       "data": [
        {
         "marker": {
          "color": "black",
          "size": 8,
          "symbol": "circle"
         },
         "mode": "markers",
         "name": "Noise (-1)",
         "type": "scatter",
         "x": [
          76.71926,
          -35.98497,
          85.73487,
          -16.21537,
          -81.509056,
          -59.61159,
          -65.78157,
          45.457268,
          -41.947083,
          76.46426,
          12.09,
          22.97256,
          -12.25892,
          -70.83854,
          22.64883,
          -6.9816003,
          53.70585,
          -42.033646,
          -20.740557,
          -24.695116,
          99.531235,
          112.98114,
          53.875355,
          25.858747,
          -99.098755,
          19.764969,
          -1.5756775,
          -104.739845,
          -96.86915,
          -16.093706,
          -42.330654,
          -56.050632,
          -73.7981,
          55.01057,
          40.258415,
          49.154453,
          10.964149
         ],
         "y": [
          -12.601584,
          56.829613,
          30.663656,
          -17.828167,
          -103.10134,
          77.7502,
          -58.427067,
          -126.516594,
          -33.49548,
          -51.851276,
          -30.726414,
          -93.31151,
          82.0783,
          -19.987534,
          62.606236,
          46.350697,
          -82.91245,
          -1.5985757,
          -55.03162,
          22.517624,
          -82.80876,
          -43.003403,
          15.711743,
          -4.516775,
          -38.040546,
          26.870321,
          6.4277434,
          0.31473342,
          41.03558,
          -114.74111,
          -83.67536,
          32.700066,
          10.052489,
          53.54282,
          -50.140186,
          -22.961159,
          -62.883057
         ]
        }
       ],
       "layout": {
        "coloraxis": {
         "colorbar": {
          "title": {
           "text": "cluster"
          }
         },
         "colorscale": [
          [
           0,
           "#0d0887"
          ],
          [
           0.1111111111111111,
           "#46039f"
          ],
          [
           0.2222222222222222,
           "#7201a8"
          ],
          [
           0.3333333333333333,
           "#9c179e"
          ],
          [
           0.4444444444444444,
           "#bd3786"
          ],
          [
           0.5555555555555556,
           "#d8576b"
          ],
          [
           0.6666666666666666,
           "#ed7953"
          ],
          [
           0.7777777777777778,
           "#fb9f3a"
          ],
          [
           0.8888888888888888,
           "#fdca26"
          ],
          [
           1,
           "#f0f921"
          ]
         ]
        },
        "height": 600,
        "legend": {
         "tracegroupgap": 0
        },
        "margin": {
         "t": 60
        },
        "template": {
         "data": {
          "bar": [
           {
            "error_x": {
             "color": "#2a3f5f"
            },
            "error_y": {
             "color": "#2a3f5f"
            },
            "marker": {
             "line": {
              "color": "#E5ECF6",
              "width": 0.5
             },
             "pattern": {
              "fillmode": "overlay",
              "size": 10,
              "solidity": 0.2
             }
            },
            "type": "bar"
           }
          ],
          "barpolar": [
           {
            "marker": {
             "line": {
              "color": "#E5ECF6",
              "width": 0.5
             },
             "pattern": {
              "fillmode": "overlay",
              "size": 10,
              "solidity": 0.2
             }
            },
            "type": "barpolar"
           }
          ],
          "carpet": [
           {
            "aaxis": {
             "endlinecolor": "#2a3f5f",
             "gridcolor": "white",
             "linecolor": "white",
             "minorgridcolor": "white",
             "startlinecolor": "#2a3f5f"
            },
            "baxis": {
             "endlinecolor": "#2a3f5f",
             "gridcolor": "white",
             "linecolor": "white",
             "minorgridcolor": "white",
             "startlinecolor": "#2a3f5f"
            },
            "type": "carpet"
           }
          ],
          "choropleth": [
           {
            "colorbar": {
             "outlinewidth": 0,
             "ticks": ""
            },
            "type": "choropleth"
           }
          ],
          "contour": [
           {
            "colorbar": {
             "outlinewidth": 0,
             "ticks": ""
            },
            "colorscale": [
             [
              0,
              "#0d0887"
             ],
             [
              0.1111111111111111,
              "#46039f"
             ],
             [
              0.2222222222222222,
              "#7201a8"
             ],
             [
              0.3333333333333333,
              "#9c179e"
             ],
             [
              0.4444444444444444,
              "#bd3786"
             ],
             [
              0.5555555555555556,
              "#d8576b"
             ],
             [
              0.6666666666666666,
              "#ed7953"
             ],
             [
              0.7777777777777778,
              "#fb9f3a"
             ],
             [
              0.8888888888888888,
              "#fdca26"
             ],
             [
              1,
              "#f0f921"
             ]
            ],
            "type": "contour"
           }
          ],
          "contourcarpet": [
           {
            "colorbar": {
             "outlinewidth": 0,
             "ticks": ""
            },
            "type": "contourcarpet"
           }
          ],
          "heatmap": [
           {
            "colorbar": {
             "outlinewidth": 0,
             "ticks": ""
            },
            "colorscale": [
             [
              0,
              "#0d0887"
             ],
             [
              0.1111111111111111,
              "#46039f"
             ],
             [
              0.2222222222222222,
              "#7201a8"
             ],
             [
              0.3333333333333333,
              "#9c179e"
             ],
             [
              0.4444444444444444,
              "#bd3786"
             ],
             [
              0.5555555555555556,
              "#d8576b"
             ],
             [
              0.6666666666666666,
              "#ed7953"
             ],
             [
              0.7777777777777778,
              "#fb9f3a"
             ],
             [
              0.8888888888888888,
              "#fdca26"
             ],
             [
              1,
              "#f0f921"
             ]
            ],
            "type": "heatmap"
           }
          ],
          "heatmapgl": [
           {
            "colorbar": {
             "outlinewidth": 0,
             "ticks": ""
            },
            "colorscale": [
             [
              0,
              "#0d0887"
             ],
             [
              0.1111111111111111,
              "#46039f"
             ],
             [
              0.2222222222222222,
              "#7201a8"
             ],
             [
              0.3333333333333333,
              "#9c179e"
             ],
             [
              0.4444444444444444,
              "#bd3786"
             ],
             [
              0.5555555555555556,
              "#d8576b"
             ],
             [
              0.6666666666666666,
              "#ed7953"
             ],
             [
              0.7777777777777778,
              "#fb9f3a"
             ],
             [
              0.8888888888888888,
              "#fdca26"
             ],
             [
              1,
              "#f0f921"
             ]
            ],
            "type": "heatmapgl"
           }
          ],
          "histogram": [
           {
            "marker": {
             "pattern": {
              "fillmode": "overlay",
              "size": 10,
              "solidity": 0.2
             }
            },
            "type": "histogram"
           }
          ],
          "histogram2d": [
           {
            "colorbar": {
             "outlinewidth": 0,
             "ticks": ""
            },
            "colorscale": [
             [
              0,
              "#0d0887"
             ],
             [
              0.1111111111111111,
              "#46039f"
             ],
             [
              0.2222222222222222,
              "#7201a8"
             ],
             [
              0.3333333333333333,
              "#9c179e"
             ],
             [
              0.4444444444444444,
              "#bd3786"
             ],
             [
              0.5555555555555556,
              "#d8576b"
             ],
             [
              0.6666666666666666,
              "#ed7953"
             ],
             [
              0.7777777777777778,
              "#fb9f3a"
             ],
             [
              0.8888888888888888,
              "#fdca26"
             ],
             [
              1,
              "#f0f921"
             ]
            ],
            "type": "histogram2d"
           }
          ],
          "histogram2dcontour": [
           {
            "colorbar": {
             "outlinewidth": 0,
             "ticks": ""
            },
            "colorscale": [
             [
              0,
              "#0d0887"
             ],
             [
              0.1111111111111111,
              "#46039f"
             ],
             [
              0.2222222222222222,
              "#7201a8"
             ],
             [
              0.3333333333333333,
              "#9c179e"
             ],
             [
              0.4444444444444444,
              "#bd3786"
             ],
             [
              0.5555555555555556,
              "#d8576b"
             ],
             [
              0.6666666666666666,
              "#ed7953"
             ],
             [
              0.7777777777777778,
              "#fb9f3a"
             ],
             [
              0.8888888888888888,
              "#fdca26"
             ],
             [
              1,
              "#f0f921"
             ]
            ],
            "type": "histogram2dcontour"
           }
          ],
          "mesh3d": [
           {
            "colorbar": {
             "outlinewidth": 0,
             "ticks": ""
            },
            "type": "mesh3d"
           }
          ],
          "parcoords": [
           {
            "line": {
             "colorbar": {
              "outlinewidth": 0,
              "ticks": ""
             }
            },
            "type": "parcoords"
           }
          ],
          "pie": [
           {
            "automargin": true,
            "type": "pie"
           }
          ],
          "scatter": [
           {
            "fillpattern": {
             "fillmode": "overlay",
             "size": 10,
             "solidity": 0.2
            },
            "type": "scatter"
           }
          ],
          "scatter3d": [
           {
            "line": {
             "colorbar": {
              "outlinewidth": 0,
              "ticks": ""
             }
            },
            "marker": {
             "colorbar": {
              "outlinewidth": 0,
              "ticks": ""
             }
            },
            "type": "scatter3d"
           }
          ],
          "scattercarpet": [
           {
            "marker": {
             "colorbar": {
              "outlinewidth": 0,
              "ticks": ""
             }
            },
            "type": "scattercarpet"
           }
          ],
          "scattergeo": [
           {
            "marker": {
             "colorbar": {
              "outlinewidth": 0,
              "ticks": ""
             }
            },
            "type": "scattergeo"
           }
          ],
          "scattergl": [
           {
            "marker": {
             "colorbar": {
              "outlinewidth": 0,
              "ticks": ""
             }
            },
            "type": "scattergl"
           }
          ],
          "scattermapbox": [
           {
            "marker": {
             "colorbar": {
              "outlinewidth": 0,
              "ticks": ""
             }
            },
            "type": "scattermapbox"
           }
          ],
          "scatterpolar": [
           {
            "marker": {
             "colorbar": {
              "outlinewidth": 0,
              "ticks": ""
             }
            },
            "type": "scatterpolar"
           }
          ],
          "scatterpolargl": [
           {
            "marker": {
             "colorbar": {
              "outlinewidth": 0,
              "ticks": ""
             }
            },
            "type": "scatterpolargl"
           }
          ],
          "scatterternary": [
           {
            "marker": {
             "colorbar": {
              "outlinewidth": 0,
              "ticks": ""
             }
            },
            "type": "scatterternary"
           }
          ],
          "surface": [
           {
            "colorbar": {
             "outlinewidth": 0,
             "ticks": ""
            },
            "colorscale": [
             [
              0,
              "#0d0887"
             ],
             [
              0.1111111111111111,
              "#46039f"
             ],
             [
              0.2222222222222222,
              "#7201a8"
             ],
             [
              0.3333333333333333,
              "#9c179e"
             ],
             [
              0.4444444444444444,
              "#bd3786"
             ],
             [
              0.5555555555555556,
              "#d8576b"
             ],
             [
              0.6666666666666666,
              "#ed7953"
             ],
             [
              0.7777777777777778,
              "#fb9f3a"
             ],
             [
              0.8888888888888888,
              "#fdca26"
             ],
             [
              1,
              "#f0f921"
             ]
            ],
            "type": "surface"
           }
          ],
          "table": [
           {
            "cells": {
             "fill": {
              "color": "#EBF0F8"
             },
             "line": {
              "color": "white"
             }
            },
            "header": {
             "fill": {
              "color": "#C8D4E3"
             },
             "line": {
              "color": "white"
             }
            },
            "type": "table"
           }
          ]
         },
         "layout": {
          "annotationdefaults": {
           "arrowcolor": "#2a3f5f",
           "arrowhead": 0,
           "arrowwidth": 1
          },
          "autotypenumbers": "strict",
          "coloraxis": {
           "colorbar": {
            "outlinewidth": 0,
            "ticks": ""
           }
          },
          "colorscale": {
           "diverging": [
            [
             0,
             "#8e0152"
            ],
            [
             0.1,
             "#c51b7d"
            ],
            [
             0.2,
             "#de77ae"
            ],
            [
             0.3,
             "#f1b6da"
            ],
            [
             0.4,
             "#fde0ef"
            ],
            [
             0.5,
             "#f7f7f7"
            ],
            [
             0.6,
             "#e6f5d0"
            ],
            [
             0.7,
             "#b8e186"
            ],
            [
             0.8,
             "#7fbc41"
            ],
            [
             0.9,
             "#4d9221"
            ],
            [
             1,
             "#276419"
            ]
           ],
           "sequential": [
            [
             0,
             "#0d0887"
            ],
            [
             0.1111111111111111,
             "#46039f"
            ],
            [
             0.2222222222222222,
             "#7201a8"
            ],
            [
             0.3333333333333333,
             "#9c179e"
            ],
            [
             0.4444444444444444,
             "#bd3786"
            ],
            [
             0.5555555555555556,
             "#d8576b"
            ],
            [
             0.6666666666666666,
             "#ed7953"
            ],
            [
             0.7777777777777778,
             "#fb9f3a"
            ],
            [
             0.8888888888888888,
             "#fdca26"
            ],
            [
             1,
             "#f0f921"
            ]
           ],
           "sequentialminus": [
            [
             0,
             "#0d0887"
            ],
            [
             0.1111111111111111,
             "#46039f"
            ],
            [
             0.2222222222222222,
             "#7201a8"
            ],
            [
             0.3333333333333333,
             "#9c179e"
            ],
            [
             0.4444444444444444,
             "#bd3786"
            ],
            [
             0.5555555555555556,
             "#d8576b"
            ],
            [
             0.6666666666666666,
             "#ed7953"
            ],
            [
             0.7777777777777778,
             "#fb9f3a"
            ],
            [
             0.8888888888888888,
             "#fdca26"
            ],
            [
             1,
             "#f0f921"
            ]
           ]
          },
          "colorway": [
           "#636efa",
           "#EF553B",
           "#00cc96",
           "#ab63fa",
           "#FFA15A",
           "#19d3f3",
           "#FF6692",
           "#B6E880",
           "#FF97FF",
           "#FECB52"
          ],
          "font": {
           "color": "#2a3f5f"
          },
          "geo": {
           "bgcolor": "white",
           "lakecolor": "white",
           "landcolor": "#E5ECF6",
           "showlakes": true,
           "showland": true,
           "subunitcolor": "white"
          },
          "hoverlabel": {
           "align": "left"
          },
          "hovermode": "closest",
          "mapbox": {
           "style": "light"
          },
          "paper_bgcolor": "white",
          "plot_bgcolor": "#E5ECF6",
          "polar": {
           "angularaxis": {
            "gridcolor": "white",
            "linecolor": "white",
            "ticks": ""
           },
           "bgcolor": "#E5ECF6",
           "radialaxis": {
            "gridcolor": "white",
            "linecolor": "white",
            "ticks": ""
           }
          },
          "scene": {
           "xaxis": {
            "backgroundcolor": "#E5ECF6",
            "gridcolor": "white",
            "gridwidth": 2,
            "linecolor": "white",
            "showbackground": true,
            "ticks": "",
            "zerolinecolor": "white"
           },
           "yaxis": {
            "backgroundcolor": "#E5ECF6",
            "gridcolor": "white",
            "gridwidth": 2,
            "linecolor": "white",
            "showbackground": true,
            "ticks": "",
            "zerolinecolor": "white"
           },
           "zaxis": {
            "backgroundcolor": "#E5ECF6",
            "gridcolor": "white",
            "gridwidth": 2,
            "linecolor": "white",
            "showbackground": true,
            "ticks": "",
            "zerolinecolor": "white"
           }
          },
          "shapedefaults": {
           "line": {
            "color": "#2a3f5f"
           }
          },
          "ternary": {
           "aaxis": {
            "gridcolor": "white",
            "linecolor": "white",
            "ticks": ""
           },
           "baxis": {
            "gridcolor": "white",
            "linecolor": "white",
            "ticks": ""
           },
           "bgcolor": "#E5ECF6",
           "caxis": {
            "gridcolor": "white",
            "linecolor": "white",
            "ticks": ""
           }
          },
          "title": {
           "x": 0.05
          },
          "xaxis": {
           "automargin": true,
           "gridcolor": "white",
           "linecolor": "white",
           "ticks": "",
           "title": {
            "standoff": 15
           },
           "zerolinecolor": "white",
           "zerolinewidth": 2
          },
          "yaxis": {
           "automargin": true,
           "gridcolor": "white",
           "linecolor": "white",
           "ticks": "",
           "title": {
            "standoff": 15
           },
           "zerolinecolor": "white",
           "zerolinewidth": 2
          }
         }
        },
        "width": 800,
        "xaxis": {
         "anchor": "y",
         "domain": [
          0,
          1
         ],
         "title": {
          "text": "tsne1"
         }
        },
        "yaxis": {
         "anchor": "x",
         "domain": [
          0,
          1
         ],
         "title": {
          "text": "tsne2"
         }
        }
       }
      }
     },
     "metadata": {},
     "output_type": "display_data"
    }
   ],
   "source": [
    "import pandas as pd\n",
    "import plotly.express as px\n",
    "import plotly.graph_objects as go\n",
    "from sklearn.manifold import TSNE\n",
    "from scipy.spatial import ConvexHull\n",
    "def twoD_data_creation_with_boundaries(labels, scaled_data):\n",
    "    # Perform t-SNE\n",
    "    tsne = TSNE(n_components=2, verbose=1, perplexity=30, n_iter=1000, random_state=0)\n",
    "    tsne_results = tsne.fit_transform(scaled_data)\n",
    "    \n",
    "    # Create a DataFrame for t-SNE results\n",
    "    tsne_df = pd.DataFrame(data=tsne_results, columns=['tsne1', 'tsne2'])\n",
    "    tsne_df['cluster'] = labels\n",
    "    \n",
    "    # Separate noise points (-1) from clusters\n",
    "    noise_df = tsne_df[tsne_df['cluster'] == -1]\n",
    "    clustered_df = tsne_df[tsne_df['cluster'] != -1]\n",
    "\n",
    "    # Plot clusters with different colors\n",
    "    fig = px.scatter(clustered_df, x=\"tsne1\", y=\"tsne2\", color='cluster', symbol='cluster',\n",
    "                     width=800, height=600)\n",
    "    \n",
    "    # Add noise points without boundary\n",
    "    fig.add_trace(go.Scatter(\n",
    "        x=noise_df['tsne1'], \n",
    "        y=noise_df['tsne2'],\n",
    "        mode='markers',\n",
    "        marker=dict(size=8, color='black', symbol='circle'),\n",
    "        name='Noise (-1)'\n",
    "    ))\n",
    "    \n",
    "    # Add convex hull boundaries for clusters\n",
    "    for cluster_id in clustered_df['cluster'].unique():\n",
    "        cluster_points = clustered_df[clustered_df['cluster'] == cluster_id][['tsne1', 'tsne2']].values\n",
    "        if len(cluster_points) > 2:  # ConvexHull needs at least 3 points\n",
    "            hull = ConvexHull(cluster_points)\n",
    "            hull_vertices = hull.vertices\n",
    "            hull_points = cluster_points[hull_vertices]\n",
    "            hull_points = list(hull_points) + [hull_points[0]]  # Close the loop\n",
    "            \n",
    "            # Add boundary line to the figure\n",
    "            fig.add_trace(go.Scatter(\n",
    "                x=[point[0] for point in hull_points],\n",
    "                y=[point[1] for point in hull_points],\n",
    "                mode='lines',\n",
    "                line=dict(color='black'),\n",
    "                name=f'Boundary Cluster {cluster_id}'\n",
    "            ))\n",
    "\n",
    "    # Show the figure\n",
    "    fig.show()\n",
    "# utils.twoD_data_creation_with_boundaries(labels, scaled_data)\n",
    "twoD_data_creation_with_boundaries(labels, scaled_data)\n"
   ]
  },
  {
   "cell_type": "code",
   "execution_count": 88,
   "metadata": {},
   "outputs": [
    {
     "data": {
      "text/html": [
       "<div>\n",
       "<style scoped>\n",
       "    .dataframe tbody tr th:only-of-type {\n",
       "        vertical-align: middle;\n",
       "    }\n",
       "\n",
       "    .dataframe tbody tr th {\n",
       "        vertical-align: top;\n",
       "    }\n",
       "\n",
       "    .dataframe thead th {\n",
       "        text-align: right;\n",
       "    }\n",
       "</style>\n",
       "<table border=\"1\" class=\"dataframe\">\n",
       "  <thead>\n",
       "    <tr style=\"text-align: right;\">\n",
       "      <th></th>\n",
       "      <th>traffic_count</th>\n",
       "      <th>population</th>\n",
       "      <th>household_total_income</th>\n",
       "      <th>Area (Land, in square miles)</th>\n",
       "      <th>population_density</th>\n",
       "      <th>cluster</th>\n",
       "    </tr>\n",
       "  </thead>\n",
       "  <tbody>\n",
       "    <tr>\n",
       "      <th>0</th>\n",
       "      <td>32500.0</td>\n",
       "      <td>38010.0</td>\n",
       "      <td>18161.0</td>\n",
       "      <td>11.180</td>\n",
       "      <td>3399.821109</td>\n",
       "      <td>-1</td>\n",
       "    </tr>\n",
       "    <tr>\n",
       "      <th>1</th>\n",
       "      <td>49000.0</td>\n",
       "      <td>13844.0</td>\n",
       "      <td>6126.0</td>\n",
       "      <td>4.177</td>\n",
       "      <td>3314.340436</td>\n",
       "      <td>-1</td>\n",
       "    </tr>\n",
       "    <tr>\n",
       "      <th>2</th>\n",
       "      <td>35000.0</td>\n",
       "      <td>30138.0</td>\n",
       "      <td>12905.0</td>\n",
       "      <td>4.767</td>\n",
       "      <td>6322.215230</td>\n",
       "      <td>-1</td>\n",
       "    </tr>\n",
       "    <tr>\n",
       "      <th>3</th>\n",
       "      <td>38500.0</td>\n",
       "      <td>25485.0</td>\n",
       "      <td>11521.0</td>\n",
       "      <td>9.857</td>\n",
       "      <td>2585.472253</td>\n",
       "      <td>-1</td>\n",
       "    </tr>\n",
       "    <tr>\n",
       "      <th>4</th>\n",
       "      <td>31500.0</td>\n",
       "      <td>30935.0</td>\n",
       "      <td>9571.0</td>\n",
       "      <td>160.579</td>\n",
       "      <td>192.646610</td>\n",
       "      <td>-1</td>\n",
       "    </tr>\n",
       "  </tbody>\n",
       "</table>\n",
       "</div>"
      ],
      "text/plain": [
       "   traffic_count  population  household_total_income  \\\n",
       "0        32500.0     38010.0                 18161.0   \n",
       "1        49000.0     13844.0                  6126.0   \n",
       "2        35000.0     30138.0                 12905.0   \n",
       "3        38500.0     25485.0                 11521.0   \n",
       "4        31500.0     30935.0                  9571.0   \n",
       "\n",
       "   Area (Land, in square miles)  population_density  cluster  \n",
       "0                        11.180         3399.821109       -1  \n",
       "1                         4.177         3314.340436       -1  \n",
       "2                         4.767         6322.215230       -1  \n",
       "3                         9.857         2585.472253       -1  \n",
       "4                       160.579          192.646610       -1  "
      ]
     },
     "execution_count": 88,
     "metadata": {},
     "output_type": "execute_result"
    }
   ],
   "source": [
    "scaler = StandardScaler()\n",
    "scaled_data = scaler.fit_transform(input_data)\n",
    "\n",
    "reversed_data=pd.DataFrame(scaler.inverse_transform(scaled_data),columns=input_data.columns)\n",
    "reversed_data['cluster']=labels\n",
    "clusters=list(set(labels))\n",
    "cluster_mean_df=pd.DataFrame()\n",
    "reversed_data.head()\n"
   ]
  },
  {
   "cell_type": "code",
   "execution_count": 89,
   "metadata": {},
   "outputs": [
    {
     "data": {
      "text/plain": [
       "Index(['traffic_count', 'population', 'household_total_income',\n",
       "       'Area (Land, in square miles)', 'population_density', 'cluster'],\n",
       "      dtype='object')"
      ]
     },
     "execution_count": 89,
     "metadata": {},
     "output_type": "execute_result"
    }
   ],
   "source": [
    "def cluster_features_mean(i):\n",
    "\n",
    "        cluster_boolean_values=reversed_data['cluster']== i\n",
    "        cluster_values=reversed_data[cluster_boolean_values]\n",
    "        cluster_feature_mean=cluster_values.median()\n",
    "        return cluster_feature_mean\n",
    "for i in range(len(clusters)):\n",
    "\n",
    "        means=cluster_features_mean(i)\n",
    "        means= pd.to_numeric(means, downcast=\"float\")\n",
    "        means=round(means,0)\n",
    "\n",
    "        cluster_mean_df[i]=means\n",
    "\n",
    "cluster_mean_df.index\n"
   ]
  },
  {
   "cell_type": "code",
   "execution_count": 90,
   "metadata": {},
   "outputs": [
    {
     "data": {
      "text/plain": [
       "Index(['traffic_count', 'population', 'household_total_income',\n",
       "       'Area (Land, in square miles)', 'population_density', 'cluster'],\n",
       "      dtype='object')"
      ]
     },
     "execution_count": 90,
     "metadata": {},
     "output_type": "execute_result"
    }
   ],
   "source": [
    "def cluster_features_mean(i):\n",
    "\n",
    "        cluster_boolean_values=reversed_data['cluster']== i\n",
    "        cluster_values=reversed_data[cluster_boolean_values]\n",
    "        cluster_feature_mean=cluster_values.median()\n",
    "        return cluster_feature_mean\n",
    "for i in range(len(clusters)):\n",
    "\n",
    "        means=cluster_features_mean(i)\n",
    "        means= pd.to_numeric(means, downcast=\"float\")\n",
    "        means=round(means,0)\n",
    "\n",
    "        cluster_mean_df[i]=means\n",
    "\n",
    "cluster_mean_df.index\n"
   ]
  },
  {
   "cell_type": "code",
   "execution_count": 91,
   "metadata": {},
   "outputs": [
    {
     "ename": "KeyError",
     "evalue": "'[3] not found in axis'",
     "output_type": "error",
     "traceback": [
      "\u001b[0;31m---------------------------------------------------------------------------\u001b[0m",
      "\u001b[0;31mKeyError\u001b[0m                                  Traceback (most recent call last)",
      "\u001b[0;32m/var/folders/lg/b8pw7x296y397cn0g302yt680000gp/T/ipykernel_82072/1565857608.py\u001b[0m in \u001b[0;36m<module>\u001b[0;34m\u001b[0m\n\u001b[1;32m      1\u001b[0m \u001b[0mtesting\u001b[0m\u001b[0;34m=\u001b[0m\u001b[0mcluster_mean_df\u001b[0m\u001b[0;34m.\u001b[0m\u001b[0mcopy\u001b[0m\u001b[0;34m(\u001b[0m\u001b[0;34m)\u001b[0m\u001b[0;34m\u001b[0m\u001b[0;34m\u001b[0m\u001b[0m\n\u001b[0;32m----> 2\u001b[0;31m \u001b[0mtesting\u001b[0m\u001b[0;34m.\u001b[0m\u001b[0mdrop\u001b[0m\u001b[0;34m(\u001b[0m\u001b[0mcolumns\u001b[0m\u001b[0;34m=\u001b[0m\u001b[0;34m[\u001b[0m\u001b[0;36m3\u001b[0m\u001b[0;34m]\u001b[0m\u001b[0;34m,\u001b[0m\u001b[0minplace\u001b[0m\u001b[0;34m=\u001b[0m\u001b[0;32mTrue\u001b[0m\u001b[0;34m)\u001b[0m\u001b[0;34m\u001b[0m\u001b[0;34m\u001b[0m\u001b[0m\n\u001b[0m\u001b[1;32m      3\u001b[0m \u001b[0mtesting\u001b[0m\u001b[0;34m.\u001b[0m\u001b[0mrename\u001b[0m\u001b[0;34m(\u001b[0m\u001b[0mcolumns\u001b[0m\u001b[0;34m=\u001b[0m\u001b[0;34m{\u001b[0m\u001b[0;36m0\u001b[0m\u001b[0;34m:\u001b[0m \u001b[0;34m'Cluster1'\u001b[0m\u001b[0;34m,\u001b[0m\u001b[0;36m1\u001b[0m\u001b[0;34m:\u001b[0m \u001b[0;34m'Cluster2'\u001b[0m\u001b[0;34m,\u001b[0m\u001b[0;36m2\u001b[0m\u001b[0;34m:\u001b[0m \u001b[0;34m'Cluster3'\u001b[0m\u001b[0;34m}\u001b[0m\u001b[0;34m,\u001b[0m\u001b[0minplace\u001b[0m\u001b[0;34m=\u001b[0m\u001b[0;32mTrue\u001b[0m\u001b[0;34m)\u001b[0m\u001b[0;34m\u001b[0m\u001b[0;34m\u001b[0m\u001b[0m\n\u001b[1;32m      4\u001b[0m \u001b[0;34m\u001b[0m\u001b[0m\n\u001b[1;32m      5\u001b[0m \u001b[0mindexd\u001b[0m\u001b[0;34m=\u001b[0m\u001b[0mtesting\u001b[0m\u001b[0;34m.\u001b[0m\u001b[0mindex\u001b[0m\u001b[0;34m\u001b[0m\u001b[0;34m\u001b[0m\u001b[0m\n",
      "\u001b[0;32m/Library/Frameworks/Python.framework/Versions/3.7/lib/python3.7/site-packages/pandas/util/_decorators.py\u001b[0m in \u001b[0;36mwrapper\u001b[0;34m(*args, **kwargs)\u001b[0m\n\u001b[1;32m    309\u001b[0m                     \u001b[0mstacklevel\u001b[0m\u001b[0;34m=\u001b[0m\u001b[0mstacklevel\u001b[0m\u001b[0;34m,\u001b[0m\u001b[0;34m\u001b[0m\u001b[0;34m\u001b[0m\u001b[0m\n\u001b[1;32m    310\u001b[0m                 )\n\u001b[0;32m--> 311\u001b[0;31m             \u001b[0;32mreturn\u001b[0m \u001b[0mfunc\u001b[0m\u001b[0;34m(\u001b[0m\u001b[0;34m*\u001b[0m\u001b[0margs\u001b[0m\u001b[0;34m,\u001b[0m \u001b[0;34m**\u001b[0m\u001b[0mkwargs\u001b[0m\u001b[0;34m)\u001b[0m\u001b[0;34m\u001b[0m\u001b[0;34m\u001b[0m\u001b[0m\n\u001b[0m\u001b[1;32m    312\u001b[0m \u001b[0;34m\u001b[0m\u001b[0m\n\u001b[1;32m    313\u001b[0m         \u001b[0;32mreturn\u001b[0m \u001b[0mwrapper\u001b[0m\u001b[0;34m\u001b[0m\u001b[0;34m\u001b[0m\u001b[0m\n",
      "\u001b[0;32m/Library/Frameworks/Python.framework/Versions/3.7/lib/python3.7/site-packages/pandas/core/frame.py\u001b[0m in \u001b[0;36mdrop\u001b[0;34m(self, labels, axis, index, columns, level, inplace, errors)\u001b[0m\n\u001b[1;32m   4911\u001b[0m             \u001b[0mlevel\u001b[0m\u001b[0;34m=\u001b[0m\u001b[0mlevel\u001b[0m\u001b[0;34m,\u001b[0m\u001b[0;34m\u001b[0m\u001b[0;34m\u001b[0m\u001b[0m\n\u001b[1;32m   4912\u001b[0m             \u001b[0minplace\u001b[0m\u001b[0;34m=\u001b[0m\u001b[0minplace\u001b[0m\u001b[0;34m,\u001b[0m\u001b[0;34m\u001b[0m\u001b[0;34m\u001b[0m\u001b[0m\n\u001b[0;32m-> 4913\u001b[0;31m             \u001b[0merrors\u001b[0m\u001b[0;34m=\u001b[0m\u001b[0merrors\u001b[0m\u001b[0;34m,\u001b[0m\u001b[0;34m\u001b[0m\u001b[0;34m\u001b[0m\u001b[0m\n\u001b[0m\u001b[1;32m   4914\u001b[0m         )\n\u001b[1;32m   4915\u001b[0m \u001b[0;34m\u001b[0m\u001b[0m\n",
      "\u001b[0;32m/Library/Frameworks/Python.framework/Versions/3.7/lib/python3.7/site-packages/pandas/core/generic.py\u001b[0m in \u001b[0;36mdrop\u001b[0;34m(self, labels, axis, index, columns, level, inplace, errors)\u001b[0m\n\u001b[1;32m   4148\u001b[0m         \u001b[0;32mfor\u001b[0m \u001b[0maxis\u001b[0m\u001b[0;34m,\u001b[0m \u001b[0mlabels\u001b[0m \u001b[0;32min\u001b[0m \u001b[0maxes\u001b[0m\u001b[0;34m.\u001b[0m\u001b[0mitems\u001b[0m\u001b[0;34m(\u001b[0m\u001b[0;34m)\u001b[0m\u001b[0;34m:\u001b[0m\u001b[0;34m\u001b[0m\u001b[0;34m\u001b[0m\u001b[0m\n\u001b[1;32m   4149\u001b[0m             \u001b[0;32mif\u001b[0m \u001b[0mlabels\u001b[0m \u001b[0;32mis\u001b[0m \u001b[0;32mnot\u001b[0m \u001b[0;32mNone\u001b[0m\u001b[0;34m:\u001b[0m\u001b[0;34m\u001b[0m\u001b[0;34m\u001b[0m\u001b[0m\n\u001b[0;32m-> 4150\u001b[0;31m                 \u001b[0mobj\u001b[0m \u001b[0;34m=\u001b[0m \u001b[0mobj\u001b[0m\u001b[0;34m.\u001b[0m\u001b[0m_drop_axis\u001b[0m\u001b[0;34m(\u001b[0m\u001b[0mlabels\u001b[0m\u001b[0;34m,\u001b[0m \u001b[0maxis\u001b[0m\u001b[0;34m,\u001b[0m \u001b[0mlevel\u001b[0m\u001b[0;34m=\u001b[0m\u001b[0mlevel\u001b[0m\u001b[0;34m,\u001b[0m \u001b[0merrors\u001b[0m\u001b[0;34m=\u001b[0m\u001b[0merrors\u001b[0m\u001b[0;34m)\u001b[0m\u001b[0;34m\u001b[0m\u001b[0;34m\u001b[0m\u001b[0m\n\u001b[0m\u001b[1;32m   4151\u001b[0m \u001b[0;34m\u001b[0m\u001b[0m\n\u001b[1;32m   4152\u001b[0m         \u001b[0;32mif\u001b[0m \u001b[0minplace\u001b[0m\u001b[0;34m:\u001b[0m\u001b[0;34m\u001b[0m\u001b[0;34m\u001b[0m\u001b[0m\n",
      "\u001b[0;32m/Library/Frameworks/Python.framework/Versions/3.7/lib/python3.7/site-packages/pandas/core/generic.py\u001b[0m in \u001b[0;36m_drop_axis\u001b[0;34m(self, labels, axis, level, errors)\u001b[0m\n\u001b[1;32m   4183\u001b[0m                 \u001b[0mnew_axis\u001b[0m \u001b[0;34m=\u001b[0m \u001b[0maxis\u001b[0m\u001b[0;34m.\u001b[0m\u001b[0mdrop\u001b[0m\u001b[0;34m(\u001b[0m\u001b[0mlabels\u001b[0m\u001b[0;34m,\u001b[0m \u001b[0mlevel\u001b[0m\u001b[0;34m=\u001b[0m\u001b[0mlevel\u001b[0m\u001b[0;34m,\u001b[0m \u001b[0merrors\u001b[0m\u001b[0;34m=\u001b[0m\u001b[0merrors\u001b[0m\u001b[0;34m)\u001b[0m\u001b[0;34m\u001b[0m\u001b[0;34m\u001b[0m\u001b[0m\n\u001b[1;32m   4184\u001b[0m             \u001b[0;32melse\u001b[0m\u001b[0;34m:\u001b[0m\u001b[0;34m\u001b[0m\u001b[0;34m\u001b[0m\u001b[0m\n\u001b[0;32m-> 4185\u001b[0;31m                 \u001b[0mnew_axis\u001b[0m \u001b[0;34m=\u001b[0m \u001b[0maxis\u001b[0m\u001b[0;34m.\u001b[0m\u001b[0mdrop\u001b[0m\u001b[0;34m(\u001b[0m\u001b[0mlabels\u001b[0m\u001b[0;34m,\u001b[0m \u001b[0merrors\u001b[0m\u001b[0;34m=\u001b[0m\u001b[0merrors\u001b[0m\u001b[0;34m)\u001b[0m\u001b[0;34m\u001b[0m\u001b[0;34m\u001b[0m\u001b[0m\n\u001b[0m\u001b[1;32m   4186\u001b[0m             \u001b[0mresult\u001b[0m \u001b[0;34m=\u001b[0m \u001b[0mself\u001b[0m\u001b[0;34m.\u001b[0m\u001b[0mreindex\u001b[0m\u001b[0;34m(\u001b[0m\u001b[0;34m**\u001b[0m\u001b[0;34m{\u001b[0m\u001b[0maxis_name\u001b[0m\u001b[0;34m:\u001b[0m \u001b[0mnew_axis\u001b[0m\u001b[0;34m}\u001b[0m\u001b[0;34m)\u001b[0m\u001b[0;34m\u001b[0m\u001b[0;34m\u001b[0m\u001b[0m\n\u001b[1;32m   4187\u001b[0m \u001b[0;34m\u001b[0m\u001b[0m\n",
      "\u001b[0;32m/Library/Frameworks/Python.framework/Versions/3.7/lib/python3.7/site-packages/pandas/core/indexes/base.py\u001b[0m in \u001b[0;36mdrop\u001b[0;34m(self, labels, errors)\u001b[0m\n\u001b[1;32m   6015\u001b[0m         \u001b[0;32mif\u001b[0m \u001b[0mmask\u001b[0m\u001b[0;34m.\u001b[0m\u001b[0many\u001b[0m\u001b[0;34m(\u001b[0m\u001b[0;34m)\u001b[0m\u001b[0;34m:\u001b[0m\u001b[0;34m\u001b[0m\u001b[0;34m\u001b[0m\u001b[0m\n\u001b[1;32m   6016\u001b[0m             \u001b[0;32mif\u001b[0m \u001b[0merrors\u001b[0m \u001b[0;34m!=\u001b[0m \u001b[0;34m\"ignore\"\u001b[0m\u001b[0;34m:\u001b[0m\u001b[0;34m\u001b[0m\u001b[0;34m\u001b[0m\u001b[0m\n\u001b[0;32m-> 6017\u001b[0;31m                 \u001b[0;32mraise\u001b[0m \u001b[0mKeyError\u001b[0m\u001b[0;34m(\u001b[0m\u001b[0;34mf\"{labels[mask]} not found in axis\"\u001b[0m\u001b[0;34m)\u001b[0m\u001b[0;34m\u001b[0m\u001b[0;34m\u001b[0m\u001b[0m\n\u001b[0m\u001b[1;32m   6018\u001b[0m             \u001b[0mindexer\u001b[0m \u001b[0;34m=\u001b[0m \u001b[0mindexer\u001b[0m\u001b[0;34m[\u001b[0m\u001b[0;34m~\u001b[0m\u001b[0mmask\u001b[0m\u001b[0;34m]\u001b[0m\u001b[0;34m\u001b[0m\u001b[0;34m\u001b[0m\u001b[0m\n\u001b[1;32m   6019\u001b[0m         \u001b[0;32mreturn\u001b[0m \u001b[0mself\u001b[0m\u001b[0;34m.\u001b[0m\u001b[0mdelete\u001b[0m\u001b[0;34m(\u001b[0m\u001b[0mindexer\u001b[0m\u001b[0;34m)\u001b[0m\u001b[0;34m\u001b[0m\u001b[0;34m\u001b[0m\u001b[0m\n",
      "\u001b[0;31mKeyError\u001b[0m: '[3] not found in axis'"
     ]
    }
   ],
   "source": [
    "testing=cluster_mean_df.copy()\n",
    "testing.drop(columns=[3],inplace=True)\n",
    "testing.rename(columns={0: 'Cluster1',1: 'Cluster2',2: 'Cluster3'},inplace=True)\n",
    "\n",
    "indexd=testing.index\n",
    "\n",
    "def mapping(maping,key):    \n",
    "            value=maping[key]\n",
    "            return value\n",
    "\n",
    "for i in indexd :\n",
    "    if i == 'area_classification':\n",
    "        for j in list(testing.columns):\n",
    "            key=testing.loc[i,j]\n",
    "            val=mapping(area_classification_mapping,key)\n",
    "            testing.loc[i,j] = val\n",
    "testing\n"
   ]
  },
  {
   "cell_type": "code",
   "execution_count": 92,
   "metadata": {},
   "outputs": [
    {
     "ename": "KeyError",
     "evalue": "'Cluster1'",
     "output_type": "error",
     "traceback": [
      "\u001b[0;31m---------------------------------------------------------------------------\u001b[0m",
      "\u001b[0;31mKeyError\u001b[0m                                  Traceback (most recent call last)",
      "\u001b[0;32m/Library/Frameworks/Python.framework/Versions/3.7/lib/python3.7/site-packages/pandas/core/indexes/base.py\u001b[0m in \u001b[0;36mget_loc\u001b[0;34m(self, key, method, tolerance)\u001b[0m\n\u001b[1;32m   3360\u001b[0m             \u001b[0;32mtry\u001b[0m\u001b[0;34m:\u001b[0m\u001b[0;34m\u001b[0m\u001b[0;34m\u001b[0m\u001b[0m\n\u001b[0;32m-> 3361\u001b[0;31m                 \u001b[0;32mreturn\u001b[0m \u001b[0mself\u001b[0m\u001b[0;34m.\u001b[0m\u001b[0m_engine\u001b[0m\u001b[0;34m.\u001b[0m\u001b[0mget_loc\u001b[0m\u001b[0;34m(\u001b[0m\u001b[0mcasted_key\u001b[0m\u001b[0;34m)\u001b[0m\u001b[0;34m\u001b[0m\u001b[0;34m\u001b[0m\u001b[0m\n\u001b[0m\u001b[1;32m   3362\u001b[0m             \u001b[0;32mexcept\u001b[0m \u001b[0mKeyError\u001b[0m \u001b[0;32mas\u001b[0m \u001b[0merr\u001b[0m\u001b[0;34m:\u001b[0m\u001b[0;34m\u001b[0m\u001b[0;34m\u001b[0m\u001b[0m\n",
      "\u001b[0;32m/Library/Frameworks/Python.framework/Versions/3.7/lib/python3.7/site-packages/pandas/_libs/index.pyx\u001b[0m in \u001b[0;36mpandas._libs.index.IndexEngine.get_loc\u001b[0;34m()\u001b[0m\n",
      "\u001b[0;32mpandas/_libs/index_class_helper.pxi\u001b[0m in \u001b[0;36mpandas._libs.index.Int64Engine._check_type\u001b[0;34m()\u001b[0m\n",
      "\u001b[0;32mpandas/_libs/index_class_helper.pxi\u001b[0m in \u001b[0;36mpandas._libs.index.Int64Engine._check_type\u001b[0;34m()\u001b[0m\n",
      "\u001b[0;31mKeyError\u001b[0m: 'Cluster1'",
      "\nThe above exception was the direct cause of the following exception:\n",
      "\u001b[0;31mKeyError\u001b[0m                                  Traceback (most recent call last)",
      "\u001b[0;32m/var/folders/lg/b8pw7x296y397cn0g302yt680000gp/T/ipykernel_82072/3863965786.py\u001b[0m in \u001b[0;36m<module>\u001b[0;34m\u001b[0m\n\u001b[1;32m      3\u001b[0m \u001b[0;31m# 0:'rural'\u001b[0m\u001b[0;34m\u001b[0m\u001b[0;34m\u001b[0m\u001b[0;34m\u001b[0m\u001b[0m\n\u001b[1;32m      4\u001b[0m \u001b[0;34m\u001b[0m\u001b[0m\n\u001b[0;32m----> 5\u001b[0;31m \u001b[0mtesting\u001b[0m\u001b[0;34m[\u001b[0m\u001b[0;34m'Cluster1'\u001b[0m\u001b[0;34m]\u001b[0m\u001b[0;34m[\u001b[0m\u001b[0;34m'area_classification'\u001b[0m\u001b[0;34m]\u001b[0m\u001b[0;34m=\u001b[0m\u001b[0;34m'urban'\u001b[0m\u001b[0;34m\u001b[0m\u001b[0;34m\u001b[0m\u001b[0m\n\u001b[0m\u001b[1;32m      6\u001b[0m \u001b[0mtesting\u001b[0m\u001b[0;34m[\u001b[0m\u001b[0;34m'Cluster2'\u001b[0m\u001b[0;34m]\u001b[0m\u001b[0;34m[\u001b[0m\u001b[0;34m'area_classification'\u001b[0m\u001b[0;34m]\u001b[0m\u001b[0;34m=\u001b[0m\u001b[0;34m'suburban'\u001b[0m\u001b[0;34m\u001b[0m\u001b[0;34m\u001b[0m\u001b[0m\n\u001b[1;32m      7\u001b[0m \u001b[0mtesting\u001b[0m\u001b[0;34m[\u001b[0m\u001b[0;34m'Cluster3'\u001b[0m\u001b[0;34m]\u001b[0m\u001b[0;34m[\u001b[0m\u001b[0;34m'area_classification'\u001b[0m\u001b[0;34m]\u001b[0m\u001b[0;34m=\u001b[0m\u001b[0;34m'suburban'\u001b[0m\u001b[0;34m\u001b[0m\u001b[0;34m\u001b[0m\u001b[0m\n",
      "\u001b[0;32m/Library/Frameworks/Python.framework/Versions/3.7/lib/python3.7/site-packages/pandas/core/frame.py\u001b[0m in \u001b[0;36m__getitem__\u001b[0;34m(self, key)\u001b[0m\n\u001b[1;32m   3456\u001b[0m             \u001b[0;32mif\u001b[0m \u001b[0mself\u001b[0m\u001b[0;34m.\u001b[0m\u001b[0mcolumns\u001b[0m\u001b[0;34m.\u001b[0m\u001b[0mnlevels\u001b[0m \u001b[0;34m>\u001b[0m \u001b[0;36m1\u001b[0m\u001b[0;34m:\u001b[0m\u001b[0;34m\u001b[0m\u001b[0;34m\u001b[0m\u001b[0m\n\u001b[1;32m   3457\u001b[0m                 \u001b[0;32mreturn\u001b[0m \u001b[0mself\u001b[0m\u001b[0;34m.\u001b[0m\u001b[0m_getitem_multilevel\u001b[0m\u001b[0;34m(\u001b[0m\u001b[0mkey\u001b[0m\u001b[0;34m)\u001b[0m\u001b[0;34m\u001b[0m\u001b[0;34m\u001b[0m\u001b[0m\n\u001b[0;32m-> 3458\u001b[0;31m             \u001b[0mindexer\u001b[0m \u001b[0;34m=\u001b[0m \u001b[0mself\u001b[0m\u001b[0;34m.\u001b[0m\u001b[0mcolumns\u001b[0m\u001b[0;34m.\u001b[0m\u001b[0mget_loc\u001b[0m\u001b[0;34m(\u001b[0m\u001b[0mkey\u001b[0m\u001b[0;34m)\u001b[0m\u001b[0;34m\u001b[0m\u001b[0;34m\u001b[0m\u001b[0m\n\u001b[0m\u001b[1;32m   3459\u001b[0m             \u001b[0;32mif\u001b[0m \u001b[0mis_integer\u001b[0m\u001b[0;34m(\u001b[0m\u001b[0mindexer\u001b[0m\u001b[0;34m)\u001b[0m\u001b[0;34m:\u001b[0m\u001b[0;34m\u001b[0m\u001b[0;34m\u001b[0m\u001b[0m\n\u001b[1;32m   3460\u001b[0m                 \u001b[0mindexer\u001b[0m \u001b[0;34m=\u001b[0m \u001b[0;34m[\u001b[0m\u001b[0mindexer\u001b[0m\u001b[0;34m]\u001b[0m\u001b[0;34m\u001b[0m\u001b[0;34m\u001b[0m\u001b[0m\n",
      "\u001b[0;32m/Library/Frameworks/Python.framework/Versions/3.7/lib/python3.7/site-packages/pandas/core/indexes/base.py\u001b[0m in \u001b[0;36mget_loc\u001b[0;34m(self, key, method, tolerance)\u001b[0m\n\u001b[1;32m   3361\u001b[0m                 \u001b[0;32mreturn\u001b[0m \u001b[0mself\u001b[0m\u001b[0;34m.\u001b[0m\u001b[0m_engine\u001b[0m\u001b[0;34m.\u001b[0m\u001b[0mget_loc\u001b[0m\u001b[0;34m(\u001b[0m\u001b[0mcasted_key\u001b[0m\u001b[0;34m)\u001b[0m\u001b[0;34m\u001b[0m\u001b[0;34m\u001b[0m\u001b[0m\n\u001b[1;32m   3362\u001b[0m             \u001b[0;32mexcept\u001b[0m \u001b[0mKeyError\u001b[0m \u001b[0;32mas\u001b[0m \u001b[0merr\u001b[0m\u001b[0;34m:\u001b[0m\u001b[0;34m\u001b[0m\u001b[0;34m\u001b[0m\u001b[0m\n\u001b[0;32m-> 3363\u001b[0;31m                 \u001b[0;32mraise\u001b[0m \u001b[0mKeyError\u001b[0m\u001b[0;34m(\u001b[0m\u001b[0mkey\u001b[0m\u001b[0;34m)\u001b[0m \u001b[0;32mfrom\u001b[0m \u001b[0merr\u001b[0m\u001b[0;34m\u001b[0m\u001b[0;34m\u001b[0m\u001b[0m\n\u001b[0m\u001b[1;32m   3364\u001b[0m \u001b[0;34m\u001b[0m\u001b[0m\n\u001b[1;32m   3365\u001b[0m         \u001b[0;32mif\u001b[0m \u001b[0mis_scalar\u001b[0m\u001b[0;34m(\u001b[0m\u001b[0mkey\u001b[0m\u001b[0;34m)\u001b[0m \u001b[0;32mand\u001b[0m \u001b[0misna\u001b[0m\u001b[0;34m(\u001b[0m\u001b[0mkey\u001b[0m\u001b[0;34m)\u001b[0m \u001b[0;32mand\u001b[0m \u001b[0;32mnot\u001b[0m \u001b[0mself\u001b[0m\u001b[0;34m.\u001b[0m\u001b[0mhasnans\u001b[0m\u001b[0;34m:\u001b[0m\u001b[0;34m\u001b[0m\u001b[0;34m\u001b[0m\u001b[0m\n",
      "\u001b[0;31mKeyError\u001b[0m: 'Cluster1'"
     ]
    }
   ],
   "source": [
    "# 2:'urban'\n",
    "# 1:'suburban'\n",
    "# 0:'rural'\n",
    "\n",
    "testing['Cluster1']['area_classification']='urban'\n",
    "testing['Cluster2']['area_classification']='suburban'\n",
    "testing['Cluster3']['area_classification']='suburban'\n"
   ]
  },
  {
   "cell_type": "code",
   "execution_count": 23,
   "metadata": {},
   "outputs": [
    {
     "data": {
      "text/html": [
       "<div>\n",
       "<style scoped>\n",
       "    .dataframe tbody tr th:only-of-type {\n",
       "        vertical-align: middle;\n",
       "    }\n",
       "\n",
       "    .dataframe tbody tr th {\n",
       "        vertical-align: top;\n",
       "    }\n",
       "\n",
       "    .dataframe thead th {\n",
       "        text-align: right;\n",
       "    }\n",
       "</style>\n",
       "<table border=\"1\" class=\"dataframe\">\n",
       "  <thead>\n",
       "    <tr style=\"text-align: right;\">\n",
       "      <th></th>\n",
       "      <th>0</th>\n",
       "      <th>1</th>\n",
       "    </tr>\n",
       "  </thead>\n",
       "  <tbody>\n",
       "    <tr>\n",
       "      <th>household_total_income</th>\n",
       "      <td>11132.0</td>\n",
       "      <td>NaN</td>\n",
       "    </tr>\n",
       "    <tr>\n",
       "      <th>population_density</th>\n",
       "      <td>2585.0</td>\n",
       "      <td>NaN</td>\n",
       "    </tr>\n",
       "    <tr>\n",
       "      <th>Area (Land, in square miles)</th>\n",
       "      <td>9.0</td>\n",
       "      <td>NaN</td>\n",
       "    </tr>\n",
       "    <tr>\n",
       "      <th>zip_code</th>\n",
       "      <td>33928.0</td>\n",
       "      <td>NaN</td>\n",
       "    </tr>\n",
       "    <tr>\n",
       "      <th>cluster</th>\n",
       "      <td>0.0</td>\n",
       "      <td>NaN</td>\n",
       "    </tr>\n",
       "  </tbody>\n",
       "</table>\n",
       "</div>"
      ],
      "text/plain": [
       "                                    0   1\n",
       "household_total_income        11132.0 NaN\n",
       "population_density             2585.0 NaN\n",
       "Area (Land, in square miles)      9.0 NaN\n",
       "zip_code                      33928.0 NaN\n",
       "cluster                           0.0 NaN"
      ]
     },
     "execution_count": 23,
     "metadata": {},
     "output_type": "execute_result"
    }
   ],
   "source": [
    "testing\n"
   ]
  },
  {
   "cell_type": "code",
   "execution_count": 24,
   "metadata": {},
   "outputs": [
    {
     "data": {
      "text/html": [
       "<div>\n",
       "<style scoped>\n",
       "    .dataframe tbody tr th:only-of-type {\n",
       "        vertical-align: middle;\n",
       "    }\n",
       "\n",
       "    .dataframe tbody tr th {\n",
       "        vertical-align: top;\n",
       "    }\n",
       "\n",
       "    .dataframe thead th {\n",
       "        text-align: right;\n",
       "    }\n",
       "</style>\n",
       "<table border=\"1\" class=\"dataframe\">\n",
       "  <thead>\n",
       "    <tr style=\"text-align: right;\">\n",
       "      <th></th>\n",
       "      <th>0</th>\n",
       "      <th>1</th>\n",
       "    </tr>\n",
       "  </thead>\n",
       "  <tbody>\n",
       "    <tr>\n",
       "      <th>household_total_income</th>\n",
       "      <td>6778504.0</td>\n",
       "      <td>NaN</td>\n",
       "    </tr>\n",
       "    <tr>\n",
       "      <th>population_density</th>\n",
       "      <td>2140727.0</td>\n",
       "      <td>NaN</td>\n",
       "    </tr>\n",
       "    <tr>\n",
       "      <th>Area (Land, in square miles)</th>\n",
       "      <td>88.0</td>\n",
       "      <td>NaN</td>\n",
       "    </tr>\n",
       "    <tr>\n",
       "      <th>zip_code</th>\n",
       "      <td>138963.0</td>\n",
       "      <td>NaN</td>\n",
       "    </tr>\n",
       "    <tr>\n",
       "      <th>cluster</th>\n",
       "      <td>0.0</td>\n",
       "      <td>NaN</td>\n",
       "    </tr>\n",
       "  </tbody>\n",
       "</table>\n",
       "</div>"
      ],
      "text/plain": [
       "                                      0   1\n",
       "household_total_income        6778504.0 NaN\n",
       "population_density            2140727.0 NaN\n",
       "Area (Land, in square miles)       88.0 NaN\n",
       "zip_code                       138963.0 NaN\n",
       "cluster                             0.0 NaN"
      ]
     },
     "execution_count": 24,
     "metadata": {},
     "output_type": "execute_result"
    }
   ],
   "source": [
    "cluster_variance_df=pd.DataFrame()\n",
    "def cluster_features_variance(i):\n",
    "        cluster_boolean_values=reversed_data['cluster']== i\n",
    "        cluster_values=reversed_data[cluster_boolean_values]\n",
    "        cluster_feature_var=cluster_values.var()\n",
    "        return cluster_feature_var\n",
    "for i in range(len(clusters)):\n",
    "        variance=cluster_features_variance(i)\n",
    "        variance= pd.to_numeric(variance, downcast=\"float\")\n",
    "        variance=round(variance,0)\n",
    "        cluster_variance_df[i]= variance\n",
    "\n",
    "cluster_variance_df\n"
   ]
  },
  {
   "cell_type": "code",
   "execution_count": 25,
   "metadata": {},
   "outputs": [
    {
     "data": {
      "text/html": [
       "<div>\n",
       "<style scoped>\n",
       "    .dataframe tbody tr th:only-of-type {\n",
       "        vertical-align: middle;\n",
       "    }\n",
       "\n",
       "    .dataframe tbody tr th {\n",
       "        vertical-align: top;\n",
       "    }\n",
       "\n",
       "    .dataframe thead th {\n",
       "        text-align: right;\n",
       "    }\n",
       "</style>\n",
       "<table border=\"1\" class=\"dataframe\">\n",
       "  <thead>\n",
       "    <tr style=\"text-align: right;\">\n",
       "      <th></th>\n",
       "      <th>household_total_income</th>\n",
       "      <th>population_density</th>\n",
       "      <th>Area (Land, in square miles)</th>\n",
       "      <th>zip_code</th>\n",
       "      <th>cluster</th>\n",
       "    </tr>\n",
       "  </thead>\n",
       "  <tbody>\n",
       "    <tr>\n",
       "      <th>0</th>\n",
       "      <td>18161.0</td>\n",
       "      <td>3399.821109</td>\n",
       "      <td>11.18</td>\n",
       "      <td>34698.0</td>\n",
       "      <td>-1</td>\n",
       "    </tr>\n",
       "    <tr>\n",
       "      <th>1</th>\n",
       "      <td>6126.0</td>\n",
       "      <td>3311.961722</td>\n",
       "      <td>4.18</td>\n",
       "      <td>33765.0</td>\n",
       "      <td>0</td>\n",
       "    </tr>\n",
       "    <tr>\n",
       "      <th>2</th>\n",
       "      <td>12905.0</td>\n",
       "      <td>6318.238994</td>\n",
       "      <td>4.77</td>\n",
       "      <td>33334.0</td>\n",
       "      <td>0</td>\n",
       "    </tr>\n",
       "    <tr>\n",
       "      <th>3</th>\n",
       "      <td>11521.0</td>\n",
       "      <td>2584.685598</td>\n",
       "      <td>9.86</td>\n",
       "      <td>34104.0</td>\n",
       "      <td>0</td>\n",
       "    </tr>\n",
       "    <tr>\n",
       "      <th>4</th>\n",
       "      <td>9571.0</td>\n",
       "      <td>192.645410</td>\n",
       "      <td>160.58</td>\n",
       "      <td>33547.0</td>\n",
       "      <td>-1</td>\n",
       "    </tr>\n",
       "    <tr>\n",
       "      <th>5</th>\n",
       "      <td>8052.0</td>\n",
       "      <td>4702.052786</td>\n",
       "      <td>3.41</td>\n",
       "      <td>33708.0</td>\n",
       "      <td>0</td>\n",
       "    </tr>\n",
       "    <tr>\n",
       "      <th>6</th>\n",
       "      <td>14289.0</td>\n",
       "      <td>694.697697</td>\n",
       "      <td>41.68</td>\n",
       "      <td>33928.0</td>\n",
       "      <td>0</td>\n",
       "    </tr>\n",
       "    <tr>\n",
       "      <th>7</th>\n",
       "      <td>12686.0</td>\n",
       "      <td>4017.507418</td>\n",
       "      <td>6.74</td>\n",
       "      <td>34684.0</td>\n",
       "      <td>0</td>\n",
       "    </tr>\n",
       "    <tr>\n",
       "      <th>8</th>\n",
       "      <td>12588.0</td>\n",
       "      <td>1752.983725</td>\n",
       "      <td>16.59</td>\n",
       "      <td>33803.0</td>\n",
       "      <td>0</td>\n",
       "    </tr>\n",
       "    <tr>\n",
       "      <th>9</th>\n",
       "      <td>22685.0</td>\n",
       "      <td>3528.161994</td>\n",
       "      <td>16.05</td>\n",
       "      <td>33511.0</td>\n",
       "      <td>-1</td>\n",
       "    </tr>\n",
       "    <tr>\n",
       "      <th>10</th>\n",
       "      <td>15335.0</td>\n",
       "      <td>3143.336355</td>\n",
       "      <td>11.03</td>\n",
       "      <td>34232.0</td>\n",
       "      <td>-1</td>\n",
       "    </tr>\n",
       "    <tr>\n",
       "      <th>11</th>\n",
       "      <td>21729.0</td>\n",
       "      <td>2183.238312</td>\n",
       "      <td>26.31</td>\n",
       "      <td>32225.0</td>\n",
       "      <td>-1</td>\n",
       "    </tr>\n",
       "    <tr>\n",
       "      <th>12</th>\n",
       "      <td>8366.0</td>\n",
       "      <td>1491.417004</td>\n",
       "      <td>12.35</td>\n",
       "      <td>32541.0</td>\n",
       "      <td>-1</td>\n",
       "    </tr>\n",
       "    <tr>\n",
       "      <th>13</th>\n",
       "      <td>9862.0</td>\n",
       "      <td>2057.800312</td>\n",
       "      <td>12.82</td>\n",
       "      <td>33991.0</td>\n",
       "      <td>0</td>\n",
       "    </tr>\n",
       "    <tr>\n",
       "      <th>14</th>\n",
       "      <td>11132.0</td>\n",
       "      <td>3403.269755</td>\n",
       "      <td>7.34</td>\n",
       "      <td>33907.0</td>\n",
       "      <td>0</td>\n",
       "    </tr>\n",
       "    <tr>\n",
       "      <th>15</th>\n",
       "      <td>8461.0</td>\n",
       "      <td>2058.928571</td>\n",
       "      <td>7.84</td>\n",
       "      <td>34108.0</td>\n",
       "      <td>0</td>\n",
       "    </tr>\n",
       "    <tr>\n",
       "      <th>16</th>\n",
       "      <td>20496.0</td>\n",
       "      <td>1706.789162</td>\n",
       "      <td>32.11</td>\n",
       "      <td>32703.0</td>\n",
       "      <td>-1</td>\n",
       "    </tr>\n",
       "    <tr>\n",
       "      <th>17</th>\n",
       "      <td>11671.0</td>\n",
       "      <td>2055.957635</td>\n",
       "      <td>11.33</td>\n",
       "      <td>33903.0</td>\n",
       "      <td>0</td>\n",
       "    </tr>\n",
       "    <tr>\n",
       "      <th>18</th>\n",
       "      <td>10795.0</td>\n",
       "      <td>1160.043290</td>\n",
       "      <td>23.10</td>\n",
       "      <td>34202.0</td>\n",
       "      <td>0</td>\n",
       "    </tr>\n",
       "    <tr>\n",
       "      <th>19</th>\n",
       "      <td>10686.0</td>\n",
       "      <td>3039.507959</td>\n",
       "      <td>6.91</td>\n",
       "      <td>33434.0</td>\n",
       "      <td>0</td>\n",
       "    </tr>\n",
       "    <tr>\n",
       "      <th>20</th>\n",
       "      <td>20140.0</td>\n",
       "      <td>6954.312354</td>\n",
       "      <td>8.58</td>\n",
       "      <td>33065.0</td>\n",
       "      <td>-1</td>\n",
       "    </tr>\n",
       "    <tr>\n",
       "      <th>21</th>\n",
       "      <td>28173.0</td>\n",
       "      <td>2129.296987</td>\n",
       "      <td>34.85</td>\n",
       "      <td>33411.0</td>\n",
       "      <td>-1</td>\n",
       "    </tr>\n",
       "    <tr>\n",
       "      <th>22</th>\n",
       "      <td>13727.0</td>\n",
       "      <td>5150.071942</td>\n",
       "      <td>6.95</td>\n",
       "      <td>33060.0</td>\n",
       "      <td>-1</td>\n",
       "    </tr>\n",
       "    <tr>\n",
       "      <th>23</th>\n",
       "      <td>14782.0</td>\n",
       "      <td>3291.778006</td>\n",
       "      <td>9.73</td>\n",
       "      <td>33904.0</td>\n",
       "      <td>-1</td>\n",
       "    </tr>\n",
       "    <tr>\n",
       "      <th>24</th>\n",
       "      <td>8230.0</td>\n",
       "      <td>801.749271</td>\n",
       "      <td>27.44</td>\n",
       "      <td>34286.0</td>\n",
       "      <td>0</td>\n",
       "    </tr>\n",
       "    <tr>\n",
       "      <th>25</th>\n",
       "      <td>11737.0</td>\n",
       "      <td>3125.619835</td>\n",
       "      <td>8.47</td>\n",
       "      <td>33618.0</td>\n",
       "      <td>0</td>\n",
       "    </tr>\n",
       "    <tr>\n",
       "      <th>26</th>\n",
       "      <td>10141.0</td>\n",
       "      <td>3172.538293</td>\n",
       "      <td>9.14</td>\n",
       "      <td>33328.0</td>\n",
       "      <td>0</td>\n",
       "    </tr>\n",
       "    <tr>\n",
       "      <th>27</th>\n",
       "      <td>8673.0</td>\n",
       "      <td>1183.482143</td>\n",
       "      <td>13.44</td>\n",
       "      <td>34134.0</td>\n",
       "      <td>0</td>\n",
       "    </tr>\n",
       "    <tr>\n",
       "      <th>28</th>\n",
       "      <td>4735.0</td>\n",
       "      <td>1282.229965</td>\n",
       "      <td>8.61</td>\n",
       "      <td>33954.0</td>\n",
       "      <td>0</td>\n",
       "    </tr>\n",
       "    <tr>\n",
       "      <th>29</th>\n",
       "      <td>20419.0</td>\n",
       "      <td>892.059369</td>\n",
       "      <td>53.90</td>\n",
       "      <td>34221.0</td>\n",
       "      <td>-1</td>\n",
       "    </tr>\n",
       "    <tr>\n",
       "      <th>30</th>\n",
       "      <td>11633.0</td>\n",
       "      <td>465.062253</td>\n",
       "      <td>65.86</td>\n",
       "      <td>33809.0</td>\n",
       "      <td>-1</td>\n",
       "    </tr>\n",
       "    <tr>\n",
       "      <th>31</th>\n",
       "      <td>10538.0</td>\n",
       "      <td>2871.542553</td>\n",
       "      <td>7.52</td>\n",
       "      <td>32129.0</td>\n",
       "      <td>-1</td>\n",
       "    </tr>\n",
       "    <tr>\n",
       "      <th>32</th>\n",
       "      <td>14640.0</td>\n",
       "      <td>1549.135255</td>\n",
       "      <td>22.55</td>\n",
       "      <td>34119.0</td>\n",
       "      <td>0</td>\n",
       "    </tr>\n",
       "    <tr>\n",
       "      <th>33</th>\n",
       "      <td>9763.0</td>\n",
       "      <td>2077.311725</td>\n",
       "      <td>10.49</td>\n",
       "      <td>32504.0</td>\n",
       "      <td>-1</td>\n",
       "    </tr>\n",
       "    <tr>\n",
       "      <th>34</th>\n",
       "      <td>11190.0</td>\n",
       "      <td>4899.038462</td>\n",
       "      <td>5.20</td>\n",
       "      <td>33770.0</td>\n",
       "      <td>0</td>\n",
       "    </tr>\n",
       "    <tr>\n",
       "      <th>35</th>\n",
       "      <td>14153.0</td>\n",
       "      <td>2760.194731</td>\n",
       "      <td>17.46</td>\n",
       "      <td>34761.0</td>\n",
       "      <td>0</td>\n",
       "    </tr>\n",
       "    <tr>\n",
       "      <th>36</th>\n",
       "      <td>17391.0</td>\n",
       "      <td>3382.775510</td>\n",
       "      <td>12.25</td>\n",
       "      <td>32257.0</td>\n",
       "      <td>-1</td>\n",
       "    </tr>\n",
       "    <tr>\n",
       "      <th>37</th>\n",
       "      <td>16462.0</td>\n",
       "      <td>2584.738717</td>\n",
       "      <td>16.84</td>\n",
       "      <td>32073.0</td>\n",
       "      <td>-1</td>\n",
       "    </tr>\n",
       "  </tbody>\n",
       "</table>\n",
       "</div>"
      ],
      "text/plain": [
       "    household_total_income  population_density  Area (Land, in square miles)  \\\n",
       "0                  18161.0         3399.821109                         11.18   \n",
       "1                   6126.0         3311.961722                          4.18   \n",
       "2                  12905.0         6318.238994                          4.77   \n",
       "3                  11521.0         2584.685598                          9.86   \n",
       "4                   9571.0          192.645410                        160.58   \n",
       "5                   8052.0         4702.052786                          3.41   \n",
       "6                  14289.0          694.697697                         41.68   \n",
       "7                  12686.0         4017.507418                          6.74   \n",
       "8                  12588.0         1752.983725                         16.59   \n",
       "9                  22685.0         3528.161994                         16.05   \n",
       "10                 15335.0         3143.336355                         11.03   \n",
       "11                 21729.0         2183.238312                         26.31   \n",
       "12                  8366.0         1491.417004                         12.35   \n",
       "13                  9862.0         2057.800312                         12.82   \n",
       "14                 11132.0         3403.269755                          7.34   \n",
       "15                  8461.0         2058.928571                          7.84   \n",
       "16                 20496.0         1706.789162                         32.11   \n",
       "17                 11671.0         2055.957635                         11.33   \n",
       "18                 10795.0         1160.043290                         23.10   \n",
       "19                 10686.0         3039.507959                          6.91   \n",
       "20                 20140.0         6954.312354                          8.58   \n",
       "21                 28173.0         2129.296987                         34.85   \n",
       "22                 13727.0         5150.071942                          6.95   \n",
       "23                 14782.0         3291.778006                          9.73   \n",
       "24                  8230.0          801.749271                         27.44   \n",
       "25                 11737.0         3125.619835                          8.47   \n",
       "26                 10141.0         3172.538293                          9.14   \n",
       "27                  8673.0         1183.482143                         13.44   \n",
       "28                  4735.0         1282.229965                          8.61   \n",
       "29                 20419.0          892.059369                         53.90   \n",
       "30                 11633.0          465.062253                         65.86   \n",
       "31                 10538.0         2871.542553                          7.52   \n",
       "32                 14640.0         1549.135255                         22.55   \n",
       "33                  9763.0         2077.311725                         10.49   \n",
       "34                 11190.0         4899.038462                          5.20   \n",
       "35                 14153.0         2760.194731                         17.46   \n",
       "36                 17391.0         3382.775510                         12.25   \n",
       "37                 16462.0         2584.738717                         16.84   \n",
       "\n",
       "    zip_code  cluster  \n",
       "0    34698.0       -1  \n",
       "1    33765.0        0  \n",
       "2    33334.0        0  \n",
       "3    34104.0        0  \n",
       "4    33547.0       -1  \n",
       "5    33708.0        0  \n",
       "6    33928.0        0  \n",
       "7    34684.0        0  \n",
       "8    33803.0        0  \n",
       "9    33511.0       -1  \n",
       "10   34232.0       -1  \n",
       "11   32225.0       -1  \n",
       "12   32541.0       -1  \n",
       "13   33991.0        0  \n",
       "14   33907.0        0  \n",
       "15   34108.0        0  \n",
       "16   32703.0       -1  \n",
       "17   33903.0        0  \n",
       "18   34202.0        0  \n",
       "19   33434.0        0  \n",
       "20   33065.0       -1  \n",
       "21   33411.0       -1  \n",
       "22   33060.0       -1  \n",
       "23   33904.0       -1  \n",
       "24   34286.0        0  \n",
       "25   33618.0        0  \n",
       "26   33328.0        0  \n",
       "27   34134.0        0  \n",
       "28   33954.0        0  \n",
       "29   34221.0       -1  \n",
       "30   33809.0       -1  \n",
       "31   32129.0       -1  \n",
       "32   34119.0        0  \n",
       "33   32504.0       -1  \n",
       "34   33770.0        0  \n",
       "35   34761.0        0  \n",
       "36   32257.0       -1  \n",
       "37   32073.0       -1  "
      ]
     },
     "execution_count": 25,
     "metadata": {},
     "output_type": "execute_result"
    }
   ],
   "source": [
    "reversed_data\n"
   ]
  },
  {
   "cell_type": "code",
   "execution_count": 26,
   "metadata": {},
   "outputs": [
    {
     "ename": "KeyError",
     "evalue": "\"The following 'value_vars' are not present in the DataFrame: ['area_classification', 'population', 'traffic_count']\"",
     "output_type": "error",
     "traceback": [
      "\u001b[0;31m---------------------------------------------------------------------------\u001b[0m",
      "\u001b[0;31mKeyError\u001b[0m                                  Traceback (most recent call last)",
      "\u001b[0;32m/var/folders/lg/b8pw7x296y397cn0g302yt680000gp/T/ipykernel_82072/871293582.py\u001b[0m in \u001b[0;36m<module>\u001b[0;34m\u001b[0m\n\u001b[1;32m     26\u001b[0m     \u001b[0mvalue_vars\u001b[0m\u001b[0;34m=\u001b[0m\u001b[0;34m[\u001b[0m\u001b[0;34m'area_classification'\u001b[0m\u001b[0;34m,\u001b[0m \u001b[0;34m'traffic_count'\u001b[0m\u001b[0;34m,\u001b[0m \u001b[0;34m'population'\u001b[0m\u001b[0;34m,\u001b[0m \u001b[0;34m'household_total_income'\u001b[0m\u001b[0;34m]\u001b[0m\u001b[0;34m,\u001b[0m  \u001b[0;31m# Features to melt\u001b[0m\u001b[0;34m\u001b[0m\u001b[0;34m\u001b[0m\u001b[0m\n\u001b[1;32m     27\u001b[0m     \u001b[0mvar_name\u001b[0m\u001b[0;34m=\u001b[0m\u001b[0;34m'Feature'\u001b[0m\u001b[0;34m,\u001b[0m   \u001b[0;31m# New column for feature names\u001b[0m\u001b[0;34m\u001b[0m\u001b[0;34m\u001b[0m\u001b[0m\n\u001b[0;32m---> 28\u001b[0;31m     \u001b[0mvalue_name\u001b[0m\u001b[0;34m=\u001b[0m\u001b[0;34m'Value'\u001b[0m    \u001b[0;31m# New column for feature values\u001b[0m\u001b[0;34m\u001b[0m\u001b[0;34m\u001b[0m\u001b[0m\n\u001b[0m\u001b[1;32m     29\u001b[0m )\n\u001b[1;32m     30\u001b[0m \u001b[0;34m\u001b[0m\u001b[0m\n",
      "\u001b[0;32m/Library/Frameworks/Python.framework/Versions/3.7/lib/python3.7/site-packages/pandas/core/frame.py\u001b[0m in \u001b[0;36mmelt\u001b[0;34m(self, id_vars, value_vars, var_name, value_name, col_level, ignore_index)\u001b[0m\n\u001b[1;32m   8344\u001b[0m             \u001b[0mvalue_name\u001b[0m\u001b[0;34m=\u001b[0m\u001b[0mvalue_name\u001b[0m\u001b[0;34m,\u001b[0m\u001b[0;34m\u001b[0m\u001b[0;34m\u001b[0m\u001b[0m\n\u001b[1;32m   8345\u001b[0m             \u001b[0mcol_level\u001b[0m\u001b[0;34m=\u001b[0m\u001b[0mcol_level\u001b[0m\u001b[0;34m,\u001b[0m\u001b[0;34m\u001b[0m\u001b[0;34m\u001b[0m\u001b[0m\n\u001b[0;32m-> 8346\u001b[0;31m             \u001b[0mignore_index\u001b[0m\u001b[0;34m=\u001b[0m\u001b[0mignore_index\u001b[0m\u001b[0;34m,\u001b[0m\u001b[0;34m\u001b[0m\u001b[0;34m\u001b[0m\u001b[0m\n\u001b[0m\u001b[1;32m   8347\u001b[0m         )\n\u001b[1;32m   8348\u001b[0m \u001b[0;34m\u001b[0m\u001b[0m\n",
      "\u001b[0;32m/Library/Frameworks/Python.framework/Versions/3.7/lib/python3.7/site-packages/pandas/core/reshape/melt.py\u001b[0m in \u001b[0;36mmelt\u001b[0;34m(frame, id_vars, value_vars, var_name, value_name, col_level, ignore_index)\u001b[0m\n\u001b[1;32m    100\u001b[0m             \u001b[0;32mif\u001b[0m \u001b[0;32mnot\u001b[0m \u001b[0mmissing\u001b[0m\u001b[0;34m.\u001b[0m\u001b[0mempty\u001b[0m\u001b[0;34m:\u001b[0m\u001b[0;34m\u001b[0m\u001b[0;34m\u001b[0m\u001b[0m\n\u001b[1;32m    101\u001b[0m                 raise KeyError(\n\u001b[0;32m--> 102\u001b[0;31m                     \u001b[0;34m\"The following 'value_vars' are not present in \"\u001b[0m\u001b[0;34m\u001b[0m\u001b[0;34m\u001b[0m\u001b[0m\n\u001b[0m\u001b[1;32m    103\u001b[0m                     \u001b[0;34mf\"the DataFrame: {list(missing)}\"\u001b[0m\u001b[0;34m\u001b[0m\u001b[0;34m\u001b[0m\u001b[0m\n\u001b[1;32m    104\u001b[0m                 )\n",
      "\u001b[0;31mKeyError\u001b[0m: \"The following 'value_vars' are not present in the DataFrame: ['area_classification', 'population', 'traffic_count']\""
     ]
    }
   ],
   "source": [
    "# melted_data = reversed_data.melt(\n",
    "#     id_vars=['cluster'],  # Keep clusters intact\n",
    "#     value_vars=['area_classification', 'traffic_count', 'population', 'household_total_income'],  # Features to melt\n",
    "#     var_name='Feature',   # New column for feature names\n",
    "#     value_name='Value'    # New column for feature values\n",
    "# )\n",
    "\n",
    "# # Create the FacetGrid\n",
    "# g = sns.FacetGrid(melted_data, row='cluster', col='Feature', sharex=False, margin_titles=True, height=2.5, aspect=1.5)\n",
    "# g.map(sns.histplot, 'Value', kde=False, bins=30)\n",
    "\n",
    "# # Customize titles and layout\n",
    "# g.set_axis_labels(\"Value\", \"Count\")\n",
    "# g.set_titles(col_template=\"{col_name}\", row_template=\"Cluster: {row_name}\")\n",
    "# g.tight_layout()\n",
    "# plt.show()\n",
    "\n",
    "import seaborn as sns\n",
    "import matplotlib.pyplot as plt\n",
    "import pandas as pd\n",
    "\n",
    "\n",
    "# Melt the DataFrame\n",
    "melted_data = reversed_data.melt(\n",
    "    id_vars=['cluster'],  # Keep clusters intact\n",
    "    value_vars=['area_classification', 'traffic_count', 'population', 'household_total_income'],  # Features to melt\n",
    "    var_name='Feature',   # New column for feature names\n",
    "    value_name='Value'    # New column for feature values\n",
    ")\n",
    "\n",
    "# Create the FacetGrid with independent y-scales\n",
    "g = sns.FacetGrid(\n",
    "    melted_data, \n",
    "    row='cluster', \n",
    "    col='Feature', \n",
    "    sharex=False, \n",
    "    sharey=False,  # Make y-scale independent\n",
    "    margin_titles=True, \n",
    "    height=2.5, \n",
    "    aspect=1.5\n",
    ")\n",
    "g.map(sns.histplot, 'Value', kde=True,bins=5)\n",
    "\n",
    "# Customize titles and layout\n",
    "g.set_axis_labels(\"Value\", \"Count\")\n",
    "g.set_titles(col_template=\"{col_name}\", row_template=\"Cluster: {row_name}\")\n",
    "g.tight_layout()\n",
    "plt.show()\n",
    "\n"
   ]
  },
  {
   "cell_type": "code",
   "execution_count": 27,
   "metadata": {},
   "outputs": [],
   "source": [
    "#cluster one=>\n",
    "#cluster two=>\n",
    "#cluster three=>\n",
    "\n"
   ]
  },
  {
   "cell_type": "code",
   "execution_count": 28,
   "metadata": {},
   "outputs": [
    {
     "ename": "NameError",
     "evalue": "name 'melted_data' is not defined",
     "output_type": "error",
     "traceback": [
      "\u001b[0;31m---------------------------------------------------------------------------\u001b[0m",
      "\u001b[0;31mNameError\u001b[0m                                 Traceback (most recent call last)",
      "\u001b[0;32m/var/folders/lg/b8pw7x296y397cn0g302yt680000gp/T/ipykernel_82072/1201475078.py\u001b[0m in \u001b[0;36m<module>\u001b[0;34m\u001b[0m\n\u001b[1;32m      1\u001b[0m \u001b[0;32mfrom\u001b[0m \u001b[0mscipy\u001b[0m\u001b[0;34m.\u001b[0m\u001b[0mstats\u001b[0m \u001b[0;32mimport\u001b[0m \u001b[0mgaussian_kde\u001b[0m\u001b[0;34m\u001b[0m\u001b[0;34m\u001b[0m\u001b[0m\n\u001b[1;32m      2\u001b[0m fig = px.histogram(\n\u001b[0;32m----> 3\u001b[0;31m     \u001b[0mmelted_data\u001b[0m\u001b[0;34m,\u001b[0m\u001b[0;34m\u001b[0m\u001b[0;34m\u001b[0m\u001b[0m\n\u001b[0m\u001b[1;32m      4\u001b[0m     \u001b[0mx\u001b[0m\u001b[0;34m=\u001b[0m\u001b[0;34m'Value'\u001b[0m\u001b[0;34m,\u001b[0m\u001b[0;34m\u001b[0m\u001b[0;34m\u001b[0m\u001b[0m\n\u001b[1;32m      5\u001b[0m     \u001b[0mcolor\u001b[0m\u001b[0;34m=\u001b[0m\u001b[0;34m'cluster'\u001b[0m\u001b[0;34m,\u001b[0m\u001b[0;34m\u001b[0m\u001b[0;34m\u001b[0m\u001b[0m\n",
      "\u001b[0;31mNameError\u001b[0m: name 'melted_data' is not defined"
     ]
    }
   ],
   "source": [
    "from scipy.stats import gaussian_kde\n",
    "fig = px.histogram(\n",
    "    melted_data,\n",
    "    x='Value',\n",
    "    color='cluster',\n",
    "    facet_row='Feature',\n",
    "    nbins=30,\n",
    "    title=\"Histogram of Features by Cluster\",\n",
    "    category_orders={'Feature': ['area_classification', 'traffic_count', 'population', 'household_total_income']}\n",
    ")\n",
    "\n",
    "fig.for_each_annotation(lambda a: a.update(text=a.text.split(\"=\")[-1]))\n",
    "\n",
    "\n",
    "\n",
    "\n",
    "# Customize layout\n",
    "fig.update_layout(barmode='overlay', height=800)\n",
    "fig.update_yaxes(matches=None)\n",
    "fig.update_traces(opacity=0.55)\n",
    "\n",
    "fig.show()\n"
   ]
  },
  {
   "cell_type": "markdown",
   "metadata": {},
   "source": [
    "# kmeans\n"
   ]
  },
  {
   "cell_type": "code",
   "execution_count": 160,
   "metadata": {},
   "outputs": [
    {
     "ename": "NameError",
     "evalue": "name 'florida' is not defined",
     "output_type": "error",
     "traceback": [
      "\u001b[0;31m---------------------------------------------------------------------------\u001b[0m",
      "\u001b[0;31mNameError\u001b[0m                                 Traceback (most recent call last)",
      "\u001b[0;32m/var/folders/lg/b8pw7x296y397cn0g302yt680000gp/T/ipykernel_82072/3745861488.py\u001b[0m in \u001b[0;36m<module>\u001b[0;34m\u001b[0m\n\u001b[0;32m----> 1\u001b[0;31m \u001b[0mflorida\u001b[0m\u001b[0;34m\u001b[0m\u001b[0;34m\u001b[0m\u001b[0m\n\u001b[0m",
      "\u001b[0;31mNameError\u001b[0m: name 'florida' is not defined"
     ]
    }
   ],
   "source": [
    "florida\n"
   ]
  },
  {
   "cell_type": "code",
   "execution_count": 116,
   "metadata": {},
   "outputs": [],
   "source": [
    "from sklearn.cluster import KMeans\n",
    "import matplotlib.pyplot as plt\n"
   ]
  },
  {
   "cell_type": "code",
   "execution_count": 128,
   "metadata": {},
   "outputs": [],
   "source": [
    "%store -r df \n"
   ]
  },
  {
   "cell_type": "code",
   "execution_count": 148,
   "metadata": {},
   "outputs": [],
   "source": [
    "%store -r df1 \n",
    "df=df1.copy()\n"
   ]
  },
  {
   "cell_type": "code",
   "execution_count": 149,
   "metadata": {},
   "outputs": [],
   "source": [
    "df.head(2)\n",
    "df.dropna(inplace=True)\n"
   ]
  },
  {
   "cell_type": "code",
   "execution_count": 150,
   "metadata": {},
   "outputs": [],
   "source": [
    "scaler = StandardScaler()\n",
    "scaled_data = scaler.fit_transform(df)\n"
   ]
  },
  {
   "cell_type": "code",
   "execution_count": 151,
   "metadata": {},
   "outputs": [
    {
     "data": {
      "image/png": "[encoded data removed]",
      "text/plain": [
       "<Figure size 576x432 with 1 Axes>"
      ]
     },
     "metadata": {
      "needs_background": "light"
     },
     "output_type": "display_data"
    }
   ],
   "source": [
    "\n",
    "# df=input_data.copy()\n",
    "def choose_k_elbow(scaled_data, max_k=10):\n",
    "    wcss = []  # Store Within-Cluster Sum of Squares for each k\n",
    "\n",
    "    # Test K-Means with k ranging from 1 to max_k\n",
    "    for k in range(1, max_k + 1):\n",
    "        kmeans = KMeans(n_clusters=k, init='k-means++', max_iter=300, random_state=42)\n",
    "        kmeans.fit(scaled_data)\n",
    "        wcss.append(kmeans.inertia_)  # Inertia is the WCSS value\n",
    "\n",
    "    # Plot the elbow curve\n",
    "    plt.figure(figsize=(8, 6))\n",
    "    plt.plot(range(1, max_k + 1), wcss, marker='o')\n",
    "    plt.title('Elbow Method to Determine Optimal K')\n",
    "    plt.xlabel('Number of Clusters (k)')\n",
    "    plt.ylabel('WCSS')\n",
    "    plt.grid()\n",
    "    plt.show()\n",
    "choose_k_elbow(scaled_data, max_k=10)\n"
   ]
  },
  {
   "cell_type": "code",
   "execution_count": 152,
   "metadata": {},
   "outputs": [
    {
     "name": "stdout",
     "output_type": "stream",
     "text": [
      "2\n",
      "Silhouette Score: 0.24651756518086457\n",
      "3\n",
      "Silhouette Score: 0.2722820692408268\n",
      "4\n",
      "Silhouette Score: 0.2783116222507042\n",
      "5\n",
      "Silhouette Score: 0.2722573766652416\n",
      "6\n",
      "Silhouette Score: 0.2996683909228867\n",
      "7\n",
      "Silhouette Score: 0.264716958634172\n",
      "8\n",
      "Silhouette Score: 0.2842623512181929\n",
      "9\n",
      "Silhouette Score: 0.30857451502418676\n",
      "10\n",
      "Silhouette Score: 0.28647732490664635\n",
      "11\n",
      "Silhouette Score: 0.2934795627801864\n",
      "12\n",
      "Silhouette Score: 0.3162101952236787\n",
      "13\n",
      "Silhouette Score: 0.3336605947349313\n",
      "14\n",
      "Silhouette Score: 0.32834882609967375\n",
      "15\n",
      "Silhouette Score: 0.29444644461334973\n",
      "16\n",
      "Silhouette Score: 0.29095757004208556\n",
      "17\n",
      "Silhouette Score: 0.2786316568569474\n",
      "18\n",
      "Silhouette Score: 0.256544127905507\n",
      "19\n",
      "Silhouette Score: 0.24879842125330867\n",
      "20\n",
      "Silhouette Score: 0.2636139311066691\n",
      "21\n",
      "Silhouette Score: 0.25357794368385894\n",
      "22\n",
      "Silhouette Score: 0.24767343982446252\n",
      "23\n",
      "Silhouette Score: 0.24489027217008685\n",
      "24\n",
      "Silhouette Score: 0.2303650651658918\n",
      "25\n",
      "Silhouette Score: 0.23166754724531227\n",
      "26\n",
      "Silhouette Score: 0.2378701564802665\n",
      "27\n",
      "Silhouette Score: 0.24241670465838552\n",
      "28\n",
      "Silhouette Score: 0.23722782925632407\n",
      "29\n",
      "Silhouette Score: 0.2380375405433292\n",
      "30\n",
      "Silhouette Score: 0.2161444635528453\n",
      "31\n",
      "Silhouette Score: 0.1838315425697385\n",
      "32\n",
      "Silhouette Score: 0.15851682438595974\n",
      "33\n",
      "Silhouette Score: 0.1427376784430164\n",
      "34\n",
      "Silhouette Score: 0.10466773712159143\n",
      "35\n",
      "Silhouette Score: 0.07734229150926081\n",
      "36\n",
      "Silhouette Score: 0.04019769636663205\n"
     ]
    },
    {
     "data": {
      "text/plain": [
       "0.3336605947349313"
      ]
     },
     "execution_count": 152,
     "metadata": {},
     "output_type": "execute_result"
    }
   ],
   "source": [
    "\n",
    "\n",
    "\n",
    "n=[]\n",
    "score=[]\n",
    "for i in range(2,df.shape[0]):\n",
    "    k = i # Number of clusters\n",
    "    kmeans = KMeans(n_clusters=k, random_state=44)  # Set random_state for reproducibility\n",
    "    kmeans.fit(scaled_data)\n",
    "\n",
    "    # 3. Add cluster labels to the original dataset\n",
    "    df['Cluster'] = kmeans.labels_\n",
    "\n",
    "    # 4. Compute the Silhouette Score\n",
    "    labels = kmeans.labels_\n",
    "    print(i)\n",
    "    silhouette_avg = silhouette_score(scaled_data, labels)\n",
    "    print(f\"Silhouette Score: {silhouette_avg}\")\n",
    "\n",
    "    n.append(i)\n",
    "    score.append(silhouette_avg)\n",
    "max(score)\n",
    "\n"
   ]
  },
  {
   "cell_type": "code",
   "execution_count": 154,
   "metadata": {},
   "outputs": [
    {
     "name": "stdout",
     "output_type": "stream",
     "text": [
      "Silhouette Score: 0.2722820692408268\n"
     ]
    }
   ],
   "source": [
    "k = 3 # Number of clusters\n",
    "kmeans = KMeans(n_clusters=k, random_state=44)  # Set random_state for reproducibility\n",
    "kmeans.fit(scaled_data)\n",
    "\n",
    "# 3. Add cluster labels to the original dataset\n",
    "df['Cluster'] = kmeans.labels_\n",
    "\n",
    "# 4. Compute the Silhouette Score\n",
    "labels = kmeans.labels_\n",
    "\n",
    "silhouette_avg = silhouette_score(scaled_data, labels)\n",
    "print(f\"Silhouette Score: {silhouette_avg}\")\n"
   ]
  },
  {
   "cell_type": "code",
   "execution_count": 155,
   "metadata": {},
   "outputs": [],
   "source": [
    "def twoD_data_ceation(labels,scaled_data):\n",
    "        tsne = TSNE(n_components=2, verbose=1, perplexity=30, n_iter=1000,random_state=0)\n",
    "        tsne_results = tsne.fit_transform(scaled_data)\n",
    "        tsne_df = pd.DataFrame(data = tsne_results,columns=['tsne1','tsne2'])\n",
    "        tsne_df = pd.concat([tsne_df, pd.DataFrame({'cluster':labels})], axis=1)\n",
    "        fig = px.scatter(tsne_df,x=\"tsne1\", y=\"tsne2\", color='cluster',symbol='cluster',\n",
    "                         color_discrete_map=\"identity\", width=800, height=600)\n",
    "        fig.show()\n",
    "        \n",
    "        \n",
    "from sklearn.manifold import TSNE\n",
    "from scipy.spatial import ConvexHull\n",
    "import pandas as pd\n",
    "import plotly.express as px\n",
    "import plotly.graph_objects as go\n",
    "\n",
    "def twoD_data_creation_with_boundaries(labels, scaled_data):\n",
    "    # Perform t-SNE\n",
    "    tsne = TSNE(n_components=2, verbose=1, perplexity=30, n_iter=1000, random_state=0)\n",
    "    tsne_results = tsne.fit_transform(scaled_data)\n",
    "    \n",
    "    # Create a DataFrame for t-SNE results\n",
    "    tsne_df = pd.DataFrame(data=tsne_results, columns=['tsne1', 'tsne2'])\n",
    "    tsne_df['cluster'] = labels\n",
    "    # tsne_df=tsne_df[tsne_df['cluster']!=-1]\n",
    "    \n",
    "    # Plot points with cluster colors\n",
    "    fig = px.scatter(tsne_df, x=\"tsne1\", y=\"tsne2\", color='cluster', symbol='cluster',\n",
    "                     width=800, height=600)\n",
    "    fig.update_traces(marker=dict(size=10)) \n",
    "    # Add convex hull boundaries\n",
    "    for cluster_id in tsne_df['cluster'].unique():\n",
    "        cluster_points = tsne_df[tsne_df['cluster'] == cluster_id][['tsne1', 'tsne2']].values\n",
    "        if len(cluster_points) > 2:  # ConvexHull needs at least 3 points\n",
    "            hull = ConvexHull(cluster_points)\n",
    "            hull_vertices = hull.vertices\n",
    "            hull_points = cluster_points[hull_vertices]\n",
    "            hull_points = list(hull_points) + [hull_points[0]]  # Close the loop\n",
    "            \n",
    "            # Add boundary line to the figure\n",
    "            fig.add_trace(go.Scatter(\n",
    "                x=[point[0] for point in hull_points],\n",
    "                y=[point[1] for point in hull_points],\n",
    "                mode='lines',\n",
    "                line=dict(color='black'),\n",
    "                name=f'Boundary Cluster {cluster_id}'\n",
    "            ))\n",
    "    \n",
    "    # Show the figure\n",
    "    fig.show()\n"
   ]
  },
  {
   "cell_type": "code",
   "execution_count": 156,
   "metadata": {},
   "outputs": [
    {
     "name": "stderr",
     "output_type": "stream",
     "text": [
      "/Library/Frameworks/Python.framework/Versions/3.7/lib/python3.7/site-packages/sklearn/manifold/_t_sne.py:783: FutureWarning:\n",
      "\n",
      "The default initialization in TSNE will change from 'random' to 'pca' in 1.2.\n",
      "\n",
      "/Library/Frameworks/Python.framework/Versions/3.7/lib/python3.7/site-packages/sklearn/manifold/_t_sne.py:793: FutureWarning:\n",
      "\n",
      "The default learning rate in TSNE will change from 200.0 to 'auto' in 1.2.\n",
      "\n"
     ]
    },
    {
     "name": "stdout",
     "output_type": "stream",
     "text": [
      "[t-SNE] Computing 36 nearest neighbors...\n",
      "[t-SNE] Indexed 37 samples in 0.000s...\n",
      "[t-SNE] Computed neighbors for 37 samples in 0.002s...\n",
      "[t-SNE] Computed conditional probabilities for sample 37 / 37\n",
      "[t-SNE] Mean sigma: 2.408027\n",
      "[t-SNE] KL divergence after 250 iterations with early exaggeration: 45.852013\n",
      "[t-SNE] KL divergence after 1000 iterations: 0.391167\n"
     ]
    },
    {
     "data": {
      "application/vnd.plotly.v1+json": {
       "config": {
        "plotlyServerURL": "https://plot.ly"
       },
       "data": [
        {
         "hovertemplate": "cluster=%{marker.color}<br>tsne1=%{x}<br>tsne2=%{y}<extra></extra>",
         "legendgroup": "2",
         "marker": {
          "color": [
           2,
           2,
           2,
           2,
           2,
           2,
           2,
           2,
           2,
           2,
           2,
           2,
           2
          ],
          "coloraxis": "coloraxis",
          "symbol": "circle"
         },
         "mode": "markers",
         "name": "2",
         "orientation": "v",
         "showlegend": true,
         "type": "scatter",
         "x": [
          -136.82324,
          -71.71365,
          -111.599915,
          -165.6452,
          -71.66878,
          -112.060005,
          -186.77974,
          -138.2117,
          -169.1302,
          -127.06752,
          -94.35865,
          -85.9557,
          -84.28056
         ],
         "xaxis": "x",
         "y": [
          -28.36097,
          137.44504,
          -212.65408,
          20.906635,
          -97.10902,
          61.149754,
          -76.108406,
          160.063,
          86.89767,
          -98.133415,
          -151.89653,
          -43.417522,
          12.680293
         ],
         "yaxis": "y"
        },
        {
         "hovertemplate": "cluster=%{marker.color}<br>tsne1=%{x}<br>tsne2=%{y}<extra></extra>",
         "legendgroup": "1",
         "marker": {
          "color": [
           1,
           1,
           1,
           1,
           1,
           1,
           1,
           1,
           1,
           1,
           1,
           1,
           1,
           1,
           1,
           1,
           1,
           1,
           1,
           1,
           1,
           1,
           1
          ],
          "coloraxis": "coloraxis",
          "symbol": "diamond"
         },
         "mode": "markers",
         "name": "1",
         "orientation": "v",
         "showlegend": true,
         "type": "scatter",
         "x": [
          17.52495,
          57.29237,
          83.6844,
          -32.76482,
          8.014692,
          115.82256,
          71.014175,
          -33.770733,
          -24.585957,
          -37.36662,
          24.223167,
          -231.39163,
          20.240555,
          23.066423,
          109.50566,
          178.80112,
          -235.85051,
          145.19061,
          81.67041,
          43.845253,
          137.68422,
          99.20923,
          15.24439
         ],
         "xaxis": "x",
         "y": [
          -197.12097,
          -2.5057852,
          99.25328,
          -13.034085,
          26.375685,
          -20.619287,
          -56.666573,
          -153.66608,
          -71.54667,
          64.29638,
          -86.215195,
          -12.447466,
          122.00635,
          -135.7381,
          37.412685,
          -3.5116556,
          80.91753,
          119.176384,
          -108.571594,
          61.451683,
          -77.48456,
          -166.9496,
          -32.68316
         ],
         "yaxis": "y"
        },
        {
         "hovertemplate": "cluster=%{marker.color}<br>tsne1=%{x}<br>tsne2=%{y}<extra></extra>",
         "legendgroup": "0",
         "marker": {
          "color": [
           0
          ],
          "coloraxis": "coloraxis",
          "symbol": "square"
         },
         "mode": "markers",
         "name": "0",
         "orientation": "v",
         "showlegend": true,
         "type": "scatter",
         "x": [
          94.084335
         ],
         "xaxis": "x",
         "y": [
          189.03102
         ],
         "yaxis": "y"
        }
       ],
       "layout": {
        "coloraxis": {
         "colorbar": {
          "title": {
           "text": "cluster"
          }
         },
         "colorscale": [
          [
           0,
           "#0d0887"
          ],
          [
           0.1111111111111111,
           "#46039f"
          ],
          [
           0.2222222222222222,
           "#7201a8"
          ],
          [
           0.3333333333333333,
           "#9c179e"
          ],
          [
           0.4444444444444444,
           "#bd3786"
          ],
          [
           0.5555555555555556,
           "#d8576b"
          ],
          [
           0.6666666666666666,
           "#ed7953"
          ],
          [
           0.7777777777777778,
           "#fb9f3a"
          ],
          [
           0.8888888888888888,
           "#fdca26"
          ],
          [
           1,
           "#f0f921"
          ]
         ]
        },
        "height": 600,
        "legend": {
         "title": {
          "text": "cluster"
         },
         "tracegroupgap": 0
        },
        "margin": {
         "t": 60
        },
        "template": {
         "data": {
          "bar": [
           {
            "error_x": {
             "color": "#2a3f5f"
            },
            "error_y": {
             "color": "#2a3f5f"
            },
            "marker": {
             "line": {
              "color": "#E5ECF6",
              "width": 0.5
             },
             "pattern": {
              "fillmode": "overlay",
              "size": 10,
              "solidity": 0.2
             }
            },
            "type": "bar"
           }
          ],
          "barpolar": [
           {
            "marker": {
             "line": {
              "color": "#E5ECF6",
              "width": 0.5
             },
             "pattern": {
              "fillmode": "overlay",
              "size": 10,
              "solidity": 0.2
             }
            },
            "type": "barpolar"
           }
          ],
          "carpet": [
           {
            "aaxis": {
             "endlinecolor": "#2a3f5f",
             "gridcolor": "white",
             "linecolor": "white",
             "minorgridcolor": "white",
             "startlinecolor": "#2a3f5f"
            },
            "baxis": {
             "endlinecolor": "#2a3f5f",
             "gridcolor": "white",
             "linecolor": "white",
             "minorgridcolor": "white",
             "startlinecolor": "#2a3f5f"
            },
            "type": "carpet"
           }
          ],
          "choropleth": [
           {
            "colorbar": {
             "outlinewidth": 0,
             "ticks": ""
            },
            "type": "choropleth"
           }
          ],
          "contour": [
           {
            "colorbar": {
             "outlinewidth": 0,
             "ticks": ""
            },
            "colorscale": [
             [
              0,
              "#0d0887"
             ],
             [
              0.1111111111111111,
              "#46039f"
             ],
             [
              0.2222222222222222,
              "#7201a8"
             ],
             [
              0.3333333333333333,
              "#9c179e"
             ],
             [
              0.4444444444444444,
              "#bd3786"
             ],
             [
              0.5555555555555556,
              "#d8576b"
             ],
             [
              0.6666666666666666,
              "#ed7953"
             ],
             [
              0.7777777777777778,
              "#fb9f3a"
             ],
             [
              0.8888888888888888,
              "#fdca26"
             ],
             [
              1,
              "#f0f921"
             ]
            ],
            "type": "contour"
           }
          ],
          "contourcarpet": [
           {
            "colorbar": {
             "outlinewidth": 0,
             "ticks": ""
            },
            "type": "contourcarpet"
           }
          ],
          "heatmap": [
           {
            "colorbar": {
             "outlinewidth": 0,
             "ticks": ""
            },
            "colorscale": [
             [
              0,
              "#0d0887"
             ],
             [
              0.1111111111111111,
              "#46039f"
             ],
             [
              0.2222222222222222,
              "#7201a8"
             ],
             [
              0.3333333333333333,
              "#9c179e"
             ],
             [
              0.4444444444444444,
              "#bd3786"
             ],
             [
              0.5555555555555556,
              "#d8576b"
             ],
             [
              0.6666666666666666,
              "#ed7953"
             ],
             [
              0.7777777777777778,
              "#fb9f3a"
             ],
             [
              0.8888888888888888,
              "#fdca26"
             ],
             [
              1,
              "#f0f921"
             ]
            ],
            "type": "heatmap"
           }
          ],
          "heatmapgl": [
           {
            "colorbar": {
             "outlinewidth": 0,
             "ticks": ""
            },
            "colorscale": [
             [
              0,
              "#0d0887"
             ],
             [
              0.1111111111111111,
              "#46039f"
             ],
             [
              0.2222222222222222,
              "#7201a8"
             ],
             [
              0.3333333333333333,
              "#9c179e"
             ],
             [
              0.4444444444444444,
              "#bd3786"
             ],
             [
              0.5555555555555556,
              "#d8576b"
             ],
             [
              0.6666666666666666,
              "#ed7953"
             ],
             [
              0.7777777777777778,
              "#fb9f3a"
             ],
             [
              0.8888888888888888,
              "#fdca26"
             ],
             [
              1,
              "#f0f921"
             ]
            ],
            "type": "heatmapgl"
           }
          ],
          "histogram": [
           {
            "marker": {
             "pattern": {
              "fillmode": "overlay",
              "size": 10,
              "solidity": 0.2
             }
            },
            "type": "histogram"
           }
          ],
          "histogram2d": [
           {
            "colorbar": {
             "outlinewidth": 0,
             "ticks": ""
            },
            "colorscale": [
             [
              0,
              "#0d0887"
             ],
             [
              0.1111111111111111,
              "#46039f"
             ],
             [
              0.2222222222222222,
              "#7201a8"
             ],
             [
              0.3333333333333333,
              "#9c179e"
             ],
             [
              0.4444444444444444,
              "#bd3786"
             ],
             [
              0.5555555555555556,
              "#d8576b"
             ],
             [
              0.6666666666666666,
              "#ed7953"
             ],
             [
              0.7777777777777778,
              "#fb9f3a"
             ],
             [
              0.8888888888888888,
              "#fdca26"
             ],
             [
              1,
              "#f0f921"
             ]
            ],
            "type": "histogram2d"
           }
          ],
          "histogram2dcontour": [
           {
            "colorbar": {
             "outlinewidth": 0,
             "ticks": ""
            },
            "colorscale": [
             [
              0,
              "#0d0887"
             ],
             [
              0.1111111111111111,
              "#46039f"
             ],
             [
              0.2222222222222222,
              "#7201a8"
             ],
             [
              0.3333333333333333,
              "#9c179e"
             ],
             [
              0.4444444444444444,
              "#bd3786"
             ],
             [
              0.5555555555555556,
              "#d8576b"
             ],
             [
              0.6666666666666666,
              "#ed7953"
             ],
             [
              0.7777777777777778,
              "#fb9f3a"
             ],
             [
              0.8888888888888888,
              "#fdca26"
             ],
             [
              1,
              "#f0f921"
             ]
            ],
            "type": "histogram2dcontour"
           }
          ],
          "mesh3d": [
           {
            "colorbar": {
             "outlinewidth": 0,
             "ticks": ""
            },
            "type": "mesh3d"
           }
          ],
          "parcoords": [
           {
            "line": {
             "colorbar": {
              "outlinewidth": 0,
              "ticks": ""
             }
            },
            "type": "parcoords"
           }
          ],
          "pie": [
           {
            "automargin": true,
            "type": "pie"
           }
          ],
          "scatter": [
           {
            "fillpattern": {
             "fillmode": "overlay",
             "size": 10,
             "solidity": 0.2
            },
            "type": "scatter"
           }
          ],
          "scatter3d": [
           {
            "line": {
             "colorbar": {
              "outlinewidth": 0,
              "ticks": ""
             }
            },
            "marker": {
             "colorbar": {
              "outlinewidth": 0,
              "ticks": ""
             }
            },
            "type": "scatter3d"
           }
          ],
          "scattercarpet": [
           {
            "marker": {
             "colorbar": {
              "outlinewidth": 0,
              "ticks": ""
             }
            },
            "type": "scattercarpet"
           }
          ],
          "scattergeo": [
           {
            "marker": {
             "colorbar": {
              "outlinewidth": 0,
              "ticks": ""
             }
            },
            "type": "scattergeo"
           }
          ],
          "scattergl": [
           {
            "marker": {
             "colorbar": {
              "outlinewidth": 0,
              "ticks": ""
             }
            },
            "type": "scattergl"
           }
          ],
          "scattermapbox": [
           {
            "marker": {
             "colorbar": {
              "outlinewidth": 0,
              "ticks": ""
             }
            },
            "type": "scattermapbox"
           }
          ],
          "scatterpolar": [
           {
            "marker": {
             "colorbar": {
              "outlinewidth": 0,
              "ticks": ""
             }
            },
            "type": "scatterpolar"
           }
          ],
          "scatterpolargl": [
           {
            "marker": {
             "colorbar": {
              "outlinewidth": 0,
              "ticks": ""
             }
            },
            "type": "scatterpolargl"
           }
          ],
          "scatterternary": [
           {
            "marker": {
             "colorbar": {
              "outlinewidth": 0,
              "ticks": ""
             }
            },
            "type": "scatterternary"
           }
          ],
          "surface": [
           {
            "colorbar": {
             "outlinewidth": 0,
             "ticks": ""
            },
            "colorscale": [
             [
              0,
              "#0d0887"
             ],
             [
              0.1111111111111111,
              "#46039f"
             ],
             [
              0.2222222222222222,
              "#7201a8"
             ],
             [
              0.3333333333333333,
              "#9c179e"
             ],
             [
              0.4444444444444444,
              "#bd3786"
             ],
             [
              0.5555555555555556,
              "#d8576b"
             ],
             [
              0.6666666666666666,
              "#ed7953"
             ],
             [
              0.7777777777777778,
              "#fb9f3a"
             ],
             [
              0.8888888888888888,
              "#fdca26"
             ],
             [
              1,
              "#f0f921"
             ]
            ],
            "type": "surface"
           }
          ],
          "table": [
           {
            "cells": {
             "fill": {
              "color": "#EBF0F8"
             },
             "line": {
              "color": "white"
             }
            },
            "header": {
             "fill": {
              "color": "#C8D4E3"
             },
             "line": {
              "color": "white"
             }
            },
            "type": "table"
           }
          ]
         },
         "layout": {
          "annotationdefaults": {
           "arrowcolor": "#2a3f5f",
           "arrowhead": 0,
           "arrowwidth": 1
          },
          "autotypenumbers": "strict",
          "coloraxis": {
           "colorbar": {
            "outlinewidth": 0,
            "ticks": ""
           }
          },
          "colorscale": {
           "diverging": [
            [
             0,
             "#8e0152"
            ],
            [
             0.1,
             "#c51b7d"
            ],
            [
             0.2,
             "#de77ae"
            ],
            [
             0.3,
             "#f1b6da"
            ],
            [
             0.4,
             "#fde0ef"
            ],
            [
             0.5,
             "#f7f7f7"
            ],
            [
             0.6,
             "#e6f5d0"
            ],
            [
             0.7,
             "#b8e186"
            ],
            [
             0.8,
             "#7fbc41"
            ],
            [
             0.9,
             "#4d9221"
            ],
            [
             1,
             "#276419"
            ]
           ],
           "sequential": [
            [
             0,
             "#0d0887"
            ],
            [
             0.1111111111111111,
             "#46039f"
            ],
            [
             0.2222222222222222,
             "#7201a8"
            ],
            [
             0.3333333333333333,
             "#9c179e"
            ],
            [
             0.4444444444444444,
             "#bd3786"
            ],
            [
             0.5555555555555556,
             "#d8576b"
            ],
            [
             0.6666666666666666,
             "#ed7953"
            ],
            [
             0.7777777777777778,
             "#fb9f3a"
            ],
            [
             0.8888888888888888,
             "#fdca26"
            ],
            [
             1,
             "#f0f921"
            ]
           ],
           "sequentialminus": [
            [
             0,
             "#0d0887"
            ],
            [
             0.1111111111111111,
             "#46039f"
            ],
            [
             0.2222222222222222,
             "#7201a8"
            ],
            [
             0.3333333333333333,
             "#9c179e"
            ],
            [
             0.4444444444444444,
             "#bd3786"
            ],
            [
             0.5555555555555556,
             "#d8576b"
            ],
            [
             0.6666666666666666,
             "#ed7953"
            ],
            [
             0.7777777777777778,
             "#fb9f3a"
            ],
            [
             0.8888888888888888,
             "#fdca26"
            ],
            [
             1,
             "#f0f921"
            ]
           ]
          },
          "colorway": [
           "#636efa",
           "#EF553B",
           "#00cc96",
           "#ab63fa",
           "#FFA15A",
           "#19d3f3",
           "#FF6692",
           "#B6E880",
           "#FF97FF",
           "#FECB52"
          ],
          "font": {
           "color": "#2a3f5f"
          },
          "geo": {
           "bgcolor": "white",
           "lakecolor": "white",
           "landcolor": "#E5ECF6",
           "showlakes": true,
           "showland": true,
           "subunitcolor": "white"
          },
          "hoverlabel": {
           "align": "left"
          },
          "hovermode": "closest",
          "mapbox": {
           "style": "light"
          },
          "paper_bgcolor": "white",
          "plot_bgcolor": "#E5ECF6",
          "polar": {
           "angularaxis": {
            "gridcolor": "white",
            "linecolor": "white",
            "ticks": ""
           },
           "bgcolor": "#E5ECF6",
           "radialaxis": {
            "gridcolor": "white",
            "linecolor": "white",
            "ticks": ""
           }
          },
          "scene": {
           "xaxis": {
            "backgroundcolor": "#E5ECF6",
            "gridcolor": "white",
            "gridwidth": 2,
            "linecolor": "white",
            "showbackground": true,
            "ticks": "",
            "zerolinecolor": "white"
           },
           "yaxis": {
            "backgroundcolor": "#E5ECF6",
            "gridcolor": "white",
            "gridwidth": 2,
            "linecolor": "white",
            "showbackground": true,
            "ticks": "",
            "zerolinecolor": "white"
           },
           "zaxis": {
            "backgroundcolor": "#E5ECF6",
            "gridcolor": "white",
            "gridwidth": 2,
            "linecolor": "white",
            "showbackground": true,
            "ticks": "",
            "zerolinecolor": "white"
           }
          },
          "shapedefaults": {
           "line": {
            "color": "#2a3f5f"
           }
          },
          "ternary": {
           "aaxis": {
            "gridcolor": "white",
            "linecolor": "white",
            "ticks": ""
           },
           "baxis": {
            "gridcolor": "white",
            "linecolor": "white",
            "ticks": ""
           },
           "bgcolor": "#E5ECF6",
           "caxis": {
            "gridcolor": "white",
            "linecolor": "white",
            "ticks": ""
           }
          },
          "title": {
           "x": 0.05
          },
          "xaxis": {
           "automargin": true,
           "gridcolor": "white",
           "linecolor": "white",
           "ticks": "",
           "title": {
            "standoff": 15
           },
           "zerolinecolor": "white",
           "zerolinewidth": 2
          },
          "yaxis": {
           "automargin": true,
           "gridcolor": "white",
           "linecolor": "white",
           "ticks": "",
           "title": {
            "standoff": 15
           },
           "zerolinecolor": "white",
           "zerolinewidth": 2
          }
         }
        },
        "width": 800,
        "xaxis": {
         "anchor": "y",
         "domain": [
          0,
          1
         ],
         "title": {
          "text": "tsne1"
         }
        },
        "yaxis": {
         "anchor": "x",
         "domain": [
          0,
          1
         ],
         "title": {
          "text": "tsne2"
         }
        }
       }
      }
     },
     "metadata": {},
     "output_type": "display_data"
    }
   ],
   "source": [
    "twoD_data_ceation(labels,scaled_data)\n"
   ]
  },
  {
   "cell_type": "code",
   "execution_count": 157,
   "metadata": {},
   "outputs": [
    {
     "name": "stdout",
     "output_type": "stream",
     "text": [
      "[t-SNE] Computing 36 nearest neighbors...\n",
      "[t-SNE] Indexed 37 samples in 0.000s...\n",
      "[t-SNE] Computed neighbors for 37 samples in 0.002s...\n",
      "[t-SNE] Computed conditional probabilities for sample 37 / 37\n",
      "[t-SNE] Mean sigma: 2.408027\n"
     ]
    },
    {
     "name": "stderr",
     "output_type": "stream",
     "text": [
      "/Library/Frameworks/Python.framework/Versions/3.7/lib/python3.7/site-packages/sklearn/manifold/_t_sne.py:783: FutureWarning:\n",
      "\n",
      "The default initialization in TSNE will change from 'random' to 'pca' in 1.2.\n",
      "\n",
      "/Library/Frameworks/Python.framework/Versions/3.7/lib/python3.7/site-packages/sklearn/manifold/_t_sne.py:793: FutureWarning:\n",
      "\n",
      "The default learning rate in TSNE will change from 200.0 to 'auto' in 1.2.\n",
      "\n"
     ]
    },
    {
     "name": "stdout",
     "output_type": "stream",
     "text": [
      "[t-SNE] KL divergence after 250 iterations with early exaggeration: 45.852013\n",
      "[t-SNE] KL divergence after 1000 iterations: 0.391167\n"
     ]
    },
    {
     "data": {
      "application/vnd.plotly.v1+json": {
       "config": {
        "plotlyServerURL": "https://plot.ly"
       },
       "data": [
        {
         "hovertemplate": "cluster=%{marker.color}<br>tsne1=%{x}<br>tsne2=%{y}<extra></extra>",
         "legendgroup": "2",
         "marker": {
          "color": [
           2,
           2,
           2,
           2,
           2,
           2,
           2,
           2,
           2,
           2,
           2,
           2,
           2
          ],
          "coloraxis": "coloraxis",
          "size": 10,
          "symbol": "circle"
         },
         "mode": "markers",
         "name": "2",
         "orientation": "v",
         "showlegend": true,
         "type": "scatter",
         "x": [
          -136.82324,
          -71.71365,
          -111.599915,
          -165.6452,
          -71.66878,
          -112.060005,
          -186.77974,
          -138.2117,
          -169.1302,
          -127.06752,
          -94.35865,
          -85.9557,
          -84.28056
         ],
         "xaxis": "x",
         "y": [
          -28.36097,
          137.44504,
          -212.65408,
          20.906635,
          -97.10902,
          61.149754,
          -76.108406,
          160.063,
          86.89767,
          -98.133415,
          -151.89653,
          -43.417522,
          12.680293
         ],
         "yaxis": "y"
        },
        {
         "hovertemplate": "cluster=%{marker.color}<br>tsne1=%{x}<br>tsne2=%{y}<extra></extra>",
         "legendgroup": "1",
         "marker": {
          "color": [
           1,
           1,
           1,
           1,
           1,
           1,
           1,
           1,
           1,
           1,
           1,
           1,
           1,
           1,
           1,
           1,
           1,
           1,
           1,
           1,
           1,
           1,
           1
          ],
          "coloraxis": "coloraxis",
          "size": 10,
          "symbol": "diamond"
         },
         "mode": "markers",
         "name": "1",
         "orientation": "v",
         "showlegend": true,
         "type": "scatter",
         "x": [
          17.52495,
          57.29237,
          83.6844,
          -32.76482,
          8.014692,
          115.82256,
          71.014175,
          -33.770733,
          -24.585957,
          -37.36662,
          24.223167,
          -231.39163,
          20.240555,
          23.066423,
          109.50566,
          178.80112,
          -235.85051,
          145.19061,
          81.67041,
          43.845253,
          137.68422,
          99.20923,
          15.24439
         ],
         "xaxis": "x",
         "y": [
          -197.12097,
          -2.5057852,
          99.25328,
          -13.034085,
          26.375685,
          -20.619287,
          -56.666573,
          -153.66608,
          -71.54667,
          64.29638,
          -86.215195,
          -12.447466,
          122.00635,
          -135.7381,
          37.412685,
          -3.5116556,
          80.91753,
          119.176384,
          -108.571594,
          61.451683,
          -77.48456,
          -166.9496,
          -32.68316
         ],
         "yaxis": "y"
        },
        {
         "hovertemplate": "cluster=%{marker.color}<br>tsne1=%{x}<br>tsne2=%{y}<extra></extra>",
         "legendgroup": "0",
         "marker": {
          "color": [
           0
          ],
          "coloraxis": "coloraxis",
          "size": 10,
          "symbol": "square"
         },
         "mode": "markers",
         "name": "0",
         "orientation": "v",
         "showlegend": true,
         "type": "scatter",
         "x": [
          94.084335
         ],
         "xaxis": "x",
         "y": [
          189.03102
         ],
         "yaxis": "y"
        },
        {
         "line": {
          "color": "black"
         },
         "mode": "lines",
         "name": "Boundary Cluster 2",
         "type": "scatter",
         "x": [
          -186.7797393798828,
          -111.59991455078125,
          -71.66877746582031,
          -71.71365356445312,
          -138.21170043945312,
          -169.1302032470703,
          -186.7797393798828
         ],
         "y": [
          -76.10840606689453,
          -212.65408325195312,
          -97.10901641845703,
          137.44503784179688,
          160.06300354003906,
          86.89766693115234,
          -76.10840606689453
         ]
        },
        {
         "line": {
          "color": "black"
         },
         "mode": "lines",
         "name": "Boundary Cluster 1",
         "type": "scatter",
         "x": [
          178.80111694335938,
          145.19061279296875,
          20.240554809570312,
          -235.8505096435547,
          -231.39163208007812,
          17.52495002746582,
          99.209228515625,
          178.80111694335938
         ],
         "y": [
          -3.511655569076538,
          119.17638397216797,
          122.00634765625,
          80.91752624511719,
          -12.447465896606445,
          -197.1209716796875,
          -166.94960021972656,
          -3.511655569076538
         ]
        }
       ],
       "layout": {
        "coloraxis": {
         "colorbar": {
          "title": {
           "text": "cluster"
          }
         },
         "colorscale": [
          [
           0,
           "#0d0887"
          ],
          [
           0.1111111111111111,
           "#46039f"
          ],
          [
           0.2222222222222222,
           "#7201a8"
          ],
          [
           0.3333333333333333,
           "#9c179e"
          ],
          [
           0.4444444444444444,
           "#bd3786"
          ],
          [
           0.5555555555555556,
           "#d8576b"
          ],
          [
           0.6666666666666666,
           "#ed7953"
          ],
          [
           0.7777777777777778,
           "#fb9f3a"
          ],
          [
           0.8888888888888888,
           "#fdca26"
          ],
          [
           1,
           "#f0f921"
          ]
         ]
        },
        "height": 600,
        "legend": {
         "title": {
          "text": "cluster"
         },
         "tracegroupgap": 0
        },
        "margin": {
         "t": 60
        },
        "template": {
         "data": {
          "bar": [
           {
            "error_x": {
             "color": "#2a3f5f"
            },
            "error_y": {
             "color": "#2a3f5f"
            },
            "marker": {
             "line": {
              "color": "#E5ECF6",
              "width": 0.5
             },
             "pattern": {
              "fillmode": "overlay",
              "size": 10,
              "solidity": 0.2
             }
            },
            "type": "bar"
           }
          ],
          "barpolar": [
           {
            "marker": {
             "line": {
              "color": "#E5ECF6",
              "width": 0.5
             },
             "pattern": {
              "fillmode": "overlay",
              "size": 10,
              "solidity": 0.2
             }
            },
            "type": "barpolar"
           }
          ],
          "carpet": [
           {
            "aaxis": {
             "endlinecolor": "#2a3f5f",
             "gridcolor": "white",
             "linecolor": "white",
             "minorgridcolor": "white",
             "startlinecolor": "#2a3f5f"
            },
            "baxis": {
             "endlinecolor": "#2a3f5f",
             "gridcolor": "white",
             "linecolor": "white",
             "minorgridcolor": "white",
             "startlinecolor": "#2a3f5f"
            },
            "type": "carpet"
           }
          ],
          "choropleth": [
           {
            "colorbar": {
             "outlinewidth": 0,
             "ticks": ""
            },
            "type": "choropleth"
           }
          ],
          "contour": [
           {
            "colorbar": {
             "outlinewidth": 0,
             "ticks": ""
            },
            "colorscale": [
             [
              0,
              "#0d0887"
             ],
             [
              0.1111111111111111,
              "#46039f"
             ],
             [
              0.2222222222222222,
              "#7201a8"
             ],
             [
              0.3333333333333333,
              "#9c179e"
             ],
             [
              0.4444444444444444,
              "#bd3786"
             ],
             [
              0.5555555555555556,
              "#d8576b"
             ],
             [
              0.6666666666666666,
              "#ed7953"
             ],
             [
              0.7777777777777778,
              "#fb9f3a"
             ],
             [
              0.8888888888888888,
              "#fdca26"
             ],
             [
              1,
              "#f0f921"
             ]
            ],
            "type": "contour"
           }
          ],
          "contourcarpet": [
           {
            "colorbar": {
             "outlinewidth": 0,
             "ticks": ""
            },
            "type": "contourcarpet"
           }
          ],
          "heatmap": [
           {
            "colorbar": {
             "outlinewidth": 0,
             "ticks": ""
            },
            "colorscale": [
             [
              0,
              "#0d0887"
             ],
             [
              0.1111111111111111,
              "#46039f"
             ],
             [
              0.2222222222222222,
              "#7201a8"
             ],
             [
              0.3333333333333333,
              "#9c179e"
             ],
             [
              0.4444444444444444,
              "#bd3786"
             ],
             [
              0.5555555555555556,
              "#d8576b"
             ],
             [
              0.6666666666666666,
              "#ed7953"
             ],
             [
              0.7777777777777778,
              "#fb9f3a"
             ],
             [
              0.8888888888888888,
              "#fdca26"
             ],
             [
              1,
              "#f0f921"
             ]
            ],
            "type": "heatmap"
           }
          ],
          "heatmapgl": [
           {
            "colorbar": {
             "outlinewidth": 0,
             "ticks": ""
            },
            "colorscale": [
             [
              0,
              "#0d0887"
             ],
             [
              0.1111111111111111,
              "#46039f"
             ],
             [
              0.2222222222222222,
              "#7201a8"
             ],
             [
              0.3333333333333333,
              "#9c179e"
             ],
             [
              0.4444444444444444,
              "#bd3786"
             ],
             [
              0.5555555555555556,
              "#d8576b"
             ],
             [
              0.6666666666666666,
              "#ed7953"
             ],
             [
              0.7777777777777778,
              "#fb9f3a"
             ],
             [
              0.8888888888888888,
              "#fdca26"
             ],
             [
              1,
              "#f0f921"
             ]
            ],
            "type": "heatmapgl"
           }
          ],
          "histogram": [
           {
            "marker": {
             "pattern": {
              "fillmode": "overlay",
              "size": 10,
              "solidity": 0.2
             }
            },
            "type": "histogram"
           }
          ],
          "histogram2d": [
           {
            "colorbar": {
             "outlinewidth": 0,
             "ticks": ""
            },
            "colorscale": [
             [
              0,
              "#0d0887"
             ],
             [
              0.1111111111111111,
              "#46039f"
             ],
             [
              0.2222222222222222,
              "#7201a8"
             ],
             [
              0.3333333333333333,
              "#9c179e"
             ],
             [
              0.4444444444444444,
              "#bd3786"
             ],
             [
              0.5555555555555556,
              "#d8576b"
             ],
             [
              0.6666666666666666,
              "#ed7953"
             ],
             [
              0.7777777777777778,
              "#fb9f3a"
             ],
             [
              0.8888888888888888,
              "#fdca26"
             ],
             [
              1,
              "#f0f921"
             ]
            ],
            "type": "histogram2d"
           }
          ],
          "histogram2dcontour": [
           {
            "colorbar": {
             "outlinewidth": 0,
             "ticks": ""
            },
            "colorscale": [
             [
              0,
              "#0d0887"
             ],
             [
              0.1111111111111111,
              "#46039f"
             ],
             [
              0.2222222222222222,
              "#7201a8"
             ],
             [
              0.3333333333333333,
              "#9c179e"
             ],
             [
              0.4444444444444444,
              "#bd3786"
             ],
             [
              0.5555555555555556,
              "#d8576b"
             ],
             [
              0.6666666666666666,
              "#ed7953"
             ],
             [
              0.7777777777777778,
              "#fb9f3a"
             ],
             [
              0.8888888888888888,
              "#fdca26"
             ],
             [
              1,
              "#f0f921"
             ]
            ],
            "type": "histogram2dcontour"
           }
          ],
          "mesh3d": [
           {
            "colorbar": {
             "outlinewidth": 0,
             "ticks": ""
            },
            "type": "mesh3d"
           }
          ],
          "parcoords": [
           {
            "line": {
             "colorbar": {
              "outlinewidth": 0,
              "ticks": ""
             }
            },
            "type": "parcoords"
           }
          ],
          "pie": [
           {
            "automargin": true,
            "type": "pie"
           }
          ],
          "scatter": [
           {
            "fillpattern": {
             "fillmode": "overlay",
             "size": 10,
             "solidity": 0.2
            },
            "type": "scatter"
           }
          ],
          "scatter3d": [
           {
            "line": {
             "colorbar": {
              "outlinewidth": 0,
              "ticks": ""
             }
            },
            "marker": {
             "colorbar": {
              "outlinewidth": 0,
              "ticks": ""
             }
            },
            "type": "scatter3d"
           }
          ],
          "scattercarpet": [
           {
            "marker": {
             "colorbar": {
              "outlinewidth": 0,
              "ticks": ""
             }
            },
            "type": "scattercarpet"
           }
          ],
          "scattergeo": [
           {
            "marker": {
             "colorbar": {
              "outlinewidth": 0,
              "ticks": ""
             }
            },
            "type": "scattergeo"
           }
          ],
          "scattergl": [
           {
            "marker": {
             "colorbar": {
              "outlinewidth": 0,
              "ticks": ""
             }
            },
            "type": "scattergl"
           }
          ],
          "scattermapbox": [
           {
            "marker": {
             "colorbar": {
              "outlinewidth": 0,
              "ticks": ""
             }
            },
            "type": "scattermapbox"
           }
          ],
          "scatterpolar": [
           {
            "marker": {
             "colorbar": {
              "outlinewidth": 0,
              "ticks": ""
             }
            },
            "type": "scatterpolar"
           }
          ],
          "scatterpolargl": [
           {
            "marker": {
             "colorbar": {
              "outlinewidth": 0,
              "ticks": ""
             }
            },
            "type": "scatterpolargl"
           }
          ],
          "scatterternary": [
           {
            "marker": {
             "colorbar": {
              "outlinewidth": 0,
              "ticks": ""
             }
            },
            "type": "scatterternary"
           }
          ],
          "surface": [
           {
            "colorbar": {
             "outlinewidth": 0,
             "ticks": ""
            },
            "colorscale": [
             [
              0,
              "#0d0887"
             ],
             [
              0.1111111111111111,
              "#46039f"
             ],
             [
              0.2222222222222222,
              "#7201a8"
             ],
             [
              0.3333333333333333,
              "#9c179e"
             ],
             [
              0.4444444444444444,
              "#bd3786"
             ],
             [
              0.5555555555555556,
              "#d8576b"
             ],
             [
              0.6666666666666666,
              "#ed7953"
             ],
             [
              0.7777777777777778,
              "#fb9f3a"
             ],
             [
              0.8888888888888888,
              "#fdca26"
             ],
             [
              1,
              "#f0f921"
             ]
            ],
            "type": "surface"
           }
          ],
          "table": [
           {
            "cells": {
             "fill": {
              "color": "#EBF0F8"
             },
             "line": {
              "color": "white"
             }
            },
            "header": {
             "fill": {
              "color": "#C8D4E3"
             },
             "line": {
              "color": "white"
             }
            },
            "type": "table"
           }
          ]
         },
         "layout": {
          "annotationdefaults": {
           "arrowcolor": "#2a3f5f",
           "arrowhead": 0,
           "arrowwidth": 1
          },
          "autotypenumbers": "strict",
          "coloraxis": {
           "colorbar": {
            "outlinewidth": 0,
            "ticks": ""
           }
          },
          "colorscale": {
           "diverging": [
            [
             0,
             "#8e0152"
            ],
            [
             0.1,
             "#c51b7d"
            ],
            [
             0.2,
             "#de77ae"
            ],
            [
             0.3,
             "#f1b6da"
            ],
            [
             0.4,
             "#fde0ef"
            ],
            [
             0.5,
             "#f7f7f7"
            ],
            [
             0.6,
             "#e6f5d0"
            ],
            [
             0.7,
             "#b8e186"
            ],
            [
             0.8,
             "#7fbc41"
            ],
            [
             0.9,
             "#4d9221"
            ],
            [
             1,
             "#276419"
            ]
           ],
           "sequential": [
            [
             0,
             "#0d0887"
            ],
            [
             0.1111111111111111,
             "#46039f"
            ],
            [
             0.2222222222222222,
             "#7201a8"
            ],
            [
             0.3333333333333333,
             "#9c179e"
            ],
            [
             0.4444444444444444,
             "#bd3786"
            ],
            [
             0.5555555555555556,
             "#d8576b"
            ],
            [
             0.6666666666666666,
             "#ed7953"
            ],
            [
             0.7777777777777778,
             "#fb9f3a"
            ],
            [
             0.8888888888888888,
             "#fdca26"
            ],
            [
             1,
             "#f0f921"
            ]
           ],
           "sequentialminus": [
            [
             0,
             "#0d0887"
            ],
            [
             0.1111111111111111,
             "#46039f"
            ],
            [
             0.2222222222222222,
             "#7201a8"
            ],
            [
             0.3333333333333333,
             "#9c179e"
            ],
            [
             0.4444444444444444,
             "#bd3786"
            ],
            [
             0.5555555555555556,
             "#d8576b"
            ],
            [
             0.6666666666666666,
             "#ed7953"
            ],
            [
             0.7777777777777778,
             "#fb9f3a"
            ],
            [
             0.8888888888888888,
             "#fdca26"
            ],
            [
             1,
             "#f0f921"
            ]
           ]
          },
          "colorway": [
           "#636efa",
           "#EF553B",
           "#00cc96",
           "#ab63fa",
           "#FFA15A",
           "#19d3f3",
           "#FF6692",
           "#B6E880",
           "#FF97FF",
           "#FECB52"
          ],
          "font": {
           "color": "#2a3f5f"
          },
          "geo": {
           "bgcolor": "white",
           "lakecolor": "white",
           "landcolor": "#E5ECF6",
           "showlakes": true,
           "showland": true,
           "subunitcolor": "white"
          },
          "hoverlabel": {
           "align": "left"
          },
          "hovermode": "closest",
          "mapbox": {
           "style": "light"
          },
          "paper_bgcolor": "white",
          "plot_bgcolor": "#E5ECF6",
          "polar": {
           "angularaxis": {
            "gridcolor": "white",
            "linecolor": "white",
            "ticks": ""
           },
           "bgcolor": "#E5ECF6",
           "radialaxis": {
            "gridcolor": "white",
            "linecolor": "white",
            "ticks": ""
           }
          },
          "scene": {
           "xaxis": {
            "backgroundcolor": "#E5ECF6",
            "gridcolor": "white",
            "gridwidth": 2,
            "linecolor": "white",
            "showbackground": true,
            "ticks": "",
            "zerolinecolor": "white"
           },
           "yaxis": {
            "backgroundcolor": "#E5ECF6",
            "gridcolor": "white",
            "gridwidth": 2,
            "linecolor": "white",
            "showbackground": true,
            "ticks": "",
            "zerolinecolor": "white"
           },
           "zaxis": {
            "backgroundcolor": "#E5ECF6",
            "gridcolor": "white",
            "gridwidth": 2,
            "linecolor": "white",
            "showbackground": true,
            "ticks": "",
            "zerolinecolor": "white"
           }
          },
          "shapedefaults": {
           "line": {
            "color": "#2a3f5f"
           }
          },
          "ternary": {
           "aaxis": {
            "gridcolor": "white",
            "linecolor": "white",
            "ticks": ""
           },
           "baxis": {
            "gridcolor": "white",
            "linecolor": "white",
            "ticks": ""
           },
           "bgcolor": "#E5ECF6",
           "caxis": {
            "gridcolor": "white",
            "linecolor": "white",
            "ticks": ""
           }
          },
          "title": {
           "x": 0.05
          },
          "xaxis": {
           "automargin": true,
           "gridcolor": "white",
           "linecolor": "white",
           "ticks": "",
           "title": {
            "standoff": 15
           },
           "zerolinecolor": "white",
           "zerolinewidth": 2
          },
          "yaxis": {
           "automargin": true,
           "gridcolor": "white",
           "linecolor": "white",
           "ticks": "",
           "title": {
            "standoff": 15
           },
           "zerolinecolor": "white",
           "zerolinewidth": 2
          }
         }
        },
        "width": 800,
        "xaxis": {
         "anchor": "y",
         "domain": [
          0,
          1
         ],
         "title": {
          "text": "tsne1"
         }
        },
        "yaxis": {
         "anchor": "x",
         "domain": [
          0,
          1
         ],
         "title": {
          "text": "tsne2"
         }
        }
       }
      }
     },
     "metadata": {},
     "output_type": "display_data"
    }
   ],
   "source": [
    "twoD_data_creation_with_boundaries(labels, scaled_data)\n"
   ]
  },
  {
   "cell_type": "code",
   "execution_count": 158,
   "metadata": {},
   "outputs": [],
   "source": [
    "def pca_2d(labels, scaled_data):\n",
    "    # Perform PCA\n",
    "    pca = PCA(n_components=2)\n",
    "    pca_results = pca.fit_transform(scaled_data)\n",
    "    \n",
    "    # Create a DataFrame for PCA results\n",
    "    pca_df = pd.DataFrame(data=pca_results, columns=['pca1', 'pca2'])\n",
    "    pca_df['cluster'] = labels\n",
    "    # pca_df = pca_df[pca_df['cluster'].isin([ -1,12])]\n",
    "    \n",
    "    # Plot points with cluster colors\n",
    "    fig = px.scatter(pca_df, x=\"pca1\", y=\"pca2\", color='cluster', symbol='cluster',\n",
    "                     width=800, height=600)\n",
    "    fig.update_traces(marker=dict(size=10)) \n",
    "    \n",
    "    # Add convex hull boundaries\n",
    "    for cluster_id in pca_df['cluster'].unique():\n",
    "        cluster_points = pca_df[pca_df['cluster'] == cluster_id][['pca1', 'pca2']].values\n",
    "        if len(cluster_points) > 2:  # ConvexHull needs at least 3 points\n",
    "            hull = ConvexHull(cluster_points)\n",
    "            hull_vertices = hull.vertices\n",
    "            hull_points = cluster_points[hull_vertices]\n",
    "            hull_points = list(hull_points) + [hull_points[0]]  # Close the loop\n",
    "            \n",
    "            # Add boundary line to the figure\n",
    "            fig.add_trace(go.Scatter(\n",
    "                x=[point[0] for point in hull_points],\n",
    "                y=[point[1] for point in hull_points],\n",
    "                mode='lines',\n",
    "                line=dict(color='black'),\n",
    "                name=f'Boundary Cluster {cluster_id}'\n",
    "            ))\n",
    "    \n",
    "    # Show the figure\n",
    "    fig.show()\n"
   ]
  },
  {
   "cell_type": "code",
   "execution_count": 159,
   "metadata": {},
   "outputs": [
    {
     "data": {
      "application/vnd.plotly.v1+json": {
       "config": {
        "plotlyServerURL": "https://plot.ly"
       },
       "data": [
        {
         "hovertemplate": "cluster=%{marker.color}<br>pca1=%{x}<br>pca2=%{y}<extra></extra>",
         "legendgroup": "2",
         "marker": {
          "color": [
           2,
           2,
           2,
           2,
           2,
           2,
           2,
           2,
           2,
           2,
           2,
           2,
           2
          ],
          "coloraxis": "coloraxis",
          "size": 10,
          "symbol": "circle"
         },
         "mode": "markers",
         "name": "2",
         "orientation": "v",
         "showlegend": true,
         "type": "scatter",
         "x": [
          -0.7825490708246855,
          -2.104789368132883,
          -1.4952033924008405,
          -0.9032968634192085,
          -0.7361709936909444,
          -0.26795914353421885,
          0.16609452822845028,
          -2.597012380048537,
          -0.15334030930511197,
          -0.8032857184416521,
          -0.7275092769472729,
          -0.7564353726584758,
          -0.44162994699339436
         ],
         "xaxis": "x",
         "y": [
          0.4238025737050236,
          -0.4244379219170413,
          1.4463174065651272,
          1.0306879643177471,
          0.6984081666652093,
          2.048565133503375,
          1.9195634616188437,
          0.4882997642696504,
          2.4895052078603057,
          0.5657662345527684,
          0.48871486859582186,
          0.4729150136231691,
          1.1455658997338423
         ],
         "yaxis": "y"
        },
        {
         "hovertemplate": "cluster=%{marker.color}<br>pca1=%{x}<br>pca2=%{y}<extra></extra>",
         "legendgroup": "1",
         "marker": {
          "color": [
           1,
           1,
           1,
           1,
           1,
           1,
           1,
           1,
           1,
           1,
           1,
           1,
           1,
           1,
           1,
           1,
           1,
           1,
           1,
           1,
           1,
           1,
           1
          ],
          "coloraxis": "coloraxis",
          "size": 10,
          "symbol": "diamond"
         },
         "mode": "markers",
         "name": "1",
         "orientation": "v",
         "showlegend": true,
         "type": "scatter",
         "x": [
          -0.5228179020287965,
          -0.1813836354926742,
          1.4243968712110215,
          0.3442793227366783,
          0.7809661801383116,
          0.42044929762566957,
          -0.46766993793650036,
          -0.02320798508346575,
          0.11653576639864666,
          0.6521810907641342,
          -0.42958836587241034,
          -1.2416009125550294,
          1.501805179489714,
          -0.38946021487786425,
          0.8053183763357921,
          0.9984080333152281,
          1.5836752498760698,
          1.9693818109404333,
          -0.19522575572850717,
          0.6963348905793548,
          0.33298601221692564,
          -1.1955895743872014,
          -0.078070477148593
         ],
         "xaxis": "x",
         "y": [
          -0.8482624121950323,
          -0.333343411793558,
          0.2937071247391213,
          -0.1278871374736992,
          -1.5264059953695417,
          -1.2057190059059264,
          -0.9268937004317334,
          -0.17185736370685525,
          -0.3385065503458544,
          0.42537964646747406,
          -0.5063560544121933,
          -1.2206017160225688,
          -1.412748123918041,
          -0.6375487944504236,
          -1.0089653053545757,
          -2.2309267351211073,
          0.5241140614864637,
          1.1247769622685793,
          -0.9593651777200858,
          -0.4413650829931651,
          -1.1592060033725728,
          -1.1115482871156137,
          -0.27800835576301786
         ],
         "yaxis": "y"
        },
        {
         "hovertemplate": "cluster=%{marker.color}<br>pca1=%{x}<br>pca2=%{y}<extra></extra>",
         "legendgroup": "0",
         "marker": {
          "color": [
           0
          ],
          "coloraxis": "coloraxis",
          "size": 10,
          "symbol": "square"
         },
         "mode": "markers",
         "name": "0",
         "orientation": "v",
         "showlegend": true,
         "type": "scatter",
         "x": [
          4.700983987651838
         ],
         "xaxis": "x",
         "y": [
          1.2838636454100838
         ],
         "yaxis": "y"
        },
        {
         "line": {
          "color": "black"
         },
         "mode": "lines",
         "name": "Boundary Cluster 2",
         "type": "scatter",
         "x": [
          -2.597012380048537,
          -2.104789368132883,
          -0.7825490708246855,
          -0.7275092769472729,
          0.16609452822845028,
          -0.15334030930511197,
          -1.4952033924008405,
          -2.597012380048537
         ],
         "y": [
          0.4882997642696504,
          -0.4244379219170413,
          0.4238025737050236,
          0.48871486859582186,
          1.9195634616188437,
          2.4895052078603057,
          1.4463174065651272,
          0.4882997642696504
         ]
        },
        {
         "line": {
          "color": "black"
         },
         "mode": "lines",
         "name": "Boundary Cluster 1",
         "type": "scatter",
         "x": [
          -1.2416009125550294,
          0.9984080333152281,
          1.501805179489714,
          1.9693818109404333,
          0.6521810907641342,
          -1.1955895743872014,
          -1.2416009125550294
         ],
         "y": [
          -1.2206017160225688,
          -2.2309267351211073,
          -1.412748123918041,
          1.1247769622685793,
          0.42537964646747406,
          -1.1115482871156137,
          -1.2206017160225688
         ]
        }
       ],
       "layout": {
        "coloraxis": {
         "colorbar": {
          "title": {
           "text": "cluster"
          }
         },
         "colorscale": [
          [
           0,
           "#0d0887"
          ],
          [
           0.1111111111111111,
           "#46039f"
          ],
          [
           0.2222222222222222,
           "#7201a8"
          ],
          [
           0.3333333333333333,
           "#9c179e"
          ],
          [
           0.4444444444444444,
           "#bd3786"
          ],
          [
           0.5555555555555556,
           "#d8576b"
          ],
          [
           0.6666666666666666,
           "#ed7953"
          ],
          [
           0.7777777777777778,
           "#fb9f3a"
          ],
          [
           0.8888888888888888,
           "#fdca26"
          ],
          [
           1,
           "#f0f921"
          ]
         ]
        },
        "height": 600,
        "legend": {
         "title": {
          "text": "cluster"
         },
         "tracegroupgap": 0
        },
        "margin": {
         "t": 60
        },
        "template": {
         "data": {
          "bar": [
           {
            "error_x": {
             "color": "#2a3f5f"
            },
            "error_y": {
             "color": "#2a3f5f"
            },
            "marker": {
             "line": {
              "color": "#E5ECF6",
              "width": 0.5
             },
             "pattern": {
              "fillmode": "overlay",
              "size": 10,
              "solidity": 0.2
             }
            },
            "type": "bar"
           }
          ],
          "barpolar": [
           {
            "marker": {
             "line": {
              "color": "#E5ECF6",
              "width": 0.5
             },
             "pattern": {
              "fillmode": "overlay",
              "size": 10,
              "solidity": 0.2
             }
            },
            "type": "barpolar"
           }
          ],
          "carpet": [
           {
            "aaxis": {
             "endlinecolor": "#2a3f5f",
             "gridcolor": "white",
             "linecolor": "white",
             "minorgridcolor": "white",
             "startlinecolor": "#2a3f5f"
            },
            "baxis": {
             "endlinecolor": "#2a3f5f",
             "gridcolor": "white",
             "linecolor": "white",
             "minorgridcolor": "white",
             "startlinecolor": "#2a3f5f"
            },
            "type": "carpet"
           }
          ],
          "choropleth": [
           {
            "colorbar": {
             "outlinewidth": 0,
             "ticks": ""
            },
            "type": "choropleth"
           }
          ],
          "contour": [
           {
            "colorbar": {
             "outlinewidth": 0,
             "ticks": ""
            },
            "colorscale": [
             [
              0,
              "#0d0887"
             ],
             [
              0.1111111111111111,
              "#46039f"
             ],
             [
              0.2222222222222222,
              "#7201a8"
             ],
             [
              0.3333333333333333,
              "#9c179e"
             ],
             [
              0.4444444444444444,
              "#bd3786"
             ],
             [
              0.5555555555555556,
              "#d8576b"
             ],
             [
              0.6666666666666666,
              "#ed7953"
             ],
             [
              0.7777777777777778,
              "#fb9f3a"
             ],
             [
              0.8888888888888888,
              "#fdca26"
             ],
             [
              1,
              "#f0f921"
             ]
            ],
            "type": "contour"
           }
          ],
          "contourcarpet": [
           {
            "colorbar": {
             "outlinewidth": 0,
             "ticks": ""
            },
            "type": "contourcarpet"
           }
          ],
          "heatmap": [
           {
            "colorbar": {
             "outlinewidth": 0,
             "ticks": ""
            },
            "colorscale": [
             [
              0,
              "#0d0887"
             ],
             [
              0.1111111111111111,
              "#46039f"
             ],
             [
              0.2222222222222222,
              "#7201a8"
             ],
             [
              0.3333333333333333,
              "#9c179e"
             ],
             [
              0.4444444444444444,
              "#bd3786"
             ],
             [
              0.5555555555555556,
              "#d8576b"
             ],
             [
              0.6666666666666666,
              "#ed7953"
             ],
             [
              0.7777777777777778,
              "#fb9f3a"
             ],
             [
              0.8888888888888888,
              "#fdca26"
             ],
             [
              1,
              "#f0f921"
             ]
            ],
            "type": "heatmap"
           }
          ],
          "heatmapgl": [
           {
            "colorbar": {
             "outlinewidth": 0,
             "ticks": ""
            },
            "colorscale": [
             [
              0,
              "#0d0887"
             ],
             [
              0.1111111111111111,
              "#46039f"
             ],
             [
              0.2222222222222222,
              "#7201a8"
             ],
             [
              0.3333333333333333,
              "#9c179e"
             ],
             [
              0.4444444444444444,
              "#bd3786"
             ],
             [
              0.5555555555555556,
              "#d8576b"
             ],
             [
              0.6666666666666666,
              "#ed7953"
             ],
             [
              0.7777777777777778,
              "#fb9f3a"
             ],
             [
              0.8888888888888888,
              "#fdca26"
             ],
             [
              1,
              "#f0f921"
             ]
            ],
            "type": "heatmapgl"
           }
          ],
          "histogram": [
           {
            "marker": {
             "pattern": {
              "fillmode": "overlay",
              "size": 10,
              "solidity": 0.2
             }
            },
            "type": "histogram"
           }
          ],
          "histogram2d": [
           {
            "colorbar": {
             "outlinewidth": 0,
             "ticks": ""
            },
            "colorscale": [
             [
              0,
              "#0d0887"
             ],
             [
              0.1111111111111111,
              "#46039f"
             ],
             [
              0.2222222222222222,
              "#7201a8"
             ],
             [
              0.3333333333333333,
              "#9c179e"
             ],
             [
              0.4444444444444444,
              "#bd3786"
             ],
             [
              0.5555555555555556,
              "#d8576b"
             ],
             [
              0.6666666666666666,
              "#ed7953"
             ],
             [
              0.7777777777777778,
              "#fb9f3a"
             ],
             [
              0.8888888888888888,
              "#fdca26"
             ],
             [
              1,
              "#f0f921"
             ]
            ],
            "type": "histogram2d"
           }
          ],
          "histogram2dcontour": [
           {
            "colorbar": {
             "outlinewidth": 0,
             "ticks": ""
            },
            "colorscale": [
             [
              0,
              "#0d0887"
             ],
             [
              0.1111111111111111,
              "#46039f"
             ],
             [
              0.2222222222222222,
              "#7201a8"
             ],
             [
              0.3333333333333333,
              "#9c179e"
             ],
             [
              0.4444444444444444,
              "#bd3786"
             ],
             [
              0.5555555555555556,
              "#d8576b"
             ],
             [
              0.6666666666666666,
              "#ed7953"
             ],
             [
              0.7777777777777778,
              "#fb9f3a"
             ],
             [
              0.8888888888888888,
              "#fdca26"
             ],
             [
              1,
              "#f0f921"
             ]
            ],
            "type": "histogram2dcontour"
           }
          ],
          "mesh3d": [
           {
            "colorbar": {
             "outlinewidth": 0,
             "ticks": ""
            },
            "type": "mesh3d"
           }
          ],
          "parcoords": [
           {
            "line": {
             "colorbar": {
              "outlinewidth": 0,
              "ticks": ""
             }
            },
            "type": "parcoords"
           }
          ],
          "pie": [
           {
            "automargin": true,
            "type": "pie"
           }
          ],
          "scatter": [
           {
            "fillpattern": {
             "fillmode": "overlay",
             "size": 10,
             "solidity": 0.2
            },
            "type": "scatter"
           }
          ],
          "scatter3d": [
           {
            "line": {
             "colorbar": {
              "outlinewidth": 0,
              "ticks": ""
             }
            },
            "marker": {
             "colorbar": {
              "outlinewidth": 0,
              "ticks": ""
             }
            },
            "type": "scatter3d"
           }
          ],
          "scattercarpet": [
           {
            "marker": {
             "colorbar": {
              "outlinewidth": 0,
              "ticks": ""
             }
            },
            "type": "scattercarpet"
           }
          ],
          "scattergeo": [
           {
            "marker": {
             "colorbar": {
              "outlinewidth": 0,
              "ticks": ""
             }
            },
            "type": "scattergeo"
           }
          ],
          "scattergl": [
           {
            "marker": {
             "colorbar": {
              "outlinewidth": 0,
              "ticks": ""
             }
            },
            "type": "scattergl"
           }
          ],
          "scattermapbox": [
           {
            "marker": {
             "colorbar": {
              "outlinewidth": 0,
              "ticks": ""
             }
            },
            "type": "scattermapbox"
           }
          ],
          "scatterpolar": [
           {
            "marker": {
             "colorbar": {
              "outlinewidth": 0,
              "ticks": ""
             }
            },
            "type": "scatterpolar"
           }
          ],
          "scatterpolargl": [
           {
            "marker": {
             "colorbar": {
              "outlinewidth": 0,
              "ticks": ""
             }
            },
            "type": "scatterpolargl"
           }
          ],
          "scatterternary": [
           {
            "marker": {
             "colorbar": {
              "outlinewidth": 0,
              "ticks": ""
             }
            },
            "type": "scatterternary"
           }
          ],
          "surface": [
           {
            "colorbar": {
             "outlinewidth": 0,
             "ticks": ""
            },
            "colorscale": [
             [
              0,
              "#0d0887"
             ],
             [
              0.1111111111111111,
              "#46039f"
             ],
             [
              0.2222222222222222,
              "#7201a8"
             ],
             [
              0.3333333333333333,
              "#9c179e"
             ],
             [
              0.4444444444444444,
              "#bd3786"
             ],
             [
              0.5555555555555556,
              "#d8576b"
             ],
             [
              0.6666666666666666,
              "#ed7953"
             ],
             [
              0.7777777777777778,
              "#fb9f3a"
             ],
             [
              0.8888888888888888,
              "#fdca26"
             ],
             [
              1,
              "#f0f921"
             ]
            ],
            "type": "surface"
           }
          ],
          "table": [
           {
            "cells": {
             "fill": {
              "color": "#EBF0F8"
             },
             "line": {
              "color": "white"
             }
            },
            "header": {
             "fill": {
              "color": "#C8D4E3"
             },
             "line": {
              "color": "white"
             }
            },
            "type": "table"
           }
          ]
         },
         "layout": {
          "annotationdefaults": {
           "arrowcolor": "#2a3f5f",
           "arrowhead": 0,
           "arrowwidth": 1
          },
          "autotypenumbers": "strict",
          "coloraxis": {
           "colorbar": {
            "outlinewidth": 0,
            "ticks": ""
           }
          },
          "colorscale": {
           "diverging": [
            [
             0,
             "#8e0152"
            ],
            [
             0.1,
             "#c51b7d"
            ],
            [
             0.2,
             "#de77ae"
            ],
            [
             0.3,
             "#f1b6da"
            ],
            [
             0.4,
             "#fde0ef"
            ],
            [
             0.5,
             "#f7f7f7"
            ],
            [
             0.6,
             "#e6f5d0"
            ],
            [
             0.7,
             "#b8e186"
            ],
            [
             0.8,
             "#7fbc41"
            ],
            [
             0.9,
             "#4d9221"
            ],
            [
             1,
             "#276419"
            ]
           ],
           "sequential": [
            [
             0,
             "#0d0887"
            ],
            [
             0.1111111111111111,
             "#46039f"
            ],
            [
             0.2222222222222222,
             "#7201a8"
            ],
            [
             0.3333333333333333,
             "#9c179e"
            ],
            [
             0.4444444444444444,
             "#bd3786"
            ],
            [
             0.5555555555555556,
             "#d8576b"
            ],
            [
             0.6666666666666666,
             "#ed7953"
            ],
            [
             0.7777777777777778,
             "#fb9f3a"
            ],
            [
             0.8888888888888888,
             "#fdca26"
            ],
            [
             1,
             "#f0f921"
            ]
           ],
           "sequentialminus": [
            [
             0,
             "#0d0887"
            ],
            [
             0.1111111111111111,
             "#46039f"
            ],
            [
             0.2222222222222222,
             "#7201a8"
            ],
            [
             0.3333333333333333,
             "#9c179e"
            ],
            [
             0.4444444444444444,
             "#bd3786"
            ],
            [
             0.5555555555555556,
             "#d8576b"
            ],
            [
             0.6666666666666666,
             "#ed7953"
            ],
            [
             0.7777777777777778,
             "#fb9f3a"
            ],
            [
             0.8888888888888888,
             "#fdca26"
            ],
            [
             1,
             "#f0f921"
            ]
           ]
          },
          "colorway": [
           "#636efa",
           "#EF553B",
           "#00cc96",
           "#ab63fa",
           "#FFA15A",
           "#19d3f3",
           "#FF6692",
           "#B6E880",
           "#FF97FF",
           "#FECB52"
          ],
          "font": {
           "color": "#2a3f5f"
          },
          "geo": {
           "bgcolor": "white",
           "lakecolor": "white",
           "landcolor": "#E5ECF6",
           "showlakes": true,
           "showland": true,
           "subunitcolor": "white"
          },
          "hoverlabel": {
           "align": "left"
          },
          "hovermode": "closest",
          "mapbox": {
           "style": "light"
          },
          "paper_bgcolor": "white",
          "plot_bgcolor": "#E5ECF6",
          "polar": {
           "angularaxis": {
            "gridcolor": "white",
            "linecolor": "white",
            "ticks": ""
           },
           "bgcolor": "#E5ECF6",
           "radialaxis": {
            "gridcolor": "white",
            "linecolor": "white",
            "ticks": ""
           }
          },
          "scene": {
           "xaxis": {
            "backgroundcolor": "#E5ECF6",
            "gridcolor": "white",
            "gridwidth": 2,
            "linecolor": "white",
            "showbackground": true,
            "ticks": "",
            "zerolinecolor": "white"
           },
           "yaxis": {
            "backgroundcolor": "#E5ECF6",
            "gridcolor": "white",
            "gridwidth": 2,
            "linecolor": "white",
            "showbackground": true,
            "ticks": "",
            "zerolinecolor": "white"
           },
           "zaxis": {
            "backgroundcolor": "#E5ECF6",
            "gridcolor": "white",
            "gridwidth": 2,
            "linecolor": "white",
            "showbackground": true,
            "ticks": "",
            "zerolinecolor": "white"
           }
          },
          "shapedefaults": {
           "line": {
            "color": "#2a3f5f"
           }
          },
          "ternary": {
           "aaxis": {
            "gridcolor": "white",
            "linecolor": "white",
            "ticks": ""
           },
           "baxis": {
            "gridcolor": "white",
            "linecolor": "white",
            "ticks": ""
           },
           "bgcolor": "#E5ECF6",
           "caxis": {
            "gridcolor": "white",
            "linecolor": "white",
            "ticks": ""
           }
          },
          "title": {
           "x": 0.05
          },
          "xaxis": {
           "automargin": true,
           "gridcolor": "white",
           "linecolor": "white",
           "ticks": "",
           "title": {
            "standoff": 15
           },
           "zerolinecolor": "white",
           "zerolinewidth": 2
          },
          "yaxis": {
           "automargin": true,
           "gridcolor": "white",
           "linecolor": "white",
           "ticks": "",
           "title": {
            "standoff": 15
           },
           "zerolinecolor": "white",
           "zerolinewidth": 2
          }
         }
        },
        "width": 800,
        "xaxis": {
         "anchor": "y",
         "domain": [
          0,
          1
         ],
         "title": {
          "text": "pca1"
         }
        },
        "yaxis": {
         "anchor": "x",
         "domain": [
          0,
          1
         ],
         "title": {
          "text": "pca2"
         }
        }
       }
      }
     },
     "metadata": {},
     "output_type": "display_data"
    }
   ],
   "source": [
    "pca_2d(df['Cluster'].values, scaled_data)\n"
   ]
  },
  {
   "cell_type": "code",
   "execution_count": 103,
   "metadata": {},
   "outputs": [
    {
     "data": {
      "text/html": [
       "<div>\n",
       "<style scoped>\n",
       "    .dataframe tbody tr th:only-of-type {\n",
       "        vertical-align: middle;\n",
       "    }\n",
       "\n",
       "    .dataframe tbody tr th {\n",
       "        vertical-align: top;\n",
       "    }\n",
       "\n",
       "    .dataframe thead th {\n",
       "        text-align: right;\n",
       "    }\n",
       "</style>\n",
       "<table border=\"1\" class=\"dataframe\">\n",
       "  <thead>\n",
       "    <tr style=\"text-align: right;\">\n",
       "      <th></th>\n",
       "      <th>traffic_count</th>\n",
       "      <th>population</th>\n",
       "      <th>household_total_income</th>\n",
       "      <th>Area (Land, in square miles)</th>\n",
       "      <th>population_density</th>\n",
       "      <th>cluster</th>\n",
       "    </tr>\n",
       "  </thead>\n",
       "  <tbody>\n",
       "    <tr>\n",
       "      <th>0</th>\n",
       "      <td>32500.0</td>\n",
       "      <td>38010.0</td>\n",
       "      <td>18161.0</td>\n",
       "      <td>11.180</td>\n",
       "      <td>3399.821109</td>\n",
       "      <td>1</td>\n",
       "    </tr>\n",
       "    <tr>\n",
       "      <th>1</th>\n",
       "      <td>49000.0</td>\n",
       "      <td>13844.0</td>\n",
       "      <td>6126.0</td>\n",
       "      <td>4.177</td>\n",
       "      <td>3314.340436</td>\n",
       "      <td>0</td>\n",
       "    </tr>\n",
       "    <tr>\n",
       "      <th>2</th>\n",
       "      <td>35000.0</td>\n",
       "      <td>30138.0</td>\n",
       "      <td>12905.0</td>\n",
       "      <td>4.767</td>\n",
       "      <td>6322.215230</td>\n",
       "      <td>0</td>\n",
       "    </tr>\n",
       "    <tr>\n",
       "      <th>3</th>\n",
       "      <td>38500.0</td>\n",
       "      <td>25485.0</td>\n",
       "      <td>11521.0</td>\n",
       "      <td>9.857</td>\n",
       "      <td>2585.472253</td>\n",
       "      <td>0</td>\n",
       "    </tr>\n",
       "    <tr>\n",
       "      <th>4</th>\n",
       "      <td>31500.0</td>\n",
       "      <td>30935.0</td>\n",
       "      <td>9571.0</td>\n",
       "      <td>160.579</td>\n",
       "      <td>192.646610</td>\n",
       "      <td>2</td>\n",
       "    </tr>\n",
       "  </tbody>\n",
       "</table>\n",
       "</div>"
      ],
      "text/plain": [
       "   traffic_count  population  household_total_income  \\\n",
       "0        32500.0     38010.0                 18161.0   \n",
       "1        49000.0     13844.0                  6126.0   \n",
       "2        35000.0     30138.0                 12905.0   \n",
       "3        38500.0     25485.0                 11521.0   \n",
       "4        31500.0     30935.0                  9571.0   \n",
       "\n",
       "   Area (Land, in square miles)  population_density  cluster  \n",
       "0                        11.180         3399.821109        1  \n",
       "1                         4.177         3314.340436        0  \n",
       "2                         4.767         6322.215230        0  \n",
       "3                         9.857         2585.472253        0  \n",
       "4                       160.579          192.646610        2  "
      ]
     },
     "execution_count": 103,
     "metadata": {},
     "output_type": "execute_result"
    }
   ],
   "source": [
    "\n",
    "reversed_data=pd.DataFrame(scaler.inverse_transform(scaled_data),columns=input_data.columns)\n",
    "reversed_data['cluster']=labels\n",
    "clusters=list(set(labels))\n",
    "cluster_mean_df=pd.DataFrame()\n",
    "reversed_data.head()\n"
   ]
  },
  {
   "cell_type": "code",
   "execution_count": 104,
   "metadata": {},
   "outputs": [
    {
     "data": {
      "text/html": [
       "<div>\n",
       "<style scoped>\n",
       "    .dataframe tbody tr th:only-of-type {\n",
       "        vertical-align: middle;\n",
       "    }\n",
       "\n",
       "    .dataframe tbody tr th {\n",
       "        vertical-align: top;\n",
       "    }\n",
       "\n",
       "    .dataframe thead th {\n",
       "        text-align: right;\n",
       "    }\n",
       "</style>\n",
       "<table border=\"1\" class=\"dataframe\">\n",
       "  <thead>\n",
       "    <tr style=\"text-align: right;\">\n",
       "      <th></th>\n",
       "      <th>traffic_count</th>\n",
       "      <th>population</th>\n",
       "      <th>household_total_income</th>\n",
       "      <th>Area (Land, in square miles)</th>\n",
       "      <th>population_density</th>\n",
       "      <th>cluster</th>\n",
       "    </tr>\n",
       "  </thead>\n",
       "  <tbody>\n",
       "    <tr>\n",
       "      <th>0</th>\n",
       "      <td>32500.0</td>\n",
       "      <td>38010.0</td>\n",
       "      <td>18161.0</td>\n",
       "      <td>11.180</td>\n",
       "      <td>3399.821109</td>\n",
       "      <td>1</td>\n",
       "    </tr>\n",
       "    <tr>\n",
       "      <th>1</th>\n",
       "      <td>49000.0</td>\n",
       "      <td>13844.0</td>\n",
       "      <td>6126.0</td>\n",
       "      <td>4.177</td>\n",
       "      <td>3314.340436</td>\n",
       "      <td>0</td>\n",
       "    </tr>\n",
       "    <tr>\n",
       "      <th>2</th>\n",
       "      <td>35000.0</td>\n",
       "      <td>30138.0</td>\n",
       "      <td>12905.0</td>\n",
       "      <td>4.767</td>\n",
       "      <td>6322.215230</td>\n",
       "      <td>0</td>\n",
       "    </tr>\n",
       "    <tr>\n",
       "      <th>3</th>\n",
       "      <td>38500.0</td>\n",
       "      <td>25485.0</td>\n",
       "      <td>11521.0</td>\n",
       "      <td>9.857</td>\n",
       "      <td>2585.472253</td>\n",
       "      <td>0</td>\n",
       "    </tr>\n",
       "    <tr>\n",
       "      <th>4</th>\n",
       "      <td>31500.0</td>\n",
       "      <td>30935.0</td>\n",
       "      <td>9571.0</td>\n",
       "      <td>160.579</td>\n",
       "      <td>192.646610</td>\n",
       "      <td>2</td>\n",
       "    </tr>\n",
       "    <tr>\n",
       "      <th>5</th>\n",
       "      <td>45500.0</td>\n",
       "      <td>16034.0</td>\n",
       "      <td>8052.0</td>\n",
       "      <td>3.406</td>\n",
       "      <td>4707.574868</td>\n",
       "      <td>0</td>\n",
       "    </tr>\n",
       "    <tr>\n",
       "      <th>6</th>\n",
       "      <td>30000.0</td>\n",
       "      <td>28955.0</td>\n",
       "      <td>14289.0</td>\n",
       "      <td>41.681</td>\n",
       "      <td>694.681030</td>\n",
       "      <td>0</td>\n",
       "    </tr>\n",
       "    <tr>\n",
       "      <th>7</th>\n",
       "      <td>91500.0</td>\n",
       "      <td>27078.0</td>\n",
       "      <td>12686.0</td>\n",
       "      <td>6.736</td>\n",
       "      <td>4019.893112</td>\n",
       "      <td>0</td>\n",
       "    </tr>\n",
       "    <tr>\n",
       "      <th>8</th>\n",
       "      <td>36000.0</td>\n",
       "      <td>29082.0</td>\n",
       "      <td>12588.0</td>\n",
       "      <td>16.592</td>\n",
       "      <td>1752.772420</td>\n",
       "      <td>0</td>\n",
       "    </tr>\n",
       "    <tr>\n",
       "      <th>9</th>\n",
       "      <td>29500.0</td>\n",
       "      <td>56627.0</td>\n",
       "      <td>22685.0</td>\n",
       "      <td>16.045</td>\n",
       "      <td>3529.261452</td>\n",
       "      <td>1</td>\n",
       "    </tr>\n",
       "    <tr>\n",
       "      <th>10</th>\n",
       "      <td>53500.0</td>\n",
       "      <td>34671.0</td>\n",
       "      <td>15335.0</td>\n",
       "      <td>11.033</td>\n",
       "      <td>3142.481646</td>\n",
       "      <td>0</td>\n",
       "    </tr>\n",
       "    <tr>\n",
       "      <th>11</th>\n",
       "      <td>60000.0</td>\n",
       "      <td>57441.0</td>\n",
       "      <td>21729.0</td>\n",
       "      <td>26.307</td>\n",
       "      <td>2183.487285</td>\n",
       "      <td>1</td>\n",
       "    </tr>\n",
       "    <tr>\n",
       "      <th>12</th>\n",
       "      <td>60000.0</td>\n",
       "      <td>18419.0</td>\n",
       "      <td>8366.0</td>\n",
       "      <td>12.346</td>\n",
       "      <td>1491.900211</td>\n",
       "      <td>0</td>\n",
       "    </tr>\n",
       "    <tr>\n",
       "      <th>13</th>\n",
       "      <td>16200.0</td>\n",
       "      <td>26381.0</td>\n",
       "      <td>9862.0</td>\n",
       "      <td>12.815</td>\n",
       "      <td>2058.603199</td>\n",
       "      <td>0</td>\n",
       "    </tr>\n",
       "    <tr>\n",
       "      <th>14</th>\n",
       "      <td>23000.0</td>\n",
       "      <td>24980.0</td>\n",
       "      <td>11132.0</td>\n",
       "      <td>7.343</td>\n",
       "      <td>3401.879341</td>\n",
       "      <td>0</td>\n",
       "    </tr>\n",
       "    <tr>\n",
       "      <th>15</th>\n",
       "      <td>57000.0</td>\n",
       "      <td>16142.0</td>\n",
       "      <td>8461.0</td>\n",
       "      <td>7.837</td>\n",
       "      <td>2059.716728</td>\n",
       "      <td>0</td>\n",
       "    </tr>\n",
       "    <tr>\n",
       "      <th>16</th>\n",
       "      <td>58500.0</td>\n",
       "      <td>54805.0</td>\n",
       "      <td>20496.0</td>\n",
       "      <td>32.110</td>\n",
       "      <td>1706.789162</td>\n",
       "      <td>1</td>\n",
       "    </tr>\n",
       "    <tr>\n",
       "      <th>17</th>\n",
       "      <td>36000.0</td>\n",
       "      <td>23294.0</td>\n",
       "      <td>11671.0</td>\n",
       "      <td>11.330</td>\n",
       "      <td>2055.957635</td>\n",
       "      <td>0</td>\n",
       "    </tr>\n",
       "    <tr>\n",
       "      <th>18</th>\n",
       "      <td>58000.0</td>\n",
       "      <td>26797.0</td>\n",
       "      <td>10795.0</td>\n",
       "      <td>23.100</td>\n",
       "      <td>1160.043290</td>\n",
       "      <td>0</td>\n",
       "    </tr>\n",
       "    <tr>\n",
       "      <th>19</th>\n",
       "      <td>48000.0</td>\n",
       "      <td>21003.0</td>\n",
       "      <td>10686.0</td>\n",
       "      <td>6.907</td>\n",
       "      <td>3040.828145</td>\n",
       "      <td>0</td>\n",
       "    </tr>\n",
       "    <tr>\n",
       "      <th>20</th>\n",
       "      <td>30500.0</td>\n",
       "      <td>59668.0</td>\n",
       "      <td>20140.0</td>\n",
       "      <td>8.579</td>\n",
       "      <td>6955.122975</td>\n",
       "      <td>1</td>\n",
       "    </tr>\n",
       "    <tr>\n",
       "      <th>21</th>\n",
       "      <td>41500.0</td>\n",
       "      <td>74206.0</td>\n",
       "      <td>28173.0</td>\n",
       "      <td>34.852</td>\n",
       "      <td>2129.174796</td>\n",
       "      <td>1</td>\n",
       "    </tr>\n",
       "    <tr>\n",
       "      <th>22</th>\n",
       "      <td>40500.0</td>\n",
       "      <td>35793.0</td>\n",
       "      <td>13727.0</td>\n",
       "      <td>6.953</td>\n",
       "      <td>5147.849849</td>\n",
       "      <td>0</td>\n",
       "    </tr>\n",
       "    <tr>\n",
       "      <th>23</th>\n",
       "      <td>52500.0</td>\n",
       "      <td>32029.0</td>\n",
       "      <td>14782.0</td>\n",
       "      <td>9.731</td>\n",
       "      <td>3291.439729</td>\n",
       "      <td>0</td>\n",
       "    </tr>\n",
       "    <tr>\n",
       "      <th>24</th>\n",
       "      <td>20100.0</td>\n",
       "      <td>22000.0</td>\n",
       "      <td>8230.0</td>\n",
       "      <td>27.442</td>\n",
       "      <td>801.690839</td>\n",
       "      <td>0</td>\n",
       "    </tr>\n",
       "    <tr>\n",
       "      <th>25</th>\n",
       "      <td>64400.0</td>\n",
       "      <td>26474.0</td>\n",
       "      <td>11737.0</td>\n",
       "      <td>8.466</td>\n",
       "      <td>3127.096622</td>\n",
       "      <td>0</td>\n",
       "    </tr>\n",
       "    <tr>\n",
       "      <th>26</th>\n",
       "      <td>50500.0</td>\n",
       "      <td>28997.0</td>\n",
       "      <td>10141.0</td>\n",
       "      <td>9.144</td>\n",
       "      <td>3171.150481</td>\n",
       "      <td>0</td>\n",
       "    </tr>\n",
       "    <tr>\n",
       "      <th>27</th>\n",
       "      <td>26500.0</td>\n",
       "      <td>15906.0</td>\n",
       "      <td>8673.0</td>\n",
       "      <td>13.441</td>\n",
       "      <td>1183.394093</td>\n",
       "      <td>0</td>\n",
       "    </tr>\n",
       "    <tr>\n",
       "      <th>28</th>\n",
       "      <td>11900.0</td>\n",
       "      <td>11040.0</td>\n",
       "      <td>4735.0</td>\n",
       "      <td>8.609</td>\n",
       "      <td>1282.378906</td>\n",
       "      <td>0</td>\n",
       "    </tr>\n",
       "    <tr>\n",
       "      <th>29</th>\n",
       "      <td>5000.0</td>\n",
       "      <td>48082.0</td>\n",
       "      <td>20419.0</td>\n",
       "      <td>53.902</td>\n",
       "      <td>892.026270</td>\n",
       "      <td>1</td>\n",
       "    </tr>\n",
       "    <tr>\n",
       "      <th>30</th>\n",
       "      <td>57500.0</td>\n",
       "      <td>30629.0</td>\n",
       "      <td>11633.0</td>\n",
       "      <td>65.860</td>\n",
       "      <td>465.062253</td>\n",
       "      <td>0</td>\n",
       "    </tr>\n",
       "    <tr>\n",
       "      <th>31</th>\n",
       "      <td>24000.0</td>\n",
       "      <td>21594.0</td>\n",
       "      <td>10538.0</td>\n",
       "      <td>7.520</td>\n",
       "      <td>2871.542553</td>\n",
       "      <td>0</td>\n",
       "    </tr>\n",
       "    <tr>\n",
       "      <th>32</th>\n",
       "      <td>19100.0</td>\n",
       "      <td>21791.0</td>\n",
       "      <td>9763.0</td>\n",
       "      <td>10.490</td>\n",
       "      <td>2077.311725</td>\n",
       "      <td>0</td>\n",
       "    </tr>\n",
       "    <tr>\n",
       "      <th>33</th>\n",
       "      <td>19400.0</td>\n",
       "      <td>25475.0</td>\n",
       "      <td>11190.0</td>\n",
       "      <td>5.200</td>\n",
       "      <td>4899.038462</td>\n",
       "      <td>0</td>\n",
       "    </tr>\n",
       "    <tr>\n",
       "      <th>34</th>\n",
       "      <td>25000.0</td>\n",
       "      <td>48193.0</td>\n",
       "      <td>14153.0</td>\n",
       "      <td>17.457</td>\n",
       "      <td>2760.669073</td>\n",
       "      <td>1</td>\n",
       "    </tr>\n",
       "    <tr>\n",
       "      <th>35</th>\n",
       "      <td>37000.0</td>\n",
       "      <td>41439.0</td>\n",
       "      <td>17391.0</td>\n",
       "      <td>12.253</td>\n",
       "      <td>3381.947278</td>\n",
       "      <td>1</td>\n",
       "    </tr>\n",
       "    <tr>\n",
       "      <th>36</th>\n",
       "      <td>59500.0</td>\n",
       "      <td>43527.0</td>\n",
       "      <td>16462.0</td>\n",
       "      <td>16.838</td>\n",
       "      <td>2585.045730</td>\n",
       "      <td>1</td>\n",
       "    </tr>\n",
       "  </tbody>\n",
       "</table>\n",
       "</div>"
      ],
      "text/plain": [
       "    traffic_count  population  household_total_income  \\\n",
       "0         32500.0     38010.0                 18161.0   \n",
       "1         49000.0     13844.0                  6126.0   \n",
       "2         35000.0     30138.0                 12905.0   \n",
       "3         38500.0     25485.0                 11521.0   \n",
       "4         31500.0     30935.0                  9571.0   \n",
       "5         45500.0     16034.0                  8052.0   \n",
       "6         30000.0     28955.0                 14289.0   \n",
       "7         91500.0     27078.0                 12686.0   \n",
       "8         36000.0     29082.0                 12588.0   \n",
       "9         29500.0     56627.0                 22685.0   \n",
       "10        53500.0     34671.0                 15335.0   \n",
       "11        60000.0     57441.0                 21729.0   \n",
       "12        60000.0     18419.0                  8366.0   \n",
       "13        16200.0     26381.0                  9862.0   \n",
       "14        23000.0     24980.0                 11132.0   \n",
       "15        57000.0     16142.0                  8461.0   \n",
       "16        58500.0     54805.0                 20496.0   \n",
       "17        36000.0     23294.0                 11671.0   \n",
       "18        58000.0     26797.0                 10795.0   \n",
       "19        48000.0     21003.0                 10686.0   \n",
       "20        30500.0     59668.0                 20140.0   \n",
       "21        41500.0     74206.0                 28173.0   \n",
       "22        40500.0     35793.0                 13727.0   \n",
       "23        52500.0     32029.0                 14782.0   \n",
       "24        20100.0     22000.0                  8230.0   \n",
       "25        64400.0     26474.0                 11737.0   \n",
       "26        50500.0     28997.0                 10141.0   \n",
       "27        26500.0     15906.0                  8673.0   \n",
       "28        11900.0     11040.0                  4735.0   \n",
       "29         5000.0     48082.0                 20419.0   \n",
       "30        57500.0     30629.0                 11633.0   \n",
       "31        24000.0     21594.0                 10538.0   \n",
       "32        19100.0     21791.0                  9763.0   \n",
       "33        19400.0     25475.0                 11190.0   \n",
       "34        25000.0     48193.0                 14153.0   \n",
       "35        37000.0     41439.0                 17391.0   \n",
       "36        59500.0     43527.0                 16462.0   \n",
       "\n",
       "    Area (Land, in square miles)  population_density  cluster  \n",
       "0                         11.180         3399.821109        1  \n",
       "1                          4.177         3314.340436        0  \n",
       "2                          4.767         6322.215230        0  \n",
       "3                          9.857         2585.472253        0  \n",
       "4                        160.579          192.646610        2  \n",
       "5                          3.406         4707.574868        0  \n",
       "6                         41.681          694.681030        0  \n",
       "7                          6.736         4019.893112        0  \n",
       "8                         16.592         1752.772420        0  \n",
       "9                         16.045         3529.261452        1  \n",
       "10                        11.033         3142.481646        0  \n",
       "11                        26.307         2183.487285        1  \n",
       "12                        12.346         1491.900211        0  \n",
       "13                        12.815         2058.603199        0  \n",
       "14                         7.343         3401.879341        0  \n",
       "15                         7.837         2059.716728        0  \n",
       "16                        32.110         1706.789162        1  \n",
       "17                        11.330         2055.957635        0  \n",
       "18                        23.100         1160.043290        0  \n",
       "19                         6.907         3040.828145        0  \n",
       "20                         8.579         6955.122975        1  \n",
       "21                        34.852         2129.174796        1  \n",
       "22                         6.953         5147.849849        0  \n",
       "23                         9.731         3291.439729        0  \n",
       "24                        27.442          801.690839        0  \n",
       "25                         8.466         3127.096622        0  \n",
       "26                         9.144         3171.150481        0  \n",
       "27                        13.441         1183.394093        0  \n",
       "28                         8.609         1282.378906        0  \n",
       "29                        53.902          892.026270        1  \n",
       "30                        65.860          465.062253        0  \n",
       "31                         7.520         2871.542553        0  \n",
       "32                        10.490         2077.311725        0  \n",
       "33                         5.200         4899.038462        0  \n",
       "34                        17.457         2760.669073        1  \n",
       "35                        12.253         3381.947278        1  \n",
       "36                        16.838         2585.045730        1  "
      ]
     },
     "execution_count": 104,
     "metadata": {},
     "output_type": "execute_result"
    }
   ],
   "source": [
    "reversed_data\n"
   ]
  },
  {
   "cell_type": "code",
   "execution_count": 105,
   "metadata": {},
   "outputs": [
    {
     "data": {
      "text/plain": [
       "Index(['traffic_count', 'population', 'household_total_income',\n",
       "       'Area (Land, in square miles)', 'population_density', 'cluster'],\n",
       "      dtype='object')"
      ]
     },
     "execution_count": 105,
     "metadata": {},
     "output_type": "execute_result"
    }
   ],
   "source": [
    "def cluster_features_mean(i):\n",
    "\n",
    "        cluster_boolean_values=reversed_data['cluster']== i\n",
    "        cluster_values=reversed_data[cluster_boolean_values]\n",
    "        cluster_feature_mean=cluster_values.median()\n",
    "        return cluster_feature_mean\n",
    "for i in range(len(clusters)):\n",
    "\n",
    "        means=cluster_features_mean(i)\n",
    "        means= pd.to_numeric(means, downcast=\"float\")\n",
    "        means=round(means,0)\n",
    "\n",
    "        cluster_mean_df[i]=means\n",
    "\n",
    "cluster_mean_df.index\n"
   ]
  },
  {
   "cell_type": "code",
   "execution_count": 106,
   "metadata": {},
   "outputs": [
    {
     "data": {
      "text/plain": [
       "Index(['traffic_count', 'population', 'household_total_income',\n",
       "       'Area (Land, in square miles)', 'population_density', 'cluster'],\n",
       "      dtype='object')"
      ]
     },
     "execution_count": 106,
     "metadata": {},
     "output_type": "execute_result"
    }
   ],
   "source": [
    "def cluster_features_mean(i):\n",
    "\n",
    "        cluster_boolean_values=reversed_data['cluster']== i\n",
    "        cluster_values=reversed_data[cluster_boolean_values]\n",
    "        cluster_feature_mean=cluster_values.median()\n",
    "        return cluster_feature_mean\n",
    "for i in range(len(clusters)):\n",
    "\n",
    "        means=cluster_features_mean(i)\n",
    "        means= pd.to_numeric(means, downcast=\"float\")\n",
    "        means=round(means,0)\n",
    "\n",
    "        cluster_mean_df[i]=means\n",
    "\n",
    "cluster_mean_df.index\n"
   ]
  },
  {
   "cell_type": "code",
   "execution_count": 107,
   "metadata": {},
   "outputs": [],
   "source": [
    "# input_data['area_classification']=input_data['area_classification'].astype('category')\n",
    "# area_classification_mapping=dict(enumerate(input_data['area_classification'].cat.categories ))\n"
   ]
  },
  {
   "cell_type": "code",
   "execution_count": 43,
   "metadata": {},
   "outputs": [
    {
     "data": {
      "text/html": [
       "<div>\n",
       "<style scoped>\n",
       "    .dataframe tbody tr th:only-of-type {\n",
       "        vertical-align: middle;\n",
       "    }\n",
       "\n",
       "    .dataframe tbody tr th {\n",
       "        vertical-align: top;\n",
       "    }\n",
       "\n",
       "    .dataframe thead th {\n",
       "        text-align: right;\n",
       "    }\n",
       "</style>\n",
       "<table border=\"1\" class=\"dataframe\">\n",
       "  <thead>\n",
       "    <tr style=\"text-align: right;\">\n",
       "      <th></th>\n",
       "      <th>0</th>\n",
       "      <th>1</th>\n",
       "    </tr>\n",
       "  </thead>\n",
       "  <tbody>\n",
       "    <tr>\n",
       "      <th>household_total_income</th>\n",
       "      <td>11132.0</td>\n",
       "      <td>NaN</td>\n",
       "    </tr>\n",
       "    <tr>\n",
       "      <th>population_density</th>\n",
       "      <td>2585.0</td>\n",
       "      <td>NaN</td>\n",
       "    </tr>\n",
       "    <tr>\n",
       "      <th>Area (Land, in square miles)</th>\n",
       "      <td>9.0</td>\n",
       "      <td>NaN</td>\n",
       "    </tr>\n",
       "    <tr>\n",
       "      <th>zip_code</th>\n",
       "      <td>33928.0</td>\n",
       "      <td>NaN</td>\n",
       "    </tr>\n",
       "    <tr>\n",
       "      <th>cluster</th>\n",
       "      <td>0.0</td>\n",
       "      <td>NaN</td>\n",
       "    </tr>\n",
       "  </tbody>\n",
       "</table>\n",
       "</div>"
      ],
      "text/plain": [
       "                                    0   1\n",
       "household_total_income        11132.0 NaN\n",
       "population_density             2585.0 NaN\n",
       "Area (Land, in square miles)      9.0 NaN\n",
       "zip_code                      33928.0 NaN\n",
       "cluster                           0.0 NaN"
      ]
     },
     "execution_count": 43,
     "metadata": {},
     "output_type": "execute_result"
    }
   ],
   "source": [
    "testing\n"
   ]
  },
  {
   "cell_type": "code",
   "execution_count": 44,
   "metadata": {},
   "outputs": [
    {
     "data": {
      "text/html": [
       "<div>\n",
       "<style scoped>\n",
       "    .dataframe tbody tr th:only-of-type {\n",
       "        vertical-align: middle;\n",
       "    }\n",
       "\n",
       "    .dataframe tbody tr th {\n",
       "        vertical-align: top;\n",
       "    }\n",
       "\n",
       "    .dataframe thead th {\n",
       "        text-align: right;\n",
       "    }\n",
       "</style>\n",
       "<table border=\"1\" class=\"dataframe\">\n",
       "  <thead>\n",
       "    <tr style=\"text-align: right;\">\n",
       "      <th></th>\n",
       "      <th>Cluster1</th>\n",
       "      <th>Cluster2</th>\n",
       "      <th>Cluster3</th>\n",
       "    </tr>\n",
       "  </thead>\n",
       "  <tbody>\n",
       "    <tr>\n",
       "      <th>household_total_income</th>\n",
       "      <td>11521.0</td>\n",
       "      <td>16926.0</td>\n",
       "      <td>9571.0</td>\n",
       "    </tr>\n",
       "    <tr>\n",
       "      <th>population_density</th>\n",
       "      <td>2585.0</td>\n",
       "      <td>2728.0</td>\n",
       "      <td>193.0</td>\n",
       "    </tr>\n",
       "    <tr>\n",
       "      <th>Area (Land, in square miles)</th>\n",
       "      <td>11.0</td>\n",
       "      <td>12.0</td>\n",
       "      <td>161.0</td>\n",
       "    </tr>\n",
       "    <tr>\n",
       "      <th>zip_code</th>\n",
       "      <td>33954.0</td>\n",
       "      <td>32622.0</td>\n",
       "      <td>33547.0</td>\n",
       "    </tr>\n",
       "    <tr>\n",
       "      <th>cluster</th>\n",
       "      <td>0.0</td>\n",
       "      <td>1.0</td>\n",
       "      <td>2.0</td>\n",
       "    </tr>\n",
       "  </tbody>\n",
       "</table>\n",
       "</div>"
      ],
      "text/plain": [
       "                              Cluster1  Cluster2  Cluster3\n",
       "household_total_income         11521.0   16926.0    9571.0\n",
       "population_density              2585.0    2728.0     193.0\n",
       "Area (Land, in square miles)      11.0      12.0     161.0\n",
       "zip_code                       33954.0   32622.0   33547.0\n",
       "cluster                            0.0       1.0       2.0"
      ]
     },
     "execution_count": 44,
     "metadata": {},
     "output_type": "execute_result"
    }
   ],
   "source": [
    "testing=cluster_mean_df.copy()\n",
    "# testing.drop(columns=[3],inplace=True)\n",
    "testing.rename(columns={0: 'Cluster1',1: 'Cluster2',2: 'Cluster3'},inplace=True)\n",
    "\n",
    "indexd=testing.index\n",
    "\n",
    "def mapping(maping,key):    \n",
    "            value=maping[key]\n",
    "            return value\n",
    "\n",
    "for i in indexd :\n",
    "    if i == 'area_classification':\n",
    "        for j in list(testing.columns):\n",
    "            key=testing.loc[i,j]\n",
    "            val=mapping(area_classification_mapping,key)\n",
    "            testing.loc[i,j] = val\n",
    "testing\n"
   ]
  },
  {
   "cell_type": "code",
   "execution_count": 45,
   "metadata": {},
   "outputs": [
    {
     "name": "stdout",
     "output_type": "stream",
     "text": [
      "traffic_count\n"
     ]
    },
    {
     "ename": "KeyError",
     "evalue": "'traffic_count'",
     "output_type": "error",
     "traceback": [
      "\u001b[0;31m---------------------------------------------------------------------------\u001b[0m",
      "\u001b[0;31mKeyError\u001b[0m                                  Traceback (most recent call last)",
      "\u001b[0;32m/Library/Frameworks/Python.framework/Versions/3.7/lib/python3.7/site-packages/pandas/core/indexes/base.py\u001b[0m in \u001b[0;36mget_loc\u001b[0;34m(self, key, method, tolerance)\u001b[0m\n\u001b[1;32m   3360\u001b[0m             \u001b[0;32mtry\u001b[0m\u001b[0;34m:\u001b[0m\u001b[0;34m\u001b[0m\u001b[0;34m\u001b[0m\u001b[0m\n\u001b[0;32m-> 3361\u001b[0;31m                 \u001b[0;32mreturn\u001b[0m \u001b[0mself\u001b[0m\u001b[0;34m.\u001b[0m\u001b[0m_engine\u001b[0m\u001b[0;34m.\u001b[0m\u001b[0mget_loc\u001b[0m\u001b[0;34m(\u001b[0m\u001b[0mcasted_key\u001b[0m\u001b[0;34m)\u001b[0m\u001b[0;34m\u001b[0m\u001b[0;34m\u001b[0m\u001b[0m\n\u001b[0m\u001b[1;32m   3362\u001b[0m             \u001b[0;32mexcept\u001b[0m \u001b[0mKeyError\u001b[0m \u001b[0;32mas\u001b[0m \u001b[0merr\u001b[0m\u001b[0;34m:\u001b[0m\u001b[0;34m\u001b[0m\u001b[0;34m\u001b[0m\u001b[0m\n",
      "\u001b[0;32m/Library/Frameworks/Python.framework/Versions/3.7/lib/python3.7/site-packages/pandas/_libs/index.pyx\u001b[0m in \u001b[0;36mpandas._libs.index.IndexEngine.get_loc\u001b[0;34m()\u001b[0m\n",
      "\u001b[0;32m/Library/Frameworks/Python.framework/Versions/3.7/lib/python3.7/site-packages/pandas/_libs/index.pyx\u001b[0m in \u001b[0;36mpandas._libs.index.IndexEngine.get_loc\u001b[0;34m()\u001b[0m\n",
      "\u001b[0;32mpandas/_libs/hashtable_class_helper.pxi\u001b[0m in \u001b[0;36mpandas._libs.hashtable.PyObjectHashTable.get_item\u001b[0;34m()\u001b[0m\n",
      "\u001b[0;32mpandas/_libs/hashtable_class_helper.pxi\u001b[0m in \u001b[0;36mpandas._libs.hashtable.PyObjectHashTable.get_item\u001b[0;34m()\u001b[0m\n",
      "\u001b[0;31mKeyError\u001b[0m: 'traffic_count'",
      "\nThe above exception was the direct cause of the following exception:\n",
      "\u001b[0;31mKeyError\u001b[0m                                  Traceback (most recent call last)",
      "\u001b[0;32m/var/folders/lg/b8pw7x296y397cn0g302yt680000gp/T/ipykernel_82072/213860585.py\u001b[0m in \u001b[0;36m<module>\u001b[0;34m\u001b[0m\n\u001b[1;32m      1\u001b[0m \u001b[0mprint\u001b[0m\u001b[0;34m(\u001b[0m\u001b[0;34m'traffic_count'\u001b[0m\u001b[0;34m)\u001b[0m\u001b[0;34m\u001b[0m\u001b[0;34m\u001b[0m\u001b[0m\n\u001b[0;32m----> 2\u001b[0;31m \u001b[0mprint\u001b[0m\u001b[0;34m(\u001b[0m\u001b[0minput_data\u001b[0m\u001b[0;34m[\u001b[0m\u001b[0;34m'traffic_count'\u001b[0m\u001b[0;34m]\u001b[0m\u001b[0;34m.\u001b[0m\u001b[0mmin\u001b[0m\u001b[0;34m(\u001b[0m\u001b[0;34m)\u001b[0m\u001b[0;34m)\u001b[0m\u001b[0;34m\u001b[0m\u001b[0;34m\u001b[0m\u001b[0m\n\u001b[0m\u001b[1;32m      3\u001b[0m \u001b[0mprint\u001b[0m\u001b[0;34m(\u001b[0m\u001b[0minput_data\u001b[0m\u001b[0;34m[\u001b[0m\u001b[0;34m'traffic_count'\u001b[0m\u001b[0;34m]\u001b[0m\u001b[0;34m.\u001b[0m\u001b[0mmax\u001b[0m\u001b[0;34m(\u001b[0m\u001b[0;34m)\u001b[0m\u001b[0;34m)\u001b[0m\u001b[0;34m\u001b[0m\u001b[0;34m\u001b[0m\u001b[0m\n\u001b[1;32m      4\u001b[0m \u001b[0mprint\u001b[0m\u001b[0;34m(\u001b[0m\u001b[0;34m'population'\u001b[0m\u001b[0;34m)\u001b[0m\u001b[0;34m\u001b[0m\u001b[0;34m\u001b[0m\u001b[0m\n\u001b[1;32m      5\u001b[0m \u001b[0mprint\u001b[0m\u001b[0;34m(\u001b[0m\u001b[0minput_data\u001b[0m\u001b[0;34m[\u001b[0m\u001b[0;34m'population'\u001b[0m\u001b[0;34m]\u001b[0m\u001b[0;34m.\u001b[0m\u001b[0mmin\u001b[0m\u001b[0;34m(\u001b[0m\u001b[0;34m)\u001b[0m\u001b[0;34m)\u001b[0m\u001b[0;34m\u001b[0m\u001b[0;34m\u001b[0m\u001b[0m\n",
      "\u001b[0;32m/Library/Frameworks/Python.framework/Versions/3.7/lib/python3.7/site-packages/pandas/core/frame.py\u001b[0m in \u001b[0;36m__getitem__\u001b[0;34m(self, key)\u001b[0m\n\u001b[1;32m   3456\u001b[0m             \u001b[0;32mif\u001b[0m \u001b[0mself\u001b[0m\u001b[0;34m.\u001b[0m\u001b[0mcolumns\u001b[0m\u001b[0;34m.\u001b[0m\u001b[0mnlevels\u001b[0m \u001b[0;34m>\u001b[0m \u001b[0;36m1\u001b[0m\u001b[0;34m:\u001b[0m\u001b[0;34m\u001b[0m\u001b[0;34m\u001b[0m\u001b[0m\n\u001b[1;32m   3457\u001b[0m                 \u001b[0;32mreturn\u001b[0m \u001b[0mself\u001b[0m\u001b[0;34m.\u001b[0m\u001b[0m_getitem_multilevel\u001b[0m\u001b[0;34m(\u001b[0m\u001b[0mkey\u001b[0m\u001b[0;34m)\u001b[0m\u001b[0;34m\u001b[0m\u001b[0;34m\u001b[0m\u001b[0m\n\u001b[0;32m-> 3458\u001b[0;31m             \u001b[0mindexer\u001b[0m \u001b[0;34m=\u001b[0m \u001b[0mself\u001b[0m\u001b[0;34m.\u001b[0m\u001b[0mcolumns\u001b[0m\u001b[0;34m.\u001b[0m\u001b[0mget_loc\u001b[0m\u001b[0;34m(\u001b[0m\u001b[0mkey\u001b[0m\u001b[0;34m)\u001b[0m\u001b[0;34m\u001b[0m\u001b[0;34m\u001b[0m\u001b[0m\n\u001b[0m\u001b[1;32m   3459\u001b[0m             \u001b[0;32mif\u001b[0m \u001b[0mis_integer\u001b[0m\u001b[0;34m(\u001b[0m\u001b[0mindexer\u001b[0m\u001b[0;34m)\u001b[0m\u001b[0;34m:\u001b[0m\u001b[0;34m\u001b[0m\u001b[0;34m\u001b[0m\u001b[0m\n\u001b[1;32m   3460\u001b[0m                 \u001b[0mindexer\u001b[0m \u001b[0;34m=\u001b[0m \u001b[0;34m[\u001b[0m\u001b[0mindexer\u001b[0m\u001b[0;34m]\u001b[0m\u001b[0;34m\u001b[0m\u001b[0;34m\u001b[0m\u001b[0m\n",
      "\u001b[0;32m/Library/Frameworks/Python.framework/Versions/3.7/lib/python3.7/site-packages/pandas/core/indexes/base.py\u001b[0m in \u001b[0;36mget_loc\u001b[0;34m(self, key, method, tolerance)\u001b[0m\n\u001b[1;32m   3361\u001b[0m                 \u001b[0;32mreturn\u001b[0m \u001b[0mself\u001b[0m\u001b[0;34m.\u001b[0m\u001b[0m_engine\u001b[0m\u001b[0;34m.\u001b[0m\u001b[0mget_loc\u001b[0m\u001b[0;34m(\u001b[0m\u001b[0mcasted_key\u001b[0m\u001b[0;34m)\u001b[0m\u001b[0;34m\u001b[0m\u001b[0;34m\u001b[0m\u001b[0m\n\u001b[1;32m   3362\u001b[0m             \u001b[0;32mexcept\u001b[0m \u001b[0mKeyError\u001b[0m \u001b[0;32mas\u001b[0m \u001b[0merr\u001b[0m\u001b[0;34m:\u001b[0m\u001b[0;34m\u001b[0m\u001b[0;34m\u001b[0m\u001b[0m\n\u001b[0;32m-> 3363\u001b[0;31m                 \u001b[0;32mraise\u001b[0m \u001b[0mKeyError\u001b[0m\u001b[0;34m(\u001b[0m\u001b[0mkey\u001b[0m\u001b[0;34m)\u001b[0m \u001b[0;32mfrom\u001b[0m \u001b[0merr\u001b[0m\u001b[0;34m\u001b[0m\u001b[0;34m\u001b[0m\u001b[0m\n\u001b[0m\u001b[1;32m   3364\u001b[0m \u001b[0;34m\u001b[0m\u001b[0m\n\u001b[1;32m   3365\u001b[0m         \u001b[0;32mif\u001b[0m \u001b[0mis_scalar\u001b[0m\u001b[0;34m(\u001b[0m\u001b[0mkey\u001b[0m\u001b[0;34m)\u001b[0m \u001b[0;32mand\u001b[0m \u001b[0misna\u001b[0m\u001b[0;34m(\u001b[0m\u001b[0mkey\u001b[0m\u001b[0;34m)\u001b[0m \u001b[0;32mand\u001b[0m \u001b[0;32mnot\u001b[0m \u001b[0mself\u001b[0m\u001b[0;34m.\u001b[0m\u001b[0mhasnans\u001b[0m\u001b[0;34m:\u001b[0m\u001b[0;34m\u001b[0m\u001b[0;34m\u001b[0m\u001b[0m\n",
      "\u001b[0;31mKeyError\u001b[0m: 'traffic_count'"
     ]
    }
   ],
   "source": [
    "print('traffic_count')\n",
    "print(input_data['traffic_count'].min())\n",
    "print(input_data['traffic_count'].max())\n",
    "print('population')\n",
    "print(input_data['population'].min())\n",
    "print(input_data['population'].max())\n",
    "print('household_total_income')\n",
    "print(input_data['household_total_income'].min())\n",
    "print(input_data['household_total_income'].max())\n"
   ]
  },
  {
   "cell_type": "code",
   "execution_count": 46,
   "metadata": {},
   "outputs": [
    {
     "data": {
      "text/html": [
       "<div>\n",
       "<style scoped>\n",
       "    .dataframe tbody tr th:only-of-type {\n",
       "        vertical-align: middle;\n",
       "    }\n",
       "\n",
       "    .dataframe tbody tr th {\n",
       "        vertical-align: top;\n",
       "    }\n",
       "\n",
       "    .dataframe thead th {\n",
       "        text-align: right;\n",
       "    }\n",
       "</style>\n",
       "<table border=\"1\" class=\"dataframe\">\n",
       "  <thead>\n",
       "    <tr style=\"text-align: right;\">\n",
       "      <th></th>\n",
       "      <th>0</th>\n",
       "      <th>1</th>\n",
       "      <th>2</th>\n",
       "    </tr>\n",
       "  </thead>\n",
       "  <tbody>\n",
       "    <tr>\n",
       "      <th>household_total_income</th>\n",
       "      <td>12351539.0</td>\n",
       "      <td>36180148.0</td>\n",
       "      <td>NaN</td>\n",
       "    </tr>\n",
       "    <tr>\n",
       "      <th>population_density</th>\n",
       "      <td>1552434.0</td>\n",
       "      <td>3319286.0</td>\n",
       "      <td>NaN</td>\n",
       "    </tr>\n",
       "    <tr>\n",
       "      <th>Area (Land, in square miles)</th>\n",
       "      <td>244.0</td>\n",
       "      <td>101.0</td>\n",
       "      <td>NaN</td>\n",
       "    </tr>\n",
       "    <tr>\n",
       "      <th>zip_code</th>\n",
       "      <td>126239.0</td>\n",
       "      <td>274414.0</td>\n",
       "      <td>NaN</td>\n",
       "    </tr>\n",
       "    <tr>\n",
       "      <th>cluster</th>\n",
       "      <td>0.0</td>\n",
       "      <td>0.0</td>\n",
       "      <td>NaN</td>\n",
       "    </tr>\n",
       "  </tbody>\n",
       "</table>\n",
       "</div>"
      ],
      "text/plain": [
       "                                       0           1   2\n",
       "household_total_income        12351539.0  36180148.0 NaN\n",
       "population_density             1552434.0   3319286.0 NaN\n",
       "Area (Land, in square miles)       244.0       101.0 NaN\n",
       "zip_code                        126239.0    274414.0 NaN\n",
       "cluster                              0.0         0.0 NaN"
      ]
     },
     "execution_count": 46,
     "metadata": {},
     "output_type": "execute_result"
    }
   ],
   "source": [
    "cluster_variance_df=pd.DataFrame()\n",
    "def cluster_features_variance(i):\n",
    "        cluster_boolean_values=reversed_data['cluster']== i\n",
    "        cluster_values=reversed_data[cluster_boolean_values]\n",
    "        cluster_feature_var=cluster_values.var()\n",
    "        return cluster_feature_var\n",
    "for i in range(len(clusters)):\n",
    "        variance=cluster_features_variance(i)\n",
    "        variance= pd.to_numeric(variance, downcast=\"float\")\n",
    "        variance=round(variance,0)\n",
    "        cluster_variance_df[i]= variance\n",
    "\n",
    "cluster_variance_df\n"
   ]
  },
  {
   "cell_type": "code",
   "execution_count": 47,
   "metadata": {},
   "outputs": [
    {
     "ename": "KeyError",
     "evalue": "\"The following 'value_vars' are not present in the DataFrame: ['area_classification', 'population', 'traffic_count']\"",
     "output_type": "error",
     "traceback": [
      "\u001b[0;31m---------------------------------------------------------------------------\u001b[0m",
      "\u001b[0;31mKeyError\u001b[0m                                  Traceback (most recent call last)",
      "\u001b[0;32m/var/folders/lg/b8pw7x296y397cn0g302yt680000gp/T/ipykernel_82072/136422371.py\u001b[0m in \u001b[0;36m<module>\u001b[0;34m\u001b[0m\n\u001b[1;32m      3\u001b[0m     \u001b[0mvalue_vars\u001b[0m\u001b[0;34m=\u001b[0m\u001b[0;34m[\u001b[0m\u001b[0;34m'area_classification'\u001b[0m\u001b[0;34m,\u001b[0m \u001b[0;34m'traffic_count'\u001b[0m\u001b[0;34m,\u001b[0m \u001b[0;34m'population'\u001b[0m\u001b[0;34m,\u001b[0m \u001b[0;34m'household_total_income'\u001b[0m\u001b[0;34m]\u001b[0m\u001b[0;34m,\u001b[0m  \u001b[0;31m# Features to melt\u001b[0m\u001b[0;34m\u001b[0m\u001b[0;34m\u001b[0m\u001b[0m\n\u001b[1;32m      4\u001b[0m     \u001b[0mvar_name\u001b[0m\u001b[0;34m=\u001b[0m\u001b[0;34m'Feature'\u001b[0m\u001b[0;34m,\u001b[0m   \u001b[0;31m# New column for feature names\u001b[0m\u001b[0;34m\u001b[0m\u001b[0;34m\u001b[0m\u001b[0m\n\u001b[0;32m----> 5\u001b[0;31m     \u001b[0mvalue_name\u001b[0m\u001b[0;34m=\u001b[0m\u001b[0;34m'Value'\u001b[0m    \u001b[0;31m# New column for feature values\u001b[0m\u001b[0;34m\u001b[0m\u001b[0;34m\u001b[0m\u001b[0m\n\u001b[0m\u001b[1;32m      6\u001b[0m )\n\u001b[1;32m      7\u001b[0m \u001b[0;34m\u001b[0m\u001b[0m\n",
      "\u001b[0;32m/Library/Frameworks/Python.framework/Versions/3.7/lib/python3.7/site-packages/pandas/core/frame.py\u001b[0m in \u001b[0;36mmelt\u001b[0;34m(self, id_vars, value_vars, var_name, value_name, col_level, ignore_index)\u001b[0m\n\u001b[1;32m   8344\u001b[0m             \u001b[0mvalue_name\u001b[0m\u001b[0;34m=\u001b[0m\u001b[0mvalue_name\u001b[0m\u001b[0;34m,\u001b[0m\u001b[0;34m\u001b[0m\u001b[0;34m\u001b[0m\u001b[0m\n\u001b[1;32m   8345\u001b[0m             \u001b[0mcol_level\u001b[0m\u001b[0;34m=\u001b[0m\u001b[0mcol_level\u001b[0m\u001b[0;34m,\u001b[0m\u001b[0;34m\u001b[0m\u001b[0;34m\u001b[0m\u001b[0m\n\u001b[0;32m-> 8346\u001b[0;31m             \u001b[0mignore_index\u001b[0m\u001b[0;34m=\u001b[0m\u001b[0mignore_index\u001b[0m\u001b[0;34m,\u001b[0m\u001b[0;34m\u001b[0m\u001b[0;34m\u001b[0m\u001b[0m\n\u001b[0m\u001b[1;32m   8347\u001b[0m         )\n\u001b[1;32m   8348\u001b[0m \u001b[0;34m\u001b[0m\u001b[0m\n",
      "\u001b[0;32m/Library/Frameworks/Python.framework/Versions/3.7/lib/python3.7/site-packages/pandas/core/reshape/melt.py\u001b[0m in \u001b[0;36mmelt\u001b[0;34m(frame, id_vars, value_vars, var_name, value_name, col_level, ignore_index)\u001b[0m\n\u001b[1;32m    100\u001b[0m             \u001b[0;32mif\u001b[0m \u001b[0;32mnot\u001b[0m \u001b[0mmissing\u001b[0m\u001b[0;34m.\u001b[0m\u001b[0mempty\u001b[0m\u001b[0;34m:\u001b[0m\u001b[0;34m\u001b[0m\u001b[0;34m\u001b[0m\u001b[0m\n\u001b[1;32m    101\u001b[0m                 raise KeyError(\n\u001b[0;32m--> 102\u001b[0;31m                     \u001b[0;34m\"The following 'value_vars' are not present in \"\u001b[0m\u001b[0;34m\u001b[0m\u001b[0;34m\u001b[0m\u001b[0m\n\u001b[0m\u001b[1;32m    103\u001b[0m                     \u001b[0;34mf\"the DataFrame: {list(missing)}\"\u001b[0m\u001b[0;34m\u001b[0m\u001b[0;34m\u001b[0m\u001b[0m\n\u001b[1;32m    104\u001b[0m                 )\n",
      "\u001b[0;31mKeyError\u001b[0m: \"The following 'value_vars' are not present in the DataFrame: ['area_classification', 'population', 'traffic_count']\""
     ]
    }
   ],
   "source": [
    "melted_data = reversed_data.melt(\n",
    "    id_vars=['cluster'],  # Keep clusters intact\n",
    "    value_vars=['area_classification', 'traffic_count', 'population', 'household_total_income'],  # Features to melt\n",
    "    var_name='Feature',   # New column for feature names\n",
    "    value_name='Value'    # New column for feature values\n",
    ")\n",
    "\n",
    "# Create the FacetGrid with independent y-scales\n",
    "g = sns.FacetGrid(\n",
    "    melted_data, \n",
    "    row='cluster', \n",
    "    col='Feature', \n",
    "    sharex=False, \n",
    "    sharey=False,  # Make y-scale independent\n",
    "    margin_titles=True, \n",
    "    height=2.5, \n",
    "    aspect=1.5\n",
    ")\n",
    "g.map(sns.histplot, 'Value', kde=True,bins=5)\n",
    "\n",
    "# Customize titles and layout\n",
    "g.set_axis_labels(\"Value\", \"Count\")\n",
    "g.set_titles(col_template=\"{col_name}\", row_template=\"Cluster: {row_name}\")\n",
    "g.tight_layout()\n",
    "plt.show()\n"
   ]
  },
  {
   "cell_type": "code",
   "execution_count": 48,
   "metadata": {},
   "outputs": [
    {
     "ename": "NameError",
     "evalue": "name 'melted_data' is not defined",
     "output_type": "error",
     "traceback": [
      "\u001b[0;31m---------------------------------------------------------------------------\u001b[0m",
      "\u001b[0;31mNameError\u001b[0m                                 Traceback (most recent call last)",
      "\u001b[0;32m/var/folders/lg/b8pw7x296y397cn0g302yt680000gp/T/ipykernel_82072/1201475078.py\u001b[0m in \u001b[0;36m<module>\u001b[0;34m\u001b[0m\n\u001b[1;32m      1\u001b[0m \u001b[0;32mfrom\u001b[0m \u001b[0mscipy\u001b[0m\u001b[0;34m.\u001b[0m\u001b[0mstats\u001b[0m \u001b[0;32mimport\u001b[0m \u001b[0mgaussian_kde\u001b[0m\u001b[0;34m\u001b[0m\u001b[0;34m\u001b[0m\u001b[0m\n\u001b[1;32m      2\u001b[0m fig = px.histogram(\n\u001b[0;32m----> 3\u001b[0;31m     \u001b[0mmelted_data\u001b[0m\u001b[0;34m,\u001b[0m\u001b[0;34m\u001b[0m\u001b[0;34m\u001b[0m\u001b[0m\n\u001b[0m\u001b[1;32m      4\u001b[0m     \u001b[0mx\u001b[0m\u001b[0;34m=\u001b[0m\u001b[0;34m'Value'\u001b[0m\u001b[0;34m,\u001b[0m\u001b[0;34m\u001b[0m\u001b[0;34m\u001b[0m\u001b[0m\n\u001b[1;32m      5\u001b[0m     \u001b[0mcolor\u001b[0m\u001b[0;34m=\u001b[0m\u001b[0;34m'cluster'\u001b[0m\u001b[0;34m,\u001b[0m\u001b[0;34m\u001b[0m\u001b[0;34m\u001b[0m\u001b[0m\n",
      "\u001b[0;31mNameError\u001b[0m: name 'melted_data' is not defined"
     ]
    }
   ],
   "source": [
    "from scipy.stats import gaussian_kde\n",
    "fig = px.histogram(\n",
    "    melted_data,\n",
    "    x='Value',\n",
    "    color='cluster',\n",
    "    facet_row='Feature',\n",
    "    nbins=30,\n",
    "    title=\"Histogram of Features by Cluster\",\n",
    "    category_orders={'Feature': ['area_classification', 'traffic_count', 'population', 'household_total_income']}\n",
    ")\n",
    "\n",
    "fig.for_each_annotation(lambda a: a.update(text=a.text.split(\"=\")[-1]))\n",
    "\n",
    "\n",
    "\n",
    "\n",
    "# Customize layout\n",
    "fig.update_layout(barmode='overlay', height=800)\n",
    "fig.update_yaxes(matches=None)\n",
    "fig.update_traces(opacity=0.55)\n",
    "\n",
    "fig.show()\n"
   ]
  },
  {
   "cell_type": "code",
   "execution_count": null,
   "metadata": {},
   "outputs": [],
   "source": []
  },
  {
   "cell_type": "code",
   "execution_count": null,
   "metadata": {},
   "outputs": [],
   "source": []
  },
  {
   "cell_type": "code",
   "execution_count": null,
   "metadata": {},
   "outputs": [],
   "source": []
  },
  {
   "cell_type": "code",
   "execution_count": null,
   "metadata": {},
   "outputs": [],
   "source": [
    "input_data['clusters']=labels\n"
   ]
  },
  {
   "cell_type": "code",
   "execution_count": 48,
   "metadata": {},
   "outputs": [
    {
     "data": {
      "text/plain": [
       "Index(['area_classification', 'traffic_count', 'population',\n",
       "       'household_total_income', 'clusters'],\n",
       "      dtype='object')"
      ]
     },
     "execution_count": 48,
     "metadata": {},
     "output_type": "execute_result"
    }
   ],
   "source": [
    "input_data.columns\n",
    "\n"
   ]
  },
  {
   "cell_type": "markdown",
   "metadata": {},
   "source": [
    "# revenue analysis\n"
   ]
  },
  {
   "cell_type": "code",
   "execution_count": 1,
   "metadata": {},
   "outputs": [
    {
     "data": {
      "text/html": [
       "<div>\n",
       "<style scoped>\n",
       "    .dataframe tbody tr th:only-of-type {\n",
       "        vertical-align: middle;\n",
       "    }\n",
       "\n",
       "    .dataframe tbody tr th {\n",
       "        vertical-align: top;\n",
       "    }\n",
       "\n",
       "    .dataframe thead th {\n",
       "        text-align: right;\n",
       "    }\n",
       "</style>\n",
       "<table border=\"1\" class=\"dataframe\">\n",
       "  <thead>\n",
       "    <tr style=\"text-align: right;\">\n",
       "      <th></th>\n",
       "      <th>StoreID</th>\n",
       "      <th>TransactionDate</th>\n",
       "      <th>TicketSeq</th>\n",
       "      <th>Channel</th>\n",
       "      <th>Category</th>\n",
       "      <th>ItemName</th>\n",
       "      <th>Quantity</th>\n",
       "      <th>BasePrice</th>\n",
       "      <th>NetSales</th>\n",
       "    </tr>\n",
       "  </thead>\n",
       "  <tbody>\n",
       "    <tr>\n",
       "      <th>0</th>\n",
       "      <td>FL032</td>\n",
       "      <td>1/1/2024 11:07:43 AM</td>\n",
       "      <td>255714</td>\n",
       "      <td>ItsACheckmate</td>\n",
       "      <td>Pizza</td>\n",
       "      <td>CYO</td>\n",
       "      <td>1.0</td>\n",
       "      <td>19.09</td>\n",
       "      <td>41.17</td>\n",
       "    </tr>\n",
       "    <tr>\n",
       "      <th>1</th>\n",
       "      <td>FL032</td>\n",
       "      <td>1/1/2024 11:07:43 AM</td>\n",
       "      <td>255714</td>\n",
       "      <td>ItsACheckmate</td>\n",
       "      <td>Pizza</td>\n",
       "      <td>CYO</td>\n",
       "      <td>1.0</td>\n",
       "      <td>19.09</td>\n",
       "      <td>41.17</td>\n",
       "    </tr>\n",
       "    <tr>\n",
       "      <th>2</th>\n",
       "      <td>FL032</td>\n",
       "      <td>1/1/2024 11:09:15 AM</td>\n",
       "      <td>255715</td>\n",
       "      <td></td>\n",
       "      <td>Pizza</td>\n",
       "      <td>CYO</td>\n",
       "      <td>1.0</td>\n",
       "      <td>16.49</td>\n",
       "      <td>20.98</td>\n",
       "    </tr>\n",
       "  </tbody>\n",
       "</table>\n",
       "</div>"
      ],
      "text/plain": [
       "      StoreID       TransactionDate  TicketSeq  \\\n",
       "0  FL032       1/1/2024 11:07:43 AM     255714   \n",
       "1  FL032       1/1/2024 11:07:43 AM     255714   \n",
       "2  FL032       1/1/2024 11:09:15 AM     255715   \n",
       "\n",
       "                                    Channel                        Category  \\\n",
       "0  ItsACheckmate                             Pizza                            \n",
       "1  ItsACheckmate                             Pizza                            \n",
       "2                                            Pizza                            \n",
       "\n",
       "                         ItemName  Quantity  BasePrice  NetSales  \n",
       "0  CYO                                  1.0      19.09     41.17  \n",
       "1  CYO                                  1.0      19.09     41.17  \n",
       "2  CYO                                  1.0      16.49     20.98  "
      ]
     },
     "execution_count": 1,
     "metadata": {},
     "output_type": "execute_result"
    }
   ],
   "source": [
    "\n",
    "import glob\n",
    "import os\n",
    "import pandas as pd\n",
    "\n",
    "# Define the folder path\n",
    "folder_path = \"../data/revenue_data/drive-download-20250312T064938Z-001/\"  \n",
    "\n",
    "# Get a list of all CSV files in the folder\n",
    "csv_files = glob.glob(os.path.join(folder_path, \"*.csv\"))\n",
    "\n",
    "# Read all CSV files and concatenate them into a single DataFrame\n",
    "df_list = [pd.read_csv(file) for file in csv_files]  # Read all files into DataFrames\n",
    "final_df = pd.concat(df_list, ignore_index=True)  # Concatenate into a single DataFrame\n",
    "final_df.head(3)\n"
   ]
  },
  {
   "cell_type": "code",
   "execution_count": 3,
   "metadata": {},
   "outputs": [
    {
     "data": {
      "text/html": [
       "<div>\n",
       "<style scoped>\n",
       "    .dataframe tbody tr th:only-of-type {\n",
       "        vertical-align: middle;\n",
       "    }\n",
       "\n",
       "    .dataframe tbody tr th {\n",
       "        vertical-align: top;\n",
       "    }\n",
       "\n",
       "    .dataframe thead th {\n",
       "        text-align: right;\n",
       "    }\n",
       "</style>\n",
       "<table border=\"1\" class=\"dataframe\">\n",
       "  <thead>\n",
       "    <tr style=\"text-align: right;\">\n",
       "      <th></th>\n",
       "      <th>*monday lobby</th>\n",
       "      <th>*tuesday lobby</th>\n",
       "      <th>*wednesday lobby</th>\n",
       "      <th>*thursday lobby</th>\n",
       "      <th>*friday lobby</th>\n",
       "      <th>*saturday lobby</th>\n",
       "      <th>*sunday lobby</th>\n",
       "      <th>text_to_order_url</th>\n",
       "      <th>text_to_order_note</th>\n",
       "      <th>*ordering_url</th>\n",
       "      <th>...</th>\n",
       "      <th>*zip_code</th>\n",
       "      <th>store_local_reference</th>\n",
       "      <th>*store_phone</th>\n",
       "      <th>companymanaged</th>\n",
       "      <th>dma</th>\n",
       "      <th>timezone</th>\n",
       "      <th>latitude</th>\n",
       "      <th>longitude</th>\n",
       "      <th>opendate</th>\n",
       "      <th>StoreID</th>\n",
       "    </tr>\n",
       "  </thead>\n",
       "  <tbody>\n",
       "    <tr>\n",
       "      <th>0</th>\n",
       "      <td>10:00:00-22:00:00</td>\n",
       "      <td>10:00:00-22:00:00</td>\n",
       "      <td>10:00:00-22:00:00</td>\n",
       "      <td>10:00:00-22:00:00</td>\n",
       "      <td>10:00:00-23:00:00</td>\n",
       "      <td>10:00:00-23:00:00</td>\n",
       "      <td>10:00:00-22:00:00</td>\n",
       "      <td>https://www.jetspizza.com/textorder/?jets_id=F...</td>\n",
       "      <td>Text your order to get 15% off menu-priced pizza</td>\n",
       "      <td>https://ordering.jetspizza.com/?uniqueStoreIde...</td>\n",
       "      <td>...</td>\n",
       "      <td>34698</td>\n",
       "      <td>NaN</td>\n",
       "      <td>7272101840</td>\n",
       "      <td>False</td>\n",
       "      <td>Tampa-St. Petersburg (Sarasota)</td>\n",
       "      <td>Eastern (UTC -5 / -4)</td>\n",
       "      <td>28.019467</td>\n",
       "      <td>-82.769442</td>\n",
       "      <td>12/20/2005</td>\n",
       "      <td>FL10</td>\n",
       "    </tr>\n",
       "    <tr>\n",
       "      <th>1</th>\n",
       "      <td>10:00:00-22:00:00</td>\n",
       "      <td>10:00:00-22:00:00</td>\n",
       "      <td>10:00:00-22:00:00</td>\n",
       "      <td>10:00:00-22:00:00</td>\n",
       "      <td>10:00:00-00:00:00</td>\n",
       "      <td>10:00:00-00:00:00</td>\n",
       "      <td>10:00:00-23:00:00</td>\n",
       "      <td>https://www.jetspizza.com/textorder/?jets_id=F...</td>\n",
       "      <td>Text your order to get 15% off menu-priced pizza</td>\n",
       "      <td>https://ordering.jetspizza.com/?uniqueStoreIde...</td>\n",
       "      <td>...</td>\n",
       "      <td>33765</td>\n",
       "      <td>NaN</td>\n",
       "      <td>7274414464</td>\n",
       "      <td>False</td>\n",
       "      <td>Tampa-St. Petersburg (Sarasota)</td>\n",
       "      <td>Eastern (UTC -5 / -4)</td>\n",
       "      <td>27.960481</td>\n",
       "      <td>-82.752473</td>\n",
       "      <td>11/3/2004</td>\n",
       "      <td>FL09</td>\n",
       "    </tr>\n",
       "  </tbody>\n",
       "</table>\n",
       "<p>2 rows × 30 columns</p>\n",
       "</div>"
      ],
      "text/plain": [
       "       *monday lobby     *tuesday lobby   *wednesday lobby    *thursday lobby  \\\n",
       "0  10:00:00-22:00:00  10:00:00-22:00:00  10:00:00-22:00:00  10:00:00-22:00:00   \n",
       "1  10:00:00-22:00:00  10:00:00-22:00:00  10:00:00-22:00:00  10:00:00-22:00:00   \n",
       "\n",
       "       *friday lobby    *saturday lobby      *sunday lobby  \\\n",
       "0  10:00:00-23:00:00  10:00:00-23:00:00  10:00:00-22:00:00   \n",
       "1  10:00:00-00:00:00  10:00:00-00:00:00  10:00:00-23:00:00   \n",
       "\n",
       "                                   text_to_order_url  \\\n",
       "0  https://www.jetspizza.com/textorder/?jets_id=F...   \n",
       "1  https://www.jetspizza.com/textorder/?jets_id=F...   \n",
       "\n",
       "                                 text_to_order_note  \\\n",
       "0  Text your order to get 15% off menu-priced pizza   \n",
       "1  Text your order to get 15% off menu-priced pizza   \n",
       "\n",
       "                                       *ordering_url  ... *zip_code  \\\n",
       "0  https://ordering.jetspizza.com/?uniqueStoreIde...  ...     34698   \n",
       "1  https://ordering.jetspizza.com/?uniqueStoreIde...  ...     33765   \n",
       "\n",
       "  store_local_reference *store_phone companymanaged  \\\n",
       "0                   NaN   7272101840          False   \n",
       "1                   NaN   7274414464          False   \n",
       "\n",
       "                               dma               timezone   latitude  \\\n",
       "0  Tampa-St. Petersburg (Sarasota)  Eastern (UTC -5 / -4)  28.019467   \n",
       "1  Tampa-St. Petersburg (Sarasota)  Eastern (UTC -5 / -4)  27.960481   \n",
       "\n",
       "   longitude    opendate StoreID  \n",
       "0 -82.769442  12/20/2005    FL10  \n",
       "1 -82.752473   11/3/2004    FL09  \n",
       "\n",
       "[2 rows x 30 columns]"
      ]
     },
     "execution_count": 3,
     "metadata": {},
     "output_type": "execute_result"
    }
   ],
   "source": [
    "florida=pd.read_csv('florida_store_details.csv')\n",
    "florida.head(2)\n"
   ]
  },
  {
   "cell_type": "code",
   "execution_count": 7,
   "metadata": {},
   "outputs": [],
   "source": [
    "final_df['StoreID']= final_df[\"StoreID\"].astype(str).str.strip()\n"
   ]
  },
  {
   "cell_type": "code",
   "execution_count": 8,
   "metadata": {},
   "outputs": [],
   "source": [
    "\n",
    "merged_df = pd.merge(final_df, florida, on='StoreID', how='left', indicator=True)\n"
   ]
  },
  {
   "cell_type": "code",
   "execution_count": 10,
   "metadata": {},
   "outputs": [
    {
     "data": {
      "text/plain": [
       "Index(['StoreID', 'TransactionDate', 'TicketSeq', 'Channel', 'Category',\n",
       "       'ItemName', 'Quantity', 'BasePrice', 'NetSales', '*monday lobby',\n",
       "       '*tuesday lobby', '*wednesday lobby', '*thursday lobby',\n",
       "       '*friday lobby', '*saturday lobby', '*sunday lobby',\n",
       "       'text_to_order_url', 'text_to_order_note', '*ordering_url', 'status',\n",
       "       'pro_order_url', 'pro_order_note', '*ordering_platform', 'possystem',\n",
       "       '*name', '*address_1', 'address_2', '*city', '*state', '*zip_code',\n",
       "       'store_local_reference', '*store_phone', 'companymanaged', 'dma',\n",
       "       'timezone', 'latitude', 'longitude', 'opendate', '_merge'],\n",
       "      dtype='object')"
      ]
     },
     "execution_count": 10,
     "metadata": {},
     "output_type": "execute_result"
    }
   ],
   "source": [
    "merged_df.columns\n"
   ]
  },
  {
   "cell_type": "code",
   "execution_count": 12,
   "metadata": {},
   "outputs": [
    {
     "data": {
      "text/plain": [
       "['both', 'left_only']\n",
       "Categories (3, object): ['left_only', 'right_only', 'both']"
      ]
     },
     "execution_count": 12,
     "metadata": {},
     "output_type": "execute_result"
    }
   ],
   "source": [
    "merged_df['_merge'].unique()\n"
   ]
  },
  {
   "cell_type": "code",
   "execution_count": 13,
   "metadata": {},
   "outputs": [
    {
     "data": {
      "text/plain": [
       "array(['FL032', 'FL33', 'FL-025', 'FL31', '12766', 'FL018', 'FL030',\n",
       "       'FL024', 'FL008', '12866', 'FL035', '13072', 'FL09', 'FL037',\n",
       "       'FL023', '16', 'FL045', 'FL044', 'FL046', 'FL-047', 'FL043',\n",
       "       'FL041', 'FL048', 'FL013', 'FL10', 'FL038', 'FL-039', 'FL05',\n",
       "       'FL029', 'FL15', 'FL016', 'FL17'], dtype=object)"
      ]
     },
     "execution_count": 13,
     "metadata": {},
     "output_type": "execute_result"
    }
   ],
   "source": [
    "final_df['StoreID'].unique()\n"
   ]
  },
  {
   "cell_type": "code",
   "execution_count": 15,
   "metadata": {},
   "outputs": [
    {
     "data": {
      "text/plain": [
       "31"
      ]
     },
     "execution_count": 15,
     "metadata": {},
     "output_type": "execute_result"
    }
   ],
   "source": [
    "\n",
    "merged_df[merged_df['_merge']=='both']['StoreID'].nunique()\n"
   ]
  },
  {
   "cell_type": "code",
   "execution_count": 16,
   "metadata": {},
   "outputs": [],
   "source": [
    "merged_df.to_csv('jets_rev_store_detail.csv',index=False)\n"
   ]
  },
  {
   "cell_type": "code",
   "execution_count": 132,
   "metadata": {},
   "outputs": [],
   "source": [
    "# codes={'FL10': 34698,\n",
    "#  'FL09': 33765,\n",
    "#  'FL05': 33334,\n",
    "#  'FL013': 34104,\n",
    "#  'FL014': 33547,\n",
    "#  'FL15': 33708,\n",
    "#  'FL016': 33928,\n",
    "#  'FL008': 34684,\n",
    "#  'FL17': 33803,\n",
    "#  'FL018': 33511,\n",
    "#  '12766': 32225,\n",
    "#  '12866': 32541,\n",
    "#  '13072': 33991,\n",
    "#  '16': 33907,\n",
    "#  'FL023': 34108,\n",
    "#  'FL024': 32703,\n",
    "#  'FL-025': 33903,\n",
    "#  'FL029': 33434,\n",
    "#  'FL030': 33065,\n",
    "#  'FL032': 33411,\n",
    "#  'FL33': 33060,\n",
    "#  'FL31': 33904,\n",
    "#  'FL035': 33618,\n",
    "#  'FL037': 33328,\n",
    "#  'FL038': 34134,\n",
    "#  'FL-039': 33954,\n",
    "#  'FL041': 33809,\n",
    "#  'FL043': 34119,\n",
    "#  'FL044': 32504,\n",
    "#  'FL045': 33770,\n",
    "#  'FL046': 34761,\n",
    "#  'FL047': 32257,\n",
    "#  'FL048': 32073}\n"
   ]
  },
  {
   "cell_type": "code",
   "execution_count": 124,
   "metadata": {},
   "outputs": [
    {
     "data": {
      "text/plain": [
       "array([33411., 33060., 33903., 33904., 32225., 33511., 33065., 32703.,\n",
       "       34684., 32541., 33618., 33991., 33765., 33328., 34108., 33907.,\n",
       "       33770., 32504., 34761.,    nan, 34119., 33809., 32073., 34104.,\n",
       "       34698., 34134., 33954., 33334., 33434., 33708., 33928., 33803.])"
      ]
     },
     "execution_count": 124,
     "metadata": {},
     "output_type": "execute_result"
    }
   ],
   "source": [
    "# final_df[\"StoreID\"] = final_df[\"StoreID\"].astype(str).str.strip()\n",
    "# final_df['zip_code']=final_df['StoreID'].map(codes)\n",
    "# final_df['zip_code'].unique()\n"
   ]
  },
  {
   "cell_type": "code",
   "execution_count": 127,
   "metadata": {},
   "outputs": [
    {
     "data": {
      "text/plain": [
       "32"
      ]
     },
     "execution_count": 127,
     "metadata": {},
     "output_type": "execute_result"
    }
   ],
   "source": [
    "# final_df['StoreID'].nunique()\n"
   ]
  },
  {
   "cell_type": "code",
   "execution_count": 128,
   "metadata": {},
   "outputs": [
    {
     "data": {
      "text/plain": [
       "31"
      ]
     },
     "execution_count": 128,
     "metadata": {},
     "output_type": "execute_result"
    }
   ],
   "source": [
    "# final_df['zip_code'].nunique()\n"
   ]
  },
  {
   "cell_type": "code",
   "execution_count": 116,
   "metadata": {},
   "outputs": [
    {
     "data": {
      "text/html": [
       "<div>\n",
       "<style scoped>\n",
       "    .dataframe tbody tr th:only-of-type {\n",
       "        vertical-align: middle;\n",
       "    }\n",
       "\n",
       "    .dataframe tbody tr th {\n",
       "        vertical-align: top;\n",
       "    }\n",
       "\n",
       "    .dataframe thead th {\n",
       "        text-align: right;\n",
       "    }\n",
       "</style>\n",
       "<table border=\"1\" class=\"dataframe\">\n",
       "  <thead>\n",
       "    <tr style=\"text-align: right;\">\n",
       "      <th></th>\n",
       "      <th>StoreID</th>\n",
       "      <th>zip_code</th>\n",
       "      <th>NetSales</th>\n",
       "    </tr>\n",
       "  </thead>\n",
       "  <tbody>\n",
       "    <tr>\n",
       "      <th>0</th>\n",
       "      <td>12766</td>\n",
       "      <td>32225.0</td>\n",
       "      <td>3.597627e+06</td>\n",
       "    </tr>\n",
       "    <tr>\n",
       "      <th>1</th>\n",
       "      <td>12866</td>\n",
       "      <td>32541.0</td>\n",
       "      <td>2.905546e+06</td>\n",
       "    </tr>\n",
       "    <tr>\n",
       "      <th>2</th>\n",
       "      <td>13072</td>\n",
       "      <td>33991.0</td>\n",
       "      <td>4.797419e+06</td>\n",
       "    </tr>\n",
       "    <tr>\n",
       "      <th>3</th>\n",
       "      <td>16</td>\n",
       "      <td>33907.0</td>\n",
       "      <td>6.410395e+06</td>\n",
       "    </tr>\n",
       "    <tr>\n",
       "      <th>4</th>\n",
       "      <td>FL-025</td>\n",
       "      <td>33903.0</td>\n",
       "      <td>5.840163e+06</td>\n",
       "    </tr>\n",
       "    <tr>\n",
       "      <th>5</th>\n",
       "      <td>FL-039</td>\n",
       "      <td>33954.0</td>\n",
       "      <td>3.358276e+06</td>\n",
       "    </tr>\n",
       "    <tr>\n",
       "      <th>6</th>\n",
       "      <td>FL008</td>\n",
       "      <td>34684.0</td>\n",
       "      <td>4.192949e+06</td>\n",
       "    </tr>\n",
       "    <tr>\n",
       "      <th>7</th>\n",
       "      <td>FL013</td>\n",
       "      <td>34104.0</td>\n",
       "      <td>5.054688e+06</td>\n",
       "    </tr>\n",
       "    <tr>\n",
       "      <th>8</th>\n",
       "      <td>FL016</td>\n",
       "      <td>33928.0</td>\n",
       "      <td>5.252443e+06</td>\n",
       "    </tr>\n",
       "    <tr>\n",
       "      <th>9</th>\n",
       "      <td>FL018</td>\n",
       "      <td>33511.0</td>\n",
       "      <td>3.061104e+06</td>\n",
       "    </tr>\n",
       "    <tr>\n",
       "      <th>10</th>\n",
       "      <td>FL023</td>\n",
       "      <td>34108.0</td>\n",
       "      <td>2.843708e+06</td>\n",
       "    </tr>\n",
       "    <tr>\n",
       "      <th>11</th>\n",
       "      <td>FL024</td>\n",
       "      <td>32703.0</td>\n",
       "      <td>3.665331e+06</td>\n",
       "    </tr>\n",
       "    <tr>\n",
       "      <th>12</th>\n",
       "      <td>FL029</td>\n",
       "      <td>33434.0</td>\n",
       "      <td>1.808464e+08</td>\n",
       "    </tr>\n",
       "    <tr>\n",
       "      <th>13</th>\n",
       "      <td>FL030</td>\n",
       "      <td>33065.0</td>\n",
       "      <td>2.996155e+06</td>\n",
       "    </tr>\n",
       "    <tr>\n",
       "      <th>14</th>\n",
       "      <td>FL032</td>\n",
       "      <td>33411.0</td>\n",
       "      <td>2.352438e+06</td>\n",
       "    </tr>\n",
       "    <tr>\n",
       "      <th>15</th>\n",
       "      <td>FL035</td>\n",
       "      <td>33618.0</td>\n",
       "      <td>5.430319e+06</td>\n",
       "    </tr>\n",
       "    <tr>\n",
       "      <th>16</th>\n",
       "      <td>FL037</td>\n",
       "      <td>33328.0</td>\n",
       "      <td>3.250554e+06</td>\n",
       "    </tr>\n",
       "    <tr>\n",
       "      <th>17</th>\n",
       "      <td>FL038</td>\n",
       "      <td>34134.0</td>\n",
       "      <td>3.218371e+06</td>\n",
       "    </tr>\n",
       "    <tr>\n",
       "      <th>18</th>\n",
       "      <td>FL041</td>\n",
       "      <td>33809.0</td>\n",
       "      <td>4.287110e+06</td>\n",
       "    </tr>\n",
       "    <tr>\n",
       "      <th>19</th>\n",
       "      <td>FL043</td>\n",
       "      <td>34119.0</td>\n",
       "      <td>7.161921e+07</td>\n",
       "    </tr>\n",
       "    <tr>\n",
       "      <th>20</th>\n",
       "      <td>FL044</td>\n",
       "      <td>32504.0</td>\n",
       "      <td>4.456252e+06</td>\n",
       "    </tr>\n",
       "    <tr>\n",
       "      <th>21</th>\n",
       "      <td>FL045</td>\n",
       "      <td>33770.0</td>\n",
       "      <td>3.019072e+06</td>\n",
       "    </tr>\n",
       "    <tr>\n",
       "      <th>22</th>\n",
       "      <td>FL046</td>\n",
       "      <td>34761.0</td>\n",
       "      <td>4.293580e+06</td>\n",
       "    </tr>\n",
       "    <tr>\n",
       "      <th>23</th>\n",
       "      <td>FL048</td>\n",
       "      <td>32073.0</td>\n",
       "      <td>2.529361e+06</td>\n",
       "    </tr>\n",
       "    <tr>\n",
       "      <th>24</th>\n",
       "      <td>FL05</td>\n",
       "      <td>33334.0</td>\n",
       "      <td>8.528030e+06</td>\n",
       "    </tr>\n",
       "    <tr>\n",
       "      <th>25</th>\n",
       "      <td>FL09</td>\n",
       "      <td>33765.0</td>\n",
       "      <td>4.374395e+06</td>\n",
       "    </tr>\n",
       "    <tr>\n",
       "      <th>26</th>\n",
       "      <td>FL10</td>\n",
       "      <td>34698.0</td>\n",
       "      <td>3.862756e+06</td>\n",
       "    </tr>\n",
       "    <tr>\n",
       "      <th>27</th>\n",
       "      <td>FL15</td>\n",
       "      <td>33708.0</td>\n",
       "      <td>3.719141e+06</td>\n",
       "    </tr>\n",
       "    <tr>\n",
       "      <th>28</th>\n",
       "      <td>FL17</td>\n",
       "      <td>33803.0</td>\n",
       "      <td>9.106578e+06</td>\n",
       "    </tr>\n",
       "    <tr>\n",
       "      <th>29</th>\n",
       "      <td>FL31</td>\n",
       "      <td>33904.0</td>\n",
       "      <td>4.153188e+06</td>\n",
       "    </tr>\n",
       "    <tr>\n",
       "      <th>30</th>\n",
       "      <td>FL33</td>\n",
       "      <td>33060.0</td>\n",
       "      <td>8.313091e+07</td>\n",
       "    </tr>\n",
       "  </tbody>\n",
       "</table>\n",
       "</div>"
      ],
      "text/plain": [
       "   StoreID  zip_code      NetSales\n",
       "0    12766   32225.0  3.597627e+06\n",
       "1    12866   32541.0  2.905546e+06\n",
       "2    13072   33991.0  4.797419e+06\n",
       "3       16   33907.0  6.410395e+06\n",
       "4   FL-025   33903.0  5.840163e+06\n",
       "5   FL-039   33954.0  3.358276e+06\n",
       "6    FL008   34684.0  4.192949e+06\n",
       "7    FL013   34104.0  5.054688e+06\n",
       "8    FL016   33928.0  5.252443e+06\n",
       "9    FL018   33511.0  3.061104e+06\n",
       "10   FL023   34108.0  2.843708e+06\n",
       "11   FL024   32703.0  3.665331e+06\n",
       "12   FL029   33434.0  1.808464e+08\n",
       "13   FL030   33065.0  2.996155e+06\n",
       "14   FL032   33411.0  2.352438e+06\n",
       "15   FL035   33618.0  5.430319e+06\n",
       "16   FL037   33328.0  3.250554e+06\n",
       "17   FL038   34134.0  3.218371e+06\n",
       "18   FL041   33809.0  4.287110e+06\n",
       "19   FL043   34119.0  7.161921e+07\n",
       "20   FL044   32504.0  4.456252e+06\n",
       "21   FL045   33770.0  3.019072e+06\n",
       "22   FL046   34761.0  4.293580e+06\n",
       "23   FL048   32073.0  2.529361e+06\n",
       "24    FL05   33334.0  8.528030e+06\n",
       "25    FL09   33765.0  4.374395e+06\n",
       "26    FL10   34698.0  3.862756e+06\n",
       "27    FL15   33708.0  3.719141e+06\n",
       "28    FL17   33803.0  9.106578e+06\n",
       "29    FL31   33904.0  4.153188e+06\n",
       "30    FL33   33060.0  8.313091e+07"
      ]
     },
     "execution_count": 116,
     "metadata": {},
     "output_type": "execute_result"
    }
   ],
   "source": [
    "# Calculate Gross Revenue\n",
    "final_df[\"GrossRevenue\"] = final_df[\"Quantity\"] * final_df[\"BasePrice\"]\n",
    "\n",
    "# Summarize Revenue per Item\n",
    "store_revenue = final_df.groupby(['StoreID','zip_code'])[['NetSales']].sum().reset_index()\n",
    "\n",
    "store_revenue\n"
   ]
  },
  {
   "cell_type": "code",
   "execution_count": 121,
   "metadata": {},
   "outputs": [
    {
     "data": {
      "text/html": [
       "<div>\n",
       "<style scoped>\n",
       "    .dataframe tbody tr th:only-of-type {\n",
       "        vertical-align: middle;\n",
       "    }\n",
       "\n",
       "    .dataframe tbody tr th {\n",
       "        vertical-align: top;\n",
       "    }\n",
       "\n",
       "    .dataframe thead th {\n",
       "        text-align: right;\n",
       "    }\n",
       "</style>\n",
       "<table border=\"1\" class=\"dataframe\">\n",
       "  <thead>\n",
       "    <tr style=\"text-align: right;\">\n",
       "      <th></th>\n",
       "      <th>StoreID</th>\n",
       "      <th>TransactionDate</th>\n",
       "      <th>TicketSeq</th>\n",
       "      <th>Channel</th>\n",
       "      <th>Category</th>\n",
       "      <th>ItemName</th>\n",
       "      <th>Quantity</th>\n",
       "      <th>BasePrice</th>\n",
       "      <th>NetSales</th>\n",
       "      <th>GrossRevenue</th>\n",
       "      <th>zip_code</th>\n",
       "    </tr>\n",
       "  </thead>\n",
       "  <tbody>\n",
       "    <tr>\n",
       "      <th>0</th>\n",
       "      <td>FL032</td>\n",
       "      <td>1/1/2024 11:07:43 AM</td>\n",
       "      <td>255714</td>\n",
       "      <td>ItsACheckmate</td>\n",
       "      <td>Pizza</td>\n",
       "      <td>CYO</td>\n",
       "      <td>1.0</td>\n",
       "      <td>19.09</td>\n",
       "      <td>41.17</td>\n",
       "      <td>19.09</td>\n",
       "      <td>33411.0</td>\n",
       "    </tr>\n",
       "    <tr>\n",
       "      <th>1</th>\n",
       "      <td>FL032</td>\n",
       "      <td>1/1/2024 11:07:43 AM</td>\n",
       "      <td>255714</td>\n",
       "      <td>ItsACheckmate</td>\n",
       "      <td>Pizza</td>\n",
       "      <td>CYO</td>\n",
       "      <td>1.0</td>\n",
       "      <td>19.09</td>\n",
       "      <td>41.17</td>\n",
       "      <td>19.09</td>\n",
       "      <td>33411.0</td>\n",
       "    </tr>\n",
       "    <tr>\n",
       "      <th>2</th>\n",
       "      <td>FL032</td>\n",
       "      <td>1/1/2024 11:09:15 AM</td>\n",
       "      <td>255715</td>\n",
       "      <td></td>\n",
       "      <td>Pizza</td>\n",
       "      <td>CYO</td>\n",
       "      <td>1.0</td>\n",
       "      <td>16.49</td>\n",
       "      <td>20.98</td>\n",
       "      <td>16.49</td>\n",
       "      <td>33411.0</td>\n",
       "    </tr>\n",
       "    <tr>\n",
       "      <th>3</th>\n",
       "      <td>FL032</td>\n",
       "      <td>1/1/2024 11:09:15 AM</td>\n",
       "      <td>255715</td>\n",
       "      <td></td>\n",
       "      <td>Jet's Bread</td>\n",
       "      <td>Deep Dish Bread</td>\n",
       "      <td>1.0</td>\n",
       "      <td>8.99</td>\n",
       "      <td>20.98</td>\n",
       "      <td>8.99</td>\n",
       "      <td>33411.0</td>\n",
       "    </tr>\n",
       "    <tr>\n",
       "      <th>4</th>\n",
       "      <td>FL032</td>\n",
       "      <td>1/1/2024 11:29:00 AM</td>\n",
       "      <td>255716</td>\n",
       "      <td>Speed Dine</td>\n",
       "      <td>Jet's Bread</td>\n",
       "      <td>Deep Dish Bread</td>\n",
       "      <td>1.0</td>\n",
       "      <td>8.99</td>\n",
       "      <td>16.98</td>\n",
       "      <td>8.99</td>\n",
       "      <td>33411.0</td>\n",
       "    </tr>\n",
       "    <tr>\n",
       "      <th>...</th>\n",
       "      <td>...</td>\n",
       "      <td>...</td>\n",
       "      <td>...</td>\n",
       "      <td>...</td>\n",
       "      <td>...</td>\n",
       "      <td>...</td>\n",
       "      <td>...</td>\n",
       "      <td>...</td>\n",
       "      <td>...</td>\n",
       "      <td>...</td>\n",
       "      <td>...</td>\n",
       "    </tr>\n",
       "    <tr>\n",
       "      <th>3079000</th>\n",
       "      <td>FL17</td>\n",
       "      <td>12/31/2024 9:27:25 PM</td>\n",
       "      <td>485230</td>\n",
       "      <td></td>\n",
       "      <td>Beverage</td>\n",
       "      <td>Dr. Pepper</td>\n",
       "      <td>1.0</td>\n",
       "      <td>1.99</td>\n",
       "      <td>8.49</td>\n",
       "      <td>1.99</td>\n",
       "      <td>33803.0</td>\n",
       "    </tr>\n",
       "    <tr>\n",
       "      <th>3079001</th>\n",
       "      <td>FL17</td>\n",
       "      <td>12/31/2024 9:27:25 PM</td>\n",
       "      <td>485230</td>\n",
       "      <td></td>\n",
       "      <td>Sides</td>\n",
       "      <td>Ranch Dip</td>\n",
       "      <td>1.0</td>\n",
       "      <td>1.00</td>\n",
       "      <td>8.49</td>\n",
       "      <td>1.00</td>\n",
       "      <td>33803.0</td>\n",
       "    </tr>\n",
       "    <tr>\n",
       "      <th>3079002</th>\n",
       "      <td>FL17</td>\n",
       "      <td>12/31/2024 9:30:54 PM</td>\n",
       "      <td>485231</td>\n",
       "      <td></td>\n",
       "      <td>Pizza</td>\n",
       "      <td>CYO</td>\n",
       "      <td>1.0</td>\n",
       "      <td>16.49</td>\n",
       "      <td>15.99</td>\n",
       "      <td>16.49</td>\n",
       "      <td>33803.0</td>\n",
       "    </tr>\n",
       "    <tr>\n",
       "      <th>3079003</th>\n",
       "      <td>FL17</td>\n",
       "      <td>12/31/2024 9:45:18 PM</td>\n",
       "      <td>485232</td>\n",
       "      <td></td>\n",
       "      <td>Pizza</td>\n",
       "      <td>CYO</td>\n",
       "      <td>1.0</td>\n",
       "      <td>16.49</td>\n",
       "      <td>31.98</td>\n",
       "      <td>16.49</td>\n",
       "      <td>33803.0</td>\n",
       "    </tr>\n",
       "    <tr>\n",
       "      <th>3079004</th>\n",
       "      <td>FL17</td>\n",
       "      <td>12/31/2024 9:45:18 PM</td>\n",
       "      <td>485232</td>\n",
       "      <td></td>\n",
       "      <td>Pizza</td>\n",
       "      <td>CYO</td>\n",
       "      <td>1.0</td>\n",
       "      <td>16.49</td>\n",
       "      <td>31.98</td>\n",
       "      <td>16.49</td>\n",
       "      <td>33803.0</td>\n",
       "    </tr>\n",
       "  </tbody>\n",
       "</table>\n",
       "<p>3079005 rows × 11 columns</p>\n",
       "</div>"
      ],
      "text/plain": [
       "        StoreID        TransactionDate  TicketSeq  \\\n",
       "0         FL032   1/1/2024 11:07:43 AM     255714   \n",
       "1         FL032   1/1/2024 11:07:43 AM     255714   \n",
       "2         FL032   1/1/2024 11:09:15 AM     255715   \n",
       "3         FL032   1/1/2024 11:09:15 AM     255715   \n",
       "4         FL032   1/1/2024 11:29:00 AM     255716   \n",
       "...         ...                    ...        ...   \n",
       "3079000    FL17  12/31/2024 9:27:25 PM     485230   \n",
       "3079001    FL17  12/31/2024 9:27:25 PM     485230   \n",
       "3079002    FL17  12/31/2024 9:30:54 PM     485231   \n",
       "3079003    FL17  12/31/2024 9:45:18 PM     485232   \n",
       "3079004    FL17  12/31/2024 9:45:18 PM     485232   \n",
       "\n",
       "                                          Channel  \\\n",
       "0        ItsACheckmate                              \n",
       "1        ItsACheckmate                              \n",
       "2                                                   \n",
       "3                                                   \n",
       "4        Speed Dine                                 \n",
       "...                                           ...   \n",
       "3079000                                             \n",
       "3079001                                             \n",
       "3079002                                             \n",
       "3079003                                             \n",
       "3079004                                             \n",
       "\n",
       "                               Category                        ItemName  \\\n",
       "0        Pizza                           CYO                              \n",
       "1        Pizza                           CYO                              \n",
       "2        Pizza                           CYO                              \n",
       "3        Jet's Bread                     Deep Dish Bread                  \n",
       "4        Jet's Bread                     Deep Dish Bread                  \n",
       "...                                 ...                             ...   \n",
       "3079000  Beverage                        Dr. Pepper                       \n",
       "3079001  Sides                           Ranch Dip                        \n",
       "3079002  Pizza                           CYO                              \n",
       "3079003  Pizza                           CYO                              \n",
       "3079004  Pizza                           CYO                              \n",
       "\n",
       "         Quantity  BasePrice  NetSales  GrossRevenue  zip_code  \n",
       "0             1.0      19.09     41.17         19.09   33411.0  \n",
       "1             1.0      19.09     41.17         19.09   33411.0  \n",
       "2             1.0      16.49     20.98         16.49   33411.0  \n",
       "3             1.0       8.99     20.98          8.99   33411.0  \n",
       "4             1.0       8.99     16.98          8.99   33411.0  \n",
       "...           ...        ...       ...           ...       ...  \n",
       "3079000       1.0       1.99      8.49          1.99   33803.0  \n",
       "3079001       1.0       1.00      8.49          1.00   33803.0  \n",
       "3079002       1.0      16.49     15.99         16.49   33803.0  \n",
       "3079003       1.0      16.49     31.98         16.49   33803.0  \n",
       "3079004       1.0      16.49     31.98         16.49   33803.0  \n",
       "\n",
       "[3079005 rows x 11 columns]"
      ]
     },
     "execution_count": 121,
     "metadata": {},
     "output_type": "execute_result"
    }
   ],
   "source": [
    "final_df\n"
   ]
  },
  {
   "cell_type": "code",
   "execution_count": 97,
   "metadata": {},
   "outputs": [
    {
     "data": {
      "text/plain": [
       "Index(['StoreID', 'TransactionDate', 'TicketSeq', 'Channel', 'Category',\n",
       "       'ItemName', 'Quantity', 'BasePrice', 'NetSales', 'GrossRevenue',\n",
       "       'zip_code'],\n",
       "      dtype='object')"
      ]
     },
     "execution_count": 97,
     "metadata": {},
     "output_type": "execute_result"
    }
   ],
   "source": [
    "final_df.columns\n"
   ]
  },
  {
   "cell_type": "code",
   "execution_count": 112,
   "metadata": {},
   "outputs": [
    {
     "data": {
      "text/plain": [
       "(38, 5)"
      ]
     },
     "execution_count": 112,
     "metadata": {},
     "output_type": "execute_result"
    }
   ],
   "source": []
  },
  {
   "cell_type": "code",
   "execution_count": null,
   "metadata": {},
   "outputs": [
    {
     "data": {
      "text/html": [
       "<div>\n",
       "<style scoped>\n",
       "    .dataframe tbody tr th:only-of-type {\n",
       "        vertical-align: middle;\n",
       "    }\n",
       "\n",
       "    .dataframe tbody tr th {\n",
       "        vertical-align: top;\n",
       "    }\n",
       "\n",
       "    .dataframe thead th {\n",
       "        text-align: right;\n",
       "    }\n",
       "</style>\n",
       "<table border=\"1\" class=\"dataframe\">\n",
       "  <thead>\n",
       "    <tr style=\"text-align: right;\">\n",
       "      <th></th>\n",
       "      <th>zip_code</th>\n",
       "      <th>area_classification</th>\n",
       "      <th>traffic_count</th>\n",
       "      <th>population</th>\n",
       "      <th>household_total_income</th>\n",
       "      <th>clusters</th>\n",
       "    </tr>\n",
       "  </thead>\n",
       "  <tbody>\n",
       "    <tr>\n",
       "      <th>0</th>\n",
       "      <td>34698</td>\n",
       "      <td>2</td>\n",
       "      <td>32500.0</td>\n",
       "      <td>38010</td>\n",
       "      <td>18161</td>\n",
       "      <td>0</td>\n",
       "    </tr>\n",
       "    <tr>\n",
       "      <th>1</th>\n",
       "      <td>33765</td>\n",
       "      <td>2</td>\n",
       "      <td>49000.0</td>\n",
       "      <td>13844</td>\n",
       "      <td>6126</td>\n",
       "      <td>0</td>\n",
       "    </tr>\n",
       "    <tr>\n",
       "      <th>2</th>\n",
       "      <td>33334</td>\n",
       "      <td>2</td>\n",
       "      <td>35000.0</td>\n",
       "      <td>30138</td>\n",
       "      <td>12905</td>\n",
       "      <td>0</td>\n",
       "    </tr>\n",
       "    <tr>\n",
       "      <th>3</th>\n",
       "      <td>34104</td>\n",
       "      <td>1</td>\n",
       "      <td>38500.0</td>\n",
       "      <td>25485</td>\n",
       "      <td>11521</td>\n",
       "      <td>1</td>\n",
       "    </tr>\n",
       "    <tr>\n",
       "      <th>4</th>\n",
       "      <td>33547</td>\n",
       "      <td>1</td>\n",
       "      <td>31500.0</td>\n",
       "      <td>30935</td>\n",
       "      <td>9571</td>\n",
       "      <td>1</td>\n",
       "    </tr>\n",
       "  </tbody>\n",
       "</table>\n",
       "</div>"
      ],
      "text/plain": [
       "   zip_code area_classification  traffic_count  population  \\\n",
       "0     34698                   2        32500.0       38010   \n",
       "1     33765                   2        49000.0       13844   \n",
       "2     33334                   2        35000.0       30138   \n",
       "3     34104                   1        38500.0       25485   \n",
       "4     33547                   1        31500.0       30935   \n",
       "\n",
       "   household_total_income  clusters  \n",
       "0                   18161         0  \n",
       "1                    6126         0  \n",
       "2                   12905         0  \n",
       "3                   11521         1  \n",
       "4                    9571         1  "
      ]
     },
     "execution_count": 114,
     "metadata": {},
     "output_type": "execute_result"
    }
   ],
   "source": [
    "input_data['clusters']=labels\n",
    "input_data.head()\n"
   ]
  },
  {
   "cell_type": "code",
   "execution_count": 40,
   "metadata": {},
   "outputs": [
    {
     "data": {
      "text/plain": [
       "Index(['StoreID', 'TransactionDate', 'TicketSeq', 'Channel', 'Category',\n",
       "       'ItemName', 'Quantity', 'BasePrice', 'NetSales'],\n",
       "      dtype='object')"
      ]
     },
     "execution_count": 40,
     "metadata": {},
     "output_type": "execute_result"
    }
   ],
   "source": [
    "final_df.columns\n"
   ]
  },
  {
   "cell_type": "code",
   "execution_count": 39,
   "metadata": {},
   "outputs": [
    {
     "ename": "KeyError",
     "evalue": "'zip_code'",
     "output_type": "error",
     "traceback": [
      "\u001b[0;31m---------------------------------------------------------------------------\u001b[0m",
      "\u001b[0;31mKeyError\u001b[0m                                  Traceback (most recent call last)",
      "\u001b[0;32m/var/folders/lg/b8pw7x296y397cn0g302yt680000gp/T/ipykernel_55259/2439652324.py\u001b[0m in \u001b[0;36m<module>\u001b[0;34m\u001b[0m\n\u001b[0;32m----> 1\u001b[0;31m \u001b[0mcombined_df\u001b[0m \u001b[0;34m=\u001b[0m \u001b[0mpd\u001b[0m\u001b[0;34m.\u001b[0m\u001b[0mmerge\u001b[0m\u001b[0;34m(\u001b[0m\u001b[0mfinal_df\u001b[0m\u001b[0;34m,\u001b[0m \u001b[0minput_data\u001b[0m\u001b[0;34m,\u001b[0m \u001b[0mon\u001b[0m\u001b[0;34m=\u001b[0m\u001b[0;34m\"zip_code\"\u001b[0m\u001b[0;34m,\u001b[0m \u001b[0mhow\u001b[0m\u001b[0;34m=\u001b[0m\u001b[0;34m\"left\"\u001b[0m\u001b[0;34m)\u001b[0m\u001b[0;34m\u001b[0m\u001b[0;34m\u001b[0m\u001b[0m\n\u001b[0m\u001b[1;32m      2\u001b[0m \u001b[0mcombined_df\u001b[0m\u001b[0;34m\u001b[0m\u001b[0;34m\u001b[0m\u001b[0m\n",
      "\u001b[0;32m/Library/Frameworks/Python.framework/Versions/3.7/lib/python3.7/site-packages/pandas/core/reshape/merge.py\u001b[0m in \u001b[0;36mmerge\u001b[0;34m(left, right, how, on, left_on, right_on, left_index, right_index, sort, suffixes, copy, indicator, validate)\u001b[0m\n\u001b[1;32m    117\u001b[0m         \u001b[0mcopy\u001b[0m\u001b[0;34m=\u001b[0m\u001b[0mcopy\u001b[0m\u001b[0;34m,\u001b[0m\u001b[0;34m\u001b[0m\u001b[0;34m\u001b[0m\u001b[0m\n\u001b[1;32m    118\u001b[0m         \u001b[0mindicator\u001b[0m\u001b[0;34m=\u001b[0m\u001b[0mindicator\u001b[0m\u001b[0;34m,\u001b[0m\u001b[0;34m\u001b[0m\u001b[0;34m\u001b[0m\u001b[0m\n\u001b[0;32m--> 119\u001b[0;31m         \u001b[0mvalidate\u001b[0m\u001b[0;34m=\u001b[0m\u001b[0mvalidate\u001b[0m\u001b[0;34m,\u001b[0m\u001b[0;34m\u001b[0m\u001b[0;34m\u001b[0m\u001b[0m\n\u001b[0m\u001b[1;32m    120\u001b[0m     )\n\u001b[1;32m    121\u001b[0m     \u001b[0;32mreturn\u001b[0m \u001b[0mop\u001b[0m\u001b[0;34m.\u001b[0m\u001b[0mget_result\u001b[0m\u001b[0;34m(\u001b[0m\u001b[0;34m)\u001b[0m\u001b[0;34m\u001b[0m\u001b[0;34m\u001b[0m\u001b[0m\n",
      "\u001b[0;32m/Library/Frameworks/Python.framework/Versions/3.7/lib/python3.7/site-packages/pandas/core/reshape/merge.py\u001b[0m in \u001b[0;36m__init__\u001b[0;34m(self, left, right, how, on, left_on, right_on, axis, left_index, right_index, sort, suffixes, copy, indicator, validate)\u001b[0m\n\u001b[1;32m    697\u001b[0m             \u001b[0mself\u001b[0m\u001b[0;34m.\u001b[0m\u001b[0mright_join_keys\u001b[0m\u001b[0;34m,\u001b[0m\u001b[0;34m\u001b[0m\u001b[0;34m\u001b[0m\u001b[0m\n\u001b[1;32m    698\u001b[0m             \u001b[0mself\u001b[0m\u001b[0;34m.\u001b[0m\u001b[0mjoin_names\u001b[0m\u001b[0;34m,\u001b[0m\u001b[0;34m\u001b[0m\u001b[0;34m\u001b[0m\u001b[0m\n\u001b[0;32m--> 699\u001b[0;31m         ) = self._get_merge_keys()\n\u001b[0m\u001b[1;32m    700\u001b[0m \u001b[0;34m\u001b[0m\u001b[0m\n\u001b[1;32m    701\u001b[0m         \u001b[0;31m# validate the merge keys dtypes. We may need to coerce\u001b[0m\u001b[0;34m\u001b[0m\u001b[0;34m\u001b[0m\u001b[0;34m\u001b[0m\u001b[0m\n",
      "\u001b[0;32m/Library/Frameworks/Python.framework/Versions/3.7/lib/python3.7/site-packages/pandas/core/reshape/merge.py\u001b[0m in \u001b[0;36m_get_merge_keys\u001b[0;34m(self)\u001b[0m\n\u001b[1;32m   1107\u001b[0m                         \u001b[0mright_keys\u001b[0m\u001b[0;34m.\u001b[0m\u001b[0mappend\u001b[0m\u001b[0;34m(\u001b[0m\u001b[0mrk\u001b[0m\u001b[0;34m)\u001b[0m\u001b[0;34m\u001b[0m\u001b[0;34m\u001b[0m\u001b[0m\n\u001b[1;32m   1108\u001b[0m                     \u001b[0;32mif\u001b[0m \u001b[0mlk\u001b[0m \u001b[0;32mis\u001b[0m \u001b[0;32mnot\u001b[0m \u001b[0;32mNone\u001b[0m\u001b[0;34m:\u001b[0m\u001b[0;34m\u001b[0m\u001b[0;34m\u001b[0m\u001b[0m\n\u001b[0;32m-> 1109\u001b[0;31m                         \u001b[0mleft_keys\u001b[0m\u001b[0;34m.\u001b[0m\u001b[0mappend\u001b[0m\u001b[0;34m(\u001b[0m\u001b[0mleft\u001b[0m\u001b[0;34m.\u001b[0m\u001b[0m_get_label_or_level_values\u001b[0m\u001b[0;34m(\u001b[0m\u001b[0mlk\u001b[0m\u001b[0;34m)\u001b[0m\u001b[0;34m)\u001b[0m\u001b[0;34m\u001b[0m\u001b[0;34m\u001b[0m\u001b[0m\n\u001b[0m\u001b[1;32m   1110\u001b[0m                         \u001b[0mjoin_names\u001b[0m\u001b[0;34m.\u001b[0m\u001b[0mappend\u001b[0m\u001b[0;34m(\u001b[0m\u001b[0mlk\u001b[0m\u001b[0;34m)\u001b[0m\u001b[0;34m\u001b[0m\u001b[0;34m\u001b[0m\u001b[0m\n\u001b[1;32m   1111\u001b[0m                     \u001b[0;32melse\u001b[0m\u001b[0;34m:\u001b[0m\u001b[0;34m\u001b[0m\u001b[0;34m\u001b[0m\u001b[0m\n",
      "\u001b[0;32m/Library/Frameworks/Python.framework/Versions/3.7/lib/python3.7/site-packages/pandas/core/generic.py\u001b[0m in \u001b[0;36m_get_label_or_level_values\u001b[0;34m(self, key, axis)\u001b[0m\n\u001b[1;32m   1777\u001b[0m             \u001b[0mvalues\u001b[0m \u001b[0;34m=\u001b[0m \u001b[0mself\u001b[0m\u001b[0;34m.\u001b[0m\u001b[0maxes\u001b[0m\u001b[0;34m[\u001b[0m\u001b[0maxis\u001b[0m\u001b[0;34m]\u001b[0m\u001b[0;34m.\u001b[0m\u001b[0mget_level_values\u001b[0m\u001b[0;34m(\u001b[0m\u001b[0mkey\u001b[0m\u001b[0;34m)\u001b[0m\u001b[0;34m.\u001b[0m\u001b[0m_values\u001b[0m\u001b[0;34m\u001b[0m\u001b[0;34m\u001b[0m\u001b[0m\n\u001b[1;32m   1778\u001b[0m         \u001b[0;32melse\u001b[0m\u001b[0;34m:\u001b[0m\u001b[0;34m\u001b[0m\u001b[0;34m\u001b[0m\u001b[0m\n\u001b[0;32m-> 1779\u001b[0;31m             \u001b[0;32mraise\u001b[0m \u001b[0mKeyError\u001b[0m\u001b[0;34m(\u001b[0m\u001b[0mkey\u001b[0m\u001b[0;34m)\u001b[0m\u001b[0;34m\u001b[0m\u001b[0;34m\u001b[0m\u001b[0m\n\u001b[0m\u001b[1;32m   1780\u001b[0m \u001b[0;34m\u001b[0m\u001b[0m\n\u001b[1;32m   1781\u001b[0m         \u001b[0;31m# Check for duplicates\u001b[0m\u001b[0;34m\u001b[0m\u001b[0;34m\u001b[0m\u001b[0;34m\u001b[0m\u001b[0m\n",
      "\u001b[0;31mKeyError\u001b[0m: 'zip_code'"
     ]
    }
   ],
   "source": [
    "combined_df = pd.merge(final_df, input_data, on=\"zip_code\", how=\"left\")\n",
    "combined_df\n"
   ]
  },
  {
   "cell_type": "code",
   "execution_count": 120,
   "metadata": {},
   "outputs": [
    {
     "name": "stderr",
     "output_type": "stream",
     "text": [
      "/Library/Frameworks/Python.framework/Versions/3.7/lib/python3.7/site-packages/ipykernel_launcher.py:4: SettingWithCopyWarning:\n",
      "\n",
      "\n",
      "A value is trying to be set on a copy of a slice from a DataFrame.\n",
      "Try using .loc[row_indexer,col_indexer] = value instead\n",
      "\n",
      "See the caveats in the documentation: https://pandas.pydata.org/pandas-docs/stable/user_guide/indexing.html#returning-a-view-versus-a-copy\n",
      "\n"
     ]
    },
    {
     "data": {
      "image/png": "[encoded data removed]",
      "text/plain": [
       "<Figure size 720x432 with 1 Axes>"
      ]
     },
     "metadata": {
      "needs_background": "light"
     },
     "output_type": "display_data"
    },
    {
     "name": "stderr",
     "output_type": "stream",
     "text": [
      "/Library/Frameworks/Python.framework/Versions/3.7/lib/python3.7/site-packages/ipykernel_launcher.py:4: SettingWithCopyWarning:\n",
      "\n",
      "\n",
      "A value is trying to be set on a copy of a slice from a DataFrame.\n",
      "Try using .loc[row_indexer,col_indexer] = value instead\n",
      "\n",
      "See the caveats in the documentation: https://pandas.pydata.org/pandas-docs/stable/user_guide/indexing.html#returning-a-view-versus-a-copy\n",
      "\n"
     ]
    },
    {
     "data": {
      "image/png": "[encoded data removed]",
      "text/plain": [
       "<Figure size 720x432 with 1 Axes>"
      ]
     },
     "metadata": {
      "needs_background": "light"
     },
     "output_type": "display_data"
    },
    {
     "name": "stderr",
     "output_type": "stream",
     "text": [
      "/Library/Frameworks/Python.framework/Versions/3.7/lib/python3.7/site-packages/ipykernel_launcher.py:4: SettingWithCopyWarning:\n",
      "\n",
      "\n",
      "A value is trying to be set on a copy of a slice from a DataFrame.\n",
      "Try using .loc[row_indexer,col_indexer] = value instead\n",
      "\n",
      "See the caveats in the documentation: https://pandas.pydata.org/pandas-docs/stable/user_guide/indexing.html#returning-a-view-versus-a-copy\n",
      "\n"
     ]
    },
    {
     "data": {
      "image/png": "[encoded data removed]",
      "text/plain": [
       "<Figure size 720x432 with 1 Axes>"
      ]
     },
     "metadata": {
      "needs_background": "light"
     },
     "output_type": "display_data"
    }
   ],
   "source": [
    "for i in list(combined_df[\"clusters\"].unique()):\n",
    "    df=combined_df[combined_df['clusters']==i]\n",
    "    # # 🔹 Convert StoreID to string for proper plotting\n",
    "    df[\"StoreID\"]=df[\"StoreID\"].astype(str)\n",
    "\n",
    "\n",
    "    # 🔹 Define color palette\n",
    "    palette = sns.color_palette(\"husl\", n_colors=df[\"clusters\"].nunique())\n",
    "\n",
    "    # 🔹 Scatter Plot\n",
    "    plt.figure(figsize=(10, 6))\n",
    "    sns.scatterplot(data=df, x=\"StoreID\", y=\"NetSales\", hue=\"clusters\", palette=palette, s=100, edgecolor=\"black\")\n",
    "\n",
    "    # Formatting\n",
    "    plt.xlabel(\"Store ID\")\n",
    "    plt.ylabel(\"Net Sales\")\n",
    "    plt.title(\"Store-wise Net Sales (Colored by Cluster)\")\n",
    "    plt.xticks(rotation=45)  # Rotate store labels for better readability\n",
    "    plt.legend(title=\"Cluster\")\n",
    "    plt.grid(True)\n",
    "\n",
    "    plt.show()\n"
   ]
  },
  {
   "cell_type": "code",
   "execution_count": null,
   "metadata": {},
   "outputs": [],
   "source": []
  },
  {
   "cell_type": "code",
   "execution_count": null,
   "metadata": {},
   "outputs": [],
   "source": []
  }
 ],
 "metadata": {
  "kernelspec": {
   "display_name": "hm",
   "language": "python",
   "name": "python3"
  },
  "language_info": {
   "codemirror_mode": {
    "name": "ipython",
    "version": 3
   },
   "file_extension": ".py",
   "mimetype": "text/x-python",
   "name": "python",
   "nbconvert_exporter": "python",
   "pygments_lexer": "ipython3",
   "version": "3.7.9"
  }
 },
 "nbformat": 4,
 "nbformat_minor": 2
}
