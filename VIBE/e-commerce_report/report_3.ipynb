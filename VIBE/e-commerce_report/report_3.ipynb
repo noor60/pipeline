{
 "cells": [
  {
   "cell_type": "code",
   "execution_count": 1,
   "metadata": {},
   "outputs": [],
   "source": [
    "import pandas as pd\n",
    "import numpy as np\n"
   ]
  },
  {
   "cell_type": "code",
   "execution_count": null,
   "metadata": {},
   "outputs": [],
   "source": [
    "\t\t\t\t\t\t\t\t\t\t\t\n",
    "data = pd.read_csv(\n",
    "    \"./weekly_sales/transactional data/sales_11_5_to_1-06.csv\")\n",
    "data\n",
    "data['BusinessDate'] = pd.to_datetime(data['BusinessDate'])\n",
    "data[['NetAmount'\t,'Quantity']]=data[['NetAmount'\t,'Quantity']].astype(float)\n",
    "print(data.BusinessDate.min())\n",
    "print(data.BusinessDate.max() )\n"
   ]
  },
  {
   "cell_type": "code",
   "execution_count": 29,
   "metadata": {},
   "outputs": [
    {
     "data": {
      "text/html": [
       "<div>\n",
       "<style scoped>\n",
       "    .dataframe tbody tr th:only-of-type {\n",
       "        vertical-align: middle;\n",
       "    }\n",
       "\n",
       "    .dataframe tbody tr th {\n",
       "        vertical-align: top;\n",
       "    }\n",
       "\n",
       "    .dataframe thead th {\n",
       "        text-align: right;\n",
       "    }\n",
       "</style>\n",
       "<table border=\"1\" class=\"dataframe\">\n",
       "  <thead>\n",
       "    <tr style=\"text-align: right;\">\n",
       "      <th></th>\n",
       "      <th>OrderDate</th>\n",
       "      <th>Revenue</th>\n",
       "    </tr>\n",
       "  </thead>\n",
       "  <tbody>\n",
       "    <tr>\n",
       "      <th>0</th>\n",
       "      <td>2024-06-03</td>\n",
       "      <td>100</td>\n",
       "    </tr>\n",
       "    <tr>\n",
       "      <th>1</th>\n",
       "      <td>2024-06-04</td>\n",
       "      <td>120</td>\n",
       "    </tr>\n",
       "    <tr>\n",
       "      <th>2</th>\n",
       "      <td>2024-06-05</td>\n",
       "      <td>90</td>\n",
       "    </tr>\n",
       "    <tr>\n",
       "      <th>3</th>\n",
       "      <td>2024-06-06</td>\n",
       "      <td>150</td>\n",
       "    </tr>\n",
       "    <tr>\n",
       "      <th>4</th>\n",
       "      <td>2024-06-07</td>\n",
       "      <td>200</td>\n",
       "    </tr>\n",
       "    <tr>\n",
       "      <th>5</th>\n",
       "      <td>2024-06-08</td>\n",
       "      <td>80</td>\n",
       "    </tr>\n",
       "    <tr>\n",
       "      <th>6</th>\n",
       "      <td>2024-06-09</td>\n",
       "      <td>70</td>\n",
       "    </tr>\n",
       "    <tr>\n",
       "      <th>7</th>\n",
       "      <td>2024-06-10</td>\n",
       "      <td>130</td>\n",
       "    </tr>\n",
       "    <tr>\n",
       "      <th>8</th>\n",
       "      <td>2024-06-11</td>\n",
       "      <td>110</td>\n",
       "    </tr>\n",
       "  </tbody>\n",
       "</table>\n",
       "</div>"
      ],
      "text/plain": [
       "   OrderDate  Revenue\n",
       "0 2024-06-03      100\n",
       "1 2024-06-04      120\n",
       "2 2024-06-05       90\n",
       "3 2024-06-06      150\n",
       "4 2024-06-07      200\n",
       "5 2024-06-08       80\n",
       "6 2024-06-09       70\n",
       "7 2024-06-10      130\n",
       "8 2024-06-11      110"
      ]
     },
     "execution_count": 29,
     "metadata": {},
     "output_type": "execute_result"
    }
   ],
   "source": [
    "daily_data = {\n",
    "    'OrderDate': pd.to_datetime([\n",
    "        \n",
    "        '2024-06-03', # Monday\n",
    "        '2024-06-04', # Tuesday\n",
    "        '2024-06-05', # Wednesday\n",
    "        '2024-06-06', # Thursday\n",
    "        '2024-06-07', # Friday\n",
    "        '2024-06-08', # Saturday\n",
    "        '2024-06-09', # Sunday\n",
    "        '2024-06-10', # Monday (start of next week)\n",
    "        '2024-06-11'  # Tuesday\n",
    "    ]),\n",
    "    'Revenue': [100, 120, 90, 150, 200, 80, 70, 130, 110]\n",
    "}\n",
    "daily_sales_df = pd.DataFrame(daily_data)\n",
    "daily_sales_df\n"
   ]
  },
  {
   "cell_type": "code",
   "execution_count": 30,
   "metadata": {},
   "outputs": [
    {
     "data": {
      "text/html": [
       "<div>\n",
       "<style scoped>\n",
       "    .dataframe tbody tr th:only-of-type {\n",
       "        vertical-align: middle;\n",
       "    }\n",
       "\n",
       "    .dataframe tbody tr th {\n",
       "        vertical-align: top;\n",
       "    }\n",
       "\n",
       "    .dataframe thead th {\n",
       "        text-align: right;\n",
       "    }\n",
       "</style>\n",
       "<table border=\"1\" class=\"dataframe\">\n",
       "  <thead>\n",
       "    <tr style=\"text-align: right;\">\n",
       "      <th></th>\n",
       "      <th>Revenue</th>\n",
       "    </tr>\n",
       "    <tr>\n",
       "      <th>OrderDate</th>\n",
       "      <th></th>\n",
       "    </tr>\n",
       "  </thead>\n",
       "  <tbody>\n",
       "    <tr>\n",
       "      <th>2024-06-03</th>\n",
       "      <td>100</td>\n",
       "    </tr>\n",
       "    <tr>\n",
       "      <th>2024-06-04</th>\n",
       "      <td>120</td>\n",
       "    </tr>\n",
       "    <tr>\n",
       "      <th>2024-06-05</th>\n",
       "      <td>90</td>\n",
       "    </tr>\n",
       "    <tr>\n",
       "      <th>2024-06-06</th>\n",
       "      <td>150</td>\n",
       "    </tr>\n",
       "    <tr>\n",
       "      <th>2024-06-07</th>\n",
       "      <td>200</td>\n",
       "    </tr>\n",
       "    <tr>\n",
       "      <th>2024-06-08</th>\n",
       "      <td>80</td>\n",
       "    </tr>\n",
       "    <tr>\n",
       "      <th>2024-06-09</th>\n",
       "      <td>70</td>\n",
       "    </tr>\n",
       "    <tr>\n",
       "      <th>2024-06-10</th>\n",
       "      <td>130</td>\n",
       "    </tr>\n",
       "    <tr>\n",
       "      <th>2024-06-11</th>\n",
       "      <td>110</td>\n",
       "    </tr>\n",
       "  </tbody>\n",
       "</table>\n",
       "</div>"
      ],
      "text/plain": [
       "            Revenue\n",
       "OrderDate          \n",
       "2024-06-03      100\n",
       "2024-06-04      120\n",
       "2024-06-05       90\n",
       "2024-06-06      150\n",
       "2024-06-07      200\n",
       "2024-06-08       80\n",
       "2024-06-09       70\n",
       "2024-06-10      130\n",
       "2024-06-11      110"
      ]
     },
     "execution_count": 30,
     "metadata": {},
     "output_type": "execute_result"
    }
   ],
   "source": [
    "daily_sales_df['OrderDate'] = pd.to_datetime(daily_sales_df['OrderDate'])\n",
    "daily_sales_df = daily_sales_df.set_index('OrderDate')\n",
    "daily_sales_df\n"
   ]
  },
  {
   "cell_type": "code",
   "execution_count": 32,
   "metadata": {},
   "outputs": [
    {
     "data": {
      "text/html": [
       "<div>\n",
       "<style scoped>\n",
       "    .dataframe tbody tr th:only-of-type {\n",
       "        vertical-align: middle;\n",
       "    }\n",
       "\n",
       "    .dataframe tbody tr th {\n",
       "        vertical-align: top;\n",
       "    }\n",
       "\n",
       "    .dataframe thead th {\n",
       "        text-align: right;\n",
       "    }\n",
       "</style>\n",
       "<table border=\"1\" class=\"dataframe\">\n",
       "  <thead>\n",
       "    <tr style=\"text-align: right;\">\n",
       "      <th></th>\n",
       "      <th>WeekStartDate</th>\n",
       "      <th>WeeklyRevenue</th>\n",
       "    </tr>\n",
       "  </thead>\n",
       "  <tbody>\n",
       "    <tr>\n",
       "      <th>0</th>\n",
       "      <td>2024-06-09</td>\n",
       "      <td>810</td>\n",
       "    </tr>\n",
       "    <tr>\n",
       "      <th>1</th>\n",
       "      <td>2024-06-16</td>\n",
       "      <td>240</td>\n",
       "    </tr>\n",
       "  </tbody>\n",
       "</table>\n",
       "</div>"
      ],
      "text/plain": [
       "  WeekStartDate  WeeklyRevenue\n",
       "0    2024-06-09            810\n",
       "1    2024-06-16            240"
      ]
     },
     "execution_count": 32,
     "metadata": {},
     "output_type": "execute_result"
    }
   ],
   "source": [
    "\n",
    "weekly_revenue = daily_sales_df['Revenue'].resample('W').sum()\n",
    "weekly_revenue_df = weekly_revenue.reset_index()\n",
    "weekly_revenue_df.columns = ['WeekStartDate', 'WeeklyRevenue']\n",
    "weekly_revenue_df\n"
   ]
  },
  {
   "cell_type": "code",
   "execution_count": 33,
   "metadata": {},
   "outputs": [
    {
     "ename": "AttributeError",
     "evalue": "'RangeIndex' object has no attribute 'to_period'",
     "output_type": "error",
     "traceback": [
      "\u001b[0;31m---------------------------------------------------------------------------\u001b[0m",
      "\u001b[0;31mAttributeError\u001b[0m                            Traceback (most recent call last)",
      "Cell \u001b[0;32mIn[33], line 1\u001b[0m\n\u001b[0;32m----> 1\u001b[0m weekly_revenue_df[\u001b[38;5;124m\"\u001b[39m\u001b[38;5;124mWeek\u001b[39m\u001b[38;5;124m\"\u001b[39m] \u001b[38;5;241m=\u001b[39m \u001b[43mweekly_revenue_df\u001b[49m\u001b[38;5;241;43m.\u001b[39;49m\u001b[43mindex\u001b[49m\u001b[38;5;241;43m.\u001b[39;49m\u001b[43mto_period\u001b[49m(\u001b[38;5;124m\"\u001b[39m\u001b[38;5;124mW\u001b[39m\u001b[38;5;124m\"\u001b[39m)\u001b[38;5;241m.\u001b[39mstart_tim\n\u001b[1;32m      2\u001b[0m weekly_revenue_df\n",
      "\u001b[0;31mAttributeError\u001b[0m: 'RangeIndex' object has no attribute 'to_period'"
     ]
    }
   ],
   "source": [
    "weekly_revenue_df[\"Week\"] = weekly_revenue_df['WeekStartDate'].dt.weekday\n",
    "weekly_revenue_df\n"
   ]
  },
  {
   "cell_type": "code",
   "execution_count": 36,
   "metadata": {},
   "outputs": [
    {
     "data": {
      "text/html": [
       "<div>\n",
       "<style scoped>\n",
       "    .dataframe tbody tr th:only-of-type {\n",
       "        vertical-align: middle;\n",
       "    }\n",
       "\n",
       "    .dataframe tbody tr th {\n",
       "        vertical-align: top;\n",
       "    }\n",
       "\n",
       "    .dataframe thead th {\n",
       "        text-align: right;\n",
       "    }\n",
       "</style>\n",
       "<table border=\"1\" class=\"dataframe\">\n",
       "  <thead>\n",
       "    <tr style=\"text-align: right;\">\n",
       "      <th></th>\n",
       "      <th>NetAmount</th>\n",
       "      <th>OrderId</th>\n",
       "    </tr>\n",
       "    <tr>\n",
       "      <th>BusinessDate</th>\n",
       "      <th></th>\n",
       "      <th></th>\n",
       "    </tr>\n",
       "  </thead>\n",
       "  <tbody>\n",
       "    <tr>\n",
       "      <th>2025-05-18</th>\n",
       "      <td>790036.73</td>\n",
       "      <td>29308</td>\n",
       "    </tr>\n",
       "    <tr>\n",
       "      <th>2025-05-25</th>\n",
       "      <td>823678.68</td>\n",
       "      <td>30131</td>\n",
       "    </tr>\n",
       "    <tr>\n",
       "      <th>2025-06-01</th>\n",
       "      <td>824431.93</td>\n",
       "      <td>30051</td>\n",
       "    </tr>\n",
       "  </tbody>\n",
       "</table>\n",
       "</div>"
      ],
      "text/plain": [
       "              NetAmount  OrderId\n",
       "BusinessDate                    \n",
       "2025-05-18    790036.73    29308\n",
       "2025-05-25    823678.68    30131\n",
       "2025-06-01    824431.93    30051"
      ]
     },
     "execution_count": 36,
     "metadata": {},
     "output_type": "execute_result"
    }
   ],
   "source": [
    "\n",
    "\n",
    "data[['BusinessDate', 'NetAmount', 'OrderId']].set_index('BusinessDate').resample('W').agg({'NetAmount':'sum','OrderId':'nunique'})\n",
    "\n"
   ]
  },
  {
   "cell_type": "code",
   "execution_count": null,
   "metadata": {},
   "outputs": [],
   "source": [
    "data[\"Week\"] = data.index.to_period(\"W-MON\").start_time\n",
    "    # Group by Week and OrderPlacedMethod\n",
    "weekly_summary = (\n",
    "        data.groupby([\"Week\"])\n",
    "        .agg({\"Quantity\": \"sum\", \"OrderId\": pd.Series.nunique, \"NetAmount\": \"sum\"})\n",
    "        .rename(columns={\"OrderId\": \"UniqueOrders\"})\n",
    "    )\n",
    "weekly_summary\n"
   ]
  },
  {
   "cell_type": "code",
   "execution_count": null,
   "metadata": {},
   "outputs": [],
   "source": []
  },
  {
   "cell_type": "code",
   "execution_count": null,
   "metadata": {},
   "outputs": [],
   "source": []
  },
  {
   "cell_type": "code",
   "execution_count": null,
   "metadata": {},
   "outputs": [],
   "source": []
  },
  {
   "cell_type": "code",
   "execution_count": null,
   "metadata": {},
   "outputs": [],
   "source": []
  },
  {
   "cell_type": "code",
   "execution_count": null,
   "metadata": {},
   "outputs": [],
   "source": []
  },
  {
   "cell_type": "code",
   "execution_count": null,
   "metadata": {},
   "outputs": [],
   "source": []
  },
  {
   "cell_type": "code",
   "execution_count": null,
   "metadata": {},
   "outputs": [],
   "source": []
  },
  {
   "cell_type": "code",
   "execution_count": null,
   "metadata": {},
   "outputs": [],
   "source": []
  },
  {
   "cell_type": "code",
   "execution_count": 7,
   "metadata": {},
   "outputs": [],
   "source": [
    "# daily_summary=pd.read_csv('./weekly_sales/daily_summary.csv',parse_dates=['Date'])\n",
    "# daily_summary.head()\n",
    "# daily_summary.Date.max()\n",
    "# daily_summary\n"
   ]
  },
  {
   "cell_type": "code",
   "execution_count": 11,
   "metadata": {},
   "outputs": [
    {
     "data": {
      "text/html": [
       "<div>\n",
       "<style scoped>\n",
       "    .dataframe tbody tr th:only-of-type {\n",
       "        vertical-align: middle;\n",
       "    }\n",
       "\n",
       "    .dataframe tbody tr th {\n",
       "        vertical-align: top;\n",
       "    }\n",
       "\n",
       "    .dataframe thead th {\n",
       "        text-align: right;\n",
       "    }\n",
       "</style>\n",
       "<table border=\"1\" class=\"dataframe\">\n",
       "  <thead>\n",
       "    <tr style=\"text-align: right;\">\n",
       "      <th></th>\n",
       "      <th>FranchiseStore</th>\n",
       "      <th>OrderPlacedMethod</th>\n",
       "      <th>MenuItemName</th>\n",
       "      <th>Date</th>\n",
       "      <th>UniqueOrderCount</th>\n",
       "      <th>Revenue</th>\n",
       "      <th>AvgOrderValue</th>\n",
       "      <th>brand</th>\n",
       "    </tr>\n",
       "  </thead>\n",
       "  <tbody>\n",
       "    <tr>\n",
       "      <th>0</th>\n",
       "      <td>01389-00001</td>\n",
       "      <td>DoorDash</td>\n",
       "      <td>NaN</td>\n",
       "      <td>2025-05-19</td>\n",
       "      <td>1</td>\n",
       "      <td>0.00</td>\n",
       "      <td>0.00</td>\n",
       "      <td>LC</td>\n",
       "    </tr>\n",
       "    <tr>\n",
       "      <th>1</th>\n",
       "      <td>01389-00001</td>\n",
       "      <td>DoorDash</td>\n",
       "      <td>2 L Beverage</td>\n",
       "      <td>2025-05-19</td>\n",
       "      <td>3</td>\n",
       "      <td>13.71</td>\n",
       "      <td>4.57</td>\n",
       "      <td>LC</td>\n",
       "    </tr>\n",
       "  </tbody>\n",
       "</table>\n",
       "</div>"
      ],
      "text/plain": [
       "  FranchiseStore OrderPlacedMethod  MenuItemName       Date  UniqueOrderCount  \\\n",
       "0    01389-00001          DoorDash           NaN 2025-05-19                 1   \n",
       "1    01389-00001          DoorDash  2 L Beverage 2025-05-19                 3   \n",
       "\n",
       "   Revenue  AvgOrderValue brand  \n",
       "0     0.00           0.00    LC  \n",
       "1    13.71           4.57    LC  "
      ]
     },
     "execution_count": 11,
     "metadata": {},
     "output_type": "execute_result"
    }
   ],
   "source": [
    "daily_sale=pd.read_csv('./weekly_sales/daily_sales.csv',parse_dates=['Date'])\n",
    "daily_sale.Date.max()\n",
    "daily_sale['brand']='LC'\n",
    "daily_sale.head(2)\n"
   ]
  },
  {
   "cell_type": "code",
   "execution_count": 15,
   "metadata": {},
   "outputs": [],
   "source": [
    "daily_sale['week']=np.where(daily_sale['Date']<='2025-05-27','prev','recent')\n"
   ]
  },
  {
   "cell_type": "code",
   "execution_count": 17,
   "metadata": {},
   "outputs": [
    {
     "data": {
      "text/html": [
       "<div>\n",
       "<style scoped>\n",
       "    .dataframe tbody tr th:only-of-type {\n",
       "        vertical-align: middle;\n",
       "    }\n",
       "\n",
       "    .dataframe tbody tr th {\n",
       "        vertical-align: top;\n",
       "    }\n",
       "\n",
       "    .dataframe thead th {\n",
       "        text-align: right;\n",
       "    }\n",
       "</style>\n",
       "<table border=\"1\" class=\"dataframe\">\n",
       "  <thead>\n",
       "    <tr style=\"text-align: right;\">\n",
       "      <th></th>\n",
       "      <th>brand</th>\n",
       "      <th>week</th>\n",
       "      <th>UniqueOrderCount</th>\n",
       "      <th>Revenue</th>\n",
       "      <th>AvgOrderValue</th>\n",
       "    </tr>\n",
       "  </thead>\n",
       "  <tbody>\n",
       "    <tr>\n",
       "      <th>0</th>\n",
       "      <td>LC</td>\n",
       "      <td>prev</td>\n",
       "      <td>161036</td>\n",
       "      <td>1006668.63</td>\n",
       "      <td>6.251202</td>\n",
       "    </tr>\n",
       "    <tr>\n",
       "      <th>1</th>\n",
       "      <td>LC</td>\n",
       "      <td>recent</td>\n",
       "      <td>99073</td>\n",
       "      <td>641441.98</td>\n",
       "      <td>6.474438</td>\n",
       "    </tr>\n",
       "  </tbody>\n",
       "</table>\n",
       "</div>"
      ],
      "text/plain": [
       "  brand    week  UniqueOrderCount     Revenue  AvgOrderValue\n",
       "0    LC    prev            161036  1006668.63       6.251202\n",
       "1    LC  recent             99073   641441.98       6.474438"
      ]
     },
     "execution_count": 17,
     "metadata": {},
     "output_type": "execute_result"
    }
   ],
   "source": [
    "agg = daily_sale.groupby(['brand', 'week']).agg({\n",
    "    'UniqueOrderCount': 'sum',\n",
    "    'Revenue': 'sum'\n",
    "}).reset_index()\n",
    "\n",
    "agg['AvgOrderValue'] = agg['Revenue'] / agg['UniqueOrderCount']\n",
    "agg\n"
   ]
  },
  {
   "cell_type": "code",
   "execution_count": 148,
   "metadata": {},
   "outputs": [
    {
     "data": {
      "text/html": [
       "<div>\n",
       "<style scoped>\n",
       "    .dataframe tbody tr th:only-of-type {\n",
       "        vertical-align: middle;\n",
       "    }\n",
       "\n",
       "    .dataframe tbody tr th {\n",
       "        vertical-align: top;\n",
       "    }\n",
       "\n",
       "    .dataframe thead th {\n",
       "        text-align: right;\n",
       "    }\n",
       "</style>\n",
       "<table border=\"1\" class=\"dataframe\">\n",
       "  <thead>\n",
       "    <tr style=\"text-align: right;\">\n",
       "      <th></th>\n",
       "      <th>FranchiseStore</th>\n",
       "      <th>OrderPlacedMethod</th>\n",
       "      <th>Date</th>\n",
       "      <th>ItemType</th>\n",
       "      <th>UniqueOrderCount</th>\n",
       "      <th>Revenue</th>\n",
       "      <th>AvgOrderValue</th>\n",
       "    </tr>\n",
       "  </thead>\n",
       "  <tbody>\n",
       "    <tr>\n",
       "      <th>0</th>\n",
       "      <td>01389-00001</td>\n",
       "      <td>DoorDash</td>\n",
       "      <td>2025-05-19</td>\n",
       "      <td>Crazy Combo</td>\n",
       "      <td>1</td>\n",
       "      <td>4.81</td>\n",
       "      <td>4.81000</td>\n",
       "    </tr>\n",
       "    <tr>\n",
       "      <th>1</th>\n",
       "      <td>01389-00001</td>\n",
       "      <td>DoorDash</td>\n",
       "      <td>2025-05-19</td>\n",
       "      <td>Regular</td>\n",
       "      <td>20</td>\n",
       "      <td>404.35</td>\n",
       "      <td>20.21750</td>\n",
       "    </tr>\n",
       "    <tr>\n",
       "      <th>2</th>\n",
       "      <td>01389-00001</td>\n",
       "      <td>DoorDash</td>\n",
       "      <td>2025-05-20</td>\n",
       "      <td>Crazy Combo</td>\n",
       "      <td>2</td>\n",
       "      <td>9.62</td>\n",
       "      <td>4.81000</td>\n",
       "    </tr>\n",
       "    <tr>\n",
       "      <th>3</th>\n",
       "      <td>01389-00001</td>\n",
       "      <td>DoorDash</td>\n",
       "      <td>2025-05-20</td>\n",
       "      <td>Regular</td>\n",
       "      <td>16</td>\n",
       "      <td>320.02</td>\n",
       "      <td>20.00125</td>\n",
       "    </tr>\n",
       "    <tr>\n",
       "      <th>4</th>\n",
       "      <td>01389-00001</td>\n",
       "      <td>DoorDash</td>\n",
       "      <td>2025-05-21</td>\n",
       "      <td>Crazy Combo</td>\n",
       "      <td>4</td>\n",
       "      <td>19.24</td>\n",
       "      <td>4.81000</td>\n",
       "    </tr>\n",
       "  </tbody>\n",
       "</table>\n",
       "</div>"
      ],
      "text/plain": [
       "  FranchiseStore OrderPlacedMethod       Date     ItemType  UniqueOrderCount  \\\n",
       "0    01389-00001          DoorDash 2025-05-19  Crazy Combo                 1   \n",
       "1    01389-00001          DoorDash 2025-05-19      Regular                20   \n",
       "2    01389-00001          DoorDash 2025-05-20  Crazy Combo                 2   \n",
       "3    01389-00001          DoorDash 2025-05-20      Regular                16   \n",
       "4    01389-00001          DoorDash 2025-05-21  Crazy Combo                 4   \n",
       "\n",
       "   Revenue  AvgOrderValue  \n",
       "0     4.81        4.81000  \n",
       "1   404.35       20.21750  \n",
       "2     9.62        4.81000  \n",
       "3   320.02       20.00125  \n",
       "4    19.24        4.81000  "
      ]
     },
     "execution_count": 148,
     "metadata": {},
     "output_type": "execute_result"
    }
   ],
   "source": [
    "bundle_analysis=pd.read_csv('./weekly_sales/bundle.csv',parse_dates=['Date'])\n",
    "bundle_analysis.head()\n"
   ]
  },
  {
   "cell_type": "code",
   "execution_count": 149,
   "metadata": {},
   "outputs": [
    {
     "data": {
      "text/plain": [
       "np.int64(75961)"
      ]
     },
     "execution_count": 149,
     "metadata": {},
     "output_type": "execute_result"
    }
   ],
   "source": [
    "# we had 1 order for crazy combo at frechise x mode y date z, it gave us revenue 4.81,\n",
    "# does a single order contaons combo and regular ones?\n"
   ]
  },
  {
   "cell_type": "code",
   "execution_count": null,
   "metadata": {},
   "outputs": [],
   "source": [
    "daily_sale\n"
   ]
  },
  {
   "cell_type": "code",
   "execution_count": null,
   "metadata": {},
   "outputs": [],
   "source": [
    "daily_sale\n"
   ]
  },
  {
   "cell_type": "code",
   "execution_count": 143,
   "metadata": {},
   "outputs": [],
   "source": [
    "a=daily_sale[(daily_sale['FranchiseStore']=='01389-00001')&(daily_sale['OrderPlacedMethod']=='DoorDash')&\n",
    "           ((daily_sale['Date']>='2025-05-19' ) & (daily_sale['Date']<='2025-05-25' )) ]\n"
   ]
  },
  {
   "cell_type": "code",
   "execution_count": 146,
   "metadata": {},
   "outputs": [
    {
     "data": {
      "text/plain": [
       "np.int64(382)"
      ]
     },
     "execution_count": 146,
     "metadata": {},
     "output_type": "execute_result"
    }
   ],
   "source": [
    "a['UniqueOrderCount'].sum()\n",
    "# item is ordered in unique id orders\n"
   ]
  },
  {
   "cell_type": "code",
   "execution_count": 145,
   "metadata": {},
   "outputs": [
    {
     "data": {
      "text/plain": [
       "np.int64(382)"
      ]
     },
     "execution_count": 145,
     "metadata": {},
     "output_type": "execute_result"
    }
   ],
   "source": [
    "a['UniqueOrderCount'].sum()\n"
   ]
  },
  {
   "cell_type": "code",
   "execution_count": 139,
   "metadata": {},
   "outputs": [
    {
     "data": {
      "text/html": [
       "<div>\n",
       "<style scoped>\n",
       "    .dataframe tbody tr th:only-of-type {\n",
       "        vertical-align: middle;\n",
       "    }\n",
       "\n",
       "    .dataframe tbody tr th {\n",
       "        vertical-align: top;\n",
       "    }\n",
       "\n",
       "    .dataframe thead th {\n",
       "        text-align: right;\n",
       "    }\n",
       "</style>\n",
       "<table border=\"1\" class=\"dataframe\">\n",
       "  <thead>\n",
       "    <tr style=\"text-align: right;\">\n",
       "      <th></th>\n",
       "      <th>FranchiseStore</th>\n",
       "      <th>OrderPlacedMethod</th>\n",
       "      <th>Date</th>\n",
       "      <th>UniqueOrderCount</th>\n",
       "      <th>Revenue</th>\n",
       "      <th>AvgOrderValue</th>\n",
       "    </tr>\n",
       "  </thead>\n",
       "  <tbody>\n",
       "    <tr>\n",
       "      <th>0</th>\n",
       "      <td>01389-00001</td>\n",
       "      <td>DoorDash</td>\n",
       "      <td>2025-05-19</td>\n",
       "      <td>45</td>\n",
       "      <td>409.16</td>\n",
       "      <td>253.600000</td>\n",
       "    </tr>\n",
       "    <tr>\n",
       "      <th>1</th>\n",
       "      <td>01389-00001</td>\n",
       "      <td>DoorDash</td>\n",
       "      <td>2025-05-26</td>\n",
       "      <td>384</td>\n",
       "      <td>3224.23</td>\n",
       "      <td>1340.423864</td>\n",
       "    </tr>\n",
       "    <tr>\n",
       "      <th>2</th>\n",
       "      <td>01389-00001</td>\n",
       "      <td>DoorDash</td>\n",
       "      <td>2025-06-02</td>\n",
       "      <td>347</td>\n",
       "      <td>2960.72</td>\n",
       "      <td>1296.353722</td>\n",
       "    </tr>\n",
       "    <tr>\n",
       "      <th>3</th>\n",
       "      <td>01389-00001</td>\n",
       "      <td>Grubhub</td>\n",
       "      <td>2025-05-19</td>\n",
       "      <td>2</td>\n",
       "      <td>12.64</td>\n",
       "      <td>12.640000</td>\n",
       "    </tr>\n",
       "    <tr>\n",
       "      <th>4</th>\n",
       "      <td>01389-00001</td>\n",
       "      <td>Grubhub</td>\n",
       "      <td>2025-05-26</td>\n",
       "      <td>5</td>\n",
       "      <td>32.15</td>\n",
       "      <td>32.150000</td>\n",
       "    </tr>\n",
       "    <tr>\n",
       "      <th>...</th>\n",
       "      <td>...</td>\n",
       "      <td>...</td>\n",
       "      <td>...</td>\n",
       "      <td>...</td>\n",
       "      <td>...</td>\n",
       "      <td>...</td>\n",
       "    </tr>\n",
       "    <tr>\n",
       "      <th>918</th>\n",
       "      <td>03646-00004</td>\n",
       "      <td>UberEats</td>\n",
       "      <td>2025-05-26</td>\n",
       "      <td>1</td>\n",
       "      <td>15.85</td>\n",
       "      <td>15.850000</td>\n",
       "    </tr>\n",
       "    <tr>\n",
       "      <th>919</th>\n",
       "      <td>03646-00004</td>\n",
       "      <td>UberEats</td>\n",
       "      <td>2025-06-02</td>\n",
       "      <td>4</td>\n",
       "      <td>30.20</td>\n",
       "      <td>30.200000</td>\n",
       "    </tr>\n",
       "    <tr>\n",
       "      <th>920</th>\n",
       "      <td>03646-00004</td>\n",
       "      <td>Website</td>\n",
       "      <td>2025-05-19</td>\n",
       "      <td>43</td>\n",
       "      <td>214.60</td>\n",
       "      <td>151.335000</td>\n",
       "    </tr>\n",
       "    <tr>\n",
       "      <th>921</th>\n",
       "      <td>03646-00004</td>\n",
       "      <td>Website</td>\n",
       "      <td>2025-05-26</td>\n",
       "      <td>201</td>\n",
       "      <td>1122.73</td>\n",
       "      <td>827.333333</td>\n",
       "    </tr>\n",
       "    <tr>\n",
       "      <th>922</th>\n",
       "      <td>03646-00004</td>\n",
       "      <td>Website</td>\n",
       "      <td>2025-06-02</td>\n",
       "      <td>185</td>\n",
       "      <td>904.54</td>\n",
       "      <td>659.646369</td>\n",
       "    </tr>\n",
       "  </tbody>\n",
       "</table>\n",
       "<p>923 rows × 6 columns</p>\n",
       "</div>"
      ],
      "text/plain": [
       "    FranchiseStore OrderPlacedMethod       Date  UniqueOrderCount  Revenue  \\\n",
       "0      01389-00001          DoorDash 2025-05-19                45   409.16   \n",
       "1      01389-00001          DoorDash 2025-05-26               384  3224.23   \n",
       "2      01389-00001          DoorDash 2025-06-02               347  2960.72   \n",
       "3      01389-00001           Grubhub 2025-05-19                 2    12.64   \n",
       "4      01389-00001           Grubhub 2025-05-26                 5    32.15   \n",
       "..             ...               ...        ...               ...      ...   \n",
       "918    03646-00004          UberEats 2025-05-26                 1    15.85   \n",
       "919    03646-00004          UberEats 2025-06-02                 4    30.20   \n",
       "920    03646-00004           Website 2025-05-19                43   214.60   \n",
       "921    03646-00004           Website 2025-05-26               201  1122.73   \n",
       "922    03646-00004           Website 2025-06-02               185   904.54   \n",
       "\n",
       "     AvgOrderValue  \n",
       "0       253.600000  \n",
       "1      1340.423864  \n",
       "2      1296.353722  \n",
       "3        12.640000  \n",
       "4        32.150000  \n",
       "..             ...  \n",
       "918      15.850000  \n",
       "919      30.200000  \n",
       "920     151.335000  \n",
       "921     827.333333  \n",
       "922     659.646369  \n",
       "\n",
       "[923 rows x 6 columns]"
      ]
     },
     "execution_count": 139,
     "metadata": {},
     "output_type": "execute_result"
    }
   ],
   "source": [
    "\n",
    "\n",
    "weekly_lc = (\n",
    "    daily_sale\n",
    "    .groupby(['FranchiseStore', 'OrderPlacedMethod'])\n",
    "    .resample('W-MON', on='Date')[['UniqueOrderCount', 'Revenue', 'AvgOrderValue']]\n",
    "    .sum()\n",
    "    .reset_index()\n",
    ")\n",
    "weekly_lc\n"
   ]
  },
  {
   "cell_type": "code",
   "execution_count": null,
   "metadata": {},
   "outputs": [],
   "source": [
    "01389-00001\n",
    "DoorDash\n",
    "2025-05-19\n",
    "157\n",
    "\n",
    "\n"
   ]
  },
  {
   "cell_type": "code",
   "execution_count": 127,
   "metadata": {},
   "outputs": [
    {
     "data": {
      "text/plain": [
       "FranchiseStore        object\n",
       "OrderPlacedMethod     object\n",
       "MenuItemName          object\n",
       "Date                  object\n",
       "UniqueOrderCount       int64\n",
       "Revenue              float64\n",
       "AvgOrderValue        float64\n",
       "dtype: object"
      ]
     },
     "execution_count": 127,
     "metadata": {},
     "output_type": "execute_result"
    }
   ],
   "source": [
    "daily_sale['Date']\n"
   ]
  },
  {
   "cell_type": "code",
   "execution_count": 9,
   "metadata": {},
   "outputs": [
    {
     "data": {
      "text/html": [
       "<div>\n",
       "<style scoped>\n",
       "    .dataframe tbody tr th:only-of-type {\n",
       "        vertical-align: middle;\n",
       "    }\n",
       "\n",
       "    .dataframe tbody tr th {\n",
       "        vertical-align: top;\n",
       "    }\n",
       "\n",
       "    .dataframe thead th {\n",
       "        text-align: right;\n",
       "    }\n",
       "</style>\n",
       "<table border=\"1\" class=\"dataframe\">\n",
       "  <thead>\n",
       "    <tr style=\"text-align: right;\">\n",
       "      <th></th>\n",
       "      <th>StoreID</th>\n",
       "      <th>OrderMode</th>\n",
       "      <th>WeekStartDate</th>\n",
       "      <th>WeeklyNetAmount</th>\n",
       "      <th>channel</th>\n",
       "      <th>Brand</th>\n",
       "      <th>revenue</th>\n",
       "    </tr>\n",
       "  </thead>\n",
       "  <tbody>\n",
       "    <tr>\n",
       "      <th>0</th>\n",
       "      <td>01389-00001</td>\n",
       "      <td>Grubhub</td>\n",
       "      <td>2024-02-26</td>\n",
       "      <td>16.12</td>\n",
       "      <td>3PO</td>\n",
       "      <td>LC</td>\n",
       "      <td>16.12</td>\n",
       "    </tr>\n",
       "    <tr>\n",
       "      <th>1</th>\n",
       "      <td>01389-00001</td>\n",
       "      <td>Mobile</td>\n",
       "      <td>2024-02-26</td>\n",
       "      <td>6109.86</td>\n",
       "      <td>1PO</td>\n",
       "      <td>LC</td>\n",
       "      <td>6109.86</td>\n",
       "    </tr>\n",
       "    <tr>\n",
       "      <th>2</th>\n",
       "      <td>01389-00001</td>\n",
       "      <td>UberEats</td>\n",
       "      <td>2024-02-26</td>\n",
       "      <td>359.55</td>\n",
       "      <td>3PO</td>\n",
       "      <td>LC</td>\n",
       "      <td>359.55</td>\n",
       "    </tr>\n",
       "    <tr>\n",
       "      <th>3</th>\n",
       "      <td>01389-00001</td>\n",
       "      <td>DoorDash</td>\n",
       "      <td>2024-02-26</td>\n",
       "      <td>2017.23</td>\n",
       "      <td>3PO</td>\n",
       "      <td>LC</td>\n",
       "      <td>2017.23</td>\n",
       "    </tr>\n",
       "    <tr>\n",
       "      <th>4</th>\n",
       "      <td>01389-00001</td>\n",
       "      <td>Website</td>\n",
       "      <td>2024-02-26</td>\n",
       "      <td>2767.06</td>\n",
       "      <td>1PO</td>\n",
       "      <td>LC</td>\n",
       "      <td>2767.06</td>\n",
       "    </tr>\n",
       "  </tbody>\n",
       "</table>\n",
       "</div>"
      ],
      "text/plain": [
       "       StoreID OrderMode WeekStartDate  WeeklyNetAmount channel Brand  revenue\n",
       "0  01389-00001   Grubhub    2024-02-26            16.12     3PO    LC    16.12\n",
       "1  01389-00001    Mobile    2024-02-26          6109.86     1PO    LC  6109.86\n",
       "2  01389-00001  UberEats    2024-02-26           359.55     3PO    LC   359.55\n",
       "3  01389-00001  DoorDash    2024-02-26          2017.23     3PO    LC  2017.23\n",
       "4  01389-00001   Website    2024-02-26          2767.06     1PO    LC  2767.06"
      ]
     },
     "execution_count": 9,
     "metadata": {},
     "output_type": "execute_result"
    }
   ],
   "source": [
    "vibe=pd.read_csv('vibe.csv')\n",
    "vibe.head()\n"
   ]
  },
  {
   "cell_type": "code",
   "execution_count": 12,
   "metadata": {},
   "outputs": [
    {
     "data": {
      "text/plain": [
       "'2025-03-10'"
      ]
     },
     "execution_count": 12,
     "metadata": {},
     "output_type": "execute_result"
    }
   ],
   "source": [
    "vibe[vibe['Brand']=='LC']['WeekStartDate'].max()\n",
    "vibe[vibe['Brand']=='WS']['WeekStartDate'].max()\n"
   ]
  },
  {
   "cell_type": "code",
   "execution_count": 30,
   "metadata": {},
   "outputs": [],
   "source": [
    "vibe['OrderMode'].replace({\"Online\":'Website'},inplace=True)\n"
   ]
  },
  {
   "cell_type": "code",
   "execution_count": 111,
   "metadata": {},
   "outputs": [],
   "source": [
    "previous_week='2025-03-03'\n",
    "week='2025-03-10'\n",
    "weeks=[previous_week,week]\n"
   ]
  },
  {
   "cell_type": "code",
   "execution_count": 113,
   "metadata": {},
   "outputs": [
    {
     "data": {
      "text/plain": [
       "array(['2025-03-03', '2025-03-10'], dtype=object)"
      ]
     },
     "execution_count": 113,
     "metadata": {},
     "output_type": "execute_result"
    }
   ],
   "source": [
    "last_two_weeks=vibe[vibe['WeekStartDate'].isin(weeks)]\t\n",
    "last_two_weeks.WeekStartDate.unique()\n"
   ]
  },
  {
   "cell_type": "code",
   "execution_count": 32,
   "metadata": {},
   "outputs": [
    {
     "data": {
      "text/html": [
       "<div>\n",
       "<style scoped>\n",
       "    .dataframe tbody tr th:only-of-type {\n",
       "        vertical-align: middle;\n",
       "    }\n",
       "\n",
       "    .dataframe tbody tr th {\n",
       "        vertical-align: top;\n",
       "    }\n",
       "\n",
       "    .dataframe thead th {\n",
       "        text-align: right;\n",
       "    }\n",
       "</style>\n",
       "<table border=\"1\" class=\"dataframe\">\n",
       "  <thead>\n",
       "    <tr style=\"text-align: right;\">\n",
       "      <th></th>\n",
       "      <th>Brand</th>\n",
       "      <th>OrderMode</th>\n",
       "      <th>WeeklyNetAmount</th>\n",
       "    </tr>\n",
       "  </thead>\n",
       "  <tbody>\n",
       "    <tr>\n",
       "      <th>0</th>\n",
       "      <td>LC</td>\n",
       "      <td>DoorDash</td>\n",
       "      <td>157200.50</td>\n",
       "    </tr>\n",
       "    <tr>\n",
       "      <th>1</th>\n",
       "      <td>LC</td>\n",
       "      <td>Grubhub</td>\n",
       "      <td>5084.56</td>\n",
       "    </tr>\n",
       "    <tr>\n",
       "      <th>2</th>\n",
       "      <td>LC</td>\n",
       "      <td>Mobile</td>\n",
       "      <td>363610.83</td>\n",
       "    </tr>\n",
       "    <tr>\n",
       "      <th>3</th>\n",
       "      <td>LC</td>\n",
       "      <td>UberEats</td>\n",
       "      <td>30292.64</td>\n",
       "    </tr>\n",
       "    <tr>\n",
       "      <th>4</th>\n",
       "      <td>LC</td>\n",
       "      <td>Website</td>\n",
       "      <td>192351.98</td>\n",
       "    </tr>\n",
       "    <tr>\n",
       "      <th>5</th>\n",
       "      <td>WS</td>\n",
       "      <td>DoorDash</td>\n",
       "      <td>684729.93</td>\n",
       "    </tr>\n",
       "    <tr>\n",
       "      <th>6</th>\n",
       "      <td>WS</td>\n",
       "      <td>UberEats</td>\n",
       "      <td>209982.45</td>\n",
       "    </tr>\n",
       "    <tr>\n",
       "      <th>7</th>\n",
       "      <td>WS</td>\n",
       "      <td>Website</td>\n",
       "      <td>988874.66</td>\n",
       "    </tr>\n",
       "  </tbody>\n",
       "</table>\n",
       "</div>"
      ],
      "text/plain": [
       "  Brand OrderMode  WeeklyNetAmount\n",
       "0    LC  DoorDash        157200.50\n",
       "1    LC   Grubhub          5084.56\n",
       "2    LC    Mobile        363610.83\n",
       "3    LC  UberEats         30292.64\n",
       "4    LC   Website        192351.98\n",
       "5    WS  DoorDash        684729.93\n",
       "6    WS  UberEats        209982.45\n",
       "7    WS   Website        988874.66"
      ]
     },
     "execution_count": 32,
     "metadata": {},
     "output_type": "execute_result"
    }
   ],
   "source": [
    "# Channel\tTotal_Orders\tTotal_Revenue\tAvg_Order_Value\tTotal_Refunds\tTotal_Discounts\t\t\n",
    "last_week=vibe[vibe['WeekStartDate']==week]\t\t\t\t\t\t\t\t\t\t\t\t\t\t\t\t\t\t\n",
    "last_week.groupby(['Brand','OrderMode'])['WeeklyNetAmount'].sum().reset_index()\n"
   ]
  },
  {
   "cell_type": "code",
   "execution_count": 33,
   "metadata": {},
   "outputs": [
    {
     "data": {
      "text/html": [
       "<div>\n",
       "<style scoped>\n",
       "    .dataframe tbody tr th:only-of-type {\n",
       "        vertical-align: middle;\n",
       "    }\n",
       "\n",
       "    .dataframe tbody tr th {\n",
       "        vertical-align: top;\n",
       "    }\n",
       "\n",
       "    .dataframe thead th {\n",
       "        text-align: right;\n",
       "    }\n",
       "</style>\n",
       "<table border=\"1\" class=\"dataframe\">\n",
       "  <thead>\n",
       "    <tr style=\"text-align: right;\">\n",
       "      <th></th>\n",
       "      <th>WeekStartDate</th>\n",
       "      <th>Brand</th>\n",
       "      <th>OrderMode</th>\n",
       "      <th>WeeklyNetAmount</th>\n",
       "      <th>TotalByBrandWeek</th>\n",
       "      <th>WeeklyChannelRevenue</th>\n",
       "      <th>RevenueSharePct</th>\n",
       "    </tr>\n",
       "  </thead>\n",
       "  <tbody>\n",
       "    <tr>\n",
       "      <th>7</th>\n",
       "      <td>2025-03-10</td>\n",
       "      <td>WS</td>\n",
       "      <td>Website</td>\n",
       "      <td>988874.66</td>\n",
       "      <td>1883587.04</td>\n",
       "      <td>988874.66</td>\n",
       "      <td>52.50</td>\n",
       "    </tr>\n",
       "    <tr>\n",
       "      <th>5</th>\n",
       "      <td>2025-03-10</td>\n",
       "      <td>WS</td>\n",
       "      <td>DoorDash</td>\n",
       "      <td>684729.93</td>\n",
       "      <td>1883587.04</td>\n",
       "      <td>684729.93</td>\n",
       "      <td>36.35</td>\n",
       "    </tr>\n",
       "    <tr>\n",
       "      <th>6</th>\n",
       "      <td>2025-03-10</td>\n",
       "      <td>WS</td>\n",
       "      <td>UberEats</td>\n",
       "      <td>209982.45</td>\n",
       "      <td>1883587.04</td>\n",
       "      <td>209982.45</td>\n",
       "      <td>11.15</td>\n",
       "    </tr>\n",
       "    <tr>\n",
       "      <th>2</th>\n",
       "      <td>2025-03-10</td>\n",
       "      <td>LC</td>\n",
       "      <td>Mobile</td>\n",
       "      <td>363610.83</td>\n",
       "      <td>748540.51</td>\n",
       "      <td>363610.83</td>\n",
       "      <td>48.58</td>\n",
       "    </tr>\n",
       "    <tr>\n",
       "      <th>4</th>\n",
       "      <td>2025-03-10</td>\n",
       "      <td>LC</td>\n",
       "      <td>Website</td>\n",
       "      <td>192351.98</td>\n",
       "      <td>748540.51</td>\n",
       "      <td>192351.98</td>\n",
       "      <td>25.70</td>\n",
       "    </tr>\n",
       "    <tr>\n",
       "      <th>0</th>\n",
       "      <td>2025-03-10</td>\n",
       "      <td>LC</td>\n",
       "      <td>DoorDash</td>\n",
       "      <td>157200.50</td>\n",
       "      <td>748540.51</td>\n",
       "      <td>157200.50</td>\n",
       "      <td>21.00</td>\n",
       "    </tr>\n",
       "    <tr>\n",
       "      <th>3</th>\n",
       "      <td>2025-03-10</td>\n",
       "      <td>LC</td>\n",
       "      <td>UberEats</td>\n",
       "      <td>30292.64</td>\n",
       "      <td>748540.51</td>\n",
       "      <td>30292.64</td>\n",
       "      <td>4.05</td>\n",
       "    </tr>\n",
       "    <tr>\n",
       "      <th>1</th>\n",
       "      <td>2025-03-10</td>\n",
       "      <td>LC</td>\n",
       "      <td>Grubhub</td>\n",
       "      <td>5084.56</td>\n",
       "      <td>748540.51</td>\n",
       "      <td>5084.56</td>\n",
       "      <td>0.68</td>\n",
       "    </tr>\n",
       "  </tbody>\n",
       "</table>\n",
       "</div>"
      ],
      "text/plain": [
       "  WeekStartDate Brand OrderMode  WeeklyNetAmount  TotalByBrandWeek  \\\n",
       "7    2025-03-10    WS   Website        988874.66        1883587.04   \n",
       "5    2025-03-10    WS  DoorDash        684729.93        1883587.04   \n",
       "6    2025-03-10    WS  UberEats        209982.45        1883587.04   \n",
       "2    2025-03-10    LC    Mobile        363610.83         748540.51   \n",
       "4    2025-03-10    LC   Website        192351.98         748540.51   \n",
       "0    2025-03-10    LC  DoorDash        157200.50         748540.51   \n",
       "3    2025-03-10    LC  UberEats         30292.64         748540.51   \n",
       "1    2025-03-10    LC   Grubhub          5084.56         748540.51   \n",
       "\n",
       "   WeeklyChannelRevenue  RevenueSharePct  \n",
       "7             988874.66            52.50  \n",
       "5             684729.93            36.35  \n",
       "6             209982.45            11.15  \n",
       "2             363610.83            48.58  \n",
       "4             192351.98            25.70  \n",
       "0             157200.50            21.00  \n",
       "3              30292.64             4.05  \n",
       "1               5084.56             0.68  "
      ]
     },
     "execution_count": 33,
     "metadata": {},
     "output_type": "execute_result"
    }
   ],
   "source": [
    "\n",
    "# Group to get revenue by Week, Brand, and OrderMode\n",
    "grouped = last_week.groupby([\"WeekStartDate\", \"Brand\", \"OrderMode\"]).agg(\n",
    "    WeeklyNetAmount=(\"WeeklyNetAmount\", \"sum\")\n",
    ").reset_index()\n",
    "\n",
    "# Add total weekly revenue per brand (for revenue share calculation)\n",
    "grouped[\"TotalByBrandWeek\"] = grouped.groupby([\"WeekStartDate\", \"Brand\"])[\"WeeklyNetAmount\"].transform(\"sum\")\n",
    "\n",
    "# Add Weekly revenue for the digital channel (it's same as WeeklyNetAmount at this granularity, but for clarity)\n",
    "grouped[\"WeeklyChannelRevenue\"] = grouped[\"WeeklyNetAmount\"]\n",
    "\n",
    "# Calculate revenue share %\n",
    "grouped[\"RevenueSharePct\"] = round(100 * grouped[\"WeeklyNetAmount\"] / grouped[\"TotalByBrandWeek\"], 2)\n",
    "\n",
    "# Sort for presentation\n",
    "grouped = grouped.sort_values(by=[\"WeekStartDate\", \"Brand\", \"RevenueSharePct\"], ascending=[True, True, False])\n",
    "\n",
    "# Optional: sort for easier reading\n",
    "grouped = grouped.sort_values(by=[\"WeekStartDate\", \"Brand\", \"RevenueSharePct\"], ascending=[True, True, False])\n",
    "grouped. sort_values(by=['Brand','RevenueSharePct'],ascending=False)\n"
   ]
  },
  {
   "cell_type": "code",
   "execution_count": 35,
   "metadata": {},
   "outputs": [
    {
     "data": {
      "application/vnd.plotly.v1+json": {
       "config": {
        "plotlyServerURL": "https://plot.ly"
       },
       "data": [
        {
         "alignmentgroup": "True",
         "hovertemplate": "Brand=LC<br>OrderMode=%{x}<br>RevenueSharePct=%{y}<br>revenue_text=%{text}<extra></extra>",
         "legendgroup": "LC",
         "marker": {
          "color": "rgb(246, 35, 151)",
          "pattern": {
           "shape": ""
          }
         },
         "name": "LC",
         "offsetgroup": "LC",
         "orientation": "v",
         "showlegend": true,
         "text": [
          "48.58%",
          "25.70%",
          "21.00%",
          "4.05%",
          "0.68%"
         ],
         "textposition": "outside",
         "type": "bar",
         "x": [
          "Mobile",
          "Website",
          "DoorDash",
          "UberEats",
          "Grubhub"
         ],
         "xaxis": "x",
         "y": {
          "bdata": "CtejcD1KSEAzMzMzM7M5QAAAAAAAADVAMzMzMzMzEEDD9Shcj8LlPw==",
          "dtype": "f8"
         },
         "yaxis": "y"
        },
        {
         "alignmentgroup": "True",
         "hovertemplate": "Brand=WS<br>OrderMode=%{x}<br>RevenueSharePct=%{y}<br>revenue_text=%{text}<extra></extra>",
         "legendgroup": "WS",
         "marker": {
          "color": "rgb(22, 198, 206)",
          "pattern": {
           "shape": ""
          }
         },
         "name": "WS",
         "offsetgroup": "WS",
         "orientation": "v",
         "showlegend": true,
         "text": [
          "52.50%",
          "36.35%",
          "11.15%"
         ],
         "textposition": "outside",
         "type": "bar",
         "x": [
          "Website",
          "DoorDash",
          "UberEats"
         ],
         "xaxis": "x2",
         "y": {
          "bdata": "AAAAAABASkDNzMzMzCxCQM3MzMzMTCZA",
          "dtype": "f8"
         },
         "yaxis": "y2"
        }
       ],
       "layout": {
        "annotations": [
         {
          "font": {},
          "showarrow": false,
          "text": "Brand=LC",
          "x": 0.245,
          "xanchor": "center",
          "xref": "paper",
          "y": 1,
          "yanchor": "bottom",
          "yref": "paper"
         },
         {
          "font": {},
          "showarrow": false,
          "text": "Brand=WS",
          "x": 0.755,
          "xanchor": "center",
          "xref": "paper",
          "y": 1,
          "yanchor": "bottom",
          "yref": "paper"
         }
        ],
        "barmode": "group",
        "height": 500,
        "legend": {
         "title": {
          "text": "Brand"
         },
         "tracegroupgap": 0
        },
        "template": {
         "data": {
          "bar": [
           {
            "error_x": {
             "color": "#2a3f5f"
            },
            "error_y": {
             "color": "#2a3f5f"
            },
            "marker": {
             "line": {
              "color": "#E5ECF6",
              "width": 0.5
             },
             "pattern": {
              "fillmode": "overlay",
              "size": 10,
              "solidity": 0.2
             }
            },
            "type": "bar"
           }
          ],
          "barpolar": [
           {
            "marker": {
             "line": {
              "color": "#E5ECF6",
              "width": 0.5
             },
             "pattern": {
              "fillmode": "overlay",
              "size": 10,
              "solidity": 0.2
             }
            },
            "type": "barpolar"
           }
          ],
          "carpet": [
           {
            "aaxis": {
             "endlinecolor": "#2a3f5f",
             "gridcolor": "white",
             "linecolor": "white",
             "minorgridcolor": "white",
             "startlinecolor": "#2a3f5f"
            },
            "baxis": {
             "endlinecolor": "#2a3f5f",
             "gridcolor": "white",
             "linecolor": "white",
             "minorgridcolor": "white",
             "startlinecolor": "#2a3f5f"
            },
            "type": "carpet"
           }
          ],
          "choropleth": [
           {
            "colorbar": {
             "outlinewidth": 0,
             "ticks": ""
            },
            "type": "choropleth"
           }
          ],
          "contour": [
           {
            "colorbar": {
             "outlinewidth": 0,
             "ticks": ""
            },
            "colorscale": [
             [
              0,
              "#0d0887"
             ],
             [
              0.1111111111111111,
              "#46039f"
             ],
             [
              0.2222222222222222,
              "#7201a8"
             ],
             [
              0.3333333333333333,
              "#9c179e"
             ],
             [
              0.4444444444444444,
              "#bd3786"
             ],
             [
              0.5555555555555556,
              "#d8576b"
             ],
             [
              0.6666666666666666,
              "#ed7953"
             ],
             [
              0.7777777777777778,
              "#fb9f3a"
             ],
             [
              0.8888888888888888,
              "#fdca26"
             ],
             [
              1,
              "#f0f921"
             ]
            ],
            "type": "contour"
           }
          ],
          "contourcarpet": [
           {
            "colorbar": {
             "outlinewidth": 0,
             "ticks": ""
            },
            "type": "contourcarpet"
           }
          ],
          "heatmap": [
           {
            "colorbar": {
             "outlinewidth": 0,
             "ticks": ""
            },
            "colorscale": [
             [
              0,
              "#0d0887"
             ],
             [
              0.1111111111111111,
              "#46039f"
             ],
             [
              0.2222222222222222,
              "#7201a8"
             ],
             [
              0.3333333333333333,
              "#9c179e"
             ],
             [
              0.4444444444444444,
              "#bd3786"
             ],
             [
              0.5555555555555556,
              "#d8576b"
             ],
             [
              0.6666666666666666,
              "#ed7953"
             ],
             [
              0.7777777777777778,
              "#fb9f3a"
             ],
             [
              0.8888888888888888,
              "#fdca26"
             ],
             [
              1,
              "#f0f921"
             ]
            ],
            "type": "heatmap"
           }
          ],
          "histogram": [
           {
            "marker": {
             "pattern": {
              "fillmode": "overlay",
              "size": 10,
              "solidity": 0.2
             }
            },
            "type": "histogram"
           }
          ],
          "histogram2d": [
           {
            "colorbar": {
             "outlinewidth": 0,
             "ticks": ""
            },
            "colorscale": [
             [
              0,
              "#0d0887"
             ],
             [
              0.1111111111111111,
              "#46039f"
             ],
             [
              0.2222222222222222,
              "#7201a8"
             ],
             [
              0.3333333333333333,
              "#9c179e"
             ],
             [
              0.4444444444444444,
              "#bd3786"
             ],
             [
              0.5555555555555556,
              "#d8576b"
             ],
             [
              0.6666666666666666,
              "#ed7953"
             ],
             [
              0.7777777777777778,
              "#fb9f3a"
             ],
             [
              0.8888888888888888,
              "#fdca26"
             ],
             [
              1,
              "#f0f921"
             ]
            ],
            "type": "histogram2d"
           }
          ],
          "histogram2dcontour": [
           {
            "colorbar": {
             "outlinewidth": 0,
             "ticks": ""
            },
            "colorscale": [
             [
              0,
              "#0d0887"
             ],
             [
              0.1111111111111111,
              "#46039f"
             ],
             [
              0.2222222222222222,
              "#7201a8"
             ],
             [
              0.3333333333333333,
              "#9c179e"
             ],
             [
              0.4444444444444444,
              "#bd3786"
             ],
             [
              0.5555555555555556,
              "#d8576b"
             ],
             [
              0.6666666666666666,
              "#ed7953"
             ],
             [
              0.7777777777777778,
              "#fb9f3a"
             ],
             [
              0.8888888888888888,
              "#fdca26"
             ],
             [
              1,
              "#f0f921"
             ]
            ],
            "type": "histogram2dcontour"
           }
          ],
          "mesh3d": [
           {
            "colorbar": {
             "outlinewidth": 0,
             "ticks": ""
            },
            "type": "mesh3d"
           }
          ],
          "parcoords": [
           {
            "line": {
             "colorbar": {
              "outlinewidth": 0,
              "ticks": ""
             }
            },
            "type": "parcoords"
           }
          ],
          "pie": [
           {
            "automargin": true,
            "type": "pie"
           }
          ],
          "scatter": [
           {
            "fillpattern": {
             "fillmode": "overlay",
             "size": 10,
             "solidity": 0.2
            },
            "type": "scatter"
           }
          ],
          "scatter3d": [
           {
            "line": {
             "colorbar": {
              "outlinewidth": 0,
              "ticks": ""
             }
            },
            "marker": {
             "colorbar": {
              "outlinewidth": 0,
              "ticks": ""
             }
            },
            "type": "scatter3d"
           }
          ],
          "scattercarpet": [
           {
            "marker": {
             "colorbar": {
              "outlinewidth": 0,
              "ticks": ""
             }
            },
            "type": "scattercarpet"
           }
          ],
          "scattergeo": [
           {
            "marker": {
             "colorbar": {
              "outlinewidth": 0,
              "ticks": ""
             }
            },
            "type": "scattergeo"
           }
          ],
          "scattergl": [
           {
            "marker": {
             "colorbar": {
              "outlinewidth": 0,
              "ticks": ""
             }
            },
            "type": "scattergl"
           }
          ],
          "scattermap": [
           {
            "marker": {
             "colorbar": {
              "outlinewidth": 0,
              "ticks": ""
             }
            },
            "type": "scattermap"
           }
          ],
          "scattermapbox": [
           {
            "marker": {
             "colorbar": {
              "outlinewidth": 0,
              "ticks": ""
             }
            },
            "type": "scattermapbox"
           }
          ],
          "scatterpolar": [
           {
            "marker": {
             "colorbar": {
              "outlinewidth": 0,
              "ticks": ""
             }
            },
            "type": "scatterpolar"
           }
          ],
          "scatterpolargl": [
           {
            "marker": {
             "colorbar": {
              "outlinewidth": 0,
              "ticks": ""
             }
            },
            "type": "scatterpolargl"
           }
          ],
          "scatterternary": [
           {
            "marker": {
             "colorbar": {
              "outlinewidth": 0,
              "ticks": ""
             }
            },
            "type": "scatterternary"
           }
          ],
          "surface": [
           {
            "colorbar": {
             "outlinewidth": 0,
             "ticks": ""
            },
            "colorscale": [
             [
              0,
              "#0d0887"
             ],
             [
              0.1111111111111111,
              "#46039f"
             ],
             [
              0.2222222222222222,
              "#7201a8"
             ],
             [
              0.3333333333333333,
              "#9c179e"
             ],
             [
              0.4444444444444444,
              "#bd3786"
             ],
             [
              0.5555555555555556,
              "#d8576b"
             ],
             [
              0.6666666666666666,
              "#ed7953"
             ],
             [
              0.7777777777777778,
              "#fb9f3a"
             ],
             [
              0.8888888888888888,
              "#fdca26"
             ],
             [
              1,
              "#f0f921"
             ]
            ],
            "type": "surface"
           }
          ],
          "table": [
           {
            "cells": {
             "fill": {
              "color": "#EBF0F8"
             },
             "line": {
              "color": "white"
             }
            },
            "header": {
             "fill": {
              "color": "#C8D4E3"
             },
             "line": {
              "color": "white"
             }
            },
            "type": "table"
           }
          ]
         },
         "layout": {
          "annotationdefaults": {
           "arrowcolor": "#2a3f5f",
           "arrowhead": 0,
           "arrowwidth": 1
          },
          "autotypenumbers": "strict",
          "coloraxis": {
           "colorbar": {
            "outlinewidth": 0,
            "ticks": ""
           }
          },
          "colorscale": {
           "diverging": [
            [
             0,
             "#8e0152"
            ],
            [
             0.1,
             "#c51b7d"
            ],
            [
             0.2,
             "#de77ae"
            ],
            [
             0.3,
             "#f1b6da"
            ],
            [
             0.4,
             "#fde0ef"
            ],
            [
             0.5,
             "#f7f7f7"
            ],
            [
             0.6,
             "#e6f5d0"
            ],
            [
             0.7,
             "#b8e186"
            ],
            [
             0.8,
             "#7fbc41"
            ],
            [
             0.9,
             "#4d9221"
            ],
            [
             1,
             "#276419"
            ]
           ],
           "sequential": [
            [
             0,
             "#0d0887"
            ],
            [
             0.1111111111111111,
             "#46039f"
            ],
            [
             0.2222222222222222,
             "#7201a8"
            ],
            [
             0.3333333333333333,
             "#9c179e"
            ],
            [
             0.4444444444444444,
             "#bd3786"
            ],
            [
             0.5555555555555556,
             "#d8576b"
            ],
            [
             0.6666666666666666,
             "#ed7953"
            ],
            [
             0.7777777777777778,
             "#fb9f3a"
            ],
            [
             0.8888888888888888,
             "#fdca26"
            ],
            [
             1,
             "#f0f921"
            ]
           ],
           "sequentialminus": [
            [
             0,
             "#0d0887"
            ],
            [
             0.1111111111111111,
             "#46039f"
            ],
            [
             0.2222222222222222,
             "#7201a8"
            ],
            [
             0.3333333333333333,
             "#9c179e"
            ],
            [
             0.4444444444444444,
             "#bd3786"
            ],
            [
             0.5555555555555556,
             "#d8576b"
            ],
            [
             0.6666666666666666,
             "#ed7953"
            ],
            [
             0.7777777777777778,
             "#fb9f3a"
            ],
            [
             0.8888888888888888,
             "#fdca26"
            ],
            [
             1,
             "#f0f921"
            ]
           ]
          },
          "colorway": [
           "#636efa",
           "#EF553B",
           "#00cc96",
           "#ab63fa",
           "#FFA15A",
           "#19d3f3",
           "#FF6692",
           "#B6E880",
           "#FF97FF",
           "#FECB52"
          ],
          "font": {
           "color": "#2a3f5f"
          },
          "geo": {
           "bgcolor": "white",
           "lakecolor": "white",
           "landcolor": "#E5ECF6",
           "showlakes": true,
           "showland": true,
           "subunitcolor": "white"
          },
          "hoverlabel": {
           "align": "left"
          },
          "hovermode": "closest",
          "mapbox": {
           "style": "light"
          },
          "paper_bgcolor": "white",
          "plot_bgcolor": "#E5ECF6",
          "polar": {
           "angularaxis": {
            "gridcolor": "white",
            "linecolor": "white",
            "ticks": ""
           },
           "bgcolor": "#E5ECF6",
           "radialaxis": {
            "gridcolor": "white",
            "linecolor": "white",
            "ticks": ""
           }
          },
          "scene": {
           "xaxis": {
            "backgroundcolor": "#E5ECF6",
            "gridcolor": "white",
            "gridwidth": 2,
            "linecolor": "white",
            "showbackground": true,
            "ticks": "",
            "zerolinecolor": "white"
           },
           "yaxis": {
            "backgroundcolor": "#E5ECF6",
            "gridcolor": "white",
            "gridwidth": 2,
            "linecolor": "white",
            "showbackground": true,
            "ticks": "",
            "zerolinecolor": "white"
           },
           "zaxis": {
            "backgroundcolor": "#E5ECF6",
            "gridcolor": "white",
            "gridwidth": 2,
            "linecolor": "white",
            "showbackground": true,
            "ticks": "",
            "zerolinecolor": "white"
           }
          },
          "shapedefaults": {
           "line": {
            "color": "#2a3f5f"
           }
          },
          "ternary": {
           "aaxis": {
            "gridcolor": "white",
            "linecolor": "white",
            "ticks": ""
           },
           "baxis": {
            "gridcolor": "white",
            "linecolor": "white",
            "ticks": ""
           },
           "bgcolor": "#E5ECF6",
           "caxis": {
            "gridcolor": "white",
            "linecolor": "white",
            "ticks": ""
           }
          },
          "title": {
           "x": 0.05
          },
          "xaxis": {
           "automargin": true,
           "gridcolor": "white",
           "linecolor": "white",
           "ticks": "",
           "title": {
            "standoff": 15
           },
           "zerolinecolor": "white",
           "zerolinewidth": 2
          },
          "yaxis": {
           "automargin": true,
           "gridcolor": "white",
           "linecolor": "white",
           "ticks": "",
           "title": {
            "standoff": 15
           },
           "zerolinecolor": "white",
           "zerolinewidth": 2
          }
         }
        },
        "title": {
         "text": "Revenue Percentage by Channel and Brand"
        },
        "width": 800,
        "xaxis": {
         "anchor": "y",
         "categoryarray": [
          "DoorDash",
          "Grubhub",
          "Mobile",
          "UberEats",
          "Website"
         ],
         "categoryorder": "array",
         "domain": [
          0,
          0.49
         ],
         "title": {
          "text": "Channel"
         }
        },
        "xaxis2": {
         "anchor": "y2",
         "categoryarray": [
          "DoorDash",
          "Grubhub",
          "Mobile",
          "UberEats",
          "Website"
         ],
         "categoryorder": "array",
         "domain": [
          0.51,
          1
         ],
         "matches": "x",
         "title": {
          "text": "OrderMode"
         }
        },
        "yaxis": {
         "anchor": "x",
         "domain": [
          0,
          1
         ],
         "range": [
          1,
          100
         ],
         "title": {
          "text": "Revenue (%)"
         }
        },
        "yaxis2": {
         "anchor": "x2",
         "domain": [
          0,
          1
         ],
         "matches": "y",
         "showticklabels": false
        }
       }
      }
     },
     "metadata": {},
     "output_type": "display_data"
    }
   ],
   "source": [
    "import plotly.express as px\n",
    "# Format percentages to 2 decimals for text labels\n",
    "grouped['revenue_text'] = grouped['RevenueSharePct'].apply(lambda x: f'{x:.2f}%')\n",
    "brand_colors = {\n",
    "    'LC': 'rgb(246, 35, 151)',  \n",
    "    'WS': 'rgb(22, 198, 206)'  \n",
    "}\n",
    "brand_order_modes = grouped.groupby(\"Brand\")[\"OrderMode\"].unique().to_dict()\n",
    "\n",
    "fig = px.bar(\n",
    "    grouped,\n",
    "    x=\"OrderMode\",\n",
    "    y=\"RevenueSharePct\",\n",
    "    color=\"Brand\",\n",
    "    facet_col=\"Brand\",\n",
    "    barmode=\"group\",\n",
    "    text=\"revenue_text\",\n",
    "    color_discrete_map=brand_colors,\n",
    "    title=\"Revenue Percentage by Channel and Brand\",\n",
    "    category_orders={\n",
    "        \"OrderMode\": sorted(grouped[\"OrderMode\"].unique()),  # this is global\n",
    "        \"Brand\": sorted(grouped[\"Brand\"].unique())\n",
    "    }\n",
    ")\n",
    "\n",
    "\n",
    "fig.update_traces(textposition='outside')\n",
    "\n",
    "fig.update_layout(\n",
    "    xaxis_title='Channel',\n",
    "    yaxis_title='Revenue (%)',\n",
    "    yaxis=dict(range=[1, 100])\n",
    ")\n",
    "fig.update_layout(\n",
    "    width=800,   # Set the desired width (in pixels)\n",
    "    height=500,  # Set the desired height (in pixels)\n",
    ")\n",
    "\n",
    "fig.show()\n"
   ]
  },
  {
   "cell_type": "code",
   "execution_count": 39,
   "metadata": {},
   "outputs": [
    {
     "data": {
      "application/vnd.plotly.v1+json": {
       "config": {
        "plotlyServerURL": "https://plot.ly"
       },
       "data": [
        {
         "marker": {
          "color": "rgb(246, 35, 151)"
         },
         "name": "LC",
         "showlegend": false,
         "text": [
          "48.58%",
          "25.70%",
          "21.00%",
          "4.05%",
          "0.68%"
         ],
         "textposition": "outside",
         "type": "bar",
         "x": [
          "Mobile",
          "Website",
          "DoorDash",
          "UberEats",
          "Grubhub"
         ],
         "xaxis": "x",
         "y": {
          "bdata": "CtejcD1KSEAzMzMzM7M5QAAAAAAAADVAMzMzMzMzEEDD9Shcj8LlPw==",
          "dtype": "f8"
         },
         "yaxis": "y"
        },
        {
         "marker": {
          "color": "rgb(22, 198, 206)"
         },
         "name": "WS",
         "showlegend": false,
         "text": [
          "52.50%",
          "36.35%",
          "11.15%"
         ],
         "textposition": "outside",
         "type": "bar",
         "x": [
          "Website",
          "DoorDash",
          "UberEats"
         ],
         "xaxis": "x2",
         "y": {
          "bdata": "AAAAAABASkDNzMzMzCxCQM3MzMzMTCZA",
          "dtype": "f8"
         },
         "yaxis": "y2"
        }
       ],
       "layout": {
        "annotations": [
         {
          "font": {
           "size": 16
          },
          "showarrow": false,
          "text": "LC",
          "x": 0.225,
          "xanchor": "center",
          "xref": "paper",
          "y": 1,
          "yanchor": "bottom",
          "yref": "paper"
         },
         {
          "font": {
           "size": 16
          },
          "showarrow": false,
          "text": "WS",
          "x": 0.775,
          "xanchor": "center",
          "xref": "paper",
          "y": 1,
          "yanchor": "bottom",
          "yref": "paper"
         }
        ],
        "height": 500,
        "template": {
         "data": {
          "bar": [
           {
            "error_x": {
             "color": "#2a3f5f"
            },
            "error_y": {
             "color": "#2a3f5f"
            },
            "marker": {
             "line": {
              "color": "#E5ECF6",
              "width": 0.5
             },
             "pattern": {
              "fillmode": "overlay",
              "size": 10,
              "solidity": 0.2
             }
            },
            "type": "bar"
           }
          ],
          "barpolar": [
           {
            "marker": {
             "line": {
              "color": "#E5ECF6",
              "width": 0.5
             },
             "pattern": {
              "fillmode": "overlay",
              "size": 10,
              "solidity": 0.2
             }
            },
            "type": "barpolar"
           }
          ],
          "carpet": [
           {
            "aaxis": {
             "endlinecolor": "#2a3f5f",
             "gridcolor": "white",
             "linecolor": "white",
             "minorgridcolor": "white",
             "startlinecolor": "#2a3f5f"
            },
            "baxis": {
             "endlinecolor": "#2a3f5f",
             "gridcolor": "white",
             "linecolor": "white",
             "minorgridcolor": "white",
             "startlinecolor": "#2a3f5f"
            },
            "type": "carpet"
           }
          ],
          "choropleth": [
           {
            "colorbar": {
             "outlinewidth": 0,
             "ticks": ""
            },
            "type": "choropleth"
           }
          ],
          "contour": [
           {
            "colorbar": {
             "outlinewidth": 0,
             "ticks": ""
            },
            "colorscale": [
             [
              0,
              "#0d0887"
             ],
             [
              0.1111111111111111,
              "#46039f"
             ],
             [
              0.2222222222222222,
              "#7201a8"
             ],
             [
              0.3333333333333333,
              "#9c179e"
             ],
             [
              0.4444444444444444,
              "#bd3786"
             ],
             [
              0.5555555555555556,
              "#d8576b"
             ],
             [
              0.6666666666666666,
              "#ed7953"
             ],
             [
              0.7777777777777778,
              "#fb9f3a"
             ],
             [
              0.8888888888888888,
              "#fdca26"
             ],
             [
              1,
              "#f0f921"
             ]
            ],
            "type": "contour"
           }
          ],
          "contourcarpet": [
           {
            "colorbar": {
             "outlinewidth": 0,
             "ticks": ""
            },
            "type": "contourcarpet"
           }
          ],
          "heatmap": [
           {
            "colorbar": {
             "outlinewidth": 0,
             "ticks": ""
            },
            "colorscale": [
             [
              0,
              "#0d0887"
             ],
             [
              0.1111111111111111,
              "#46039f"
             ],
             [
              0.2222222222222222,
              "#7201a8"
             ],
             [
              0.3333333333333333,
              "#9c179e"
             ],
             [
              0.4444444444444444,
              "#bd3786"
             ],
             [
              0.5555555555555556,
              "#d8576b"
             ],
             [
              0.6666666666666666,
              "#ed7953"
             ],
             [
              0.7777777777777778,
              "#fb9f3a"
             ],
             [
              0.8888888888888888,
              "#fdca26"
             ],
             [
              1,
              "#f0f921"
             ]
            ],
            "type": "heatmap"
           }
          ],
          "histogram": [
           {
            "marker": {
             "pattern": {
              "fillmode": "overlay",
              "size": 10,
              "solidity": 0.2
             }
            },
            "type": "histogram"
           }
          ],
          "histogram2d": [
           {
            "colorbar": {
             "outlinewidth": 0,
             "ticks": ""
            },
            "colorscale": [
             [
              0,
              "#0d0887"
             ],
             [
              0.1111111111111111,
              "#46039f"
             ],
             [
              0.2222222222222222,
              "#7201a8"
             ],
             [
              0.3333333333333333,
              "#9c179e"
             ],
             [
              0.4444444444444444,
              "#bd3786"
             ],
             [
              0.5555555555555556,
              "#d8576b"
             ],
             [
              0.6666666666666666,
              "#ed7953"
             ],
             [
              0.7777777777777778,
              "#fb9f3a"
             ],
             [
              0.8888888888888888,
              "#fdca26"
             ],
             [
              1,
              "#f0f921"
             ]
            ],
            "type": "histogram2d"
           }
          ],
          "histogram2dcontour": [
           {
            "colorbar": {
             "outlinewidth": 0,
             "ticks": ""
            },
            "colorscale": [
             [
              0,
              "#0d0887"
             ],
             [
              0.1111111111111111,
              "#46039f"
             ],
             [
              0.2222222222222222,
              "#7201a8"
             ],
             [
              0.3333333333333333,
              "#9c179e"
             ],
             [
              0.4444444444444444,
              "#bd3786"
             ],
             [
              0.5555555555555556,
              "#d8576b"
             ],
             [
              0.6666666666666666,
              "#ed7953"
             ],
             [
              0.7777777777777778,
              "#fb9f3a"
             ],
             [
              0.8888888888888888,
              "#fdca26"
             ],
             [
              1,
              "#f0f921"
             ]
            ],
            "type": "histogram2dcontour"
           }
          ],
          "mesh3d": [
           {
            "colorbar": {
             "outlinewidth": 0,
             "ticks": ""
            },
            "type": "mesh3d"
           }
          ],
          "parcoords": [
           {
            "line": {
             "colorbar": {
              "outlinewidth": 0,
              "ticks": ""
             }
            },
            "type": "parcoords"
           }
          ],
          "pie": [
           {
            "automargin": true,
            "type": "pie"
           }
          ],
          "scatter": [
           {
            "fillpattern": {
             "fillmode": "overlay",
             "size": 10,
             "solidity": 0.2
            },
            "type": "scatter"
           }
          ],
          "scatter3d": [
           {
            "line": {
             "colorbar": {
              "outlinewidth": 0,
              "ticks": ""
             }
            },
            "marker": {
             "colorbar": {
              "outlinewidth": 0,
              "ticks": ""
             }
            },
            "type": "scatter3d"
           }
          ],
          "scattercarpet": [
           {
            "marker": {
             "colorbar": {
              "outlinewidth": 0,
              "ticks": ""
             }
            },
            "type": "scattercarpet"
           }
          ],
          "scattergeo": [
           {
            "marker": {
             "colorbar": {
              "outlinewidth": 0,
              "ticks": ""
             }
            },
            "type": "scattergeo"
           }
          ],
          "scattergl": [
           {
            "marker": {
             "colorbar": {
              "outlinewidth": 0,
              "ticks": ""
             }
            },
            "type": "scattergl"
           }
          ],
          "scattermap": [
           {
            "marker": {
             "colorbar": {
              "outlinewidth": 0,
              "ticks": ""
             }
            },
            "type": "scattermap"
           }
          ],
          "scattermapbox": [
           {
            "marker": {
             "colorbar": {
              "outlinewidth": 0,
              "ticks": ""
             }
            },
            "type": "scattermapbox"
           }
          ],
          "scatterpolar": [
           {
            "marker": {
             "colorbar": {
              "outlinewidth": 0,
              "ticks": ""
             }
            },
            "type": "scatterpolar"
           }
          ],
          "scatterpolargl": [
           {
            "marker": {
             "colorbar": {
              "outlinewidth": 0,
              "ticks": ""
             }
            },
            "type": "scatterpolargl"
           }
          ],
          "scatterternary": [
           {
            "marker": {
             "colorbar": {
              "outlinewidth": 0,
              "ticks": ""
             }
            },
            "type": "scatterternary"
           }
          ],
          "surface": [
           {
            "colorbar": {
             "outlinewidth": 0,
             "ticks": ""
            },
            "colorscale": [
             [
              0,
              "#0d0887"
             ],
             [
              0.1111111111111111,
              "#46039f"
             ],
             [
              0.2222222222222222,
              "#7201a8"
             ],
             [
              0.3333333333333333,
              "#9c179e"
             ],
             [
              0.4444444444444444,
              "#bd3786"
             ],
             [
              0.5555555555555556,
              "#d8576b"
             ],
             [
              0.6666666666666666,
              "#ed7953"
             ],
             [
              0.7777777777777778,
              "#fb9f3a"
             ],
             [
              0.8888888888888888,
              "#fdca26"
             ],
             [
              1,
              "#f0f921"
             ]
            ],
            "type": "surface"
           }
          ],
          "table": [
           {
            "cells": {
             "fill": {
              "color": "#EBF0F8"
             },
             "line": {
              "color": "white"
             }
            },
            "header": {
             "fill": {
              "color": "#C8D4E3"
             },
             "line": {
              "color": "white"
             }
            },
            "type": "table"
           }
          ]
         },
         "layout": {
          "annotationdefaults": {
           "arrowcolor": "#2a3f5f",
           "arrowhead": 0,
           "arrowwidth": 1
          },
          "autotypenumbers": "strict",
          "coloraxis": {
           "colorbar": {
            "outlinewidth": 0,
            "ticks": ""
           }
          },
          "colorscale": {
           "diverging": [
            [
             0,
             "#8e0152"
            ],
            [
             0.1,
             "#c51b7d"
            ],
            [
             0.2,
             "#de77ae"
            ],
            [
             0.3,
             "#f1b6da"
            ],
            [
             0.4,
             "#fde0ef"
            ],
            [
             0.5,
             "#f7f7f7"
            ],
            [
             0.6,
             "#e6f5d0"
            ],
            [
             0.7,
             "#b8e186"
            ],
            [
             0.8,
             "#7fbc41"
            ],
            [
             0.9,
             "#4d9221"
            ],
            [
             1,
             "#276419"
            ]
           ],
           "sequential": [
            [
             0,
             "#0d0887"
            ],
            [
             0.1111111111111111,
             "#46039f"
            ],
            [
             0.2222222222222222,
             "#7201a8"
            ],
            [
             0.3333333333333333,
             "#9c179e"
            ],
            [
             0.4444444444444444,
             "#bd3786"
            ],
            [
             0.5555555555555556,
             "#d8576b"
            ],
            [
             0.6666666666666666,
             "#ed7953"
            ],
            [
             0.7777777777777778,
             "#fb9f3a"
            ],
            [
             0.8888888888888888,
             "#fdca26"
            ],
            [
             1,
             "#f0f921"
            ]
           ],
           "sequentialminus": [
            [
             0,
             "#0d0887"
            ],
            [
             0.1111111111111111,
             "#46039f"
            ],
            [
             0.2222222222222222,
             "#7201a8"
            ],
            [
             0.3333333333333333,
             "#9c179e"
            ],
            [
             0.4444444444444444,
             "#bd3786"
            ],
            [
             0.5555555555555556,
             "#d8576b"
            ],
            [
             0.6666666666666666,
             "#ed7953"
            ],
            [
             0.7777777777777778,
             "#fb9f3a"
            ],
            [
             0.8888888888888888,
             "#fdca26"
            ],
            [
             1,
             "#f0f921"
            ]
           ]
          },
          "colorway": [
           "#636efa",
           "#EF553B",
           "#00cc96",
           "#ab63fa",
           "#FFA15A",
           "#19d3f3",
           "#FF6692",
           "#B6E880",
           "#FF97FF",
           "#FECB52"
          ],
          "font": {
           "color": "#2a3f5f"
          },
          "geo": {
           "bgcolor": "white",
           "lakecolor": "white",
           "landcolor": "#E5ECF6",
           "showlakes": true,
           "showland": true,
           "subunitcolor": "white"
          },
          "hoverlabel": {
           "align": "left"
          },
          "hovermode": "closest",
          "mapbox": {
           "style": "light"
          },
          "paper_bgcolor": "white",
          "plot_bgcolor": "#E5ECF6",
          "polar": {
           "angularaxis": {
            "gridcolor": "white",
            "linecolor": "white",
            "ticks": ""
           },
           "bgcolor": "#E5ECF6",
           "radialaxis": {
            "gridcolor": "white",
            "linecolor": "white",
            "ticks": ""
           }
          },
          "scene": {
           "xaxis": {
            "backgroundcolor": "#E5ECF6",
            "gridcolor": "white",
            "gridwidth": 2,
            "linecolor": "white",
            "showbackground": true,
            "ticks": "",
            "zerolinecolor": "white"
           },
           "yaxis": {
            "backgroundcolor": "#E5ECF6",
            "gridcolor": "white",
            "gridwidth": 2,
            "linecolor": "white",
            "showbackground": true,
            "ticks": "",
            "zerolinecolor": "white"
           },
           "zaxis": {
            "backgroundcolor": "#E5ECF6",
            "gridcolor": "white",
            "gridwidth": 2,
            "linecolor": "white",
            "showbackground": true,
            "ticks": "",
            "zerolinecolor": "white"
           }
          },
          "shapedefaults": {
           "line": {
            "color": "#2a3f5f"
           }
          },
          "ternary": {
           "aaxis": {
            "gridcolor": "white",
            "linecolor": "white",
            "ticks": ""
           },
           "baxis": {
            "gridcolor": "white",
            "linecolor": "white",
            "ticks": ""
           },
           "bgcolor": "#E5ECF6",
           "caxis": {
            "gridcolor": "white",
            "linecolor": "white",
            "ticks": ""
           }
          },
          "title": {
           "x": 0.05
          },
          "xaxis": {
           "automargin": true,
           "gridcolor": "white",
           "linecolor": "white",
           "ticks": "",
           "title": {
            "standoff": 15
           },
           "zerolinecolor": "white",
           "zerolinewidth": 2
          },
          "yaxis": {
           "automargin": true,
           "gridcolor": "white",
           "linecolor": "white",
           "ticks": "",
           "title": {
            "standoff": 15
           },
           "zerolinecolor": "white",
           "zerolinewidth": 2
          }
         }
        },
        "title": {
         "text": "Revenue Share by Channel)"
        },
        "uniformtext": {
         "minsize": 7,
         "mode": "show"
        },
        "width": 800,
        "xaxis": {
         "anchor": "y",
         "domain": [
          0,
          0.45
         ]
        },
        "xaxis2": {
         "anchor": "y2",
         "domain": [
          0.55,
          1
         ]
        },
        "yaxis": {
         "anchor": "x",
         "domain": [
          0,
          1
         ],
         "title": {
          "text": "Revenue (%)"
         }
        },
        "yaxis2": {
         "anchor": "x2",
         "domain": [
          0,
          1
         ],
         "matches": "y",
         "showticklabels": false
        }
       }
      }
     },
     "metadata": {},
     "output_type": "display_data"
    }
   ],
   "source": [
    "import plotly.graph_objects as go\n",
    "from plotly.subplots import make_subplots\n",
    "\n",
    "# Get unique brands\n",
    "brands = grouped[\"Brand\"].unique()\n",
    "\n",
    "# Initialize subplot\n",
    "fig = make_subplots(\n",
    "    rows=1, cols=len(brands),\n",
    "    subplot_titles=brands,\n",
    "    shared_yaxes=True\n",
    ")\n",
    "\n",
    "# Add traces for each brand\n",
    "for i, brand in enumerate(brands):\n",
    "    df_brand = grouped[grouped[\"Brand\"] == brand]\n",
    "    fig.add_trace(\n",
    "        go.Bar(\n",
    "            x=df_brand[\"OrderMode\"],\n",
    "            y=df_brand[\"RevenueSharePct\"],\n",
    "            text=df_brand[\"revenue_text\"],\n",
    "            textposition=\"outside\",\n",
    "            marker_color=brand_colors.get(brand, \"gray\"),\n",
    "            name=brand,\n",
    "            showlegend=False\n",
    "        ),\n",
    "        row=1, col=i+1\n",
    "    )\n",
    "\n",
    "# Layout settings\n",
    "fig.update_layout(\n",
    "    title=\"Revenue Share by Channel)\",\n",
    "    yaxis_title=\"Revenue (%)\",\n",
    "    height=500,\n",
    "    width=800,\n",
    "    uniformtext_minsize=7,\n",
    "    uniformtext_mode='show'\n",
    ")\n",
    "fig.write_image('Revenue Share.png')\n",
    "fig.show()\n"
   ]
  },
  {
   "cell_type": "code",
   "execution_count": 41,
   "metadata": {},
   "outputs": [
    {
     "data": {
      "text/plain": [
       "Brand\n",
       "LC    72\n",
       "WS    74\n",
       "Name: StoreID, dtype: int64"
      ]
     },
     "execution_count": 41,
     "metadata": {},
     "output_type": "execute_result"
    }
   ],
   "source": [
    "last_week.groupby(['Brand'])['StoreID'].nunique()\n"
   ]
  },
  {
   "cell_type": "code",
   "execution_count": 16,
   "metadata": {},
   "outputs": [],
   "source": [
    "last_week.to_csv('week_2025-03-10.csv')\n"
   ]
  },
  {
   "cell_type": "code",
   "execution_count": 43,
   "metadata": {},
   "outputs": [
    {
     "data": {
      "text/html": [
       "<div>\n",
       "<style scoped>\n",
       "    .dataframe tbody tr th:only-of-type {\n",
       "        vertical-align: middle;\n",
       "    }\n",
       "\n",
       "    .dataframe tbody tr th {\n",
       "        vertical-align: top;\n",
       "    }\n",
       "\n",
       "    .dataframe thead th {\n",
       "        text-align: right;\n",
       "    }\n",
       "</style>\n",
       "<table border=\"1\" class=\"dataframe\">\n",
       "  <thead>\n",
       "    <tr style=\"text-align: right;\">\n",
       "      <th></th>\n",
       "      <th>StoreID</th>\n",
       "      <th>OrderMode</th>\n",
       "      <th>WeekStartDate</th>\n",
       "      <th>WeeklyNetAmount</th>\n",
       "      <th>channel</th>\n",
       "      <th>Brand</th>\n",
       "      <th>revenue</th>\n",
       "    </tr>\n",
       "  </thead>\n",
       "  <tbody>\n",
       "    <tr>\n",
       "      <th>251</th>\n",
       "      <td>01389-00001</td>\n",
       "      <td>Mobile</td>\n",
       "      <td>2025-03-10</td>\n",
       "      <td>6753.66</td>\n",
       "      <td>1PO</td>\n",
       "      <td>LC</td>\n",
       "      <td>6753.66</td>\n",
       "    </tr>\n",
       "    <tr>\n",
       "      <th>252</th>\n",
       "      <td>01389-00001</td>\n",
       "      <td>Grubhub</td>\n",
       "      <td>2025-03-10</td>\n",
       "      <td>57.99</td>\n",
       "      <td>3PO</td>\n",
       "      <td>LC</td>\n",
       "      <td>57.99</td>\n",
       "    </tr>\n",
       "    <tr>\n",
       "      <th>253</th>\n",
       "      <td>01389-00001</td>\n",
       "      <td>DoorDash</td>\n",
       "      <td>2025-03-10</td>\n",
       "      <td>3007.84</td>\n",
       "      <td>3PO</td>\n",
       "      <td>LC</td>\n",
       "      <td>3007.84</td>\n",
       "    </tr>\n",
       "    <tr>\n",
       "      <th>254</th>\n",
       "      <td>01389-00001</td>\n",
       "      <td>UberEats</td>\n",
       "      <td>2025-03-10</td>\n",
       "      <td>228.32</td>\n",
       "      <td>3PO</td>\n",
       "      <td>LC</td>\n",
       "      <td>228.32</td>\n",
       "    </tr>\n",
       "    <tr>\n",
       "      <th>255</th>\n",
       "      <td>01389-00001</td>\n",
       "      <td>Website</td>\n",
       "      <td>2025-03-10</td>\n",
       "      <td>3113.38</td>\n",
       "      <td>1PO</td>\n",
       "      <td>LC</td>\n",
       "      <td>3113.38</td>\n",
       "    </tr>\n",
       "  </tbody>\n",
       "</table>\n",
       "</div>"
      ],
      "text/plain": [
       "         StoreID OrderMode WeekStartDate  WeeklyNetAmount channel Brand  \\\n",
       "251  01389-00001    Mobile    2025-03-10          6753.66     1PO    LC   \n",
       "252  01389-00001   Grubhub    2025-03-10            57.99     3PO    LC   \n",
       "253  01389-00001  DoorDash    2025-03-10          3007.84     3PO    LC   \n",
       "254  01389-00001  UberEats    2025-03-10           228.32     3PO    LC   \n",
       "255  01389-00001   Website    2025-03-10          3113.38     1PO    LC   \n",
       "\n",
       "     revenue  \n",
       "251  6753.66  \n",
       "252    57.99  \n",
       "253  3007.84  \n",
       "254   228.32  \n",
       "255  3113.38  "
      ]
     },
     "execution_count": 43,
     "metadata": {},
     "output_type": "execute_result"
    }
   ],
   "source": [
    "last_week.head()\n"
   ]
  },
  {
   "cell_type": "code",
   "execution_count": 50,
   "metadata": {},
   "outputs": [
    {
     "data": {
      "text/html": [
       "<div>\n",
       "<style scoped>\n",
       "    .dataframe tbody tr th:only-of-type {\n",
       "        vertical-align: middle;\n",
       "    }\n",
       "\n",
       "    .dataframe tbody tr th {\n",
       "        vertical-align: top;\n",
       "    }\n",
       "\n",
       "    .dataframe thead th {\n",
       "        text-align: right;\n",
       "    }\n",
       "</style>\n",
       "<table border=\"1\" class=\"dataframe\">\n",
       "  <thead>\n",
       "    <tr style=\"text-align: right;\">\n",
       "      <th></th>\n",
       "      <th>Brand</th>\n",
       "      <th>StoreID</th>\n",
       "      <th>WeeklyNetAmount</th>\n",
       "      <th>RevenueSharePct</th>\n",
       "    </tr>\n",
       "  </thead>\n",
       "  <tbody>\n",
       "    <tr>\n",
       "      <th>143</th>\n",
       "      <td>WS</td>\n",
       "      <td>84</td>\n",
       "      <td>46901.82</td>\n",
       "      <td>2.490027</td>\n",
       "    </tr>\n",
       "    <tr>\n",
       "      <th>135</th>\n",
       "      <td>WS</td>\n",
       "      <td>448</td>\n",
       "      <td>45726.36</td>\n",
       "      <td>2.427621</td>\n",
       "    </tr>\n",
       "    <tr>\n",
       "      <th>43</th>\n",
       "      <td>LC</td>\n",
       "      <td>03222-00015</td>\n",
       "      <td>17965.57</td>\n",
       "      <td>2.400080</td>\n",
       "    </tr>\n",
       "    <tr>\n",
       "      <th>53</th>\n",
       "      <td>LC</td>\n",
       "      <td>03222-00026</td>\n",
       "      <td>17934.57</td>\n",
       "      <td>2.395938</td>\n",
       "    </tr>\n",
       "    <tr>\n",
       "      <th>23</th>\n",
       "      <td>LC</td>\n",
       "      <td>01940-00010</td>\n",
       "      <td>17852.60</td>\n",
       "      <td>2.384988</td>\n",
       "    </tr>\n",
       "    <tr>\n",
       "      <th>...</th>\n",
       "      <td>...</td>\n",
       "      <td>...</td>\n",
       "      <td>...</td>\n",
       "      <td>...</td>\n",
       "    </tr>\n",
       "    <tr>\n",
       "      <th>130</th>\n",
       "      <td>WS</td>\n",
       "      <td>2884</td>\n",
       "      <td>11713.46</td>\n",
       "      <td>0.621870</td>\n",
       "    </tr>\n",
       "    <tr>\n",
       "      <th>41</th>\n",
       "      <td>LC</td>\n",
       "      <td>03222-00009</td>\n",
       "      <td>4579.15</td>\n",
       "      <td>0.611744</td>\n",
       "    </tr>\n",
       "    <tr>\n",
       "      <th>42</th>\n",
       "      <td>LC</td>\n",
       "      <td>03222-00010</td>\n",
       "      <td>4456.45</td>\n",
       "      <td>0.595352</td>\n",
       "    </tr>\n",
       "    <tr>\n",
       "      <th>126</th>\n",
       "      <td>WS</td>\n",
       "      <td>2851</td>\n",
       "      <td>10437.94</td>\n",
       "      <td>0.554152</td>\n",
       "    </tr>\n",
       "    <tr>\n",
       "      <th>71</th>\n",
       "      <td>LC</td>\n",
       "      <td>03646-00004</td>\n",
       "      <td>3661.19</td>\n",
       "      <td>0.489110</td>\n",
       "    </tr>\n",
       "  </tbody>\n",
       "</table>\n",
       "<p>146 rows × 4 columns</p>\n",
       "</div>"
      ],
      "text/plain": [
       "    Brand      StoreID  WeeklyNetAmount  RevenueSharePct\n",
       "143    WS           84         46901.82         2.490027\n",
       "135    WS          448         45726.36         2.427621\n",
       "43     LC  03222-00015         17965.57         2.400080\n",
       "53     LC  03222-00026         17934.57         2.395938\n",
       "23     LC  01940-00010         17852.60         2.384988\n",
       "..    ...          ...              ...              ...\n",
       "130    WS         2884         11713.46         0.621870\n",
       "41     LC  03222-00009          4579.15         0.611744\n",
       "42     LC  03222-00010          4456.45         0.595352\n",
       "126    WS         2851         10437.94         0.554152\n",
       "71     LC  03646-00004          3661.19         0.489110\n",
       "\n",
       "[146 rows x 4 columns]"
      ]
     },
     "execution_count": 50,
     "metadata": {},
     "output_type": "execute_result"
    }
   ],
   "source": [
    "# Step 1: Group by Brand and Store to get total revenue per store\n",
    "store_rev = last_week.groupby(['Brand', 'StoreID'])['WeeklyNetAmount'].sum().reset_index()\n",
    "\n",
    "# Step 2: Compute total revenue per Brand\n",
    "brand_total = store_rev.groupby('Brand')['WeeklyNetAmount'].transform('sum')\n",
    "\n",
    "# Step 3: Calculate revenue share per store within brand\n",
    "store_rev['RevenueSharePct'] = (store_rev['WeeklyNetAmount'] / brand_total) * 100\n",
    "\n",
    "store_rev.sort_values(by='RevenueSharePct',ascending=False)\n"
   ]
  },
  {
   "cell_type": "code",
   "execution_count": null,
   "metadata": {},
   "outputs": [],
   "source": [
    "\n"
   ]
  },
  {
   "cell_type": "code",
   "execution_count": 51,
   "metadata": {},
   "outputs": [
    {
     "data": {
      "application/vnd.plotly.v1+json": {
       "config": {
        "plotlyServerURL": "https://plot.ly"
       },
       "data": [
        {
         "alignmentgroup": "True",
         "box": {
          "visible": true
         },
         "hovertemplate": "Brand=%{x}<br>RevenueSharePct=%{y}<extra></extra>",
         "legendgroup": "LC",
         "marker": {
          "color": "rgb(246, 35, 151)"
         },
         "name": "LC",
         "offsetgroup": "LC",
         "orientation": "v",
         "points": "all",
         "scalegroup": "True",
         "showlegend": true,
         "type": "violin",
         "x": [
          "LC",
          "LC",
          "LC",
          "LC",
          "LC",
          "LC",
          "LC",
          "LC",
          "LC",
          "LC",
          "LC",
          "LC",
          "LC",
          "LC",
          "LC",
          "LC",
          "LC",
          "LC",
          "LC",
          "LC",
          "LC",
          "LC",
          "LC",
          "LC",
          "LC",
          "LC",
          "LC",
          "LC",
          "LC",
          "LC",
          "LC",
          "LC",
          "LC",
          "LC",
          "LC",
          "LC",
          "LC",
          "LC",
          "LC",
          "LC",
          "LC",
          "LC",
          "LC",
          "LC",
          "LC",
          "LC",
          "LC",
          "LC",
          "LC",
          "LC",
          "LC",
          "LC",
          "LC",
          "LC",
          "LC",
          "LC",
          "LC",
          "LC",
          "LC",
          "LC",
          "LC",
          "LC",
          "LC",
          "LC",
          "LC",
          "LC",
          "LC",
          "LC",
          "LC",
          "LC",
          "LC",
          "LC"
         ],
         "x0": " ",
         "xaxis": "x",
         "y": {
          "bdata": "qnUpdcch/D+hjkpmd0XyP++A+ZBGpOg/iwVTmtg09T+D9kZxz8H6P2nbaQysGPY/+5CWFGcr9j8ax9Cu5Xv8P2YZfxobf/A//Gv8I3hn8j/DDyJ13XbwP6E7Ldk4J/Y/Ra6Vzyj56j8HepxnCOz2P4heiIe+kOs/8RkCkVLy+D8BuOAPLZL+PzIcDNPYWPE/NwM/PjvY/D9enKsPnk/3PzMiL7oRXf0/uF23blPt/D+XXSnFGpP4P5koqn50FANAzFe7dx2s+z9OOiT5C44CQDMcrcNVPvo/n4QEaNcq+D8ldXAGwzXyP8/JRmF1ZPE/DgupPW9k7T+O+nCkj/f1Pz/npP/am/k/QJmV7wua+z8Co1q7+Qn3P98ySZD6vPE/neKVaYGO7z/sD6KkpXjzP+hqDK/dFPg/EI4ED2aO6D/wqME1T2z5P5qlT7Bnk+M/MvfbYh8N4z81q2MRXTMDQLzcu7ZZavk/wco0m3NRAUA23fWD77H1P3pnyz4QGe0/6iDqnMkj8z+lm10O2hvrP/7xJQysHe4/D9n9iRKP9D/7QPY/Ec3rP/VeG8nhKgNA9AS0GeGn9j/uy/oqNm3tP4N/LXyOCPE/beLeX+H38j9TL4RvLND+PxWwZ7R9kfQ/17SOEycBA0Dlbxxy6boAQGFHbSSrkeY/Ya8E/BBZ9j/BHSDFBm3wPwzxBe9xvvo/INrV1LW68z/NcoLZ/AzwP3nsbZKS8vI/lKe5Ny3v/T8indtsVCEAQMWUP/+VTd8/",
          "dtype": "f8"
         },
         "y0": " ",
         "yaxis": "y"
        },
        {
         "alignmentgroup": "True",
         "box": {
          "visible": true
         },
         "hovertemplate": "Brand=%{x}<br>RevenueSharePct=%{y}<extra></extra>",
         "legendgroup": "WS",
         "marker": {
          "color": "rgb(22, 198, 206)"
         },
         "name": "WS",
         "offsetgroup": "WS",
         "orientation": "v",
         "points": "all",
         "scalegroup": "True",
         "showlegend": true,
         "type": "violin",
         "x": [
          "WS",
          "WS",
          "WS",
          "WS",
          "WS",
          "WS",
          "WS",
          "WS",
          "WS",
          "WS",
          "WS",
          "WS",
          "WS",
          "WS",
          "WS",
          "WS",
          "WS",
          "WS",
          "WS",
          "WS",
          "WS",
          "WS",
          "WS",
          "WS",
          "WS",
          "WS",
          "WS",
          "WS",
          "WS",
          "WS",
          "WS",
          "WS",
          "WS",
          "WS",
          "WS",
          "WS",
          "WS",
          "WS",
          "WS",
          "WS",
          "WS",
          "WS",
          "WS",
          "WS",
          "WS",
          "WS",
          "WS",
          "WS",
          "WS",
          "WS",
          "WS",
          "WS",
          "WS",
          "WS",
          "WS",
          "WS",
          "WS",
          "WS",
          "WS",
          "WS",
          "WS",
          "WS",
          "WS",
          "WS",
          "WS",
          "WS",
          "WS",
          "WS",
          "WS",
          "WS",
          "WS",
          "WS",
          "WS",
          "WS"
         ],
         "x0": " ",
         "xaxis": "x",
         "y": {
          "bdata": "a75ViOyp+T84JwUbxAABQBgrKNGEkf4/D1QHMr3D8j/AUoHEvSv7P3+wIuFsj/I/wgrss1338T/KECI8YK/zP4NIEKr/bvs/6sipW8L4+D9SzFrkVVP8PxYFn5qnm/M/P+/A3yrO9D/idm/H88LxPw7WjBF5tP4/8p77NaIz+T9Wv1BfaG/wP+luPlAwG/U/tnnUepEE8T+PuiP7B3P5P8J2M3fcC+0/Nr2MNgZP7z+Jc/VLGhXuP6DOYqoHAfc/9Ls8t4Y18j+R3s1dkATxPznbQs0eVPI/BYRMbFJf8T8Nx0DxrWnxPzpNsmMUIfU/veWgg2ay6T+qasEB4ur5P4/BVFcoePw/a2lZPG6u/D/LhXTnBAXvP2rjl59Eqfc/QubUbMEq8j/+kuAIydv9P4++CL41X/k/MuhuJ9XY7D/k09J5f7fzP0MACbVhh/c/1dZcWA5h9D/4iXDFdAT0PyEGxa1s6PE/n/Ds73/C7D+gVeWqKiv3P4iQXHThp/c/ik0yUXtl8z8jYaCHrXP3Py7bUDFrOvg/fbkksPOK+D/sN1/hmVjvPwwEEAOfvuo/PxfngJ274T+YuSGhJqHrP2g21I30sOw/8Oodmbrz9D8WgVucW+bjPz6tzHIU7vg/MsVH5gdU+D8uDx/pQPnxP6oNSPM4nvQ/8lH/tcRrA0Ad9aZRMrDxP13FI3R/tv0/ryYe9ZkPAEAABfPnw/L6P12vmOsMXeQ/Pnz95/vK+T+TQRrYS6LyPx5wzxyT6wNAQNIt/yiL9D/H+7j2LFgAQA==",
          "dtype": "f8"
         },
         "y0": " ",
         "yaxis": "y"
        }
       ],
       "layout": {
        "height": 500,
        "legend": {
         "title": {
          "text": "Brand"
         },
         "tracegroupgap": 0
        },
        "template": {
         "data": {
          "bar": [
           {
            "error_x": {
             "color": "#2a3f5f"
            },
            "error_y": {
             "color": "#2a3f5f"
            },
            "marker": {
             "line": {
              "color": "#E5ECF6",
              "width": 0.5
             },
             "pattern": {
              "fillmode": "overlay",
              "size": 10,
              "solidity": 0.2
             }
            },
            "type": "bar"
           }
          ],
          "barpolar": [
           {
            "marker": {
             "line": {
              "color": "#E5ECF6",
              "width": 0.5
             },
             "pattern": {
              "fillmode": "overlay",
              "size": 10,
              "solidity": 0.2
             }
            },
            "type": "barpolar"
           }
          ],
          "carpet": [
           {
            "aaxis": {
             "endlinecolor": "#2a3f5f",
             "gridcolor": "white",
             "linecolor": "white",
             "minorgridcolor": "white",
             "startlinecolor": "#2a3f5f"
            },
            "baxis": {
             "endlinecolor": "#2a3f5f",
             "gridcolor": "white",
             "linecolor": "white",
             "minorgridcolor": "white",
             "startlinecolor": "#2a3f5f"
            },
            "type": "carpet"
           }
          ],
          "choropleth": [
           {
            "colorbar": {
             "outlinewidth": 0,
             "ticks": ""
            },
            "type": "choropleth"
           }
          ],
          "contour": [
           {
            "colorbar": {
             "outlinewidth": 0,
             "ticks": ""
            },
            "colorscale": [
             [
              0,
              "#0d0887"
             ],
             [
              0.1111111111111111,
              "#46039f"
             ],
             [
              0.2222222222222222,
              "#7201a8"
             ],
             [
              0.3333333333333333,
              "#9c179e"
             ],
             [
              0.4444444444444444,
              "#bd3786"
             ],
             [
              0.5555555555555556,
              "#d8576b"
             ],
             [
              0.6666666666666666,
              "#ed7953"
             ],
             [
              0.7777777777777778,
              "#fb9f3a"
             ],
             [
              0.8888888888888888,
              "#fdca26"
             ],
             [
              1,
              "#f0f921"
             ]
            ],
            "type": "contour"
           }
          ],
          "contourcarpet": [
           {
            "colorbar": {
             "outlinewidth": 0,
             "ticks": ""
            },
            "type": "contourcarpet"
           }
          ],
          "heatmap": [
           {
            "colorbar": {
             "outlinewidth": 0,
             "ticks": ""
            },
            "colorscale": [
             [
              0,
              "#0d0887"
             ],
             [
              0.1111111111111111,
              "#46039f"
             ],
             [
              0.2222222222222222,
              "#7201a8"
             ],
             [
              0.3333333333333333,
              "#9c179e"
             ],
             [
              0.4444444444444444,
              "#bd3786"
             ],
             [
              0.5555555555555556,
              "#d8576b"
             ],
             [
              0.6666666666666666,
              "#ed7953"
             ],
             [
              0.7777777777777778,
              "#fb9f3a"
             ],
             [
              0.8888888888888888,
              "#fdca26"
             ],
             [
              1,
              "#f0f921"
             ]
            ],
            "type": "heatmap"
           }
          ],
          "histogram": [
           {
            "marker": {
             "pattern": {
              "fillmode": "overlay",
              "size": 10,
              "solidity": 0.2
             }
            },
            "type": "histogram"
           }
          ],
          "histogram2d": [
           {
            "colorbar": {
             "outlinewidth": 0,
             "ticks": ""
            },
            "colorscale": [
             [
              0,
              "#0d0887"
             ],
             [
              0.1111111111111111,
              "#46039f"
             ],
             [
              0.2222222222222222,
              "#7201a8"
             ],
             [
              0.3333333333333333,
              "#9c179e"
             ],
             [
              0.4444444444444444,
              "#bd3786"
             ],
             [
              0.5555555555555556,
              "#d8576b"
             ],
             [
              0.6666666666666666,
              "#ed7953"
             ],
             [
              0.7777777777777778,
              "#fb9f3a"
             ],
             [
              0.8888888888888888,
              "#fdca26"
             ],
             [
              1,
              "#f0f921"
             ]
            ],
            "type": "histogram2d"
           }
          ],
          "histogram2dcontour": [
           {
            "colorbar": {
             "outlinewidth": 0,
             "ticks": ""
            },
            "colorscale": [
             [
              0,
              "#0d0887"
             ],
             [
              0.1111111111111111,
              "#46039f"
             ],
             [
              0.2222222222222222,
              "#7201a8"
             ],
             [
              0.3333333333333333,
              "#9c179e"
             ],
             [
              0.4444444444444444,
              "#bd3786"
             ],
             [
              0.5555555555555556,
              "#d8576b"
             ],
             [
              0.6666666666666666,
              "#ed7953"
             ],
             [
              0.7777777777777778,
              "#fb9f3a"
             ],
             [
              0.8888888888888888,
              "#fdca26"
             ],
             [
              1,
              "#f0f921"
             ]
            ],
            "type": "histogram2dcontour"
           }
          ],
          "mesh3d": [
           {
            "colorbar": {
             "outlinewidth": 0,
             "ticks": ""
            },
            "type": "mesh3d"
           }
          ],
          "parcoords": [
           {
            "line": {
             "colorbar": {
              "outlinewidth": 0,
              "ticks": ""
             }
            },
            "type": "parcoords"
           }
          ],
          "pie": [
           {
            "automargin": true,
            "type": "pie"
           }
          ],
          "scatter": [
           {
            "fillpattern": {
             "fillmode": "overlay",
             "size": 10,
             "solidity": 0.2
            },
            "type": "scatter"
           }
          ],
          "scatter3d": [
           {
            "line": {
             "colorbar": {
              "outlinewidth": 0,
              "ticks": ""
             }
            },
            "marker": {
             "colorbar": {
              "outlinewidth": 0,
              "ticks": ""
             }
            },
            "type": "scatter3d"
           }
          ],
          "scattercarpet": [
           {
            "marker": {
             "colorbar": {
              "outlinewidth": 0,
              "ticks": ""
             }
            },
            "type": "scattercarpet"
           }
          ],
          "scattergeo": [
           {
            "marker": {
             "colorbar": {
              "outlinewidth": 0,
              "ticks": ""
             }
            },
            "type": "scattergeo"
           }
          ],
          "scattergl": [
           {
            "marker": {
             "colorbar": {
              "outlinewidth": 0,
              "ticks": ""
             }
            },
            "type": "scattergl"
           }
          ],
          "scattermap": [
           {
            "marker": {
             "colorbar": {
              "outlinewidth": 0,
              "ticks": ""
             }
            },
            "type": "scattermap"
           }
          ],
          "scattermapbox": [
           {
            "marker": {
             "colorbar": {
              "outlinewidth": 0,
              "ticks": ""
             }
            },
            "type": "scattermapbox"
           }
          ],
          "scatterpolar": [
           {
            "marker": {
             "colorbar": {
              "outlinewidth": 0,
              "ticks": ""
             }
            },
            "type": "scatterpolar"
           }
          ],
          "scatterpolargl": [
           {
            "marker": {
             "colorbar": {
              "outlinewidth": 0,
              "ticks": ""
             }
            },
            "type": "scatterpolargl"
           }
          ],
          "scatterternary": [
           {
            "marker": {
             "colorbar": {
              "outlinewidth": 0,
              "ticks": ""
             }
            },
            "type": "scatterternary"
           }
          ],
          "surface": [
           {
            "colorbar": {
             "outlinewidth": 0,
             "ticks": ""
            },
            "colorscale": [
             [
              0,
              "#0d0887"
             ],
             [
              0.1111111111111111,
              "#46039f"
             ],
             [
              0.2222222222222222,
              "#7201a8"
             ],
             [
              0.3333333333333333,
              "#9c179e"
             ],
             [
              0.4444444444444444,
              "#bd3786"
             ],
             [
              0.5555555555555556,
              "#d8576b"
             ],
             [
              0.6666666666666666,
              "#ed7953"
             ],
             [
              0.7777777777777778,
              "#fb9f3a"
             ],
             [
              0.8888888888888888,
              "#fdca26"
             ],
             [
              1,
              "#f0f921"
             ]
            ],
            "type": "surface"
           }
          ],
          "table": [
           {
            "cells": {
             "fill": {
              "color": "#EBF0F8"
             },
             "line": {
              "color": "white"
             }
            },
            "header": {
             "fill": {
              "color": "#C8D4E3"
             },
             "line": {
              "color": "white"
             }
            },
            "type": "table"
           }
          ]
         },
         "layout": {
          "annotationdefaults": {
           "arrowcolor": "#2a3f5f",
           "arrowhead": 0,
           "arrowwidth": 1
          },
          "autotypenumbers": "strict",
          "coloraxis": {
           "colorbar": {
            "outlinewidth": 0,
            "ticks": ""
           }
          },
          "colorscale": {
           "diverging": [
            [
             0,
             "#8e0152"
            ],
            [
             0.1,
             "#c51b7d"
            ],
            [
             0.2,
             "#de77ae"
            ],
            [
             0.3,
             "#f1b6da"
            ],
            [
             0.4,
             "#fde0ef"
            ],
            [
             0.5,
             "#f7f7f7"
            ],
            [
             0.6,
             "#e6f5d0"
            ],
            [
             0.7,
             "#b8e186"
            ],
            [
             0.8,
             "#7fbc41"
            ],
            [
             0.9,
             "#4d9221"
            ],
            [
             1,
             "#276419"
            ]
           ],
           "sequential": [
            [
             0,
             "#0d0887"
            ],
            [
             0.1111111111111111,
             "#46039f"
            ],
            [
             0.2222222222222222,
             "#7201a8"
            ],
            [
             0.3333333333333333,
             "#9c179e"
            ],
            [
             0.4444444444444444,
             "#bd3786"
            ],
            [
             0.5555555555555556,
             "#d8576b"
            ],
            [
             0.6666666666666666,
             "#ed7953"
            ],
            [
             0.7777777777777778,
             "#fb9f3a"
            ],
            [
             0.8888888888888888,
             "#fdca26"
            ],
            [
             1,
             "#f0f921"
            ]
           ],
           "sequentialminus": [
            [
             0,
             "#0d0887"
            ],
            [
             0.1111111111111111,
             "#46039f"
            ],
            [
             0.2222222222222222,
             "#7201a8"
            ],
            [
             0.3333333333333333,
             "#9c179e"
            ],
            [
             0.4444444444444444,
             "#bd3786"
            ],
            [
             0.5555555555555556,
             "#d8576b"
            ],
            [
             0.6666666666666666,
             "#ed7953"
            ],
            [
             0.7777777777777778,
             "#fb9f3a"
            ],
            [
             0.8888888888888888,
             "#fdca26"
            ],
            [
             1,
             "#f0f921"
            ]
           ]
          },
          "colorway": [
           "#636efa",
           "#EF553B",
           "#00cc96",
           "#ab63fa",
           "#FFA15A",
           "#19d3f3",
           "#FF6692",
           "#B6E880",
           "#FF97FF",
           "#FECB52"
          ],
          "font": {
           "color": "#2a3f5f"
          },
          "geo": {
           "bgcolor": "white",
           "lakecolor": "white",
           "landcolor": "#E5ECF6",
           "showlakes": true,
           "showland": true,
           "subunitcolor": "white"
          },
          "hoverlabel": {
           "align": "left"
          },
          "hovermode": "closest",
          "mapbox": {
           "style": "light"
          },
          "paper_bgcolor": "white",
          "plot_bgcolor": "#E5ECF6",
          "polar": {
           "angularaxis": {
            "gridcolor": "white",
            "linecolor": "white",
            "ticks": ""
           },
           "bgcolor": "#E5ECF6",
           "radialaxis": {
            "gridcolor": "white",
            "linecolor": "white",
            "ticks": ""
           }
          },
          "scene": {
           "xaxis": {
            "backgroundcolor": "#E5ECF6",
            "gridcolor": "white",
            "gridwidth": 2,
            "linecolor": "white",
            "showbackground": true,
            "ticks": "",
            "zerolinecolor": "white"
           },
           "yaxis": {
            "backgroundcolor": "#E5ECF6",
            "gridcolor": "white",
            "gridwidth": 2,
            "linecolor": "white",
            "showbackground": true,
            "ticks": "",
            "zerolinecolor": "white"
           },
           "zaxis": {
            "backgroundcolor": "#E5ECF6",
            "gridcolor": "white",
            "gridwidth": 2,
            "linecolor": "white",
            "showbackground": true,
            "ticks": "",
            "zerolinecolor": "white"
           }
          },
          "shapedefaults": {
           "line": {
            "color": "#2a3f5f"
           }
          },
          "ternary": {
           "aaxis": {
            "gridcolor": "white",
            "linecolor": "white",
            "ticks": ""
           },
           "baxis": {
            "gridcolor": "white",
            "linecolor": "white",
            "ticks": ""
           },
           "bgcolor": "#E5ECF6",
           "caxis": {
            "gridcolor": "white",
            "linecolor": "white",
            "ticks": ""
           }
          },
          "title": {
           "x": 0.05
          },
          "xaxis": {
           "automargin": true,
           "gridcolor": "white",
           "linecolor": "white",
           "ticks": "",
           "title": {
            "standoff": 15
           },
           "zerolinecolor": "white",
           "zerolinewidth": 2
          },
          "yaxis": {
           "automargin": true,
           "gridcolor": "white",
           "linecolor": "white",
           "ticks": "",
           "title": {
            "standoff": 15
           },
           "zerolinecolor": "white",
           "zerolinewidth": 2
          }
         }
        },
        "title": {
         "text": "Revenue Share % Distribution by Brand (Violin)"
        },
        "violinmode": "overlay",
        "width": 600,
        "xaxis": {
         "anchor": "y",
         "categoryarray": [
          "LC",
          "WS"
         ],
         "categoryorder": "array",
         "domain": [
          0,
          1
         ],
         "title": {
          "text": "Brand"
         }
        },
        "yaxis": {
         "anchor": "x",
         "domain": [
          0,
          1
         ],
         "title": {
          "text": "Revenue Share (%)"
         }
        }
       }
      }
     },
     "metadata": {},
     "output_type": "display_data"
    }
   ],
   "source": [
    "fig = px.violin(\n",
    "    store_rev,\n",
    "    x='Brand',\n",
    "    y='RevenueSharePct',\n",
    "    box=True,  # Add embedded box plot\n",
    "    points='all',  # Show all data points\n",
    "    title='Revenue Share % Distribution by Brand',\n",
    "    color='Brand',\n",
    "    color_discrete_map=brand_colors\n",
    ")\n",
    "fig.update_layout(\n",
    "    yaxis_title='Revenue Share (%)',\n",
    "    xaxis_title='Brand',\n",
    "    height=500,\n",
    "    width=600\n",
    ")\n",
    "fig.show()\n",
    "\n"
   ]
  },
  {
   "cell_type": "code",
   "execution_count": null,
   "metadata": {},
   "outputs": [],
   "source": []
  },
  {
   "cell_type": "code",
   "execution_count": 57,
   "metadata": {},
   "outputs": [],
   "source": [
    "\n",
    "# Step 1: Calculate 75th percentile for each brand\n",
    "q75 = store_rev.groupby('Brand')['RevenueSharePct'].transform(lambda x: x.quantile(0.85))\n",
    "\n",
    "# Step 2: Filter stores above 75th percentile within their brand\n",
    "top_stores = store_rev[store_rev['RevenueSharePct'] > q75]\n"
   ]
  },
  {
   "cell_type": "code",
   "execution_count": 58,
   "metadata": {},
   "outputs": [
    {
     "data": {
      "application/vnd.plotly.v1+json": {
       "config": {
        "plotlyServerURL": "https://plot.ly"
       },
       "data": [
        {
         "alignmentgroup": "True",
         "box": {
          "visible": true
         },
         "hovertemplate": "Brand=%{x}<br>RevenueSharePct=%{y}<extra></extra>",
         "legendgroup": "LC",
         "marker": {
          "color": "rgb(246, 35, 151)"
         },
         "name": "LC",
         "offsetgroup": "LC",
         "orientation": "v",
         "points": "all",
         "scalegroup": "True",
         "showlegend": true,
         "type": "violin",
         "x": [
          "LC",
          "LC",
          "LC",
          "LC",
          "LC",
          "LC",
          "LC",
          "LC",
          "LC",
          "LC",
          "LC"
         ],
         "x0": " ",
         "xaxis": "x",
         "y": {
          "bdata": "AbjgDy2S/j+ZKKp+dBQDQE46JPkLjgJANatjEV0zA0DByjSbc1EBQPVeG8nhKgNAUy+EbyzQ/j/XtI4TJwEDQOVvHHLpugBAlKe5Ny3v/T8indtsVCEAQA==",
          "dtype": "f8"
         },
         "y0": " ",
         "yaxis": "y"
        },
        {
         "alignmentgroup": "True",
         "box": {
          "visible": true
         },
         "hovertemplate": "Brand=%{x}<br>RevenueSharePct=%{y}<extra></extra>",
         "legendgroup": "WS",
         "marker": {
          "color": "rgb(22, 198, 206)"
         },
         "name": "WS",
         "offsetgroup": "WS",
         "orientation": "v",
         "points": "all",
         "scalegroup": "True",
         "showlegend": true,
         "type": "violin",
         "x": [
          "WS",
          "WS",
          "WS",
          "WS",
          "WS",
          "WS",
          "WS",
          "WS",
          "WS",
          "WS",
          "WS"
         ],
         "x0": " ",
         "xaxis": "x",
         "y": {
          "bdata": "OCcFG8QAAUAYKyjRhJH+Pw7WjBF5tP4/j8FUVyh4/D9raVk8bq78P/6S4AjJ2/0/8lH/tcRrA0BdxSN0f7b9P68mHvWZDwBAHnDPHJPrA0DH+7j2LFgAQA==",
          "dtype": "f8"
         },
         "y0": " ",
         "yaxis": "y"
        }
       ],
       "layout": {
        "height": 500,
        "legend": {
         "title": {
          "text": "Brand"
         },
         "tracegroupgap": 0
        },
        "template": {
         "data": {
          "bar": [
           {
            "error_x": {
             "color": "#2a3f5f"
            },
            "error_y": {
             "color": "#2a3f5f"
            },
            "marker": {
             "line": {
              "color": "#E5ECF6",
              "width": 0.5
             },
             "pattern": {
              "fillmode": "overlay",
              "size": 10,
              "solidity": 0.2
             }
            },
            "type": "bar"
           }
          ],
          "barpolar": [
           {
            "marker": {
             "line": {
              "color": "#E5ECF6",
              "width": 0.5
             },
             "pattern": {
              "fillmode": "overlay",
              "size": 10,
              "solidity": 0.2
             }
            },
            "type": "barpolar"
           }
          ],
          "carpet": [
           {
            "aaxis": {
             "endlinecolor": "#2a3f5f",
             "gridcolor": "white",
             "linecolor": "white",
             "minorgridcolor": "white",
             "startlinecolor": "#2a3f5f"
            },
            "baxis": {
             "endlinecolor": "#2a3f5f",
             "gridcolor": "white",
             "linecolor": "white",
             "minorgridcolor": "white",
             "startlinecolor": "#2a3f5f"
            },
            "type": "carpet"
           }
          ],
          "choropleth": [
           {
            "colorbar": {
             "outlinewidth": 0,
             "ticks": ""
            },
            "type": "choropleth"
           }
          ],
          "contour": [
           {
            "colorbar": {
             "outlinewidth": 0,
             "ticks": ""
            },
            "colorscale": [
             [
              0,
              "#0d0887"
             ],
             [
              0.1111111111111111,
              "#46039f"
             ],
             [
              0.2222222222222222,
              "#7201a8"
             ],
             [
              0.3333333333333333,
              "#9c179e"
             ],
             [
              0.4444444444444444,
              "#bd3786"
             ],
             [
              0.5555555555555556,
              "#d8576b"
             ],
             [
              0.6666666666666666,
              "#ed7953"
             ],
             [
              0.7777777777777778,
              "#fb9f3a"
             ],
             [
              0.8888888888888888,
              "#fdca26"
             ],
             [
              1,
              "#f0f921"
             ]
            ],
            "type": "contour"
           }
          ],
          "contourcarpet": [
           {
            "colorbar": {
             "outlinewidth": 0,
             "ticks": ""
            },
            "type": "contourcarpet"
           }
          ],
          "heatmap": [
           {
            "colorbar": {
             "outlinewidth": 0,
             "ticks": ""
            },
            "colorscale": [
             [
              0,
              "#0d0887"
             ],
             [
              0.1111111111111111,
              "#46039f"
             ],
             [
              0.2222222222222222,
              "#7201a8"
             ],
             [
              0.3333333333333333,
              "#9c179e"
             ],
             [
              0.4444444444444444,
              "#bd3786"
             ],
             [
              0.5555555555555556,
              "#d8576b"
             ],
             [
              0.6666666666666666,
              "#ed7953"
             ],
             [
              0.7777777777777778,
              "#fb9f3a"
             ],
             [
              0.8888888888888888,
              "#fdca26"
             ],
             [
              1,
              "#f0f921"
             ]
            ],
            "type": "heatmap"
           }
          ],
          "histogram": [
           {
            "marker": {
             "pattern": {
              "fillmode": "overlay",
              "size": 10,
              "solidity": 0.2
             }
            },
            "type": "histogram"
           }
          ],
          "histogram2d": [
           {
            "colorbar": {
             "outlinewidth": 0,
             "ticks": ""
            },
            "colorscale": [
             [
              0,
              "#0d0887"
             ],
             [
              0.1111111111111111,
              "#46039f"
             ],
             [
              0.2222222222222222,
              "#7201a8"
             ],
             [
              0.3333333333333333,
              "#9c179e"
             ],
             [
              0.4444444444444444,
              "#bd3786"
             ],
             [
              0.5555555555555556,
              "#d8576b"
             ],
             [
              0.6666666666666666,
              "#ed7953"
             ],
             [
              0.7777777777777778,
              "#fb9f3a"
             ],
             [
              0.8888888888888888,
              "#fdca26"
             ],
             [
              1,
              "#f0f921"
             ]
            ],
            "type": "histogram2d"
           }
          ],
          "histogram2dcontour": [
           {
            "colorbar": {
             "outlinewidth": 0,
             "ticks": ""
            },
            "colorscale": [
             [
              0,
              "#0d0887"
             ],
             [
              0.1111111111111111,
              "#46039f"
             ],
             [
              0.2222222222222222,
              "#7201a8"
             ],
             [
              0.3333333333333333,
              "#9c179e"
             ],
             [
              0.4444444444444444,
              "#bd3786"
             ],
             [
              0.5555555555555556,
              "#d8576b"
             ],
             [
              0.6666666666666666,
              "#ed7953"
             ],
             [
              0.7777777777777778,
              "#fb9f3a"
             ],
             [
              0.8888888888888888,
              "#fdca26"
             ],
             [
              1,
              "#f0f921"
             ]
            ],
            "type": "histogram2dcontour"
           }
          ],
          "mesh3d": [
           {
            "colorbar": {
             "outlinewidth": 0,
             "ticks": ""
            },
            "type": "mesh3d"
           }
          ],
          "parcoords": [
           {
            "line": {
             "colorbar": {
              "outlinewidth": 0,
              "ticks": ""
             }
            },
            "type": "parcoords"
           }
          ],
          "pie": [
           {
            "automargin": true,
            "type": "pie"
           }
          ],
          "scatter": [
           {
            "fillpattern": {
             "fillmode": "overlay",
             "size": 10,
             "solidity": 0.2
            },
            "type": "scatter"
           }
          ],
          "scatter3d": [
           {
            "line": {
             "colorbar": {
              "outlinewidth": 0,
              "ticks": ""
             }
            },
            "marker": {
             "colorbar": {
              "outlinewidth": 0,
              "ticks": ""
             }
            },
            "type": "scatter3d"
           }
          ],
          "scattercarpet": [
           {
            "marker": {
             "colorbar": {
              "outlinewidth": 0,
              "ticks": ""
             }
            },
            "type": "scattercarpet"
           }
          ],
          "scattergeo": [
           {
            "marker": {
             "colorbar": {
              "outlinewidth": 0,
              "ticks": ""
             }
            },
            "type": "scattergeo"
           }
          ],
          "scattergl": [
           {
            "marker": {
             "colorbar": {
              "outlinewidth": 0,
              "ticks": ""
             }
            },
            "type": "scattergl"
           }
          ],
          "scattermap": [
           {
            "marker": {
             "colorbar": {
              "outlinewidth": 0,
              "ticks": ""
             }
            },
            "type": "scattermap"
           }
          ],
          "scattermapbox": [
           {
            "marker": {
             "colorbar": {
              "outlinewidth": 0,
              "ticks": ""
             }
            },
            "type": "scattermapbox"
           }
          ],
          "scatterpolar": [
           {
            "marker": {
             "colorbar": {
              "outlinewidth": 0,
              "ticks": ""
             }
            },
            "type": "scatterpolar"
           }
          ],
          "scatterpolargl": [
           {
            "marker": {
             "colorbar": {
              "outlinewidth": 0,
              "ticks": ""
             }
            },
            "type": "scatterpolargl"
           }
          ],
          "scatterternary": [
           {
            "marker": {
             "colorbar": {
              "outlinewidth": 0,
              "ticks": ""
             }
            },
            "type": "scatterternary"
           }
          ],
          "surface": [
           {
            "colorbar": {
             "outlinewidth": 0,
             "ticks": ""
            },
            "colorscale": [
             [
              0,
              "#0d0887"
             ],
             [
              0.1111111111111111,
              "#46039f"
             ],
             [
              0.2222222222222222,
              "#7201a8"
             ],
             [
              0.3333333333333333,
              "#9c179e"
             ],
             [
              0.4444444444444444,
              "#bd3786"
             ],
             [
              0.5555555555555556,
              "#d8576b"
             ],
             [
              0.6666666666666666,
              "#ed7953"
             ],
             [
              0.7777777777777778,
              "#fb9f3a"
             ],
             [
              0.8888888888888888,
              "#fdca26"
             ],
             [
              1,
              "#f0f921"
             ]
            ],
            "type": "surface"
           }
          ],
          "table": [
           {
            "cells": {
             "fill": {
              "color": "#EBF0F8"
             },
             "line": {
              "color": "white"
             }
            },
            "header": {
             "fill": {
              "color": "#C8D4E3"
             },
             "line": {
              "color": "white"
             }
            },
            "type": "table"
           }
          ]
         },
         "layout": {
          "annotationdefaults": {
           "arrowcolor": "#2a3f5f",
           "arrowhead": 0,
           "arrowwidth": 1
          },
          "autotypenumbers": "strict",
          "coloraxis": {
           "colorbar": {
            "outlinewidth": 0,
            "ticks": ""
           }
          },
          "colorscale": {
           "diverging": [
            [
             0,
             "#8e0152"
            ],
            [
             0.1,
             "#c51b7d"
            ],
            [
             0.2,
             "#de77ae"
            ],
            [
             0.3,
             "#f1b6da"
            ],
            [
             0.4,
             "#fde0ef"
            ],
            [
             0.5,
             "#f7f7f7"
            ],
            [
             0.6,
             "#e6f5d0"
            ],
            [
             0.7,
             "#b8e186"
            ],
            [
             0.8,
             "#7fbc41"
            ],
            [
             0.9,
             "#4d9221"
            ],
            [
             1,
             "#276419"
            ]
           ],
           "sequential": [
            [
             0,
             "#0d0887"
            ],
            [
             0.1111111111111111,
             "#46039f"
            ],
            [
             0.2222222222222222,
             "#7201a8"
            ],
            [
             0.3333333333333333,
             "#9c179e"
            ],
            [
             0.4444444444444444,
             "#bd3786"
            ],
            [
             0.5555555555555556,
             "#d8576b"
            ],
            [
             0.6666666666666666,
             "#ed7953"
            ],
            [
             0.7777777777777778,
             "#fb9f3a"
            ],
            [
             0.8888888888888888,
             "#fdca26"
            ],
            [
             1,
             "#f0f921"
            ]
           ],
           "sequentialminus": [
            [
             0,
             "#0d0887"
            ],
            [
             0.1111111111111111,
             "#46039f"
            ],
            [
             0.2222222222222222,
             "#7201a8"
            ],
            [
             0.3333333333333333,
             "#9c179e"
            ],
            [
             0.4444444444444444,
             "#bd3786"
            ],
            [
             0.5555555555555556,
             "#d8576b"
            ],
            [
             0.6666666666666666,
             "#ed7953"
            ],
            [
             0.7777777777777778,
             "#fb9f3a"
            ],
            [
             0.8888888888888888,
             "#fdca26"
            ],
            [
             1,
             "#f0f921"
            ]
           ]
          },
          "colorway": [
           "#636efa",
           "#EF553B",
           "#00cc96",
           "#ab63fa",
           "#FFA15A",
           "#19d3f3",
           "#FF6692",
           "#B6E880",
           "#FF97FF",
           "#FECB52"
          ],
          "font": {
           "color": "#2a3f5f"
          },
          "geo": {
           "bgcolor": "white",
           "lakecolor": "white",
           "landcolor": "#E5ECF6",
           "showlakes": true,
           "showland": true,
           "subunitcolor": "white"
          },
          "hoverlabel": {
           "align": "left"
          },
          "hovermode": "closest",
          "mapbox": {
           "style": "light"
          },
          "paper_bgcolor": "white",
          "plot_bgcolor": "#E5ECF6",
          "polar": {
           "angularaxis": {
            "gridcolor": "white",
            "linecolor": "white",
            "ticks": ""
           },
           "bgcolor": "#E5ECF6",
           "radialaxis": {
            "gridcolor": "white",
            "linecolor": "white",
            "ticks": ""
           }
          },
          "scene": {
           "xaxis": {
            "backgroundcolor": "#E5ECF6",
            "gridcolor": "white",
            "gridwidth": 2,
            "linecolor": "white",
            "showbackground": true,
            "ticks": "",
            "zerolinecolor": "white"
           },
           "yaxis": {
            "backgroundcolor": "#E5ECF6",
            "gridcolor": "white",
            "gridwidth": 2,
            "linecolor": "white",
            "showbackground": true,
            "ticks": "",
            "zerolinecolor": "white"
           },
           "zaxis": {
            "backgroundcolor": "#E5ECF6",
            "gridcolor": "white",
            "gridwidth": 2,
            "linecolor": "white",
            "showbackground": true,
            "ticks": "",
            "zerolinecolor": "white"
           }
          },
          "shapedefaults": {
           "line": {
            "color": "#2a3f5f"
           }
          },
          "ternary": {
           "aaxis": {
            "gridcolor": "white",
            "linecolor": "white",
            "ticks": ""
           },
           "baxis": {
            "gridcolor": "white",
            "linecolor": "white",
            "ticks": ""
           },
           "bgcolor": "#E5ECF6",
           "caxis": {
            "gridcolor": "white",
            "linecolor": "white",
            "ticks": ""
           }
          },
          "title": {
           "x": 0.05
          },
          "xaxis": {
           "automargin": true,
           "gridcolor": "white",
           "linecolor": "white",
           "ticks": "",
           "title": {
            "standoff": 15
           },
           "zerolinecolor": "white",
           "zerolinewidth": 2
          },
          "yaxis": {
           "automargin": true,
           "gridcolor": "white",
           "linecolor": "white",
           "ticks": "",
           "title": {
            "standoff": 15
           },
           "zerolinecolor": "white",
           "zerolinewidth": 2
          }
         }
        },
        "title": {
         "text": "Revenue Share % Distribution by Brand"
        },
        "violinmode": "overlay",
        "width": 600,
        "xaxis": {
         "anchor": "y",
         "categoryarray": [
          "LC",
          "WS"
         ],
         "categoryorder": "array",
         "domain": [
          0,
          1
         ],
         "title": {
          "text": "Brand"
         }
        },
        "yaxis": {
         "anchor": "x",
         "domain": [
          0,
          1
         ],
         "title": {
          "text": "Revenue Share (%)"
         }
        }
       }
      }
     },
     "metadata": {},
     "output_type": "display_data"
    }
   ],
   "source": [
    "fig = px.violin(\n",
    "    top_stores,\n",
    "    x='Brand',\n",
    "    y='RevenueSharePct',\n",
    "    box=True,  # Add embedded box plot\n",
    "    points='all',  # Show all data points\n",
    "    title='Revenue Share % Distribution by Brand',\n",
    "    color='Brand',\n",
    "    color_discrete_map=brand_colors\n",
    ")\n",
    "fig.update_layout(\n",
    "    yaxis_title='Revenue Share (%)',\n",
    "    xaxis_title='Brand',\n",
    "    height=500,\n",
    "    width=600\n",
    ")\n",
    "fig.show()\n"
   ]
  },
  {
   "cell_type": "code",
   "execution_count": 87,
   "metadata": {},
   "outputs": [
    {
     "name": "stderr",
     "output_type": "stream",
     "text": [
      "/var/folders/lg/b8pw7x296y397cn0g302yt680000gp/T/ipykernel_72299/309156422.py:1: SettingWithCopyWarning:\n",
      "\n",
      "\n",
      "A value is trying to be set on a copy of a slice from a DataFrame\n",
      "\n",
      "See the caveats in the documentation: https://pandas.pydata.org/pandas-docs/stable/user_guide/indexing.html#returning-a-view-versus-a-copy\n",
      "\n"
     ]
    }
   ],
   "source": [
    "top_stores.sort_values(by=['Brand','StoreID','RevenueSharePct'],ascending=False,inplace=True)\n"
   ]
  },
  {
   "cell_type": "code",
   "execution_count": 88,
   "metadata": {},
   "outputs": [
    {
     "data": {
      "application/vnd.plotly.v1+json": {
       "config": {
        "plotlyServerURL": "https://plot.ly"
       },
       "data": [
        {
         "alignmentgroup": "True",
         "boxpoints": "all",
         "hovertemplate": "Brand=%{x}<br>RevenueSharePct=%{y}<extra></extra>",
         "legendgroup": "LC",
         "marker": {
          "color": "#636efa"
         },
         "name": "LC",
         "notched": false,
         "offsetgroup": "LC",
         "orientation": "v",
         "showlegend": true,
         "type": "box",
         "x": [
          "LC",
          "LC",
          "LC",
          "LC",
          "LC",
          "LC",
          "LC",
          "LC",
          "LC",
          "LC",
          "LC",
          "LC",
          "LC",
          "LC",
          "LC",
          "LC",
          "LC",
          "LC",
          "LC",
          "LC",
          "LC",
          "LC",
          "LC",
          "LC",
          "LC",
          "LC",
          "LC",
          "LC",
          "LC",
          "LC",
          "LC",
          "LC",
          "LC",
          "LC",
          "LC",
          "LC",
          "LC",
          "LC",
          "LC",
          "LC",
          "LC",
          "LC",
          "LC",
          "LC",
          "LC",
          "LC",
          "LC",
          "LC",
          "LC",
          "LC",
          "LC",
          "LC",
          "LC",
          "LC",
          "LC",
          "LC",
          "LC",
          "LC",
          "LC",
          "LC",
          "LC",
          "LC",
          "LC",
          "LC",
          "LC",
          "LC",
          "LC",
          "LC",
          "LC",
          "LC",
          "LC",
          "LC"
         ],
         "x0": " ",
         "xaxis": "x",
         "y": {
          "bdata": "qnUpdcch/D+hjkpmd0XyP++A+ZBGpOg/iwVTmtg09T+D9kZxz8H6P2nbaQysGPY/+5CWFGcr9j8ax9Cu5Xv8P2YZfxobf/A//Gv8I3hn8j/DDyJ13XbwP6E7Ldk4J/Y/Ra6Vzyj56j8HepxnCOz2P4heiIe+kOs/8RkCkVLy+D8BuOAPLZL+PzIcDNPYWPE/NwM/PjvY/D9enKsPnk/3PzMiL7oRXf0/uF23blPt/D+XXSnFGpP4P5koqn50FANAzFe7dx2s+z9OOiT5C44CQDMcrcNVPvo/n4QEaNcq+D8ldXAGwzXyP8/JRmF1ZPE/DgupPW9k7T+O+nCkj/f1Pz/npP/am/k/QJmV7wua+z8Co1q7+Qn3P98ySZD6vPE/neKVaYGO7z/sD6KkpXjzP+hqDK/dFPg/EI4ED2aO6D/wqME1T2z5P5qlT7Bnk+M/MvfbYh8N4z81q2MRXTMDQLzcu7ZZavk/wco0m3NRAUA23fWD77H1P3pnyz4QGe0/6iDqnMkj8z+lm10O2hvrP/7xJQysHe4/D9n9iRKP9D/7QPY/Ec3rP/VeG8nhKgNA9AS0GeGn9j/uy/oqNm3tP4N/LXyOCPE/beLeX+H38j9TL4RvLND+PxWwZ7R9kfQ/17SOEycBA0Dlbxxy6boAQGFHbSSrkeY/Ya8E/BBZ9j/BHSDFBm3wPwzxBe9xvvo/INrV1LW68z/NcoLZ/AzwP3nsbZKS8vI/lKe5Ny3v/T8indtsVCEAQMWUP/+VTd8/",
          "dtype": "f8"
         },
         "y0": " ",
         "yaxis": "y"
        },
        {
         "alignmentgroup": "True",
         "boxpoints": "all",
         "hovertemplate": "Brand=%{x}<br>RevenueSharePct=%{y}<extra></extra>",
         "legendgroup": "WS",
         "marker": {
          "color": "#EF553B"
         },
         "name": "WS",
         "notched": false,
         "offsetgroup": "WS",
         "orientation": "v",
         "showlegend": true,
         "type": "box",
         "x": [
          "WS",
          "WS",
          "WS",
          "WS",
          "WS",
          "WS",
          "WS",
          "WS",
          "WS",
          "WS",
          "WS",
          "WS",
          "WS",
          "WS",
          "WS",
          "WS",
          "WS",
          "WS",
          "WS",
          "WS",
          "WS",
          "WS",
          "WS",
          "WS",
          "WS",
          "WS",
          "WS",
          "WS",
          "WS",
          "WS",
          "WS",
          "WS",
          "WS",
          "WS",
          "WS",
          "WS",
          "WS",
          "WS",
          "WS",
          "WS",
          "WS",
          "WS",
          "WS",
          "WS",
          "WS",
          "WS",
          "WS",
          "WS",
          "WS",
          "WS",
          "WS",
          "WS",
          "WS",
          "WS",
          "WS",
          "WS",
          "WS",
          "WS",
          "WS",
          "WS",
          "WS",
          "WS",
          "WS",
          "WS",
          "WS",
          "WS",
          "WS",
          "WS",
          "WS",
          "WS",
          "WS",
          "WS",
          "WS",
          "WS"
         ],
         "x0": " ",
         "xaxis": "x",
         "y": {
          "bdata": "a75ViOyp+T84JwUbxAABQBgrKNGEkf4/D1QHMr3D8j/AUoHEvSv7P3+wIuFsj/I/wgrss1338T/KECI8YK/zP4NIEKr/bvs/6sipW8L4+D9SzFrkVVP8PxYFn5qnm/M/P+/A3yrO9D/idm/H88LxPw7WjBF5tP4/8p77NaIz+T9Wv1BfaG/wP+luPlAwG/U/tnnUepEE8T+PuiP7B3P5P8J2M3fcC+0/Nr2MNgZP7z+Jc/VLGhXuP6DOYqoHAfc/9Ls8t4Y18j+R3s1dkATxPznbQs0eVPI/BYRMbFJf8T8Nx0DxrWnxPzpNsmMUIfU/veWgg2ay6T+qasEB4ur5P4/BVFcoePw/a2lZPG6u/D/LhXTnBAXvP2rjl59Eqfc/QubUbMEq8j/+kuAIydv9P4++CL41X/k/MuhuJ9XY7D/k09J5f7fzP0MACbVhh/c/1dZcWA5h9D/4iXDFdAT0PyEGxa1s6PE/n/Ds73/C7D+gVeWqKiv3P4iQXHThp/c/ik0yUXtl8z8jYaCHrXP3Py7bUDFrOvg/fbkksPOK+D/sN1/hmVjvPwwEEAOfvuo/PxfngJ274T+YuSGhJqHrP2g21I30sOw/8Oodmbrz9D8WgVucW+bjPz6tzHIU7vg/MsVH5gdU+D8uDx/pQPnxP6oNSPM4nvQ/8lH/tcRrA0Ad9aZRMrDxP13FI3R/tv0/ryYe9ZkPAEAABfPnw/L6P12vmOsMXeQ/Pnz95/vK+T+TQRrYS6LyPx5wzxyT6wNAQNIt/yiL9D/H+7j2LFgAQA==",
          "dtype": "f8"
         },
         "y0": " ",
         "yaxis": "y"
        },
        {
         "customdata": [
          [
           "899",
           38482.71
          ],
          [
           "84",
           46901.82
          ],
          [
           "617",
           37815.23
          ],
          [
           "542",
           34979.25
          ],
          [
           "448",
           45726.36
          ],
          [
           "2303",
           35150.719999999994
          ],
          [
           "2212",
           33764.909999999996
          ],
          [
           "2207",
           33515.33
          ],
          [
           "1607",
           36147.18
          ],
          [
           "1141",
           35986.44
          ],
          [
           "1038",
           40033.27
          ],
          [
           "03646-00003",
           15092.629999999897
          ],
          [
           "03646-00002",
           14004.389999999892
          ],
          [
           "03222-00038",
           15653.969999999928
          ],
          [
           "03222-00036",
           17782.0499999999
          ],
          [
           "03222-00034",
           14415.569999999936
          ],
          [
           "03222-00026",
           17934.569999999854
          ],
          [
           "03222-00017",
           16204.1899999999
          ],
          [
           "03222-00015",
           17965.569999999883
          ],
          [
           "01940-00014",
           17361.339999999986
          ],
          [
           "01940-00010",
           17852.6
          ],
          [
           "01826-00002",
           14302.269999999979
          ]
         ],
         "hovertemplate": "Brand=%{x}<br>RevenueSharePct=%{y}<br>StoreID=%{customdata[0]}<br>WeeklyNetAmount=%{customdata[1]}<extra></extra>",
         "legendgroup": "",
         "marker": {
          "color": "black",
          "symbol": "circle"
         },
         "mode": "markers",
         "name": "",
         "orientation": "v",
         "showlegend": false,
         "type": "scatter",
         "x": [
          "WS",
          "WS",
          "WS",
          "WS",
          "WS",
          "WS",
          "WS",
          "WS",
          "WS",
          "WS",
          "WS",
          "LC",
          "LC",
          "LC",
          "LC",
          "LC",
          "LC",
          "LC",
          "LC",
          "LC",
          "LC",
          "LC"
         ],
         "xaxis": "x",
         "y": {
          "bdata": "x/u49ixYAEAecM8ck+sDQK8mHvWZDwBAXcUjdH+2/T/yUf+1xGsDQP6S4AjJ2/0/a2lZPG6u/D+PwVRXKHj8Pw7WjBF5tP4/GCso0YSR/j84JwUbxAABQCKd22xUIQBAlKe5Ny3v/T/lbxxy6boAQNe0jhMnAQNAUy+EbyzQ/j/1XhvJ4SoDQMHKNJtzUQFANatjEV0zA0BOOiT5C44CQJkoqn50FANAAbjgDy2S/j8=",
          "dtype": "f8"
         },
         "yaxis": "y"
        }
       ],
       "layout": {
        "boxmode": "overlay",
        "legend": {
         "title": {
          "text": "Brand"
         },
         "tracegroupgap": 0
        },
        "template": {
         "data": {
          "bar": [
           {
            "error_x": {
             "color": "#2a3f5f"
            },
            "error_y": {
             "color": "#2a3f5f"
            },
            "marker": {
             "line": {
              "color": "#E5ECF6",
              "width": 0.5
             },
             "pattern": {
              "fillmode": "overlay",
              "size": 10,
              "solidity": 0.2
             }
            },
            "type": "bar"
           }
          ],
          "barpolar": [
           {
            "marker": {
             "line": {
              "color": "#E5ECF6",
              "width": 0.5
             },
             "pattern": {
              "fillmode": "overlay",
              "size": 10,
              "solidity": 0.2
             }
            },
            "type": "barpolar"
           }
          ],
          "carpet": [
           {
            "aaxis": {
             "endlinecolor": "#2a3f5f",
             "gridcolor": "white",
             "linecolor": "white",
             "minorgridcolor": "white",
             "startlinecolor": "#2a3f5f"
            },
            "baxis": {
             "endlinecolor": "#2a3f5f",
             "gridcolor": "white",
             "linecolor": "white",
             "minorgridcolor": "white",
             "startlinecolor": "#2a3f5f"
            },
            "type": "carpet"
           }
          ],
          "choropleth": [
           {
            "colorbar": {
             "outlinewidth": 0,
             "ticks": ""
            },
            "type": "choropleth"
           }
          ],
          "contour": [
           {
            "colorbar": {
             "outlinewidth": 0,
             "ticks": ""
            },
            "colorscale": [
             [
              0,
              "#0d0887"
             ],
             [
              0.1111111111111111,
              "#46039f"
             ],
             [
              0.2222222222222222,
              "#7201a8"
             ],
             [
              0.3333333333333333,
              "#9c179e"
             ],
             [
              0.4444444444444444,
              "#bd3786"
             ],
             [
              0.5555555555555556,
              "#d8576b"
             ],
             [
              0.6666666666666666,
              "#ed7953"
             ],
             [
              0.7777777777777778,
              "#fb9f3a"
             ],
             [
              0.8888888888888888,
              "#fdca26"
             ],
             [
              1,
              "#f0f921"
             ]
            ],
            "type": "contour"
           }
          ],
          "contourcarpet": [
           {
            "colorbar": {
             "outlinewidth": 0,
             "ticks": ""
            },
            "type": "contourcarpet"
           }
          ],
          "heatmap": [
           {
            "colorbar": {
             "outlinewidth": 0,
             "ticks": ""
            },
            "colorscale": [
             [
              0,
              "#0d0887"
             ],
             [
              0.1111111111111111,
              "#46039f"
             ],
             [
              0.2222222222222222,
              "#7201a8"
             ],
             [
              0.3333333333333333,
              "#9c179e"
             ],
             [
              0.4444444444444444,
              "#bd3786"
             ],
             [
              0.5555555555555556,
              "#d8576b"
             ],
             [
              0.6666666666666666,
              "#ed7953"
             ],
             [
              0.7777777777777778,
              "#fb9f3a"
             ],
             [
              0.8888888888888888,
              "#fdca26"
             ],
             [
              1,
              "#f0f921"
             ]
            ],
            "type": "heatmap"
           }
          ],
          "histogram": [
           {
            "marker": {
             "pattern": {
              "fillmode": "overlay",
              "size": 10,
              "solidity": 0.2
             }
            },
            "type": "histogram"
           }
          ],
          "histogram2d": [
           {
            "colorbar": {
             "outlinewidth": 0,
             "ticks": ""
            },
            "colorscale": [
             [
              0,
              "#0d0887"
             ],
             [
              0.1111111111111111,
              "#46039f"
             ],
             [
              0.2222222222222222,
              "#7201a8"
             ],
             [
              0.3333333333333333,
              "#9c179e"
             ],
             [
              0.4444444444444444,
              "#bd3786"
             ],
             [
              0.5555555555555556,
              "#d8576b"
             ],
             [
              0.6666666666666666,
              "#ed7953"
             ],
             [
              0.7777777777777778,
              "#fb9f3a"
             ],
             [
              0.8888888888888888,
              "#fdca26"
             ],
             [
              1,
              "#f0f921"
             ]
            ],
            "type": "histogram2d"
           }
          ],
          "histogram2dcontour": [
           {
            "colorbar": {
             "outlinewidth": 0,
             "ticks": ""
            },
            "colorscale": [
             [
              0,
              "#0d0887"
             ],
             [
              0.1111111111111111,
              "#46039f"
             ],
             [
              0.2222222222222222,
              "#7201a8"
             ],
             [
              0.3333333333333333,
              "#9c179e"
             ],
             [
              0.4444444444444444,
              "#bd3786"
             ],
             [
              0.5555555555555556,
              "#d8576b"
             ],
             [
              0.6666666666666666,
              "#ed7953"
             ],
             [
              0.7777777777777778,
              "#fb9f3a"
             ],
             [
              0.8888888888888888,
              "#fdca26"
             ],
             [
              1,
              "#f0f921"
             ]
            ],
            "type": "histogram2dcontour"
           }
          ],
          "mesh3d": [
           {
            "colorbar": {
             "outlinewidth": 0,
             "ticks": ""
            },
            "type": "mesh3d"
           }
          ],
          "parcoords": [
           {
            "line": {
             "colorbar": {
              "outlinewidth": 0,
              "ticks": ""
             }
            },
            "type": "parcoords"
           }
          ],
          "pie": [
           {
            "automargin": true,
            "type": "pie"
           }
          ],
          "scatter": [
           {
            "fillpattern": {
             "fillmode": "overlay",
             "size": 10,
             "solidity": 0.2
            },
            "type": "scatter"
           }
          ],
          "scatter3d": [
           {
            "line": {
             "colorbar": {
              "outlinewidth": 0,
              "ticks": ""
             }
            },
            "marker": {
             "colorbar": {
              "outlinewidth": 0,
              "ticks": ""
             }
            },
            "type": "scatter3d"
           }
          ],
          "scattercarpet": [
           {
            "marker": {
             "colorbar": {
              "outlinewidth": 0,
              "ticks": ""
             }
            },
            "type": "scattercarpet"
           }
          ],
          "scattergeo": [
           {
            "marker": {
             "colorbar": {
              "outlinewidth": 0,
              "ticks": ""
             }
            },
            "type": "scattergeo"
           }
          ],
          "scattergl": [
           {
            "marker": {
             "colorbar": {
              "outlinewidth": 0,
              "ticks": ""
             }
            },
            "type": "scattergl"
           }
          ],
          "scattermap": [
           {
            "marker": {
             "colorbar": {
              "outlinewidth": 0,
              "ticks": ""
             }
            },
            "type": "scattermap"
           }
          ],
          "scattermapbox": [
           {
            "marker": {
             "colorbar": {
              "outlinewidth": 0,
              "ticks": ""
             }
            },
            "type": "scattermapbox"
           }
          ],
          "scatterpolar": [
           {
            "marker": {
             "colorbar": {
              "outlinewidth": 0,
              "ticks": ""
             }
            },
            "type": "scatterpolar"
           }
          ],
          "scatterpolargl": [
           {
            "marker": {
             "colorbar": {
              "outlinewidth": 0,
              "ticks": ""
             }
            },
            "type": "scatterpolargl"
           }
          ],
          "scatterternary": [
           {
            "marker": {
             "colorbar": {
              "outlinewidth": 0,
              "ticks": ""
             }
            },
            "type": "scatterternary"
           }
          ],
          "surface": [
           {
            "colorbar": {
             "outlinewidth": 0,
             "ticks": ""
            },
            "colorscale": [
             [
              0,
              "#0d0887"
             ],
             [
              0.1111111111111111,
              "#46039f"
             ],
             [
              0.2222222222222222,
              "#7201a8"
             ],
             [
              0.3333333333333333,
              "#9c179e"
             ],
             [
              0.4444444444444444,
              "#bd3786"
             ],
             [
              0.5555555555555556,
              "#d8576b"
             ],
             [
              0.6666666666666666,
              "#ed7953"
             ],
             [
              0.7777777777777778,
              "#fb9f3a"
             ],
             [
              0.8888888888888888,
              "#fdca26"
             ],
             [
              1,
              "#f0f921"
             ]
            ],
            "type": "surface"
           }
          ],
          "table": [
           {
            "cells": {
             "fill": {
              "color": "#EBF0F8"
             },
             "line": {
              "color": "white"
             }
            },
            "header": {
             "fill": {
              "color": "#C8D4E3"
             },
             "line": {
              "color": "white"
             }
            },
            "type": "table"
           }
          ]
         },
         "layout": {
          "annotationdefaults": {
           "arrowcolor": "#2a3f5f",
           "arrowhead": 0,
           "arrowwidth": 1
          },
          "autotypenumbers": "strict",
          "coloraxis": {
           "colorbar": {
            "outlinewidth": 0,
            "ticks": ""
           }
          },
          "colorscale": {
           "diverging": [
            [
             0,
             "#8e0152"
            ],
            [
             0.1,
             "#c51b7d"
            ],
            [
             0.2,
             "#de77ae"
            ],
            [
             0.3,
             "#f1b6da"
            ],
            [
             0.4,
             "#fde0ef"
            ],
            [
             0.5,
             "#f7f7f7"
            ],
            [
             0.6,
             "#e6f5d0"
            ],
            [
             0.7,
             "#b8e186"
            ],
            [
             0.8,
             "#7fbc41"
            ],
            [
             0.9,
             "#4d9221"
            ],
            [
             1,
             "#276419"
            ]
           ],
           "sequential": [
            [
             0,
             "#0d0887"
            ],
            [
             0.1111111111111111,
             "#46039f"
            ],
            [
             0.2222222222222222,
             "#7201a8"
            ],
            [
             0.3333333333333333,
             "#9c179e"
            ],
            [
             0.4444444444444444,
             "#bd3786"
            ],
            [
             0.5555555555555556,
             "#d8576b"
            ],
            [
             0.6666666666666666,
             "#ed7953"
            ],
            [
             0.7777777777777778,
             "#fb9f3a"
            ],
            [
             0.8888888888888888,
             "#fdca26"
            ],
            [
             1,
             "#f0f921"
            ]
           ],
           "sequentialminus": [
            [
             0,
             "#0d0887"
            ],
            [
             0.1111111111111111,
             "#46039f"
            ],
            [
             0.2222222222222222,
             "#7201a8"
            ],
            [
             0.3333333333333333,
             "#9c179e"
            ],
            [
             0.4444444444444444,
             "#bd3786"
            ],
            [
             0.5555555555555556,
             "#d8576b"
            ],
            [
             0.6666666666666666,
             "#ed7953"
            ],
            [
             0.7777777777777778,
             "#fb9f3a"
            ],
            [
             0.8888888888888888,
             "#fdca26"
            ],
            [
             1,
             "#f0f921"
            ]
           ]
          },
          "colorway": [
           "#636efa",
           "#EF553B",
           "#00cc96",
           "#ab63fa",
           "#FFA15A",
           "#19d3f3",
           "#FF6692",
           "#B6E880",
           "#FF97FF",
           "#FECB52"
          ],
          "font": {
           "color": "#2a3f5f"
          },
          "geo": {
           "bgcolor": "white",
           "lakecolor": "white",
           "landcolor": "#E5ECF6",
           "showlakes": true,
           "showland": true,
           "subunitcolor": "white"
          },
          "hoverlabel": {
           "align": "left"
          },
          "hovermode": "closest",
          "mapbox": {
           "style": "light"
          },
          "paper_bgcolor": "white",
          "plot_bgcolor": "#E5ECF6",
          "polar": {
           "angularaxis": {
            "gridcolor": "white",
            "linecolor": "white",
            "ticks": ""
           },
           "bgcolor": "#E5ECF6",
           "radialaxis": {
            "gridcolor": "white",
            "linecolor": "white",
            "ticks": ""
           }
          },
          "scene": {
           "xaxis": {
            "backgroundcolor": "#E5ECF6",
            "gridcolor": "white",
            "gridwidth": 2,
            "linecolor": "white",
            "showbackground": true,
            "ticks": "",
            "zerolinecolor": "white"
           },
           "yaxis": {
            "backgroundcolor": "#E5ECF6",
            "gridcolor": "white",
            "gridwidth": 2,
            "linecolor": "white",
            "showbackground": true,
            "ticks": "",
            "zerolinecolor": "white"
           },
           "zaxis": {
            "backgroundcolor": "#E5ECF6",
            "gridcolor": "white",
            "gridwidth": 2,
            "linecolor": "white",
            "showbackground": true,
            "ticks": "",
            "zerolinecolor": "white"
           }
          },
          "shapedefaults": {
           "line": {
            "color": "#2a3f5f"
           }
          },
          "ternary": {
           "aaxis": {
            "gridcolor": "white",
            "linecolor": "white",
            "ticks": ""
           },
           "baxis": {
            "gridcolor": "white",
            "linecolor": "white",
            "ticks": ""
           },
           "bgcolor": "#E5ECF6",
           "caxis": {
            "gridcolor": "white",
            "linecolor": "white",
            "ticks": ""
           }
          },
          "title": {
           "x": 0.05
          },
          "xaxis": {
           "automargin": true,
           "gridcolor": "white",
           "linecolor": "white",
           "ticks": "",
           "title": {
            "standoff": 15
           },
           "zerolinecolor": "white",
           "zerolinewidth": 2
          },
          "yaxis": {
           "automargin": true,
           "gridcolor": "white",
           "linecolor": "white",
           "ticks": "",
           "title": {
            "standoff": 15
           },
           "zerolinecolor": "white",
           "zerolinewidth": 2
          }
         }
        },
        "title": {
         "text": "Revenue Share Distribution per Brand with All Stores"
        },
        "xaxis": {
         "anchor": "y",
         "categoryarray": [
          "LC",
          "WS"
         ],
         "categoryorder": "array",
         "domain": [
          0,
          1
         ],
         "title": {
          "text": "Brand"
         }
        },
        "yaxis": {
         "anchor": "x",
         "domain": [
          0,
          1
         ],
         "title": {
          "text": "Revenue Share (%)"
         }
        }
       }
      }
     },
     "metadata": {},
     "output_type": "display_data"
    }
   ],
   "source": [
    "import plotly.express as px\n",
    "\n",
    "fig = px.box(\n",
    "    store_rev,  # use full dataset\n",
    "    x=\"Brand\",\n",
    "    y=\"RevenueSharePct\",\n",
    "    points=\"all\",\n",
    "    color=\"Brand\",\n",
    "    title=\"Revenue Share Distribution per Brand with All Stores\"\n",
    ")\n",
    "\n",
    "# Highlight top stores in a second trace\n",
    "fig.add_trace(\n",
    "    px.scatter(\n",
    "        top_stores,\n",
    "        x=\"Brand\",\n",
    "        y=\"RevenueSharePct\",\n",
    "        color_discrete_sequence=[\"black\"],\n",
    "        hover_data=[\"StoreID\", \"WeeklyNetAmount\"]\n",
    "    ).data[0]\n",
    ")\n",
    "\n",
    "fig.update_layout(yaxis_title=\"Revenue Share (%)\")\n",
    "fig.show()\n"
   ]
  },
  {
   "cell_type": "code",
   "execution_count": 109,
   "metadata": {},
   "outputs": [
    {
     "data": {
      "application/vnd.plotly.v1+json": {
       "config": {
        "plotlyServerURL": "https://plot.ly"
       },
       "data": [
        {
         "marker": {
          "color": "rgb(22, 198, 206)",
          "line": {
           "color": "black",
           "width": 0.5
          }
         },
         "name": "WS",
         "orientation": "h",
         "showlegend": false,
         "text": [
          "1.8%",
          "1.8%",
          "1.9%",
          "1.9%",
          "1.9%",
          "1.9%",
          "2.0%",
          "2.0%",
          "2.1%",
          "2.4%",
          "2.5%"
         ],
         "textfont": {
          "size": 10
         },
         "textposition": "outside",
         "type": "bar",
         "width": 0.5,
         "x": {
          "bdata": "j8FUVyh4/D9raVk8bq78P13FI3R/tv0//pLgCMnb/T8YKyjRhJH+Pw7WjBF5tP4/ryYe9ZkPAEDH+7j2LFgAQDgnBRvEAAFA8lH/tcRrA0AecM8ck+sDQA==",
          "dtype": "f8"
         },
         "xaxis": "x",
         "y": [
          "2207",
          "2212",
          "542",
          "2303",
          "1141",
          "1607",
          "617",
          "899",
          "1038",
          "448",
          "84"
         ],
         "yaxis": "y"
        },
        {
         "marker": {
          "color": "rgb(246, 35, 151)",
          "line": {
           "color": "black",
           "width": 0.5
          }
         },
         "name": "LC",
         "orientation": "h",
         "showlegend": false,
         "text": [
          "1.9%",
          "1.9%",
          "1.9%",
          "2.0%",
          "2.1%",
          "2.2%",
          "2.3%",
          "2.4%",
          "2.4%",
          "2.4%",
          "2.4%"
         ],
         "textfont": {
          "size": 10
         },
         "textposition": "outside",
         "type": "bar",
         "width": 0.5,
         "x": {
          "bdata": "lKe5Ny3v/T8BuOAPLZL+P1MvhG8s0P4/Ip3bbFQhAEDlbxxy6boAQMHKNJtzUQFATjok+QuOAkDXtI4TJwEDQJkoqn50FANA9V4byeEqA0A1q2MRXTMDQA==",
          "dtype": "f8"
         },
         "xaxis": "x2",
         "y": [
          "03646-00002",
          "01826-00002",
          "03222-00034",
          "03646-00003",
          "03222-00038",
          "03222-00017",
          "01940-00014",
          "03222-00036",
          "01940-00010",
          "03222-00026",
          "03222-00015"
         ],
         "yaxis": "y2"
        }
       ],
       "layout": {
        "annotations": [
         {
          "font": {
           "size": 16
          },
          "showarrow": false,
          "text": "WS",
          "x": 0.225,
          "xanchor": "center",
          "xref": "paper",
          "y": 1,
          "yanchor": "bottom",
          "yref": "paper"
         },
         {
          "font": {
           "size": 16
          },
          "showarrow": false,
          "text": "LC",
          "x": 0.775,
          "xanchor": "center",
          "xref": "paper",
          "y": 1,
          "yanchor": "bottom",
          "yref": "paper"
         }
        ],
        "height": 400,
        "margin": {
         "b": 50,
         "l": 10,
         "r": 10,
         "t": 100
        },
        "template": {
         "data": {
          "bar": [
           {
            "error_x": {
             "color": "#2a3f5f"
            },
            "error_y": {
             "color": "#2a3f5f"
            },
            "marker": {
             "line": {
              "color": "#E5ECF6",
              "width": 0.5
             },
             "pattern": {
              "fillmode": "overlay",
              "size": 10,
              "solidity": 0.2
             }
            },
            "type": "bar"
           }
          ],
          "barpolar": [
           {
            "marker": {
             "line": {
              "color": "#E5ECF6",
              "width": 0.5
             },
             "pattern": {
              "fillmode": "overlay",
              "size": 10,
              "solidity": 0.2
             }
            },
            "type": "barpolar"
           }
          ],
          "carpet": [
           {
            "aaxis": {
             "endlinecolor": "#2a3f5f",
             "gridcolor": "white",
             "linecolor": "white",
             "minorgridcolor": "white",
             "startlinecolor": "#2a3f5f"
            },
            "baxis": {
             "endlinecolor": "#2a3f5f",
             "gridcolor": "white",
             "linecolor": "white",
             "minorgridcolor": "white",
             "startlinecolor": "#2a3f5f"
            },
            "type": "carpet"
           }
          ],
          "choropleth": [
           {
            "colorbar": {
             "outlinewidth": 0,
             "ticks": ""
            },
            "type": "choropleth"
           }
          ],
          "contour": [
           {
            "colorbar": {
             "outlinewidth": 0,
             "ticks": ""
            },
            "colorscale": [
             [
              0,
              "#0d0887"
             ],
             [
              0.1111111111111111,
              "#46039f"
             ],
             [
              0.2222222222222222,
              "#7201a8"
             ],
             [
              0.3333333333333333,
              "#9c179e"
             ],
             [
              0.4444444444444444,
              "#bd3786"
             ],
             [
              0.5555555555555556,
              "#d8576b"
             ],
             [
              0.6666666666666666,
              "#ed7953"
             ],
             [
              0.7777777777777778,
              "#fb9f3a"
             ],
             [
              0.8888888888888888,
              "#fdca26"
             ],
             [
              1,
              "#f0f921"
             ]
            ],
            "type": "contour"
           }
          ],
          "contourcarpet": [
           {
            "colorbar": {
             "outlinewidth": 0,
             "ticks": ""
            },
            "type": "contourcarpet"
           }
          ],
          "heatmap": [
           {
            "colorbar": {
             "outlinewidth": 0,
             "ticks": ""
            },
            "colorscale": [
             [
              0,
              "#0d0887"
             ],
             [
              0.1111111111111111,
              "#46039f"
             ],
             [
              0.2222222222222222,
              "#7201a8"
             ],
             [
              0.3333333333333333,
              "#9c179e"
             ],
             [
              0.4444444444444444,
              "#bd3786"
             ],
             [
              0.5555555555555556,
              "#d8576b"
             ],
             [
              0.6666666666666666,
              "#ed7953"
             ],
             [
              0.7777777777777778,
              "#fb9f3a"
             ],
             [
              0.8888888888888888,
              "#fdca26"
             ],
             [
              1,
              "#f0f921"
             ]
            ],
            "type": "heatmap"
           }
          ],
          "histogram": [
           {
            "marker": {
             "pattern": {
              "fillmode": "overlay",
              "size": 10,
              "solidity": 0.2
             }
            },
            "type": "histogram"
           }
          ],
          "histogram2d": [
           {
            "colorbar": {
             "outlinewidth": 0,
             "ticks": ""
            },
            "colorscale": [
             [
              0,
              "#0d0887"
             ],
             [
              0.1111111111111111,
              "#46039f"
             ],
             [
              0.2222222222222222,
              "#7201a8"
             ],
             [
              0.3333333333333333,
              "#9c179e"
             ],
             [
              0.4444444444444444,
              "#bd3786"
             ],
             [
              0.5555555555555556,
              "#d8576b"
             ],
             [
              0.6666666666666666,
              "#ed7953"
             ],
             [
              0.7777777777777778,
              "#fb9f3a"
             ],
             [
              0.8888888888888888,
              "#fdca26"
             ],
             [
              1,
              "#f0f921"
             ]
            ],
            "type": "histogram2d"
           }
          ],
          "histogram2dcontour": [
           {
            "colorbar": {
             "outlinewidth": 0,
             "ticks": ""
            },
            "colorscale": [
             [
              0,
              "#0d0887"
             ],
             [
              0.1111111111111111,
              "#46039f"
             ],
             [
              0.2222222222222222,
              "#7201a8"
             ],
             [
              0.3333333333333333,
              "#9c179e"
             ],
             [
              0.4444444444444444,
              "#bd3786"
             ],
             [
              0.5555555555555556,
              "#d8576b"
             ],
             [
              0.6666666666666666,
              "#ed7953"
             ],
             [
              0.7777777777777778,
              "#fb9f3a"
             ],
             [
              0.8888888888888888,
              "#fdca26"
             ],
             [
              1,
              "#f0f921"
             ]
            ],
            "type": "histogram2dcontour"
           }
          ],
          "mesh3d": [
           {
            "colorbar": {
             "outlinewidth": 0,
             "ticks": ""
            },
            "type": "mesh3d"
           }
          ],
          "parcoords": [
           {
            "line": {
             "colorbar": {
              "outlinewidth": 0,
              "ticks": ""
             }
            },
            "type": "parcoords"
           }
          ],
          "pie": [
           {
            "automargin": true,
            "type": "pie"
           }
          ],
          "scatter": [
           {
            "fillpattern": {
             "fillmode": "overlay",
             "size": 10,
             "solidity": 0.2
            },
            "type": "scatter"
           }
          ],
          "scatter3d": [
           {
            "line": {
             "colorbar": {
              "outlinewidth": 0,
              "ticks": ""
             }
            },
            "marker": {
             "colorbar": {
              "outlinewidth": 0,
              "ticks": ""
             }
            },
            "type": "scatter3d"
           }
          ],
          "scattercarpet": [
           {
            "marker": {
             "colorbar": {
              "outlinewidth": 0,
              "ticks": ""
             }
            },
            "type": "scattercarpet"
           }
          ],
          "scattergeo": [
           {
            "marker": {
             "colorbar": {
              "outlinewidth": 0,
              "ticks": ""
             }
            },
            "type": "scattergeo"
           }
          ],
          "scattergl": [
           {
            "marker": {
             "colorbar": {
              "outlinewidth": 0,
              "ticks": ""
             }
            },
            "type": "scattergl"
           }
          ],
          "scattermap": [
           {
            "marker": {
             "colorbar": {
              "outlinewidth": 0,
              "ticks": ""
             }
            },
            "type": "scattermap"
           }
          ],
          "scattermapbox": [
           {
            "marker": {
             "colorbar": {
              "outlinewidth": 0,
              "ticks": ""
             }
            },
            "type": "scattermapbox"
           }
          ],
          "scatterpolar": [
           {
            "marker": {
             "colorbar": {
              "outlinewidth": 0,
              "ticks": ""
             }
            },
            "type": "scatterpolar"
           }
          ],
          "scatterpolargl": [
           {
            "marker": {
             "colorbar": {
              "outlinewidth": 0,
              "ticks": ""
             }
            },
            "type": "scatterpolargl"
           }
          ],
          "scatterternary": [
           {
            "marker": {
             "colorbar": {
              "outlinewidth": 0,
              "ticks": ""
             }
            },
            "type": "scatterternary"
           }
          ],
          "surface": [
           {
            "colorbar": {
             "outlinewidth": 0,
             "ticks": ""
            },
            "colorscale": [
             [
              0,
              "#0d0887"
             ],
             [
              0.1111111111111111,
              "#46039f"
             ],
             [
              0.2222222222222222,
              "#7201a8"
             ],
             [
              0.3333333333333333,
              "#9c179e"
             ],
             [
              0.4444444444444444,
              "#bd3786"
             ],
             [
              0.5555555555555556,
              "#d8576b"
             ],
             [
              0.6666666666666666,
              "#ed7953"
             ],
             [
              0.7777777777777778,
              "#fb9f3a"
             ],
             [
              0.8888888888888888,
              "#fdca26"
             ],
             [
              1,
              "#f0f921"
             ]
            ],
            "type": "surface"
           }
          ],
          "table": [
           {
            "cells": {
             "fill": {
              "color": "#EBF0F8"
             },
             "line": {
              "color": "white"
             }
            },
            "header": {
             "fill": {
              "color": "#C8D4E3"
             },
             "line": {
              "color": "white"
             }
            },
            "type": "table"
           }
          ]
         },
         "layout": {
          "annotationdefaults": {
           "arrowcolor": "#2a3f5f",
           "arrowhead": 0,
           "arrowwidth": 1
          },
          "autotypenumbers": "strict",
          "coloraxis": {
           "colorbar": {
            "outlinewidth": 0,
            "ticks": ""
           }
          },
          "colorscale": {
           "diverging": [
            [
             0,
             "#8e0152"
            ],
            [
             0.1,
             "#c51b7d"
            ],
            [
             0.2,
             "#de77ae"
            ],
            [
             0.3,
             "#f1b6da"
            ],
            [
             0.4,
             "#fde0ef"
            ],
            [
             0.5,
             "#f7f7f7"
            ],
            [
             0.6,
             "#e6f5d0"
            ],
            [
             0.7,
             "#b8e186"
            ],
            [
             0.8,
             "#7fbc41"
            ],
            [
             0.9,
             "#4d9221"
            ],
            [
             1,
             "#276419"
            ]
           ],
           "sequential": [
            [
             0,
             "#0d0887"
            ],
            [
             0.1111111111111111,
             "#46039f"
            ],
            [
             0.2222222222222222,
             "#7201a8"
            ],
            [
             0.3333333333333333,
             "#9c179e"
            ],
            [
             0.4444444444444444,
             "#bd3786"
            ],
            [
             0.5555555555555556,
             "#d8576b"
            ],
            [
             0.6666666666666666,
             "#ed7953"
            ],
            [
             0.7777777777777778,
             "#fb9f3a"
            ],
            [
             0.8888888888888888,
             "#fdca26"
            ],
            [
             1,
             "#f0f921"
            ]
           ],
           "sequentialminus": [
            [
             0,
             "#0d0887"
            ],
            [
             0.1111111111111111,
             "#46039f"
            ],
            [
             0.2222222222222222,
             "#7201a8"
            ],
            [
             0.3333333333333333,
             "#9c179e"
            ],
            [
             0.4444444444444444,
             "#bd3786"
            ],
            [
             0.5555555555555556,
             "#d8576b"
            ],
            [
             0.6666666666666666,
             "#ed7953"
            ],
            [
             0.7777777777777778,
             "#fb9f3a"
            ],
            [
             0.8888888888888888,
             "#fdca26"
            ],
            [
             1,
             "#f0f921"
            ]
           ]
          },
          "colorway": [
           "#636efa",
           "#EF553B",
           "#00cc96",
           "#ab63fa",
           "#FFA15A",
           "#19d3f3",
           "#FF6692",
           "#B6E880",
           "#FF97FF",
           "#FECB52"
          ],
          "font": {
           "color": "#2a3f5f"
          },
          "geo": {
           "bgcolor": "white",
           "lakecolor": "white",
           "landcolor": "#E5ECF6",
           "showlakes": true,
           "showland": true,
           "subunitcolor": "white"
          },
          "hoverlabel": {
           "align": "left"
          },
          "hovermode": "closest",
          "mapbox": {
           "style": "light"
          },
          "paper_bgcolor": "white",
          "plot_bgcolor": "#E5ECF6",
          "polar": {
           "angularaxis": {
            "gridcolor": "white",
            "linecolor": "white",
            "ticks": ""
           },
           "bgcolor": "#E5ECF6",
           "radialaxis": {
            "gridcolor": "white",
            "linecolor": "white",
            "ticks": ""
           }
          },
          "scene": {
           "xaxis": {
            "backgroundcolor": "#E5ECF6",
            "gridcolor": "white",
            "gridwidth": 2,
            "linecolor": "white",
            "showbackground": true,
            "ticks": "",
            "zerolinecolor": "white"
           },
           "yaxis": {
            "backgroundcolor": "#E5ECF6",
            "gridcolor": "white",
            "gridwidth": 2,
            "linecolor": "white",
            "showbackground": true,
            "ticks": "",
            "zerolinecolor": "white"
           },
           "zaxis": {
            "backgroundcolor": "#E5ECF6",
            "gridcolor": "white",
            "gridwidth": 2,
            "linecolor": "white",
            "showbackground": true,
            "ticks": "",
            "zerolinecolor": "white"
           }
          },
          "shapedefaults": {
           "line": {
            "color": "#2a3f5f"
           }
          },
          "ternary": {
           "aaxis": {
            "gridcolor": "white",
            "linecolor": "white",
            "ticks": ""
           },
           "baxis": {
            "gridcolor": "white",
            "linecolor": "white",
            "ticks": ""
           },
           "bgcolor": "#E5ECF6",
           "caxis": {
            "gridcolor": "white",
            "linecolor": "white",
            "ticks": ""
           }
          },
          "title": {
           "x": 0.05
          },
          "xaxis": {
           "automargin": true,
           "gridcolor": "white",
           "linecolor": "white",
           "ticks": "",
           "title": {
            "standoff": 15
           },
           "zerolinecolor": "white",
           "zerolinewidth": 2
          },
          "yaxis": {
           "automargin": true,
           "gridcolor": "white",
           "linecolor": "white",
           "ticks": "",
           "title": {
            "standoff": 15
           },
           "zerolinecolor": "white",
           "zerolinewidth": 2
          }
         }
        },
        "title": {
         "text": "Top 25% Stores by Revenue Share per Brand."
        },
        "width": 1200,
        "xaxis": {
         "anchor": "y",
         "domain": [
          0,
          0.45
         ],
         "title": {
          "text": "Store ID"
         }
        },
        "xaxis2": {
         "anchor": "y2",
         "domain": [
          0.55,
          1
         ]
        },
        "yaxis": {
         "anchor": "x",
         "domain": [
          0,
          1
         ],
         "title": {
          "text": "Store ID"
         }
        },
        "yaxis2": {
         "anchor": "x2",
         "domain": [
          0,
          1
         ]
        }
       }
      }
     },
     "metadata": {},
     "output_type": "display_data"
    }
   ],
   "source": [
    "from plotly.subplots import make_subplots\n",
    "import plotly.graph_objects as go\n",
    "\n",
    "# Unique brands\n",
    "brands = top_stores['Brand'].unique()\n",
    "\n",
    "# Create subplot layout\n",
    "fig = make_subplots(\n",
    "    rows=1, cols=len(brands),\n",
    "    subplot_titles=brands,\n",
    "    shared_yaxes=False\n",
    ")\n",
    "\n",
    "# Add bar plots for each brand\n",
    "for i, brand in enumerate(brands):\n",
    "    brand_df = top_stores[top_stores['Brand'] == brand].sort_values(by='RevenueSharePct', ascending=True)\n",
    "\n",
    "    fig.add_trace(\n",
    "        go.Bar(\n",
    "            x=brand_df['RevenueSharePct'],\n",
    "            y=brand_df['StoreID'].astype(str),\n",
    "            orientation='h',\n",
    "            text=brand_df['RevenueSharePct'].round(1).astype(str) + '%',\n",
    "            textfont=dict(size=10),\n",
    "            textposition='outside',\n",
    "            marker=dict(\n",
    "                color=brand_colors.get(brand, 'gray'),\n",
    "                line=dict(width=0.5, color='black')  # Slight border for thinner bars\n",
    "            ),\n",
    "            width=0.5,  # Reduce bar thickness\n",
    "            name=brand,\n",
    "            showlegend=False\n",
    "        ),\n",
    "        row=1, col=i + 1\n",
    "    )\n",
    "\n",
    "# Layout tweaks\n",
    "fig.update_layout(\n",
    "    height=400,  # Increased from 500\n",
    "    width=1200,\n",
    "    title_text=\"Top 25% Stores by Revenue Share per Brand.\",\n",
    "    margin=dict(t=100, l=10, r=10, b=50),  # More top margin\n",
    ")\n",
    "\n",
    "# Label each y-axis\n",
    "for i in range(len(brands)):\n",
    "    fig['layout'][f'yaxis{i+1}']['title'] = 'Store ID'\n",
    "    break\n",
    "# Label each y-axis\n",
    "for i in range(len(brands)):\n",
    "    fig['layout'][f'xaxis{i+1}']['title'] = 'Store ID'\n",
    "    break\n",
    "\n",
    "fig.write_image('store_performace.png')\n",
    "fig.show()\n"
   ]
  },
  {
   "cell_type": "code",
   "execution_count": null,
   "metadata": {},
   "outputs": [],
   "source": [
    "# item performance\n",
    "# Current week\tPrevious Week\tDigital Channel\tVolume Trend WoW\tItem Volume (Last Week) \tItem Volume (Current Week)\tWoW Volume % Change \t\t\t\t\t\t\t\t\t\t\t\t\t\t\t\t\t\t\t\t\t\n"
   ]
  },
  {
   "cell_type": "code",
   "execution_count": 114,
   "metadata": {},
   "outputs": [
    {
     "data": {
      "text/html": [
       "<div>\n",
       "<style scoped>\n",
       "    .dataframe tbody tr th:only-of-type {\n",
       "        vertical-align: middle;\n",
       "    }\n",
       "\n",
       "    .dataframe tbody tr th {\n",
       "        vertical-align: top;\n",
       "    }\n",
       "\n",
       "    .dataframe thead th {\n",
       "        text-align: right;\n",
       "    }\n",
       "</style>\n",
       "<table border=\"1\" class=\"dataframe\">\n",
       "  <thead>\n",
       "    <tr style=\"text-align: right;\">\n",
       "      <th></th>\n",
       "      <th>StoreID</th>\n",
       "      <th>OrderMode</th>\n",
       "      <th>WeekStartDate</th>\n",
       "      <th>WeeklyNetAmount</th>\n",
       "      <th>channel</th>\n",
       "      <th>Brand</th>\n",
       "      <th>revenue</th>\n",
       "    </tr>\n",
       "  </thead>\n",
       "  <tbody>\n",
       "    <tr>\n",
       "      <th>246</th>\n",
       "      <td>01389-00001</td>\n",
       "      <td>Grubhub</td>\n",
       "      <td>2025-03-03</td>\n",
       "      <td>27.15</td>\n",
       "      <td>3PO</td>\n",
       "      <td>LC</td>\n",
       "      <td>27.15</td>\n",
       "    </tr>\n",
       "    <tr>\n",
       "      <th>247</th>\n",
       "      <td>01389-00001</td>\n",
       "      <td>DoorDash</td>\n",
       "      <td>2025-03-03</td>\n",
       "      <td>3119.65</td>\n",
       "      <td>3PO</td>\n",
       "      <td>LC</td>\n",
       "      <td>3119.65</td>\n",
       "    </tr>\n",
       "    <tr>\n",
       "      <th>248</th>\n",
       "      <td>01389-00001</td>\n",
       "      <td>Mobile</td>\n",
       "      <td>2025-03-03</td>\n",
       "      <td>8400.13</td>\n",
       "      <td>1PO</td>\n",
       "      <td>LC</td>\n",
       "      <td>8400.13</td>\n",
       "    </tr>\n",
       "    <tr>\n",
       "      <th>249</th>\n",
       "      <td>01389-00001</td>\n",
       "      <td>Website</td>\n",
       "      <td>2025-03-03</td>\n",
       "      <td>4260.65</td>\n",
       "      <td>1PO</td>\n",
       "      <td>LC</td>\n",
       "      <td>4260.65</td>\n",
       "    </tr>\n",
       "    <tr>\n",
       "      <th>250</th>\n",
       "      <td>01389-00001</td>\n",
       "      <td>UberEats</td>\n",
       "      <td>2025-03-03</td>\n",
       "      <td>232.66</td>\n",
       "      <td>3PO</td>\n",
       "      <td>LC</td>\n",
       "      <td>232.66</td>\n",
       "    </tr>\n",
       "    <tr>\n",
       "      <th>...</th>\n",
       "      <td>...</td>\n",
       "      <td>...</td>\n",
       "      <td>...</td>\n",
       "      <td>...</td>\n",
       "      <td>...</td>\n",
       "      <td>...</td>\n",
       "      <td>...</td>\n",
       "    </tr>\n",
       "    <tr>\n",
       "      <th>29312</th>\n",
       "      <td>2961</td>\n",
       "      <td>DoorDash</td>\n",
       "      <td>2025-03-10</td>\n",
       "      <td>10131.70</td>\n",
       "      <td>3PO</td>\n",
       "      <td>WS</td>\n",
       "      <td>10131.70</td>\n",
       "    </tr>\n",
       "    <tr>\n",
       "      <th>29316</th>\n",
       "      <td>2961</td>\n",
       "      <td>Website</td>\n",
       "      <td>2025-03-03</td>\n",
       "      <td>17276.03</td>\n",
       "      <td>1PO</td>\n",
       "      <td>WS</td>\n",
       "      <td>17276.03</td>\n",
       "    </tr>\n",
       "    <tr>\n",
       "      <th>29317</th>\n",
       "      <td>2961</td>\n",
       "      <td>Website</td>\n",
       "      <td>2025-03-10</td>\n",
       "      <td>16966.91</td>\n",
       "      <td>1PO</td>\n",
       "      <td>WS</td>\n",
       "      <td>16966.91</td>\n",
       "    </tr>\n",
       "    <tr>\n",
       "      <th>29323</th>\n",
       "      <td>2961</td>\n",
       "      <td>UberEats</td>\n",
       "      <td>2025-03-03</td>\n",
       "      <td>1956.58</td>\n",
       "      <td>3PO</td>\n",
       "      <td>WS</td>\n",
       "      <td>1956.58</td>\n",
       "    </tr>\n",
       "    <tr>\n",
       "      <th>29324</th>\n",
       "      <td>2961</td>\n",
       "      <td>UberEats</td>\n",
       "      <td>2025-03-10</td>\n",
       "      <td>2250.03</td>\n",
       "      <td>3PO</td>\n",
       "      <td>WS</td>\n",
       "      <td>2250.03</td>\n",
       "    </tr>\n",
       "  </tbody>\n",
       "</table>\n",
       "<p>1089 rows × 7 columns</p>\n",
       "</div>"
      ],
      "text/plain": [
       "           StoreID OrderMode WeekStartDate  WeeklyNetAmount channel Brand  \\\n",
       "246    01389-00001   Grubhub    2025-03-03            27.15     3PO    LC   \n",
       "247    01389-00001  DoorDash    2025-03-03          3119.65     3PO    LC   \n",
       "248    01389-00001    Mobile    2025-03-03          8400.13     1PO    LC   \n",
       "249    01389-00001   Website    2025-03-03          4260.65     1PO    LC   \n",
       "250    01389-00001  UberEats    2025-03-03           232.66     3PO    LC   \n",
       "...            ...       ...           ...              ...     ...   ...   \n",
       "29312         2961  DoorDash    2025-03-10         10131.70     3PO    WS   \n",
       "29316         2961   Website    2025-03-03         17276.03     1PO    WS   \n",
       "29317         2961   Website    2025-03-10         16966.91     1PO    WS   \n",
       "29323         2961  UberEats    2025-03-03          1956.58     3PO    WS   \n",
       "29324         2961  UberEats    2025-03-10          2250.03     3PO    WS   \n",
       "\n",
       "        revenue  \n",
       "246       27.15  \n",
       "247     3119.65  \n",
       "248     8400.13  \n",
       "249     4260.65  \n",
       "250      232.66  \n",
       "...         ...  \n",
       "29312  10131.70  \n",
       "29316  17276.03  \n",
       "29317  16966.91  \n",
       "29323   1956.58  \n",
       "29324   2250.03  \n",
       "\n",
       "[1089 rows x 7 columns]"
      ]
     },
     "execution_count": 114,
     "metadata": {},
     "output_type": "execute_result"
    }
   ],
   "source": [
    "last_two_weeks\n"
   ]
  },
  {
   "cell_type": "code",
   "execution_count": 115,
   "metadata": {},
   "outputs": [
    {
     "data": {
      "text/plain": [
       "Index(['StoreID', 'OrderMode', 'WeekStartDate', 'WeeklyNetAmount', 'channel',\n",
       "       'Brand', 'revenue'],\n",
       "      dtype='object')"
      ]
     },
     "execution_count": 115,
     "metadata": {},
     "output_type": "execute_result"
    }
   ],
   "source": [
    "last_two_weeks.columns\n"
   ]
  },
  {
   "cell_type": "code",
   "execution_count": null,
   "metadata": {},
   "outputs": [],
   "source": []
  }
 ],
 "metadata": {
  "kernelspec": {
   "display_name": "hm",
   "language": "python",
   "name": "python3"
  },
  "language_info": {
   "codemirror_mode": {
    "name": "ipython",
    "version": 3
   },
   "file_extension": ".py",
   "mimetype": "text/x-python",
   "name": "python",
   "nbconvert_exporter": "python",
   "pygments_lexer": "ipython3",
   "version": "3.12.2"
  }
 },
 "nbformat": 4,
 "nbformat_minor": 2
}
