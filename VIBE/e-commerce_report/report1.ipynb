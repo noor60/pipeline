{
 "cells": [
  {
   "cell_type": "code",
   "execution_count": 1,
   "metadata": {},
   "outputs": [],
   "source": [
    "import pandas as pd\n",
    "import numpy as np\n",
    "import plotly.express as px\n",
    "import plotly.express as px\n",
    "\n"
   ]
  },
  {
   "cell_type": "code",
   "execution_count": 2,
   "metadata": {},
   "outputs": [
    {
     "data": {
      "text/html": [
       "<div>\n",
       "<style scoped>\n",
       "    .dataframe tbody tr th:only-of-type {\n",
       "        vertical-align: middle;\n",
       "    }\n",
       "\n",
       "    .dataframe tbody tr th {\n",
       "        vertical-align: top;\n",
       "    }\n",
       "\n",
       "    .dataframe thead th {\n",
       "        text-align: right;\n",
       "    }\n",
       "</style>\n",
       "<table border=\"1\" class=\"dataframe\">\n",
       "  <thead>\n",
       "    <tr style=\"text-align: right;\">\n",
       "      <th></th>\n",
       "      <th>FranchiseStore</th>\n",
       "      <th>ORDERPLACEDMETHOD</th>\n",
       "      <th>WeekStartDate</th>\n",
       "      <th>WeeklyNetAmount</th>\n",
       "      <th>channel</th>\n",
       "    </tr>\n",
       "  </thead>\n",
       "  <tbody>\n",
       "    <tr>\n",
       "      <th>1</th>\n",
       "      <td>01389-00001</td>\n",
       "      <td>DoorDash</td>\n",
       "      <td>2024-02-19</td>\n",
       "      <td>775.89</td>\n",
       "      <td>3PO</td>\n",
       "    </tr>\n",
       "    <tr>\n",
       "      <th>2</th>\n",
       "      <td>01389-00001</td>\n",
       "      <td>UberEats</td>\n",
       "      <td>2024-02-19</td>\n",
       "      <td>74.25</td>\n",
       "      <td>3PO</td>\n",
       "    </tr>\n",
       "    <tr>\n",
       "      <th>3</th>\n",
       "      <td>01389-00001</td>\n",
       "      <td>Website</td>\n",
       "      <td>2024-02-19</td>\n",
       "      <td>1528.66</td>\n",
       "      <td>1PO</td>\n",
       "    </tr>\n",
       "  </tbody>\n",
       "</table>\n",
       "</div>"
      ],
      "text/plain": [
       "  FranchiseStore ORDERPLACEDMETHOD WeekStartDate  WeeklyNetAmount channel\n",
       "1    01389-00001          DoorDash    2024-02-19           775.89     3PO\n",
       "2    01389-00001          UberEats    2024-02-19            74.25     3PO\n",
       "3    01389-00001           Website    2024-02-19          1528.66     1PO"
      ]
     },
     "execution_count": 2,
     "metadata": {},
     "output_type": "execute_result"
    }
   ],
   "source": [
    "lc_weekly=pd.read_csv('weekly_sales/lc_weekly.csv')\n",
    "\n",
    "\n",
    "# lc_weekly_sale by 1po_3po\n",
    "first_party=['Mobile','Website']\n",
    "third_party=['DoorDash', 'UberEats','Grubhub']\n",
    "\n",
    "\n",
    "lc_weekly['channel']=np.where(lc_weekly['ORDERPLACEDMETHOD'].isin(first_party),'1PO',np.where(lc_weekly['ORDERPLACEDMETHOD'].isin(third_party),'3PO',lc_weekly['ORDERPLACEDMETHOD']))\n",
    "lc=lc_weekly[lc_weekly['channel'].isin(['1PO','3PO'])]\n",
    "lc.head(3)\n"
   ]
  },
  {
   "cell_type": "code",
   "execution_count": 16,
   "metadata": {},
   "outputs": [],
   "source": [
    "ws_weekly=pd.read_csv('weekly_sales/ws_weekly.csv')\n",
    "ws_weekly.drop(columns=['Unnamed: 0','HourAMPM','StoreName'],inplace=True)\n",
    "#dtyps\n",
    "ws_weekly['Date']=pd.to_datetime(ws_weekly['Date'])\n",
    "ws_weekly['SoldPriceAmount']=ws_weekly['SoldPriceAmount'].astype(float)\n"
   ]
  },
  {
   "cell_type": "code",
   "execution_count": 17,
   "metadata": {},
   "outputs": [
    {
     "data": {
      "text/plain": [
       "array(['Call-DineIn', 'Call-ToGo', 'CallCtr-ToGo', 'DD-Delivery',\n",
       "       'Dispatch', 'Online', 'Uber Eats', 'Unknown', 'Walk Dine In',\n",
       "       'Walk-ToGo', 'Delivery'], dtype=object)"
      ]
     },
     "execution_count": 17,
     "metadata": {},
     "output_type": "execute_result"
    }
   ],
   "source": [
    "ws_weekly['OrderMode'].unique()\n"
   ]
  },
  {
   "cell_type": "code",
   "execution_count": 4,
   "metadata": {},
   "outputs": [
    {
     "name": "stdout",
     "output_type": "stream",
     "text": [
      "['DoorDash' 'Online' 'UberEats']\n"
     ]
    }
   ],
   "source": [
    "\n",
    "first_party_ws=[ 'Online']\n",
    "third_party_ws=[ 'DD-Delivery', 'Uber Eats']\n",
    "ws_weekly\n",
    "\n",
    "ws_weekly['channel']=np.where(ws_weekly['OrderMode'].isin(first_party_ws),'1PO',np.where(ws_weekly['OrderMode'].isin(third_party_ws),'3PO',ws_weekly['OrderMode']))\n",
    "\n",
    "\n",
    "ws_weekly['OrderMode'] = np.where(\n",
    "    ws_weekly['OrderMode'] == 'DD-Delivery',\n",
    "    'DoorDash',\n",
    "    np.where(\n",
    "        ws_weekly['OrderMode'] == 'Uber Eats',\n",
    "        'UberEats',\n",
    "        ws_weekly['OrderMode']\n",
    "    )\n",
    ")\n",
    "\n",
    "ws=ws_weekly[ws_weekly['channel'].isin(['1PO','3PO'])]\n",
    "print(ws.OrderMode.unique())\n"
   ]
  },
  {
   "cell_type": "code",
   "execution_count": 5,
   "metadata": {},
   "outputs": [
    {
     "name": "stderr",
     "output_type": "stream",
     "text": [
      "/Library/Frameworks/Python.framework/Versions/3.7/lib/python3.7/site-packages/pandas/core/frame.py:5047: SettingWithCopyWarning: \n",
      "A value is trying to be set on a copy of a slice from a DataFrame\n",
      "\n",
      "See the caveats in the documentation: https://pandas.pydata.org/pandas-docs/stable/user_guide/indexing.html#returning-a-view-versus-a-copy\n",
      "  errors=errors,\n"
     ]
    }
   ],
   "source": [
    "lc.rename(columns={'FranchiseStore':'StoreID',\n",
    "                   'ORDERPLACEDMETHOD':'OrderMode',\n",
    "                   },inplace=True)\n",
    "\n",
    "ws.rename(columns={'SoldPriceAmount':'WeeklyNetAmount',\n",
    "                   'Date':'WeekStartDate',\n",
    "                   },inplace=True)\n"
   ]
  },
  {
   "cell_type": "code",
   "execution_count": 14,
   "metadata": {},
   "outputs": [
    {
     "data": {
      "text/plain": [
       "75"
      ]
     },
     "execution_count": 14,
     "metadata": {},
     "output_type": "execute_result"
    }
   ],
   "source": [
    "ws['StoreID'].nunique()\n"
   ]
  },
  {
   "cell_type": "code",
   "execution_count": 15,
   "metadata": {},
   "outputs": [
    {
     "data": {
      "text/plain": [
       "151"
      ]
     },
     "execution_count": 15,
     "metadata": {},
     "output_type": "execute_result"
    }
   ],
   "source": [
    "75+76\n"
   ]
  },
  {
   "cell_type": "code",
   "execution_count": 6,
   "metadata": {},
   "outputs": [
    {
     "name": "stderr",
     "output_type": "stream",
     "text": [
      "/Library/Frameworks/Python.framework/Versions/3.7/lib/python3.7/site-packages/ipykernel_launcher.py:1: SettingWithCopyWarning: \n",
      "A value is trying to be set on a copy of a slice from a DataFrame.\n",
      "Try using .loc[row_indexer,col_indexer] = value instead\n",
      "\n",
      "See the caveats in the documentation: https://pandas.pydata.org/pandas-docs/stable/user_guide/indexing.html#returning-a-view-versus-a-copy\n",
      "  \"\"\"Entry point for launching an IPython kernel.\n",
      "/Library/Frameworks/Python.framework/Versions/3.7/lib/python3.7/site-packages/ipykernel_launcher.py:3: SettingWithCopyWarning: \n",
      "A value is trying to be set on a copy of a slice from a DataFrame.\n",
      "Try using .loc[row_indexer,col_indexer] = value instead\n",
      "\n",
      "See the caveats in the documentation: https://pandas.pydata.org/pandas-docs/stable/user_guide/indexing.html#returning-a-view-versus-a-copy\n",
      "  This is separate from the ipykernel package so we can avoid doing imports until\n"
     ]
    },
    {
     "data": {
      "text/plain": [
       "Index(['StoreID', 'OrderMode', 'WeekStartDate', 'WeeklyNetAmount', 'channel',\n",
       "       'Brand', 'revenue'],\n",
       "      dtype='object')"
      ]
     },
     "execution_count": 6,
     "metadata": {},
     "output_type": "execute_result"
    }
   ],
   "source": [
    "ws['Brand']='WS'\n",
    "\n",
    "ws['revenue']=ws['WeeklyNetAmount']\n",
    "\n",
    "ws.columns\n"
   ]
  },
  {
   "cell_type": "code",
   "execution_count": 7,
   "metadata": {},
   "outputs": [
    {
     "name": "stderr",
     "output_type": "stream",
     "text": [
      "/Library/Frameworks/Python.framework/Versions/3.7/lib/python3.7/site-packages/ipykernel_launcher.py:1: SettingWithCopyWarning: \n",
      "A value is trying to be set on a copy of a slice from a DataFrame.\n",
      "Try using .loc[row_indexer,col_indexer] = value instead\n",
      "\n",
      "See the caveats in the documentation: https://pandas.pydata.org/pandas-docs/stable/user_guide/indexing.html#returning-a-view-versus-a-copy\n",
      "  \"\"\"Entry point for launching an IPython kernel.\n",
      "/Library/Frameworks/Python.framework/Versions/3.7/lib/python3.7/site-packages/ipykernel_launcher.py:2: SettingWithCopyWarning: \n",
      "A value is trying to be set on a copy of a slice from a DataFrame.\n",
      "Try using .loc[row_indexer,col_indexer] = value instead\n",
      "\n",
      "See the caveats in the documentation: https://pandas.pydata.org/pandas-docs/stable/user_guide/indexing.html#returning-a-view-versus-a-copy\n",
      "  \n"
     ]
    },
    {
     "data": {
      "text/plain": [
       "Index(['StoreID', 'OrderMode', 'WeekStartDate', 'WeeklyNetAmount', 'channel',\n",
       "       'Brand', 'revenue'],\n",
       "      dtype='object')"
      ]
     },
     "execution_count": 7,
     "metadata": {},
     "output_type": "execute_result"
    }
   ],
   "source": [
    "lc['Brand']='LC'\n",
    "lc['revenue']=lc['WeeklyNetAmount']\n",
    "lc.columns\n"
   ]
  },
  {
   "cell_type": "code",
   "execution_count": null,
   "metadata": {},
   "outputs": [],
   "source": []
  },
  {
   "cell_type": "code",
   "execution_count": 13,
   "metadata": {},
   "outputs": [
    {
     "data": {
      "text/plain": [
       "76"
      ]
     },
     "execution_count": 13,
     "metadata": {},
     "output_type": "execute_result"
    }
   ],
   "source": [
    "lc['StoreID'].nunique()\n"
   ]
  },
  {
   "cell_type": "code",
   "execution_count": 8,
   "metadata": {},
   "outputs": [
    {
     "data": {
      "text/html": [
       "<div>\n",
       "<style scoped>\n",
       "    .dataframe tbody tr th:only-of-type {\n",
       "        vertical-align: middle;\n",
       "    }\n",
       "\n",
       "    .dataframe tbody tr th {\n",
       "        vertical-align: top;\n",
       "    }\n",
       "\n",
       "    .dataframe thead th {\n",
       "        text-align: right;\n",
       "    }\n",
       "</style>\n",
       "<table border=\"1\" class=\"dataframe\">\n",
       "  <thead>\n",
       "    <tr style=\"text-align: right;\">\n",
       "      <th></th>\n",
       "      <th>StoreID</th>\n",
       "      <th>OrderMode</th>\n",
       "      <th>WeekStartDate</th>\n",
       "      <th>WeeklyNetAmount</th>\n",
       "      <th>channel</th>\n",
       "      <th>Brand</th>\n",
       "      <th>revenue</th>\n",
       "    </tr>\n",
       "  </thead>\n",
       "  <tbody>\n",
       "    <tr>\n",
       "      <th>1</th>\n",
       "      <td>01389-00001</td>\n",
       "      <td>DoorDash</td>\n",
       "      <td>2024-02-19</td>\n",
       "      <td>775.89</td>\n",
       "      <td>3PO</td>\n",
       "      <td>LC</td>\n",
       "      <td>775.89</td>\n",
       "    </tr>\n",
       "    <tr>\n",
       "      <th>2</th>\n",
       "      <td>01389-00001</td>\n",
       "      <td>UberEats</td>\n",
       "      <td>2024-02-19</td>\n",
       "      <td>74.25</td>\n",
       "      <td>3PO</td>\n",
       "      <td>LC</td>\n",
       "      <td>74.25</td>\n",
       "    </tr>\n",
       "    <tr>\n",
       "      <th>3</th>\n",
       "      <td>01389-00001</td>\n",
       "      <td>Website</td>\n",
       "      <td>2024-02-19</td>\n",
       "      <td>1528.66</td>\n",
       "      <td>1PO</td>\n",
       "      <td>LC</td>\n",
       "      <td>1528.66</td>\n",
       "    </tr>\n",
       "    <tr>\n",
       "      <th>6</th>\n",
       "      <td>01389-00001</td>\n",
       "      <td>Mobile</td>\n",
       "      <td>2024-02-19</td>\n",
       "      <td>2005.36</td>\n",
       "      <td>1PO</td>\n",
       "      <td>LC</td>\n",
       "      <td>2005.36</td>\n",
       "    </tr>\n",
       "    <tr>\n",
       "      <th>8</th>\n",
       "      <td>01389-00001</td>\n",
       "      <td>Grubhub</td>\n",
       "      <td>2024-02-26</td>\n",
       "      <td>16.12</td>\n",
       "      <td>3PO</td>\n",
       "      <td>LC</td>\n",
       "      <td>16.12</td>\n",
       "    </tr>\n",
       "  </tbody>\n",
       "</table>\n",
       "</div>"
      ],
      "text/plain": [
       "       StoreID OrderMode WeekStartDate  WeeklyNetAmount channel Brand  revenue\n",
       "1  01389-00001  DoorDash    2024-02-19           775.89     3PO    LC   775.89\n",
       "2  01389-00001  UberEats    2024-02-19            74.25     3PO    LC    74.25\n",
       "3  01389-00001   Website    2024-02-19          1528.66     1PO    LC  1528.66\n",
       "6  01389-00001    Mobile    2024-02-19          2005.36     1PO    LC  2005.36\n",
       "8  01389-00001   Grubhub    2024-02-26            16.12     3PO    LC    16.12"
      ]
     },
     "execution_count": 8,
     "metadata": {},
     "output_type": "execute_result"
    }
   ],
   "source": [
    "df_combined=pd.concat([lc,ws],axis=0)\n",
    "df_combined['WeekStartDate']=pd.to_datetime(df_combined['WeekStartDate'])\n",
    "\n",
    "df_combined.head()\n"
   ]
  },
  {
   "cell_type": "code",
   "execution_count": 9,
   "metadata": {},
   "outputs": [],
   "source": [
    "df_combined['revenue']=df_combined['WeeklyNetAmount']\n"
   ]
  },
  {
   "cell_type": "code",
   "execution_count": 10,
   "metadata": {},
   "outputs": [],
   "source": [
    "df_combined.columns\n",
    "\n",
    "# compute each group’s min & max week\n",
    "min_week = df_combined.groupby(['Brand','OrderMode'])['WeekStartDate'].transform('min')\n",
    "max_week = df_combined.groupby(['Brand','OrderMode'])['WeekStartDate'].transform('max')\n",
    "\n",
    "# keep only the rows that are neither the group‐min nor the group‐max\n",
    "df_combined = df_combined[(df_combined['WeekStartDate'] != min_week) & (df_combined['WeekStartDate'] != max_week)]\n",
    "\n"
   ]
  },
  {
   "cell_type": "code",
   "execution_count": 12,
   "metadata": {},
   "outputs": [],
   "source": [
    "df_combined.to_csv('vibe.csv',index=False)\n"
   ]
  },
  {
   "cell_type": "markdown",
   "metadata": {},
   "source": [
    "# charts\n"
   ]
  },
  {
   "cell_type": "code",
   "execution_count": 13,
   "metadata": {},
   "outputs": [],
   "source": [
    "brand_colors = {\n",
    "    'LC': 'rgb(246, 35, 151)',  \n",
    "    'WS': 'rgb(22, 198, 206)'  \n",
    "}\n",
    "\n",
    "channel_colors={\n",
    "    'Grubhub':'(14,133)',\n",
    "    'Mobile':'rgb(43,75,149)', \n",
    "    'UberEats':'rgb(149,43,88)'\n",
    "    'DoorDash'':rgb(209,116,10)' ,\n",
    "    'Website': 'rgb(78,210,184)',\n",
    "    'Online':'rgb(180,93,231)'\n",
    "  \n",
    "    \n",
    "}\n",
    "\n",
    "mode_colours={}\n"
   ]
  },
  {
   "cell_type": "code",
   "execution_count": 14,
   "metadata": {},
   "outputs": [
    {
     "data": {
      "text/plain": [
       "array(['Grubhub', 'Mobile', 'UberEats', 'DoorDash', 'Website', 'Online'],\n",
       "      dtype=object)"
      ]
     },
     "execution_count": 14,
     "metadata": {},
     "output_type": "execute_result"
    }
   ],
   "source": [
    "df_combined.OrderMode.unique()\n"
   ]
  },
  {
   "cell_type": "code",
   "execution_count": 17,
   "metadata": {},
   "outputs": [
    {
     "data": {
      "application/vnd.plotly.v1+json": {
       "config": {
        "plotlyServerURL": "https://plot.ly"
       },
       "data": [
        {
         "alignmentgroup": "True",
         "hovertemplate": "Brand=LC<br>channel=%{x}<br>rev_%=%{y}<br>revenue_text=%{text}<extra></extra>",
         "legendgroup": "LC",
         "marker": {
          "color": "rgb(246, 35, 151)",
          "pattern": {
           "shape": ""
          }
         },
         "name": "LC",
         "offsetgroup": "LC",
         "orientation": "v",
         "showlegend": true,
         "text": [
          "75.00%",
          "25.00%"
         ],
         "textposition": "outside",
         "type": "bar",
         "x": [
          "1PO",
          "3PO"
         ],
         "xaxis": "x",
         "y": {
          "bdata": "AAAAAADAUkAAAAAAAAA5QA==",
          "dtype": "f8"
         },
         "yaxis": "y"
        },
        {
         "alignmentgroup": "True",
         "hovertemplate": "Brand=WS<br>channel=%{x}<br>rev_%=%{y}<br>revenue_text=%{text}<extra></extra>",
         "legendgroup": "WS",
         "marker": {
          "color": "rgb(22, 198, 206)",
          "pattern": {
           "shape": ""
          }
         },
         "name": "WS",
         "offsetgroup": "WS",
         "orientation": "v",
         "showlegend": true,
         "text": [
          "55.80%",
          "44.20%"
         ],
         "textposition": "outside",
         "type": "bar",
         "x": [
          "1PO",
          "3PO"
         ],
         "xaxis": "x",
         "y": {
          "bdata": "ZmZmZmbmS0CamZmZmRlGQA==",
          "dtype": "f8"
         },
         "yaxis": "y"
        }
       ],
       "layout": {
        "barmode": "group",
        "height": 500,
        "legend": {
         "title": {
          "text": "Brand"
         },
         "tracegroupgap": 0
        },
        "template": {
         "data": {
          "bar": [
           {
            "error_x": {
             "color": "#2a3f5f"
            },
            "error_y": {
             "color": "#2a3f5f"
            },
            "marker": {
             "line": {
              "color": "#E5ECF6",
              "width": 0.5
             },
             "pattern": {
              "fillmode": "overlay",
              "size": 10,
              "solidity": 0.2
             }
            },
            "type": "bar"
           }
          ],
          "barpolar": [
           {
            "marker": {
             "line": {
              "color": "#E5ECF6",
              "width": 0.5
             },
             "pattern": {
              "fillmode": "overlay",
              "size": 10,
              "solidity": 0.2
             }
            },
            "type": "barpolar"
           }
          ],
          "carpet": [
           {
            "aaxis": {
             "endlinecolor": "#2a3f5f",
             "gridcolor": "white",
             "linecolor": "white",
             "minorgridcolor": "white",
             "startlinecolor": "#2a3f5f"
            },
            "baxis": {
             "endlinecolor": "#2a3f5f",
             "gridcolor": "white",
             "linecolor": "white",
             "minorgridcolor": "white",
             "startlinecolor": "#2a3f5f"
            },
            "type": "carpet"
           }
          ],
          "choropleth": [
           {
            "colorbar": {
             "outlinewidth": 0,
             "ticks": ""
            },
            "type": "choropleth"
           }
          ],
          "contour": [
           {
            "colorbar": {
             "outlinewidth": 0,
             "ticks": ""
            },
            "colorscale": [
             [
              0,
              "#0d0887"
             ],
             [
              0.1111111111111111,
              "#46039f"
             ],
             [
              0.2222222222222222,
              "#7201a8"
             ],
             [
              0.3333333333333333,
              "#9c179e"
             ],
             [
              0.4444444444444444,
              "#bd3786"
             ],
             [
              0.5555555555555556,
              "#d8576b"
             ],
             [
              0.6666666666666666,
              "#ed7953"
             ],
             [
              0.7777777777777778,
              "#fb9f3a"
             ],
             [
              0.8888888888888888,
              "#fdca26"
             ],
             [
              1,
              "#f0f921"
             ]
            ],
            "type": "contour"
           }
          ],
          "contourcarpet": [
           {
            "colorbar": {
             "outlinewidth": 0,
             "ticks": ""
            },
            "type": "contourcarpet"
           }
          ],
          "heatmap": [
           {
            "colorbar": {
             "outlinewidth": 0,
             "ticks": ""
            },
            "colorscale": [
             [
              0,
              "#0d0887"
             ],
             [
              0.1111111111111111,
              "#46039f"
             ],
             [
              0.2222222222222222,
              "#7201a8"
             ],
             [
              0.3333333333333333,
              "#9c179e"
             ],
             [
              0.4444444444444444,
              "#bd3786"
             ],
             [
              0.5555555555555556,
              "#d8576b"
             ],
             [
              0.6666666666666666,
              "#ed7953"
             ],
             [
              0.7777777777777778,
              "#fb9f3a"
             ],
             [
              0.8888888888888888,
              "#fdca26"
             ],
             [
              1,
              "#f0f921"
             ]
            ],
            "type": "heatmap"
           }
          ],
          "histogram": [
           {
            "marker": {
             "pattern": {
              "fillmode": "overlay",
              "size": 10,
              "solidity": 0.2
             }
            },
            "type": "histogram"
           }
          ],
          "histogram2d": [
           {
            "colorbar": {
             "outlinewidth": 0,
             "ticks": ""
            },
            "colorscale": [
             [
              0,
              "#0d0887"
             ],
             [
              0.1111111111111111,
              "#46039f"
             ],
             [
              0.2222222222222222,
              "#7201a8"
             ],
             [
              0.3333333333333333,
              "#9c179e"
             ],
             [
              0.4444444444444444,
              "#bd3786"
             ],
             [
              0.5555555555555556,
              "#d8576b"
             ],
             [
              0.6666666666666666,
              "#ed7953"
             ],
             [
              0.7777777777777778,
              "#fb9f3a"
             ],
             [
              0.8888888888888888,
              "#fdca26"
             ],
             [
              1,
              "#f0f921"
             ]
            ],
            "type": "histogram2d"
           }
          ],
          "histogram2dcontour": [
           {
            "colorbar": {
             "outlinewidth": 0,
             "ticks": ""
            },
            "colorscale": [
             [
              0,
              "#0d0887"
             ],
             [
              0.1111111111111111,
              "#46039f"
             ],
             [
              0.2222222222222222,
              "#7201a8"
             ],
             [
              0.3333333333333333,
              "#9c179e"
             ],
             [
              0.4444444444444444,
              "#bd3786"
             ],
             [
              0.5555555555555556,
              "#d8576b"
             ],
             [
              0.6666666666666666,
              "#ed7953"
             ],
             [
              0.7777777777777778,
              "#fb9f3a"
             ],
             [
              0.8888888888888888,
              "#fdca26"
             ],
             [
              1,
              "#f0f921"
             ]
            ],
            "type": "histogram2dcontour"
           }
          ],
          "mesh3d": [
           {
            "colorbar": {
             "outlinewidth": 0,
             "ticks": ""
            },
            "type": "mesh3d"
           }
          ],
          "parcoords": [
           {
            "line": {
             "colorbar": {
              "outlinewidth": 0,
              "ticks": ""
             }
            },
            "type": "parcoords"
           }
          ],
          "pie": [
           {
            "automargin": true,
            "type": "pie"
           }
          ],
          "scatter": [
           {
            "fillpattern": {
             "fillmode": "overlay",
             "size": 10,
             "solidity": 0.2
            },
            "type": "scatter"
           }
          ],
          "scatter3d": [
           {
            "line": {
             "colorbar": {
              "outlinewidth": 0,
              "ticks": ""
             }
            },
            "marker": {
             "colorbar": {
              "outlinewidth": 0,
              "ticks": ""
             }
            },
            "type": "scatter3d"
           }
          ],
          "scattercarpet": [
           {
            "marker": {
             "colorbar": {
              "outlinewidth": 0,
              "ticks": ""
             }
            },
            "type": "scattercarpet"
           }
          ],
          "scattergeo": [
           {
            "marker": {
             "colorbar": {
              "outlinewidth": 0,
              "ticks": ""
             }
            },
            "type": "scattergeo"
           }
          ],
          "scattergl": [
           {
            "marker": {
             "colorbar": {
              "outlinewidth": 0,
              "ticks": ""
             }
            },
            "type": "scattergl"
           }
          ],
          "scattermap": [
           {
            "marker": {
             "colorbar": {
              "outlinewidth": 0,
              "ticks": ""
             }
            },
            "type": "scattermap"
           }
          ],
          "scattermapbox": [
           {
            "marker": {
             "colorbar": {
              "outlinewidth": 0,
              "ticks": ""
             }
            },
            "type": "scattermapbox"
           }
          ],
          "scatterpolar": [
           {
            "marker": {
             "colorbar": {
              "outlinewidth": 0,
              "ticks": ""
             }
            },
            "type": "scatterpolar"
           }
          ],
          "scatterpolargl": [
           {
            "marker": {
             "colorbar": {
              "outlinewidth": 0,
              "ticks": ""
             }
            },
            "type": "scatterpolargl"
           }
          ],
          "scatterternary": [
           {
            "marker": {
             "colorbar": {
              "outlinewidth": 0,
              "ticks": ""
             }
            },
            "type": "scatterternary"
           }
          ],
          "surface": [
           {
            "colorbar": {
             "outlinewidth": 0,
             "ticks": ""
            },
            "colorscale": [
             [
              0,
              "#0d0887"
             ],
             [
              0.1111111111111111,
              "#46039f"
             ],
             [
              0.2222222222222222,
              "#7201a8"
             ],
             [
              0.3333333333333333,
              "#9c179e"
             ],
             [
              0.4444444444444444,
              "#bd3786"
             ],
             [
              0.5555555555555556,
              "#d8576b"
             ],
             [
              0.6666666666666666,
              "#ed7953"
             ],
             [
              0.7777777777777778,
              "#fb9f3a"
             ],
             [
              0.8888888888888888,
              "#fdca26"
             ],
             [
              1,
              "#f0f921"
             ]
            ],
            "type": "surface"
           }
          ],
          "table": [
           {
            "cells": {
             "fill": {
              "color": "#EBF0F8"
             },
             "line": {
              "color": "white"
             }
            },
            "header": {
             "fill": {
              "color": "#C8D4E3"
             },
             "line": {
              "color": "white"
             }
            },
            "type": "table"
           }
          ]
         },
         "layout": {
          "annotationdefaults": {
           "arrowcolor": "#2a3f5f",
           "arrowhead": 0,
           "arrowwidth": 1
          },
          "autotypenumbers": "strict",
          "coloraxis": {
           "colorbar": {
            "outlinewidth": 0,
            "ticks": ""
           }
          },
          "colorscale": {
           "diverging": [
            [
             0,
             "#8e0152"
            ],
            [
             0.1,
             "#c51b7d"
            ],
            [
             0.2,
             "#de77ae"
            ],
            [
             0.3,
             "#f1b6da"
            ],
            [
             0.4,
             "#fde0ef"
            ],
            [
             0.5,
             "#f7f7f7"
            ],
            [
             0.6,
             "#e6f5d0"
            ],
            [
             0.7,
             "#b8e186"
            ],
            [
             0.8,
             "#7fbc41"
            ],
            [
             0.9,
             "#4d9221"
            ],
            [
             1,
             "#276419"
            ]
           ],
           "sequential": [
            [
             0,
             "#0d0887"
            ],
            [
             0.1111111111111111,
             "#46039f"
            ],
            [
             0.2222222222222222,
             "#7201a8"
            ],
            [
             0.3333333333333333,
             "#9c179e"
            ],
            [
             0.4444444444444444,
             "#bd3786"
            ],
            [
             0.5555555555555556,
             "#d8576b"
            ],
            [
             0.6666666666666666,
             "#ed7953"
            ],
            [
             0.7777777777777778,
             "#fb9f3a"
            ],
            [
             0.8888888888888888,
             "#fdca26"
            ],
            [
             1,
             "#f0f921"
            ]
           ],
           "sequentialminus": [
            [
             0,
             "#0d0887"
            ],
            [
             0.1111111111111111,
             "#46039f"
            ],
            [
             0.2222222222222222,
             "#7201a8"
            ],
            [
             0.3333333333333333,
             "#9c179e"
            ],
            [
             0.4444444444444444,
             "#bd3786"
            ],
            [
             0.5555555555555556,
             "#d8576b"
            ],
            [
             0.6666666666666666,
             "#ed7953"
            ],
            [
             0.7777777777777778,
             "#fb9f3a"
            ],
            [
             0.8888888888888888,
             "#fdca26"
            ],
            [
             1,
             "#f0f921"
            ]
           ]
          },
          "colorway": [
           "#636efa",
           "#EF553B",
           "#00cc96",
           "#ab63fa",
           "#FFA15A",
           "#19d3f3",
           "#FF6692",
           "#B6E880",
           "#FF97FF",
           "#FECB52"
          ],
          "font": {
           "color": "#2a3f5f"
          },
          "geo": {
           "bgcolor": "white",
           "lakecolor": "white",
           "landcolor": "#E5ECF6",
           "showlakes": true,
           "showland": true,
           "subunitcolor": "white"
          },
          "hoverlabel": {
           "align": "left"
          },
          "hovermode": "closest",
          "mapbox": {
           "style": "light"
          },
          "paper_bgcolor": "white",
          "plot_bgcolor": "#E5ECF6",
          "polar": {
           "angularaxis": {
            "gridcolor": "white",
            "linecolor": "white",
            "ticks": ""
           },
           "bgcolor": "#E5ECF6",
           "radialaxis": {
            "gridcolor": "white",
            "linecolor": "white",
            "ticks": ""
           }
          },
          "scene": {
           "xaxis": {
            "backgroundcolor": "#E5ECF6",
            "gridcolor": "white",
            "gridwidth": 2,
            "linecolor": "white",
            "showbackground": true,
            "ticks": "",
            "zerolinecolor": "white"
           },
           "yaxis": {
            "backgroundcolor": "#E5ECF6",
            "gridcolor": "white",
            "gridwidth": 2,
            "linecolor": "white",
            "showbackground": true,
            "ticks": "",
            "zerolinecolor": "white"
           },
           "zaxis": {
            "backgroundcolor": "#E5ECF6",
            "gridcolor": "white",
            "gridwidth": 2,
            "linecolor": "white",
            "showbackground": true,
            "ticks": "",
            "zerolinecolor": "white"
           }
          },
          "shapedefaults": {
           "line": {
            "color": "#2a3f5f"
           }
          },
          "ternary": {
           "aaxis": {
            "gridcolor": "white",
            "linecolor": "white",
            "ticks": ""
           },
           "baxis": {
            "gridcolor": "white",
            "linecolor": "white",
            "ticks": ""
           },
           "bgcolor": "#E5ECF6",
           "caxis": {
            "gridcolor": "white",
            "linecolor": "white",
            "ticks": ""
           }
          },
          "title": {
           "x": 0.05
          },
          "xaxis": {
           "automargin": true,
           "gridcolor": "white",
           "linecolor": "white",
           "ticks": "",
           "title": {
            "standoff": 15
           },
           "zerolinecolor": "white",
           "zerolinewidth": 2
          },
          "yaxis": {
           "automargin": true,
           "gridcolor": "white",
           "linecolor": "white",
           "ticks": "",
           "title": {
            "standoff": 15
           },
           "zerolinecolor": "white",
           "zerolinewidth": 2
          }
         }
        },
        "title": {
         "text": "Revenue Percentage by Channel and Brand"
        },
        "width": 800,
        "xaxis": {
         "anchor": "y",
         "domain": [
          0,
          1
         ],
         "title": {
          "text": "Channel"
         }
        },
        "yaxis": {
         "anchor": "x",
         "domain": [
          0,
          1
         ],
         "range": [
          1,
          100
         ],
         "title": {
          "text": "Revenue (%)"
         }
        }
       }
      }
     },
     "metadata": {},
     "output_type": "display_data"
    }
   ],
   "source": [
    "revenue_share=df_combined.groupby(['Brand','channel'])['revenue'].sum().reset_index()\n",
    "revenue_share['rev_%'] = (\n",
    "    revenue_share\n",
    "      .groupby('Brand')['revenue']\n",
    "      .transform(lambda x: x / x.sum() * 100)\n",
    ")\n",
    "\n",
    "# 3. (Optional) Round for readability\n",
    "revenue_share['rev_%'] = revenue_share['rev_%'].round(1)\n",
    "\n",
    "\n",
    "# Format percentages to 2 decimals for text labels\n",
    "revenue_share['revenue_text'] = revenue_share['rev_%'].apply(lambda x: f'{x:.2f}%')\n",
    "brand_colors = {\n",
    "    'LC': 'rgb(246, 35, 151)',  \n",
    "    'WS': 'rgb(22, 198, 206)'  \n",
    "}\n",
    "fig = px.bar(\n",
    "    revenue_share,\n",
    "    x='channel',\n",
    "    y='rev_%',\n",
    "    color='Brand',\n",
    "    barmode='group',\n",
    "    text='revenue_text',\n",
    "    color_discrete_map=brand_colors,\n",
    "    title='Revenue Percentage by Channel and Brand'\n",
    ")\n",
    "\n",
    "fig.update_traces(textposition='outside')\n",
    "\n",
    "fig.update_layout(\n",
    "    xaxis_title='Channel',\n",
    "    yaxis_title='Revenue (%)',\n",
    "    yaxis=dict(range=[1, 100])\n",
    ")\n",
    "fig.update_layout(\n",
    "    width=800,   # Set the desired width (in pixels)\n",
    "    height=500,  # Set the desired height (in pixels)\n",
    ")\n",
    "\n",
    "fig.show()\n"
   ]
  },
  {
   "cell_type": "code",
   "execution_count": 18,
   "metadata": {},
   "outputs": [
    {
     "data": {
      "text/html": [
       "<div>\n",
       "<style scoped>\n",
       "    .dataframe tbody tr th:only-of-type {\n",
       "        vertical-align: middle;\n",
       "    }\n",
       "\n",
       "    .dataframe tbody tr th {\n",
       "        vertical-align: top;\n",
       "    }\n",
       "\n",
       "    .dataframe thead th {\n",
       "        text-align: right;\n",
       "    }\n",
       "</style>\n",
       "<table border=\"1\" class=\"dataframe\">\n",
       "  <thead>\n",
       "    <tr style=\"text-align: right;\">\n",
       "      <th></th>\n",
       "      <th>Brand</th>\n",
       "      <th>channel</th>\n",
       "      <th>revenue</th>\n",
       "      <th>rev_%</th>\n",
       "      <th>revenue_text</th>\n",
       "    </tr>\n",
       "  </thead>\n",
       "  <tbody>\n",
       "    <tr>\n",
       "      <th>0</th>\n",
       "      <td>LC</td>\n",
       "      <td>1PO</td>\n",
       "      <td>33781841.67</td>\n",
       "      <td>75.0</td>\n",
       "      <td>75.00%</td>\n",
       "    </tr>\n",
       "    <tr>\n",
       "      <th>1</th>\n",
       "      <td>LC</td>\n",
       "      <td>3PO</td>\n",
       "      <td>11272581.86</td>\n",
       "      <td>25.0</td>\n",
       "      <td>25.00%</td>\n",
       "    </tr>\n",
       "    <tr>\n",
       "      <th>2</th>\n",
       "      <td>WS</td>\n",
       "      <td>1PO</td>\n",
       "      <td>44258088.05</td>\n",
       "      <td>55.8</td>\n",
       "      <td>55.80%</td>\n",
       "    </tr>\n",
       "    <tr>\n",
       "      <th>3</th>\n",
       "      <td>WS</td>\n",
       "      <td>3PO</td>\n",
       "      <td>35114767.93</td>\n",
       "      <td>44.2</td>\n",
       "      <td>44.20%</td>\n",
       "    </tr>\n",
       "  </tbody>\n",
       "</table>\n",
       "</div>"
      ],
      "text/plain": [
       "  Brand channel      revenue  rev_% revenue_text\n",
       "0    LC     1PO  33781841.67   75.0       75.00%\n",
       "1    LC     3PO  11272581.86   25.0       25.00%\n",
       "2    WS     1PO  44258088.05   55.8       55.80%\n",
       "3    WS     3PO  35114767.93   44.2       44.20%"
      ]
     },
     "execution_count": 18,
     "metadata": {},
     "output_type": "execute_result"
    }
   ],
   "source": [
    "revenue_share\n"
   ]
  },
  {
   "cell_type": "code",
   "execution_count": 19,
   "metadata": {},
   "outputs": [
    {
     "ename": "NameError",
     "evalue": "name 'color' is not defined",
     "output_type": "error",
     "traceback": [
      "\u001b[0;31m---------------------------------------------------------------------------\u001b[0m",
      "\u001b[0;31mNameError\u001b[0m                                 Traceback (most recent call last)",
      "Cell \u001b[0;32mIn[19], line 65\u001b[0m\n\u001b[1;32m     53\u001b[0m shown_modes\u001b[38;5;241m.\u001b[39madd(mode)\n\u001b[1;32m     55\u001b[0m \u001b[38;5;66;03m# # Color by channel\u001b[39;00m\n\u001b[1;32m     56\u001b[0m \u001b[38;5;66;03m# color = channel_colors.get(channel, 'gray')\u001b[39;00m\n\u001b[1;32m     57\u001b[0m \n\u001b[1;32m     58\u001b[0m \u001b[38;5;66;03m# 5a. Actual data line\u001b[39;00m\n\u001b[1;32m     59\u001b[0m fig\u001b[38;5;241m.\u001b[39madd_trace(\n\u001b[1;32m     60\u001b[0m     go\u001b[38;5;241m.\u001b[39mScatter(\n\u001b[1;32m     61\u001b[0m         x\u001b[38;5;241m=\u001b[39mx, y\u001b[38;5;241m=\u001b[39my,\n\u001b[1;32m     62\u001b[0m         mode\u001b[38;5;241m=\u001b[39m\u001b[38;5;124m'\u001b[39m\u001b[38;5;124mlines+markers\u001b[39m\u001b[38;5;124m'\u001b[39m,\n\u001b[1;32m     63\u001b[0m         name\u001b[38;5;241m=\u001b[39mmode,\n\u001b[1;32m     64\u001b[0m         showlegend\u001b[38;5;241m=\u001b[39mshow_leg,\n\u001b[0;32m---> 65\u001b[0m         line\u001b[38;5;241m=\u001b[39m\u001b[38;5;28mdict\u001b[39m(color\u001b[38;5;241m=\u001b[39m\u001b[43mcolor\u001b[49m)\n\u001b[1;32m     66\u001b[0m     ),\n\u001b[1;32m     67\u001b[0m     row\u001b[38;5;241m=\u001b[39mi, col\u001b[38;5;241m=\u001b[39mj\n\u001b[1;32m     68\u001b[0m )\n\u001b[1;32m     70\u001b[0m \u001b[38;5;66;03m# 5b. Trend line\u001b[39;00m\n\u001b[1;32m     71\u001b[0m x_ord \u001b[38;5;241m=\u001b[39m x\u001b[38;5;241m.\u001b[39mmap(pd\u001b[38;5;241m.\u001b[39mTimestamp\u001b[38;5;241m.\u001b[39mtoordinal)\u001b[38;5;241m.\u001b[39mvalues\n",
      "\u001b[0;31mNameError\u001b[0m: name 'color' is not defined"
     ]
    }
   ],
   "source": [
    "import pandas as pd\n",
    "import numpy as np\n",
    "import plotly.graph_objects as go\n",
    "from plotly.subplots import make_subplots\n",
    "\n",
    "# 1. Aggregate weekly revenue\n",
    "weekly = (\n",
    "    df_combined[df_combined['Brand'] == 'LC']\n",
    "    .groupby(['Brand', 'channel', 'OrderMode', 'WeekStartDate'], as_index=False)['revenue']\n",
    "    .sum()\n",
    ")\n",
    "\n",
    "# 2. Unique brands and channels\n",
    "brands = weekly['Brand'].unique().tolist()\n",
    "channels = weekly['channel'].unique().tolist()\n",
    "n_rows, n_cols = len(brands), len(channels)\n",
    "\n",
    "# 3. Custom colors for each channel\n",
    "channel_colors = {\n",
    "    'Grubhub': 'rgb(14, 133, 133)',\n",
    "    'Mobile': 'rgb(43, 75, 149)',\n",
    "    'UberEats': 'rgb(149, 43, 88)',\n",
    "    'DoorDash': 'rgb(209, 116, 10)',\n",
    "    'Website': 'rgb(78, 210, 184)',\n",
    "    'Online': 'rgb(180, 93, 231)'\n",
    "}\n",
    "\n",
    "# 4. Create subplot grid\n",
    "fig = make_subplots(\n",
    "    rows=n_rows,\n",
    "    cols=n_cols,\n",
    "    shared_xaxes=False,\n",
    "    shared_yaxes=False,\n",
    "    subplot_titles=[f\"{b} — {c}\" for b in brands for c in channels],\n",
    "    vertical_spacing=0.09\n",
    ")\n",
    "\n",
    "# 5. Plotting\n",
    "shown_modes = set()\n",
    "\n",
    "for i, brand in enumerate(brands, start=1):\n",
    "    for j, channel in enumerate(channels, start=1):\n",
    "        cell = weekly[(weekly['Brand'] == brand) & (weekly['channel'] == channel)]\n",
    "        if cell.empty:\n",
    "            continue\n",
    "\n",
    "        for mode in cell['OrderMode'].unique():\n",
    "            sub = cell[cell['OrderMode'] == mode]\n",
    "            x = sub['WeekStartDate']\n",
    "            y = sub['revenue']\n",
    "\n",
    "            show_leg = mode not in shown_modes\n",
    "            shown_modes.add(mode)\n",
    "\n",
    "            # # Color by channel\n",
    "            # color = channel_colors.get(channel, 'gray')\n",
    "\n",
    "            # 5a. Actual data line\n",
    "            fig.add_trace(\n",
    "                go.Scatter(\n",
    "                    x=x, y=y,\n",
    "                    mode='lines+markers',\n",
    "                    name=mode,\n",
    "                    showlegend=show_leg,\n",
    "                    line=dict(color=color)\n",
    "                ),\n",
    "                row=i, col=j\n",
    "            )\n",
    "\n",
    "            # 5b. Trend line\n",
    "            x_ord = x.map(pd.Timestamp.toordinal).values\n",
    "            slope, intercept = np.polyfit(x_ord, y, 1)\n",
    "            y_hat = slope * x_ord + intercept\n",
    "            ss_res = np.sum((y - y_hat) ** 2)\n",
    "            ss_tot = np.sum((y - np.mean(y)) ** 2)\n",
    "            r2 = 1 - ss_res / ss_tot\n",
    "\n",
    "            fig.add_trace(\n",
    "                go.Scatter(\n",
    "                    x=x, y=y_hat,\n",
    "                    mode='lines',\n",
    "                    line=dict(dash='dash', color='green'),\n",
    "                    showlegend=False\n",
    "                ),\n",
    "                row=i, col=j\n",
    "            )\n",
    "\n",
    "            # 5c. Annotate with slope & R²\n",
    "            sp_idx = (i - 1) * n_cols + j\n",
    "            xref = f\"x{sp_idx}\" if sp_idx > 1 else \"x\"\n",
    "            yref = f\"y{sp_idx}\" if sp_idx > 1 else \"y\"\n",
    "\n",
    "            fig.add_annotation(\n",
    "                xref=xref, yref=yref,\n",
    "                x=min(x), y=max(y_hat),\n",
    "                text=f\"slope={slope:.2f}<br>R²={r2:.2f}\",\n",
    "                showarrow=False,\n",
    "                font=dict(size=10, color=\"black\"),\n",
    "                bgcolor=\"rgba(255,255,255,0.7)\",\n",
    "                xanchor=\"left\", yanchor=\"top\"\n",
    "            )\n",
    "\n",
    "# 6. Final layout tweaks\n",
    "fig.update_yaxes(matches=None)\n",
    "fig.update_layout(\n",
    "    height=450 * n_rows,\n",
    "    width=600 * n_cols,\n",
    "    title=\"Weekly Revenue with Trend Lines & R²\",\n",
    "    legend_title_text=\"OrderMode\"\n",
    ")\n",
    "\n",
    "fig.write_image(\"2.png\")\n",
    "fig.show()\n"
   ]
  },
  {
   "cell_type": "code",
   "execution_count": 20,
   "metadata": {},
   "outputs": [
    {
     "data": {
      "application/vnd.plotly.v1+json": {
       "config": {
        "plotlyServerURL": "https://plot.ly"
       },
       "data": [
        {
         "mode": "lines+markers",
         "name": "Mobile",
         "showlegend": true,
         "type": "scatter",
         "x": [
          "2024-02-26T00:00:00.000000000",
          "2024-03-04T00:00:00.000000000",
          "2024-03-11T00:00:00.000000000",
          "2024-03-18T00:00:00.000000000",
          "2024-03-25T00:00:00.000000000",
          "2024-04-01T00:00:00.000000000",
          "2024-04-08T00:00:00.000000000",
          "2024-04-15T00:00:00.000000000",
          "2024-04-22T00:00:00.000000000",
          "2024-04-29T00:00:00.000000000",
          "2024-05-06T00:00:00.000000000",
          "2024-05-13T00:00:00.000000000",
          "2024-05-20T00:00:00.000000000",
          "2024-05-27T00:00:00.000000000",
          "2024-06-03T00:00:00.000000000",
          "2024-06-10T00:00:00.000000000",
          "2024-06-17T00:00:00.000000000",
          "2024-06-24T00:00:00.000000000",
          "2024-07-01T00:00:00.000000000",
          "2024-07-08T00:00:00.000000000",
          "2024-07-15T00:00:00.000000000",
          "2024-07-22T00:00:00.000000000",
          "2024-07-29T00:00:00.000000000",
          "2024-08-05T00:00:00.000000000",
          "2024-08-12T00:00:00.000000000",
          "2024-08-19T00:00:00.000000000",
          "2024-08-26T00:00:00.000000000",
          "2024-09-02T00:00:00.000000000",
          "2024-09-09T00:00:00.000000000",
          "2024-09-16T00:00:00.000000000",
          "2024-09-23T00:00:00.000000000",
          "2024-09-30T00:00:00.000000000",
          "2024-10-07T00:00:00.000000000",
          "2024-10-14T00:00:00.000000000",
          "2024-10-21T00:00:00.000000000",
          "2024-10-28T00:00:00.000000000",
          "2024-11-04T00:00:00.000000000",
          "2024-11-11T00:00:00.000000000",
          "2024-11-18T00:00:00.000000000",
          "2024-11-25T00:00:00.000000000",
          "2024-12-02T00:00:00.000000000",
          "2024-12-09T00:00:00.000000000",
          "2024-12-16T00:00:00.000000000",
          "2024-12-23T00:00:00.000000000",
          "2024-12-30T00:00:00.000000000",
          "2025-01-06T00:00:00.000000000",
          "2025-01-13T00:00:00.000000000",
          "2025-01-20T00:00:00.000000000",
          "2025-01-27T00:00:00.000000000",
          "2025-02-03T00:00:00.000000000",
          "2025-02-10T00:00:00.000000000",
          "2025-02-17T00:00:00.000000000",
          "2025-02-24T00:00:00.000000000",
          "2025-03-03T00:00:00.000000000",
          "2025-03-10T00:00:00.000000000",
          "2025-03-17T00:00:00.000000000",
          "2025-03-24T00:00:00.000000000",
          "2025-03-31T00:00:00.000000000",
          "2025-04-07T00:00:00.000000000",
          "2025-04-14T00:00:00.000000000",
          "2025-04-21T00:00:00.000000000"
         ],
         "xaxis": "x",
         "y": {
          "bdata": "PQrXowtjFEG4HoXrGgQUQdejcD1ezxZBAAAAAIocGEEehetRXgcYQetRuB50phZBAAAAAN35FUHMzMzMyP4VQUfhehTYcBVBZmZmZq5PFUFSuB6FpU8UQY/C9SjOtBVBPQrXo1OTFUFwPQrXHiwWQTMzMzNtjRVBAAAAAHcxFEHhehSu99MUQTIzMzOfHRVBFa5H4cP3E0HXo3A9WpESQWZmZmZ6FRNBR+F6FI5yFEEK16Nw0zMVQfUoXI8i0xRBAAAAAB5bE0GF61G4rdATQR+F61FjOBRBpHA9CgCSFEEK16Nwvi0VQXsUrkd7IhVBPQrXo54XFUF7FK5H5WkUQdejcD22ShRBo3A9CqOXFEE9CtejneoVQR6F61GCDxdB61G4HjhMFUHMzMzMdAgWQeF6FK7B+BVBhetRuActFEGF61G4JYoWQXA9Ctd7mhVBZmZmZnvUFkFwPQrXvdcTQR+F61HJAhZBj8L1KOamE0GamZmZmPgUQcL1KFy+5xZBy8zMzP1rFkEiuB6FGbMXQc4oXI+RDhZB7K1H4cg/FkF8wvUojE8WQd3///9OlhVB+YTrUWsxFkGZ9ShclXQWQRrhehSBwRZBNWZmZkj5FkHmhOtRLIgXQbgoXI/2nRhBckfhesr8F0E=",
          "dtype": "f8"
         },
         "yaxis": "y"
        },
        {
         "line": {
          "color": "green",
          "dash": "dash"
         },
         "mode": "lines",
         "showlegend": false,
         "type": "scatter",
         "x": [
          "2024-02-26T00:00:00.000000000",
          "2024-03-04T00:00:00.000000000",
          "2024-03-11T00:00:00.000000000",
          "2024-03-18T00:00:00.000000000",
          "2024-03-25T00:00:00.000000000",
          "2024-04-01T00:00:00.000000000",
          "2024-04-08T00:00:00.000000000",
          "2024-04-15T00:00:00.000000000",
          "2024-04-22T00:00:00.000000000",
          "2024-04-29T00:00:00.000000000",
          "2024-05-06T00:00:00.000000000",
          "2024-05-13T00:00:00.000000000",
          "2024-05-20T00:00:00.000000000",
          "2024-05-27T00:00:00.000000000",
          "2024-06-03T00:00:00.000000000",
          "2024-06-10T00:00:00.000000000",
          "2024-06-17T00:00:00.000000000",
          "2024-06-24T00:00:00.000000000",
          "2024-07-01T00:00:00.000000000",
          "2024-07-08T00:00:00.000000000",
          "2024-07-15T00:00:00.000000000",
          "2024-07-22T00:00:00.000000000",
          "2024-07-29T00:00:00.000000000",
          "2024-08-05T00:00:00.000000000",
          "2024-08-12T00:00:00.000000000",
          "2024-08-19T00:00:00.000000000",
          "2024-08-26T00:00:00.000000000",
          "2024-09-02T00:00:00.000000000",
          "2024-09-09T00:00:00.000000000",
          "2024-09-16T00:00:00.000000000",
          "2024-09-23T00:00:00.000000000",
          "2024-09-30T00:00:00.000000000",
          "2024-10-07T00:00:00.000000000",
          "2024-10-14T00:00:00.000000000",
          "2024-10-21T00:00:00.000000000",
          "2024-10-28T00:00:00.000000000",
          "2024-11-04T00:00:00.000000000",
          "2024-11-11T00:00:00.000000000",
          "2024-11-18T00:00:00.000000000",
          "2024-11-25T00:00:00.000000000",
          "2024-12-02T00:00:00.000000000",
          "2024-12-09T00:00:00.000000000",
          "2024-12-16T00:00:00.000000000",
          "2024-12-23T00:00:00.000000000",
          "2024-12-30T00:00:00.000000000",
          "2025-01-06T00:00:00.000000000",
          "2025-01-13T00:00:00.000000000",
          "2025-01-20T00:00:00.000000000",
          "2025-01-27T00:00:00.000000000",
          "2025-02-03T00:00:00.000000000",
          "2025-02-10T00:00:00.000000000",
          "2025-02-17T00:00:00.000000000",
          "2025-02-24T00:00:00.000000000",
          "2025-03-03T00:00:00.000000000",
          "2025-03-10T00:00:00.000000000",
          "2025-03-17T00:00:00.000000000",
          "2025-03-24T00:00:00.000000000",
          "2025-03-31T00:00:00.000000000",
          "2025-04-07T00:00:00.000000000",
          "2025-04-14T00:00:00.000000000",
          "2025-04-21T00:00:00.000000000"
         ],
         "xaxis": "x",
         "y": {
          "bdata": "AE9/gTTTFEGA9ta3ZdkUQYCdLu6W3xRBAEWGJMjlFEEA7N1a+esUQYCTNZEq8hRBADuNx1v4FEEA4uT9jP4UQYCJPDS+BBVBgDCUau8KFUEA2OugIBEVQYB/Q9dRFxVBgCabDYMdFUEAzvJDtCMVQQB1SnrlKRVBgByisBYwFUEAxPnmRzYVQQBrUR15PBVBgBKpU6pCFUGAuQCK20gVQQBhWMAMTxVBgAiw9j1VFUGArwctb1sVQQBXX2OgYRVBAP62mdFnFUGApQ7QAm4VQQBNZgY0dBVBAPS9PGV6FUGAmxVzloAVQYBCbanHhhVBAOrE3/iMFUGAkRwWKpMVQYA4dExbmRVBAODLgoyfFUEAhyO5vaUVQYAue+/uqxVBgNXSJSCyFUEAfSpcUbgVQYAkgpKCvhVBgMvZyLPEFUEAczH/5MoVQQAaiTUW0RVBgMHga0fXFUEAaTiieN0VQQAQkNip4xVBgLfnDtvpFUGAXj9FDPAVQQAGl3s99hVBgK3usW78FUGAVEbonwIWQQD8nR7RCBZBAKP1VAIPFkGASk2LMxUWQQDypMFkGxZBAJn895UhFkGAQFQuxycWQYDnq2T4LRZBAI8Dmyk0FkGANlvRWjoWQYDdsgeMQBZBAIUKPr1GFkE=",
          "dtype": "f8"
         },
         "yaxis": "y"
        },
        {
         "mode": "lines+markers",
         "name": "Website",
         "showlegend": true,
         "type": "scatter",
         "x": [
          "2024-02-26T00:00:00.000000000",
          "2024-03-04T00:00:00.000000000",
          "2024-03-11T00:00:00.000000000",
          "2024-03-18T00:00:00.000000000",
          "2024-03-25T00:00:00.000000000",
          "2024-04-01T00:00:00.000000000",
          "2024-04-08T00:00:00.000000000",
          "2024-04-15T00:00:00.000000000",
          "2024-04-22T00:00:00.000000000",
          "2024-04-29T00:00:00.000000000",
          "2024-05-06T00:00:00.000000000",
          "2024-05-13T00:00:00.000000000",
          "2024-05-20T00:00:00.000000000",
          "2024-05-27T00:00:00.000000000",
          "2024-06-03T00:00:00.000000000",
          "2024-06-10T00:00:00.000000000",
          "2024-06-17T00:00:00.000000000",
          "2024-06-24T00:00:00.000000000",
          "2024-07-01T00:00:00.000000000",
          "2024-07-08T00:00:00.000000000",
          "2024-07-15T00:00:00.000000000",
          "2024-07-22T00:00:00.000000000",
          "2024-07-29T00:00:00.000000000",
          "2024-08-05T00:00:00.000000000",
          "2024-08-12T00:00:00.000000000",
          "2024-08-19T00:00:00.000000000",
          "2024-08-26T00:00:00.000000000",
          "2024-09-02T00:00:00.000000000",
          "2024-09-09T00:00:00.000000000",
          "2024-09-16T00:00:00.000000000",
          "2024-09-23T00:00:00.000000000",
          "2024-09-30T00:00:00.000000000",
          "2024-10-07T00:00:00.000000000",
          "2024-10-14T00:00:00.000000000",
          "2024-10-21T00:00:00.000000000",
          "2024-10-28T00:00:00.000000000",
          "2024-11-04T00:00:00.000000000",
          "2024-11-11T00:00:00.000000000",
          "2024-11-18T00:00:00.000000000",
          "2024-11-25T00:00:00.000000000",
          "2024-12-02T00:00:00.000000000",
          "2024-12-09T00:00:00.000000000",
          "2024-12-16T00:00:00.000000000",
          "2024-12-23T00:00:00.000000000",
          "2024-12-30T00:00:00.000000000",
          "2025-01-06T00:00:00.000000000",
          "2025-01-13T00:00:00.000000000",
          "2025-01-20T00:00:00.000000000",
          "2025-01-27T00:00:00.000000000",
          "2025-02-03T00:00:00.000000000",
          "2025-02-10T00:00:00.000000000",
          "2025-02-17T00:00:00.000000000",
          "2025-02-24T00:00:00.000000000",
          "2025-03-03T00:00:00.000000000",
          "2025-03-10T00:00:00.000000000",
          "2025-03-17T00:00:00.000000000",
          "2025-03-24T00:00:00.000000000",
          "2025-03-31T00:00:00.000000000",
          "2025-04-07T00:00:00.000000000",
          "2025-04-14T00:00:00.000000000",
          "2025-04-21T00:00:00.000000000"
         ],
         "xaxis": "x",
         "y": {
          "bdata": "mZmZmd0eB0EzMzMzv+EGQY/C9Si4oQtBPQrXo4iUDkG4HoXr6eMNQR+F61Hg9gtB61G4HhnHCkFbj8L1juQKQR6F61E23AlBPgrXo9ieCUH1KFyPpvoIQf////+LIgpBmZmZmadgCkGPwvUooG4KQaNwPQqBawpBUrgehfPdB0GjcD0KcSYJQaNwPQrLjQlB16NwPVRsCEEAAAAAKAAGQcP1KFzjMgZB4XoUrrFVCEE9CtejsNcIQVK4HoUnXwdBAAAAAHAOB0GkcD0KBQIHQeF6FK6ZwQdBMzMzM2PPB0HrUbgeBXQIQetRuB63vgdBXI/C9SrXB0FwPQrX75AGQdejcD0KogZBCtejcHPYBkGZmZmZ688IQWZmZma81wlBAAAAAMoVCEE9CtejYKkIQRSuR+HOEgdBuB6F63X0BUEK16NwN+wIQVyPwvVU3AdBUrgehdlbCUE+Ctej4DMEQQrXo3B9+AdBrkfhekxLBEEzMzMzRd4FQfYoXI9S7AhBuB6F68vhB0EbMzMzwY4KQeQoXI9WaQhBLQrXo5LNB0HC9Shc37EHQU2PwvVwEwhBYj0K1/96B0E54XoUpCsHQXTrUbg2SQhB4ihcjziLCUEu4XoUuNAIQf+E61Fa7AlB/K1H4QwVCEE=",
          "dtype": "f8"
         },
         "yaxis": "y"
        },
        {
         "line": {
          "color": "green",
          "dash": "dash"
         },
         "mode": "lines",
         "showlegend": false,
         "type": "scatter",
         "x": [
          "2024-02-26T00:00:00.000000000",
          "2024-03-04T00:00:00.000000000",
          "2024-03-11T00:00:00.000000000",
          "2024-03-18T00:00:00.000000000",
          "2024-03-25T00:00:00.000000000",
          "2024-04-01T00:00:00.000000000",
          "2024-04-08T00:00:00.000000000",
          "2024-04-15T00:00:00.000000000",
          "2024-04-22T00:00:00.000000000",
          "2024-04-29T00:00:00.000000000",
          "2024-05-06T00:00:00.000000000",
          "2024-05-13T00:00:00.000000000",
          "2024-05-20T00:00:00.000000000",
          "2024-05-27T00:00:00.000000000",
          "2024-06-03T00:00:00.000000000",
          "2024-06-10T00:00:00.000000000",
          "2024-06-17T00:00:00.000000000",
          "2024-06-24T00:00:00.000000000",
          "2024-07-01T00:00:00.000000000",
          "2024-07-08T00:00:00.000000000",
          "2024-07-15T00:00:00.000000000",
          "2024-07-22T00:00:00.000000000",
          "2024-07-29T00:00:00.000000000",
          "2024-08-05T00:00:00.000000000",
          "2024-08-12T00:00:00.000000000",
          "2024-08-19T00:00:00.000000000",
          "2024-08-26T00:00:00.000000000",
          "2024-09-02T00:00:00.000000000",
          "2024-09-09T00:00:00.000000000",
          "2024-09-16T00:00:00.000000000",
          "2024-09-23T00:00:00.000000000",
          "2024-09-30T00:00:00.000000000",
          "2024-10-07T00:00:00.000000000",
          "2024-10-14T00:00:00.000000000",
          "2024-10-21T00:00:00.000000000",
          "2024-10-28T00:00:00.000000000",
          "2024-11-04T00:00:00.000000000",
          "2024-11-11T00:00:00.000000000",
          "2024-11-18T00:00:00.000000000",
          "2024-11-25T00:00:00.000000000",
          "2024-12-02T00:00:00.000000000",
          "2024-12-09T00:00:00.000000000",
          "2024-12-16T00:00:00.000000000",
          "2024-12-23T00:00:00.000000000",
          "2024-12-30T00:00:00.000000000",
          "2025-01-06T00:00:00.000000000",
          "2025-01-13T00:00:00.000000000",
          "2025-01-20T00:00:00.000000000",
          "2025-01-27T00:00:00.000000000",
          "2025-02-03T00:00:00.000000000",
          "2025-02-10T00:00:00.000000000",
          "2025-02-17T00:00:00.000000000",
          "2025-02-24T00:00:00.000000000",
          "2025-03-03T00:00:00.000000000",
          "2025-03-10T00:00:00.000000000",
          "2025-03-17T00:00:00.000000000",
          "2025-03-24T00:00:00.000000000",
          "2025-03-31T00:00:00.000000000",
          "2025-04-07T00:00:00.000000000",
          "2025-04-14T00:00:00.000000000",
          "2025-04-21T00:00:00.000000000"
         ],
         "xaxis": "x",
         "y": {
          "bdata": "ACNPuILRCUEARXtrRcYJQQBmpx4IuwlBAIfT0cqvCUEAqf+EjaQJQQDKKzhQmQlBAOtX6xKOCUEADYSe1YIJQQAusFGYdwlBAE/cBFtsCUEAcQi4HWEJQQCSNGvgVQlBALNgHqNKCUEA1YzRZT8JQQD2uIQoNAlBABflN+soCUEAORHrrR0JQQBaPZ5wEglBAHtpUTMHCUEAnZUE9vsIQQC+wbe48AhBAN/tanvlCEEAARoePtoIQQAiRtEAzwhBAENyhMPDCEEAZZ43hrgIQQCGyupIrQhBAKf2nQuiCEEAySJRzpYIQQDqTgSRiwhBAAx7t1OACEEALadqFnUIQQBO0x3ZaQhBAHD/0JteCEEAkSuEXlMIQQCyVzchSAhBANSD6uM8CEEA9a+dpjEIQQAW3FBpJghBADgIBCwbCEEAWTS37g8IQQB6YGqxBAhBAJyMHXT5B0EAvbjQNu4HQQDe5IP54gdBAAARN7zXB0EAIT3qfswHQQBCaZ1BwQdBAGSVUAS2B0EAhcEDx6oHQQCm7baJnwdBAMgZakyUB0EA6UUdD4kHQQAKctDRfQdBACyeg5RyB0EATco2V2cHQQBu9ukZXAdBAJAindxQB0EAsU5Qn0UHQQDSegNiOgdBAPSmtiQvB0E=",
          "dtype": "f8"
         },
         "yaxis": "y"
        },
        {
         "mode": "lines+markers",
         "name": "DoorDash",
         "showlegend": true,
         "type": "scatter",
         "x": [
          "2024-02-26T00:00:00.000000000",
          "2024-03-04T00:00:00.000000000",
          "2024-03-11T00:00:00.000000000",
          "2024-03-18T00:00:00.000000000",
          "2024-03-25T00:00:00.000000000",
          "2024-04-01T00:00:00.000000000",
          "2024-04-08T00:00:00.000000000",
          "2024-04-15T00:00:00.000000000",
          "2024-04-22T00:00:00.000000000",
          "2024-04-29T00:00:00.000000000",
          "2024-05-06T00:00:00.000000000",
          "2024-05-13T00:00:00.000000000",
          "2024-05-20T00:00:00.000000000",
          "2024-05-27T00:00:00.000000000",
          "2024-06-03T00:00:00.000000000",
          "2024-06-10T00:00:00.000000000",
          "2024-06-17T00:00:00.000000000",
          "2024-06-24T00:00:00.000000000",
          "2024-07-01T00:00:00.000000000",
          "2024-07-08T00:00:00.000000000",
          "2024-07-15T00:00:00.000000000",
          "2024-07-22T00:00:00.000000000",
          "2024-07-29T00:00:00.000000000",
          "2024-08-05T00:00:00.000000000",
          "2024-08-12T00:00:00.000000000",
          "2024-08-19T00:00:00.000000000",
          "2024-08-26T00:00:00.000000000",
          "2024-09-02T00:00:00.000000000",
          "2024-09-09T00:00:00.000000000",
          "2024-09-16T00:00:00.000000000",
          "2024-09-23T00:00:00.000000000",
          "2024-09-30T00:00:00.000000000",
          "2024-10-07T00:00:00.000000000",
          "2024-10-14T00:00:00.000000000",
          "2024-10-21T00:00:00.000000000",
          "2024-10-28T00:00:00.000000000",
          "2024-11-04T00:00:00.000000000",
          "2024-11-11T00:00:00.000000000",
          "2024-11-18T00:00:00.000000000",
          "2024-11-25T00:00:00.000000000",
          "2024-12-02T00:00:00.000000000",
          "2024-12-09T00:00:00.000000000",
          "2024-12-16T00:00:00.000000000",
          "2024-12-23T00:00:00.000000000",
          "2024-12-30T00:00:00.000000000",
          "2025-01-06T00:00:00.000000000",
          "2025-01-13T00:00:00.000000000",
          "2025-01-20T00:00:00.000000000",
          "2025-01-27T00:00:00.000000000",
          "2025-02-03T00:00:00.000000000",
          "2025-02-10T00:00:00.000000000",
          "2025-02-17T00:00:00.000000000",
          "2025-02-24T00:00:00.000000000",
          "2025-03-03T00:00:00.000000000",
          "2025-03-10T00:00:00.000000000",
          "2025-03-17T00:00:00.000000000",
          "2025-03-24T00:00:00.000000000",
          "2025-03-31T00:00:00.000000000",
          "2025-04-07T00:00:00.000000000",
          "2025-04-14T00:00:00.000000000",
          "2025-04-21T00:00:00.000000000"
         ],
         "xaxis": "x2",
         "y": {
          "bdata": "mZmZmf0g/UDNzMzMjJP9QArXo3D7fwFB1qNwPY57A0GuR+F6uCYDQUfhehREwgFBUrgehVu0AEF7FK5HswkBQXE9Ctcj3/9AZmZmZtQ2AEFSuB6Fb4b9QD4K16Mc8/5AzczMzMxlAEEfhetRLMQBQQrXo3BDiAJBexSuR0e2AUGuR+F6Tr4CQQAAAABMFQNBuB6F6y2TAEFmZmZmfNUEQWdmZmY2igFBrkfheo4EAkG4HoXrt10EQVK4HoXjhAJBKVyPwr8ZAkEAAAAAlCQCQXE9CtcH5AJBj8L1KHTdAUEK16NwS58BQaRwPQqH5wFBR+F6FLDpAUHrUbgeEyYCQRWuR+Gk1QFB7FG4HudPAEEAAAAACkMCQZmZmZl/HARBpHA9Cg0lA0HrUbgemVUDQexRuB7tRgJBmpmZmbU5AEEehetRZBMCQetRuB4pPQFBZmZmZl7AAUFnZmZm5i/+QM3MzMx2PwVBhetRuCJ7A0GF61G4ghoCQT0K16O+GQNBAAAAAB76A0GA61G4nk0DQepRuB5p5QJBUbgehcn0BEGpR+F65hkEQcD1KFwbvQNB/v///4MwA0FOuB6F/3ACQTwK16MofwJBTrgehck2AkEvMzMz9dYCQWw9CtelgANBLzMzM7XoA0E=",
          "dtype": "f8"
         },
         "yaxis": "y2"
        },
        {
         "line": {
          "color": "green",
          "dash": "dash"
         },
         "mode": "lines",
         "showlegend": false,
         "type": "scatter",
         "x": [
          "2024-02-26T00:00:00.000000000",
          "2024-03-04T00:00:00.000000000",
          "2024-03-11T00:00:00.000000000",
          "2024-03-18T00:00:00.000000000",
          "2024-03-25T00:00:00.000000000",
          "2024-04-01T00:00:00.000000000",
          "2024-04-08T00:00:00.000000000",
          "2024-04-15T00:00:00.000000000",
          "2024-04-22T00:00:00.000000000",
          "2024-04-29T00:00:00.000000000",
          "2024-05-06T00:00:00.000000000",
          "2024-05-13T00:00:00.000000000",
          "2024-05-20T00:00:00.000000000",
          "2024-05-27T00:00:00.000000000",
          "2024-06-03T00:00:00.000000000",
          "2024-06-10T00:00:00.000000000",
          "2024-06-17T00:00:00.000000000",
          "2024-06-24T00:00:00.000000000",
          "2024-07-01T00:00:00.000000000",
          "2024-07-08T00:00:00.000000000",
          "2024-07-15T00:00:00.000000000",
          "2024-07-22T00:00:00.000000000",
          "2024-07-29T00:00:00.000000000",
          "2024-08-05T00:00:00.000000000",
          "2024-08-12T00:00:00.000000000",
          "2024-08-19T00:00:00.000000000",
          "2024-08-26T00:00:00.000000000",
          "2024-09-02T00:00:00.000000000",
          "2024-09-09T00:00:00.000000000",
          "2024-09-16T00:00:00.000000000",
          "2024-09-23T00:00:00.000000000",
          "2024-09-30T00:00:00.000000000",
          "2024-10-07T00:00:00.000000000",
          "2024-10-14T00:00:00.000000000",
          "2024-10-21T00:00:00.000000000",
          "2024-10-28T00:00:00.000000000",
          "2024-11-04T00:00:00.000000000",
          "2024-11-11T00:00:00.000000000",
          "2024-11-18T00:00:00.000000000",
          "2024-11-25T00:00:00.000000000",
          "2024-12-02T00:00:00.000000000",
          "2024-12-09T00:00:00.000000000",
          "2024-12-16T00:00:00.000000000",
          "2024-12-23T00:00:00.000000000",
          "2024-12-30T00:00:00.000000000",
          "2025-01-06T00:00:00.000000000",
          "2025-01-13T00:00:00.000000000",
          "2025-01-20T00:00:00.000000000",
          "2025-01-27T00:00:00.000000000",
          "2025-02-03T00:00:00.000000000",
          "2025-02-10T00:00:00.000000000",
          "2025-02-17T00:00:00.000000000",
          "2025-02-24T00:00:00.000000000",
          "2025-03-03T00:00:00.000000000",
          "2025-03-10T00:00:00.000000000",
          "2025-03-17T00:00:00.000000000",
          "2025-03-24T00:00:00.000000000",
          "2025-03-31T00:00:00.000000000",
          "2025-04-07T00:00:00.000000000",
          "2025-04-14T00:00:00.000000000",
          "2025-04-21T00:00:00.000000000"
         ],
         "xaxis": "x2",
         "y": {
          "bdata": "AA8KOijZAEEAihv/ReQAQQAGLcRj7wBBAIE+iYH6AEEA/E9OnwUBQQB3YRO9EAFBAPJy2NobAUEAbYSd+CYBQQDplWIWMgFBAGSnJzQ9AUEA37jsUUgBQQBayrFvUwFBANXbdo1eAUEAUO07q2kBQQDM/gDJdAFBAEcQxuZ/AUEAwiGLBIsBQQA9M1AilgFBALhEFUChAUEAM1baXawBQQCvZ597twFBACp5ZJnCAUEApYopt80BQQAgnO7U2AFBAJuts/LjAUEAF794EO8BQQCS0D0u+gFBAA3iAkwFAkEAiPPHaRACQQADBY2HGwJBAH4WUqUmAkEA+icXwzECQQB1OdzgPAJBAPBKof5HAkEAa1xmHFMCQQDmbSs6XgJBAGF/8FdpAkEA3ZC1dXQCQQBYonqTfwJBANOzP7GKAkEATsUEz5UCQQDJ1snsoAJBAETojgqsAkEAwPlTKLcCQQA7CxlGwgJBALYc3mPNAkEAMS6jgdgCQQCsP2if4wJBAChRLb3uAkEAo2Ly2vkCQQAedLf4BANBAJmFfBYQA0EAFJdBNBsDQQCPqAZSJgNBAAu6y28xA0EAhsuQjTwDQQAB3VWrRwNBAHzuGslSA0EA9//f5l0DQQByEaUEaQNBAO4iaiJ0A0E=",
          "dtype": "f8"
         },
         "yaxis": "y2"
        },
        {
         "mode": "lines+markers",
         "name": "Grubhub",
         "showlegend": true,
         "type": "scatter",
         "x": [
          "2024-02-26T00:00:00.000000000",
          "2024-03-04T00:00:00.000000000",
          "2024-03-11T00:00:00.000000000",
          "2024-03-18T00:00:00.000000000",
          "2024-03-25T00:00:00.000000000",
          "2024-04-01T00:00:00.000000000",
          "2024-04-08T00:00:00.000000000",
          "2024-04-15T00:00:00.000000000",
          "2024-04-22T00:00:00.000000000",
          "2024-04-29T00:00:00.000000000",
          "2024-05-06T00:00:00.000000000",
          "2024-05-13T00:00:00.000000000",
          "2024-05-20T00:00:00.000000000",
          "2024-05-27T00:00:00.000000000",
          "2024-06-03T00:00:00.000000000",
          "2024-06-10T00:00:00.000000000",
          "2024-06-17T00:00:00.000000000",
          "2024-06-24T00:00:00.000000000",
          "2024-07-01T00:00:00.000000000",
          "2024-07-08T00:00:00.000000000",
          "2024-07-15T00:00:00.000000000",
          "2024-07-22T00:00:00.000000000",
          "2024-07-29T00:00:00.000000000",
          "2024-08-05T00:00:00.000000000",
          "2024-08-12T00:00:00.000000000",
          "2024-08-19T00:00:00.000000000",
          "2024-08-26T00:00:00.000000000",
          "2024-09-02T00:00:00.000000000",
          "2024-09-09T00:00:00.000000000",
          "2024-09-16T00:00:00.000000000",
          "2024-09-23T00:00:00.000000000",
          "2024-09-30T00:00:00.000000000",
          "2024-10-07T00:00:00.000000000",
          "2024-10-14T00:00:00.000000000",
          "2024-10-21T00:00:00.000000000",
          "2024-10-28T00:00:00.000000000",
          "2024-11-04T00:00:00.000000000",
          "2024-11-11T00:00:00.000000000",
          "2024-11-18T00:00:00.000000000",
          "2024-11-25T00:00:00.000000000",
          "2024-12-02T00:00:00.000000000",
          "2024-12-09T00:00:00.000000000",
          "2024-12-16T00:00:00.000000000",
          "2024-12-23T00:00:00.000000000",
          "2024-12-30T00:00:00.000000000",
          "2025-01-06T00:00:00.000000000",
          "2025-01-13T00:00:00.000000000",
          "2025-01-20T00:00:00.000000000",
          "2025-01-27T00:00:00.000000000",
          "2025-02-03T00:00:00.000000000",
          "2025-02-10T00:00:00.000000000",
          "2025-02-17T00:00:00.000000000",
          "2025-02-24T00:00:00.000000000",
          "2025-03-03T00:00:00.000000000",
          "2025-03-10T00:00:00.000000000",
          "2025-03-17T00:00:00.000000000",
          "2025-03-24T00:00:00.000000000",
          "2025-03-31T00:00:00.000000000",
          "2025-04-07T00:00:00.000000000",
          "2025-04-14T00:00:00.000000000",
          "2025-04-21T00:00:00.000000000"
         ],
         "xaxis": "x2",
         "y": {
          "bdata": "7FG4HgU+sUAVrkfhenWsQBWuR+H6KLNAmZmZmRmbuUAUrkfh+qq0QIXrUbierbZASOF6FO5js0BmZmZm5tmyQIXrUbieqbFAFK5H4XrHtEDsUbgehYqsQEjhehSu9a5ACtejcD3qrUDsUbgexZeyQAAAAAAAzLFAUrgehSt+skDsUbgehduuQGdmZmbmP69AuB6F61HZqkApXI/CdbSuQBSuR+H6UK1AmZmZmZnqrkDhehSux5uxQHsUrkdhhq9A61G4HgV7rkDNzMzMTB6wQDMzMzOzF61AcD0K12PhsEDsUbgeBVKsQEjhehQuwapAAAAAAIAosEA0MzMz82+yQDMzMzOzLrJASOF6FO4csEA9CtejcA+uQClcj8L1hrBAUrgehWtzukAVrkfhui6wQB+F61H4qLJAj8L1KFzzqkC4HoXr0fOwQOF6FK6HWLFAwvUoXI/DrkDiehSux56uQM3MzMwMdLJAw/UoXI/yr0BH4XoULhCxQArXo3A9U69A4XoUrgeMsUCZmZmZWR65QM3MzMzM9rJAj8L1KBx9sEAfhetRuDmxQFyPwvWoyLRAw/UoXI/cs0DD9Shcj+WxQB+F61G4NqtArkfhehTlr0AK16NwfaiwQPYoXI9CN7JAZmZmZqbasUA=",
          "dtype": "f8"
         },
         "yaxis": "y2"
        },
        {
         "line": {
          "color": "green",
          "dash": "dash"
         },
         "mode": "lines",
         "showlegend": false,
         "type": "scatter",
         "x": [
          "2024-02-26T00:00:00.000000000",
          "2024-03-04T00:00:00.000000000",
          "2024-03-11T00:00:00.000000000",
          "2024-03-18T00:00:00.000000000",
          "2024-03-25T00:00:00.000000000",
          "2024-04-01T00:00:00.000000000",
          "2024-04-08T00:00:00.000000000",
          "2024-04-15T00:00:00.000000000",
          "2024-04-22T00:00:00.000000000",
          "2024-04-29T00:00:00.000000000",
          "2024-05-06T00:00:00.000000000",
          "2024-05-13T00:00:00.000000000",
          "2024-05-20T00:00:00.000000000",
          "2024-05-27T00:00:00.000000000",
          "2024-06-03T00:00:00.000000000",
          "2024-06-10T00:00:00.000000000",
          "2024-06-17T00:00:00.000000000",
          "2024-06-24T00:00:00.000000000",
          "2024-07-01T00:00:00.000000000",
          "2024-07-08T00:00:00.000000000",
          "2024-07-15T00:00:00.000000000",
          "2024-07-22T00:00:00.000000000",
          "2024-07-29T00:00:00.000000000",
          "2024-08-05T00:00:00.000000000",
          "2024-08-12T00:00:00.000000000",
          "2024-08-19T00:00:00.000000000",
          "2024-08-26T00:00:00.000000000",
          "2024-09-02T00:00:00.000000000",
          "2024-09-09T00:00:00.000000000",
          "2024-09-16T00:00:00.000000000",
          "2024-09-23T00:00:00.000000000",
          "2024-09-30T00:00:00.000000000",
          "2024-10-07T00:00:00.000000000",
          "2024-10-14T00:00:00.000000000",
          "2024-10-21T00:00:00.000000000",
          "2024-10-28T00:00:00.000000000",
          "2024-11-04T00:00:00.000000000",
          "2024-11-11T00:00:00.000000000",
          "2024-11-18T00:00:00.000000000",
          "2024-11-25T00:00:00.000000000",
          "2024-12-02T00:00:00.000000000",
          "2024-12-09T00:00:00.000000000",
          "2024-12-16T00:00:00.000000000",
          "2024-12-23T00:00:00.000000000",
          "2024-12-30T00:00:00.000000000",
          "2025-01-06T00:00:00.000000000",
          "2025-01-13T00:00:00.000000000",
          "2025-01-20T00:00:00.000000000",
          "2025-01-27T00:00:00.000000000",
          "2025-02-03T00:00:00.000000000",
          "2025-02-10T00:00:00.000000000",
          "2025-02-17T00:00:00.000000000",
          "2025-02-24T00:00:00.000000000",
          "2025-03-03T00:00:00.000000000",
          "2025-03-10T00:00:00.000000000",
          "2025-03-17T00:00:00.000000000",
          "2025-03-24T00:00:00.000000000",
          "2025-03-31T00:00:00.000000000",
          "2025-04-07T00:00:00.000000000",
          "2025-04-14T00:00:00.000000000",
          "2025-04-21T00:00:00.000000000"
         ],
         "xaxis": "x2",
         "y": {
          "bdata": "YH86Zxt7sUBgh8jWPnmxQGCPVkZid7FAYJfktYV1sUBAn3IlqXOxQECnAJXMcbFAQK+OBPBvsUBAtxx0E26xQEC/quM2bLFAQMc4U1pqsUAgz8bCfWixQCDXVDKhZrFAIN/iocRksUAg53AR6GKxQCDv/oALYbFAIPeM8C5fsUAA/xpgUl2xQAAHqc91W7FAAA83P5lZsUAAF8WuvFexQAAfUx7gVbFAACfhjQNUsUDgLm/9JlKxQOA2/WxKULFA4D6L3G1OsUDgRhlMkUyxQOBOp7u0SrFA4FY1K9hIsUDAXsOa+0axQMBmUQofRbFAwG7feUJDsUDAdm3pZUGxQMB++1iJP7FAwIaJyKw9sUCgjhc40DuxQKCWpafzObFAoJ4zFxc4sUCgpsGGOjaxQKCuT/ZdNLFAoLbdZYEysUCAvmvVpDCxQIDG+UTILrFAgM6HtOsssUCA1hUkDyuxQIDeo5MyKbFAYOYxA1YnsUBg7r9yeSWxQGD2TeKcI7FAYP7bUcAhsUBgBmrB4x+xQGAO+DAHHrFAQBaGoCocsUBAHhQQThqxQEAmon9xGLFAQC4w75QWsUBANr5euBSxQEA+TM7bErFAIEbaPf8QsUAgTmitIg+xQCBW9hxGDbFAIF6EjGkLsUA=",
          "dtype": "f8"
         },
         "yaxis": "y2"
        },
        {
         "mode": "lines+markers",
         "name": "UberEats",
         "showlegend": true,
         "type": "scatter",
         "x": [
          "2024-02-26T00:00:00.000000000",
          "2024-03-04T00:00:00.000000000",
          "2024-03-11T00:00:00.000000000",
          "2024-03-18T00:00:00.000000000",
          "2024-03-25T00:00:00.000000000",
          "2024-04-01T00:00:00.000000000",
          "2024-04-08T00:00:00.000000000",
          "2024-04-15T00:00:00.000000000",
          "2024-04-22T00:00:00.000000000",
          "2024-04-29T00:00:00.000000000",
          "2024-05-06T00:00:00.000000000",
          "2024-05-13T00:00:00.000000000",
          "2024-05-20T00:00:00.000000000",
          "2024-05-27T00:00:00.000000000",
          "2024-06-03T00:00:00.000000000",
          "2024-06-10T00:00:00.000000000",
          "2024-06-17T00:00:00.000000000",
          "2024-06-24T00:00:00.000000000",
          "2024-07-01T00:00:00.000000000",
          "2024-07-08T00:00:00.000000000",
          "2024-07-15T00:00:00.000000000",
          "2024-07-22T00:00:00.000000000",
          "2024-07-29T00:00:00.000000000",
          "2024-08-05T00:00:00.000000000",
          "2024-08-12T00:00:00.000000000",
          "2024-08-19T00:00:00.000000000",
          "2024-08-26T00:00:00.000000000",
          "2024-09-02T00:00:00.000000000",
          "2024-09-09T00:00:00.000000000",
          "2024-09-16T00:00:00.000000000",
          "2024-09-23T00:00:00.000000000",
          "2024-09-30T00:00:00.000000000",
          "2024-10-07T00:00:00.000000000",
          "2024-10-14T00:00:00.000000000",
          "2024-10-21T00:00:00.000000000",
          "2024-10-28T00:00:00.000000000",
          "2024-11-04T00:00:00.000000000",
          "2024-11-11T00:00:00.000000000",
          "2024-11-18T00:00:00.000000000",
          "2024-11-25T00:00:00.000000000",
          "2024-12-02T00:00:00.000000000",
          "2024-12-09T00:00:00.000000000",
          "2024-12-16T00:00:00.000000000",
          "2024-12-23T00:00:00.000000000",
          "2024-12-30T00:00:00.000000000",
          "2025-01-06T00:00:00.000000000",
          "2025-01-13T00:00:00.000000000",
          "2025-01-20T00:00:00.000000000",
          "2025-01-27T00:00:00.000000000",
          "2025-02-03T00:00:00.000000000",
          "2025-02-10T00:00:00.000000000",
          "2025-02-17T00:00:00.000000000",
          "2025-02-24T00:00:00.000000000",
          "2025-03-03T00:00:00.000000000",
          "2025-03-10T00:00:00.000000000",
          "2025-03-17T00:00:00.000000000",
          "2025-03-24T00:00:00.000000000",
          "2025-03-31T00:00:00.000000000",
          "2025-04-07T00:00:00.000000000",
          "2025-04-14T00:00:00.000000000",
          "2025-04-21T00:00:00.000000000"
         ],
         "xaxis": "x2",
         "y": {
          "bdata": "zMzMzDzF1kCF61G4HmPTQDMzMzOTsttAKVyPwp154kCjcD0KJzLeQB6F61EYkd1AhetRuJ5K3ECF61G4ntDYQIXrUbg+UNpAR+F6FJ6H2EAzMzMzoyLWQK5H4Xpk5dpAMzMzM3O/2EDXo3A9atLcQD4K16NwatlAKFyPwkUS2UDNzMzMLBPcQHA9CtcD6OFArkfhenQf4EDhehSuxzbcQAAAAACAH9pA7FG4HtWq3EDC9ShcH7HbQAvXo3B9KNpAmpmZmVmJ30DXo3A92jHdQHsUrkd5teFA9ihcjxKu2kDD9Shc/y3bQB+F61GoK9pAmZmZmUm53EA0MzMzM0XcQDMzMzOLi+NAMzMzM9ug40AfhetRGBrjQK9H4Xr8b+FAmpmZmeEy4UABAAAAYOjfQHE9CtdDBeBAuR6F68EN2UBmZmZmpv7eQKRwPQoH0dpAhOtRuM5n30DrUbgeZbDZQOJ6FK7XVuFA7FG4HjUd5EC4HoXrmWTkQML1KFwv0N9A4XoUrpca4EDnUbgehZDjQH/rUbiu299AEa5H4SKD4UDhehSuz6zhQJqZmZlxzuBAXo/C9SiV3UDD9ShcF3XhQKRwPQrPI+RA33oUrucg30AmXI/C3SnjQP7///8/8+JAonA9Cl+R5EA=",
          "dtype": "f8"
         },
         "yaxis": "y2"
        },
        {
         "line": {
          "color": "green",
          "dash": "dash"
         },
         "mode": "lines",
         "showlegend": false,
         "type": "scatter",
         "x": [
          "2024-02-26T00:00:00.000000000",
          "2024-03-04T00:00:00.000000000",
          "2024-03-11T00:00:00.000000000",
          "2024-03-18T00:00:00.000000000",
          "2024-03-25T00:00:00.000000000",
          "2024-04-01T00:00:00.000000000",
          "2024-04-08T00:00:00.000000000",
          "2024-04-15T00:00:00.000000000",
          "2024-04-22T00:00:00.000000000",
          "2024-04-29T00:00:00.000000000",
          "2024-05-06T00:00:00.000000000",
          "2024-05-13T00:00:00.000000000",
          "2024-05-20T00:00:00.000000000",
          "2024-05-27T00:00:00.000000000",
          "2024-06-03T00:00:00.000000000",
          "2024-06-10T00:00:00.000000000",
          "2024-06-17T00:00:00.000000000",
          "2024-06-24T00:00:00.000000000",
          "2024-07-01T00:00:00.000000000",
          "2024-07-08T00:00:00.000000000",
          "2024-07-15T00:00:00.000000000",
          "2024-07-22T00:00:00.000000000",
          "2024-07-29T00:00:00.000000000",
          "2024-08-05T00:00:00.000000000",
          "2024-08-12T00:00:00.000000000",
          "2024-08-19T00:00:00.000000000",
          "2024-08-26T00:00:00.000000000",
          "2024-09-02T00:00:00.000000000",
          "2024-09-09T00:00:00.000000000",
          "2024-09-16T00:00:00.000000000",
          "2024-09-23T00:00:00.000000000",
          "2024-09-30T00:00:00.000000000",
          "2024-10-07T00:00:00.000000000",
          "2024-10-14T00:00:00.000000000",
          "2024-10-21T00:00:00.000000000",
          "2024-10-28T00:00:00.000000000",
          "2024-11-04T00:00:00.000000000",
          "2024-11-11T00:00:00.000000000",
          "2024-11-18T00:00:00.000000000",
          "2024-11-25T00:00:00.000000000",
          "2024-12-02T00:00:00.000000000",
          "2024-12-09T00:00:00.000000000",
          "2024-12-16T00:00:00.000000000",
          "2024-12-23T00:00:00.000000000",
          "2024-12-30T00:00:00.000000000",
          "2025-01-06T00:00:00.000000000",
          "2025-01-13T00:00:00.000000000",
          "2025-01-20T00:00:00.000000000",
          "2025-01-27T00:00:00.000000000",
          "2025-02-03T00:00:00.000000000",
          "2025-02-10T00:00:00.000000000",
          "2025-02-17T00:00:00.000000000",
          "2025-02-24T00:00:00.000000000",
          "2025-03-03T00:00:00.000000000",
          "2025-03-10T00:00:00.000000000",
          "2025-03-17T00:00:00.000000000",
          "2025-03-24T00:00:00.000000000",
          "2025-03-31T00:00:00.000000000",
          "2025-04-07T00:00:00.000000000",
          "2025-04-14T00:00:00.000000000",
          "2025-04-21T00:00:00.000000000"
         ],
         "xaxis": "x2",
         "y": {
          "bdata": "AADliwJg2UAApMiGg4/ZQABIrIEEv9lAAOiPfIXu2UAAjHN3Bh7aQAAwV3KHTdpAANQ6bQh92kAAdB5oiazaQAAYAmMK3NpAALzlXYsL20AAYMlYDDvbQAAArVONattAAKSQTg6a20AASHRJj8nbQADoV0QQ+dtAAIw7P5Eo3EAAMB86EljcQADUAjWTh9xAAHTmLxS33EAAGMoqlebcQAC8rSUWFt1AAGCRIJdF3UAAAHUbGHXdQACkWBaZpN1AAEg8ERrU3UAA6B8MmwPeQACMAwccM95AADDnAZ1i3kAA1Mr8HZLeQAB0rveewd5AABiS8h/x3kAAvHXtoCDfQABgWeghUN9AAAA946J/30AApCDeI6/fQABIBNmk3t9AAPTz6RIH4EAAxmVn0x7gQACY1+STNuBAAGpJYlRO4EAAOrvfFGbgQAAMLV3VfeBAAN6e2pWV4EAAsBBYVq3gQACAgtUWxeBAAFL0Utfc4EAAJGbQl/TgQAD0101YDOFAAMZJyxgk4UAAmLtI2TvhQABqLcaZU+FAADqfQ1pr4UAADBHBGoPhQADegj7bmuFAALD0u5uy4UAAgGY5XMrhQABS2LYc4uFAACRKNN354UAA9LuxnRHiQADGLS9eKeJAAJifrB5B4kA=",
          "dtype": "f8"
         },
         "yaxis": "y2"
        }
       ],
       "layout": {
        "annotations": [
         {
          "font": {
           "size": 16
          },
          "showarrow": false,
          "text": "LC — 1PO",
          "x": 0.225,
          "xanchor": "center",
          "xref": "paper",
          "y": 1,
          "yanchor": "bottom",
          "yref": "paper"
         },
         {
          "font": {
           "size": 16
          },
          "showarrow": false,
          "text": "LC — 3PO",
          "x": 0.775,
          "xanchor": "center",
          "xref": "paper",
          "y": 1,
          "yanchor": "bottom",
          "yref": "paper"
         },
         {
          "bgcolor": "rgba(255,255,255,0.7)",
          "font": {
           "color": "black",
           "size": 10
          },
          "showarrow": false,
          "text": "slope=56.61<br>R²=0.11",
          "x": "2024-02-26T00:00:00",
          "xanchor": "left",
          "xref": "x",
          "y": 364975.3105870038,
          "yanchor": "top",
          "yref": "y"
         },
         {
          "bgcolor": "rgba(255,255,255,0.7)",
          "font": {
           "color": "black",
           "size": 10
          },
          "showarrow": false,
          "text": "slope=-51.38<br>R²=0.17",
          "x": "2024-02-26T00:00:00",
          "xanchor": "left",
          "xref": "x",
          "y": 211504.3399946913,
          "yanchor": "top",
          "yref": "y"
         },
         {
          "bgcolor": "rgba(255,255,255,0.7)",
          "font": {
           "color": "black",
           "size": 10
          },
          "showarrow": false,
          "text": "slope=50.82<br>R²=0.25",
          "x": "2024-02-26T00:00:00",
          "xanchor": "left",
          "xref": "x2",
          "y": 159364.3018244356,
          "yanchor": "top",
          "yref": "y2"
         },
         {
          "bgcolor": "rgba(255,255,255,0.7)",
          "font": {
           "color": "black",
           "size": 10
          },
          "showarrow": false,
          "text": "slope=-0.27<br>R²=0.00",
          "x": "2024-02-26T00:00:00",
          "xanchor": "left",
          "xref": "x2",
          "y": 4475.107043892,
          "yanchor": "top",
          "yref": "y2"
         },
         {
          "bgcolor": "rgba(255,255,255,0.7)",
          "font": {
           "color": "black",
           "size": 10
          },
          "showarrow": false,
          "text": "slope=27.15<br>R²=0.39",
          "x": "2024-02-26T00:00:00",
          "xanchor": "left",
          "xref": "x2",
          "y": 37384.95857219398,
          "yanchor": "top",
          "yref": "y2"
         }
        ],
        "height": 450,
        "legend": {
         "title": {
          "text": "OrderMode"
         }
        },
        "template": {
         "data": {
          "bar": [
           {
            "error_x": {
             "color": "#2a3f5f"
            },
            "error_y": {
             "color": "#2a3f5f"
            },
            "marker": {
             "line": {
              "color": "#E5ECF6",
              "width": 0.5
             },
             "pattern": {
              "fillmode": "overlay",
              "size": 10,
              "solidity": 0.2
             }
            },
            "type": "bar"
           }
          ],
          "barpolar": [
           {
            "marker": {
             "line": {
              "color": "#E5ECF6",
              "width": 0.5
             },
             "pattern": {
              "fillmode": "overlay",
              "size": 10,
              "solidity": 0.2
             }
            },
            "type": "barpolar"
           }
          ],
          "carpet": [
           {
            "aaxis": {
             "endlinecolor": "#2a3f5f",
             "gridcolor": "white",
             "linecolor": "white",
             "minorgridcolor": "white",
             "startlinecolor": "#2a3f5f"
            },
            "baxis": {
             "endlinecolor": "#2a3f5f",
             "gridcolor": "white",
             "linecolor": "white",
             "minorgridcolor": "white",
             "startlinecolor": "#2a3f5f"
            },
            "type": "carpet"
           }
          ],
          "choropleth": [
           {
            "colorbar": {
             "outlinewidth": 0,
             "ticks": ""
            },
            "type": "choropleth"
           }
          ],
          "contour": [
           {
            "colorbar": {
             "outlinewidth": 0,
             "ticks": ""
            },
            "colorscale": [
             [
              0,
              "#0d0887"
             ],
             [
              0.1111111111111111,
              "#46039f"
             ],
             [
              0.2222222222222222,
              "#7201a8"
             ],
             [
              0.3333333333333333,
              "#9c179e"
             ],
             [
              0.4444444444444444,
              "#bd3786"
             ],
             [
              0.5555555555555556,
              "#d8576b"
             ],
             [
              0.6666666666666666,
              "#ed7953"
             ],
             [
              0.7777777777777778,
              "#fb9f3a"
             ],
             [
              0.8888888888888888,
              "#fdca26"
             ],
             [
              1,
              "#f0f921"
             ]
            ],
            "type": "contour"
           }
          ],
          "contourcarpet": [
           {
            "colorbar": {
             "outlinewidth": 0,
             "ticks": ""
            },
            "type": "contourcarpet"
           }
          ],
          "heatmap": [
           {
            "colorbar": {
             "outlinewidth": 0,
             "ticks": ""
            },
            "colorscale": [
             [
              0,
              "#0d0887"
             ],
             [
              0.1111111111111111,
              "#46039f"
             ],
             [
              0.2222222222222222,
              "#7201a8"
             ],
             [
              0.3333333333333333,
              "#9c179e"
             ],
             [
              0.4444444444444444,
              "#bd3786"
             ],
             [
              0.5555555555555556,
              "#d8576b"
             ],
             [
              0.6666666666666666,
              "#ed7953"
             ],
             [
              0.7777777777777778,
              "#fb9f3a"
             ],
             [
              0.8888888888888888,
              "#fdca26"
             ],
             [
              1,
              "#f0f921"
             ]
            ],
            "type": "heatmap"
           }
          ],
          "histogram": [
           {
            "marker": {
             "pattern": {
              "fillmode": "overlay",
              "size": 10,
              "solidity": 0.2
             }
            },
            "type": "histogram"
           }
          ],
          "histogram2d": [
           {
            "colorbar": {
             "outlinewidth": 0,
             "ticks": ""
            },
            "colorscale": [
             [
              0,
              "#0d0887"
             ],
             [
              0.1111111111111111,
              "#46039f"
             ],
             [
              0.2222222222222222,
              "#7201a8"
             ],
             [
              0.3333333333333333,
              "#9c179e"
             ],
             [
              0.4444444444444444,
              "#bd3786"
             ],
             [
              0.5555555555555556,
              "#d8576b"
             ],
             [
              0.6666666666666666,
              "#ed7953"
             ],
             [
              0.7777777777777778,
              "#fb9f3a"
             ],
             [
              0.8888888888888888,
              "#fdca26"
             ],
             [
              1,
              "#f0f921"
             ]
            ],
            "type": "histogram2d"
           }
          ],
          "histogram2dcontour": [
           {
            "colorbar": {
             "outlinewidth": 0,
             "ticks": ""
            },
            "colorscale": [
             [
              0,
              "#0d0887"
             ],
             [
              0.1111111111111111,
              "#46039f"
             ],
             [
              0.2222222222222222,
              "#7201a8"
             ],
             [
              0.3333333333333333,
              "#9c179e"
             ],
             [
              0.4444444444444444,
              "#bd3786"
             ],
             [
              0.5555555555555556,
              "#d8576b"
             ],
             [
              0.6666666666666666,
              "#ed7953"
             ],
             [
              0.7777777777777778,
              "#fb9f3a"
             ],
             [
              0.8888888888888888,
              "#fdca26"
             ],
             [
              1,
              "#f0f921"
             ]
            ],
            "type": "histogram2dcontour"
           }
          ],
          "mesh3d": [
           {
            "colorbar": {
             "outlinewidth": 0,
             "ticks": ""
            },
            "type": "mesh3d"
           }
          ],
          "parcoords": [
           {
            "line": {
             "colorbar": {
              "outlinewidth": 0,
              "ticks": ""
             }
            },
            "type": "parcoords"
           }
          ],
          "pie": [
           {
            "automargin": true,
            "type": "pie"
           }
          ],
          "scatter": [
           {
            "fillpattern": {
             "fillmode": "overlay",
             "size": 10,
             "solidity": 0.2
            },
            "type": "scatter"
           }
          ],
          "scatter3d": [
           {
            "line": {
             "colorbar": {
              "outlinewidth": 0,
              "ticks": ""
             }
            },
            "marker": {
             "colorbar": {
              "outlinewidth": 0,
              "ticks": ""
             }
            },
            "type": "scatter3d"
           }
          ],
          "scattercarpet": [
           {
            "marker": {
             "colorbar": {
              "outlinewidth": 0,
              "ticks": ""
             }
            },
            "type": "scattercarpet"
           }
          ],
          "scattergeo": [
           {
            "marker": {
             "colorbar": {
              "outlinewidth": 0,
              "ticks": ""
             }
            },
            "type": "scattergeo"
           }
          ],
          "scattergl": [
           {
            "marker": {
             "colorbar": {
              "outlinewidth": 0,
              "ticks": ""
             }
            },
            "type": "scattergl"
           }
          ],
          "scattermap": [
           {
            "marker": {
             "colorbar": {
              "outlinewidth": 0,
              "ticks": ""
             }
            },
            "type": "scattermap"
           }
          ],
          "scattermapbox": [
           {
            "marker": {
             "colorbar": {
              "outlinewidth": 0,
              "ticks": ""
             }
            },
            "type": "scattermapbox"
           }
          ],
          "scatterpolar": [
           {
            "marker": {
             "colorbar": {
              "outlinewidth": 0,
              "ticks": ""
             }
            },
            "type": "scatterpolar"
           }
          ],
          "scatterpolargl": [
           {
            "marker": {
             "colorbar": {
              "outlinewidth": 0,
              "ticks": ""
             }
            },
            "type": "scatterpolargl"
           }
          ],
          "scatterternary": [
           {
            "marker": {
             "colorbar": {
              "outlinewidth": 0,
              "ticks": ""
             }
            },
            "type": "scatterternary"
           }
          ],
          "surface": [
           {
            "colorbar": {
             "outlinewidth": 0,
             "ticks": ""
            },
            "colorscale": [
             [
              0,
              "#0d0887"
             ],
             [
              0.1111111111111111,
              "#46039f"
             ],
             [
              0.2222222222222222,
              "#7201a8"
             ],
             [
              0.3333333333333333,
              "#9c179e"
             ],
             [
              0.4444444444444444,
              "#bd3786"
             ],
             [
              0.5555555555555556,
              "#d8576b"
             ],
             [
              0.6666666666666666,
              "#ed7953"
             ],
             [
              0.7777777777777778,
              "#fb9f3a"
             ],
             [
              0.8888888888888888,
              "#fdca26"
             ],
             [
              1,
              "#f0f921"
             ]
            ],
            "type": "surface"
           }
          ],
          "table": [
           {
            "cells": {
             "fill": {
              "color": "#EBF0F8"
             },
             "line": {
              "color": "white"
             }
            },
            "header": {
             "fill": {
              "color": "#C8D4E3"
             },
             "line": {
              "color": "white"
             }
            },
            "type": "table"
           }
          ]
         },
         "layout": {
          "annotationdefaults": {
           "arrowcolor": "#2a3f5f",
           "arrowhead": 0,
           "arrowwidth": 1
          },
          "autotypenumbers": "strict",
          "coloraxis": {
           "colorbar": {
            "outlinewidth": 0,
            "ticks": ""
           }
          },
          "colorscale": {
           "diverging": [
            [
             0,
             "#8e0152"
            ],
            [
             0.1,
             "#c51b7d"
            ],
            [
             0.2,
             "#de77ae"
            ],
            [
             0.3,
             "#f1b6da"
            ],
            [
             0.4,
             "#fde0ef"
            ],
            [
             0.5,
             "#f7f7f7"
            ],
            [
             0.6,
             "#e6f5d0"
            ],
            [
             0.7,
             "#b8e186"
            ],
            [
             0.8,
             "#7fbc41"
            ],
            [
             0.9,
             "#4d9221"
            ],
            [
             1,
             "#276419"
            ]
           ],
           "sequential": [
            [
             0,
             "#0d0887"
            ],
            [
             0.1111111111111111,
             "#46039f"
            ],
            [
             0.2222222222222222,
             "#7201a8"
            ],
            [
             0.3333333333333333,
             "#9c179e"
            ],
            [
             0.4444444444444444,
             "#bd3786"
            ],
            [
             0.5555555555555556,
             "#d8576b"
            ],
            [
             0.6666666666666666,
             "#ed7953"
            ],
            [
             0.7777777777777778,
             "#fb9f3a"
            ],
            [
             0.8888888888888888,
             "#fdca26"
            ],
            [
             1,
             "#f0f921"
            ]
           ],
           "sequentialminus": [
            [
             0,
             "#0d0887"
            ],
            [
             0.1111111111111111,
             "#46039f"
            ],
            [
             0.2222222222222222,
             "#7201a8"
            ],
            [
             0.3333333333333333,
             "#9c179e"
            ],
            [
             0.4444444444444444,
             "#bd3786"
            ],
            [
             0.5555555555555556,
             "#d8576b"
            ],
            [
             0.6666666666666666,
             "#ed7953"
            ],
            [
             0.7777777777777778,
             "#fb9f3a"
            ],
            [
             0.8888888888888888,
             "#fdca26"
            ],
            [
             1,
             "#f0f921"
            ]
           ]
          },
          "colorway": [
           "#636efa",
           "#EF553B",
           "#00cc96",
           "#ab63fa",
           "#FFA15A",
           "#19d3f3",
           "#FF6692",
           "#B6E880",
           "#FF97FF",
           "#FECB52"
          ],
          "font": {
           "color": "#2a3f5f"
          },
          "geo": {
           "bgcolor": "white",
           "lakecolor": "white",
           "landcolor": "#E5ECF6",
           "showlakes": true,
           "showland": true,
           "subunitcolor": "white"
          },
          "hoverlabel": {
           "align": "left"
          },
          "hovermode": "closest",
          "mapbox": {
           "style": "light"
          },
          "paper_bgcolor": "white",
          "plot_bgcolor": "#E5ECF6",
          "polar": {
           "angularaxis": {
            "gridcolor": "white",
            "linecolor": "white",
            "ticks": ""
           },
           "bgcolor": "#E5ECF6",
           "radialaxis": {
            "gridcolor": "white",
            "linecolor": "white",
            "ticks": ""
           }
          },
          "scene": {
           "xaxis": {
            "backgroundcolor": "#E5ECF6",
            "gridcolor": "white",
            "gridwidth": 2,
            "linecolor": "white",
            "showbackground": true,
            "ticks": "",
            "zerolinecolor": "white"
           },
           "yaxis": {
            "backgroundcolor": "#E5ECF6",
            "gridcolor": "white",
            "gridwidth": 2,
            "linecolor": "white",
            "showbackground": true,
            "ticks": "",
            "zerolinecolor": "white"
           },
           "zaxis": {
            "backgroundcolor": "#E5ECF6",
            "gridcolor": "white",
            "gridwidth": 2,
            "linecolor": "white",
            "showbackground": true,
            "ticks": "",
            "zerolinecolor": "white"
           }
          },
          "shapedefaults": {
           "line": {
            "color": "#2a3f5f"
           }
          },
          "ternary": {
           "aaxis": {
            "gridcolor": "white",
            "linecolor": "white",
            "ticks": ""
           },
           "baxis": {
            "gridcolor": "white",
            "linecolor": "white",
            "ticks": ""
           },
           "bgcolor": "#E5ECF6",
           "caxis": {
            "gridcolor": "white",
            "linecolor": "white",
            "ticks": ""
           }
          },
          "title": {
           "x": 0.05
          },
          "xaxis": {
           "automargin": true,
           "gridcolor": "white",
           "linecolor": "white",
           "ticks": "",
           "title": {
            "standoff": 15
           },
           "zerolinecolor": "white",
           "zerolinewidth": 2
          },
          "yaxis": {
           "automargin": true,
           "gridcolor": "white",
           "linecolor": "white",
           "ticks": "",
           "title": {
            "standoff": 15
           },
           "zerolinecolor": "white",
           "zerolinewidth": 2
          }
         }
        },
        "title": {
         "text": "Weekly Revenue with Trend Lines & R²"
        },
        "width": 1200,
        "xaxis": {
         "anchor": "y",
         "domain": [
          0,
          0.45
         ]
        },
        "xaxis2": {
         "anchor": "y2",
         "domain": [
          0.55,
          1
         ]
        },
        "yaxis": {
         "anchor": "x",
         "domain": [
          0,
          1
         ]
        },
        "yaxis2": {
         "anchor": "x2",
         "domain": [
          0,
          1
         ]
        }
       }
      }
     },
     "metadata": {},
     "output_type": "display_data"
    }
   ],
   "source": [
    "import pandas as pd\n",
    "import numpy as np\n",
    "import plotly.graph_objects as go\n",
    "from plotly.subplots import make_subplots\n",
    "\n",
    "\n",
    "weekly = (\n",
    "    df_combined[df_combined['Brand']=='LC']\n",
    "      .groupby(['Brand','channel','OrderMode','WeekStartDate'], as_index=False)\n",
    "      ['revenue'].sum()\n",
    ")\n",
    "\n",
    "brands   = weekly['Brand'].unique().tolist()\n",
    "channels = weekly['channel'].unique().tolist()\n",
    "n_rows, n_cols = len(brands), len(channels)\n",
    "\n",
    "# 2) Create subplot grid\n",
    "fig = make_subplots(\n",
    "    rows=n_rows,\n",
    "    cols=n_cols,\n",
    "    shared_xaxes=False,\n",
    "    shared_yaxes=False,\n",
    "    subplot_titles=[f\"{b} — {c}\" for b in brands for c in channels],\n",
    "     vertical_spacing=0.09\n",
    "      \n",
    ")\n",
    "\n",
    "# 3) Plot data, trendlines, legend & annotations\n",
    "shown_modes = set()\n",
    "\n",
    "for i, brand in enumerate(brands, start=1):\n",
    "    for j, channel in enumerate(channels, start=1):\n",
    "        cell = weekly[(weekly['Brand']==brand) & (weekly['channel']==channel)]\n",
    "        if cell.empty:\n",
    "            continue\n",
    "\n",
    "        for mode in cell['OrderMode'].unique():\n",
    "            sub = cell[cell['OrderMode']==mode]\n",
    "            x = sub['WeekStartDate']\n",
    "            y = sub['revenue']\n",
    "\n",
    "            # only show each OrderMode once in the legend\n",
    "            show_leg = mode not in shown_modes\n",
    "            shown_modes.add(mode)\n",
    "\n",
    "            # 3a) Data line\n",
    "            fig.add_trace(\n",
    "                go.Scatter(\n",
    "                    \n",
    "                    x=x, y=y,\n",
    "                    mode='lines+markers',\n",
    "                    name=mode,\n",
    "                    showlegend=show_leg\n",
    "\n",
    "                ),\n",
    "                row=i, col=j\n",
    "            )\n",
    "\n",
    "            # 3b) Compute trend & R²\n",
    "            x_ord = x.map(pd.Timestamp.toordinal).values\n",
    "            slope, intercept = np.polyfit(x_ord, y, 1)\n",
    "            y_hat = slope * x_ord + intercept\n",
    "            ss_res = np.sum((y - y_hat)**2)\n",
    "            ss_tot = np.sum((y - np.mean(y))**2)\n",
    "            r2 = 1 - ss_res/ss_tot\n",
    "\n",
    "            # 3c) Trend‐line (green dashed)\n",
    "            fig.add_trace(\n",
    "                go.Scatter(\n",
    "                    x=x, y=y_hat,\n",
    "                    mode='lines',\n",
    "                    line=dict(dash='dash', color='green'),\n",
    "                    showlegend=False\n",
    "                ),\n",
    "                row=i, col=j\n",
    "            )\n",
    "\n",
    "            # 3d) Annotate with slope & R²\n",
    "            # Calculate subplot index for xref/yref:\n",
    "            sp_idx = (i-1)*n_cols + j\n",
    "            xref = f\"x{sp_idx}\" if sp_idx>1 else \"x\"\n",
    "            yref = f\"y{sp_idx}\" if sp_idx>1 else \"y\"\n",
    "\n",
    "            fig.add_annotation(\n",
    "                xref=xref, yref=yref,\n",
    "                x=min(x), y=max(y_hat),\n",
    "                text=f\"slope={slope:.2f}<br>R²={r2:.2f}\",\n",
    "                showarrow=False,\n",
    "                font=dict(size=10, color=\"black\"),\n",
    "                bgcolor=\"rgba(255,255,255,0.7)\",\n",
    "                xanchor=\"left\", yanchor=\"top\"\n",
    "            )\n",
    "\n",
    "# 4) Final layout tweaks\n",
    "fig.update_yaxes(matches=None)\n",
    "fig.update_layout(\n",
    "    height=450 * n_rows,\n",
    "    width=600 * n_cols,\n",
    "    title=\"Weekly Revenue with Trend Lines & R²\",\n",
    "    legend_title_text=\"OrderMode\"\n",
    ")\n",
    "fig.write_image(\"2.png\")\n",
    "fig.show()\n"
   ]
  },
  {
   "cell_type": "code",
   "execution_count": 21,
   "metadata": {},
   "outputs": [
    {
     "data": {
      "application/vnd.plotly.v1+json": {
       "config": {
        "plotlyServerURL": "https://plot.ly"
       },
       "data": [
        {
         "mode": "lines+markers",
         "name": "Online",
         "showlegend": true,
         "type": "scatter",
         "x": [
          "2024-03-11T00:00:00.000000000",
          "2024-03-18T00:00:00.000000000",
          "2024-03-25T00:00:00.000000000",
          "2024-04-01T00:00:00.000000000",
          "2024-04-08T00:00:00.000000000",
          "2024-04-15T00:00:00.000000000",
          "2024-04-22T00:00:00.000000000",
          "2024-04-29T00:00:00.000000000",
          "2024-05-06T00:00:00.000000000",
          "2024-05-13T00:00:00.000000000",
          "2024-05-20T00:00:00.000000000",
          "2024-05-27T00:00:00.000000000",
          "2024-06-03T00:00:00.000000000",
          "2024-06-10T00:00:00.000000000",
          "2024-06-17T00:00:00.000000000",
          "2024-06-24T00:00:00.000000000",
          "2024-07-01T00:00:00.000000000",
          "2024-07-08T00:00:00.000000000",
          "2024-07-15T00:00:00.000000000",
          "2024-07-22T00:00:00.000000000",
          "2024-07-29T00:00:00.000000000",
          "2024-08-05T00:00:00.000000000",
          "2024-08-12T00:00:00.000000000",
          "2024-08-19T00:00:00.000000000",
          "2024-08-26T00:00:00.000000000",
          "2024-09-02T00:00:00.000000000",
          "2024-09-09T00:00:00.000000000",
          "2024-09-16T00:00:00.000000000",
          "2024-09-23T00:00:00.000000000",
          "2024-09-30T00:00:00.000000000",
          "2024-10-07T00:00:00.000000000",
          "2024-10-14T00:00:00.000000000",
          "2024-10-21T00:00:00.000000000",
          "2024-10-28T00:00:00.000000000",
          "2024-11-04T00:00:00.000000000",
          "2024-11-11T00:00:00.000000000",
          "2024-11-18T00:00:00.000000000",
          "2024-11-25T00:00:00.000000000",
          "2024-12-02T00:00:00.000000000",
          "2024-12-09T00:00:00.000000000",
          "2024-12-16T00:00:00.000000000",
          "2024-12-23T00:00:00.000000000",
          "2024-12-30T00:00:00.000000000",
          "2025-01-06T00:00:00.000000000",
          "2025-01-13T00:00:00.000000000",
          "2025-01-20T00:00:00.000000000",
          "2025-01-27T00:00:00.000000000",
          "2025-02-03T00:00:00.000000000",
          "2025-02-10T00:00:00.000000000",
          "2025-02-17T00:00:00.000000000",
          "2025-02-24T00:00:00.000000000",
          "2025-03-03T00:00:00.000000000",
          "2025-03-10T00:00:00.000000000"
         ],
         "xaxis": "x",
         "y": {
          "bdata": "uB6F60SEJkHNzMzMz6olQZqZmZlZayZBcT0K17qLJEEK16PwSOgmQSlcj0IB+yVB4XoULqZBJ0F7FK5HwE8nQWZmZmbayiZBXI/C9XS9JkGF61E4tDcnQTMzM7MAWCdBZmZmZk9UJkGuR+H6MnUmQaRwPYrjjiZBH4Xr0UkOJ0EAAACAP0YnQYXrUbjcFSVB4XoUri3hJkH2KFyPSG4pQUjhehQ6WitBrkfhelBvKkF7FK5HoCIqQXE9Ctf3XipB7FG4HoClKUE+CtejoYItQXE9CleeTCxBwvUo3PzULUGPwvUokCYsQQrXo3BI1CtBFK5H4bkDK0EfhetRJZoqQWZmZmYRWypBAAAAgDPpKkEUrkfh21crQc3MzEy/nSxBhetRuEa0LEEAAAAA1kwqQSlcj0IntCZBH4Xr0RDoKEGF61E4N4UpQcP1KFyebCpBXI/C9WjYJkEAAAAA3agrQQAAAADIRidBcT0K10U8LEFSuB6FGvEqQetRuB4X4ylBhetROK9IMEHrUbieX6QqQTMzMzMPTyxBFK5H4aVfL0EfhetRlS0uQQ==",
          "dtype": "f8"
         },
         "yaxis": "y"
        },
        {
         "line": {
          "color": "green",
          "dash": "dash"
         },
         "mode": "lines",
         "showlegend": false,
         "type": "scatter",
         "x": [
          "2024-03-11T00:00:00.000000000",
          "2024-03-18T00:00:00.000000000",
          "2024-03-25T00:00:00.000000000",
          "2024-04-01T00:00:00.000000000",
          "2024-04-08T00:00:00.000000000",
          "2024-04-15T00:00:00.000000000",
          "2024-04-22T00:00:00.000000000",
          "2024-04-29T00:00:00.000000000",
          "2024-05-06T00:00:00.000000000",
          "2024-05-13T00:00:00.000000000",
          "2024-05-20T00:00:00.000000000",
          "2024-05-27T00:00:00.000000000",
          "2024-06-03T00:00:00.000000000",
          "2024-06-10T00:00:00.000000000",
          "2024-06-17T00:00:00.000000000",
          "2024-06-24T00:00:00.000000000",
          "2024-07-01T00:00:00.000000000",
          "2024-07-08T00:00:00.000000000",
          "2024-07-15T00:00:00.000000000",
          "2024-07-22T00:00:00.000000000",
          "2024-07-29T00:00:00.000000000",
          "2024-08-05T00:00:00.000000000",
          "2024-08-12T00:00:00.000000000",
          "2024-08-19T00:00:00.000000000",
          "2024-08-26T00:00:00.000000000",
          "2024-09-02T00:00:00.000000000",
          "2024-09-09T00:00:00.000000000",
          "2024-09-16T00:00:00.000000000",
          "2024-09-23T00:00:00.000000000",
          "2024-09-30T00:00:00.000000000",
          "2024-10-07T00:00:00.000000000",
          "2024-10-14T00:00:00.000000000",
          "2024-10-21T00:00:00.000000000",
          "2024-10-28T00:00:00.000000000",
          "2024-11-04T00:00:00.000000000",
          "2024-11-11T00:00:00.000000000",
          "2024-11-18T00:00:00.000000000",
          "2024-11-25T00:00:00.000000000",
          "2024-12-02T00:00:00.000000000",
          "2024-12-09T00:00:00.000000000",
          "2024-12-16T00:00:00.000000000",
          "2024-12-23T00:00:00.000000000",
          "2024-12-30T00:00:00.000000000",
          "2025-01-06T00:00:00.000000000",
          "2025-01-13T00:00:00.000000000",
          "2025-01-20T00:00:00.000000000",
          "2025-01-27T00:00:00.000000000",
          "2025-02-03T00:00:00.000000000",
          "2025-02-10T00:00:00.000000000",
          "2025-02-17T00:00:00.000000000",
          "2025-02-24T00:00:00.000000000",
          "2025-03-03T00:00:00.000000000",
          "2025-03-10T00:00:00.000000000"
         ],
         "xaxis": "x",
         "y": {
          "bdata": "AKiSiuQcJkEAWIrFFT4mQQAGggBHXyZBALZ5O3iAJkEAZnF2qaEmQQAUabHawiZBAMRg7AvkJkEAdFgnPQUnQQAkUGJuJidBANJHnZ9HJ0EAgj/Y0GgnQQAyNxMCiidBAOAuTjOrJ0EAkCaJZMwnQQBAHsSV7SdBAO4V/8YOKEEAng06+C8oQQBOBXUpUShBAP78r1pyKEEArPTqi5MoQQBc7CW9tChBAAzkYO7VKEEAutubH/coQQBq09ZQGClBABrLEYI5KUEAysJMs1opQQB4uofkeylBACiywhWdKUEA2Kn9Rr4pQQCGoTh43ylBADaZc6kAKkEA5pCu2iEqQQCUiOkLQypBAESAJD1kKkEA9HdfboUqQQCkb5qfpipBAFJn1dDHKkEAAl8QAukqQQCyVkszCitBAGBOhmQrK0EAEEbBlUwrQQDAPfzGbStBAHA1N/iOK0EAHi1yKbArQQDOJK1a0StBAH4c6IvyK0EALBQjvRMsQQDcC17uNCxBAIwDmR9WLEEAOvvTUHcsQQDq8g6CmCxBAJrqSbO5LEEASuKE5NosQQ==",
          "dtype": "f8"
         },
         "yaxis": "y"
        },
        {
         "mode": "lines+markers",
         "name": "DoorDash",
         "showlegend": true,
         "type": "scatter",
         "x": [
          "2024-03-11T00:00:00.000000000",
          "2024-03-18T00:00:00.000000000",
          "2024-03-25T00:00:00.000000000",
          "2024-04-01T00:00:00.000000000",
          "2024-04-08T00:00:00.000000000",
          "2024-04-15T00:00:00.000000000",
          "2024-04-22T00:00:00.000000000",
          "2024-04-29T00:00:00.000000000",
          "2024-05-06T00:00:00.000000000",
          "2024-05-13T00:00:00.000000000",
          "2024-05-20T00:00:00.000000000",
          "2024-05-27T00:00:00.000000000",
          "2024-06-03T00:00:00.000000000",
          "2024-06-10T00:00:00.000000000",
          "2024-06-17T00:00:00.000000000",
          "2024-06-24T00:00:00.000000000",
          "2024-07-01T00:00:00.000000000",
          "2024-07-08T00:00:00.000000000",
          "2024-07-15T00:00:00.000000000",
          "2024-07-22T00:00:00.000000000",
          "2024-07-29T00:00:00.000000000",
          "2024-08-05T00:00:00.000000000",
          "2024-08-12T00:00:00.000000000",
          "2024-08-19T00:00:00.000000000",
          "2024-08-26T00:00:00.000000000",
          "2024-09-02T00:00:00.000000000",
          "2024-09-09T00:00:00.000000000",
          "2024-09-16T00:00:00.000000000",
          "2024-09-23T00:00:00.000000000",
          "2024-09-30T00:00:00.000000000",
          "2024-10-07T00:00:00.000000000",
          "2024-10-14T00:00:00.000000000",
          "2024-10-21T00:00:00.000000000",
          "2024-10-28T00:00:00.000000000",
          "2024-11-04T00:00:00.000000000",
          "2024-11-11T00:00:00.000000000",
          "2024-11-18T00:00:00.000000000",
          "2024-11-25T00:00:00.000000000",
          "2024-12-02T00:00:00.000000000",
          "2024-12-09T00:00:00.000000000",
          "2024-12-16T00:00:00.000000000",
          "2024-12-23T00:00:00.000000000",
          "2024-12-30T00:00:00.000000000",
          "2025-01-06T00:00:00.000000000",
          "2025-01-13T00:00:00.000000000",
          "2025-01-20T00:00:00.000000000",
          "2025-01-27T00:00:00.000000000",
          "2025-02-03T00:00:00.000000000",
          "2025-02-10T00:00:00.000000000",
          "2025-02-17T00:00:00.000000000",
          "2025-02-24T00:00:00.000000000",
          "2025-03-03T00:00:00.000000000",
          "2025-03-10T00:00:00.000000000"
         ],
         "xaxis": "x2",
         "y": {
          "bdata": "zczMzIwXG0EzMzMz9RYbQVK4HoVnwRxBXI/C9dREGkEpXI/CxIEbQcP1KFyutRlBuB6F67J4G0G4HoXrfs8bQVK4HoXWchxB4XoUrvjlGkEfhetR9xMcQY/C9Si5vx1BFK5H4amJG0GkcD0Kb+wbQcP1KFxeVB1BzczMzGP4HUE9Ctcji60gQXA9Ctf5JxtBH4XrUZnFG0EVrkfhymgeQa5H4Xoiux9BFK5H4X1zHkGkcD0KO6McQaRwPQoOQR5B9ihcj4SzHEGamZmZa1AgQY/C9SgrdyFBrkfhej5FIEGamZkZDdkgQc3MzMy8cCBBrkfh+r70IEFcj8L1mA4gQdejcD0FlSBBcT0KV5euIEG4HoXrbhAhQSlcj0LWnCFBXI/C9fbwIUHhehQuuH4gQQrXo3Ae3xxBUrgeBUjdIEHhehSudGgeQVK4HoW3XiBBmpmZmbxgHUEAAACApkgiQeF6FC4MiCBBPQrXowtRIkHXo3A90rAhQbgehWvT+yFBSOF6FMLzH0EAAACAa3UiQaRwPQrfaCRBcT0K1wd6JkHD9Sjcc+UkQQ==",
          "dtype": "f8"
         },
         "yaxis": "y2"
        },
        {
         "line": {
          "color": "green",
          "dash": "dash"
         },
         "mode": "lines",
         "showlegend": false,
         "type": "scatter",
         "x": [
          "2024-03-11T00:00:00.000000000",
          "2024-03-18T00:00:00.000000000",
          "2024-03-25T00:00:00.000000000",
          "2024-04-01T00:00:00.000000000",
          "2024-04-08T00:00:00.000000000",
          "2024-04-15T00:00:00.000000000",
          "2024-04-22T00:00:00.000000000",
          "2024-04-29T00:00:00.000000000",
          "2024-05-06T00:00:00.000000000",
          "2024-05-13T00:00:00.000000000",
          "2024-05-20T00:00:00.000000000",
          "2024-05-27T00:00:00.000000000",
          "2024-06-03T00:00:00.000000000",
          "2024-06-10T00:00:00.000000000",
          "2024-06-17T00:00:00.000000000",
          "2024-06-24T00:00:00.000000000",
          "2024-07-01T00:00:00.000000000",
          "2024-07-08T00:00:00.000000000",
          "2024-07-15T00:00:00.000000000",
          "2024-07-22T00:00:00.000000000",
          "2024-07-29T00:00:00.000000000",
          "2024-08-05T00:00:00.000000000",
          "2024-08-12T00:00:00.000000000",
          "2024-08-19T00:00:00.000000000",
          "2024-08-26T00:00:00.000000000",
          "2024-09-02T00:00:00.000000000",
          "2024-09-09T00:00:00.000000000",
          "2024-09-16T00:00:00.000000000",
          "2024-09-23T00:00:00.000000000",
          "2024-09-30T00:00:00.000000000",
          "2024-10-07T00:00:00.000000000",
          "2024-10-14T00:00:00.000000000",
          "2024-10-21T00:00:00.000000000",
          "2024-10-28T00:00:00.000000000",
          "2024-11-04T00:00:00.000000000",
          "2024-11-11T00:00:00.000000000",
          "2024-11-18T00:00:00.000000000",
          "2024-11-25T00:00:00.000000000",
          "2024-12-02T00:00:00.000000000",
          "2024-12-09T00:00:00.000000000",
          "2024-12-16T00:00:00.000000000",
          "2024-12-23T00:00:00.000000000",
          "2024-12-30T00:00:00.000000000",
          "2025-01-06T00:00:00.000000000",
          "2025-01-13T00:00:00.000000000",
          "2025-01-20T00:00:00.000000000",
          "2025-01-27T00:00:00.000000000",
          "2025-02-03T00:00:00.000000000",
          "2025-02-10T00:00:00.000000000",
          "2025-02-17T00:00:00.000000000",
          "2025-02-24T00:00:00.000000000",
          "2025-03-03T00:00:00.000000000",
          "2025-03-10T00:00:00.000000000"
         ],
         "xaxis": "x2",
         "y": {
          "bdata": "ANBqh9MVGkEADN+AOk0aQQBMU3qhhBpBAIjHcwi8GkEAxDttb/MaQQAEsGbWKhtBAEAkYD1iG0EAfJhZpJkbQQC8DFML0RtBAPiATHIIHEEANPVF2T8cQQBwaT9AdxxBALDdOKeuHEEA7FEyDuYcQQAoxit1HR1BAGg6JdxUHUEApK4eQ4wdQQDgIhiqwx1BACCXERH7HUEAXAsLeDIeQQCYfwTfaR5BANjz/UWhHkEAFGj3rNgeQQBQ3PATEB9BAJBQ6npHH0EAzMTj4X4fQQAIOd1Ith9BAEit1q/tH0EAwhBoixIgQQDgyuQ+LiBBAACFYfJJIEEAHj/epWUgQQA8+VpZgSBBAFyz1wydIEEAem1UwLggQQCYJ9Fz1CBBALjhTSfwIEEA1pvK2gshQQD0VUeOJyFBABQQxEFDIUEAMspA9V4hQQBQhL2oeiFBAHA+OlyWIUEAjvi2D7IhQQCssjPDzSFBAMxssHbpIUEA6iYtKgUiQQAI4andICJBACabJpE8IkEARlWjRFgiQQBkDyD4cyJBAILJnKuPIkEAooMZX6siQQ==",
          "dtype": "f8"
         },
         "yaxis": "y2"
        },
        {
         "mode": "lines+markers",
         "name": "UberEats",
         "showlegend": true,
         "type": "scatter",
         "x": [
          "2024-03-11T00:00:00.000000000",
          "2024-03-18T00:00:00.000000000",
          "2024-03-25T00:00:00.000000000",
          "2024-04-01T00:00:00.000000000",
          "2024-04-08T00:00:00.000000000",
          "2024-04-15T00:00:00.000000000",
          "2024-04-22T00:00:00.000000000",
          "2024-04-29T00:00:00.000000000",
          "2024-05-06T00:00:00.000000000",
          "2024-05-13T00:00:00.000000000",
          "2024-05-20T00:00:00.000000000",
          "2024-05-27T00:00:00.000000000",
          "2024-06-03T00:00:00.000000000",
          "2024-06-10T00:00:00.000000000",
          "2024-06-17T00:00:00.000000000",
          "2024-06-24T00:00:00.000000000",
          "2024-07-01T00:00:00.000000000",
          "2024-07-08T00:00:00.000000000",
          "2024-07-15T00:00:00.000000000",
          "2024-07-22T00:00:00.000000000",
          "2024-07-29T00:00:00.000000000",
          "2024-08-05T00:00:00.000000000",
          "2024-08-12T00:00:00.000000000",
          "2024-08-19T00:00:00.000000000",
          "2024-08-26T00:00:00.000000000",
          "2024-09-02T00:00:00.000000000",
          "2024-09-09T00:00:00.000000000",
          "2024-09-16T00:00:00.000000000",
          "2024-09-23T00:00:00.000000000",
          "2024-09-30T00:00:00.000000000",
          "2024-10-07T00:00:00.000000000",
          "2024-10-14T00:00:00.000000000",
          "2024-10-21T00:00:00.000000000",
          "2024-10-28T00:00:00.000000000",
          "2024-11-04T00:00:00.000000000",
          "2024-11-11T00:00:00.000000000",
          "2024-11-18T00:00:00.000000000",
          "2024-11-25T00:00:00.000000000",
          "2024-12-02T00:00:00.000000000",
          "2024-12-09T00:00:00.000000000",
          "2024-12-16T00:00:00.000000000",
          "2024-12-23T00:00:00.000000000",
          "2024-12-30T00:00:00.000000000",
          "2025-01-06T00:00:00.000000000",
          "2025-01-13T00:00:00.000000000",
          "2025-01-20T00:00:00.000000000",
          "2025-01-27T00:00:00.000000000",
          "2025-02-03T00:00:00.000000000",
          "2025-02-10T00:00:00.000000000",
          "2025-02-17T00:00:00.000000000",
          "2025-02-24T00:00:00.000000000",
          "2025-03-03T00:00:00.000000000",
          "2025-03-10T00:00:00.000000000"
         ],
         "xaxis": "x2",
         "y": {
          "bdata": "j8L1KJhT/ECuR+F63gUAQcL1KFzruP1AXI/C9XDi+kAK16Nw/V/9QM3MzMzgSPhAuB6F6xnu+UDhehSu/1L7QBSuR+Fy1P9A4XoUrssf+kBSuB6F/7r6QJqZmZl9j/tAPQrXo5A5+kDXo3A9btb9QM3MzMwoIv5ApHA9CtdD/UDC9Shc42MAQfYoXI+O0v9AKVyPwlX3/UAehetRCG/+QFyPwvUOagBBzczMzNJWBkEAAAAA4Fr/QJqZmZnR3gFBAAAAADCPAUFI4XoUyngFQWZmZmb+SQNBpHA9ClWwCEEAAAAALGwIQTMzMzPZugRBuB6F613DAUHD9Shc4R8DQXsUrkeRPQNBhetRuExdA0EAAAAAqMwEQcL1KFyxfANBuB6F6+l+BEGPwvUomgQBQY/C9Sj46fpAMzMzM8UwAkGPwvUoyqoBQbgehetlswJBSOF6FHIu90AUrkfhYhP9QIXrUbgI+ANBFK5H4Z5VBkEAAAAAWHkAQQrXo3DPiQJBuB6F611HAUGkcD0Ko+8FQXsUrkel9QNBzczMzJKrCkGamZmZ86EJQQ==",
          "dtype": "f8"
         },
         "yaxis": "y2"
        },
        {
         "line": {
          "color": "green",
          "dash": "dash"
         },
         "mode": "lines",
         "showlegend": false,
         "type": "scatter",
         "x": [
          "2024-03-11T00:00:00.000000000",
          "2024-03-18T00:00:00.000000000",
          "2024-03-25T00:00:00.000000000",
          "2024-04-01T00:00:00.000000000",
          "2024-04-08T00:00:00.000000000",
          "2024-04-15T00:00:00.000000000",
          "2024-04-22T00:00:00.000000000",
          "2024-04-29T00:00:00.000000000",
          "2024-05-06T00:00:00.000000000",
          "2024-05-13T00:00:00.000000000",
          "2024-05-20T00:00:00.000000000",
          "2024-05-27T00:00:00.000000000",
          "2024-06-03T00:00:00.000000000",
          "2024-06-10T00:00:00.000000000",
          "2024-06-17T00:00:00.000000000",
          "2024-06-24T00:00:00.000000000",
          "2024-07-01T00:00:00.000000000",
          "2024-07-08T00:00:00.000000000",
          "2024-07-15T00:00:00.000000000",
          "2024-07-22T00:00:00.000000000",
          "2024-07-29T00:00:00.000000000",
          "2024-08-05T00:00:00.000000000",
          "2024-08-12T00:00:00.000000000",
          "2024-08-19T00:00:00.000000000",
          "2024-08-26T00:00:00.000000000",
          "2024-09-02T00:00:00.000000000",
          "2024-09-09T00:00:00.000000000",
          "2024-09-16T00:00:00.000000000",
          "2024-09-23T00:00:00.000000000",
          "2024-09-30T00:00:00.000000000",
          "2024-10-07T00:00:00.000000000",
          "2024-10-14T00:00:00.000000000",
          "2024-10-21T00:00:00.000000000",
          "2024-10-28T00:00:00.000000000",
          "2024-11-04T00:00:00.000000000",
          "2024-11-11T00:00:00.000000000",
          "2024-11-18T00:00:00.000000000",
          "2024-11-25T00:00:00.000000000",
          "2024-12-02T00:00:00.000000000",
          "2024-12-09T00:00:00.000000000",
          "2024-12-16T00:00:00.000000000",
          "2024-12-23T00:00:00.000000000",
          "2024-12-30T00:00:00.000000000",
          "2025-01-06T00:00:00.000000000",
          "2025-01-13T00:00:00.000000000",
          "2025-01-20T00:00:00.000000000",
          "2025-01-27T00:00:00.000000000",
          "2025-02-03T00:00:00.000000000",
          "2025-02-10T00:00:00.000000000",
          "2025-02-17T00:00:00.000000000",
          "2025-02-24T00:00:00.000000000",
          "2025-03-03T00:00:00.000000000",
          "2025-03-10T00:00:00.000000000"
         ],
         "xaxis": "x2",
         "y": {
          "bdata": "AJyE2tmS+0AA1KJxCtv7QAAMwQg7I/xAAEDfn2tr/EAAeP02nLP8QACwG87M+/xAAOQ5Zf1D/UAAHFj8LYz9QABUdpNe1P1AAIiUKo8c/kAAwLLBv2T+QAD40FjwrP5AADDv7yD1/kAAZA2HUT3/QACcKx6Chf9AANRJtbLN/0AABDSm8QoAQQAgw/EJLwBBADxSPSJTAEEAWOGIOncAQQBycNRSmwBBAI7/H2u/AEEAqo5rg+MAQQDEHbebBwFBAOCsArQrAUEA/DtOzE8BQQAYy5nkcwFBADJa5fyXAUEATukwFbwBQQBqeHwt4AFBAIQHyEUEAkEAoJYTXigCQQC8JV92TAJBANa0qo5wAkEA8kP2ppQCQQAO00G/uAJBACpijdfcAkEARPHY7wADQQBggCQIJQNBAHwPcCBJA0EAlp67OG0DQQCyLQdRkQNBAM68Umm1A0EA6kuegdkDQQAE2+mZ/QNBACBqNbIhBEEAPPmAykUEQQBWiMziaQRBAHIXGPuNBEEAjqZjE7IEQQCoNa8r1gRBAMTE+kP6BEEA4FNGXB4FQQ==",
          "dtype": "f8"
         },
         "yaxis": "y2"
        }
       ],
       "layout": {
        "annotations": [
         {
          "font": {
           "size": 16
          },
          "showarrow": false,
          "text": "WS — 1PO",
          "x": 0.225,
          "xanchor": "center",
          "xref": "paper",
          "y": 1,
          "yanchor": "bottom",
          "yref": "paper"
         },
         {
          "font": {
           "size": 16
          },
          "showarrow": false,
          "text": "WS — 3PO",
          "x": 0.775,
          "xanchor": "center",
          "xref": "paper",
          "y": 1,
          "yanchor": "bottom",
          "yref": "paper"
         },
         {
          "bgcolor": "rgba(255,255,255,0.7)",
          "font": {
           "color": "black",
           "size": 10
          },
          "showarrow": false,
          "text": "slope=606.95<br>R²=0.50",
          "x": "2024-03-11T00:00:00",
          "xanchor": "left",
          "xref": "x",
          "y": 945522.2595389485,
          "yanchor": "top",
          "yref": "y"
         },
         {
          "bgcolor": "rgba(255,255,255,0.7)",
          "font": {
           "color": "black",
           "size": 10
          },
          "showarrow": false,
          "text": "slope=506.53<br>R²=0.66",
          "x": "2024-03-11T00:00:00",
          "xanchor": "left",
          "xref": "x2",
          "y": 611759.5498324037,
          "yanchor": "top",
          "yref": "y2"
         },
         {
          "bgcolor": "rgba(255,255,255,0.7)",
          "font": {
           "color": "black",
           "size": 10
          },
          "showarrow": false,
          "text": "slope=165.01<br>R²=0.36",
          "x": "2024-03-11T00:00:00",
          "xanchor": "left",
          "xref": "x2",
          "y": 173003.53433966637,
          "yanchor": "top",
          "yref": "y2"
         }
        ],
        "height": 450,
        "legend": {
         "title": {
          "text": "OrderMode"
         }
        },
        "template": {
         "data": {
          "bar": [
           {
            "error_x": {
             "color": "#2a3f5f"
            },
            "error_y": {
             "color": "#2a3f5f"
            },
            "marker": {
             "line": {
              "color": "#E5ECF6",
              "width": 0.5
             },
             "pattern": {
              "fillmode": "overlay",
              "size": 10,
              "solidity": 0.2
             }
            },
            "type": "bar"
           }
          ],
          "barpolar": [
           {
            "marker": {
             "line": {
              "color": "#E5ECF6",
              "width": 0.5
             },
             "pattern": {
              "fillmode": "overlay",
              "size": 10,
              "solidity": 0.2
             }
            },
            "type": "barpolar"
           }
          ],
          "carpet": [
           {
            "aaxis": {
             "endlinecolor": "#2a3f5f",
             "gridcolor": "white",
             "linecolor": "white",
             "minorgridcolor": "white",
             "startlinecolor": "#2a3f5f"
            },
            "baxis": {
             "endlinecolor": "#2a3f5f",
             "gridcolor": "white",
             "linecolor": "white",
             "minorgridcolor": "white",
             "startlinecolor": "#2a3f5f"
            },
            "type": "carpet"
           }
          ],
          "choropleth": [
           {
            "colorbar": {
             "outlinewidth": 0,
             "ticks": ""
            },
            "type": "choropleth"
           }
          ],
          "contour": [
           {
            "colorbar": {
             "outlinewidth": 0,
             "ticks": ""
            },
            "colorscale": [
             [
              0,
              "#0d0887"
             ],
             [
              0.1111111111111111,
              "#46039f"
             ],
             [
              0.2222222222222222,
              "#7201a8"
             ],
             [
              0.3333333333333333,
              "#9c179e"
             ],
             [
              0.4444444444444444,
              "#bd3786"
             ],
             [
              0.5555555555555556,
              "#d8576b"
             ],
             [
              0.6666666666666666,
              "#ed7953"
             ],
             [
              0.7777777777777778,
              "#fb9f3a"
             ],
             [
              0.8888888888888888,
              "#fdca26"
             ],
             [
              1,
              "#f0f921"
             ]
            ],
            "type": "contour"
           }
          ],
          "contourcarpet": [
           {
            "colorbar": {
             "outlinewidth": 0,
             "ticks": ""
            },
            "type": "contourcarpet"
           }
          ],
          "heatmap": [
           {
            "colorbar": {
             "outlinewidth": 0,
             "ticks": ""
            },
            "colorscale": [
             [
              0,
              "#0d0887"
             ],
             [
              0.1111111111111111,
              "#46039f"
             ],
             [
              0.2222222222222222,
              "#7201a8"
             ],
             [
              0.3333333333333333,
              "#9c179e"
             ],
             [
              0.4444444444444444,
              "#bd3786"
             ],
             [
              0.5555555555555556,
              "#d8576b"
             ],
             [
              0.6666666666666666,
              "#ed7953"
             ],
             [
              0.7777777777777778,
              "#fb9f3a"
             ],
             [
              0.8888888888888888,
              "#fdca26"
             ],
             [
              1,
              "#f0f921"
             ]
            ],
            "type": "heatmap"
           }
          ],
          "histogram": [
           {
            "marker": {
             "pattern": {
              "fillmode": "overlay",
              "size": 10,
              "solidity": 0.2
             }
            },
            "type": "histogram"
           }
          ],
          "histogram2d": [
           {
            "colorbar": {
             "outlinewidth": 0,
             "ticks": ""
            },
            "colorscale": [
             [
              0,
              "#0d0887"
             ],
             [
              0.1111111111111111,
              "#46039f"
             ],
             [
              0.2222222222222222,
              "#7201a8"
             ],
             [
              0.3333333333333333,
              "#9c179e"
             ],
             [
              0.4444444444444444,
              "#bd3786"
             ],
             [
              0.5555555555555556,
              "#d8576b"
             ],
             [
              0.6666666666666666,
              "#ed7953"
             ],
             [
              0.7777777777777778,
              "#fb9f3a"
             ],
             [
              0.8888888888888888,
              "#fdca26"
             ],
             [
              1,
              "#f0f921"
             ]
            ],
            "type": "histogram2d"
           }
          ],
          "histogram2dcontour": [
           {
            "colorbar": {
             "outlinewidth": 0,
             "ticks": ""
            },
            "colorscale": [
             [
              0,
              "#0d0887"
             ],
             [
              0.1111111111111111,
              "#46039f"
             ],
             [
              0.2222222222222222,
              "#7201a8"
             ],
             [
              0.3333333333333333,
              "#9c179e"
             ],
             [
              0.4444444444444444,
              "#bd3786"
             ],
             [
              0.5555555555555556,
              "#d8576b"
             ],
             [
              0.6666666666666666,
              "#ed7953"
             ],
             [
              0.7777777777777778,
              "#fb9f3a"
             ],
             [
              0.8888888888888888,
              "#fdca26"
             ],
             [
              1,
              "#f0f921"
             ]
            ],
            "type": "histogram2dcontour"
           }
          ],
          "mesh3d": [
           {
            "colorbar": {
             "outlinewidth": 0,
             "ticks": ""
            },
            "type": "mesh3d"
           }
          ],
          "parcoords": [
           {
            "line": {
             "colorbar": {
              "outlinewidth": 0,
              "ticks": ""
             }
            },
            "type": "parcoords"
           }
          ],
          "pie": [
           {
            "automargin": true,
            "type": "pie"
           }
          ],
          "scatter": [
           {
            "fillpattern": {
             "fillmode": "overlay",
             "size": 10,
             "solidity": 0.2
            },
            "type": "scatter"
           }
          ],
          "scatter3d": [
           {
            "line": {
             "colorbar": {
              "outlinewidth": 0,
              "ticks": ""
             }
            },
            "marker": {
             "colorbar": {
              "outlinewidth": 0,
              "ticks": ""
             }
            },
            "type": "scatter3d"
           }
          ],
          "scattercarpet": [
           {
            "marker": {
             "colorbar": {
              "outlinewidth": 0,
              "ticks": ""
             }
            },
            "type": "scattercarpet"
           }
          ],
          "scattergeo": [
           {
            "marker": {
             "colorbar": {
              "outlinewidth": 0,
              "ticks": ""
             }
            },
            "type": "scattergeo"
           }
          ],
          "scattergl": [
           {
            "marker": {
             "colorbar": {
              "outlinewidth": 0,
              "ticks": ""
             }
            },
            "type": "scattergl"
           }
          ],
          "scattermap": [
           {
            "marker": {
             "colorbar": {
              "outlinewidth": 0,
              "ticks": ""
             }
            },
            "type": "scattermap"
           }
          ],
          "scattermapbox": [
           {
            "marker": {
             "colorbar": {
              "outlinewidth": 0,
              "ticks": ""
             }
            },
            "type": "scattermapbox"
           }
          ],
          "scatterpolar": [
           {
            "marker": {
             "colorbar": {
              "outlinewidth": 0,
              "ticks": ""
             }
            },
            "type": "scatterpolar"
           }
          ],
          "scatterpolargl": [
           {
            "marker": {
             "colorbar": {
              "outlinewidth": 0,
              "ticks": ""
             }
            },
            "type": "scatterpolargl"
           }
          ],
          "scatterternary": [
           {
            "marker": {
             "colorbar": {
              "outlinewidth": 0,
              "ticks": ""
             }
            },
            "type": "scatterternary"
           }
          ],
          "surface": [
           {
            "colorbar": {
             "outlinewidth": 0,
             "ticks": ""
            },
            "colorscale": [
             [
              0,
              "#0d0887"
             ],
             [
              0.1111111111111111,
              "#46039f"
             ],
             [
              0.2222222222222222,
              "#7201a8"
             ],
             [
              0.3333333333333333,
              "#9c179e"
             ],
             [
              0.4444444444444444,
              "#bd3786"
             ],
             [
              0.5555555555555556,
              "#d8576b"
             ],
             [
              0.6666666666666666,
              "#ed7953"
             ],
             [
              0.7777777777777778,
              "#fb9f3a"
             ],
             [
              0.8888888888888888,
              "#fdca26"
             ],
             [
              1,
              "#f0f921"
             ]
            ],
            "type": "surface"
           }
          ],
          "table": [
           {
            "cells": {
             "fill": {
              "color": "#EBF0F8"
             },
             "line": {
              "color": "white"
             }
            },
            "header": {
             "fill": {
              "color": "#C8D4E3"
             },
             "line": {
              "color": "white"
             }
            },
            "type": "table"
           }
          ]
         },
         "layout": {
          "annotationdefaults": {
           "arrowcolor": "#2a3f5f",
           "arrowhead": 0,
           "arrowwidth": 1
          },
          "autotypenumbers": "strict",
          "coloraxis": {
           "colorbar": {
            "outlinewidth": 0,
            "ticks": ""
           }
          },
          "colorscale": {
           "diverging": [
            [
             0,
             "#8e0152"
            ],
            [
             0.1,
             "#c51b7d"
            ],
            [
             0.2,
             "#de77ae"
            ],
            [
             0.3,
             "#f1b6da"
            ],
            [
             0.4,
             "#fde0ef"
            ],
            [
             0.5,
             "#f7f7f7"
            ],
            [
             0.6,
             "#e6f5d0"
            ],
            [
             0.7,
             "#b8e186"
            ],
            [
             0.8,
             "#7fbc41"
            ],
            [
             0.9,
             "#4d9221"
            ],
            [
             1,
             "#276419"
            ]
           ],
           "sequential": [
            [
             0,
             "#0d0887"
            ],
            [
             0.1111111111111111,
             "#46039f"
            ],
            [
             0.2222222222222222,
             "#7201a8"
            ],
            [
             0.3333333333333333,
             "#9c179e"
            ],
            [
             0.4444444444444444,
             "#bd3786"
            ],
            [
             0.5555555555555556,
             "#d8576b"
            ],
            [
             0.6666666666666666,
             "#ed7953"
            ],
            [
             0.7777777777777778,
             "#fb9f3a"
            ],
            [
             0.8888888888888888,
             "#fdca26"
            ],
            [
             1,
             "#f0f921"
            ]
           ],
           "sequentialminus": [
            [
             0,
             "#0d0887"
            ],
            [
             0.1111111111111111,
             "#46039f"
            ],
            [
             0.2222222222222222,
             "#7201a8"
            ],
            [
             0.3333333333333333,
             "#9c179e"
            ],
            [
             0.4444444444444444,
             "#bd3786"
            ],
            [
             0.5555555555555556,
             "#d8576b"
            ],
            [
             0.6666666666666666,
             "#ed7953"
            ],
            [
             0.7777777777777778,
             "#fb9f3a"
            ],
            [
             0.8888888888888888,
             "#fdca26"
            ],
            [
             1,
             "#f0f921"
            ]
           ]
          },
          "colorway": [
           "#636efa",
           "#EF553B",
           "#00cc96",
           "#ab63fa",
           "#FFA15A",
           "#19d3f3",
           "#FF6692",
           "#B6E880",
           "#FF97FF",
           "#FECB52"
          ],
          "font": {
           "color": "#2a3f5f"
          },
          "geo": {
           "bgcolor": "white",
           "lakecolor": "white",
           "landcolor": "#E5ECF6",
           "showlakes": true,
           "showland": true,
           "subunitcolor": "white"
          },
          "hoverlabel": {
           "align": "left"
          },
          "hovermode": "closest",
          "mapbox": {
           "style": "light"
          },
          "paper_bgcolor": "white",
          "plot_bgcolor": "#E5ECF6",
          "polar": {
           "angularaxis": {
            "gridcolor": "white",
            "linecolor": "white",
            "ticks": ""
           },
           "bgcolor": "#E5ECF6",
           "radialaxis": {
            "gridcolor": "white",
            "linecolor": "white",
            "ticks": ""
           }
          },
          "scene": {
           "xaxis": {
            "backgroundcolor": "#E5ECF6",
            "gridcolor": "white",
            "gridwidth": 2,
            "linecolor": "white",
            "showbackground": true,
            "ticks": "",
            "zerolinecolor": "white"
           },
           "yaxis": {
            "backgroundcolor": "#E5ECF6",
            "gridcolor": "white",
            "gridwidth": 2,
            "linecolor": "white",
            "showbackground": true,
            "ticks": "",
            "zerolinecolor": "white"
           },
           "zaxis": {
            "backgroundcolor": "#E5ECF6",
            "gridcolor": "white",
            "gridwidth": 2,
            "linecolor": "white",
            "showbackground": true,
            "ticks": "",
            "zerolinecolor": "white"
           }
          },
          "shapedefaults": {
           "line": {
            "color": "#2a3f5f"
           }
          },
          "ternary": {
           "aaxis": {
            "gridcolor": "white",
            "linecolor": "white",
            "ticks": ""
           },
           "baxis": {
            "gridcolor": "white",
            "linecolor": "white",
            "ticks": ""
           },
           "bgcolor": "#E5ECF6",
           "caxis": {
            "gridcolor": "white",
            "linecolor": "white",
            "ticks": ""
           }
          },
          "title": {
           "x": 0.05
          },
          "xaxis": {
           "automargin": true,
           "gridcolor": "white",
           "linecolor": "white",
           "ticks": "",
           "title": {
            "standoff": 15
           },
           "zerolinecolor": "white",
           "zerolinewidth": 2
          },
          "yaxis": {
           "automargin": true,
           "gridcolor": "white",
           "linecolor": "white",
           "ticks": "",
           "title": {
            "standoff": 15
           },
           "zerolinecolor": "white",
           "zerolinewidth": 2
          }
         }
        },
        "title": {
         "text": "Weekly Revenue with Trend Lines & R²"
        },
        "width": 1200,
        "xaxis": {
         "anchor": "y",
         "domain": [
          0,
          0.45
         ]
        },
        "xaxis2": {
         "anchor": "y2",
         "domain": [
          0.55,
          1
         ]
        },
        "yaxis": {
         "anchor": "x",
         "domain": [
          0,
          1
         ]
        },
        "yaxis2": {
         "anchor": "x2",
         "domain": [
          0,
          1
         ]
        }
       }
      }
     },
     "metadata": {},
     "output_type": "display_data"
    }
   ],
   "source": [
    "import pandas as pd\n",
    "import numpy as np\n",
    "import plotly.graph_objects as go\n",
    "from plotly.subplots import make_subplots\n",
    "\n",
    "\n",
    "weekly = (\n",
    "    df_combined[df_combined['Brand']=='WS']\n",
    "      .groupby(['Brand','channel','OrderMode','WeekStartDate'], as_index=False)\n",
    "      ['revenue'].sum()\n",
    ")\n",
    "\n",
    "brands   = weekly['Brand'].unique().tolist()\n",
    "channels = weekly['channel'].unique().tolist()\n",
    "n_rows, n_cols = len(brands), len(channels)\n",
    "\n",
    "# 2) Create subplot grid\n",
    "fig = make_subplots(\n",
    "    rows=n_rows,\n",
    "    cols=n_cols,\n",
    "    shared_xaxes=False,\n",
    "    shared_yaxes=False,\n",
    "    subplot_titles=[f\"{b} — {c}\" for b in brands for c in channels],\n",
    "     vertical_spacing=0.09\n",
    ")\n",
    "\n",
    "# 3) Plot data, trendlines, legend & annotations\n",
    "shown_modes = set()\n",
    "\n",
    "for i, brand in enumerate(brands, start=1):\n",
    "    for j, channel in enumerate(channels, start=1):\n",
    "        cell = weekly[(weekly['Brand']==brand) & (weekly['channel']==channel)]\n",
    "        if cell.empty:\n",
    "            continue\n",
    "\n",
    "        for mode in cell['OrderMode'].unique():\n",
    "            sub = cell[cell['OrderMode']==mode]\n",
    "            x = sub['WeekStartDate']\n",
    "            y = sub['revenue']\n",
    "\n",
    "            # only show each OrderMode once in the legend\n",
    "            show_leg = mode not in shown_modes\n",
    "            shown_modes.add(mode)\n",
    "\n",
    "            # 3a) Data line\n",
    "            fig.add_trace(\n",
    "                go.Scatter(\n",
    "                    x=x, y=y,\n",
    "                    mode='lines+markers',\n",
    "                    name=mode,\n",
    "                    showlegend=show_leg\n",
    "                ),\n",
    "                row=i, col=j\n",
    "            )\n",
    "\n",
    "            # 3b) Compute trend & R²\n",
    "            x_ord = x.map(pd.Timestamp.toordinal).values\n",
    "            slope, intercept = np.polyfit(x_ord, y, 1)\n",
    "            y_hat = slope * x_ord + intercept\n",
    "            ss_res = np.sum((y - y_hat)**2)\n",
    "            ss_tot = np.sum((y - np.mean(y))**2)\n",
    "            r2 = 1 - ss_res/ss_tot\n",
    "\n",
    "            # 3c) Trend‐line (green dashed)\n",
    "            fig.add_trace(\n",
    "                go.Scatter(\n",
    "                    x=x, y=y_hat,\n",
    "                    mode='lines',\n",
    "                    line=dict(dash='dash', color='green'),\n",
    "                    showlegend=False\n",
    "                ),\n",
    "                row=i, col=j\n",
    "            )\n",
    "\n",
    "            # 3d) Annotate with slope & R²\n",
    "            # Calculate subplot index for xref/yref:\n",
    "            sp_idx = (i-1)*n_cols + j\n",
    "            xref = f\"x{sp_idx}\" if sp_idx>1 else \"x\"\n",
    "            yref = f\"y{sp_idx}\" if sp_idx>1 else \"y\"\n",
    "\n",
    "            fig.add_annotation(\n",
    "                xref=xref, yref=yref,\n",
    "                x=min(x), y=max(y_hat),\n",
    "                text=f\"slope={slope:.2f}<br>R²={r2:.2f}\",\n",
    "                showarrow=False,\n",
    "                font=dict(size=10, color=\"black\"),\n",
    "                bgcolor=\"rgba(255,255,255,0.7)\",\n",
    "                xanchor=\"left\", yanchor=\"top\"\n",
    "            )\n",
    "\n",
    "# 4) Final layout tweaks\n",
    "fig.update_yaxes(matches=None)\n",
    "fig.update_layout(\n",
    "    height=450 * n_rows,\n",
    "    width=600 * n_cols,\n",
    "    title=\"Weekly Revenue with Trend Lines & R²\",\n",
    "    legend_title_text=\"OrderMode\"\n",
    ")\n",
    "fig.write_image(\"2.png\")\n",
    "fig.show()\n"
   ]
  },
  {
   "cell_type": "code",
   "execution_count": 22,
   "metadata": {},
   "outputs": [
    {
     "data": {
      "application/vnd.plotly.v1+json": {
       "config": {
        "plotlyServerURL": "https://plot.ly"
       },
       "data": [
        {
         "link": {
          "customdata": [
           "LC → 1PO<br>Revenue: $34,161,984.04<br>Share: 74.99%",
           "LC → 3PO<br>Revenue: $11,393,709.70<br>Share: 25.01%",
           "1PO → Mobile<br>Revenue: $21,784,643.06<br>Share: 47.82%",
           "1PO → Website<br>Revenue: $12,377,340.98<br>Share: 27.17%",
           "3PO → DoorDash<br>Revenue: $9,169,203.67<br>Share: 20.13%",
           "3PO → Grubhub<br>Revenue: $272,058.67<br>Share: 0.60%",
           "3PO → UberEats<br>Revenue: $1,952,447.36<br>Share: 4.29%"
          ],
          "hovertemplate": "%{customdata}<extra></extra>",
          "source": [
           0,
           0,
           1,
           1,
           2,
           2,
           2
          ],
          "target": [
           1,
           2,
           3,
           4,
           5,
           6,
           7
          ],
          "value": [
           34161984.03999996,
           11393709.699999997,
           21784643.05999997,
           12377340.979999993,
           9169203.669999998,
           272058.67,
           1952447.3599999999
          ]
         },
         "node": {
          "label": [
           "LC",
           "1PO",
           "3PO",
           "Mobile",
           "Website",
           "DoorDash",
           "Grubhub",
           "UberEats"
          ],
          "line": {
           "color": "black",
           "width": 0.5
          },
          "pad": 15,
          "thickness": 20
         },
         "type": "sankey"
        }
       ],
       "layout": {
        "font": {
         "size": 12
        },
        "height": 400,
        "template": {
         "data": {
          "bar": [
           {
            "error_x": {
             "color": "#2a3f5f"
            },
            "error_y": {
             "color": "#2a3f5f"
            },
            "marker": {
             "line": {
              "color": "#E5ECF6",
              "width": 0.5
             },
             "pattern": {
              "fillmode": "overlay",
              "size": 10,
              "solidity": 0.2
             }
            },
            "type": "bar"
           }
          ],
          "barpolar": [
           {
            "marker": {
             "line": {
              "color": "#E5ECF6",
              "width": 0.5
             },
             "pattern": {
              "fillmode": "overlay",
              "size": 10,
              "solidity": 0.2
             }
            },
            "type": "barpolar"
           }
          ],
          "carpet": [
           {
            "aaxis": {
             "endlinecolor": "#2a3f5f",
             "gridcolor": "white",
             "linecolor": "white",
             "minorgridcolor": "white",
             "startlinecolor": "#2a3f5f"
            },
            "baxis": {
             "endlinecolor": "#2a3f5f",
             "gridcolor": "white",
             "linecolor": "white",
             "minorgridcolor": "white",
             "startlinecolor": "#2a3f5f"
            },
            "type": "carpet"
           }
          ],
          "choropleth": [
           {
            "colorbar": {
             "outlinewidth": 0,
             "ticks": ""
            },
            "type": "choropleth"
           }
          ],
          "contour": [
           {
            "colorbar": {
             "outlinewidth": 0,
             "ticks": ""
            },
            "colorscale": [
             [
              0,
              "#0d0887"
             ],
             [
              0.1111111111111111,
              "#46039f"
             ],
             [
              0.2222222222222222,
              "#7201a8"
             ],
             [
              0.3333333333333333,
              "#9c179e"
             ],
             [
              0.4444444444444444,
              "#bd3786"
             ],
             [
              0.5555555555555556,
              "#d8576b"
             ],
             [
              0.6666666666666666,
              "#ed7953"
             ],
             [
              0.7777777777777778,
              "#fb9f3a"
             ],
             [
              0.8888888888888888,
              "#fdca26"
             ],
             [
              1,
              "#f0f921"
             ]
            ],
            "type": "contour"
           }
          ],
          "contourcarpet": [
           {
            "colorbar": {
             "outlinewidth": 0,
             "ticks": ""
            },
            "type": "contourcarpet"
           }
          ],
          "heatmap": [
           {
            "colorbar": {
             "outlinewidth": 0,
             "ticks": ""
            },
            "colorscale": [
             [
              0,
              "#0d0887"
             ],
             [
              0.1111111111111111,
              "#46039f"
             ],
             [
              0.2222222222222222,
              "#7201a8"
             ],
             [
              0.3333333333333333,
              "#9c179e"
             ],
             [
              0.4444444444444444,
              "#bd3786"
             ],
             [
              0.5555555555555556,
              "#d8576b"
             ],
             [
              0.6666666666666666,
              "#ed7953"
             ],
             [
              0.7777777777777778,
              "#fb9f3a"
             ],
             [
              0.8888888888888888,
              "#fdca26"
             ],
             [
              1,
              "#f0f921"
             ]
            ],
            "type": "heatmap"
           }
          ],
          "histogram": [
           {
            "marker": {
             "pattern": {
              "fillmode": "overlay",
              "size": 10,
              "solidity": 0.2
             }
            },
            "type": "histogram"
           }
          ],
          "histogram2d": [
           {
            "colorbar": {
             "outlinewidth": 0,
             "ticks": ""
            },
            "colorscale": [
             [
              0,
              "#0d0887"
             ],
             [
              0.1111111111111111,
              "#46039f"
             ],
             [
              0.2222222222222222,
              "#7201a8"
             ],
             [
              0.3333333333333333,
              "#9c179e"
             ],
             [
              0.4444444444444444,
              "#bd3786"
             ],
             [
              0.5555555555555556,
              "#d8576b"
             ],
             [
              0.6666666666666666,
              "#ed7953"
             ],
             [
              0.7777777777777778,
              "#fb9f3a"
             ],
             [
              0.8888888888888888,
              "#fdca26"
             ],
             [
              1,
              "#f0f921"
             ]
            ],
            "type": "histogram2d"
           }
          ],
          "histogram2dcontour": [
           {
            "colorbar": {
             "outlinewidth": 0,
             "ticks": ""
            },
            "colorscale": [
             [
              0,
              "#0d0887"
             ],
             [
              0.1111111111111111,
              "#46039f"
             ],
             [
              0.2222222222222222,
              "#7201a8"
             ],
             [
              0.3333333333333333,
              "#9c179e"
             ],
             [
              0.4444444444444444,
              "#bd3786"
             ],
             [
              0.5555555555555556,
              "#d8576b"
             ],
             [
              0.6666666666666666,
              "#ed7953"
             ],
             [
              0.7777777777777778,
              "#fb9f3a"
             ],
             [
              0.8888888888888888,
              "#fdca26"
             ],
             [
              1,
              "#f0f921"
             ]
            ],
            "type": "histogram2dcontour"
           }
          ],
          "mesh3d": [
           {
            "colorbar": {
             "outlinewidth": 0,
             "ticks": ""
            },
            "type": "mesh3d"
           }
          ],
          "parcoords": [
           {
            "line": {
             "colorbar": {
              "outlinewidth": 0,
              "ticks": ""
             }
            },
            "type": "parcoords"
           }
          ],
          "pie": [
           {
            "automargin": true,
            "type": "pie"
           }
          ],
          "scatter": [
           {
            "fillpattern": {
             "fillmode": "overlay",
             "size": 10,
             "solidity": 0.2
            },
            "type": "scatter"
           }
          ],
          "scatter3d": [
           {
            "line": {
             "colorbar": {
              "outlinewidth": 0,
              "ticks": ""
             }
            },
            "marker": {
             "colorbar": {
              "outlinewidth": 0,
              "ticks": ""
             }
            },
            "type": "scatter3d"
           }
          ],
          "scattercarpet": [
           {
            "marker": {
             "colorbar": {
              "outlinewidth": 0,
              "ticks": ""
             }
            },
            "type": "scattercarpet"
           }
          ],
          "scattergeo": [
           {
            "marker": {
             "colorbar": {
              "outlinewidth": 0,
              "ticks": ""
             }
            },
            "type": "scattergeo"
           }
          ],
          "scattergl": [
           {
            "marker": {
             "colorbar": {
              "outlinewidth": 0,
              "ticks": ""
             }
            },
            "type": "scattergl"
           }
          ],
          "scattermap": [
           {
            "marker": {
             "colorbar": {
              "outlinewidth": 0,
              "ticks": ""
             }
            },
            "type": "scattermap"
           }
          ],
          "scattermapbox": [
           {
            "marker": {
             "colorbar": {
              "outlinewidth": 0,
              "ticks": ""
             }
            },
            "type": "scattermapbox"
           }
          ],
          "scatterpolar": [
           {
            "marker": {
             "colorbar": {
              "outlinewidth": 0,
              "ticks": ""
             }
            },
            "type": "scatterpolar"
           }
          ],
          "scatterpolargl": [
           {
            "marker": {
             "colorbar": {
              "outlinewidth": 0,
              "ticks": ""
             }
            },
            "type": "scatterpolargl"
           }
          ],
          "scatterternary": [
           {
            "marker": {
             "colorbar": {
              "outlinewidth": 0,
              "ticks": ""
             }
            },
            "type": "scatterternary"
           }
          ],
          "surface": [
           {
            "colorbar": {
             "outlinewidth": 0,
             "ticks": ""
            },
            "colorscale": [
             [
              0,
              "#0d0887"
             ],
             [
              0.1111111111111111,
              "#46039f"
             ],
             [
              0.2222222222222222,
              "#7201a8"
             ],
             [
              0.3333333333333333,
              "#9c179e"
             ],
             [
              0.4444444444444444,
              "#bd3786"
             ],
             [
              0.5555555555555556,
              "#d8576b"
             ],
             [
              0.6666666666666666,
              "#ed7953"
             ],
             [
              0.7777777777777778,
              "#fb9f3a"
             ],
             [
              0.8888888888888888,
              "#fdca26"
             ],
             [
              1,
              "#f0f921"
             ]
            ],
            "type": "surface"
           }
          ],
          "table": [
           {
            "cells": {
             "fill": {
              "color": "#EBF0F8"
             },
             "line": {
              "color": "white"
             }
            },
            "header": {
             "fill": {
              "color": "#C8D4E3"
             },
             "line": {
              "color": "white"
             }
            },
            "type": "table"
           }
          ]
         },
         "layout": {
          "annotationdefaults": {
           "arrowcolor": "#2a3f5f",
           "arrowhead": 0,
           "arrowwidth": 1
          },
          "autotypenumbers": "strict",
          "coloraxis": {
           "colorbar": {
            "outlinewidth": 0,
            "ticks": ""
           }
          },
          "colorscale": {
           "diverging": [
            [
             0,
             "#8e0152"
            ],
            [
             0.1,
             "#c51b7d"
            ],
            [
             0.2,
             "#de77ae"
            ],
            [
             0.3,
             "#f1b6da"
            ],
            [
             0.4,
             "#fde0ef"
            ],
            [
             0.5,
             "#f7f7f7"
            ],
            [
             0.6,
             "#e6f5d0"
            ],
            [
             0.7,
             "#b8e186"
            ],
            [
             0.8,
             "#7fbc41"
            ],
            [
             0.9,
             "#4d9221"
            ],
            [
             1,
             "#276419"
            ]
           ],
           "sequential": [
            [
             0,
             "#0d0887"
            ],
            [
             0.1111111111111111,
             "#46039f"
            ],
            [
             0.2222222222222222,
             "#7201a8"
            ],
            [
             0.3333333333333333,
             "#9c179e"
            ],
            [
             0.4444444444444444,
             "#bd3786"
            ],
            [
             0.5555555555555556,
             "#d8576b"
            ],
            [
             0.6666666666666666,
             "#ed7953"
            ],
            [
             0.7777777777777778,
             "#fb9f3a"
            ],
            [
             0.8888888888888888,
             "#fdca26"
            ],
            [
             1,
             "#f0f921"
            ]
           ],
           "sequentialminus": [
            [
             0,
             "#0d0887"
            ],
            [
             0.1111111111111111,
             "#46039f"
            ],
            [
             0.2222222222222222,
             "#7201a8"
            ],
            [
             0.3333333333333333,
             "#9c179e"
            ],
            [
             0.4444444444444444,
             "#bd3786"
            ],
            [
             0.5555555555555556,
             "#d8576b"
            ],
            [
             0.6666666666666666,
             "#ed7953"
            ],
            [
             0.7777777777777778,
             "#fb9f3a"
            ],
            [
             0.8888888888888888,
             "#fdca26"
            ],
            [
             1,
             "#f0f921"
            ]
           ]
          },
          "colorway": [
           "#636efa",
           "#EF553B",
           "#00cc96",
           "#ab63fa",
           "#FFA15A",
           "#19d3f3",
           "#FF6692",
           "#B6E880",
           "#FF97FF",
           "#FECB52"
          ],
          "font": {
           "color": "#2a3f5f"
          },
          "geo": {
           "bgcolor": "white",
           "lakecolor": "white",
           "landcolor": "#E5ECF6",
           "showlakes": true,
           "showland": true,
           "subunitcolor": "white"
          },
          "hoverlabel": {
           "align": "left"
          },
          "hovermode": "closest",
          "mapbox": {
           "style": "light"
          },
          "paper_bgcolor": "white",
          "plot_bgcolor": "#E5ECF6",
          "polar": {
           "angularaxis": {
            "gridcolor": "white",
            "linecolor": "white",
            "ticks": ""
           },
           "bgcolor": "#E5ECF6",
           "radialaxis": {
            "gridcolor": "white",
            "linecolor": "white",
            "ticks": ""
           }
          },
          "scene": {
           "xaxis": {
            "backgroundcolor": "#E5ECF6",
            "gridcolor": "white",
            "gridwidth": 2,
            "linecolor": "white",
            "showbackground": true,
            "ticks": "",
            "zerolinecolor": "white"
           },
           "yaxis": {
            "backgroundcolor": "#E5ECF6",
            "gridcolor": "white",
            "gridwidth": 2,
            "linecolor": "white",
            "showbackground": true,
            "ticks": "",
            "zerolinecolor": "white"
           },
           "zaxis": {
            "backgroundcolor": "#E5ECF6",
            "gridcolor": "white",
            "gridwidth": 2,
            "linecolor": "white",
            "showbackground": true,
            "ticks": "",
            "zerolinecolor": "white"
           }
          },
          "shapedefaults": {
           "line": {
            "color": "#2a3f5f"
           }
          },
          "ternary": {
           "aaxis": {
            "gridcolor": "white",
            "linecolor": "white",
            "ticks": ""
           },
           "baxis": {
            "gridcolor": "white",
            "linecolor": "white",
            "ticks": ""
           },
           "bgcolor": "#E5ECF6",
           "caxis": {
            "gridcolor": "white",
            "linecolor": "white",
            "ticks": ""
           }
          },
          "title": {
           "x": 0.05
          },
          "xaxis": {
           "automargin": true,
           "gridcolor": "white",
           "linecolor": "white",
           "ticks": "",
           "title": {
            "standoff": 15
           },
           "zerolinecolor": "white",
           "zerolinewidth": 2
          },
          "yaxis": {
           "automargin": true,
           "gridcolor": "white",
           "linecolor": "white",
           "ticks": "",
           "title": {
            "standoff": 15
           },
           "zerolinecolor": "white",
           "zerolinewidth": 2
          }
         }
        },
        "title": {
         "text": "Revenue% Flow for Little Caesars: Brand → Channel → Order Mode"
        },
        "width": 1200
       }
      }
     },
     "metadata": {},
     "output_type": "display_data"
    }
   ],
   "source": [
    "import pandas as pd\n",
    "import plotly.graph_objects as go\n",
    "\n",
    "# 1. Aggregate revenue by Brand → Channel → OrderMode\n",
    "agg = lc.groupby(['Brand', 'channel', 'OrderMode'], as_index=False)['revenue'].sum()\n",
    "\n",
    "# 2. Prepare label lists\n",
    "brands = agg['Brand'].unique().tolist()\n",
    "channels = agg['channel'].unique().tolist()\n",
    "modes = agg['OrderMode'].unique().tolist()\n",
    "\n",
    "labels = brands + channels + modes  # Ensure order is Brand → Channel → Mode\n",
    "\n",
    "# 3. Map labels to indices\n",
    "label_indices = {label: i for i, label in enumerate(labels)}\n",
    "\n",
    "# 4. Create Sankey links\n",
    "source = []\n",
    "target = []\n",
    "value = []\n",
    "custom_labels = []\n",
    "\n",
    "# Calculate total revenue for percentage calculation\n",
    "total_revenue = agg['revenue'].sum()\n",
    "\n",
    "# Brand → Channel links\n",
    "brand_channel_agg = agg.groupby(['Brand', 'channel'], as_index=False)['revenue'].sum()\n",
    "for _, row in brand_channel_agg.iterrows():\n",
    "    percent = (row['revenue'] / total_revenue) * 100\n",
    "    source.append(label_indices[row['Brand']])\n",
    "    target.append(label_indices[row['channel']])\n",
    "    value.append(row['revenue'])\n",
    "    custom_labels.append(\n",
    "        f\"{row['Brand']} → {row['channel']}<br>\"\n",
    "        f\"Revenue: ${row['revenue']:,.2f}<br>\"\n",
    "        f\"Share: {percent:.2f}%\"\n",
    "    )\n",
    "\n",
    "# Channel → OrderMode links\n",
    "for _, row in agg.iterrows():\n",
    "    percent = (row['revenue'] / total_revenue) * 100\n",
    "    source.append(label_indices[row['channel']])\n",
    "    target.append(label_indices[row['OrderMode']])\n",
    "    value.append(row['revenue'])\n",
    "    custom_labels.append(\n",
    "        f\"{row['channel']} → {row['OrderMode']}<br>\"\n",
    "        f\"Revenue: ${row['revenue']:,.2f}<br>\"\n",
    "        f\"Share: {percent:.2f}%\"\n",
    "    )\n",
    "\n",
    "# 5. Plot Sankey diagram\n",
    "fig = go.Figure(go.Sankey(\n",
    "    node=dict(\n",
    "        pad=15,\n",
    "        thickness=20,\n",
    "        line=dict(color=\"black\", width=0.5),\n",
    "        label=labels\n",
    "    ),\n",
    "    link=dict(\n",
    "        source=source,\n",
    "        target=target,\n",
    "        value=value,\n",
    "        customdata=custom_labels,\n",
    "        hovertemplate='%{customdata}<extra></extra>'\n",
    "    )\n",
    "))\n",
    "\n",
    "fig.update_layout(\n",
    "    title_text=\"Revenue% Flow for Little Caesars: Brand → Channel → Order Mode\",\n",
    "    font_size=12,\n",
    "  \n",
    "    width=1200,     # adjust width\n",
    "    height=400      # adjust height\n",
    ")\n",
    "\n",
    "\n",
    "# Optional: Save image\n",
    "fig.write_image(\"3.png\")\n",
    "\n",
    "# Show the plot\n",
    "fig.show()\n"
   ]
  },
  {
   "cell_type": "code",
   "execution_count": 23,
   "metadata": {},
   "outputs": [
    {
     "data": {
      "text/plain": [
       "98"
      ]
     },
     "execution_count": 23,
     "metadata": {},
     "output_type": "execute_result"
    }
   ],
   "source": [
    "47+27+20+4\n"
   ]
  },
  {
   "cell_type": "code",
   "execution_count": 24,
   "metadata": {},
   "outputs": [
    {
     "data": {
      "application/vnd.plotly.v1+json": {
       "config": {
        "plotlyServerURL": "https://plot.ly"
       },
       "data": [
        {
         "link": {
          "customdata": [
           "WS → 1PO<br>Revenue: $45,074,243.97<br>Share: 55.72%",
           "WS → 3PO<br>Revenue: $35,814,424.78<br>Share: 44.28%",
           "1PO → Online<br>Revenue: $45,074,243.97<br>Share: 55.72%",
           "3PO → DoorDash<br>Revenue: $28,081,492.35<br>Share: 34.72%",
           "3PO → UberEats<br>Revenue: $7,732,932.43<br>Share: 9.56%"
          ],
          "hovertemplate": "%{customdata}<extra></extra>",
          "source": [
           0,
           0,
           1,
           2,
           2
          ],
          "target": [
           1,
           2,
           3,
           4,
           5
          ],
          "value": [
           45074243.97,
           35814424.78,
           45074243.97,
           28081492.35,
           7732932.43
          ]
         },
         "node": {
          "label": [
           "WS",
           "1PO",
           "3PO",
           "Online",
           "DoorDash",
           "UberEats"
          ],
          "line": {
           "color": "black",
           "width": 0.5
          },
          "pad": 15,
          "thickness": 20
         },
         "type": "sankey"
        }
       ],
       "layout": {
        "font": {
         "size": 12
        },
        "height": 400,
        "template": {
         "data": {
          "bar": [
           {
            "error_x": {
             "color": "#2a3f5f"
            },
            "error_y": {
             "color": "#2a3f5f"
            },
            "marker": {
             "line": {
              "color": "#E5ECF6",
              "width": 0.5
             },
             "pattern": {
              "fillmode": "overlay",
              "size": 10,
              "solidity": 0.2
             }
            },
            "type": "bar"
           }
          ],
          "barpolar": [
           {
            "marker": {
             "line": {
              "color": "#E5ECF6",
              "width": 0.5
             },
             "pattern": {
              "fillmode": "overlay",
              "size": 10,
              "solidity": 0.2
             }
            },
            "type": "barpolar"
           }
          ],
          "carpet": [
           {
            "aaxis": {
             "endlinecolor": "#2a3f5f",
             "gridcolor": "white",
             "linecolor": "white",
             "minorgridcolor": "white",
             "startlinecolor": "#2a3f5f"
            },
            "baxis": {
             "endlinecolor": "#2a3f5f",
             "gridcolor": "white",
             "linecolor": "white",
             "minorgridcolor": "white",
             "startlinecolor": "#2a3f5f"
            },
            "type": "carpet"
           }
          ],
          "choropleth": [
           {
            "colorbar": {
             "outlinewidth": 0,
             "ticks": ""
            },
            "type": "choropleth"
           }
          ],
          "contour": [
           {
            "colorbar": {
             "outlinewidth": 0,
             "ticks": ""
            },
            "colorscale": [
             [
              0,
              "#0d0887"
             ],
             [
              0.1111111111111111,
              "#46039f"
             ],
             [
              0.2222222222222222,
              "#7201a8"
             ],
             [
              0.3333333333333333,
              "#9c179e"
             ],
             [
              0.4444444444444444,
              "#bd3786"
             ],
             [
              0.5555555555555556,
              "#d8576b"
             ],
             [
              0.6666666666666666,
              "#ed7953"
             ],
             [
              0.7777777777777778,
              "#fb9f3a"
             ],
             [
              0.8888888888888888,
              "#fdca26"
             ],
             [
              1,
              "#f0f921"
             ]
            ],
            "type": "contour"
           }
          ],
          "contourcarpet": [
           {
            "colorbar": {
             "outlinewidth": 0,
             "ticks": ""
            },
            "type": "contourcarpet"
           }
          ],
          "heatmap": [
           {
            "colorbar": {
             "outlinewidth": 0,
             "ticks": ""
            },
            "colorscale": [
             [
              0,
              "#0d0887"
             ],
             [
              0.1111111111111111,
              "#46039f"
             ],
             [
              0.2222222222222222,
              "#7201a8"
             ],
             [
              0.3333333333333333,
              "#9c179e"
             ],
             [
              0.4444444444444444,
              "#bd3786"
             ],
             [
              0.5555555555555556,
              "#d8576b"
             ],
             [
              0.6666666666666666,
              "#ed7953"
             ],
             [
              0.7777777777777778,
              "#fb9f3a"
             ],
             [
              0.8888888888888888,
              "#fdca26"
             ],
             [
              1,
              "#f0f921"
             ]
            ],
            "type": "heatmap"
           }
          ],
          "histogram": [
           {
            "marker": {
             "pattern": {
              "fillmode": "overlay",
              "size": 10,
              "solidity": 0.2
             }
            },
            "type": "histogram"
           }
          ],
          "histogram2d": [
           {
            "colorbar": {
             "outlinewidth": 0,
             "ticks": ""
            },
            "colorscale": [
             [
              0,
              "#0d0887"
             ],
             [
              0.1111111111111111,
              "#46039f"
             ],
             [
              0.2222222222222222,
              "#7201a8"
             ],
             [
              0.3333333333333333,
              "#9c179e"
             ],
             [
              0.4444444444444444,
              "#bd3786"
             ],
             [
              0.5555555555555556,
              "#d8576b"
             ],
             [
              0.6666666666666666,
              "#ed7953"
             ],
             [
              0.7777777777777778,
              "#fb9f3a"
             ],
             [
              0.8888888888888888,
              "#fdca26"
             ],
             [
              1,
              "#f0f921"
             ]
            ],
            "type": "histogram2d"
           }
          ],
          "histogram2dcontour": [
           {
            "colorbar": {
             "outlinewidth": 0,
             "ticks": ""
            },
            "colorscale": [
             [
              0,
              "#0d0887"
             ],
             [
              0.1111111111111111,
              "#46039f"
             ],
             [
              0.2222222222222222,
              "#7201a8"
             ],
             [
              0.3333333333333333,
              "#9c179e"
             ],
             [
              0.4444444444444444,
              "#bd3786"
             ],
             [
              0.5555555555555556,
              "#d8576b"
             ],
             [
              0.6666666666666666,
              "#ed7953"
             ],
             [
              0.7777777777777778,
              "#fb9f3a"
             ],
             [
              0.8888888888888888,
              "#fdca26"
             ],
             [
              1,
              "#f0f921"
             ]
            ],
            "type": "histogram2dcontour"
           }
          ],
          "mesh3d": [
           {
            "colorbar": {
             "outlinewidth": 0,
             "ticks": ""
            },
            "type": "mesh3d"
           }
          ],
          "parcoords": [
           {
            "line": {
             "colorbar": {
              "outlinewidth": 0,
              "ticks": ""
             }
            },
            "type": "parcoords"
           }
          ],
          "pie": [
           {
            "automargin": true,
            "type": "pie"
           }
          ],
          "scatter": [
           {
            "fillpattern": {
             "fillmode": "overlay",
             "size": 10,
             "solidity": 0.2
            },
            "type": "scatter"
           }
          ],
          "scatter3d": [
           {
            "line": {
             "colorbar": {
              "outlinewidth": 0,
              "ticks": ""
             }
            },
            "marker": {
             "colorbar": {
              "outlinewidth": 0,
              "ticks": ""
             }
            },
            "type": "scatter3d"
           }
          ],
          "scattercarpet": [
           {
            "marker": {
             "colorbar": {
              "outlinewidth": 0,
              "ticks": ""
             }
            },
            "type": "scattercarpet"
           }
          ],
          "scattergeo": [
           {
            "marker": {
             "colorbar": {
              "outlinewidth": 0,
              "ticks": ""
             }
            },
            "type": "scattergeo"
           }
          ],
          "scattergl": [
           {
            "marker": {
             "colorbar": {
              "outlinewidth": 0,
              "ticks": ""
             }
            },
            "type": "scattergl"
           }
          ],
          "scattermap": [
           {
            "marker": {
             "colorbar": {
              "outlinewidth": 0,
              "ticks": ""
             }
            },
            "type": "scattermap"
           }
          ],
          "scattermapbox": [
           {
            "marker": {
             "colorbar": {
              "outlinewidth": 0,
              "ticks": ""
             }
            },
            "type": "scattermapbox"
           }
          ],
          "scatterpolar": [
           {
            "marker": {
             "colorbar": {
              "outlinewidth": 0,
              "ticks": ""
             }
            },
            "type": "scatterpolar"
           }
          ],
          "scatterpolargl": [
           {
            "marker": {
             "colorbar": {
              "outlinewidth": 0,
              "ticks": ""
             }
            },
            "type": "scatterpolargl"
           }
          ],
          "scatterternary": [
           {
            "marker": {
             "colorbar": {
              "outlinewidth": 0,
              "ticks": ""
             }
            },
            "type": "scatterternary"
           }
          ],
          "surface": [
           {
            "colorbar": {
             "outlinewidth": 0,
             "ticks": ""
            },
            "colorscale": [
             [
              0,
              "#0d0887"
             ],
             [
              0.1111111111111111,
              "#46039f"
             ],
             [
              0.2222222222222222,
              "#7201a8"
             ],
             [
              0.3333333333333333,
              "#9c179e"
             ],
             [
              0.4444444444444444,
              "#bd3786"
             ],
             [
              0.5555555555555556,
              "#d8576b"
             ],
             [
              0.6666666666666666,
              "#ed7953"
             ],
             [
              0.7777777777777778,
              "#fb9f3a"
             ],
             [
              0.8888888888888888,
              "#fdca26"
             ],
             [
              1,
              "#f0f921"
             ]
            ],
            "type": "surface"
           }
          ],
          "table": [
           {
            "cells": {
             "fill": {
              "color": "#EBF0F8"
             },
             "line": {
              "color": "white"
             }
            },
            "header": {
             "fill": {
              "color": "#C8D4E3"
             },
             "line": {
              "color": "white"
             }
            },
            "type": "table"
           }
          ]
         },
         "layout": {
          "annotationdefaults": {
           "arrowcolor": "#2a3f5f",
           "arrowhead": 0,
           "arrowwidth": 1
          },
          "autotypenumbers": "strict",
          "coloraxis": {
           "colorbar": {
            "outlinewidth": 0,
            "ticks": ""
           }
          },
          "colorscale": {
           "diverging": [
            [
             0,
             "#8e0152"
            ],
            [
             0.1,
             "#c51b7d"
            ],
            [
             0.2,
             "#de77ae"
            ],
            [
             0.3,
             "#f1b6da"
            ],
            [
             0.4,
             "#fde0ef"
            ],
            [
             0.5,
             "#f7f7f7"
            ],
            [
             0.6,
             "#e6f5d0"
            ],
            [
             0.7,
             "#b8e186"
            ],
            [
             0.8,
             "#7fbc41"
            ],
            [
             0.9,
             "#4d9221"
            ],
            [
             1,
             "#276419"
            ]
           ],
           "sequential": [
            [
             0,
             "#0d0887"
            ],
            [
             0.1111111111111111,
             "#46039f"
            ],
            [
             0.2222222222222222,
             "#7201a8"
            ],
            [
             0.3333333333333333,
             "#9c179e"
            ],
            [
             0.4444444444444444,
             "#bd3786"
            ],
            [
             0.5555555555555556,
             "#d8576b"
            ],
            [
             0.6666666666666666,
             "#ed7953"
            ],
            [
             0.7777777777777778,
             "#fb9f3a"
            ],
            [
             0.8888888888888888,
             "#fdca26"
            ],
            [
             1,
             "#f0f921"
            ]
           ],
           "sequentialminus": [
            [
             0,
             "#0d0887"
            ],
            [
             0.1111111111111111,
             "#46039f"
            ],
            [
             0.2222222222222222,
             "#7201a8"
            ],
            [
             0.3333333333333333,
             "#9c179e"
            ],
            [
             0.4444444444444444,
             "#bd3786"
            ],
            [
             0.5555555555555556,
             "#d8576b"
            ],
            [
             0.6666666666666666,
             "#ed7953"
            ],
            [
             0.7777777777777778,
             "#fb9f3a"
            ],
            [
             0.8888888888888888,
             "#fdca26"
            ],
            [
             1,
             "#f0f921"
            ]
           ]
          },
          "colorway": [
           "#636efa",
           "#EF553B",
           "#00cc96",
           "#ab63fa",
           "#FFA15A",
           "#19d3f3",
           "#FF6692",
           "#B6E880",
           "#FF97FF",
           "#FECB52"
          ],
          "font": {
           "color": "#2a3f5f"
          },
          "geo": {
           "bgcolor": "white",
           "lakecolor": "white",
           "landcolor": "#E5ECF6",
           "showlakes": true,
           "showland": true,
           "subunitcolor": "white"
          },
          "hoverlabel": {
           "align": "left"
          },
          "hovermode": "closest",
          "mapbox": {
           "style": "light"
          },
          "paper_bgcolor": "white",
          "plot_bgcolor": "#E5ECF6",
          "polar": {
           "angularaxis": {
            "gridcolor": "white",
            "linecolor": "white",
            "ticks": ""
           },
           "bgcolor": "#E5ECF6",
           "radialaxis": {
            "gridcolor": "white",
            "linecolor": "white",
            "ticks": ""
           }
          },
          "scene": {
           "xaxis": {
            "backgroundcolor": "#E5ECF6",
            "gridcolor": "white",
            "gridwidth": 2,
            "linecolor": "white",
            "showbackground": true,
            "ticks": "",
            "zerolinecolor": "white"
           },
           "yaxis": {
            "backgroundcolor": "#E5ECF6",
            "gridcolor": "white",
            "gridwidth": 2,
            "linecolor": "white",
            "showbackground": true,
            "ticks": "",
            "zerolinecolor": "white"
           },
           "zaxis": {
            "backgroundcolor": "#E5ECF6",
            "gridcolor": "white",
            "gridwidth": 2,
            "linecolor": "white",
            "showbackground": true,
            "ticks": "",
            "zerolinecolor": "white"
           }
          },
          "shapedefaults": {
           "line": {
            "color": "#2a3f5f"
           }
          },
          "ternary": {
           "aaxis": {
            "gridcolor": "white",
            "linecolor": "white",
            "ticks": ""
           },
           "baxis": {
            "gridcolor": "white",
            "linecolor": "white",
            "ticks": ""
           },
           "bgcolor": "#E5ECF6",
           "caxis": {
            "gridcolor": "white",
            "linecolor": "white",
            "ticks": ""
           }
          },
          "title": {
           "x": 0.05
          },
          "xaxis": {
           "automargin": true,
           "gridcolor": "white",
           "linecolor": "white",
           "ticks": "",
           "title": {
            "standoff": 15
           },
           "zerolinecolor": "white",
           "zerolinewidth": 2
          },
          "yaxis": {
           "automargin": true,
           "gridcolor": "white",
           "linecolor": "white",
           "ticks": "",
           "title": {
            "standoff": 15
           },
           "zerolinecolor": "white",
           "zerolinewidth": 2
          }
         }
        },
        "title": {
         "text": "Revenue% Flow for Wingstop: Brand → Channel → Order Mode"
        },
        "width": 1200
       }
      }
     },
     "metadata": {},
     "output_type": "display_data"
    }
   ],
   "source": [
    "import pandas as pd\n",
    "import plotly.graph_objects as go\n",
    "\n",
    "# 1. Aggregate revenue by Brand → Channel → OrderMode\n",
    "agg = ws.groupby(['Brand', 'channel', 'OrderMode'], as_index=False)['revenue'].sum()\n",
    "\n",
    "# 2. Prepare label lists\n",
    "brands = agg['Brand'].unique().tolist()\n",
    "channels = agg['channel'].unique().tolist()\n",
    "modes = agg['OrderMode'].unique().tolist()\n",
    "\n",
    "labels = brands + channels + modes  # Ensure order is Brand → Channel → Mode\n",
    "\n",
    "# 3. Map labels to indices\n",
    "label_indices = {label: i for i, label in enumerate(labels)}\n",
    "\n",
    "# 4. Create Sankey links\n",
    "source = []\n",
    "target = []\n",
    "value = []\n",
    "custom_labels = []\n",
    "\n",
    "# Calculate total revenue for percentage calculation\n",
    "total_revenue = agg['revenue'].sum()\n",
    "\n",
    "# Brand → Channel links\n",
    "brand_channel_agg = agg.groupby(['Brand', 'channel'], as_index=False)['revenue'].sum()\n",
    "for _, row in brand_channel_agg.iterrows():\n",
    "    percent = (row['revenue'] / total_revenue) * 100\n",
    "    source.append(label_indices[row['Brand']])\n",
    "    target.append(label_indices[row['channel']])\n",
    "    value.append(row['revenue'])\n",
    "    custom_labels.append(\n",
    "        f\"{row['Brand']} → {row['channel']}<br>\"\n",
    "        f\"Revenue: ${row['revenue']:,.2f}<br>\"\n",
    "        f\"Share: {percent:.2f}%\"\n",
    "    )\n",
    "\n",
    "# Channel → OrderMode links\n",
    "for _, row in agg.iterrows():\n",
    "    percent = (row['revenue'] / total_revenue) * 100\n",
    "    source.append(label_indices[row['channel']])\n",
    "    target.append(label_indices[row['OrderMode']])\n",
    "    value.append(row['revenue'])\n",
    "    custom_labels.append(\n",
    "        f\"{row['channel']} → {row['OrderMode']}<br>\"\n",
    "        f\"Revenue: ${row['revenue']:,.2f}<br>\"\n",
    "        f\"Share: {percent:.2f}%\"\n",
    "    )\n",
    "\n",
    "# 5. Plot Sankey diagram\n",
    "fig = go.Figure(go.Sankey(\n",
    "    node=dict(\n",
    "        pad=15,\n",
    "        thickness=20,\n",
    "        line=dict(color=\"black\", width=0.5),\n",
    "        label=labels\n",
    "    ),\n",
    "    link=dict(\n",
    "        source=source,\n",
    "        target=target,\n",
    "        value=value,\n",
    "        customdata=custom_labels,\n",
    "        hovertemplate='%{customdata}<extra></extra>'\n",
    "    )\n",
    "))\n",
    "\n",
    "fig.update_layout(\n",
    "    title_text=\"Revenue% Flow for Wingstop: Brand → Channel → Order Mode\",\n",
    "    font_size=12,\n",
    "  \n",
    "    width=1200,     # adjust width\n",
    "    height=400      # adjust height\n",
    ")\n",
    "\n",
    "\n",
    "# Optional: Save image\n",
    "fig.write_image(\"3.png\")\n",
    "\n",
    "# Show the plot\n",
    "fig.show()\n"
   ]
  },
  {
   "cell_type": "code",
   "execution_count": 27,
   "metadata": {},
   "outputs": [
    {
     "data": {
      "text/plain": [
       "Index(['Wing Group', 'Store ID', 'Address', 'City', 'State', 'Postal Code',\n",
       "       'Unnamed: 6'],\n",
       "      dtype='object')"
      ]
     },
     "execution_count": 27,
     "metadata": {},
     "output_type": "execute_result"
    }
   ],
   "source": [
    "ws_location=pd.read_csv('2025 Vibe Wingstop Locations.csv')\n",
    "ws_location.columns\n"
   ]
  },
  {
   "cell_type": "code",
   "execution_count": 28,
   "metadata": {},
   "outputs": [
    {
     "data": {
      "text/plain": [
       "array(['2133', '1819', '2174', '2836', '2884', '2888', '4019', '*0024',\n",
       "       '*0899', '1614', '1859', '2630', '**2765**', '*0081', '*0444',\n",
       "       '1190', '2212', '2252', '*0436', '*0084', '1151', '*0031', '1141',\n",
       "       '2764', '3066', '*0064', '*0448', '*0524', '1260', '1458', '1724',\n",
       "       '1142', '2114', '2440', '2519', '2579', '2691', '1010', '2153',\n",
       "       '2220', '2291', '2851', '2874', '1198', '1382', '2207', '\\n2760',\n",
       "       '*0212', '2572', '1607', '2879', '\\n**4015**', '**3009**', '*0617',\n",
       "       '1367', '2442', '2655', '1038', '1757', '2687', 'TBD', '2189',\n",
       "       '1858', '*0892', '\\n1144', '*0117', '1579', '1733', '2854',\n",
       "       '*0542', '2047', '2580', '2603', '2629', '2961', '*0778', '1766',\n",
       "       '*0838', '1998', '2177', '2303'], dtype=object)"
      ]
     },
     "execution_count": 28,
     "metadata": {},
     "output_type": "execute_result"
    }
   ],
   "source": [
    "ws_location['Store ID'].unique()\n"
   ]
  },
  {
   "cell_type": "code",
   "execution_count": 29,
   "metadata": {},
   "outputs": [
    {
     "data": {
      "text/plain": [
       "array([2133, 1819, 2174, 2836, 2884, 2888, 4019,   24,  899, 1614, 1859,\n",
       "       2630, 2765,   81,  444, 1190, 2212, 2252,  436,   84, 1151,   31,\n",
       "       1141, 2764, 3066,   64,  448,  524, 1260, 1458, 1724, 1142, 2114,\n",
       "       2440, 2519, 2579, 2691, 1010, 2153, 2220, 2291, 2851, 2874, 1198,\n",
       "       1382, 2207, 2760,  212, 2572, 1607, 2879, 4015, 3009,  617, 1367,\n",
       "       2442, 2655, 1038, 1757, 2687,    0, 2189, 1858,  892, 1144,  117,\n",
       "       1579, 1733, 2854,  542, 2047, 2580, 2603, 2629, 2961,  778, 1766,\n",
       "        838, 1998, 2177, 2303])"
      ]
     },
     "execution_count": 29,
     "metadata": {},
     "output_type": "execute_result"
    }
   ],
   "source": [
    "# Step-by-step cleaning:\n",
    "ws_location['cleaned_ids'] = (\n",
    "    ws_location['Store ID']\n",
    "    .str.replace(r'\\D', '', regex=True)      # Remove all non-digit characters\n",
    "    .str.lstrip('0')                         # Strip leading zeros\n",
    "    .replace('', '0')                        # Handle empty strings if any\n",
    "    .astype(int)                           # Convert to float\n",
    ")\n",
    "\n",
    "ws_location['cleaned_ids'].unique()\n"
   ]
  },
  {
   "cell_type": "code",
   "execution_count": 30,
   "metadata": {},
   "outputs": [
    {
     "data": {
      "text/plain": [
       "array([  24,   31,   64,   81,   84,  117,  212,  436,  444,  448,  524,\n",
       "        542,  617,  778,  838,  892,  899, 1010, 1038, 1141, 1142, 1144,\n",
       "       1151, 1190, 1198, 1260, 1367, 1382, 1458, 1579, 1607, 1614, 1724,\n",
       "       1733, 1757, 1766, 1819, 1858, 1859, 1998, 2047, 2114, 2133, 2153,\n",
       "       2174, 2177, 2189, 2207, 2212, 2220, 2252, 2291, 2303, 2440, 2442,\n",
       "       2519, 2572, 2579, 2580, 2603, 2629, 2630, 2655, 2687, 2691, 2760,\n",
       "       2764, 2836, 2851, 2854, 2874, 2879, 2884, 2888, 2961])"
      ]
     },
     "execution_count": 30,
     "metadata": {},
     "output_type": "execute_result"
    }
   ],
   "source": [
    "ws['StoreID'].unique()\n"
   ]
  },
  {
   "cell_type": "code",
   "execution_count": 31,
   "metadata": {},
   "outputs": [
    {
     "data": {
      "text/plain": [
       "Index(['Wing Group', 'Store ID', 'Address', 'City', 'State', 'Postal Code',\n",
       "       'Unnamed: 6', 'cleaned_ids'],\n",
       "      dtype='object')"
      ]
     },
     "execution_count": 31,
     "metadata": {},
     "output_type": "execute_result"
    }
   ],
   "source": [
    "ws_location.columns\n"
   ]
  },
  {
   "cell_type": "code",
   "execution_count": 32,
   "metadata": {},
   "outputs": [
    {
     "name": "stderr",
     "output_type": "stream",
     "text": [
      "/var/folders/lg/b8pw7x296y397cn0g302yt680000gp/T/ipykernel_77849/191059037.py:2: SettingWithCopyWarning:\n",
      "\n",
      "\n",
      "A value is trying to be set on a copy of a slice from a DataFrame.\n",
      "Try using .loc[row_indexer,col_indexer] = value instead\n",
      "\n",
      "See the caveats in the documentation: https://pandas.pydata.org/pandas-docs/stable/user_guide/indexing.html#returning-a-view-versus-a-copy\n",
      "\n",
      "/var/folders/lg/b8pw7x296y397cn0g302yt680000gp/T/ipykernel_77849/191059037.py:3: SettingWithCopyWarning:\n",
      "\n",
      "\n",
      "A value is trying to be set on a copy of a slice from a DataFrame\n",
      "\n",
      "See the caveats in the documentation: https://pandas.pydata.org/pandas-docs/stable/user_guide/indexing.html#returning-a-view-versus-a-copy\n",
      "\n"
     ]
    }
   ],
   "source": [
    "\n",
    "df1=ws_location[['State', 'cleaned_ids', 'City']]\n",
    "df1['StoreID']=df1['cleaned_ids']\n",
    "df1.rename(columns={'State':'ST'},inplace=True)\n"
   ]
  },
  {
   "cell_type": "code",
   "execution_count": 33,
   "metadata": {},
   "outputs": [
    {
     "data": {
      "text/plain": [
       "Index(['StoreID', 'OrderMode', 'WeekStartDate', 'WeeklyNetAmount', 'channel',\n",
       "       'Brand', 'revenue', 'ST', 'cleaned_ids', 'City'],\n",
       "      dtype='object')"
      ]
     },
     "execution_count": 33,
     "metadata": {},
     "output_type": "execute_result"
    }
   ],
   "source": [
    "ws_extended=ws.merge(df1,on='StoreID',how='left')\n",
    "ws_extended.columns\n"
   ]
  },
  {
   "cell_type": "code",
   "execution_count": 37,
   "metadata": {},
   "outputs": [
    {
     "name": "stderr",
     "output_type": "stream",
     "text": [
      "/var/folders/lg/b8pw7x296y397cn0g302yt680000gp/T/ipykernel_77849/3621048963.py:10: SettingWithCopyWarning:\n",
      "\n",
      "\n",
      "A value is trying to be set on a copy of a slice from a DataFrame.\n",
      "Try using .loc[row_indexer,col_indexer] = value instead\n",
      "\n",
      "See the caveats in the documentation: https://pandas.pydata.org/pandas-docs/stable/user_guide/indexing.html#returning-a-view-versus-a-copy\n",
      "\n"
     ]
    }
   ],
   "source": [
    "lc_location=pd.read_excel('VIBE_LC locations.xlsx')\n",
    "# Ensure the column is float (if it isn't already)\n",
    "lc_location['Franchise Store'] = lc_location['Franchise Store'].astype(float)\n",
    "\n",
    "# Split the number into integer and decimal parts\n",
    "lc_location['store_id_formatted'] =lc_location['Franchise Store'] .apply(\n",
    "    lambda x: f\"{int(x):05d}-{int(round((x - int(x)) * 10000)):05d}\"\n",
    ")\n",
    "df=lc_location[['ST','store_id_formatted','City','Zone','Latitude', 'Longitude']]\n",
    "df['StoreID']=df['store_id_formatted']\n",
    "lc_extended=lc.merge(df,on='StoreID',how='left')\n"
   ]
  },
  {
   "cell_type": "code",
   "execution_count": 38,
   "metadata": {},
   "outputs": [],
   "source": [
    "x=pd.concat([ws_extended,lc_extended],axis=0)\n"
   ]
  },
  {
   "cell_type": "code",
   "execution_count": 39,
   "metadata": {},
   "outputs": [
    {
     "data": {
      "text/plain": [
       "array(['WS', 'LC'], dtype=object)"
      ]
     },
     "execution_count": 39,
     "metadata": {},
     "output_type": "execute_result"
    }
   ],
   "source": [
    "x['Brand'].unique()\n"
   ]
  },
  {
   "cell_type": "code",
   "execution_count": 40,
   "metadata": {},
   "outputs": [
    {
     "data": {
      "application/vnd.plotly.v1+json": {
       "config": {
        "plotlyServerURL": "https://plot.ly"
       },
       "data": [
        {
         "hovertemplate": "OrderMode=Mobile<br>channel=1PO<br>Brand=LC<br>State=%{x}<br>Revenue Share (%)=%{y}<br>revenue_share_label=%{text}<extra></extra>",
         "legendgroup": "Mobile",
         "marker": {
          "color": "#636EFA",
          "pattern": {
           "shape": ""
          }
         },
         "name": "Mobile",
         "orientation": "v",
         "showlegend": true,
         "text": [
          "0.6%",
          "11.9%",
          "1.0%",
          "5.6%",
          "6.7%",
          "5.7%",
          "14.8%",
          "15.2%",
          "2.2%"
         ],
         "textposition": "auto",
         "type": "bar",
         "x": [
          "AR",
          "KS",
          "LA",
          "MD",
          "NC",
          "NM",
          "OK",
          "TX",
          "VA"
         ],
         "xaxis": "x2",
         "y": {
          "bdata": "UMiV4O5m5D9X1MQxtbMnQOJo+7KmQPA/IEU2KxJNFkDBcFXOAr0aQIakqlSP9BZAEhgeov6gLUDQUHFNZnYuQOmtEY18wgFA",
          "dtype": "f8"
         },
         "yaxis": "y2"
        },
        {
         "hovertemplate": "OrderMode=Website<br>channel=1PO<br>Brand=LC<br>State=%{x}<br>Revenue Share (%)=%{y}<br>revenue_share_label=%{text}<extra></extra>",
         "legendgroup": "Website",
         "marker": {
          "color": "rgb(68, 170, 153)",
          "pattern": {
           "shape": ""
          }
         },
         "name": "Website",
         "orientation": "v",
         "showlegend": true,
         "text": [
          "0.3%",
          "7.1%",
          "0.7%",
          "3.3%",
          "4.4%",
          "3.1%",
          "7.0%",
          "8.6%",
          "1.6%"
         ],
         "textposition": "auto",
         "type": "bar",
         "x": [
          "AR",
          "KS",
          "LA",
          "MD",
          "NC",
          "NM",
          "OK",
          "TX",
          "VA"
         ],
         "xaxis": "x2",
         "y": {
          "bdata": "DJBStVPq1D/q7VrARnUcQOjEoNw0c+c/M11mQ0dWCkCNkAywKKgRQMT94CKRIwlANdRDadEMHEDU6WwNkTshQAmu0oQaRvk/",
          "dtype": "f8"
         },
         "yaxis": "y2"
        },
        {
         "hovertemplate": "OrderMode=DoorDash<br>channel=3PO<br>Brand=LC<br>State=%{x}<br>Revenue Share (%)=%{y}<br>revenue_share_label=%{text}<extra></extra>",
         "legendgroup": "DoorDash",
         "marker": {
          "color": "#FFA15A",
          "pattern": {
           "shape": ""
          }
         },
         "name": "DoorDash",
         "orientation": "v",
         "showlegend": true,
         "text": [
          "0.6%",
          "11.2%",
          "2.2%",
          "11.9%",
          "10.0%",
          "7.9%",
          "15.3%",
          "16.9%",
          "4.4%"
         ],
         "textposition": "auto",
         "type": "bar",
         "x": [
          "AR",
          "KS",
          "LA",
          "MD",
          "NC",
          "NM",
          "OK",
          "TX",
          "VA"
         ],
         "xaxis": "x",
         "y": {
          "bdata": "rrlLfOuc5D+/dBe3B2wmQOYpJW6jrgFAJ9Lk2grIJ0D6qEi93/0jQFOv51Nftx9ASHLYHYqALkC94osmoekwQHw3D9+kuRFA",
          "dtype": "f8"
         },
         "yaxis": "y"
        },
        {
         "hovertemplate": "OrderMode=UberEats<br>channel=3PO<br>Brand=LC<br>State=%{x}<br>Revenue Share (%)=%{y}<br>revenue_share_label=%{text}<extra></extra>",
         "legendgroup": "UberEats",
         "marker": {
          "color": "#FF6692",
          "pattern": {
           "shape": ""
          }
         },
         "name": "UberEats",
         "orientation": "v",
         "showlegend": true,
         "text": [
          "0.0%",
          "1.8%",
          "0.2%",
          "6.8%",
          "2.4%",
          "0.2%",
          "1.0%",
          "1.8%",
          "2.8%"
         ],
         "textposition": "auto",
         "type": "bar",
         "x": [
          "AR",
          "KS",
          "LA",
          "MD",
          "NC",
          "NM",
          "OK",
          "TX",
          "VA"
         ],
         "xaxis": "x",
         "y": {
          "bdata": "kfwSecYMmT+FTMqfVOz8P1lo+Xx5Ps8/ggjy5BQRG0AerGWhTgsDQOEuFavwQc8/XRveQgq48D+fnB+8Nn39PzAy+JuFPgZA",
          "dtype": "f8"
         },
         "yaxis": "y"
        },
        {
         "hovertemplate": "OrderMode=Grubhub<br>channel=3PO<br>Brand=LC<br>State=%{x}<br>Revenue Share (%)=%{y}<br>revenue_share_label=%{text}<extra></extra>",
         "legendgroup": "Grubhub",
         "marker": {
          "color": "#EF553B",
          "pattern": {
           "shape": ""
          }
         },
         "name": "Grubhub",
         "orientation": "v",
         "showlegend": true,
         "text": [
          "0.4%",
          "0.0%",
          "0.9%",
          "0.3%",
          "0.0%",
          "0.2%",
          "0.1%",
          "0.5%"
         ],
         "textposition": "auto",
         "type": "bar",
         "x": [
          "KS",
          "LA",
          "MD",
          "NC",
          "NM",
          "OK",
          "TX",
          "VA"
         ],
         "xaxis": "x",
         "y": {
          "bdata": "LpCDCjyC1j+0A/BHz9WYPyZDtPAiL+w/KN1+yari0j/N0ObCSVCUP5WKS3h+R8k/hnK/Y0WwwT+y9EW7OsDePw==",
          "dtype": "f8"
         },
         "yaxis": "y"
        }
       ],
       "layout": {
        "annotations": [
         {
          "font": {},
          "showarrow": false,
          "text": "Brand=LC",
          "x": 0.49,
          "xanchor": "center",
          "xref": "paper",
          "y": 1,
          "yanchor": "bottom",
          "yref": "paper"
         },
         {
          "font": {},
          "showarrow": false,
          "text": "channel=3PO",
          "textangle": 90,
          "x": 0.98,
          "xanchor": "left",
          "xref": "paper",
          "y": 0.2425,
          "yanchor": "middle",
          "yref": "paper"
         },
         {
          "font": {},
          "showarrow": false,
          "text": "channel=1PO",
          "textangle": 90,
          "x": 0.98,
          "xanchor": "left",
          "xref": "paper",
          "y": 0.7575000000000001,
          "yanchor": "middle",
          "yref": "paper"
         }
        ],
        "barmode": "relative",
        "height": 800,
        "legend": {
         "title": {
          "text": "OrderMode"
         },
         "tracegroupgap": 0
        },
        "showlegend": true,
        "template": {
         "data": {
          "bar": [
           {
            "error_x": {
             "color": "#2a3f5f"
            },
            "error_y": {
             "color": "#2a3f5f"
            },
            "marker": {
             "line": {
              "color": "#E5ECF6",
              "width": 0.5
             },
             "pattern": {
              "fillmode": "overlay",
              "size": 10,
              "solidity": 0.2
             }
            },
            "type": "bar"
           }
          ],
          "barpolar": [
           {
            "marker": {
             "line": {
              "color": "#E5ECF6",
              "width": 0.5
             },
             "pattern": {
              "fillmode": "overlay",
              "size": 10,
              "solidity": 0.2
             }
            },
            "type": "barpolar"
           }
          ],
          "carpet": [
           {
            "aaxis": {
             "endlinecolor": "#2a3f5f",
             "gridcolor": "white",
             "linecolor": "white",
             "minorgridcolor": "white",
             "startlinecolor": "#2a3f5f"
            },
            "baxis": {
             "endlinecolor": "#2a3f5f",
             "gridcolor": "white",
             "linecolor": "white",
             "minorgridcolor": "white",
             "startlinecolor": "#2a3f5f"
            },
            "type": "carpet"
           }
          ],
          "choropleth": [
           {
            "colorbar": {
             "outlinewidth": 0,
             "ticks": ""
            },
            "type": "choropleth"
           }
          ],
          "contour": [
           {
            "colorbar": {
             "outlinewidth": 0,
             "ticks": ""
            },
            "colorscale": [
             [
              0,
              "#0d0887"
             ],
             [
              0.1111111111111111,
              "#46039f"
             ],
             [
              0.2222222222222222,
              "#7201a8"
             ],
             [
              0.3333333333333333,
              "#9c179e"
             ],
             [
              0.4444444444444444,
              "#bd3786"
             ],
             [
              0.5555555555555556,
              "#d8576b"
             ],
             [
              0.6666666666666666,
              "#ed7953"
             ],
             [
              0.7777777777777778,
              "#fb9f3a"
             ],
             [
              0.8888888888888888,
              "#fdca26"
             ],
             [
              1,
              "#f0f921"
             ]
            ],
            "type": "contour"
           }
          ],
          "contourcarpet": [
           {
            "colorbar": {
             "outlinewidth": 0,
             "ticks": ""
            },
            "type": "contourcarpet"
           }
          ],
          "heatmap": [
           {
            "colorbar": {
             "outlinewidth": 0,
             "ticks": ""
            },
            "colorscale": [
             [
              0,
              "#0d0887"
             ],
             [
              0.1111111111111111,
              "#46039f"
             ],
             [
              0.2222222222222222,
              "#7201a8"
             ],
             [
              0.3333333333333333,
              "#9c179e"
             ],
             [
              0.4444444444444444,
              "#bd3786"
             ],
             [
              0.5555555555555556,
              "#d8576b"
             ],
             [
              0.6666666666666666,
              "#ed7953"
             ],
             [
              0.7777777777777778,
              "#fb9f3a"
             ],
             [
              0.8888888888888888,
              "#fdca26"
             ],
             [
              1,
              "#f0f921"
             ]
            ],
            "type": "heatmap"
           }
          ],
          "histogram": [
           {
            "marker": {
             "pattern": {
              "fillmode": "overlay",
              "size": 10,
              "solidity": 0.2
             }
            },
            "type": "histogram"
           }
          ],
          "histogram2d": [
           {
            "colorbar": {
             "outlinewidth": 0,
             "ticks": ""
            },
            "colorscale": [
             [
              0,
              "#0d0887"
             ],
             [
              0.1111111111111111,
              "#46039f"
             ],
             [
              0.2222222222222222,
              "#7201a8"
             ],
             [
              0.3333333333333333,
              "#9c179e"
             ],
             [
              0.4444444444444444,
              "#bd3786"
             ],
             [
              0.5555555555555556,
              "#d8576b"
             ],
             [
              0.6666666666666666,
              "#ed7953"
             ],
             [
              0.7777777777777778,
              "#fb9f3a"
             ],
             [
              0.8888888888888888,
              "#fdca26"
             ],
             [
              1,
              "#f0f921"
             ]
            ],
            "type": "histogram2d"
           }
          ],
          "histogram2dcontour": [
           {
            "colorbar": {
             "outlinewidth": 0,
             "ticks": ""
            },
            "colorscale": [
             [
              0,
              "#0d0887"
             ],
             [
              0.1111111111111111,
              "#46039f"
             ],
             [
              0.2222222222222222,
              "#7201a8"
             ],
             [
              0.3333333333333333,
              "#9c179e"
             ],
             [
              0.4444444444444444,
              "#bd3786"
             ],
             [
              0.5555555555555556,
              "#d8576b"
             ],
             [
              0.6666666666666666,
              "#ed7953"
             ],
             [
              0.7777777777777778,
              "#fb9f3a"
             ],
             [
              0.8888888888888888,
              "#fdca26"
             ],
             [
              1,
              "#f0f921"
             ]
            ],
            "type": "histogram2dcontour"
           }
          ],
          "mesh3d": [
           {
            "colorbar": {
             "outlinewidth": 0,
             "ticks": ""
            },
            "type": "mesh3d"
           }
          ],
          "parcoords": [
           {
            "line": {
             "colorbar": {
              "outlinewidth": 0,
              "ticks": ""
             }
            },
            "type": "parcoords"
           }
          ],
          "pie": [
           {
            "automargin": true,
            "type": "pie"
           }
          ],
          "scatter": [
           {
            "fillpattern": {
             "fillmode": "overlay",
             "size": 10,
             "solidity": 0.2
            },
            "type": "scatter"
           }
          ],
          "scatter3d": [
           {
            "line": {
             "colorbar": {
              "outlinewidth": 0,
              "ticks": ""
             }
            },
            "marker": {
             "colorbar": {
              "outlinewidth": 0,
              "ticks": ""
             }
            },
            "type": "scatter3d"
           }
          ],
          "scattercarpet": [
           {
            "marker": {
             "colorbar": {
              "outlinewidth": 0,
              "ticks": ""
             }
            },
            "type": "scattercarpet"
           }
          ],
          "scattergeo": [
           {
            "marker": {
             "colorbar": {
              "outlinewidth": 0,
              "ticks": ""
             }
            },
            "type": "scattergeo"
           }
          ],
          "scattergl": [
           {
            "marker": {
             "colorbar": {
              "outlinewidth": 0,
              "ticks": ""
             }
            },
            "type": "scattergl"
           }
          ],
          "scattermap": [
           {
            "marker": {
             "colorbar": {
              "outlinewidth": 0,
              "ticks": ""
             }
            },
            "type": "scattermap"
           }
          ],
          "scattermapbox": [
           {
            "marker": {
             "colorbar": {
              "outlinewidth": 0,
              "ticks": ""
             }
            },
            "type": "scattermapbox"
           }
          ],
          "scatterpolar": [
           {
            "marker": {
             "colorbar": {
              "outlinewidth": 0,
              "ticks": ""
             }
            },
            "type": "scatterpolar"
           }
          ],
          "scatterpolargl": [
           {
            "marker": {
             "colorbar": {
              "outlinewidth": 0,
              "ticks": ""
             }
            },
            "type": "scatterpolargl"
           }
          ],
          "scatterternary": [
           {
            "marker": {
             "colorbar": {
              "outlinewidth": 0,
              "ticks": ""
             }
            },
            "type": "scatterternary"
           }
          ],
          "surface": [
           {
            "colorbar": {
             "outlinewidth": 0,
             "ticks": ""
            },
            "colorscale": [
             [
              0,
              "#0d0887"
             ],
             [
              0.1111111111111111,
              "#46039f"
             ],
             [
              0.2222222222222222,
              "#7201a8"
             ],
             [
              0.3333333333333333,
              "#9c179e"
             ],
             [
              0.4444444444444444,
              "#bd3786"
             ],
             [
              0.5555555555555556,
              "#d8576b"
             ],
             [
              0.6666666666666666,
              "#ed7953"
             ],
             [
              0.7777777777777778,
              "#fb9f3a"
             ],
             [
              0.8888888888888888,
              "#fdca26"
             ],
             [
              1,
              "#f0f921"
             ]
            ],
            "type": "surface"
           }
          ],
          "table": [
           {
            "cells": {
             "fill": {
              "color": "#EBF0F8"
             },
             "line": {
              "color": "white"
             }
            },
            "header": {
             "fill": {
              "color": "#C8D4E3"
             },
             "line": {
              "color": "white"
             }
            },
            "type": "table"
           }
          ]
         },
         "layout": {
          "annotationdefaults": {
           "arrowcolor": "#2a3f5f",
           "arrowhead": 0,
           "arrowwidth": 1
          },
          "autotypenumbers": "strict",
          "coloraxis": {
           "colorbar": {
            "outlinewidth": 0,
            "ticks": ""
           }
          },
          "colorscale": {
           "diverging": [
            [
             0,
             "#8e0152"
            ],
            [
             0.1,
             "#c51b7d"
            ],
            [
             0.2,
             "#de77ae"
            ],
            [
             0.3,
             "#f1b6da"
            ],
            [
             0.4,
             "#fde0ef"
            ],
            [
             0.5,
             "#f7f7f7"
            ],
            [
             0.6,
             "#e6f5d0"
            ],
            [
             0.7,
             "#b8e186"
            ],
            [
             0.8,
             "#7fbc41"
            ],
            [
             0.9,
             "#4d9221"
            ],
            [
             1,
             "#276419"
            ]
           ],
           "sequential": [
            [
             0,
             "#0d0887"
            ],
            [
             0.1111111111111111,
             "#46039f"
            ],
            [
             0.2222222222222222,
             "#7201a8"
            ],
            [
             0.3333333333333333,
             "#9c179e"
            ],
            [
             0.4444444444444444,
             "#bd3786"
            ],
            [
             0.5555555555555556,
             "#d8576b"
            ],
            [
             0.6666666666666666,
             "#ed7953"
            ],
            [
             0.7777777777777778,
             "#fb9f3a"
            ],
            [
             0.8888888888888888,
             "#fdca26"
            ],
            [
             1,
             "#f0f921"
            ]
           ],
           "sequentialminus": [
            [
             0,
             "#0d0887"
            ],
            [
             0.1111111111111111,
             "#46039f"
            ],
            [
             0.2222222222222222,
             "#7201a8"
            ],
            [
             0.3333333333333333,
             "#9c179e"
            ],
            [
             0.4444444444444444,
             "#bd3786"
            ],
            [
             0.5555555555555556,
             "#d8576b"
            ],
            [
             0.6666666666666666,
             "#ed7953"
            ],
            [
             0.7777777777777778,
             "#fb9f3a"
            ],
            [
             0.8888888888888888,
             "#fdca26"
            ],
            [
             1,
             "#f0f921"
            ]
           ]
          },
          "colorway": [
           "#636efa",
           "#EF553B",
           "#00cc96",
           "#ab63fa",
           "#FFA15A",
           "#19d3f3",
           "#FF6692",
           "#B6E880",
           "#FF97FF",
           "#FECB52"
          ],
          "font": {
           "color": "#2a3f5f"
          },
          "geo": {
           "bgcolor": "white",
           "lakecolor": "white",
           "landcolor": "#E5ECF6",
           "showlakes": true,
           "showland": true,
           "subunitcolor": "white"
          },
          "hoverlabel": {
           "align": "left"
          },
          "hovermode": "closest",
          "mapbox": {
           "style": "light"
          },
          "paper_bgcolor": "white",
          "plot_bgcolor": "#E5ECF6",
          "polar": {
           "angularaxis": {
            "gridcolor": "white",
            "linecolor": "white",
            "ticks": ""
           },
           "bgcolor": "#E5ECF6",
           "radialaxis": {
            "gridcolor": "white",
            "linecolor": "white",
            "ticks": ""
           }
          },
          "scene": {
           "xaxis": {
            "backgroundcolor": "#E5ECF6",
            "gridcolor": "white",
            "gridwidth": 2,
            "linecolor": "white",
            "showbackground": true,
            "ticks": "",
            "zerolinecolor": "white"
           },
           "yaxis": {
            "backgroundcolor": "#E5ECF6",
            "gridcolor": "white",
            "gridwidth": 2,
            "linecolor": "white",
            "showbackground": true,
            "ticks": "",
            "zerolinecolor": "white"
           },
           "zaxis": {
            "backgroundcolor": "#E5ECF6",
            "gridcolor": "white",
            "gridwidth": 2,
            "linecolor": "white",
            "showbackground": true,
            "ticks": "",
            "zerolinecolor": "white"
           }
          },
          "shapedefaults": {
           "line": {
            "color": "#2a3f5f"
           }
          },
          "ternary": {
           "aaxis": {
            "gridcolor": "white",
            "linecolor": "white",
            "ticks": ""
           },
           "baxis": {
            "gridcolor": "white",
            "linecolor": "white",
            "ticks": ""
           },
           "bgcolor": "#E5ECF6",
           "caxis": {
            "gridcolor": "white",
            "linecolor": "white",
            "ticks": ""
           }
          },
          "title": {
           "x": 0.05
          },
          "xaxis": {
           "automargin": true,
           "gridcolor": "white",
           "linecolor": "white",
           "ticks": "",
           "title": {
            "standoff": 15
           },
           "zerolinecolor": "white",
           "zerolinewidth": 2
          },
          "yaxis": {
           "automargin": true,
           "gridcolor": "white",
           "linecolor": "white",
           "ticks": "",
           "title": {
            "standoff": 15
           },
           "zerolinecolor": "white",
           "zerolinewidth": 2
          }
         }
        },
        "title": {
         "text": "State Revenue Share by Order Mode (Faceted by Channel and Brand)"
        },
        "width": 1000,
        "xaxis": {
         "anchor": "y",
         "domain": [
          0,
          0.98
         ],
         "title": {
          "text": "State"
         }
        },
        "xaxis2": {
         "anchor": "y2",
         "domain": [
          0,
          0.98
         ],
         "matches": "x",
         "showticklabels": false
        },
        "yaxis": {
         "anchor": "x",
         "domain": [
          0,
          0.485
         ],
         "title": {
          "text": "Revenue Share (%)"
         }
        },
        "yaxis2": {
         "anchor": "x2",
         "domain": [
          0.515,
          1
         ],
         "title": {
          "text": "Revenue Share (%)"
         }
        }
       }
      }
     },
     "metadata": {},
     "output_type": "display_data"
    }
   ],
   "source": [
    "import pandas as pd\n",
    "import plotly.express as px\n",
    "\n",
    "# Assuming aux is your DataFrame already preloaded and cleaned\n",
    "\n",
    "# Grouping the data\n",
    "aux = x[x['Brand']=='LC'].groupby(['Brand', 'ST', 'channel', 'OrderMode'], as_index=False)['revenue'].sum()\n",
    "\n",
    "# Calculating revenue share within each channel\n",
    "total_rev_per_channel = aux.groupby('channel')['revenue'].transform('sum')\n",
    "aux['revenue_share'] = aux['revenue'] / total_rev_per_channel * 100\n",
    "aux['revenue_share_label'] = aux['revenue_share'].map(lambda x: f\"{x:.1f}%\")\n",
    "\n",
    "# Optional: Custom colors\n",
    "OrderMode_c = {\n",
    "    'Grubhub': '#EF553B',\n",
    "    'Mobile': '#636EFA',\n",
    "    'UberEats': '#FF6692',\n",
    "    'DoorDash': '#FFA15A',\n",
    "    'Website': 'rgb(68, 170, 153)',\n",
    "    'Online': 'rgb(144, 103, 167)'\n",
    "}\n",
    "\n",
    "# Creating the plot\n",
    "fig = px.bar(\n",
    "    aux,\n",
    "    x=\"ST\",\n",
    "    y=\"revenue_share\",\n",
    "    color=\"OrderMode\",\n",
    "    text='revenue_share_label',\n",
    "    title=\"State Revenue Share by Order Mode (Faceted by Channel and Brand)\",\n",
    "    labels={\"ST\": \"State\", \"revenue_share\": \"Revenue Share (%)\"},\n",
    "   \n",
    "    facet_col=\"Brand\",\n",
    "     facet_row=\"channel\",\n",
    "    color_discrete_map=OrderMode_c,\n",
    "    height=800,\n",
    "    width=1000\n",
    ")\n",
    "\n",
    "fig.update_layout(\n",
    "    yaxis_title=\"Revenue Share (%)\",\n",
    "    showlegend=True\n",
    ")\n",
    "\n",
    "fig.update_yaxes(matches=None)\n",
    "\n",
    "fig.show()\n"
   ]
  },
  {
   "cell_type": "code",
   "execution_count": 41,
   "metadata": {},
   "outputs": [
    {
     "data": {
      "text/html": [
       "<div>\n",
       "<style scoped>\n",
       "    .dataframe tbody tr th:only-of-type {\n",
       "        vertical-align: middle;\n",
       "    }\n",
       "\n",
       "    .dataframe tbody tr th {\n",
       "        vertical-align: top;\n",
       "    }\n",
       "\n",
       "    .dataframe thead th {\n",
       "        text-align: right;\n",
       "    }\n",
       "</style>\n",
       "<table border=\"1\" class=\"dataframe\">\n",
       "  <thead>\n",
       "    <tr style=\"text-align: right;\">\n",
       "      <th></th>\n",
       "      <th>Brand</th>\n",
       "      <th>ST</th>\n",
       "      <th>channel</th>\n",
       "      <th>OrderMode</th>\n",
       "      <th>revenue</th>\n",
       "      <th>revenue_share</th>\n",
       "      <th>revenue_share_label</th>\n",
       "    </tr>\n",
       "  </thead>\n",
       "  <tbody>\n",
       "  </tbody>\n",
       "</table>\n",
       "</div>"
      ],
      "text/plain": [
       "Empty DataFrame\n",
       "Columns: [Brand, ST, channel, OrderMode, revenue, revenue_share, revenue_share_label]\n",
       "Index: []"
      ]
     },
     "execution_count": 41,
     "metadata": {},
     "output_type": "execute_result"
    }
   ],
   "source": [
    "aux[aux['ST']=='SD']\n"
   ]
  },
  {
   "cell_type": "code",
   "execution_count": 42,
   "metadata": {},
   "outputs": [
    {
     "data": {
      "application/vnd.plotly.v1+json": {
       "config": {
        "plotlyServerURL": "https://plot.ly"
       },
       "data": [
        {
         "hovertemplate": "OrderMode=Online<br>channel=1PO<br>Brand=WS<br>State=%{x}<br>Revenue Share (%)=%{y}<br>revenue_share_label=%{text}<extra></extra>",
         "legendgroup": "Online",
         "marker": {
          "color": "rgb(144, 103, 167)",
          "pattern": {
           "shape": ""
          }
         },
         "name": "Online",
         "orientation": "v",
         "showlegend": true,
         "text": [
          "4.7%",
          "9.5%",
          "2.7%",
          "1.5%",
          "12.7%",
          "13.8%",
          "27.2%",
          "9.7%",
          "0.1%",
          "14.0%",
          "4.1%"
         ],
         "textposition": "auto",
         "type": "bar",
         "x": [
          "AR",
          "KS",
          "MO",
          "NC",
          "NE",
          "NM",
          "OK",
          "SC",
          "SD",
          "TN",
          "TX."
         ],
         "xaxis": "x2",
         "y": {
          "bdata": "JJyP6CS/EkBdqo+r4+0iQD2vrZqFMwVA/Gpw0ymh+D+oEu8ET3EpQGWks7mhhitA4mTXC949O0B6uN4qV2wjQDVCnFiZw68/OHRMOTgULEBDiXPWBnsQQA==",
          "dtype": "f8"
         },
         "yaxis": "y2"
        },
        {
         "hovertemplate": "OrderMode=DoorDash<br>channel=3PO<br>Brand=WS<br>State=%{x}<br>Revenue Share (%)=%{y}<br>revenue_share_label=%{text}<extra></extra>",
         "legendgroup": "DoorDash",
         "marker": {
          "color": "#FFA15A",
          "pattern": {
           "shape": ""
          }
         },
         "name": "DoorDash",
         "orientation": "v",
         "showlegend": true,
         "text": [
          "3.8%",
          "7.4%",
          "2.5%",
          "1.3%",
          "11.5%",
          "6.5%",
          "21.3%",
          "10.0%",
          "0.0%",
          "11.2%",
          "2.8%"
         ],
         "textposition": "auto",
         "type": "bar",
         "x": [
          "AR",
          "KS",
          "MO",
          "NC",
          "NE",
          "NM",
          "OK",
          "SC",
          "SD",
          "TN",
          "TX."
         ],
         "xaxis": "x",
         "y": {
          "bdata": "rhiSlV5QDkASxxrHQXAdQFZoug38MwRAfULoJK6B9T++/wXzXv0mQNzwSdMnJxpATpLmn6hRNUCSfK73jfkjQDMRFOSQ9YQ/5ZWbLCVkJkB2+tOlusEGQA==",
          "dtype": "f8"
         },
         "yaxis": "y"
        },
        {
         "hovertemplate": "OrderMode=UberEats<br>channel=3PO<br>Brand=WS<br>State=%{x}<br>Revenue Share (%)=%{y}<br>revenue_share_label=%{text}<extra></extra>",
         "legendgroup": "UberEats",
         "marker": {
          "color": "#FF6692",
          "pattern": {
           "shape": ""
          }
         },
         "name": "UberEats",
         "orientation": "v",
         "showlegend": true,
         "text": [
          "1.3%",
          "1.7%",
          "0.3%",
          "0.6%",
          "2.0%",
          "0.5%",
          "6.9%",
          "4.1%",
          "0.0%",
          "3.4%",
          "1.0%"
         ],
         "textposition": "auto",
         "type": "bar",
         "x": [
          "AR",
          "KS",
          "MO",
          "NC",
          "NE",
          "NM",
          "OK",
          "SC",
          "SD",
          "TN",
          "TX."
         ],
         "xaxis": "x",
         "y": {
          "bdata": "IxLdd5js9D+E551goTD7P5rt5I6GrdE/g3locbWa4T+7WlmF+ar/P3Ryn6rh1N8/5mqL8y9qG0AuGPR3b08QQBAqpGCJ2JU/1ocNkU/hCkCwZBnUpwHvPw==",
          "dtype": "f8"
         },
         "yaxis": "y"
        }
       ],
       "layout": {
        "annotations": [
         {
          "font": {},
          "showarrow": false,
          "text": "Brand=WS",
          "x": 0.49,
          "xanchor": "center",
          "xref": "paper",
          "y": 1,
          "yanchor": "bottom",
          "yref": "paper"
         },
         {
          "font": {},
          "showarrow": false,
          "text": "channel=3PO",
          "textangle": 90,
          "x": 0.98,
          "xanchor": "left",
          "xref": "paper",
          "y": 0.2425,
          "yanchor": "middle",
          "yref": "paper"
         },
         {
          "font": {},
          "showarrow": false,
          "text": "channel=1PO",
          "textangle": 90,
          "x": 0.98,
          "xanchor": "left",
          "xref": "paper",
          "y": 0.7575000000000001,
          "yanchor": "middle",
          "yref": "paper"
         }
        ],
        "barmode": "relative",
        "height": 800,
        "legend": {
         "title": {
          "text": "OrderMode"
         },
         "tracegroupgap": 0
        },
        "showlegend": true,
        "template": {
         "data": {
          "bar": [
           {
            "error_x": {
             "color": "#2a3f5f"
            },
            "error_y": {
             "color": "#2a3f5f"
            },
            "marker": {
             "line": {
              "color": "#E5ECF6",
              "width": 0.5
             },
             "pattern": {
              "fillmode": "overlay",
              "size": 10,
              "solidity": 0.2
             }
            },
            "type": "bar"
           }
          ],
          "barpolar": [
           {
            "marker": {
             "line": {
              "color": "#E5ECF6",
              "width": 0.5
             },
             "pattern": {
              "fillmode": "overlay",
              "size": 10,
              "solidity": 0.2
             }
            },
            "type": "barpolar"
           }
          ],
          "carpet": [
           {
            "aaxis": {
             "endlinecolor": "#2a3f5f",
             "gridcolor": "white",
             "linecolor": "white",
             "minorgridcolor": "white",
             "startlinecolor": "#2a3f5f"
            },
            "baxis": {
             "endlinecolor": "#2a3f5f",
             "gridcolor": "white",
             "linecolor": "white",
             "minorgridcolor": "white",
             "startlinecolor": "#2a3f5f"
            },
            "type": "carpet"
           }
          ],
          "choropleth": [
           {
            "colorbar": {
             "outlinewidth": 0,
             "ticks": ""
            },
            "type": "choropleth"
           }
          ],
          "contour": [
           {
            "colorbar": {
             "outlinewidth": 0,
             "ticks": ""
            },
            "colorscale": [
             [
              0,
              "#0d0887"
             ],
             [
              0.1111111111111111,
              "#46039f"
             ],
             [
              0.2222222222222222,
              "#7201a8"
             ],
             [
              0.3333333333333333,
              "#9c179e"
             ],
             [
              0.4444444444444444,
              "#bd3786"
             ],
             [
              0.5555555555555556,
              "#d8576b"
             ],
             [
              0.6666666666666666,
              "#ed7953"
             ],
             [
              0.7777777777777778,
              "#fb9f3a"
             ],
             [
              0.8888888888888888,
              "#fdca26"
             ],
             [
              1,
              "#f0f921"
             ]
            ],
            "type": "contour"
           }
          ],
          "contourcarpet": [
           {
            "colorbar": {
             "outlinewidth": 0,
             "ticks": ""
            },
            "type": "contourcarpet"
           }
          ],
          "heatmap": [
           {
            "colorbar": {
             "outlinewidth": 0,
             "ticks": ""
            },
            "colorscale": [
             [
              0,
              "#0d0887"
             ],
             [
              0.1111111111111111,
              "#46039f"
             ],
             [
              0.2222222222222222,
              "#7201a8"
             ],
             [
              0.3333333333333333,
              "#9c179e"
             ],
             [
              0.4444444444444444,
              "#bd3786"
             ],
             [
              0.5555555555555556,
              "#d8576b"
             ],
             [
              0.6666666666666666,
              "#ed7953"
             ],
             [
              0.7777777777777778,
              "#fb9f3a"
             ],
             [
              0.8888888888888888,
              "#fdca26"
             ],
             [
              1,
              "#f0f921"
             ]
            ],
            "type": "heatmap"
           }
          ],
          "histogram": [
           {
            "marker": {
             "pattern": {
              "fillmode": "overlay",
              "size": 10,
              "solidity": 0.2
             }
            },
            "type": "histogram"
           }
          ],
          "histogram2d": [
           {
            "colorbar": {
             "outlinewidth": 0,
             "ticks": ""
            },
            "colorscale": [
             [
              0,
              "#0d0887"
             ],
             [
              0.1111111111111111,
              "#46039f"
             ],
             [
              0.2222222222222222,
              "#7201a8"
             ],
             [
              0.3333333333333333,
              "#9c179e"
             ],
             [
              0.4444444444444444,
              "#bd3786"
             ],
             [
              0.5555555555555556,
              "#d8576b"
             ],
             [
              0.6666666666666666,
              "#ed7953"
             ],
             [
              0.7777777777777778,
              "#fb9f3a"
             ],
             [
              0.8888888888888888,
              "#fdca26"
             ],
             [
              1,
              "#f0f921"
             ]
            ],
            "type": "histogram2d"
           }
          ],
          "histogram2dcontour": [
           {
            "colorbar": {
             "outlinewidth": 0,
             "ticks": ""
            },
            "colorscale": [
             [
              0,
              "#0d0887"
             ],
             [
              0.1111111111111111,
              "#46039f"
             ],
             [
              0.2222222222222222,
              "#7201a8"
             ],
             [
              0.3333333333333333,
              "#9c179e"
             ],
             [
              0.4444444444444444,
              "#bd3786"
             ],
             [
              0.5555555555555556,
              "#d8576b"
             ],
             [
              0.6666666666666666,
              "#ed7953"
             ],
             [
              0.7777777777777778,
              "#fb9f3a"
             ],
             [
              0.8888888888888888,
              "#fdca26"
             ],
             [
              1,
              "#f0f921"
             ]
            ],
            "type": "histogram2dcontour"
           }
          ],
          "mesh3d": [
           {
            "colorbar": {
             "outlinewidth": 0,
             "ticks": ""
            },
            "type": "mesh3d"
           }
          ],
          "parcoords": [
           {
            "line": {
             "colorbar": {
              "outlinewidth": 0,
              "ticks": ""
             }
            },
            "type": "parcoords"
           }
          ],
          "pie": [
           {
            "automargin": true,
            "type": "pie"
           }
          ],
          "scatter": [
           {
            "fillpattern": {
             "fillmode": "overlay",
             "size": 10,
             "solidity": 0.2
            },
            "type": "scatter"
           }
          ],
          "scatter3d": [
           {
            "line": {
             "colorbar": {
              "outlinewidth": 0,
              "ticks": ""
             }
            },
            "marker": {
             "colorbar": {
              "outlinewidth": 0,
              "ticks": ""
             }
            },
            "type": "scatter3d"
           }
          ],
          "scattercarpet": [
           {
            "marker": {
             "colorbar": {
              "outlinewidth": 0,
              "ticks": ""
             }
            },
            "type": "scattercarpet"
           }
          ],
          "scattergeo": [
           {
            "marker": {
             "colorbar": {
              "outlinewidth": 0,
              "ticks": ""
             }
            },
            "type": "scattergeo"
           }
          ],
          "scattergl": [
           {
            "marker": {
             "colorbar": {
              "outlinewidth": 0,
              "ticks": ""
             }
            },
            "type": "scattergl"
           }
          ],
          "scattermap": [
           {
            "marker": {
             "colorbar": {
              "outlinewidth": 0,
              "ticks": ""
             }
            },
            "type": "scattermap"
           }
          ],
          "scattermapbox": [
           {
            "marker": {
             "colorbar": {
              "outlinewidth": 0,
              "ticks": ""
             }
            },
            "type": "scattermapbox"
           }
          ],
          "scatterpolar": [
           {
            "marker": {
             "colorbar": {
              "outlinewidth": 0,
              "ticks": ""
             }
            },
            "type": "scatterpolar"
           }
          ],
          "scatterpolargl": [
           {
            "marker": {
             "colorbar": {
              "outlinewidth": 0,
              "ticks": ""
             }
            },
            "type": "scatterpolargl"
           }
          ],
          "scatterternary": [
           {
            "marker": {
             "colorbar": {
              "outlinewidth": 0,
              "ticks": ""
             }
            },
            "type": "scatterternary"
           }
          ],
          "surface": [
           {
            "colorbar": {
             "outlinewidth": 0,
             "ticks": ""
            },
            "colorscale": [
             [
              0,
              "#0d0887"
             ],
             [
              0.1111111111111111,
              "#46039f"
             ],
             [
              0.2222222222222222,
              "#7201a8"
             ],
             [
              0.3333333333333333,
              "#9c179e"
             ],
             [
              0.4444444444444444,
              "#bd3786"
             ],
             [
              0.5555555555555556,
              "#d8576b"
             ],
             [
              0.6666666666666666,
              "#ed7953"
             ],
             [
              0.7777777777777778,
              "#fb9f3a"
             ],
             [
              0.8888888888888888,
              "#fdca26"
             ],
             [
              1,
              "#f0f921"
             ]
            ],
            "type": "surface"
           }
          ],
          "table": [
           {
            "cells": {
             "fill": {
              "color": "#EBF0F8"
             },
             "line": {
              "color": "white"
             }
            },
            "header": {
             "fill": {
              "color": "#C8D4E3"
             },
             "line": {
              "color": "white"
             }
            },
            "type": "table"
           }
          ]
         },
         "layout": {
          "annotationdefaults": {
           "arrowcolor": "#2a3f5f",
           "arrowhead": 0,
           "arrowwidth": 1
          },
          "autotypenumbers": "strict",
          "coloraxis": {
           "colorbar": {
            "outlinewidth": 0,
            "ticks": ""
           }
          },
          "colorscale": {
           "diverging": [
            [
             0,
             "#8e0152"
            ],
            [
             0.1,
             "#c51b7d"
            ],
            [
             0.2,
             "#de77ae"
            ],
            [
             0.3,
             "#f1b6da"
            ],
            [
             0.4,
             "#fde0ef"
            ],
            [
             0.5,
             "#f7f7f7"
            ],
            [
             0.6,
             "#e6f5d0"
            ],
            [
             0.7,
             "#b8e186"
            ],
            [
             0.8,
             "#7fbc41"
            ],
            [
             0.9,
             "#4d9221"
            ],
            [
             1,
             "#276419"
            ]
           ],
           "sequential": [
            [
             0,
             "#0d0887"
            ],
            [
             0.1111111111111111,
             "#46039f"
            ],
            [
             0.2222222222222222,
             "#7201a8"
            ],
            [
             0.3333333333333333,
             "#9c179e"
            ],
            [
             0.4444444444444444,
             "#bd3786"
            ],
            [
             0.5555555555555556,
             "#d8576b"
            ],
            [
             0.6666666666666666,
             "#ed7953"
            ],
            [
             0.7777777777777778,
             "#fb9f3a"
            ],
            [
             0.8888888888888888,
             "#fdca26"
            ],
            [
             1,
             "#f0f921"
            ]
           ],
           "sequentialminus": [
            [
             0,
             "#0d0887"
            ],
            [
             0.1111111111111111,
             "#46039f"
            ],
            [
             0.2222222222222222,
             "#7201a8"
            ],
            [
             0.3333333333333333,
             "#9c179e"
            ],
            [
             0.4444444444444444,
             "#bd3786"
            ],
            [
             0.5555555555555556,
             "#d8576b"
            ],
            [
             0.6666666666666666,
             "#ed7953"
            ],
            [
             0.7777777777777778,
             "#fb9f3a"
            ],
            [
             0.8888888888888888,
             "#fdca26"
            ],
            [
             1,
             "#f0f921"
            ]
           ]
          },
          "colorway": [
           "#636efa",
           "#EF553B",
           "#00cc96",
           "#ab63fa",
           "#FFA15A",
           "#19d3f3",
           "#FF6692",
           "#B6E880",
           "#FF97FF",
           "#FECB52"
          ],
          "font": {
           "color": "#2a3f5f"
          },
          "geo": {
           "bgcolor": "white",
           "lakecolor": "white",
           "landcolor": "#E5ECF6",
           "showlakes": true,
           "showland": true,
           "subunitcolor": "white"
          },
          "hoverlabel": {
           "align": "left"
          },
          "hovermode": "closest",
          "mapbox": {
           "style": "light"
          },
          "paper_bgcolor": "white",
          "plot_bgcolor": "#E5ECF6",
          "polar": {
           "angularaxis": {
            "gridcolor": "white",
            "linecolor": "white",
            "ticks": ""
           },
           "bgcolor": "#E5ECF6",
           "radialaxis": {
            "gridcolor": "white",
            "linecolor": "white",
            "ticks": ""
           }
          },
          "scene": {
           "xaxis": {
            "backgroundcolor": "#E5ECF6",
            "gridcolor": "white",
            "gridwidth": 2,
            "linecolor": "white",
            "showbackground": true,
            "ticks": "",
            "zerolinecolor": "white"
           },
           "yaxis": {
            "backgroundcolor": "#E5ECF6",
            "gridcolor": "white",
            "gridwidth": 2,
            "linecolor": "white",
            "showbackground": true,
            "ticks": "",
            "zerolinecolor": "white"
           },
           "zaxis": {
            "backgroundcolor": "#E5ECF6",
            "gridcolor": "white",
            "gridwidth": 2,
            "linecolor": "white",
            "showbackground": true,
            "ticks": "",
            "zerolinecolor": "white"
           }
          },
          "shapedefaults": {
           "line": {
            "color": "#2a3f5f"
           }
          },
          "ternary": {
           "aaxis": {
            "gridcolor": "white",
            "linecolor": "white",
            "ticks": ""
           },
           "baxis": {
            "gridcolor": "white",
            "linecolor": "white",
            "ticks": ""
           },
           "bgcolor": "#E5ECF6",
           "caxis": {
            "gridcolor": "white",
            "linecolor": "white",
            "ticks": ""
           }
          },
          "title": {
           "x": 0.05
          },
          "xaxis": {
           "automargin": true,
           "gridcolor": "white",
           "linecolor": "white",
           "ticks": "",
           "title": {
            "standoff": 15
           },
           "zerolinecolor": "white",
           "zerolinewidth": 2
          },
          "yaxis": {
           "automargin": true,
           "gridcolor": "white",
           "linecolor": "white",
           "ticks": "",
           "title": {
            "standoff": 15
           },
           "zerolinecolor": "white",
           "zerolinewidth": 2
          }
         }
        },
        "title": {
         "text": "State Revenue Share by Order Mode (Faceted by Channel and Brand)"
        },
        "width": 1000,
        "xaxis": {
         "anchor": "y",
         "domain": [
          0,
          0.98
         ],
         "title": {
          "text": "State"
         }
        },
        "xaxis2": {
         "anchor": "y2",
         "domain": [
          0,
          0.98
         ],
         "matches": "x",
         "showticklabels": false
        },
        "yaxis": {
         "anchor": "x",
         "domain": [
          0,
          0.485
         ],
         "title": {
          "text": "Revenue Share (%)"
         }
        },
        "yaxis2": {
         "anchor": "x2",
         "domain": [
          0.515,
          1
         ],
         "title": {
          "text": "Revenue Share (%)"
         }
        }
       }
      }
     },
     "metadata": {},
     "output_type": "display_data"
    }
   ],
   "source": [
    "import pandas as pd\n",
    "import plotly.express as px\n",
    "\n",
    "# Assuming aux is your DataFrame already preloaded and cleaned\n",
    "\n",
    "# Grouping the data\n",
    "aux = x[x['Brand']=='WS'].groupby(['Brand', 'ST', 'channel', 'OrderMode'], as_index=False)['revenue'].sum()\n",
    "\n",
    "# Calculating revenue share within each channel\n",
    "total_rev_per_channel = aux.groupby('channel')['revenue'].transform('sum')\n",
    "aux['revenue_share'] = aux['revenue'] / total_rev_per_channel * 100\n",
    "aux['revenue_share_label'] = aux['revenue_share'].map(lambda x: f\"{x:.1f}%\")\n",
    "\n",
    "# Optional: Custom colors\n",
    "OrderMode_c = {\n",
    "    'Grubhub': '#EF553B',\n",
    "    'Mobile': '#636EFA',\n",
    "    'UberEats': '#FF6692',\n",
    "    'DoorDash': '#FFA15A',\n",
    "    'Website': 'rgb(68, 170, 153)',\n",
    "    'Online': 'rgb(144, 103, 167)'\n",
    "}\n",
    "\n",
    "# Creating the plot\n",
    "fig = px.bar(\n",
    "    aux,\n",
    "    x=\"ST\",\n",
    "    y=\"revenue_share\",\n",
    "    color=\"OrderMode\",\n",
    "    text='revenue_share_label',\n",
    "    title=\"State Revenue Share by Order Mode (Faceted by Channel and Brand)\",\n",
    "    labels={\"ST\": \"State\", \"revenue_share\": \"Revenue Share (%)\"},\n",
    "   \n",
    "    facet_col=\"Brand\",\n",
    "     facet_row=\"channel\",\n",
    "    color_discrete_map=OrderMode_c,\n",
    "    height=800,\n",
    "    width=1000\n",
    ")\n",
    "\n",
    "fig.update_layout(\n",
    "    yaxis_title=\"Revenue Share (%)\",\n",
    "    showlegend=True\n",
    ")\n",
    "\n",
    "fig.update_yaxes(matches=None)\n",
    "\n",
    "fig.show()\n"
   ]
  },
  {
   "cell_type": "code",
   "execution_count": 43,
   "metadata": {},
   "outputs": [
    {
     "data": {
      "text/plain": [
       "np.float64(0.0)"
      ]
     },
     "execution_count": 43,
     "metadata": {},
     "output_type": "execute_result"
    }
   ],
   "source": [
    "aux[(aux['Brand']=='LC' )]['revenue_share'].sum()\n"
   ]
  },
  {
   "cell_type": "code",
   "execution_count": 44,
   "metadata": {},
   "outputs": [
    {
     "data": {
      "text/plain": [
       "Index(['StoreID', 'OrderMode', 'WeekStartDate', 'WeeklyNetAmount', 'channel',\n",
       "       'Brand', 'revenue', 'ST', 'cleaned_ids', 'City', 'store_id_formatted',\n",
       "       'Zone', 'Latitude', 'Longitude'],\n",
       "      dtype='object')"
      ]
     },
     "execution_count": 44,
     "metadata": {},
     "output_type": "execute_result"
    }
   ],
   "source": [
    "x.columns\n"
   ]
  },
  {
   "cell_type": "code",
   "execution_count": 45,
   "metadata": {},
   "outputs": [
    {
     "data": {
      "text/html": [
       "<div>\n",
       "<style scoped>\n",
       "    .dataframe tbody tr th:only-of-type {\n",
       "        vertical-align: middle;\n",
       "    }\n",
       "\n",
       "    .dataframe tbody tr th {\n",
       "        vertical-align: top;\n",
       "    }\n",
       "\n",
       "    .dataframe thead th {\n",
       "        text-align: right;\n",
       "    }\n",
       "</style>\n",
       "<table border=\"1\" class=\"dataframe\">\n",
       "  <thead>\n",
       "    <tr style=\"text-align: right;\">\n",
       "      <th></th>\n",
       "      <th>ST</th>\n",
       "      <th>store_count</th>\n",
       "    </tr>\n",
       "  </thead>\n",
       "  <tbody>\n",
       "    <tr>\n",
       "      <th>0</th>\n",
       "      <td>AR</td>\n",
       "      <td>1</td>\n",
       "    </tr>\n",
       "    <tr>\n",
       "      <th>1</th>\n",
       "      <td>KS</td>\n",
       "      <td>14</td>\n",
       "    </tr>\n",
       "    <tr>\n",
       "      <th>2</th>\n",
       "      <td>LA</td>\n",
       "      <td>2</td>\n",
       "    </tr>\n",
       "    <tr>\n",
       "      <th>3</th>\n",
       "      <td>MD</td>\n",
       "      <td>6</td>\n",
       "    </tr>\n",
       "    <tr>\n",
       "      <th>4</th>\n",
       "      <td>NC</td>\n",
       "      <td>7</td>\n",
       "    </tr>\n",
       "    <tr>\n",
       "      <th>5</th>\n",
       "      <td>NM</td>\n",
       "      <td>6</td>\n",
       "    </tr>\n",
       "    <tr>\n",
       "      <th>6</th>\n",
       "      <td>OK</td>\n",
       "      <td>17</td>\n",
       "    </tr>\n",
       "    <tr>\n",
       "      <th>7</th>\n",
       "      <td>TX</td>\n",
       "      <td>20</td>\n",
       "    </tr>\n",
       "    <tr>\n",
       "      <th>8</th>\n",
       "      <td>VA</td>\n",
       "      <td>3</td>\n",
       "    </tr>\n",
       "  </tbody>\n",
       "</table>\n",
       "</div>"
      ],
      "text/plain": [
       "   ST  store_count\n",
       "0  AR            1\n",
       "1  KS           14\n",
       "2  LA            2\n",
       "3  MD            6\n",
       "4  NC            7\n",
       "5  NM            6\n",
       "6  OK           17\n",
       "7  TX           20\n",
       "8  VA            3"
      ]
     },
     "execution_count": 45,
     "metadata": {},
     "output_type": "execute_result"
    }
   ],
   "source": [
    "import pandas as pd\n",
    "import plotly.express as px\n",
    "\n",
    "# 1. Filter for Little Caesars and calculate revenue per state/channel/ordermode\n",
    "aux = x[x['Brand'] == 'LC'].groupby(['Brand', 'ST', 'channel', 'OrderMode','StoreID'], as_index=False)['revenue'].sum()\n",
    "\n",
    "# 2. Get store count per state (assuming 'store_id' column exists in your dataset)\n",
    "store_counts = x[x['Brand'] == 'LC'].groupby('ST')['StoreID'].nunique().reset_index()\n",
    "store_counts.rename(columns={'StoreID': 'store_count'}, inplace=True)\n",
    "store_counts\n"
   ]
  },
  {
   "cell_type": "code",
   "execution_count": 46,
   "metadata": {},
   "outputs": [
    {
     "data": {
      "text/plain": [
       "(344, 5)"
      ]
     },
     "execution_count": 46,
     "metadata": {},
     "output_type": "execute_result"
    }
   ],
   "source": [
    "# 3. Merge store count into the main data\n",
    "aux = aux.merge(store_counts, on='ST', how='left')\n",
    "aux=aux[['Brand','ST','channel','OrderMode','revenue']]\n",
    "aux.shape\n",
    "# 4. Calculat\n"
   ]
  },
  {
   "cell_type": "code",
   "execution_count": 47,
   "metadata": {},
   "outputs": [],
   "source": [
    "aux=aux.groupby(['Brand','ST',\t'channel',\t'OrderMode']).sum().reset_index()\n"
   ]
  },
  {
   "cell_type": "code",
   "execution_count": 48,
   "metadata": {},
   "outputs": [
    {
     "data": {
      "text/html": [
       "<div>\n",
       "<style scoped>\n",
       "    .dataframe tbody tr th:only-of-type {\n",
       "        vertical-align: middle;\n",
       "    }\n",
       "\n",
       "    .dataframe tbody tr th {\n",
       "        vertical-align: top;\n",
       "    }\n",
       "\n",
       "    .dataframe thead th {\n",
       "        text-align: right;\n",
       "    }\n",
       "</style>\n",
       "<table border=\"1\" class=\"dataframe\">\n",
       "  <thead>\n",
       "    <tr style=\"text-align: right;\">\n",
       "      <th></th>\n",
       "      <th>Brand</th>\n",
       "      <th>ST</th>\n",
       "      <th>channel</th>\n",
       "      <th>OrderMode</th>\n",
       "      <th>revenue</th>\n",
       "      <th>total_rev_per_state</th>\n",
       "    </tr>\n",
       "  </thead>\n",
       "  <tbody>\n",
       "    <tr>\n",
       "      <th>39</th>\n",
       "      <td>LC</td>\n",
       "      <td>VA</td>\n",
       "      <td>1PO</td>\n",
       "      <td>Mobile</td>\n",
       "      <td>758383.79</td>\n",
       "      <td>2174450.45</td>\n",
       "    </tr>\n",
       "    <tr>\n",
       "      <th>40</th>\n",
       "      <td>LC</td>\n",
       "      <td>VA</td>\n",
       "      <td>1PO</td>\n",
       "      <td>Website</td>\n",
       "      <td>539627.87</td>\n",
       "      <td>2174450.45</td>\n",
       "    </tr>\n",
       "    <tr>\n",
       "      <th>41</th>\n",
       "      <td>LC</td>\n",
       "      <td>VA</td>\n",
       "      <td>3PO</td>\n",
       "      <td>DoorDash</td>\n",
       "      <td>504888.66</td>\n",
       "      <td>2174450.45</td>\n",
       "    </tr>\n",
       "    <tr>\n",
       "      <th>42</th>\n",
       "      <td>LC</td>\n",
       "      <td>VA</td>\n",
       "      <td>3PO</td>\n",
       "      <td>Grubhub</td>\n",
       "      <td>54744.81</td>\n",
       "      <td>2174450.45</td>\n",
       "    </tr>\n",
       "    <tr>\n",
       "      <th>43</th>\n",
       "      <td>LC</td>\n",
       "      <td>VA</td>\n",
       "      <td>3PO</td>\n",
       "      <td>UberEats</td>\n",
       "      <td>316805.32</td>\n",
       "      <td>2174450.45</td>\n",
       "    </tr>\n",
       "  </tbody>\n",
       "</table>\n",
       "</div>"
      ],
      "text/plain": [
       "   Brand  ST channel OrderMode    revenue  total_rev_per_state\n",
       "39    LC  VA     1PO    Mobile  758383.79           2174450.45\n",
       "40    LC  VA     1PO   Website  539627.87           2174450.45\n",
       "41    LC  VA     3PO  DoorDash  504888.66           2174450.45\n",
       "42    LC  VA     3PO   Grubhub   54744.81           2174450.45\n",
       "43    LC  VA     3PO  UberEats  316805.32           2174450.45"
      ]
     },
     "execution_count": 48,
     "metadata": {},
     "output_type": "execute_result"
    }
   ],
   "source": [
    "total_rev_per_state= aux.groupby('ST')['revenue'].transform('sum')\n",
    "total_rev_per_state\n",
    "aux['total_rev_per_state']=total_rev_per_state\n",
    "aux[aux['ST']=='VA']\n"
   ]
  },
  {
   "cell_type": "code",
   "execution_count": 49,
   "metadata": {},
   "outputs": [
    {
     "data": {
      "text/html": [
       "<div>\n",
       "<style scoped>\n",
       "    .dataframe tbody tr th:only-of-type {\n",
       "        vertical-align: middle;\n",
       "    }\n",
       "\n",
       "    .dataframe tbody tr th {\n",
       "        vertical-align: top;\n",
       "    }\n",
       "\n",
       "    .dataframe thead th {\n",
       "        text-align: right;\n",
       "    }\n",
       "</style>\n",
       "<table border=\"1\" class=\"dataframe\">\n",
       "  <thead>\n",
       "    <tr style=\"text-align: right;\">\n",
       "      <th></th>\n",
       "      <th>Brand</th>\n",
       "      <th>ST</th>\n",
       "      <th>channel</th>\n",
       "      <th>OrderMode</th>\n",
       "      <th>revenue</th>\n",
       "      <th>total_rev_per_state</th>\n",
       "      <th>revenue Share(%)</th>\n",
       "      <th>revenue_share_label</th>\n",
       "    </tr>\n",
       "  </thead>\n",
       "  <tbody>\n",
       "    <tr>\n",
       "      <th>0</th>\n",
       "      <td>LC</td>\n",
       "      <td>AR</td>\n",
       "      <td>1PO</td>\n",
       "      <td>Mobile</td>\n",
       "      <td>217804.88</td>\n",
       "      <td>405627.39</td>\n",
       "      <td>53.695802</td>\n",
       "      <td>53.7%</td>\n",
       "    </tr>\n",
       "    <tr>\n",
       "      <th>1</th>\n",
       "      <td>LC</td>\n",
       "      <td>AR</td>\n",
       "      <td>1PO</td>\n",
       "      <td>Website</td>\n",
       "      <td>111642.11</td>\n",
       "      <td>405627.39</td>\n",
       "      <td>27.523316</td>\n",
       "      <td>27.5%</td>\n",
       "    </tr>\n",
       "    <tr>\n",
       "      <th>2</th>\n",
       "      <td>LC</td>\n",
       "      <td>AR</td>\n",
       "      <td>3PO</td>\n",
       "      <td>DoorDash</td>\n",
       "      <td>73393.18</td>\n",
       "      <td>405627.39</td>\n",
       "      <td>18.093744</td>\n",
       "      <td>18.1%</td>\n",
       "    </tr>\n",
       "    <tr>\n",
       "      <th>3</th>\n",
       "      <td>LC</td>\n",
       "      <td>AR</td>\n",
       "      <td>3PO</td>\n",
       "      <td>UberEats</td>\n",
       "      <td>2787.22</td>\n",
       "      <td>405627.39</td>\n",
       "      <td>0.687138</td>\n",
       "      <td>0.7%</td>\n",
       "    </tr>\n",
       "    <tr>\n",
       "      <th>4</th>\n",
       "      <td>LC</td>\n",
       "      <td>KS</td>\n",
       "      <td>1PO</td>\n",
       "      <td>Mobile</td>\n",
       "      <td>4048533.92</td>\n",
       "      <td>8002381.52</td>\n",
       "      <td>50.591613</td>\n",
       "      <td>50.6%</td>\n",
       "    </tr>\n",
       "    <tr>\n",
       "      <th>5</th>\n",
       "      <td>LC</td>\n",
       "      <td>KS</td>\n",
       "      <td>1PO</td>\n",
       "      <td>Website</td>\n",
       "      <td>2430463.82</td>\n",
       "      <td>8002381.52</td>\n",
       "      <td>30.371756</td>\n",
       "      <td>30.4%</td>\n",
       "    </tr>\n",
       "    <tr>\n",
       "      <th>6</th>\n",
       "      <td>LC</td>\n",
       "      <td>KS</td>\n",
       "      <td>3PO</td>\n",
       "      <td>DoorDash</td>\n",
       "      <td>1277348.38</td>\n",
       "      <td>8002381.52</td>\n",
       "      <td>15.962103</td>\n",
       "      <td>16.0%</td>\n",
       "    </tr>\n",
       "    <tr>\n",
       "      <th>7</th>\n",
       "      <td>LC</td>\n",
       "      <td>KS</td>\n",
       "      <td>3PO</td>\n",
       "      <td>Grubhub</td>\n",
       "      <td>40071.55</td>\n",
       "      <td>8002381.52</td>\n",
       "      <td>0.500745</td>\n",
       "      <td>0.5%</td>\n",
       "    </tr>\n",
       "    <tr>\n",
       "      <th>8</th>\n",
       "      <td>LC</td>\n",
       "      <td>KS</td>\n",
       "      <td>3PO</td>\n",
       "      <td>UberEats</td>\n",
       "      <td>205963.85</td>\n",
       "      <td>8002381.52</td>\n",
       "      <td>2.573782</td>\n",
       "      <td>2.6%</td>\n",
       "    </tr>\n",
       "    <tr>\n",
       "      <th>9</th>\n",
       "      <td>LC</td>\n",
       "      <td>LA</td>\n",
       "      <td>1PO</td>\n",
       "      <td>Mobile</td>\n",
       "      <td>347011.96</td>\n",
       "      <td>879762.27</td>\n",
       "      <td>39.443833</td>\n",
       "      <td>39.4%</td>\n",
       "    </tr>\n",
       "    <tr>\n",
       "      <th>10</th>\n",
       "      <td>LC</td>\n",
       "      <td>LA</td>\n",
       "      <td>1PO</td>\n",
       "      <td>Website</td>\n",
       "      <td>250343.56</td>\n",
       "      <td>879762.27</td>\n",
       "      <td>28.455819</td>\n",
       "      <td>28.5%</td>\n",
       "    </tr>\n",
       "    <tr>\n",
       "      <th>11</th>\n",
       "      <td>LC</td>\n",
       "      <td>LA</td>\n",
       "      <td>3PO</td>\n",
       "      <td>DoorDash</td>\n",
       "      <td>251832.05</td>\n",
       "      <td>879762.27</td>\n",
       "      <td>28.625011</td>\n",
       "      <td>28.6%</td>\n",
       "    </tr>\n",
       "    <tr>\n",
       "      <th>12</th>\n",
       "      <td>LC</td>\n",
       "      <td>LA</td>\n",
       "      <td>3PO</td>\n",
       "      <td>Grubhub</td>\n",
       "      <td>2763.33</td>\n",
       "      <td>879762.27</td>\n",
       "      <td>0.314100</td>\n",
       "      <td>0.3%</td>\n",
       "    </tr>\n",
       "    <tr>\n",
       "      <th>13</th>\n",
       "      <td>LC</td>\n",
       "      <td>LA</td>\n",
       "      <td>3PO</td>\n",
       "      <td>UberEats</td>\n",
       "      <td>27811.37</td>\n",
       "      <td>879762.27</td>\n",
       "      <td>3.161237</td>\n",
       "      <td>3.2%</td>\n",
       "    </tr>\n",
       "    <tr>\n",
       "      <th>14</th>\n",
       "      <td>LC</td>\n",
       "      <td>MD</td>\n",
       "      <td>1PO</td>\n",
       "      <td>Mobile</td>\n",
       "      <td>1904621.01</td>\n",
       "      <td>5255396.59</td>\n",
       "      <td>36.241242</td>\n",
       "      <td>36.2%</td>\n",
       "    </tr>\n",
       "    <tr>\n",
       "      <th>15</th>\n",
       "      <td>LC</td>\n",
       "      <td>MD</td>\n",
       "      <td>1PO</td>\n",
       "      <td>Website</td>\n",
       "      <td>1124656.28</td>\n",
       "      <td>5255396.59</td>\n",
       "      <td>21.400027</td>\n",
       "      <td>21.4%</td>\n",
       "    </tr>\n",
       "    <tr>\n",
       "      <th>16</th>\n",
       "      <td>LC</td>\n",
       "      <td>MD</td>\n",
       "      <td>3PO</td>\n",
       "      <td>DoorDash</td>\n",
       "      <td>1354792.73</td>\n",
       "      <td>5255396.59</td>\n",
       "      <td>25.779077</td>\n",
       "      <td>25.8%</td>\n",
       "    </tr>\n",
       "    <tr>\n",
       "      <th>17</th>\n",
       "      <td>LC</td>\n",
       "      <td>MD</td>\n",
       "      <td>3PO</td>\n",
       "      <td>Grubhub</td>\n",
       "      <td>100350.55</td>\n",
       "      <td>5255396.59</td>\n",
       "      <td>1.909476</td>\n",
       "      <td>1.9%</td>\n",
       "    </tr>\n",
       "    <tr>\n",
       "      <th>18</th>\n",
       "      <td>LC</td>\n",
       "      <td>MD</td>\n",
       "      <td>3PO</td>\n",
       "      <td>UberEats</td>\n",
       "      <td>770976.02</td>\n",
       "      <td>5255396.59</td>\n",
       "      <td>14.670178</td>\n",
       "      <td>14.7%</td>\n",
       "    </tr>\n",
       "    <tr>\n",
       "      <th>19</th>\n",
       "      <td>LC</td>\n",
       "      <td>NC</td>\n",
       "      <td>1PO</td>\n",
       "      <td>Mobile</td>\n",
       "      <td>2283585.50</td>\n",
       "      <td>5235318.46</td>\n",
       "      <td>43.618846</td>\n",
       "      <td>43.6%</td>\n",
       "    </tr>\n",
       "    <tr>\n",
       "      <th>20</th>\n",
       "      <td>LC</td>\n",
       "      <td>NC</td>\n",
       "      <td>1PO</td>\n",
       "      <td>Website</td>\n",
       "      <td>1507984.35</td>\n",
       "      <td>5235318.46</td>\n",
       "      <td>28.804062</td>\n",
       "      <td>28.8%</td>\n",
       "    </tr>\n",
       "    <tr>\n",
       "      <th>21</th>\n",
       "      <td>LC</td>\n",
       "      <td>NC</td>\n",
       "      <td>3PO</td>\n",
       "      <td>DoorDash</td>\n",
       "      <td>1138897.86</td>\n",
       "      <td>5235318.46</td>\n",
       "      <td>21.754128</td>\n",
       "      <td>21.8%</td>\n",
       "    </tr>\n",
       "    <tr>\n",
       "      <th>22</th>\n",
       "      <td>LC</td>\n",
       "      <td>NC</td>\n",
       "      <td>3PO</td>\n",
       "      <td>Grubhub</td>\n",
       "      <td>33621.09</td>\n",
       "      <td>5235318.46</td>\n",
       "      <td>0.642198</td>\n",
       "      <td>0.6%</td>\n",
       "    </tr>\n",
       "    <tr>\n",
       "      <th>23</th>\n",
       "      <td>LC</td>\n",
       "      <td>NC</td>\n",
       "      <td>3PO</td>\n",
       "      <td>UberEats</td>\n",
       "      <td>271229.66</td>\n",
       "      <td>5235318.46</td>\n",
       "      <td>5.180767</td>\n",
       "      <td>5.2%</td>\n",
       "    </tr>\n",
       "    <tr>\n",
       "      <th>24</th>\n",
       "      <td>LC</td>\n",
       "      <td>NM</td>\n",
       "      <td>1PO</td>\n",
       "      <td>Mobile</td>\n",
       "      <td>1960497.51</td>\n",
       "      <td>3967491.70</td>\n",
       "      <td>49.414029</td>\n",
       "      <td>49.4%</td>\n",
       "    </tr>\n",
       "    <tr>\n",
       "      <th>25</th>\n",
       "      <td>LC</td>\n",
       "      <td>NM</td>\n",
       "      <td>1PO</td>\n",
       "      <td>Website</td>\n",
       "      <td>1073494.80</td>\n",
       "      <td>3967491.70</td>\n",
       "      <td>27.057266</td>\n",
       "      <td>27.1%</td>\n",
       "    </tr>\n",
       "    <tr>\n",
       "      <th>26</th>\n",
       "      <td>LC</td>\n",
       "      <td>NM</td>\n",
       "      <td>3PO</td>\n",
       "      <td>DoorDash</td>\n",
       "      <td>903415.74</td>\n",
       "      <td>3967491.70</td>\n",
       "      <td>22.770451</td>\n",
       "      <td>22.8%</td>\n",
       "    </tr>\n",
       "    <tr>\n",
       "      <th>27</th>\n",
       "      <td>LC</td>\n",
       "      <td>NM</td>\n",
       "      <td>3PO</td>\n",
       "      <td>Grubhub</td>\n",
       "      <td>2260.23</td>\n",
       "      <td>3967491.70</td>\n",
       "      <td>0.056969</td>\n",
       "      <td>0.1%</td>\n",
       "    </tr>\n",
       "    <tr>\n",
       "      <th>28</th>\n",
       "      <td>LC</td>\n",
       "      <td>NM</td>\n",
       "      <td>3PO</td>\n",
       "      <td>UberEats</td>\n",
       "      <td>27823.42</td>\n",
       "      <td>3967491.70</td>\n",
       "      <td>0.701285</td>\n",
       "      <td>0.7%</td>\n",
       "    </tr>\n",
       "    <tr>\n",
       "      <th>29</th>\n",
       "      <td>LC</td>\n",
       "      <td>OK</td>\n",
       "      <td>1PO</td>\n",
       "      <td>Mobile</td>\n",
       "      <td>5060907.55</td>\n",
       "      <td>9335741.89</td>\n",
       "      <td>54.210020</td>\n",
       "      <td>54.2%</td>\n",
       "    </tr>\n",
       "    <tr>\n",
       "      <th>30</th>\n",
       "      <td>LC</td>\n",
       "      <td>OK</td>\n",
       "      <td>1PO</td>\n",
       "      <td>Website</td>\n",
       "      <td>2395615.14</td>\n",
       "      <td>9335741.89</td>\n",
       "      <td>25.660683</td>\n",
       "      <td>25.7%</td>\n",
       "    </tr>\n",
       "    <tr>\n",
       "      <th>31</th>\n",
       "      <td>LC</td>\n",
       "      <td>OK</td>\n",
       "      <td>3PO</td>\n",
       "      <td>DoorDash</td>\n",
       "      <td>1737660.79</td>\n",
       "      <td>9335741.89</td>\n",
       "      <td>18.612991</td>\n",
       "      <td>18.6%</td>\n",
       "    </tr>\n",
       "    <tr>\n",
       "      <th>32</th>\n",
       "      <td>LC</td>\n",
       "      <td>OK</td>\n",
       "      <td>3PO</td>\n",
       "      <td>Grubhub</td>\n",
       "      <td>22501.93</td>\n",
       "      <td>9335741.89</td>\n",
       "      <td>0.241030</td>\n",
       "      <td>0.2%</td>\n",
       "    </tr>\n",
       "    <tr>\n",
       "      <th>33</th>\n",
       "      <td>LC</td>\n",
       "      <td>OK</td>\n",
       "      <td>3PO</td>\n",
       "      <td>UberEats</td>\n",
       "      <td>119056.48</td>\n",
       "      <td>9335741.89</td>\n",
       "      <td>1.275276</td>\n",
       "      <td>1.3%</td>\n",
       "    </tr>\n",
       "    <tr>\n",
       "      <th>34</th>\n",
       "      <td>LC</td>\n",
       "      <td>TX</td>\n",
       "      <td>1PO</td>\n",
       "      <td>Mobile</td>\n",
       "      <td>5203296.94</td>\n",
       "      <td>10299523.47</td>\n",
       "      <td>50.519783</td>\n",
       "      <td>50.5%</td>\n",
       "    </tr>\n",
       "    <tr>\n",
       "      <th>35</th>\n",
       "      <td>LC</td>\n",
       "      <td>TX</td>\n",
       "      <td>1PO</td>\n",
       "      <td>Website</td>\n",
       "      <td>2943513.05</td>\n",
       "      <td>10299523.47</td>\n",
       "      <td>28.579119</td>\n",
       "      <td>28.6%</td>\n",
       "    </tr>\n",
       "    <tr>\n",
       "      <th>36</th>\n",
       "      <td>LC</td>\n",
       "      <td>TX</td>\n",
       "      <td>3PO</td>\n",
       "      <td>DoorDash</td>\n",
       "      <td>1926974.28</td>\n",
       "      <td>10299523.47</td>\n",
       "      <td>18.709354</td>\n",
       "      <td>18.7%</td>\n",
       "    </tr>\n",
       "    <tr>\n",
       "      <th>37</th>\n",
       "      <td>LC</td>\n",
       "      <td>TX</td>\n",
       "      <td>3PO</td>\n",
       "      <td>Grubhub</td>\n",
       "      <td>15745.18</td>\n",
       "      <td>10299523.47</td>\n",
       "      <td>0.152873</td>\n",
       "      <td>0.2%</td>\n",
       "    </tr>\n",
       "    <tr>\n",
       "      <th>38</th>\n",
       "      <td>LC</td>\n",
       "      <td>TX</td>\n",
       "      <td>3PO</td>\n",
       "      <td>UberEats</td>\n",
       "      <td>209994.02</td>\n",
       "      <td>10299523.47</td>\n",
       "      <td>2.038871</td>\n",
       "      <td>2.0%</td>\n",
       "    </tr>\n",
       "    <tr>\n",
       "      <th>39</th>\n",
       "      <td>LC</td>\n",
       "      <td>VA</td>\n",
       "      <td>1PO</td>\n",
       "      <td>Mobile</td>\n",
       "      <td>758383.79</td>\n",
       "      <td>2174450.45</td>\n",
       "      <td>34.877032</td>\n",
       "      <td>34.9%</td>\n",
       "    </tr>\n",
       "    <tr>\n",
       "      <th>40</th>\n",
       "      <td>LC</td>\n",
       "      <td>VA</td>\n",
       "      <td>1PO</td>\n",
       "      <td>Website</td>\n",
       "      <td>539627.87</td>\n",
       "      <td>2174450.45</td>\n",
       "      <td>24.816747</td>\n",
       "      <td>24.8%</td>\n",
       "    </tr>\n",
       "    <tr>\n",
       "      <th>41</th>\n",
       "      <td>LC</td>\n",
       "      <td>VA</td>\n",
       "      <td>3PO</td>\n",
       "      <td>DoorDash</td>\n",
       "      <td>504888.66</td>\n",
       "      <td>2174450.45</td>\n",
       "      <td>23.219138</td>\n",
       "      <td>23.2%</td>\n",
       "    </tr>\n",
       "    <tr>\n",
       "      <th>42</th>\n",
       "      <td>LC</td>\n",
       "      <td>VA</td>\n",
       "      <td>3PO</td>\n",
       "      <td>Grubhub</td>\n",
       "      <td>54744.81</td>\n",
       "      <td>2174450.45</td>\n",
       "      <td>2.517639</td>\n",
       "      <td>2.5%</td>\n",
       "    </tr>\n",
       "    <tr>\n",
       "      <th>43</th>\n",
       "      <td>LC</td>\n",
       "      <td>VA</td>\n",
       "      <td>3PO</td>\n",
       "      <td>UberEats</td>\n",
       "      <td>316805.32</td>\n",
       "      <td>2174450.45</td>\n",
       "      <td>14.569443</td>\n",
       "      <td>14.6%</td>\n",
       "    </tr>\n",
       "  </tbody>\n",
       "</table>\n",
       "</div>"
      ],
      "text/plain": [
       "   Brand  ST channel OrderMode     revenue  total_rev_per_state  \\\n",
       "0     LC  AR     1PO    Mobile   217804.88            405627.39   \n",
       "1     LC  AR     1PO   Website   111642.11            405627.39   \n",
       "2     LC  AR     3PO  DoorDash    73393.18            405627.39   \n",
       "3     LC  AR     3PO  UberEats     2787.22            405627.39   \n",
       "4     LC  KS     1PO    Mobile  4048533.92           8002381.52   \n",
       "5     LC  KS     1PO   Website  2430463.82           8002381.52   \n",
       "6     LC  KS     3PO  DoorDash  1277348.38           8002381.52   \n",
       "7     LC  KS     3PO   Grubhub    40071.55           8002381.52   \n",
       "8     LC  KS     3PO  UberEats   205963.85           8002381.52   \n",
       "9     LC  LA     1PO    Mobile   347011.96            879762.27   \n",
       "10    LC  LA     1PO   Website   250343.56            879762.27   \n",
       "11    LC  LA     3PO  DoorDash   251832.05            879762.27   \n",
       "12    LC  LA     3PO   Grubhub     2763.33            879762.27   \n",
       "13    LC  LA     3PO  UberEats    27811.37            879762.27   \n",
       "14    LC  MD     1PO    Mobile  1904621.01           5255396.59   \n",
       "15    LC  MD     1PO   Website  1124656.28           5255396.59   \n",
       "16    LC  MD     3PO  DoorDash  1354792.73           5255396.59   \n",
       "17    LC  MD     3PO   Grubhub   100350.55           5255396.59   \n",
       "18    LC  MD     3PO  UberEats   770976.02           5255396.59   \n",
       "19    LC  NC     1PO    Mobile  2283585.50           5235318.46   \n",
       "20    LC  NC     1PO   Website  1507984.35           5235318.46   \n",
       "21    LC  NC     3PO  DoorDash  1138897.86           5235318.46   \n",
       "22    LC  NC     3PO   Grubhub    33621.09           5235318.46   \n",
       "23    LC  NC     3PO  UberEats   271229.66           5235318.46   \n",
       "24    LC  NM     1PO    Mobile  1960497.51           3967491.70   \n",
       "25    LC  NM     1PO   Website  1073494.80           3967491.70   \n",
       "26    LC  NM     3PO  DoorDash   903415.74           3967491.70   \n",
       "27    LC  NM     3PO   Grubhub     2260.23           3967491.70   \n",
       "28    LC  NM     3PO  UberEats    27823.42           3967491.70   \n",
       "29    LC  OK     1PO    Mobile  5060907.55           9335741.89   \n",
       "30    LC  OK     1PO   Website  2395615.14           9335741.89   \n",
       "31    LC  OK     3PO  DoorDash  1737660.79           9335741.89   \n",
       "32    LC  OK     3PO   Grubhub    22501.93           9335741.89   \n",
       "33    LC  OK     3PO  UberEats   119056.48           9335741.89   \n",
       "34    LC  TX     1PO    Mobile  5203296.94          10299523.47   \n",
       "35    LC  TX     1PO   Website  2943513.05          10299523.47   \n",
       "36    LC  TX     3PO  DoorDash  1926974.28          10299523.47   \n",
       "37    LC  TX     3PO   Grubhub    15745.18          10299523.47   \n",
       "38    LC  TX     3PO  UberEats   209994.02          10299523.47   \n",
       "39    LC  VA     1PO    Mobile   758383.79           2174450.45   \n",
       "40    LC  VA     1PO   Website   539627.87           2174450.45   \n",
       "41    LC  VA     3PO  DoorDash   504888.66           2174450.45   \n",
       "42    LC  VA     3PO   Grubhub    54744.81           2174450.45   \n",
       "43    LC  VA     3PO  UberEats   316805.32           2174450.45   \n",
       "\n",
       "    revenue Share(%) revenue_share_label  \n",
       "0          53.695802               53.7%  \n",
       "1          27.523316               27.5%  \n",
       "2          18.093744               18.1%  \n",
       "3           0.687138                0.7%  \n",
       "4          50.591613               50.6%  \n",
       "5          30.371756               30.4%  \n",
       "6          15.962103               16.0%  \n",
       "7           0.500745                0.5%  \n",
       "8           2.573782                2.6%  \n",
       "9          39.443833               39.4%  \n",
       "10         28.455819               28.5%  \n",
       "11         28.625011               28.6%  \n",
       "12          0.314100                0.3%  \n",
       "13          3.161237                3.2%  \n",
       "14         36.241242               36.2%  \n",
       "15         21.400027               21.4%  \n",
       "16         25.779077               25.8%  \n",
       "17          1.909476                1.9%  \n",
       "18         14.670178               14.7%  \n",
       "19         43.618846               43.6%  \n",
       "20         28.804062               28.8%  \n",
       "21         21.754128               21.8%  \n",
       "22          0.642198                0.6%  \n",
       "23          5.180767                5.2%  \n",
       "24         49.414029               49.4%  \n",
       "25         27.057266               27.1%  \n",
       "26         22.770451               22.8%  \n",
       "27          0.056969                0.1%  \n",
       "28          0.701285                0.7%  \n",
       "29         54.210020               54.2%  \n",
       "30         25.660683               25.7%  \n",
       "31         18.612991               18.6%  \n",
       "32          0.241030                0.2%  \n",
       "33          1.275276                1.3%  \n",
       "34         50.519783               50.5%  \n",
       "35         28.579119               28.6%  \n",
       "36         18.709354               18.7%  \n",
       "37          0.152873                0.2%  \n",
       "38          2.038871                2.0%  \n",
       "39         34.877032               34.9%  \n",
       "40         24.816747               24.8%  \n",
       "41         23.219138               23.2%  \n",
       "42          2.517639                2.5%  \n",
       "43         14.569443               14.6%  "
      ]
     },
     "execution_count": 49,
     "metadata": {},
     "output_type": "execute_result"
    }
   ],
   "source": [
    "\n",
    "\n",
    "aux['revenue Share(%)']=(aux['revenue']/aux['total_rev_per_state'])*100\n",
    "aux\n",
    "\n",
    "\n",
    "aux['revenue_share_label'] = aux['revenue Share(%)'].map(lambda x: f\"{x:.1f}%\")\n",
    "\n",
    "aux\n"
   ]
  },
  {
   "cell_type": "code",
   "execution_count": 50,
   "metadata": {},
   "outputs": [
    {
     "data": {
      "text/plain": [
       "np.float64(100.0)"
      ]
     },
     "execution_count": 50,
     "metadata": {},
     "output_type": "execute_result"
    }
   ],
   "source": [
    "aux[aux['ST']=='KS']['revenue Share(%)'].sum()\n"
   ]
  },
  {
   "cell_type": "code",
   "execution_count": 51,
   "metadata": {},
   "outputs": [
    {
     "data": {
      "application/vnd.plotly.v1+json": {
       "config": {
        "plotlyServerURL": "https://plot.ly"
       },
       "data": [
        {
         "hovertemplate": "OrderMode=Mobile<br>channel=1PO<br>State=%{x}<br>revenue Share(%)=%{y}<br>revenue_share_label=%{text}<extra></extra>",
         "legendgroup": "Mobile",
         "marker": {
          "color": "#636efa",
          "pattern": {
           "shape": ""
          }
         },
         "name": "Mobile",
         "orientation": "v",
         "showlegend": true,
         "text": [
          "53.7%",
          "50.6%",
          "39.4%",
          "36.2%",
          "43.6%",
          "49.4%",
          "54.2%",
          "50.5%",
          "34.9%"
         ],
         "textposition": "auto",
         "type": "bar",
         "x": [
          "AR",
          "KS",
          "LA",
          "MD",
          "NC",
          "NM",
          "OK",
          "TX",
          "VA"
         ],
         "xaxis": "x2",
         "y": {
          "bdata": "9oHTCRDZSkDzGMH8uUtJQIpjgYTPuENAJWnEBuEeQkAg8AlZNs9FQLpLQ+n+tEhA6EPW7+EaS0DtcINCiEJJQPBmyplCcEFA",
          "dtype": "f8"
         },
         "yaxis": "y2"
        },
        {
         "hovertemplate": "OrderMode=Website<br>channel=1PO<br>State=%{x}<br>revenue Share(%)=%{y}<br>revenue_share_label=%{text}<extra></extra>",
         "legendgroup": "Website",
         "marker": {
          "color": "#EF553B",
          "pattern": {
           "shape": ""
          }
         },
         "name": "Website",
         "orientation": "v",
         "showlegend": true,
         "text": [
          "27.5%",
          "30.4%",
          "28.5%",
          "21.4%",
          "28.8%",
          "27.1%",
          "25.7%",
          "28.6%",
          "24.8%"
         ],
         "textposition": "auto",
         "type": "bar",
         "x": [
          "AR",
          "KS",
          "LA",
          "MD",
          "NC",
          "NM",
          "OK",
          "TX",
          "VA"
         ],
         "xaxis": "x2",
         "y": {
          "bdata": "UFx3EPiFO0D7Fx5tK18+QAl9YY+wdDxAkEBxKGhmNUCgfs351s08QGl5UwOpDjtAduDRhiKpOUD8VnghQZQ8QKzWSlcW0ThA",
          "dtype": "f8"
         },
         "yaxis": "y2"
        },
        {
         "hovertemplate": "OrderMode=DoorDash<br>channel=3PO<br>State=%{x}<br>revenue Share(%)=%{y}<br>revenue_share_label=%{text}<extra></extra>",
         "legendgroup": "DoorDash",
         "marker": {
          "color": "#00cc96",
          "pattern": {
           "shape": ""
          }
         },
         "name": "DoorDash",
         "orientation": "v",
         "showlegend": true,
         "text": [
          "18.1%",
          "16.0%",
          "28.6%",
          "25.8%",
          "21.8%",
          "22.8%",
          "18.6%",
          "18.7%",
          "23.2%"
         ],
         "textposition": "auto",
         "type": "bar",
         "x": [
          "AR",
          "KS",
          "LA",
          "MD",
          "NC",
          "NM",
          "OK",
          "TX",
          "VA"
         ],
         "xaxis": "x",
         "y": {
          "bdata": "dBD3lP8XMkCZRWjDmOwvQHRgG78AoDxAkI32lXHHOUB+mEKCDsE1QKUrJUE8xTZA7lME+eycMkAh6/00mLUyQAvjtnQZODdA",
          "dtype": "f8"
         },
         "yaxis": "y"
        },
        {
         "hovertemplate": "OrderMode=UberEats<br>channel=3PO<br>State=%{x}<br>revenue Share(%)=%{y}<br>revenue_share_label=%{text}<extra></extra>",
         "legendgroup": "UberEats",
         "marker": {
          "color": "#ab63fa",
          "pattern": {
           "shape": ""
          }
         },
         "name": "UberEats",
         "orientation": "v",
         "showlegend": true,
         "text": [
          "0.7%",
          "2.6%",
          "3.2%",
          "14.7%",
          "5.2%",
          "0.7%",
          "1.3%",
          "2.0%",
          "14.6%"
         ],
         "textposition": "auto",
         "type": "bar",
         "x": [
          "AR",
          "KS",
          "LA",
          "MD",
          "NC",
          "NM",
          "OK",
          "TX",
          "VA"
         ],
         "xaxis": "x",
         "y": {
          "bdata": "GupR3Qj95T+4R8z7GpcEQOUR15k2SglAigj2iCFXLUCil2YHG7kUQFfvHQXtcOY/B/XR2odn9D+K9w63m08AQCvmJwqOIy1A",
          "dtype": "f8"
         },
         "yaxis": "y"
        },
        {
         "hovertemplate": "OrderMode=Grubhub<br>channel=3PO<br>State=%{x}<br>revenue Share(%)=%{y}<br>revenue_share_label=%{text}<extra></extra>",
         "legendgroup": "Grubhub",
         "marker": {
          "color": "#FFA15A",
          "pattern": {
           "shape": ""
          }
         },
         "name": "Grubhub",
         "orientation": "v",
         "showlegend": true,
         "text": [
          "0.5%",
          "0.3%",
          "1.9%",
          "0.6%",
          "0.1%",
          "0.2%",
          "0.2%",
          "2.5%"
         ],
         "textposition": "auto",
         "type": "bar",
         "x": [
          "KS",
          "LA",
          "MD",
          "NC",
          "NM",
          "OK",
          "TX",
          "VA"
         ],
         "xaxis": "x",
         "y": {
          "bdata": "b0tBBhsG4D+6TF5RNRrUP0u1Rfk2jf4/OFdMAOKM5D/fC6ivASutP549EmgR2s4/Aox+0FaRwz+WKqzaHyQEQA==",
          "dtype": "f8"
         },
         "yaxis": "y"
        }
       ],
       "layout": {
        "annotations": [
         {
          "font": {},
          "showarrow": false,
          "text": "channel=3PO",
          "textangle": 90,
          "x": 0.98,
          "xanchor": "left",
          "xref": "paper",
          "y": 0.2425,
          "yanchor": "middle",
          "yref": "paper"
         },
         {
          "font": {},
          "showarrow": false,
          "text": "channel=1PO",
          "textangle": 90,
          "x": 0.98,
          "xanchor": "left",
          "xref": "paper",
          "y": 0.7575000000000001,
          "yanchor": "middle",
          "yref": "paper"
         }
        ],
        "barmode": "relative",
        "font": {
         "size": 10
        },
        "height": 700,
        "legend": {
         "font": {
          "size": 10
         },
         "title": {
          "font": {
           "size": 12
          },
          "text": "OrderMode"
         },
         "tracegroupgap": 0
        },
        "showlegend": true,
        "template": {
         "data": {
          "bar": [
           {
            "error_x": {
             "color": "#2a3f5f"
            },
            "error_y": {
             "color": "#2a3f5f"
            },
            "marker": {
             "line": {
              "color": "#E5ECF6",
              "width": 0.5
             },
             "pattern": {
              "fillmode": "overlay",
              "size": 10,
              "solidity": 0.2
             }
            },
            "type": "bar"
           }
          ],
          "barpolar": [
           {
            "marker": {
             "line": {
              "color": "#E5ECF6",
              "width": 0.5
             },
             "pattern": {
              "fillmode": "overlay",
              "size": 10,
              "solidity": 0.2
             }
            },
            "type": "barpolar"
           }
          ],
          "carpet": [
           {
            "aaxis": {
             "endlinecolor": "#2a3f5f",
             "gridcolor": "white",
             "linecolor": "white",
             "minorgridcolor": "white",
             "startlinecolor": "#2a3f5f"
            },
            "baxis": {
             "endlinecolor": "#2a3f5f",
             "gridcolor": "white",
             "linecolor": "white",
             "minorgridcolor": "white",
             "startlinecolor": "#2a3f5f"
            },
            "type": "carpet"
           }
          ],
          "choropleth": [
           {
            "colorbar": {
             "outlinewidth": 0,
             "ticks": ""
            },
            "type": "choropleth"
           }
          ],
          "contour": [
           {
            "colorbar": {
             "outlinewidth": 0,
             "ticks": ""
            },
            "colorscale": [
             [
              0,
              "#0d0887"
             ],
             [
              0.1111111111111111,
              "#46039f"
             ],
             [
              0.2222222222222222,
              "#7201a8"
             ],
             [
              0.3333333333333333,
              "#9c179e"
             ],
             [
              0.4444444444444444,
              "#bd3786"
             ],
             [
              0.5555555555555556,
              "#d8576b"
             ],
             [
              0.6666666666666666,
              "#ed7953"
             ],
             [
              0.7777777777777778,
              "#fb9f3a"
             ],
             [
              0.8888888888888888,
              "#fdca26"
             ],
             [
              1,
              "#f0f921"
             ]
            ],
            "type": "contour"
           }
          ],
          "contourcarpet": [
           {
            "colorbar": {
             "outlinewidth": 0,
             "ticks": ""
            },
            "type": "contourcarpet"
           }
          ],
          "heatmap": [
           {
            "colorbar": {
             "outlinewidth": 0,
             "ticks": ""
            },
            "colorscale": [
             [
              0,
              "#0d0887"
             ],
             [
              0.1111111111111111,
              "#46039f"
             ],
             [
              0.2222222222222222,
              "#7201a8"
             ],
             [
              0.3333333333333333,
              "#9c179e"
             ],
             [
              0.4444444444444444,
              "#bd3786"
             ],
             [
              0.5555555555555556,
              "#d8576b"
             ],
             [
              0.6666666666666666,
              "#ed7953"
             ],
             [
              0.7777777777777778,
              "#fb9f3a"
             ],
             [
              0.8888888888888888,
              "#fdca26"
             ],
             [
              1,
              "#f0f921"
             ]
            ],
            "type": "heatmap"
           }
          ],
          "histogram": [
           {
            "marker": {
             "pattern": {
              "fillmode": "overlay",
              "size": 10,
              "solidity": 0.2
             }
            },
            "type": "histogram"
           }
          ],
          "histogram2d": [
           {
            "colorbar": {
             "outlinewidth": 0,
             "ticks": ""
            },
            "colorscale": [
             [
              0,
              "#0d0887"
             ],
             [
              0.1111111111111111,
              "#46039f"
             ],
             [
              0.2222222222222222,
              "#7201a8"
             ],
             [
              0.3333333333333333,
              "#9c179e"
             ],
             [
              0.4444444444444444,
              "#bd3786"
             ],
             [
              0.5555555555555556,
              "#d8576b"
             ],
             [
              0.6666666666666666,
              "#ed7953"
             ],
             [
              0.7777777777777778,
              "#fb9f3a"
             ],
             [
              0.8888888888888888,
              "#fdca26"
             ],
             [
              1,
              "#f0f921"
             ]
            ],
            "type": "histogram2d"
           }
          ],
          "histogram2dcontour": [
           {
            "colorbar": {
             "outlinewidth": 0,
             "ticks": ""
            },
            "colorscale": [
             [
              0,
              "#0d0887"
             ],
             [
              0.1111111111111111,
              "#46039f"
             ],
             [
              0.2222222222222222,
              "#7201a8"
             ],
             [
              0.3333333333333333,
              "#9c179e"
             ],
             [
              0.4444444444444444,
              "#bd3786"
             ],
             [
              0.5555555555555556,
              "#d8576b"
             ],
             [
              0.6666666666666666,
              "#ed7953"
             ],
             [
              0.7777777777777778,
              "#fb9f3a"
             ],
             [
              0.8888888888888888,
              "#fdca26"
             ],
             [
              1,
              "#f0f921"
             ]
            ],
            "type": "histogram2dcontour"
           }
          ],
          "mesh3d": [
           {
            "colorbar": {
             "outlinewidth": 0,
             "ticks": ""
            },
            "type": "mesh3d"
           }
          ],
          "parcoords": [
           {
            "line": {
             "colorbar": {
              "outlinewidth": 0,
              "ticks": ""
             }
            },
            "type": "parcoords"
           }
          ],
          "pie": [
           {
            "automargin": true,
            "type": "pie"
           }
          ],
          "scatter": [
           {
            "fillpattern": {
             "fillmode": "overlay",
             "size": 10,
             "solidity": 0.2
            },
            "type": "scatter"
           }
          ],
          "scatter3d": [
           {
            "line": {
             "colorbar": {
              "outlinewidth": 0,
              "ticks": ""
             }
            },
            "marker": {
             "colorbar": {
              "outlinewidth": 0,
              "ticks": ""
             }
            },
            "type": "scatter3d"
           }
          ],
          "scattercarpet": [
           {
            "marker": {
             "colorbar": {
              "outlinewidth": 0,
              "ticks": ""
             }
            },
            "type": "scattercarpet"
           }
          ],
          "scattergeo": [
           {
            "marker": {
             "colorbar": {
              "outlinewidth": 0,
              "ticks": ""
             }
            },
            "type": "scattergeo"
           }
          ],
          "scattergl": [
           {
            "marker": {
             "colorbar": {
              "outlinewidth": 0,
              "ticks": ""
             }
            },
            "type": "scattergl"
           }
          ],
          "scattermap": [
           {
            "marker": {
             "colorbar": {
              "outlinewidth": 0,
              "ticks": ""
             }
            },
            "type": "scattermap"
           }
          ],
          "scattermapbox": [
           {
            "marker": {
             "colorbar": {
              "outlinewidth": 0,
              "ticks": ""
             }
            },
            "type": "scattermapbox"
           }
          ],
          "scatterpolar": [
           {
            "marker": {
             "colorbar": {
              "outlinewidth": 0,
              "ticks": ""
             }
            },
            "type": "scatterpolar"
           }
          ],
          "scatterpolargl": [
           {
            "marker": {
             "colorbar": {
              "outlinewidth": 0,
              "ticks": ""
             }
            },
            "type": "scatterpolargl"
           }
          ],
          "scatterternary": [
           {
            "marker": {
             "colorbar": {
              "outlinewidth": 0,
              "ticks": ""
             }
            },
            "type": "scatterternary"
           }
          ],
          "surface": [
           {
            "colorbar": {
             "outlinewidth": 0,
             "ticks": ""
            },
            "colorscale": [
             [
              0,
              "#0d0887"
             ],
             [
              0.1111111111111111,
              "#46039f"
             ],
             [
              0.2222222222222222,
              "#7201a8"
             ],
             [
              0.3333333333333333,
              "#9c179e"
             ],
             [
              0.4444444444444444,
              "#bd3786"
             ],
             [
              0.5555555555555556,
              "#d8576b"
             ],
             [
              0.6666666666666666,
              "#ed7953"
             ],
             [
              0.7777777777777778,
              "#fb9f3a"
             ],
             [
              0.8888888888888888,
              "#fdca26"
             ],
             [
              1,
              "#f0f921"
             ]
            ],
            "type": "surface"
           }
          ],
          "table": [
           {
            "cells": {
             "fill": {
              "color": "#EBF0F8"
             },
             "line": {
              "color": "white"
             }
            },
            "header": {
             "fill": {
              "color": "#C8D4E3"
             },
             "line": {
              "color": "white"
             }
            },
            "type": "table"
           }
          ]
         },
         "layout": {
          "annotationdefaults": {
           "arrowcolor": "#2a3f5f",
           "arrowhead": 0,
           "arrowwidth": 1
          },
          "autotypenumbers": "strict",
          "coloraxis": {
           "colorbar": {
            "outlinewidth": 0,
            "ticks": ""
           }
          },
          "colorscale": {
           "diverging": [
            [
             0,
             "#8e0152"
            ],
            [
             0.1,
             "#c51b7d"
            ],
            [
             0.2,
             "#de77ae"
            ],
            [
             0.3,
             "#f1b6da"
            ],
            [
             0.4,
             "#fde0ef"
            ],
            [
             0.5,
             "#f7f7f7"
            ],
            [
             0.6,
             "#e6f5d0"
            ],
            [
             0.7,
             "#b8e186"
            ],
            [
             0.8,
             "#7fbc41"
            ],
            [
             0.9,
             "#4d9221"
            ],
            [
             1,
             "#276419"
            ]
           ],
           "sequential": [
            [
             0,
             "#0d0887"
            ],
            [
             0.1111111111111111,
             "#46039f"
            ],
            [
             0.2222222222222222,
             "#7201a8"
            ],
            [
             0.3333333333333333,
             "#9c179e"
            ],
            [
             0.4444444444444444,
             "#bd3786"
            ],
            [
             0.5555555555555556,
             "#d8576b"
            ],
            [
             0.6666666666666666,
             "#ed7953"
            ],
            [
             0.7777777777777778,
             "#fb9f3a"
            ],
            [
             0.8888888888888888,
             "#fdca26"
            ],
            [
             1,
             "#f0f921"
            ]
           ],
           "sequentialminus": [
            [
             0,
             "#0d0887"
            ],
            [
             0.1111111111111111,
             "#46039f"
            ],
            [
             0.2222222222222222,
             "#7201a8"
            ],
            [
             0.3333333333333333,
             "#9c179e"
            ],
            [
             0.4444444444444444,
             "#bd3786"
            ],
            [
             0.5555555555555556,
             "#d8576b"
            ],
            [
             0.6666666666666666,
             "#ed7953"
            ],
            [
             0.7777777777777778,
             "#fb9f3a"
            ],
            [
             0.8888888888888888,
             "#fdca26"
            ],
            [
             1,
             "#f0f921"
            ]
           ]
          },
          "colorway": [
           "#636efa",
           "#EF553B",
           "#00cc96",
           "#ab63fa",
           "#FFA15A",
           "#19d3f3",
           "#FF6692",
           "#B6E880",
           "#FF97FF",
           "#FECB52"
          ],
          "font": {
           "color": "#2a3f5f"
          },
          "geo": {
           "bgcolor": "white",
           "lakecolor": "white",
           "landcolor": "#E5ECF6",
           "showlakes": true,
           "showland": true,
           "subunitcolor": "white"
          },
          "hoverlabel": {
           "align": "left"
          },
          "hovermode": "closest",
          "mapbox": {
           "style": "light"
          },
          "paper_bgcolor": "white",
          "plot_bgcolor": "#E5ECF6",
          "polar": {
           "angularaxis": {
            "gridcolor": "white",
            "linecolor": "white",
            "ticks": ""
           },
           "bgcolor": "#E5ECF6",
           "radialaxis": {
            "gridcolor": "white",
            "linecolor": "white",
            "ticks": ""
           }
          },
          "scene": {
           "xaxis": {
            "backgroundcolor": "#E5ECF6",
            "gridcolor": "white",
            "gridwidth": 2,
            "linecolor": "white",
            "showbackground": true,
            "ticks": "",
            "zerolinecolor": "white"
           },
           "yaxis": {
            "backgroundcolor": "#E5ECF6",
            "gridcolor": "white",
            "gridwidth": 2,
            "linecolor": "white",
            "showbackground": true,
            "ticks": "",
            "zerolinecolor": "white"
           },
           "zaxis": {
            "backgroundcolor": "#E5ECF6",
            "gridcolor": "white",
            "gridwidth": 2,
            "linecolor": "white",
            "showbackground": true,
            "ticks": "",
            "zerolinecolor": "white"
           }
          },
          "shapedefaults": {
           "line": {
            "color": "#2a3f5f"
           }
          },
          "ternary": {
           "aaxis": {
            "gridcolor": "white",
            "linecolor": "white",
            "ticks": ""
           },
           "baxis": {
            "gridcolor": "white",
            "linecolor": "white",
            "ticks": ""
           },
           "bgcolor": "#E5ECF6",
           "caxis": {
            "gridcolor": "white",
            "linecolor": "white",
            "ticks": ""
           }
          },
          "title": {
           "x": 0.05
          },
          "xaxis": {
           "automargin": true,
           "gridcolor": "white",
           "linecolor": "white",
           "ticks": "",
           "title": {
            "standoff": 15
           },
           "zerolinecolor": "white",
           "zerolinewidth": 2
          },
          "yaxis": {
           "automargin": true,
           "gridcolor": "white",
           "linecolor": "white",
           "ticks": "",
           "title": {
            "standoff": 15
           },
           "zerolinecolor": "white",
           "zerolinewidth": 2
          }
         }
        },
        "title": {
         "font": {
          "size": 16
         },
         "text": "Little Caesars Revenue Share(%) by State"
        },
        "width": 900,
        "xaxis": {
         "anchor": "y",
         "domain": [
          0,
          0.98
         ],
         "title": {
          "font": {
           "size": 12
          },
          "text": "State"
         }
        },
        "xaxis2": {
         "anchor": "y2",
         "domain": [
          0,
          0.98
         ],
         "matches": "x",
         "showticklabels": false
        },
        "yaxis": {
         "anchor": "x",
         "domain": [
          0,
          0.485
         ],
         "showticklabels": true,
         "title": {
          "font": {
           "size": 12
          },
          "text": ""
         }
        },
        "yaxis2": {
         "anchor": "x2",
         "domain": [
          0.515,
          1
         ],
         "showticklabels": true,
         "title": {
          "text": "revenue Share(%)"
         }
        }
       }
      }
     },
     "metadata": {},
     "output_type": "display_data"
    }
   ],
   "source": [
    "\n",
    "# 4. Plot with custom colors\n",
    "fig = px.bar(aux, \n",
    "             x=\"ST\", \n",
    "             y=\"revenue Share(%)\", \n",
    "             color=\"OrderMode\",\n",
    "             text='revenue_share_label',\n",
    "             title=\"Little Caesars Revenue Share(%) by State\",\n",
    "             labels={\"ST\": \"State\"},\n",
    "             facet_row=\"channel\",\n",
    "            #  color_discrete_map=OrderMode_c,  # <-- Use custom colors here\n",
    "             height=700,\n",
    "             width=900)\n",
    "\n",
    "fig.update_layout(\n",
    "    yaxis_title=\"Revenue Share(%)\",\n",
    "    showlegend=True\n",
    ")\n",
    "\n",
    "# Adjust font size for various elements\n",
    "fig.update_layout(\n",
    "    yaxis_title=\"Share per Store (%)\",\n",
    "    showlegend=True,\n",
    "    title_font=dict(size=16),  # Title font size\n",
    "    font=dict(size=10),  # Axis labels and general text size\n",
    "    xaxis_title_font=dict(size=12),  # X-axis label font size\n",
    "    yaxis_title_font=dict(size=12),  # Y-axis label font size\n",
    "    legend_title_font=dict(size=12),  # Legend title font size\n",
    "    legend_font=dict(size=10),  # Legend text size\n",
    ")\n",
    "fig.update_yaxes(matches=None)\n",
    "fig.update_yaxes(showticklabels=True)  # Ensure y-axis labels show on one axis\n",
    "fig.update_yaxes(title_text=\"\", row=1, col=1)  # Remove y-axis title for each facet\n",
    "\n",
    "\n",
    "fig.show()\n",
    "\n",
    "\n"
   ]
  },
  {
   "cell_type": "code",
   "execution_count": 391,
   "metadata": {},
   "outputs": [
    {
     "data": {
      "text/html": [
       "<div>\n",
       "<style scoped>\n",
       "    .dataframe tbody tr th:only-of-type {\n",
       "        vertical-align: middle;\n",
       "    }\n",
       "\n",
       "    .dataframe tbody tr th {\n",
       "        vertical-align: top;\n",
       "    }\n",
       "\n",
       "    .dataframe thead th {\n",
       "        text-align: right;\n",
       "    }\n",
       "</style>\n",
       "<table border=\"1\" class=\"dataframe\">\n",
       "  <thead>\n",
       "    <tr style=\"text-align: right;\">\n",
       "      <th></th>\n",
       "      <th>Brand</th>\n",
       "      <th>ST</th>\n",
       "      <th>channel</th>\n",
       "      <th>OrderMode</th>\n",
       "      <th>StoreID</th>\n",
       "      <th>revenue</th>\n",
       "      <th>store_count</th>\n",
       "    </tr>\n",
       "  </thead>\n",
       "  <tbody>\n",
       "    <tr>\n",
       "      <th>0</th>\n",
       "      <td>LC</td>\n",
       "      <td>AR</td>\n",
       "      <td>1PO</td>\n",
       "      <td>Mobile</td>\n",
       "      <td>01494-00005</td>\n",
       "      <td>217804.88</td>\n",
       "      <td>1</td>\n",
       "    </tr>\n",
       "    <tr>\n",
       "      <th>1</th>\n",
       "      <td>LC</td>\n",
       "      <td>AR</td>\n",
       "      <td>1PO</td>\n",
       "      <td>Website</td>\n",
       "      <td>01494-00005</td>\n",
       "      <td>111642.11</td>\n",
       "      <td>1</td>\n",
       "    </tr>\n",
       "    <tr>\n",
       "      <th>2</th>\n",
       "      <td>LC</td>\n",
       "      <td>AR</td>\n",
       "      <td>3PO</td>\n",
       "      <td>DoorDash</td>\n",
       "      <td>01494-00005</td>\n",
       "      <td>73393.18</td>\n",
       "      <td>1</td>\n",
       "    </tr>\n",
       "    <tr>\n",
       "      <th>3</th>\n",
       "      <td>LC</td>\n",
       "      <td>AR</td>\n",
       "      <td>3PO</td>\n",
       "      <td>UberEats</td>\n",
       "      <td>01494-00005</td>\n",
       "      <td>2787.22</td>\n",
       "      <td>1</td>\n",
       "    </tr>\n",
       "    <tr>\n",
       "      <th>4</th>\n",
       "      <td>LC</td>\n",
       "      <td>KS</td>\n",
       "      <td>1PO</td>\n",
       "      <td>Mobile</td>\n",
       "      <td>03222-00009</td>\n",
       "      <td>141294.58</td>\n",
       "      <td>14</td>\n",
       "    </tr>\n",
       "  </tbody>\n",
       "</table>\n",
       "</div>"
      ],
      "text/plain": [
       "  Brand  ST channel OrderMode      StoreID    revenue  store_count\n",
       "0    LC  AR     1PO    Mobile  01494-00005  217804.88            1\n",
       "1    LC  AR     1PO   Website  01494-00005  111642.11            1\n",
       "2    LC  AR     3PO  DoorDash  01494-00005   73393.18            1\n",
       "3    LC  AR     3PO  UberEats  01494-00005    2787.22            1\n",
       "4    LC  KS     1PO    Mobile  03222-00009  141294.58           14"
      ]
     },
     "execution_count": 391,
     "metadata": {},
     "output_type": "execute_result"
    }
   ],
   "source": [
    "\n",
    "# 3. Merge store count into the main data\n",
    "aux = aux.merge(store_counts, on='ST', how='left')\n",
    "aux.head()\n",
    "# 4. Calculat\n"
   ]
  },
  {
   "cell_type": "code",
   "execution_count": 385,
   "metadata": {},
   "outputs": [
    {
     "data": {
      "text/html": [
       "<div>\n",
       "<style scoped>\n",
       "    .dataframe tbody tr th:only-of-type {\n",
       "        vertical-align: middle;\n",
       "    }\n",
       "\n",
       "    .dataframe tbody tr th {\n",
       "        vertical-align: top;\n",
       "    }\n",
       "\n",
       "    .dataframe thead th {\n",
       "        text-align: right;\n",
       "    }\n",
       "</style>\n",
       "<table border=\"1\" class=\"dataframe\">\n",
       "  <thead>\n",
       "    <tr style=\"text-align: right;\">\n",
       "      <th></th>\n",
       "      <th>ST</th>\n",
       "      <th>channel</th>\n",
       "      <th>OrderMode</th>\n",
       "      <th>revenue</th>\n",
       "      <th>store_count</th>\n",
       "    </tr>\n",
       "  </thead>\n",
       "  <tbody>\n",
       "    <tr>\n",
       "      <th>0</th>\n",
       "      <td>AR</td>\n",
       "      <td>1PO</td>\n",
       "      <td>Mobile</td>\n",
       "      <td>217804.880000</td>\n",
       "      <td>1.0</td>\n",
       "    </tr>\n",
       "    <tr>\n",
       "      <th>1</th>\n",
       "      <td>AR</td>\n",
       "      <td>1PO</td>\n",
       "      <td>Website</td>\n",
       "      <td>111642.110000</td>\n",
       "      <td>1.0</td>\n",
       "    </tr>\n",
       "    <tr>\n",
       "      <th>2</th>\n",
       "      <td>AR</td>\n",
       "      <td>3PO</td>\n",
       "      <td>DoorDash</td>\n",
       "      <td>73393.180000</td>\n",
       "      <td>1.0</td>\n",
       "    </tr>\n",
       "    <tr>\n",
       "      <th>3</th>\n",
       "      <td>AR</td>\n",
       "      <td>3PO</td>\n",
       "      <td>UberEats</td>\n",
       "      <td>2787.220000</td>\n",
       "      <td>1.0</td>\n",
       "    </tr>\n",
       "    <tr>\n",
       "      <th>4</th>\n",
       "      <td>KS</td>\n",
       "      <td>1PO</td>\n",
       "      <td>Mobile</td>\n",
       "      <td>289180.994286</td>\n",
       "      <td>14.0</td>\n",
       "    </tr>\n",
       "  </tbody>\n",
       "</table>\n",
       "</div>"
      ],
      "text/plain": [
       "   ST channel OrderMode        revenue  store_count\n",
       "0  AR     1PO    Mobile  217804.880000          1.0\n",
       "1  AR     1PO   Website  111642.110000          1.0\n",
       "2  AR     3PO  DoorDash   73393.180000          1.0\n",
       "3  AR     3PO  UberEats    2787.220000          1.0\n",
       "4  KS     1PO    Mobile  289180.994286         14.0"
      ]
     },
     "execution_count": 385,
     "metadata": {},
     "output_type": "execute_result"
    }
   ],
   "source": [
    "mean_rev=aux.groupby(['ST','channel','OrderMode']).mean().reset_index()\n",
    "mean_rev.head()\n"
   ]
  },
  {
   "cell_type": "code",
   "execution_count": 386,
   "metadata": {},
   "outputs": [
    {
     "data": {
      "text/plain": [
       "0     3.921738e+06\n",
       "1     3.921738e+06\n",
       "2     1.577928e+06\n",
       "3     1.577928e+06\n",
       "4     3.921738e+06\n",
       "5     3.921738e+06\n",
       "6     1.577928e+06\n",
       "7     1.577928e+06\n",
       "8     1.577928e+06\n",
       "9     3.921738e+06\n",
       "10    3.921738e+06\n",
       "11    1.577928e+06\n",
       "12    1.577928e+06\n",
       "13    1.577928e+06\n",
       "14    3.921738e+06\n",
       "15    3.921738e+06\n",
       "16    1.577928e+06\n",
       "17    1.577928e+06\n",
       "18    1.577928e+06\n",
       "19    3.921738e+06\n",
       "20    3.921738e+06\n",
       "21    1.577928e+06\n",
       "22    1.577928e+06\n",
       "23    1.577928e+06\n",
       "24    3.921738e+06\n",
       "25    3.921738e+06\n",
       "26    1.577928e+06\n",
       "27    1.577928e+06\n",
       "28    1.577928e+06\n",
       "29    3.921738e+06\n",
       "30    3.921738e+06\n",
       "31    1.577928e+06\n",
       "32    1.577928e+06\n",
       "33    1.577928e+06\n",
       "34    3.921738e+06\n",
       "35    3.921738e+06\n",
       "36    1.577928e+06\n",
       "37    1.577928e+06\n",
       "38    1.577928e+06\n",
       "39    3.921738e+06\n",
       "40    3.921738e+06\n",
       "41    1.577928e+06\n",
       "42    1.577928e+06\n",
       "43    1.577928e+06\n",
       "Name: revenue, dtype: float64"
      ]
     },
     "execution_count": 386,
     "metadata": {},
     "output_type": "execute_result"
    }
   ],
   "source": [
    "\n",
    "# 3. Revenue share\n",
    "total_rev_per_channel = mean_rev.groupby('channel')['revenue'].transform('sum')\n",
    "total_rev_per_channel\n",
    "\n",
    "mean_rev['revenue_share_label'] = mean_rev['Mean Revenue Share(%)'].map(lambda x: f\"{x:.1f}%\")\n",
    "\n",
    "# 4. Plot with custom colors\n",
    "fig = px.bar(mean_rev, \n",
    "             x=\"ST\", \n",
    "             y=\"Mean Revenue Share(%)\", \n",
    "             color=\"OrderMode\",\n",
    "             text='revenue_share_label',\n",
    "             title=\"Little Caesars Mean Revenue Share(%) by State and Channel\",\n",
    "             labels={\"ST\": \"State\"},\n",
    "             facet_row=\"channel\",\n",
    "            #  color_discrete_map=OrderMode_c,  # <-- Use custom colors here\n",
    "             height=700,\n",
    "             width=900)\n",
    "\n",
    "fig.update_layout(\n",
    "    yaxis_title=\"Mean Revenue Share(%)\",\n",
    "    showlegend=True\n",
    ")\n",
    "\n",
    "# Adjust font size for various elements\n",
    "fig.update_layout(\n",
    "    yaxis_title=\"Revenue Share per Store (%)\",\n",
    "    showlegend=True,\n",
    "    title_font=dict(size=16),  # Title font size\n",
    "    font=dict(size=10),  # Axis labels and general text size\n",
    "    xaxis_title_font=dict(size=12),  # X-axis label font size\n",
    "    yaxis_title_font=dict(size=12),  # Y-axis label font size\n",
    "    legend_title_font=dict(size=12),  # Legend title font size\n",
    "    legend_font=dict(size=10),  # Legend text size\n",
    ")\n",
    "fig.update_yaxes(matches=None)\n",
    "fig.update_yaxes(showticklabels=True)  # Ensure y-axis labels show on one axis\n",
    "fig.update_yaxes(title_text=\"\", row=1, col=1)  # Remove y-axis title for each facet\n",
    "\n",
    "\n",
    "fig.show()\n",
    "\n"
   ]
  },
  {
   "cell_type": "code",
   "execution_count": 387,
   "metadata": {},
   "outputs": [
    {
     "data": {
      "text/html": [
       "<div>\n",
       "<style scoped>\n",
       "    .dataframe tbody tr th:only-of-type {\n",
       "        vertical-align: middle;\n",
       "    }\n",
       "\n",
       "    .dataframe tbody tr th {\n",
       "        vertical-align: top;\n",
       "    }\n",
       "\n",
       "    .dataframe thead th {\n",
       "        text-align: right;\n",
       "    }\n",
       "</style>\n",
       "<table border=\"1\" class=\"dataframe\">\n",
       "  <thead>\n",
       "    <tr style=\"text-align: right;\">\n",
       "      <th></th>\n",
       "      <th>ST</th>\n",
       "      <th>channel</th>\n",
       "      <th>OrderMode</th>\n",
       "      <th>revenue</th>\n",
       "      <th>store_count</th>\n",
       "      <th>total</th>\n",
       "    </tr>\n",
       "  </thead>\n",
       "  <tbody>\n",
       "    <tr>\n",
       "      <th>0</th>\n",
       "      <td>AR</td>\n",
       "      <td>1PO</td>\n",
       "      <td>Mobile</td>\n",
       "      <td>217804.880000</td>\n",
       "      <td>1.0</td>\n",
       "      <td>3.921738e+06</td>\n",
       "    </tr>\n",
       "    <tr>\n",
       "      <th>1</th>\n",
       "      <td>AR</td>\n",
       "      <td>1PO</td>\n",
       "      <td>Website</td>\n",
       "      <td>111642.110000</td>\n",
       "      <td>1.0</td>\n",
       "      <td>3.921738e+06</td>\n",
       "    </tr>\n",
       "    <tr>\n",
       "      <th>2</th>\n",
       "      <td>AR</td>\n",
       "      <td>3PO</td>\n",
       "      <td>DoorDash</td>\n",
       "      <td>73393.180000</td>\n",
       "      <td>1.0</td>\n",
       "      <td>1.577928e+06</td>\n",
       "    </tr>\n",
       "    <tr>\n",
       "      <th>3</th>\n",
       "      <td>AR</td>\n",
       "      <td>3PO</td>\n",
       "      <td>UberEats</td>\n",
       "      <td>2787.220000</td>\n",
       "      <td>1.0</td>\n",
       "      <td>1.577928e+06</td>\n",
       "    </tr>\n",
       "    <tr>\n",
       "      <th>4</th>\n",
       "      <td>KS</td>\n",
       "      <td>1PO</td>\n",
       "      <td>Mobile</td>\n",
       "      <td>289180.994286</td>\n",
       "      <td>14.0</td>\n",
       "      <td>3.921738e+06</td>\n",
       "    </tr>\n",
       "    <tr>\n",
       "      <th>5</th>\n",
       "      <td>KS</td>\n",
       "      <td>1PO</td>\n",
       "      <td>Website</td>\n",
       "      <td>173604.558571</td>\n",
       "      <td>14.0</td>\n",
       "      <td>3.921738e+06</td>\n",
       "    </tr>\n",
       "    <tr>\n",
       "      <th>6</th>\n",
       "      <td>KS</td>\n",
       "      <td>3PO</td>\n",
       "      <td>DoorDash</td>\n",
       "      <td>91239.170000</td>\n",
       "      <td>14.0</td>\n",
       "      <td>1.577928e+06</td>\n",
       "    </tr>\n",
       "    <tr>\n",
       "      <th>7</th>\n",
       "      <td>KS</td>\n",
       "      <td>3PO</td>\n",
       "      <td>Grubhub</td>\n",
       "      <td>4452.394444</td>\n",
       "      <td>14.0</td>\n",
       "      <td>1.577928e+06</td>\n",
       "    </tr>\n",
       "    <tr>\n",
       "      <th>8</th>\n",
       "      <td>KS</td>\n",
       "      <td>3PO</td>\n",
       "      <td>UberEats</td>\n",
       "      <td>14711.703571</td>\n",
       "      <td>14.0</td>\n",
       "      <td>1.577928e+06</td>\n",
       "    </tr>\n",
       "    <tr>\n",
       "      <th>9</th>\n",
       "      <td>LA</td>\n",
       "      <td>1PO</td>\n",
       "      <td>Mobile</td>\n",
       "      <td>173505.980000</td>\n",
       "      <td>2.0</td>\n",
       "      <td>3.921738e+06</td>\n",
       "    </tr>\n",
       "    <tr>\n",
       "      <th>10</th>\n",
       "      <td>LA</td>\n",
       "      <td>1PO</td>\n",
       "      <td>Website</td>\n",
       "      <td>125171.780000</td>\n",
       "      <td>2.0</td>\n",
       "      <td>3.921738e+06</td>\n",
       "    </tr>\n",
       "    <tr>\n",
       "      <th>11</th>\n",
       "      <td>LA</td>\n",
       "      <td>3PO</td>\n",
       "      <td>DoorDash</td>\n",
       "      <td>125916.025000</td>\n",
       "      <td>2.0</td>\n",
       "      <td>1.577928e+06</td>\n",
       "    </tr>\n",
       "    <tr>\n",
       "      <th>12</th>\n",
       "      <td>LA</td>\n",
       "      <td>3PO</td>\n",
       "      <td>Grubhub</td>\n",
       "      <td>2763.330000</td>\n",
       "      <td>2.0</td>\n",
       "      <td>1.577928e+06</td>\n",
       "    </tr>\n",
       "    <tr>\n",
       "      <th>13</th>\n",
       "      <td>LA</td>\n",
       "      <td>3PO</td>\n",
       "      <td>UberEats</td>\n",
       "      <td>13905.685000</td>\n",
       "      <td>2.0</td>\n",
       "      <td>1.577928e+06</td>\n",
       "    </tr>\n",
       "    <tr>\n",
       "      <th>14</th>\n",
       "      <td>MD</td>\n",
       "      <td>1PO</td>\n",
       "      <td>Mobile</td>\n",
       "      <td>317436.835000</td>\n",
       "      <td>6.0</td>\n",
       "      <td>3.921738e+06</td>\n",
       "    </tr>\n",
       "    <tr>\n",
       "      <th>15</th>\n",
       "      <td>MD</td>\n",
       "      <td>1PO</td>\n",
       "      <td>Website</td>\n",
       "      <td>187442.713333</td>\n",
       "      <td>6.0</td>\n",
       "      <td>3.921738e+06</td>\n",
       "    </tr>\n",
       "    <tr>\n",
       "      <th>16</th>\n",
       "      <td>MD</td>\n",
       "      <td>3PO</td>\n",
       "      <td>DoorDash</td>\n",
       "      <td>225798.788333</td>\n",
       "      <td>6.0</td>\n",
       "      <td>1.577928e+06</td>\n",
       "    </tr>\n",
       "    <tr>\n",
       "      <th>17</th>\n",
       "      <td>MD</td>\n",
       "      <td>3PO</td>\n",
       "      <td>Grubhub</td>\n",
       "      <td>16725.091667</td>\n",
       "      <td>6.0</td>\n",
       "      <td>1.577928e+06</td>\n",
       "    </tr>\n",
       "    <tr>\n",
       "      <th>18</th>\n",
       "      <td>MD</td>\n",
       "      <td>3PO</td>\n",
       "      <td>UberEats</td>\n",
       "      <td>128496.003333</td>\n",
       "      <td>6.0</td>\n",
       "      <td>1.577928e+06</td>\n",
       "    </tr>\n",
       "    <tr>\n",
       "      <th>19</th>\n",
       "      <td>NC</td>\n",
       "      <td>1PO</td>\n",
       "      <td>Mobile</td>\n",
       "      <td>326226.500000</td>\n",
       "      <td>7.0</td>\n",
       "      <td>3.921738e+06</td>\n",
       "    </tr>\n",
       "    <tr>\n",
       "      <th>20</th>\n",
       "      <td>NC</td>\n",
       "      <td>1PO</td>\n",
       "      <td>Website</td>\n",
       "      <td>215426.335714</td>\n",
       "      <td>7.0</td>\n",
       "      <td>3.921738e+06</td>\n",
       "    </tr>\n",
       "    <tr>\n",
       "      <th>21</th>\n",
       "      <td>NC</td>\n",
       "      <td>3PO</td>\n",
       "      <td>DoorDash</td>\n",
       "      <td>162699.694286</td>\n",
       "      <td>7.0</td>\n",
       "      <td>1.577928e+06</td>\n",
       "    </tr>\n",
       "    <tr>\n",
       "      <th>22</th>\n",
       "      <td>NC</td>\n",
       "      <td>3PO</td>\n",
       "      <td>Grubhub</td>\n",
       "      <td>4803.012857</td>\n",
       "      <td>7.0</td>\n",
       "      <td>1.577928e+06</td>\n",
       "    </tr>\n",
       "    <tr>\n",
       "      <th>23</th>\n",
       "      <td>NC</td>\n",
       "      <td>3PO</td>\n",
       "      <td>UberEats</td>\n",
       "      <td>38747.094286</td>\n",
       "      <td>7.0</td>\n",
       "      <td>1.577928e+06</td>\n",
       "    </tr>\n",
       "    <tr>\n",
       "      <th>24</th>\n",
       "      <td>NM</td>\n",
       "      <td>1PO</td>\n",
       "      <td>Mobile</td>\n",
       "      <td>326749.585000</td>\n",
       "      <td>6.0</td>\n",
       "      <td>3.921738e+06</td>\n",
       "    </tr>\n",
       "    <tr>\n",
       "      <th>25</th>\n",
       "      <td>NM</td>\n",
       "      <td>1PO</td>\n",
       "      <td>Website</td>\n",
       "      <td>178915.800000</td>\n",
       "      <td>6.0</td>\n",
       "      <td>3.921738e+06</td>\n",
       "    </tr>\n",
       "    <tr>\n",
       "      <th>26</th>\n",
       "      <td>NM</td>\n",
       "      <td>3PO</td>\n",
       "      <td>DoorDash</td>\n",
       "      <td>150569.290000</td>\n",
       "      <td>6.0</td>\n",
       "      <td>1.577928e+06</td>\n",
       "    </tr>\n",
       "    <tr>\n",
       "      <th>27</th>\n",
       "      <td>NM</td>\n",
       "      <td>3PO</td>\n",
       "      <td>Grubhub</td>\n",
       "      <td>753.410000</td>\n",
       "      <td>6.0</td>\n",
       "      <td>1.577928e+06</td>\n",
       "    </tr>\n",
       "    <tr>\n",
       "      <th>28</th>\n",
       "      <td>NM</td>\n",
       "      <td>3PO</td>\n",
       "      <td>UberEats</td>\n",
       "      <td>4637.236667</td>\n",
       "      <td>6.0</td>\n",
       "      <td>1.577928e+06</td>\n",
       "    </tr>\n",
       "    <tr>\n",
       "      <th>29</th>\n",
       "      <td>OK</td>\n",
       "      <td>1PO</td>\n",
       "      <td>Mobile</td>\n",
       "      <td>297700.444118</td>\n",
       "      <td>17.0</td>\n",
       "      <td>3.921738e+06</td>\n",
       "    </tr>\n",
       "    <tr>\n",
       "      <th>30</th>\n",
       "      <td>OK</td>\n",
       "      <td>1PO</td>\n",
       "      <td>Website</td>\n",
       "      <td>140918.537647</td>\n",
       "      <td>17.0</td>\n",
       "      <td>3.921738e+06</td>\n",
       "    </tr>\n",
       "    <tr>\n",
       "      <th>31</th>\n",
       "      <td>OK</td>\n",
       "      <td>3PO</td>\n",
       "      <td>DoorDash</td>\n",
       "      <td>102215.340588</td>\n",
       "      <td>17.0</td>\n",
       "      <td>1.577928e+06</td>\n",
       "    </tr>\n",
       "    <tr>\n",
       "      <th>32</th>\n",
       "      <td>OK</td>\n",
       "      <td>3PO</td>\n",
       "      <td>Grubhub</td>\n",
       "      <td>3214.561429</td>\n",
       "      <td>17.0</td>\n",
       "      <td>1.577928e+06</td>\n",
       "    </tr>\n",
       "    <tr>\n",
       "      <th>33</th>\n",
       "      <td>OK</td>\n",
       "      <td>3PO</td>\n",
       "      <td>UberEats</td>\n",
       "      <td>7003.322353</td>\n",
       "      <td>17.0</td>\n",
       "      <td>1.577928e+06</td>\n",
       "    </tr>\n",
       "    <tr>\n",
       "      <th>34</th>\n",
       "      <td>TX</td>\n",
       "      <td>1PO</td>\n",
       "      <td>Mobile</td>\n",
       "      <td>260164.847000</td>\n",
       "      <td>20.0</td>\n",
       "      <td>3.921738e+06</td>\n",
       "    </tr>\n",
       "    <tr>\n",
       "      <th>35</th>\n",
       "      <td>TX</td>\n",
       "      <td>1PO</td>\n",
       "      <td>Website</td>\n",
       "      <td>147175.652500</td>\n",
       "      <td>20.0</td>\n",
       "      <td>3.921738e+06</td>\n",
       "    </tr>\n",
       "    <tr>\n",
       "      <th>36</th>\n",
       "      <td>TX</td>\n",
       "      <td>3PO</td>\n",
       "      <td>DoorDash</td>\n",
       "      <td>96348.714000</td>\n",
       "      <td>20.0</td>\n",
       "      <td>1.577928e+06</td>\n",
       "    </tr>\n",
       "    <tr>\n",
       "      <th>37</th>\n",
       "      <td>TX</td>\n",
       "      <td>3PO</td>\n",
       "      <td>Grubhub</td>\n",
       "      <td>2249.311429</td>\n",
       "      <td>20.0</td>\n",
       "      <td>1.577928e+06</td>\n",
       "    </tr>\n",
       "    <tr>\n",
       "      <th>38</th>\n",
       "      <td>TX</td>\n",
       "      <td>3PO</td>\n",
       "      <td>UberEats</td>\n",
       "      <td>12352.589412</td>\n",
       "      <td>20.0</td>\n",
       "      <td>1.577928e+06</td>\n",
       "    </tr>\n",
       "    <tr>\n",
       "      <th>39</th>\n",
       "      <td>VA</td>\n",
       "      <td>1PO</td>\n",
       "      <td>Mobile</td>\n",
       "      <td>252794.596667</td>\n",
       "      <td>3.0</td>\n",
       "      <td>3.921738e+06</td>\n",
       "    </tr>\n",
       "    <tr>\n",
       "      <th>40</th>\n",
       "      <td>VA</td>\n",
       "      <td>1PO</td>\n",
       "      <td>Website</td>\n",
       "      <td>179875.956667</td>\n",
       "      <td>3.0</td>\n",
       "      <td>3.921738e+06</td>\n",
       "    </tr>\n",
       "    <tr>\n",
       "      <th>41</th>\n",
       "      <td>VA</td>\n",
       "      <td>3PO</td>\n",
       "      <td>DoorDash</td>\n",
       "      <td>168296.220000</td>\n",
       "      <td>3.0</td>\n",
       "      <td>1.577928e+06</td>\n",
       "    </tr>\n",
       "    <tr>\n",
       "      <th>42</th>\n",
       "      <td>VA</td>\n",
       "      <td>3PO</td>\n",
       "      <td>Grubhub</td>\n",
       "      <td>18248.270000</td>\n",
       "      <td>3.0</td>\n",
       "      <td>1.577928e+06</td>\n",
       "    </tr>\n",
       "    <tr>\n",
       "      <th>43</th>\n",
       "      <td>VA</td>\n",
       "      <td>3PO</td>\n",
       "      <td>UberEats</td>\n",
       "      <td>105601.773333</td>\n",
       "      <td>3.0</td>\n",
       "      <td>1.577928e+06</td>\n",
       "    </tr>\n",
       "  </tbody>\n",
       "</table>\n",
       "</div>"
      ],
      "text/plain": [
       "    ST channel OrderMode        revenue  store_count         total\n",
       "0   AR     1PO    Mobile  217804.880000          1.0  3.921738e+06\n",
       "1   AR     1PO   Website  111642.110000          1.0  3.921738e+06\n",
       "2   AR     3PO  DoorDash   73393.180000          1.0  1.577928e+06\n",
       "3   AR     3PO  UberEats    2787.220000          1.0  1.577928e+06\n",
       "4   KS     1PO    Mobile  289180.994286         14.0  3.921738e+06\n",
       "5   KS     1PO   Website  173604.558571         14.0  3.921738e+06\n",
       "6   KS     3PO  DoorDash   91239.170000         14.0  1.577928e+06\n",
       "7   KS     3PO   Grubhub    4452.394444         14.0  1.577928e+06\n",
       "8   KS     3PO  UberEats   14711.703571         14.0  1.577928e+06\n",
       "9   LA     1PO    Mobile  173505.980000          2.0  3.921738e+06\n",
       "10  LA     1PO   Website  125171.780000          2.0  3.921738e+06\n",
       "11  LA     3PO  DoorDash  125916.025000          2.0  1.577928e+06\n",
       "12  LA     3PO   Grubhub    2763.330000          2.0  1.577928e+06\n",
       "13  LA     3PO  UberEats   13905.685000          2.0  1.577928e+06\n",
       "14  MD     1PO    Mobile  317436.835000          6.0  3.921738e+06\n",
       "15  MD     1PO   Website  187442.713333          6.0  3.921738e+06\n",
       "16  MD     3PO  DoorDash  225798.788333          6.0  1.577928e+06\n",
       "17  MD     3PO   Grubhub   16725.091667          6.0  1.577928e+06\n",
       "18  MD     3PO  UberEats  128496.003333          6.0  1.577928e+06\n",
       "19  NC     1PO    Mobile  326226.500000          7.0  3.921738e+06\n",
       "20  NC     1PO   Website  215426.335714          7.0  3.921738e+06\n",
       "21  NC     3PO  DoorDash  162699.694286          7.0  1.577928e+06\n",
       "22  NC     3PO   Grubhub    4803.012857          7.0  1.577928e+06\n",
       "23  NC     3PO  UberEats   38747.094286          7.0  1.577928e+06\n",
       "24  NM     1PO    Mobile  326749.585000          6.0  3.921738e+06\n",
       "25  NM     1PO   Website  178915.800000          6.0  3.921738e+06\n",
       "26  NM     3PO  DoorDash  150569.290000          6.0  1.577928e+06\n",
       "27  NM     3PO   Grubhub     753.410000          6.0  1.577928e+06\n",
       "28  NM     3PO  UberEats    4637.236667          6.0  1.577928e+06\n",
       "29  OK     1PO    Mobile  297700.444118         17.0  3.921738e+06\n",
       "30  OK     1PO   Website  140918.537647         17.0  3.921738e+06\n",
       "31  OK     3PO  DoorDash  102215.340588         17.0  1.577928e+06\n",
       "32  OK     3PO   Grubhub    3214.561429         17.0  1.577928e+06\n",
       "33  OK     3PO  UberEats    7003.322353         17.0  1.577928e+06\n",
       "34  TX     1PO    Mobile  260164.847000         20.0  3.921738e+06\n",
       "35  TX     1PO   Website  147175.652500         20.0  3.921738e+06\n",
       "36  TX     3PO  DoorDash   96348.714000         20.0  1.577928e+06\n",
       "37  TX     3PO   Grubhub    2249.311429         20.0  1.577928e+06\n",
       "38  TX     3PO  UberEats   12352.589412         20.0  1.577928e+06\n",
       "39  VA     1PO    Mobile  252794.596667          3.0  3.921738e+06\n",
       "40  VA     1PO   Website  179875.956667          3.0  3.921738e+06\n",
       "41  VA     3PO  DoorDash  168296.220000          3.0  1.577928e+06\n",
       "42  VA     3PO   Grubhub   18248.270000          3.0  1.577928e+06\n",
       "43  VA     3PO  UberEats  105601.773333          3.0  1.577928e+06"
      ]
     },
     "execution_count": 387,
     "metadata": {},
     "output_type": "execute_result"
    }
   ],
   "source": [
    "mean_rev['total']=total_rev_per_channel\n",
    "mean_rev\n"
   ]
  },
  {
   "cell_type": "code",
   "execution_count": 388,
   "metadata": {},
   "outputs": [
    {
     "data": {
      "text/html": [
       "<div>\n",
       "<style scoped>\n",
       "    .dataframe tbody tr th:only-of-type {\n",
       "        vertical-align: middle;\n",
       "    }\n",
       "\n",
       "    .dataframe tbody tr th {\n",
       "        vertical-align: top;\n",
       "    }\n",
       "\n",
       "    .dataframe thead th {\n",
       "        text-align: right;\n",
       "    }\n",
       "</style>\n",
       "<table border=\"1\" class=\"dataframe\">\n",
       "  <thead>\n",
       "    <tr style=\"text-align: right;\">\n",
       "      <th></th>\n",
       "      <th>ST</th>\n",
       "      <th>channel</th>\n",
       "      <th>OrderMode</th>\n",
       "      <th>revenue</th>\n",
       "      <th>store_count</th>\n",
       "      <th>total</th>\n",
       "      <th>Mean Revenue Share(%)</th>\n",
       "    </tr>\n",
       "  </thead>\n",
       "  <tbody>\n",
       "    <tr>\n",
       "      <th>0</th>\n",
       "      <td>AR</td>\n",
       "      <td>1PO</td>\n",
       "      <td>Mobile</td>\n",
       "      <td>217804.880000</td>\n",
       "      <td>1.0</td>\n",
       "      <td>3.921738e+06</td>\n",
       "      <td>5.553784</td>\n",
       "    </tr>\n",
       "    <tr>\n",
       "      <th>1</th>\n",
       "      <td>AR</td>\n",
       "      <td>1PO</td>\n",
       "      <td>Website</td>\n",
       "      <td>111642.110000</td>\n",
       "      <td>1.0</td>\n",
       "      <td>3.921738e+06</td>\n",
       "      <td>2.846751</td>\n",
       "    </tr>\n",
       "    <tr>\n",
       "      <th>2</th>\n",
       "      <td>AR</td>\n",
       "      <td>3PO</td>\n",
       "      <td>DoorDash</td>\n",
       "      <td>73393.180000</td>\n",
       "      <td>1.0</td>\n",
       "      <td>1.577928e+06</td>\n",
       "      <td>4.651236</td>\n",
       "    </tr>\n",
       "    <tr>\n",
       "      <th>3</th>\n",
       "      <td>AR</td>\n",
       "      <td>3PO</td>\n",
       "      <td>UberEats</td>\n",
       "      <td>2787.220000</td>\n",
       "      <td>1.0</td>\n",
       "      <td>1.577928e+06</td>\n",
       "      <td>0.176638</td>\n",
       "    </tr>\n",
       "    <tr>\n",
       "      <th>4</th>\n",
       "      <td>KS</td>\n",
       "      <td>1PO</td>\n",
       "      <td>Mobile</td>\n",
       "      <td>289180.994286</td>\n",
       "      <td>14.0</td>\n",
       "      <td>3.921738e+06</td>\n",
       "      <td>7.373797</td>\n",
       "    </tr>\n",
       "    <tr>\n",
       "      <th>5</th>\n",
       "      <td>KS</td>\n",
       "      <td>1PO</td>\n",
       "      <td>Website</td>\n",
       "      <td>173604.558571</td>\n",
       "      <td>14.0</td>\n",
       "      <td>3.921738e+06</td>\n",
       "      <td>4.426725</td>\n",
       "    </tr>\n",
       "    <tr>\n",
       "      <th>6</th>\n",
       "      <td>KS</td>\n",
       "      <td>3PO</td>\n",
       "      <td>DoorDash</td>\n",
       "      <td>91239.170000</td>\n",
       "      <td>14.0</td>\n",
       "      <td>1.577928e+06</td>\n",
       "      <td>5.782212</td>\n",
       "    </tr>\n",
       "    <tr>\n",
       "      <th>7</th>\n",
       "      <td>KS</td>\n",
       "      <td>3PO</td>\n",
       "      <td>Grubhub</td>\n",
       "      <td>4452.394444</td>\n",
       "      <td>14.0</td>\n",
       "      <td>1.577928e+06</td>\n",
       "      <td>0.282167</td>\n",
       "    </tr>\n",
       "    <tr>\n",
       "      <th>8</th>\n",
       "      <td>KS</td>\n",
       "      <td>3PO</td>\n",
       "      <td>UberEats</td>\n",
       "      <td>14711.703571</td>\n",
       "      <td>14.0</td>\n",
       "      <td>1.577928e+06</td>\n",
       "      <td>0.932343</td>\n",
       "    </tr>\n",
       "    <tr>\n",
       "      <th>9</th>\n",
       "      <td>LA</td>\n",
       "      <td>1PO</td>\n",
       "      <td>Mobile</td>\n",
       "      <td>173505.980000</td>\n",
       "      <td>2.0</td>\n",
       "      <td>3.921738e+06</td>\n",
       "      <td>4.424211</td>\n",
       "    </tr>\n",
       "    <tr>\n",
       "      <th>10</th>\n",
       "      <td>LA</td>\n",
       "      <td>1PO</td>\n",
       "      <td>Website</td>\n",
       "      <td>125171.780000</td>\n",
       "      <td>2.0</td>\n",
       "      <td>3.921738e+06</td>\n",
       "      <td>3.191742</td>\n",
       "    </tr>\n",
       "    <tr>\n",
       "      <th>11</th>\n",
       "      <td>LA</td>\n",
       "      <td>3PO</td>\n",
       "      <td>DoorDash</td>\n",
       "      <td>125916.025000</td>\n",
       "      <td>2.0</td>\n",
       "      <td>1.577928e+06</td>\n",
       "      <td>7.979831</td>\n",
       "    </tr>\n",
       "    <tr>\n",
       "      <th>12</th>\n",
       "      <td>LA</td>\n",
       "      <td>3PO</td>\n",
       "      <td>Grubhub</td>\n",
       "      <td>2763.330000</td>\n",
       "      <td>2.0</td>\n",
       "      <td>1.577928e+06</td>\n",
       "      <td>0.175124</td>\n",
       "    </tr>\n",
       "    <tr>\n",
       "      <th>13</th>\n",
       "      <td>LA</td>\n",
       "      <td>3PO</td>\n",
       "      <td>UberEats</td>\n",
       "      <td>13905.685000</td>\n",
       "      <td>2.0</td>\n",
       "      <td>1.577928e+06</td>\n",
       "      <td>0.881262</td>\n",
       "    </tr>\n",
       "    <tr>\n",
       "      <th>14</th>\n",
       "      <td>MD</td>\n",
       "      <td>1PO</td>\n",
       "      <td>Mobile</td>\n",
       "      <td>317436.835000</td>\n",
       "      <td>6.0</td>\n",
       "      <td>3.921738e+06</td>\n",
       "      <td>8.094289</td>\n",
       "    </tr>\n",
       "    <tr>\n",
       "      <th>15</th>\n",
       "      <td>MD</td>\n",
       "      <td>1PO</td>\n",
       "      <td>Website</td>\n",
       "      <td>187442.713333</td>\n",
       "      <td>6.0</td>\n",
       "      <td>3.921738e+06</td>\n",
       "      <td>4.779583</td>\n",
       "    </tr>\n",
       "    <tr>\n",
       "      <th>16</th>\n",
       "      <td>MD</td>\n",
       "      <td>3PO</td>\n",
       "      <td>DoorDash</td>\n",
       "      <td>225798.788333</td>\n",
       "      <td>6.0</td>\n",
       "      <td>1.577928e+06</td>\n",
       "      <td>14.309824</td>\n",
       "    </tr>\n",
       "    <tr>\n",
       "      <th>17</th>\n",
       "      <td>MD</td>\n",
       "      <td>3PO</td>\n",
       "      <td>Grubhub</td>\n",
       "      <td>16725.091667</td>\n",
       "      <td>6.0</td>\n",
       "      <td>1.577928e+06</td>\n",
       "      <td>1.059940</td>\n",
       "    </tr>\n",
       "    <tr>\n",
       "      <th>18</th>\n",
       "      <td>MD</td>\n",
       "      <td>3PO</td>\n",
       "      <td>UberEats</td>\n",
       "      <td>128496.003333</td>\n",
       "      <td>6.0</td>\n",
       "      <td>1.577928e+06</td>\n",
       "      <td>8.143335</td>\n",
       "    </tr>\n",
       "    <tr>\n",
       "      <th>19</th>\n",
       "      <td>NC</td>\n",
       "      <td>1PO</td>\n",
       "      <td>Mobile</td>\n",
       "      <td>326226.500000</td>\n",
       "      <td>7.0</td>\n",
       "      <td>3.921738e+06</td>\n",
       "      <td>8.318416</td>\n",
       "    </tr>\n",
       "    <tr>\n",
       "      <th>20</th>\n",
       "      <td>NC</td>\n",
       "      <td>1PO</td>\n",
       "      <td>Website</td>\n",
       "      <td>215426.335714</td>\n",
       "      <td>7.0</td>\n",
       "      <td>3.921738e+06</td>\n",
       "      <td>5.493134</td>\n",
       "    </tr>\n",
       "    <tr>\n",
       "      <th>21</th>\n",
       "      <td>NC</td>\n",
       "      <td>3PO</td>\n",
       "      <td>DoorDash</td>\n",
       "      <td>162699.694286</td>\n",
       "      <td>7.0</td>\n",
       "      <td>1.577928e+06</td>\n",
       "      <td>10.310968</td>\n",
       "    </tr>\n",
       "    <tr>\n",
       "      <th>22</th>\n",
       "      <td>NC</td>\n",
       "      <td>3PO</td>\n",
       "      <td>Grubhub</td>\n",
       "      <td>4803.012857</td>\n",
       "      <td>7.0</td>\n",
       "      <td>1.577928e+06</td>\n",
       "      <td>0.304387</td>\n",
       "    </tr>\n",
       "    <tr>\n",
       "      <th>23</th>\n",
       "      <td>NC</td>\n",
       "      <td>3PO</td>\n",
       "      <td>UberEats</td>\n",
       "      <td>38747.094286</td>\n",
       "      <td>7.0</td>\n",
       "      <td>1.577928e+06</td>\n",
       "      <td>2.455567</td>\n",
       "    </tr>\n",
       "    <tr>\n",
       "      <th>24</th>\n",
       "      <td>NM</td>\n",
       "      <td>1PO</td>\n",
       "      <td>Mobile</td>\n",
       "      <td>326749.585000</td>\n",
       "      <td>6.0</td>\n",
       "      <td>3.921738e+06</td>\n",
       "      <td>8.331754</td>\n",
       "    </tr>\n",
       "    <tr>\n",
       "      <th>25</th>\n",
       "      <td>NM</td>\n",
       "      <td>1PO</td>\n",
       "      <td>Website</td>\n",
       "      <td>178915.800000</td>\n",
       "      <td>6.0</td>\n",
       "      <td>3.921738e+06</td>\n",
       "      <td>4.562156</td>\n",
       "    </tr>\n",
       "    <tr>\n",
       "      <th>26</th>\n",
       "      <td>NM</td>\n",
       "      <td>3PO</td>\n",
       "      <td>DoorDash</td>\n",
       "      <td>150569.290000</td>\n",
       "      <td>6.0</td>\n",
       "      <td>1.577928e+06</td>\n",
       "      <td>9.542213</td>\n",
       "    </tr>\n",
       "    <tr>\n",
       "      <th>27</th>\n",
       "      <td>NM</td>\n",
       "      <td>3PO</td>\n",
       "      <td>Grubhub</td>\n",
       "      <td>753.410000</td>\n",
       "      <td>6.0</td>\n",
       "      <td>1.577928e+06</td>\n",
       "      <td>0.047747</td>\n",
       "    </tr>\n",
       "    <tr>\n",
       "      <th>28</th>\n",
       "      <td>NM</td>\n",
       "      <td>3PO</td>\n",
       "      <td>UberEats</td>\n",
       "      <td>4637.236667</td>\n",
       "      <td>6.0</td>\n",
       "      <td>1.577928e+06</td>\n",
       "      <td>0.293881</td>\n",
       "    </tr>\n",
       "    <tr>\n",
       "      <th>29</th>\n",
       "      <td>OK</td>\n",
       "      <td>1PO</td>\n",
       "      <td>Mobile</td>\n",
       "      <td>297700.444118</td>\n",
       "      <td>17.0</td>\n",
       "      <td>3.921738e+06</td>\n",
       "      <td>7.591033</td>\n",
       "    </tr>\n",
       "    <tr>\n",
       "      <th>30</th>\n",
       "      <td>OK</td>\n",
       "      <td>1PO</td>\n",
       "      <td>Website</td>\n",
       "      <td>140918.537647</td>\n",
       "      <td>17.0</td>\n",
       "      <td>3.921738e+06</td>\n",
       "      <td>3.593267</td>\n",
       "    </tr>\n",
       "    <tr>\n",
       "      <th>31</th>\n",
       "      <td>OK</td>\n",
       "      <td>3PO</td>\n",
       "      <td>DoorDash</td>\n",
       "      <td>102215.340588</td>\n",
       "      <td>17.0</td>\n",
       "      <td>1.577928e+06</td>\n",
       "      <td>6.477819</td>\n",
       "    </tr>\n",
       "    <tr>\n",
       "      <th>32</th>\n",
       "      <td>OK</td>\n",
       "      <td>3PO</td>\n",
       "      <td>Grubhub</td>\n",
       "      <td>3214.561429</td>\n",
       "      <td>17.0</td>\n",
       "      <td>1.577928e+06</td>\n",
       "      <td>0.203720</td>\n",
       "    </tr>\n",
       "    <tr>\n",
       "      <th>33</th>\n",
       "      <td>OK</td>\n",
       "      <td>3PO</td>\n",
       "      <td>UberEats</td>\n",
       "      <td>7003.322353</td>\n",
       "      <td>17.0</td>\n",
       "      <td>1.577928e+06</td>\n",
       "      <td>0.443830</td>\n",
       "    </tr>\n",
       "    <tr>\n",
       "      <th>34</th>\n",
       "      <td>TX</td>\n",
       "      <td>1PO</td>\n",
       "      <td>Mobile</td>\n",
       "      <td>260164.847000</td>\n",
       "      <td>20.0</td>\n",
       "      <td>3.921738e+06</td>\n",
       "      <td>6.633917</td>\n",
       "    </tr>\n",
       "    <tr>\n",
       "      <th>35</th>\n",
       "      <td>TX</td>\n",
       "      <td>1PO</td>\n",
       "      <td>Website</td>\n",
       "      <td>147175.652500</td>\n",
       "      <td>20.0</td>\n",
       "      <td>3.921738e+06</td>\n",
       "      <td>3.752817</td>\n",
       "    </tr>\n",
       "    <tr>\n",
       "      <th>36</th>\n",
       "      <td>TX</td>\n",
       "      <td>3PO</td>\n",
       "      <td>DoorDash</td>\n",
       "      <td>96348.714000</td>\n",
       "      <td>20.0</td>\n",
       "      <td>1.577928e+06</td>\n",
       "      <td>6.106026</td>\n",
       "    </tr>\n",
       "    <tr>\n",
       "      <th>37</th>\n",
       "      <td>TX</td>\n",
       "      <td>3PO</td>\n",
       "      <td>Grubhub</td>\n",
       "      <td>2249.311429</td>\n",
       "      <td>20.0</td>\n",
       "      <td>1.577928e+06</td>\n",
       "      <td>0.142548</td>\n",
       "    </tr>\n",
       "    <tr>\n",
       "      <th>38</th>\n",
       "      <td>TX</td>\n",
       "      <td>3PO</td>\n",
       "      <td>UberEats</td>\n",
       "      <td>12352.589412</td>\n",
       "      <td>20.0</td>\n",
       "      <td>1.577928e+06</td>\n",
       "      <td>0.782836</td>\n",
       "    </tr>\n",
       "    <tr>\n",
       "      <th>39</th>\n",
       "      <td>VA</td>\n",
       "      <td>1PO</td>\n",
       "      <td>Mobile</td>\n",
       "      <td>252794.596667</td>\n",
       "      <td>3.0</td>\n",
       "      <td>3.921738e+06</td>\n",
       "      <td>6.445984</td>\n",
       "    </tr>\n",
       "    <tr>\n",
       "      <th>40</th>\n",
       "      <td>VA</td>\n",
       "      <td>1PO</td>\n",
       "      <td>Website</td>\n",
       "      <td>179875.956667</td>\n",
       "      <td>3.0</td>\n",
       "      <td>3.921738e+06</td>\n",
       "      <td>4.586639</td>\n",
       "    </tr>\n",
       "    <tr>\n",
       "      <th>41</th>\n",
       "      <td>VA</td>\n",
       "      <td>3PO</td>\n",
       "      <td>DoorDash</td>\n",
       "      <td>168296.220000</td>\n",
       "      <td>3.0</td>\n",
       "      <td>1.577928e+06</td>\n",
       "      <td>10.665643</td>\n",
       "    </tr>\n",
       "    <tr>\n",
       "      <th>42</th>\n",
       "      <td>VA</td>\n",
       "      <td>3PO</td>\n",
       "      <td>Grubhub</td>\n",
       "      <td>18248.270000</td>\n",
       "      <td>3.0</td>\n",
       "      <td>1.577928e+06</td>\n",
       "      <td>1.156470</td>\n",
       "    </tr>\n",
       "    <tr>\n",
       "      <th>43</th>\n",
       "      <td>VA</td>\n",
       "      <td>3PO</td>\n",
       "      <td>UberEats</td>\n",
       "      <td>105601.773333</td>\n",
       "      <td>3.0</td>\n",
       "      <td>1.577928e+06</td>\n",
       "      <td>6.692431</td>\n",
       "    </tr>\n",
       "  </tbody>\n",
       "</table>\n",
       "</div>"
      ],
      "text/plain": [
       "    ST channel OrderMode        revenue  store_count         total  \\\n",
       "0   AR     1PO    Mobile  217804.880000          1.0  3.921738e+06   \n",
       "1   AR     1PO   Website  111642.110000          1.0  3.921738e+06   \n",
       "2   AR     3PO  DoorDash   73393.180000          1.0  1.577928e+06   \n",
       "3   AR     3PO  UberEats    2787.220000          1.0  1.577928e+06   \n",
       "4   KS     1PO    Mobile  289180.994286         14.0  3.921738e+06   \n",
       "5   KS     1PO   Website  173604.558571         14.0  3.921738e+06   \n",
       "6   KS     3PO  DoorDash   91239.170000         14.0  1.577928e+06   \n",
       "7   KS     3PO   Grubhub    4452.394444         14.0  1.577928e+06   \n",
       "8   KS     3PO  UberEats   14711.703571         14.0  1.577928e+06   \n",
       "9   LA     1PO    Mobile  173505.980000          2.0  3.921738e+06   \n",
       "10  LA     1PO   Website  125171.780000          2.0  3.921738e+06   \n",
       "11  LA     3PO  DoorDash  125916.025000          2.0  1.577928e+06   \n",
       "12  LA     3PO   Grubhub    2763.330000          2.0  1.577928e+06   \n",
       "13  LA     3PO  UberEats   13905.685000          2.0  1.577928e+06   \n",
       "14  MD     1PO    Mobile  317436.835000          6.0  3.921738e+06   \n",
       "15  MD     1PO   Website  187442.713333          6.0  3.921738e+06   \n",
       "16  MD     3PO  DoorDash  225798.788333          6.0  1.577928e+06   \n",
       "17  MD     3PO   Grubhub   16725.091667          6.0  1.577928e+06   \n",
       "18  MD     3PO  UberEats  128496.003333          6.0  1.577928e+06   \n",
       "19  NC     1PO    Mobile  326226.500000          7.0  3.921738e+06   \n",
       "20  NC     1PO   Website  215426.335714          7.0  3.921738e+06   \n",
       "21  NC     3PO  DoorDash  162699.694286          7.0  1.577928e+06   \n",
       "22  NC     3PO   Grubhub    4803.012857          7.0  1.577928e+06   \n",
       "23  NC     3PO  UberEats   38747.094286          7.0  1.577928e+06   \n",
       "24  NM     1PO    Mobile  326749.585000          6.0  3.921738e+06   \n",
       "25  NM     1PO   Website  178915.800000          6.0  3.921738e+06   \n",
       "26  NM     3PO  DoorDash  150569.290000          6.0  1.577928e+06   \n",
       "27  NM     3PO   Grubhub     753.410000          6.0  1.577928e+06   \n",
       "28  NM     3PO  UberEats    4637.236667          6.0  1.577928e+06   \n",
       "29  OK     1PO    Mobile  297700.444118         17.0  3.921738e+06   \n",
       "30  OK     1PO   Website  140918.537647         17.0  3.921738e+06   \n",
       "31  OK     3PO  DoorDash  102215.340588         17.0  1.577928e+06   \n",
       "32  OK     3PO   Grubhub    3214.561429         17.0  1.577928e+06   \n",
       "33  OK     3PO  UberEats    7003.322353         17.0  1.577928e+06   \n",
       "34  TX     1PO    Mobile  260164.847000         20.0  3.921738e+06   \n",
       "35  TX     1PO   Website  147175.652500         20.0  3.921738e+06   \n",
       "36  TX     3PO  DoorDash   96348.714000         20.0  1.577928e+06   \n",
       "37  TX     3PO   Grubhub    2249.311429         20.0  1.577928e+06   \n",
       "38  TX     3PO  UberEats   12352.589412         20.0  1.577928e+06   \n",
       "39  VA     1PO    Mobile  252794.596667          3.0  3.921738e+06   \n",
       "40  VA     1PO   Website  179875.956667          3.0  3.921738e+06   \n",
       "41  VA     3PO  DoorDash  168296.220000          3.0  1.577928e+06   \n",
       "42  VA     3PO   Grubhub   18248.270000          3.0  1.577928e+06   \n",
       "43  VA     3PO  UberEats  105601.773333          3.0  1.577928e+06   \n",
       "\n",
       "    Mean Revenue Share(%)  \n",
       "0                5.553784  \n",
       "1                2.846751  \n",
       "2                4.651236  \n",
       "3                0.176638  \n",
       "4                7.373797  \n",
       "5                4.426725  \n",
       "6                5.782212  \n",
       "7                0.282167  \n",
       "8                0.932343  \n",
       "9                4.424211  \n",
       "10               3.191742  \n",
       "11               7.979831  \n",
       "12               0.175124  \n",
       "13               0.881262  \n",
       "14               8.094289  \n",
       "15               4.779583  \n",
       "16              14.309824  \n",
       "17               1.059940  \n",
       "18               8.143335  \n",
       "19               8.318416  \n",
       "20               5.493134  \n",
       "21              10.310968  \n",
       "22               0.304387  \n",
       "23               2.455567  \n",
       "24               8.331754  \n",
       "25               4.562156  \n",
       "26               9.542213  \n",
       "27               0.047747  \n",
       "28               0.293881  \n",
       "29               7.591033  \n",
       "30               3.593267  \n",
       "31               6.477819  \n",
       "32               0.203720  \n",
       "33               0.443830  \n",
       "34               6.633917  \n",
       "35               3.752817  \n",
       "36               6.106026  \n",
       "37               0.142548  \n",
       "38               0.782836  \n",
       "39               6.445984  \n",
       "40               4.586639  \n",
       "41              10.665643  \n",
       "42               1.156470  \n",
       "43               6.692431  "
      ]
     },
     "execution_count": 388,
     "metadata": {},
     "output_type": "execute_result"
    }
   ],
   "source": [
    "mean_rev['Mean Revenue Share(%)']=(mean_rev['revenue']/mean_rev['total'])*100\n",
    "mean_rev\n"
   ]
  },
  {
   "cell_type": "code",
   "execution_count": 389,
   "metadata": {},
   "outputs": [
    {
     "data": {
      "application/vnd.plotly.v1+json": {
       "config": {
        "plotlyServerURL": "https://plot.ly"
       },
       "data": [
        {
         "alignmentgroup": "True",
         "hovertemplate": "OrderMode=Mobile<br>channel=1PO<br>State=%{x}<br>Mean Revenue Share(%)=%{y}<br>revenue_share_label=%{text}<extra></extra>",
         "legendgroup": "Mobile",
         "marker": {
          "color": "#636efa",
          "pattern": {
           "shape": ""
          }
         },
         "name": "Mobile",
         "offsetgroup": "Mobile",
         "orientation": "v",
         "showlegend": true,
         "text": [
          "5.6%",
          "7.4%",
          "4.4%",
          "8.1%",
          "8.3%",
          "8.3%",
          "7.6%",
          "6.6%",
          "6.4%"
         ],
         "textposition": "auto",
         "type": "bar",
         "x": [
          "AR",
          "KS",
          "LA",
          "MD",
          "NC",
          "NM",
          "OK",
          "TX",
          "VA"
         ],
         "xaxis": "x2",
         "y": [
          5.553784421219982,
          7.37379667974796,
          4.424211288160789,
          8.094289480310895,
          8.318416251688756,
          8.33175434275436,
          7.591033262114498,
          6.633916899463774,
          6.445983637905273
         ],
         "yaxis": "y2"
        },
        {
         "alignmentgroup": "True",
         "hovertemplate": "OrderMode=Website<br>channel=1PO<br>State=%{x}<br>Mean Revenue Share(%)=%{y}<br>revenue_share_label=%{text}<extra></extra>",
         "legendgroup": "Website",
         "marker": {
          "color": "#EF553B",
          "pattern": {
           "shape": ""
          }
         },
         "name": "Website",
         "offsetgroup": "Website",
         "orientation": "v",
         "showlegend": true,
         "text": [
          "2.8%",
          "4.4%",
          "3.2%",
          "4.8%",
          "5.5%",
          "4.6%",
          "3.6%",
          "3.8%",
          "4.6%"
         ],
         "textposition": "auto",
         "type": "bar",
         "x": [
          "AR",
          "KS",
          "LA",
          "MD",
          "NC",
          "NM",
          "OK",
          "TX",
          "VA"
         ],
         "xaxis": "x2",
         "y": [
          2.8467507765212976,
          4.426724933099625,
          3.1917424519614777,
          4.779582630021284,
          5.4931341630660695,
          4.562155736593734,
          3.593267419193441,
          3.75281695266601,
          4.586638673510777
         ],
         "yaxis": "y2"
        },
        {
         "alignmentgroup": "True",
         "hovertemplate": "OrderMode=DoorDash<br>channel=3PO<br>State=%{x}<br>Mean Revenue Share(%)=%{y}<br>revenue_share_label=%{text}<extra></extra>",
         "legendgroup": "DoorDash",
         "marker": {
          "color": "#00cc96",
          "pattern": {
           "shape": ""
          }
         },
         "name": "DoorDash",
         "offsetgroup": "DoorDash",
         "orientation": "v",
         "showlegend": true,
         "text": [
          "4.7%",
          "5.8%",
          "8.0%",
          "14.3%",
          "10.3%",
          "9.5%",
          "6.5%",
          "6.1%",
          "10.7%"
         ],
         "textposition": "auto",
         "type": "bar",
         "x": [
          "AR",
          "KS",
          "LA",
          "MD",
          "NC",
          "NM",
          "OK",
          "TX",
          "VA"
         ],
         "xaxis": "x",
         "y": [
          4.651236298945437,
          5.782212180881842,
          7.979831179122107,
          14.309824435375292,
          10.31096791131056,
          9.542212875289536,
          6.477818544625956,
          6.106025599565416,
          10.66564342135478
         ],
         "yaxis": "y"
        },
        {
         "alignmentgroup": "True",
         "hovertemplate": "OrderMode=UberEats<br>channel=3PO<br>State=%{x}<br>Mean Revenue Share(%)=%{y}<br>revenue_share_label=%{text}<extra></extra>",
         "legendgroup": "UberEats",
         "marker": {
          "color": "#ab63fa",
          "pattern": {
           "shape": ""
          }
         },
         "name": "UberEats",
         "offsetgroup": "UberEats",
         "orientation": "v",
         "showlegend": true,
         "text": [
          "0.2%",
          "0.9%",
          "0.9%",
          "8.1%",
          "2.5%",
          "0.3%",
          "0.4%",
          "0.8%",
          "6.7%"
         ],
         "textposition": "auto",
         "type": "bar",
         "x": [
          "AR",
          "KS",
          "LA",
          "MD",
          "NC",
          "NM",
          "OK",
          "TX",
          "VA"
         ],
         "xaxis": "x",
         "y": [
          0.17663792244928894,
          0.9323428916794968,
          0.8812620850288962,
          8.143335320440045,
          2.455567280507203,
          0.29388130492234765,
          0.4438301643451882,
          0.7828358473903038,
          6.692431113640372
         ],
         "yaxis": "y"
        },
        {
         "alignmentgroup": "True",
         "hovertemplate": "OrderMode=Grubhub<br>channel=3PO<br>State=%{x}<br>Mean Revenue Share(%)=%{y}<br>revenue_share_label=%{text}<extra></extra>",
         "legendgroup": "Grubhub",
         "marker": {
          "color": "#FFA15A",
          "pattern": {
           "shape": ""
          }
         },
         "name": "Grubhub",
         "offsetgroup": "Grubhub",
         "orientation": "v",
         "showlegend": true,
         "text": [
          "0.3%",
          "0.2%",
          "1.1%",
          "0.3%",
          "0.0%",
          "0.2%",
          "0.1%",
          "1.2%"
         ],
         "textposition": "auto",
         "type": "bar",
         "x": [
          "KS",
          "LA",
          "MD",
          "NC",
          "NM",
          "OK",
          "TX",
          "VA"
         ],
         "xaxis": "x",
         "y": [
          0.2821670713439997,
          0.17512391208508607,
          1.0599398127072548,
          0.30438724341205137,
          0.04774677892398834,
          0.20372035660208934,
          0.14254838071063616,
          1.1564700673408221
         ],
         "yaxis": "y"
        }
       ],
       "layout": {
        "annotations": [
         {
          "font": {},
          "showarrow": false,
          "text": "channel=3PO",
          "textangle": 90,
          "x": 0.98,
          "xanchor": "left",
          "xref": "paper",
          "y": 0.2425,
          "yanchor": "middle",
          "yref": "paper"
         },
         {
          "font": {},
          "showarrow": false,
          "text": "channel=1PO",
          "textangle": 90,
          "x": 0.98,
          "xanchor": "left",
          "xref": "paper",
          "y": 0.7575000000000001,
          "yanchor": "middle",
          "yref": "paper"
         }
        ],
        "barmode": "relative",
        "font": {
         "size": 10
        },
        "height": 700,
        "legend": {
         "font": {
          "size": 10
         },
         "title": {
          "font": {
           "size": 12
          },
          "text": "OrderMode"
         },
         "tracegroupgap": 0
        },
        "showlegend": true,
        "template": {
         "data": {
          "bar": [
           {
            "error_x": {
             "color": "#2a3f5f"
            },
            "error_y": {
             "color": "#2a3f5f"
            },
            "marker": {
             "line": {
              "color": "#E5ECF6",
              "width": 0.5
             },
             "pattern": {
              "fillmode": "overlay",
              "size": 10,
              "solidity": 0.2
             }
            },
            "type": "bar"
           }
          ],
          "barpolar": [
           {
            "marker": {
             "line": {
              "color": "#E5ECF6",
              "width": 0.5
             },
             "pattern": {
              "fillmode": "overlay",
              "size": 10,
              "solidity": 0.2
             }
            },
            "type": "barpolar"
           }
          ],
          "carpet": [
           {
            "aaxis": {
             "endlinecolor": "#2a3f5f",
             "gridcolor": "white",
             "linecolor": "white",
             "minorgridcolor": "white",
             "startlinecolor": "#2a3f5f"
            },
            "baxis": {
             "endlinecolor": "#2a3f5f",
             "gridcolor": "white",
             "linecolor": "white",
             "minorgridcolor": "white",
             "startlinecolor": "#2a3f5f"
            },
            "type": "carpet"
           }
          ],
          "choropleth": [
           {
            "colorbar": {
             "outlinewidth": 0,
             "ticks": ""
            },
            "type": "choropleth"
           }
          ],
          "contour": [
           {
            "colorbar": {
             "outlinewidth": 0,
             "ticks": ""
            },
            "colorscale": [
             [
              0,
              "#0d0887"
             ],
             [
              0.1111111111111111,
              "#46039f"
             ],
             [
              0.2222222222222222,
              "#7201a8"
             ],
             [
              0.3333333333333333,
              "#9c179e"
             ],
             [
              0.4444444444444444,
              "#bd3786"
             ],
             [
              0.5555555555555556,
              "#d8576b"
             ],
             [
              0.6666666666666666,
              "#ed7953"
             ],
             [
              0.7777777777777778,
              "#fb9f3a"
             ],
             [
              0.8888888888888888,
              "#fdca26"
             ],
             [
              1,
              "#f0f921"
             ]
            ],
            "type": "contour"
           }
          ],
          "contourcarpet": [
           {
            "colorbar": {
             "outlinewidth": 0,
             "ticks": ""
            },
            "type": "contourcarpet"
           }
          ],
          "heatmap": [
           {
            "colorbar": {
             "outlinewidth": 0,
             "ticks": ""
            },
            "colorscale": [
             [
              0,
              "#0d0887"
             ],
             [
              0.1111111111111111,
              "#46039f"
             ],
             [
              0.2222222222222222,
              "#7201a8"
             ],
             [
              0.3333333333333333,
              "#9c179e"
             ],
             [
              0.4444444444444444,
              "#bd3786"
             ],
             [
              0.5555555555555556,
              "#d8576b"
             ],
             [
              0.6666666666666666,
              "#ed7953"
             ],
             [
              0.7777777777777778,
              "#fb9f3a"
             ],
             [
              0.8888888888888888,
              "#fdca26"
             ],
             [
              1,
              "#f0f921"
             ]
            ],
            "type": "heatmap"
           }
          ],
          "heatmapgl": [
           {
            "colorbar": {
             "outlinewidth": 0,
             "ticks": ""
            },
            "colorscale": [
             [
              0,
              "#0d0887"
             ],
             [
              0.1111111111111111,
              "#46039f"
             ],
             [
              0.2222222222222222,
              "#7201a8"
             ],
             [
              0.3333333333333333,
              "#9c179e"
             ],
             [
              0.4444444444444444,
              "#bd3786"
             ],
             [
              0.5555555555555556,
              "#d8576b"
             ],
             [
              0.6666666666666666,
              "#ed7953"
             ],
             [
              0.7777777777777778,
              "#fb9f3a"
             ],
             [
              0.8888888888888888,
              "#fdca26"
             ],
             [
              1,
              "#f0f921"
             ]
            ],
            "type": "heatmapgl"
           }
          ],
          "histogram": [
           {
            "marker": {
             "pattern": {
              "fillmode": "overlay",
              "size": 10,
              "solidity": 0.2
             }
            },
            "type": "histogram"
           }
          ],
          "histogram2d": [
           {
            "colorbar": {
             "outlinewidth": 0,
             "ticks": ""
            },
            "colorscale": [
             [
              0,
              "#0d0887"
             ],
             [
              0.1111111111111111,
              "#46039f"
             ],
             [
              0.2222222222222222,
              "#7201a8"
             ],
             [
              0.3333333333333333,
              "#9c179e"
             ],
             [
              0.4444444444444444,
              "#bd3786"
             ],
             [
              0.5555555555555556,
              "#d8576b"
             ],
             [
              0.6666666666666666,
              "#ed7953"
             ],
             [
              0.7777777777777778,
              "#fb9f3a"
             ],
             [
              0.8888888888888888,
              "#fdca26"
             ],
             [
              1,
              "#f0f921"
             ]
            ],
            "type": "histogram2d"
           }
          ],
          "histogram2dcontour": [
           {
            "colorbar": {
             "outlinewidth": 0,
             "ticks": ""
            },
            "colorscale": [
             [
              0,
              "#0d0887"
             ],
             [
              0.1111111111111111,
              "#46039f"
             ],
             [
              0.2222222222222222,
              "#7201a8"
             ],
             [
              0.3333333333333333,
              "#9c179e"
             ],
             [
              0.4444444444444444,
              "#bd3786"
             ],
             [
              0.5555555555555556,
              "#d8576b"
             ],
             [
              0.6666666666666666,
              "#ed7953"
             ],
             [
              0.7777777777777778,
              "#fb9f3a"
             ],
             [
              0.8888888888888888,
              "#fdca26"
             ],
             [
              1,
              "#f0f921"
             ]
            ],
            "type": "histogram2dcontour"
           }
          ],
          "mesh3d": [
           {
            "colorbar": {
             "outlinewidth": 0,
             "ticks": ""
            },
            "type": "mesh3d"
           }
          ],
          "parcoords": [
           {
            "line": {
             "colorbar": {
              "outlinewidth": 0,
              "ticks": ""
             }
            },
            "type": "parcoords"
           }
          ],
          "pie": [
           {
            "automargin": true,
            "type": "pie"
           }
          ],
          "scatter": [
           {
            "fillpattern": {
             "fillmode": "overlay",
             "size": 10,
             "solidity": 0.2
            },
            "type": "scatter"
           }
          ],
          "scatter3d": [
           {
            "line": {
             "colorbar": {
              "outlinewidth": 0,
              "ticks": ""
             }
            },
            "marker": {
             "colorbar": {
              "outlinewidth": 0,
              "ticks": ""
             }
            },
            "type": "scatter3d"
           }
          ],
          "scattercarpet": [
           {
            "marker": {
             "colorbar": {
              "outlinewidth": 0,
              "ticks": ""
             }
            },
            "type": "scattercarpet"
           }
          ],
          "scattergeo": [
           {
            "marker": {
             "colorbar": {
              "outlinewidth": 0,
              "ticks": ""
             }
            },
            "type": "scattergeo"
           }
          ],
          "scattergl": [
           {
            "marker": {
             "colorbar": {
              "outlinewidth": 0,
              "ticks": ""
             }
            },
            "type": "scattergl"
           }
          ],
          "scattermapbox": [
           {
            "marker": {
             "colorbar": {
              "outlinewidth": 0,
              "ticks": ""
             }
            },
            "type": "scattermapbox"
           }
          ],
          "scatterpolar": [
           {
            "marker": {
             "colorbar": {
              "outlinewidth": 0,
              "ticks": ""
             }
            },
            "type": "scatterpolar"
           }
          ],
          "scatterpolargl": [
           {
            "marker": {
             "colorbar": {
              "outlinewidth": 0,
              "ticks": ""
             }
            },
            "type": "scatterpolargl"
           }
          ],
          "scatterternary": [
           {
            "marker": {
             "colorbar": {
              "outlinewidth": 0,
              "ticks": ""
             }
            },
            "type": "scatterternary"
           }
          ],
          "surface": [
           {
            "colorbar": {
             "outlinewidth": 0,
             "ticks": ""
            },
            "colorscale": [
             [
              0,
              "#0d0887"
             ],
             [
              0.1111111111111111,
              "#46039f"
             ],
             [
              0.2222222222222222,
              "#7201a8"
             ],
             [
              0.3333333333333333,
              "#9c179e"
             ],
             [
              0.4444444444444444,
              "#bd3786"
             ],
             [
              0.5555555555555556,
              "#d8576b"
             ],
             [
              0.6666666666666666,
              "#ed7953"
             ],
             [
              0.7777777777777778,
              "#fb9f3a"
             ],
             [
              0.8888888888888888,
              "#fdca26"
             ],
             [
              1,
              "#f0f921"
             ]
            ],
            "type": "surface"
           }
          ],
          "table": [
           {
            "cells": {
             "fill": {
              "color": "#EBF0F8"
             },
             "line": {
              "color": "white"
             }
            },
            "header": {
             "fill": {
              "color": "#C8D4E3"
             },
             "line": {
              "color": "white"
             }
            },
            "type": "table"
           }
          ]
         },
         "layout": {
          "annotationdefaults": {
           "arrowcolor": "#2a3f5f",
           "arrowhead": 0,
           "arrowwidth": 1
          },
          "autotypenumbers": "strict",
          "coloraxis": {
           "colorbar": {
            "outlinewidth": 0,
            "ticks": ""
           }
          },
          "colorscale": {
           "diverging": [
            [
             0,
             "#8e0152"
            ],
            [
             0.1,
             "#c51b7d"
            ],
            [
             0.2,
             "#de77ae"
            ],
            [
             0.3,
             "#f1b6da"
            ],
            [
             0.4,
             "#fde0ef"
            ],
            [
             0.5,
             "#f7f7f7"
            ],
            [
             0.6,
             "#e6f5d0"
            ],
            [
             0.7,
             "#b8e186"
            ],
            [
             0.8,
             "#7fbc41"
            ],
            [
             0.9,
             "#4d9221"
            ],
            [
             1,
             "#276419"
            ]
           ],
           "sequential": [
            [
             0,
             "#0d0887"
            ],
            [
             0.1111111111111111,
             "#46039f"
            ],
            [
             0.2222222222222222,
             "#7201a8"
            ],
            [
             0.3333333333333333,
             "#9c179e"
            ],
            [
             0.4444444444444444,
             "#bd3786"
            ],
            [
             0.5555555555555556,
             "#d8576b"
            ],
            [
             0.6666666666666666,
             "#ed7953"
            ],
            [
             0.7777777777777778,
             "#fb9f3a"
            ],
            [
             0.8888888888888888,
             "#fdca26"
            ],
            [
             1,
             "#f0f921"
            ]
           ],
           "sequentialminus": [
            [
             0,
             "#0d0887"
            ],
            [
             0.1111111111111111,
             "#46039f"
            ],
            [
             0.2222222222222222,
             "#7201a8"
            ],
            [
             0.3333333333333333,
             "#9c179e"
            ],
            [
             0.4444444444444444,
             "#bd3786"
            ],
            [
             0.5555555555555556,
             "#d8576b"
            ],
            [
             0.6666666666666666,
             "#ed7953"
            ],
            [
             0.7777777777777778,
             "#fb9f3a"
            ],
            [
             0.8888888888888888,
             "#fdca26"
            ],
            [
             1,
             "#f0f921"
            ]
           ]
          },
          "colorway": [
           "#636efa",
           "#EF553B",
           "#00cc96",
           "#ab63fa",
           "#FFA15A",
           "#19d3f3",
           "#FF6692",
           "#B6E880",
           "#FF97FF",
           "#FECB52"
          ],
          "font": {
           "color": "#2a3f5f"
          },
          "geo": {
           "bgcolor": "white",
           "lakecolor": "white",
           "landcolor": "#E5ECF6",
           "showlakes": true,
           "showland": true,
           "subunitcolor": "white"
          },
          "hoverlabel": {
           "align": "left"
          },
          "hovermode": "closest",
          "mapbox": {
           "style": "light"
          },
          "paper_bgcolor": "white",
          "plot_bgcolor": "#E5ECF6",
          "polar": {
           "angularaxis": {
            "gridcolor": "white",
            "linecolor": "white",
            "ticks": ""
           },
           "bgcolor": "#E5ECF6",
           "radialaxis": {
            "gridcolor": "white",
            "linecolor": "white",
            "ticks": ""
           }
          },
          "scene": {
           "xaxis": {
            "backgroundcolor": "#E5ECF6",
            "gridcolor": "white",
            "gridwidth": 2,
            "linecolor": "white",
            "showbackground": true,
            "ticks": "",
            "zerolinecolor": "white"
           },
           "yaxis": {
            "backgroundcolor": "#E5ECF6",
            "gridcolor": "white",
            "gridwidth": 2,
            "linecolor": "white",
            "showbackground": true,
            "ticks": "",
            "zerolinecolor": "white"
           },
           "zaxis": {
            "backgroundcolor": "#E5ECF6",
            "gridcolor": "white",
            "gridwidth": 2,
            "linecolor": "white",
            "showbackground": true,
            "ticks": "",
            "zerolinecolor": "white"
           }
          },
          "shapedefaults": {
           "line": {
            "color": "#2a3f5f"
           }
          },
          "ternary": {
           "aaxis": {
            "gridcolor": "white",
            "linecolor": "white",
            "ticks": ""
           },
           "baxis": {
            "gridcolor": "white",
            "linecolor": "white",
            "ticks": ""
           },
           "bgcolor": "#E5ECF6",
           "caxis": {
            "gridcolor": "white",
            "linecolor": "white",
            "ticks": ""
           }
          },
          "title": {
           "x": 0.05
          },
          "xaxis": {
           "automargin": true,
           "gridcolor": "white",
           "linecolor": "white",
           "ticks": "",
           "title": {
            "standoff": 15
           },
           "zerolinecolor": "white",
           "zerolinewidth": 2
          },
          "yaxis": {
           "automargin": true,
           "gridcolor": "white",
           "linecolor": "white",
           "ticks": "",
           "title": {
            "standoff": 15
           },
           "zerolinecolor": "white",
           "zerolinewidth": 2
          }
         }
        },
        "title": {
         "font": {
          "size": 16
         },
         "text": "Little Caesars Mean Revenue Share(%) by State and Channel"
        },
        "width": 900,
        "xaxis": {
         "anchor": "y",
         "domain": [
          0,
          0.98
         ],
         "title": {
          "font": {
           "size": 12
          },
          "text": "State"
         }
        },
        "xaxis2": {
         "anchor": "y2",
         "domain": [
          0,
          0.98
         ],
         "matches": "x",
         "showticklabels": false
        },
        "yaxis": {
         "anchor": "x",
         "domain": [
          0,
          0.485
         ],
         "showticklabels": true,
         "title": {
          "font": {
           "size": 12
          },
          "text": ""
         }
        },
        "yaxis2": {
         "anchor": "x2",
         "domain": [
          0.515,
          1
         ],
         "showticklabels": true,
         "title": {
          "text": "Mean Revenue Share(%)"
         }
        }
       }
      }
     },
     "metadata": {},
     "output_type": "display_data"
    }
   ],
   "source": [
    "\n",
    "mean_rev['revenue_share_label'] = mean_rev['Mean Revenue Share(%)'].map(lambda x: f\"{x:.1f}%\")\n",
    "\n",
    "# 4. Plot with custom colors\n",
    "fig = px.bar(mean_rev, \n",
    "             x=\"ST\", \n",
    "             y=\"Mean Revenue Share(%)\", \n",
    "             color=\"OrderMode\",\n",
    "             text='revenue_share_label',\n",
    "             title=\"Little Caesars Mean Revenue Share(%) by State and Channel\",\n",
    "             labels={\"ST\": \"State\"},\n",
    "             facet_row=\"channel\",\n",
    "            #  color_discrete_map=OrderMode_c,  # <-- Use custom colors here\n",
    "             height=700,\n",
    "             width=900)\n",
    "\n",
    "fig.update_layout(\n",
    "    yaxis_title=\"Mean Revenue Share(%)\",\n",
    "    showlegend=True\n",
    ")\n",
    "\n",
    "# Adjust font size for various elements\n",
    "fig.update_layout(\n",
    "    yaxis_title=\"Revenue Share per Store (%)\",\n",
    "    showlegend=True,\n",
    "    title_font=dict(size=16),  # Title font size\n",
    "    font=dict(size=10),  # Axis labels and general text size\n",
    "    xaxis_title_font=dict(size=12),  # X-axis label font size\n",
    "    yaxis_title_font=dict(size=12),  # Y-axis label font size\n",
    "    legend_title_font=dict(size=12),  # Legend title font size\n",
    "    legend_font=dict(size=10),  # Legend text size\n",
    ")\n",
    "fig.update_yaxes(matches=None)\n",
    "fig.update_yaxes(showticklabels=True)  # Ensure y-axis labels show on one axis\n",
    "fig.update_yaxes(title_text=\"\", row=1, col=1)  # Remove y-axis title for each facet\n",
    "\n",
    "\n",
    "fig.show()\n"
   ]
  },
  {
   "cell_type": "code",
   "execution_count": 322,
   "metadata": {},
   "outputs": [
    {
     "data": {
      "text/html": [
       "<div>\n",
       "<style scoped>\n",
       "    .dataframe tbody tr th:only-of-type {\n",
       "        vertical-align: middle;\n",
       "    }\n",
       "\n",
       "    .dataframe tbody tr th {\n",
       "        vertical-align: top;\n",
       "    }\n",
       "\n",
       "    .dataframe thead th {\n",
       "        text-align: right;\n",
       "    }\n",
       "</style>\n",
       "<table border=\"1\" class=\"dataframe\">\n",
       "  <thead>\n",
       "    <tr style=\"text-align: right;\">\n",
       "      <th></th>\n",
       "      <th>Brand</th>\n",
       "      <th>ST</th>\n",
       "      <th>channel</th>\n",
       "      <th>OrderMode</th>\n",
       "      <th>StoreID</th>\n",
       "      <th>revenue</th>\n",
       "      <th>store_count_x</th>\n",
       "      <th>store_count_y</th>\n",
       "      <th>revenue_per_store</th>\n",
       "      <th>mean_revenue_share</th>\n",
       "      <th>revenue_share_label</th>\n",
       "    </tr>\n",
       "  </thead>\n",
       "  <tbody>\n",
       "    <tr>\n",
       "      <th>0</th>\n",
       "      <td>LC</td>\n",
       "      <td>AR</td>\n",
       "      <td>1PO</td>\n",
       "      <td>Mobile</td>\n",
       "      <td>01494-00005</td>\n",
       "      <td>217804.88</td>\n",
       "      <td>1</td>\n",
       "      <td>1</td>\n",
       "      <td>217804.880000</td>\n",
       "      <td>5.553784</td>\n",
       "      <td>5.6%</td>\n",
       "    </tr>\n",
       "    <tr>\n",
       "      <th>1</th>\n",
       "      <td>LC</td>\n",
       "      <td>AR</td>\n",
       "      <td>1PO</td>\n",
       "      <td>Website</td>\n",
       "      <td>01494-00005</td>\n",
       "      <td>111642.11</td>\n",
       "      <td>1</td>\n",
       "      <td>1</td>\n",
       "      <td>111642.110000</td>\n",
       "      <td>2.846751</td>\n",
       "      <td>2.8%</td>\n",
       "    </tr>\n",
       "    <tr>\n",
       "      <th>2</th>\n",
       "      <td>LC</td>\n",
       "      <td>AR</td>\n",
       "      <td>3PO</td>\n",
       "      <td>DoorDash</td>\n",
       "      <td>01494-00005</td>\n",
       "      <td>73393.18</td>\n",
       "      <td>1</td>\n",
       "      <td>1</td>\n",
       "      <td>73393.180000</td>\n",
       "      <td>4.676589</td>\n",
       "      <td>4.7%</td>\n",
       "    </tr>\n",
       "    <tr>\n",
       "      <th>3</th>\n",
       "      <td>LC</td>\n",
       "      <td>AR</td>\n",
       "      <td>3PO</td>\n",
       "      <td>UberEats</td>\n",
       "      <td>01494-00005</td>\n",
       "      <td>2787.22</td>\n",
       "      <td>1</td>\n",
       "      <td>1</td>\n",
       "      <td>2787.220000</td>\n",
       "      <td>0.177601</td>\n",
       "      <td>0.2%</td>\n",
       "    </tr>\n",
       "    <tr>\n",
       "      <th>4</th>\n",
       "      <td>LC</td>\n",
       "      <td>KS</td>\n",
       "      <td>1PO</td>\n",
       "      <td>Mobile</td>\n",
       "      <td>03222-00009</td>\n",
       "      <td>141294.58</td>\n",
       "      <td>14</td>\n",
       "      <td>14</td>\n",
       "      <td>10092.470000</td>\n",
       "      <td>0.257347</td>\n",
       "      <td>0.3%</td>\n",
       "    </tr>\n",
       "    <tr>\n",
       "      <th>...</th>\n",
       "      <td>...</td>\n",
       "      <td>...</td>\n",
       "      <td>...</td>\n",
       "      <td>...</td>\n",
       "      <td>...</td>\n",
       "      <td>...</td>\n",
       "      <td>...</td>\n",
       "      <td>...</td>\n",
       "      <td>...</td>\n",
       "      <td>...</td>\n",
       "      <td>...</td>\n",
       "    </tr>\n",
       "    <tr>\n",
       "      <th>339</th>\n",
       "      <td>LC</td>\n",
       "      <td>VA</td>\n",
       "      <td>3PO</td>\n",
       "      <td>Grubhub</td>\n",
       "      <td>01978-00002</td>\n",
       "      <td>18023.93</td>\n",
       "      <td>3</td>\n",
       "      <td>3</td>\n",
       "      <td>6007.976667</td>\n",
       "      <td>0.382826</td>\n",
       "      <td>0.4%</td>\n",
       "    </tr>\n",
       "    <tr>\n",
       "      <th>340</th>\n",
       "      <td>LC</td>\n",
       "      <td>VA</td>\n",
       "      <td>3PO</td>\n",
       "      <td>Grubhub</td>\n",
       "      <td>01978-00005</td>\n",
       "      <td>23294.71</td>\n",
       "      <td>3</td>\n",
       "      <td>3</td>\n",
       "      <td>7764.903333</td>\n",
       "      <td>0.494777</td>\n",
       "      <td>0.5%</td>\n",
       "    </tr>\n",
       "    <tr>\n",
       "      <th>341</th>\n",
       "      <td>LC</td>\n",
       "      <td>VA</td>\n",
       "      <td>3PO</td>\n",
       "      <td>UberEats</td>\n",
       "      <td>01940-00009</td>\n",
       "      <td>87050.60</td>\n",
       "      <td>3</td>\n",
       "      <td>3</td>\n",
       "      <td>29016.866667</td>\n",
       "      <td>1.848945</td>\n",
       "      <td>1.8%</td>\n",
       "    </tr>\n",
       "    <tr>\n",
       "      <th>342</th>\n",
       "      <td>LC</td>\n",
       "      <td>VA</td>\n",
       "      <td>3PO</td>\n",
       "      <td>UberEats</td>\n",
       "      <td>01978-00002</td>\n",
       "      <td>90127.71</td>\n",
       "      <td>3</td>\n",
       "      <td>3</td>\n",
       "      <td>30042.570000</td>\n",
       "      <td>1.914303</td>\n",
       "      <td>1.9%</td>\n",
       "    </tr>\n",
       "    <tr>\n",
       "      <th>343</th>\n",
       "      <td>LC</td>\n",
       "      <td>VA</td>\n",
       "      <td>3PO</td>\n",
       "      <td>UberEats</td>\n",
       "      <td>01978-00005</td>\n",
       "      <td>139627.01</td>\n",
       "      <td>3</td>\n",
       "      <td>3</td>\n",
       "      <td>46542.336667</td>\n",
       "      <td>2.965662</td>\n",
       "      <td>3.0%</td>\n",
       "    </tr>\n",
       "  </tbody>\n",
       "</table>\n",
       "<p>344 rows × 11 columns</p>\n",
       "</div>"
      ],
      "text/plain": [
       "    Brand  ST channel OrderMode      StoreID    revenue  store_count_x  \\\n",
       "0      LC  AR     1PO    Mobile  01494-00005  217804.88              1   \n",
       "1      LC  AR     1PO   Website  01494-00005  111642.11              1   \n",
       "2      LC  AR     3PO  DoorDash  01494-00005   73393.18              1   \n",
       "3      LC  AR     3PO  UberEats  01494-00005    2787.22              1   \n",
       "4      LC  KS     1PO    Mobile  03222-00009  141294.58             14   \n",
       "..    ...  ..     ...       ...          ...        ...            ...   \n",
       "339    LC  VA     3PO   Grubhub  01978-00002   18023.93              3   \n",
       "340    LC  VA     3PO   Grubhub  01978-00005   23294.71              3   \n",
       "341    LC  VA     3PO  UberEats  01940-00009   87050.60              3   \n",
       "342    LC  VA     3PO  UberEats  01978-00002   90127.71              3   \n",
       "343    LC  VA     3PO  UberEats  01978-00005  139627.01              3   \n",
       "\n",
       "     store_count_y  revenue_per_store  mean_revenue_share revenue_share_label  \n",
       "0                1      217804.880000            5.553784                5.6%  \n",
       "1                1      111642.110000            2.846751                2.8%  \n",
       "2                1       73393.180000            4.676589                4.7%  \n",
       "3                1        2787.220000            0.177601                0.2%  \n",
       "4               14       10092.470000            0.257347                0.3%  \n",
       "..             ...                ...                 ...                 ...  \n",
       "339              3        6007.976667            0.382826                0.4%  \n",
       "340              3        7764.903333            0.494777                0.5%  \n",
       "341              3       29016.866667            1.848945                1.8%  \n",
       "342              3       30042.570000            1.914303                1.9%  \n",
       "343              3       46542.336667            2.965662                3.0%  \n",
       "\n",
       "[344 rows x 11 columns]"
      ]
     },
     "execution_count": 322,
     "metadata": {},
     "output_type": "execute_result"
    }
   ],
   "source": [
    "\n",
    "aux[['Brand','ST','channel','OrderMode','mean_revenue_share','revenue_share_label','revenue_per_store']].groupby(['Brand','ST','channel','OrderMode'])\n"
   ]
  },
  {
   "cell_type": "code",
   "execution_count": 319,
   "metadata": {},
   "outputs": [
    {
     "data": {
      "application/vnd.plotly.v1+json": {
       "config": {
        "plotlyServerURL": "https://plot.ly"
       },
       "data": [
        {
         "alignmentgroup": "True",
         "hovertemplate": "OrderMode=Mobile<br>channel=1PO<br>Brand=LC<br>State=%{x}<br>mean_revenue_share=%{y}<br>revenue_share_label=%{text}<extra></extra>",
         "legendgroup": "Mobile",
         "marker": {
          "color": "#636EFA",
          "pattern": {
           "shape": ""
          }
         },
         "name": "Mobile",
         "offsetgroup": "Mobile",
         "orientation": "v",
         "showlegend": true,
         "text": [
          "5.6%",
          "0.3%",
          "0.3%",
          "0.5%",
          "1.0%",
          "0.6%",
          "0.6%",
          "0.4%",
          "0.7%",
          "0.5%",
          "0.4%",
          "0.5%",
          "0.6%",
          "0.7%",
          "0.2%",
          "2.6%",
          "1.8%",
          "1.2%",
          "1.3%",
          "1.5%",
          "1.3%",
          "1.7%",
          "1.2%",
          "0.9%",
          "0.8%",
          "1.6%",
          "0.9%",
          "2.0%",
          "1.5%",
          "0.6%",
          "2.2%",
          "1.4%",
          "1.7%",
          "1.4%",
          "0.8%",
          "0.7%",
          "0.6%",
          "0.7%",
          "0.4%",
          "0.1%",
          "0.6%",
          "0.4%",
          "0.4%",
          "0.4%",
          "0.5%",
          "0.6%",
          "0.4%",
          "0.3%",
          "0.4%",
          "0.6%",
          "0.4%",
          "0.5%",
          "0.3%",
          "0.5%",
          "0.3%",
          "0.2%",
          "0.4%",
          "0.5%",
          "0.4%",
          "0.3%",
          "0.5%",
          "0.3%",
          "0.3%",
          "0.3%",
          "0.4%",
          "0.6%",
          "0.5%",
          "0.2%",
          "0.2%",
          "0.2%",
          "0.2%",
          "0.4%",
          "0.0%",
          "2.1%",
          "2.0%",
          "2.3%"
         ],
         "textposition": "auto",
         "type": "bar",
         "x": [
          "AR",
          "KS",
          "KS",
          "KS",
          "KS",
          "KS",
          "KS",
          "KS",
          "KS",
          "KS",
          "KS",
          "KS",
          "KS",
          "KS",
          "KS",
          "LA",
          "LA",
          "MD",
          "MD",
          "MD",
          "MD",
          "MD",
          "MD",
          "NC",
          "NC",
          "NC",
          "NC",
          "NC",
          "NC",
          "NC",
          "NM",
          "NM",
          "NM",
          "NM",
          "NM",
          "NM",
          "OK",
          "OK",
          "OK",
          "OK",
          "OK",
          "OK",
          "OK",
          "OK",
          "OK",
          "OK",
          "OK",
          "OK",
          "OK",
          "OK",
          "OK",
          "OK",
          "OK",
          "TX",
          "TX",
          "TX",
          "TX",
          "TX",
          "TX",
          "TX",
          "TX",
          "TX",
          "TX",
          "TX",
          "TX",
          "TX",
          "TX",
          "TX",
          "TX",
          "TX",
          "TX",
          "TX",
          "TX",
          "VA",
          "VA",
          "VA"
         ],
         "xaxis": "x2",
         "y": [
          5.553784421219982,
          0.25734686319989736,
          0.28353428609675585,
          0.5003538746988622,
          1.0092147463923458,
          0.5615864730428289,
          0.5743293469748872,
          0.4224150904916306,
          0.7180777635053983,
          0.46946321649103995,
          0.42519614601659966,
          0.5462844932794808,
          0.6411200676126028,
          0.7382356076977988,
          0.22663870424783275,
          2.6132501002569644,
          1.8109611879038243,
          1.1543290781775968,
          1.316798749200119,
          1.4756981070214317,
          1.3331956455728549,
          1.6613577933373942,
          1.1529101070014989,
          0.9128540283287455,
          0.7939704432823066,
          1.5530862243126369,
          0.9001934976237611,
          2.040618123855114,
          1.5257591281692173,
          0.5919348061169748,
          2.2435890484571215,
          1.4072753840570755,
          1.6941565158698122,
          1.4219896081501249,
          0.833474192113972,
          0.7312695941062545,
          0.5938266315005144,
          0.6604573219114249,
          0.40514144593803175,
          0.13470560840640933,
          0.5664169960670652,
          0.36100046858563345,
          0.4050619043755918,
          0.3632111480463496,
          0.5182873010957076,
          0.5713678171066492,
          0.39428406016339035,
          0.3448990844416996,
          0.3653708747091007,
          0.6125898606070732,
          0.41103415127205284,
          0.5461473220647737,
          0.33723126582303004,
          0.5436460804113299,
          0.3386906172540082,
          0.22614258676004903,
          0.39694756705419154,
          0.4616118289485543,
          0.4409410325316335,
          0.2950550160606888,
          0.46319492803151086,
          0.25537165481279045,
          0.34672051347471283,
          0.29097839249077473,
          0.35318922691530075,
          0.5517996590368328,
          0.4621255552467641,
          0.1663811382300254,
          0.15761035877818863,
          0.23394129722194523,
          0.24084365767154145,
          0.37079607574732887,
          0.037929712785601574,
          2.0941959348029537,
          2.036809814867978,
          2.3149778882343406
         ],
         "yaxis": "y2"
        },
        {
         "alignmentgroup": "True",
         "hovertemplate": "OrderMode=Website<br>channel=1PO<br>Brand=LC<br>State=%{x}<br>mean_revenue_share=%{y}<br>revenue_share_label=%{text}<extra></extra>",
         "legendgroup": "Website",
         "marker": {
          "color": "rgb(68, 170, 153)",
          "pattern": {
           "shape": ""
          }
         },
         "name": "Website",
         "offsetgroup": "Website",
         "orientation": "v",
         "showlegend": true,
         "text": [
          "2.8%",
          "0.2%",
          "0.1%",
          "0.3%",
          "0.6%",
          "0.4%",
          "0.3%",
          "0.3%",
          "0.5%",
          "0.3%",
          "0.2%",
          "0.3%",
          "0.4%",
          "0.4%",
          "0.1%",
          "2.2%",
          "1.0%",
          "0.8%",
          "0.7%",
          "0.9%",
          "0.6%",
          "1.1%",
          "0.7%",
          "0.7%",
          "0.6%",
          "1.1%",
          "0.6%",
          "1.2%",
          "0.9%",
          "0.4%",
          "1.2%",
          "1.0%",
          "1.0%",
          "0.5%",
          "0.4%",
          "0.4%",
          "0.3%",
          "0.3%",
          "0.2%",
          "0.1%",
          "0.2%",
          "0.2%",
          "0.3%",
          "0.2%",
          "0.2%",
          "0.3%",
          "0.2%",
          "0.2%",
          "0.2%",
          "0.3%",
          "0.2%",
          "0.3%",
          "0.1%",
          "0.3%",
          "0.2%",
          "0.1%",
          "0.2%",
          "0.2%",
          "0.2%",
          "0.2%",
          "0.3%",
          "0.2%",
          "0.2%",
          "0.2%",
          "0.2%",
          "0.2%",
          "0.3%",
          "0.1%",
          "0.1%",
          "0.1%",
          "0.1%",
          "0.2%",
          "0.3%",
          "1.6%",
          "1.5%",
          "1.5%"
         ],
         "textposition": "auto",
         "type": "bar",
         "x": [
          "AR",
          "KS",
          "KS",
          "KS",
          "KS",
          "KS",
          "KS",
          "KS",
          "KS",
          "KS",
          "KS",
          "KS",
          "KS",
          "KS",
          "KS",
          "LA",
          "LA",
          "MD",
          "MD",
          "MD",
          "MD",
          "MD",
          "MD",
          "NC",
          "NC",
          "NC",
          "NC",
          "NC",
          "NC",
          "NC",
          "NM",
          "NM",
          "NM",
          "NM",
          "NM",
          "NM",
          "OK",
          "OK",
          "OK",
          "OK",
          "OK",
          "OK",
          "OK",
          "OK",
          "OK",
          "OK",
          "OK",
          "OK",
          "OK",
          "OK",
          "OK",
          "OK",
          "OK",
          "TX",
          "TX",
          "TX",
          "TX",
          "TX",
          "TX",
          "TX",
          "TX",
          "TX",
          "TX",
          "TX",
          "TX",
          "TX",
          "TX",
          "TX",
          "TX",
          "TX",
          "TX",
          "TX",
          "TX",
          "VA",
          "VA",
          "VA"
         ],
         "xaxis": "x2",
         "y": [
          2.8467507765212976,
          0.15771501900507112,
          0.14067966058199416,
          0.26686820635736086,
          0.5957885456407319,
          0.36912157404310586,
          0.33961401249034767,
          0.2707143872792086,
          0.4774947318917681,
          0.29318128418091344,
          0.22687904957507643,
          0.3224346217205109,
          0.40054364749895716,
          0.4473930278018762,
          0.11829716503270263,
          2.188215599040251,
          1.0035268529212265,
          0.8170650987683556,
          0.6623062945040847,
          0.8918034737881775,
          0.6402044446832253,
          1.0715981160746757,
          0.696605202202764,
          0.6990358603709109,
          0.5976395652877808,
          1.0513666286363548,
          0.6447078354166178,
          1.1552887717023699,
          0.896835183474841,
          0.4482603181771943,
          1.1799073202586619,
          0.9987148283832509,
          0.9790293391341541,
          0.5456804972396169,
          0.442476852407864,
          0.4163468991701871,
          0.2647773020774448,
          0.30841349124535355,
          0.17967850980541428,
          0.06739042257744544,
          0.20369619182945028,
          0.19769714109137515,
          0.2728418685497995,
          0.15045204789004282,
          0.2185615993887798,
          0.3063897337064032,
          0.2112690795507635,
          0.18635442129149132,
          0.20943492881754588,
          0.2658640651106348,
          0.17771488466771246,
          0.253830025187642,
          0.11890170640614242,
          0.27264451907868265,
          0.15148992203607173,
          0.1325965390543932,
          0.2057534894188948,
          0.21644186249778438,
          0.20622079497327664,
          0.19110715189198094,
          0.2669822592854601,
          0.15383564216071394,
          0.21714597631798588,
          0.1750123367141549,
          0.19330722231118957,
          0.24141417001561946,
          0.2691218973163849,
          0.07369032356362779,
          0.09549719788249021,
          0.09032528189800157,
          0.12397508114930353,
          0.1966198733978234,
          0.27963541170217016,
          1.5640394216608615,
          1.49418876040794,
          1.5284104914419756
         ],
         "yaxis": "y2"
        },
        {
         "alignmentgroup": "True",
         "hovertemplate": "OrderMode=DoorDash<br>channel=3PO<br>Brand=LC<br>State=%{x}<br>mean_revenue_share=%{y}<br>revenue_share_label=%{text}<extra></extra>",
         "legendgroup": "DoorDash",
         "marker": {
          "color": "#FFA15A",
          "pattern": {
           "shape": ""
          }
         },
         "name": "DoorDash",
         "offsetgroup": "DoorDash",
         "orientation": "v",
         "showlegend": true,
         "text": [
          "4.7%",
          "0.2%",
          "0.2%",
          "0.4%",
          "0.9%",
          "0.7%",
          "0.4%",
          "0.2%",
          "0.4%",
          "0.5%",
          "0.3%",
          "0.3%",
          "0.6%",
          "0.6%",
          "0.2%",
          "5.3%",
          "2.8%",
          "2.2%",
          "2.5%",
          "2.6%",
          "2.7%",
          "2.5%",
          "1.8%",
          "0.9%",
          "1.2%",
          "1.8%",
          "1.1%",
          "1.9%",
          "2.8%",
          "0.6%",
          "1.7%",
          "1.6%",
          "2.7%",
          "1.5%",
          "1.1%",
          "1.1%",
          "0.4%",
          "0.7%",
          "0.3%",
          "0.2%",
          "0.5%",
          "0.3%",
          "0.3%",
          "0.3%",
          "0.3%",
          "0.5%",
          "0.5%",
          "0.3%",
          "0.6%",
          "0.4%",
          "0.3%",
          "0.4%",
          "0.3%",
          "0.5%",
          "0.2%",
          "0.3%",
          "0.4%",
          "0.4%",
          "0.3%",
          "0.4%",
          "0.5%",
          "0.2%",
          "0.3%",
          "0.2%",
          "0.4%",
          "0.3%",
          "0.3%",
          "0.2%",
          "0.3%",
          "0.1%",
          "0.3%",
          "0.3%",
          "0.3%",
          "2.9%",
          "3.1%",
          "4.7%"
         ],
         "textposition": "auto",
         "type": "bar",
         "x": [
          "AR",
          "KS",
          "KS",
          "KS",
          "KS",
          "KS",
          "KS",
          "KS",
          "KS",
          "KS",
          "KS",
          "KS",
          "KS",
          "KS",
          "KS",
          "LA",
          "LA",
          "MD",
          "MD",
          "MD",
          "MD",
          "MD",
          "MD",
          "NC",
          "NC",
          "NC",
          "NC",
          "NC",
          "NC",
          "NC",
          "NM",
          "NM",
          "NM",
          "NM",
          "NM",
          "NM",
          "OK",
          "OK",
          "OK",
          "OK",
          "OK",
          "OK",
          "OK",
          "OK",
          "OK",
          "OK",
          "OK",
          "OK",
          "OK",
          "OK",
          "OK",
          "OK",
          "OK",
          "TX",
          "TX",
          "TX",
          "TX",
          "TX",
          "TX",
          "TX",
          "TX",
          "TX",
          "TX",
          "TX",
          "TX",
          "TX",
          "TX",
          "TX",
          "TX",
          "TX",
          "TX",
          "TX",
          "TX",
          "VA",
          "VA",
          "VA"
         ],
         "xaxis": "x",
         "y": [
          4.676589335013221,
          0.21231044154035325,
          0.16946961260647614,
          0.4015520407067498,
          0.8888197382775144,
          0.6885191349461379,
          0.36056704721129174,
          0.2190022814628514,
          0.35435032846945974,
          0.46463260410491636,
          0.33072234597628847,
          0.31734913436307244,
          0.6053136690349058,
          0.5741199768358485,
          0.22700160353469248,
          5.266576147300423,
          2.7567516281448974,
          2.2094009225891917,
          2.514770652472201,
          2.6176363982903137,
          2.6724716361698073,
          2.530940368763063,
          1.8426046857860339,
          0.8865693870431365,
          1.1742211036409478,
          1.8113793158073304,
          1.106909189929135,
          1.9312208165920264,
          2.8099185484769884,
          0.6469527449604197,
          1.6792606879622036,
          1.5574718988388403,
          2.66369117160826,
          1.5141452832649611,
          1.0981017051925146,
          1.0815549808440639,
          0.42709762923773437,
          0.6517483784810683,
          0.2797127541897766,
          0.16765762594046016,
          0.5260375623528932,
          0.25992547223134954,
          0.34697842562555176,
          0.2854939650392853,
          0.3286350314279684,
          0.46743499258922133,
          0.46379539990573027,
          0.3204595726552103,
          0.5980597198706755,
          0.395543535362755,
          0.3435639133118199,
          0.3720060133850284,
          0.2789779539285342,
          0.5471207731203566,
          0.22974640576728833,
          0.27616526266941155,
          0.41085893140463153,
          0.3985767416645702,
          0.28038551210596585,
          0.36845709004615823,
          0.46257333906317316,
          0.23012748126392232,
          0.27617880309964893,
          0.24878807386136298,
          0.3723284424202898,
          0.2787285776227753,
          0.27909824729817406,
          0.16052030305198992,
          0.2895842432125326,
          0.09700912211243862,
          0.3083115821660846,
          0.30462711958906474,
          0.3201223737748696,
          2.9412288922865337,
          3.0889557295726444,
          4.693595265795762
         ],
         "yaxis": "y"
        },
        {
         "alignmentgroup": "True",
         "hovertemplate": "OrderMode=UberEats<br>channel=3PO<br>Brand=LC<br>State=%{x}<br>mean_revenue_share=%{y}<br>revenue_share_label=%{text}<extra></extra>",
         "legendgroup": "UberEats",
         "marker": {
          "color": "#FF6692",
          "pattern": {
           "shape": ""
          }
         },
         "name": "UberEats",
         "offsetgroup": "UberEats",
         "orientation": "v",
         "showlegend": true,
         "text": [
          "0.2%",
          "0.0%",
          "0.0%",
          "0.0%",
          "0.1%",
          "0.2%",
          "0.1%",
          "0.0%",
          "0.0%",
          "0.1%",
          "0.1%",
          "0.0%",
          "0.1%",
          "0.1%",
          "0.0%",
          "0.8%",
          "0.1%",
          "1.2%",
          "1.5%",
          "1.5%",
          "1.5%",
          "1.4%",
          "1.1%",
          "0.2%",
          "0.2%",
          "0.3%",
          "0.1%",
          "0.7%",
          "0.8%",
          "0.1%",
          "0.1%",
          "0.1%",
          "0.1%",
          "0.0%",
          "0.0%",
          "0.1%",
          "0.0%",
          "0.1%",
          "0.0%",
          "0.0%",
          "0.0%",
          "0.0%",
          "0.0%",
          "0.0%",
          "0.0%",
          "0.0%",
          "0.1%",
          "0.0%",
          "0.1%",
          "0.0%",
          "0.0%",
          "0.0%",
          "0.0%",
          "0.1%",
          "0.0%",
          "0.0%",
          "0.0%",
          "0.0%",
          "0.0%",
          "0.0%",
          "0.1%",
          "0.0%",
          "0.1%",
          "0.0%",
          "0.0%",
          "0.0%",
          "0.1%",
          "0.0%",
          "0.0%",
          "0.1%",
          "1.8%",
          "1.9%",
          "3.0%"
         ],
         "textposition": "auto",
         "type": "bar",
         "x": [
          "AR",
          "KS",
          "KS",
          "KS",
          "KS",
          "KS",
          "KS",
          "KS",
          "KS",
          "KS",
          "KS",
          "KS",
          "KS",
          "KS",
          "KS",
          "LA",
          "LA",
          "MD",
          "MD",
          "MD",
          "MD",
          "MD",
          "MD",
          "NC",
          "NC",
          "NC",
          "NC",
          "NC",
          "NC",
          "NC",
          "NM",
          "NM",
          "NM",
          "NM",
          "NM",
          "NM",
          "OK",
          "OK",
          "OK",
          "OK",
          "OK",
          "OK",
          "OK",
          "OK",
          "OK",
          "OK",
          "OK",
          "OK",
          "OK",
          "OK",
          "OK",
          "OK",
          "OK",
          "TX",
          "TX",
          "TX",
          "TX",
          "TX",
          "TX",
          "TX",
          "TX",
          "TX",
          "TX",
          "TX",
          "TX",
          "TX",
          "TX",
          "TX",
          "TX",
          "TX",
          "VA",
          "VA",
          "VA"
         ],
         "xaxis": "x",
         "y": [
          0.17760074337064494,
          0.009956062161810606,
          0.005738138493273556,
          0.01119468155166059,
          0.09986401828352606,
          0.22729184663931043,
          0.06928326381222333,
          0.0239289669138766,
          0.04298779380526046,
          0.09175992286578087,
          0.07152733410753284,
          0.03213665231219426,
          0.11781685373030955,
          0.12619926757125358,
          0.007740119550153884,
          0.7744211718498906,
          0.11164451118841512,
          1.2147524585879148,
          1.4606400873328662,
          1.5461997827147065,
          1.4573602234312852,
          1.403947739621522,
          1.104822856163997,
          0.22436470146331935,
          0.17076171100650742,
          0.34448356487613907,
          0.11514945724462029,
          0.7455987162052463,
          0.8149615840930503,
          0.053632392533898815,
          0.0635107773816305,
          0.05856241387644421,
          0.08435380059481597,
          0.02308298207253496,
          0.015321288862103682,
          0.050651935232580894,
          0.034039011142849504,
          0.052143981321775265,
          0.009006588184755096,
          0.0034329535363666177,
          0.012916389758436852,
          0.0194636609904834,
          0.030638104853134708,
          0.00677744917554225,
          0.009223534925831972,
          0.04550521613759176,
          0.06838132792301659,
          0.017101385349566154,
          0.06979103195409836,
          0.03690853285270133,
          0.012304680910065285,
          0.011367701878717716,
          0.007247850281367196,
          0.05818039320467993,
          0.025305885299757965,
          0.04283026057118429,
          0.0016946565288402016,
          0.01528816525276217,
          0.013073842941328814,
          0.013606475677114014,
          0.10695480707057149,
          0.013290840283321457,
          0.058586860990488494,
          0.007542338240585534,
          0.02026639204408771,
          0.035070765689426846,
          0.10947517496520576,
          0.0006919000552127741,
          0.004922376499075784,
          0.14225636541091521,
          1.8489452179185306,
          1.914302697585636,
          2.9656624128008637
         ],
         "yaxis": "y"
        },
        {
         "alignmentgroup": "True",
         "hovertemplate": "OrderMode=Grubhub<br>channel=3PO<br>Brand=LC<br>State=%{x}<br>mean_revenue_share=%{y}<br>revenue_share_label=%{text}<extra></extra>",
         "legendgroup": "Grubhub",
         "marker": {
          "color": "#EF553B",
          "pattern": {
           "shape": ""
          }
         },
         "name": "Grubhub",
         "offsetgroup": "Grubhub",
         "orientation": "v",
         "showlegend": true,
         "text": [
          "0.0%",
          "0.0%",
          "0.0%",
          "0.0%",
          "0.0%",
          "0.0%",
          "0.0%",
          "0.0%",
          "0.0%",
          "0.1%",
          "0.1%",
          "0.2%",
          "0.2%",
          "0.2%",
          "0.2%",
          "0.1%",
          "0.0%",
          "0.0%",
          "0.1%",
          "0.0%",
          "0.1%",
          "0.1%",
          "0.0%",
          "0.0%",
          "0.0%",
          "0.0%",
          "0.0%",
          "0.0%",
          "0.0%",
          "0.0%",
          "0.0%",
          "0.0%",
          "0.0%",
          "0.0%",
          "0.0%",
          "0.0%",
          "0.0%",
          "0.0%",
          "0.0%",
          "0.0%",
          "0.3%",
          "0.4%",
          "0.5%"
         ],
         "textposition": "auto",
         "type": "bar",
         "x": [
          "KS",
          "KS",
          "KS",
          "KS",
          "KS",
          "KS",
          "KS",
          "KS",
          "KS",
          "LA",
          "MD",
          "MD",
          "MD",
          "MD",
          "MD",
          "MD",
          "NC",
          "NC",
          "NC",
          "NC",
          "NC",
          "NC",
          "NC",
          "NM",
          "NM",
          "NM",
          "OK",
          "OK",
          "OK",
          "OK",
          "OK",
          "OK",
          "OK",
          "TX",
          "TX",
          "TX",
          "TX",
          "TX",
          "TX",
          "TX",
          "VA",
          "VA",
          "VA"
         ],
         "xaxis": "x",
         "y": [
          0.01252951764578568,
          0.019877169532285698,
          0.017516856350165092,
          0.03385453466137107,
          0.025702194349334646,
          0.014178400693315817,
          0.00723386675845471,
          0.021995530018130767,
          0.029493787900111545,
          0.0880392402068018,
          0.11738841479484297,
          0.1522057992097334,
          0.24670217854825183,
          0.18771879004074082,
          0.23888589881905958,
          0.12281626882961218,
          0.046059855720330056,
          0.022246995151110893,
          0.050392520311988,
          0.017693678439147497,
          0.055441667097921615,
          0.09788169929677197,
          0.016329986436550113,
          0.012260620631189014,
          0.004308193203452994,
          0.007434705095129879,
          0.008202933195911056,
          0.00813666473733747,
          0.02019632476861569,
          0.01565254994362532,
          0.00897619015313565,
          0.01735412755327752,
          0.005823303314994054,
          0.0038933038010340376,
          0.005979358413324482,
          0.009429714916498633,
          0.008748010008758718,
          0.006857351769752792,
          0.011650950812312022,
          0.0036051953054182006,
          0.28517038155350155,
          0.3828263008135308,
          0.49477709122394303
         ],
         "yaxis": "y"
        }
       ],
       "layout": {
        "annotations": [
         {
          "font": {},
          "showarrow": false,
          "text": "Brand=LC",
          "x": 0.49,
          "xanchor": "center",
          "xref": "paper",
          "y": 1,
          "yanchor": "bottom",
          "yref": "paper"
         },
         {
          "font": {},
          "showarrow": false,
          "text": "channel=3PO",
          "textangle": 90,
          "x": 0.98,
          "xanchor": "left",
          "xref": "paper",
          "y": 0.2425,
          "yanchor": "middle",
          "yref": "paper"
         },
         {
          "font": {},
          "showarrow": false,
          "text": "channel=1PO",
          "textangle": 90,
          "x": 0.98,
          "xanchor": "left",
          "xref": "paper",
          "y": 0.7575000000000001,
          "yanchor": "middle",
          "yref": "paper"
         }
        ],
        "barmode": "relative",
        "height": 800,
        "legend": {
         "title": {
          "text": "OrderMode"
         },
         "tracegroupgap": 0
        },
        "showlegend": true,
        "template": {
         "data": {
          "bar": [
           {
            "error_x": {
             "color": "#2a3f5f"
            },
            "error_y": {
             "color": "#2a3f5f"
            },
            "marker": {
             "line": {
              "color": "#E5ECF6",
              "width": 0.5
             },
             "pattern": {
              "fillmode": "overlay",
              "size": 10,
              "solidity": 0.2
             }
            },
            "type": "bar"
           }
          ],
          "barpolar": [
           {
            "marker": {
             "line": {
              "color": "#E5ECF6",
              "width": 0.5
             },
             "pattern": {
              "fillmode": "overlay",
              "size": 10,
              "solidity": 0.2
             }
            },
            "type": "barpolar"
           }
          ],
          "carpet": [
           {
            "aaxis": {
             "endlinecolor": "#2a3f5f",
             "gridcolor": "white",
             "linecolor": "white",
             "minorgridcolor": "white",
             "startlinecolor": "#2a3f5f"
            },
            "baxis": {
             "endlinecolor": "#2a3f5f",
             "gridcolor": "white",
             "linecolor": "white",
             "minorgridcolor": "white",
             "startlinecolor": "#2a3f5f"
            },
            "type": "carpet"
           }
          ],
          "choropleth": [
           {
            "colorbar": {
             "outlinewidth": 0,
             "ticks": ""
            },
            "type": "choropleth"
           }
          ],
          "contour": [
           {
            "colorbar": {
             "outlinewidth": 0,
             "ticks": ""
            },
            "colorscale": [
             [
              0,
              "#0d0887"
             ],
             [
              0.1111111111111111,
              "#46039f"
             ],
             [
              0.2222222222222222,
              "#7201a8"
             ],
             [
              0.3333333333333333,
              "#9c179e"
             ],
             [
              0.4444444444444444,
              "#bd3786"
             ],
             [
              0.5555555555555556,
              "#d8576b"
             ],
             [
              0.6666666666666666,
              "#ed7953"
             ],
             [
              0.7777777777777778,
              "#fb9f3a"
             ],
             [
              0.8888888888888888,
              "#fdca26"
             ],
             [
              1,
              "#f0f921"
             ]
            ],
            "type": "contour"
           }
          ],
          "contourcarpet": [
           {
            "colorbar": {
             "outlinewidth": 0,
             "ticks": ""
            },
            "type": "contourcarpet"
           }
          ],
          "heatmap": [
           {
            "colorbar": {
             "outlinewidth": 0,
             "ticks": ""
            },
            "colorscale": [
             [
              0,
              "#0d0887"
             ],
             [
              0.1111111111111111,
              "#46039f"
             ],
             [
              0.2222222222222222,
              "#7201a8"
             ],
             [
              0.3333333333333333,
              "#9c179e"
             ],
             [
              0.4444444444444444,
              "#bd3786"
             ],
             [
              0.5555555555555556,
              "#d8576b"
             ],
             [
              0.6666666666666666,
              "#ed7953"
             ],
             [
              0.7777777777777778,
              "#fb9f3a"
             ],
             [
              0.8888888888888888,
              "#fdca26"
             ],
             [
              1,
              "#f0f921"
             ]
            ],
            "type": "heatmap"
           }
          ],
          "heatmapgl": [
           {
            "colorbar": {
             "outlinewidth": 0,
             "ticks": ""
            },
            "colorscale": [
             [
              0,
              "#0d0887"
             ],
             [
              0.1111111111111111,
              "#46039f"
             ],
             [
              0.2222222222222222,
              "#7201a8"
             ],
             [
              0.3333333333333333,
              "#9c179e"
             ],
             [
              0.4444444444444444,
              "#bd3786"
             ],
             [
              0.5555555555555556,
              "#d8576b"
             ],
             [
              0.6666666666666666,
              "#ed7953"
             ],
             [
              0.7777777777777778,
              "#fb9f3a"
             ],
             [
              0.8888888888888888,
              "#fdca26"
             ],
             [
              1,
              "#f0f921"
             ]
            ],
            "type": "heatmapgl"
           }
          ],
          "histogram": [
           {
            "marker": {
             "pattern": {
              "fillmode": "overlay",
              "size": 10,
              "solidity": 0.2
             }
            },
            "type": "histogram"
           }
          ],
          "histogram2d": [
           {
            "colorbar": {
             "outlinewidth": 0,
             "ticks": ""
            },
            "colorscale": [
             [
              0,
              "#0d0887"
             ],
             [
              0.1111111111111111,
              "#46039f"
             ],
             [
              0.2222222222222222,
              "#7201a8"
             ],
             [
              0.3333333333333333,
              "#9c179e"
             ],
             [
              0.4444444444444444,
              "#bd3786"
             ],
             [
              0.5555555555555556,
              "#d8576b"
             ],
             [
              0.6666666666666666,
              "#ed7953"
             ],
             [
              0.7777777777777778,
              "#fb9f3a"
             ],
             [
              0.8888888888888888,
              "#fdca26"
             ],
             [
              1,
              "#f0f921"
             ]
            ],
            "type": "histogram2d"
           }
          ],
          "histogram2dcontour": [
           {
            "colorbar": {
             "outlinewidth": 0,
             "ticks": ""
            },
            "colorscale": [
             [
              0,
              "#0d0887"
             ],
             [
              0.1111111111111111,
              "#46039f"
             ],
             [
              0.2222222222222222,
              "#7201a8"
             ],
             [
              0.3333333333333333,
              "#9c179e"
             ],
             [
              0.4444444444444444,
              "#bd3786"
             ],
             [
              0.5555555555555556,
              "#d8576b"
             ],
             [
              0.6666666666666666,
              "#ed7953"
             ],
             [
              0.7777777777777778,
              "#fb9f3a"
             ],
             [
              0.8888888888888888,
              "#fdca26"
             ],
             [
              1,
              "#f0f921"
             ]
            ],
            "type": "histogram2dcontour"
           }
          ],
          "mesh3d": [
           {
            "colorbar": {
             "outlinewidth": 0,
             "ticks": ""
            },
            "type": "mesh3d"
           }
          ],
          "parcoords": [
           {
            "line": {
             "colorbar": {
              "outlinewidth": 0,
              "ticks": ""
             }
            },
            "type": "parcoords"
           }
          ],
          "pie": [
           {
            "automargin": true,
            "type": "pie"
           }
          ],
          "scatter": [
           {
            "fillpattern": {
             "fillmode": "overlay",
             "size": 10,
             "solidity": 0.2
            },
            "type": "scatter"
           }
          ],
          "scatter3d": [
           {
            "line": {
             "colorbar": {
              "outlinewidth": 0,
              "ticks": ""
             }
            },
            "marker": {
             "colorbar": {
              "outlinewidth": 0,
              "ticks": ""
             }
            },
            "type": "scatter3d"
           }
          ],
          "scattercarpet": [
           {
            "marker": {
             "colorbar": {
              "outlinewidth": 0,
              "ticks": ""
             }
            },
            "type": "scattercarpet"
           }
          ],
          "scattergeo": [
           {
            "marker": {
             "colorbar": {
              "outlinewidth": 0,
              "ticks": ""
             }
            },
            "type": "scattergeo"
           }
          ],
          "scattergl": [
           {
            "marker": {
             "colorbar": {
              "outlinewidth": 0,
              "ticks": ""
             }
            },
            "type": "scattergl"
           }
          ],
          "scattermapbox": [
           {
            "marker": {
             "colorbar": {
              "outlinewidth": 0,
              "ticks": ""
             }
            },
            "type": "scattermapbox"
           }
          ],
          "scatterpolar": [
           {
            "marker": {
             "colorbar": {
              "outlinewidth": 0,
              "ticks": ""
             }
            },
            "type": "scatterpolar"
           }
          ],
          "scatterpolargl": [
           {
            "marker": {
             "colorbar": {
              "outlinewidth": 0,
              "ticks": ""
             }
            },
            "type": "scatterpolargl"
           }
          ],
          "scatterternary": [
           {
            "marker": {
             "colorbar": {
              "outlinewidth": 0,
              "ticks": ""
             }
            },
            "type": "scatterternary"
           }
          ],
          "surface": [
           {
            "colorbar": {
             "outlinewidth": 0,
             "ticks": ""
            },
            "colorscale": [
             [
              0,
              "#0d0887"
             ],
             [
              0.1111111111111111,
              "#46039f"
             ],
             [
              0.2222222222222222,
              "#7201a8"
             ],
             [
              0.3333333333333333,
              "#9c179e"
             ],
             [
              0.4444444444444444,
              "#bd3786"
             ],
             [
              0.5555555555555556,
              "#d8576b"
             ],
             [
              0.6666666666666666,
              "#ed7953"
             ],
             [
              0.7777777777777778,
              "#fb9f3a"
             ],
             [
              0.8888888888888888,
              "#fdca26"
             ],
             [
              1,
              "#f0f921"
             ]
            ],
            "type": "surface"
           }
          ],
          "table": [
           {
            "cells": {
             "fill": {
              "color": "#EBF0F8"
             },
             "line": {
              "color": "white"
             }
            },
            "header": {
             "fill": {
              "color": "#C8D4E3"
             },
             "line": {
              "color": "white"
             }
            },
            "type": "table"
           }
          ]
         },
         "layout": {
          "annotationdefaults": {
           "arrowcolor": "#2a3f5f",
           "arrowhead": 0,
           "arrowwidth": 1
          },
          "autotypenumbers": "strict",
          "coloraxis": {
           "colorbar": {
            "outlinewidth": 0,
            "ticks": ""
           }
          },
          "colorscale": {
           "diverging": [
            [
             0,
             "#8e0152"
            ],
            [
             0.1,
             "#c51b7d"
            ],
            [
             0.2,
             "#de77ae"
            ],
            [
             0.3,
             "#f1b6da"
            ],
            [
             0.4,
             "#fde0ef"
            ],
            [
             0.5,
             "#f7f7f7"
            ],
            [
             0.6,
             "#e6f5d0"
            ],
            [
             0.7,
             "#b8e186"
            ],
            [
             0.8,
             "#7fbc41"
            ],
            [
             0.9,
             "#4d9221"
            ],
            [
             1,
             "#276419"
            ]
           ],
           "sequential": [
            [
             0,
             "#0d0887"
            ],
            [
             0.1111111111111111,
             "#46039f"
            ],
            [
             0.2222222222222222,
             "#7201a8"
            ],
            [
             0.3333333333333333,
             "#9c179e"
            ],
            [
             0.4444444444444444,
             "#bd3786"
            ],
            [
             0.5555555555555556,
             "#d8576b"
            ],
            [
             0.6666666666666666,
             "#ed7953"
            ],
            [
             0.7777777777777778,
             "#fb9f3a"
            ],
            [
             0.8888888888888888,
             "#fdca26"
            ],
            [
             1,
             "#f0f921"
            ]
           ],
           "sequentialminus": [
            [
             0,
             "#0d0887"
            ],
            [
             0.1111111111111111,
             "#46039f"
            ],
            [
             0.2222222222222222,
             "#7201a8"
            ],
            [
             0.3333333333333333,
             "#9c179e"
            ],
            [
             0.4444444444444444,
             "#bd3786"
            ],
            [
             0.5555555555555556,
             "#d8576b"
            ],
            [
             0.6666666666666666,
             "#ed7953"
            ],
            [
             0.7777777777777778,
             "#fb9f3a"
            ],
            [
             0.8888888888888888,
             "#fdca26"
            ],
            [
             1,
             "#f0f921"
            ]
           ]
          },
          "colorway": [
           "#636efa",
           "#EF553B",
           "#00cc96",
           "#ab63fa",
           "#FFA15A",
           "#19d3f3",
           "#FF6692",
           "#B6E880",
           "#FF97FF",
           "#FECB52"
          ],
          "font": {
           "color": "#2a3f5f"
          },
          "geo": {
           "bgcolor": "white",
           "lakecolor": "white",
           "landcolor": "#E5ECF6",
           "showlakes": true,
           "showland": true,
           "subunitcolor": "white"
          },
          "hoverlabel": {
           "align": "left"
          },
          "hovermode": "closest",
          "mapbox": {
           "style": "light"
          },
          "paper_bgcolor": "white",
          "plot_bgcolor": "#E5ECF6",
          "polar": {
           "angularaxis": {
            "gridcolor": "white",
            "linecolor": "white",
            "ticks": ""
           },
           "bgcolor": "#E5ECF6",
           "radialaxis": {
            "gridcolor": "white",
            "linecolor": "white",
            "ticks": ""
           }
          },
          "scene": {
           "xaxis": {
            "backgroundcolor": "#E5ECF6",
            "gridcolor": "white",
            "gridwidth": 2,
            "linecolor": "white",
            "showbackground": true,
            "ticks": "",
            "zerolinecolor": "white"
           },
           "yaxis": {
            "backgroundcolor": "#E5ECF6",
            "gridcolor": "white",
            "gridwidth": 2,
            "linecolor": "white",
            "showbackground": true,
            "ticks": "",
            "zerolinecolor": "white"
           },
           "zaxis": {
            "backgroundcolor": "#E5ECF6",
            "gridcolor": "white",
            "gridwidth": 2,
            "linecolor": "white",
            "showbackground": true,
            "ticks": "",
            "zerolinecolor": "white"
           }
          },
          "shapedefaults": {
           "line": {
            "color": "#2a3f5f"
           }
          },
          "ternary": {
           "aaxis": {
            "gridcolor": "white",
            "linecolor": "white",
            "ticks": ""
           },
           "baxis": {
            "gridcolor": "white",
            "linecolor": "white",
            "ticks": ""
           },
           "bgcolor": "#E5ECF6",
           "caxis": {
            "gridcolor": "white",
            "linecolor": "white",
            "ticks": ""
           }
          },
          "title": {
           "x": 0.05
          },
          "xaxis": {
           "automargin": true,
           "gridcolor": "white",
           "linecolor": "white",
           "ticks": "",
           "title": {
            "standoff": 15
           },
           "zerolinecolor": "white",
           "zerolinewidth": 2
          },
          "yaxis": {
           "automargin": true,
           "gridcolor": "white",
           "linecolor": "white",
           "ticks": "",
           "title": {
            "standoff": 15
           },
           "zerolinecolor": "white",
           "zerolinewidth": 2
          }
         }
        },
        "title": {
         "text": "State Revenue Share by Order Mode (Faceted by Channel and Brand)"
        },
        "width": 1000,
        "xaxis": {
         "anchor": "y",
         "domain": [
          0,
          0.98
         ],
         "title": {
          "text": "State"
         }
        },
        "xaxis2": {
         "anchor": "y2",
         "domain": [
          0,
          0.98
         ],
         "matches": "x",
         "showticklabels": false
        },
        "yaxis": {
         "anchor": "x",
         "domain": [
          0,
          0.485
         ],
         "title": {
          "text": "Revenue Share (%)"
         }
        },
        "yaxis2": {
         "anchor": "x2",
         "domain": [
          0.515,
          1
         ],
         "title": {
          "text": "mean_revenue_share"
         }
        }
       }
      }
     },
     "metadata": {},
     "output_type": "display_data"
    }
   ],
   "source": [
    "\n",
    "\n",
    "# Optional: Custom colors\n",
    "OrderMode_c = {\n",
    "    'Grubhub': '#EF553B',\n",
    "    'Mobile': '#636EFA',\n",
    "    'UberEats': '#FF6692',\n",
    "    'DoorDash': '#FFA15A',\n",
    "    'Website': 'rgb(68, 170, 153)',\n",
    "    'Online': 'rgb(144, 103, 167)'\n",
    "}\n",
    "# Creating the plot\n",
    "fig = px.bar(\n",
    "    aux,\n",
    "    x=\"ST\",\n",
    "    y=\"mean_revenue_share\",\n",
    "    color=\"OrderMode\",\n",
    "    text='revenue_share_label',\n",
    "    title=\"State Revenue Share by Order Mode (Faceted by Channel and Brand)\",\n",
    "    labels={\"ST\": \"State\", \"revenue_share\": \"Revenue Share (%)\"},\n",
    "   \n",
    "    facet_col=\"Brand\",\n",
    "     facet_row=\"channel\",\n",
    "    color_discrete_map=OrderMode_c,\n",
    "    height=800,\n",
    "    width=1000\n",
    ")\n",
    "\n",
    "fig.update_layout(\n",
    "    yaxis_title=\"Revenue Share (%)\",\n",
    "    showlegend=True\n",
    ")\n",
    "\n",
    "fig.update_yaxes(matches=None)\n",
    "\n",
    "fig.show()\n"
   ]
  },
  {
   "cell_type": "code",
   "execution_count": 306,
   "metadata": {},
   "outputs": [
    {
     "data": {
      "application/vnd.plotly.v1+json": {
       "config": {
        "plotlyServerURL": "https://plot.ly"
       },
       "data": [
        {
         "alignmentgroup": "True",
         "hovertemplate": "OrderMode=Mobile<br>channel=1PO<br>Brand=LC<br>State=%{x}<br>Revenue Share (%)=%{y}<br>revenue_share_label=%{text}<extra></extra>",
         "legendgroup": "Mobile",
         "marker": {
          "color": "#636EFA",
          "pattern": {
           "shape": ""
          }
         },
         "name": "Mobile",
         "offsetgroup": "Mobile",
         "orientation": "v",
         "showlegend": true,
         "text": [
          "66.1%",
          "62.5%",
          "58.1%",
          "62.9%",
          "60.2%",
          "64.6%",
          "67.9%",
          "63.9%",
          "58.4%"
         ],
         "textposition": "auto",
         "type": "bar",
         "x": [
          "AR",
          "KS",
          "LA",
          "MD",
          "NC",
          "NM",
          "OK",
          "TX",
          "VA"
         ],
         "xaxis": "x2",
         "y": [
          66.11226892678545,
          62.48704016371518,
          58.09136241011048,
          62.87377574470905,
          60.22796863415294,
          64.61774815770708,
          67.87222087833543,
          63.86913339561021,
          58.42657761641369
         ],
         "yaxis": "y2"
        },
        {
         "alignmentgroup": "True",
         "hovertemplate": "OrderMode=Website<br>channel=1PO<br>Brand=LC<br>State=%{x}<br>Revenue Share (%)=%{y}<br>revenue_share_label=%{text}<extra></extra>",
         "legendgroup": "Website",
         "marker": {
          "color": "rgb(68, 170, 153)",
          "pattern": {
           "shape": ""
          }
         },
         "name": "Website",
         "offsetgroup": "Website",
         "orientation": "v",
         "showlegend": true,
         "text": [
          "33.9%",
          "37.5%",
          "41.9%",
          "37.1%",
          "39.8%",
          "35.4%",
          "32.1%",
          "36.1%",
          "41.6%"
         ],
         "textposition": "auto",
         "type": "bar",
         "x": [
          "AR",
          "KS",
          "LA",
          "MD",
          "NC",
          "NM",
          "OK",
          "TX",
          "VA"
         ],
         "xaxis": "x2",
         "y": [
          33.88773107321456,
          37.51295983628483,
          41.90863758988954,
          37.12622425529096,
          39.77203136584706,
          35.38225184229292,
          32.12777912166458,
          36.1308666043898,
          41.57342238358631
         ],
         "yaxis": "y2"
        },
        {
         "alignmentgroup": "True",
         "hovertemplate": "OrderMode=DoorDash<br>channel=3PO<br>Brand=LC<br>State=%{x}<br>Revenue Share (%)=%{y}<br>revenue_share_label=%{text}<extra></extra>",
         "legendgroup": "DoorDash",
         "marker": {
          "color": "#FFA15A",
          "pattern": {
           "shape": ""
          }
         },
         "name": "DoorDash",
         "offsetgroup": "DoorDash",
         "orientation": "v",
         "showlegend": true,
         "text": [
          "96.3%",
          "83.8%",
          "89.2%",
          "60.9%",
          "78.9%",
          "96.8%",
          "92.5%",
          "89.5%",
          "57.6%"
         ],
         "textposition": "auto",
         "type": "bar",
         "x": [
          "AR",
          "KS",
          "LA",
          "MD",
          "NC",
          "NM",
          "OK",
          "TX",
          "VA"
         ],
         "xaxis": "x",
         "y": [
          96.34128988558737,
          83.84941449225617,
          89.17352364984194,
          60.85894543028309,
          78.88477620768064,
          96.77732515711659,
          92.4671688113872,
          89.51373686757421,
          57.60683641124557
         ],
         "yaxis": "y"
        },
        {
         "alignmentgroup": "True",
         "hovertemplate": "OrderMode=UberEats<br>channel=3PO<br>Brand=LC<br>State=%{x}<br>Revenue Share (%)=%{y}<br>revenue_share_label=%{text}<extra></extra>",
         "legendgroup": "UberEats",
         "marker": {
          "color": "#FF6692",
          "pattern": {
           "shape": ""
          }
         },
         "name": "UberEats",
         "offsetgroup": "UberEats",
         "orientation": "v",
         "showlegend": true,
         "text": [
          "3.7%",
          "13.5%",
          "9.8%",
          "34.6%",
          "18.8%",
          "3.0%",
          "6.3%",
          "9.8%",
          "36.1%"
         ],
         "textposition": "auto",
         "type": "bar",
         "x": [
          "AR",
          "KS",
          "LA",
          "MD",
          "NC",
          "NM",
          "OK",
          "TX",
          "VA"
         ],
         "xaxis": "x",
         "y": [
          3.658710114412632,
          13.52015511153729,
          9.847983449404097,
          34.633185202607976,
          18.786488043787628,
          2.980550421141678,
          6.33542271173049,
          9.754852280666723,
          36.14688482694838
         ],
         "yaxis": "y"
        },
        {
         "alignmentgroup": "True",
         "hovertemplate": "OrderMode=Grubhub<br>channel=3PO<br>Brand=LC<br>State=%{x}<br>Revenue Share (%)=%{y}<br>revenue_share_label=%{text}<extra></extra>",
         "legendgroup": "Grubhub",
         "marker": {
          "color": "#EF553B",
          "pattern": {
           "shape": ""
          }
         },
         "name": "Grubhub",
         "offsetgroup": "Grubhub",
         "orientation": "v",
         "showlegend": true,
         "text": [
          "2.6%",
          "1.0%",
          "4.5%",
          "2.3%",
          "0.2%",
          "1.2%",
          "0.7%",
          "6.2%"
         ],
         "textposition": "auto",
         "type": "bar",
         "x": [
          "KS",
          "LA",
          "MD",
          "NC",
          "NM",
          "OK",
          "TX",
          "VA"
         ],
         "xaxis": "x",
         "y": [
          2.6304303962065294,
          0.9784929007539659,
          4.507869367108944,
          2.3287357485317344,
          0.2421244217417217,
          1.1974084768823139,
          0.7314108517590552,
          6.2462787618060585
         ],
         "yaxis": "y"
        }
       ],
       "layout": {
        "annotations": [
         {
          "font": {},
          "showarrow": false,
          "text": "Brand=LC",
          "x": 0.49,
          "xanchor": "center",
          "xref": "paper",
          "y": 1,
          "yanchor": "bottom",
          "yref": "paper"
         },
         {
          "font": {},
          "showarrow": false,
          "text": "channel=3PO",
          "textangle": 90,
          "x": 0.98,
          "xanchor": "left",
          "xref": "paper",
          "y": 0.2425,
          "yanchor": "middle",
          "yref": "paper"
         },
         {
          "font": {},
          "showarrow": false,
          "text": "channel=1PO",
          "textangle": 90,
          "x": 0.98,
          "xanchor": "left",
          "xref": "paper",
          "y": 0.7575000000000001,
          "yanchor": "middle",
          "yref": "paper"
         }
        ],
        "barmode": "relative",
        "height": 800,
        "legend": {
         "title": {
          "text": "OrderMode"
         },
         "tracegroupgap": 0
        },
        "showlegend": true,
        "template": {
         "data": {
          "bar": [
           {
            "error_x": {
             "color": "#2a3f5f"
            },
            "error_y": {
             "color": "#2a3f5f"
            },
            "marker": {
             "line": {
              "color": "#E5ECF6",
              "width": 0.5
             },
             "pattern": {
              "fillmode": "overlay",
              "size": 10,
              "solidity": 0.2
             }
            },
            "type": "bar"
           }
          ],
          "barpolar": [
           {
            "marker": {
             "line": {
              "color": "#E5ECF6",
              "width": 0.5
             },
             "pattern": {
              "fillmode": "overlay",
              "size": 10,
              "solidity": 0.2
             }
            },
            "type": "barpolar"
           }
          ],
          "carpet": [
           {
            "aaxis": {
             "endlinecolor": "#2a3f5f",
             "gridcolor": "white",
             "linecolor": "white",
             "minorgridcolor": "white",
             "startlinecolor": "#2a3f5f"
            },
            "baxis": {
             "endlinecolor": "#2a3f5f",
             "gridcolor": "white",
             "linecolor": "white",
             "minorgridcolor": "white",
             "startlinecolor": "#2a3f5f"
            },
            "type": "carpet"
           }
          ],
          "choropleth": [
           {
            "colorbar": {
             "outlinewidth": 0,
             "ticks": ""
            },
            "type": "choropleth"
           }
          ],
          "contour": [
           {
            "colorbar": {
             "outlinewidth": 0,
             "ticks": ""
            },
            "colorscale": [
             [
              0,
              "#0d0887"
             ],
             [
              0.1111111111111111,
              "#46039f"
             ],
             [
              0.2222222222222222,
              "#7201a8"
             ],
             [
              0.3333333333333333,
              "#9c179e"
             ],
             [
              0.4444444444444444,
              "#bd3786"
             ],
             [
              0.5555555555555556,
              "#d8576b"
             ],
             [
              0.6666666666666666,
              "#ed7953"
             ],
             [
              0.7777777777777778,
              "#fb9f3a"
             ],
             [
              0.8888888888888888,
              "#fdca26"
             ],
             [
              1,
              "#f0f921"
             ]
            ],
            "type": "contour"
           }
          ],
          "contourcarpet": [
           {
            "colorbar": {
             "outlinewidth": 0,
             "ticks": ""
            },
            "type": "contourcarpet"
           }
          ],
          "heatmap": [
           {
            "colorbar": {
             "outlinewidth": 0,
             "ticks": ""
            },
            "colorscale": [
             [
              0,
              "#0d0887"
             ],
             [
              0.1111111111111111,
              "#46039f"
             ],
             [
              0.2222222222222222,
              "#7201a8"
             ],
             [
              0.3333333333333333,
              "#9c179e"
             ],
             [
              0.4444444444444444,
              "#bd3786"
             ],
             [
              0.5555555555555556,
              "#d8576b"
             ],
             [
              0.6666666666666666,
              "#ed7953"
             ],
             [
              0.7777777777777778,
              "#fb9f3a"
             ],
             [
              0.8888888888888888,
              "#fdca26"
             ],
             [
              1,
              "#f0f921"
             ]
            ],
            "type": "heatmap"
           }
          ],
          "heatmapgl": [
           {
            "colorbar": {
             "outlinewidth": 0,
             "ticks": ""
            },
            "colorscale": [
             [
              0,
              "#0d0887"
             ],
             [
              0.1111111111111111,
              "#46039f"
             ],
             [
              0.2222222222222222,
              "#7201a8"
             ],
             [
              0.3333333333333333,
              "#9c179e"
             ],
             [
              0.4444444444444444,
              "#bd3786"
             ],
             [
              0.5555555555555556,
              "#d8576b"
             ],
             [
              0.6666666666666666,
              "#ed7953"
             ],
             [
              0.7777777777777778,
              "#fb9f3a"
             ],
             [
              0.8888888888888888,
              "#fdca26"
             ],
             [
              1,
              "#f0f921"
             ]
            ],
            "type": "heatmapgl"
           }
          ],
          "histogram": [
           {
            "marker": {
             "pattern": {
              "fillmode": "overlay",
              "size": 10,
              "solidity": 0.2
             }
            },
            "type": "histogram"
           }
          ],
          "histogram2d": [
           {
            "colorbar": {
             "outlinewidth": 0,
             "ticks": ""
            },
            "colorscale": [
             [
              0,
              "#0d0887"
             ],
             [
              0.1111111111111111,
              "#46039f"
             ],
             [
              0.2222222222222222,
              "#7201a8"
             ],
             [
              0.3333333333333333,
              "#9c179e"
             ],
             [
              0.4444444444444444,
              "#bd3786"
             ],
             [
              0.5555555555555556,
              "#d8576b"
             ],
             [
              0.6666666666666666,
              "#ed7953"
             ],
             [
              0.7777777777777778,
              "#fb9f3a"
             ],
             [
              0.8888888888888888,
              "#fdca26"
             ],
             [
              1,
              "#f0f921"
             ]
            ],
            "type": "histogram2d"
           }
          ],
          "histogram2dcontour": [
           {
            "colorbar": {
             "outlinewidth": 0,
             "ticks": ""
            },
            "colorscale": [
             [
              0,
              "#0d0887"
             ],
             [
              0.1111111111111111,
              "#46039f"
             ],
             [
              0.2222222222222222,
              "#7201a8"
             ],
             [
              0.3333333333333333,
              "#9c179e"
             ],
             [
              0.4444444444444444,
              "#bd3786"
             ],
             [
              0.5555555555555556,
              "#d8576b"
             ],
             [
              0.6666666666666666,
              "#ed7953"
             ],
             [
              0.7777777777777778,
              "#fb9f3a"
             ],
             [
              0.8888888888888888,
              "#fdca26"
             ],
             [
              1,
              "#f0f921"
             ]
            ],
            "type": "histogram2dcontour"
           }
          ],
          "mesh3d": [
           {
            "colorbar": {
             "outlinewidth": 0,
             "ticks": ""
            },
            "type": "mesh3d"
           }
          ],
          "parcoords": [
           {
            "line": {
             "colorbar": {
              "outlinewidth": 0,
              "ticks": ""
             }
            },
            "type": "parcoords"
           }
          ],
          "pie": [
           {
            "automargin": true,
            "type": "pie"
           }
          ],
          "scatter": [
           {
            "fillpattern": {
             "fillmode": "overlay",
             "size": 10,
             "solidity": 0.2
            },
            "type": "scatter"
           }
          ],
          "scatter3d": [
           {
            "line": {
             "colorbar": {
              "outlinewidth": 0,
              "ticks": ""
             }
            },
            "marker": {
             "colorbar": {
              "outlinewidth": 0,
              "ticks": ""
             }
            },
            "type": "scatter3d"
           }
          ],
          "scattercarpet": [
           {
            "marker": {
             "colorbar": {
              "outlinewidth": 0,
              "ticks": ""
             }
            },
            "type": "scattercarpet"
           }
          ],
          "scattergeo": [
           {
            "marker": {
             "colorbar": {
              "outlinewidth": 0,
              "ticks": ""
             }
            },
            "type": "scattergeo"
           }
          ],
          "scattergl": [
           {
            "marker": {
             "colorbar": {
              "outlinewidth": 0,
              "ticks": ""
             }
            },
            "type": "scattergl"
           }
          ],
          "scattermapbox": [
           {
            "marker": {
             "colorbar": {
              "outlinewidth": 0,
              "ticks": ""
             }
            },
            "type": "scattermapbox"
           }
          ],
          "scatterpolar": [
           {
            "marker": {
             "colorbar": {
              "outlinewidth": 0,
              "ticks": ""
             }
            },
            "type": "scatterpolar"
           }
          ],
          "scatterpolargl": [
           {
            "marker": {
             "colorbar": {
              "outlinewidth": 0,
              "ticks": ""
             }
            },
            "type": "scatterpolargl"
           }
          ],
          "scatterternary": [
           {
            "marker": {
             "colorbar": {
              "outlinewidth": 0,
              "ticks": ""
             }
            },
            "type": "scatterternary"
           }
          ],
          "surface": [
           {
            "colorbar": {
             "outlinewidth": 0,
             "ticks": ""
            },
            "colorscale": [
             [
              0,
              "#0d0887"
             ],
             [
              0.1111111111111111,
              "#46039f"
             ],
             [
              0.2222222222222222,
              "#7201a8"
             ],
             [
              0.3333333333333333,
              "#9c179e"
             ],
             [
              0.4444444444444444,
              "#bd3786"
             ],
             [
              0.5555555555555556,
              "#d8576b"
             ],
             [
              0.6666666666666666,
              "#ed7953"
             ],
             [
              0.7777777777777778,
              "#fb9f3a"
             ],
             [
              0.8888888888888888,
              "#fdca26"
             ],
             [
              1,
              "#f0f921"
             ]
            ],
            "type": "surface"
           }
          ],
          "table": [
           {
            "cells": {
             "fill": {
              "color": "#EBF0F8"
             },
             "line": {
              "color": "white"
             }
            },
            "header": {
             "fill": {
              "color": "#C8D4E3"
             },
             "line": {
              "color": "white"
             }
            },
            "type": "table"
           }
          ]
         },
         "layout": {
          "annotationdefaults": {
           "arrowcolor": "#2a3f5f",
           "arrowhead": 0,
           "arrowwidth": 1
          },
          "autotypenumbers": "strict",
          "coloraxis": {
           "colorbar": {
            "outlinewidth": 0,
            "ticks": ""
           }
          },
          "colorscale": {
           "diverging": [
            [
             0,
             "#8e0152"
            ],
            [
             0.1,
             "#c51b7d"
            ],
            [
             0.2,
             "#de77ae"
            ],
            [
             0.3,
             "#f1b6da"
            ],
            [
             0.4,
             "#fde0ef"
            ],
            [
             0.5,
             "#f7f7f7"
            ],
            [
             0.6,
             "#e6f5d0"
            ],
            [
             0.7,
             "#b8e186"
            ],
            [
             0.8,
             "#7fbc41"
            ],
            [
             0.9,
             "#4d9221"
            ],
            [
             1,
             "#276419"
            ]
           ],
           "sequential": [
            [
             0,
             "#0d0887"
            ],
            [
             0.1111111111111111,
             "#46039f"
            ],
            [
             0.2222222222222222,
             "#7201a8"
            ],
            [
             0.3333333333333333,
             "#9c179e"
            ],
            [
             0.4444444444444444,
             "#bd3786"
            ],
            [
             0.5555555555555556,
             "#d8576b"
            ],
            [
             0.6666666666666666,
             "#ed7953"
            ],
            [
             0.7777777777777778,
             "#fb9f3a"
            ],
            [
             0.8888888888888888,
             "#fdca26"
            ],
            [
             1,
             "#f0f921"
            ]
           ],
           "sequentialminus": [
            [
             0,
             "#0d0887"
            ],
            [
             0.1111111111111111,
             "#46039f"
            ],
            [
             0.2222222222222222,
             "#7201a8"
            ],
            [
             0.3333333333333333,
             "#9c179e"
            ],
            [
             0.4444444444444444,
             "#bd3786"
            ],
            [
             0.5555555555555556,
             "#d8576b"
            ],
            [
             0.6666666666666666,
             "#ed7953"
            ],
            [
             0.7777777777777778,
             "#fb9f3a"
            ],
            [
             0.8888888888888888,
             "#fdca26"
            ],
            [
             1,
             "#f0f921"
            ]
           ]
          },
          "colorway": [
           "#636efa",
           "#EF553B",
           "#00cc96",
           "#ab63fa",
           "#FFA15A",
           "#19d3f3",
           "#FF6692",
           "#B6E880",
           "#FF97FF",
           "#FECB52"
          ],
          "font": {
           "color": "#2a3f5f"
          },
          "geo": {
           "bgcolor": "white",
           "lakecolor": "white",
           "landcolor": "#E5ECF6",
           "showlakes": true,
           "showland": true,
           "subunitcolor": "white"
          },
          "hoverlabel": {
           "align": "left"
          },
          "hovermode": "closest",
          "mapbox": {
           "style": "light"
          },
          "paper_bgcolor": "white",
          "plot_bgcolor": "#E5ECF6",
          "polar": {
           "angularaxis": {
            "gridcolor": "white",
            "linecolor": "white",
            "ticks": ""
           },
           "bgcolor": "#E5ECF6",
           "radialaxis": {
            "gridcolor": "white",
            "linecolor": "white",
            "ticks": ""
           }
          },
          "scene": {
           "xaxis": {
            "backgroundcolor": "#E5ECF6",
            "gridcolor": "white",
            "gridwidth": 2,
            "linecolor": "white",
            "showbackground": true,
            "ticks": "",
            "zerolinecolor": "white"
           },
           "yaxis": {
            "backgroundcolor": "#E5ECF6",
            "gridcolor": "white",
            "gridwidth": 2,
            "linecolor": "white",
            "showbackground": true,
            "ticks": "",
            "zerolinecolor": "white"
           },
           "zaxis": {
            "backgroundcolor": "#E5ECF6",
            "gridcolor": "white",
            "gridwidth": 2,
            "linecolor": "white",
            "showbackground": true,
            "ticks": "",
            "zerolinecolor": "white"
           }
          },
          "shapedefaults": {
           "line": {
            "color": "#2a3f5f"
           }
          },
          "ternary": {
           "aaxis": {
            "gridcolor": "white",
            "linecolor": "white",
            "ticks": ""
           },
           "baxis": {
            "gridcolor": "white",
            "linecolor": "white",
            "ticks": ""
           },
           "bgcolor": "#E5ECF6",
           "caxis": {
            "gridcolor": "white",
            "linecolor": "white",
            "ticks": ""
           }
          },
          "title": {
           "x": 0.05
          },
          "xaxis": {
           "automargin": true,
           "gridcolor": "white",
           "linecolor": "white",
           "ticks": "",
           "title": {
            "standoff": 15
           },
           "zerolinecolor": "white",
           "zerolinewidth": 2
          },
          "yaxis": {
           "automargin": true,
           "gridcolor": "white",
           "linecolor": "white",
           "ticks": "",
           "title": {
            "standoff": 15
           },
           "zerolinecolor": "white",
           "zerolinewidth": 2
          }
         }
        },
        "title": {
         "text": "Normalized Revenue Share per Store by State, Channel, and Order Mode"
        },
        "width": 1000,
        "xaxis": {
         "anchor": "y",
         "domain": [
          0,
          0.98
         ],
         "title": {
          "text": "State"
         }
        },
        "xaxis2": {
         "anchor": "y2",
         "domain": [
          0,
          0.98
         ],
         "matches": "x",
         "showticklabels": false
        },
        "yaxis": {
         "anchor": "x",
         "domain": [
          0,
          0.485
         ],
         "title": {
          "text": "Normalized Revenue Share (%)"
         }
        },
        "yaxis2": {
         "anchor": "x2",
         "domain": [
          0.515,
          1
         ],
         "title": {
          "text": "Revenue Share (%)"
         }
        }
       }
      }
     },
     "metadata": {},
     "output_type": "display_data"
    }
   ],
   "source": [
    "import pandas as pd\n",
    "import plotly.express as px\n",
    "\n",
    "# 1. Group revenue per state/channel/OrderMode/store\n",
    "aux = x[x['Brand'] == 'LC'].groupby(['Brand', 'ST', 'channel', 'OrderMode'], as_index=False)['revenue'].sum()\n",
    "\n",
    "# 2. Get store count per state\n",
    "store_counts = x[x['Brand'] == 'LC'].groupby('ST')['StoreID'].nunique().reset_index()\n",
    "store_counts.rename(columns={'StoreID': 'store_count'}, inplace=True)\n",
    "\n",
    "# 3. Merge store count into revenue data\n",
    "aux = aux.merge(store_counts, on='ST', how='left')\n",
    "\n",
    "# 4. Normalize revenue by store count\n",
    "aux['revenue_per_store'] = aux['revenue'] / aux['store_count']\n",
    "\n",
    "# 5. Calculate total revenue_per_store within each Brand+State+Channel group\n",
    "total_rev_per_group = aux.groupby(['Brand', 'ST', 'channel'])['revenue_per_store'].transform('sum')\n",
    "\n",
    "# 6. Calculate revenue share (% of normalized revenue)\n",
    "aux['revenue_share_percent'] = (aux['revenue_per_store'] / total_rev_per_group) * 100\n",
    "aux['revenue_share_label'] = aux['revenue_share_percent'].map(lambda x: f\"{x:.1f}%\")\n",
    "\n",
    "# 7. Custom color palette\n",
    "OrderMode_c = {\n",
    "    'Grubhub': '#EF553B',\n",
    "    'Mobile': '#636EFA',\n",
    "    'UberEats': '#FF6692',\n",
    "    'DoorDash': '#FFA15A',\n",
    "    'Website': 'rgb(68, 170, 153)',\n",
    "    'Online': 'rgb(144, 103, 167)'\n",
    "}\n",
    "\n",
    "# 8. Plot revenue share (% normalized by store count)\n",
    "fig = px.bar(\n",
    "    aux,\n",
    "    x=\"ST\",\n",
    "    y=\"revenue_share_percent\",\n",
    "    color=\"OrderMode\",\n",
    "    text=\"revenue_share_label\",\n",
    "    title=\"Normalized Revenue Share per Store by State, Channel, and Order Mode\",\n",
    "    labels={\"ST\": \"State\", \"revenue_share_percent\": \"Revenue Share (%)\"},\n",
    "    facet_row=\"channel\",\n",
    "    facet_col=\"Brand\",\n",
    "    color_discrete_map=OrderMode_c,\n",
    "    height=800,\n",
    "    width=1000\n",
    ")\n",
    "\n",
    "fig.update_layout(\n",
    "    yaxis_title=\"Normalized Revenue Share (%)\",\n",
    "    showlegend=True\n",
    ")\n",
    "\n",
    "fig.update_yaxes(matches=None)\n",
    "\n",
    "fig.show()\n"
   ]
  },
  {
   "cell_type": "code",
   "execution_count": null,
   "metadata": {},
   "outputs": [],
   "source": []
  },
  {
   "cell_type": "code",
   "execution_count": null,
   "metadata": {},
   "outputs": [],
   "source": []
  },
  {
   "cell_type": "code",
   "execution_count": null,
   "metadata": {},
   "outputs": [],
   "source": []
  },
  {
   "cell_type": "code",
   "execution_count": 185,
   "metadata": {},
   "outputs": [
    {
     "data": {
      "text/plain": [
       "Index(['Zone', 'Franchise Store', 'Location', 'CaesarVision Store Name',\n",
       "       'Address 1', 'City', 'ST', 'Postal\\nCode', 'Latitude', 'Longitude',\n",
       "       'Hours SUN_THU\\nSUN-THU', 'Hours FRI_SAT\\nFRI-SAT', 'Shared Mail',\n",
       "       'DMA', 'County/Parish', 'Franchise Key Contact Email Name', 'Franchise',\n",
       "       'Franchise Key Contact Email', 'Franchise Key Contact Phone Name',\n",
       "       'Franchise Key Contact Phone ', 'AADT', 'AADT Source', 'ariel comments',\n",
       "       'street concat', 'zone'],\n",
       "      dtype='object')"
      ]
     },
     "execution_count": 185,
     "metadata": {},
     "output_type": "execute_result"
    }
   ],
   "source": [
    "lc_location=pd.read_excel('VIBE_LC locations.xlsx')\n",
    "lc_location.columns\n"
   ]
  },
  {
   "cell_type": "code",
   "execution_count": 186,
   "metadata": {},
   "outputs": [
    {
     "data": {
      "text/plain": [
       "array([1389.0001, 1389.0002, 1389.0003, 1389.0004, 1389.0005, 1389.0008,\n",
       "       1389.001 , 1389.0011, 1389.0012, 1389.0013, 1389.0014, 1494.0001,\n",
       "       1494.0002, 1494.0004, 1494.0005, 1826.0001, 1826.0002, 1826.0003,\n",
       "       1826.0005, 1893.0001, 1893.0002, 1940.0001, 1940.0007, 1940.0009,\n",
       "       1940.001 , 1940.0011, 1940.0014, 1940.0021, 1944.0001, 1944.0003,\n",
       "       1944.0004, 1944.0005, 1944.0006, 1978.0002, 1978.0005, 3222.0001,\n",
       "       3222.0002, 3222.0003, 3222.0004, 3222.0006, 3222.0007, 3222.0008,\n",
       "       3222.0009, 3222.001 , 3222.0012, 3222.0013, 3222.0014, 3222.0015,\n",
       "       3222.0016, 3222.0017, 3222.0018, 3222.0019, 3222.0021, 3222.0022,\n",
       "       3222.0023, 3222.0024, 3222.0025, 3222.0026, 3222.0027, 3222.0028,\n",
       "       3222.0032, 3222.0033, 3222.0034, 3222.0035, 3222.0036, 3222.0038,\n",
       "       3222.0039, 3222.0043, 3222.0044, 3222.0045, 3222.0046, 3222.0047,\n",
       "       3646.0001, 3646.0002, 3646.0003, 3646.0004])"
      ]
     },
     "execution_count": 186,
     "metadata": {},
     "output_type": "execute_result"
    }
   ],
   "source": [
    "lc_location['Franchise Store'].unique()\n"
   ]
  },
  {
   "cell_type": "code",
   "execution_count": 187,
   "metadata": {},
   "outputs": [
    {
     "data": {
      "text/plain": [
       "array(['01389-00001', '01389-00002', '01389-00003', '01389-00004',\n",
       "       '01389-00005', '01389-00008', '01389-00010', '01389-00011',\n",
       "       '01389-00012', '01389-00013', '01389-00014', '01494-00001',\n",
       "       '01494-00002', '01494-00004', '01494-00005', '01826-00001',\n",
       "       '01826-00002', '01826-00003', '01826-00005', '01893-00001',\n",
       "       '01893-00002', '01940-00001', '01940-00007', '01940-00009',\n",
       "       '01940-00010', '01940-00011', '01940-00014', '01940-00021',\n",
       "       '01944-00001', '01944-00003', '01944-00004', '01944-00005',\n",
       "       '01944-00006', '01978-00002', '01978-00005', '03222-00001',\n",
       "       '03222-00002', '03222-00003', '03222-00004', '03222-00006',\n",
       "       '03222-00007', '03222-00008', '03222-00009', '03222-00010',\n",
       "       '03222-00012', '03222-00013', '03222-00014', '03222-00015',\n",
       "       '03222-00016', '03222-00017', '03222-00018', '03222-00019',\n",
       "       '03222-00021', '03222-00022', '03222-00023', '03222-00024',\n",
       "       '03222-00025', '03222-00026', '03222-00027', '03222-00028',\n",
       "       '03222-00032', '03222-00033', '03222-00034', '03222-00035',\n",
       "       '03222-00036', '03222-00038', '03222-00039', '03222-00043',\n",
       "       '03222-00044', '03222-00045', '03222-00046', '03222-00047',\n",
       "       '03646-00001', '03646-00002', '03646-00003', '03646-00004'],\n",
       "      dtype=object)"
      ]
     },
     "execution_count": 187,
     "metadata": {},
     "output_type": "execute_result"
    }
   ],
   "source": [
    "# Ensure the column is float (if it isn't already)\n",
    "lc_location['Franchise Store'] = lc_location['Franchise Store'].astype(float)\n",
    "\n",
    "# Split the number into integer and decimal parts\n",
    "lc_location['store_id_formatted'] =lc_location['Franchise Store'] .apply(\n",
    "    lambda x: f\"{int(x):05d}-{int(round((x - int(x)) * 10000)):05d}\"\n",
    ")\n",
    "lc_location['store_id_formatted'].unique()\n"
   ]
  },
  {
   "cell_type": "code",
   "execution_count": 188,
   "metadata": {},
   "outputs": [
    {
     "data": {
      "text/plain": [
       "Index(['Zone', 'Franchise Store', 'Location', 'CaesarVision Store Name',\n",
       "       'Address 1', 'City', 'ST', 'Postal\\nCode', 'Latitude', 'Longitude',\n",
       "       'Hours SUN_THU\\nSUN-THU', 'Hours FRI_SAT\\nFRI-SAT', 'Shared Mail',\n",
       "       'DMA', 'County/Parish', 'Franchise Key Contact Email Name', 'Franchise',\n",
       "       'Franchise Key Contact Email', 'Franchise Key Contact Phone Name',\n",
       "       'Franchise Key Contact Phone ', 'AADT', 'AADT Source', 'ariel comments',\n",
       "       'street concat', 'zone', 'store_id_formatted'],\n",
       "      dtype='object')"
      ]
     },
     "execution_count": 188,
     "metadata": {},
     "output_type": "execute_result"
    }
   ],
   "source": [
    "lc_location.columns\n"
   ]
  },
  {
   "cell_type": "code",
   "execution_count": 189,
   "metadata": {},
   "outputs": [
    {
     "name": "stderr",
     "output_type": "stream",
     "text": [
      "/Library/Frameworks/Python.framework/Versions/3.7/lib/python3.7/site-packages/ipykernel_launcher.py:2: SettingWithCopyWarning:\n",
      "\n",
      "\n",
      "A value is trying to be set on a copy of a slice from a DataFrame.\n",
      "Try using .loc[row_indexer,col_indexer] = value instead\n",
      "\n",
      "See the caveats in the documentation: https://pandas.pydata.org/pandas-docs/stable/user_guide/indexing.html#returning-a-view-versus-a-copy\n",
      "\n"
     ]
    }
   ],
   "source": [
    "df=lc_location[['ST','store_id_formatted','City','Zone','Latitude', 'Longitude']]\n",
    "df['StoreID']=df['store_id_formatted']\n"
   ]
  },
  {
   "cell_type": "code",
   "execution_count": 192,
   "metadata": {},
   "outputs": [],
   "source": [
    "lc_extended=lc.merge(df,on='StoreID',how='left')\n"
   ]
  },
  {
   "cell_type": "code",
   "execution_count": 124,
   "metadata": {},
   "outputs": [
    {
     "data": {
      "application/vnd.plotly.v1+json": {
       "config": {
        "plotlyServerURL": "https://plot.ly"
       },
       "data": [
        {
         "colorbar": {
          "title": {
           "text": "Revenue"
          }
         },
         "colorscale": [
          [
           0,
           "rgb(247,251,255)"
          ],
          [
           0.125,
           "rgb(222,235,247)"
          ],
          [
           0.25,
           "rgb(198,219,239)"
          ],
          [
           0.375,
           "rgb(158,202,225)"
          ],
          [
           0.5,
           "rgb(107,174,214)"
          ],
          [
           0.625,
           "rgb(66,146,198)"
          ],
          [
           0.75,
           "rgb(33,113,181)"
          ],
          [
           0.875,
           "rgb(8,81,156)"
          ],
          [
           1,
           "rgb(8,48,107)"
          ]
         ],
         "hoverinfo": "text",
         "locationmode": "USA-states",
         "locations": [
          "AL",
          "AK",
          "AZ",
          "AR",
          "CA",
          "CO",
          "CT",
          "DE",
          "FL",
          "GA",
          "HI",
          "ID",
          "IL",
          "IN",
          "IA",
          "KS",
          "KY",
          "LA",
          "ME",
          "MD",
          "MA",
          "MI",
          "MN",
          "MS",
          "MO",
          "MT",
          "NE",
          "NV",
          "NH",
          "NJ",
          "NM",
          "NY",
          "NC",
          "ND",
          "OH",
          "OK",
          "OR",
          "PA",
          "RI",
          "SC",
          "SD",
          "TN",
          "TX",
          "UT",
          "VT",
          "VA",
          "WA",
          "WV",
          "WI",
          "WY"
         ],
         "name": "State Revenue",
         "text": [
          "0.00%",
          "0.00%",
          "0.00%",
          "329446.99%",
          "0.00%",
          "0.00%",
          "0.00%",
          "0.00%",
          "0.00%",
          "0.00%",
          "0.00%",
          "0.00%",
          "0.00%",
          "0.00%",
          "0.00%",
          "6478997.74%",
          "0.00%",
          "597355.52%",
          "0.00%",
          "3029277.29%",
          "0.00%",
          "0.00%",
          "0.00%",
          "0.00%",
          "0.00%",
          "0.00%",
          "0.00%",
          "0.00%",
          "0.00%",
          "0.00%",
          "3033992.31%",
          "0.00%",
          "3791569.85%",
          "0.00%",
          "0.00%",
          "7456522.69%",
          "0.00%",
          "0.00%",
          "0.00%",
          "0.00%",
          "0.00%",
          "0.00%",
          "8146809.99%",
          "0.00%",
          "0.00%",
          "1298011.66%",
          "0.00%",
          "0.00%",
          "0.00%",
          "0.00%"
         ],
         "type": "choropleth",
         "z": [
          0,
          0,
          0,
          329446.9899999998,
          0,
          0,
          0,
          0,
          0,
          0,
          0,
          0,
          0,
          0,
          0,
          6478997.739999991,
          0,
          597355.5199999998,
          0,
          3029277.2899999972,
          0,
          0,
          0,
          0,
          0,
          0,
          0,
          0,
          0,
          0,
          3033992.309999996,
          0,
          3791569.849999996,
          0,
          0,
          7456522.689999991,
          0,
          0,
          0,
          0,
          0,
          0,
          8146809.989999992,
          0,
          0,
          1298011.6599999988,
          0,
          0,
          0,
          0
         ]
        },
        {
         "lat": [
          31.6163751123364,
          33.4708469216631,
          33.4611261138286,
          33.6608226745734,
          33.1310487498119,
          30.1537123331572,
          32.0879354115067,
          30.6449373843879,
          32.5324497169919,
          30.5715485868773,
          31.9545133452008,
          32.5291058790381,
          31.7545448912717,
          32.2486794597519,
          33.2384033130618,
          34.1912008606453,
          33.9985799790665,
          34.919714722033,
          36.9024466196003,
          27.8904878590565,
          29.5518069710487,
          38.9639538143806,
          38.9395727618052,
          38.7840887371813,
          38.9520203424831,
          38.9892439981741,
          39.0760014790925,
          38.9978606819281,
          35.8920566399388,
          36.1359264177567,
          36.2791600013523,
          36.7377792095082,
          34.6526277900132,
          38.8326833079714,
          38.8559713780843,
          36.0595029775841,
          36.0904747490526,
          35.9917331257295,
          36.0462528408128,
          36.0170901093231,
          35.0284955248644,
          34.7775696330197,
          37.9747131356868,
          37.0467634356237,
          30.8936838544211,
          31.4184130582296,
          30.3596324572989,
          32.726233189509,
          34.4218022786582,
          32.429587422065,
          32.842846308873,
          33.3787353747722,
          38.4105707375676,
          33.4145223381412,
          32.3326592822711,
          33.1489126631233,
          35.5285992323832,
          39.1919313436769,
          39.0277986331387,
          31.8461341780859,
          35.0768886802461,
          35.0138685142781,
          35.5893487934412,
          35.4744574679681,
          35.2124888118591,
          35.1517518508754,
          35.3421171059384,
          37.7238912405009,
          37.5474276056965,
          37.7094351680991,
          37.6670838820194,
          37.6944547005574,
          38.8276808001728,
          37.6652808015722,
          37.6481116795191,
          38.8944718263529
         ],
         "lon": [
          -94.6523330008739,
          -94.0947115735223,
          -94.0437437131729,
          -95.5350076085931,
          -95.6006786323948,
          -96.3980917355824,
          -96.4721378170882,
          -96.3533948036385,
          -94.3501613324143,
          -96.3099517748056,
          -95.2672704477733,
          -93.717208317074,
          -93.0826843901094,
          -101.477175805434,
          -92.6661333593806,
          -97.1425286458539,
          -96.4111640612009,
          -95.7458043746639,
          -94.877235174593,
          -97.3106980037184,
          -95.6973379171658,
          -76.8456607475258,
          -76.9239410168459,
          -77.1211986591817,
          -76.9661749438348,
          -76.9894859364502,
          -77.1156655745108,
          -76.9141156610192,
          -94.9766896341456,
          -96.1178115764667,
          -95.8352041341317,
          -97.0665001169288,
          -99.3343907323434,
          -77.2019145303447,
          -77.1136479898598,
          -95.8147219034587,
          -95.9029011322927,
          -96.1129799322963,
          -95.9599727322943,
          -95.7995664764709,
          -97.9341550341762,
          -96.6695361035039,
          -100.849912289893,
          -100.921907359247,
          -102.883307132466,
          -103.50200710546,
          -103.654275361317,
          -103.143931632408,
          -103.206034774681,
          -104.228663274747,
          -104.418707190074,
          -104.524267517046,
          -96.1796447033716,
          -104.52221736122,
          -102.550474376596,
          -94.9681426477346,
          -98.6934430169723,
          -96.6086818898468,
          -96.8291892321829,
          -102.480726503601,
          -80.6491748746584,
          -80.5701370458256,
          -80.8400292746404,
          -81.2443755764903,
          -80.6905011476643,
          -80.8753214323261,
          -80.178040445814,
          -97.3649366745625,
          -97.2434320034042,
          -97.4619637303875,
          -97.2269228033997,
          -97.3911542745636,
          -97.6013450456853,
          -97.2878303899051,
          -97.3521499457302,
          -99.3171576610232
         ],
         "marker": {
          "color": "red",
          "opacity": 0.7,
          "size": 5
         },
         "mode": "markers",
         "name": "Stores",
         "text": [
          "Store: 01389-00001<br>Revenue: 831466.3899999991",
          "Store: 01389-00002<br>Revenue: 466403.19999999955",
          "Store: 01389-00003<br>Revenue: 384460.58999999985",
          "Store: 01389-00004<br>Revenue: 602217.3199999995",
          "Store: 01389-00005<br>Revenue: 661731.5699999993",
          "Store: 01389-00008<br>Revenue: 599709.3399999993",
          "Store: 01389-00010<br>Revenue: 501240.26999999955",
          "Store: 01389-00011<br>Revenue: 754219.0599999992",
          "Store: 01389-00012<br>Revenue: 397363.6499999998",
          "Store: 01389-00013<br>Revenue: 549494.1999999994",
          "Store: 01389-00014<br>Revenue: 445954.37999999966",
          "Store: 01494-00001<br>Revenue: 568976.8399999997",
          "Store: 01494-00002<br>Revenue: 310785.43",
          "Store: 01494-00004<br>Revenue: 551868.8199999996",
          "Store: 01494-00005<br>Revenue: 405627.38999999984",
          "Store: 01826-00001<br>Revenue: 695455.6599999993",
          "Store: 01826-00002<br>Revenue: 833735.7599999992",
          "Store: 01826-00003<br>Revenue: 466925.28999999975",
          "Store: 01826-00005<br>Revenue: 180382.38000000003",
          "Store: 01893-00001<br>Revenue: 720649.0899999995",
          "Store: 01893-00002<br>Revenue: 699172.5499999995",
          "Store: 01940-00001<br>Revenue: 797357.7299999995",
          "Store: 01940-00007<br>Revenue: 854358.3599999994",
          "Store: 01940-00009<br>Revenue: 669352.6499999997",
          "Store: 01940-00010<br>Revenue: 972390.3399999992",
          "Store: 01940-00011<br>Revenue: 870900.6199999996",
          "Store: 01940-00014<br>Revenue: 1036088.9999999992",
          "Store: 01940-00021<br>Revenue: 724300.5399999996",
          "Store: 01944-00001<br>Revenue: 657220.4399999992",
          "Store: 01944-00003<br>Revenue: 449208.88999999955",
          "Store: 01944-00004<br>Revenue: 554871.8599999994",
          "Store: 01944-00005<br>Revenue: 420433.06999999966",
          "Store: 01944-00006<br>Revenue: 581392.3299999993",
          "Store: 01978-00002<br>Revenue: 669012.9999999997",
          "Store: 01978-00005<br>Revenue: 836084.7999999995",
          "Store: 03222-00001<br>Revenue: 727434.3999999991",
          "Store: 03222-00002<br>Revenue: 549876.8799999995",
          "Store: 03222-00003<br>Revenue: 446638.1999999996",
          "Store: 03222-00004<br>Revenue: 566028.6999999996",
          "Store: 03222-00006<br>Revenue: 702590.3199999991",
          "Store: 03222-00007<br>Revenue: 487459.7799999996",
          "Store: 03222-00008<br>Revenue: 635622.9299999992",
          "Store: 03222-00009<br>Revenue: 276721.66",
          "Store: 03222-00010<br>Revenue: 271407.14999999997",
          "Store: 03222-00012<br>Revenue: 238682.76",
          "Store: 03222-00013<br>Revenue: 289417.51",
          "Store: 03222-00014<br>Revenue: 284786.43999999994",
          "Store: 03222-00015<br>Revenue: 970821.4799999982",
          "Store: 03222-00016<br>Revenue: 718309.5499999993",
          "Store: 03222-00017<br>Revenue: 887774.7199999989",
          "Store: 03222-00018<br>Revenue: 607750.3799999995",
          "Store: 03222-00019<br>Revenue: 405485.0499999999",
          "Store: 03222-00021<br>Revenue: 511923.7299999994",
          "Store: 03222-00022<br>Revenue: 377350.5199999999",
          "Store: 03222-00023<br>Revenue: 383133.1199999998",
          "Store: 03222-00024<br>Revenue: 542211.1399999993",
          "Store: 03222-00025<br>Revenue: 380464.9999999997",
          "Store: 03222-00026<br>Revenue: 1101195.2999999982",
          "Store: 03222-00027<br>Revenue: 712214.0499999993",
          "Store: 03222-00028<br>Revenue: 395342.0699999998",
          "Store: 03222-00032<br>Revenue: 569601.6399999997",
          "Store: 03222-00033<br>Revenue: 532225.7499999997",
          "Store: 03222-00034<br>Revenue: 957349.5399999991",
          "Store: 03222-00035<br>Revenue: 560303.3499999996",
          "Store: 03222-00036<br>Revenue: 1177501.4799999988",
          "Store: 03222-00038<br>Revenue: 1074023.039999999",
          "Store: 03222-00039<br>Revenue: 364313.6599999999",
          "Store: 03222-00043<br>Revenue: 600605.1999999994",
          "Store: 03222-00044<br>Revenue: 437781.78999999963",
          "Store: 03222-00045<br>Revenue: 751159.469999999",
          "Store: 03222-00046<br>Revenue: 546618.2899999997",
          "Store: 03222-00047<br>Revenue: 449511.9399999997",
          "Store: 03646-00001<br>Revenue: 555340.1599999993",
          "Store: 03646-00002<br>Revenue: 735631.9299999989",
          "Store: 03646-00003<br>Revenue: 811310.4499999986",
          "Store: 03646-00004<br>Revenue: 240960.40000000005"
         ],
         "type": "scattergeo"
        }
       ],
       "layout": {
        "geo": {
         "landcolor": "white",
         "projection": {
          "type": "albers usa"
         },
         "scope": "usa",
         "showland": true
        },
        "template": {
         "data": {
          "bar": [
           {
            "error_x": {
             "color": "#2a3f5f"
            },
            "error_y": {
             "color": "#2a3f5f"
            },
            "marker": {
             "line": {
              "color": "#E5ECF6",
              "width": 0.5
             },
             "pattern": {
              "fillmode": "overlay",
              "size": 10,
              "solidity": 0.2
             }
            },
            "type": "bar"
           }
          ],
          "barpolar": [
           {
            "marker": {
             "line": {
              "color": "#E5ECF6",
              "width": 0.5
             },
             "pattern": {
              "fillmode": "overlay",
              "size": 10,
              "solidity": 0.2
             }
            },
            "type": "barpolar"
           }
          ],
          "carpet": [
           {
            "aaxis": {
             "endlinecolor": "#2a3f5f",
             "gridcolor": "white",
             "linecolor": "white",
             "minorgridcolor": "white",
             "startlinecolor": "#2a3f5f"
            },
            "baxis": {
             "endlinecolor": "#2a3f5f",
             "gridcolor": "white",
             "linecolor": "white",
             "minorgridcolor": "white",
             "startlinecolor": "#2a3f5f"
            },
            "type": "carpet"
           }
          ],
          "choropleth": [
           {
            "colorbar": {
             "outlinewidth": 0,
             "ticks": ""
            },
            "type": "choropleth"
           }
          ],
          "contour": [
           {
            "colorbar": {
             "outlinewidth": 0,
             "ticks": ""
            },
            "colorscale": [
             [
              0,
              "#0d0887"
             ],
             [
              0.1111111111111111,
              "#46039f"
             ],
             [
              0.2222222222222222,
              "#7201a8"
             ],
             [
              0.3333333333333333,
              "#9c179e"
             ],
             [
              0.4444444444444444,
              "#bd3786"
             ],
             [
              0.5555555555555556,
              "#d8576b"
             ],
             [
              0.6666666666666666,
              "#ed7953"
             ],
             [
              0.7777777777777778,
              "#fb9f3a"
             ],
             [
              0.8888888888888888,
              "#fdca26"
             ],
             [
              1,
              "#f0f921"
             ]
            ],
            "type": "contour"
           }
          ],
          "contourcarpet": [
           {
            "colorbar": {
             "outlinewidth": 0,
             "ticks": ""
            },
            "type": "contourcarpet"
           }
          ],
          "heatmap": [
           {
            "colorbar": {
             "outlinewidth": 0,
             "ticks": ""
            },
            "colorscale": [
             [
              0,
              "#0d0887"
             ],
             [
              0.1111111111111111,
              "#46039f"
             ],
             [
              0.2222222222222222,
              "#7201a8"
             ],
             [
              0.3333333333333333,
              "#9c179e"
             ],
             [
              0.4444444444444444,
              "#bd3786"
             ],
             [
              0.5555555555555556,
              "#d8576b"
             ],
             [
              0.6666666666666666,
              "#ed7953"
             ],
             [
              0.7777777777777778,
              "#fb9f3a"
             ],
             [
              0.8888888888888888,
              "#fdca26"
             ],
             [
              1,
              "#f0f921"
             ]
            ],
            "type": "heatmap"
           }
          ],
          "heatmapgl": [
           {
            "colorbar": {
             "outlinewidth": 0,
             "ticks": ""
            },
            "colorscale": [
             [
              0,
              "#0d0887"
             ],
             [
              0.1111111111111111,
              "#46039f"
             ],
             [
              0.2222222222222222,
              "#7201a8"
             ],
             [
              0.3333333333333333,
              "#9c179e"
             ],
             [
              0.4444444444444444,
              "#bd3786"
             ],
             [
              0.5555555555555556,
              "#d8576b"
             ],
             [
              0.6666666666666666,
              "#ed7953"
             ],
             [
              0.7777777777777778,
              "#fb9f3a"
             ],
             [
              0.8888888888888888,
              "#fdca26"
             ],
             [
              1,
              "#f0f921"
             ]
            ],
            "type": "heatmapgl"
           }
          ],
          "histogram": [
           {
            "marker": {
             "pattern": {
              "fillmode": "overlay",
              "size": 10,
              "solidity": 0.2
             }
            },
            "type": "histogram"
           }
          ],
          "histogram2d": [
           {
            "colorbar": {
             "outlinewidth": 0,
             "ticks": ""
            },
            "colorscale": [
             [
              0,
              "#0d0887"
             ],
             [
              0.1111111111111111,
              "#46039f"
             ],
             [
              0.2222222222222222,
              "#7201a8"
             ],
             [
              0.3333333333333333,
              "#9c179e"
             ],
             [
              0.4444444444444444,
              "#bd3786"
             ],
             [
              0.5555555555555556,
              "#d8576b"
             ],
             [
              0.6666666666666666,
              "#ed7953"
             ],
             [
              0.7777777777777778,
              "#fb9f3a"
             ],
             [
              0.8888888888888888,
              "#fdca26"
             ],
             [
              1,
              "#f0f921"
             ]
            ],
            "type": "histogram2d"
           }
          ],
          "histogram2dcontour": [
           {
            "colorbar": {
             "outlinewidth": 0,
             "ticks": ""
            },
            "colorscale": [
             [
              0,
              "#0d0887"
             ],
             [
              0.1111111111111111,
              "#46039f"
             ],
             [
              0.2222222222222222,
              "#7201a8"
             ],
             [
              0.3333333333333333,
              "#9c179e"
             ],
             [
              0.4444444444444444,
              "#bd3786"
             ],
             [
              0.5555555555555556,
              "#d8576b"
             ],
             [
              0.6666666666666666,
              "#ed7953"
             ],
             [
              0.7777777777777778,
              "#fb9f3a"
             ],
             [
              0.8888888888888888,
              "#fdca26"
             ],
             [
              1,
              "#f0f921"
             ]
            ],
            "type": "histogram2dcontour"
           }
          ],
          "mesh3d": [
           {
            "colorbar": {
             "outlinewidth": 0,
             "ticks": ""
            },
            "type": "mesh3d"
           }
          ],
          "parcoords": [
           {
            "line": {
             "colorbar": {
              "outlinewidth": 0,
              "ticks": ""
             }
            },
            "type": "parcoords"
           }
          ],
          "pie": [
           {
            "automargin": true,
            "type": "pie"
           }
          ],
          "scatter": [
           {
            "fillpattern": {
             "fillmode": "overlay",
             "size": 10,
             "solidity": 0.2
            },
            "type": "scatter"
           }
          ],
          "scatter3d": [
           {
            "line": {
             "colorbar": {
              "outlinewidth": 0,
              "ticks": ""
             }
            },
            "marker": {
             "colorbar": {
              "outlinewidth": 0,
              "ticks": ""
             }
            },
            "type": "scatter3d"
           }
          ],
          "scattercarpet": [
           {
            "marker": {
             "colorbar": {
              "outlinewidth": 0,
              "ticks": ""
             }
            },
            "type": "scattercarpet"
           }
          ],
          "scattergeo": [
           {
            "marker": {
             "colorbar": {
              "outlinewidth": 0,
              "ticks": ""
             }
            },
            "type": "scattergeo"
           }
          ],
          "scattergl": [
           {
            "marker": {
             "colorbar": {
              "outlinewidth": 0,
              "ticks": ""
             }
            },
            "type": "scattergl"
           }
          ],
          "scattermapbox": [
           {
            "marker": {
             "colorbar": {
              "outlinewidth": 0,
              "ticks": ""
             }
            },
            "type": "scattermapbox"
           }
          ],
          "scatterpolar": [
           {
            "marker": {
             "colorbar": {
              "outlinewidth": 0,
              "ticks": ""
             }
            },
            "type": "scatterpolar"
           }
          ],
          "scatterpolargl": [
           {
            "marker": {
             "colorbar": {
              "outlinewidth": 0,
              "ticks": ""
             }
            },
            "type": "scatterpolargl"
           }
          ],
          "scatterternary": [
           {
            "marker": {
             "colorbar": {
              "outlinewidth": 0,
              "ticks": ""
             }
            },
            "type": "scatterternary"
           }
          ],
          "surface": [
           {
            "colorbar": {
             "outlinewidth": 0,
             "ticks": ""
            },
            "colorscale": [
             [
              0,
              "#0d0887"
             ],
             [
              0.1111111111111111,
              "#46039f"
             ],
             [
              0.2222222222222222,
              "#7201a8"
             ],
             [
              0.3333333333333333,
              "#9c179e"
             ],
             [
              0.4444444444444444,
              "#bd3786"
             ],
             [
              0.5555555555555556,
              "#d8576b"
             ],
             [
              0.6666666666666666,
              "#ed7953"
             ],
             [
              0.7777777777777778,
              "#fb9f3a"
             ],
             [
              0.8888888888888888,
              "#fdca26"
             ],
             [
              1,
              "#f0f921"
             ]
            ],
            "type": "surface"
           }
          ],
          "table": [
           {
            "cells": {
             "fill": {
              "color": "#EBF0F8"
             },
             "line": {
              "color": "white"
             }
            },
            "header": {
             "fill": {
              "color": "#C8D4E3"
             },
             "line": {
              "color": "white"
             }
            },
            "type": "table"
           }
          ]
         },
         "layout": {
          "annotationdefaults": {
           "arrowcolor": "#2a3f5f",
           "arrowhead": 0,
           "arrowwidth": 1
          },
          "autotypenumbers": "strict",
          "coloraxis": {
           "colorbar": {
            "outlinewidth": 0,
            "ticks": ""
           }
          },
          "colorscale": {
           "diverging": [
            [
             0,
             "#8e0152"
            ],
            [
             0.1,
             "#c51b7d"
            ],
            [
             0.2,
             "#de77ae"
            ],
            [
             0.3,
             "#f1b6da"
            ],
            [
             0.4,
             "#fde0ef"
            ],
            [
             0.5,
             "#f7f7f7"
            ],
            [
             0.6,
             "#e6f5d0"
            ],
            [
             0.7,
             "#b8e186"
            ],
            [
             0.8,
             "#7fbc41"
            ],
            [
             0.9,
             "#4d9221"
            ],
            [
             1,
             "#276419"
            ]
           ],
           "sequential": [
            [
             0,
             "#0d0887"
            ],
            [
             0.1111111111111111,
             "#46039f"
            ],
            [
             0.2222222222222222,
             "#7201a8"
            ],
            [
             0.3333333333333333,
             "#9c179e"
            ],
            [
             0.4444444444444444,
             "#bd3786"
            ],
            [
             0.5555555555555556,
             "#d8576b"
            ],
            [
             0.6666666666666666,
             "#ed7953"
            ],
            [
             0.7777777777777778,
             "#fb9f3a"
            ],
            [
             0.8888888888888888,
             "#fdca26"
            ],
            [
             1,
             "#f0f921"
            ]
           ],
           "sequentialminus": [
            [
             0,
             "#0d0887"
            ],
            [
             0.1111111111111111,
             "#46039f"
            ],
            [
             0.2222222222222222,
             "#7201a8"
            ],
            [
             0.3333333333333333,
             "#9c179e"
            ],
            [
             0.4444444444444444,
             "#bd3786"
            ],
            [
             0.5555555555555556,
             "#d8576b"
            ],
            [
             0.6666666666666666,
             "#ed7953"
            ],
            [
             0.7777777777777778,
             "#fb9f3a"
            ],
            [
             0.8888888888888888,
             "#fdca26"
            ],
            [
             1,
             "#f0f921"
            ]
           ]
          },
          "colorway": [
           "#636efa",
           "#EF553B",
           "#00cc96",
           "#ab63fa",
           "#FFA15A",
           "#19d3f3",
           "#FF6692",
           "#B6E880",
           "#FF97FF",
           "#FECB52"
          ],
          "font": {
           "color": "#2a3f5f"
          },
          "geo": {
           "bgcolor": "white",
           "lakecolor": "white",
           "landcolor": "#E5ECF6",
           "showlakes": true,
           "showland": true,
           "subunitcolor": "white"
          },
          "hoverlabel": {
           "align": "left"
          },
          "hovermode": "closest",
          "mapbox": {
           "style": "light"
          },
          "paper_bgcolor": "white",
          "plot_bgcolor": "#E5ECF6",
          "polar": {
           "angularaxis": {
            "gridcolor": "white",
            "linecolor": "white",
            "ticks": ""
           },
           "bgcolor": "#E5ECF6",
           "radialaxis": {
            "gridcolor": "white",
            "linecolor": "white",
            "ticks": ""
           }
          },
          "scene": {
           "xaxis": {
            "backgroundcolor": "#E5ECF6",
            "gridcolor": "white",
            "gridwidth": 2,
            "linecolor": "white",
            "showbackground": true,
            "ticks": "",
            "zerolinecolor": "white"
           },
           "yaxis": {
            "backgroundcolor": "#E5ECF6",
            "gridcolor": "white",
            "gridwidth": 2,
            "linecolor": "white",
            "showbackground": true,
            "ticks": "",
            "zerolinecolor": "white"
           },
           "zaxis": {
            "backgroundcolor": "#E5ECF6",
            "gridcolor": "white",
            "gridwidth": 2,
            "linecolor": "white",
            "showbackground": true,
            "ticks": "",
            "zerolinecolor": "white"
           }
          },
          "shapedefaults": {
           "line": {
            "color": "#2a3f5f"
           }
          },
          "ternary": {
           "aaxis": {
            "gridcolor": "white",
            "linecolor": "white",
            "ticks": ""
           },
           "baxis": {
            "gridcolor": "white",
            "linecolor": "white",
            "ticks": ""
           },
           "bgcolor": "#E5ECF6",
           "caxis": {
            "gridcolor": "white",
            "linecolor": "white",
            "ticks": ""
           }
          },
          "title": {
           "x": 0.05
          },
          "xaxis": {
           "automargin": true,
           "gridcolor": "white",
           "linecolor": "white",
           "ticks": "",
           "title": {
            "standoff": 15
           },
           "zerolinecolor": "white",
           "zerolinewidth": 2
          },
          "yaxis": {
           "automargin": true,
           "gridcolor": "white",
           "linecolor": "white",
           "ticks": "",
           "title": {
            "standoff": 15
           },
           "zerolinecolor": "white",
           "zerolinewidth": 2
          }
         }
        },
        "title": {
         "text": "LC 1PO Revenue by State with Store Locations"
        }
       }
      }
     },
     "metadata": {},
     "output_type": "display_data"
    }
   ],
   "source": [
    "import plotly.graph_objects as go\n",
    "import pandas as pd\n",
    "\n",
    "# List of all US state abbreviations\n",
    "us_states = [\n",
    "    'AL', 'AK', 'AZ', 'AR', 'CA', 'CO', 'CT', 'DE', 'FL', 'GA',\n",
    "    'HI', 'ID', 'IL', 'IN', 'IA', 'KS', 'KY', 'LA', 'ME', 'MD',\n",
    "    'MA', 'MI', 'MN', 'MS', 'MO', 'MT', 'NE', 'NV', 'NH', 'NJ',\n",
    "    'NM', 'NY', 'NC', 'ND', 'OH', 'OK', 'OR', 'PA', 'RI', 'SC',\n",
    "    'SD', 'TN', 'TX', 'UT', 'VT', 'VA', 'WA', 'WV', 'WI', 'WY'\n",
    "]\n",
    "\n",
    "# Aggregate your data\n",
    "state_rev = lc_extended[lc_extended['channel']=='1PO'].groupby('ST')['revenue'].sum().reset_index()\n",
    "\n",
    "# Fill in missing states with 0 revenue\n",
    "all_states_df = pd.DataFrame({'ST': us_states})\n",
    "state_rev = all_states_df.merge(state_rev, on='ST', how='left').fillna(0)\n",
    "state_rev['revenue_text'] = state_rev['revenue'].apply(lambda x: f'{x:.2f}%')\n",
    "\n",
    "# Store marker data\n",
    "store_data = lc_extended[['StoreID', 'Latitude', 'Longitude', 'revenue']].dropna()\n",
    "store_data = store_data.groupby(['StoreID', 'Latitude', 'Longitude'])['revenue'].sum().reset_index()\n",
    "\n",
    "# Choropleth\n",
    "choropleth = go.Choropleth(\n",
    "    locations=state_rev['ST'],\n",
    "    z=state_rev['revenue'],\n",
    "    locationmode='USA-states',\n",
    "    colorscale='Blues',\n",
    "    colorbar_title='Revenue',\n",
    "    text=state_rev['revenue_text'],\n",
    "    hoverinfo=\"text\",\n",
    "    name='State Revenue'\n",
    "   \n",
    ")\n",
    "\n",
    "# Store Markers\n",
    "store_markers = go.Scattergeo(\n",
    "    lon=store_data['Longitude'],\n",
    "    lat=store_data['Latitude'],\n",
    "    text=store_data.apply(lambda row: f\"Store: {row['StoreID']}<br>Revenue: {row['revenue']}\", axis=1),\n",
    "    mode='markers',\n",
    "    marker=dict(size=5, color='red', opacity=0.7),\n",
    "    name='Stores'\n",
    ")\n",
    "\n",
    "# Combine layers\n",
    "fig = go.Figure(data=[choropleth, store_markers])\n",
    "\n",
    "fig.update_layout(\n",
    "    title='LC 1PO Revenue by State with Store Locations',\n",
    "    geo=dict(\n",
    "        scope='usa',\n",
    "        showland=True,\n",
    "        landcolor='white',\n",
    "        projection_type='albers usa'\n",
    "    )\n",
    ")\n",
    "\n",
    "fig.show()\n"
   ]
  },
  {
   "cell_type": "code",
   "execution_count": 439,
   "metadata": {},
   "outputs": [
    {
     "data": {
      "text/html": [
       "<div>\n",
       "<style scoped>\n",
       "    .dataframe tbody tr th:only-of-type {\n",
       "        vertical-align: middle;\n",
       "    }\n",
       "\n",
       "    .dataframe tbody tr th {\n",
       "        vertical-align: top;\n",
       "    }\n",
       "\n",
       "    .dataframe thead th {\n",
       "        text-align: right;\n",
       "    }\n",
       "</style>\n",
       "<table border=\"1\" class=\"dataframe\">\n",
       "  <thead>\n",
       "    <tr style=\"text-align: right;\">\n",
       "      <th></th>\n",
       "      <th>StoreID</th>\n",
       "      <th>OrderMode</th>\n",
       "      <th>WeekStartDate</th>\n",
       "      <th>WeeklyNetAmount</th>\n",
       "      <th>channel</th>\n",
       "      <th>Brand</th>\n",
       "      <th>revenue</th>\n",
       "      <th>ST</th>\n",
       "      <th>cleaned_ids</th>\n",
       "      <th>City</th>\n",
       "    </tr>\n",
       "  </thead>\n",
       "  <tbody>\n",
       "    <tr>\n",
       "      <th>1680</th>\n",
       "      <td>778</td>\n",
       "      <td>DoorDash</td>\n",
       "      <td>2025-02-24</td>\n",
       "      <td>2285.98</td>\n",
       "      <td>3PO</td>\n",
       "      <td>WS</td>\n",
       "      <td>2285.98</td>\n",
       "      <td>SD</td>\n",
       "      <td>778</td>\n",
       "      <td>Sioux Falls</td>\n",
       "    </tr>\n",
       "    <tr>\n",
       "      <th>1681</th>\n",
       "      <td>778</td>\n",
       "      <td>DoorDash</td>\n",
       "      <td>2025-03-03</td>\n",
       "      <td>832.16</td>\n",
       "      <td>3PO</td>\n",
       "      <td>WS</td>\n",
       "      <td>832.16</td>\n",
       "      <td>SD</td>\n",
       "      <td>778</td>\n",
       "      <td>Sioux Falls</td>\n",
       "    </tr>\n",
       "    <tr>\n",
       "      <th>1682</th>\n",
       "      <td>778</td>\n",
       "      <td>DoorDash</td>\n",
       "      <td>2025-03-10</td>\n",
       "      <td>439.63</td>\n",
       "      <td>3PO</td>\n",
       "      <td>WS</td>\n",
       "      <td>439.63</td>\n",
       "      <td>SD</td>\n",
       "      <td>778</td>\n",
       "      <td>Sioux Falls</td>\n",
       "    </tr>\n",
       "    <tr>\n",
       "      <th>1683</th>\n",
       "      <td>778</td>\n",
       "      <td>DoorDash</td>\n",
       "      <td>2025-03-17</td>\n",
       "      <td>107.48</td>\n",
       "      <td>3PO</td>\n",
       "      <td>WS</td>\n",
       "      <td>107.48</td>\n",
       "      <td>SD</td>\n",
       "      <td>778</td>\n",
       "      <td>Sioux Falls</td>\n",
       "    </tr>\n",
       "    <tr>\n",
       "      <th>1684</th>\n",
       "      <td>778</td>\n",
       "      <td>Online</td>\n",
       "      <td>2025-02-24</td>\n",
       "      <td>6834.66</td>\n",
       "      <td>1PO</td>\n",
       "      <td>WS</td>\n",
       "      <td>6834.66</td>\n",
       "      <td>SD</td>\n",
       "      <td>778</td>\n",
       "      <td>Sioux Falls</td>\n",
       "    </tr>\n",
       "    <tr>\n",
       "      <th>1685</th>\n",
       "      <td>778</td>\n",
       "      <td>Online</td>\n",
       "      <td>2025-03-03</td>\n",
       "      <td>9041.01</td>\n",
       "      <td>1PO</td>\n",
       "      <td>WS</td>\n",
       "      <td>9041.01</td>\n",
       "      <td>SD</td>\n",
       "      <td>778</td>\n",
       "      <td>Sioux Falls</td>\n",
       "    </tr>\n",
       "    <tr>\n",
       "      <th>1686</th>\n",
       "      <td>778</td>\n",
       "      <td>Online</td>\n",
       "      <td>2025-03-10</td>\n",
       "      <td>9060.80</td>\n",
       "      <td>1PO</td>\n",
       "      <td>WS</td>\n",
       "      <td>9060.80</td>\n",
       "      <td>SD</td>\n",
       "      <td>778</td>\n",
       "      <td>Sioux Falls</td>\n",
       "    </tr>\n",
       "    <tr>\n",
       "      <th>1687</th>\n",
       "      <td>778</td>\n",
       "      <td>Online</td>\n",
       "      <td>2025-03-17</td>\n",
       "      <td>3027.22</td>\n",
       "      <td>1PO</td>\n",
       "      <td>WS</td>\n",
       "      <td>3027.22</td>\n",
       "      <td>SD</td>\n",
       "      <td>778</td>\n",
       "      <td>Sioux Falls</td>\n",
       "    </tr>\n",
       "    <tr>\n",
       "      <th>1688</th>\n",
       "      <td>778</td>\n",
       "      <td>UberEats</td>\n",
       "      <td>2025-02-24</td>\n",
       "      <td>1435.06</td>\n",
       "      <td>3PO</td>\n",
       "      <td>WS</td>\n",
       "      <td>1435.06</td>\n",
       "      <td>SD</td>\n",
       "      <td>778</td>\n",
       "      <td>Sioux Falls</td>\n",
       "    </tr>\n",
       "    <tr>\n",
       "      <th>1689</th>\n",
       "      <td>778</td>\n",
       "      <td>UberEats</td>\n",
       "      <td>2025-03-03</td>\n",
       "      <td>2600.69</td>\n",
       "      <td>3PO</td>\n",
       "      <td>WS</td>\n",
       "      <td>2600.69</td>\n",
       "      <td>SD</td>\n",
       "      <td>778</td>\n",
       "      <td>Sioux Falls</td>\n",
       "    </tr>\n",
       "    <tr>\n",
       "      <th>1690</th>\n",
       "      <td>778</td>\n",
       "      <td>UberEats</td>\n",
       "      <td>2025-03-10</td>\n",
       "      <td>2485.94</td>\n",
       "      <td>3PO</td>\n",
       "      <td>WS</td>\n",
       "      <td>2485.94</td>\n",
       "      <td>SD</td>\n",
       "      <td>778</td>\n",
       "      <td>Sioux Falls</td>\n",
       "    </tr>\n",
       "    <tr>\n",
       "      <th>1691</th>\n",
       "      <td>778</td>\n",
       "      <td>UberEats</td>\n",
       "      <td>2025-03-17</td>\n",
       "      <td>1118.90</td>\n",
       "      <td>3PO</td>\n",
       "      <td>WS</td>\n",
       "      <td>1118.90</td>\n",
       "      <td>SD</td>\n",
       "      <td>778</td>\n",
       "      <td>Sioux Falls</td>\n",
       "    </tr>\n",
       "  </tbody>\n",
       "</table>\n",
       "</div>"
      ],
      "text/plain": [
       "      StoreID OrderMode WeekStartDate  WeeklyNetAmount channel Brand  revenue  \\\n",
       "1680      778  DoorDash    2025-02-24          2285.98     3PO    WS  2285.98   \n",
       "1681      778  DoorDash    2025-03-03           832.16     3PO    WS   832.16   \n",
       "1682      778  DoorDash    2025-03-10           439.63     3PO    WS   439.63   \n",
       "1683      778  DoorDash    2025-03-17           107.48     3PO    WS   107.48   \n",
       "1684      778    Online    2025-02-24          6834.66     1PO    WS  6834.66   \n",
       "1685      778    Online    2025-03-03          9041.01     1PO    WS  9041.01   \n",
       "1686      778    Online    2025-03-10          9060.80     1PO    WS  9060.80   \n",
       "1687      778    Online    2025-03-17          3027.22     1PO    WS  3027.22   \n",
       "1688      778  UberEats    2025-02-24          1435.06     3PO    WS  1435.06   \n",
       "1689      778  UberEats    2025-03-03          2600.69     3PO    WS  2600.69   \n",
       "1690      778  UberEats    2025-03-10          2485.94     3PO    WS  2485.94   \n",
       "1691      778  UberEats    2025-03-17          1118.90     3PO    WS  1118.90   \n",
       "\n",
       "      ST  cleaned_ids         City  \n",
       "1680  SD          778  Sioux Falls  \n",
       "1681  SD          778  Sioux Falls  \n",
       "1682  SD          778  Sioux Falls  \n",
       "1683  SD          778  Sioux Falls  \n",
       "1684  SD          778  Sioux Falls  \n",
       "1685  SD          778  Sioux Falls  \n",
       "1686  SD          778  Sioux Falls  \n",
       "1687  SD          778  Sioux Falls  \n",
       "1688  SD          778  Sioux Falls  \n",
       "1689  SD          778  Sioux Falls  \n",
       "1690  SD          778  Sioux Falls  \n",
       "1691  SD          778  Sioux Falls  "
      ]
     },
     "execution_count": 439,
     "metadata": {},
     "output_type": "execute_result"
    }
   ],
   "source": [
    "ws_extended[ws_extended['ST']=='SD']\n"
   ]
  },
  {
   "cell_type": "code",
   "execution_count": 437,
   "metadata": {},
   "outputs": [
    {
     "data": {
      "application/vnd.plotly.v1+json": {
       "config": {
        "plotlyServerURL": "https://plot.ly"
       },
       "data": [
        {
         "colorbar": {
          "title": {
           "text": "Revenue"
          }
         },
         "colorscale": [
          [
           0,
           "rgb(247,251,255)"
          ],
          [
           0.125,
           "rgb(222,235,247)"
          ],
          [
           0.25,
           "rgb(198,219,239)"
          ],
          [
           0.375,
           "rgb(158,202,225)"
          ],
          [
           0.5,
           "rgb(107,174,214)"
          ],
          [
           0.625,
           "rgb(66,146,198)"
          ],
          [
           0.75,
           "rgb(33,113,181)"
          ],
          [
           0.875,
           "rgb(8,81,156)"
          ],
          [
           1,
           "rgb(8,48,107)"
          ]
         ],
         "hoverinfo": "text",
         "locationmode": "USA-states",
         "locations": [
          "AL",
          "AK",
          "AZ",
          "AR",
          "CA",
          "CO",
          "CT",
          "DE",
          "FL",
          "GA",
          "HI",
          "ID",
          "IL",
          "IN",
          "IA",
          "KS",
          "KY",
          "LA",
          "ME",
          "MD",
          "MA",
          "MI",
          "MN",
          "MS",
          "MO",
          "MT",
          "NE",
          "NV",
          "NH",
          "NJ",
          "NM",
          "NY",
          "NC",
          "ND",
          "OH",
          "OK",
          "OR",
          "PA",
          "RI",
          "SC",
          "SD",
          "TN",
          "TX",
          "UT",
          "VT",
          "VA",
          "WA",
          "WV",
          "WI",
          "WY"
         ],
         "name": "State Revenue",
         "text": [
          "0.00%",
          "0.00%",
          "0.00%",
          "1825463.20%",
          "0.00%",
          "0.00%",
          "0.00%",
          "0.00%",
          "0.00%",
          "0.00%",
          "0.00%",
          "0.00%",
          "0.00%",
          "0.00%",
          "0.00%",
          "3244428.23%",
          "0.00%",
          "0.00%",
          "0.00%",
          "0.00%",
          "0.00%",
          "0.00%",
          "0.00%",
          "0.00%",
          "1003376.66%",
          "0.00%",
          "4825673.88%",
          "0.00%",
          "0.00%",
          "0.00%",
          "2519761.86%",
          "0.00%",
          "678431.06%",
          "0.00%",
          "0.00%",
          "10089882.50%",
          "0.00%",
          "0.00%",
          "0.00%",
          "5037293.44%",
          "11305.84%",
          "5213008.41%",
          "0.00%",
          "0.00%",
          "0.00%",
          "0.00%",
          "0.00%",
          "0.00%",
          "0.00%",
          "0.00%"
         ],
         "type": "choropleth",
         "z": [
          0,
          0,
          0,
          1825463.2,
          0,
          0,
          0,
          0,
          0,
          0,
          0,
          0,
          0,
          0,
          0,
          3244428.23,
          0,
          0,
          0,
          0,
          0,
          0,
          0,
          0,
          1003376.66,
          0,
          4825673.88,
          0,
          0,
          0,
          2519761.86,
          0,
          678431.06,
          0,
          0,
          10089882.5,
          0,
          0,
          0,
          5037293.4399999995,
          11305.84,
          5213008.41,
          0,
          0,
          0,
          0,
          0,
          0,
          0,
          0
         ]
        },
        {
         "lat": [
          31.6163751123364,
          33.4708469216631,
          33.4611261138286,
          33.6608226745734,
          33.1310487498119,
          30.1537123331572,
          32.0879354115067,
          30.6449373843879,
          32.5324497169919,
          30.5715485868773,
          31.9545133452008,
          32.5291058790381,
          31.7545448912717,
          32.2486794597519,
          33.2384033130618,
          34.1912008606453,
          33.9985799790665,
          34.919714722033,
          36.9024466196003,
          27.8904878590565,
          29.5518069710487,
          38.9639538143806,
          38.9395727618052,
          38.7840887371813,
          38.9520203424831,
          38.9892439981741,
          39.0760014790925,
          38.9978606819281,
          35.8920566399388,
          36.1359264177567,
          36.2791600013523,
          36.7377792095082,
          34.6526277900132,
          38.8326833079714,
          38.8559713780843,
          36.0595029775841,
          36.0904747490526,
          35.9917331257295,
          36.0462528408128,
          36.0170901093231,
          35.0284955248644,
          34.7775696330197,
          37.9747131356868,
          37.0467634356237,
          30.8936838544211,
          31.4184130582296,
          30.3596324572989,
          32.726233189509,
          34.4218022786582,
          32.429587422065,
          32.842846308873,
          33.3787353747722,
          38.4105707375676,
          33.4145223381412,
          32.3326592822711,
          33.1489126631233,
          35.5285992323832,
          39.1919313436769,
          39.0277986331387,
          31.8461341780859,
          35.0768886802461,
          35.0138685142781,
          35.5893487934412,
          35.4744574679681,
          35.2124888118591,
          35.1517518508754,
          35.3421171059384,
          37.7238912405009,
          37.5474276056965,
          37.7094351680991,
          37.6670838820194,
          37.6944547005574,
          38.8276808001728,
          37.6652808015722,
          37.6481116795191,
          38.8944718263529
         ],
         "lon": [
          -94.6523330008739,
          -94.0947115735223,
          -94.0437437131729,
          -95.5350076085931,
          -95.6006786323948,
          -96.3980917355824,
          -96.4721378170882,
          -96.3533948036385,
          -94.3501613324143,
          -96.3099517748056,
          -95.2672704477733,
          -93.717208317074,
          -93.0826843901094,
          -101.477175805434,
          -92.6661333593806,
          -97.1425286458539,
          -96.4111640612009,
          -95.7458043746639,
          -94.877235174593,
          -97.3106980037184,
          -95.6973379171658,
          -76.8456607475258,
          -76.9239410168459,
          -77.1211986591817,
          -76.9661749438348,
          -76.9894859364502,
          -77.1156655745108,
          -76.9141156610192,
          -94.9766896341456,
          -96.1178115764667,
          -95.8352041341317,
          -97.0665001169288,
          -99.3343907323434,
          -77.2019145303447,
          -77.1136479898598,
          -95.8147219034587,
          -95.9029011322927,
          -96.1129799322963,
          -95.9599727322943,
          -95.7995664764709,
          -97.9341550341762,
          -96.6695361035039,
          -100.849912289893,
          -100.921907359247,
          -102.883307132466,
          -103.50200710546,
          -103.654275361317,
          -103.143931632408,
          -103.206034774681,
          -104.228663274747,
          -104.418707190074,
          -104.524267517046,
          -96.1796447033716,
          -104.52221736122,
          -102.550474376596,
          -94.9681426477346,
          -98.6934430169723,
          -96.6086818898468,
          -96.8291892321829,
          -102.480726503601,
          -80.6491748746584,
          -80.5701370458256,
          -80.8400292746404,
          -81.2443755764903,
          -80.6905011476643,
          -80.8753214323261,
          -80.178040445814,
          -97.3649366745625,
          -97.2434320034042,
          -97.4619637303875,
          -97.2269228033997,
          -97.3911542745636,
          -97.6013450456853,
          -97.2878303899051,
          -97.3521499457302,
          -99.3171576610232
         ],
         "marker": {
          "color": "red",
          "opacity": 0.7,
          "size": 5
         },
         "mode": "markers",
         "name": "Stores",
         "text": [
          "Store: 01389-00001<br>Revenue: 831466.3899999991",
          "Store: 01389-00002<br>Revenue: 466403.19999999955",
          "Store: 01389-00003<br>Revenue: 384460.58999999985",
          "Store: 01389-00004<br>Revenue: 602217.3199999995",
          "Store: 01389-00005<br>Revenue: 661731.5699999993",
          "Store: 01389-00008<br>Revenue: 599709.3399999993",
          "Store: 01389-00010<br>Revenue: 501240.26999999955",
          "Store: 01389-00011<br>Revenue: 754219.0599999992",
          "Store: 01389-00012<br>Revenue: 397363.6499999998",
          "Store: 01389-00013<br>Revenue: 549494.1999999994",
          "Store: 01389-00014<br>Revenue: 445954.37999999966",
          "Store: 01494-00001<br>Revenue: 568976.8399999997",
          "Store: 01494-00002<br>Revenue: 310785.43",
          "Store: 01494-00004<br>Revenue: 551868.8199999996",
          "Store: 01494-00005<br>Revenue: 405627.38999999984",
          "Store: 01826-00001<br>Revenue: 695455.6599999993",
          "Store: 01826-00002<br>Revenue: 833735.7599999992",
          "Store: 01826-00003<br>Revenue: 466925.28999999975",
          "Store: 01826-00005<br>Revenue: 180382.38000000003",
          "Store: 01893-00001<br>Revenue: 720649.0899999995",
          "Store: 01893-00002<br>Revenue: 699172.5499999995",
          "Store: 01940-00001<br>Revenue: 797357.7299999995",
          "Store: 01940-00007<br>Revenue: 854358.3599999994",
          "Store: 01940-00009<br>Revenue: 669352.6499999997",
          "Store: 01940-00010<br>Revenue: 972390.3399999992",
          "Store: 01940-00011<br>Revenue: 870900.6199999996",
          "Store: 01940-00014<br>Revenue: 1036088.9999999992",
          "Store: 01940-00021<br>Revenue: 724300.5399999996",
          "Store: 01944-00001<br>Revenue: 657220.4399999992",
          "Store: 01944-00003<br>Revenue: 449208.88999999955",
          "Store: 01944-00004<br>Revenue: 554871.8599999994",
          "Store: 01944-00005<br>Revenue: 420433.06999999966",
          "Store: 01944-00006<br>Revenue: 581392.3299999993",
          "Store: 01978-00002<br>Revenue: 669012.9999999997",
          "Store: 01978-00005<br>Revenue: 836084.7999999995",
          "Store: 03222-00001<br>Revenue: 727434.3999999991",
          "Store: 03222-00002<br>Revenue: 549876.8799999995",
          "Store: 03222-00003<br>Revenue: 446638.1999999996",
          "Store: 03222-00004<br>Revenue: 566028.6999999996",
          "Store: 03222-00006<br>Revenue: 702590.3199999991",
          "Store: 03222-00007<br>Revenue: 487459.7799999996",
          "Store: 03222-00008<br>Revenue: 635622.9299999992",
          "Store: 03222-00009<br>Revenue: 276721.66",
          "Store: 03222-00010<br>Revenue: 271407.14999999997",
          "Store: 03222-00012<br>Revenue: 238682.76",
          "Store: 03222-00013<br>Revenue: 289417.51",
          "Store: 03222-00014<br>Revenue: 284786.43999999994",
          "Store: 03222-00015<br>Revenue: 970821.4799999982",
          "Store: 03222-00016<br>Revenue: 718309.5499999993",
          "Store: 03222-00017<br>Revenue: 887774.7199999989",
          "Store: 03222-00018<br>Revenue: 607750.3799999995",
          "Store: 03222-00019<br>Revenue: 405485.0499999999",
          "Store: 03222-00021<br>Revenue: 511923.7299999994",
          "Store: 03222-00022<br>Revenue: 377350.5199999999",
          "Store: 03222-00023<br>Revenue: 383133.1199999998",
          "Store: 03222-00024<br>Revenue: 542211.1399999993",
          "Store: 03222-00025<br>Revenue: 380464.9999999997",
          "Store: 03222-00026<br>Revenue: 1101195.2999999982",
          "Store: 03222-00027<br>Revenue: 712214.0499999993",
          "Store: 03222-00028<br>Revenue: 395342.0699999998",
          "Store: 03222-00032<br>Revenue: 569601.6399999997",
          "Store: 03222-00033<br>Revenue: 532225.7499999997",
          "Store: 03222-00034<br>Revenue: 957349.5399999991",
          "Store: 03222-00035<br>Revenue: 560303.3499999996",
          "Store: 03222-00036<br>Revenue: 1177501.4799999988",
          "Store: 03222-00038<br>Revenue: 1074023.039999999",
          "Store: 03222-00039<br>Revenue: 364313.6599999999",
          "Store: 03222-00043<br>Revenue: 600605.1999999994",
          "Store: 03222-00044<br>Revenue: 437781.78999999963",
          "Store: 03222-00045<br>Revenue: 751159.469999999",
          "Store: 03222-00046<br>Revenue: 546618.2899999997",
          "Store: 03222-00047<br>Revenue: 449511.9399999997",
          "Store: 03646-00001<br>Revenue: 555340.1599999993",
          "Store: 03646-00002<br>Revenue: 735631.9299999989",
          "Store: 03646-00003<br>Revenue: 811310.4499999986",
          "Store: 03646-00004<br>Revenue: 240960.40000000005"
         ],
         "type": "scattergeo"
        }
       ],
       "layout": {
        "geo": {
         "landcolor": "white",
         "projection": {
          "type": "albers usa"
         },
         "scope": "usa",
         "showland": true
        },
        "template": {
         "data": {
          "bar": [
           {
            "error_x": {
             "color": "#2a3f5f"
            },
            "error_y": {
             "color": "#2a3f5f"
            },
            "marker": {
             "line": {
              "color": "#E5ECF6",
              "width": 0.5
             },
             "pattern": {
              "fillmode": "overlay",
              "size": 10,
              "solidity": 0.2
             }
            },
            "type": "bar"
           }
          ],
          "barpolar": [
           {
            "marker": {
             "line": {
              "color": "#E5ECF6",
              "width": 0.5
             },
             "pattern": {
              "fillmode": "overlay",
              "size": 10,
              "solidity": 0.2
             }
            },
            "type": "barpolar"
           }
          ],
          "carpet": [
           {
            "aaxis": {
             "endlinecolor": "#2a3f5f",
             "gridcolor": "white",
             "linecolor": "white",
             "minorgridcolor": "white",
             "startlinecolor": "#2a3f5f"
            },
            "baxis": {
             "endlinecolor": "#2a3f5f",
             "gridcolor": "white",
             "linecolor": "white",
             "minorgridcolor": "white",
             "startlinecolor": "#2a3f5f"
            },
            "type": "carpet"
           }
          ],
          "choropleth": [
           {
            "colorbar": {
             "outlinewidth": 0,
             "ticks": ""
            },
            "type": "choropleth"
           }
          ],
          "contour": [
           {
            "colorbar": {
             "outlinewidth": 0,
             "ticks": ""
            },
            "colorscale": [
             [
              0,
              "#0d0887"
             ],
             [
              0.1111111111111111,
              "#46039f"
             ],
             [
              0.2222222222222222,
              "#7201a8"
             ],
             [
              0.3333333333333333,
              "#9c179e"
             ],
             [
              0.4444444444444444,
              "#bd3786"
             ],
             [
              0.5555555555555556,
              "#d8576b"
             ],
             [
              0.6666666666666666,
              "#ed7953"
             ],
             [
              0.7777777777777778,
              "#fb9f3a"
             ],
             [
              0.8888888888888888,
              "#fdca26"
             ],
             [
              1,
              "#f0f921"
             ]
            ],
            "type": "contour"
           }
          ],
          "contourcarpet": [
           {
            "colorbar": {
             "outlinewidth": 0,
             "ticks": ""
            },
            "type": "contourcarpet"
           }
          ],
          "heatmap": [
           {
            "colorbar": {
             "outlinewidth": 0,
             "ticks": ""
            },
            "colorscale": [
             [
              0,
              "#0d0887"
             ],
             [
              0.1111111111111111,
              "#46039f"
             ],
             [
              0.2222222222222222,
              "#7201a8"
             ],
             [
              0.3333333333333333,
              "#9c179e"
             ],
             [
              0.4444444444444444,
              "#bd3786"
             ],
             [
              0.5555555555555556,
              "#d8576b"
             ],
             [
              0.6666666666666666,
              "#ed7953"
             ],
             [
              0.7777777777777778,
              "#fb9f3a"
             ],
             [
              0.8888888888888888,
              "#fdca26"
             ],
             [
              1,
              "#f0f921"
             ]
            ],
            "type": "heatmap"
           }
          ],
          "heatmapgl": [
           {
            "colorbar": {
             "outlinewidth": 0,
             "ticks": ""
            },
            "colorscale": [
             [
              0,
              "#0d0887"
             ],
             [
              0.1111111111111111,
              "#46039f"
             ],
             [
              0.2222222222222222,
              "#7201a8"
             ],
             [
              0.3333333333333333,
              "#9c179e"
             ],
             [
              0.4444444444444444,
              "#bd3786"
             ],
             [
              0.5555555555555556,
              "#d8576b"
             ],
             [
              0.6666666666666666,
              "#ed7953"
             ],
             [
              0.7777777777777778,
              "#fb9f3a"
             ],
             [
              0.8888888888888888,
              "#fdca26"
             ],
             [
              1,
              "#f0f921"
             ]
            ],
            "type": "heatmapgl"
           }
          ],
          "histogram": [
           {
            "marker": {
             "pattern": {
              "fillmode": "overlay",
              "size": 10,
              "solidity": 0.2
             }
            },
            "type": "histogram"
           }
          ],
          "histogram2d": [
           {
            "colorbar": {
             "outlinewidth": 0,
             "ticks": ""
            },
            "colorscale": [
             [
              0,
              "#0d0887"
             ],
             [
              0.1111111111111111,
              "#46039f"
             ],
             [
              0.2222222222222222,
              "#7201a8"
             ],
             [
              0.3333333333333333,
              "#9c179e"
             ],
             [
              0.4444444444444444,
              "#bd3786"
             ],
             [
              0.5555555555555556,
              "#d8576b"
             ],
             [
              0.6666666666666666,
              "#ed7953"
             ],
             [
              0.7777777777777778,
              "#fb9f3a"
             ],
             [
              0.8888888888888888,
              "#fdca26"
             ],
             [
              1,
              "#f0f921"
             ]
            ],
            "type": "histogram2d"
           }
          ],
          "histogram2dcontour": [
           {
            "colorbar": {
             "outlinewidth": 0,
             "ticks": ""
            },
            "colorscale": [
             [
              0,
              "#0d0887"
             ],
             [
              0.1111111111111111,
              "#46039f"
             ],
             [
              0.2222222222222222,
              "#7201a8"
             ],
             [
              0.3333333333333333,
              "#9c179e"
             ],
             [
              0.4444444444444444,
              "#bd3786"
             ],
             [
              0.5555555555555556,
              "#d8576b"
             ],
             [
              0.6666666666666666,
              "#ed7953"
             ],
             [
              0.7777777777777778,
              "#fb9f3a"
             ],
             [
              0.8888888888888888,
              "#fdca26"
             ],
             [
              1,
              "#f0f921"
             ]
            ],
            "type": "histogram2dcontour"
           }
          ],
          "mesh3d": [
           {
            "colorbar": {
             "outlinewidth": 0,
             "ticks": ""
            },
            "type": "mesh3d"
           }
          ],
          "parcoords": [
           {
            "line": {
             "colorbar": {
              "outlinewidth": 0,
              "ticks": ""
             }
            },
            "type": "parcoords"
           }
          ],
          "pie": [
           {
            "automargin": true,
            "type": "pie"
           }
          ],
          "scatter": [
           {
            "fillpattern": {
             "fillmode": "overlay",
             "size": 10,
             "solidity": 0.2
            },
            "type": "scatter"
           }
          ],
          "scatter3d": [
           {
            "line": {
             "colorbar": {
              "outlinewidth": 0,
              "ticks": ""
             }
            },
            "marker": {
             "colorbar": {
              "outlinewidth": 0,
              "ticks": ""
             }
            },
            "type": "scatter3d"
           }
          ],
          "scattercarpet": [
           {
            "marker": {
             "colorbar": {
              "outlinewidth": 0,
              "ticks": ""
             }
            },
            "type": "scattercarpet"
           }
          ],
          "scattergeo": [
           {
            "marker": {
             "colorbar": {
              "outlinewidth": 0,
              "ticks": ""
             }
            },
            "type": "scattergeo"
           }
          ],
          "scattergl": [
           {
            "marker": {
             "colorbar": {
              "outlinewidth": 0,
              "ticks": ""
             }
            },
            "type": "scattergl"
           }
          ],
          "scattermapbox": [
           {
            "marker": {
             "colorbar": {
              "outlinewidth": 0,
              "ticks": ""
             }
            },
            "type": "scattermapbox"
           }
          ],
          "scatterpolar": [
           {
            "marker": {
             "colorbar": {
              "outlinewidth": 0,
              "ticks": ""
             }
            },
            "type": "scatterpolar"
           }
          ],
          "scatterpolargl": [
           {
            "marker": {
             "colorbar": {
              "outlinewidth": 0,
              "ticks": ""
             }
            },
            "type": "scatterpolargl"
           }
          ],
          "scatterternary": [
           {
            "marker": {
             "colorbar": {
              "outlinewidth": 0,
              "ticks": ""
             }
            },
            "type": "scatterternary"
           }
          ],
          "surface": [
           {
            "colorbar": {
             "outlinewidth": 0,
             "ticks": ""
            },
            "colorscale": [
             [
              0,
              "#0d0887"
             ],
             [
              0.1111111111111111,
              "#46039f"
             ],
             [
              0.2222222222222222,
              "#7201a8"
             ],
             [
              0.3333333333333333,
              "#9c179e"
             ],
             [
              0.4444444444444444,
              "#bd3786"
             ],
             [
              0.5555555555555556,
              "#d8576b"
             ],
             [
              0.6666666666666666,
              "#ed7953"
             ],
             [
              0.7777777777777778,
              "#fb9f3a"
             ],
             [
              0.8888888888888888,
              "#fdca26"
             ],
             [
              1,
              "#f0f921"
             ]
            ],
            "type": "surface"
           }
          ],
          "table": [
           {
            "cells": {
             "fill": {
              "color": "#EBF0F8"
             },
             "line": {
              "color": "white"
             }
            },
            "header": {
             "fill": {
              "color": "#C8D4E3"
             },
             "line": {
              "color": "white"
             }
            },
            "type": "table"
           }
          ]
         },
         "layout": {
          "annotationdefaults": {
           "arrowcolor": "#2a3f5f",
           "arrowhead": 0,
           "arrowwidth": 1
          },
          "autotypenumbers": "strict",
          "coloraxis": {
           "colorbar": {
            "outlinewidth": 0,
            "ticks": ""
           }
          },
          "colorscale": {
           "diverging": [
            [
             0,
             "#8e0152"
            ],
            [
             0.1,
             "#c51b7d"
            ],
            [
             0.2,
             "#de77ae"
            ],
            [
             0.3,
             "#f1b6da"
            ],
            [
             0.4,
             "#fde0ef"
            ],
            [
             0.5,
             "#f7f7f7"
            ],
            [
             0.6,
             "#e6f5d0"
            ],
            [
             0.7,
             "#b8e186"
            ],
            [
             0.8,
             "#7fbc41"
            ],
            [
             0.9,
             "#4d9221"
            ],
            [
             1,
             "#276419"
            ]
           ],
           "sequential": [
            [
             0,
             "#0d0887"
            ],
            [
             0.1111111111111111,
             "#46039f"
            ],
            [
             0.2222222222222222,
             "#7201a8"
            ],
            [
             0.3333333333333333,
             "#9c179e"
            ],
            [
             0.4444444444444444,
             "#bd3786"
            ],
            [
             0.5555555555555556,
             "#d8576b"
            ],
            [
             0.6666666666666666,
             "#ed7953"
            ],
            [
             0.7777777777777778,
             "#fb9f3a"
            ],
            [
             0.8888888888888888,
             "#fdca26"
            ],
            [
             1,
             "#f0f921"
            ]
           ],
           "sequentialminus": [
            [
             0,
             "#0d0887"
            ],
            [
             0.1111111111111111,
             "#46039f"
            ],
            [
             0.2222222222222222,
             "#7201a8"
            ],
            [
             0.3333333333333333,
             "#9c179e"
            ],
            [
             0.4444444444444444,
             "#bd3786"
            ],
            [
             0.5555555555555556,
             "#d8576b"
            ],
            [
             0.6666666666666666,
             "#ed7953"
            ],
            [
             0.7777777777777778,
             "#fb9f3a"
            ],
            [
             0.8888888888888888,
             "#fdca26"
            ],
            [
             1,
             "#f0f921"
            ]
           ]
          },
          "colorway": [
           "#636efa",
           "#EF553B",
           "#00cc96",
           "#ab63fa",
           "#FFA15A",
           "#19d3f3",
           "#FF6692",
           "#B6E880",
           "#FF97FF",
           "#FECB52"
          ],
          "font": {
           "color": "#2a3f5f"
          },
          "geo": {
           "bgcolor": "white",
           "lakecolor": "white",
           "landcolor": "#E5ECF6",
           "showlakes": true,
           "showland": true,
           "subunitcolor": "white"
          },
          "hoverlabel": {
           "align": "left"
          },
          "hovermode": "closest",
          "mapbox": {
           "style": "light"
          },
          "paper_bgcolor": "white",
          "plot_bgcolor": "#E5ECF6",
          "polar": {
           "angularaxis": {
            "gridcolor": "white",
            "linecolor": "white",
            "ticks": ""
           },
           "bgcolor": "#E5ECF6",
           "radialaxis": {
            "gridcolor": "white",
            "linecolor": "white",
            "ticks": ""
           }
          },
          "scene": {
           "xaxis": {
            "backgroundcolor": "#E5ECF6",
            "gridcolor": "white",
            "gridwidth": 2,
            "linecolor": "white",
            "showbackground": true,
            "ticks": "",
            "zerolinecolor": "white"
           },
           "yaxis": {
            "backgroundcolor": "#E5ECF6",
            "gridcolor": "white",
            "gridwidth": 2,
            "linecolor": "white",
            "showbackground": true,
            "ticks": "",
            "zerolinecolor": "white"
           },
           "zaxis": {
            "backgroundcolor": "#E5ECF6",
            "gridcolor": "white",
            "gridwidth": 2,
            "linecolor": "white",
            "showbackground": true,
            "ticks": "",
            "zerolinecolor": "white"
           }
          },
          "shapedefaults": {
           "line": {
            "color": "#2a3f5f"
           }
          },
          "ternary": {
           "aaxis": {
            "gridcolor": "white",
            "linecolor": "white",
            "ticks": ""
           },
           "baxis": {
            "gridcolor": "white",
            "linecolor": "white",
            "ticks": ""
           },
           "bgcolor": "#E5ECF6",
           "caxis": {
            "gridcolor": "white",
            "linecolor": "white",
            "ticks": ""
           }
          },
          "title": {
           "x": 0.05
          },
          "xaxis": {
           "automargin": true,
           "gridcolor": "white",
           "linecolor": "white",
           "ticks": "",
           "title": {
            "standoff": 15
           },
           "zerolinecolor": "white",
           "zerolinewidth": 2
          },
          "yaxis": {
           "automargin": true,
           "gridcolor": "white",
           "linecolor": "white",
           "ticks": "",
           "title": {
            "standoff": 15
           },
           "zerolinecolor": "white",
           "zerolinewidth": 2
          }
         }
        },
        "title": {
         "text": "LC 3PO Revenue by State with Store Locations"
        }
       }
      }
     },
     "metadata": {},
     "output_type": "display_data"
    }
   ],
   "source": [
    "import plotly.graph_objects as go\n",
    "import pandas as pd\n",
    "\n",
    "# List of all US state abbreviations\n",
    "us_states = [\n",
    "    'AL', 'AK', 'AZ', 'AR', 'CA', 'CO', 'CT', 'DE', 'FL', 'GA',\n",
    "    'HI', 'ID', 'IL', 'IN', 'IA', 'KS', 'KY', 'LA', 'ME', 'MD',\n",
    "    'MA', 'MI', 'MN', 'MS', 'MO', 'MT', 'NE', 'NV', 'NH', 'NJ',\n",
    "    'NM', 'NY', 'NC', 'ND', 'OH', 'OK', 'OR', 'PA', 'RI', 'SC',\n",
    "    'SD', 'TN', 'TX', 'UT', 'VT', 'VA', 'WA', 'WV', 'WI', 'WY'\n",
    "]\n",
    "\n",
    "# Aggregate your data\n",
    "state_rev = ws_extended[ws_extended['channel']=='3PO'].groupby('ST')['revenue'].sum().reset_index()\n",
    "\n",
    "# Fill in missing states with 0 revenue\n",
    "all_states_df = pd.DataFrame({'ST': us_states})\n",
    "state_rev = all_states_df.merge(state_rev, on='ST', how='left').fillna(0)\n",
    "state_rev['revenue_text'] = state_rev['revenue'].apply(lambda x: f'{x:.2f}%')\n",
    "\n",
    "# Store marker data\n",
    "store_data = lc_extended[['StoreID', 'Latitude', 'Longitude', 'revenue']].dropna()\n",
    "store_data = store_data.groupby(['StoreID', 'Latitude', 'Longitude'])['revenue'].sum().reset_index()\n",
    "\n",
    "# Choropleth\n",
    "choropleth = go.Choropleth(\n",
    "    locations=state_rev['ST'],\n",
    "    z=state_rev['revenue'],\n",
    "    locationmode='USA-states',\n",
    "    colorscale='Blues',\n",
    "    colorbar_title='Revenue',\n",
    "    text=state_rev['revenue_text'],\n",
    "    hoverinfo=\"text\",\n",
    "    name='State Revenue'\n",
    "   \n",
    ")\n",
    "\n",
    "# Store Markers\n",
    "store_markers = go.Scattergeo(\n",
    "    lon=store_data['Longitude'],\n",
    "    lat=store_data['Latitude'],\n",
    "    text=store_data.apply(lambda row: f\"Store: {row['StoreID']}<br>Revenue: {row['revenue']}\", axis=1),\n",
    "    mode='markers',\n",
    "    marker=dict(size=5, color='red', opacity=0.7),\n",
    "    name='Stores'\n",
    ")\n",
    "\n",
    "# Combine layers\n",
    "fig = go.Figure(data=[choropleth, store_markers])\n",
    "\n",
    "fig.update_layout(\n",
    "    title='LC 3PO Revenue by State with Store Locations',\n",
    "    geo=dict(\n",
    "        scope='usa',\n",
    "        showland=True,\n",
    "        landcolor='white',\n",
    "        projection_type='albers usa'\n",
    "    )\n",
    ")\n",
    "\n",
    "fig.show()\n"
   ]
  },
  {
   "cell_type": "code",
   "execution_count": 127,
   "metadata": {},
   "outputs": [
    {
     "data": {
      "application/vnd.plotly.v1+json": {
       "config": {
        "plotlyServerURL": "https://plot.ly"
       },
       "data": [
        {
         "colorbar": {
          "title": {
           "text": "Revenue (Online Channel)"
          }
         },
         "colorscale": [
          [
           0,
           "rgb(247,251,255)"
          ],
          [
           0.125,
           "rgb(222,235,247)"
          ],
          [
           0.25,
           "rgb(198,219,239)"
          ],
          [
           0.375,
           "rgb(158,202,225)"
          ],
          [
           0.5,
           "rgb(107,174,214)"
          ],
          [
           0.625,
           "rgb(66,146,198)"
          ],
          [
           0.75,
           "rgb(33,113,181)"
          ],
          [
           0.875,
           "rgb(8,81,156)"
          ],
          [
           1,
           "rgb(8,48,107)"
          ]
         ],
         "hoverinfo": "text",
         "locationmode": "USA-states",
         "locations": [
          "AL",
          "AK",
          "AZ",
          "AR",
          "CA",
          "CO",
          "CT",
          "DE",
          "FL",
          "GA",
          "HI",
          "ID",
          "IL",
          "IN",
          "IA",
          "KS",
          "KY",
          "LA",
          "ME",
          "MD",
          "MA",
          "MI",
          "MN",
          "MS",
          "MO",
          "MT",
          "NE",
          "NV",
          "NH",
          "NJ",
          "NM",
          "NY",
          "NC",
          "ND",
          "OH",
          "OK",
          "OR",
          "PA",
          "RI",
          "SC",
          "SD",
          "TN",
          "TX",
          "UT",
          "VT",
          "VA",
          "WA",
          "WV",
          "WI",
          "WY"
         ],
         "name": "3PO Revenue",
         "text": [
          "0.00",
          "0.00",
          "0.00",
          "76180.40",
          "0.00",
          "0.00",
          "0.00",
          "0.00",
          "0.00",
          "0.00",
          "0.00",
          "0.00",
          "0.00",
          "0.00",
          "0.00",
          "1523383.78",
          "0.00",
          "282406.75",
          "0.00",
          "2226119.30",
          "0.00",
          "0.00",
          "0.00",
          "0.00",
          "0.00",
          "0.00",
          "0.00",
          "0.00",
          "0.00",
          "0.00",
          "933499.39",
          "0.00",
          "1443748.61",
          "0.00",
          "0.00",
          "1879219.20",
          "0.00",
          "0.00",
          "0.00",
          "0.00",
          "0.00",
          "0.00",
          "2152713.48",
          "0.00",
          "0.00",
          "876438.79",
          "0.00",
          "0.00",
          "0.00",
          "0.00"
         ],
         "type": "choropleth",
         "z": [
          0,
          0,
          0,
          76180.4,
          0,
          0,
          0,
          0,
          0,
          0,
          0,
          0,
          0,
          0,
          0,
          1523383.7799999998,
          0,
          282406.74999999994,
          0,
          2226119.2999999993,
          0,
          0,
          0,
          0,
          0,
          0,
          0,
          0,
          0,
          0,
          933499.3900000001,
          0,
          1443748.6099999999,
          0,
          0,
          1879219.1999999995,
          0,
          0,
          0,
          0,
          0,
          0,
          2152713.48,
          0,
          0,
          876438.79,
          0,
          0,
          0,
          0
         ]
        },
        {
         "lat": [
          38.9520203424831,
          35.1517518508754,
          38.9892439981741
         ],
         "lon": [
          -76.9661749438348,
          -80.8753214323261,
          -76.9894859364502
         ],
         "marker": {
          "color": "red",
          "opacity": 0.7,
          "size": 10
         },
         "mode": "markers+text",
         "name": "Top 3 Stores",
         "text": [
          "Store: 01940-00010<br>Revenue: 415307.0699999998",
          "Store: 03222-00038<br>Revenue: 408968.41",
          "Store: 01940-00011<br>Revenue: 406551.12"
         ],
         "type": "scattergeo"
        }
       ],
       "layout": {
        "geo": {
         "landcolor": "white",
         "projection": {
          "type": "albers usa"
         },
         "scope": "usa",
         "showland": true
        },
        "height": 800,
        "margin": {
         "b": 0,
         "l": 0,
         "r": 0,
         "t": 40
        },
        "template": {
         "data": {
          "bar": [
           {
            "error_x": {
             "color": "#2a3f5f"
            },
            "error_y": {
             "color": "#2a3f5f"
            },
            "marker": {
             "line": {
              "color": "#E5ECF6",
              "width": 0.5
             },
             "pattern": {
              "fillmode": "overlay",
              "size": 10,
              "solidity": 0.2
             }
            },
            "type": "bar"
           }
          ],
          "barpolar": [
           {
            "marker": {
             "line": {
              "color": "#E5ECF6",
              "width": 0.5
             },
             "pattern": {
              "fillmode": "overlay",
              "size": 10,
              "solidity": 0.2
             }
            },
            "type": "barpolar"
           }
          ],
          "carpet": [
           {
            "aaxis": {
             "endlinecolor": "#2a3f5f",
             "gridcolor": "white",
             "linecolor": "white",
             "minorgridcolor": "white",
             "startlinecolor": "#2a3f5f"
            },
            "baxis": {
             "endlinecolor": "#2a3f5f",
             "gridcolor": "white",
             "linecolor": "white",
             "minorgridcolor": "white",
             "startlinecolor": "#2a3f5f"
            },
            "type": "carpet"
           }
          ],
          "choropleth": [
           {
            "colorbar": {
             "outlinewidth": 0,
             "ticks": ""
            },
            "type": "choropleth"
           }
          ],
          "contour": [
           {
            "colorbar": {
             "outlinewidth": 0,
             "ticks": ""
            },
            "colorscale": [
             [
              0,
              "#0d0887"
             ],
             [
              0.1111111111111111,
              "#46039f"
             ],
             [
              0.2222222222222222,
              "#7201a8"
             ],
             [
              0.3333333333333333,
              "#9c179e"
             ],
             [
              0.4444444444444444,
              "#bd3786"
             ],
             [
              0.5555555555555556,
              "#d8576b"
             ],
             [
              0.6666666666666666,
              "#ed7953"
             ],
             [
              0.7777777777777778,
              "#fb9f3a"
             ],
             [
              0.8888888888888888,
              "#fdca26"
             ],
             [
              1,
              "#f0f921"
             ]
            ],
            "type": "contour"
           }
          ],
          "contourcarpet": [
           {
            "colorbar": {
             "outlinewidth": 0,
             "ticks": ""
            },
            "type": "contourcarpet"
           }
          ],
          "heatmap": [
           {
            "colorbar": {
             "outlinewidth": 0,
             "ticks": ""
            },
            "colorscale": [
             [
              0,
              "#0d0887"
             ],
             [
              0.1111111111111111,
              "#46039f"
             ],
             [
              0.2222222222222222,
              "#7201a8"
             ],
             [
              0.3333333333333333,
              "#9c179e"
             ],
             [
              0.4444444444444444,
              "#bd3786"
             ],
             [
              0.5555555555555556,
              "#d8576b"
             ],
             [
              0.6666666666666666,
              "#ed7953"
             ],
             [
              0.7777777777777778,
              "#fb9f3a"
             ],
             [
              0.8888888888888888,
              "#fdca26"
             ],
             [
              1,
              "#f0f921"
             ]
            ],
            "type": "heatmap"
           }
          ],
          "heatmapgl": [
           {
            "colorbar": {
             "outlinewidth": 0,
             "ticks": ""
            },
            "colorscale": [
             [
              0,
              "#0d0887"
             ],
             [
              0.1111111111111111,
              "#46039f"
             ],
             [
              0.2222222222222222,
              "#7201a8"
             ],
             [
              0.3333333333333333,
              "#9c179e"
             ],
             [
              0.4444444444444444,
              "#bd3786"
             ],
             [
              0.5555555555555556,
              "#d8576b"
             ],
             [
              0.6666666666666666,
              "#ed7953"
             ],
             [
              0.7777777777777778,
              "#fb9f3a"
             ],
             [
              0.8888888888888888,
              "#fdca26"
             ],
             [
              1,
              "#f0f921"
             ]
            ],
            "type": "heatmapgl"
           }
          ],
          "histogram": [
           {
            "marker": {
             "pattern": {
              "fillmode": "overlay",
              "size": 10,
              "solidity": 0.2
             }
            },
            "type": "histogram"
           }
          ],
          "histogram2d": [
           {
            "colorbar": {
             "outlinewidth": 0,
             "ticks": ""
            },
            "colorscale": [
             [
              0,
              "#0d0887"
             ],
             [
              0.1111111111111111,
              "#46039f"
             ],
             [
              0.2222222222222222,
              "#7201a8"
             ],
             [
              0.3333333333333333,
              "#9c179e"
             ],
             [
              0.4444444444444444,
              "#bd3786"
             ],
             [
              0.5555555555555556,
              "#d8576b"
             ],
             [
              0.6666666666666666,
              "#ed7953"
             ],
             [
              0.7777777777777778,
              "#fb9f3a"
             ],
             [
              0.8888888888888888,
              "#fdca26"
             ],
             [
              1,
              "#f0f921"
             ]
            ],
            "type": "histogram2d"
           }
          ],
          "histogram2dcontour": [
           {
            "colorbar": {
             "outlinewidth": 0,
             "ticks": ""
            },
            "colorscale": [
             [
              0,
              "#0d0887"
             ],
             [
              0.1111111111111111,
              "#46039f"
             ],
             [
              0.2222222222222222,
              "#7201a8"
             ],
             [
              0.3333333333333333,
              "#9c179e"
             ],
             [
              0.4444444444444444,
              "#bd3786"
             ],
             [
              0.5555555555555556,
              "#d8576b"
             ],
             [
              0.6666666666666666,
              "#ed7953"
             ],
             [
              0.7777777777777778,
              "#fb9f3a"
             ],
             [
              0.8888888888888888,
              "#fdca26"
             ],
             [
              1,
              "#f0f921"
             ]
            ],
            "type": "histogram2dcontour"
           }
          ],
          "mesh3d": [
           {
            "colorbar": {
             "outlinewidth": 0,
             "ticks": ""
            },
            "type": "mesh3d"
           }
          ],
          "parcoords": [
           {
            "line": {
             "colorbar": {
              "outlinewidth": 0,
              "ticks": ""
             }
            },
            "type": "parcoords"
           }
          ],
          "pie": [
           {
            "automargin": true,
            "type": "pie"
           }
          ],
          "scatter": [
           {
            "fillpattern": {
             "fillmode": "overlay",
             "size": 10,
             "solidity": 0.2
            },
            "type": "scatter"
           }
          ],
          "scatter3d": [
           {
            "line": {
             "colorbar": {
              "outlinewidth": 0,
              "ticks": ""
             }
            },
            "marker": {
             "colorbar": {
              "outlinewidth": 0,
              "ticks": ""
             }
            },
            "type": "scatter3d"
           }
          ],
          "scattercarpet": [
           {
            "marker": {
             "colorbar": {
              "outlinewidth": 0,
              "ticks": ""
             }
            },
            "type": "scattercarpet"
           }
          ],
          "scattergeo": [
           {
            "marker": {
             "colorbar": {
              "outlinewidth": 0,
              "ticks": ""
             }
            },
            "type": "scattergeo"
           }
          ],
          "scattergl": [
           {
            "marker": {
             "colorbar": {
              "outlinewidth": 0,
              "ticks": ""
             }
            },
            "type": "scattergl"
           }
          ],
          "scattermapbox": [
           {
            "marker": {
             "colorbar": {
              "outlinewidth": 0,
              "ticks": ""
             }
            },
            "type": "scattermapbox"
           }
          ],
          "scatterpolar": [
           {
            "marker": {
             "colorbar": {
              "outlinewidth": 0,
              "ticks": ""
             }
            },
            "type": "scatterpolar"
           }
          ],
          "scatterpolargl": [
           {
            "marker": {
             "colorbar": {
              "outlinewidth": 0,
              "ticks": ""
             }
            },
            "type": "scatterpolargl"
           }
          ],
          "scatterternary": [
           {
            "marker": {
             "colorbar": {
              "outlinewidth": 0,
              "ticks": ""
             }
            },
            "type": "scatterternary"
           }
          ],
          "surface": [
           {
            "colorbar": {
             "outlinewidth": 0,
             "ticks": ""
            },
            "colorscale": [
             [
              0,
              "#0d0887"
             ],
             [
              0.1111111111111111,
              "#46039f"
             ],
             [
              0.2222222222222222,
              "#7201a8"
             ],
             [
              0.3333333333333333,
              "#9c179e"
             ],
             [
              0.4444444444444444,
              "#bd3786"
             ],
             [
              0.5555555555555556,
              "#d8576b"
             ],
             [
              0.6666666666666666,
              "#ed7953"
             ],
             [
              0.7777777777777778,
              "#fb9f3a"
             ],
             [
              0.8888888888888888,
              "#fdca26"
             ],
             [
              1,
              "#f0f921"
             ]
            ],
            "type": "surface"
           }
          ],
          "table": [
           {
            "cells": {
             "fill": {
              "color": "#EBF0F8"
             },
             "line": {
              "color": "white"
             }
            },
            "header": {
             "fill": {
              "color": "#C8D4E3"
             },
             "line": {
              "color": "white"
             }
            },
            "type": "table"
           }
          ]
         },
         "layout": {
          "annotationdefaults": {
           "arrowcolor": "#2a3f5f",
           "arrowhead": 0,
           "arrowwidth": 1
          },
          "autotypenumbers": "strict",
          "coloraxis": {
           "colorbar": {
            "outlinewidth": 0,
            "ticks": ""
           }
          },
          "colorscale": {
           "diverging": [
            [
             0,
             "#8e0152"
            ],
            [
             0.1,
             "#c51b7d"
            ],
            [
             0.2,
             "#de77ae"
            ],
            [
             0.3,
             "#f1b6da"
            ],
            [
             0.4,
             "#fde0ef"
            ],
            [
             0.5,
             "#f7f7f7"
            ],
            [
             0.6,
             "#e6f5d0"
            ],
            [
             0.7,
             "#b8e186"
            ],
            [
             0.8,
             "#7fbc41"
            ],
            [
             0.9,
             "#4d9221"
            ],
            [
             1,
             "#276419"
            ]
           ],
           "sequential": [
            [
             0,
             "#0d0887"
            ],
            [
             0.1111111111111111,
             "#46039f"
            ],
            [
             0.2222222222222222,
             "#7201a8"
            ],
            [
             0.3333333333333333,
             "#9c179e"
            ],
            [
             0.4444444444444444,
             "#bd3786"
            ],
            [
             0.5555555555555556,
             "#d8576b"
            ],
            [
             0.6666666666666666,
             "#ed7953"
            ],
            [
             0.7777777777777778,
             "#fb9f3a"
            ],
            [
             0.8888888888888888,
             "#fdca26"
            ],
            [
             1,
             "#f0f921"
            ]
           ],
           "sequentialminus": [
            [
             0,
             "#0d0887"
            ],
            [
             0.1111111111111111,
             "#46039f"
            ],
            [
             0.2222222222222222,
             "#7201a8"
            ],
            [
             0.3333333333333333,
             "#9c179e"
            ],
            [
             0.4444444444444444,
             "#bd3786"
            ],
            [
             0.5555555555555556,
             "#d8576b"
            ],
            [
             0.6666666666666666,
             "#ed7953"
            ],
            [
             0.7777777777777778,
             "#fb9f3a"
            ],
            [
             0.8888888888888888,
             "#fdca26"
            ],
            [
             1,
             "#f0f921"
            ]
           ]
          },
          "colorway": [
           "#636efa",
           "#EF553B",
           "#00cc96",
           "#ab63fa",
           "#FFA15A",
           "#19d3f3",
           "#FF6692",
           "#B6E880",
           "#FF97FF",
           "#FECB52"
          ],
          "font": {
           "color": "#2a3f5f"
          },
          "geo": {
           "bgcolor": "white",
           "lakecolor": "white",
           "landcolor": "#E5ECF6",
           "showlakes": true,
           "showland": true,
           "subunitcolor": "white"
          },
          "hoverlabel": {
           "align": "left"
          },
          "hovermode": "closest",
          "mapbox": {
           "style": "light"
          },
          "paper_bgcolor": "white",
          "plot_bgcolor": "#E5ECF6",
          "polar": {
           "angularaxis": {
            "gridcolor": "white",
            "linecolor": "white",
            "ticks": ""
           },
           "bgcolor": "#E5ECF6",
           "radialaxis": {
            "gridcolor": "white",
            "linecolor": "white",
            "ticks": ""
           }
          },
          "scene": {
           "xaxis": {
            "backgroundcolor": "#E5ECF6",
            "gridcolor": "white",
            "gridwidth": 2,
            "linecolor": "white",
            "showbackground": true,
            "ticks": "",
            "zerolinecolor": "white"
           },
           "yaxis": {
            "backgroundcolor": "#E5ECF6",
            "gridcolor": "white",
            "gridwidth": 2,
            "linecolor": "white",
            "showbackground": true,
            "ticks": "",
            "zerolinecolor": "white"
           },
           "zaxis": {
            "backgroundcolor": "#E5ECF6",
            "gridcolor": "white",
            "gridwidth": 2,
            "linecolor": "white",
            "showbackground": true,
            "ticks": "",
            "zerolinecolor": "white"
           }
          },
          "shapedefaults": {
           "line": {
            "color": "#2a3f5f"
           }
          },
          "ternary": {
           "aaxis": {
            "gridcolor": "white",
            "linecolor": "white",
            "ticks": ""
           },
           "baxis": {
            "gridcolor": "white",
            "linecolor": "white",
            "ticks": ""
           },
           "bgcolor": "#E5ECF6",
           "caxis": {
            "gridcolor": "white",
            "linecolor": "white",
            "ticks": ""
           }
          },
          "title": {
           "x": 0.05
          },
          "xaxis": {
           "automargin": true,
           "gridcolor": "white",
           "linecolor": "white",
           "ticks": "",
           "title": {
            "standoff": 15
           },
           "zerolinecolor": "white",
           "zerolinewidth": 2
          },
          "yaxis": {
           "automargin": true,
           "gridcolor": "white",
           "linecolor": "white",
           "ticks": "",
           "title": {
            "standoff": 15
           },
           "zerolinecolor": "white",
           "zerolinewidth": 2
          }
         }
        },
        "title": {
         "text": "Top 3 Performing Stores in Online Channel with Revenue by State"
        },
        "width": 1200
       }
      }
     },
     "metadata": {},
     "output_type": "display_data"
    }
   ],
   "source": [
    "import plotly.graph_objects as go\n",
    "import pandas as pd\n",
    "\n",
    "# Filter data for the 'Online' channel\n",
    "channel_1 = '3PO'\n",
    "\n",
    "# Filter data by 'Online' channel\n",
    "channel_data_1 = lc_extended[lc_extended['channel'] == channel_1]\n",
    "\n",
    "# Aggregate data per state for the 'Online' channel\n",
    "state_rev_1 = channel_data_1.groupby('ST')['revenue'].sum().reset_index()\n",
    "\n",
    "# Fill in missing states with 0 revenue\n",
    "all_states_df = pd.DataFrame({'ST': us_states})\n",
    "state_rev_1 = all_states_df.merge(state_rev_1, on='ST', how='left').fillna(0)\n",
    "\n",
    "# Add formatted text for revenue\n",
    "state_rev_1['revenue_text'] = state_rev_1['revenue'].apply(lambda x: f'{x:.2f}')\n",
    "\n",
    "# Find the top 3 performing stores for the 'Online' channel based on revenue\n",
    "top_stores = channel_data_1.groupby(['StoreID', 'Latitude', 'Longitude'])['revenue'].sum().reset_index()\n",
    "top_stores_sorted = top_stores.sort_values(by='revenue', ascending=False).head(3)\n",
    "\n",
    "# Create Choropleth for the 'Online' channel\n",
    "choropleth_1 = go.Choropleth(\n",
    "    locations=state_rev_1['ST'],\n",
    "    z=state_rev_1['revenue'],\n",
    "    locationmode='USA-states',\n",
    "    colorscale='Blues',\n",
    "    colorbar_title='Revenue (Online Channel)',\n",
    "    text=state_rev_1['revenue_text'],\n",
    "    hoverinfo=\"text\",\n",
    "    name=f'{channel_1} Revenue'\n",
    ")\n",
    "\n",
    "# Create Store Markers for the top 3 stores\n",
    "store_markers = go.Scattergeo(\n",
    "    lon=top_stores_sorted['Longitude'],\n",
    "    lat=top_stores_sorted['Latitude'],\n",
    "    text=top_stores_sorted.apply(lambda row: f\"Store: {row['StoreID']}<br>Revenue: {row['revenue']}\", axis=1),\n",
    "    mode='markers+text',  # Adding text labels for store info\n",
    "    marker=dict(size=10, color='red', opacity=0.7),\n",
    "    name='Top 3 Stores'\n",
    ")\n",
    "\n",
    "# Combine Layers\n",
    "fig = go.Figure(data=[choropleth_1, store_markers])\n",
    "\n",
    "# Update layout with a larger size\n",
    "fig.update_layout(\n",
    "    title='Top 3 Performing Stores in Online Channel with Revenue by State',\n",
    "    geo=dict(\n",
    "        scope='usa',\n",
    "        showland=True,\n",
    "        landcolor='white',\n",
    "        projection_type='albers usa'\n",
    "    ),\n",
    "    height=800,  # Increase height for larger view\n",
    "    width=1200,  # Increase width for larger view\n",
    "    margin={\"r\":0,\"t\":40,\"l\":0,\"b\":0}  # Adjust margins for better spacing\n",
    ")\n",
    "\n",
    "fig.show()\n"
   ]
  },
  {
   "cell_type": "code",
   "execution_count": 243,
   "metadata": {},
   "outputs": [
    {
     "name": "stdout",
     "output_type": "stream",
     "text": [
      "#EF553B\n"
     ]
    }
   ],
   "source": [
    "import plotly.express as px\n",
    "\n",
    "print(px.colors.qualitative.Plotly[1])\n"
   ]
  },
  {
   "cell_type": "code",
   "execution_count": 332,
   "metadata": {},
   "outputs": [
    {
     "data": {
      "text/html": [
       "<div>\n",
       "<style scoped>\n",
       "    .dataframe tbody tr th:only-of-type {\n",
       "        vertical-align: middle;\n",
       "    }\n",
       "\n",
       "    .dataframe tbody tr th {\n",
       "        vertical-align: top;\n",
       "    }\n",
       "\n",
       "    .dataframe thead th {\n",
       "        text-align: right;\n",
       "    }\n",
       "</style>\n",
       "<table border=\"1\" class=\"dataframe\">\n",
       "  <thead>\n",
       "    <tr style=\"text-align: right;\">\n",
       "      <th></th>\n",
       "      <th>ST</th>\n",
       "      <th>channel</th>\n",
       "      <th>OrderMode</th>\n",
       "      <th>revenue</th>\n",
       "    </tr>\n",
       "  </thead>\n",
       "  <tbody>\n",
       "    <tr>\n",
       "      <th>0</th>\n",
       "      <td>AR</td>\n",
       "      <td>1PO</td>\n",
       "      <td>Mobile</td>\n",
       "      <td>217804.88</td>\n",
       "    </tr>\n",
       "    <tr>\n",
       "      <th>1</th>\n",
       "      <td>AR</td>\n",
       "      <td>1PO</td>\n",
       "      <td>Website</td>\n",
       "      <td>111642.11</td>\n",
       "    </tr>\n",
       "    <tr>\n",
       "      <th>2</th>\n",
       "      <td>AR</td>\n",
       "      <td>3PO</td>\n",
       "      <td>DoorDash</td>\n",
       "      <td>73393.18</td>\n",
       "    </tr>\n",
       "    <tr>\n",
       "      <th>3</th>\n",
       "      <td>AR</td>\n",
       "      <td>3PO</td>\n",
       "      <td>UberEats</td>\n",
       "      <td>2787.22</td>\n",
       "    </tr>\n",
       "    <tr>\n",
       "      <th>4</th>\n",
       "      <td>KS</td>\n",
       "      <td>1PO</td>\n",
       "      <td>Mobile</td>\n",
       "      <td>4048533.92</td>\n",
       "    </tr>\n",
       "    <tr>\n",
       "      <th>5</th>\n",
       "      <td>KS</td>\n",
       "      <td>1PO</td>\n",
       "      <td>Website</td>\n",
       "      <td>2430463.82</td>\n",
       "    </tr>\n",
       "    <tr>\n",
       "      <th>6</th>\n",
       "      <td>KS</td>\n",
       "      <td>3PO</td>\n",
       "      <td>DoorDash</td>\n",
       "      <td>1277348.38</td>\n",
       "    </tr>\n",
       "    <tr>\n",
       "      <th>7</th>\n",
       "      <td>KS</td>\n",
       "      <td>3PO</td>\n",
       "      <td>Grubhub</td>\n",
       "      <td>40071.55</td>\n",
       "    </tr>\n",
       "    <tr>\n",
       "      <th>8</th>\n",
       "      <td>KS</td>\n",
       "      <td>3PO</td>\n",
       "      <td>UberEats</td>\n",
       "      <td>205963.85</td>\n",
       "    </tr>\n",
       "    <tr>\n",
       "      <th>9</th>\n",
       "      <td>LA</td>\n",
       "      <td>1PO</td>\n",
       "      <td>Mobile</td>\n",
       "      <td>347011.96</td>\n",
       "    </tr>\n",
       "    <tr>\n",
       "      <th>10</th>\n",
       "      <td>LA</td>\n",
       "      <td>1PO</td>\n",
       "      <td>Website</td>\n",
       "      <td>250343.56</td>\n",
       "    </tr>\n",
       "    <tr>\n",
       "      <th>11</th>\n",
       "      <td>LA</td>\n",
       "      <td>3PO</td>\n",
       "      <td>DoorDash</td>\n",
       "      <td>251832.05</td>\n",
       "    </tr>\n",
       "    <tr>\n",
       "      <th>12</th>\n",
       "      <td>LA</td>\n",
       "      <td>3PO</td>\n",
       "      <td>Grubhub</td>\n",
       "      <td>2763.33</td>\n",
       "    </tr>\n",
       "    <tr>\n",
       "      <th>13</th>\n",
       "      <td>LA</td>\n",
       "      <td>3PO</td>\n",
       "      <td>UberEats</td>\n",
       "      <td>27811.37</td>\n",
       "    </tr>\n",
       "    <tr>\n",
       "      <th>14</th>\n",
       "      <td>MD</td>\n",
       "      <td>1PO</td>\n",
       "      <td>Mobile</td>\n",
       "      <td>1904621.01</td>\n",
       "    </tr>\n",
       "    <tr>\n",
       "      <th>15</th>\n",
       "      <td>MD</td>\n",
       "      <td>1PO</td>\n",
       "      <td>Website</td>\n",
       "      <td>1124656.28</td>\n",
       "    </tr>\n",
       "    <tr>\n",
       "      <th>16</th>\n",
       "      <td>MD</td>\n",
       "      <td>3PO</td>\n",
       "      <td>DoorDash</td>\n",
       "      <td>1354792.73</td>\n",
       "    </tr>\n",
       "    <tr>\n",
       "      <th>17</th>\n",
       "      <td>MD</td>\n",
       "      <td>3PO</td>\n",
       "      <td>Grubhub</td>\n",
       "      <td>100350.55</td>\n",
       "    </tr>\n",
       "    <tr>\n",
       "      <th>18</th>\n",
       "      <td>MD</td>\n",
       "      <td>3PO</td>\n",
       "      <td>UberEats</td>\n",
       "      <td>770976.02</td>\n",
       "    </tr>\n",
       "    <tr>\n",
       "      <th>19</th>\n",
       "      <td>NC</td>\n",
       "      <td>1PO</td>\n",
       "      <td>Mobile</td>\n",
       "      <td>2283585.50</td>\n",
       "    </tr>\n",
       "    <tr>\n",
       "      <th>20</th>\n",
       "      <td>NC</td>\n",
       "      <td>1PO</td>\n",
       "      <td>Website</td>\n",
       "      <td>1507984.35</td>\n",
       "    </tr>\n",
       "    <tr>\n",
       "      <th>21</th>\n",
       "      <td>NC</td>\n",
       "      <td>3PO</td>\n",
       "      <td>DoorDash</td>\n",
       "      <td>1138897.86</td>\n",
       "    </tr>\n",
       "    <tr>\n",
       "      <th>22</th>\n",
       "      <td>NC</td>\n",
       "      <td>3PO</td>\n",
       "      <td>Grubhub</td>\n",
       "      <td>33621.09</td>\n",
       "    </tr>\n",
       "    <tr>\n",
       "      <th>23</th>\n",
       "      <td>NC</td>\n",
       "      <td>3PO</td>\n",
       "      <td>UberEats</td>\n",
       "      <td>271229.66</td>\n",
       "    </tr>\n",
       "    <tr>\n",
       "      <th>24</th>\n",
       "      <td>NM</td>\n",
       "      <td>1PO</td>\n",
       "      <td>Mobile</td>\n",
       "      <td>1960497.51</td>\n",
       "    </tr>\n",
       "    <tr>\n",
       "      <th>25</th>\n",
       "      <td>NM</td>\n",
       "      <td>1PO</td>\n",
       "      <td>Website</td>\n",
       "      <td>1073494.80</td>\n",
       "    </tr>\n",
       "    <tr>\n",
       "      <th>26</th>\n",
       "      <td>NM</td>\n",
       "      <td>3PO</td>\n",
       "      <td>DoorDash</td>\n",
       "      <td>903415.74</td>\n",
       "    </tr>\n",
       "    <tr>\n",
       "      <th>27</th>\n",
       "      <td>NM</td>\n",
       "      <td>3PO</td>\n",
       "      <td>Grubhub</td>\n",
       "      <td>2260.23</td>\n",
       "    </tr>\n",
       "    <tr>\n",
       "      <th>28</th>\n",
       "      <td>NM</td>\n",
       "      <td>3PO</td>\n",
       "      <td>UberEats</td>\n",
       "      <td>27823.42</td>\n",
       "    </tr>\n",
       "    <tr>\n",
       "      <th>29</th>\n",
       "      <td>OK</td>\n",
       "      <td>1PO</td>\n",
       "      <td>Mobile</td>\n",
       "      <td>5060907.55</td>\n",
       "    </tr>\n",
       "    <tr>\n",
       "      <th>30</th>\n",
       "      <td>OK</td>\n",
       "      <td>1PO</td>\n",
       "      <td>Website</td>\n",
       "      <td>2395615.14</td>\n",
       "    </tr>\n",
       "    <tr>\n",
       "      <th>31</th>\n",
       "      <td>OK</td>\n",
       "      <td>3PO</td>\n",
       "      <td>DoorDash</td>\n",
       "      <td>1737660.79</td>\n",
       "    </tr>\n",
       "    <tr>\n",
       "      <th>32</th>\n",
       "      <td>OK</td>\n",
       "      <td>3PO</td>\n",
       "      <td>Grubhub</td>\n",
       "      <td>22501.93</td>\n",
       "    </tr>\n",
       "    <tr>\n",
       "      <th>33</th>\n",
       "      <td>OK</td>\n",
       "      <td>3PO</td>\n",
       "      <td>UberEats</td>\n",
       "      <td>119056.48</td>\n",
       "    </tr>\n",
       "    <tr>\n",
       "      <th>34</th>\n",
       "      <td>TX</td>\n",
       "      <td>1PO</td>\n",
       "      <td>Mobile</td>\n",
       "      <td>5203296.94</td>\n",
       "    </tr>\n",
       "    <tr>\n",
       "      <th>35</th>\n",
       "      <td>TX</td>\n",
       "      <td>1PO</td>\n",
       "      <td>Website</td>\n",
       "      <td>2943513.05</td>\n",
       "    </tr>\n",
       "    <tr>\n",
       "      <th>36</th>\n",
       "      <td>TX</td>\n",
       "      <td>3PO</td>\n",
       "      <td>DoorDash</td>\n",
       "      <td>1926974.28</td>\n",
       "    </tr>\n",
       "    <tr>\n",
       "      <th>37</th>\n",
       "      <td>TX</td>\n",
       "      <td>3PO</td>\n",
       "      <td>Grubhub</td>\n",
       "      <td>15745.18</td>\n",
       "    </tr>\n",
       "    <tr>\n",
       "      <th>38</th>\n",
       "      <td>TX</td>\n",
       "      <td>3PO</td>\n",
       "      <td>UberEats</td>\n",
       "      <td>209994.02</td>\n",
       "    </tr>\n",
       "    <tr>\n",
       "      <th>39</th>\n",
       "      <td>VA</td>\n",
       "      <td>1PO</td>\n",
       "      <td>Mobile</td>\n",
       "      <td>758383.79</td>\n",
       "    </tr>\n",
       "    <tr>\n",
       "      <th>40</th>\n",
       "      <td>VA</td>\n",
       "      <td>1PO</td>\n",
       "      <td>Website</td>\n",
       "      <td>539627.87</td>\n",
       "    </tr>\n",
       "    <tr>\n",
       "      <th>41</th>\n",
       "      <td>VA</td>\n",
       "      <td>3PO</td>\n",
       "      <td>DoorDash</td>\n",
       "      <td>504888.66</td>\n",
       "    </tr>\n",
       "    <tr>\n",
       "      <th>42</th>\n",
       "      <td>VA</td>\n",
       "      <td>3PO</td>\n",
       "      <td>Grubhub</td>\n",
       "      <td>54744.81</td>\n",
       "    </tr>\n",
       "    <tr>\n",
       "      <th>43</th>\n",
       "      <td>VA</td>\n",
       "      <td>3PO</td>\n",
       "      <td>UberEats</td>\n",
       "      <td>316805.32</td>\n",
       "    </tr>\n",
       "  </tbody>\n",
       "</table>\n",
       "</div>"
      ],
      "text/plain": [
       "    ST channel OrderMode     revenue\n",
       "0   AR     1PO    Mobile   217804.88\n",
       "1   AR     1PO   Website   111642.11\n",
       "2   AR     3PO  DoorDash    73393.18\n",
       "3   AR     3PO  UberEats     2787.22\n",
       "4   KS     1PO    Mobile  4048533.92\n",
       "5   KS     1PO   Website  2430463.82\n",
       "6   KS     3PO  DoorDash  1277348.38\n",
       "7   KS     3PO   Grubhub    40071.55\n",
       "8   KS     3PO  UberEats   205963.85\n",
       "9   LA     1PO    Mobile   347011.96\n",
       "10  LA     1PO   Website   250343.56\n",
       "11  LA     3PO  DoorDash   251832.05\n",
       "12  LA     3PO   Grubhub     2763.33\n",
       "13  LA     3PO  UberEats    27811.37\n",
       "14  MD     1PO    Mobile  1904621.01\n",
       "15  MD     1PO   Website  1124656.28\n",
       "16  MD     3PO  DoorDash  1354792.73\n",
       "17  MD     3PO   Grubhub   100350.55\n",
       "18  MD     3PO  UberEats   770976.02\n",
       "19  NC     1PO    Mobile  2283585.50\n",
       "20  NC     1PO   Website  1507984.35\n",
       "21  NC     3PO  DoorDash  1138897.86\n",
       "22  NC     3PO   Grubhub    33621.09\n",
       "23  NC     3PO  UberEats   271229.66\n",
       "24  NM     1PO    Mobile  1960497.51\n",
       "25  NM     1PO   Website  1073494.80\n",
       "26  NM     3PO  DoorDash   903415.74\n",
       "27  NM     3PO   Grubhub     2260.23\n",
       "28  NM     3PO  UberEats    27823.42\n",
       "29  OK     1PO    Mobile  5060907.55\n",
       "30  OK     1PO   Website  2395615.14\n",
       "31  OK     3PO  DoorDash  1737660.79\n",
       "32  OK     3PO   Grubhub    22501.93\n",
       "33  OK     3PO  UberEats   119056.48\n",
       "34  TX     1PO    Mobile  5203296.94\n",
       "35  TX     1PO   Website  2943513.05\n",
       "36  TX     3PO  DoorDash  1926974.28\n",
       "37  TX     3PO   Grubhub    15745.18\n",
       "38  TX     3PO  UberEats   209994.02\n",
       "39  VA     1PO    Mobile   758383.79\n",
       "40  VA     1PO   Website   539627.87\n",
       "41  VA     3PO  DoorDash   504888.66\n",
       "42  VA     3PO   Grubhub    54744.81\n",
       "43  VA     3PO  UberEats   316805.32"
      ]
     },
     "execution_count": 332,
     "metadata": {},
     "output_type": "execute_result"
    }
   ],
   "source": [
    "import pandas as pd\n",
    "import pandas as pd\n",
    "import plotly.express as px\n",
    "\n",
    "# OrderMode_c = {\n",
    "#     'Grubhub': '#EF553B',   # Muted Blue\n",
    "#     'Mobile': '#636EFA',     # Soft Orange\n",
    "#     'UberEats': '#FF6692',   # Muted Green\n",
    "#     'DoorDash': '#FFA15A',    # Coral Red\n",
    "#     'Website': 'rgb(68, 170, 153)',   # Neutral Gray\n",
    "#     'Online': 'rgb(144, 103, 167)'     # Plum Purple\n",
    "# }\n",
    "# 2. Group data\n",
    "aux = lc_extended.groupby(['ST', 'channel', 'OrderMode'], as_index=False)['revenue'].sum()\n",
    "aux\n"
   ]
  },
  {
   "cell_type": "code",
   "execution_count": 247,
   "metadata": {},
   "outputs": [
    {
     "data": {
      "application/vnd.plotly.v1+json": {
       "config": {
        "plotlyServerURL": "https://plot.ly"
       },
       "data": [
        {
         "alignmentgroup": "True",
         "hovertemplate": "OrderMode=Mobile<br>channel=1PO<br>State=%{x}<br>Revenue Share (%)=%{y}<br>revenue_share_label=%{text}<extra></extra>",
         "legendgroup": "Mobile",
         "marker": {
          "color": "#636efa",
          "pattern": {
           "shape": ""
          }
         },
         "name": "Mobile",
         "offsetgroup": "Mobile",
         "orientation": "v",
         "showlegend": true,
         "text": [
          "0.6%",
          "11.9%",
          "1.0%",
          "5.6%",
          "6.7%",
          "5.7%",
          "14.8%",
          "15.2%",
          "2.2%"
         ],
         "textposition": "auto",
         "type": "bar",
         "x": [
          "AR",
          "KS",
          "LA",
          "MD",
          "NC",
          "NM",
          "OK",
          "TX",
          "VA"
         ],
         "xaxis": "x2",
         "y": [
          0.6375650774409767,
          11.850991778637917,
          1.0157839766966892,
          5.5752646209596435,
          6.684581016507026,
          5.738828013339235,
          14.81444269769057,
          15.231249256212692,
          2.2199641247768698
         ],
         "yaxis": "y2"
        },
        {
         "alignmentgroup": "True",
         "hovertemplate": "OrderMode=Website<br>channel=1PO<br>State=%{x}<br>Revenue Share (%)=%{y}<br>revenue_share_label=%{text}<extra></extra>",
         "legendgroup": "Website",
         "marker": {
          "color": "#EF553B",
          "pattern": {
           "shape": ""
          }
         },
         "name": "Website",
         "offsetgroup": "Website",
         "orientation": "v",
         "showlegend": true,
         "text": [
          "0.3%",
          "7.1%",
          "0.7%",
          "3.3%",
          "4.4%",
          "3.1%",
          "7.0%",
          "8.6%",
          "1.6%"
         ],
         "textposition": "auto",
         "type": "bar",
         "x": [
          "AR",
          "KS",
          "LA",
          "MD",
          "NC",
          "NM",
          "OK",
          "TX",
          "VA"
         ],
         "xaxis": "x2",
         "y": [
          0.3268021841743127,
          7.114527707624328,
          0.732813292421409,
          3.292128111421016,
          4.414217711226354,
          3.142366669169606,
          7.0125175902986046,
          8.61634103731641,
          1.579615134086341
         ],
         "yaxis": "y2"
        },
        {
         "alignmentgroup": "True",
         "hovertemplate": "OrderMode=DoorDash<br>channel=3PO<br>State=%{x}<br>Revenue Share (%)=%{y}<br>revenue_share_label=%{text}<extra></extra>",
         "legendgroup": "DoorDash",
         "marker": {
          "color": "#00cc96",
          "pattern": {
           "shape": ""
          }
         },
         "name": "DoorDash",
         "offsetgroup": "DoorDash",
         "orientation": "v",
         "showlegend": true,
         "text": [
          "0.6%",
          "11.2%",
          "2.2%",
          "11.9%",
          "10.0%",
          "7.9%",
          "15.3%",
          "16.9%",
          "4.4%"
         ],
         "textposition": "auto",
         "type": "bar",
         "x": [
          "AR",
          "KS",
          "LA",
          "MD",
          "NC",
          "NM",
          "OK",
          "TX",
          "VA"
         ],
         "xaxis": "x",
         "y": [
          0.6441552570011504,
          11.210996362317358,
          2.210272655972619,
          11.890707817489853,
          9.995847621078145,
          7.929074584022447,
          15.25105374591034,
          16.91261521258524,
          4.431292996696239
         ],
         "yaxis": "y"
        },
        {
         "alignmentgroup": "True",
         "hovertemplate": "OrderMode=UberEats<br>channel=3PO<br>State=%{x}<br>Revenue Share (%)=%{y}<br>revenue_share_label=%{text}<extra></extra>",
         "legendgroup": "UberEats",
         "marker": {
          "color": "#ab63fa",
          "pattern": {
           "shape": ""
          }
         },
         "name": "UberEats",
         "offsetgroup": "UberEats",
         "orientation": "v",
         "showlegend": true,
         "text": [
          "0.0%",
          "1.8%",
          "0.2%",
          "6.8%",
          "2.4%",
          "0.2%",
          "1.0%",
          "1.8%",
          "2.8%"
         ],
         "textposition": "auto",
         "type": "bar",
         "x": [
          "AR",
          "KS",
          "LA",
          "MD",
          "NC",
          "NM",
          "OK",
          "TX",
          "VA"
         ],
         "xaxis": "x",
         "y": [
          0.024462796344547906,
          1.807697891407572,
          0.24409407236345507,
          6.766681267998253,
          2.38052106944589,
          0.2441998324742292,
          1.0449316608444044,
          1.8430697773526743,
          2.780528276931612
         ],
         "yaxis": "y"
        },
        {
         "alignmentgroup": "True",
         "hovertemplate": "OrderMode=Grubhub<br>channel=3PO<br>State=%{x}<br>Revenue Share (%)=%{y}<br>revenue_share_label=%{text}<extra></extra>",
         "legendgroup": "Grubhub",
         "marker": {
          "color": "#FFA15A",
          "pattern": {
           "shape": ""
          }
         },
         "name": "Grubhub",
         "offsetgroup": "Grubhub",
         "orientation": "v",
         "showlegend": true,
         "text": [
          "0.4%",
          "0.0%",
          "0.9%",
          "0.3%",
          "0.0%",
          "0.2%",
          "0.1%",
          "0.5%"
         ],
         "textposition": "auto",
         "type": "bar",
         "x": [
          "KS",
          "LA",
          "MD",
          "NC",
          "NM",
          "OK",
          "TX",
          "VA"
         ],
         "xaxis": "x",
         "y": [
          0.351698885219096,
          0.024253119245262147,
          0.8807539654972956,
          0.2950846641283129,
          0.019837524910784766,
          0.19749432443412177,
          0.13819186563968716,
          0.4804827526894072
         ],
         "yaxis": "y"
        }
       ],
       "layout": {
        "annotations": [
         {
          "font": {},
          "showarrow": false,
          "text": "channel=3PO",
          "textangle": 90,
          "x": 0.98,
          "xanchor": "left",
          "xref": "paper",
          "y": 0.2425,
          "yanchor": "middle",
          "yref": "paper"
         },
         {
          "font": {},
          "showarrow": false,
          "text": "channel=1PO",
          "textangle": 90,
          "x": 0.98,
          "xanchor": "left",
          "xref": "paper",
          "y": 0.7575000000000001,
          "yanchor": "middle",
          "yref": "paper"
         }
        ],
        "barmode": "relative",
        "height": 800,
        "legend": {
         "title": {
          "text": "OrderMode"
         },
         "tracegroupgap": 0
        },
        "showlegend": true,
        "template": {
         "data": {
          "bar": [
           {
            "error_x": {
             "color": "#2a3f5f"
            },
            "error_y": {
             "color": "#2a3f5f"
            },
            "marker": {
             "line": {
              "color": "#E5ECF6",
              "width": 0.5
             },
             "pattern": {
              "fillmode": "overlay",
              "size": 10,
              "solidity": 0.2
             }
            },
            "type": "bar"
           }
          ],
          "barpolar": [
           {
            "marker": {
             "line": {
              "color": "#E5ECF6",
              "width": 0.5
             },
             "pattern": {
              "fillmode": "overlay",
              "size": 10,
              "solidity": 0.2
             }
            },
            "type": "barpolar"
           }
          ],
          "carpet": [
           {
            "aaxis": {
             "endlinecolor": "#2a3f5f",
             "gridcolor": "white",
             "linecolor": "white",
             "minorgridcolor": "white",
             "startlinecolor": "#2a3f5f"
            },
            "baxis": {
             "endlinecolor": "#2a3f5f",
             "gridcolor": "white",
             "linecolor": "white",
             "minorgridcolor": "white",
             "startlinecolor": "#2a3f5f"
            },
            "type": "carpet"
           }
          ],
          "choropleth": [
           {
            "colorbar": {
             "outlinewidth": 0,
             "ticks": ""
            },
            "type": "choropleth"
           }
          ],
          "contour": [
           {
            "colorbar": {
             "outlinewidth": 0,
             "ticks": ""
            },
            "colorscale": [
             [
              0,
              "#0d0887"
             ],
             [
              0.1111111111111111,
              "#46039f"
             ],
             [
              0.2222222222222222,
              "#7201a8"
             ],
             [
              0.3333333333333333,
              "#9c179e"
             ],
             [
              0.4444444444444444,
              "#bd3786"
             ],
             [
              0.5555555555555556,
              "#d8576b"
             ],
             [
              0.6666666666666666,
              "#ed7953"
             ],
             [
              0.7777777777777778,
              "#fb9f3a"
             ],
             [
              0.8888888888888888,
              "#fdca26"
             ],
             [
              1,
              "#f0f921"
             ]
            ],
            "type": "contour"
           }
          ],
          "contourcarpet": [
           {
            "colorbar": {
             "outlinewidth": 0,
             "ticks": ""
            },
            "type": "contourcarpet"
           }
          ],
          "heatmap": [
           {
            "colorbar": {
             "outlinewidth": 0,
             "ticks": ""
            },
            "colorscale": [
             [
              0,
              "#0d0887"
             ],
             [
              0.1111111111111111,
              "#46039f"
             ],
             [
              0.2222222222222222,
              "#7201a8"
             ],
             [
              0.3333333333333333,
              "#9c179e"
             ],
             [
              0.4444444444444444,
              "#bd3786"
             ],
             [
              0.5555555555555556,
              "#d8576b"
             ],
             [
              0.6666666666666666,
              "#ed7953"
             ],
             [
              0.7777777777777778,
              "#fb9f3a"
             ],
             [
              0.8888888888888888,
              "#fdca26"
             ],
             [
              1,
              "#f0f921"
             ]
            ],
            "type": "heatmap"
           }
          ],
          "heatmapgl": [
           {
            "colorbar": {
             "outlinewidth": 0,
             "ticks": ""
            },
            "colorscale": [
             [
              0,
              "#0d0887"
             ],
             [
              0.1111111111111111,
              "#46039f"
             ],
             [
              0.2222222222222222,
              "#7201a8"
             ],
             [
              0.3333333333333333,
              "#9c179e"
             ],
             [
              0.4444444444444444,
              "#bd3786"
             ],
             [
              0.5555555555555556,
              "#d8576b"
             ],
             [
              0.6666666666666666,
              "#ed7953"
             ],
             [
              0.7777777777777778,
              "#fb9f3a"
             ],
             [
              0.8888888888888888,
              "#fdca26"
             ],
             [
              1,
              "#f0f921"
             ]
            ],
            "type": "heatmapgl"
           }
          ],
          "histogram": [
           {
            "marker": {
             "pattern": {
              "fillmode": "overlay",
              "size": 10,
              "solidity": 0.2
             }
            },
            "type": "histogram"
           }
          ],
          "histogram2d": [
           {
            "colorbar": {
             "outlinewidth": 0,
             "ticks": ""
            },
            "colorscale": [
             [
              0,
              "#0d0887"
             ],
             [
              0.1111111111111111,
              "#46039f"
             ],
             [
              0.2222222222222222,
              "#7201a8"
             ],
             [
              0.3333333333333333,
              "#9c179e"
             ],
             [
              0.4444444444444444,
              "#bd3786"
             ],
             [
              0.5555555555555556,
              "#d8576b"
             ],
             [
              0.6666666666666666,
              "#ed7953"
             ],
             [
              0.7777777777777778,
              "#fb9f3a"
             ],
             [
              0.8888888888888888,
              "#fdca26"
             ],
             [
              1,
              "#f0f921"
             ]
            ],
            "type": "histogram2d"
           }
          ],
          "histogram2dcontour": [
           {
            "colorbar": {
             "outlinewidth": 0,
             "ticks": ""
            },
            "colorscale": [
             [
              0,
              "#0d0887"
             ],
             [
              0.1111111111111111,
              "#46039f"
             ],
             [
              0.2222222222222222,
              "#7201a8"
             ],
             [
              0.3333333333333333,
              "#9c179e"
             ],
             [
              0.4444444444444444,
              "#bd3786"
             ],
             [
              0.5555555555555556,
              "#d8576b"
             ],
             [
              0.6666666666666666,
              "#ed7953"
             ],
             [
              0.7777777777777778,
              "#fb9f3a"
             ],
             [
              0.8888888888888888,
              "#fdca26"
             ],
             [
              1,
              "#f0f921"
             ]
            ],
            "type": "histogram2dcontour"
           }
          ],
          "mesh3d": [
           {
            "colorbar": {
             "outlinewidth": 0,
             "ticks": ""
            },
            "type": "mesh3d"
           }
          ],
          "parcoords": [
           {
            "line": {
             "colorbar": {
              "outlinewidth": 0,
              "ticks": ""
             }
            },
            "type": "parcoords"
           }
          ],
          "pie": [
           {
            "automargin": true,
            "type": "pie"
           }
          ],
          "scatter": [
           {
            "fillpattern": {
             "fillmode": "overlay",
             "size": 10,
             "solidity": 0.2
            },
            "type": "scatter"
           }
          ],
          "scatter3d": [
           {
            "line": {
             "colorbar": {
              "outlinewidth": 0,
              "ticks": ""
             }
            },
            "marker": {
             "colorbar": {
              "outlinewidth": 0,
              "ticks": ""
             }
            },
            "type": "scatter3d"
           }
          ],
          "scattercarpet": [
           {
            "marker": {
             "colorbar": {
              "outlinewidth": 0,
              "ticks": ""
             }
            },
            "type": "scattercarpet"
           }
          ],
          "scattergeo": [
           {
            "marker": {
             "colorbar": {
              "outlinewidth": 0,
              "ticks": ""
             }
            },
            "type": "scattergeo"
           }
          ],
          "scattergl": [
           {
            "marker": {
             "colorbar": {
              "outlinewidth": 0,
              "ticks": ""
             }
            },
            "type": "scattergl"
           }
          ],
          "scattermapbox": [
           {
            "marker": {
             "colorbar": {
              "outlinewidth": 0,
              "ticks": ""
             }
            },
            "type": "scattermapbox"
           }
          ],
          "scatterpolar": [
           {
            "marker": {
             "colorbar": {
              "outlinewidth": 0,
              "ticks": ""
             }
            },
            "type": "scatterpolar"
           }
          ],
          "scatterpolargl": [
           {
            "marker": {
             "colorbar": {
              "outlinewidth": 0,
              "ticks": ""
             }
            },
            "type": "scatterpolargl"
           }
          ],
          "scatterternary": [
           {
            "marker": {
             "colorbar": {
              "outlinewidth": 0,
              "ticks": ""
             }
            },
            "type": "scatterternary"
           }
          ],
          "surface": [
           {
            "colorbar": {
             "outlinewidth": 0,
             "ticks": ""
            },
            "colorscale": [
             [
              0,
              "#0d0887"
             ],
             [
              0.1111111111111111,
              "#46039f"
             ],
             [
              0.2222222222222222,
              "#7201a8"
             ],
             [
              0.3333333333333333,
              "#9c179e"
             ],
             [
              0.4444444444444444,
              "#bd3786"
             ],
             [
              0.5555555555555556,
              "#d8576b"
             ],
             [
              0.6666666666666666,
              "#ed7953"
             ],
             [
              0.7777777777777778,
              "#fb9f3a"
             ],
             [
              0.8888888888888888,
              "#fdca26"
             ],
             [
              1,
              "#f0f921"
             ]
            ],
            "type": "surface"
           }
          ],
          "table": [
           {
            "cells": {
             "fill": {
              "color": "#EBF0F8"
             },
             "line": {
              "color": "white"
             }
            },
            "header": {
             "fill": {
              "color": "#C8D4E3"
             },
             "line": {
              "color": "white"
             }
            },
            "type": "table"
           }
          ]
         },
         "layout": {
          "annotationdefaults": {
           "arrowcolor": "#2a3f5f",
           "arrowhead": 0,
           "arrowwidth": 1
          },
          "autotypenumbers": "strict",
          "coloraxis": {
           "colorbar": {
            "outlinewidth": 0,
            "ticks": ""
           }
          },
          "colorscale": {
           "diverging": [
            [
             0,
             "#8e0152"
            ],
            [
             0.1,
             "#c51b7d"
            ],
            [
             0.2,
             "#de77ae"
            ],
            [
             0.3,
             "#f1b6da"
            ],
            [
             0.4,
             "#fde0ef"
            ],
            [
             0.5,
             "#f7f7f7"
            ],
            [
             0.6,
             "#e6f5d0"
            ],
            [
             0.7,
             "#b8e186"
            ],
            [
             0.8,
             "#7fbc41"
            ],
            [
             0.9,
             "#4d9221"
            ],
            [
             1,
             "#276419"
            ]
           ],
           "sequential": [
            [
             0,
             "#0d0887"
            ],
            [
             0.1111111111111111,
             "#46039f"
            ],
            [
             0.2222222222222222,
             "#7201a8"
            ],
            [
             0.3333333333333333,
             "#9c179e"
            ],
            [
             0.4444444444444444,
             "#bd3786"
            ],
            [
             0.5555555555555556,
             "#d8576b"
            ],
            [
             0.6666666666666666,
             "#ed7953"
            ],
            [
             0.7777777777777778,
             "#fb9f3a"
            ],
            [
             0.8888888888888888,
             "#fdca26"
            ],
            [
             1,
             "#f0f921"
            ]
           ],
           "sequentialminus": [
            [
             0,
             "#0d0887"
            ],
            [
             0.1111111111111111,
             "#46039f"
            ],
            [
             0.2222222222222222,
             "#7201a8"
            ],
            [
             0.3333333333333333,
             "#9c179e"
            ],
            [
             0.4444444444444444,
             "#bd3786"
            ],
            [
             0.5555555555555556,
             "#d8576b"
            ],
            [
             0.6666666666666666,
             "#ed7953"
            ],
            [
             0.7777777777777778,
             "#fb9f3a"
            ],
            [
             0.8888888888888888,
             "#fdca26"
            ],
            [
             1,
             "#f0f921"
            ]
           ]
          },
          "colorway": [
           "#636efa",
           "#EF553B",
           "#00cc96",
           "#ab63fa",
           "#FFA15A",
           "#19d3f3",
           "#FF6692",
           "#B6E880",
           "#FF97FF",
           "#FECB52"
          ],
          "font": {
           "color": "#2a3f5f"
          },
          "geo": {
           "bgcolor": "white",
           "lakecolor": "white",
           "landcolor": "#E5ECF6",
           "showlakes": true,
           "showland": true,
           "subunitcolor": "white"
          },
          "hoverlabel": {
           "align": "left"
          },
          "hovermode": "closest",
          "mapbox": {
           "style": "light"
          },
          "paper_bgcolor": "white",
          "plot_bgcolor": "#E5ECF6",
          "polar": {
           "angularaxis": {
            "gridcolor": "white",
            "linecolor": "white",
            "ticks": ""
           },
           "bgcolor": "#E5ECF6",
           "radialaxis": {
            "gridcolor": "white",
            "linecolor": "white",
            "ticks": ""
           }
          },
          "scene": {
           "xaxis": {
            "backgroundcolor": "#E5ECF6",
            "gridcolor": "white",
            "gridwidth": 2,
            "linecolor": "white",
            "showbackground": true,
            "ticks": "",
            "zerolinecolor": "white"
           },
           "yaxis": {
            "backgroundcolor": "#E5ECF6",
            "gridcolor": "white",
            "gridwidth": 2,
            "linecolor": "white",
            "showbackground": true,
            "ticks": "",
            "zerolinecolor": "white"
           },
           "zaxis": {
            "backgroundcolor": "#E5ECF6",
            "gridcolor": "white",
            "gridwidth": 2,
            "linecolor": "white",
            "showbackground": true,
            "ticks": "",
            "zerolinecolor": "white"
           }
          },
          "shapedefaults": {
           "line": {
            "color": "#2a3f5f"
           }
          },
          "ternary": {
           "aaxis": {
            "gridcolor": "white",
            "linecolor": "white",
            "ticks": ""
           },
           "baxis": {
            "gridcolor": "white",
            "linecolor": "white",
            "ticks": ""
           },
           "bgcolor": "#E5ECF6",
           "caxis": {
            "gridcolor": "white",
            "linecolor": "white",
            "ticks": ""
           }
          },
          "title": {
           "x": 0.05
          },
          "xaxis": {
           "automargin": true,
           "gridcolor": "white",
           "linecolor": "white",
           "ticks": "",
           "title": {
            "standoff": 15
           },
           "zerolinecolor": "white",
           "zerolinewidth": 2
          },
          "yaxis": {
           "automargin": true,
           "gridcolor": "white",
           "linecolor": "white",
           "ticks": "",
           "title": {
            "standoff": 15
           },
           "zerolinecolor": "white",
           "zerolinewidth": 2
          }
         }
        },
        "title": {
         "text": "State Revenue Share by Order Mode (Faceted by Channel)"
        },
        "width": 1000,
        "xaxis": {
         "anchor": "y",
         "domain": [
          0,
          0.98
         ],
         "title": {
          "text": "State"
         }
        },
        "xaxis2": {
         "anchor": "y2",
         "domain": [
          0,
          0.98
         ],
         "matches": "x",
         "showticklabels": false
        },
        "yaxis": {
         "anchor": "x",
         "domain": [
          0,
          0.485
         ],
         "title": {
          "text": "Revenue Share (%)"
         }
        },
        "yaxis2": {
         "anchor": "x2",
         "domain": [
          0.515,
          1
         ],
         "title": {
          "text": "Revenue Share (%)"
         }
        }
       }
      }
     },
     "metadata": {},
     "output_type": "display_data"
    }
   ],
   "source": [
    "\n",
    "# 3. Revenue share\n",
    "total_rev_per_channel = aux.groupby('channel')['revenue'].transform('sum')\n",
    "aux['revenue_share'] = aux['revenue'] / total_rev_per_channel * 100\n",
    "aux['revenue_share_label'] = aux['revenue_share'].map(lambda x: f\"{x:.1f}%\")\n",
    "\n",
    "# 4. Plot with custom colors\n",
    "fig = px.bar(aux, \n",
    "             x=\"ST\", \n",
    "             y=\"revenue_share\", \n",
    "             color=\"OrderMode\",\n",
    "             text='revenue_share_label',\n",
    "             title=\"State Revenue Share by Order Mode (Faceted by Channel)\",\n",
    "             labels={\"ST\": \"State\", \"revenue_share\": \"Revenue Share (%)\"},\n",
    "             facet_row=\"channel\",\n",
    "            #  color_discrete_map=OrderMode_c,  # <-- Use custom colors here\n",
    "             height=800,\n",
    "             width=1000)\n",
    "\n",
    "fig.update_layout(\n",
    "    yaxis_title=\"Revenue Share (%)\",\n",
    "    showlegend=True\n",
    ")\n",
    "\n",
    "fig.update_yaxes(matches=None)\n",
    "\n",
    "fig.show()\n",
    "\n"
   ]
  },
  {
   "cell_type": "code",
   "execution_count": 436,
   "metadata": {},
   "outputs": [
    {
     "data": {
      "text/html": [
       "<div>\n",
       "<style scoped>\n",
       "    .dataframe tbody tr th:only-of-type {\n",
       "        vertical-align: middle;\n",
       "    }\n",
       "\n",
       "    .dataframe tbody tr th {\n",
       "        vertical-align: top;\n",
       "    }\n",
       "\n",
       "    .dataframe thead th {\n",
       "        text-align: right;\n",
       "    }\n",
       "</style>\n",
       "<table border=\"1\" class=\"dataframe\">\n",
       "  <thead>\n",
       "    <tr style=\"text-align: right;\">\n",
       "      <th></th>\n",
       "      <th>ST</th>\n",
       "      <th>store_count</th>\n",
       "    </tr>\n",
       "  </thead>\n",
       "  <tbody>\n",
       "    <tr>\n",
       "      <th>0</th>\n",
       "      <td>AR</td>\n",
       "      <td>1</td>\n",
       "    </tr>\n",
       "    <tr>\n",
       "      <th>1</th>\n",
       "      <td>KS</td>\n",
       "      <td>14</td>\n",
       "    </tr>\n",
       "    <tr>\n",
       "      <th>2</th>\n",
       "      <td>LA</td>\n",
       "      <td>2</td>\n",
       "    </tr>\n",
       "    <tr>\n",
       "      <th>3</th>\n",
       "      <td>MD</td>\n",
       "      <td>6</td>\n",
       "    </tr>\n",
       "    <tr>\n",
       "      <th>4</th>\n",
       "      <td>NC</td>\n",
       "      <td>7</td>\n",
       "    </tr>\n",
       "    <tr>\n",
       "      <th>5</th>\n",
       "      <td>NM</td>\n",
       "      <td>6</td>\n",
       "    </tr>\n",
       "    <tr>\n",
       "      <th>6</th>\n",
       "      <td>OK</td>\n",
       "      <td>17</td>\n",
       "    </tr>\n",
       "    <tr>\n",
       "      <th>7</th>\n",
       "      <td>TX</td>\n",
       "      <td>20</td>\n",
       "    </tr>\n",
       "    <tr>\n",
       "      <th>8</th>\n",
       "      <td>VA</td>\n",
       "      <td>3</td>\n",
       "    </tr>\n",
       "  </tbody>\n",
       "</table>\n",
       "</div>"
      ],
      "text/plain": [
       "   ST  store_count\n",
       "0  AR            1\n",
       "1  KS           14\n",
       "2  LA            2\n",
       "3  MD            6\n",
       "4  NC            7\n",
       "5  NM            6\n",
       "6  OK           17\n",
       "7  TX           20\n",
       "8  VA            3"
      ]
     },
     "execution_count": 436,
     "metadata": {},
     "output_type": "execute_result"
    }
   ],
   "source": [
    "store_counts\n"
   ]
  },
  {
   "cell_type": "code",
   "execution_count": 435,
   "metadata": {},
   "outputs": [
    {
     "data": {
      "text/html": [
       "<div>\n",
       "<style scoped>\n",
       "    .dataframe tbody tr th:only-of-type {\n",
       "        vertical-align: middle;\n",
       "    }\n",
       "\n",
       "    .dataframe tbody tr th {\n",
       "        vertical-align: top;\n",
       "    }\n",
       "\n",
       "    .dataframe thead th {\n",
       "        text-align: right;\n",
       "    }\n",
       "</style>\n",
       "<table border=\"1\" class=\"dataframe\">\n",
       "  <thead>\n",
       "    <tr style=\"text-align: right;\">\n",
       "      <th></th>\n",
       "      <th>ST</th>\n",
       "      <th>channel</th>\n",
       "      <th>OrderMode</th>\n",
       "      <th>StoreID</th>\n",
       "      <th>revenue</th>\n",
       "      <th>store_count</th>\n",
       "      <th>total</th>\n",
       "      <th>Mean Revenue Share(%)</th>\n",
       "    </tr>\n",
       "  </thead>\n",
       "  <tbody>\n",
       "    <tr>\n",
       "      <th>0</th>\n",
       "      <td>AR</td>\n",
       "      <td>1PO</td>\n",
       "      <td>Online</td>\n",
       "      <td>1566.000000</td>\n",
       "      <td>704159.490000</td>\n",
       "      <td>1.0</td>\n",
       "      <td>6.890761e+06</td>\n",
       "      <td>10.218892</td>\n",
       "    </tr>\n",
       "    <tr>\n",
       "      <th>1</th>\n",
       "      <td>AR</td>\n",
       "      <td>3PO</td>\n",
       "      <td>DoorDash</td>\n",
       "      <td>1566.000000</td>\n",
       "      <td>452365.183333</td>\n",
       "      <td>1.0</td>\n",
       "      <td>5.544352e+06</td>\n",
       "      <td>8.159027</td>\n",
       "    </tr>\n",
       "    <tr>\n",
       "      <th>2</th>\n",
       "      <td>AR</td>\n",
       "      <td>3PO</td>\n",
       "      <td>UberEats</td>\n",
       "      <td>1566.000000</td>\n",
       "      <td>156122.550000</td>\n",
       "      <td>1.0</td>\n",
       "      <td>5.544352e+06</td>\n",
       "      <td>2.815884</td>\n",
       "    </tr>\n",
       "    <tr>\n",
       "      <th>3</th>\n",
       "      <td>KS</td>\n",
       "      <td>1PO</td>\n",
       "      <td>Online</td>\n",
       "      <td>1951.833333</td>\n",
       "      <td>711018.223333</td>\n",
       "      <td>14.0</td>\n",
       "      <td>6.890761e+06</td>\n",
       "      <td>10.318428</td>\n",
       "    </tr>\n",
       "    <tr>\n",
       "      <th>4</th>\n",
       "      <td>KS</td>\n",
       "      <td>3PO</td>\n",
       "      <td>DoorDash</td>\n",
       "      <td>1951.833333</td>\n",
       "      <td>439301.281667</td>\n",
       "      <td>14.0</td>\n",
       "      <td>5.544352e+06</td>\n",
       "      <td>7.923402</td>\n",
       "    </tr>\n",
       "    <tr>\n",
       "      <th>5</th>\n",
       "      <td>KS</td>\n",
       "      <td>3PO</td>\n",
       "      <td>UberEats</td>\n",
       "      <td>1951.833333</td>\n",
       "      <td>101436.756667</td>\n",
       "      <td>14.0</td>\n",
       "      <td>5.544352e+06</td>\n",
       "      <td>1.829551</td>\n",
       "    </tr>\n",
       "    <tr>\n",
       "      <th>6</th>\n",
       "      <td>MO</td>\n",
       "      <td>1PO</td>\n",
       "      <td>Online</td>\n",
       "      <td>2309.500000</td>\n",
       "      <td>597269.155000</td>\n",
       "      <td>NaN</td>\n",
       "      <td>6.890761e+06</td>\n",
       "      <td>8.667680</td>\n",
       "    </tr>\n",
       "    <tr>\n",
       "      <th>7</th>\n",
       "      <td>MO</td>\n",
       "      <td>3PO</td>\n",
       "      <td>DoorDash</td>\n",
       "      <td>2309.500000</td>\n",
       "      <td>452225.715000</td>\n",
       "      <td>NaN</td>\n",
       "      <td>5.544352e+06</td>\n",
       "      <td>8.156511</td>\n",
       "    </tr>\n",
       "    <tr>\n",
       "      <th>8</th>\n",
       "      <td>MO</td>\n",
       "      <td>3PO</td>\n",
       "      <td>UberEats</td>\n",
       "      <td>2309.500000</td>\n",
       "      <td>49462.615000</td>\n",
       "      <td>NaN</td>\n",
       "      <td>5.544352e+06</td>\n",
       "      <td>0.892126</td>\n",
       "    </tr>\n",
       "    <tr>\n",
       "      <th>9</th>\n",
       "      <td>NC</td>\n",
       "      <td>1PO</td>\n",
       "      <td>Online</td>\n",
       "      <td>2207.000000</td>\n",
       "      <td>693848.810000</td>\n",
       "      <td>7.0</td>\n",
       "      <td>6.890761e+06</td>\n",
       "      <td>10.069262</td>\n",
       "    </tr>\n",
       "    <tr>\n",
       "      <th>10</th>\n",
       "      <td>NC</td>\n",
       "      <td>3PO</td>\n",
       "      <td>DoorDash</td>\n",
       "      <td>2207.000000</td>\n",
       "      <td>481403.250000</td>\n",
       "      <td>7.0</td>\n",
       "      <td>5.544352e+06</td>\n",
       "      <td>8.682768</td>\n",
       "    </tr>\n",
       "    <tr>\n",
       "      <th>11</th>\n",
       "      <td>NC</td>\n",
       "      <td>3PO</td>\n",
       "      <td>UberEats</td>\n",
       "      <td>2207.000000</td>\n",
       "      <td>197027.810000</td>\n",
       "      <td>7.0</td>\n",
       "      <td>5.544352e+06</td>\n",
       "      <td>3.553667</td>\n",
       "    </tr>\n",
       "    <tr>\n",
       "      <th>12</th>\n",
       "      <td>NE</td>\n",
       "      <td>1PO</td>\n",
       "      <td>Online</td>\n",
       "      <td>1871.125000</td>\n",
       "      <td>716754.062500</td>\n",
       "      <td>NaN</td>\n",
       "      <td>6.890761e+06</td>\n",
       "      <td>10.401667</td>\n",
       "    </tr>\n",
       "    <tr>\n",
       "      <th>13</th>\n",
       "      <td>NE</td>\n",
       "      <td>3PO</td>\n",
       "      <td>DoorDash</td>\n",
       "      <td>1871.125000</td>\n",
       "      <td>514602.473750</td>\n",
       "      <td>NaN</td>\n",
       "      <td>5.544352e+06</td>\n",
       "      <td>9.281562</td>\n",
       "    </tr>\n",
       "    <tr>\n",
       "      <th>14</th>\n",
       "      <td>NE</td>\n",
       "      <td>3PO</td>\n",
       "      <td>UberEats</td>\n",
       "      <td>1871.125000</td>\n",
       "      <td>88606.761250</td>\n",
       "      <td>NaN</td>\n",
       "      <td>5.544352e+06</td>\n",
       "      <td>1.598145</td>\n",
       "    </tr>\n",
       "    <tr>\n",
       "      <th>15</th>\n",
       "      <td>NM</td>\n",
       "      <td>1PO</td>\n",
       "      <td>Online</td>\n",
       "      <td>1652.142857</td>\n",
       "      <td>886220.977143</td>\n",
       "      <td>6.0</td>\n",
       "      <td>6.890761e+06</td>\n",
       "      <td>12.861002</td>\n",
       "    </tr>\n",
       "    <tr>\n",
       "      <th>16</th>\n",
       "      <td>NM</td>\n",
       "      <td>3PO</td>\n",
       "      <td>DoorDash</td>\n",
       "      <td>1652.142857</td>\n",
       "      <td>334518.897143</td>\n",
       "      <td>6.0</td>\n",
       "      <td>5.544352e+06</td>\n",
       "      <td>6.033507</td>\n",
       "    </tr>\n",
       "    <tr>\n",
       "      <th>17</th>\n",
       "      <td>NM</td>\n",
       "      <td>3PO</td>\n",
       "      <td>UberEats</td>\n",
       "      <td>1652.142857</td>\n",
       "      <td>25447.082857</td>\n",
       "      <td>6.0</td>\n",
       "      <td>5.544352e+06</td>\n",
       "      <td>0.458973</td>\n",
       "    </tr>\n",
       "    <tr>\n",
       "      <th>18</th>\n",
       "      <td>OK</td>\n",
       "      <td>1PO</td>\n",
       "      <td>Online</td>\n",
       "      <td>1453.423077</td>\n",
       "      <td>472268.328077</td>\n",
       "      <td>17.0</td>\n",
       "      <td>6.890761e+06</td>\n",
       "      <td>6.853645</td>\n",
       "    </tr>\n",
       "    <tr>\n",
       "      <th>19</th>\n",
       "      <td>OK</td>\n",
       "      <td>3PO</td>\n",
       "      <td>DoorDash</td>\n",
       "      <td>1396.040000</td>\n",
       "      <td>305410.791600</td>\n",
       "      <td>17.0</td>\n",
       "      <td>5.544352e+06</td>\n",
       "      <td>5.508503</td>\n",
       "    </tr>\n",
       "    <tr>\n",
       "      <th>20</th>\n",
       "      <td>OK</td>\n",
       "      <td>3PO</td>\n",
       "      <td>UberEats</td>\n",
       "      <td>1396.040000</td>\n",
       "      <td>98184.508400</td>\n",
       "      <td>17.0</td>\n",
       "      <td>5.544352e+06</td>\n",
       "      <td>1.770892</td>\n",
       "    </tr>\n",
       "    <tr>\n",
       "      <th>21</th>\n",
       "      <td>SC</td>\n",
       "      <td>1PO</td>\n",
       "      <td>Online</td>\n",
       "      <td>1774.428571</td>\n",
       "      <td>625347.345714</td>\n",
       "      <td>NaN</td>\n",
       "      <td>6.890761e+06</td>\n",
       "      <td>9.075156</td>\n",
       "    </tr>\n",
       "    <tr>\n",
       "      <th>22</th>\n",
       "      <td>SC</td>\n",
       "      <td>3PO</td>\n",
       "      <td>DoorDash</td>\n",
       "      <td>1774.428571</td>\n",
       "      <td>510990.555714</td>\n",
       "      <td>NaN</td>\n",
       "      <td>5.544352e+06</td>\n",
       "      <td>9.216416</td>\n",
       "    </tr>\n",
       "    <tr>\n",
       "      <th>23</th>\n",
       "      <td>SC</td>\n",
       "      <td>3PO</td>\n",
       "      <td>UberEats</td>\n",
       "      <td>1774.428571</td>\n",
       "      <td>208622.792857</td>\n",
       "      <td>NaN</td>\n",
       "      <td>5.544352e+06</td>\n",
       "      <td>3.762798</td>\n",
       "    </tr>\n",
       "    <tr>\n",
       "      <th>24</th>\n",
       "      <td>SD</td>\n",
       "      <td>1PO</td>\n",
       "      <td>Online</td>\n",
       "      <td>778.000000</td>\n",
       "      <td>27963.690000</td>\n",
       "      <td>NaN</td>\n",
       "      <td>6.890761e+06</td>\n",
       "      <td>0.405814</td>\n",
       "    </tr>\n",
       "    <tr>\n",
       "      <th>25</th>\n",
       "      <td>SD</td>\n",
       "      <td>3PO</td>\n",
       "      <td>DoorDash</td>\n",
       "      <td>778.000000</td>\n",
       "      <td>3665.250000</td>\n",
       "      <td>NaN</td>\n",
       "      <td>5.544352e+06</td>\n",
       "      <td>0.066108</td>\n",
       "    </tr>\n",
       "    <tr>\n",
       "      <th>26</th>\n",
       "      <td>SD</td>\n",
       "      <td>3PO</td>\n",
       "      <td>UberEats</td>\n",
       "      <td>778.000000</td>\n",
       "      <td>7640.590000</td>\n",
       "      <td>NaN</td>\n",
       "      <td>5.544352e+06</td>\n",
       "      <td>0.137809</td>\n",
       "    </tr>\n",
       "    <tr>\n",
       "      <th>27</th>\n",
       "      <td>TN</td>\n",
       "      <td>1PO</td>\n",
       "      <td>Online</td>\n",
       "      <td>2240.333333</td>\n",
       "      <td>527349.552500</td>\n",
       "      <td>NaN</td>\n",
       "      <td>6.890761e+06</td>\n",
       "      <td>7.652994</td>\n",
       "    </tr>\n",
       "    <tr>\n",
       "      <th>28</th>\n",
       "      <td>TN</td>\n",
       "      <td>3PO</td>\n",
       "      <td>DoorDash</td>\n",
       "      <td>2240.333333</td>\n",
       "      <td>334136.529167</td>\n",
       "      <td>NaN</td>\n",
       "      <td>5.544352e+06</td>\n",
       "      <td>6.026611</td>\n",
       "    </tr>\n",
       "    <tr>\n",
       "      <th>29</th>\n",
       "      <td>TN</td>\n",
       "      <td>3PO</td>\n",
       "      <td>UberEats</td>\n",
       "      <td>2240.333333</td>\n",
       "      <td>100280.838333</td>\n",
       "      <td>NaN</td>\n",
       "      <td>5.544352e+06</td>\n",
       "      <td>1.808703</td>\n",
       "    </tr>\n",
       "    <tr>\n",
       "      <th>30</th>\n",
       "      <td>TX.</td>\n",
       "      <td>1PO</td>\n",
       "      <td>Online</td>\n",
       "      <td>617.500000</td>\n",
       "      <td>928561.715000</td>\n",
       "      <td>NaN</td>\n",
       "      <td>6.890761e+06</td>\n",
       "      <td>13.475459</td>\n",
       "    </tr>\n",
       "    <tr>\n",
       "      <th>31</th>\n",
       "      <td>TX.</td>\n",
       "      <td>3PO</td>\n",
       "      <td>DoorDash</td>\n",
       "      <td>617.500000</td>\n",
       "      <td>509387.540000</td>\n",
       "      <td>NaN</td>\n",
       "      <td>5.544352e+06</td>\n",
       "      <td>9.187503</td>\n",
       "    </tr>\n",
       "    <tr>\n",
       "      <th>32</th>\n",
       "      <td>TX.</td>\n",
       "      <td>3PO</td>\n",
       "      <td>UberEats</td>\n",
       "      <td>617.500000</td>\n",
       "      <td>173512.310000</td>\n",
       "      <td>NaN</td>\n",
       "      <td>5.544352e+06</td>\n",
       "      <td>3.129533</td>\n",
       "    </tr>\n",
       "  </tbody>\n",
       "</table>\n",
       "</div>"
      ],
      "text/plain": [
       "     ST channel OrderMode      StoreID        revenue  store_count  \\\n",
       "0    AR     1PO    Online  1566.000000  704159.490000          1.0   \n",
       "1    AR     3PO  DoorDash  1566.000000  452365.183333          1.0   \n",
       "2    AR     3PO  UberEats  1566.000000  156122.550000          1.0   \n",
       "3    KS     1PO    Online  1951.833333  711018.223333         14.0   \n",
       "4    KS     3PO  DoorDash  1951.833333  439301.281667         14.0   \n",
       "5    KS     3PO  UberEats  1951.833333  101436.756667         14.0   \n",
       "6    MO     1PO    Online  2309.500000  597269.155000          NaN   \n",
       "7    MO     3PO  DoorDash  2309.500000  452225.715000          NaN   \n",
       "8    MO     3PO  UberEats  2309.500000   49462.615000          NaN   \n",
       "9    NC     1PO    Online  2207.000000  693848.810000          7.0   \n",
       "10   NC     3PO  DoorDash  2207.000000  481403.250000          7.0   \n",
       "11   NC     3PO  UberEats  2207.000000  197027.810000          7.0   \n",
       "12   NE     1PO    Online  1871.125000  716754.062500          NaN   \n",
       "13   NE     3PO  DoorDash  1871.125000  514602.473750          NaN   \n",
       "14   NE     3PO  UberEats  1871.125000   88606.761250          NaN   \n",
       "15   NM     1PO    Online  1652.142857  886220.977143          6.0   \n",
       "16   NM     3PO  DoorDash  1652.142857  334518.897143          6.0   \n",
       "17   NM     3PO  UberEats  1652.142857   25447.082857          6.0   \n",
       "18   OK     1PO    Online  1453.423077  472268.328077         17.0   \n",
       "19   OK     3PO  DoorDash  1396.040000  305410.791600         17.0   \n",
       "20   OK     3PO  UberEats  1396.040000   98184.508400         17.0   \n",
       "21   SC     1PO    Online  1774.428571  625347.345714          NaN   \n",
       "22   SC     3PO  DoorDash  1774.428571  510990.555714          NaN   \n",
       "23   SC     3PO  UberEats  1774.428571  208622.792857          NaN   \n",
       "24   SD     1PO    Online   778.000000   27963.690000          NaN   \n",
       "25   SD     3PO  DoorDash   778.000000    3665.250000          NaN   \n",
       "26   SD     3PO  UberEats   778.000000    7640.590000          NaN   \n",
       "27   TN     1PO    Online  2240.333333  527349.552500          NaN   \n",
       "28   TN     3PO  DoorDash  2240.333333  334136.529167          NaN   \n",
       "29   TN     3PO  UberEats  2240.333333  100280.838333          NaN   \n",
       "30  TX.     1PO    Online   617.500000  928561.715000          NaN   \n",
       "31  TX.     3PO  DoorDash   617.500000  509387.540000          NaN   \n",
       "32  TX.     3PO  UberEats   617.500000  173512.310000          NaN   \n",
       "\n",
       "           total  Mean Revenue Share(%)  \n",
       "0   6.890761e+06              10.218892  \n",
       "1   5.544352e+06               8.159027  \n",
       "2   5.544352e+06               2.815884  \n",
       "3   6.890761e+06              10.318428  \n",
       "4   5.544352e+06               7.923402  \n",
       "5   5.544352e+06               1.829551  \n",
       "6   6.890761e+06               8.667680  \n",
       "7   5.544352e+06               8.156511  \n",
       "8   5.544352e+06               0.892126  \n",
       "9   6.890761e+06              10.069262  \n",
       "10  5.544352e+06               8.682768  \n",
       "11  5.544352e+06               3.553667  \n",
       "12  6.890761e+06              10.401667  \n",
       "13  5.544352e+06               9.281562  \n",
       "14  5.544352e+06               1.598145  \n",
       "15  6.890761e+06              12.861002  \n",
       "16  5.544352e+06               6.033507  \n",
       "17  5.544352e+06               0.458973  \n",
       "18  6.890761e+06               6.853645  \n",
       "19  5.544352e+06               5.508503  \n",
       "20  5.544352e+06               1.770892  \n",
       "21  6.890761e+06               9.075156  \n",
       "22  5.544352e+06               9.216416  \n",
       "23  5.544352e+06               3.762798  \n",
       "24  6.890761e+06               0.405814  \n",
       "25  5.544352e+06               0.066108  \n",
       "26  5.544352e+06               0.137809  \n",
       "27  6.890761e+06               7.652994  \n",
       "28  5.544352e+06               6.026611  \n",
       "29  5.544352e+06               1.808703  \n",
       "30  6.890761e+06              13.475459  \n",
       "31  5.544352e+06               9.187503  \n",
       "32  5.544352e+06               3.129533  "
      ]
     },
     "execution_count": 435,
     "metadata": {},
     "output_type": "execute_result"
    }
   ],
   "source": [
    "\n",
    "import pandas as pd\n",
    "import plotly.express as px\n",
    "\n",
    "# 1. Filter for Little Caesars and calculate revenue per state/channel/ordermode\n",
    "aux = x[x['Brand'] == 'WS'].groupby(['Brand', 'ST', 'channel', 'OrderMode','StoreID'], as_index=False)['revenue'].sum()\n",
    "\n",
    "# 2. Get store count per state (assuming 'store_id' column exists in your dataset)\n",
    "store_counts = x[x['Brand'] == 'LC'].groupby('ST')['StoreID'].nunique().reset_index()\n",
    "store_counts.rename(columns={'StoreID': 'store_count'}, inplace=True)\n",
    "store_counts\n",
    "# 3. Merge store count into the main data\n",
    "aux = aux.merge(store_counts, on='ST', how='left')\n",
    "aux.head()\n",
    "# 4. Calculat\n",
    "mean_rev=aux.groupby(['ST','channel','OrderMode']).mean().reset_index()\n",
    "mean_rev.head()\n",
    "# 3. Revenue share\n",
    "total_rev_per_channel = mean_rev.groupby('channel')['revenue'].transform('sum')\n",
    "total_rev_per_channel\n",
    "mean_rev['total']=total_rev_per_channel\n",
    "mean_rev\n",
    "mean_rev['Mean Revenue Share(%)']=(mean_rev['revenue']/mean_rev['total'])*100\n",
    "mean_rev\n"
   ]
  },
  {
   "cell_type": "code",
   "execution_count": 382,
   "metadata": {},
   "outputs": [
    {
     "data": {
      "application/vnd.plotly.v1+json": {
       "config": {
        "plotlyServerURL": "https://plot.ly"
       },
       "data": [
        {
         "alignmentgroup": "True",
         "hovertemplate": "OrderMode=Online<br>channel=1PO<br>State=%{x}<br>Mean Revenue Share(%)=%{y}<br>revenue_share_label=%{text}<extra></extra>",
         "legendgroup": "Online",
         "marker": {
          "color": "#636efa",
          "pattern": {
           "shape": ""
          }
         },
         "name": "Online",
         "offsetgroup": "Online",
         "orientation": "v",
         "showlegend": true,
         "text": [
          "10.2%",
          "10.3%",
          "8.7%",
          "10.1%",
          "10.4%",
          "12.9%",
          "6.9%",
          "9.1%",
          "0.4%",
          "7.7%",
          "13.5%"
         ],
         "textposition": "auto",
         "type": "bar",
         "x": [
          "AR",
          "KS",
          "MO",
          "NC",
          "NE",
          "NM",
          "OK",
          "SC",
          "SD",
          "TN",
          "TX."
         ],
         "xaxis": "x2",
         "y": [
          10.218892431601386,
          10.318427635125198,
          8.66768016952872,
          10.069261941189813,
          10.401667191335871,
          12.86100232214655,
          6.853645107403596,
          9.07515605341303,
          0.40581422839397857,
          7.652993998349195,
          13.475458921512665
         ],
         "yaxis": "y2"
        },
        {
         "alignmentgroup": "True",
         "hovertemplate": "OrderMode=DoorDash<br>channel=3PO<br>State=%{x}<br>Mean Revenue Share(%)=%{y}<br>revenue_share_label=%{text}<extra></extra>",
         "legendgroup": "DoorDash",
         "marker": {
          "color": "#EF553B",
          "pattern": {
           "shape": ""
          }
         },
         "name": "DoorDash",
         "offsetgroup": "DoorDash",
         "orientation": "v",
         "showlegend": true,
         "text": [
          "8.2%",
          "7.9%",
          "8.2%",
          "8.7%",
          "9.3%",
          "6.0%",
          "5.5%",
          "9.2%",
          "0.1%",
          "6.0%",
          "9.2%"
         ],
         "textposition": "auto",
         "type": "bar",
         "x": [
          "AR",
          "KS",
          "MO",
          "NC",
          "NE",
          "NM",
          "OK",
          "SC",
          "SD",
          "TN",
          "TX."
         ],
         "xaxis": "x",
         "y": [
          8.159026998695426,
          7.92340160060175,
          8.15651149586927,
          8.682768388732224,
          9.281561958378768,
          6.03350747122203,
          5.508502833917646,
          9.216416058879355,
          0.06610781467885973,
          6.02661093993245,
          9.187503470169908
         ],
         "yaxis": "y"
        },
        {
         "alignmentgroup": "True",
         "hovertemplate": "OrderMode=UberEats<br>channel=3PO<br>State=%{x}<br>Mean Revenue Share(%)=%{y}<br>revenue_share_label=%{text}<extra></extra>",
         "legendgroup": "UberEats",
         "marker": {
          "color": "#00cc96",
          "pattern": {
           "shape": ""
          }
         },
         "name": "UberEats",
         "offsetgroup": "UberEats",
         "orientation": "v",
         "showlegend": true,
         "text": [
          "2.8%",
          "1.8%",
          "0.9%",
          "3.6%",
          "1.6%",
          "0.5%",
          "1.8%",
          "3.8%",
          "0.1%",
          "1.8%",
          "3.1%"
         ],
         "textposition": "auto",
         "type": "bar",
         "x": [
          "AR",
          "KS",
          "MO",
          "NC",
          "NE",
          "NM",
          "OK",
          "SC",
          "SD",
          "TN",
          "TX."
         ],
         "xaxis": "x",
         "y": [
          2.815884483347934,
          1.829551138761228,
          0.8921261540008971,
          3.5536669940826924,
          1.5981445609464482,
          0.45897306804108545,
          1.7708923772299698,
          3.76279842520596,
          0.13780852813782113,
          1.8087025650039408,
          3.129532674164344
         ],
         "yaxis": "y"
        }
       ],
       "layout": {
        "annotations": [
         {
          "font": {},
          "showarrow": false,
          "text": "channel=3PO",
          "textangle": 90,
          "x": 0.98,
          "xanchor": "left",
          "xref": "paper",
          "y": 0.2425,
          "yanchor": "middle",
          "yref": "paper"
         },
         {
          "font": {},
          "showarrow": false,
          "text": "channel=1PO",
          "textangle": 90,
          "x": 0.98,
          "xanchor": "left",
          "xref": "paper",
          "y": 0.7575000000000001,
          "yanchor": "middle",
          "yref": "paper"
         }
        ],
        "barmode": "relative",
        "font": {
         "size": 10
        },
        "height": 700,
        "legend": {
         "font": {
          "size": 10
         },
         "title": {
          "font": {
           "size": 12
          },
          "text": "OrderMode"
         },
         "tracegroupgap": 0
        },
        "showlegend": true,
        "template": {
         "data": {
          "bar": [
           {
            "error_x": {
             "color": "#2a3f5f"
            },
            "error_y": {
             "color": "#2a3f5f"
            },
            "marker": {
             "line": {
              "color": "#E5ECF6",
              "width": 0.5
             },
             "pattern": {
              "fillmode": "overlay",
              "size": 10,
              "solidity": 0.2
             }
            },
            "type": "bar"
           }
          ],
          "barpolar": [
           {
            "marker": {
             "line": {
              "color": "#E5ECF6",
              "width": 0.5
             },
             "pattern": {
              "fillmode": "overlay",
              "size": 10,
              "solidity": 0.2
             }
            },
            "type": "barpolar"
           }
          ],
          "carpet": [
           {
            "aaxis": {
             "endlinecolor": "#2a3f5f",
             "gridcolor": "white",
             "linecolor": "white",
             "minorgridcolor": "white",
             "startlinecolor": "#2a3f5f"
            },
            "baxis": {
             "endlinecolor": "#2a3f5f",
             "gridcolor": "white",
             "linecolor": "white",
             "minorgridcolor": "white",
             "startlinecolor": "#2a3f5f"
            },
            "type": "carpet"
           }
          ],
          "choropleth": [
           {
            "colorbar": {
             "outlinewidth": 0,
             "ticks": ""
            },
            "type": "choropleth"
           }
          ],
          "contour": [
           {
            "colorbar": {
             "outlinewidth": 0,
             "ticks": ""
            },
            "colorscale": [
             [
              0,
              "#0d0887"
             ],
             [
              0.1111111111111111,
              "#46039f"
             ],
             [
              0.2222222222222222,
              "#7201a8"
             ],
             [
              0.3333333333333333,
              "#9c179e"
             ],
             [
              0.4444444444444444,
              "#bd3786"
             ],
             [
              0.5555555555555556,
              "#d8576b"
             ],
             [
              0.6666666666666666,
              "#ed7953"
             ],
             [
              0.7777777777777778,
              "#fb9f3a"
             ],
             [
              0.8888888888888888,
              "#fdca26"
             ],
             [
              1,
              "#f0f921"
             ]
            ],
            "type": "contour"
           }
          ],
          "contourcarpet": [
           {
            "colorbar": {
             "outlinewidth": 0,
             "ticks": ""
            },
            "type": "contourcarpet"
           }
          ],
          "heatmap": [
           {
            "colorbar": {
             "outlinewidth": 0,
             "ticks": ""
            },
            "colorscale": [
             [
              0,
              "#0d0887"
             ],
             [
              0.1111111111111111,
              "#46039f"
             ],
             [
              0.2222222222222222,
              "#7201a8"
             ],
             [
              0.3333333333333333,
              "#9c179e"
             ],
             [
              0.4444444444444444,
              "#bd3786"
             ],
             [
              0.5555555555555556,
              "#d8576b"
             ],
             [
              0.6666666666666666,
              "#ed7953"
             ],
             [
              0.7777777777777778,
              "#fb9f3a"
             ],
             [
              0.8888888888888888,
              "#fdca26"
             ],
             [
              1,
              "#f0f921"
             ]
            ],
            "type": "heatmap"
           }
          ],
          "heatmapgl": [
           {
            "colorbar": {
             "outlinewidth": 0,
             "ticks": ""
            },
            "colorscale": [
             [
              0,
              "#0d0887"
             ],
             [
              0.1111111111111111,
              "#46039f"
             ],
             [
              0.2222222222222222,
              "#7201a8"
             ],
             [
              0.3333333333333333,
              "#9c179e"
             ],
             [
              0.4444444444444444,
              "#bd3786"
             ],
             [
              0.5555555555555556,
              "#d8576b"
             ],
             [
              0.6666666666666666,
              "#ed7953"
             ],
             [
              0.7777777777777778,
              "#fb9f3a"
             ],
             [
              0.8888888888888888,
              "#fdca26"
             ],
             [
              1,
              "#f0f921"
             ]
            ],
            "type": "heatmapgl"
           }
          ],
          "histogram": [
           {
            "marker": {
             "pattern": {
              "fillmode": "overlay",
              "size": 10,
              "solidity": 0.2
             }
            },
            "type": "histogram"
           }
          ],
          "histogram2d": [
           {
            "colorbar": {
             "outlinewidth": 0,
             "ticks": ""
            },
            "colorscale": [
             [
              0,
              "#0d0887"
             ],
             [
              0.1111111111111111,
              "#46039f"
             ],
             [
              0.2222222222222222,
              "#7201a8"
             ],
             [
              0.3333333333333333,
              "#9c179e"
             ],
             [
              0.4444444444444444,
              "#bd3786"
             ],
             [
              0.5555555555555556,
              "#d8576b"
             ],
             [
              0.6666666666666666,
              "#ed7953"
             ],
             [
              0.7777777777777778,
              "#fb9f3a"
             ],
             [
              0.8888888888888888,
              "#fdca26"
             ],
             [
              1,
              "#f0f921"
             ]
            ],
            "type": "histogram2d"
           }
          ],
          "histogram2dcontour": [
           {
            "colorbar": {
             "outlinewidth": 0,
             "ticks": ""
            },
            "colorscale": [
             [
              0,
              "#0d0887"
             ],
             [
              0.1111111111111111,
              "#46039f"
             ],
             [
              0.2222222222222222,
              "#7201a8"
             ],
             [
              0.3333333333333333,
              "#9c179e"
             ],
             [
              0.4444444444444444,
              "#bd3786"
             ],
             [
              0.5555555555555556,
              "#d8576b"
             ],
             [
              0.6666666666666666,
              "#ed7953"
             ],
             [
              0.7777777777777778,
              "#fb9f3a"
             ],
             [
              0.8888888888888888,
              "#fdca26"
             ],
             [
              1,
              "#f0f921"
             ]
            ],
            "type": "histogram2dcontour"
           }
          ],
          "mesh3d": [
           {
            "colorbar": {
             "outlinewidth": 0,
             "ticks": ""
            },
            "type": "mesh3d"
           }
          ],
          "parcoords": [
           {
            "line": {
             "colorbar": {
              "outlinewidth": 0,
              "ticks": ""
             }
            },
            "type": "parcoords"
           }
          ],
          "pie": [
           {
            "automargin": true,
            "type": "pie"
           }
          ],
          "scatter": [
           {
            "fillpattern": {
             "fillmode": "overlay",
             "size": 10,
             "solidity": 0.2
            },
            "type": "scatter"
           }
          ],
          "scatter3d": [
           {
            "line": {
             "colorbar": {
              "outlinewidth": 0,
              "ticks": ""
             }
            },
            "marker": {
             "colorbar": {
              "outlinewidth": 0,
              "ticks": ""
             }
            },
            "type": "scatter3d"
           }
          ],
          "scattercarpet": [
           {
            "marker": {
             "colorbar": {
              "outlinewidth": 0,
              "ticks": ""
             }
            },
            "type": "scattercarpet"
           }
          ],
          "scattergeo": [
           {
            "marker": {
             "colorbar": {
              "outlinewidth": 0,
              "ticks": ""
             }
            },
            "type": "scattergeo"
           }
          ],
          "scattergl": [
           {
            "marker": {
             "colorbar": {
              "outlinewidth": 0,
              "ticks": ""
             }
            },
            "type": "scattergl"
           }
          ],
          "scattermapbox": [
           {
            "marker": {
             "colorbar": {
              "outlinewidth": 0,
              "ticks": ""
             }
            },
            "type": "scattermapbox"
           }
          ],
          "scatterpolar": [
           {
            "marker": {
             "colorbar": {
              "outlinewidth": 0,
              "ticks": ""
             }
            },
            "type": "scatterpolar"
           }
          ],
          "scatterpolargl": [
           {
            "marker": {
             "colorbar": {
              "outlinewidth": 0,
              "ticks": ""
             }
            },
            "type": "scatterpolargl"
           }
          ],
          "scatterternary": [
           {
            "marker": {
             "colorbar": {
              "outlinewidth": 0,
              "ticks": ""
             }
            },
            "type": "scatterternary"
           }
          ],
          "surface": [
           {
            "colorbar": {
             "outlinewidth": 0,
             "ticks": ""
            },
            "colorscale": [
             [
              0,
              "#0d0887"
             ],
             [
              0.1111111111111111,
              "#46039f"
             ],
             [
              0.2222222222222222,
              "#7201a8"
             ],
             [
              0.3333333333333333,
              "#9c179e"
             ],
             [
              0.4444444444444444,
              "#bd3786"
             ],
             [
              0.5555555555555556,
              "#d8576b"
             ],
             [
              0.6666666666666666,
              "#ed7953"
             ],
             [
              0.7777777777777778,
              "#fb9f3a"
             ],
             [
              0.8888888888888888,
              "#fdca26"
             ],
             [
              1,
              "#f0f921"
             ]
            ],
            "type": "surface"
           }
          ],
          "table": [
           {
            "cells": {
             "fill": {
              "color": "#EBF0F8"
             },
             "line": {
              "color": "white"
             }
            },
            "header": {
             "fill": {
              "color": "#C8D4E3"
             },
             "line": {
              "color": "white"
             }
            },
            "type": "table"
           }
          ]
         },
         "layout": {
          "annotationdefaults": {
           "arrowcolor": "#2a3f5f",
           "arrowhead": 0,
           "arrowwidth": 1
          },
          "autotypenumbers": "strict",
          "coloraxis": {
           "colorbar": {
            "outlinewidth": 0,
            "ticks": ""
           }
          },
          "colorscale": {
           "diverging": [
            [
             0,
             "#8e0152"
            ],
            [
             0.1,
             "#c51b7d"
            ],
            [
             0.2,
             "#de77ae"
            ],
            [
             0.3,
             "#f1b6da"
            ],
            [
             0.4,
             "#fde0ef"
            ],
            [
             0.5,
             "#f7f7f7"
            ],
            [
             0.6,
             "#e6f5d0"
            ],
            [
             0.7,
             "#b8e186"
            ],
            [
             0.8,
             "#7fbc41"
            ],
            [
             0.9,
             "#4d9221"
            ],
            [
             1,
             "#276419"
            ]
           ],
           "sequential": [
            [
             0,
             "#0d0887"
            ],
            [
             0.1111111111111111,
             "#46039f"
            ],
            [
             0.2222222222222222,
             "#7201a8"
            ],
            [
             0.3333333333333333,
             "#9c179e"
            ],
            [
             0.4444444444444444,
             "#bd3786"
            ],
            [
             0.5555555555555556,
             "#d8576b"
            ],
            [
             0.6666666666666666,
             "#ed7953"
            ],
            [
             0.7777777777777778,
             "#fb9f3a"
            ],
            [
             0.8888888888888888,
             "#fdca26"
            ],
            [
             1,
             "#f0f921"
            ]
           ],
           "sequentialminus": [
            [
             0,
             "#0d0887"
            ],
            [
             0.1111111111111111,
             "#46039f"
            ],
            [
             0.2222222222222222,
             "#7201a8"
            ],
            [
             0.3333333333333333,
             "#9c179e"
            ],
            [
             0.4444444444444444,
             "#bd3786"
            ],
            [
             0.5555555555555556,
             "#d8576b"
            ],
            [
             0.6666666666666666,
             "#ed7953"
            ],
            [
             0.7777777777777778,
             "#fb9f3a"
            ],
            [
             0.8888888888888888,
             "#fdca26"
            ],
            [
             1,
             "#f0f921"
            ]
           ]
          },
          "colorway": [
           "#636efa",
           "#EF553B",
           "#00cc96",
           "#ab63fa",
           "#FFA15A",
           "#19d3f3",
           "#FF6692",
           "#B6E880",
           "#FF97FF",
           "#FECB52"
          ],
          "font": {
           "color": "#2a3f5f"
          },
          "geo": {
           "bgcolor": "white",
           "lakecolor": "white",
           "landcolor": "#E5ECF6",
           "showlakes": true,
           "showland": true,
           "subunitcolor": "white"
          },
          "hoverlabel": {
           "align": "left"
          },
          "hovermode": "closest",
          "mapbox": {
           "style": "light"
          },
          "paper_bgcolor": "white",
          "plot_bgcolor": "#E5ECF6",
          "polar": {
           "angularaxis": {
            "gridcolor": "white",
            "linecolor": "white",
            "ticks": ""
           },
           "bgcolor": "#E5ECF6",
           "radialaxis": {
            "gridcolor": "white",
            "linecolor": "white",
            "ticks": ""
           }
          },
          "scene": {
           "xaxis": {
            "backgroundcolor": "#E5ECF6",
            "gridcolor": "white",
            "gridwidth": 2,
            "linecolor": "white",
            "showbackground": true,
            "ticks": "",
            "zerolinecolor": "white"
           },
           "yaxis": {
            "backgroundcolor": "#E5ECF6",
            "gridcolor": "white",
            "gridwidth": 2,
            "linecolor": "white",
            "showbackground": true,
            "ticks": "",
            "zerolinecolor": "white"
           },
           "zaxis": {
            "backgroundcolor": "#E5ECF6",
            "gridcolor": "white",
            "gridwidth": 2,
            "linecolor": "white",
            "showbackground": true,
            "ticks": "",
            "zerolinecolor": "white"
           }
          },
          "shapedefaults": {
           "line": {
            "color": "#2a3f5f"
           }
          },
          "ternary": {
           "aaxis": {
            "gridcolor": "white",
            "linecolor": "white",
            "ticks": ""
           },
           "baxis": {
            "gridcolor": "white",
            "linecolor": "white",
            "ticks": ""
           },
           "bgcolor": "#E5ECF6",
           "caxis": {
            "gridcolor": "white",
            "linecolor": "white",
            "ticks": ""
           }
          },
          "title": {
           "x": 0.05
          },
          "xaxis": {
           "automargin": true,
           "gridcolor": "white",
           "linecolor": "white",
           "ticks": "",
           "title": {
            "standoff": 15
           },
           "zerolinecolor": "white",
           "zerolinewidth": 2
          },
          "yaxis": {
           "automargin": true,
           "gridcolor": "white",
           "linecolor": "white",
           "ticks": "",
           "title": {
            "standoff": 15
           },
           "zerolinecolor": "white",
           "zerolinewidth": 2
          }
         }
        },
        "title": {
         "font": {
          "size": 16
         },
         "text": "Wingstop Mean Revenue Share(%) by State and Channel"
        },
        "width": 900,
        "xaxis": {
         "anchor": "y",
         "domain": [
          0,
          0.98
         ],
         "title": {
          "font": {
           "size": 12
          },
          "text": "State"
         }
        },
        "xaxis2": {
         "anchor": "y2",
         "domain": [
          0,
          0.98
         ],
         "matches": "x",
         "showticklabels": false
        },
        "yaxis": {
         "anchor": "x",
         "domain": [
          0,
          0.485
         ],
         "showticklabels": true,
         "title": {
          "font": {
           "size": 12
          },
          "text": ""
         }
        },
        "yaxis2": {
         "anchor": "x2",
         "domain": [
          0.515,
          1
         ],
         "showticklabels": true,
         "title": {
          "text": "Mean Revenue Share(%)"
         }
        }
       }
      }
     },
     "metadata": {},
     "output_type": "display_data"
    }
   ],
   "source": [
    "\n",
    "\n",
    "mean_rev['revenue_share_label'] = mean_rev['Mean Revenue Share(%)'].map(lambda x: f\"{x:.1f}%\")\n",
    "\n",
    "# 4. Plot with custom colors\n",
    "fig = px.bar(mean_rev, \n",
    "             x=\"ST\", \n",
    "             y=\"Mean Revenue Share(%)\", \n",
    "             color=\"OrderMode\",\n",
    "             text='revenue_share_label',\n",
    "             title=\"Wingstop Mean Revenue Share(%) by State and Channel\",\n",
    "             labels={\"ST\": \"State\"},\n",
    "             facet_row=\"channel\",\n",
    "            #  color_discrete_map=OrderMode_c,  # <-- Use custom colors here\n",
    "             height=700,\n",
    "             width=900)\n",
    "\n",
    "fig.update_layout(\n",
    "    yaxis_title=\"Mean Revenue Share(%)\",\n",
    "    showlegend=True\n",
    ")\n",
    "\n",
    "# Adjust font size for various elements\n",
    "fig.update_layout(\n",
    "    yaxis_title=\"Revenue Share per Store (%)\",\n",
    "    showlegend=True,\n",
    "    title_font=dict(size=16),  # Title font size\n",
    "    font=dict(size=10),  # Axis labels and general text size\n",
    "    xaxis_title_font=dict(size=12),  # X-axis label font size\n",
    "    yaxis_title_font=dict(size=12),  # Y-axis label font size\n",
    "    legend_title_font=dict(size=12),  # Legend title font size\n",
    "    legend_font=dict(size=10),  # Legend text size\n",
    ")\n",
    "fig.update_yaxes(matches=None)\n",
    "fig.update_yaxes(showticklabels=True)  # Ensure y-axis labels show on one axis\n",
    "fig.update_yaxes(title_text=\"\", row=1, col=1)  # Remove y-axis title for each facet\n",
    "\n",
    "\n",
    "fig.show()\n",
    "\n"
   ]
  },
  {
   "cell_type": "code",
   "execution_count": 430,
   "metadata": {},
   "outputs": [
    {
     "data": {
      "application/vnd.plotly.v1+json": {
       "config": {
        "plotlyServerURL": "https://plot.ly"
       },
       "data": [
        {
         "alignmentgroup": "True",
         "hovertemplate": "OrderMode=Online<br>channel=1PO<br>State=%{x}<br>revenue Share(%)=%{y}<br>revenue_share_label=%{text}<extra></extra>",
         "legendgroup": "Online",
         "marker": {
          "color": "#636efa",
          "pattern": {
           "shape": ""
          }
         },
         "name": "Online",
         "offsetgroup": "Online",
         "orientation": "v",
         "showlegend": true,
         "text": [
          "53.6%",
          "56.8%",
          "54.3%",
          "50.6%",
          "54.3%",
          "71.1%",
          "54.9%",
          "46.5%",
          "71.2%",
          "54.8%",
          "57.6%"
         ],
         "textposition": "auto",
         "type": "bar",
         "x": [
          "AR",
          "KS",
          "MO",
          "NC",
          "NE",
          "NM",
          "OK",
          "SC",
          "SD",
          "TN",
          "TX."
         ],
         "xaxis": "x2",
         "y": [
          53.644229575396416,
          56.80165101683926,
          54.348704399606504,
          50.561756764675124,
          54.30106002625424,
          71.11460861175301,
          54.89317319909811,
          46.49558521458481,
          71.20963759943142,
          54.83132571247096,
          57.62233088072441
         ],
         "yaxis": "y2"
        },
        {
         "alignmentgroup": "True",
         "hovertemplate": "OrderMode=DoorDash<br>channel=3PO<br>State=%{x}<br>revenue Share(%)=%{y}<br>revenue_share_label=%{text}<extra></extra>",
         "legendgroup": "DoorDash",
         "marker": {
          "color": "#EF553B",
          "pattern": {
           "shape": ""
          }
         },
         "name": "DoorDash",
         "offsetgroup": "DoorDash",
         "orientation": "v",
         "showlegend": true,
         "text": [
          "34.5%",
          "35.1%",
          "41.2%",
          "35.1%",
          "39.0%",
          "26.8%",
          "34.1%",
          "38.0%",
          "9.3%",
          "34.7%",
          "31.6%"
         ],
         "textposition": "auto",
         "type": "bar",
         "x": [
          "AR",
          "KS",
          "MO",
          "NC",
          "NE",
          "NM",
          "OK",
          "SC",
          "SD",
          "TN",
          "TX."
         ],
         "xaxis": "x",
         "y": [
          34.462053116190525,
          35.09479402018356,
          41.15042858095643,
          35.080544466487,
          38.986119896261734,
          26.843395786280038,
          34.13347895733062,
          37.9929731690534,
          9.333572365139078,
          34.74194445850422,
          31.610281688598636
         ],
         "yaxis": "y"
        },
        {
         "alignmentgroup": "True",
         "hovertemplate": "OrderMode=UberEats<br>channel=3PO<br>State=%{x}<br>revenue Share(%)=%{y}<br>revenue_share_label=%{text}<extra></extra>",
         "legendgroup": "UberEats",
         "marker": {
          "color": "#00cc96",
          "pattern": {
           "shape": ""
          }
         },
         "name": "UberEats",
         "offsetgroup": "UberEats",
         "orientation": "v",
         "showlegend": true,
         "text": [
          "11.9%",
          "8.1%",
          "4.5%",
          "14.4%",
          "6.7%",
          "2.0%",
          "11.0%",
          "15.5%",
          "19.5%",
          "10.4%",
          "10.8%"
         ],
         "textposition": "auto",
         "type": "bar",
         "x": [
          "AR",
          "KS",
          "MO",
          "NC",
          "NE",
          "NM",
          "OK",
          "SC",
          "SD",
          "TN",
          "TX."
         ],
         "xaxis": "x",
         "y": [
          11.893717308413052,
          8.10355496297717,
          4.500867019437062,
          14.357698768837876,
          6.712820077484009,
          2.0419956019669465,
          10.97334784357126,
          15.511441616361799,
          19.456790035429506,
          10.426729829024826,
          10.767387430676944
         ],
         "yaxis": "y"
        }
       ],
       "layout": {
        "annotations": [
         {
          "font": {},
          "showarrow": false,
          "text": "channel=3PO",
          "textangle": 90,
          "x": 0.98,
          "xanchor": "left",
          "xref": "paper",
          "y": 0.2425,
          "yanchor": "middle",
          "yref": "paper"
         },
         {
          "font": {},
          "showarrow": false,
          "text": "channel=1PO",
          "textangle": 90,
          "x": 0.98,
          "xanchor": "left",
          "xref": "paper",
          "y": 0.7575000000000001,
          "yanchor": "middle",
          "yref": "paper"
         }
        ],
        "barmode": "relative",
        "font": {
         "size": 10
        },
        "height": 700,
        "legend": {
         "font": {
          "size": 10
         },
         "title": {
          "font": {
           "size": 12
          },
          "text": "OrderMode"
         },
         "tracegroupgap": 0
        },
        "showlegend": true,
        "template": {
         "data": {
          "bar": [
           {
            "error_x": {
             "color": "#2a3f5f"
            },
            "error_y": {
             "color": "#2a3f5f"
            },
            "marker": {
             "line": {
              "color": "#E5ECF6",
              "width": 0.5
             },
             "pattern": {
              "fillmode": "overlay",
              "size": 10,
              "solidity": 0.2
             }
            },
            "type": "bar"
           }
          ],
          "barpolar": [
           {
            "marker": {
             "line": {
              "color": "#E5ECF6",
              "width": 0.5
             },
             "pattern": {
              "fillmode": "overlay",
              "size": 10,
              "solidity": 0.2
             }
            },
            "type": "barpolar"
           }
          ],
          "carpet": [
           {
            "aaxis": {
             "endlinecolor": "#2a3f5f",
             "gridcolor": "white",
             "linecolor": "white",
             "minorgridcolor": "white",
             "startlinecolor": "#2a3f5f"
            },
            "baxis": {
             "endlinecolor": "#2a3f5f",
             "gridcolor": "white",
             "linecolor": "white",
             "minorgridcolor": "white",
             "startlinecolor": "#2a3f5f"
            },
            "type": "carpet"
           }
          ],
          "choropleth": [
           {
            "colorbar": {
             "outlinewidth": 0,
             "ticks": ""
            },
            "type": "choropleth"
           }
          ],
          "contour": [
           {
            "colorbar": {
             "outlinewidth": 0,
             "ticks": ""
            },
            "colorscale": [
             [
              0,
              "#0d0887"
             ],
             [
              0.1111111111111111,
              "#46039f"
             ],
             [
              0.2222222222222222,
              "#7201a8"
             ],
             [
              0.3333333333333333,
              "#9c179e"
             ],
             [
              0.4444444444444444,
              "#bd3786"
             ],
             [
              0.5555555555555556,
              "#d8576b"
             ],
             [
              0.6666666666666666,
              "#ed7953"
             ],
             [
              0.7777777777777778,
              "#fb9f3a"
             ],
             [
              0.8888888888888888,
              "#fdca26"
             ],
             [
              1,
              "#f0f921"
             ]
            ],
            "type": "contour"
           }
          ],
          "contourcarpet": [
           {
            "colorbar": {
             "outlinewidth": 0,
             "ticks": ""
            },
            "type": "contourcarpet"
           }
          ],
          "heatmap": [
           {
            "colorbar": {
             "outlinewidth": 0,
             "ticks": ""
            },
            "colorscale": [
             [
              0,
              "#0d0887"
             ],
             [
              0.1111111111111111,
              "#46039f"
             ],
             [
              0.2222222222222222,
              "#7201a8"
             ],
             [
              0.3333333333333333,
              "#9c179e"
             ],
             [
              0.4444444444444444,
              "#bd3786"
             ],
             [
              0.5555555555555556,
              "#d8576b"
             ],
             [
              0.6666666666666666,
              "#ed7953"
             ],
             [
              0.7777777777777778,
              "#fb9f3a"
             ],
             [
              0.8888888888888888,
              "#fdca26"
             ],
             [
              1,
              "#f0f921"
             ]
            ],
            "type": "heatmap"
           }
          ],
          "heatmapgl": [
           {
            "colorbar": {
             "outlinewidth": 0,
             "ticks": ""
            },
            "colorscale": [
             [
              0,
              "#0d0887"
             ],
             [
              0.1111111111111111,
              "#46039f"
             ],
             [
              0.2222222222222222,
              "#7201a8"
             ],
             [
              0.3333333333333333,
              "#9c179e"
             ],
             [
              0.4444444444444444,
              "#bd3786"
             ],
             [
              0.5555555555555556,
              "#d8576b"
             ],
             [
              0.6666666666666666,
              "#ed7953"
             ],
             [
              0.7777777777777778,
              "#fb9f3a"
             ],
             [
              0.8888888888888888,
              "#fdca26"
             ],
             [
              1,
              "#f0f921"
             ]
            ],
            "type": "heatmapgl"
           }
          ],
          "histogram": [
           {
            "marker": {
             "pattern": {
              "fillmode": "overlay",
              "size": 10,
              "solidity": 0.2
             }
            },
            "type": "histogram"
           }
          ],
          "histogram2d": [
           {
            "colorbar": {
             "outlinewidth": 0,
             "ticks": ""
            },
            "colorscale": [
             [
              0,
              "#0d0887"
             ],
             [
              0.1111111111111111,
              "#46039f"
             ],
             [
              0.2222222222222222,
              "#7201a8"
             ],
             [
              0.3333333333333333,
              "#9c179e"
             ],
             [
              0.4444444444444444,
              "#bd3786"
             ],
             [
              0.5555555555555556,
              "#d8576b"
             ],
             [
              0.6666666666666666,
              "#ed7953"
             ],
             [
              0.7777777777777778,
              "#fb9f3a"
             ],
             [
              0.8888888888888888,
              "#fdca26"
             ],
             [
              1,
              "#f0f921"
             ]
            ],
            "type": "histogram2d"
           }
          ],
          "histogram2dcontour": [
           {
            "colorbar": {
             "outlinewidth": 0,
             "ticks": ""
            },
            "colorscale": [
             [
              0,
              "#0d0887"
             ],
             [
              0.1111111111111111,
              "#46039f"
             ],
             [
              0.2222222222222222,
              "#7201a8"
             ],
             [
              0.3333333333333333,
              "#9c179e"
             ],
             [
              0.4444444444444444,
              "#bd3786"
             ],
             [
              0.5555555555555556,
              "#d8576b"
             ],
             [
              0.6666666666666666,
              "#ed7953"
             ],
             [
              0.7777777777777778,
              "#fb9f3a"
             ],
             [
              0.8888888888888888,
              "#fdca26"
             ],
             [
              1,
              "#f0f921"
             ]
            ],
            "type": "histogram2dcontour"
           }
          ],
          "mesh3d": [
           {
            "colorbar": {
             "outlinewidth": 0,
             "ticks": ""
            },
            "type": "mesh3d"
           }
          ],
          "parcoords": [
           {
            "line": {
             "colorbar": {
              "outlinewidth": 0,
              "ticks": ""
             }
            },
            "type": "parcoords"
           }
          ],
          "pie": [
           {
            "automargin": true,
            "type": "pie"
           }
          ],
          "scatter": [
           {
            "fillpattern": {
             "fillmode": "overlay",
             "size": 10,
             "solidity": 0.2
            },
            "type": "scatter"
           }
          ],
          "scatter3d": [
           {
            "line": {
             "colorbar": {
              "outlinewidth": 0,
              "ticks": ""
             }
            },
            "marker": {
             "colorbar": {
              "outlinewidth": 0,
              "ticks": ""
             }
            },
            "type": "scatter3d"
           }
          ],
          "scattercarpet": [
           {
            "marker": {
             "colorbar": {
              "outlinewidth": 0,
              "ticks": ""
             }
            },
            "type": "scattercarpet"
           }
          ],
          "scattergeo": [
           {
            "marker": {
             "colorbar": {
              "outlinewidth": 0,
              "ticks": ""
             }
            },
            "type": "scattergeo"
           }
          ],
          "scattergl": [
           {
            "marker": {
             "colorbar": {
              "outlinewidth": 0,
              "ticks": ""
             }
            },
            "type": "scattergl"
           }
          ],
          "scattermapbox": [
           {
            "marker": {
             "colorbar": {
              "outlinewidth": 0,
              "ticks": ""
             }
            },
            "type": "scattermapbox"
           }
          ],
          "scatterpolar": [
           {
            "marker": {
             "colorbar": {
              "outlinewidth": 0,
              "ticks": ""
             }
            },
            "type": "scatterpolar"
           }
          ],
          "scatterpolargl": [
           {
            "marker": {
             "colorbar": {
              "outlinewidth": 0,
              "ticks": ""
             }
            },
            "type": "scatterpolargl"
           }
          ],
          "scatterternary": [
           {
            "marker": {
             "colorbar": {
              "outlinewidth": 0,
              "ticks": ""
             }
            },
            "type": "scatterternary"
           }
          ],
          "surface": [
           {
            "colorbar": {
             "outlinewidth": 0,
             "ticks": ""
            },
            "colorscale": [
             [
              0,
              "#0d0887"
             ],
             [
              0.1111111111111111,
              "#46039f"
             ],
             [
              0.2222222222222222,
              "#7201a8"
             ],
             [
              0.3333333333333333,
              "#9c179e"
             ],
             [
              0.4444444444444444,
              "#bd3786"
             ],
             [
              0.5555555555555556,
              "#d8576b"
             ],
             [
              0.6666666666666666,
              "#ed7953"
             ],
             [
              0.7777777777777778,
              "#fb9f3a"
             ],
             [
              0.8888888888888888,
              "#fdca26"
             ],
             [
              1,
              "#f0f921"
             ]
            ],
            "type": "surface"
           }
          ],
          "table": [
           {
            "cells": {
             "fill": {
              "color": "#EBF0F8"
             },
             "line": {
              "color": "white"
             }
            },
            "header": {
             "fill": {
              "color": "#C8D4E3"
             },
             "line": {
              "color": "white"
             }
            },
            "type": "table"
           }
          ]
         },
         "layout": {
          "annotationdefaults": {
           "arrowcolor": "#2a3f5f",
           "arrowhead": 0,
           "arrowwidth": 1
          },
          "autotypenumbers": "strict",
          "coloraxis": {
           "colorbar": {
            "outlinewidth": 0,
            "ticks": ""
           }
          },
          "colorscale": {
           "diverging": [
            [
             0,
             "#8e0152"
            ],
            [
             0.1,
             "#c51b7d"
            ],
            [
             0.2,
             "#de77ae"
            ],
            [
             0.3,
             "#f1b6da"
            ],
            [
             0.4,
             "#fde0ef"
            ],
            [
             0.5,
             "#f7f7f7"
            ],
            [
             0.6,
             "#e6f5d0"
            ],
            [
             0.7,
             "#b8e186"
            ],
            [
             0.8,
             "#7fbc41"
            ],
            [
             0.9,
             "#4d9221"
            ],
            [
             1,
             "#276419"
            ]
           ],
           "sequential": [
            [
             0,
             "#0d0887"
            ],
            [
             0.1111111111111111,
             "#46039f"
            ],
            [
             0.2222222222222222,
             "#7201a8"
            ],
            [
             0.3333333333333333,
             "#9c179e"
            ],
            [
             0.4444444444444444,
             "#bd3786"
            ],
            [
             0.5555555555555556,
             "#d8576b"
            ],
            [
             0.6666666666666666,
             "#ed7953"
            ],
            [
             0.7777777777777778,
             "#fb9f3a"
            ],
            [
             0.8888888888888888,
             "#fdca26"
            ],
            [
             1,
             "#f0f921"
            ]
           ],
           "sequentialminus": [
            [
             0,
             "#0d0887"
            ],
            [
             0.1111111111111111,
             "#46039f"
            ],
            [
             0.2222222222222222,
             "#7201a8"
            ],
            [
             0.3333333333333333,
             "#9c179e"
            ],
            [
             0.4444444444444444,
             "#bd3786"
            ],
            [
             0.5555555555555556,
             "#d8576b"
            ],
            [
             0.6666666666666666,
             "#ed7953"
            ],
            [
             0.7777777777777778,
             "#fb9f3a"
            ],
            [
             0.8888888888888888,
             "#fdca26"
            ],
            [
             1,
             "#f0f921"
            ]
           ]
          },
          "colorway": [
           "#636efa",
           "#EF553B",
           "#00cc96",
           "#ab63fa",
           "#FFA15A",
           "#19d3f3",
           "#FF6692",
           "#B6E880",
           "#FF97FF",
           "#FECB52"
          ],
          "font": {
           "color": "#2a3f5f"
          },
          "geo": {
           "bgcolor": "white",
           "lakecolor": "white",
           "landcolor": "#E5ECF6",
           "showlakes": true,
           "showland": true,
           "subunitcolor": "white"
          },
          "hoverlabel": {
           "align": "left"
          },
          "hovermode": "closest",
          "mapbox": {
           "style": "light"
          },
          "paper_bgcolor": "white",
          "plot_bgcolor": "#E5ECF6",
          "polar": {
           "angularaxis": {
            "gridcolor": "white",
            "linecolor": "white",
            "ticks": ""
           },
           "bgcolor": "#E5ECF6",
           "radialaxis": {
            "gridcolor": "white",
            "linecolor": "white",
            "ticks": ""
           }
          },
          "scene": {
           "xaxis": {
            "backgroundcolor": "#E5ECF6",
            "gridcolor": "white",
            "gridwidth": 2,
            "linecolor": "white",
            "showbackground": true,
            "ticks": "",
            "zerolinecolor": "white"
           },
           "yaxis": {
            "backgroundcolor": "#E5ECF6",
            "gridcolor": "white",
            "gridwidth": 2,
            "linecolor": "white",
            "showbackground": true,
            "ticks": "",
            "zerolinecolor": "white"
           },
           "zaxis": {
            "backgroundcolor": "#E5ECF6",
            "gridcolor": "white",
            "gridwidth": 2,
            "linecolor": "white",
            "showbackground": true,
            "ticks": "",
            "zerolinecolor": "white"
           }
          },
          "shapedefaults": {
           "line": {
            "color": "#2a3f5f"
           }
          },
          "ternary": {
           "aaxis": {
            "gridcolor": "white",
            "linecolor": "white",
            "ticks": ""
           },
           "baxis": {
            "gridcolor": "white",
            "linecolor": "white",
            "ticks": ""
           },
           "bgcolor": "#E5ECF6",
           "caxis": {
            "gridcolor": "white",
            "linecolor": "white",
            "ticks": ""
           }
          },
          "title": {
           "x": 0.05
          },
          "xaxis": {
           "automargin": true,
           "gridcolor": "white",
           "linecolor": "white",
           "ticks": "",
           "title": {
            "standoff": 15
           },
           "zerolinecolor": "white",
           "zerolinewidth": 2
          },
          "yaxis": {
           "automargin": true,
           "gridcolor": "white",
           "linecolor": "white",
           "ticks": "",
           "title": {
            "standoff": 15
           },
           "zerolinecolor": "white",
           "zerolinewidth": 2
          }
         }
        },
        "title": {
         "font": {
          "size": 16
         },
         "text": "Wingstop Revenue Share(%) by State"
        },
        "width": 900,
        "xaxis": {
         "anchor": "y",
         "domain": [
          0,
          0.98
         ],
         "title": {
          "font": {
           "size": 12
          },
          "text": "State"
         }
        },
        "xaxis2": {
         "anchor": "y2",
         "domain": [
          0,
          0.98
         ],
         "matches": "x",
         "showticklabels": false
        },
        "yaxis": {
         "anchor": "x",
         "domain": [
          0,
          0.485
         ],
         "showticklabels": true,
         "title": {
          "font": {
           "size": 12
          },
          "text": ""
         }
        },
        "yaxis2": {
         "anchor": "x2",
         "domain": [
          0.515,
          1
         ],
         "showticklabels": true,
         "title": {
          "text": "revenue Share(%)"
         }
        }
       }
      }
     },
     "metadata": {},
     "output_type": "display_data"
    }
   ],
   "source": [
    "import pandas as pd\n",
    "import plotly.express as px\n",
    "\n",
    "# 1. Filter for Little Caesars and calculate revenue per state/channel/ordermode\n",
    "aux = x[x['Brand'] == 'WS'].groupby(['Brand', 'ST', 'channel', 'OrderMode','StoreID'], as_index=False)['revenue'].sum()\n",
    "\n",
    "# 2. Get store count per state (assuming 'store_id' column exists in your dataset)\n",
    "store_counts = x[x['Brand'] == 'WS'].groupby('ST')['StoreID'].nunique().reset_index()\n",
    "store_counts.rename(columns={'StoreID': 'store_count'}, inplace=True)\n",
    "store_counts\n",
    "# 3. Merge store count into the main data\n",
    "aux = aux.merge(store_counts, on='ST', how='left')\n",
    "aux=aux[['Brand','ST','channel','OrderMode','revenue']]\n",
    "aux.shape\n",
    "aux=aux.groupby(['Brand','ST',\t'channel',\t'OrderMode']).sum().reset_index()\n",
    "total_rev_per_state= aux.groupby('ST')['revenue'].transform('sum')\n",
    "total_rev_per_state\n",
    "aux['total_rev_per_state']=total_rev_per_state\n",
    "aux[aux['ST']=='VA']\n",
    "\n",
    "\n",
    "aux['revenue Share(%)']=(aux['revenue']/aux['total_rev_per_state'])*100\n",
    "aux\n",
    "\n",
    "\n",
    "aux['revenue_share_label'] = aux['revenue Share(%)'].map(lambda x: f\"{x:.1f}%\")\n",
    "\n",
    "aux\n",
    "\n",
    "\n",
    "# 4. Plot with custom colors\n",
    "fig = px.bar(aux, \n",
    "             x=\"ST\", \n",
    "             y=\"revenue Share(%)\", \n",
    "             color=\"OrderMode\",\n",
    "             text='revenue_share_label',\n",
    "             title=\"Wingstop Revenue Share(%) by State\",\n",
    "             labels={\"ST\": \"State\"},\n",
    "             facet_row=\"channel\",\n",
    "            #  color_discrete_map=OrderMode_c,  # <-- Use custom colors here\n",
    "             height=700,\n",
    "             width=900)\n",
    "\n",
    "fig.update_layout(\n",
    "    yaxis_title=\"Revenue Share(%)\",\n",
    "    showlegend=True\n",
    ")\n",
    "\n",
    "# Adjust font size for various elements\n",
    "fig.update_layout(\n",
    "    yaxis_title=\"Share per Store (%)\",\n",
    "    showlegend=True,\n",
    "    title_font=dict(size=16),  # Title font size\n",
    "    font=dict(size=10),  # Axis labels and general text size\n",
    "    xaxis_title_font=dict(size=12),  # X-axis label font size\n",
    "    yaxis_title_font=dict(size=12),  # Y-axis label font size\n",
    "    legend_title_font=dict(size=12),  # Legend title font size\n",
    "    legend_font=dict(size=10),  # Legend text size\n",
    ")\n",
    "fig.update_yaxes(matches=None)\n",
    "fig.update_yaxes(showticklabels=True)  # Ensure y-axis labels show on one axis\n",
    "fig.update_yaxes(title_text=\"\", row=1, col=1)  # Remove y-axis title for each facet\n",
    "\n",
    "\n",
    "fig.show()\n",
    "\n",
    "\n",
    "\n"
   ]
  },
  {
   "cell_type": "code",
   "execution_count": 431,
   "metadata": {},
   "outputs": [
    {
     "data": {
      "application/vnd.plotly.v1+json": {
       "config": {
        "plotlyServerURL": "https://plot.ly"
       },
       "data": [
        {
         "alignmentgroup": "True",
         "hovertemplate": "OrderMode=Mobile<br>channel=1PO<br>State=%{x}<br>revenue Share(%)=%{y}<br>revenue_share_label=%{text}<extra></extra>",
         "legendgroup": "Mobile",
         "marker": {
          "color": "#636efa",
          "pattern": {
           "shape": ""
          }
         },
         "name": "Mobile",
         "offsetgroup": "Mobile",
         "orientation": "v",
         "showlegend": true,
         "text": [
          "53.7%",
          "50.6%",
          "39.4%",
          "36.2%",
          "43.6%",
          "49.4%",
          "54.2%",
          "50.5%",
          "34.9%"
         ],
         "textposition": "auto",
         "type": "bar",
         "x": [
          "AR",
          "KS",
          "LA",
          "MD",
          "NC",
          "NM",
          "OK",
          "TX",
          "VA"
         ],
         "xaxis": "x2",
         "y": [
          53.695801952624535,
          50.5916133826121,
          39.44383293454946,
          36.24124226179473,
          43.618846063473256,
          49.41402927194527,
          54.210020045873364,
          50.51978331964515,
          34.87703249342837
         ],
         "yaxis": "y2"
        },
        {
         "alignmentgroup": "True",
         "hovertemplate": "OrderMode=Website<br>channel=1PO<br>State=%{x}<br>revenue Share(%)=%{y}<br>revenue_share_label=%{text}<extra></extra>",
         "legendgroup": "Website",
         "marker": {
          "color": "#EF553B",
          "pattern": {
           "shape": ""
          }
         },
         "name": "Website",
         "offsetgroup": "Website",
         "orientation": "v",
         "showlegend": true,
         "text": [
          "27.5%",
          "30.4%",
          "28.5%",
          "21.4%",
          "28.8%",
          "27.1%",
          "25.7%",
          "28.6%",
          "24.8%"
         ],
         "textposition": "auto",
         "type": "bar",
         "x": [
          "AR",
          "KS",
          "LA",
          "MD",
          "NC",
          "NM",
          "OK",
          "TX",
          "VA"
         ],
         "xaxis": "x2",
         "y": [
          27.52331641115262,
          30.371756381842697,
          28.455819093037494,
          21.400026824616873,
          28.804061520261364,
          27.057266433600862,
          25.660683084716275,
          28.57911881626113,
          24.81674714638818
         ],
         "yaxis": "y2"
        },
        {
         "alignmentgroup": "True",
         "hovertemplate": "OrderMode=DoorDash<br>channel=3PO<br>State=%{x}<br>revenue Share(%)=%{y}<br>revenue_share_label=%{text}<extra></extra>",
         "legendgroup": "DoorDash",
         "marker": {
          "color": "#00cc96",
          "pattern": {
           "shape": ""
          }
         },
         "name": "DoorDash",
         "offsetgroup": "DoorDash",
         "orientation": "v",
         "showlegend": true,
         "text": [
          "18.1%",
          "16.0%",
          "28.6%",
          "25.8%",
          "21.8%",
          "22.8%",
          "18.6%",
          "18.7%",
          "23.2%"
         ],
         "textposition": "auto",
         "type": "bar",
         "x": [
          "AR",
          "KS",
          "LA",
          "MD",
          "NC",
          "NM",
          "OK",
          "TX",
          "VA"
         ],
         "xaxis": "x",
         "y": [
          18.093743620222497,
          15.962102991560458,
          28.625011390861303,
          25.779076931661223,
          21.754127637156206,
          22.77045066030009,
          18.612990916782955,
          18.70935374449903,
          23.219138426447028
         ],
         "yaxis": "y"
        },
        {
         "alignmentgroup": "True",
         "hovertemplate": "OrderMode=UberEats<br>channel=3PO<br>State=%{x}<br>revenue Share(%)=%{y}<br>revenue_share_label=%{text}<extra></extra>",
         "legendgroup": "UberEats",
         "marker": {
          "color": "#ab63fa",
          "pattern": {
           "shape": ""
          }
         },
         "name": "UberEats",
         "offsetgroup": "UberEats",
         "orientation": "v",
         "showlegend": true,
         "text": [
          "0.7%",
          "2.6%",
          "3.2%",
          "14.7%",
          "5.2%",
          "0.7%",
          "1.3%",
          "2.0%",
          "14.6%"
         ],
         "textposition": "auto",
         "type": "bar",
         "x": [
          "AR",
          "KS",
          "LA",
          "MD",
          "NC",
          "NM",
          "OK",
          "TX",
          "VA"
         ],
         "xaxis": "x",
         "y": [
          0.6871380160003498,
          2.573781935855518,
          3.161236955524361,
          14.670177726777428,
          5.180767169605958,
          0.7012848949375251,
          1.2752760455762784,
          2.0388712216799307,
          14.569443051691527
         ],
         "yaxis": "y"
        },
        {
         "alignmentgroup": "True",
         "hovertemplate": "OrderMode=Grubhub<br>channel=3PO<br>State=%{x}<br>revenue Share(%)=%{y}<br>revenue_share_label=%{text}<extra></extra>",
         "legendgroup": "Grubhub",
         "marker": {
          "color": "#FFA15A",
          "pattern": {
           "shape": ""
          }
         },
         "name": "Grubhub",
         "offsetgroup": "Grubhub",
         "orientation": "v",
         "showlegend": true,
         "text": [
          "0.5%",
          "0.3%",
          "1.9%",
          "0.6%",
          "0.1%",
          "0.2%",
          "0.2%",
          "2.5%"
         ],
         "textposition": "auto",
         "type": "bar",
         "x": [
          "KS",
          "LA",
          "MD",
          "NC",
          "NM",
          "OK",
          "TX",
          "VA"
         ],
         "xaxis": "x",
         "y": [
          0.5007453081292236,
          0.3140996260273813,
          1.9094762551497577,
          0.6421976095032055,
          0.0569687392162661,
          0.24102990705112587,
          0.1528728979147616,
          2.5176388820448876
         ],
         "yaxis": "y"
        }
       ],
       "layout": {
        "annotations": [
         {
          "font": {},
          "showarrow": false,
          "text": "channel=3PO",
          "textangle": 90,
          "x": 0.98,
          "xanchor": "left",
          "xref": "paper",
          "y": 0.2425,
          "yanchor": "middle",
          "yref": "paper"
         },
         {
          "font": {},
          "showarrow": false,
          "text": "channel=1PO",
          "textangle": 90,
          "x": 0.98,
          "xanchor": "left",
          "xref": "paper",
          "y": 0.7575000000000001,
          "yanchor": "middle",
          "yref": "paper"
         }
        ],
        "barmode": "relative",
        "font": {
         "size": 10
        },
        "height": 700,
        "legend": {
         "font": {
          "size": 10
         },
         "title": {
          "font": {
           "size": 12
          },
          "text": "OrderMode"
         },
         "tracegroupgap": 0
        },
        "showlegend": true,
        "template": {
         "data": {
          "bar": [
           {
            "error_x": {
             "color": "#2a3f5f"
            },
            "error_y": {
             "color": "#2a3f5f"
            },
            "marker": {
             "line": {
              "color": "#E5ECF6",
              "width": 0.5
             },
             "pattern": {
              "fillmode": "overlay",
              "size": 10,
              "solidity": 0.2
             }
            },
            "type": "bar"
           }
          ],
          "barpolar": [
           {
            "marker": {
             "line": {
              "color": "#E5ECF6",
              "width": 0.5
             },
             "pattern": {
              "fillmode": "overlay",
              "size": 10,
              "solidity": 0.2
             }
            },
            "type": "barpolar"
           }
          ],
          "carpet": [
           {
            "aaxis": {
             "endlinecolor": "#2a3f5f",
             "gridcolor": "white",
             "linecolor": "white",
             "minorgridcolor": "white",
             "startlinecolor": "#2a3f5f"
            },
            "baxis": {
             "endlinecolor": "#2a3f5f",
             "gridcolor": "white",
             "linecolor": "white",
             "minorgridcolor": "white",
             "startlinecolor": "#2a3f5f"
            },
            "type": "carpet"
           }
          ],
          "choropleth": [
           {
            "colorbar": {
             "outlinewidth": 0,
             "ticks": ""
            },
            "type": "choropleth"
           }
          ],
          "contour": [
           {
            "colorbar": {
             "outlinewidth": 0,
             "ticks": ""
            },
            "colorscale": [
             [
              0,
              "#0d0887"
             ],
             [
              0.1111111111111111,
              "#46039f"
             ],
             [
              0.2222222222222222,
              "#7201a8"
             ],
             [
              0.3333333333333333,
              "#9c179e"
             ],
             [
              0.4444444444444444,
              "#bd3786"
             ],
             [
              0.5555555555555556,
              "#d8576b"
             ],
             [
              0.6666666666666666,
              "#ed7953"
             ],
             [
              0.7777777777777778,
              "#fb9f3a"
             ],
             [
              0.8888888888888888,
              "#fdca26"
             ],
             [
              1,
              "#f0f921"
             ]
            ],
            "type": "contour"
           }
          ],
          "contourcarpet": [
           {
            "colorbar": {
             "outlinewidth": 0,
             "ticks": ""
            },
            "type": "contourcarpet"
           }
          ],
          "heatmap": [
           {
            "colorbar": {
             "outlinewidth": 0,
             "ticks": ""
            },
            "colorscale": [
             [
              0,
              "#0d0887"
             ],
             [
              0.1111111111111111,
              "#46039f"
             ],
             [
              0.2222222222222222,
              "#7201a8"
             ],
             [
              0.3333333333333333,
              "#9c179e"
             ],
             [
              0.4444444444444444,
              "#bd3786"
             ],
             [
              0.5555555555555556,
              "#d8576b"
             ],
             [
              0.6666666666666666,
              "#ed7953"
             ],
             [
              0.7777777777777778,
              "#fb9f3a"
             ],
             [
              0.8888888888888888,
              "#fdca26"
             ],
             [
              1,
              "#f0f921"
             ]
            ],
            "type": "heatmap"
           }
          ],
          "heatmapgl": [
           {
            "colorbar": {
             "outlinewidth": 0,
             "ticks": ""
            },
            "colorscale": [
             [
              0,
              "#0d0887"
             ],
             [
              0.1111111111111111,
              "#46039f"
             ],
             [
              0.2222222222222222,
              "#7201a8"
             ],
             [
              0.3333333333333333,
              "#9c179e"
             ],
             [
              0.4444444444444444,
              "#bd3786"
             ],
             [
              0.5555555555555556,
              "#d8576b"
             ],
             [
              0.6666666666666666,
              "#ed7953"
             ],
             [
              0.7777777777777778,
              "#fb9f3a"
             ],
             [
              0.8888888888888888,
              "#fdca26"
             ],
             [
              1,
              "#f0f921"
             ]
            ],
            "type": "heatmapgl"
           }
          ],
          "histogram": [
           {
            "marker": {
             "pattern": {
              "fillmode": "overlay",
              "size": 10,
              "solidity": 0.2
             }
            },
            "type": "histogram"
           }
          ],
          "histogram2d": [
           {
            "colorbar": {
             "outlinewidth": 0,
             "ticks": ""
            },
            "colorscale": [
             [
              0,
              "#0d0887"
             ],
             [
              0.1111111111111111,
              "#46039f"
             ],
             [
              0.2222222222222222,
              "#7201a8"
             ],
             [
              0.3333333333333333,
              "#9c179e"
             ],
             [
              0.4444444444444444,
              "#bd3786"
             ],
             [
              0.5555555555555556,
              "#d8576b"
             ],
             [
              0.6666666666666666,
              "#ed7953"
             ],
             [
              0.7777777777777778,
              "#fb9f3a"
             ],
             [
              0.8888888888888888,
              "#fdca26"
             ],
             [
              1,
              "#f0f921"
             ]
            ],
            "type": "histogram2d"
           }
          ],
          "histogram2dcontour": [
           {
            "colorbar": {
             "outlinewidth": 0,
             "ticks": ""
            },
            "colorscale": [
             [
              0,
              "#0d0887"
             ],
             [
              0.1111111111111111,
              "#46039f"
             ],
             [
              0.2222222222222222,
              "#7201a8"
             ],
             [
              0.3333333333333333,
              "#9c179e"
             ],
             [
              0.4444444444444444,
              "#bd3786"
             ],
             [
              0.5555555555555556,
              "#d8576b"
             ],
             [
              0.6666666666666666,
              "#ed7953"
             ],
             [
              0.7777777777777778,
              "#fb9f3a"
             ],
             [
              0.8888888888888888,
              "#fdca26"
             ],
             [
              1,
              "#f0f921"
             ]
            ],
            "type": "histogram2dcontour"
           }
          ],
          "mesh3d": [
           {
            "colorbar": {
             "outlinewidth": 0,
             "ticks": ""
            },
            "type": "mesh3d"
           }
          ],
          "parcoords": [
           {
            "line": {
             "colorbar": {
              "outlinewidth": 0,
              "ticks": ""
             }
            },
            "type": "parcoords"
           }
          ],
          "pie": [
           {
            "automargin": true,
            "type": "pie"
           }
          ],
          "scatter": [
           {
            "fillpattern": {
             "fillmode": "overlay",
             "size": 10,
             "solidity": 0.2
            },
            "type": "scatter"
           }
          ],
          "scatter3d": [
           {
            "line": {
             "colorbar": {
              "outlinewidth": 0,
              "ticks": ""
             }
            },
            "marker": {
             "colorbar": {
              "outlinewidth": 0,
              "ticks": ""
             }
            },
            "type": "scatter3d"
           }
          ],
          "scattercarpet": [
           {
            "marker": {
             "colorbar": {
              "outlinewidth": 0,
              "ticks": ""
             }
            },
            "type": "scattercarpet"
           }
          ],
          "scattergeo": [
           {
            "marker": {
             "colorbar": {
              "outlinewidth": 0,
              "ticks": ""
             }
            },
            "type": "scattergeo"
           }
          ],
          "scattergl": [
           {
            "marker": {
             "colorbar": {
              "outlinewidth": 0,
              "ticks": ""
             }
            },
            "type": "scattergl"
           }
          ],
          "scattermapbox": [
           {
            "marker": {
             "colorbar": {
              "outlinewidth": 0,
              "ticks": ""
             }
            },
            "type": "scattermapbox"
           }
          ],
          "scatterpolar": [
           {
            "marker": {
             "colorbar": {
              "outlinewidth": 0,
              "ticks": ""
             }
            },
            "type": "scatterpolar"
           }
          ],
          "scatterpolargl": [
           {
            "marker": {
             "colorbar": {
              "outlinewidth": 0,
              "ticks": ""
             }
            },
            "type": "scatterpolargl"
           }
          ],
          "scatterternary": [
           {
            "marker": {
             "colorbar": {
              "outlinewidth": 0,
              "ticks": ""
             }
            },
            "type": "scatterternary"
           }
          ],
          "surface": [
           {
            "colorbar": {
             "outlinewidth": 0,
             "ticks": ""
            },
            "colorscale": [
             [
              0,
              "#0d0887"
             ],
             [
              0.1111111111111111,
              "#46039f"
             ],
             [
              0.2222222222222222,
              "#7201a8"
             ],
             [
              0.3333333333333333,
              "#9c179e"
             ],
             [
              0.4444444444444444,
              "#bd3786"
             ],
             [
              0.5555555555555556,
              "#d8576b"
             ],
             [
              0.6666666666666666,
              "#ed7953"
             ],
             [
              0.7777777777777778,
              "#fb9f3a"
             ],
             [
              0.8888888888888888,
              "#fdca26"
             ],
             [
              1,
              "#f0f921"
             ]
            ],
            "type": "surface"
           }
          ],
          "table": [
           {
            "cells": {
             "fill": {
              "color": "#EBF0F8"
             },
             "line": {
              "color": "white"
             }
            },
            "header": {
             "fill": {
              "color": "#C8D4E3"
             },
             "line": {
              "color": "white"
             }
            },
            "type": "table"
           }
          ]
         },
         "layout": {
          "annotationdefaults": {
           "arrowcolor": "#2a3f5f",
           "arrowhead": 0,
           "arrowwidth": 1
          },
          "autotypenumbers": "strict",
          "coloraxis": {
           "colorbar": {
            "outlinewidth": 0,
            "ticks": ""
           }
          },
          "colorscale": {
           "diverging": [
            [
             0,
             "#8e0152"
            ],
            [
             0.1,
             "#c51b7d"
            ],
            [
             0.2,
             "#de77ae"
            ],
            [
             0.3,
             "#f1b6da"
            ],
            [
             0.4,
             "#fde0ef"
            ],
            [
             0.5,
             "#f7f7f7"
            ],
            [
             0.6,
             "#e6f5d0"
            ],
            [
             0.7,
             "#b8e186"
            ],
            [
             0.8,
             "#7fbc41"
            ],
            [
             0.9,
             "#4d9221"
            ],
            [
             1,
             "#276419"
            ]
           ],
           "sequential": [
            [
             0,
             "#0d0887"
            ],
            [
             0.1111111111111111,
             "#46039f"
            ],
            [
             0.2222222222222222,
             "#7201a8"
            ],
            [
             0.3333333333333333,
             "#9c179e"
            ],
            [
             0.4444444444444444,
             "#bd3786"
            ],
            [
             0.5555555555555556,
             "#d8576b"
            ],
            [
             0.6666666666666666,
             "#ed7953"
            ],
            [
             0.7777777777777778,
             "#fb9f3a"
            ],
            [
             0.8888888888888888,
             "#fdca26"
            ],
            [
             1,
             "#f0f921"
            ]
           ],
           "sequentialminus": [
            [
             0,
             "#0d0887"
            ],
            [
             0.1111111111111111,
             "#46039f"
            ],
            [
             0.2222222222222222,
             "#7201a8"
            ],
            [
             0.3333333333333333,
             "#9c179e"
            ],
            [
             0.4444444444444444,
             "#bd3786"
            ],
            [
             0.5555555555555556,
             "#d8576b"
            ],
            [
             0.6666666666666666,
             "#ed7953"
            ],
            [
             0.7777777777777778,
             "#fb9f3a"
            ],
            [
             0.8888888888888888,
             "#fdca26"
            ],
            [
             1,
             "#f0f921"
            ]
           ]
          },
          "colorway": [
           "#636efa",
           "#EF553B",
           "#00cc96",
           "#ab63fa",
           "#FFA15A",
           "#19d3f3",
           "#FF6692",
           "#B6E880",
           "#FF97FF",
           "#FECB52"
          ],
          "font": {
           "color": "#2a3f5f"
          },
          "geo": {
           "bgcolor": "white",
           "lakecolor": "white",
           "landcolor": "#E5ECF6",
           "showlakes": true,
           "showland": true,
           "subunitcolor": "white"
          },
          "hoverlabel": {
           "align": "left"
          },
          "hovermode": "closest",
          "mapbox": {
           "style": "light"
          },
          "paper_bgcolor": "white",
          "plot_bgcolor": "#E5ECF6",
          "polar": {
           "angularaxis": {
            "gridcolor": "white",
            "linecolor": "white",
            "ticks": ""
           },
           "bgcolor": "#E5ECF6",
           "radialaxis": {
            "gridcolor": "white",
            "linecolor": "white",
            "ticks": ""
           }
          },
          "scene": {
           "xaxis": {
            "backgroundcolor": "#E5ECF6",
            "gridcolor": "white",
            "gridwidth": 2,
            "linecolor": "white",
            "showbackground": true,
            "ticks": "",
            "zerolinecolor": "white"
           },
           "yaxis": {
            "backgroundcolor": "#E5ECF6",
            "gridcolor": "white",
            "gridwidth": 2,
            "linecolor": "white",
            "showbackground": true,
            "ticks": "",
            "zerolinecolor": "white"
           },
           "zaxis": {
            "backgroundcolor": "#E5ECF6",
            "gridcolor": "white",
            "gridwidth": 2,
            "linecolor": "white",
            "showbackground": true,
            "ticks": "",
            "zerolinecolor": "white"
           }
          },
          "shapedefaults": {
           "line": {
            "color": "#2a3f5f"
           }
          },
          "ternary": {
           "aaxis": {
            "gridcolor": "white",
            "linecolor": "white",
            "ticks": ""
           },
           "baxis": {
            "gridcolor": "white",
            "linecolor": "white",
            "ticks": ""
           },
           "bgcolor": "#E5ECF6",
           "caxis": {
            "gridcolor": "white",
            "linecolor": "white",
            "ticks": ""
           }
          },
          "title": {
           "x": 0.05
          },
          "xaxis": {
           "automargin": true,
           "gridcolor": "white",
           "linecolor": "white",
           "ticks": "",
           "title": {
            "standoff": 15
           },
           "zerolinecolor": "white",
           "zerolinewidth": 2
          },
          "yaxis": {
           "automargin": true,
           "gridcolor": "white",
           "linecolor": "white",
           "ticks": "",
           "title": {
            "standoff": 15
           },
           "zerolinecolor": "white",
           "zerolinewidth": 2
          }
         }
        },
        "title": {
         "font": {
          "size": 16
         },
         "text": "Little Caesars Revenue Share(%) by State"
        },
        "width": 900,
        "xaxis": {
         "anchor": "y",
         "domain": [
          0,
          0.98
         ],
         "title": {
          "font": {
           "size": 12
          },
          "text": "State"
         }
        },
        "xaxis2": {
         "anchor": "y2",
         "domain": [
          0,
          0.98
         ],
         "matches": "x",
         "showticklabels": false
        },
        "yaxis": {
         "anchor": "x",
         "domain": [
          0,
          0.485
         ],
         "showticklabels": true,
         "title": {
          "font": {
           "size": 12
          },
          "text": ""
         }
        },
        "yaxis2": {
         "anchor": "x2",
         "domain": [
          0.515,
          1
         ],
         "showticklabels": true,
         "title": {
          "text": "revenue Share(%)"
         }
        }
       }
      }
     },
     "metadata": {},
     "output_type": "display_data"
    }
   ],
   "source": [
    "import pandas as pd\n",
    "import plotly.express as px\n",
    "\n",
    "# 1. Filter for Little Caesars and calculate revenue per state/channel/ordermode\n",
    "aux = x[x['Brand'] == 'LC'].groupby(['Brand', 'ST', 'channel', 'OrderMode','StoreID'], as_index=False)['revenue'].sum()\n",
    "\n",
    "# 2. Get store count per state (assuming 'store_id' column exists in your dataset)\n",
    "store_counts = x[x['Brand'] == 'LC'].groupby('ST')['StoreID'].nunique().reset_index()\n",
    "store_counts.rename(columns={'StoreID': 'store_count'}, inplace=True)\n",
    "store_counts\n",
    "# 3. Merge store count into the main data\n",
    "aux = aux.merge(store_counts, on='ST', how='left')\n",
    "aux=aux[['Brand','ST','channel','OrderMode','revenue']]\n",
    "aux.shape\n",
    "aux=aux.groupby(['Brand','ST',\t'channel',\t'OrderMode']).sum().reset_index()\n",
    "total_rev_per_state= aux.groupby('ST')['revenue'].transform('sum')\n",
    "total_rev_per_state\n",
    "aux['total_rev_per_state']=total_rev_per_state\n",
    "aux[aux['ST']=='VA']\n",
    "\n",
    "\n",
    "aux['revenue Share(%)']=(aux['revenue']/aux['total_rev_per_state'])*100\n",
    "aux\n",
    "\n",
    "\n",
    "aux['revenue_share_label'] = aux['revenue Share(%)'].map(lambda x: f\"{x:.1f}%\")\n",
    "\n",
    "aux\n",
    "\n",
    "\n",
    "# 4. Plot with custom colors\n",
    "fig = px.bar(aux, \n",
    "             x=\"ST\", \n",
    "             y=\"revenue Share(%)\", \n",
    "             color=\"OrderMode\",\n",
    "             text='revenue_share_label',\n",
    "             title=\"Little Caesars Revenue Share(%) by State\",\n",
    "             labels={\"ST\": \"State\"},\n",
    "             facet_row=\"channel\",\n",
    "            #  color_discrete_map=OrderMode_c,  # <-- Use custom colors here\n",
    "             height=700,\n",
    "             width=900)\n",
    "\n",
    "fig.update_layout(\n",
    "    yaxis_title=\"Revenue Share(%)\",\n",
    "    showlegend=True\n",
    ")\n",
    "\n",
    "# Adjust font size for various elements\n",
    "fig.update_layout(\n",
    "    yaxis_title=\"Share per Store (%)\",\n",
    "    showlegend=True,\n",
    "    title_font=dict(size=16),  # Title font size\n",
    "    font=dict(size=10),  # Axis labels and general text size\n",
    "    xaxis_title_font=dict(size=12),  # X-axis label font size\n",
    "    yaxis_title_font=dict(size=12),  # Y-axis label font size\n",
    "    legend_title_font=dict(size=12),  # Legend title font size\n",
    "    legend_font=dict(size=10),  # Legend text size\n",
    ")\n",
    "fig.update_yaxes(matches=None)\n",
    "fig.update_yaxes(showticklabels=True)  # Ensure y-axis labels show on one axis\n",
    "fig.update_yaxes(title_text=\"\", row=1, col=1)  # Remove y-axis title for each facet\n",
    "\n",
    "\n",
    "fig.show()\n",
    "\n",
    "\n",
    "\n"
   ]
  },
  {
   "cell_type": "code",
   "execution_count": null,
   "metadata": {},
   "outputs": [],
   "source": []
  }
 ],
 "metadata": {
  "kernelspec": {
   "display_name": "hm",
   "language": "python",
   "name": "python3"
  },
  "language_info": {
   "codemirror_mode": {
    "name": "ipython",
    "version": 3
   },
   "file_extension": ".py",
   "mimetype": "text/x-python",
   "name": "python",
   "nbconvert_exporter": "python",
   "pygments_lexer": "ipython3",
   "version": "3.7.9"
  }
 },
 "nbformat": 4,
 "nbformat_minor": 2
}
