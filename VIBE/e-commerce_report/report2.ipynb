{
 "cells": [
  {
   "cell_type": "code",
   "execution_count": 2,
   "metadata": {},
   "outputs": [],
   "source": [
    "import pandas as pd\n",
    "import numpy as np\n",
    "import plotly.express as px\n",
    "\n",
    "import plotly.graph_objects as go\n"
   ]
  },
  {
   "cell_type": "code",
   "execution_count": 3,
   "metadata": {},
   "outputs": [],
   "source": [
    "vibe=pd.read_csv('vibe.csv')\n"
   ]
  },
  {
   "cell_type": "code",
   "execution_count": 4,
   "metadata": {},
   "outputs": [
    {
     "data": {
      "text/plain": [
       "Index(['StoreID', 'OrderMode', 'WeekStartDate', 'WeeklyNetAmount', 'channel',\n",
       "       'Brand', 'revenue'],\n",
       "      dtype='object')"
      ]
     },
     "execution_count": 4,
     "metadata": {},
     "output_type": "execute_result"
    }
   ],
   "source": [
    "vibe.columns\n"
   ]
  },
  {
   "cell_type": "markdown",
   "metadata": {},
   "source": [
    "# High-Level Summary\n"
   ]
  },
  {
   "cell_type": "markdown",
   "metadata": {},
   "source": [
    "<!-- Total E-commerce Revenue (Weekly)\n",
    "% Change vs. Previous Week\n",
    "% Change vs. Same Week Last Year\n",
    "Top Performing Brand\n",
    "Top Performing Channel\n",
    "Overall Conversion Rate\n",
    "Total Orders / AOV (Average Order Value) -->"
   ]
  },
  {
   "cell_type": "code",
   "execution_count": 61,
   "metadata": {},
   "outputs": [
    {
     "data": {
      "text/plain": [
       "90"
      ]
     },
     "execution_count": 61,
     "metadata": {},
     "output_type": "execute_result"
    }
   ],
   "source": [
    "66+24\n"
   ]
  },
  {
   "cell_type": "code",
   "execution_count": 60,
   "metadata": {},
   "outputs": [
    {
     "data": {
      "text/plain": [
       "74"
      ]
     },
     "execution_count": 60,
     "metadata": {},
     "output_type": "execute_result"
    }
   ],
   "source": [
    "vibe[vibe['Brand']==\"LC\"]['StoreID'].nunique()\n",
    "vibe[vibe['Brand']==\"WS\"]['StoreID'].nunique()\n"
   ]
  },
  {
   "cell_type": "code",
   "execution_count": 31,
   "metadata": {},
   "outputs": [
    {
     "data": {
      "text/plain": [
       "Index(['StoreID', 'OrderMode', 'WeekStartDate', 'WeeklyNetAmount', 'channel',\n",
       "       'Brand', 'revenue'],\n",
       "      dtype='object')"
      ]
     },
     "execution_count": 31,
     "metadata": {},
     "output_type": "execute_result"
    }
   ],
   "source": [
    "vibe.columns\n"
   ]
  },
  {
   "cell_type": "code",
   "execution_count": 314,
   "metadata": {},
   "outputs": [
    {
     "name": "stdout",
     "output_type": "stream",
     "text": [
      "100.2\n"
     ]
    },
    {
     "data": {
      "text/html": [
       "<div>\n",
       "<style scoped>\n",
       "    .dataframe tbody tr th:only-of-type {\n",
       "        vertical-align: middle;\n",
       "    }\n",
       "\n",
       "    .dataframe tbody tr th {\n",
       "        vertical-align: top;\n",
       "    }\n",
       "\n",
       "    .dataframe thead th {\n",
       "        text-align: right;\n",
       "    }\n",
       "</style>\n",
       "<table border=\"1\" class=\"dataframe\">\n",
       "  <thead>\n",
       "    <tr style=\"text-align: right;\">\n",
       "      <th></th>\n",
       "      <th>Brand</th>\n",
       "      <th>StoreID</th>\n",
       "      <th>OrderMode</th>\n",
       "      <th>revenue</th>\n",
       "      <th>rev_%</th>\n",
       "    </tr>\n",
       "  </thead>\n",
       "  <tbody>\n",
       "    <tr>\n",
       "      <th>348</th>\n",
       "      <td>WS</td>\n",
       "      <td>1038</td>\n",
       "      <td>Online</td>\n",
       "      <td>1514902.42</td>\n",
       "      <td>1.9</td>\n",
       "    </tr>\n",
       "    <tr>\n",
       "      <th>539</th>\n",
       "      <td>WS</td>\n",
       "      <td>542</td>\n",
       "      <td>DoorDash</td>\n",
       "      <td>1364097.82</td>\n",
       "      <td>1.7</td>\n",
       "    </tr>\n",
       "    <tr>\n",
       "      <th>540</th>\n",
       "      <td>WS</td>\n",
       "      <td>542</td>\n",
       "      <td>Online</td>\n",
       "      <td>1302075.30</td>\n",
       "      <td>1.6</td>\n",
       "    </tr>\n",
       "    <tr>\n",
       "      <th>363</th>\n",
       "      <td>WS</td>\n",
       "      <td>117</td>\n",
       "      <td>Online</td>\n",
       "      <td>1196087.45</td>\n",
       "      <td>1.5</td>\n",
       "    </tr>\n",
       "    <tr>\n",
       "      <th>387</th>\n",
       "      <td>WS</td>\n",
       "      <td>1607</td>\n",
       "      <td>Online</td>\n",
       "      <td>1207734.77</td>\n",
       "      <td>1.5</td>\n",
       "    </tr>\n",
       "    <tr>\n",
       "      <th>...</th>\n",
       "      <td>...</td>\n",
       "      <td>...</td>\n",
       "      <td>...</td>\n",
       "      <td>...</td>\n",
       "      <td>...</td>\n",
       "    </tr>\n",
       "    <tr>\n",
       "      <th>326</th>\n",
       "      <td>LC</td>\n",
       "      <td>03646-00001</td>\n",
       "      <td>Grubhub</td>\n",
       "      <td>1589.37</td>\n",
       "      <td>0.0</td>\n",
       "    </tr>\n",
       "    <tr>\n",
       "      <th>328</th>\n",
       "      <td>LC</td>\n",
       "      <td>03646-00001</td>\n",
       "      <td>UberEats</td>\n",
       "      <td>6927.82</td>\n",
       "      <td>0.0</td>\n",
       "    </tr>\n",
       "    <tr>\n",
       "      <th>331</th>\n",
       "      <td>LC</td>\n",
       "      <td>03646-00002</td>\n",
       "      <td>Grubhub</td>\n",
       "      <td>4820.16</td>\n",
       "      <td>0.0</td>\n",
       "    </tr>\n",
       "    <tr>\n",
       "      <th>336</th>\n",
       "      <td>LC</td>\n",
       "      <td>03646-00003</td>\n",
       "      <td>Grubhub</td>\n",
       "      <td>6458.63</td>\n",
       "      <td>0.0</td>\n",
       "    </tr>\n",
       "    <tr>\n",
       "      <th>342</th>\n",
       "      <td>LC</td>\n",
       "      <td>03646-00004</td>\n",
       "      <td>UberEats</td>\n",
       "      <td>1700.60</td>\n",
       "      <td>0.0</td>\n",
       "    </tr>\n",
       "  </tbody>\n",
       "</table>\n",
       "<p>566 rows × 5 columns</p>\n",
       "</div>"
      ],
      "text/plain": [
       "    Brand      StoreID OrderMode     revenue  rev_%\n",
       "348    WS         1038    Online  1514902.42    1.9\n",
       "539    WS          542  DoorDash  1364097.82    1.7\n",
       "540    WS          542    Online  1302075.30    1.6\n",
       "363    WS          117    Online  1196087.45    1.5\n",
       "387    WS         1607    Online  1207734.77    1.5\n",
       "..    ...          ...       ...         ...    ...\n",
       "326    LC  03646-00001   Grubhub     1589.37    0.0\n",
       "328    LC  03646-00001  UberEats     6927.82    0.0\n",
       "331    LC  03646-00002   Grubhub     4820.16    0.0\n",
       "336    LC  03646-00003   Grubhub     6458.63    0.0\n",
       "342    LC  03646-00004  UberEats     1700.60    0.0\n",
       "\n",
       "[566 rows x 5 columns]"
      ]
     },
     "execution_count": 314,
     "metadata": {},
     "output_type": "execute_result"
    }
   ],
   "source": [
    "aux=vibe.groupby(['Brand','StoreID','OrderMode'])['revenue'].sum().reset_index()\n",
    "aux['rev_%'] = (\n",
    "    aux\n",
    "      .groupby(['Brand'])['revenue']\n",
    "      .transform(lambda x: x / x.sum() * 100)\n",
    ")\n",
    "\n",
    "# 3. (Optional) Round for readability\n",
    "aux['rev_%'] = aux['rev_%'].round(1)\n",
    "print(aux[aux['Brand']==\"LC\"]['rev_%'].sum())\n",
    "aux.sort_values(by=['Brand','rev_%'],ascending=False)\n"
   ]
  },
  {
   "cell_type": "code",
   "execution_count": 336,
   "metadata": {},
   "outputs": [],
   "source": [
    "def less_rev_share_unit_Count(data):\n",
    "        # data=aux.copy()\n",
    "        # Step 1: Group stores under each channel as \"X Stores\"\n",
    "        Brand=data.Brand.unique()[0]\n",
    "        store_counts = data.groupby(['OrderMode'])['StoreID'].nunique().reset_index()\n",
    "        store_counts['StoreGroup'] = store_counts['StoreID'].astype(str) + \" Stores\"\n",
    "\n",
    "        # Step 2: Replace StoreID with grouped name\n",
    "        data = data.merge(store_counts[['OrderMode', 'StoreGroup']], on='OrderMode', how='left')\n",
    "        data['StoreID'] = data['StoreGroup']\n",
    "\n",
    "        # Step 3: Create unique labels and map them to indices\n",
    "        labels = pd.unique(data[['Brand', 'OrderMode', 'StoreID']].values.ravel()).tolist()\n",
    "        label_map = {label: i for i, label in enumerate(labels)}\n",
    "\n",
    "        # Step 4: Link from Brand → Channel\n",
    "        link1 = data.groupby(['Brand', 'OrderMode']).size().reset_index(name='count')\n",
    "        sources1 = link1['Brand'].map(label_map)\n",
    "        targets1 = link1['OrderMode'].map(label_map)\n",
    "        values1 = link1['count']\n",
    "\n",
    "        # Step 5: Link from OrderMode → \"X Stores\"\n",
    "        link2 = data.groupby(['OrderMode', 'StoreID']).size().reset_index(name='count')\n",
    "        sources2 = link2['OrderMode'].map(label_map)\n",
    "        targets2 = link2['StoreID'].map(label_map)\n",
    "        values2 = link2['count']\n",
    "\n",
    "        # Step 6: Combine all links\n",
    "        sources = pd.concat([sources1, sources2])\n",
    "        targets = pd.concat([targets1, targets2])\n",
    "        values = pd.concat([values1, values2])\n",
    "\n",
    "        # Step 7: Plot the Sankey diagram\n",
    "        fig = go.Figure(data=[go.Sankey(\n",
    "            node=dict(\n",
    "                pad=15,\n",
    "                thickness=20,\n",
    "                line=dict(color=\"black\", width=0.5),\n",
    "                label=labels,\n",
    "                color=\"blue\"\n",
    "            ),\n",
    "            link=dict(\n",
    "                source=sources,\n",
    "                target=targets,\n",
    "                value=values\n",
    "            )\n",
    "        )])\n",
    "\n",
    "        fig.update_layout(title_text=f\"Count of Low-Performing Stores by Order Mode {Brand}\", font_size=10)\n",
    "        fig.show()\n",
    "        \n",
    "\n"
   ]
  },
  {
   "cell_type": "code",
   "execution_count": 337,
   "metadata": {},
   "outputs": [],
   "source": [
    "# revenue share calculated for each store and its channel \n",
    "# then flagging the store and channel with less revenue share \n",
    "# performance calculatuon at store and channel level \n",
    "# repeated stores because one storeid 2's doordash is in above 1, so counts too in above and storeis2 's online is less then 0 so also apears in < category\n"
   ]
  },
  {
   "cell_type": "code",
   "execution_count": 338,
   "metadata": {},
   "outputs": [
    {
     "name": "stdout",
     "output_type": "stream",
     "text": [
      "100.0\n"
     ]
    },
    {
     "data": {
      "text/plain": [
       "np.float64(45054423.52999996)"
      ]
     },
     "execution_count": 338,
     "metadata": {},
     "output_type": "execute_result"
    }
   ],
   "source": [
    "# select LC only\n",
    "data=vibe[vibe['Brand']==\"LC\"]\n",
    "\n",
    "# have clean df as each row represent store and its channel and sum of revenue\n",
    "rev_share_order=data.groupby(['Brand','StoreID','OrderMode'])['revenue'].sum().reset_index()\n",
    "# calculate rev share\n",
    "rev_share_order['rev_%'] = (\n",
    "    rev_share_order\n",
    "      .groupby(['Brand'])['revenue']\n",
    "      .transform(lambda x: x / x.sum() * 100)\n",
    ")\n",
    "\n",
    "# check the correctness of code\n",
    "print(rev_share_order[rev_share_order['Brand']==\"LC\"]['rev_%'].sum())\n",
    "rev_share_order.sort_values(by=['Brand','rev_%'],\n",
    "                ascending=False,inplace=True)\n",
    "\n",
    "rev_share_order['revenue'].sum()\n"
   ]
  },
  {
   "cell_type": "code",
   "execution_count": 339,
   "metadata": {},
   "outputs": [
    {
     "data": {
      "text/plain": [
       "np.float64(0.0004820170429112141)"
      ]
     },
     "execution_count": 339,
     "metadata": {},
     "output_type": "execute_result"
    }
   ],
   "source": [
    "rev_share_order['rev_%'].min()\n"
   ]
  },
  {
   "cell_type": "code",
   "execution_count": 340,
   "metadata": {},
   "outputs": [
    {
     "data": {
      "text/plain": [
       "np.float64(1.228648280521013)"
      ]
     },
     "execution_count": 340,
     "metadata": {},
     "output_type": "execute_result"
    }
   ],
   "source": [
    "rev_share_order['rev_%'].max()\n"
   ]
  },
  {
   "cell_type": "code",
   "execution_count": 341,
   "metadata": {},
   "outputs": [
    {
     "data": {
      "application/vnd.plotly.v1+json": {
       "config": {
        "plotlyServerURL": "https://plot.ly"
       },
       "data": [
        {
         "bingroup": "x",
         "hovertemplate": "rev_%=%{x}<br>count=%{y}<extra></extra>",
         "legendgroup": "",
         "marker": {
          "color": "#636efa",
          "pattern": {
           "shape": ""
          }
         },
         "name": "",
         "nbinsx": 50,
         "orientation": "v",
         "showlegend": false,
         "type": "histogram",
         "x": {
          "bdata": "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",
          "dtype": "f8"
         },
         "xaxis": "x",
         "yaxis": "y"
        },
        {
         "hovertemplate": "rev_%=%{x}<extra></extra>",
         "legendgroup": "",
         "marker": {
          "color": "#636efa"
         },
         "name": "",
         "notched": true,
         "showlegend": false,
         "type": "box",
         "x": {
          "bdata": "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",
          "dtype": "f8"
         },
         "xaxis": "x2",
         "yaxis": "y2"
        }
       ],
       "layout": {
        "barmode": "relative",
        "height": 450,
        "legend": {
         "tracegroupgap": 0
        },
        "template": {
         "data": {
          "bar": [
           {
            "error_x": {
             "color": "#2a3f5f"
            },
            "error_y": {
             "color": "#2a3f5f"
            },
            "marker": {
             "line": {
              "color": "#E5ECF6",
              "width": 0.5
             },
             "pattern": {
              "fillmode": "overlay",
              "size": 10,
              "solidity": 0.2
             }
            },
            "type": "bar"
           }
          ],
          "barpolar": [
           {
            "marker": {
             "line": {
              "color": "#E5ECF6",
              "width": 0.5
             },
             "pattern": {
              "fillmode": "overlay",
              "size": 10,
              "solidity": 0.2
             }
            },
            "type": "barpolar"
           }
          ],
          "carpet": [
           {
            "aaxis": {
             "endlinecolor": "#2a3f5f",
             "gridcolor": "white",
             "linecolor": "white",
             "minorgridcolor": "white",
             "startlinecolor": "#2a3f5f"
            },
            "baxis": {
             "endlinecolor": "#2a3f5f",
             "gridcolor": "white",
             "linecolor": "white",
             "minorgridcolor": "white",
             "startlinecolor": "#2a3f5f"
            },
            "type": "carpet"
           }
          ],
          "choropleth": [
           {
            "colorbar": {
             "outlinewidth": 0,
             "ticks": ""
            },
            "type": "choropleth"
           }
          ],
          "contour": [
           {
            "colorbar": {
             "outlinewidth": 0,
             "ticks": ""
            },
            "colorscale": [
             [
              0,
              "#0d0887"
             ],
             [
              0.1111111111111111,
              "#46039f"
             ],
             [
              0.2222222222222222,
              "#7201a8"
             ],
             [
              0.3333333333333333,
              "#9c179e"
             ],
             [
              0.4444444444444444,
              "#bd3786"
             ],
             [
              0.5555555555555556,
              "#d8576b"
             ],
             [
              0.6666666666666666,
              "#ed7953"
             ],
             [
              0.7777777777777778,
              "#fb9f3a"
             ],
             [
              0.8888888888888888,
              "#fdca26"
             ],
             [
              1,
              "#f0f921"
             ]
            ],
            "type": "contour"
           }
          ],
          "contourcarpet": [
           {
            "colorbar": {
             "outlinewidth": 0,
             "ticks": ""
            },
            "type": "contourcarpet"
           }
          ],
          "heatmap": [
           {
            "colorbar": {
             "outlinewidth": 0,
             "ticks": ""
            },
            "colorscale": [
             [
              0,
              "#0d0887"
             ],
             [
              0.1111111111111111,
              "#46039f"
             ],
             [
              0.2222222222222222,
              "#7201a8"
             ],
             [
              0.3333333333333333,
              "#9c179e"
             ],
             [
              0.4444444444444444,
              "#bd3786"
             ],
             [
              0.5555555555555556,
              "#d8576b"
             ],
             [
              0.6666666666666666,
              "#ed7953"
             ],
             [
              0.7777777777777778,
              "#fb9f3a"
             ],
             [
              0.8888888888888888,
              "#fdca26"
             ],
             [
              1,
              "#f0f921"
             ]
            ],
            "type": "heatmap"
           }
          ],
          "histogram": [
           {
            "marker": {
             "pattern": {
              "fillmode": "overlay",
              "size": 10,
              "solidity": 0.2
             }
            },
            "type": "histogram"
           }
          ],
          "histogram2d": [
           {
            "colorbar": {
             "outlinewidth": 0,
             "ticks": ""
            },
            "colorscale": [
             [
              0,
              "#0d0887"
             ],
             [
              0.1111111111111111,
              "#46039f"
             ],
             [
              0.2222222222222222,
              "#7201a8"
             ],
             [
              0.3333333333333333,
              "#9c179e"
             ],
             [
              0.4444444444444444,
              "#bd3786"
             ],
             [
              0.5555555555555556,
              "#d8576b"
             ],
             [
              0.6666666666666666,
              "#ed7953"
             ],
             [
              0.7777777777777778,
              "#fb9f3a"
             ],
             [
              0.8888888888888888,
              "#fdca26"
             ],
             [
              1,
              "#f0f921"
             ]
            ],
            "type": "histogram2d"
           }
          ],
          "histogram2dcontour": [
           {
            "colorbar": {
             "outlinewidth": 0,
             "ticks": ""
            },
            "colorscale": [
             [
              0,
              "#0d0887"
             ],
             [
              0.1111111111111111,
              "#46039f"
             ],
             [
              0.2222222222222222,
              "#7201a8"
             ],
             [
              0.3333333333333333,
              "#9c179e"
             ],
             [
              0.4444444444444444,
              "#bd3786"
             ],
             [
              0.5555555555555556,
              "#d8576b"
             ],
             [
              0.6666666666666666,
              "#ed7953"
             ],
             [
              0.7777777777777778,
              "#fb9f3a"
             ],
             [
              0.8888888888888888,
              "#fdca26"
             ],
             [
              1,
              "#f0f921"
             ]
            ],
            "type": "histogram2dcontour"
           }
          ],
          "mesh3d": [
           {
            "colorbar": {
             "outlinewidth": 0,
             "ticks": ""
            },
            "type": "mesh3d"
           }
          ],
          "parcoords": [
           {
            "line": {
             "colorbar": {
              "outlinewidth": 0,
              "ticks": ""
             }
            },
            "type": "parcoords"
           }
          ],
          "pie": [
           {
            "automargin": true,
            "type": "pie"
           }
          ],
          "scatter": [
           {
            "fillpattern": {
             "fillmode": "overlay",
             "size": 10,
             "solidity": 0.2
            },
            "type": "scatter"
           }
          ],
          "scatter3d": [
           {
            "line": {
             "colorbar": {
              "outlinewidth": 0,
              "ticks": ""
             }
            },
            "marker": {
             "colorbar": {
              "outlinewidth": 0,
              "ticks": ""
             }
            },
            "type": "scatter3d"
           }
          ],
          "scattercarpet": [
           {
            "marker": {
             "colorbar": {
              "outlinewidth": 0,
              "ticks": ""
             }
            },
            "type": "scattercarpet"
           }
          ],
          "scattergeo": [
           {
            "marker": {
             "colorbar": {
              "outlinewidth": 0,
              "ticks": ""
             }
            },
            "type": "scattergeo"
           }
          ],
          "scattergl": [
           {
            "marker": {
             "colorbar": {
              "outlinewidth": 0,
              "ticks": ""
             }
            },
            "type": "scattergl"
           }
          ],
          "scattermap": [
           {
            "marker": {
             "colorbar": {
              "outlinewidth": 0,
              "ticks": ""
             }
            },
            "type": "scattermap"
           }
          ],
          "scattermapbox": [
           {
            "marker": {
             "colorbar": {
              "outlinewidth": 0,
              "ticks": ""
             }
            },
            "type": "scattermapbox"
           }
          ],
          "scatterpolar": [
           {
            "marker": {
             "colorbar": {
              "outlinewidth": 0,
              "ticks": ""
             }
            },
            "type": "scatterpolar"
           }
          ],
          "scatterpolargl": [
           {
            "marker": {
             "colorbar": {
              "outlinewidth": 0,
              "ticks": ""
             }
            },
            "type": "scatterpolargl"
           }
          ],
          "scatterternary": [
           {
            "marker": {
             "colorbar": {
              "outlinewidth": 0,
              "ticks": ""
             }
            },
            "type": "scatterternary"
           }
          ],
          "surface": [
           {
            "colorbar": {
             "outlinewidth": 0,
             "ticks": ""
            },
            "colorscale": [
             [
              0,
              "#0d0887"
             ],
             [
              0.1111111111111111,
              "#46039f"
             ],
             [
              0.2222222222222222,
              "#7201a8"
             ],
             [
              0.3333333333333333,
              "#9c179e"
             ],
             [
              0.4444444444444444,
              "#bd3786"
             ],
             [
              0.5555555555555556,
              "#d8576b"
             ],
             [
              0.6666666666666666,
              "#ed7953"
             ],
             [
              0.7777777777777778,
              "#fb9f3a"
             ],
             [
              0.8888888888888888,
              "#fdca26"
             ],
             [
              1,
              "#f0f921"
             ]
            ],
            "type": "surface"
           }
          ],
          "table": [
           {
            "cells": {
             "fill": {
              "color": "#EBF0F8"
             },
             "line": {
              "color": "white"
             }
            },
            "header": {
             "fill": {
              "color": "#C8D4E3"
             },
             "line": {
              "color": "white"
             }
            },
            "type": "table"
           }
          ]
         },
         "layout": {
          "annotationdefaults": {
           "arrowcolor": "#2a3f5f",
           "arrowhead": 0,
           "arrowwidth": 1
          },
          "autotypenumbers": "strict",
          "coloraxis": {
           "colorbar": {
            "outlinewidth": 0,
            "ticks": ""
           }
          },
          "colorscale": {
           "diverging": [
            [
             0,
             "#8e0152"
            ],
            [
             0.1,
             "#c51b7d"
            ],
            [
             0.2,
             "#de77ae"
            ],
            [
             0.3,
             "#f1b6da"
            ],
            [
             0.4,
             "#fde0ef"
            ],
            [
             0.5,
             "#f7f7f7"
            ],
            [
             0.6,
             "#e6f5d0"
            ],
            [
             0.7,
             "#b8e186"
            ],
            [
             0.8,
             "#7fbc41"
            ],
            [
             0.9,
             "#4d9221"
            ],
            [
             1,
             "#276419"
            ]
           ],
           "sequential": [
            [
             0,
             "#0d0887"
            ],
            [
             0.1111111111111111,
             "#46039f"
            ],
            [
             0.2222222222222222,
             "#7201a8"
            ],
            [
             0.3333333333333333,
             "#9c179e"
            ],
            [
             0.4444444444444444,
             "#bd3786"
            ],
            [
             0.5555555555555556,
             "#d8576b"
            ],
            [
             0.6666666666666666,
             "#ed7953"
            ],
            [
             0.7777777777777778,
             "#fb9f3a"
            ],
            [
             0.8888888888888888,
             "#fdca26"
            ],
            [
             1,
             "#f0f921"
            ]
           ],
           "sequentialminus": [
            [
             0,
             "#0d0887"
            ],
            [
             0.1111111111111111,
             "#46039f"
            ],
            [
             0.2222222222222222,
             "#7201a8"
            ],
            [
             0.3333333333333333,
             "#9c179e"
            ],
            [
             0.4444444444444444,
             "#bd3786"
            ],
            [
             0.5555555555555556,
             "#d8576b"
            ],
            [
             0.6666666666666666,
             "#ed7953"
            ],
            [
             0.7777777777777778,
             "#fb9f3a"
            ],
            [
             0.8888888888888888,
             "#fdca26"
            ],
            [
             1,
             "#f0f921"
            ]
           ]
          },
          "colorway": [
           "#636efa",
           "#EF553B",
           "#00cc96",
           "#ab63fa",
           "#FFA15A",
           "#19d3f3",
           "#FF6692",
           "#B6E880",
           "#FF97FF",
           "#FECB52"
          ],
          "font": {
           "color": "#2a3f5f"
          },
          "geo": {
           "bgcolor": "white",
           "lakecolor": "white",
           "landcolor": "#E5ECF6",
           "showlakes": true,
           "showland": true,
           "subunitcolor": "white"
          },
          "hoverlabel": {
           "align": "left"
          },
          "hovermode": "closest",
          "mapbox": {
           "style": "light"
          },
          "paper_bgcolor": "white",
          "plot_bgcolor": "#E5ECF6",
          "polar": {
           "angularaxis": {
            "gridcolor": "white",
            "linecolor": "white",
            "ticks": ""
           },
           "bgcolor": "#E5ECF6",
           "radialaxis": {
            "gridcolor": "white",
            "linecolor": "white",
            "ticks": ""
           }
          },
          "scene": {
           "xaxis": {
            "backgroundcolor": "#E5ECF6",
            "gridcolor": "white",
            "gridwidth": 2,
            "linecolor": "white",
            "showbackground": true,
            "ticks": "",
            "zerolinecolor": "white"
           },
           "yaxis": {
            "backgroundcolor": "#E5ECF6",
            "gridcolor": "white",
            "gridwidth": 2,
            "linecolor": "white",
            "showbackground": true,
            "ticks": "",
            "zerolinecolor": "white"
           },
           "zaxis": {
            "backgroundcolor": "#E5ECF6",
            "gridcolor": "white",
            "gridwidth": 2,
            "linecolor": "white",
            "showbackground": true,
            "ticks": "",
            "zerolinecolor": "white"
           }
          },
          "shapedefaults": {
           "line": {
            "color": "#2a3f5f"
           }
          },
          "ternary": {
           "aaxis": {
            "gridcolor": "white",
            "linecolor": "white",
            "ticks": ""
           },
           "baxis": {
            "gridcolor": "white",
            "linecolor": "white",
            "ticks": ""
           },
           "bgcolor": "#E5ECF6",
           "caxis": {
            "gridcolor": "white",
            "linecolor": "white",
            "ticks": ""
           }
          },
          "title": {
           "x": 0.05
          },
          "xaxis": {
           "automargin": true,
           "gridcolor": "white",
           "linecolor": "white",
           "ticks": "",
           "title": {
            "standoff": 15
           },
           "zerolinecolor": "white",
           "zerolinewidth": 2
          },
          "yaxis": {
           "automargin": true,
           "gridcolor": "white",
           "linecolor": "white",
           "ticks": "",
           "title": {
            "standoff": 15
           },
           "zerolinecolor": "white",
           "zerolinewidth": 2
          }
         }
        },
        "title": {
         "text": "Distribution of Revenue Share(%) for StoreID-OrderMode combination"
        },
        "width": 700,
        "xaxis": {
         "anchor": "y",
         "domain": [
          0,
          1
         ],
         "title": {
          "text": "rev_%"
         }
        },
        "xaxis2": {
         "anchor": "y2",
         "domain": [
          0,
          1
         ],
         "matches": "x",
         "showgrid": true,
         "showticklabels": false
        },
        "yaxis": {
         "anchor": "x",
         "domain": [
          0,
          0.8316
         ],
         "title": {
          "text": "count"
         }
        },
        "yaxis2": {
         "anchor": "x2",
         "domain": [
          0.8416,
          1
         ],
         "matches": "y2",
         "showgrid": false,
         "showline": false,
         "showticklabels": false,
         "ticks": ""
        }
       }
      }
     },
     "metadata": {},
     "output_type": "display_data"
    }
   ],
   "source": [
    "import plotly.express as px\n",
    "\n",
    "fig = px.histogram(\n",
    "    data_frame=rev_share_order,\n",
    "    x='rev_%',\n",
    "    nbins=50,  # You can tweak this for granularity\n",
    "    title='Distribution of Revenue Share(%) for StoreID-OrderMode combination',\n",
    "    marginal='box' , # Adds a box plot on top for summary stats\n",
    "     width=700,  # adjust width\n",
    "    height=450 \n",
    ")\n",
    "fig.show()\n"
   ]
  },
  {
   "cell_type": "code",
   "execution_count": 342,
   "metadata": {},
   "outputs": [],
   "source": [
    "# A. Percentile Thresholds\n",
    "# Low performers: bottom 25% (Q1)\n",
    "\n",
    "# High performers: top 25% (Q3)\n",
    "\n",
    "q1 = rev_share_order['rev_%'].quantile(0.25)\n",
    "q3 = rev_share_order['rev_%'].quantile(0.75)\n",
    "\n",
    "def label_performance(value):\n",
    "    if value <= q1:\n",
    "        return 'Low'\n",
    "    elif value >= q3:\n",
    "        return 'High'\n",
    "    else:\n",
    "        return 'Medium'\n",
    "\n",
    "rev_share_order['PerformanceLabel'] = rev_share_order['rev_%'].apply(label_performance)\n"
   ]
  },
  {
   "cell_type": "code",
   "execution_count": 343,
   "metadata": {},
   "outputs": [
    {
     "data": {
      "text/plain": [
       "PerformanceLabel\n",
       "Medium    172\n",
       "High       86\n",
       "Low        86\n",
       "Name: count, dtype: int64"
      ]
     },
     "execution_count": 343,
     "metadata": {},
     "output_type": "execute_result"
    }
   ],
   "source": [
    "rev_share_order['PerformanceLabel'].value_counts()\n"
   ]
  },
  {
   "cell_type": "code",
   "execution_count": 349,
   "metadata": {},
   "outputs": [
    {
     "data": {
      "text/html": [
       "<div>\n",
       "<style scoped>\n",
       "    .dataframe tbody tr th:only-of-type {\n",
       "        vertical-align: middle;\n",
       "    }\n",
       "\n",
       "    .dataframe tbody tr th {\n",
       "        vertical-align: top;\n",
       "    }\n",
       "\n",
       "    .dataframe thead th {\n",
       "        text-align: right;\n",
       "    }\n",
       "</style>\n",
       "<table border=\"1\" class=\"dataframe\">\n",
       "  <thead>\n",
       "    <tr style=\"text-align: right;\">\n",
       "      <th></th>\n",
       "      <th>PerformanceLabel</th>\n",
       "      <th>OrderMode</th>\n",
       "      <th>StoreID</th>\n",
       "    </tr>\n",
       "  </thead>\n",
       "  <tbody>\n",
       "    <tr>\n",
       "      <th>0</th>\n",
       "      <td>High</td>\n",
       "      <td>DoorDash</td>\n",
       "      <td>9</td>\n",
       "    </tr>\n",
       "    <tr>\n",
       "      <th>1</th>\n",
       "      <td>High</td>\n",
       "      <td>Mobile</td>\n",
       "      <td>61</td>\n",
       "    </tr>\n",
       "    <tr>\n",
       "      <th>2</th>\n",
       "      <td>High</td>\n",
       "      <td>Website</td>\n",
       "      <td>16</td>\n",
       "    </tr>\n",
       "    <tr>\n",
       "      <th>3</th>\n",
       "      <td>Low</td>\n",
       "      <td>Grubhub</td>\n",
       "      <td>40</td>\n",
       "    </tr>\n",
       "    <tr>\n",
       "      <th>4</th>\n",
       "      <td>Low</td>\n",
       "      <td>UberEats</td>\n",
       "      <td>46</td>\n",
       "    </tr>\n",
       "    <tr>\n",
       "      <th>5</th>\n",
       "      <td>Medium</td>\n",
       "      <td>DoorDash</td>\n",
       "      <td>67</td>\n",
       "    </tr>\n",
       "    <tr>\n",
       "      <th>6</th>\n",
       "      <td>Medium</td>\n",
       "      <td>Grubhub</td>\n",
       "      <td>3</td>\n",
       "    </tr>\n",
       "    <tr>\n",
       "      <th>7</th>\n",
       "      <td>Medium</td>\n",
       "      <td>Mobile</td>\n",
       "      <td>15</td>\n",
       "    </tr>\n",
       "    <tr>\n",
       "      <th>8</th>\n",
       "      <td>Medium</td>\n",
       "      <td>UberEats</td>\n",
       "      <td>27</td>\n",
       "    </tr>\n",
       "    <tr>\n",
       "      <th>9</th>\n",
       "      <td>Medium</td>\n",
       "      <td>Website</td>\n",
       "      <td>60</td>\n",
       "    </tr>\n",
       "  </tbody>\n",
       "</table>\n",
       "</div>"
      ],
      "text/plain": [
       "  PerformanceLabel OrderMode  StoreID\n",
       "0             High  DoorDash        9\n",
       "1             High    Mobile       61\n",
       "2             High   Website       16\n",
       "3              Low   Grubhub       40\n",
       "4              Low  UberEats       46\n",
       "5           Medium  DoorDash       67\n",
       "6           Medium   Grubhub        3\n",
       "7           Medium    Mobile       15\n",
       "8           Medium  UberEats       27\n",
       "9           Medium   Website       60"
      ]
     },
     "execution_count": 349,
     "metadata": {},
     "output_type": "execute_result"
    }
   ],
   "source": [
    "rev_share_order.groupby(['PerformanceLabel','OrderMode'])['StoreID'].count().reset_index()\n"
   ]
  },
  {
   "cell_type": "code",
   "execution_count": 346,
   "metadata": {},
   "outputs": [
    {
     "data": {
      "application/vnd.plotly.v1+json": {
       "config": {
        "plotlyServerURL": "https://plot.ly"
       },
       "data": [
        {
         "link": {
          "source": {
           "bdata": "AAABAw==",
           "dtype": "i1"
          },
          "target": {
           "bdata": "AQMCBA==",
           "dtype": "i1"
          },
          "value": {
           "bdata": "KC4oLg==",
           "dtype": "i1"
          }
         },
         "node": {
          "color": "blue",
          "label": [
           "LC",
           "Grubhub",
           "40 Stores",
           "UberEats",
           "46 Stores"
          ],
          "line": {
           "color": "black",
           "width": 0.5
          },
          "pad": 15,
          "thickness": 20
         },
         "type": "sankey"
        }
       ],
       "layout": {
        "font": {
         "size": 10
        },
        "template": {
         "data": {
          "bar": [
           {
            "error_x": {
             "color": "#2a3f5f"
            },
            "error_y": {
             "color": "#2a3f5f"
            },
            "marker": {
             "line": {
              "color": "#E5ECF6",
              "width": 0.5
             },
             "pattern": {
              "fillmode": "overlay",
              "size": 10,
              "solidity": 0.2
             }
            },
            "type": "bar"
           }
          ],
          "barpolar": [
           {
            "marker": {
             "line": {
              "color": "#E5ECF6",
              "width": 0.5
             },
             "pattern": {
              "fillmode": "overlay",
              "size": 10,
              "solidity": 0.2
             }
            },
            "type": "barpolar"
           }
          ],
          "carpet": [
           {
            "aaxis": {
             "endlinecolor": "#2a3f5f",
             "gridcolor": "white",
             "linecolor": "white",
             "minorgridcolor": "white",
             "startlinecolor": "#2a3f5f"
            },
            "baxis": {
             "endlinecolor": "#2a3f5f",
             "gridcolor": "white",
             "linecolor": "white",
             "minorgridcolor": "white",
             "startlinecolor": "#2a3f5f"
            },
            "type": "carpet"
           }
          ],
          "choropleth": [
           {
            "colorbar": {
             "outlinewidth": 0,
             "ticks": ""
            },
            "type": "choropleth"
           }
          ],
          "contour": [
           {
            "colorbar": {
             "outlinewidth": 0,
             "ticks": ""
            },
            "colorscale": [
             [
              0,
              "#0d0887"
             ],
             [
              0.1111111111111111,
              "#46039f"
             ],
             [
              0.2222222222222222,
              "#7201a8"
             ],
             [
              0.3333333333333333,
              "#9c179e"
             ],
             [
              0.4444444444444444,
              "#bd3786"
             ],
             [
              0.5555555555555556,
              "#d8576b"
             ],
             [
              0.6666666666666666,
              "#ed7953"
             ],
             [
              0.7777777777777778,
              "#fb9f3a"
             ],
             [
              0.8888888888888888,
              "#fdca26"
             ],
             [
              1,
              "#f0f921"
             ]
            ],
            "type": "contour"
           }
          ],
          "contourcarpet": [
           {
            "colorbar": {
             "outlinewidth": 0,
             "ticks": ""
            },
            "type": "contourcarpet"
           }
          ],
          "heatmap": [
           {
            "colorbar": {
             "outlinewidth": 0,
             "ticks": ""
            },
            "colorscale": [
             [
              0,
              "#0d0887"
             ],
             [
              0.1111111111111111,
              "#46039f"
             ],
             [
              0.2222222222222222,
              "#7201a8"
             ],
             [
              0.3333333333333333,
              "#9c179e"
             ],
             [
              0.4444444444444444,
              "#bd3786"
             ],
             [
              0.5555555555555556,
              "#d8576b"
             ],
             [
              0.6666666666666666,
              "#ed7953"
             ],
             [
              0.7777777777777778,
              "#fb9f3a"
             ],
             [
              0.8888888888888888,
              "#fdca26"
             ],
             [
              1,
              "#f0f921"
             ]
            ],
            "type": "heatmap"
           }
          ],
          "histogram": [
           {
            "marker": {
             "pattern": {
              "fillmode": "overlay",
              "size": 10,
              "solidity": 0.2
             }
            },
            "type": "histogram"
           }
          ],
          "histogram2d": [
           {
            "colorbar": {
             "outlinewidth": 0,
             "ticks": ""
            },
            "colorscale": [
             [
              0,
              "#0d0887"
             ],
             [
              0.1111111111111111,
              "#46039f"
             ],
             [
              0.2222222222222222,
              "#7201a8"
             ],
             [
              0.3333333333333333,
              "#9c179e"
             ],
             [
              0.4444444444444444,
              "#bd3786"
             ],
             [
              0.5555555555555556,
              "#d8576b"
             ],
             [
              0.6666666666666666,
              "#ed7953"
             ],
             [
              0.7777777777777778,
              "#fb9f3a"
             ],
             [
              0.8888888888888888,
              "#fdca26"
             ],
             [
              1,
              "#f0f921"
             ]
            ],
            "type": "histogram2d"
           }
          ],
          "histogram2dcontour": [
           {
            "colorbar": {
             "outlinewidth": 0,
             "ticks": ""
            },
            "colorscale": [
             [
              0,
              "#0d0887"
             ],
             [
              0.1111111111111111,
              "#46039f"
             ],
             [
              0.2222222222222222,
              "#7201a8"
             ],
             [
              0.3333333333333333,
              "#9c179e"
             ],
             [
              0.4444444444444444,
              "#bd3786"
             ],
             [
              0.5555555555555556,
              "#d8576b"
             ],
             [
              0.6666666666666666,
              "#ed7953"
             ],
             [
              0.7777777777777778,
              "#fb9f3a"
             ],
             [
              0.8888888888888888,
              "#fdca26"
             ],
             [
              1,
              "#f0f921"
             ]
            ],
            "type": "histogram2dcontour"
           }
          ],
          "mesh3d": [
           {
            "colorbar": {
             "outlinewidth": 0,
             "ticks": ""
            },
            "type": "mesh3d"
           }
          ],
          "parcoords": [
           {
            "line": {
             "colorbar": {
              "outlinewidth": 0,
              "ticks": ""
             }
            },
            "type": "parcoords"
           }
          ],
          "pie": [
           {
            "automargin": true,
            "type": "pie"
           }
          ],
          "scatter": [
           {
            "fillpattern": {
             "fillmode": "overlay",
             "size": 10,
             "solidity": 0.2
            },
            "type": "scatter"
           }
          ],
          "scatter3d": [
           {
            "line": {
             "colorbar": {
              "outlinewidth": 0,
              "ticks": ""
             }
            },
            "marker": {
             "colorbar": {
              "outlinewidth": 0,
              "ticks": ""
             }
            },
            "type": "scatter3d"
           }
          ],
          "scattercarpet": [
           {
            "marker": {
             "colorbar": {
              "outlinewidth": 0,
              "ticks": ""
             }
            },
            "type": "scattercarpet"
           }
          ],
          "scattergeo": [
           {
            "marker": {
             "colorbar": {
              "outlinewidth": 0,
              "ticks": ""
             }
            },
            "type": "scattergeo"
           }
          ],
          "scattergl": [
           {
            "marker": {
             "colorbar": {
              "outlinewidth": 0,
              "ticks": ""
             }
            },
            "type": "scattergl"
           }
          ],
          "scattermap": [
           {
            "marker": {
             "colorbar": {
              "outlinewidth": 0,
              "ticks": ""
             }
            },
            "type": "scattermap"
           }
          ],
          "scattermapbox": [
           {
            "marker": {
             "colorbar": {
              "outlinewidth": 0,
              "ticks": ""
             }
            },
            "type": "scattermapbox"
           }
          ],
          "scatterpolar": [
           {
            "marker": {
             "colorbar": {
              "outlinewidth": 0,
              "ticks": ""
             }
            },
            "type": "scatterpolar"
           }
          ],
          "scatterpolargl": [
           {
            "marker": {
             "colorbar": {
              "outlinewidth": 0,
              "ticks": ""
             }
            },
            "type": "scatterpolargl"
           }
          ],
          "scatterternary": [
           {
            "marker": {
             "colorbar": {
              "outlinewidth": 0,
              "ticks": ""
             }
            },
            "type": "scatterternary"
           }
          ],
          "surface": [
           {
            "colorbar": {
             "outlinewidth": 0,
             "ticks": ""
            },
            "colorscale": [
             [
              0,
              "#0d0887"
             ],
             [
              0.1111111111111111,
              "#46039f"
             ],
             [
              0.2222222222222222,
              "#7201a8"
             ],
             [
              0.3333333333333333,
              "#9c179e"
             ],
             [
              0.4444444444444444,
              "#bd3786"
             ],
             [
              0.5555555555555556,
              "#d8576b"
             ],
             [
              0.6666666666666666,
              "#ed7953"
             ],
             [
              0.7777777777777778,
              "#fb9f3a"
             ],
             [
              0.8888888888888888,
              "#fdca26"
             ],
             [
              1,
              "#f0f921"
             ]
            ],
            "type": "surface"
           }
          ],
          "table": [
           {
            "cells": {
             "fill": {
              "color": "#EBF0F8"
             },
             "line": {
              "color": "white"
             }
            },
            "header": {
             "fill": {
              "color": "#C8D4E3"
             },
             "line": {
              "color": "white"
             }
            },
            "type": "table"
           }
          ]
         },
         "layout": {
          "annotationdefaults": {
           "arrowcolor": "#2a3f5f",
           "arrowhead": 0,
           "arrowwidth": 1
          },
          "autotypenumbers": "strict",
          "coloraxis": {
           "colorbar": {
            "outlinewidth": 0,
            "ticks": ""
           }
          },
          "colorscale": {
           "diverging": [
            [
             0,
             "#8e0152"
            ],
            [
             0.1,
             "#c51b7d"
            ],
            [
             0.2,
             "#de77ae"
            ],
            [
             0.3,
             "#f1b6da"
            ],
            [
             0.4,
             "#fde0ef"
            ],
            [
             0.5,
             "#f7f7f7"
            ],
            [
             0.6,
             "#e6f5d0"
            ],
            [
             0.7,
             "#b8e186"
            ],
            [
             0.8,
             "#7fbc41"
            ],
            [
             0.9,
             "#4d9221"
            ],
            [
             1,
             "#276419"
            ]
           ],
           "sequential": [
            [
             0,
             "#0d0887"
            ],
            [
             0.1111111111111111,
             "#46039f"
            ],
            [
             0.2222222222222222,
             "#7201a8"
            ],
            [
             0.3333333333333333,
             "#9c179e"
            ],
            [
             0.4444444444444444,
             "#bd3786"
            ],
            [
             0.5555555555555556,
             "#d8576b"
            ],
            [
             0.6666666666666666,
             "#ed7953"
            ],
            [
             0.7777777777777778,
             "#fb9f3a"
            ],
            [
             0.8888888888888888,
             "#fdca26"
            ],
            [
             1,
             "#f0f921"
            ]
           ],
           "sequentialminus": [
            [
             0,
             "#0d0887"
            ],
            [
             0.1111111111111111,
             "#46039f"
            ],
            [
             0.2222222222222222,
             "#7201a8"
            ],
            [
             0.3333333333333333,
             "#9c179e"
            ],
            [
             0.4444444444444444,
             "#bd3786"
            ],
            [
             0.5555555555555556,
             "#d8576b"
            ],
            [
             0.6666666666666666,
             "#ed7953"
            ],
            [
             0.7777777777777778,
             "#fb9f3a"
            ],
            [
             0.8888888888888888,
             "#fdca26"
            ],
            [
             1,
             "#f0f921"
            ]
           ]
          },
          "colorway": [
           "#636efa",
           "#EF553B",
           "#00cc96",
           "#ab63fa",
           "#FFA15A",
           "#19d3f3",
           "#FF6692",
           "#B6E880",
           "#FF97FF",
           "#FECB52"
          ],
          "font": {
           "color": "#2a3f5f"
          },
          "geo": {
           "bgcolor": "white",
           "lakecolor": "white",
           "landcolor": "#E5ECF6",
           "showlakes": true,
           "showland": true,
           "subunitcolor": "white"
          },
          "hoverlabel": {
           "align": "left"
          },
          "hovermode": "closest",
          "mapbox": {
           "style": "light"
          },
          "paper_bgcolor": "white",
          "plot_bgcolor": "#E5ECF6",
          "polar": {
           "angularaxis": {
            "gridcolor": "white",
            "linecolor": "white",
            "ticks": ""
           },
           "bgcolor": "#E5ECF6",
           "radialaxis": {
            "gridcolor": "white",
            "linecolor": "white",
            "ticks": ""
           }
          },
          "scene": {
           "xaxis": {
            "backgroundcolor": "#E5ECF6",
            "gridcolor": "white",
            "gridwidth": 2,
            "linecolor": "white",
            "showbackground": true,
            "ticks": "",
            "zerolinecolor": "white"
           },
           "yaxis": {
            "backgroundcolor": "#E5ECF6",
            "gridcolor": "white",
            "gridwidth": 2,
            "linecolor": "white",
            "showbackground": true,
            "ticks": "",
            "zerolinecolor": "white"
           },
           "zaxis": {
            "backgroundcolor": "#E5ECF6",
            "gridcolor": "white",
            "gridwidth": 2,
            "linecolor": "white",
            "showbackground": true,
            "ticks": "",
            "zerolinecolor": "white"
           }
          },
          "shapedefaults": {
           "line": {
            "color": "#2a3f5f"
           }
          },
          "ternary": {
           "aaxis": {
            "gridcolor": "white",
            "linecolor": "white",
            "ticks": ""
           },
           "baxis": {
            "gridcolor": "white",
            "linecolor": "white",
            "ticks": ""
           },
           "bgcolor": "#E5ECF6",
           "caxis": {
            "gridcolor": "white",
            "linecolor": "white",
            "ticks": ""
           }
          },
          "title": {
           "x": 0.05
          },
          "xaxis": {
           "automargin": true,
           "gridcolor": "white",
           "linecolor": "white",
           "ticks": "",
           "title": {
            "standoff": 15
           },
           "zerolinecolor": "white",
           "zerolinewidth": 2
          },
          "yaxis": {
           "automargin": true,
           "gridcolor": "white",
           "linecolor": "white",
           "ticks": "",
           "title": {
            "standoff": 15
           },
           "zerolinecolor": "white",
           "zerolinewidth": 2
          }
         }
        },
        "title": {
         "text": "Count of Low-Performing Stores by Order Mode LC"
        }
       }
      }
     },
     "metadata": {},
     "output_type": "display_data"
    }
   ],
   "source": [
    "\n",
    "\n",
    "aux=rev_share_order[rev_share_order['PerformanceLabel']=='Low']\n",
    "\n",
    "\n",
    "less_rev_share_unit_Count(aux)\n"
   ]
  },
  {
   "cell_type": "code",
   "execution_count": 269,
   "metadata": {},
   "outputs": [
    {
     "data": {
      "text/html": [
       "<div>\n",
       "<style scoped>\n",
       "    .dataframe tbody tr th:only-of-type {\n",
       "        vertical-align: middle;\n",
       "    }\n",
       "\n",
       "    .dataframe tbody tr th {\n",
       "        vertical-align: top;\n",
       "    }\n",
       "\n",
       "    .dataframe thead th {\n",
       "        text-align: right;\n",
       "    }\n",
       "</style>\n",
       "<table border=\"1\" class=\"dataframe\">\n",
       "  <thead>\n",
       "    <tr style=\"text-align: right;\">\n",
       "      <th></th>\n",
       "      <th>Brand</th>\n",
       "      <th>StoreID</th>\n",
       "      <th>OrderMode</th>\n",
       "      <th>revenue</th>\n",
       "      <th>rev_%</th>\n",
       "    </tr>\n",
       "  </thead>\n",
       "  <tbody>\n",
       "    <tr>\n",
       "      <th>1</th>\n",
       "      <td>LC</td>\n",
       "      <td>01389-00001</td>\n",
       "      <td>Grubhub</td>\n",
       "      <td>1222.01</td>\n",
       "      <td>0.0</td>\n",
       "    </tr>\n",
       "    <tr>\n",
       "      <th>3</th>\n",
       "      <td>LC</td>\n",
       "      <td>01389-00001</td>\n",
       "      <td>UberEats</td>\n",
       "      <td>18098.01</td>\n",
       "      <td>0.0</td>\n",
       "    </tr>\n",
       "  </tbody>\n",
       "</table>\n",
       "</div>"
      ],
      "text/plain": [
       "  Brand      StoreID OrderMode   revenue  rev_%\n",
       "1    LC  01389-00001   Grubhub   1222.01    0.0\n",
       "3    LC  01389-00001  UberEats  18098.01    0.0"
      ]
     },
     "execution_count": 269,
     "metadata": {},
     "output_type": "execute_result"
    }
   ],
   "source": [
    "data.head(2)\n"
   ]
  },
  {
   "cell_type": "code",
   "execution_count": 307,
   "metadata": {},
   "outputs": [
    {
     "name": "stderr",
     "output_type": "stream",
     "text": [
      "/var/folders/lg/b8pw7x296y397cn0g302yt680000gp/T/ipykernel_15637/1887137023.py:15: SettingWithCopyWarning:\n",
      "\n",
      "\n",
      "A value is trying to be set on a copy of a slice from a DataFrame.\n",
      "Try using .loc[row_indexer,col_indexer] = value instead\n",
      "\n",
      "See the caveats in the documentation: https://pandas.pydata.org/pandas-docs/stable/user_guide/indexing.html#returning-a-view-versus-a-copy\n",
      "\n"
     ]
    },
    {
     "data": {
      "text/html": [
       "<div>\n",
       "<style scoped>\n",
       "    .dataframe tbody tr th:only-of-type {\n",
       "        vertical-align: middle;\n",
       "    }\n",
       "\n",
       "    .dataframe tbody tr th {\n",
       "        vertical-align: top;\n",
       "    }\n",
       "\n",
       "    .dataframe thead th {\n",
       "        text-align: right;\n",
       "    }\n",
       "</style>\n",
       "<table border=\"1\" class=\"dataframe\">\n",
       "  <thead>\n",
       "    <tr style=\"text-align: right;\">\n",
       "      <th></th>\n",
       "      <th>Brand</th>\n",
       "      <th>StoreID</th>\n",
       "      <th>OrderMode</th>\n",
       "      <th>revenue</th>\n",
       "      <th>rev_%</th>\n",
       "      <th>PerformanceLabel</th>\n",
       "      <th>ST</th>\n",
       "      <th>store_id_formatted</th>\n",
       "      <th>City</th>\n",
       "      <th>Zone</th>\n",
       "      <th>Latitude</th>\n",
       "      <th>Longitude</th>\n",
       "    </tr>\n",
       "  </thead>\n",
       "  <tbody>\n",
       "    <tr>\n",
       "      <th>0</th>\n",
       "      <td>LC</td>\n",
       "      <td>03222-00036</td>\n",
       "      <td>Mobile</td>\n",
       "      <td>553560.40</td>\n",
       "      <td>1.228648</td>\n",
       "      <td>High</td>\n",
       "      <td>NC</td>\n",
       "      <td>03222-00036</td>\n",
       "      <td>Charlotte</td>\n",
       "      <td>3222</td>\n",
       "      <td>35.212489</td>\n",
       "      <td>-80.690501</td>\n",
       "    </tr>\n",
       "    <tr>\n",
       "      <th>1</th>\n",
       "      <td>LC</td>\n",
       "      <td>03222-00026</td>\n",
       "      <td>Mobile</td>\n",
       "      <td>548029.18</td>\n",
       "      <td>1.216372</td>\n",
       "      <td>High</td>\n",
       "      <td>KS</td>\n",
       "      <td>03222-00026</td>\n",
       "      <td>Manhattan</td>\n",
       "      <td>3222</td>\n",
       "      <td>39.191931</td>\n",
       "      <td>-96.608682</td>\n",
       "    </tr>\n",
       "    <tr>\n",
       "      <th>2</th>\n",
       "      <td>LC</td>\n",
       "      <td>03222-00015</td>\n",
       "      <td>Mobile</td>\n",
       "      <td>521593.97</td>\n",
       "      <td>1.157698</td>\n",
       "      <td>High</td>\n",
       "      <td>NM</td>\n",
       "      <td>03222-00015</td>\n",
       "      <td>Hobbs</td>\n",
       "      <td>3222</td>\n",
       "      <td>32.726233</td>\n",
       "      <td>-103.143932</td>\n",
       "    </tr>\n",
       "    <tr>\n",
       "      <th>3</th>\n",
       "      <td>LC</td>\n",
       "      <td>01826-00002</td>\n",
       "      <td>Mobile</td>\n",
       "      <td>435204.57</td>\n",
       "      <td>0.965953</td>\n",
       "      <td>High</td>\n",
       "      <td>OK</td>\n",
       "      <td>01826-00002</td>\n",
       "      <td>Durant</td>\n",
       "      <td>1826</td>\n",
       "      <td>33.998580</td>\n",
       "      <td>-96.411164</td>\n",
       "    </tr>\n",
       "    <tr>\n",
       "      <th>4</th>\n",
       "      <td>LC</td>\n",
       "      <td>01893-00001</td>\n",
       "      <td>Mobile</td>\n",
       "      <td>427600.27</td>\n",
       "      <td>0.949075</td>\n",
       "      <td>High</td>\n",
       "      <td>TX</td>\n",
       "      <td>01893-00001</td>\n",
       "      <td>Portland</td>\n",
       "      <td>1893</td>\n",
       "      <td>27.890488</td>\n",
       "      <td>-97.310698</td>\n",
       "    </tr>\n",
       "  </tbody>\n",
       "</table>\n",
       "</div>"
      ],
      "text/plain": [
       "  Brand      StoreID OrderMode    revenue     rev_% PerformanceLabel  ST  \\\n",
       "0    LC  03222-00036    Mobile  553560.40  1.228648             High  NC   \n",
       "1    LC  03222-00026    Mobile  548029.18  1.216372             High  KS   \n",
       "2    LC  03222-00015    Mobile  521593.97  1.157698             High  NM   \n",
       "3    LC  01826-00002    Mobile  435204.57  0.965953             High  OK   \n",
       "4    LC  01893-00001    Mobile  427600.27  0.949075             High  TX   \n",
       "\n",
       "  store_id_formatted       City  Zone   Latitude   Longitude  \n",
       "0        03222-00036  Charlotte  3222  35.212489  -80.690501  \n",
       "1        03222-00026  Manhattan  3222  39.191931  -96.608682  \n",
       "2        03222-00015      Hobbs  3222  32.726233 -103.143932  \n",
       "3        01826-00002     Durant  1826  33.998580  -96.411164  \n",
       "4        01893-00001   Portland  1893  27.890488  -97.310698  "
      ]
     },
     "execution_count": 307,
     "metadata": {},
     "output_type": "execute_result"
    }
   ],
   "source": [
    "# LC's Ubereats and Grubhub shares almost =0 for 53, and 41 stores respectively\n",
    "# let's find stores\n",
    "\n",
    "lc_location=pd.read_excel('VIBE_LC locations.xlsx')\n",
    "# Ensure the column is float (if it isn't already)\n",
    "lc_location['Franchise Store'] = lc_location['Franchise Store'].astype(float)\n",
    "\n",
    "# Split the number into integer and decimal parts\n",
    "lc_location['store_id_formatted'] =lc_location['Franchise Store'] .apply(\n",
    "    lambda x: f\"{int(x):05d}-{int(round((x - int(x)) * 10000)):05d}\"\n",
    ")\n",
    "lc_location['store_id_formatted'].unique()\n",
    "\n",
    "df=lc_location[['ST','store_id_formatted','City','Zone','Latitude', 'Longitude']]\n",
    "df['StoreID']=df['store_id_formatted']\n",
    "\n",
    "lc_extended=rev_share_order.merge(df,on='StoreID',how='left')\n",
    "lc_extended.head()\n"
   ]
  },
  {
   "cell_type": "code",
   "execution_count": 350,
   "metadata": {},
   "outputs": [
    {
     "name": "stderr",
     "output_type": "stream",
     "text": [
      "/var/folders/lg/b8pw7x296y397cn0g302yt680000gp/T/ipykernel_15637/1013503544.py:2: DeprecationWarning:\n",
      "\n",
      "*scatter_mapbox* is deprecated! Use *scatter_map* instead. Learn more at: https://plotly.com/python/mapbox-to-maplibre/\n",
      "\n"
     ]
    },
    {
     "data": {
      "application/vnd.plotly.v1+json": {
       "config": {
        "plotlyServerURL": "https://plot.ly"
       },
       "data": [
        {
         "customdata": [
          [
           "01978-00002"
          ],
          [
           "01940-00011"
          ],
          [
           "01940-00007"
          ],
          [
           "01940-00009"
          ],
          [
           "01940-00021"
          ],
          [
           "01940-00001"
          ],
          [
           "03222-00038"
          ],
          [
           "03222-00045"
          ],
          [
           "03646-00003"
          ],
          [
           "03222-00036"
          ],
          [
           "03222-00046"
          ],
          [
           "03222-00034"
          ],
          [
           "03222-00001"
          ],
          [
           "03222-00032"
          ],
          [
           "03646-00002"
          ],
          [
           "03222-00004"
          ],
          [
           "03222-00043"
          ],
          [
           "03222-00002"
          ],
          [
           "03222-00044"
          ],
          [
           "01893-00002"
          ],
          [
           "03222-00047"
          ],
          [
           "01389-00003"
          ],
          [
           "01494-00001"
          ],
          [
           "03222-00026"
          ],
          [
           "01389-00011"
          ],
          [
           "03222-00033"
          ],
          [
           "03222-00003"
          ],
          [
           "01944-00003"
          ],
          [
           "01944-00004"
          ],
          [
           "01389-00013"
          ],
          [
           "03222-00035"
          ],
          [
           "01389-00002"
          ],
          [
           "03222-00039"
          ],
          [
           "03646-00001"
          ],
          [
           "03222-00006"
          ],
          [
           "01389-00001"
          ],
          [
           "03222-00015"
          ],
          [
           "03222-00028"
          ],
          [
           "03222-00022"
          ],
          [
           "03222-00019"
          ]
         ],
         "hovertemplate": "<b>%{hovertext}</b><br><br>OrderMode=Grubhub<br>Latitude=%{lat}<br>Longitude=%{lon}<br>StoreID=%{customdata[0]}<extra></extra>",
         "hovertext": [
          "01978-00002",
          "01940-00011",
          "01940-00007",
          "01940-00009",
          "01940-00021",
          "01940-00001",
          "03222-00038",
          "03222-00045",
          "03646-00003",
          "03222-00036",
          "03222-00046",
          "03222-00034",
          "03222-00001",
          "03222-00032",
          "03646-00002",
          "03222-00004",
          "03222-00043",
          "03222-00002",
          "03222-00044",
          "01893-00002",
          "03222-00047",
          "01389-00003",
          "01494-00001",
          "03222-00026",
          "01389-00011",
          "03222-00033",
          "03222-00003",
          "01944-00003",
          "01944-00004",
          "01389-00013",
          "03222-00035",
          "01389-00002",
          "03222-00039",
          "03646-00001",
          "03222-00006",
          "01389-00001",
          "03222-00015",
          "03222-00028",
          "03222-00022",
          "03222-00019"
         ],
         "lat": {
          "bdata": "xdTbXZVqQ0AG9h2Mn35DQDcVlutDeENAha0NBV1kQ0A4bBnmuX9DQEDPrdZie0NABE/KmmyTQUAXz4bFztpCQFfY0VL10kJAstlY1TKbQUAkezABY9VCQC3iAMhvy0FAgl4ny50HQkB4i/9814lBQGO02usn1UJArFHznOsFQkD359l3qNxCQLolNK2UC0JAcLKXGxLGQkDmW744Q409QEi5QeTj2EJA2hw1Lga7QECES8+9uUNAQLYVzjSRmENA8OnNnRqlPkBgoodxxoFBQB2vbhzx/kFAt3ZvCWYRQkBpFNKDuyNCQIi2GAJRkj5ACyK2Bbu8QUCP+0C2RLxAQCy0Sn7Kq0FAeCLIcfFpQ0BbUDoCMAJCQJyNZcLKnT9AABuLNfVcQEAj6N4/nNg/QJLjZhEPtUBAET6YZnqwQEA=",
          "dtype": "f8"
         },
         "legendgroup": "Grubhub",
         "lon": {
          "bdata": "uxrsKuxMU8D0OdK8Uz9TwFCygNkhO1PASWAFuMFHU8CwNfnegDpTwJeIQU4fNlPABlUvRAU4VMD1fFLQkF1YwMMM7Z+JVljAZcS5KzEsVMBg1DjnhU5YwNeQJQrDNVTAKaxWZyT0V8C8AsYUjClUwP3bJ9BrUljAX5B4MXD9V8DYllofW1dYwPyt1CHJ+VfA7lrTY5RPWMA5HzcvoexXwD488KsIWVjA7V5ussyCV8AhkLa95m1XwM+j4qT0JljACQ09BZ4WWMDHgxcgfSRUwEiULhA7B1jA8QCROYoHWMAZZQr8c/VXwCQI+D/WE1jA4z112aNPVMAvtSHBD4ZXwLsIwQNlC1TAHzXub3xmWMDp2t4YLPNXwLc26tK/qVfAWIMFLTbJWcBa0hg5xJ5ZwPn1XQJsIVrAVQRYmY0hWsA=",
          "dtype": "f8"
         },
         "marker": {
          "color": "#00cc96"
         },
         "mode": "markers",
         "name": "Grubhub",
         "showlegend": true,
         "subplot": "mapbox",
         "type": "scattermapbox"
        },
        {
         "customdata": [
          [
           "03222-00047"
          ],
          [
           "03222-00043"
          ],
          [
           "01826-00002"
          ],
          [
           "01389-00003"
          ],
          [
           "03222-00035"
          ],
          [
           "03222-00001"
          ],
          [
           "01893-00001"
          ],
          [
           "03222-00006"
          ],
          [
           "03222-00045"
          ],
          [
           "01826-00001"
          ],
          [
           "01944-00004"
          ],
          [
           "01389-00002"
          ],
          [
           "03222-00017"
          ],
          [
           "03646-00001"
          ],
          [
           "01494-00004"
          ],
          [
           "03222-00015"
          ],
          [
           "03222-00039"
          ],
          [
           "03222-00016"
          ],
          [
           "03222-00044"
          ],
          [
           "01944-00003"
          ],
          [
           "01389-00005"
          ],
          [
           "03222-00022"
          ],
          [
           "03222-00003"
          ],
          [
           "01389-00010"
          ],
          [
           "01389-00012"
          ],
          [
           "01389-00008"
          ],
          [
           "01494-00002"
          ],
          [
           "01944-00001"
          ],
          [
           "03222-00007"
          ],
          [
           "03222-00008"
          ],
          [
           "01494-00005"
          ],
          [
           "01944-00006"
          ],
          [
           "03222-00021"
          ],
          [
           "01826-00003"
          ],
          [
           "01389-00014"
          ],
          [
           "03222-00018"
          ],
          [
           "03222-00009"
          ],
          [
           "03222-00025"
          ],
          [
           "01944-00005"
          ],
          [
           "03646-00004"
          ],
          [
           "03222-00024"
          ],
          [
           "03222-00019"
          ],
          [
           "03222-00010"
          ],
          [
           "01826-00005"
          ],
          [
           "01389-00004"
          ],
          [
           "03222-00023"
          ]
         ],
         "hovertemplate": "<b>%{hovertext}</b><br><br>OrderMode=UberEats<br>Latitude=%{lat}<br>Longitude=%{lon}<br>StoreID=%{customdata[0]}<extra></extra>",
         "hovertext": [
          "03222-00047",
          "03222-00043",
          "01826-00002",
          "01389-00003",
          "03222-00035",
          "03222-00001",
          "01893-00001",
          "03222-00006",
          "03222-00045",
          "01826-00001",
          "01944-00004",
          "01389-00002",
          "03222-00017",
          "03646-00001",
          "01494-00004",
          "03222-00015",
          "03222-00039",
          "03222-00016",
          "03222-00044",
          "01944-00003",
          "01389-00005",
          "03222-00022",
          "03222-00003",
          "01389-00010",
          "01389-00012",
          "01389-00008",
          "01494-00002",
          "01944-00001",
          "03222-00007",
          "03222-00008",
          "01494-00005",
          "01944-00006",
          "03222-00021",
          "01826-00003",
          "01389-00014",
          "03222-00018",
          "03222-00009",
          "03222-00025",
          "01944-00005",
          "03646-00004",
          "03222-00024",
          "03222-00019",
          "03222-00010",
          "01826-00005",
          "01389-00004",
          "03222-00023"
         ],
         "lat": {
          "bdata": "SLlB5OPYQkD359l3qNxCQPdDAHjR/0BA2hw1Lga7QEALIrYFu7xBQIJeJ8udB0JA+iEoA/fjO0BbUDoCMAJCQBfPhsXO2kJAJbgRRXkYQUBpFNKDuyNCQI/7QLZEvEBAZEV8uPw2QEB4Ishx8WlDQCJpgbrUH0BAABuLNfVcQEAstEp+yqtBQI0b+J39NUFAcLKXGxLGQkC3dm8JZhFCQNlPlzTGkEBAkuNmEQ+1QEAdr24c8f5BQHFKsndBC0BAUZ/0TydEQEDr5gOxWSc+QDZgn9opwT9AwFt36S7yQUD+r8m9pYNBQFcX2GaHY0FA423w/4OeQECiSLNOiVNBQBNG+ZSNNENAB2RGNrl1QUCmO5H8WvQ/QPkUSmPia0BA0mBoZsP8QkBm478jqcNBQNNAlIxvXkJAhrCEDX5yQ0CUCfWRD5NAQBE+mGZ6sEBAglMhWPyFQkDWyO5eg3NCQL/fX9aV1EBAWQhRlJQqQEA=",
          "dtype": "f8"
         },
         "legendgroup": "UberEats",
         "lon": {
          "bdata": "PjzwqwhZWMDYllofW1dYwIAJEYNQGljA7V5ussyCV8DjPXXZo09UwCmsVmck9FfAyznheeJTWMDp2t4YLPNXwPV8UtCQXVjA4it4MB9JWMAZZQr8c/VXwC+1IcEPhlfAa7VJa6IOWsAfNe5vfGZYwASyYwyKXlnAWIMFLTbJWcC7CMEDZQtUwP7FeqwvzVnA7lrTY5RPWMDxAJE5igdYwKtiyoRx5lfA+fVdAmwhWsBIlC4QOwdYwFDmiIE3HljAxMITC2mWV8CYSMJVehlYwDfad7NKRVfA2D89FYK+V8COSzIyyXtYwJgC9a3ZKljAHVTQ7aEqV8AG4GKoZtVYwFx4f0x/C1jAS5lFQrvvV8DpF4L1GtFXwPL9PRnMGlrAxWOE9mQ2WcBH4tFeYaxYwOvYtIlBRFjAUHGlT0zUWMCCeJQM9r1XwFUEWJmNIVrAFnq5hwA7WcDHcQCfJLhXwDCBjZA94lfAAzHh+DqjWcA=",
          "dtype": "f8"
         },
         "marker": {
          "color": "#ab63fa"
         },
         "mode": "markers",
         "name": "UberEats",
         "showlegend": true,
         "subplot": "mapbox",
         "type": "scattermapbox"
        }
       ],
       "layout": {
        "height": 600,
        "legend": {
         "title": {
          "text": "OrderMode"
         },
         "tracegroupgap": 0
        },
        "mapbox": {
         "center": {
          "lat": 35.161784531784086,
          "lon": -94.3699049881808
         },
         "domain": {
          "x": [
           0,
           1
          ],
          "y": [
           0,
           1
          ]
         },
         "style": "carto-positron",
         "zoom": 4
        },
        "template": {
         "data": {
          "bar": [
           {
            "error_x": {
             "color": "#2a3f5f"
            },
            "error_y": {
             "color": "#2a3f5f"
            },
            "marker": {
             "line": {
              "color": "#E5ECF6",
              "width": 0.5
             },
             "pattern": {
              "fillmode": "overlay",
              "size": 10,
              "solidity": 0.2
             }
            },
            "type": "bar"
           }
          ],
          "barpolar": [
           {
            "marker": {
             "line": {
              "color": "#E5ECF6",
              "width": 0.5
             },
             "pattern": {
              "fillmode": "overlay",
              "size": 10,
              "solidity": 0.2
             }
            },
            "type": "barpolar"
           }
          ],
          "carpet": [
           {
            "aaxis": {
             "endlinecolor": "#2a3f5f",
             "gridcolor": "white",
             "linecolor": "white",
             "minorgridcolor": "white",
             "startlinecolor": "#2a3f5f"
            },
            "baxis": {
             "endlinecolor": "#2a3f5f",
             "gridcolor": "white",
             "linecolor": "white",
             "minorgridcolor": "white",
             "startlinecolor": "#2a3f5f"
            },
            "type": "carpet"
           }
          ],
          "choropleth": [
           {
            "colorbar": {
             "outlinewidth": 0,
             "ticks": ""
            },
            "type": "choropleth"
           }
          ],
          "contour": [
           {
            "colorbar": {
             "outlinewidth": 0,
             "ticks": ""
            },
            "colorscale": [
             [
              0,
              "#0d0887"
             ],
             [
              0.1111111111111111,
              "#46039f"
             ],
             [
              0.2222222222222222,
              "#7201a8"
             ],
             [
              0.3333333333333333,
              "#9c179e"
             ],
             [
              0.4444444444444444,
              "#bd3786"
             ],
             [
              0.5555555555555556,
              "#d8576b"
             ],
             [
              0.6666666666666666,
              "#ed7953"
             ],
             [
              0.7777777777777778,
              "#fb9f3a"
             ],
             [
              0.8888888888888888,
              "#fdca26"
             ],
             [
              1,
              "#f0f921"
             ]
            ],
            "type": "contour"
           }
          ],
          "contourcarpet": [
           {
            "colorbar": {
             "outlinewidth": 0,
             "ticks": ""
            },
            "type": "contourcarpet"
           }
          ],
          "heatmap": [
           {
            "colorbar": {
             "outlinewidth": 0,
             "ticks": ""
            },
            "colorscale": [
             [
              0,
              "#0d0887"
             ],
             [
              0.1111111111111111,
              "#46039f"
             ],
             [
              0.2222222222222222,
              "#7201a8"
             ],
             [
              0.3333333333333333,
              "#9c179e"
             ],
             [
              0.4444444444444444,
              "#bd3786"
             ],
             [
              0.5555555555555556,
              "#d8576b"
             ],
             [
              0.6666666666666666,
              "#ed7953"
             ],
             [
              0.7777777777777778,
              "#fb9f3a"
             ],
             [
              0.8888888888888888,
              "#fdca26"
             ],
             [
              1,
              "#f0f921"
             ]
            ],
            "type": "heatmap"
           }
          ],
          "histogram": [
           {
            "marker": {
             "pattern": {
              "fillmode": "overlay",
              "size": 10,
              "solidity": 0.2
             }
            },
            "type": "histogram"
           }
          ],
          "histogram2d": [
           {
            "colorbar": {
             "outlinewidth": 0,
             "ticks": ""
            },
            "colorscale": [
             [
              0,
              "#0d0887"
             ],
             [
              0.1111111111111111,
              "#46039f"
             ],
             [
              0.2222222222222222,
              "#7201a8"
             ],
             [
              0.3333333333333333,
              "#9c179e"
             ],
             [
              0.4444444444444444,
              "#bd3786"
             ],
             [
              0.5555555555555556,
              "#d8576b"
             ],
             [
              0.6666666666666666,
              "#ed7953"
             ],
             [
              0.7777777777777778,
              "#fb9f3a"
             ],
             [
              0.8888888888888888,
              "#fdca26"
             ],
             [
              1,
              "#f0f921"
             ]
            ],
            "type": "histogram2d"
           }
          ],
          "histogram2dcontour": [
           {
            "colorbar": {
             "outlinewidth": 0,
             "ticks": ""
            },
            "colorscale": [
             [
              0,
              "#0d0887"
             ],
             [
              0.1111111111111111,
              "#46039f"
             ],
             [
              0.2222222222222222,
              "#7201a8"
             ],
             [
              0.3333333333333333,
              "#9c179e"
             ],
             [
              0.4444444444444444,
              "#bd3786"
             ],
             [
              0.5555555555555556,
              "#d8576b"
             ],
             [
              0.6666666666666666,
              "#ed7953"
             ],
             [
              0.7777777777777778,
              "#fb9f3a"
             ],
             [
              0.8888888888888888,
              "#fdca26"
             ],
             [
              1,
              "#f0f921"
             ]
            ],
            "type": "histogram2dcontour"
           }
          ],
          "mesh3d": [
           {
            "colorbar": {
             "outlinewidth": 0,
             "ticks": ""
            },
            "type": "mesh3d"
           }
          ],
          "parcoords": [
           {
            "line": {
             "colorbar": {
              "outlinewidth": 0,
              "ticks": ""
             }
            },
            "type": "parcoords"
           }
          ],
          "pie": [
           {
            "automargin": true,
            "type": "pie"
           }
          ],
          "scatter": [
           {
            "fillpattern": {
             "fillmode": "overlay",
             "size": 10,
             "solidity": 0.2
            },
            "type": "scatter"
           }
          ],
          "scatter3d": [
           {
            "line": {
             "colorbar": {
              "outlinewidth": 0,
              "ticks": ""
             }
            },
            "marker": {
             "colorbar": {
              "outlinewidth": 0,
              "ticks": ""
             }
            },
            "type": "scatter3d"
           }
          ],
          "scattercarpet": [
           {
            "marker": {
             "colorbar": {
              "outlinewidth": 0,
              "ticks": ""
             }
            },
            "type": "scattercarpet"
           }
          ],
          "scattergeo": [
           {
            "marker": {
             "colorbar": {
              "outlinewidth": 0,
              "ticks": ""
             }
            },
            "type": "scattergeo"
           }
          ],
          "scattergl": [
           {
            "marker": {
             "colorbar": {
              "outlinewidth": 0,
              "ticks": ""
             }
            },
            "type": "scattergl"
           }
          ],
          "scattermap": [
           {
            "marker": {
             "colorbar": {
              "outlinewidth": 0,
              "ticks": ""
             }
            },
            "type": "scattermap"
           }
          ],
          "scattermapbox": [
           {
            "marker": {
             "colorbar": {
              "outlinewidth": 0,
              "ticks": ""
             }
            },
            "type": "scattermapbox"
           }
          ],
          "scatterpolar": [
           {
            "marker": {
             "colorbar": {
              "outlinewidth": 0,
              "ticks": ""
             }
            },
            "type": "scatterpolar"
           }
          ],
          "scatterpolargl": [
           {
            "marker": {
             "colorbar": {
              "outlinewidth": 0,
              "ticks": ""
             }
            },
            "type": "scatterpolargl"
           }
          ],
          "scatterternary": [
           {
            "marker": {
             "colorbar": {
              "outlinewidth": 0,
              "ticks": ""
             }
            },
            "type": "scatterternary"
           }
          ],
          "surface": [
           {
            "colorbar": {
             "outlinewidth": 0,
             "ticks": ""
            },
            "colorscale": [
             [
              0,
              "#0d0887"
             ],
             [
              0.1111111111111111,
              "#46039f"
             ],
             [
              0.2222222222222222,
              "#7201a8"
             ],
             [
              0.3333333333333333,
              "#9c179e"
             ],
             [
              0.4444444444444444,
              "#bd3786"
             ],
             [
              0.5555555555555556,
              "#d8576b"
             ],
             [
              0.6666666666666666,
              "#ed7953"
             ],
             [
              0.7777777777777778,
              "#fb9f3a"
             ],
             [
              0.8888888888888888,
              "#fdca26"
             ],
             [
              1,
              "#f0f921"
             ]
            ],
            "type": "surface"
           }
          ],
          "table": [
           {
            "cells": {
             "fill": {
              "color": "#EBF0F8"
             },
             "line": {
              "color": "white"
             }
            },
            "header": {
             "fill": {
              "color": "#C8D4E3"
             },
             "line": {
              "color": "white"
             }
            },
            "type": "table"
           }
          ]
         },
         "layout": {
          "annotationdefaults": {
           "arrowcolor": "#2a3f5f",
           "arrowhead": 0,
           "arrowwidth": 1
          },
          "autotypenumbers": "strict",
          "coloraxis": {
           "colorbar": {
            "outlinewidth": 0,
            "ticks": ""
           }
          },
          "colorscale": {
           "diverging": [
            [
             0,
             "#8e0152"
            ],
            [
             0.1,
             "#c51b7d"
            ],
            [
             0.2,
             "#de77ae"
            ],
            [
             0.3,
             "#f1b6da"
            ],
            [
             0.4,
             "#fde0ef"
            ],
            [
             0.5,
             "#f7f7f7"
            ],
            [
             0.6,
             "#e6f5d0"
            ],
            [
             0.7,
             "#b8e186"
            ],
            [
             0.8,
             "#7fbc41"
            ],
            [
             0.9,
             "#4d9221"
            ],
            [
             1,
             "#276419"
            ]
           ],
           "sequential": [
            [
             0,
             "#0d0887"
            ],
            [
             0.1111111111111111,
             "#46039f"
            ],
            [
             0.2222222222222222,
             "#7201a8"
            ],
            [
             0.3333333333333333,
             "#9c179e"
            ],
            [
             0.4444444444444444,
             "#bd3786"
            ],
            [
             0.5555555555555556,
             "#d8576b"
            ],
            [
             0.6666666666666666,
             "#ed7953"
            ],
            [
             0.7777777777777778,
             "#fb9f3a"
            ],
            [
             0.8888888888888888,
             "#fdca26"
            ],
            [
             1,
             "#f0f921"
            ]
           ],
           "sequentialminus": [
            [
             0,
             "#0d0887"
            ],
            [
             0.1111111111111111,
             "#46039f"
            ],
            [
             0.2222222222222222,
             "#7201a8"
            ],
            [
             0.3333333333333333,
             "#9c179e"
            ],
            [
             0.4444444444444444,
             "#bd3786"
            ],
            [
             0.5555555555555556,
             "#d8576b"
            ],
            [
             0.6666666666666666,
             "#ed7953"
            ],
            [
             0.7777777777777778,
             "#fb9f3a"
            ],
            [
             0.8888888888888888,
             "#fdca26"
            ],
            [
             1,
             "#f0f921"
            ]
           ]
          },
          "colorway": [
           "#636efa",
           "#EF553B",
           "#00cc96",
           "#ab63fa",
           "#FFA15A",
           "#19d3f3",
           "#FF6692",
           "#B6E880",
           "#FF97FF",
           "#FECB52"
          ],
          "font": {
           "color": "#2a3f5f"
          },
          "geo": {
           "bgcolor": "white",
           "lakecolor": "white",
           "landcolor": "#E5ECF6",
           "showlakes": true,
           "showland": true,
           "subunitcolor": "white"
          },
          "hoverlabel": {
           "align": "left"
          },
          "hovermode": "closest",
          "mapbox": {
           "style": "light"
          },
          "paper_bgcolor": "white",
          "plot_bgcolor": "#E5ECF6",
          "polar": {
           "angularaxis": {
            "gridcolor": "white",
            "linecolor": "white",
            "ticks": ""
           },
           "bgcolor": "#E5ECF6",
           "radialaxis": {
            "gridcolor": "white",
            "linecolor": "white",
            "ticks": ""
           }
          },
          "scene": {
           "xaxis": {
            "backgroundcolor": "#E5ECF6",
            "gridcolor": "white",
            "gridwidth": 2,
            "linecolor": "white",
            "showbackground": true,
            "ticks": "",
            "zerolinecolor": "white"
           },
           "yaxis": {
            "backgroundcolor": "#E5ECF6",
            "gridcolor": "white",
            "gridwidth": 2,
            "linecolor": "white",
            "showbackground": true,
            "ticks": "",
            "zerolinecolor": "white"
           },
           "zaxis": {
            "backgroundcolor": "#E5ECF6",
            "gridcolor": "white",
            "gridwidth": 2,
            "linecolor": "white",
            "showbackground": true,
            "ticks": "",
            "zerolinecolor": "white"
           }
          },
          "shapedefaults": {
           "line": {
            "color": "#2a3f5f"
           }
          },
          "ternary": {
           "aaxis": {
            "gridcolor": "white",
            "linecolor": "white",
            "ticks": ""
           },
           "baxis": {
            "gridcolor": "white",
            "linecolor": "white",
            "ticks": ""
           },
           "bgcolor": "#E5ECF6",
           "caxis": {
            "gridcolor": "white",
            "linecolor": "white",
            "ticks": ""
           }
          },
          "title": {
           "x": 0.05
          },
          "xaxis": {
           "automargin": true,
           "gridcolor": "white",
           "linecolor": "white",
           "ticks": "",
           "title": {
            "standoff": 15
           },
           "zerolinecolor": "white",
           "zerolinewidth": 2
          },
          "yaxis": {
           "automargin": true,
           "gridcolor": "white",
           "linecolor": "white",
           "ticks": "",
           "title": {
            "standoff": 15
           },
           "zerolinecolor": "white",
           "zerolinewidth": 2
          }
         }
        },
        "title": {
         "text": "Franchise Stores Below 25th Percentile (Low Performing)"
        }
       }
      }
     },
     "metadata": {},
     "output_type": "display_data"
    }
   ],
   "source": [
    "# Step 3: Plot with Plotly Express\n",
    "fig = px.scatter_mapbox(\n",
    "    lc_extended[lc_extended['PerformanceLabel']=='Low'],\n",
    "    lat='Latitude',\n",
    "    lon='Longitude',\n",
    "    color='OrderMode',\n",
    "    hover_name='StoreID',\n",
    "    hover_data=['StoreID'],\n",
    "    zoom=4,\n",
    "    mapbox_style='carto-positron',\n",
    "    title='Franchise Stores Below 25th Percentile (Low Performing)',\n",
    "    color_discrete_map={True: 'red', False: 'blue'},\n",
    "    height=600\n",
    ")\n",
    "fig.show()\n"
   ]
  },
  {
   "cell_type": "code",
   "execution_count": 309,
   "metadata": {},
   "outputs": [
    {
     "data": {
      "text/html": [
       "<div>\n",
       "<style scoped>\n",
       "    .dataframe tbody tr th:only-of-type {\n",
       "        vertical-align: middle;\n",
       "    }\n",
       "\n",
       "    .dataframe tbody tr th {\n",
       "        vertical-align: top;\n",
       "    }\n",
       "\n",
       "    .dataframe thead th {\n",
       "        text-align: right;\n",
       "    }\n",
       "</style>\n",
       "<table border=\"1\" class=\"dataframe\">\n",
       "  <thead>\n",
       "    <tr style=\"text-align: right;\">\n",
       "      <th></th>\n",
       "      <th>Brand</th>\n",
       "      <th>StoreID</th>\n",
       "      <th>OrderMode</th>\n",
       "      <th>revenue</th>\n",
       "      <th>rev_%</th>\n",
       "      <th>PerformanceLabel</th>\n",
       "      <th>ST</th>\n",
       "      <th>store_id_formatted</th>\n",
       "      <th>City</th>\n",
       "      <th>Zone</th>\n",
       "      <th>Latitude</th>\n",
       "      <th>Longitude</th>\n",
       "    </tr>\n",
       "  </thead>\n",
       "  <tbody>\n",
       "    <tr>\n",
       "      <th>0</th>\n",
       "      <td>LC</td>\n",
       "      <td>03222-00036</td>\n",
       "      <td>Mobile</td>\n",
       "      <td>553560.40</td>\n",
       "      <td>1.228648</td>\n",
       "      <td>High</td>\n",
       "      <td>NC</td>\n",
       "      <td>03222-00036</td>\n",
       "      <td>Charlotte</td>\n",
       "      <td>3222</td>\n",
       "      <td>35.212489</td>\n",
       "      <td>-80.690501</td>\n",
       "    </tr>\n",
       "    <tr>\n",
       "      <th>1</th>\n",
       "      <td>LC</td>\n",
       "      <td>03222-00026</td>\n",
       "      <td>Mobile</td>\n",
       "      <td>548029.18</td>\n",
       "      <td>1.216372</td>\n",
       "      <td>High</td>\n",
       "      <td>KS</td>\n",
       "      <td>03222-00026</td>\n",
       "      <td>Manhattan</td>\n",
       "      <td>3222</td>\n",
       "      <td>39.191931</td>\n",
       "      <td>-96.608682</td>\n",
       "    </tr>\n",
       "    <tr>\n",
       "      <th>2</th>\n",
       "      <td>LC</td>\n",
       "      <td>03222-00015</td>\n",
       "      <td>Mobile</td>\n",
       "      <td>521593.97</td>\n",
       "      <td>1.157698</td>\n",
       "      <td>High</td>\n",
       "      <td>NM</td>\n",
       "      <td>03222-00015</td>\n",
       "      <td>Hobbs</td>\n",
       "      <td>3222</td>\n",
       "      <td>32.726233</td>\n",
       "      <td>-103.143932</td>\n",
       "    </tr>\n",
       "  </tbody>\n",
       "</table>\n",
       "</div>"
      ],
      "text/plain": [
       "  Brand      StoreID OrderMode    revenue     rev_% PerformanceLabel  ST  \\\n",
       "0    LC  03222-00036    Mobile  553560.40  1.228648             High  NC   \n",
       "1    LC  03222-00026    Mobile  548029.18  1.216372             High  KS   \n",
       "2    LC  03222-00015    Mobile  521593.97  1.157698             High  NM   \n",
       "\n",
       "  store_id_formatted       City  Zone   Latitude   Longitude  \n",
       "0        03222-00036  Charlotte  3222  35.212489  -80.690501  \n",
       "1        03222-00026  Manhattan  3222  39.191931  -96.608682  \n",
       "2        03222-00015      Hobbs  3222  32.726233 -103.143932  "
      ]
     },
     "execution_count": 309,
     "metadata": {},
     "output_type": "execute_result"
    }
   ],
   "source": [
    "top=lc_extended[lc_extended['PerformanceLabel']==\"High\"].sort_values(by='rev_%',ascending=False)[:3]\n",
    "top\n"
   ]
  },
  {
   "cell_type": "code",
   "execution_count": 353,
   "metadata": {},
   "outputs": [
    {
     "name": "stderr",
     "output_type": "stream",
     "text": [
      "/var/folders/lg/b8pw7x296y397cn0g302yt680000gp/T/ipykernel_15637/2290187449.py:1: DeprecationWarning:\n",
      "\n",
      "*scatter_mapbox* is deprecated! Use *scatter_map* instead. Learn more at: https://plotly.com/python/mapbox-to-maplibre/\n",
      "\n"
     ]
    },
    {
     "data": {
      "application/vnd.plotly.v1+json": {
       "config": {
        "plotlyServerURL": "https://plot.ly"
       },
       "data": [
        {
         "customdata": [
          [
           "03222-00036"
          ],
          [
           "03222-00026"
          ],
          [
           "03222-00015"
          ]
         ],
         "hovertemplate": "<b>%{hovertext}</b><br><br>OrderMode=Mobile<br>Latitude=%{lat}<br>Longitude=%{lon}<br>StoreID=%{customdata[0]}<extra></extra>",
         "hovertext": [
          "03222-00036",
          "03222-00026",
          "03222-00015"
         ],
         "lat": {
          "bdata": "stlY1TKbQUC2Fc40kZhDQAAbizX1XEBA",
          "dtype": "f8"
         },
         "legendgroup": "Mobile",
         "lon": {
          "bdata": "ZcS5KzEsVMDPo+Kk9CZYwFiDBS02yVnA",
          "dtype": "f8"
         },
         "marker": {
          "color": "#00cc96"
         },
         "mode": "markers",
         "name": "Mobile",
         "showlegend": true,
         "subplot": "mapbox",
         "type": "scattermapbox"
        }
       ],
       "layout": {
        "height": 600,
        "legend": {
         "title": {
          "text": "OrderMode"
         },
         "tracegroupgap": 0
        },
        "mapbox": {
         "center": {
          "lat": 35.71021778168167,
          "lon": -93.48103822330637
         },
         "domain": {
          "x": [
           0,
           1
          ],
          "y": [
           0,
           1
          ]
         },
         "style": "carto-positron",
         "zoom": 4
        },
        "template": {
         "data": {
          "bar": [
           {
            "error_x": {
             "color": "#2a3f5f"
            },
            "error_y": {
             "color": "#2a3f5f"
            },
            "marker": {
             "line": {
              "color": "#E5ECF6",
              "width": 0.5
             },
             "pattern": {
              "fillmode": "overlay",
              "size": 10,
              "solidity": 0.2
             }
            },
            "type": "bar"
           }
          ],
          "barpolar": [
           {
            "marker": {
             "line": {
              "color": "#E5ECF6",
              "width": 0.5
             },
             "pattern": {
              "fillmode": "overlay",
              "size": 10,
              "solidity": 0.2
             }
            },
            "type": "barpolar"
           }
          ],
          "carpet": [
           {
            "aaxis": {
             "endlinecolor": "#2a3f5f",
             "gridcolor": "white",
             "linecolor": "white",
             "minorgridcolor": "white",
             "startlinecolor": "#2a3f5f"
            },
            "baxis": {
             "endlinecolor": "#2a3f5f",
             "gridcolor": "white",
             "linecolor": "white",
             "minorgridcolor": "white",
             "startlinecolor": "#2a3f5f"
            },
            "type": "carpet"
           }
          ],
          "choropleth": [
           {
            "colorbar": {
             "outlinewidth": 0,
             "ticks": ""
            },
            "type": "choropleth"
           }
          ],
          "contour": [
           {
            "colorbar": {
             "outlinewidth": 0,
             "ticks": ""
            },
            "colorscale": [
             [
              0,
              "#0d0887"
             ],
             [
              0.1111111111111111,
              "#46039f"
             ],
             [
              0.2222222222222222,
              "#7201a8"
             ],
             [
              0.3333333333333333,
              "#9c179e"
             ],
             [
              0.4444444444444444,
              "#bd3786"
             ],
             [
              0.5555555555555556,
              "#d8576b"
             ],
             [
              0.6666666666666666,
              "#ed7953"
             ],
             [
              0.7777777777777778,
              "#fb9f3a"
             ],
             [
              0.8888888888888888,
              "#fdca26"
             ],
             [
              1,
              "#f0f921"
             ]
            ],
            "type": "contour"
           }
          ],
          "contourcarpet": [
           {
            "colorbar": {
             "outlinewidth": 0,
             "ticks": ""
            },
            "type": "contourcarpet"
           }
          ],
          "heatmap": [
           {
            "colorbar": {
             "outlinewidth": 0,
             "ticks": ""
            },
            "colorscale": [
             [
              0,
              "#0d0887"
             ],
             [
              0.1111111111111111,
              "#46039f"
             ],
             [
              0.2222222222222222,
              "#7201a8"
             ],
             [
              0.3333333333333333,
              "#9c179e"
             ],
             [
              0.4444444444444444,
              "#bd3786"
             ],
             [
              0.5555555555555556,
              "#d8576b"
             ],
             [
              0.6666666666666666,
              "#ed7953"
             ],
             [
              0.7777777777777778,
              "#fb9f3a"
             ],
             [
              0.8888888888888888,
              "#fdca26"
             ],
             [
              1,
              "#f0f921"
             ]
            ],
            "type": "heatmap"
           }
          ],
          "histogram": [
           {
            "marker": {
             "pattern": {
              "fillmode": "overlay",
              "size": 10,
              "solidity": 0.2
             }
            },
            "type": "histogram"
           }
          ],
          "histogram2d": [
           {
            "colorbar": {
             "outlinewidth": 0,
             "ticks": ""
            },
            "colorscale": [
             [
              0,
              "#0d0887"
             ],
             [
              0.1111111111111111,
              "#46039f"
             ],
             [
              0.2222222222222222,
              "#7201a8"
             ],
             [
              0.3333333333333333,
              "#9c179e"
             ],
             [
              0.4444444444444444,
              "#bd3786"
             ],
             [
              0.5555555555555556,
              "#d8576b"
             ],
             [
              0.6666666666666666,
              "#ed7953"
             ],
             [
              0.7777777777777778,
              "#fb9f3a"
             ],
             [
              0.8888888888888888,
              "#fdca26"
             ],
             [
              1,
              "#f0f921"
             ]
            ],
            "type": "histogram2d"
           }
          ],
          "histogram2dcontour": [
           {
            "colorbar": {
             "outlinewidth": 0,
             "ticks": ""
            },
            "colorscale": [
             [
              0,
              "#0d0887"
             ],
             [
              0.1111111111111111,
              "#46039f"
             ],
             [
              0.2222222222222222,
              "#7201a8"
             ],
             [
              0.3333333333333333,
              "#9c179e"
             ],
             [
              0.4444444444444444,
              "#bd3786"
             ],
             [
              0.5555555555555556,
              "#d8576b"
             ],
             [
              0.6666666666666666,
              "#ed7953"
             ],
             [
              0.7777777777777778,
              "#fb9f3a"
             ],
             [
              0.8888888888888888,
              "#fdca26"
             ],
             [
              1,
              "#f0f921"
             ]
            ],
            "type": "histogram2dcontour"
           }
          ],
          "mesh3d": [
           {
            "colorbar": {
             "outlinewidth": 0,
             "ticks": ""
            },
            "type": "mesh3d"
           }
          ],
          "parcoords": [
           {
            "line": {
             "colorbar": {
              "outlinewidth": 0,
              "ticks": ""
             }
            },
            "type": "parcoords"
           }
          ],
          "pie": [
           {
            "automargin": true,
            "type": "pie"
           }
          ],
          "scatter": [
           {
            "fillpattern": {
             "fillmode": "overlay",
             "size": 10,
             "solidity": 0.2
            },
            "type": "scatter"
           }
          ],
          "scatter3d": [
           {
            "line": {
             "colorbar": {
              "outlinewidth": 0,
              "ticks": ""
             }
            },
            "marker": {
             "colorbar": {
              "outlinewidth": 0,
              "ticks": ""
             }
            },
            "type": "scatter3d"
           }
          ],
          "scattercarpet": [
           {
            "marker": {
             "colorbar": {
              "outlinewidth": 0,
              "ticks": ""
             }
            },
            "type": "scattercarpet"
           }
          ],
          "scattergeo": [
           {
            "marker": {
             "colorbar": {
              "outlinewidth": 0,
              "ticks": ""
             }
            },
            "type": "scattergeo"
           }
          ],
          "scattergl": [
           {
            "marker": {
             "colorbar": {
              "outlinewidth": 0,
              "ticks": ""
             }
            },
            "type": "scattergl"
           }
          ],
          "scattermap": [
           {
            "marker": {
             "colorbar": {
              "outlinewidth": 0,
              "ticks": ""
             }
            },
            "type": "scattermap"
           }
          ],
          "scattermapbox": [
           {
            "marker": {
             "colorbar": {
              "outlinewidth": 0,
              "ticks": ""
             }
            },
            "type": "scattermapbox"
           }
          ],
          "scatterpolar": [
           {
            "marker": {
             "colorbar": {
              "outlinewidth": 0,
              "ticks": ""
             }
            },
            "type": "scatterpolar"
           }
          ],
          "scatterpolargl": [
           {
            "marker": {
             "colorbar": {
              "outlinewidth": 0,
              "ticks": ""
             }
            },
            "type": "scatterpolargl"
           }
          ],
          "scatterternary": [
           {
            "marker": {
             "colorbar": {
              "outlinewidth": 0,
              "ticks": ""
             }
            },
            "type": "scatterternary"
           }
          ],
          "surface": [
           {
            "colorbar": {
             "outlinewidth": 0,
             "ticks": ""
            },
            "colorscale": [
             [
              0,
              "#0d0887"
             ],
             [
              0.1111111111111111,
              "#46039f"
             ],
             [
              0.2222222222222222,
              "#7201a8"
             ],
             [
              0.3333333333333333,
              "#9c179e"
             ],
             [
              0.4444444444444444,
              "#bd3786"
             ],
             [
              0.5555555555555556,
              "#d8576b"
             ],
             [
              0.6666666666666666,
              "#ed7953"
             ],
             [
              0.7777777777777778,
              "#fb9f3a"
             ],
             [
              0.8888888888888888,
              "#fdca26"
             ],
             [
              1,
              "#f0f921"
             ]
            ],
            "type": "surface"
           }
          ],
          "table": [
           {
            "cells": {
             "fill": {
              "color": "#EBF0F8"
             },
             "line": {
              "color": "white"
             }
            },
            "header": {
             "fill": {
              "color": "#C8D4E3"
             },
             "line": {
              "color": "white"
             }
            },
            "type": "table"
           }
          ]
         },
         "layout": {
          "annotationdefaults": {
           "arrowcolor": "#2a3f5f",
           "arrowhead": 0,
           "arrowwidth": 1
          },
          "autotypenumbers": "strict",
          "coloraxis": {
           "colorbar": {
            "outlinewidth": 0,
            "ticks": ""
           }
          },
          "colorscale": {
           "diverging": [
            [
             0,
             "#8e0152"
            ],
            [
             0.1,
             "#c51b7d"
            ],
            [
             0.2,
             "#de77ae"
            ],
            [
             0.3,
             "#f1b6da"
            ],
            [
             0.4,
             "#fde0ef"
            ],
            [
             0.5,
             "#f7f7f7"
            ],
            [
             0.6,
             "#e6f5d0"
            ],
            [
             0.7,
             "#b8e186"
            ],
            [
             0.8,
             "#7fbc41"
            ],
            [
             0.9,
             "#4d9221"
            ],
            [
             1,
             "#276419"
            ]
           ],
           "sequential": [
            [
             0,
             "#0d0887"
            ],
            [
             0.1111111111111111,
             "#46039f"
            ],
            [
             0.2222222222222222,
             "#7201a8"
            ],
            [
             0.3333333333333333,
             "#9c179e"
            ],
            [
             0.4444444444444444,
             "#bd3786"
            ],
            [
             0.5555555555555556,
             "#d8576b"
            ],
            [
             0.6666666666666666,
             "#ed7953"
            ],
            [
             0.7777777777777778,
             "#fb9f3a"
            ],
            [
             0.8888888888888888,
             "#fdca26"
            ],
            [
             1,
             "#f0f921"
            ]
           ],
           "sequentialminus": [
            [
             0,
             "#0d0887"
            ],
            [
             0.1111111111111111,
             "#46039f"
            ],
            [
             0.2222222222222222,
             "#7201a8"
            ],
            [
             0.3333333333333333,
             "#9c179e"
            ],
            [
             0.4444444444444444,
             "#bd3786"
            ],
            [
             0.5555555555555556,
             "#d8576b"
            ],
            [
             0.6666666666666666,
             "#ed7953"
            ],
            [
             0.7777777777777778,
             "#fb9f3a"
            ],
            [
             0.8888888888888888,
             "#fdca26"
            ],
            [
             1,
             "#f0f921"
            ]
           ]
          },
          "colorway": [
           "#636efa",
           "#EF553B",
           "#00cc96",
           "#ab63fa",
           "#FFA15A",
           "#19d3f3",
           "#FF6692",
           "#B6E880",
           "#FF97FF",
           "#FECB52"
          ],
          "font": {
           "color": "#2a3f5f"
          },
          "geo": {
           "bgcolor": "white",
           "lakecolor": "white",
           "landcolor": "#E5ECF6",
           "showlakes": true,
           "showland": true,
           "subunitcolor": "white"
          },
          "hoverlabel": {
           "align": "left"
          },
          "hovermode": "closest",
          "mapbox": {
           "style": "light"
          },
          "paper_bgcolor": "white",
          "plot_bgcolor": "#E5ECF6",
          "polar": {
           "angularaxis": {
            "gridcolor": "white",
            "linecolor": "white",
            "ticks": ""
           },
           "bgcolor": "#E5ECF6",
           "radialaxis": {
            "gridcolor": "white",
            "linecolor": "white",
            "ticks": ""
           }
          },
          "scene": {
           "xaxis": {
            "backgroundcolor": "#E5ECF6",
            "gridcolor": "white",
            "gridwidth": 2,
            "linecolor": "white",
            "showbackground": true,
            "ticks": "",
            "zerolinecolor": "white"
           },
           "yaxis": {
            "backgroundcolor": "#E5ECF6",
            "gridcolor": "white",
            "gridwidth": 2,
            "linecolor": "white",
            "showbackground": true,
            "ticks": "",
            "zerolinecolor": "white"
           },
           "zaxis": {
            "backgroundcolor": "#E5ECF6",
            "gridcolor": "white",
            "gridwidth": 2,
            "linecolor": "white",
            "showbackground": true,
            "ticks": "",
            "zerolinecolor": "white"
           }
          },
          "shapedefaults": {
           "line": {
            "color": "#2a3f5f"
           }
          },
          "ternary": {
           "aaxis": {
            "gridcolor": "white",
            "linecolor": "white",
            "ticks": ""
           },
           "baxis": {
            "gridcolor": "white",
            "linecolor": "white",
            "ticks": ""
           },
           "bgcolor": "#E5ECF6",
           "caxis": {
            "gridcolor": "white",
            "linecolor": "white",
            "ticks": ""
           }
          },
          "title": {
           "x": 0.05
          },
          "xaxis": {
           "automargin": true,
           "gridcolor": "white",
           "linecolor": "white",
           "ticks": "",
           "title": {
            "standoff": 15
           },
           "zerolinecolor": "white",
           "zerolinewidth": 2
          },
          "yaxis": {
           "automargin": true,
           "gridcolor": "white",
           "linecolor": "white",
           "ticks": "",
           "title": {
            "standoff": 15
           },
           "zerolinecolor": "white",
           "zerolinewidth": 2
          }
         }
        },
        "title": {
         "text": "Top-Performing Franchise Stores (Above 95th Percentile)"
        }
       }
      }
     },
     "metadata": {},
     "output_type": "display_data"
    }
   ],
   "source": [
    "fig = px.scatter_mapbox(\n",
    "    top,\n",
    "    lat='Latitude',\n",
    "    lon='Longitude',\n",
    "    color='OrderMode',\n",
    "    hover_name='StoreID',\n",
    "    hover_data=['StoreID'],\n",
    "    zoom=4,\n",
    "    mapbox_style='carto-positron',\n",
    "    title='Top-Performing Franchise Stores (Above 95th Percentile)',\n",
    "    color_discrete_map={True: 'green', False: 'red'},\n",
    "    height=600\n",
    ")\n",
    "fig.show()\n"
   ]
  },
  {
   "cell_type": "code",
   "execution_count": 356,
   "metadata": {},
   "outputs": [
    {
     "data": {
      "text/html": [
       "<div>\n",
       "<style scoped>\n",
       "    .dataframe tbody tr th:only-of-type {\n",
       "        vertical-align: middle;\n",
       "    }\n",
       "\n",
       "    .dataframe tbody tr th {\n",
       "        vertical-align: top;\n",
       "    }\n",
       "\n",
       "    .dataframe thead th {\n",
       "        text-align: right;\n",
       "    }\n",
       "</style>\n",
       "<table border=\"1\" class=\"dataframe\">\n",
       "  <thead>\n",
       "    <tr style=\"text-align: right;\">\n",
       "      <th></th>\n",
       "      <th>StoreID</th>\n",
       "      <th>OrderMode</th>\n",
       "      <th>ST</th>\n",
       "      <th>City</th>\n",
       "      <th>rev_%</th>\n",
       "    </tr>\n",
       "  </thead>\n",
       "  <tbody>\n",
       "    <tr>\n",
       "      <th>0</th>\n",
       "      <td>03222-00036</td>\n",
       "      <td>Mobile</td>\n",
       "      <td>NC</td>\n",
       "      <td>Charlotte</td>\n",
       "      <td>1.228648</td>\n",
       "    </tr>\n",
       "    <tr>\n",
       "      <th>1</th>\n",
       "      <td>03222-00026</td>\n",
       "      <td>Mobile</td>\n",
       "      <td>KS</td>\n",
       "      <td>Manhattan</td>\n",
       "      <td>1.216372</td>\n",
       "    </tr>\n",
       "    <tr>\n",
       "      <th>2</th>\n",
       "      <td>03222-00015</td>\n",
       "      <td>Mobile</td>\n",
       "      <td>NM</td>\n",
       "      <td>Hobbs</td>\n",
       "      <td>1.157698</td>\n",
       "    </tr>\n",
       "  </tbody>\n",
       "</table>\n",
       "</div>"
      ],
      "text/plain": [
       "       StoreID OrderMode  ST       City     rev_%\n",
       "0  03222-00036    Mobile  NC  Charlotte  1.228648\n",
       "1  03222-00026    Mobile  KS  Manhattan  1.216372\n",
       "2  03222-00015    Mobile  NM      Hobbs  1.157698"
      ]
     },
     "execution_count": 356,
     "metadata": {},
     "output_type": "execute_result"
    }
   ],
   "source": [
    "top[['StoreID','OrderMode','ST','City','rev_%']]\n"
   ]
  },
  {
   "cell_type": "code",
   "execution_count": 119,
   "metadata": {},
   "outputs": [
    {
     "data": {
      "application/vnd.plotly.v1+json": {
       "config": {
        "plotlyServerURL": "https://plot.ly"
       },
       "data": [
        {
         "link": {
          "source": {
           "bdata": "AAAAAwUB",
           "dtype": "i1"
          },
          "target": {
           "bdata": "AwUBBAYC",
           "dtype": "i1"
          },
          "value": {
           "bdata": "CggaCgga",
           "dtype": "i1"
          }
         },
         "node": {
          "color": "blue",
          "label": [
           "WS",
           "UberEats",
           "26 Stores",
           "DoorDash",
           "10 Stores",
           "Online",
           "8 Stores"
          ],
          "line": {
           "color": "black",
           "width": 0.5
          },
          "pad": 15,
          "thickness": 20
         },
         "type": "sankey"
        }
       ],
       "layout": {
        "font": {
         "size": 10
        },
        "template": {
         "data": {
          "bar": [
           {
            "error_x": {
             "color": "#2a3f5f"
            },
            "error_y": {
             "color": "#2a3f5f"
            },
            "marker": {
             "line": {
              "color": "#E5ECF6",
              "width": 0.5
             },
             "pattern": {
              "fillmode": "overlay",
              "size": 10,
              "solidity": 0.2
             }
            },
            "type": "bar"
           }
          ],
          "barpolar": [
           {
            "marker": {
             "line": {
              "color": "#E5ECF6",
              "width": 0.5
             },
             "pattern": {
              "fillmode": "overlay",
              "size": 10,
              "solidity": 0.2
             }
            },
            "type": "barpolar"
           }
          ],
          "carpet": [
           {
            "aaxis": {
             "endlinecolor": "#2a3f5f",
             "gridcolor": "white",
             "linecolor": "white",
             "minorgridcolor": "white",
             "startlinecolor": "#2a3f5f"
            },
            "baxis": {
             "endlinecolor": "#2a3f5f",
             "gridcolor": "white",
             "linecolor": "white",
             "minorgridcolor": "white",
             "startlinecolor": "#2a3f5f"
            },
            "type": "carpet"
           }
          ],
          "choropleth": [
           {
            "colorbar": {
             "outlinewidth": 0,
             "ticks": ""
            },
            "type": "choropleth"
           }
          ],
          "contour": [
           {
            "colorbar": {
             "outlinewidth": 0,
             "ticks": ""
            },
            "colorscale": [
             [
              0,
              "#0d0887"
             ],
             [
              0.1111111111111111,
              "#46039f"
             ],
             [
              0.2222222222222222,
              "#7201a8"
             ],
             [
              0.3333333333333333,
              "#9c179e"
             ],
             [
              0.4444444444444444,
              "#bd3786"
             ],
             [
              0.5555555555555556,
              "#d8576b"
             ],
             [
              0.6666666666666666,
              "#ed7953"
             ],
             [
              0.7777777777777778,
              "#fb9f3a"
             ],
             [
              0.8888888888888888,
              "#fdca26"
             ],
             [
              1,
              "#f0f921"
             ]
            ],
            "type": "contour"
           }
          ],
          "contourcarpet": [
           {
            "colorbar": {
             "outlinewidth": 0,
             "ticks": ""
            },
            "type": "contourcarpet"
           }
          ],
          "heatmap": [
           {
            "colorbar": {
             "outlinewidth": 0,
             "ticks": ""
            },
            "colorscale": [
             [
              0,
              "#0d0887"
             ],
             [
              0.1111111111111111,
              "#46039f"
             ],
             [
              0.2222222222222222,
              "#7201a8"
             ],
             [
              0.3333333333333333,
              "#9c179e"
             ],
             [
              0.4444444444444444,
              "#bd3786"
             ],
             [
              0.5555555555555556,
              "#d8576b"
             ],
             [
              0.6666666666666666,
              "#ed7953"
             ],
             [
              0.7777777777777778,
              "#fb9f3a"
             ],
             [
              0.8888888888888888,
              "#fdca26"
             ],
             [
              1,
              "#f0f921"
             ]
            ],
            "type": "heatmap"
           }
          ],
          "histogram": [
           {
            "marker": {
             "pattern": {
              "fillmode": "overlay",
              "size": 10,
              "solidity": 0.2
             }
            },
            "type": "histogram"
           }
          ],
          "histogram2d": [
           {
            "colorbar": {
             "outlinewidth": 0,
             "ticks": ""
            },
            "colorscale": [
             [
              0,
              "#0d0887"
             ],
             [
              0.1111111111111111,
              "#46039f"
             ],
             [
              0.2222222222222222,
              "#7201a8"
             ],
             [
              0.3333333333333333,
              "#9c179e"
             ],
             [
              0.4444444444444444,
              "#bd3786"
             ],
             [
              0.5555555555555556,
              "#d8576b"
             ],
             [
              0.6666666666666666,
              "#ed7953"
             ],
             [
              0.7777777777777778,
              "#fb9f3a"
             ],
             [
              0.8888888888888888,
              "#fdca26"
             ],
             [
              1,
              "#f0f921"
             ]
            ],
            "type": "histogram2d"
           }
          ],
          "histogram2dcontour": [
           {
            "colorbar": {
             "outlinewidth": 0,
             "ticks": ""
            },
            "colorscale": [
             [
              0,
              "#0d0887"
             ],
             [
              0.1111111111111111,
              "#46039f"
             ],
             [
              0.2222222222222222,
              "#7201a8"
             ],
             [
              0.3333333333333333,
              "#9c179e"
             ],
             [
              0.4444444444444444,
              "#bd3786"
             ],
             [
              0.5555555555555556,
              "#d8576b"
             ],
             [
              0.6666666666666666,
              "#ed7953"
             ],
             [
              0.7777777777777778,
              "#fb9f3a"
             ],
             [
              0.8888888888888888,
              "#fdca26"
             ],
             [
              1,
              "#f0f921"
             ]
            ],
            "type": "histogram2dcontour"
           }
          ],
          "mesh3d": [
           {
            "colorbar": {
             "outlinewidth": 0,
             "ticks": ""
            },
            "type": "mesh3d"
           }
          ],
          "parcoords": [
           {
            "line": {
             "colorbar": {
              "outlinewidth": 0,
              "ticks": ""
             }
            },
            "type": "parcoords"
           }
          ],
          "pie": [
           {
            "automargin": true,
            "type": "pie"
           }
          ],
          "scatter": [
           {
            "fillpattern": {
             "fillmode": "overlay",
             "size": 10,
             "solidity": 0.2
            },
            "type": "scatter"
           }
          ],
          "scatter3d": [
           {
            "line": {
             "colorbar": {
              "outlinewidth": 0,
              "ticks": ""
             }
            },
            "marker": {
             "colorbar": {
              "outlinewidth": 0,
              "ticks": ""
             }
            },
            "type": "scatter3d"
           }
          ],
          "scattercarpet": [
           {
            "marker": {
             "colorbar": {
              "outlinewidth": 0,
              "ticks": ""
             }
            },
            "type": "scattercarpet"
           }
          ],
          "scattergeo": [
           {
            "marker": {
             "colorbar": {
              "outlinewidth": 0,
              "ticks": ""
             }
            },
            "type": "scattergeo"
           }
          ],
          "scattergl": [
           {
            "marker": {
             "colorbar": {
              "outlinewidth": 0,
              "ticks": ""
             }
            },
            "type": "scattergl"
           }
          ],
          "scattermap": [
           {
            "marker": {
             "colorbar": {
              "outlinewidth": 0,
              "ticks": ""
             }
            },
            "type": "scattermap"
           }
          ],
          "scattermapbox": [
           {
            "marker": {
             "colorbar": {
              "outlinewidth": 0,
              "ticks": ""
             }
            },
            "type": "scattermapbox"
           }
          ],
          "scatterpolar": [
           {
            "marker": {
             "colorbar": {
              "outlinewidth": 0,
              "ticks": ""
             }
            },
            "type": "scatterpolar"
           }
          ],
          "scatterpolargl": [
           {
            "marker": {
             "colorbar": {
              "outlinewidth": 0,
              "ticks": ""
             }
            },
            "type": "scatterpolargl"
           }
          ],
          "scatterternary": [
           {
            "marker": {
             "colorbar": {
              "outlinewidth": 0,
              "ticks": ""
             }
            },
            "type": "scatterternary"
           }
          ],
          "surface": [
           {
            "colorbar": {
             "outlinewidth": 0,
             "ticks": ""
            },
            "colorscale": [
             [
              0,
              "#0d0887"
             ],
             [
              0.1111111111111111,
              "#46039f"
             ],
             [
              0.2222222222222222,
              "#7201a8"
             ],
             [
              0.3333333333333333,
              "#9c179e"
             ],
             [
              0.4444444444444444,
              "#bd3786"
             ],
             [
              0.5555555555555556,
              "#d8576b"
             ],
             [
              0.6666666666666666,
              "#ed7953"
             ],
             [
              0.7777777777777778,
              "#fb9f3a"
             ],
             [
              0.8888888888888888,
              "#fdca26"
             ],
             [
              1,
              "#f0f921"
             ]
            ],
            "type": "surface"
           }
          ],
          "table": [
           {
            "cells": {
             "fill": {
              "color": "#EBF0F8"
             },
             "line": {
              "color": "white"
             }
            },
            "header": {
             "fill": {
              "color": "#C8D4E3"
             },
             "line": {
              "color": "white"
             }
            },
            "type": "table"
           }
          ]
         },
         "layout": {
          "annotationdefaults": {
           "arrowcolor": "#2a3f5f",
           "arrowhead": 0,
           "arrowwidth": 1
          },
          "autotypenumbers": "strict",
          "coloraxis": {
           "colorbar": {
            "outlinewidth": 0,
            "ticks": ""
           }
          },
          "colorscale": {
           "diverging": [
            [
             0,
             "#8e0152"
            ],
            [
             0.1,
             "#c51b7d"
            ],
            [
             0.2,
             "#de77ae"
            ],
            [
             0.3,
             "#f1b6da"
            ],
            [
             0.4,
             "#fde0ef"
            ],
            [
             0.5,
             "#f7f7f7"
            ],
            [
             0.6,
             "#e6f5d0"
            ],
            [
             0.7,
             "#b8e186"
            ],
            [
             0.8,
             "#7fbc41"
            ],
            [
             0.9,
             "#4d9221"
            ],
            [
             1,
             "#276419"
            ]
           ],
           "sequential": [
            [
             0,
             "#0d0887"
            ],
            [
             0.1111111111111111,
             "#46039f"
            ],
            [
             0.2222222222222222,
             "#7201a8"
            ],
            [
             0.3333333333333333,
             "#9c179e"
            ],
            [
             0.4444444444444444,
             "#bd3786"
            ],
            [
             0.5555555555555556,
             "#d8576b"
            ],
            [
             0.6666666666666666,
             "#ed7953"
            ],
            [
             0.7777777777777778,
             "#fb9f3a"
            ],
            [
             0.8888888888888888,
             "#fdca26"
            ],
            [
             1,
             "#f0f921"
            ]
           ],
           "sequentialminus": [
            [
             0,
             "#0d0887"
            ],
            [
             0.1111111111111111,
             "#46039f"
            ],
            [
             0.2222222222222222,
             "#7201a8"
            ],
            [
             0.3333333333333333,
             "#9c179e"
            ],
            [
             0.4444444444444444,
             "#bd3786"
            ],
            [
             0.5555555555555556,
             "#d8576b"
            ],
            [
             0.6666666666666666,
             "#ed7953"
            ],
            [
             0.7777777777777778,
             "#fb9f3a"
            ],
            [
             0.8888888888888888,
             "#fdca26"
            ],
            [
             1,
             "#f0f921"
            ]
           ]
          },
          "colorway": [
           "#636efa",
           "#EF553B",
           "#00cc96",
           "#ab63fa",
           "#FFA15A",
           "#19d3f3",
           "#FF6692",
           "#B6E880",
           "#FF97FF",
           "#FECB52"
          ],
          "font": {
           "color": "#2a3f5f"
          },
          "geo": {
           "bgcolor": "white",
           "lakecolor": "white",
           "landcolor": "#E5ECF6",
           "showlakes": true,
           "showland": true,
           "subunitcolor": "white"
          },
          "hoverlabel": {
           "align": "left"
          },
          "hovermode": "closest",
          "mapbox": {
           "style": "light"
          },
          "paper_bgcolor": "white",
          "plot_bgcolor": "#E5ECF6",
          "polar": {
           "angularaxis": {
            "gridcolor": "white",
            "linecolor": "white",
            "ticks": ""
           },
           "bgcolor": "#E5ECF6",
           "radialaxis": {
            "gridcolor": "white",
            "linecolor": "white",
            "ticks": ""
           }
          },
          "scene": {
           "xaxis": {
            "backgroundcolor": "#E5ECF6",
            "gridcolor": "white",
            "gridwidth": 2,
            "linecolor": "white",
            "showbackground": true,
            "ticks": "",
            "zerolinecolor": "white"
           },
           "yaxis": {
            "backgroundcolor": "#E5ECF6",
            "gridcolor": "white",
            "gridwidth": 2,
            "linecolor": "white",
            "showbackground": true,
            "ticks": "",
            "zerolinecolor": "white"
           },
           "zaxis": {
            "backgroundcolor": "#E5ECF6",
            "gridcolor": "white",
            "gridwidth": 2,
            "linecolor": "white",
            "showbackground": true,
            "ticks": "",
            "zerolinecolor": "white"
           }
          },
          "shapedefaults": {
           "line": {
            "color": "#2a3f5f"
           }
          },
          "ternary": {
           "aaxis": {
            "gridcolor": "white",
            "linecolor": "white",
            "ticks": ""
           },
           "baxis": {
            "gridcolor": "white",
            "linecolor": "white",
            "ticks": ""
           },
           "bgcolor": "#E5ECF6",
           "caxis": {
            "gridcolor": "white",
            "linecolor": "white",
            "ticks": ""
           }
          },
          "title": {
           "x": 0.05
          },
          "xaxis": {
           "automargin": true,
           "gridcolor": "white",
           "linecolor": "white",
           "ticks": "",
           "title": {
            "standoff": 15
           },
           "zerolinecolor": "white",
           "zerolinewidth": 2
          },
          "yaxis": {
           "automargin": true,
           "gridcolor": "white",
           "linecolor": "white",
           "ticks": "",
           "title": {
            "standoff": 15
           },
           "zerolinecolor": "white",
           "zerolinewidth": 2
          }
         }
        },
        "title": {
         "text": "Sankey Diagram: ['WS'] → OrderMode → Store Groups"
        }
       }
      }
     },
     "metadata": {},
     "output_type": "display_data"
    }
   ],
   "source": [
    "\n",
    "data=aux[aux['Brand']==\"WS\"]\n",
    "\n",
    "less_rev_share_unit_Count(data)\n",
    "\n"
   ]
  },
  {
   "cell_type": "markdown",
   "metadata": {},
   "source": [
    "# last week analysis\n"
   ]
  },
  {
   "cell_type": "code",
   "execution_count": 389,
   "metadata": {},
   "outputs": [],
   "source": [
    "def negative_last_two_weeks(data):\n",
    "   \n",
    "    # Sort data\n",
    "    data = data.sort_values(by=['StoreID', 'WeekStartDate'])\n",
    "\n",
    "    # Get last two unique week dates\n",
    "    latest_dates = data['WeekStartDate'].drop_duplicates().sort_values(ascending=False).unique()\n",
    "    last_two_weeks = latest_dates[:2]\n",
    "    print(last_two_weeks)\n",
    "    # Filter recent data for these two weeks\n",
    "    recent_data = data[data['WeekStartDate'].isin(last_two_weeks)]\n",
    "\n",
    "    # Since Brand and OrderMode are at store level (assuming they don't change weekly),\n",
    "    # get unique Brand and OrderMode per StoreID\n",
    "    store_info = data[['StoreID', 'Brand', 'OrderMode']].drop_duplicates(subset=['StoreID'])\n",
    "\n",
    "    # Pivot to get Week_1 and Week_2 WeeklyNetAmount side by side\n",
    "    pivoted = recent_data.pivot_table(index='StoreID',\n",
    "                                    columns='WeekStartDate',\n",
    "                                    values='WeeklyNetAmount')\n",
    "\n",
    "    # Rename columns for clarity if exactly two weeks exist\n",
    "    if pivoted.shape[1] == 2:\n",
    "        pivoted.columns = ['week_1_rev', 'week_2_rev']\n",
    "\n",
    "    # Calculate percentage change\n",
    "    pivoted['PctChange'] = ((pivoted['week_2_rev'] - pivoted['week_1_rev']) / pivoted['week_1_rev']) * 100\n",
    "\n",
    "    # Filter for negative change stores\n",
    "    negative_change_stores = pivoted[pivoted['PctChange'] < 0].reset_index()\n",
    "\n",
    "    # Merge Brand and OrderMode info back\n",
    "    negative_change_stores = negative_change_stores.merge(store_info, on='StoreID', how='left')\n",
    "\n",
    "    # Reorder columns for clarity\n",
    "    final_columns = ['StoreID', 'Brand', 'OrderMode', 'week_1_rev', 'week_2_rev', 'PctChange']\n",
    "    negative_change_stores = negative_change_stores[final_columns]\n",
    "\n",
    "    negative_change_stores\n",
    "    negative_change_stores['week_1']=last_two_weeks[1]\n",
    "    negative_change_stores['week_2']=last_two_weeks[0]\n",
    "    # negative_change_stores['week1']=last_two_weeks[0]\n",
    "    # negative_change_stores['week2']=last_two_weeks[1]\n",
    "    return negative_change_stores\n",
    "\n"
   ]
  },
  {
   "cell_type": "code",
   "execution_count": 468,
   "metadata": {},
   "outputs": [
    {
     "name": "stdout",
     "output_type": "stream",
     "text": [
      "(19945, 8)\n",
      "(53, 8)\n"
     ]
    },
    {
     "name": "stderr",
     "output_type": "stream",
     "text": [
      "/var/folders/lg/b8pw7x296y397cn0g302yt680000gp/T/ipykernel_15637/1734134436.py:26: FutureWarning:\n",
      "\n",
      "The behavior of 'isin' with dtype=datetime64[ns] and castable values (e.g. strings) is deprecated. In a future version, these will not be considered matching by isin. Explicitly cast to the appropriate dtype before calling isin instead.\n",
      "\n"
     ]
    },
    {
     "data": {
      "text/html": [
       "<div>\n",
       "<style scoped>\n",
       "    .dataframe tbody tr th:only-of-type {\n",
       "        vertical-align: middle;\n",
       "    }\n",
       "\n",
       "    .dataframe tbody tr th {\n",
       "        vertical-align: top;\n",
       "    }\n",
       "\n",
       "    .dataframe thead th {\n",
       "        text-align: right;\n",
       "    }\n",
       "</style>\n",
       "<table border=\"1\" class=\"dataframe\">\n",
       "  <thead>\n",
       "    <tr style=\"text-align: right;\">\n",
       "      <th></th>\n",
       "      <th>StoreID</th>\n",
       "      <th>OrderMode</th>\n",
       "      <th>WeekStartDate</th>\n",
       "      <th>WeeklyNetAmount</th>\n",
       "      <th>channel</th>\n",
       "      <th>Brand</th>\n",
       "      <th>revenue</th>\n",
       "      <th>PctChangeVsPrevWeek</th>\n",
       "    </tr>\n",
       "  </thead>\n",
       "  <tbody>\n",
       "  </tbody>\n",
       "</table>\n",
       "</div>"
      ],
      "text/plain": [
       "Empty DataFrame\n",
       "Columns: [StoreID, OrderMode, WeekStartDate, WeeklyNetAmount, channel, Brand, revenue, PctChangeVsPrevWeek]\n",
       "Index: []"
      ]
     },
     "execution_count": 468,
     "metadata": {},
     "output_type": "execute_result"
    }
   ],
   "source": [
    "data=vibe.copy()\n",
    "data=data[data['Brand']==\"LC\"]\n",
    "\n",
    "# Make sure WeekStartDate is a datetime\n",
    "data['WeekStartDate'] = pd.to_datetime(data['WeekStartDate'])\n",
    "\n",
    "# Sort data by StoreID and WeekStartDate\n",
    "data = data.sort_values(by=['StoreID', 'WeekStartDate'])\n",
    "\n",
    "# Group by Store (or Brand, Channel if needed) and calculate % change\n",
    "data['PctChangeVsPrevWeek'] = data.groupby(['Brand','StoreID','OrderMode'])['WeeklyNetAmount'].pct_change() * 100\n",
    "# data[(data['StoreID']=='01389-00005')&(data['OrderMode']=='Website')  & (data['WeekStartDate'].isin(['2025-04-21','2025-04-14']))]\n",
    "\n",
    "print(data.shape)\n",
    "latest_dates = data['WeekStartDate'].drop_duplicates().sort_values(ascending=False).unique()\n",
    "last_two_weeks = latest_dates[:2]\n",
    "last_two_weeks\n",
    "\n",
    "recent_data = data[data['WeekStartDate'].isin(last_two_weeks)]\n",
    "# recent_data[(recent_data['StoreID']=='01389-00005')&(recent_data['OrderMode']=='Website')  & (recent_data['WeekStartDate'].isin(['2025-04-21','2025-04-14']))]\n",
    "\n",
    "recent_data=recent_data[recent_data['PctChangeVsPrevWeek']<=-30]\n",
    "recent_data\n",
    "print(recent_data.shape)\n",
    "recent_data\n",
    "recent_data[(recent_data['StoreID']=='01389-00005')&(recent_data['OrderMode']=='Website')  & (recent_data['WeekStartDate'].isin(['2025-04-21','2025-04-14']))]\n"
   ]
  },
  {
   "cell_type": "code",
   "execution_count": 465,
   "metadata": {},
   "outputs": [
    {
     "name": "stdout",
     "output_type": "stream",
     "text": [
      "<DatetimeArray>\n",
      "['2025-04-21 00:00:00', '2025-04-14 00:00:00']\n",
      "Length: 2, dtype: datetime64[ns]\n"
     ]
    },
    {
     "data": {
      "text/plain": [
       "(2, 8)"
      ]
     },
     "execution_count": 465,
     "metadata": {},
     "output_type": "execute_result"
    }
   ],
   "source": [
    "# anotherway\n",
    "\n",
    "data=vibe.copy()\n",
    "\n",
    "# Make sure WeekStartDate is a datetime\n",
    "data['WeekStartDate'] = pd.to_datetime(data['WeekStartDate'])\n",
    "\n",
    "# Sort data by StoreID and WeekStartDate\n",
    "data = data.sort_values(by=['StoreID', 'WeekStartDate'])\n",
    "\n",
    "# Group by Store (or Brand, Channel if needed) and calculate % change\n",
    "data['PctChangeVsPrevWeek'] = data.groupby(['Brand','StoreID','OrderMode'])['WeeklyNetAmount'].pct_change() * 100\n",
    "# data[(data['StoreID']=='01389-00005')&(data['OrderMode']=='Website')  & (data['WeekStartDate'].isin(['2025-04-21','2025-04-14']))]\n",
    "\n",
    "\n",
    "lc_neg=negative_last_two_weeks(data[data['Brand']==\"LC\"])\n",
    "\n",
    "lc_neg.groupby('OrderMode')['StoreID'].count()\n",
    "\n",
    "\n",
    "# flagging store-channel combination that has negative 30%bdecline\n",
    "lc_neg=lc_neg[lc_neg['PctChange']<=-30]\n",
    "lc_neg.shape\n"
   ]
  },
  {
   "cell_type": "code",
   "execution_count": 377,
   "metadata": {},
   "outputs": [
    {
     "data": {
      "text/html": [
       "<div>\n",
       "<style scoped>\n",
       "    .dataframe tbody tr th:only-of-type {\n",
       "        vertical-align: middle;\n",
       "    }\n",
       "\n",
       "    .dataframe tbody tr th {\n",
       "        vertical-align: top;\n",
       "    }\n",
       "\n",
       "    .dataframe thead th {\n",
       "        text-align: right;\n",
       "    }\n",
       "</style>\n",
       "<table border=\"1\" class=\"dataframe\">\n",
       "  <thead>\n",
       "    <tr style=\"text-align: right;\">\n",
       "      <th></th>\n",
       "      <th>StoreID</th>\n",
       "      <th>Brand</th>\n",
       "      <th>OrderMode</th>\n",
       "      <th>Week_1</th>\n",
       "      <th>Week_2</th>\n",
       "      <th>PctChange</th>\n",
       "      <th>week_1</th>\n",
       "      <th>week_2</th>\n",
       "    </tr>\n",
       "  </thead>\n",
       "  <tbody>\n",
       "    <tr>\n",
       "      <th>7</th>\n",
       "      <td>01494-00001</td>\n",
       "      <td>LC</td>\n",
       "      <td>UberEats</td>\n",
       "      <td>2559.34</td>\n",
       "      <td>1731.350</td>\n",
       "      <td>-32.351700</td>\n",
       "      <td>2025-04-21</td>\n",
       "      <td>2025-04-14</td>\n",
       "    </tr>\n",
       "    <tr>\n",
       "      <th>18</th>\n",
       "      <td>01944-00004</td>\n",
       "      <td>LC</td>\n",
       "      <td>Mobile</td>\n",
       "      <td>2129.86</td>\n",
       "      <td>1476.406</td>\n",
       "      <td>-30.680608</td>\n",
       "      <td>2025-04-21</td>\n",
       "      <td>2025-04-14</td>\n",
       "    </tr>\n",
       "  </tbody>\n",
       "</table>\n",
       "</div>"
      ],
      "text/plain": [
       "        StoreID Brand OrderMode   Week_1    Week_2  PctChange     week_1  \\\n",
       "7   01494-00001    LC  UberEats  2559.34  1731.350 -32.351700 2025-04-21   \n",
       "18  01944-00004    LC    Mobile  2129.86  1476.406 -30.680608 2025-04-21   \n",
       "\n",
       "       week_2  \n",
       "7  2025-04-14  \n",
       "18 2025-04-14  "
      ]
     },
     "execution_count": 377,
     "metadata": {},
     "output_type": "execute_result"
    }
   ],
   "source": [
    "\n"
   ]
  },
  {
   "cell_type": "code",
   "execution_count": 365,
   "metadata": {},
   "outputs": [],
   "source": [
    "\n",
    "# ws_neg=negative_last_two_weeks(data[data['Brand']==\"WS\"])\n",
    "# ws_neg.groupby('OrderMode')['StoreID'].count()\n",
    "\n"
   ]
  },
  {
   "cell_type": "code",
   "execution_count": 311,
   "metadata": {},
   "outputs": [],
   "source": [
    "# order analysis\n"
   ]
  },
  {
   "cell_type": "code",
   "execution_count": 5,
   "metadata": {},
   "outputs": [],
   "source": [
    "lc_weekly_order=pd.read_csv('./weekly_sales/weekly_orders.csv')\n",
    "\n",
    "# lc_weekly_sale by 1po_3po\n",
    "first_party=['Mobile','Website']\n",
    "third_party=['DoorDash', 'UberEats','Grubhub']\n",
    "\n",
    "\n",
    "lc_weekly_order['channel']=np.where(lc_weekly_order['OrderPlacedMethod'].isin(first_party),'1PO',np.where(lc_weekly_order['OrderPlacedMethod'].isin(third_party),'3PO',lc_weekly_order['OrderPlacedMethod']))\n",
    "lc_weekly_order=lc_weekly_order[lc_weekly_order['channel'].isin(['1PO','3PO'])]\n",
    "lc_weekly_order.dtypes\n",
    "lc_weekly_order['Brand']=\"LC\"\n"
   ]
  },
  {
   "cell_type": "code",
   "execution_count": 187,
   "metadata": {},
   "outputs": [
    {
     "data": {
      "text/html": [
       "<div>\n",
       "<style scoped>\n",
       "    .dataframe tbody tr th:only-of-type {\n",
       "        vertical-align: middle;\n",
       "    }\n",
       "\n",
       "    .dataframe tbody tr th {\n",
       "        vertical-align: top;\n",
       "    }\n",
       "\n",
       "    .dataframe thead th {\n",
       "        text-align: right;\n",
       "    }\n",
       "</style>\n",
       "<table border=\"1\" class=\"dataframe\">\n",
       "  <thead>\n",
       "    <tr style=\"text-align: right;\">\n",
       "      <th></th>\n",
       "      <th>FranchiseStore</th>\n",
       "      <th>OrderPlacedMethod</th>\n",
       "      <th>WeeklyRevenue</th>\n",
       "      <th>WeekStartDate</th>\n",
       "      <th>UniqueOrderCount</th>\n",
       "      <th>channel</th>\n",
       "      <th>Brand</th>\n",
       "    </tr>\n",
       "  </thead>\n",
       "  <tbody>\n",
       "    <tr>\n",
       "      <th>1</th>\n",
       "      <td>01389-00001</td>\n",
       "      <td>DoorDash</td>\n",
       "      <td>775.89</td>\n",
       "      <td>2024-02-19</td>\n",
       "      <td>41</td>\n",
       "      <td>3PO</td>\n",
       "      <td>LC</td>\n",
       "    </tr>\n",
       "    <tr>\n",
       "      <th>2</th>\n",
       "      <td>01389-00001</td>\n",
       "      <td>DoorDash</td>\n",
       "      <td>2017.23</td>\n",
       "      <td>2024-02-26</td>\n",
       "      <td>116</td>\n",
       "      <td>3PO</td>\n",
       "      <td>LC</td>\n",
       "    </tr>\n",
       "    <tr>\n",
       "      <th>3</th>\n",
       "      <td>01389-00001</td>\n",
       "      <td>DoorDash</td>\n",
       "      <td>2003.98</td>\n",
       "      <td>2024-03-04</td>\n",
       "      <td>109</td>\n",
       "      <td>3PO</td>\n",
       "      <td>LC</td>\n",
       "    </tr>\n",
       "    <tr>\n",
       "      <th>4</th>\n",
       "      <td>01389-00001</td>\n",
       "      <td>DoorDash</td>\n",
       "      <td>2250.47</td>\n",
       "      <td>2024-03-11</td>\n",
       "      <td>125</td>\n",
       "      <td>3PO</td>\n",
       "      <td>LC</td>\n",
       "    </tr>\n",
       "    <tr>\n",
       "      <th>5</th>\n",
       "      <td>01389-00001</td>\n",
       "      <td>DoorDash</td>\n",
       "      <td>2533.61</td>\n",
       "      <td>2024-03-18</td>\n",
       "      <td>147</td>\n",
       "      <td>3PO</td>\n",
       "      <td>LC</td>\n",
       "    </tr>\n",
       "  </tbody>\n",
       "</table>\n",
       "</div>"
      ],
      "text/plain": [
       "  FranchiseStore OrderPlacedMethod  WeeklyRevenue WeekStartDate  \\\n",
       "1    01389-00001          DoorDash         775.89    2024-02-19   \n",
       "2    01389-00001          DoorDash        2017.23    2024-02-26   \n",
       "3    01389-00001          DoorDash        2003.98    2024-03-04   \n",
       "4    01389-00001          DoorDash        2250.47    2024-03-11   \n",
       "5    01389-00001          DoorDash        2533.61    2024-03-18   \n",
       "\n",
       "   UniqueOrderCount channel Brand  \n",
       "1                41     3PO    LC  \n",
       "2               116     3PO    LC  \n",
       "3               109     3PO    LC  \n",
       "4               125     3PO    LC  \n",
       "5               147     3PO    LC  "
      ]
     },
     "execution_count": 187,
     "metadata": {},
     "output_type": "execute_result"
    }
   ],
   "source": [
    "lc_weekly_order.head(5)\n"
   ]
  },
  {
   "cell_type": "markdown",
   "metadata": {},
   "source": [
    "#  in last 3 month store-mode combinatoions with consective declineing AOA \n"
   ]
  },
  {
   "cell_type": "code",
   "execution_count": 471,
   "metadata": {},
   "outputs": [],
   "source": [
    "import pandas as pd\n",
    "\n",
    "\n",
    "\n",
    "data=lc_weekly_order.copy()\n",
    "\n",
    "# Calculate AOV (Average Order Value)\n",
    "data['AOV'] = data['WeeklyRevenue'] / data['UniqueOrderCount']\n",
    "\n",
    "# Sort for proper pct_change calculation\n",
    "data = data.sort_values(['OrderPlacedMethod', 'WeekStartDate'])\n",
    "data\n",
    "data['WeekStartDate'] = pd.to_datetime(data['WeekStartDate'])\n",
    "# Calculate 3 months ago from today\n",
    "three_months_ago = pd.Timestamp.today() - pd.DateOffset(months=3)\n",
    "\n",
    "# Filter the data\n",
    "data = data[data['WeekStartDate'] >= three_months_ago]\n"
   ]
  },
  {
   "cell_type": "code",
   "execution_count": 472,
   "metadata": {},
   "outputs": [
    {
     "data": {
      "text/html": [
       "<div>\n",
       "<style scoped>\n",
       "    .dataframe tbody tr th:only-of-type {\n",
       "        vertical-align: middle;\n",
       "    }\n",
       "\n",
       "    .dataframe tbody tr th {\n",
       "        vertical-align: top;\n",
       "    }\n",
       "\n",
       "    .dataframe thead th {\n",
       "        text-align: right;\n",
       "    }\n",
       "</style>\n",
       "<table border=\"1\" class=\"dataframe\">\n",
       "  <thead>\n",
       "    <tr style=\"text-align: right;\">\n",
       "      <th></th>\n",
       "      <th>FranchiseStore</th>\n",
       "      <th>OrderPlacedMethod</th>\n",
       "      <th>WeeklyRevenue</th>\n",
       "      <th>WeekStartDate</th>\n",
       "      <th>UniqueOrderCount</th>\n",
       "      <th>channel</th>\n",
       "      <th>Brand</th>\n",
       "      <th>AOV</th>\n",
       "      <th>WoW_Growth_Percent</th>\n",
       "    </tr>\n",
       "  </thead>\n",
       "  <tbody>\n",
       "    <tr>\n",
       "      <th>18197</th>\n",
       "      <td>03222-00008</td>\n",
       "      <td>DoorDash</td>\n",
       "      <td>332.10</td>\n",
       "      <td>2025-03-03</td>\n",
       "      <td>17</td>\n",
       "      <td>3PO</td>\n",
       "      <td>LC</td>\n",
       "      <td>19.54</td>\n",
       "      <td>-82.65</td>\n",
       "    </tr>\n",
       "    <tr>\n",
       "      <th>17793</th>\n",
       "      <td>03222-00007</td>\n",
       "      <td>DoorDash</td>\n",
       "      <td>1232.26</td>\n",
       "      <td>2025-03-10</td>\n",
       "      <td>61</td>\n",
       "      <td>3PO</td>\n",
       "      <td>LC</td>\n",
       "      <td>20.20</td>\n",
       "      <td>-36.40</td>\n",
       "    </tr>\n",
       "    <tr>\n",
       "      <th>19031</th>\n",
       "      <td>03222-00010</td>\n",
       "      <td>DoorDash</td>\n",
       "      <td>572.15</td>\n",
       "      <td>2025-03-10</td>\n",
       "      <td>32</td>\n",
       "      <td>3PO</td>\n",
       "      <td>LC</td>\n",
       "      <td>17.88</td>\n",
       "      <td>-47.58</td>\n",
       "    </tr>\n",
       "    <tr>\n",
       "      <th>8119</th>\n",
       "      <td>01893-00001</td>\n",
       "      <td>DoorDash</td>\n",
       "      <td>1349.42</td>\n",
       "      <td>2025-03-17</td>\n",
       "      <td>63</td>\n",
       "      <td>3PO</td>\n",
       "      <td>LC</td>\n",
       "      <td>21.42</td>\n",
       "      <td>-37.17</td>\n",
       "    </tr>\n",
       "    <tr>\n",
       "      <th>9959</th>\n",
       "      <td>01940-00009</td>\n",
       "      <td>DoorDash</td>\n",
       "      <td>1614.90</td>\n",
       "      <td>2025-03-17</td>\n",
       "      <td>78</td>\n",
       "      <td>3PO</td>\n",
       "      <td>LC</td>\n",
       "      <td>20.70</td>\n",
       "      <td>-36.60</td>\n",
       "    </tr>\n",
       "    <tr>\n",
       "      <th>...</th>\n",
       "      <td>...</td>\n",
       "      <td>...</td>\n",
       "      <td>...</td>\n",
       "      <td>...</td>\n",
       "      <td>...</td>\n",
       "      <td>...</td>\n",
       "      <td>...</td>\n",
       "      <td>...</td>\n",
       "      <td>...</td>\n",
       "    </tr>\n",
       "    <tr>\n",
       "      <th>11329</th>\n",
       "      <td>01940-00011</td>\n",
       "      <td>Website</td>\n",
       "      <td>1920.95</td>\n",
       "      <td>2025-04-21</td>\n",
       "      <td>84</td>\n",
       "      <td>1PO</td>\n",
       "      <td>LC</td>\n",
       "      <td>22.87</td>\n",
       "      <td>-41.85</td>\n",
       "    </tr>\n",
       "    <tr>\n",
       "      <th>13703</th>\n",
       "      <td>01944-00004</td>\n",
       "      <td>Website</td>\n",
       "      <td>2178.87</td>\n",
       "      <td>2025-04-21</td>\n",
       "      <td>91</td>\n",
       "      <td>1PO</td>\n",
       "      <td>LC</td>\n",
       "      <td>23.94</td>\n",
       "      <td>-32.64</td>\n",
       "    </tr>\n",
       "    <tr>\n",
       "      <th>5189</th>\n",
       "      <td>01494-00001</td>\n",
       "      <td>Website</td>\n",
       "      <td>2006.79</td>\n",
       "      <td>2025-05-05</td>\n",
       "      <td>88</td>\n",
       "      <td>1PO</td>\n",
       "      <td>LC</td>\n",
       "      <td>22.80</td>\n",
       "      <td>-45.22</td>\n",
       "    </tr>\n",
       "    <tr>\n",
       "      <th>11331</th>\n",
       "      <td>01940-00011</td>\n",
       "      <td>Website</td>\n",
       "      <td>2011.11</td>\n",
       "      <td>2025-05-05</td>\n",
       "      <td>86</td>\n",
       "      <td>1PO</td>\n",
       "      <td>LC</td>\n",
       "      <td>23.39</td>\n",
       "      <td>-30.43</td>\n",
       "    </tr>\n",
       "    <tr>\n",
       "      <th>22413</th>\n",
       "      <td>03222-00019</td>\n",
       "      <td>Website</td>\n",
       "      <td>1374.01</td>\n",
       "      <td>2025-05-05</td>\n",
       "      <td>57</td>\n",
       "      <td>1PO</td>\n",
       "      <td>LC</td>\n",
       "      <td>24.11</td>\n",
       "      <td>-37.88</td>\n",
       "    </tr>\n",
       "  </tbody>\n",
       "</table>\n",
       "<p>314 rows × 9 columns</p>\n",
       "</div>"
      ],
      "text/plain": [
       "      FranchiseStore OrderPlacedMethod  WeeklyRevenue WeekStartDate  \\\n",
       "18197    03222-00008          DoorDash         332.10    2025-03-03   \n",
       "17793    03222-00007          DoorDash        1232.26    2025-03-10   \n",
       "19031    03222-00010          DoorDash         572.15    2025-03-10   \n",
       "8119     01893-00001          DoorDash        1349.42    2025-03-17   \n",
       "9959     01940-00009          DoorDash        1614.90    2025-03-17   \n",
       "...              ...               ...            ...           ...   \n",
       "11329    01940-00011           Website        1920.95    2025-04-21   \n",
       "13703    01944-00004           Website        2178.87    2025-04-21   \n",
       "5189     01494-00001           Website        2006.79    2025-05-05   \n",
       "11331    01940-00011           Website        2011.11    2025-05-05   \n",
       "22413    03222-00019           Website        1374.01    2025-05-05   \n",
       "\n",
       "       UniqueOrderCount channel Brand    AOV  WoW_Growth_Percent  \n",
       "18197                17     3PO    LC  19.54              -82.65  \n",
       "17793                61     3PO    LC  20.20              -36.40  \n",
       "19031                32     3PO    LC  17.88              -47.58  \n",
       "8119                 63     3PO    LC  21.42              -37.17  \n",
       "9959                 78     3PO    LC  20.70              -36.60  \n",
       "...                 ...     ...   ...    ...                 ...  \n",
       "11329                84     1PO    LC  22.87              -41.85  \n",
       "13703                91     1PO    LC  23.94              -32.64  \n",
       "5189                 88     1PO    LC  22.80              -45.22  \n",
       "11331                86     1PO    LC  23.39              -30.43  \n",
       "22413                57     1PO    LC  24.11              -37.88  \n",
       "\n",
       "[314 rows x 9 columns]"
      ]
     },
     "execution_count": 472,
     "metadata": {},
     "output_type": "execute_result"
    }
   ],
   "source": [
    "# pct_change() computes (current - previous) / previous * 100\n",
    "# Calculate Week-over-Week Revenue Growth % per Brand  OrderPlacedMethod\n",
    "data['WoW_Growth_Percent'] = data.groupby(['FranchiseStore','OrderPlacedMethod'])['WeeklyRevenue'].pct_change() * 100\n",
    "\n",
    "# Round for presentation\n",
    "data['WeeklyRevenue'] = data['WeeklyRevenue'].round(2)\n",
    "data['AOV'] = data['AOV'].round(2)\n",
    "data['WoW_Growth_Percent'] = data['WoW_Growth_Percent'].round(2)\n",
    "\n",
    "# data[(data['FranchiseStore']=='01389-00001')&(data['OrderPlacedMethod']=='DoorDash')][['WeekStartDate','OrderPlacedMethod','WeeklyRevenue','WoW_Growth_Percent']]\n",
    "data[data['WoW_Growth_Percent']<=-30]\n"
   ]
  },
  {
   "cell_type": "code",
   "execution_count": 473,
   "metadata": {},
   "outputs": [
    {
     "data": {
      "text/html": [
       "<div>\n",
       "<style scoped>\n",
       "    .dataframe tbody tr th:only-of-type {\n",
       "        vertical-align: middle;\n",
       "    }\n",
       "\n",
       "    .dataframe tbody tr th {\n",
       "        vertical-align: top;\n",
       "    }\n",
       "\n",
       "    .dataframe thead th {\n",
       "        text-align: right;\n",
       "    }\n",
       "</style>\n",
       "<table border=\"1\" class=\"dataframe\">\n",
       "  <thead>\n",
       "    <tr style=\"text-align: right;\">\n",
       "      <th></th>\n",
       "      <th>FranchiseStore</th>\n",
       "      <th>OrderPlacedMethod</th>\n",
       "    </tr>\n",
       "  </thead>\n",
       "  <tbody>\n",
       "    <tr>\n",
       "      <th>5645</th>\n",
       "      <td>01494-00002</td>\n",
       "      <td>Website</td>\n",
       "    </tr>\n",
       "    <tr>\n",
       "      <th>6498</th>\n",
       "      <td>01494-00005</td>\n",
       "      <td>Website</td>\n",
       "    </tr>\n",
       "    <tr>\n",
       "      <th>14071</th>\n",
       "      <td>01944-00005</td>\n",
       "      <td>Website</td>\n",
       "    </tr>\n",
       "    <tr>\n",
       "      <th>14515</th>\n",
       "      <td>01978-00002</td>\n",
       "      <td>DoorDash</td>\n",
       "    </tr>\n",
       "    <tr>\n",
       "      <th>16288</th>\n",
       "      <td>03222-00002</td>\n",
       "      <td>UberEats</td>\n",
       "    </tr>\n",
       "    <tr>\n",
       "      <th>16938</th>\n",
       "      <td>03222-00004</td>\n",
       "      <td>Grubhub</td>\n",
       "    </tr>\n",
       "    <tr>\n",
       "      <th>21124</th>\n",
       "      <td>03222-00016</td>\n",
       "      <td>Website</td>\n",
       "    </tr>\n",
       "    <tr>\n",
       "      <th>23221</th>\n",
       "      <td>03222-00022</td>\n",
       "      <td>UberEats</td>\n",
       "    </tr>\n",
       "    <tr>\n",
       "      <th>23348</th>\n",
       "      <td>03222-00023</td>\n",
       "      <td>DoorDash</td>\n",
       "    </tr>\n",
       "    <tr>\n",
       "      <th>24554</th>\n",
       "      <td>03222-00026</td>\n",
       "      <td>DoorDash</td>\n",
       "    </tr>\n",
       "    <tr>\n",
       "      <th>25296</th>\n",
       "      <td>03222-00027</td>\n",
       "      <td>UberEats</td>\n",
       "    </tr>\n",
       "    <tr>\n",
       "      <th>25905</th>\n",
       "      <td>03222-00032</td>\n",
       "      <td>DoorDash</td>\n",
       "    </tr>\n",
       "    <tr>\n",
       "      <th>31254</th>\n",
       "      <td>03222-00047</td>\n",
       "      <td>DoorDash</td>\n",
       "    </tr>\n",
       "    <tr>\n",
       "      <th>32652</th>\n",
       "      <td>03646-00003</td>\n",
       "      <td>DoorDash</td>\n",
       "    </tr>\n",
       "  </tbody>\n",
       "</table>\n",
       "</div>"
      ],
      "text/plain": [
       "      FranchiseStore OrderPlacedMethod\n",
       "5645     01494-00002           Website\n",
       "6498     01494-00005           Website\n",
       "14071    01944-00005           Website\n",
       "14515    01978-00002          DoorDash\n",
       "16288    03222-00002          UberEats\n",
       "16938    03222-00004           Grubhub\n",
       "21124    03222-00016           Website\n",
       "23221    03222-00022          UberEats\n",
       "23348    03222-00023          DoorDash\n",
       "24554    03222-00026          DoorDash\n",
       "25296    03222-00027          UberEats\n",
       "25905    03222-00032          DoorDash\n",
       "31254    03222-00047          DoorDash\n",
       "32652    03646-00003          DoorDash"
      ]
     },
     "execution_count": 473,
     "metadata": {},
     "output_type": "execute_result"
    }
   ],
   "source": [
    "import pandas as pd\n",
    "\n",
    "# Step 1: Make sure your data is sorted correctly\n",
    "data['WeekStartDate'] = pd.to_datetime(data['WeekStartDate'])\n",
    "data = data.sort_values(['FranchiseStore', 'OrderPlacedMethod', 'WeekStartDate'])\n",
    "\n",
    "# Step 2: Calculate WoW_Growth_Percent (if not already present or needs recalculating)\n",
    "data['WoW_Growth_Percent'] = (\n",
    "    data.groupby(['FranchiseStore', 'OrderPlacedMethod'])['WeeklyRevenue']\n",
    "    .pct_change() * 100\n",
    ")\n",
    "\n",
    "# Step 3: Detect 4 consecutive declines\n",
    "def has_4_consecutive_declines(group):\n",
    "    # Create a boolean Series: True if WoW_Growth_Percent < 0\n",
    "    decline = group['WoW_Growth_Percent'] < 0\n",
    "    # Use rolling window of size 4 over the boolean to check for 4 Trues in a row\n",
    "    decline_4 = decline.rolling(window=4).apply(lambda x: all(x), raw=True)\n",
    "    return decline_4.any()\n",
    "\n",
    "# Step 4: Group and filter those with 4 consecutive declines\n",
    "declining_groups = (\n",
    "    data.groupby(['FranchiseStore', 'OrderPlacedMethod'])\n",
    "    .filter(has_4_consecutive_declines)\n",
    "    [['FranchiseStore', 'OrderPlacedMethod']]\n",
    "    .drop_duplicates()\n",
    ")\n",
    "\n",
    "data[(data['FranchiseStore']=='01389-00001')&(data['OrderPlacedMethod']=='Mobile')][['WeekStartDate','OrderPlacedMethod','WeeklyRevenue','WoW_Growth_Percent']]\n",
    "declining_groups\n",
    "\n"
   ]
  },
  {
   "cell_type": "code",
   "execution_count": 474,
   "metadata": {},
   "outputs": [
    {
     "data": {
      "application/vnd.plotly.v1+json": {
       "config": {
        "plotlyServerURL": "https://plot.ly"
       },
       "data": [
        {
         "hovertemplate": "FranchiseStore=01494-00002<br>OrderPlacedMethod=Website<br>WeekStartDate=%{x}<br>WeeklyRevenue=%{y}<extra></extra>",
         "legendgroup": "01494-00002",
         "line": {
          "color": "#636efa",
          "dash": "solid"
         },
         "marker": {
          "symbol": "circle"
         },
         "mode": "lines+markers",
         "name": "01494-00002",
         "orientation": "v",
         "showlegend": true,
         "type": "scatter",
         "x": [
          "2025-02-24T00:00:00.000000000",
          "2025-03-03T00:00:00.000000000",
          "2025-03-10T00:00:00.000000000",
          "2025-03-17T00:00:00.000000000",
          "2025-03-24T00:00:00.000000000",
          "2025-03-31T00:00:00.000000000",
          "2025-04-07T00:00:00.000000000",
          "2025-04-14T00:00:00.000000000",
          "2025-04-21T00:00:00.000000000",
          "2025-04-28T00:00:00.000000000",
          "2025-05-05T00:00:00.000000000"
         ],
         "xaxis": "x",
         "y": {
          "bdata": "hetRuB7dlECuR+F6FNCVQK5H4XoU1JNACtejcD1WlUCPwvUoXFqSQFyPwvUohpZACtejcD3rk0DD9Shcj3uTQArXo3A9TJNA4XoUrkf2kEBmZmZmZoqWQA==",
          "dtype": "f8"
         },
         "yaxis": "y"
        },
        {
         "hovertemplate": "FranchiseStore=01494-00005<br>OrderPlacedMethod=Website<br>WeekStartDate=%{x}<br>WeeklyRevenue=%{y}<extra></extra>",
         "legendgroup": "01494-00005",
         "line": {
          "color": "#EF553B",
          "dash": "solid"
         },
         "marker": {
          "symbol": "circle"
         },
         "mode": "lines+markers",
         "name": "01494-00005",
         "orientation": "v",
         "showlegend": true,
         "type": "scatter",
         "x": [
          "2025-02-24T00:00:00.000000000",
          "2025-03-03T00:00:00.000000000",
          "2025-03-10T00:00:00.000000000",
          "2025-03-17T00:00:00.000000000",
          "2025-03-24T00:00:00.000000000",
          "2025-03-31T00:00:00.000000000",
          "2025-04-07T00:00:00.000000000",
          "2025-04-14T00:00:00.000000000",
          "2025-04-21T00:00:00.000000000",
          "2025-04-28T00:00:00.000000000",
          "2025-05-05T00:00:00.000000000"
         ],
         "xaxis": "x",
         "y": {
          "bdata": "XI/C9SgEokAfhetRuFmgQLgehetRjJlA7FG4HoWKmEC4HoXrUceWQHE9Ctejx5lAAAAAAAA9l0BSuB6F68maQI/C9ShcUptASOF6FK6ql0AUrkfheseVQA==",
          "dtype": "f8"
         },
         "yaxis": "y"
        },
        {
         "hovertemplate": "FranchiseStore=01944-00005<br>OrderPlacedMethod=Website<br>WeekStartDate=%{x}<br>WeeklyRevenue=%{y}<extra></extra>",
         "legendgroup": "01944-00005",
         "line": {
          "color": "#00cc96",
          "dash": "solid"
         },
         "marker": {
          "symbol": "circle"
         },
         "mode": "lines+markers",
         "name": "01944-00005",
         "orientation": "v",
         "showlegend": true,
         "type": "scatter",
         "x": [
          "2025-02-24T00:00:00.000000000",
          "2025-03-03T00:00:00.000000000",
          "2025-03-10T00:00:00.000000000",
          "2025-03-17T00:00:00.000000000",
          "2025-03-24T00:00:00.000000000",
          "2025-03-31T00:00:00.000000000",
          "2025-04-07T00:00:00.000000000",
          "2025-04-14T00:00:00.000000000",
          "2025-04-21T00:00:00.000000000",
          "2025-04-28T00:00:00.000000000",
          "2025-05-05T00:00:00.000000000"
         ],
         "xaxis": "x",
         "y": {
          "bdata": "exSuR2EJoEAzMzMzM+CWQKRwPQrXUpZAhetRuB6smEApXI/C9TGeQArXo3A9pppAH4XrUbgRmEAAAAAAAISWQKRwPQrXDZZAmpmZmZmwmECPwvUoXPGbQA==",
          "dtype": "f8"
         },
         "yaxis": "y"
        },
        {
         "hovertemplate": "FranchiseStore=01978-00002<br>OrderPlacedMethod=DoorDash<br>WeekStartDate=%{x}<br>WeeklyRevenue=%{y}<extra></extra>",
         "legendgroup": "01978-00002",
         "line": {
          "color": "#ab63fa",
          "dash": "solid"
         },
         "marker": {
          "symbol": "circle"
         },
         "mode": "lines+markers",
         "name": "01978-00002",
         "orientation": "v",
         "showlegend": true,
         "type": "scatter",
         "x": [
          "2025-02-24T00:00:00.000000000",
          "2025-03-03T00:00:00.000000000",
          "2025-03-10T00:00:00.000000000",
          "2025-03-17T00:00:00.000000000",
          "2025-03-24T00:00:00.000000000",
          "2025-03-31T00:00:00.000000000",
          "2025-04-07T00:00:00.000000000",
          "2025-04-14T00:00:00.000000000",
          "2025-04-21T00:00:00.000000000",
          "2025-04-28T00:00:00.000000000",
          "2025-05-05T00:00:00.000000000"
         ],
         "xaxis": "x2",
         "y": {
          "bdata": "hetRuJ6YoUBxPQrXI/CjQNejcD2KlqNAhetRuB6NokAAAAAAAOyhQJqZmZkZqaBAXI/C9aiypEDD9Shcj5KhQAAAAACAFKBAw/UoXA/vpkCamZmZmWmjQA==",
          "dtype": "f8"
         },
         "yaxis": "y2"
        },
        {
         "hovertemplate": "FranchiseStore=03222-00002<br>OrderPlacedMethod=UberEats<br>WeekStartDate=%{x}<br>WeeklyRevenue=%{y}<extra></extra>",
         "legendgroup": "03222-00002",
         "line": {
          "color": "#FFA15A",
          "dash": "solid"
         },
         "marker": {
          "symbol": "circle"
         },
         "mode": "lines+markers",
         "name": "03222-00002",
         "orientation": "v",
         "showlegend": true,
         "type": "scatter",
         "x": [
          "2025-02-24T00:00:00.000000000",
          "2025-03-03T00:00:00.000000000",
          "2025-03-10T00:00:00.000000000",
          "2025-03-17T00:00:00.000000000",
          "2025-03-24T00:00:00.000000000",
          "2025-03-31T00:00:00.000000000",
          "2025-04-07T00:00:00.000000000",
          "2025-04-14T00:00:00.000000000",
          "2025-04-21T00:00:00.000000000",
          "2025-04-28T00:00:00.000000000",
          "2025-05-05T00:00:00.000000000"
         ],
         "xaxis": "x3",
         "y": {
          "bdata": "9ihcj8IhdkDhehSuR1VzQArXo3A9amxAAAAAAABwZUCamZmZmfFwQBSuR+F65GNAH4XrUbime0CkcD0K1291QJqZmZmZgW1AexSuR+GSbEDhehSuRyljQA==",
          "dtype": "f8"
         },
         "yaxis": "y3"
        },
        {
         "hovertemplate": "FranchiseStore=03222-00004<br>OrderPlacedMethod=Grubhub<br>WeekStartDate=%{x}<br>WeeklyRevenue=%{y}<extra></extra>",
         "legendgroup": "03222-00004",
         "line": {
          "color": "#19d3f3",
          "dash": "solid"
         },
         "marker": {
          "symbol": "circle"
         },
         "mode": "lines+markers",
         "name": "03222-00004",
         "orientation": "v",
         "showlegend": true,
         "type": "scatter",
         "x": [
          "2025-02-24T00:00:00.000000000",
          "2025-03-03T00:00:00.000000000",
          "2025-03-10T00:00:00.000000000",
          "2025-03-17T00:00:00.000000000",
          "2025-03-24T00:00:00.000000000",
          "2025-03-31T00:00:00.000000000",
          "2025-04-07T00:00:00.000000000",
          "2025-04-14T00:00:00.000000000",
          "2025-04-21T00:00:00.000000000",
          "2025-04-28T00:00:00.000000000",
          "2025-05-05T00:00:00.000000000"
         ],
         "xaxis": "x4",
         "y": {
          "bdata": "KVyPwvVoTkA9CtejcB1eQPYoXI/CJVpAXI/C9Sg8WUDsUbgehdtUQIXrUbgeBS9Aj8L1KFwnYUCPwvUoXB9qQMP1KFyPwk1AAAAAAABgT0C4HoXrUaBqQA==",
          "dtype": "f8"
         },
         "yaxis": "y4"
        },
        {
         "hovertemplate": "FranchiseStore=03222-00016<br>OrderPlacedMethod=Website<br>WeekStartDate=%{x}<br>WeeklyRevenue=%{y}<extra></extra>",
         "legendgroup": "03222-00016",
         "line": {
          "color": "#FF6692",
          "dash": "solid"
         },
         "marker": {
          "symbol": "circle"
         },
         "mode": "lines+markers",
         "name": "03222-00016",
         "orientation": "v",
         "showlegend": true,
         "type": "scatter",
         "x": [
          "2025-02-24T00:00:00.000000000",
          "2025-03-03T00:00:00.000000000",
          "2025-03-10T00:00:00.000000000",
          "2025-03-17T00:00:00.000000000",
          "2025-03-24T00:00:00.000000000",
          "2025-03-31T00:00:00.000000000",
          "2025-04-07T00:00:00.000000000",
          "2025-04-14T00:00:00.000000000",
          "2025-04-21T00:00:00.000000000",
          "2025-04-28T00:00:00.000000000",
          "2025-05-05T00:00:00.000000000"
         ],
         "xaxis": "x",
         "y": {
          "bdata": "16NwPQpir0Bcj8L1KOGvQOF6FK7HQK1ACtejcL1Sq0D2KFyPQjmuQK5H4XpUObBAPQrXo/BmsEDNzMzMTJqtQEjhehSuZatAzczMzExcq0CuR+F6lM2pQA==",
          "dtype": "f8"
         },
         "yaxis": "y"
        },
        {
         "hovertemplate": "FranchiseStore=03222-00022<br>OrderPlacedMethod=UberEats<br>WeekStartDate=%{x}<br>WeeklyRevenue=%{y}<extra></extra>",
         "legendgroup": "03222-00022",
         "line": {
          "color": "#B6E880",
          "dash": "solid"
         },
         "marker": {
          "symbol": "circle"
         },
         "mode": "lines+markers",
         "name": "03222-00022",
         "orientation": "v",
         "showlegend": true,
         "type": "scatter",
         "x": [
          "2025-02-24T00:00:00.000000000",
          "2025-03-03T00:00:00.000000000",
          "2025-03-10T00:00:00.000000000",
          "2025-03-17T00:00:00.000000000",
          "2025-03-24T00:00:00.000000000",
          "2025-03-31T00:00:00.000000000",
          "2025-04-07T00:00:00.000000000",
          "2025-04-14T00:00:00.000000000",
          "2025-04-21T00:00:00.000000000",
          "2025-04-28T00:00:00.000000000",
          "2025-05-05T00:00:00.000000000"
         ],
         "xaxis": "x3",
         "y": {
          "bdata": "9ihcj8J1NEAUrkfheuRZQFyPwvUonFBAAAAAAACAI0AK16NwPTpfQFyPwvUo3E1AhetRuB7FSUB7FK5H4bo0QAAAAAAAgCNAAAAAAACAM0BxPQrXo5BKQA==",
          "dtype": "f8"
         },
         "yaxis": "y3"
        },
        {
         "hovertemplate": "FranchiseStore=03222-00023<br>OrderPlacedMethod=DoorDash<br>WeekStartDate=%{x}<br>WeeklyRevenue=%{y}<extra></extra>",
         "legendgroup": "03222-00023",
         "line": {
          "color": "#FF97FF",
          "dash": "solid"
         },
         "marker": {
          "symbol": "circle"
         },
         "mode": "lines+markers",
         "name": "03222-00023",
         "orientation": "v",
         "showlegend": true,
         "type": "scatter",
         "x": [
          "2025-02-24T00:00:00.000000000",
          "2025-03-03T00:00:00.000000000",
          "2025-03-10T00:00:00.000000000",
          "2025-03-17T00:00:00.000000000",
          "2025-03-24T00:00:00.000000000",
          "2025-03-31T00:00:00.000000000",
          "2025-04-07T00:00:00.000000000",
          "2025-04-14T00:00:00.000000000",
          "2025-04-21T00:00:00.000000000",
          "2025-04-28T00:00:00.000000000",
          "2025-05-05T00:00:00.000000000"
         ],
         "xaxis": "x2",
         "y": {
          "bdata": "hetRuB5mmUCF61G4HqaYQFyPwvUo05hAUrgeheuQkkDhehSuR5OSQBSuR+F6E5hAUrgehesXmECamZmZmbKXQD0K16Nw+JVAcT0K16OilUBmZmZmZteUQA==",
          "dtype": "f8"
         },
         "yaxis": "y2"
        },
        {
         "hovertemplate": "FranchiseStore=03222-00026<br>OrderPlacedMethod=DoorDash<br>WeekStartDate=%{x}<br>WeeklyRevenue=%{y}<extra></extra>",
         "legendgroup": "03222-00026",
         "line": {
          "color": "#FECB52",
          "dash": "solid"
         },
         "marker": {
          "symbol": "circle"
         },
         "mode": "lines+markers",
         "name": "03222-00026",
         "orientation": "v",
         "showlegend": true,
         "type": "scatter",
         "x": [
          "2025-02-24T00:00:00.000000000",
          "2025-03-03T00:00:00.000000000",
          "2025-03-10T00:00:00.000000000",
          "2025-03-17T00:00:00.000000000",
          "2025-03-24T00:00:00.000000000",
          "2025-03-31T00:00:00.000000000",
          "2025-04-07T00:00:00.000000000",
          "2025-04-14T00:00:00.000000000",
          "2025-04-21T00:00:00.000000000",
          "2025-04-28T00:00:00.000000000",
          "2025-05-05T00:00:00.000000000"
         ],
         "xaxis": "x2",
         "y": {
          "bdata": "mpmZmRm7rEAzMzMzs3atQFK4HoXrdahAH4XrUbhxpUDNzMzMTH6kQDMzMzOzFaNApHA9Ctc/pkD2KFyPwq6qQGZmZmZmH6lAcT0K1yNOq0BmZmZm5imtQA==",
          "dtype": "f8"
         },
         "yaxis": "y2"
        },
        {
         "hovertemplate": "FranchiseStore=03222-00027<br>OrderPlacedMethod=UberEats<br>WeekStartDate=%{x}<br>WeeklyRevenue=%{y}<extra></extra>",
         "legendgroup": "03222-00027",
         "line": {
          "color": "#636efa",
          "dash": "solid"
         },
         "marker": {
          "symbol": "circle"
         },
         "mode": "lines+markers",
         "name": "03222-00027",
         "orientation": "v",
         "showlegend": true,
         "type": "scatter",
         "x": [
          "2025-02-24T00:00:00.000000000",
          "2025-03-03T00:00:00.000000000",
          "2025-03-10T00:00:00.000000000",
          "2025-03-17T00:00:00.000000000",
          "2025-03-24T00:00:00.000000000",
          "2025-03-31T00:00:00.000000000",
          "2025-04-07T00:00:00.000000000",
          "2025-04-14T00:00:00.000000000",
          "2025-04-21T00:00:00.000000000",
          "2025-04-28T00:00:00.000000000",
          "2025-05-05T00:00:00.000000000"
         ],
         "xaxis": "x3",
         "y": {
          "bdata": "7FG4HoWxiUB7FK5H4TyLQJqZmZmZOpBA9ihcj8IBjkDD9Shcj4qLQClcj8L1ZolA16NwPQprlEAK16NwPYSSQM3MzMzMUZBAw/UoXI8wjkCuR+F6FIaLQA==",
          "dtype": "f8"
         },
         "yaxis": "y3"
        },
        {
         "hovertemplate": "FranchiseStore=03222-00032<br>OrderPlacedMethod=DoorDash<br>WeekStartDate=%{x}<br>WeeklyRevenue=%{y}<extra></extra>",
         "legendgroup": "03222-00032",
         "line": {
          "color": "#EF553B",
          "dash": "solid"
         },
         "marker": {
          "symbol": "circle"
         },
         "mode": "lines+markers",
         "name": "03222-00032",
         "orientation": "v",
         "showlegend": true,
         "type": "scatter",
         "x": [
          "2025-02-24T00:00:00.000000000",
          "2025-03-03T00:00:00.000000000",
          "2025-03-10T00:00:00.000000000",
          "2025-03-17T00:00:00.000000000",
          "2025-03-24T00:00:00.000000000",
          "2025-03-31T00:00:00.000000000",
          "2025-04-07T00:00:00.000000000",
          "2025-04-14T00:00:00.000000000",
          "2025-04-21T00:00:00.000000000",
          "2025-04-28T00:00:00.000000000",
          "2025-05-05T00:00:00.000000000"
         ],
         "xaxis": "x2",
         "y": {
          "bdata": "mpmZmZk4l0CuR+F6FEaXQFK4HoXrPJlArkfhehRrmEAfhetRuEWVQM3MzMzM0pNAj8L1KFytk0AAAAAAAPeQQJqZmZmZmphAUrgehetAlECuR+F6FASaQA==",
          "dtype": "f8"
         },
         "yaxis": "y2"
        },
        {
         "hovertemplate": "FranchiseStore=03222-00047<br>OrderPlacedMethod=DoorDash<br>WeekStartDate=%{x}<br>WeeklyRevenue=%{y}<extra></extra>",
         "legendgroup": "03222-00047",
         "line": {
          "color": "#00cc96",
          "dash": "solid"
         },
         "marker": {
          "symbol": "circle"
         },
         "mode": "lines+markers",
         "name": "03222-00047",
         "orientation": "v",
         "showlegend": true,
         "type": "scatter",
         "x": [
          "2025-02-24T00:00:00.000000000",
          "2025-03-03T00:00:00.000000000",
          "2025-03-10T00:00:00.000000000",
          "2025-03-17T00:00:00.000000000",
          "2025-03-24T00:00:00.000000000",
          "2025-03-31T00:00:00.000000000",
          "2025-04-07T00:00:00.000000000",
          "2025-04-14T00:00:00.000000000",
          "2025-04-21T00:00:00.000000000",
          "2025-04-28T00:00:00.000000000",
          "2025-05-05T00:00:00.000000000"
         ],
         "xaxis": "x2",
         "y": {
          "bdata": "ZmZmZmYfmEB7FK5H4UGXQGZmZmZmWJVA9ihcj8LzlECuR+F6FO2UQNejcD0K5ZNA4XoUrkcfk0CF61G4HpSTQJqZmZmZvJhASOF6FK7pl0AK16NwPQKVQA==",
          "dtype": "f8"
         },
         "yaxis": "y2"
        },
        {
         "hovertemplate": "FranchiseStore=03646-00003<br>OrderPlacedMethod=DoorDash<br>WeekStartDate=%{x}<br>WeeklyRevenue=%{y}<extra></extra>",
         "legendgroup": "03646-00003",
         "line": {
          "color": "#ab63fa",
          "dash": "solid"
         },
         "marker": {
          "symbol": "circle"
         },
         "mode": "lines+markers",
         "name": "03646-00003",
         "orientation": "v",
         "showlegend": true,
         "type": "scatter",
         "x": [
          "2025-02-24T00:00:00.000000000",
          "2025-03-03T00:00:00.000000000",
          "2025-03-10T00:00:00.000000000",
          "2025-03-17T00:00:00.000000000",
          "2025-03-24T00:00:00.000000000",
          "2025-03-31T00:00:00.000000000",
          "2025-04-07T00:00:00.000000000",
          "2025-04-14T00:00:00.000000000",
          "2025-04-21T00:00:00.000000000",
          "2025-04-28T00:00:00.000000000",
          "2025-05-05T00:00:00.000000000"
         ],
         "xaxis": "x2",
         "y": {
          "bdata": "rkfhepQYqECkcD0KV9qmQBSuR+H6aqZAAAAAAADTpEBSuB6F63ykQNejcD0KOqRArkfhehSqpkCamZmZGf2mQEjhehSuuqdAAAAAAICho0AfhetRuCekQA==",
          "dtype": "f8"
         },
         "yaxis": "y2"
        }
       ],
       "layout": {
        "annotations": [
         {
          "font": {},
          "showarrow": false,
          "text": "OrderPlacedMethod=Website",
          "x": 0.1175,
          "xanchor": "center",
          "xref": "paper",
          "y": 1,
          "yanchor": "bottom",
          "yref": "paper"
         },
         {
          "font": {},
          "showarrow": false,
          "text": "OrderPlacedMethod=DoorDash",
          "x": 0.3725,
          "xanchor": "center",
          "xref": "paper",
          "y": 1,
          "yanchor": "bottom",
          "yref": "paper"
         },
         {
          "font": {},
          "showarrow": false,
          "text": "OrderPlacedMethod=UberEats",
          "x": 0.6275,
          "xanchor": "center",
          "xref": "paper",
          "y": 1,
          "yanchor": "bottom",
          "yref": "paper"
         },
         {
          "font": {},
          "showarrow": false,
          "text": "OrderPlacedMethod=Grubhub",
          "x": 0.8824999999999998,
          "xanchor": "center",
          "xref": "paper",
          "y": 1,
          "yanchor": "bottom",
          "yref": "paper"
         }
        ],
        "height": 600,
        "legend": {
         "title": {
          "text": "FranchiseStore"
         },
         "tracegroupgap": 0
        },
        "template": {
         "data": {
          "bar": [
           {
            "error_x": {
             "color": "#2a3f5f"
            },
            "error_y": {
             "color": "#2a3f5f"
            },
            "marker": {
             "line": {
              "color": "#E5ECF6",
              "width": 0.5
             },
             "pattern": {
              "fillmode": "overlay",
              "size": 10,
              "solidity": 0.2
             }
            },
            "type": "bar"
           }
          ],
          "barpolar": [
           {
            "marker": {
             "line": {
              "color": "#E5ECF6",
              "width": 0.5
             },
             "pattern": {
              "fillmode": "overlay",
              "size": 10,
              "solidity": 0.2
             }
            },
            "type": "barpolar"
           }
          ],
          "carpet": [
           {
            "aaxis": {
             "endlinecolor": "#2a3f5f",
             "gridcolor": "white",
             "linecolor": "white",
             "minorgridcolor": "white",
             "startlinecolor": "#2a3f5f"
            },
            "baxis": {
             "endlinecolor": "#2a3f5f",
             "gridcolor": "white",
             "linecolor": "white",
             "minorgridcolor": "white",
             "startlinecolor": "#2a3f5f"
            },
            "type": "carpet"
           }
          ],
          "choropleth": [
           {
            "colorbar": {
             "outlinewidth": 0,
             "ticks": ""
            },
            "type": "choropleth"
           }
          ],
          "contour": [
           {
            "colorbar": {
             "outlinewidth": 0,
             "ticks": ""
            },
            "colorscale": [
             [
              0,
              "#0d0887"
             ],
             [
              0.1111111111111111,
              "#46039f"
             ],
             [
              0.2222222222222222,
              "#7201a8"
             ],
             [
              0.3333333333333333,
              "#9c179e"
             ],
             [
              0.4444444444444444,
              "#bd3786"
             ],
             [
              0.5555555555555556,
              "#d8576b"
             ],
             [
              0.6666666666666666,
              "#ed7953"
             ],
             [
              0.7777777777777778,
              "#fb9f3a"
             ],
             [
              0.8888888888888888,
              "#fdca26"
             ],
             [
              1,
              "#f0f921"
             ]
            ],
            "type": "contour"
           }
          ],
          "contourcarpet": [
           {
            "colorbar": {
             "outlinewidth": 0,
             "ticks": ""
            },
            "type": "contourcarpet"
           }
          ],
          "heatmap": [
           {
            "colorbar": {
             "outlinewidth": 0,
             "ticks": ""
            },
            "colorscale": [
             [
              0,
              "#0d0887"
             ],
             [
              0.1111111111111111,
              "#46039f"
             ],
             [
              0.2222222222222222,
              "#7201a8"
             ],
             [
              0.3333333333333333,
              "#9c179e"
             ],
             [
              0.4444444444444444,
              "#bd3786"
             ],
             [
              0.5555555555555556,
              "#d8576b"
             ],
             [
              0.6666666666666666,
              "#ed7953"
             ],
             [
              0.7777777777777778,
              "#fb9f3a"
             ],
             [
              0.8888888888888888,
              "#fdca26"
             ],
             [
              1,
              "#f0f921"
             ]
            ],
            "type": "heatmap"
           }
          ],
          "histogram": [
           {
            "marker": {
             "pattern": {
              "fillmode": "overlay",
              "size": 10,
              "solidity": 0.2
             }
            },
            "type": "histogram"
           }
          ],
          "histogram2d": [
           {
            "colorbar": {
             "outlinewidth": 0,
             "ticks": ""
            },
            "colorscale": [
             [
              0,
              "#0d0887"
             ],
             [
              0.1111111111111111,
              "#46039f"
             ],
             [
              0.2222222222222222,
              "#7201a8"
             ],
             [
              0.3333333333333333,
              "#9c179e"
             ],
             [
              0.4444444444444444,
              "#bd3786"
             ],
             [
              0.5555555555555556,
              "#d8576b"
             ],
             [
              0.6666666666666666,
              "#ed7953"
             ],
             [
              0.7777777777777778,
              "#fb9f3a"
             ],
             [
              0.8888888888888888,
              "#fdca26"
             ],
             [
              1,
              "#f0f921"
             ]
            ],
            "type": "histogram2d"
           }
          ],
          "histogram2dcontour": [
           {
            "colorbar": {
             "outlinewidth": 0,
             "ticks": ""
            },
            "colorscale": [
             [
              0,
              "#0d0887"
             ],
             [
              0.1111111111111111,
              "#46039f"
             ],
             [
              0.2222222222222222,
              "#7201a8"
             ],
             [
              0.3333333333333333,
              "#9c179e"
             ],
             [
              0.4444444444444444,
              "#bd3786"
             ],
             [
              0.5555555555555556,
              "#d8576b"
             ],
             [
              0.6666666666666666,
              "#ed7953"
             ],
             [
              0.7777777777777778,
              "#fb9f3a"
             ],
             [
              0.8888888888888888,
              "#fdca26"
             ],
             [
              1,
              "#f0f921"
             ]
            ],
            "type": "histogram2dcontour"
           }
          ],
          "mesh3d": [
           {
            "colorbar": {
             "outlinewidth": 0,
             "ticks": ""
            },
            "type": "mesh3d"
           }
          ],
          "parcoords": [
           {
            "line": {
             "colorbar": {
              "outlinewidth": 0,
              "ticks": ""
             }
            },
            "type": "parcoords"
           }
          ],
          "pie": [
           {
            "automargin": true,
            "type": "pie"
           }
          ],
          "scatter": [
           {
            "fillpattern": {
             "fillmode": "overlay",
             "size": 10,
             "solidity": 0.2
            },
            "type": "scatter"
           }
          ],
          "scatter3d": [
           {
            "line": {
             "colorbar": {
              "outlinewidth": 0,
              "ticks": ""
             }
            },
            "marker": {
             "colorbar": {
              "outlinewidth": 0,
              "ticks": ""
             }
            },
            "type": "scatter3d"
           }
          ],
          "scattercarpet": [
           {
            "marker": {
             "colorbar": {
              "outlinewidth": 0,
              "ticks": ""
             }
            },
            "type": "scattercarpet"
           }
          ],
          "scattergeo": [
           {
            "marker": {
             "colorbar": {
              "outlinewidth": 0,
              "ticks": ""
             }
            },
            "type": "scattergeo"
           }
          ],
          "scattergl": [
           {
            "marker": {
             "colorbar": {
              "outlinewidth": 0,
              "ticks": ""
             }
            },
            "type": "scattergl"
           }
          ],
          "scattermap": [
           {
            "marker": {
             "colorbar": {
              "outlinewidth": 0,
              "ticks": ""
             }
            },
            "type": "scattermap"
           }
          ],
          "scattermapbox": [
           {
            "marker": {
             "colorbar": {
              "outlinewidth": 0,
              "ticks": ""
             }
            },
            "type": "scattermapbox"
           }
          ],
          "scatterpolar": [
           {
            "marker": {
             "colorbar": {
              "outlinewidth": 0,
              "ticks": ""
             }
            },
            "type": "scatterpolar"
           }
          ],
          "scatterpolargl": [
           {
            "marker": {
             "colorbar": {
              "outlinewidth": 0,
              "ticks": ""
             }
            },
            "type": "scatterpolargl"
           }
          ],
          "scatterternary": [
           {
            "marker": {
             "colorbar": {
              "outlinewidth": 0,
              "ticks": ""
             }
            },
            "type": "scatterternary"
           }
          ],
          "surface": [
           {
            "colorbar": {
             "outlinewidth": 0,
             "ticks": ""
            },
            "colorscale": [
             [
              0,
              "#0d0887"
             ],
             [
              0.1111111111111111,
              "#46039f"
             ],
             [
              0.2222222222222222,
              "#7201a8"
             ],
             [
              0.3333333333333333,
              "#9c179e"
             ],
             [
              0.4444444444444444,
              "#bd3786"
             ],
             [
              0.5555555555555556,
              "#d8576b"
             ],
             [
              0.6666666666666666,
              "#ed7953"
             ],
             [
              0.7777777777777778,
              "#fb9f3a"
             ],
             [
              0.8888888888888888,
              "#fdca26"
             ],
             [
              1,
              "#f0f921"
             ]
            ],
            "type": "surface"
           }
          ],
          "table": [
           {
            "cells": {
             "fill": {
              "color": "#EBF0F8"
             },
             "line": {
              "color": "white"
             }
            },
            "header": {
             "fill": {
              "color": "#C8D4E3"
             },
             "line": {
              "color": "white"
             }
            },
            "type": "table"
           }
          ]
         },
         "layout": {
          "annotationdefaults": {
           "arrowcolor": "#2a3f5f",
           "arrowhead": 0,
           "arrowwidth": 1
          },
          "autotypenumbers": "strict",
          "coloraxis": {
           "colorbar": {
            "outlinewidth": 0,
            "ticks": ""
           }
          },
          "colorscale": {
           "diverging": [
            [
             0,
             "#8e0152"
            ],
            [
             0.1,
             "#c51b7d"
            ],
            [
             0.2,
             "#de77ae"
            ],
            [
             0.3,
             "#f1b6da"
            ],
            [
             0.4,
             "#fde0ef"
            ],
            [
             0.5,
             "#f7f7f7"
            ],
            [
             0.6,
             "#e6f5d0"
            ],
            [
             0.7,
             "#b8e186"
            ],
            [
             0.8,
             "#7fbc41"
            ],
            [
             0.9,
             "#4d9221"
            ],
            [
             1,
             "#276419"
            ]
           ],
           "sequential": [
            [
             0,
             "#0d0887"
            ],
            [
             0.1111111111111111,
             "#46039f"
            ],
            [
             0.2222222222222222,
             "#7201a8"
            ],
            [
             0.3333333333333333,
             "#9c179e"
            ],
            [
             0.4444444444444444,
             "#bd3786"
            ],
            [
             0.5555555555555556,
             "#d8576b"
            ],
            [
             0.6666666666666666,
             "#ed7953"
            ],
            [
             0.7777777777777778,
             "#fb9f3a"
            ],
            [
             0.8888888888888888,
             "#fdca26"
            ],
            [
             1,
             "#f0f921"
            ]
           ],
           "sequentialminus": [
            [
             0,
             "#0d0887"
            ],
            [
             0.1111111111111111,
             "#46039f"
            ],
            [
             0.2222222222222222,
             "#7201a8"
            ],
            [
             0.3333333333333333,
             "#9c179e"
            ],
            [
             0.4444444444444444,
             "#bd3786"
            ],
            [
             0.5555555555555556,
             "#d8576b"
            ],
            [
             0.6666666666666666,
             "#ed7953"
            ],
            [
             0.7777777777777778,
             "#fb9f3a"
            ],
            [
             0.8888888888888888,
             "#fdca26"
            ],
            [
             1,
             "#f0f921"
            ]
           ]
          },
          "colorway": [
           "#636efa",
           "#EF553B",
           "#00cc96",
           "#ab63fa",
           "#FFA15A",
           "#19d3f3",
           "#FF6692",
           "#B6E880",
           "#FF97FF",
           "#FECB52"
          ],
          "font": {
           "color": "#2a3f5f"
          },
          "geo": {
           "bgcolor": "white",
           "lakecolor": "white",
           "landcolor": "#E5ECF6",
           "showlakes": true,
           "showland": true,
           "subunitcolor": "white"
          },
          "hoverlabel": {
           "align": "left"
          },
          "hovermode": "closest",
          "mapbox": {
           "style": "light"
          },
          "paper_bgcolor": "white",
          "plot_bgcolor": "#E5ECF6",
          "polar": {
           "angularaxis": {
            "gridcolor": "white",
            "linecolor": "white",
            "ticks": ""
           },
           "bgcolor": "#E5ECF6",
           "radialaxis": {
            "gridcolor": "white",
            "linecolor": "white",
            "ticks": ""
           }
          },
          "scene": {
           "xaxis": {
            "backgroundcolor": "#E5ECF6",
            "gridcolor": "white",
            "gridwidth": 2,
            "linecolor": "white",
            "showbackground": true,
            "ticks": "",
            "zerolinecolor": "white"
           },
           "yaxis": {
            "backgroundcolor": "#E5ECF6",
            "gridcolor": "white",
            "gridwidth": 2,
            "linecolor": "white",
            "showbackground": true,
            "ticks": "",
            "zerolinecolor": "white"
           },
           "zaxis": {
            "backgroundcolor": "#E5ECF6",
            "gridcolor": "white",
            "gridwidth": 2,
            "linecolor": "white",
            "showbackground": true,
            "ticks": "",
            "zerolinecolor": "white"
           }
          },
          "shapedefaults": {
           "line": {
            "color": "#2a3f5f"
           }
          },
          "ternary": {
           "aaxis": {
            "gridcolor": "white",
            "linecolor": "white",
            "ticks": ""
           },
           "baxis": {
            "gridcolor": "white",
            "linecolor": "white",
            "ticks": ""
           },
           "bgcolor": "#E5ECF6",
           "caxis": {
            "gridcolor": "white",
            "linecolor": "white",
            "ticks": ""
           }
          },
          "title": {
           "x": 0.05
          },
          "xaxis": {
           "automargin": true,
           "gridcolor": "white",
           "linecolor": "white",
           "ticks": "",
           "title": {
            "standoff": 15
           },
           "zerolinecolor": "white",
           "zerolinewidth": 2
          },
          "yaxis": {
           "automargin": true,
           "gridcolor": "white",
           "linecolor": "white",
           "ticks": "",
           "title": {
            "standoff": 15
           },
           "zerolinecolor": "white",
           "zerolinewidth": 2
          }
         }
        },
        "title": {
         "text": "Franchises with 4-Week Revenue Declines (Last 3 Months)"
        },
        "xaxis": {
         "anchor": "y",
         "domain": [
          0,
          0.235
         ],
         "tickangle": 45,
         "title": {
          "text": "Week Start Date"
         }
        },
        "xaxis2": {
         "anchor": "y2",
         "domain": [
          0.255,
          0.49
         ],
         "matches": "x",
         "tickangle": 45,
         "title": {
          "text": "WeekStartDate"
         }
        },
        "xaxis3": {
         "anchor": "y3",
         "domain": [
          0.51,
          0.745
         ],
         "matches": "x",
         "tickangle": 45,
         "title": {
          "text": "WeekStartDate"
         }
        },
        "xaxis4": {
         "anchor": "y4",
         "domain": [
          0.7649999999999999,
          0.9999999999999999
         ],
         "matches": "x",
         "tickangle": 45,
         "title": {
          "text": "WeekStartDate"
         }
        },
        "yaxis": {
         "anchor": "x",
         "domain": [
          0,
          1
         ],
         "title": {
          "text": "Weekly Revenue"
         }
        },
        "yaxis2": {
         "anchor": "x2",
         "domain": [
          0,
          1
         ],
         "matches": "y",
         "showticklabels": false
        },
        "yaxis3": {
         "anchor": "x3",
         "domain": [
          0,
          1
         ],
         "matches": "y",
         "showticklabels": false
        },
        "yaxis4": {
         "anchor": "x4",
         "domain": [
          0,
          1
         ],
         "matches": "y",
         "showticklabels": false
        }
       }
      }
     },
     "metadata": {},
     "output_type": "display_data"
    }
   ],
   "source": [
    "import pandas as pd\n",
    "import plotly.express as px\n",
    "\n",
    "# find store with their ordermode declining 4 conssective weeks Week-over-Week Revenue Growth % per Brand  OrderPlacedMethod\n",
    "data['WeekStartDate'] = pd.to_datetime(data['WeekStartDate'])\n",
    "three_months_ago = pd.Timestamp.today() - pd.DateOffset(months=3)\n",
    "recent_data = data[data['WeekStartDate'] >= three_months_ago].copy()\n",
    "\n",
    "# --- Step 2: Calculate WoW_Growth_Percent ---\n",
    "recent_data = recent_data.sort_values(['FranchiseStore', 'OrderPlacedMethod', 'WeekStartDate'])\n",
    "recent_data['WoW_Growth_Percent'] = (\n",
    "    recent_data.groupby(['FranchiseStore', 'OrderPlacedMethod'])['WeeklyRevenue']\n",
    "    .pct_change() * 100\n",
    ")\n",
    "\n",
    "# --- Step 3: Identify 4 consecutive declines ---\n",
    "def has_4_consecutive_declines(group):\n",
    "    decline = group['WoW_Growth_Percent'] < 0\n",
    "    rolling = decline.rolling(window=4).apply(lambda x: all(x), raw=True)\n",
    "    return rolling.any()\n",
    "\n",
    "declining_keys = (\n",
    "    recent_data.groupby(['FranchiseStore', 'OrderPlacedMethod'])\n",
    "    .filter(has_4_consecutive_declines)\n",
    "    [['FranchiseStore', 'OrderPlacedMethod']]\n",
    "    .drop_duplicates()\n",
    ")\n",
    "\n",
    "# --- Step 4: Filter to only declining groups ---\n",
    "declining_data = pd.merge(recent_data, declining_keys, on=['FranchiseStore', 'OrderPlacedMethod'])\n",
    "\n",
    "# --- Step 5: Plot with Plotly Express ---\n",
    "fig = px.line(\n",
    "    declining_data,\n",
    "    x='WeekStartDate',\n",
    "    y='WeeklyRevenue',\n",
    "    color='FranchiseStore',\n",
    "    facet_col='OrderPlacedMethod',\n",
    "    line_group='FranchiseStore',\n",
    "    markers=True,\n",
    "    title='Franchises with 4-Week Revenue Declines (Last 3 Months)'\n",
    ")\n",
    "\n",
    "fig.update_layout(\n",
    "    height=600,\n",
    "    legend_title_text='FranchiseStore',\n",
    "    xaxis_title='Week Start Date',\n",
    "    yaxis_title='Weekly Revenue'\n",
    ")\n",
    "\n",
    "fig.update_xaxes(tickangle=45)\n",
    "fig.show()\n"
   ]
  },
  {
   "cell_type": "markdown",
   "metadata": {},
   "source": [
    "#  AOA  analysis\n"
   ]
  },
  {
   "cell_type": "code",
   "execution_count": 259,
   "metadata": {},
   "outputs": [],
   "source": [
    "# Understand which OrderPlacedMethod (your ecommerce channels) deliver:\n",
    "\n",
    "# High Average Order Value (AOV) → more value per order\n",
    "# High Order Volume → more customer activity\n",
    "# This helps identify:\n",
    "# Channels bringing in high-value customers\n",
    "# Channels with high traffic but potentially low spend per order (opportunity for upsell)\n"
   ]
  },
  {
   "cell_type": "code",
   "execution_count": 490,
   "metadata": {},
   "outputs": [
    {
     "data": {
      "text/html": [
       "<div>\n",
       "<style scoped>\n",
       "    .dataframe tbody tr th:only-of-type {\n",
       "        vertical-align: middle;\n",
       "    }\n",
       "\n",
       "    .dataframe tbody tr th {\n",
       "        vertical-align: top;\n",
       "    }\n",
       "\n",
       "    .dataframe thead th {\n",
       "        text-align: right;\n",
       "    }\n",
       "</style>\n",
       "<table border=\"1\" class=\"dataframe\">\n",
       "  <thead>\n",
       "    <tr style=\"text-align: right;\">\n",
       "      <th></th>\n",
       "      <th>FranchiseStore</th>\n",
       "      <th>OrderPlacedMethod</th>\n",
       "      <th>WeeklyRevenue</th>\n",
       "      <th>WeekStartDate</th>\n",
       "      <th>UniqueOrderCount</th>\n",
       "      <th>channel</th>\n",
       "      <th>Brand</th>\n",
       "      <th>AOV</th>\n",
       "    </tr>\n",
       "  </thead>\n",
       "  <tbody>\n",
       "    <tr>\n",
       "      <th>54</th>\n",
       "      <td>01389-00001</td>\n",
       "      <td>DoorDash</td>\n",
       "      <td>3844.97</td>\n",
       "      <td>2025-02-24</td>\n",
       "      <td>203</td>\n",
       "      <td>3PO</td>\n",
       "      <td>LC</td>\n",
       "      <td>18.940739</td>\n",
       "    </tr>\n",
       "    <tr>\n",
       "      <th>55</th>\n",
       "      <td>01389-00001</td>\n",
       "      <td>DoorDash</td>\n",
       "      <td>3119.65</td>\n",
       "      <td>2025-03-03</td>\n",
       "      <td>167</td>\n",
       "      <td>3PO</td>\n",
       "      <td>LC</td>\n",
       "      <td>18.680539</td>\n",
       "    </tr>\n",
       "    <tr>\n",
       "      <th>56</th>\n",
       "      <td>01389-00001</td>\n",
       "      <td>DoorDash</td>\n",
       "      <td>3007.84</td>\n",
       "      <td>2025-03-10</td>\n",
       "      <td>152</td>\n",
       "      <td>3PO</td>\n",
       "      <td>LC</td>\n",
       "      <td>19.788421</td>\n",
       "    </tr>\n",
       "    <tr>\n",
       "      <th>57</th>\n",
       "      <td>01389-00001</td>\n",
       "      <td>DoorDash</td>\n",
       "      <td>3410.18</td>\n",
       "      <td>2025-03-17</td>\n",
       "      <td>184</td>\n",
       "      <td>3PO</td>\n",
       "      <td>LC</td>\n",
       "      <td>18.533587</td>\n",
       "    </tr>\n",
       "    <tr>\n",
       "      <th>58</th>\n",
       "      <td>01389-00001</td>\n",
       "      <td>DoorDash</td>\n",
       "      <td>3242.99</td>\n",
       "      <td>2025-03-24</td>\n",
       "      <td>169</td>\n",
       "      <td>3PO</td>\n",
       "      <td>LC</td>\n",
       "      <td>19.189290</td>\n",
       "    </tr>\n",
       "  </tbody>\n",
       "</table>\n",
       "</div>"
      ],
      "text/plain": [
       "   FranchiseStore OrderPlacedMethod  WeeklyRevenue WeekStartDate  \\\n",
       "54    01389-00001          DoorDash        3844.97    2025-02-24   \n",
       "55    01389-00001          DoorDash        3119.65    2025-03-03   \n",
       "56    01389-00001          DoorDash        3007.84    2025-03-10   \n",
       "57    01389-00001          DoorDash        3410.18    2025-03-17   \n",
       "58    01389-00001          DoorDash        3242.99    2025-03-24   \n",
       "\n",
       "    UniqueOrderCount channel Brand        AOV  \n",
       "54               203     3PO    LC  18.940739  \n",
       "55               167     3PO    LC  18.680539  \n",
       "56               152     3PO    LC  19.788421  \n",
       "57               184     3PO    LC  18.533587  \n",
       "58               169     3PO    LC  19.189290  "
      ]
     },
     "execution_count": 490,
     "metadata": {},
     "output_type": "execute_result"
    }
   ],
   "source": [
    "data=lc_weekly_order.copy()\n",
    "data['WeekStartDate'] = pd.to_datetime(data['WeekStartDate'])\n",
    "# Calculate AOV (Average Order Value)\n",
    "\n",
    "data['AOV'] = data['WeeklyRevenue'] / data['UniqueOrderCount']\n",
    "three_months_ago = pd.Timestamp.today() - pd.DateOffset(months=3)\n",
    "\n",
    "# Filter the data for last 3 months\n",
    "data = data[data['WeekStartDate'] >= three_months_ago]\n",
    "data.head()\n"
   ]
  },
  {
   "cell_type": "code",
   "execution_count": 491,
   "metadata": {},
   "outputs": [
    {
     "name": "stdout",
     "output_type": "stream",
     "text": [
      "(3558, 9)\n"
     ]
    },
    {
     "data": {
      "text/html": [
       "<div>\n",
       "<style scoped>\n",
       "    .dataframe tbody tr th:only-of-type {\n",
       "        vertical-align: middle;\n",
       "    }\n",
       "\n",
       "    .dataframe tbody tr th {\n",
       "        vertical-align: top;\n",
       "    }\n",
       "\n",
       "    .dataframe thead th {\n",
       "        text-align: right;\n",
       "    }\n",
       "</style>\n",
       "<table border=\"1\" class=\"dataframe\">\n",
       "  <thead>\n",
       "    <tr style=\"text-align: right;\">\n",
       "      <th></th>\n",
       "      <th>FranchiseStore</th>\n",
       "      <th>OrderPlacedMethod</th>\n",
       "      <th>WeeklyRevenue</th>\n",
       "      <th>WeekStartDate</th>\n",
       "      <th>UniqueOrderCount</th>\n",
       "      <th>channel</th>\n",
       "      <th>Brand</th>\n",
       "      <th>AOV</th>\n",
       "      <th>WoW_Growth_Percent</th>\n",
       "    </tr>\n",
       "  </thead>\n",
       "  <tbody>\n",
       "    <tr>\n",
       "      <th>54</th>\n",
       "      <td>01389-00001</td>\n",
       "      <td>DoorDash</td>\n",
       "      <td>3844.97</td>\n",
       "      <td>2025-02-24</td>\n",
       "      <td>203</td>\n",
       "      <td>3PO</td>\n",
       "      <td>LC</td>\n",
       "      <td>18.94</td>\n",
       "      <td>NaN</td>\n",
       "    </tr>\n",
       "    <tr>\n",
       "      <th>55</th>\n",
       "      <td>01389-00001</td>\n",
       "      <td>DoorDash</td>\n",
       "      <td>3119.65</td>\n",
       "      <td>2025-03-03</td>\n",
       "      <td>167</td>\n",
       "      <td>3PO</td>\n",
       "      <td>LC</td>\n",
       "      <td>18.68</td>\n",
       "      <td>-18.86</td>\n",
       "    </tr>\n",
       "    <tr>\n",
       "      <th>56</th>\n",
       "      <td>01389-00001</td>\n",
       "      <td>DoorDash</td>\n",
       "      <td>3007.84</td>\n",
       "      <td>2025-03-10</td>\n",
       "      <td>152</td>\n",
       "      <td>3PO</td>\n",
       "      <td>LC</td>\n",
       "      <td>19.79</td>\n",
       "      <td>-3.58</td>\n",
       "    </tr>\n",
       "    <tr>\n",
       "      <th>57</th>\n",
       "      <td>01389-00001</td>\n",
       "      <td>DoorDash</td>\n",
       "      <td>3410.18</td>\n",
       "      <td>2025-03-17</td>\n",
       "      <td>184</td>\n",
       "      <td>3PO</td>\n",
       "      <td>LC</td>\n",
       "      <td>18.53</td>\n",
       "      <td>13.38</td>\n",
       "    </tr>\n",
       "    <tr>\n",
       "      <th>58</th>\n",
       "      <td>01389-00001</td>\n",
       "      <td>DoorDash</td>\n",
       "      <td>3242.99</td>\n",
       "      <td>2025-03-24</td>\n",
       "      <td>169</td>\n",
       "      <td>3PO</td>\n",
       "      <td>LC</td>\n",
       "      <td>19.19</td>\n",
       "      <td>-4.90</td>\n",
       "    </tr>\n",
       "  </tbody>\n",
       "</table>\n",
       "</div>"
      ],
      "text/plain": [
       "   FranchiseStore OrderPlacedMethod  WeeklyRevenue WeekStartDate  \\\n",
       "54    01389-00001          DoorDash        3844.97    2025-02-24   \n",
       "55    01389-00001          DoorDash        3119.65    2025-03-03   \n",
       "56    01389-00001          DoorDash        3007.84    2025-03-10   \n",
       "57    01389-00001          DoorDash        3410.18    2025-03-17   \n",
       "58    01389-00001          DoorDash        3242.99    2025-03-24   \n",
       "\n",
       "    UniqueOrderCount channel Brand    AOV  WoW_Growth_Percent  \n",
       "54               203     3PO    LC  18.94                 NaN  \n",
       "55               167     3PO    LC  18.68              -18.86  \n",
       "56               152     3PO    LC  19.79               -3.58  \n",
       "57               184     3PO    LC  18.53               13.38  \n",
       "58               169     3PO    LC  19.19               -4.90  "
      ]
     },
     "execution_count": 491,
     "metadata": {},
     "output_type": "execute_result"
    }
   ],
   "source": [
    "data['WoW_Growth_Percent'] = data.groupby(['FranchiseStore','OrderPlacedMethod'])['WeeklyRevenue'].pct_change() * 100\n",
    "\n",
    "\n",
    "\n",
    "# Round for presentation\n",
    "data['WeeklyRevenue'] = data['WeeklyRevenue'].round(2)\n",
    "data['AOV'] = data['AOV'].round(2)\n",
    "data['WoW_Growth_Percent'] = data['WoW_Growth_Percent'].round(2)\n",
    "data.head()\n",
    "print(data.shape)\n",
    "data.head()\n"
   ]
  },
  {
   "cell_type": "code",
   "execution_count": 494,
   "metadata": {},
   "outputs": [
    {
     "name": "stdout",
     "output_type": "stream",
     "text": [
      "(340, 5)\n"
     ]
    },
    {
     "data": {
      "text/html": [
       "<div>\n",
       "<style scoped>\n",
       "    .dataframe tbody tr th:only-of-type {\n",
       "        vertical-align: middle;\n",
       "    }\n",
       "\n",
       "    .dataframe tbody tr th {\n",
       "        vertical-align: top;\n",
       "    }\n",
       "\n",
       "    .dataframe thead th {\n",
       "        text-align: right;\n",
       "    }\n",
       "</style>\n",
       "<table border=\"1\" class=\"dataframe\">\n",
       "  <thead>\n",
       "    <tr style=\"text-align: right;\">\n",
       "      <th></th>\n",
       "      <th>FranchiseStore</th>\n",
       "      <th>OrderPlacedMethod</th>\n",
       "      <th>UniqueOrderCount</th>\n",
       "      <th>WeeklyRevenue</th>\n",
       "      <th>AOV</th>\n",
       "    </tr>\n",
       "  </thead>\n",
       "  <tbody>\n",
       "    <tr>\n",
       "      <th>0</th>\n",
       "      <td>01389-00001</td>\n",
       "      <td>DoorDash</td>\n",
       "      <td>1987</td>\n",
       "      <td>37084.17</td>\n",
       "      <td>18.683636</td>\n",
       "    </tr>\n",
       "    <tr>\n",
       "      <th>1</th>\n",
       "      <td>01389-00001</td>\n",
       "      <td>Grubhub</td>\n",
       "      <td>12</td>\n",
       "      <td>236.08</td>\n",
       "      <td>21.245000</td>\n",
       "    </tr>\n",
       "    <tr>\n",
       "      <th>2</th>\n",
       "      <td>01389-00001</td>\n",
       "      <td>Mobile</td>\n",
       "      <td>5138</td>\n",
       "      <td>93774.63</td>\n",
       "      <td>18.296364</td>\n",
       "    </tr>\n",
       "    <tr>\n",
       "      <th>3</th>\n",
       "      <td>01389-00001</td>\n",
       "      <td>UberEats</td>\n",
       "      <td>174</td>\n",
       "      <td>3519.83</td>\n",
       "      <td>20.276364</td>\n",
       "    </tr>\n",
       "    <tr>\n",
       "      <th>4</th>\n",
       "      <td>01389-00001</td>\n",
       "      <td>Website</td>\n",
       "      <td>2129</td>\n",
       "      <td>45241.00</td>\n",
       "      <td>21.339091</td>\n",
       "    </tr>\n",
       "    <tr>\n",
       "      <th>...</th>\n",
       "      <td>...</td>\n",
       "      <td>...</td>\n",
       "      <td>...</td>\n",
       "      <td>...</td>\n",
       "      <td>...</td>\n",
       "    </tr>\n",
       "    <tr>\n",
       "      <th>335</th>\n",
       "      <td>03646-00003</td>\n",
       "      <td>Website</td>\n",
       "      <td>2315</td>\n",
       "      <td>47872.85</td>\n",
       "      <td>20.729091</td>\n",
       "    </tr>\n",
       "    <tr>\n",
       "      <th>336</th>\n",
       "      <td>03646-00004</td>\n",
       "      <td>DoorDash</td>\n",
       "      <td>465</td>\n",
       "      <td>9169.94</td>\n",
       "      <td>19.671818</td>\n",
       "    </tr>\n",
       "    <tr>\n",
       "      <th>337</th>\n",
       "      <td>03646-00004</td>\n",
       "      <td>Mobile</td>\n",
       "      <td>1230</td>\n",
       "      <td>22667.16</td>\n",
       "      <td>18.508182</td>\n",
       "    </tr>\n",
       "    <tr>\n",
       "      <th>338</th>\n",
       "      <td>03646-00004</td>\n",
       "      <td>UberEats</td>\n",
       "      <td>9</td>\n",
       "      <td>146.47</td>\n",
       "      <td>16.274444</td>\n",
       "    </tr>\n",
       "    <tr>\n",
       "      <th>339</th>\n",
       "      <td>03646-00004</td>\n",
       "      <td>Website</td>\n",
       "      <td>573</td>\n",
       "      <td>11563.93</td>\n",
       "      <td>20.046364</td>\n",
       "    </tr>\n",
       "  </tbody>\n",
       "</table>\n",
       "<p>340 rows × 5 columns</p>\n",
       "</div>"
      ],
      "text/plain": [
       "    FranchiseStore OrderPlacedMethod  UniqueOrderCount  WeeklyRevenue  \\\n",
       "0      01389-00001          DoorDash              1987       37084.17   \n",
       "1      01389-00001           Grubhub                12         236.08   \n",
       "2      01389-00001            Mobile              5138       93774.63   \n",
       "3      01389-00001          UberEats               174        3519.83   \n",
       "4      01389-00001           Website              2129       45241.00   \n",
       "..             ...               ...               ...            ...   \n",
       "335    03646-00003           Website              2315       47872.85   \n",
       "336    03646-00004          DoorDash               465        9169.94   \n",
       "337    03646-00004            Mobile              1230       22667.16   \n",
       "338    03646-00004          UberEats                 9         146.47   \n",
       "339    03646-00004           Website               573       11563.93   \n",
       "\n",
       "           AOV  \n",
       "0    18.683636  \n",
       "1    21.245000  \n",
       "2    18.296364  \n",
       "3    20.276364  \n",
       "4    21.339091  \n",
       "..         ...  \n",
       "335  20.729091  \n",
       "336  19.671818  \n",
       "337  18.508182  \n",
       "338  16.274444  \n",
       "339  20.046364  \n",
       "\n",
       "[340 rows x 5 columns]"
      ]
     },
     "execution_count": 494,
     "metadata": {},
     "output_type": "execute_result"
    }
   ],
   "source": [
    "# Group by Store and OrderPlacedMethod\n",
    "conversion_quality = data.groupby(['FranchiseStore', 'OrderPlacedMethod']).agg({\n",
    "    'UniqueOrderCount': 'sum',\n",
    "    'WeeklyRevenue': 'sum',\n",
    "    'AOV': 'mean'\n",
    "}).reset_index()\n",
    "print(conversion_quality.shape)\n",
    "\n",
    "conversion_quality\n"
   ]
  },
  {
   "cell_type": "code",
   "execution_count": 495,
   "metadata": {},
   "outputs": [
    {
     "data": {
      "text/html": [
       "<div>\n",
       "<style scoped>\n",
       "    .dataframe tbody tr th:only-of-type {\n",
       "        vertical-align: middle;\n",
       "    }\n",
       "\n",
       "    .dataframe tbody tr th {\n",
       "        vertical-align: top;\n",
       "    }\n",
       "\n",
       "    .dataframe thead th {\n",
       "        text-align: right;\n",
       "    }\n",
       "</style>\n",
       "<table border=\"1\" class=\"dataframe\">\n",
       "  <thead>\n",
       "    <tr style=\"text-align: right;\">\n",
       "      <th></th>\n",
       "      <th>FranchiseStore</th>\n",
       "      <th>OrderPlacedMethod</th>\n",
       "      <th>UniqueOrderCount</th>\n",
       "      <th>WeeklyRevenue</th>\n",
       "      <th>AOV</th>\n",
       "      <th>RevenuePerOrder</th>\n",
       "    </tr>\n",
       "  </thead>\n",
       "  <tbody>\n",
       "    <tr>\n",
       "      <th>4</th>\n",
       "      <td>01389-00001</td>\n",
       "      <td>Website</td>\n",
       "      <td>2129</td>\n",
       "      <td>45241.00</td>\n",
       "      <td>21.34</td>\n",
       "      <td>21.25</td>\n",
       "    </tr>\n",
       "    <tr>\n",
       "      <th>1</th>\n",
       "      <td>01389-00001</td>\n",
       "      <td>Grubhub</td>\n",
       "      <td>12</td>\n",
       "      <td>236.08</td>\n",
       "      <td>21.24</td>\n",
       "      <td>19.67</td>\n",
       "    </tr>\n",
       "    <tr>\n",
       "      <th>3</th>\n",
       "      <td>01389-00001</td>\n",
       "      <td>UberEats</td>\n",
       "      <td>174</td>\n",
       "      <td>3519.83</td>\n",
       "      <td>20.28</td>\n",
       "      <td>20.23</td>\n",
       "    </tr>\n",
       "    <tr>\n",
       "      <th>0</th>\n",
       "      <td>01389-00001</td>\n",
       "      <td>DoorDash</td>\n",
       "      <td>1987</td>\n",
       "      <td>37084.17</td>\n",
       "      <td>18.68</td>\n",
       "      <td>18.66</td>\n",
       "    </tr>\n",
       "    <tr>\n",
       "      <th>2</th>\n",
       "      <td>01389-00001</td>\n",
       "      <td>Mobile</td>\n",
       "      <td>5138</td>\n",
       "      <td>93774.63</td>\n",
       "      <td>18.30</td>\n",
       "      <td>18.25</td>\n",
       "    </tr>\n",
       "  </tbody>\n",
       "</table>\n",
       "</div>"
      ],
      "text/plain": [
       "  FranchiseStore OrderPlacedMethod  UniqueOrderCount  WeeklyRevenue    AOV  \\\n",
       "4    01389-00001           Website              2129       45241.00  21.34   \n",
       "1    01389-00001           Grubhub                12         236.08  21.24   \n",
       "3    01389-00001          UberEats               174        3519.83  20.28   \n",
       "0    01389-00001          DoorDash              1987       37084.17  18.68   \n",
       "2    01389-00001            Mobile              5138       93774.63  18.30   \n",
       "\n",
       "   RevenuePerOrder  \n",
       "4            21.25  \n",
       "1            19.67  \n",
       "3            20.23  \n",
       "0            18.66  \n",
       "2            18.25  "
      ]
     },
     "execution_count": 495,
     "metadata": {},
     "output_type": "execute_result"
    }
   ],
   "source": [
    "\n",
    "\n",
    "\n",
    "\n",
    "# Optional: Add Revenue Per Order\n",
    "conversion_quality['RevenuePerOrder'] = (\n",
    "    conversion_quality['WeeklyRevenue'] / conversion_quality['UniqueOrderCount']\n",
    ").round(2)\n",
    "\n",
    "# Round values\n",
    "conversion_quality['AOV'] = conversion_quality['AOV'].round(2)\n",
    "conversion_quality['WeeklyRevenue'] = conversion_quality['WeeklyRevenue'].round(2)\n",
    "\n",
    "# Sort by AOV or Revenue\n",
    "conversion_quality = conversion_quality.sort_values(\n",
    "    by=['FranchiseStore', 'AOV'], ascending=[True, False]\n",
    ")\n",
    "\n",
    "conversion_quality\n",
    "conversion_quality[(conversion_quality['FranchiseStore']=='01389-00001')&(conversion_quality['OrderPlacedMethod']=='Mobile')]\n",
    "\n",
    "conversion_quality.shape\n",
    "conversion_quality.head()\n"
   ]
  },
  {
   "cell_type": "code",
   "execution_count": 496,
   "metadata": {},
   "outputs": [],
   "source": [
    "# Use quantiles to define performance bands\n",
    "revenue_80 = conversion_quality['WeeklyRevenue'].quantile(0.80)\n",
    "aov_80 = conversion_quality['AOV'].quantile(0.80)\n",
    "\n",
    "revenue_20 = conversion_quality['WeeklyRevenue'].quantile(0.20)\n",
    "aov_20 = conversion_quality['AOV'].quantile(0.20)\n"
   ]
  },
  {
   "cell_type": "code",
   "execution_count": 497,
   "metadata": {},
   "outputs": [
    {
     "name": "stdout",
     "output_type": "stream",
     "text": [
      "Top-Performing Store + Channel Combos\n"
     ]
    },
    {
     "data": {
      "text/html": [
       "<div>\n",
       "<style scoped>\n",
       "    .dataframe tbody tr th:only-of-type {\n",
       "        vertical-align: middle;\n",
       "    }\n",
       "\n",
       "    .dataframe tbody tr th {\n",
       "        vertical-align: top;\n",
       "    }\n",
       "\n",
       "    .dataframe thead th {\n",
       "        text-align: right;\n",
       "    }\n",
       "</style>\n",
       "<table border=\"1\" class=\"dataframe\">\n",
       "  <thead>\n",
       "    <tr style=\"text-align: right;\">\n",
       "      <th></th>\n",
       "      <th>FranchiseStore</th>\n",
       "      <th>OrderPlacedMethod</th>\n",
       "      <th>UniqueOrderCount</th>\n",
       "      <th>WeeklyRevenue</th>\n",
       "      <th>AOV</th>\n",
       "      <th>RevenuePerOrder</th>\n",
       "    </tr>\n",
       "  </thead>\n",
       "  <tbody>\n",
       "    <tr>\n",
       "      <th>214</th>\n",
       "      <td>03222-00017</td>\n",
       "      <td>Mobile</td>\n",
       "      <td>3484</td>\n",
       "      <td>78607.88</td>\n",
       "      <td>22.54</td>\n",
       "      <td>22.56</td>\n",
       "    </tr>\n",
       "    <tr>\n",
       "      <th>109</th>\n",
       "      <td>01940-00011</td>\n",
       "      <td>Mobile</td>\n",
       "      <td>2549</td>\n",
       "      <td>57880.27</td>\n",
       "      <td>22.79</td>\n",
       "      <td>22.71</td>\n",
       "    </tr>\n",
       "    <tr>\n",
       "      <th>208</th>\n",
       "      <td>03222-00015</td>\n",
       "      <td>Website</td>\n",
       "      <td>2337</td>\n",
       "      <td>55711.93</td>\n",
       "      <td>23.84</td>\n",
       "      <td>23.84</td>\n",
       "    </tr>\n",
       "    <tr>\n",
       "      <th>216</th>\n",
       "      <td>03222-00017</td>\n",
       "      <td>Website</td>\n",
       "      <td>1820</td>\n",
       "      <td>44643.89</td>\n",
       "      <td>24.52</td>\n",
       "      <td>24.53</td>\n",
       "    </tr>\n",
       "  </tbody>\n",
       "</table>\n",
       "</div>"
      ],
      "text/plain": [
       "    FranchiseStore OrderPlacedMethod  UniqueOrderCount  WeeklyRevenue    AOV  \\\n",
       "214    03222-00017            Mobile              3484       78607.88  22.54   \n",
       "109    01940-00011            Mobile              2549       57880.27  22.79   \n",
       "208    03222-00015           Website              2337       55711.93  23.84   \n",
       "216    03222-00017           Website              1820       44643.89  24.52   \n",
       "\n",
       "     RevenuePerOrder  \n",
       "214            22.56  \n",
       "109            22.71  \n",
       "208            23.84  \n",
       "216            24.53  "
      ]
     },
     "execution_count": 497,
     "metadata": {},
     "output_type": "execute_result"
    }
   ],
   "source": [
    "top_performers = conversion_quality[\n",
    "    (conversion_quality['WeeklyRevenue'] >= revenue_80) &\n",
    "    (conversion_quality['AOV'] >= aov_80)\n",
    "].sort_values(by=['WeeklyRevenue'], ascending=False)\n",
    "\n",
    "print(\"Top-Performing Store + Channel Combos\")\n",
    "top_performers\n"
   ]
  },
  {
   "cell_type": "code",
   "execution_count": 498,
   "metadata": {},
   "outputs": [
    {
     "name": "stdout",
     "output_type": "stream",
     "text": [
      "Underperforming Store + Channel Combos\n"
     ]
    },
    {
     "data": {
      "text/html": [
       "<div>\n",
       "<style scoped>\n",
       "    .dataframe tbody tr th:only-of-type {\n",
       "        vertical-align: middle;\n",
       "    }\n",
       "\n",
       "    .dataframe tbody tr th {\n",
       "        vertical-align: top;\n",
       "    }\n",
       "\n",
       "    .dataframe thead th {\n",
       "        text-align: right;\n",
       "    }\n",
       "</style>\n",
       "<table border=\"1\" class=\"dataframe\">\n",
       "  <thead>\n",
       "    <tr style=\"text-align: right;\">\n",
       "      <th></th>\n",
       "      <th>FranchiseStore</th>\n",
       "      <th>OrderPlacedMethod</th>\n",
       "      <th>UniqueOrderCount</th>\n",
       "      <th>WeeklyRevenue</th>\n",
       "      <th>AOV</th>\n",
       "      <th>RevenuePerOrder</th>\n",
       "    </tr>\n",
       "  </thead>\n",
       "  <tbody>\n",
       "    <tr>\n",
       "      <th>222</th>\n",
       "      <td>03222-00019</td>\n",
       "      <td>Grubhub</td>\n",
       "      <td>2</td>\n",
       "      <td>33.42</td>\n",
       "      <td>16.71</td>\n",
       "      <td>16.71</td>\n",
       "    </tr>\n",
       "    <tr>\n",
       "      <th>205</th>\n",
       "      <td>03222-00015</td>\n",
       "      <td>Grubhub</td>\n",
       "      <td>7</td>\n",
       "      <td>143.73</td>\n",
       "      <td>17.78</td>\n",
       "      <td>20.53</td>\n",
       "    </tr>\n",
       "    <tr>\n",
       "      <th>338</th>\n",
       "      <td>03646-00004</td>\n",
       "      <td>UberEats</td>\n",
       "      <td>9</td>\n",
       "      <td>146.47</td>\n",
       "      <td>16.27</td>\n",
       "      <td>16.27</td>\n",
       "    </tr>\n",
       "    <tr>\n",
       "      <th>224</th>\n",
       "      <td>03222-00019</td>\n",
       "      <td>UberEats</td>\n",
       "      <td>10</td>\n",
       "      <td>169.88</td>\n",
       "      <td>15.30</td>\n",
       "      <td>16.99</td>\n",
       "    </tr>\n",
       "    <tr>\n",
       "      <th>195</th>\n",
       "      <td>03222-00012</td>\n",
       "      <td>DoorDash</td>\n",
       "      <td>12</td>\n",
       "      <td>212.39</td>\n",
       "      <td>17.70</td>\n",
       "      <td>17.70</td>\n",
       "    </tr>\n",
       "    <tr>\n",
       "      <th>322</th>\n",
       "      <td>03646-00001</td>\n",
       "      <td>Grubhub</td>\n",
       "      <td>11</td>\n",
       "      <td>213.93</td>\n",
       "      <td>18.18</td>\n",
       "      <td>19.45</td>\n",
       "    </tr>\n",
       "    <tr>\n",
       "      <th>200</th>\n",
       "      <td>03222-00013</td>\n",
       "      <td>Website</td>\n",
       "      <td>12</td>\n",
       "      <td>215.03</td>\n",
       "      <td>17.92</td>\n",
       "      <td>17.92</td>\n",
       "    </tr>\n",
       "    <tr>\n",
       "      <th>196</th>\n",
       "      <td>03222-00012</td>\n",
       "      <td>Mobile</td>\n",
       "      <td>17</td>\n",
       "      <td>311.70</td>\n",
       "      <td>18.34</td>\n",
       "      <td>18.34</td>\n",
       "    </tr>\n",
       "    <tr>\n",
       "      <th>32</th>\n",
       "      <td>01389-00011</td>\n",
       "      <td>Grubhub</td>\n",
       "      <td>24</td>\n",
       "      <td>391.14</td>\n",
       "      <td>15.93</td>\n",
       "      <td>16.30</td>\n",
       "    </tr>\n",
       "    <tr>\n",
       "      <th>248</th>\n",
       "      <td>03222-00026</td>\n",
       "      <td>Grubhub</td>\n",
       "      <td>27</td>\n",
       "      <td>485.02</td>\n",
       "      <td>18.06</td>\n",
       "      <td>17.96</td>\n",
       "    </tr>\n",
       "    <tr>\n",
       "      <th>155</th>\n",
       "      <td>03222-00001</td>\n",
       "      <td>Grubhub</td>\n",
       "      <td>29</td>\n",
       "      <td>495.51</td>\n",
       "      <td>17.76</td>\n",
       "      <td>17.09</td>\n",
       "    </tr>\n",
       "    <tr>\n",
       "      <th>124</th>\n",
       "      <td>01944-00001</td>\n",
       "      <td>UberEats</td>\n",
       "      <td>28</td>\n",
       "      <td>514.83</td>\n",
       "      <td>17.90</td>\n",
       "      <td>18.39</td>\n",
       "    </tr>\n",
       "    <tr>\n",
       "      <th>233</th>\n",
       "      <td>03222-00022</td>\n",
       "      <td>UberEats</td>\n",
       "      <td>30</td>\n",
       "      <td>539.50</td>\n",
       "      <td>17.18</td>\n",
       "      <td>17.98</td>\n",
       "    </tr>\n",
       "    <tr>\n",
       "      <th>138</th>\n",
       "      <td>01944-00005</td>\n",
       "      <td>UberEats</td>\n",
       "      <td>46</td>\n",
       "      <td>889.67</td>\n",
       "      <td>18.52</td>\n",
       "      <td>19.34</td>\n",
       "    </tr>\n",
       "    <tr>\n",
       "      <th>272</th>\n",
       "      <td>03222-00034</td>\n",
       "      <td>Grubhub</td>\n",
       "      <td>49</td>\n",
       "      <td>915.26</td>\n",
       "      <td>18.61</td>\n",
       "      <td>18.68</td>\n",
       "    </tr>\n",
       "    <tr>\n",
       "      <th>327</th>\n",
       "      <td>03646-00002</td>\n",
       "      <td>Grubhub</td>\n",
       "      <td>63</td>\n",
       "      <td>1144.59</td>\n",
       "      <td>17.68</td>\n",
       "      <td>18.17</td>\n",
       "    </tr>\n",
       "    <tr>\n",
       "      <th>170</th>\n",
       "      <td>03222-00004</td>\n",
       "      <td>Grubhub</td>\n",
       "      <td>62</td>\n",
       "      <td>1167.24</td>\n",
       "      <td>18.28</td>\n",
       "      <td>18.83</td>\n",
       "    </tr>\n",
       "    <tr>\n",
       "      <th>297</th>\n",
       "      <td>03222-00043</td>\n",
       "      <td>Grubhub</td>\n",
       "      <td>64</td>\n",
       "      <td>1221.00</td>\n",
       "      <td>18.80</td>\n",
       "      <td>19.08</td>\n",
       "    </tr>\n",
       "    <tr>\n",
       "      <th>287</th>\n",
       "      <td>03222-00038</td>\n",
       "      <td>Grubhub</td>\n",
       "      <td>68</td>\n",
       "      <td>1387.22</td>\n",
       "      <td>18.92</td>\n",
       "      <td>20.40</td>\n",
       "    </tr>\n",
       "  </tbody>\n",
       "</table>\n",
       "</div>"
      ],
      "text/plain": [
       "    FranchiseStore OrderPlacedMethod  UniqueOrderCount  WeeklyRevenue    AOV  \\\n",
       "222    03222-00019           Grubhub                 2          33.42  16.71   \n",
       "205    03222-00015           Grubhub                 7         143.73  17.78   \n",
       "338    03646-00004          UberEats                 9         146.47  16.27   \n",
       "224    03222-00019          UberEats                10         169.88  15.30   \n",
       "195    03222-00012          DoorDash                12         212.39  17.70   \n",
       "322    03646-00001           Grubhub                11         213.93  18.18   \n",
       "200    03222-00013           Website                12         215.03  17.92   \n",
       "196    03222-00012            Mobile                17         311.70  18.34   \n",
       "32     01389-00011           Grubhub                24         391.14  15.93   \n",
       "248    03222-00026           Grubhub                27         485.02  18.06   \n",
       "155    03222-00001           Grubhub                29         495.51  17.76   \n",
       "124    01944-00001          UberEats                28         514.83  17.90   \n",
       "233    03222-00022          UberEats                30         539.50  17.18   \n",
       "138    01944-00005          UberEats                46         889.67  18.52   \n",
       "272    03222-00034           Grubhub                49         915.26  18.61   \n",
       "327    03646-00002           Grubhub                63        1144.59  17.68   \n",
       "170    03222-00004           Grubhub                62        1167.24  18.28   \n",
       "297    03222-00043           Grubhub                64        1221.00  18.80   \n",
       "287    03222-00038           Grubhub                68        1387.22  18.92   \n",
       "\n",
       "     RevenuePerOrder  \n",
       "222            16.71  \n",
       "205            20.53  \n",
       "338            16.27  \n",
       "224            16.99  \n",
       "195            17.70  \n",
       "322            19.45  \n",
       "200            17.92  \n",
       "196            18.34  \n",
       "32             16.30  \n",
       "248            17.96  \n",
       "155            17.09  \n",
       "124            18.39  \n",
       "233            17.98  \n",
       "138            19.34  \n",
       "272            18.68  \n",
       "327            18.17  \n",
       "170            18.83  \n",
       "297            19.08  \n",
       "287            20.40  "
      ]
     },
     "execution_count": 498,
     "metadata": {},
     "output_type": "execute_result"
    }
   ],
   "source": [
    "underperformers = conversion_quality[\n",
    "    (conversion_quality['WeeklyRevenue'] <= revenue_20) &\n",
    "    (conversion_quality['AOV'] <= aov_20)\n",
    "].sort_values(by=['WeeklyRevenue'])\n",
    "\n",
    "print(\"Underperforming Store + Channel Combos\")\n",
    "underperformers\n"
   ]
  },
  {
   "cell_type": "code",
   "execution_count": 499,
   "metadata": {},
   "outputs": [],
   "source": [
    "def categorize(row):\n",
    "    if row['WeeklyRevenue'] >= revenue_80 and row['AOV'] >= aov_80:\n",
    "        return 'Top Performer'\n",
    "    elif row['WeeklyRevenue'] <= revenue_20 and row['AOV'] <= aov_20:\n",
    "        return 'Underperformer'\n",
    "    else:\n",
    "        return 'Average'\n",
    "\n",
    "conversion_quality['Performance'] = conversion_quality.apply(categorize, axis=1)\n"
   ]
  },
  {
   "cell_type": "code",
   "execution_count": 500,
   "metadata": {},
   "outputs": [],
   "source": [
    "# | Group               | Insight                                             | Action                                    |\n",
    "# | ------------------- | --------------------------------------------------- | ----------------------------------------- |\n",
    "# | **Top Performers**  | Channels/stores that are working exceptionally well | Invest more, replicate strategy           |\n",
    "# | **Underperformers** | Low-value orders, weak volume or both               | Investigate & optimize: UX, pricing, etc. |\n"
   ]
  },
  {
   "cell_type": "code",
   "execution_count": 501,
   "metadata": {},
   "outputs": [
    {
     "data": {
      "application/vnd.plotly.v1+json": {
       "config": {
        "plotlyServerURL": "https://plot.ly"
       },
       "data": [
        {
         "hovertemplate": "<b>%{hovertext}</b><br><br>Performance=Average<br>Average Order Value=%{x}<br>Total Revenue=%{y}<br>Order Volume=%{marker.size}<extra></extra>",
         "hovertext": [
          "01389-00001 | Website",
          "01389-00001 | Grubhub",
          "01389-00001 | UberEats",
          "01389-00001 | DoorDash",
          "01389-00001 | Mobile",
          "01389-00002 | UberEats",
          "01389-00002 | Grubhub",
          "01389-00002 | Website",
          "01389-00002 | Mobile",
          "01389-00002 | DoorDash",
          "01389-00003 | Grubhub",
          "01389-00003 | UberEats",
          "01389-00003 | Website",
          "01389-00003 | DoorDash",
          "01389-00003 | Mobile",
          "01389-00004 | UberEats",
          "01389-00004 | Website",
          "01389-00004 | Mobile",
          "01389-00004 | DoorDash",
          "01389-00005 | UberEats",
          "01389-00005 | Website",
          "01389-00005 | Mobile",
          "01389-00005 | DoorDash",
          "01389-00008 | UberEats",
          "01389-00008 | Website",
          "01389-00008 | Mobile",
          "01389-00008 | DoorDash",
          "01389-00010 | UberEats",
          "01389-00010 | Website",
          "01389-00010 | Mobile",
          "01389-00010 | DoorDash",
          "01389-00011 | Website",
          "01389-00011 | UberEats",
          "01389-00011 | Mobile",
          "01389-00011 | DoorDash",
          "01389-00012 | Website",
          "01389-00012 | Mobile",
          "01389-00012 | UberEats",
          "01389-00012 | DoorDash",
          "01389-00013 | Grubhub",
          "01389-00013 | Website",
          "01389-00013 | UberEats",
          "01389-00013 | DoorDash",
          "01389-00013 | Mobile",
          "01389-00014 | UberEats",
          "01389-00014 | Website",
          "01389-00014 | Mobile",
          "01389-00014 | DoorDash",
          "01494-00001 | UberEats",
          "01494-00001 | Website",
          "01494-00001 | Grubhub",
          "01494-00001 | Mobile",
          "01494-00001 | DoorDash",
          "01494-00002 | UberEats",
          "01494-00002 | Mobile",
          "01494-00002 | Website",
          "01494-00002 | DoorDash",
          "01494-00004 | UberEats",
          "01494-00004 | Website",
          "01494-00004 | Mobile",
          "01494-00004 | DoorDash",
          "01494-00005 | UberEats",
          "01494-00005 | Website",
          "01494-00005 | Mobile",
          "01494-00005 | DoorDash",
          "01826-00001 | UberEats",
          "01826-00001 | Website",
          "01826-00001 | Mobile",
          "01826-00001 | DoorDash",
          "01826-00002 | Website",
          "01826-00002 | Mobile",
          "01826-00002 | DoorDash",
          "01826-00002 | UberEats",
          "01826-00003 | Website",
          "01826-00003 | UberEats",
          "01826-00003 | Mobile",
          "01826-00003 | DoorDash",
          "01893-00001 | UberEats",
          "01893-00001 | Website",
          "01893-00001 | DoorDash",
          "01893-00001 | Mobile",
          "01893-00002 | Grubhub",
          "01893-00002 | UberEats",
          "01893-00002 | Website",
          "01893-00002 | DoorDash",
          "01893-00002 | Mobile",
          "01940-00001 | UberEats",
          "01940-00001 | Mobile",
          "01940-00001 | DoorDash",
          "01940-00001 | Website",
          "01940-00001 | Grubhub",
          "01940-00007 | UberEats",
          "01940-00007 | Website",
          "01940-00007 | Mobile",
          "01940-00007 | Grubhub",
          "01940-00007 | DoorDash",
          "01940-00009 | UberEats",
          "01940-00009 | DoorDash",
          "01940-00009 | Grubhub",
          "01940-00009 | Website",
          "01940-00009 | Mobile",
          "01940-00010 | UberEats",
          "01940-00010 | Website",
          "01940-00010 | Mobile",
          "01940-00010 | DoorDash",
          "01940-00010 | Grubhub",
          "01940-00011 | Website",
          "01940-00011 | UberEats",
          "01940-00011 | DoorDash",
          "01940-00011 | Grubhub",
          "01940-00014 | UberEats",
          "01940-00014 | DoorDash",
          "01940-00014 | Website",
          "01940-00014 | Mobile",
          "01940-00014 | Grubhub",
          "01940-00021 | UberEats",
          "01940-00021 | DoorDash",
          "01940-00021 | Website",
          "01940-00021 | Mobile",
          "01940-00021 | Grubhub",
          "01944-00001 | Website",
          "01944-00001 | Mobile",
          "01944-00001 | DoorDash",
          "01944-00003 | Website",
          "01944-00003 | UberEats",
          "01944-00003 | Grubhub",
          "01944-00003 | Mobile",
          "01944-00003 | DoorDash",
          "01944-00004 | Grubhub",
          "01944-00004 | Website",
          "01944-00004 | UberEats",
          "01944-00004 | DoorDash",
          "01944-00004 | Mobile",
          "01944-00005 | Website",
          "01944-00005 | Mobile",
          "01944-00005 | DoorDash",
          "01944-00006 | Website",
          "01944-00006 | UberEats",
          "01944-00006 | Mobile",
          "01944-00006 | DoorDash",
          "01978-00002 | UberEats",
          "01978-00002 | Website",
          "01978-00002 | Grubhub",
          "01978-00002 | DoorDash",
          "01978-00002 | Mobile",
          "01978-00005 | UberEats",
          "01978-00005 | Website",
          "01978-00005 | Mobile",
          "01978-00005 | Grubhub",
          "01978-00005 | DoorDash",
          "03222-00001 | UberEats",
          "03222-00001 | Website",
          "03222-00001 | DoorDash",
          "03222-00001 | Mobile",
          "03222-00002 | Grubhub",
          "03222-00002 | Website",
          "03222-00002 | UberEats",
          "03222-00002 | DoorDash",
          "03222-00002 | Mobile",
          "03222-00003 | Website",
          "03222-00003 | Grubhub",
          "03222-00003 | Mobile",
          "03222-00003 | DoorDash",
          "03222-00003 | UberEats",
          "03222-00004 | Website",
          "03222-00004 | Mobile",
          "03222-00004 | UberEats",
          "03222-00004 | DoorDash",
          "03222-00006 | Grubhub",
          "03222-00006 | DoorDash",
          "03222-00006 | Website",
          "03222-00006 | UberEats",
          "03222-00006 | Mobile",
          "03222-00007 | Website",
          "03222-00007 | UberEats",
          "03222-00007 | Mobile",
          "03222-00007 | DoorDash",
          "03222-00008 | UberEats",
          "03222-00008 | Website",
          "03222-00008 | DoorDash",
          "03222-00008 | Mobile",
          "03222-00009 | Website",
          "03222-00009 | UberEats",
          "03222-00009 | Mobile",
          "03222-00009 | DoorDash",
          "03222-00010 | UberEats",
          "03222-00010 | Website",
          "03222-00010 | Mobile",
          "03222-00010 | DoorDash",
          "03222-00012 | Website",
          "03222-00013 | Mobile",
          "03222-00013 | DoorDash",
          "03222-00014 | DoorDash",
          "03222-00014 | Website",
          "03222-00014 | Mobile",
          "03222-00015 | UberEats",
          "03222-00015 | Mobile",
          "03222-00015 | DoorDash",
          "03222-00016 | UberEats",
          "03222-00016 | Website",
          "03222-00016 | Mobile",
          "03222-00016 | DoorDash",
          "03222-00017 | UberEats",
          "03222-00017 | DoorDash",
          "03222-00018 | Website",
          "03222-00018 | Mobile",
          "03222-00018 | DoorDash",
          "03222-00018 | UberEats",
          "03222-00019 | Website",
          "03222-00019 | Mobile",
          "03222-00019 | DoorDash",
          "03222-00021 | UberEats",
          "03222-00021 | Website",
          "03222-00021 | Mobile",
          "03222-00021 | DoorDash",
          "03222-00022 | Website",
          "03222-00022 | Grubhub",
          "03222-00022 | Mobile",
          "03222-00022 | DoorDash",
          "03222-00023 | UberEats",
          "03222-00023 | Website",
          "03222-00023 | Mobile",
          "03222-00023 | DoorDash",
          "03222-00024 | UberEats",
          "03222-00024 | Website",
          "03222-00024 | Mobile",
          "03222-00024 | DoorDash",
          "03222-00025 | UberEats",
          "03222-00025 | Website",
          "03222-00025 | DoorDash",
          "03222-00025 | Mobile",
          "03222-00026 | Website",
          "03222-00026 | UberEats",
          "03222-00026 | DoorDash",
          "03222-00026 | Mobile",
          "03222-00027 | Website",
          "03222-00027 | Mobile",
          "03222-00027 | UberEats",
          "03222-00027 | DoorDash",
          "03222-00028 | Grubhub",
          "03222-00028 | Website",
          "03222-00028 | UberEats",
          "03222-00028 | DoorDash",
          "03222-00028 | Mobile",
          "03222-00032 | UberEats",
          "03222-00032 | Website",
          "03222-00032 | Grubhub",
          "03222-00032 | Mobile",
          "03222-00032 | DoorDash",
          "03222-00033 | Website",
          "03222-00033 | Grubhub",
          "03222-00033 | UberEats",
          "03222-00033 | Mobile",
          "03222-00033 | DoorDash",
          "03222-00034 | UberEats",
          "03222-00034 | Website",
          "03222-00034 | Mobile",
          "03222-00034 | DoorDash",
          "03222-00035 | Grubhub",
          "03222-00035 | Website",
          "03222-00035 | Mobile",
          "03222-00035 | UberEats",
          "03222-00035 | DoorDash",
          "03222-00036 | Grubhub",
          "03222-00036 | UberEats",
          "03222-00036 | Website",
          "03222-00036 | Mobile",
          "03222-00036 | DoorDash",
          "03222-00038 | UberEats",
          "03222-00038 | Website",
          "03222-00038 | Mobile",
          "03222-00038 | DoorDash",
          "03222-00039 | UberEats",
          "03222-00039 | Website",
          "03222-00039 | Grubhub",
          "03222-00039 | DoorDash",
          "03222-00039 | Mobile",
          "03222-00043 | Website",
          "03222-00043 | UberEats",
          "03222-00043 | DoorDash",
          "03222-00043 | Mobile",
          "03222-00044 | Grubhub",
          "03222-00044 | Website",
          "03222-00044 | UberEats",
          "03222-00044 | DoorDash",
          "03222-00044 | Mobile",
          "03222-00045 | Grubhub",
          "03222-00045 | Website",
          "03222-00045 | UberEats",
          "03222-00045 | DoorDash",
          "03222-00045 | Mobile",
          "03222-00046 | Grubhub",
          "03222-00046 | UberEats",
          "03222-00046 | DoorDash",
          "03222-00046 | Website",
          "03222-00046 | Mobile",
          "03222-00047 | Grubhub",
          "03222-00047 | UberEats",
          "03222-00047 | Website",
          "03222-00047 | DoorDash",
          "03222-00047 | Mobile",
          "03646-00001 | Website",
          "03646-00001 | UberEats",
          "03646-00001 | Mobile",
          "03646-00001 | DoorDash",
          "03646-00002 | UberEats",
          "03646-00002 | Website",
          "03646-00002 | Mobile",
          "03646-00002 | DoorDash",
          "03646-00003 | Grubhub",
          "03646-00003 | UberEats",
          "03646-00003 | Website",
          "03646-00003 | Mobile",
          "03646-00003 | DoorDash",
          "03646-00004 | Website",
          "03646-00004 | DoorDash",
          "03646-00004 | Mobile"
         ],
         "legendgroup": "Average",
         "marker": {
          "color": "gray",
          "size": {
           "bdata": "UQgMAK4AwwcSFEcAEwAfBOIKAQMVAHUA1gPnA4MHGwD3BNcL3AQtAHAFcw6hBC4AlQVZDtcDMQDWBLIJAAVgBxoBRA+mBi8EQwdXADgDDAD9BtUAzwORDhAAggRUCRsD2AC0BRMA3gfmBiEA1QUMA1cEQQBfBDAKmAQTAEYDfAjkAlYAcAUXD1sECgZgD2MGdwALAxEA/QihAmkAwAViAwYQGADzAPwGPwOTDvMD9wnzBnsGcgA+BaMEggp9AJQIOAOvBFEAewasCRgF4gY6DLsJvgBCBBUFLwipAL8EoAhCCHIOtgAXBBQGWAZZC1oAcAQEDl8F/AMnABAAqQnOAg4AUAU6ADADQQkmA70I7wLdBDkA6wysAzADrgW1ACMFwAgUBZQFfQnbAJwHagB+BmkEQQ4aAJIEjAClBA4KCAQfAEMJVAMuAJgEkwneAFIGFgC3A4gFVgA7DncDHQABCrIDIgBOBcYDUw2aAhYAuwUlAiAAcQIVBlcBAwASABIAAwAJABIAPQBfE9AGLAC6BwMNIgVBALII8QN0C/IECQDpAq4G0QMTAEgFNgzyAuwCCgBgBmAEAgBVA1oGGAM/AH4FwwvsAxAAggIIA9AJngrhALUHphcYBtAJ9AH9BAkA7AVPASwDuwC4AD8FIQBsCCsDAAUUAMAA8gegBIYBGwmWD3wHDADOBRYJggB7BEMAhQJQCr0UGglwBIsHAg+FC0AAcgMQAEcCsAWeBpsAqQMRDRkACgU/AP4B5Qk0AKsIZQA9A4wOKwCtAH0DDgbLCyMAfQCvBCoD8gkFBlYASAtGAxUBxAfmDUUGOwAZAQsJQBFRBj0C0QHOBA==",
           "dtype": "i2"
          },
          "sizemode": "area",
          "sizeref": 3.78375,
          "symbol": "circle"
         },
         "mode": "markers",
         "name": "Average",
         "orientation": "v",
         "showlegend": true,
         "type": "scatter",
         "x": {
          "bdata": "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",
          "dtype": "f8"
         },
         "xaxis": "x",
         "y": {
          "bdata": "AAAAACAX5kDD9Shcj4JtQFyPwvWof6tACtejcIUb4kBI4XoU6uT2QD0K16NwLphAAAAAAAC0eUD2KFyPIg/VQHE9Cte7uOlAAAAAAEA+y0DNzMzMzBB/QJqZmZmZWKNASOF6FB4300AfhetReAjSQHsUrkeJUeFASOF6FK7ZgkD2KFyPsrjbQClcj8LdQ+9AuB6F62Fa2EDD9Shcj36RQM3MzMzMZt5A9ihcj9Jq8kBmZmZmlt/VQGZmZmZmx5BA16NwPXqD3UDsUbgeNQrxQArXo3D9M9BA7FG4HoVIk0B7FK5HcVHcQFK4HoX7G+lAuB6F65GJ2EBxPQrXu27iQIXrUbjekrRA4XoUrp/48UBI4XoUbuTdQEjhehR+19VAw/UoXI/C4kAzMzMzM0OaQB+F61F4Ps5AAAAAAACwbUDhehSuf1ngQDMzMzOzXK5ACtejcD2z0EAAAAAAYO7sQLgehetRvHlAAAAAAIAY2UBcj8L16NTnQPYoXI+ih85AH4XrUfi5skAUrkfh+mXeQArXo3A9lnlAcT0K12NI40BxPQrXe1bgQIXrUbgey4ZA16NwPXqx3EAfhetReN3LQOF6FK5H0tJAFK5H4XpCmkDXo3A9+l/bQB+F61GQj+tAAAAAAFDF1kBmZmZmZrZ9QAAAAADQItJAmpmZmeGh5EAK16Nw3dLLQHsUrkfhpZ1AAAAAANBh3UCF61G4RlPzQEjhehQOzdVAzczMzFyx4kDD9Shcx+P0QMP1KFwfxuBASOF6FC7Ko0AK16Nw7VLTQNejcD0Kc3dA9ihcj+qM50Bcj8L1yI7JQD0K16PwVaRA9ihcj5IP4EC4HoXrcWfRQIXrUbhmS/RAj8L1KFzLgUAzMzMzc9CzQOF6FK4PweFArkfherSozkDD9Shci6vwQFK4HoW7hdVASOF6FB6x6UDsUbge1cnhQHsUrkeB499Aj8L1KFxwoUD2KFyPogXfQHsUrkdBsdpA4XoUrjcx7UC4HoXr0fSlQHE9CtdTb+ZAmpmZmYmv0UDNzMzM7MjXQK5H4XoUkplA9ihcjzLl3kCPwvUo1JvlQHE9CtfTS91AAAAAADhC40DhehSuZx/wQFyPwvXYOehAUrgehetkqkCamZmZibLYQFyPwvU4fNxAXI/C9RhT5UCkcD0K15aqQJqZmZkpZNtAj8L1KFx95kB7FK5H2ffkQHsUrkdd7PFA4XoUrsf1rEDhehSuZ2fWQJqZmZnJLN5AuB6F61GO3UAK16NwRVzqQGZmZmZmhJhACtejcD3/2EDsUbgezeHxQHE9CtdjMNpAexSuR3HW2EBmZmZmZrKMQDMzMzMzH3ZASOF6FM6I6UC4HoXrkdXLQGZmZmZm8nRAPQrXoyC830BSuB6F65WVQBSuR+G6XdBApHA9Cl+p50DXo3A9+oDRQDMzMzPjy+dAw/UoXK+xzUBcj8L1uIHaQI/C9Shc8JJAZmZmZraW8EDNzMzMjHHRQNejcD26nNFA9ihcj6JH3kBcj8L1KBKtQM3MzMx83tlAmpmZmek55UAUrkfhujXcQBSuR+G6Z91APQrXo9jx50C4HoXr0cewQOF6FK5nh+JAXI/C9ahqo0BxPQrXU3DhQMP1KFxvqNZAuB6F60V48UAUrkfhegSFQArXo3DdCthASOF6FK6fpkB7FK5HwRLWQBSuR+FSyudAPQrXo7Av2EBSuB6F6zmGQD0K16PoLOhAw/UoXD/e0EApXI/C9SyNQLgehetxn9dAcT0K12tG50CkcD0Kl/SwQIXrUbiOPN5AH4XrUbhsgEDNzMzMfEbUQD0K16PAkt1Aj8L1KFytnEBmZmZm3m7yQM3MzMwcg9RAUrgeheuFg0DNzMzM/AnqQArXo3B9i9JAUrgehevhiUDsUbge1fndQKRwPQqHLNNAhetRuEqT8EBxPQrXw7bNQIXrUbgeZX5ASOF6FB5o3EDhehSuZwXFQOF6FK5HO4dASOF6FI5iy0CPwvUonNbfQNejcD1KWbpAexSuR+GaVUDD9Shcj/p2QNejcD0KG3ZAj8L1KFyvT0CkcD0K19NmQKRwPQrXD3ZArkfhehSBlkBI4XoUKtT5QKRwPQrvF+FA16NwPQp9jEBI4XoUplfkQBSuR+Hyku9AKVyPwlXU2EBcj8L1KKWYQDMzMzMzGehAw/UoXP+Z10BxPQrXK2LuQHsUrkehbdlAXI/C9SgsZkAAAAAAwJ7RQAAAAAAIa+JAPQrXozCu0kDXo3A9CjN7QI/C9SgslNtA4XoUrn+Y7EAfhetR2PrKQOF6FK7XF9FApHA9Ctd7aEDsUbgeTQzgQDMzMzNzW9RAuB6F61G4SkDNzMzM/JDTQFK4HoWjkuFA9ihcj4IKz0BI4XoUrp+YQBSuR+F6fN5AZmZmZi777UAAAAAAMJDSQOF6FK5HcXtAzczMzAySykDXo3A9SiPMQI/C9Sica+ZAFK5H4YK+7EAAAAAAQHqxQOF6FK43I+FAuB6F6yGy+UDXo3A9UgLhQIXrUbg2j+pAFK5H4foIxUDD9Shcf2HYQHsUrkfhnnNA7FG4Hr2d40CamZmZ2T7AQK5H4XokgdFAPQrXo/DarUAK16NwPaKvQJqZmZmZiNtApHA9CtfLhEBmZmZmxpnkQOxRuB5lmM5AcT0K1zNI3kD2KFyPwqV9QNejcD1K47BAUrgehRM/5UB7FK5HMUPXQOF6FK5HdsBA9ihcjyqZ6EDhehSub27zQNejcD2SH+JAFK5H4XpUc0CF61G4LlvgQD0K16NQIOhAj8L1KFwVpEAzMzMzk2rWQGZmZmZmb5ZAH4XrUTj0yUB7FK5HWYLpQGZmZmZiePlAexSuR7m25UBmZmZm1rrWQIXrUbjex+JAMzMzM2MI8kDNzMzMZOzqQLgehetRwZxAuB6F63G91EA9CtejcPF1QGZmZmYGY8hAj8L1KMy/3UBcj8L12BLhQGZmZmZme6hAcT0K19MN0UB7FK5HebHtQOF6FK5Hz4RAH4XrUTia20DXo3A9CsmUQJqZmZmZ0cNA7FG4Hp1f6ED2KFyPwiaTQKRwPQon+OZApHA9Ctf6n0AzMzMzE6zPQJqZmZkhp/FA9ihcj8IYkUDsUbgeBQuvQClcj8JlqtFA9ihcj6K920D2KFyP4nzoQAAAAAAASIhAmpmZmZkEpEAK16Nw7Z/WQMP1KFxv281APQrXo9BN5kA9CtejGMTgQD0K16NweZxA16NwPQo67EBxPQrXI3zOQClcj8L1A7hAcT0K15Og40CamZmZ3WLxQEjhehSOqN1ArkfhehQMlkDD9ShcT/m2QDMzMzMbYOdA9ihcj5749EBI4XoUXgLeQKRwPQr3lcZAH4XrUfjowUDXo3A9yiLWQA==",
          "dtype": "f8"
         },
         "yaxis": "y"
        },
        {
         "hovertemplate": "<b>%{hovertext}</b><br><br>Performance=Underperformer<br>Average Order Value=%{x}<br>Total Revenue=%{y}<br>Order Volume=%{marker.size}<extra></extra>",
         "hovertext": [
          "01389-00011 | Grubhub",
          "01944-00001 | UberEats",
          "01944-00005 | UberEats",
          "03222-00001 | Grubhub",
          "03222-00004 | Grubhub",
          "03222-00012 | Mobile",
          "03222-00012 | DoorDash",
          "03222-00013 | Website",
          "03222-00015 | Grubhub",
          "03222-00019 | Grubhub",
          "03222-00019 | UberEats",
          "03222-00022 | UberEats",
          "03222-00026 | Grubhub",
          "03222-00034 | Grubhub",
          "03222-00038 | Grubhub",
          "03222-00043 | Grubhub",
          "03646-00001 | Grubhub",
          "03646-00002 | Grubhub",
          "03646-00004 | UberEats"
         ],
         "legendgroup": "Underperformer",
         "marker": {
          "color": "red",
          "size": {
           "bdata": "GBwuHT4RDAwHAgoeGzFEQAs/CQ==",
           "dtype": "i1"
          },
          "sizemode": "area",
          "sizeref": 3.78375,
          "symbol": "circle"
         },
         "mode": "markers",
         "name": "Underperformer",
         "orientation": "v",
         "showlegend": true,
         "type": "scatter",
         "x": {
          "bdata": "XI/C9SjcL0BmZmZmZuYxQIXrUbgehTJAw/UoXI/CMUBI4XoUrkcyQNejcD0KVzJAMzMzMzOzMUDsUbgehesxQEjhehSuxzFA9ihcj8K1MECamZmZmZkuQK5H4XoULjFAj8L1KFwPMkBcj8L1KJwyQOxRuB6F6zJAzczMzMzMMkCuR+F6FC4yQK5H4XoUrjFAhetRuB5FMEA=",
          "dtype": "f8"
         },
         "xaxis": "x",
         "y": {
          "bdata": "CtejcD1yeEBxPQrXoxaAQI/C9ShczYtAXI/C9Sj4fkApXI/C9TySQDMzMzMze3NAFK5H4XqMakApXI/C9eBqQI/C9Shc92FA9ihcj8K1QEBcj8L1KDxlQAAAAAAA3IBAuB6F61FQfkCuR+F6FJqMQHsUrkfhrJVAAAAAAAAUk0D2KFyPwr1qQI/C9Shc4pFA16NwPQpPYkA=",
          "dtype": "f8"
         },
         "yaxis": "y"
        },
        {
         "hovertemplate": "<b>%{hovertext}</b><br><br>Performance=Top Performer<br>Average Order Value=%{x}<br>Total Revenue=%{y}<br>Order Volume=%{marker.size}<extra></extra>",
         "hovertext": [
          "01940-00011 | Mobile",
          "03222-00015 | Website",
          "03222-00017 | Website",
          "03222-00017 | Mobile"
         ],
         "legendgroup": "Top Performer",
         "marker": {
          "color": "green",
          "size": {
           "bdata": "9QkhCRwHnA0=",
           "dtype": "i2"
          },
          "sizemode": "area",
          "sizeref": 3.78375,
          "symbol": "circle"
         },
         "mode": "markers",
         "name": "Top Performer",
         "orientation": "v",
         "showlegend": true,
         "type": "scatter",
         "x": {
          "bdata": "CtejcD3KNkDXo3A9Ctc3QIXrUbgehThACtejcD2KNkA=",
          "dtype": "f8"
         },
         "xaxis": "x",
         "y": {
          "bdata": "PQrXowhD7EApXI/C/TPrQK5H4Xp8zOVASOF6FP4w80A=",
          "dtype": "f8"
         },
         "yaxis": "y"
        }
       ],
       "layout": {
        "legend": {
         "itemsizing": "constant",
         "title": {
          "text": "Performance Category"
         },
         "tracegroupgap": 0
        },
        "template": {
         "data": {
          "bar": [
           {
            "error_x": {
             "color": "#2a3f5f"
            },
            "error_y": {
             "color": "#2a3f5f"
            },
            "marker": {
             "line": {
              "color": "white",
              "width": 0.5
             },
             "pattern": {
              "fillmode": "overlay",
              "size": 10,
              "solidity": 0.2
             }
            },
            "type": "bar"
           }
          ],
          "barpolar": [
           {
            "marker": {
             "line": {
              "color": "white",
              "width": 0.5
             },
             "pattern": {
              "fillmode": "overlay",
              "size": 10,
              "solidity": 0.2
             }
            },
            "type": "barpolar"
           }
          ],
          "carpet": [
           {
            "aaxis": {
             "endlinecolor": "#2a3f5f",
             "gridcolor": "#C8D4E3",
             "linecolor": "#C8D4E3",
             "minorgridcolor": "#C8D4E3",
             "startlinecolor": "#2a3f5f"
            },
            "baxis": {
             "endlinecolor": "#2a3f5f",
             "gridcolor": "#C8D4E3",
             "linecolor": "#C8D4E3",
             "minorgridcolor": "#C8D4E3",
             "startlinecolor": "#2a3f5f"
            },
            "type": "carpet"
           }
          ],
          "choropleth": [
           {
            "colorbar": {
             "outlinewidth": 0,
             "ticks": ""
            },
            "type": "choropleth"
           }
          ],
          "contour": [
           {
            "colorbar": {
             "outlinewidth": 0,
             "ticks": ""
            },
            "colorscale": [
             [
              0,
              "#0d0887"
             ],
             [
              0.1111111111111111,
              "#46039f"
             ],
             [
              0.2222222222222222,
              "#7201a8"
             ],
             [
              0.3333333333333333,
              "#9c179e"
             ],
             [
              0.4444444444444444,
              "#bd3786"
             ],
             [
              0.5555555555555556,
              "#d8576b"
             ],
             [
              0.6666666666666666,
              "#ed7953"
             ],
             [
              0.7777777777777778,
              "#fb9f3a"
             ],
             [
              0.8888888888888888,
              "#fdca26"
             ],
             [
              1,
              "#f0f921"
             ]
            ],
            "type": "contour"
           }
          ],
          "contourcarpet": [
           {
            "colorbar": {
             "outlinewidth": 0,
             "ticks": ""
            },
            "type": "contourcarpet"
           }
          ],
          "heatmap": [
           {
            "colorbar": {
             "outlinewidth": 0,
             "ticks": ""
            },
            "colorscale": [
             [
              0,
              "#0d0887"
             ],
             [
              0.1111111111111111,
              "#46039f"
             ],
             [
              0.2222222222222222,
              "#7201a8"
             ],
             [
              0.3333333333333333,
              "#9c179e"
             ],
             [
              0.4444444444444444,
              "#bd3786"
             ],
             [
              0.5555555555555556,
              "#d8576b"
             ],
             [
              0.6666666666666666,
              "#ed7953"
             ],
             [
              0.7777777777777778,
              "#fb9f3a"
             ],
             [
              0.8888888888888888,
              "#fdca26"
             ],
             [
              1,
              "#f0f921"
             ]
            ],
            "type": "heatmap"
           }
          ],
          "histogram": [
           {
            "marker": {
             "pattern": {
              "fillmode": "overlay",
              "size": 10,
              "solidity": 0.2
             }
            },
            "type": "histogram"
           }
          ],
          "histogram2d": [
           {
            "colorbar": {
             "outlinewidth": 0,
             "ticks": ""
            },
            "colorscale": [
             [
              0,
              "#0d0887"
             ],
             [
              0.1111111111111111,
              "#46039f"
             ],
             [
              0.2222222222222222,
              "#7201a8"
             ],
             [
              0.3333333333333333,
              "#9c179e"
             ],
             [
              0.4444444444444444,
              "#bd3786"
             ],
             [
              0.5555555555555556,
              "#d8576b"
             ],
             [
              0.6666666666666666,
              "#ed7953"
             ],
             [
              0.7777777777777778,
              "#fb9f3a"
             ],
             [
              0.8888888888888888,
              "#fdca26"
             ],
             [
              1,
              "#f0f921"
             ]
            ],
            "type": "histogram2d"
           }
          ],
          "histogram2dcontour": [
           {
            "colorbar": {
             "outlinewidth": 0,
             "ticks": ""
            },
            "colorscale": [
             [
              0,
              "#0d0887"
             ],
             [
              0.1111111111111111,
              "#46039f"
             ],
             [
              0.2222222222222222,
              "#7201a8"
             ],
             [
              0.3333333333333333,
              "#9c179e"
             ],
             [
              0.4444444444444444,
              "#bd3786"
             ],
             [
              0.5555555555555556,
              "#d8576b"
             ],
             [
              0.6666666666666666,
              "#ed7953"
             ],
             [
              0.7777777777777778,
              "#fb9f3a"
             ],
             [
              0.8888888888888888,
              "#fdca26"
             ],
             [
              1,
              "#f0f921"
             ]
            ],
            "type": "histogram2dcontour"
           }
          ],
          "mesh3d": [
           {
            "colorbar": {
             "outlinewidth": 0,
             "ticks": ""
            },
            "type": "mesh3d"
           }
          ],
          "parcoords": [
           {
            "line": {
             "colorbar": {
              "outlinewidth": 0,
              "ticks": ""
             }
            },
            "type": "parcoords"
           }
          ],
          "pie": [
           {
            "automargin": true,
            "type": "pie"
           }
          ],
          "scatter": [
           {
            "fillpattern": {
             "fillmode": "overlay",
             "size": 10,
             "solidity": 0.2
            },
            "type": "scatter"
           }
          ],
          "scatter3d": [
           {
            "line": {
             "colorbar": {
              "outlinewidth": 0,
              "ticks": ""
             }
            },
            "marker": {
             "colorbar": {
              "outlinewidth": 0,
              "ticks": ""
             }
            },
            "type": "scatter3d"
           }
          ],
          "scattercarpet": [
           {
            "marker": {
             "colorbar": {
              "outlinewidth": 0,
              "ticks": ""
             }
            },
            "type": "scattercarpet"
           }
          ],
          "scattergeo": [
           {
            "marker": {
             "colorbar": {
              "outlinewidth": 0,
              "ticks": ""
             }
            },
            "type": "scattergeo"
           }
          ],
          "scattergl": [
           {
            "marker": {
             "colorbar": {
              "outlinewidth": 0,
              "ticks": ""
             }
            },
            "type": "scattergl"
           }
          ],
          "scattermap": [
           {
            "marker": {
             "colorbar": {
              "outlinewidth": 0,
              "ticks": ""
             }
            },
            "type": "scattermap"
           }
          ],
          "scattermapbox": [
           {
            "marker": {
             "colorbar": {
              "outlinewidth": 0,
              "ticks": ""
             }
            },
            "type": "scattermapbox"
           }
          ],
          "scatterpolar": [
           {
            "marker": {
             "colorbar": {
              "outlinewidth": 0,
              "ticks": ""
             }
            },
            "type": "scatterpolar"
           }
          ],
          "scatterpolargl": [
           {
            "marker": {
             "colorbar": {
              "outlinewidth": 0,
              "ticks": ""
             }
            },
            "type": "scatterpolargl"
           }
          ],
          "scatterternary": [
           {
            "marker": {
             "colorbar": {
              "outlinewidth": 0,
              "ticks": ""
             }
            },
            "type": "scatterternary"
           }
          ],
          "surface": [
           {
            "colorbar": {
             "outlinewidth": 0,
             "ticks": ""
            },
            "colorscale": [
             [
              0,
              "#0d0887"
             ],
             [
              0.1111111111111111,
              "#46039f"
             ],
             [
              0.2222222222222222,
              "#7201a8"
             ],
             [
              0.3333333333333333,
              "#9c179e"
             ],
             [
              0.4444444444444444,
              "#bd3786"
             ],
             [
              0.5555555555555556,
              "#d8576b"
             ],
             [
              0.6666666666666666,
              "#ed7953"
             ],
             [
              0.7777777777777778,
              "#fb9f3a"
             ],
             [
              0.8888888888888888,
              "#fdca26"
             ],
             [
              1,
              "#f0f921"
             ]
            ],
            "type": "surface"
           }
          ],
          "table": [
           {
            "cells": {
             "fill": {
              "color": "#EBF0F8"
             },
             "line": {
              "color": "white"
             }
            },
            "header": {
             "fill": {
              "color": "#C8D4E3"
             },
             "line": {
              "color": "white"
             }
            },
            "type": "table"
           }
          ]
         },
         "layout": {
          "annotationdefaults": {
           "arrowcolor": "#2a3f5f",
           "arrowhead": 0,
           "arrowwidth": 1
          },
          "autotypenumbers": "strict",
          "coloraxis": {
           "colorbar": {
            "outlinewidth": 0,
            "ticks": ""
           }
          },
          "colorscale": {
           "diverging": [
            [
             0,
             "#8e0152"
            ],
            [
             0.1,
             "#c51b7d"
            ],
            [
             0.2,
             "#de77ae"
            ],
            [
             0.3,
             "#f1b6da"
            ],
            [
             0.4,
             "#fde0ef"
            ],
            [
             0.5,
             "#f7f7f7"
            ],
            [
             0.6,
             "#e6f5d0"
            ],
            [
             0.7,
             "#b8e186"
            ],
            [
             0.8,
             "#7fbc41"
            ],
            [
             0.9,
             "#4d9221"
            ],
            [
             1,
             "#276419"
            ]
           ],
           "sequential": [
            [
             0,
             "#0d0887"
            ],
            [
             0.1111111111111111,
             "#46039f"
            ],
            [
             0.2222222222222222,
             "#7201a8"
            ],
            [
             0.3333333333333333,
             "#9c179e"
            ],
            [
             0.4444444444444444,
             "#bd3786"
            ],
            [
             0.5555555555555556,
             "#d8576b"
            ],
            [
             0.6666666666666666,
             "#ed7953"
            ],
            [
             0.7777777777777778,
             "#fb9f3a"
            ],
            [
             0.8888888888888888,
             "#fdca26"
            ],
            [
             1,
             "#f0f921"
            ]
           ],
           "sequentialminus": [
            [
             0,
             "#0d0887"
            ],
            [
             0.1111111111111111,
             "#46039f"
            ],
            [
             0.2222222222222222,
             "#7201a8"
            ],
            [
             0.3333333333333333,
             "#9c179e"
            ],
            [
             0.4444444444444444,
             "#bd3786"
            ],
            [
             0.5555555555555556,
             "#d8576b"
            ],
            [
             0.6666666666666666,
             "#ed7953"
            ],
            [
             0.7777777777777778,
             "#fb9f3a"
            ],
            [
             0.8888888888888888,
             "#fdca26"
            ],
            [
             1,
             "#f0f921"
            ]
           ]
          },
          "colorway": [
           "#636efa",
           "#EF553B",
           "#00cc96",
           "#ab63fa",
           "#FFA15A",
           "#19d3f3",
           "#FF6692",
           "#B6E880",
           "#FF97FF",
           "#FECB52"
          ],
          "font": {
           "color": "#2a3f5f"
          },
          "geo": {
           "bgcolor": "white",
           "lakecolor": "white",
           "landcolor": "white",
           "showlakes": true,
           "showland": true,
           "subunitcolor": "#C8D4E3"
          },
          "hoverlabel": {
           "align": "left"
          },
          "hovermode": "closest",
          "mapbox": {
           "style": "light"
          },
          "paper_bgcolor": "white",
          "plot_bgcolor": "white",
          "polar": {
           "angularaxis": {
            "gridcolor": "#EBF0F8",
            "linecolor": "#EBF0F8",
            "ticks": ""
           },
           "bgcolor": "white",
           "radialaxis": {
            "gridcolor": "#EBF0F8",
            "linecolor": "#EBF0F8",
            "ticks": ""
           }
          },
          "scene": {
           "xaxis": {
            "backgroundcolor": "white",
            "gridcolor": "#DFE8F3",
            "gridwidth": 2,
            "linecolor": "#EBF0F8",
            "showbackground": true,
            "ticks": "",
            "zerolinecolor": "#EBF0F8"
           },
           "yaxis": {
            "backgroundcolor": "white",
            "gridcolor": "#DFE8F3",
            "gridwidth": 2,
            "linecolor": "#EBF0F8",
            "showbackground": true,
            "ticks": "",
            "zerolinecolor": "#EBF0F8"
           },
           "zaxis": {
            "backgroundcolor": "white",
            "gridcolor": "#DFE8F3",
            "gridwidth": 2,
            "linecolor": "#EBF0F8",
            "showbackground": true,
            "ticks": "",
            "zerolinecolor": "#EBF0F8"
           }
          },
          "shapedefaults": {
           "line": {
            "color": "#2a3f5f"
           }
          },
          "ternary": {
           "aaxis": {
            "gridcolor": "#DFE8F3",
            "linecolor": "#A2B1C6",
            "ticks": ""
           },
           "baxis": {
            "gridcolor": "#DFE8F3",
            "linecolor": "#A2B1C6",
            "ticks": ""
           },
           "bgcolor": "white",
           "caxis": {
            "gridcolor": "#DFE8F3",
            "linecolor": "#A2B1C6",
            "ticks": ""
           }
          },
          "title": {
           "x": 0.05
          },
          "xaxis": {
           "automargin": true,
           "gridcolor": "#EBF0F8",
           "linecolor": "#EBF0F8",
           "ticks": "",
           "title": {
            "standoff": 15
           },
           "zerolinecolor": "#EBF0F8",
           "zerolinewidth": 2
          },
          "yaxis": {
           "automargin": true,
           "gridcolor": "#EBF0F8",
           "linecolor": "#EBF0F8",
           "ticks": "",
           "title": {
            "standoff": 15
           },
           "zerolinecolor": "#EBF0F8",
           "zerolinewidth": 2
          }
         }
        },
        "title": {
         "text": "Store + Channel Performance (AOV vs Revenue)"
        },
        "xaxis": {
         "anchor": "y",
         "domain": [
          0,
          1
         ],
         "title": {
          "text": "Average Order Value"
         }
        },
        "yaxis": {
         "anchor": "x",
         "domain": [
          0,
          1
         ],
         "title": {
          "text": "Total Revenue"
         }
        }
       }
      }
     },
     "metadata": {},
     "output_type": "display_data"
    }
   ],
   "source": [
    "import plotly.express as px\n",
    "\n",
    "# Create a label combining Store and Channel for hover info\n",
    "conversion_quality['Label'] = conversion_quality['FranchiseStore'] + \" | \" + conversion_quality['OrderPlacedMethod']\n",
    "\n",
    "fig = px.scatter(\n",
    "    conversion_quality,\n",
    "    x='AOV',\n",
    "    y='WeeklyRevenue',\n",
    "    size='UniqueOrderCount',\n",
    "    color='Performance',\n",
    "    hover_name='Label',\n",
    "    title='Store + Channel Performance (AOV vs Revenue)',\n",
    "    labels={\n",
    "        'AOV': 'Average Order Value',\n",
    "        'WeeklyRevenue': 'Total Revenue',\n",
    "        'UniqueOrderCount': 'Order Volume'\n",
    "    },\n",
    "    size_max=40,\n",
    "    color_discrete_map={\n",
    "        'Top Performer': 'green',\n",
    "        'Underperformer': 'red',\n",
    "        'Average': 'gray'\n",
    "    }\n",
    ")\n",
    "\n",
    "fig.update_layout(\n",
    "    template='plotly_white',\n",
    "    legend_title_text='Performance Category'\n",
    ")\n",
    "\n",
    "fig.show()\n"
   ]
  },
  {
   "cell_type": "code",
   "execution_count": 508,
   "metadata": {},
   "outputs": [
    {
     "data": {
      "text/plain": [
       "array(['Average', 'Underperformer', 'Top Performer'], dtype=object)"
      ]
     },
     "execution_count": 508,
     "metadata": {},
     "output_type": "execute_result"
    }
   ],
   "source": [
    "conversion_quality['Performance'].unique()\n"
   ]
  },
  {
   "cell_type": "code",
   "execution_count": 506,
   "metadata": {},
   "outputs": [
    {
     "data": {
      "text/html": [
       "<div>\n",
       "<style scoped>\n",
       "    .dataframe tbody tr th:only-of-type {\n",
       "        vertical-align: middle;\n",
       "    }\n",
       "\n",
       "    .dataframe tbody tr th {\n",
       "        vertical-align: top;\n",
       "    }\n",
       "\n",
       "    .dataframe thead th {\n",
       "        text-align: right;\n",
       "    }\n",
       "</style>\n",
       "<table border=\"1\" class=\"dataframe\">\n",
       "  <thead>\n",
       "    <tr style=\"text-align: right;\">\n",
       "      <th></th>\n",
       "      <th>FranchiseStore</th>\n",
       "      <th>OrderPlacedMethod</th>\n",
       "      <th>UniqueOrderCount</th>\n",
       "      <th>WeeklyRevenue</th>\n",
       "      <th>AOV</th>\n",
       "      <th>RevenuePerOrder</th>\n",
       "      <th>Performance</th>\n",
       "      <th>Label</th>\n",
       "    </tr>\n",
       "  </thead>\n",
       "  <tbody>\n",
       "  </tbody>\n",
       "</table>\n",
       "</div>"
      ],
      "text/plain": [
       "Empty DataFrame\n",
       "Columns: [FranchiseStore, OrderPlacedMethod, UniqueOrderCount, WeeklyRevenue, AOV, RevenuePerOrder, Performance, Label]\n",
       "Index: []"
      ]
     },
     "execution_count": 506,
     "metadata": {},
     "output_type": "execute_result"
    }
   ],
   "source": [
    "conversion_quality[conversion_quality['Performance']=='Topperformer']\n"
   ]
  },
  {
   "cell_type": "code",
   "execution_count": 505,
   "metadata": {},
   "outputs": [
    {
     "data": {
      "text/html": [
       "<div>\n",
       "<style scoped>\n",
       "    .dataframe tbody tr th:only-of-type {\n",
       "        vertical-align: middle;\n",
       "    }\n",
       "\n",
       "    .dataframe tbody tr th {\n",
       "        vertical-align: top;\n",
       "    }\n",
       "\n",
       "    .dataframe thead th {\n",
       "        text-align: right;\n",
       "    }\n",
       "</style>\n",
       "<table border=\"1\" class=\"dataframe\">\n",
       "  <thead>\n",
       "    <tr style=\"text-align: right;\">\n",
       "      <th></th>\n",
       "      <th>FranchiseStore</th>\n",
       "      <th>OrderPlacedMethod</th>\n",
       "      <th>UniqueOrderCount</th>\n",
       "      <th>WeeklyRevenue</th>\n",
       "      <th>AOV</th>\n",
       "      <th>RevenuePerOrder</th>\n",
       "      <th>Performance</th>\n",
       "      <th>Label</th>\n",
       "    </tr>\n",
       "  </thead>\n",
       "  <tbody>\n",
       "    <tr>\n",
       "      <th>4</th>\n",
       "      <td>01389-00001</td>\n",
       "      <td>Website</td>\n",
       "      <td>2129</td>\n",
       "      <td>45241.00</td>\n",
       "      <td>21.34</td>\n",
       "      <td>21.25</td>\n",
       "      <td>Average</td>\n",
       "      <td>01389-00001 | Website</td>\n",
       "    </tr>\n",
       "    <tr>\n",
       "      <th>1</th>\n",
       "      <td>01389-00001</td>\n",
       "      <td>Grubhub</td>\n",
       "      <td>12</td>\n",
       "      <td>236.08</td>\n",
       "      <td>21.24</td>\n",
       "      <td>19.67</td>\n",
       "      <td>Average</td>\n",
       "      <td>01389-00001 | Grubhub</td>\n",
       "    </tr>\n",
       "    <tr>\n",
       "      <th>3</th>\n",
       "      <td>01389-00001</td>\n",
       "      <td>UberEats</td>\n",
       "      <td>174</td>\n",
       "      <td>3519.83</td>\n",
       "      <td>20.28</td>\n",
       "      <td>20.23</td>\n",
       "      <td>Average</td>\n",
       "      <td>01389-00001 | UberEats</td>\n",
       "    </tr>\n",
       "    <tr>\n",
       "      <th>0</th>\n",
       "      <td>01389-00001</td>\n",
       "      <td>DoorDash</td>\n",
       "      <td>1987</td>\n",
       "      <td>37084.17</td>\n",
       "      <td>18.68</td>\n",
       "      <td>18.66</td>\n",
       "      <td>Average</td>\n",
       "      <td>01389-00001 | DoorDash</td>\n",
       "    </tr>\n",
       "    <tr>\n",
       "      <th>2</th>\n",
       "      <td>01389-00001</td>\n",
       "      <td>Mobile</td>\n",
       "      <td>5138</td>\n",
       "      <td>93774.63</td>\n",
       "      <td>18.30</td>\n",
       "      <td>18.25</td>\n",
       "      <td>Average</td>\n",
       "      <td>01389-00001 | Mobile</td>\n",
       "    </tr>\n",
       "    <tr>\n",
       "      <th>...</th>\n",
       "      <td>...</td>\n",
       "      <td>...</td>\n",
       "      <td>...</td>\n",
       "      <td>...</td>\n",
       "      <td>...</td>\n",
       "      <td>...</td>\n",
       "      <td>...</td>\n",
       "      <td>...</td>\n",
       "    </tr>\n",
       "    <tr>\n",
       "      <th>333</th>\n",
       "      <td>03646-00003</td>\n",
       "      <td>Mobile</td>\n",
       "      <td>4416</td>\n",
       "      <td>85897.91</td>\n",
       "      <td>19.49</td>\n",
       "      <td>19.45</td>\n",
       "      <td>Average</td>\n",
       "      <td>03646-00003 | Mobile</td>\n",
       "    </tr>\n",
       "    <tr>\n",
       "      <th>331</th>\n",
       "      <td>03646-00003</td>\n",
       "      <td>DoorDash</td>\n",
       "      <td>1617</td>\n",
       "      <td>30729.47</td>\n",
       "      <td>19.03</td>\n",
       "      <td>19.00</td>\n",
       "      <td>Average</td>\n",
       "      <td>03646-00003 | DoorDash</td>\n",
       "    </tr>\n",
       "    <tr>\n",
       "      <th>339</th>\n",
       "      <td>03646-00004</td>\n",
       "      <td>Website</td>\n",
       "      <td>573</td>\n",
       "      <td>11563.93</td>\n",
       "      <td>20.05</td>\n",
       "      <td>20.18</td>\n",
       "      <td>Average</td>\n",
       "      <td>03646-00004 | Website</td>\n",
       "    </tr>\n",
       "    <tr>\n",
       "      <th>336</th>\n",
       "      <td>03646-00004</td>\n",
       "      <td>DoorDash</td>\n",
       "      <td>465</td>\n",
       "      <td>9169.94</td>\n",
       "      <td>19.67</td>\n",
       "      <td>19.72</td>\n",
       "      <td>Average</td>\n",
       "      <td>03646-00004 | DoorDash</td>\n",
       "    </tr>\n",
       "    <tr>\n",
       "      <th>337</th>\n",
       "      <td>03646-00004</td>\n",
       "      <td>Mobile</td>\n",
       "      <td>1230</td>\n",
       "      <td>22667.16</td>\n",
       "      <td>18.51</td>\n",
       "      <td>18.43</td>\n",
       "      <td>Average</td>\n",
       "      <td>03646-00004 | Mobile</td>\n",
       "    </tr>\n",
       "  </tbody>\n",
       "</table>\n",
       "<p>317 rows × 8 columns</p>\n",
       "</div>"
      ],
      "text/plain": [
       "    FranchiseStore OrderPlacedMethod  UniqueOrderCount  WeeklyRevenue    AOV  \\\n",
       "4      01389-00001           Website              2129       45241.00  21.34   \n",
       "1      01389-00001           Grubhub                12         236.08  21.24   \n",
       "3      01389-00001          UberEats               174        3519.83  20.28   \n",
       "0      01389-00001          DoorDash              1987       37084.17  18.68   \n",
       "2      01389-00001            Mobile              5138       93774.63  18.30   \n",
       "..             ...               ...               ...            ...    ...   \n",
       "333    03646-00003            Mobile              4416       85897.91  19.49   \n",
       "331    03646-00003          DoorDash              1617       30729.47  19.03   \n",
       "339    03646-00004           Website               573       11563.93  20.05   \n",
       "336    03646-00004          DoorDash               465        9169.94  19.67   \n",
       "337    03646-00004            Mobile              1230       22667.16  18.51   \n",
       "\n",
       "     RevenuePerOrder Performance                   Label  \n",
       "4              21.25     Average   01389-00001 | Website  \n",
       "1              19.67     Average   01389-00001 | Grubhub  \n",
       "3              20.23     Average  01389-00001 | UberEats  \n",
       "0              18.66     Average  01389-00001 | DoorDash  \n",
       "2              18.25     Average    01389-00001 | Mobile  \n",
       "..               ...         ...                     ...  \n",
       "333            19.45     Average    03646-00003 | Mobile  \n",
       "331            19.00     Average  03646-00003 | DoorDash  \n",
       "339            20.18     Average   03646-00004 | Website  \n",
       "336            19.72     Average  03646-00004 | DoorDash  \n",
       "337            18.43     Average    03646-00004 | Mobile  \n",
       "\n",
       "[317 rows x 8 columns]"
      ]
     },
     "execution_count": 505,
     "metadata": {},
     "output_type": "execute_result"
    }
   ],
   "source": [
    "conversion_quality[conversion_quality['Performance']=='Average']\n"
   ]
  },
  {
   "cell_type": "code",
   "execution_count": 509,
   "metadata": {},
   "outputs": [
    {
     "data": {
      "text/html": [
       "<div>\n",
       "<style scoped>\n",
       "    .dataframe tbody tr th:only-of-type {\n",
       "        vertical-align: middle;\n",
       "    }\n",
       "\n",
       "    .dataframe tbody tr th {\n",
       "        vertical-align: top;\n",
       "    }\n",
       "\n",
       "    .dataframe thead th {\n",
       "        text-align: right;\n",
       "    }\n",
       "</style>\n",
       "<table border=\"1\" class=\"dataframe\">\n",
       "  <thead>\n",
       "    <tr style=\"text-align: right;\">\n",
       "      <th></th>\n",
       "      <th>FranchiseStore</th>\n",
       "      <th>OrderPlacedMethod</th>\n",
       "      <th>UniqueOrderCount</th>\n",
       "      <th>WeeklyRevenue</th>\n",
       "      <th>AOV</th>\n",
       "      <th>RevenuePerOrder</th>\n",
       "      <th>Performance</th>\n",
       "      <th>Label</th>\n",
       "    </tr>\n",
       "  </thead>\n",
       "  <tbody>\n",
       "    <tr>\n",
       "      <th>109</th>\n",
       "      <td>01940-00011</td>\n",
       "      <td>Mobile</td>\n",
       "      <td>2549</td>\n",
       "      <td>57880.27</td>\n",
       "      <td>22.79</td>\n",
       "      <td>22.71</td>\n",
       "      <td>Top Performer</td>\n",
       "      <td>01940-00011 | Mobile</td>\n",
       "    </tr>\n",
       "    <tr>\n",
       "      <th>208</th>\n",
       "      <td>03222-00015</td>\n",
       "      <td>Website</td>\n",
       "      <td>2337</td>\n",
       "      <td>55711.93</td>\n",
       "      <td>23.84</td>\n",
       "      <td>23.84</td>\n",
       "      <td>Top Performer</td>\n",
       "      <td>03222-00015 | Website</td>\n",
       "    </tr>\n",
       "    <tr>\n",
       "      <th>216</th>\n",
       "      <td>03222-00017</td>\n",
       "      <td>Website</td>\n",
       "      <td>1820</td>\n",
       "      <td>44643.89</td>\n",
       "      <td>24.52</td>\n",
       "      <td>24.53</td>\n",
       "      <td>Top Performer</td>\n",
       "      <td>03222-00017 | Website</td>\n",
       "    </tr>\n",
       "    <tr>\n",
       "      <th>214</th>\n",
       "      <td>03222-00017</td>\n",
       "      <td>Mobile</td>\n",
       "      <td>3484</td>\n",
       "      <td>78607.88</td>\n",
       "      <td>22.54</td>\n",
       "      <td>22.56</td>\n",
       "      <td>Top Performer</td>\n",
       "      <td>03222-00017 | Mobile</td>\n",
       "    </tr>\n",
       "  </tbody>\n",
       "</table>\n",
       "</div>"
      ],
      "text/plain": [
       "    FranchiseStore OrderPlacedMethod  UniqueOrderCount  WeeklyRevenue    AOV  \\\n",
       "109    01940-00011            Mobile              2549       57880.27  22.79   \n",
       "208    03222-00015           Website              2337       55711.93  23.84   \n",
       "216    03222-00017           Website              1820       44643.89  24.52   \n",
       "214    03222-00017            Mobile              3484       78607.88  22.54   \n",
       "\n",
       "     RevenuePerOrder    Performance                  Label  \n",
       "109            22.71  Top Performer   01940-00011 | Mobile  \n",
       "208            23.84  Top Performer  03222-00015 | Website  \n",
       "216            24.53  Top Performer  03222-00017 | Website  \n",
       "214            22.56  Top Performer   03222-00017 | Mobile  "
      ]
     },
     "execution_count": 509,
     "metadata": {},
     "output_type": "execute_result"
    }
   ],
   "source": [
    "conversion_quality[conversion_quality['Performance']=='Top Performer']\n"
   ]
  },
  {
   "cell_type": "code",
   "execution_count": 513,
   "metadata": {},
   "outputs": [
    {
     "data": {
      "application/vnd.plotly.v1+json": {
       "config": {
        "plotlyServerURL": "https://plot.ly"
       },
       "data": [
        {
         "hovertemplate": "Label=01389-00001 | Website<br>Performance Group=Average<br>Weekly Revenue=%{x}<br>Average Order Value=%{y}<extra></extra>",
         "legendgroup": "01389-00001 | Website",
         "marker": {
          "color": "#636efa",
          "opacity": 0.7,
          "size": 10,
          "symbol": "circle"
         },
         "mode": "markers",
         "name": "01389-00001 | Website",
         "orientation": "v",
         "showlegend": true,
         "type": "scatter",
         "x": {
          "bdata": "AAAAACAX5kA=",
          "dtype": "f8"
         },
         "xaxis": "x",
         "y": {
          "bdata": "16NwPQpXNUA=",
          "dtype": "f8"
         },
         "yaxis": "y"
        },
        {
         "hovertemplate": "Label=01389-00001 | Grubhub<br>Performance Group=Average<br>Weekly Revenue=%{x}<br>Average Order Value=%{y}<extra></extra>",
         "legendgroup": "01389-00001 | Grubhub",
         "marker": {
          "color": "#EF553B",
          "opacity": 0.7,
          "size": 10,
          "symbol": "circle"
         },
         "mode": "markers",
         "name": "01389-00001 | Grubhub",
         "orientation": "v",
         "showlegend": true,
         "type": "scatter",
         "x": {
          "bdata": "w/UoXI+CbUA=",
          "dtype": "f8"
         },
         "xaxis": "x",
         "y": {
          "bdata": "PQrXo3A9NUA=",
          "dtype": "f8"
         },
         "yaxis": "y"
        },
        {
         "hovertemplate": "Label=01389-00001 | UberEats<br>Performance Group=Average<br>Weekly Revenue=%{x}<br>Average Order Value=%{y}<extra></extra>",
         "legendgroup": "01389-00001 | UberEats",
         "marker": {
          "color": "#00cc96",
          "opacity": 0.7,
          "size": 10,
          "symbol": "circle"
         },
         "mode": "markers",
         "name": "01389-00001 | UberEats",
         "orientation": "v",
         "showlegend": true,
         "type": "scatter",
         "x": {
          "bdata": "XI/C9ah/q0A=",
          "dtype": "f8"
         },
         "xaxis": "x",
         "y": {
          "bdata": "SOF6FK5HNEA=",
          "dtype": "f8"
         },
         "yaxis": "y"
        },
        {
         "hovertemplate": "Label=01389-00001 | DoorDash<br>Performance Group=Average<br>Weekly Revenue=%{x}<br>Average Order Value=%{y}<extra></extra>",
         "legendgroup": "01389-00001 | DoorDash",
         "marker": {
          "color": "#ab63fa",
          "opacity": 0.7,
          "size": 10,
          "symbol": "circle"
         },
         "mode": "markers",
         "name": "01389-00001 | DoorDash",
         "orientation": "v",
         "showlegend": true,
         "type": "scatter",
         "x": {
          "bdata": "CtejcIUb4kA=",
          "dtype": "f8"
         },
         "xaxis": "x",
         "y": {
          "bdata": "rkfhehSuMkA=",
          "dtype": "f8"
         },
         "yaxis": "y"
        },
        {
         "hovertemplate": "Label=01389-00001 | Mobile<br>Performance Group=Average<br>Weekly Revenue=%{x}<br>Average Order Value=%{y}<extra></extra>",
         "legendgroup": "01389-00001 | Mobile",
         "marker": {
          "color": "#FFA15A",
          "opacity": 0.7,
          "size": 10,
          "symbol": "circle"
         },
         "mode": "markers",
         "name": "01389-00001 | Mobile",
         "orientation": "v",
         "showlegend": true,
         "type": "scatter",
         "x": {
          "bdata": "SOF6FOrk9kA=",
          "dtype": "f8"
         },
         "xaxis": "x",
         "y": {
          "bdata": "zczMzMxMMkA=",
          "dtype": "f8"
         },
         "yaxis": "y"
        },
        {
         "hovertemplate": "Label=01389-00002 | UberEats<br>Performance Group=Average<br>Weekly Revenue=%{x}<br>Average Order Value=%{y}<extra></extra>",
         "legendgroup": "01389-00002 | UberEats",
         "marker": {
          "color": "#19d3f3",
          "opacity": 0.7,
          "size": 10,
          "symbol": "circle"
         },
         "mode": "markers",
         "name": "01389-00002 | UberEats",
         "orientation": "v",
         "showlegend": true,
         "type": "scatter",
         "x": {
          "bdata": "PQrXo3AumEA=",
          "dtype": "f8"
         },
         "xaxis": "x",
         "y": {
          "bdata": "hetRuB7FNUA=",
          "dtype": "f8"
         },
         "yaxis": "y"
        },
        {
         "hovertemplate": "Label=01389-00002 | Grubhub<br>Performance Group=Average<br>Weekly Revenue=%{x}<br>Average Order Value=%{y}<extra></extra>",
         "legendgroup": "01389-00002 | Grubhub",
         "marker": {
          "color": "#FF6692",
          "opacity": 0.7,
          "size": 10,
          "symbol": "circle"
         },
         "mode": "markers",
         "name": "01389-00002 | Grubhub",
         "orientation": "v",
         "showlegend": true,
         "type": "scatter",
         "x": {
          "bdata": "AAAAAAC0eUA=",
          "dtype": "f8"
         },
         "xaxis": "x",
         "y": {
          "bdata": "PQrXo3B9NUA=",
          "dtype": "f8"
         },
         "yaxis": "y"
        },
        {
         "hovertemplate": "Label=01389-00002 | Website<br>Performance Group=Average<br>Weekly Revenue=%{x}<br>Average Order Value=%{y}<extra></extra>",
         "legendgroup": "01389-00002 | Website",
         "marker": {
          "color": "#B6E880",
          "opacity": 0.7,
          "size": 10,
          "symbol": "circle"
         },
         "mode": "markers",
         "name": "01389-00002 | Website",
         "orientation": "v",
         "showlegend": true,
         "type": "scatter",
         "x": {
          "bdata": "9ihcjyIP1UA=",
          "dtype": "f8"
         },
         "xaxis": "x",
         "y": {
          "bdata": "rkfhehRuNEA=",
          "dtype": "f8"
         },
         "yaxis": "y"
        },
        {
         "hovertemplate": "Label=01389-00002 | Mobile<br>Performance Group=Average<br>Weekly Revenue=%{x}<br>Average Order Value=%{y}<extra></extra>",
         "legendgroup": "01389-00002 | Mobile",
         "marker": {
          "color": "#FF97FF",
          "opacity": 0.7,
          "size": 10,
          "symbol": "circle"
         },
         "mode": "markers",
         "name": "01389-00002 | Mobile",
         "orientation": "v",
         "showlegend": true,
         "type": "scatter",
         "x": {
          "bdata": "cT0K17u46UA=",
          "dtype": "f8"
         },
         "xaxis": "x",
         "y": {
          "bdata": "7FG4HoXrMkA=",
          "dtype": "f8"
         },
         "yaxis": "y"
        },
        {
         "hovertemplate": "Label=01389-00002 | DoorDash<br>Performance Group=Average<br>Weekly Revenue=%{x}<br>Average Order Value=%{y}<extra></extra>",
         "legendgroup": "01389-00002 | DoorDash",
         "marker": {
          "color": "#FECB52",
          "opacity": 0.7,
          "size": 10,
          "symbol": "circle"
         },
         "mode": "markers",
         "name": "01389-00002 | DoorDash",
         "orientation": "v",
         "showlegend": true,
         "type": "scatter",
         "x": {
          "bdata": "AAAAAEA+y0A=",
          "dtype": "f8"
         },
         "xaxis": "x",
         "y": {
          "bdata": "zczMzMwMMkA=",
          "dtype": "f8"
         },
         "yaxis": "y"
        },
        {
         "hovertemplate": "Label=01389-00003 | Grubhub<br>Performance Group=Average<br>Weekly Revenue=%{x}<br>Average Order Value=%{y}<extra></extra>",
         "legendgroup": "01389-00003 | Grubhub",
         "marker": {
          "color": "#636efa",
          "opacity": 0.7,
          "size": 10,
          "symbol": "circle"
         },
         "mode": "markers",
         "name": "01389-00003 | Grubhub",
         "orientation": "v",
         "showlegend": true,
         "type": "scatter",
         "x": {
          "bdata": "zczMzMwQf0A=",
          "dtype": "f8"
         },
         "xaxis": "x",
         "y": {
          "bdata": "pHA9CtcjOEA=",
          "dtype": "f8"
         },
         "yaxis": "y"
        },
        {
         "hovertemplate": "Label=01389-00003 | UberEats<br>Performance Group=Average<br>Weekly Revenue=%{x}<br>Average Order Value=%{y}<extra></extra>",
         "legendgroup": "01389-00003 | UberEats",
         "marker": {
          "color": "#EF553B",
          "opacity": 0.7,
          "size": 10,
          "symbol": "circle"
         },
         "mode": "markers",
         "name": "01389-00003 | UberEats",
         "orientation": "v",
         "showlegend": true,
         "type": "scatter",
         "x": {
          "bdata": "mpmZmZlYo0A=",
          "dtype": "f8"
         },
         "xaxis": "x",
         "y": {
          "bdata": "rkfhehQuNUA=",
          "dtype": "f8"
         },
         "yaxis": "y"
        },
        {
         "hovertemplate": "Label=01389-00003 | Website<br>Performance Group=Average<br>Weekly Revenue=%{x}<br>Average Order Value=%{y}<extra></extra>",
         "legendgroup": "01389-00003 | Website",
         "marker": {
          "color": "#00cc96",
          "opacity": 0.7,
          "size": 10,
          "symbol": "circle"
         },
         "mode": "markers",
         "name": "01389-00003 | Website",
         "orientation": "v",
         "showlegend": true,
         "type": "scatter",
         "x": {
          "bdata": "SOF6FB4300A=",
          "dtype": "f8"
         },
         "xaxis": "x",
         "y": {
          "bdata": "rkfhehQuNEA=",
          "dtype": "f8"
         },
         "yaxis": "y"
        },
        {
         "hovertemplate": "Label=01389-00003 | DoorDash<br>Performance Group=Average<br>Weekly Revenue=%{x}<br>Average Order Value=%{y}<extra></extra>",
         "legendgroup": "01389-00003 | DoorDash",
         "marker": {
          "color": "#ab63fa",
          "opacity": 0.7,
          "size": 10,
          "symbol": "circle"
         },
         "mode": "markers",
         "name": "01389-00003 | DoorDash",
         "orientation": "v",
         "showlegend": true,
         "type": "scatter",
         "x": {
          "bdata": "H4XrUXgI0kA=",
          "dtype": "f8"
         },
         "xaxis": "x",
         "y": {
          "bdata": "SOF6FK6HMkA=",
          "dtype": "f8"
         },
         "yaxis": "y"
        },
        {
         "hovertemplate": "Label=01389-00003 | Mobile<br>Performance Group=Average<br>Weekly Revenue=%{x}<br>Average Order Value=%{y}<extra></extra>",
         "legendgroup": "01389-00003 | Mobile",
         "marker": {
          "color": "#FFA15A",
          "opacity": 0.7,
          "size": 10,
          "symbol": "circle"
         },
         "mode": "markers",
         "name": "01389-00003 | Mobile",
         "orientation": "v",
         "showlegend": true,
         "type": "scatter",
         "x": {
          "bdata": "exSuR4lR4UA=",
          "dtype": "f8"
         },
         "xaxis": "x",
         "y": {
          "bdata": "AAAAAACAMkA=",
          "dtype": "f8"
         },
         "yaxis": "y"
        },
        {
         "hovertemplate": "Label=01389-00004 | UberEats<br>Performance Group=Average<br>Weekly Revenue=%{x}<br>Average Order Value=%{y}<extra></extra>",
         "legendgroup": "01389-00004 | UberEats",
         "marker": {
          "color": "#19d3f3",
          "opacity": 0.7,
          "size": 10,
          "symbol": "circle"
         },
         "mode": "markers",
         "name": "01389-00004 | UberEats",
         "orientation": "v",
         "showlegend": true,
         "type": "scatter",
         "x": {
          "bdata": "SOF6FK7ZgkA=",
          "dtype": "f8"
         },
         "xaxis": "x",
         "y": {
          "bdata": "16NwPQrXNkA=",
          "dtype": "f8"
         },
         "yaxis": "y"
        },
        {
         "hovertemplate": "Label=01389-00004 | Website<br>Performance Group=Average<br>Weekly Revenue=%{x}<br>Average Order Value=%{y}<extra></extra>",
         "legendgroup": "01389-00004 | Website",
         "marker": {
          "color": "#FF6692",
          "opacity": 0.7,
          "size": 10,
          "symbol": "circle"
         },
         "mode": "markers",
         "name": "01389-00004 | Website",
         "orientation": "v",
         "showlegend": true,
         "type": "scatter",
         "x": {
          "bdata": "9ihcj7K420A=",
          "dtype": "f8"
         },
         "xaxis": "x",
         "y": {
          "bdata": "AAAAAABANkA=",
          "dtype": "f8"
         },
         "yaxis": "y"
        },
        {
         "hovertemplate": "Label=01389-00004 | Mobile<br>Performance Group=Average<br>Weekly Revenue=%{x}<br>Average Order Value=%{y}<extra></extra>",
         "legendgroup": "01389-00004 | Mobile",
         "marker": {
          "color": "#B6E880",
          "opacity": 0.7,
          "size": 10,
          "symbol": "circle"
         },
         "mode": "markers",
         "name": "01389-00004 | Mobile",
         "orientation": "v",
         "showlegend": true,
         "type": "scatter",
         "x": {
          "bdata": "KVyPwt1D70A=",
          "dtype": "f8"
         },
         "xaxis": "x",
         "y": {
          "bdata": "ZmZmZmYmNUA=",
          "dtype": "f8"
         },
         "yaxis": "y"
        },
        {
         "hovertemplate": "Label=01389-00004 | DoorDash<br>Performance Group=Average<br>Weekly Revenue=%{x}<br>Average Order Value=%{y}<extra></extra>",
         "legendgroup": "01389-00004 | DoorDash",
         "marker": {
          "color": "#FF97FF",
          "opacity": 0.7,
          "size": 10,
          "symbol": "circle"
         },
         "mode": "markers",
         "name": "01389-00004 | DoorDash",
         "orientation": "v",
         "showlegend": true,
         "type": "scatter",
         "x": {
          "bdata": "uB6F62Fa2EA=",
          "dtype": "f8"
         },
         "xaxis": "x",
         "y": {
          "bdata": "j8L1KFwPNEA=",
          "dtype": "f8"
         },
         "yaxis": "y"
        },
        {
         "hovertemplate": "Label=01389-00005 | UberEats<br>Performance Group=Average<br>Weekly Revenue=%{x}<br>Average Order Value=%{y}<extra></extra>",
         "legendgroup": "01389-00005 | UberEats",
         "marker": {
          "color": "#FECB52",
          "opacity": 0.7,
          "size": 10,
          "symbol": "circle"
         },
         "mode": "markers",
         "name": "01389-00005 | UberEats",
         "orientation": "v",
         "showlegend": true,
         "type": "scatter",
         "x": {
          "bdata": "w/UoXI9+kUA=",
          "dtype": "f8"
         },
         "xaxis": "x",
         "y": {
          "bdata": "UrgehesROEA=",
          "dtype": "f8"
         },
         "yaxis": "y"
        },
        {
         "hovertemplate": "Label=01389-00005 | Website<br>Performance Group=Average<br>Weekly Revenue=%{x}<br>Average Order Value=%{y}<extra></extra>",
         "legendgroup": "01389-00005 | Website",
         "marker": {
          "color": "#636efa",
          "opacity": 0.7,
          "size": 10,
          "symbol": "circle"
         },
         "mode": "markers",
         "name": "01389-00005 | Website",
         "orientation": "v",
         "showlegend": true,
         "type": "scatter",
         "x": {
          "bdata": "zczMzMxm3kA=",
          "dtype": "f8"
         },
         "xaxis": "x",
         "y": {
          "bdata": "exSuR+F6NkA=",
          "dtype": "f8"
         },
         "yaxis": "y"
        },
        {
         "hovertemplate": "Label=01389-00005 | Mobile<br>Performance Group=Average<br>Weekly Revenue=%{x}<br>Average Order Value=%{y}<extra></extra>",
         "legendgroup": "01389-00005 | Mobile",
         "marker": {
          "color": "#EF553B",
          "opacity": 0.7,
          "size": 10,
          "symbol": "circle"
         },
         "mode": "markers",
         "name": "01389-00005 | Mobile",
         "orientation": "v",
         "showlegend": true,
         "type": "scatter",
         "x": {
          "bdata": "9ihcj9Jq8kA=",
          "dtype": "f8"
         },
         "xaxis": "x",
         "y": {
          "bdata": "4XoUrkdhNEA=",
          "dtype": "f8"
         },
         "yaxis": "y"
        },
        {
         "hovertemplate": "Label=01389-00005 | DoorDash<br>Performance Group=Average<br>Weekly Revenue=%{x}<br>Average Order Value=%{y}<extra></extra>",
         "legendgroup": "01389-00005 | DoorDash",
         "marker": {
          "color": "#00cc96",
          "opacity": 0.7,
          "size": 10,
          "symbol": "circle"
         },
         "mode": "markers",
         "name": "01389-00005 | DoorDash",
         "orientation": "v",
         "showlegend": true,
         "type": "scatter",
         "x": {
          "bdata": "ZmZmZpbf1UA=",
          "dtype": "f8"
         },
         "xaxis": "x",
         "y": {
          "bdata": "KVyPwvXoMkA=",
          "dtype": "f8"
         },
         "yaxis": "y"
        },
        {
         "hovertemplate": "Label=01389-00008 | UberEats<br>Performance Group=Average<br>Weekly Revenue=%{x}<br>Average Order Value=%{y}<extra></extra>",
         "legendgroup": "01389-00008 | UberEats",
         "marker": {
          "color": "#ab63fa",
          "opacity": 0.7,
          "size": 10,
          "symbol": "circle"
         },
         "mode": "markers",
         "name": "01389-00008 | UberEats",
         "orientation": "v",
         "showlegend": true,
         "type": "scatter",
         "x": {
          "bdata": "ZmZmZmbHkEA=",
          "dtype": "f8"
         },
         "xaxis": "x",
         "y": {
          "bdata": "mpmZmZlZN0A=",
          "dtype": "f8"
         },
         "yaxis": "y"
        },
        {
         "hovertemplate": "Label=01389-00008 | Website<br>Performance Group=Average<br>Weekly Revenue=%{x}<br>Average Order Value=%{y}<extra></extra>",
         "legendgroup": "01389-00008 | Website",
         "marker": {
          "color": "#FFA15A",
          "opacity": 0.7,
          "size": 10,
          "symbol": "circle"
         },
         "mode": "markers",
         "name": "01389-00008 | Website",
         "orientation": "v",
         "showlegend": true,
         "type": "scatter",
         "x": {
          "bdata": "16NwPXqD3UA=",
          "dtype": "f8"
         },
         "xaxis": "x",
         "y": {
          "bdata": "H4XrUbgeNUA=",
          "dtype": "f8"
         },
         "yaxis": "y"
        },
        {
         "hovertemplate": "Label=01389-00008 | Mobile<br>Performance Group=Average<br>Weekly Revenue=%{x}<br>Average Order Value=%{y}<extra></extra>",
         "legendgroup": "01389-00008 | Mobile",
         "marker": {
          "color": "#19d3f3",
          "opacity": 0.7,
          "size": 10,
          "symbol": "circle"
         },
         "mode": "markers",
         "name": "01389-00008 | Mobile",
         "orientation": "v",
         "showlegend": true,
         "type": "scatter",
         "x": {
          "bdata": "7FG4HjUK8UA=",
          "dtype": "f8"
         },
         "xaxis": "x",
         "y": {
          "bdata": "PQrXo3D9MkA=",
          "dtype": "f8"
         },
         "yaxis": "y"
        },
        {
         "hovertemplate": "Label=01389-00008 | DoorDash<br>Performance Group=Average<br>Weekly Revenue=%{x}<br>Average Order Value=%{y}<extra></extra>",
         "legendgroup": "01389-00008 | DoorDash",
         "marker": {
          "color": "#FF6692",
          "opacity": 0.7,
          "size": 10,
          "symbol": "circle"
         },
         "mode": "markers",
         "name": "01389-00008 | DoorDash",
         "orientation": "v",
         "showlegend": true,
         "type": "scatter",
         "x": {
          "bdata": "CtejcP0z0EA=",
          "dtype": "f8"
         },
         "xaxis": "x",
         "y": {
          "bdata": "rkfhehTuMEA=",
          "dtype": "f8"
         },
         "yaxis": "y"
        },
        {
         "hovertemplate": "Label=01389-00010 | UberEats<br>Performance Group=Average<br>Weekly Revenue=%{x}<br>Average Order Value=%{y}<extra></extra>",
         "legendgroup": "01389-00010 | UberEats",
         "marker": {
          "color": "#B6E880",
          "opacity": 0.7,
          "size": 10,
          "symbol": "circle"
         },
         "mode": "markers",
         "name": "01389-00010 | UberEats",
         "orientation": "v",
         "showlegend": true,
         "type": "scatter",
         "x": {
          "bdata": "7FG4HoVIk0A=",
          "dtype": "f8"
         },
         "xaxis": "x",
         "y": {
          "bdata": "9ihcj8I1OUA=",
          "dtype": "f8"
         },
         "yaxis": "y"
        },
        {
         "hovertemplate": "Label=01389-00010 | Website<br>Performance Group=Average<br>Weekly Revenue=%{x}<br>Average Order Value=%{y}<extra></extra>",
         "legendgroup": "01389-00010 | Website",
         "marker": {
          "color": "#FF97FF",
          "opacity": 0.7,
          "size": 10,
          "symbol": "circle"
         },
         "mode": "markers",
         "name": "01389-00010 | Website",
         "orientation": "v",
         "showlegend": true,
         "type": "scatter",
         "x": {
          "bdata": "exSuR3FR3EA=",
          "dtype": "f8"
         },
         "xaxis": "x",
         "y": {
          "bdata": "9ihcj8J1N0A=",
          "dtype": "f8"
         },
         "yaxis": "y"
        },
        {
         "hovertemplate": "Label=01389-00010 | Mobile<br>Performance Group=Average<br>Weekly Revenue=%{x}<br>Average Order Value=%{y}<extra></extra>",
         "legendgroup": "01389-00010 | Mobile",
         "marker": {
          "color": "#FECB52",
          "opacity": 0.7,
          "size": 10,
          "symbol": "circle"
         },
         "mode": "markers",
         "name": "01389-00010 | Mobile",
         "orientation": "v",
         "showlegend": true,
         "type": "scatter",
         "x": {
          "bdata": "Urgehfsb6UA=",
          "dtype": "f8"
         },
         "xaxis": "x",
         "y": {
          "bdata": "PQrXo3C9NEA=",
          "dtype": "f8"
         },
         "yaxis": "y"
        },
        {
         "hovertemplate": "Label=01389-00010 | DoorDash<br>Performance Group=Average<br>Weekly Revenue=%{x}<br>Average Order Value=%{y}<extra></extra>",
         "legendgroup": "01389-00010 | DoorDash",
         "marker": {
          "color": "#636efa",
          "opacity": 0.7,
          "size": 10,
          "symbol": "circle"
         },
         "mode": "markers",
         "name": "01389-00010 | DoorDash",
         "orientation": "v",
         "showlegend": true,
         "type": "scatter",
         "x": {
          "bdata": "uB6F65GJ2EA=",
          "dtype": "f8"
         },
         "xaxis": "x",
         "y": {
          "bdata": "4XoUrkehM0A=",
          "dtype": "f8"
         },
         "yaxis": "y"
        },
        {
         "hovertemplate": "Label=01389-00011 | Website<br>Performance Group=Average<br>Weekly Revenue=%{x}<br>Average Order Value=%{y}<extra></extra>",
         "legendgroup": "01389-00011 | Website",
         "marker": {
          "color": "#EF553B",
          "opacity": 0.7,
          "size": 10,
          "symbol": "circle"
         },
         "mode": "markers",
         "name": "01389-00011 | Website",
         "orientation": "v",
         "showlegend": true,
         "type": "scatter",
         "x": {
          "bdata": "cT0K17tu4kA=",
          "dtype": "f8"
         },
         "xaxis": "x",
         "y": {
          "bdata": "FK5H4XoUNEA=",
          "dtype": "f8"
         },
         "yaxis": "y"
        },
        {
         "hovertemplate": "Label=01389-00011 | UberEats<br>Performance Group=Average<br>Weekly Revenue=%{x}<br>Average Order Value=%{y}<extra></extra>",
         "legendgroup": "01389-00011 | UberEats",
         "marker": {
          "color": "#00cc96",
          "opacity": 0.7,
          "size": 10,
          "symbol": "circle"
         },
         "mode": "markers",
         "name": "01389-00011 | UberEats",
         "orientation": "v",
         "showlegend": true,
         "type": "scatter",
         "x": {
          "bdata": "hetRuN6StEA=",
          "dtype": "f8"
         },
         "xaxis": "x",
         "y": {
          "bdata": "MzMzMzPzMkA=",
          "dtype": "f8"
         },
         "yaxis": "y"
        },
        {
         "hovertemplate": "Label=01389-00011 | Mobile<br>Performance Group=Average<br>Weekly Revenue=%{x}<br>Average Order Value=%{y}<extra></extra>",
         "legendgroup": "01389-00011 | Mobile",
         "marker": {
          "color": "#ab63fa",
          "opacity": 0.7,
          "size": 10,
          "symbol": "circle"
         },
         "mode": "markers",
         "name": "01389-00011 | Mobile",
         "orientation": "v",
         "showlegend": true,
         "type": "scatter",
         "x": {
          "bdata": "4XoUrp/48UA=",
          "dtype": "f8"
         },
         "xaxis": "x",
         "y": {
          "bdata": "H4XrUbjeMkA=",
          "dtype": "f8"
         },
         "yaxis": "y"
        },
        {
         "hovertemplate": "Label=01389-00011 | DoorDash<br>Performance Group=Average<br>Weekly Revenue=%{x}<br>Average Order Value=%{y}<extra></extra>",
         "legendgroup": "01389-00011 | DoorDash",
         "marker": {
          "color": "#FFA15A",
          "opacity": 0.7,
          "size": 10,
          "symbol": "circle"
         },
         "mode": "markers",
         "name": "01389-00011 | DoorDash",
         "orientation": "v",
         "showlegend": true,
         "type": "scatter",
         "x": {
          "bdata": "SOF6FG7k3UA=",
          "dtype": "f8"
         },
         "xaxis": "x",
         "y": {
          "bdata": "SOF6FK4HMkA=",
          "dtype": "f8"
         },
         "yaxis": "y"
        },
        {
         "hovertemplate": "Label=01389-00011 | Grubhub<br>Performance Group=Underperformer<br>Weekly Revenue=%{x}<br>Average Order Value=%{y}<extra></extra>",
         "legendgroup": "01389-00011 | Grubhub",
         "marker": {
          "color": "#19d3f3",
          "opacity": 0.7,
          "size": 10,
          "symbol": "circle"
         },
         "mode": "markers",
         "name": "01389-00011 | Grubhub",
         "orientation": "v",
         "showlegend": true,
         "type": "scatter",
         "x": {
          "bdata": "CtejcD1yeEA=",
          "dtype": "f8"
         },
         "xaxis": "x2",
         "y": {
          "bdata": "XI/C9SjcL0A=",
          "dtype": "f8"
         },
         "yaxis": "y2"
        },
        {
         "hovertemplate": "Label=01389-00012 | Website<br>Performance Group=Average<br>Weekly Revenue=%{x}<br>Average Order Value=%{y}<extra></extra>",
         "legendgroup": "01389-00012 | Website",
         "marker": {
          "color": "#FF6692",
          "opacity": 0.7,
          "size": 10,
          "symbol": "circle"
         },
         "mode": "markers",
         "name": "01389-00012 | Website",
         "orientation": "v",
         "showlegend": true,
         "type": "scatter",
         "x": {
          "bdata": "SOF6FH7X1UA=",
          "dtype": "f8"
         },
         "xaxis": "x",
         "y": {
          "bdata": "w/UoXI8CNUA=",
          "dtype": "f8"
         },
         "yaxis": "y"
        },
        {
         "hovertemplate": "Label=01389-00012 | Mobile<br>Performance Group=Average<br>Weekly Revenue=%{x}<br>Average Order Value=%{y}<extra></extra>",
         "legendgroup": "01389-00012 | Mobile",
         "marker": {
          "color": "#B6E880",
          "opacity": 0.7,
          "size": 10,
          "symbol": "circle"
         },
         "mode": "markers",
         "name": "01389-00012 | Mobile",
         "orientation": "v",
         "showlegend": true,
         "type": "scatter",
         "x": {
          "bdata": "w/UoXI/C4kA=",
          "dtype": "f8"
         },
         "xaxis": "x",
         "y": {
          "bdata": "cT0K16OwNEA=",
          "dtype": "f8"
         },
         "yaxis": "y"
        },
        {
         "hovertemplate": "Label=01389-00012 | UberEats<br>Performance Group=Average<br>Weekly Revenue=%{x}<br>Average Order Value=%{y}<extra></extra>",
         "legendgroup": "01389-00012 | UberEats",
         "marker": {
          "color": "#FF97FF",
          "opacity": 0.7,
          "size": 10,
          "symbol": "circle"
         },
         "mode": "markers",
         "name": "01389-00012 | UberEats",
         "orientation": "v",
         "showlegend": true,
         "type": "scatter",
         "x": {
          "bdata": "MzMzMzNDmkA=",
          "dtype": "f8"
         },
         "xaxis": "x",
         "y": {
          "bdata": "SOF6FK4HM0A=",
          "dtype": "f8"
         },
         "yaxis": "y"
        },
        {
         "hovertemplate": "Label=01389-00012 | DoorDash<br>Performance Group=Average<br>Weekly Revenue=%{x}<br>Average Order Value=%{y}<extra></extra>",
         "legendgroup": "01389-00012 | DoorDash",
         "marker": {
          "color": "#FECB52",
          "opacity": 0.7,
          "size": 10,
          "symbol": "circle"
         },
         "mode": "markers",
         "name": "01389-00012 | DoorDash",
         "orientation": "v",
         "showlegend": true,
         "type": "scatter",
         "x": {
          "bdata": "H4XrUXg+zkA=",
          "dtype": "f8"
         },
         "xaxis": "x",
         "y": {
          "bdata": "exSuR+G6MkA=",
          "dtype": "f8"
         },
         "yaxis": "y"
        },
        {
         "hovertemplate": "Label=01389-00013 | Grubhub<br>Performance Group=Average<br>Weekly Revenue=%{x}<br>Average Order Value=%{y}<extra></extra>",
         "legendgroup": "01389-00013 | Grubhub",
         "marker": {
          "color": "#636efa",
          "opacity": 0.7,
          "size": 10,
          "symbol": "circle"
         },
         "mode": "markers",
         "name": "01389-00013 | Grubhub",
         "orientation": "v",
         "showlegend": true,
         "type": "scatter",
         "x": {
          "bdata": "AAAAAACwbUA=",
          "dtype": "f8"
         },
         "xaxis": "x",
         "y": {
          "bdata": "j8L1KFyPNEA=",
          "dtype": "f8"
         },
         "yaxis": "y"
        },
        {
         "hovertemplate": "Label=01389-00013 | Website<br>Performance Group=Average<br>Weekly Revenue=%{x}<br>Average Order Value=%{y}<extra></extra>",
         "legendgroup": "01389-00013 | Website",
         "marker": {
          "color": "#EF553B",
          "opacity": 0.7,
          "size": 10,
          "symbol": "circle"
         },
         "mode": "markers",
         "name": "01389-00013 | Website",
         "orientation": "v",
         "showlegend": true,
         "type": "scatter",
         "x": {
          "bdata": "4XoUrn9Z4EA=",
          "dtype": "f8"
         },
         "xaxis": "x",
         "y": {
          "bdata": "mpmZmZnZMkA=",
          "dtype": "f8"
         },
         "yaxis": "y"
        },
        {
         "hovertemplate": "Label=01389-00013 | UberEats<br>Performance Group=Average<br>Weekly Revenue=%{x}<br>Average Order Value=%{y}<extra></extra>",
         "legendgroup": "01389-00013 | UberEats",
         "marker": {
          "color": "#00cc96",
          "opacity": 0.7,
          "size": 10,
          "symbol": "circle"
         },
         "mode": "markers",
         "name": "01389-00013 | UberEats",
         "orientation": "v",
         "showlegend": true,
         "type": "scatter",
         "x": {
          "bdata": "MzMzM7NcrkA=",
          "dtype": "f8"
         },
         "xaxis": "x",
         "y": {
          "bdata": "SOF6FK4HMkA=",
          "dtype": "f8"
         },
         "yaxis": "y"
        },
        {
         "hovertemplate": "Label=01389-00013 | DoorDash<br>Performance Group=Average<br>Weekly Revenue=%{x}<br>Average Order Value=%{y}<extra></extra>",
         "legendgroup": "01389-00013 | DoorDash",
         "marker": {
          "color": "#ab63fa",
          "opacity": 0.7,
          "size": 10,
          "symbol": "circle"
         },
         "mode": "markers",
         "name": "01389-00013 | DoorDash",
         "orientation": "v",
         "showlegend": true,
         "type": "scatter",
         "x": {
          "bdata": "CtejcD2z0EA=",
          "dtype": "f8"
         },
         "xaxis": "x",
         "y": {
          "bdata": "FK5H4XqUMUA=",
          "dtype": "f8"
         },
         "yaxis": "y"
        },
        {
         "hovertemplate": "Label=01389-00013 | Mobile<br>Performance Group=Average<br>Weekly Revenue=%{x}<br>Average Order Value=%{y}<extra></extra>",
         "legendgroup": "01389-00013 | Mobile",
         "marker": {
          "color": "#FFA15A",
          "opacity": 0.7,
          "size": 10,
          "symbol": "circle"
         },
         "mode": "markers",
         "name": "01389-00013 | Mobile",
         "orientation": "v",
         "showlegend": true,
         "type": "scatter",
         "x": {
          "bdata": "AAAAAGDu7EA=",
          "dtype": "f8"
         },
         "xaxis": "x",
         "y": {
          "bdata": "16NwPQrXL0A=",
          "dtype": "f8"
         },
         "yaxis": "y"
        },
        {
         "hovertemplate": "Label=01389-00014 | UberEats<br>Performance Group=Average<br>Weekly Revenue=%{x}<br>Average Order Value=%{y}<extra></extra>",
         "legendgroup": "01389-00014 | UberEats",
         "marker": {
          "color": "#19d3f3",
          "opacity": 0.7,
          "size": 10,
          "symbol": "circle"
         },
         "mode": "markers",
         "name": "01389-00014 | UberEats",
         "orientation": "v",
         "showlegend": true,
         "type": "scatter",
         "x": {
          "bdata": "uB6F61G8eUA=",
          "dtype": "f8"
         },
         "xaxis": "x",
         "y": {
          "bdata": "hetRuB5FOEA=",
          "dtype": "f8"
         },
         "yaxis": "y"
        },
        {
         "hovertemplate": "Label=01389-00014 | Website<br>Performance Group=Average<br>Weekly Revenue=%{x}<br>Average Order Value=%{y}<extra></extra>",
         "legendgroup": "01389-00014 | Website",
         "marker": {
          "color": "#FF6692",
          "opacity": 0.7,
          "size": 10,
          "symbol": "circle"
         },
         "mode": "markers",
         "name": "01389-00014 | Website",
         "orientation": "v",
         "showlegend": true,
         "type": "scatter",
         "x": {
          "bdata": "AAAAAIAY2UA=",
          "dtype": "f8"
         },
         "xaxis": "x",
         "y": {
          "bdata": "zczMzMxMNkA=",
          "dtype": "f8"
         },
         "yaxis": "y"
        },
        {
         "hovertemplate": "Label=01389-00014 | Mobile<br>Performance Group=Average<br>Weekly Revenue=%{x}<br>Average Order Value=%{y}<extra></extra>",
         "legendgroup": "01389-00014 | Mobile",
         "marker": {
          "color": "#B6E880",
          "opacity": 0.7,
          "size": 10,
          "symbol": "circle"
         },
         "mode": "markers",
         "name": "01389-00014 | Mobile",
         "orientation": "v",
         "showlegend": true,
         "type": "scatter",
         "x": {
          "bdata": "XI/C9ejU50A=",
          "dtype": "f8"
         },
         "xaxis": "x",
         "y": {
          "bdata": "exSuR+F6NEA=",
          "dtype": "f8"
         },
         "yaxis": "y"
        },
        {
         "hovertemplate": "Label=01389-00014 | DoorDash<br>Performance Group=Average<br>Weekly Revenue=%{x}<br>Average Order Value=%{y}<extra></extra>",
         "legendgroup": "01389-00014 | DoorDash",
         "marker": {
          "color": "#FF97FF",
          "opacity": 0.7,
          "size": 10,
          "symbol": "circle"
         },
         "mode": "markers",
         "name": "01389-00014 | DoorDash",
         "orientation": "v",
         "showlegend": true,
         "type": "scatter",
         "x": {
          "bdata": "9ihcj6KHzkA=",
          "dtype": "f8"
         },
         "xaxis": "x",
         "y": {
          "bdata": "ZmZmZmamM0A=",
          "dtype": "f8"
         },
         "yaxis": "y"
        },
        {
         "hovertemplate": "Label=01494-00001 | UberEats<br>Performance Group=Average<br>Weekly Revenue=%{x}<br>Average Order Value=%{y}<extra></extra>",
         "legendgroup": "01494-00001 | UberEats",
         "marker": {
          "color": "#FECB52",
          "opacity": 0.7,
          "size": 10,
          "symbol": "circle"
         },
         "mode": "markers",
         "name": "01494-00001 | UberEats",
         "orientation": "v",
         "showlegend": true,
         "type": "scatter",
         "x": {
          "bdata": "H4XrUfi5skA=",
          "dtype": "f8"
         },
         "xaxis": "x",
         "y": {
          "bdata": "SOF6FK6HNkA=",
          "dtype": "f8"
         },
         "yaxis": "y"
        },
        {
         "hovertemplate": "Label=01494-00001 | Website<br>Performance Group=Average<br>Weekly Revenue=%{x}<br>Average Order Value=%{y}<extra></extra>",
         "legendgroup": "01494-00001 | Website",
         "marker": {
          "color": "#636efa",
          "opacity": 0.7,
          "size": 10,
          "symbol": "circle"
         },
         "mode": "markers",
         "name": "01494-00001 | Website",
         "orientation": "v",
         "showlegend": true,
         "type": "scatter",
         "x": {
          "bdata": "FK5H4fpl3kA=",
          "dtype": "f8"
         },
         "xaxis": "x",
         "y": {
          "bdata": "mpmZmZlZNUA=",
          "dtype": "f8"
         },
         "yaxis": "y"
        },
        {
         "hovertemplate": "Label=01494-00001 | Grubhub<br>Performance Group=Average<br>Weekly Revenue=%{x}<br>Average Order Value=%{y}<extra></extra>",
         "legendgroup": "01494-00001 | Grubhub",
         "marker": {
          "color": "#EF553B",
          "opacity": 0.7,
          "size": 10,
          "symbol": "circle"
         },
         "mode": "markers",
         "name": "01494-00001 | Grubhub",
         "orientation": "v",
         "showlegend": true,
         "type": "scatter",
         "x": {
          "bdata": "CtejcD2WeUA=",
          "dtype": "f8"
         },
         "xaxis": "x",
         "y": {
          "bdata": "MzMzMzMzNUA=",
          "dtype": "f8"
         },
         "yaxis": "y"
        },
        {
         "hovertemplate": "Label=01494-00001 | Mobile<br>Performance Group=Average<br>Weekly Revenue=%{x}<br>Average Order Value=%{y}<extra></extra>",
         "legendgroup": "01494-00001 | Mobile",
         "marker": {
          "color": "#00cc96",
          "opacity": 0.7,
          "size": 10,
          "symbol": "circle"
         },
         "mode": "markers",
         "name": "01494-00001 | Mobile",
         "orientation": "v",
         "showlegend": true,
         "type": "scatter",
         "x": {
          "bdata": "cT0K12NI40A=",
          "dtype": "f8"
         },
         "xaxis": "x",
         "y": {
          "bdata": "H4XrUbieM0A=",
          "dtype": "f8"
         },
         "yaxis": "y"
        },
        {
         "hovertemplate": "Label=01494-00001 | DoorDash<br>Performance Group=Average<br>Weekly Revenue=%{x}<br>Average Order Value=%{y}<extra></extra>",
         "legendgroup": "01494-00001 | DoorDash",
         "marker": {
          "color": "#ab63fa",
          "opacity": 0.7,
          "size": 10,
          "symbol": "circle"
         },
         "mode": "markers",
         "name": "01494-00001 | DoorDash",
         "orientation": "v",
         "showlegend": true,
         "type": "scatter",
         "x": {
          "bdata": "cT0K13tW4EA=",
          "dtype": "f8"
         },
         "xaxis": "x",
         "y": {
          "bdata": "exSuR+H6MkA=",
          "dtype": "f8"
         },
         "yaxis": "y"
        },
        {
         "hovertemplate": "Label=01494-00002 | UberEats<br>Performance Group=Average<br>Weekly Revenue=%{x}<br>Average Order Value=%{y}<extra></extra>",
         "legendgroup": "01494-00002 | UberEats",
         "marker": {
          "color": "#FFA15A",
          "opacity": 0.7,
          "size": 10,
          "symbol": "circle"
         },
         "mode": "markers",
         "name": "01494-00002 | UberEats",
         "orientation": "v",
         "showlegend": true,
         "type": "scatter",
         "x": {
          "bdata": "hetRuB7LhkA=",
          "dtype": "f8"
         },
         "xaxis": "x",
         "y": {
          "bdata": "16NwPQrXN0A=",
          "dtype": "f8"
         },
         "yaxis": "y"
        },
        {
         "hovertemplate": "Label=01494-00002 | Mobile<br>Performance Group=Average<br>Weekly Revenue=%{x}<br>Average Order Value=%{y}<extra></extra>",
         "legendgroup": "01494-00002 | Mobile",
         "marker": {
          "color": "#19d3f3",
          "opacity": 0.7,
          "size": 10,
          "symbol": "circle"
         },
         "mode": "markers",
         "name": "01494-00002 | Mobile",
         "orientation": "v",
         "showlegend": true,
         "type": "scatter",
         "x": {
          "bdata": "16NwPXqx3EA=",
          "dtype": "f8"
         },
         "xaxis": "x",
         "y": {
          "bdata": "9ihcj8K1M0A=",
          "dtype": "f8"
         },
         "yaxis": "y"
        },
        {
         "hovertemplate": "Label=01494-00002 | Website<br>Performance Group=Average<br>Weekly Revenue=%{x}<br>Average Order Value=%{y}<extra></extra>",
         "legendgroup": "01494-00002 | Website",
         "marker": {
          "color": "#FF6692",
          "opacity": 0.7,
          "size": 10,
          "symbol": "circle"
         },
         "mode": "markers",
         "name": "01494-00002 | Website",
         "orientation": "v",
         "showlegend": true,
         "type": "scatter",
         "x": {
          "bdata": "H4XrUXjdy0A=",
          "dtype": "f8"
         },
         "xaxis": "x",
         "y": {
          "bdata": "4XoUrkdhMkA=",
          "dtype": "f8"
         },
         "yaxis": "y"
        },
        {
         "hovertemplate": "Label=01494-00002 | DoorDash<br>Performance Group=Average<br>Weekly Revenue=%{x}<br>Average Order Value=%{y}<extra></extra>",
         "legendgroup": "01494-00002 | DoorDash",
         "marker": {
          "color": "#B6E880",
          "opacity": 0.7,
          "size": 10,
          "symbol": "circle"
         },
         "mode": "markers",
         "name": "01494-00002 | DoorDash",
         "orientation": "v",
         "showlegend": true,
         "type": "scatter",
         "x": {
          "bdata": "4XoUrkfS0kA=",
          "dtype": "f8"
         },
         "xaxis": "x",
         "y": {
          "bdata": "ZmZmZmZmMUA=",
          "dtype": "f8"
         },
         "yaxis": "y"
        },
        {
         "hovertemplate": "Label=01494-00004 | UberEats<br>Performance Group=Average<br>Weekly Revenue=%{x}<br>Average Order Value=%{y}<extra></extra>",
         "legendgroup": "01494-00004 | UberEats",
         "marker": {
          "color": "#FF97FF",
          "opacity": 0.7,
          "size": 10,
          "symbol": "circle"
         },
         "mode": "markers",
         "name": "01494-00004 | UberEats",
         "orientation": "v",
         "showlegend": true,
         "type": "scatter",
         "x": {
          "bdata": "FK5H4XpCmkA=",
          "dtype": "f8"
         },
         "xaxis": "x",
         "y": {
          "bdata": "mpmZmZlZOUA=",
          "dtype": "f8"
         },
         "yaxis": "y"
        },
        {
         "hovertemplate": "Label=01494-00004 | Website<br>Performance Group=Average<br>Weekly Revenue=%{x}<br>Average Order Value=%{y}<extra></extra>",
         "legendgroup": "01494-00004 | Website",
         "marker": {
          "color": "#FECB52",
          "opacity": 0.7,
          "size": 10,
          "symbol": "circle"
         },
         "mode": "markers",
         "name": "01494-00004 | Website",
         "orientation": "v",
         "showlegend": true,
         "type": "scatter",
         "x": {
          "bdata": "16NwPfpf20A=",
          "dtype": "f8"
         },
         "xaxis": "x",
         "y": {
          "bdata": "zczMzMwMOUA=",
          "dtype": "f8"
         },
         "yaxis": "y"
        },
        {
         "hovertemplate": "Label=01494-00004 | Mobile<br>Performance Group=Average<br>Weekly Revenue=%{x}<br>Average Order Value=%{y}<extra></extra>",
         "legendgroup": "01494-00004 | Mobile",
         "marker": {
          "color": "#636efa",
          "opacity": 0.7,
          "size": 10,
          "symbol": "circle"
         },
         "mode": "markers",
         "name": "01494-00004 | Mobile",
         "orientation": "v",
         "showlegend": true,
         "type": "scatter",
         "x": {
          "bdata": "H4XrUZCP60A=",
          "dtype": "f8"
         },
         "xaxis": "x",
         "y": {
          "bdata": "KVyPwvWoNUA=",
          "dtype": "f8"
         },
         "yaxis": "y"
        },
        {
         "hovertemplate": "Label=01494-00004 | DoorDash<br>Performance Group=Average<br>Weekly Revenue=%{x}<br>Average Order Value=%{y}<extra></extra>",
         "legendgroup": "01494-00004 | DoorDash",
         "marker": {
          "color": "#EF553B",
          "opacity": 0.7,
          "size": 10,
          "symbol": "circle"
         },
         "mode": "markers",
         "name": "01494-00004 | DoorDash",
         "orientation": "v",
         "showlegend": true,
         "type": "scatter",
         "x": {
          "bdata": "AAAAAFDF1kA=",
          "dtype": "f8"
         },
         "xaxis": "x",
         "y": {
          "bdata": "CtejcD3KM0A=",
          "dtype": "f8"
         },
         "yaxis": "y"
        },
        {
         "hovertemplate": "Label=01494-00005 | UberEats<br>Performance Group=Average<br>Weekly Revenue=%{x}<br>Average Order Value=%{y}<extra></extra>",
         "legendgroup": "01494-00005 | UberEats",
         "marker": {
          "color": "#00cc96",
          "opacity": 0.7,
          "size": 10,
          "symbol": "circle"
         },
         "mode": "markers",
         "name": "01494-00005 | UberEats",
         "orientation": "v",
         "showlegend": true,
         "type": "scatter",
         "x": {
          "bdata": "ZmZmZma2fUA=",
          "dtype": "f8"
         },
         "xaxis": "x",
         "y": {
          "bdata": "KVyPwvXoNkA=",
          "dtype": "f8"
         },
         "yaxis": "y"
        },
        {
         "hovertemplate": "Label=01494-00005 | Website<br>Performance Group=Average<br>Weekly Revenue=%{x}<br>Average Order Value=%{y}<extra></extra>",
         "legendgroup": "01494-00005 | Website",
         "marker": {
          "color": "#ab63fa",
          "opacity": 0.7,
          "size": 10,
          "symbol": "circle"
         },
         "mode": "markers",
         "name": "01494-00005 | Website",
         "orientation": "v",
         "showlegend": true,
         "type": "scatter",
         "x": {
          "bdata": "AAAAANAi0kA=",
          "dtype": "f8"
         },
         "xaxis": "x",
         "y": {
          "bdata": "H4XrUbgeNkA=",
          "dtype": "f8"
         },
         "yaxis": "y"
        },
        {
         "hovertemplate": "Label=01494-00005 | Mobile<br>Performance Group=Average<br>Weekly Revenue=%{x}<br>Average Order Value=%{y}<extra></extra>",
         "legendgroup": "01494-00005 | Mobile",
         "marker": {
          "color": "#FFA15A",
          "opacity": 0.7,
          "size": 10,
          "symbol": "circle"
         },
         "mode": "markers",
         "name": "01494-00005 | Mobile",
         "orientation": "v",
         "showlegend": true,
         "type": "scatter",
         "x": {
          "bdata": "mpmZmeGh5EA=",
          "dtype": "f8"
         },
         "xaxis": "x",
         "y": {
          "bdata": "exSuR+F6M0A=",
          "dtype": "f8"
         },
         "yaxis": "y"
        },
        {
         "hovertemplate": "Label=01494-00005 | DoorDash<br>Performance Group=Average<br>Weekly Revenue=%{x}<br>Average Order Value=%{y}<extra></extra>",
         "legendgroup": "01494-00005 | DoorDash",
         "marker": {
          "color": "#19d3f3",
          "opacity": 0.7,
          "size": 10,
          "symbol": "circle"
         },
         "mode": "markers",
         "name": "01494-00005 | DoorDash",
         "orientation": "v",
         "showlegend": true,
         "type": "scatter",
         "x": {
          "bdata": "CtejcN3Sy0A=",
          "dtype": "f8"
         },
         "xaxis": "x",
         "y": {
          "bdata": "w/UoXI9CM0A=",
          "dtype": "f8"
         },
         "yaxis": "y"
        },
        {
         "hovertemplate": "Label=01826-00001 | UberEats<br>Performance Group=Average<br>Weekly Revenue=%{x}<br>Average Order Value=%{y}<extra></extra>",
         "legendgroup": "01826-00001 | UberEats",
         "marker": {
          "color": "#FF6692",
          "opacity": 0.7,
          "size": 10,
          "symbol": "circle"
         },
         "mode": "markers",
         "name": "01826-00001 | UberEats",
         "orientation": "v",
         "showlegend": true,
         "type": "scatter",
         "x": {
          "bdata": "exSuR+GlnUA=",
          "dtype": "f8"
         },
         "xaxis": "x",
         "y": {
          "bdata": "rkfhehTuNUA=",
          "dtype": "f8"
         },
         "yaxis": "y"
        },
        {
         "hovertemplate": "Label=01826-00001 | Website<br>Performance Group=Average<br>Weekly Revenue=%{x}<br>Average Order Value=%{y}<extra></extra>",
         "legendgroup": "01826-00001 | Website",
         "marker": {
          "color": "#B6E880",
          "opacity": 0.7,
          "size": 10,
          "symbol": "circle"
         },
         "mode": "markers",
         "name": "01826-00001 | Website",
         "orientation": "v",
         "showlegend": true,
         "type": "scatter",
         "x": {
          "bdata": "AAAAANBh3UA=",
          "dtype": "f8"
         },
         "xaxis": "x",
         "y": {
          "bdata": "16NwPQqXNUA=",
          "dtype": "f8"
         },
         "yaxis": "y"
        },
        {
         "hovertemplate": "Label=01826-00001 | Mobile<br>Performance Group=Average<br>Weekly Revenue=%{x}<br>Average Order Value=%{y}<extra></extra>",
         "legendgroup": "01826-00001 | Mobile",
         "marker": {
          "color": "#FF97FF",
          "opacity": 0.7,
          "size": 10,
          "symbol": "circle"
         },
         "mode": "markers",
         "name": "01826-00001 | Mobile",
         "orientation": "v",
         "showlegend": true,
         "type": "scatter",
         "x": {
          "bdata": "hetRuEZT80A=",
          "dtype": "f8"
         },
         "xaxis": "x",
         "y": {
          "bdata": "w/UoXI+CNEA=",
          "dtype": "f8"
         },
         "yaxis": "y"
        },
        {
         "hovertemplate": "Label=01826-00001 | DoorDash<br>Performance Group=Average<br>Weekly Revenue=%{x}<br>Average Order Value=%{y}<extra></extra>",
         "legendgroup": "01826-00001 | DoorDash",
         "marker": {
          "color": "#FECB52",
          "opacity": 0.7,
          "size": 10,
          "symbol": "circle"
         },
         "mode": "markers",
         "name": "01826-00001 | DoorDash",
         "orientation": "v",
         "showlegend": true,
         "type": "scatter",
         "x": {
          "bdata": "SOF6FA7N1UA=",
          "dtype": "f8"
         },
         "xaxis": "x",
         "y": {
          "bdata": "AAAAAAAANEA=",
          "dtype": "f8"
         },
         "yaxis": "y"
        },
        {
         "hovertemplate": "Label=01826-00002 | Website<br>Performance Group=Average<br>Weekly Revenue=%{x}<br>Average Order Value=%{y}<extra></extra>",
         "legendgroup": "01826-00002 | Website",
         "marker": {
          "color": "#636efa",
          "opacity": 0.7,
          "size": 10,
          "symbol": "circle"
         },
         "mode": "markers",
         "name": "01826-00002 | Website",
         "orientation": "v",
         "showlegend": true,
         "type": "scatter",
         "x": {
          "bdata": "zczMzFyx4kA=",
          "dtype": "f8"
         },
         "xaxis": "x",
         "y": {
          "bdata": "UrgehevROEA=",
          "dtype": "f8"
         },
         "yaxis": "y"
        },
        {
         "hovertemplate": "Label=01826-00002 | Mobile<br>Performance Group=Average<br>Weekly Revenue=%{x}<br>Average Order Value=%{y}<extra></extra>",
         "legendgroup": "01826-00002 | Mobile",
         "marker": {
          "color": "#EF553B",
          "opacity": 0.7,
          "size": 10,
          "symbol": "circle"
         },
         "mode": "markers",
         "name": "01826-00002 | Mobile",
         "orientation": "v",
         "showlegend": true,
         "type": "scatter",
         "x": {
          "bdata": "w/UoXMfj9EA=",
          "dtype": "f8"
         },
         "xaxis": "x",
         "y": {
          "bdata": "hetRuB7FNUA=",
          "dtype": "f8"
         },
         "yaxis": "y"
        },
        {
         "hovertemplate": "Label=01826-00002 | DoorDash<br>Performance Group=Average<br>Weekly Revenue=%{x}<br>Average Order Value=%{y}<extra></extra>",
         "legendgroup": "01826-00002 | DoorDash",
         "marker": {
          "color": "#00cc96",
          "opacity": 0.7,
          "size": 10,
          "symbol": "circle"
         },
         "mode": "markers",
         "name": "01826-00002 | DoorDash",
         "orientation": "v",
         "showlegend": true,
         "type": "scatter",
         "x": {
          "bdata": "w/UoXB/G4EA=",
          "dtype": "f8"
         },
         "xaxis": "x",
         "y": {
          "bdata": "zczMzMwMNUA=",
          "dtype": "f8"
         },
         "yaxis": "y"
        },
        {
         "hovertemplate": "Label=01826-00002 | UberEats<br>Performance Group=Average<br>Weekly Revenue=%{x}<br>Average Order Value=%{y}<extra></extra>",
         "legendgroup": "01826-00002 | UberEats",
         "marker": {
          "color": "#ab63fa",
          "opacity": 0.7,
          "size": 10,
          "symbol": "circle"
         },
         "mode": "markers",
         "name": "01826-00002 | UberEats",
         "orientation": "v",
         "showlegend": true,
         "type": "scatter",
         "x": {
          "bdata": "SOF6FC7Ko0A=",
          "dtype": "f8"
         },
         "xaxis": "x",
         "y": {
          "bdata": "H4XrUbjeNEA=",
          "dtype": "f8"
         },
         "yaxis": "y"
        },
        {
         "hovertemplate": "Label=01826-00003 | Website<br>Performance Group=Average<br>Weekly Revenue=%{x}<br>Average Order Value=%{y}<extra></extra>",
         "legendgroup": "01826-00003 | Website",
         "marker": {
          "color": "#FFA15A",
          "opacity": 0.7,
          "size": 10,
          "symbol": "circle"
         },
         "mode": "markers",
         "name": "01826-00003 | Website",
         "orientation": "v",
         "showlegend": true,
         "type": "scatter",
         "x": {
          "bdata": "CtejcO1S00A=",
          "dtype": "f8"
         },
         "xaxis": "x",
         "y": {
          "bdata": "hetRuB6FOUA=",
          "dtype": "f8"
         },
         "yaxis": "y"
        },
        {
         "hovertemplate": "Label=01826-00003 | UberEats<br>Performance Group=Average<br>Weekly Revenue=%{x}<br>Average Order Value=%{y}<extra></extra>",
         "legendgroup": "01826-00003 | UberEats",
         "marker": {
          "color": "#19d3f3",
          "opacity": 0.7,
          "size": 10,
          "symbol": "circle"
         },
         "mode": "markers",
         "name": "01826-00003 | UberEats",
         "orientation": "v",
         "showlegend": true,
         "type": "scatter",
         "x": {
          "bdata": "16NwPQpzd0A=",
          "dtype": "f8"
         },
         "xaxis": "x",
         "y": {
          "bdata": "XI/C9ShcNkA=",
          "dtype": "f8"
         },
         "yaxis": "y"
        },
        {
         "hovertemplate": "Label=01826-00003 | Mobile<br>Performance Group=Average<br>Weekly Revenue=%{x}<br>Average Order Value=%{y}<extra></extra>",
         "legendgroup": "01826-00003 | Mobile",
         "marker": {
          "color": "#FF6692",
          "opacity": 0.7,
          "size": 10,
          "symbol": "circle"
         },
         "mode": "markers",
         "name": "01826-00003 | Mobile",
         "orientation": "v",
         "showlegend": true,
         "type": "scatter",
         "x": {
          "bdata": "9ihcj+qM50A=",
          "dtype": "f8"
         },
         "xaxis": "x",
         "y": {
          "bdata": "AAAAAAAANUA=",
          "dtype": "f8"
         },
         "yaxis": "y"
        },
        {
         "hovertemplate": "Label=01826-00003 | DoorDash<br>Performance Group=Average<br>Weekly Revenue=%{x}<br>Average Order Value=%{y}<extra></extra>",
         "legendgroup": "01826-00003 | DoorDash",
         "marker": {
          "color": "#B6E880",
          "opacity": 0.7,
          "size": 10,
          "symbol": "circle"
         },
         "mode": "markers",
         "name": "01826-00003 | DoorDash",
         "orientation": "v",
         "showlegend": true,
         "type": "scatter",
         "x": {
          "bdata": "XI/C9ciOyUA=",
          "dtype": "f8"
         },
         "xaxis": "x",
         "y": {
          "bdata": "rkfhehRuM0A=",
          "dtype": "f8"
         },
         "yaxis": "y"
        },
        {
         "hovertemplate": "Label=01893-00001 | UberEats<br>Performance Group=Average<br>Weekly Revenue=%{x}<br>Average Order Value=%{y}<extra></extra>",
         "legendgroup": "01893-00001 | UberEats",
         "marker": {
          "color": "#FF97FF",
          "opacity": 0.7,
          "size": 10,
          "symbol": "circle"
         },
         "mode": "markers",
         "name": "01893-00001 | UberEats",
         "orientation": "v",
         "showlegend": true,
         "type": "scatter",
         "x": {
          "bdata": "PQrXo/BVpEA=",
          "dtype": "f8"
         },
         "xaxis": "x",
         "y": {
          "bdata": "uB6F61H4N0A=",
          "dtype": "f8"
         },
         "yaxis": "y"
        },
        {
         "hovertemplate": "Label=01893-00001 | Website<br>Performance Group=Average<br>Weekly Revenue=%{x}<br>Average Order Value=%{y}<extra></extra>",
         "legendgroup": "01893-00001 | Website",
         "marker": {
          "color": "#FECB52",
          "opacity": 0.7,
          "size": 10,
          "symbol": "circle"
         },
         "mode": "markers",
         "name": "01893-00001 | Website",
         "orientation": "v",
         "showlegend": true,
         "type": "scatter",
         "x": {
          "bdata": "9ihcj5IP4EA=",
          "dtype": "f8"
         },
         "xaxis": "x",
         "y": {
          "bdata": "mpmZmZlZNkA=",
          "dtype": "f8"
         },
         "yaxis": "y"
        },
        {
         "hovertemplate": "Label=01893-00001 | DoorDash<br>Performance Group=Average<br>Weekly Revenue=%{x}<br>Average Order Value=%{y}<extra></extra>",
         "legendgroup": "01893-00001 | DoorDash",
         "marker": {
          "color": "#636efa",
          "opacity": 0.7,
          "size": 10,
          "symbol": "circle"
         },
         "mode": "markers",
         "name": "01893-00001 | DoorDash",
         "orientation": "v",
         "showlegend": true,
         "type": "scatter",
         "x": {
          "bdata": "uB6F63Fn0UA=",
          "dtype": "f8"
         },
         "xaxis": "x",
         "y": {
          "bdata": "j8L1KFyPNEA=",
          "dtype": "f8"
         },
         "yaxis": "y"
        },
        {
         "hovertemplate": "Label=01893-00001 | Mobile<br>Performance Group=Average<br>Weekly Revenue=%{x}<br>Average Order Value=%{y}<extra></extra>",
         "legendgroup": "01893-00001 | Mobile",
         "marker": {
          "color": "#EF553B",
          "opacity": 0.7,
          "size": 10,
          "symbol": "circle"
         },
         "mode": "markers",
         "name": "01893-00001 | Mobile",
         "orientation": "v",
         "showlegend": true,
         "type": "scatter",
         "x": {
          "bdata": "hetRuGZL9EA=",
          "dtype": "f8"
         },
         "xaxis": "x",
         "y": {
          "bdata": "CtejcD1KNEA=",
          "dtype": "f8"
         },
         "yaxis": "y"
        },
        {
         "hovertemplate": "Label=01893-00002 | Grubhub<br>Performance Group=Average<br>Weekly Revenue=%{x}<br>Average Order Value=%{y}<extra></extra>",
         "legendgroup": "01893-00002 | Grubhub",
         "marker": {
          "color": "#00cc96",
          "opacity": 0.7,
          "size": 10,
          "symbol": "circle"
         },
         "mode": "markers",
         "name": "01893-00002 | Grubhub",
         "orientation": "v",
         "showlegend": true,
         "type": "scatter",
         "x": {
          "bdata": "j8L1KFzLgUA=",
          "dtype": "f8"
         },
         "xaxis": "x",
         "y": {
          "bdata": "j8L1KFyPN0A=",
          "dtype": "f8"
         },
         "yaxis": "y"
        },
        {
         "hovertemplate": "Label=01893-00002 | UberEats<br>Performance Group=Average<br>Weekly Revenue=%{x}<br>Average Order Value=%{y}<extra></extra>",
         "legendgroup": "01893-00002 | UberEats",
         "marker": {
          "color": "#ab63fa",
          "opacity": 0.7,
          "size": 10,
          "symbol": "circle"
         },
         "mode": "markers",
         "name": "01893-00002 | UberEats",
         "orientation": "v",
         "showlegend": true,
         "type": "scatter",
         "x": {
          "bdata": "MzMzM3PQs0A=",
          "dtype": "f8"
         },
         "xaxis": "x",
         "y": {
          "bdata": "9ihcj8K1NEA=",
          "dtype": "f8"
         },
         "yaxis": "y"
        },
        {
         "hovertemplate": "Label=01893-00002 | Website<br>Performance Group=Average<br>Weekly Revenue=%{x}<br>Average Order Value=%{y}<extra></extra>",
         "legendgroup": "01893-00002 | Website",
         "marker": {
          "color": "#FFA15A",
          "opacity": 0.7,
          "size": 10,
          "symbol": "circle"
         },
         "mode": "markers",
         "name": "01893-00002 | Website",
         "orientation": "v",
         "showlegend": true,
         "type": "scatter",
         "x": {
          "bdata": "4XoUrg/B4UA=",
          "dtype": "f8"
         },
         "xaxis": "x",
         "y": {
          "bdata": "cT0K16NwNEA=",
          "dtype": "f8"
         },
         "yaxis": "y"
        },
        {
         "hovertemplate": "Label=01893-00002 | DoorDash<br>Performance Group=Average<br>Weekly Revenue=%{x}<br>Average Order Value=%{y}<extra></extra>",
         "legendgroup": "01893-00002 | DoorDash",
         "marker": {
          "color": "#19d3f3",
          "opacity": 0.7,
          "size": 10,
          "symbol": "circle"
         },
         "mode": "markers",
         "name": "01893-00002 | DoorDash",
         "orientation": "v",
         "showlegend": true,
         "type": "scatter",
         "x": {
          "bdata": "rkfherSozkA=",
          "dtype": "f8"
         },
         "xaxis": "x",
         "y": {
          "bdata": "7FG4HoXrMkA=",
          "dtype": "f8"
         },
         "yaxis": "y"
        },
        {
         "hovertemplate": "Label=01893-00002 | Mobile<br>Performance Group=Average<br>Weekly Revenue=%{x}<br>Average Order Value=%{y}<extra></extra>",
         "legendgroup": "01893-00002 | Mobile",
         "marker": {
          "color": "#FF6692",
          "opacity": 0.7,
          "size": 10,
          "symbol": "circle"
         },
         "mode": "markers",
         "name": "01893-00002 | Mobile",
         "orientation": "v",
         "showlegend": true,
         "type": "scatter",
         "x": {
          "bdata": "w/UoXIur8EA=",
          "dtype": "f8"
         },
         "xaxis": "x",
         "y": {
          "bdata": "XI/C9ShcMkA=",
          "dtype": "f8"
         },
         "yaxis": "y"
        },
        {
         "hovertemplate": "Label=01940-00001 | UberEats<br>Performance Group=Average<br>Weekly Revenue=%{x}<br>Average Order Value=%{y}<extra></extra>",
         "legendgroup": "01940-00001 | UberEats",
         "marker": {
          "color": "#B6E880",
          "opacity": 0.7,
          "size": 10,
          "symbol": "circle"
         },
         "mode": "markers",
         "name": "01940-00001 | UberEats",
         "orientation": "v",
         "showlegend": true,
         "type": "scatter",
         "x": {
          "bdata": "UrgehbuF1UA=",
          "dtype": "f8"
         },
         "xaxis": "x",
         "y": {
          "bdata": "mpmZmZnZNUA=",
          "dtype": "f8"
         },
         "yaxis": "y"
        },
        {
         "hovertemplate": "Label=01940-00001 | Mobile<br>Performance Group=Average<br>Weekly Revenue=%{x}<br>Average Order Value=%{y}<extra></extra>",
         "legendgroup": "01940-00001 | Mobile",
         "marker": {
          "color": "#FF97FF",
          "opacity": 0.7,
          "size": 10,
          "symbol": "circle"
         },
         "mode": "markers",
         "name": "01940-00001 | Mobile",
         "orientation": "v",
         "showlegend": true,
         "type": "scatter",
         "x": {
          "bdata": "SOF6FB6x6UA=",
          "dtype": "f8"
         },
         "xaxis": "x",
         "y": {
          "bdata": "AAAAAADANEA=",
          "dtype": "f8"
         },
         "yaxis": "y"
        },
        {
         "hovertemplate": "Label=01940-00001 | DoorDash<br>Performance Group=Average<br>Weekly Revenue=%{x}<br>Average Order Value=%{y}<extra></extra>",
         "legendgroup": "01940-00001 | DoorDash",
         "marker": {
          "color": "#FECB52",
          "opacity": 0.7,
          "size": 10,
          "symbol": "circle"
         },
         "mode": "markers",
         "name": "01940-00001 | DoorDash",
         "orientation": "v",
         "showlegend": true,
         "type": "scatter",
         "x": {
          "bdata": "7FG4HtXJ4UA=",
          "dtype": "f8"
         },
         "xaxis": "x",
         "y": {
          "bdata": "MzMzMzNzNEA=",
          "dtype": "f8"
         },
         "yaxis": "y"
        },
        {
         "hovertemplate": "Label=01940-00001 | Website<br>Performance Group=Average<br>Weekly Revenue=%{x}<br>Average Order Value=%{y}<extra></extra>",
         "legendgroup": "01940-00001 | Website",
         "marker": {
          "color": "#636efa",
          "opacity": 0.7,
          "size": 10,
          "symbol": "circle"
         },
         "mode": "markers",
         "name": "01940-00001 | Website",
         "orientation": "v",
         "showlegend": true,
         "type": "scatter",
         "x": {
          "bdata": "exSuR4Hj30A=",
          "dtype": "f8"
         },
         "xaxis": "x",
         "y": {
          "bdata": "XI/C9ShcNEA=",
          "dtype": "f8"
         },
         "yaxis": "y"
        },
        {
         "hovertemplate": "Label=01940-00001 | Grubhub<br>Performance Group=Average<br>Weekly Revenue=%{x}<br>Average Order Value=%{y}<extra></extra>",
         "legendgroup": "01940-00001 | Grubhub",
         "marker": {
          "color": "#EF553B",
          "opacity": 0.7,
          "size": 10,
          "symbol": "circle"
         },
         "mode": "markers",
         "name": "01940-00001 | Grubhub",
         "orientation": "v",
         "showlegend": true,
         "type": "scatter",
         "x": {
          "bdata": "j8L1KFxwoUA=",
          "dtype": "f8"
         },
         "xaxis": "x",
         "y": {
          "bdata": "9ihcj8K1M0A=",
          "dtype": "f8"
         },
         "yaxis": "y"
        },
        {
         "hovertemplate": "Label=01940-00007 | UberEats<br>Performance Group=Average<br>Weekly Revenue=%{x}<br>Average Order Value=%{y}<extra></extra>",
         "legendgroup": "01940-00007 | UberEats",
         "marker": {
          "color": "#00cc96",
          "opacity": 0.7,
          "size": 10,
          "symbol": "circle"
         },
         "mode": "markers",
         "name": "01940-00007 | UberEats",
         "orientation": "v",
         "showlegend": true,
         "type": "scatter",
         "x": {
          "bdata": "9ihcj6IF30A=",
          "dtype": "f8"
         },
         "xaxis": "x",
         "y": {
          "bdata": "MzMzMzOzN0A=",
          "dtype": "f8"
         },
         "yaxis": "y"
        },
        {
         "hovertemplate": "Label=01940-00007 | Website<br>Performance Group=Average<br>Weekly Revenue=%{x}<br>Average Order Value=%{y}<extra></extra>",
         "legendgroup": "01940-00007 | Website",
         "marker": {
          "color": "#ab63fa",
          "opacity": 0.7,
          "size": 10,
          "symbol": "circle"
         },
         "mode": "markers",
         "name": "01940-00007 | Website",
         "orientation": "v",
         "showlegend": true,
         "type": "scatter",
         "x": {
          "bdata": "exSuR0Gx2kA=",
          "dtype": "f8"
         },
         "xaxis": "x",
         "y": {
          "bdata": "AAAAAABAN0A=",
          "dtype": "f8"
         },
         "yaxis": "y"
        },
        {
         "hovertemplate": "Label=01940-00007 | Mobile<br>Performance Group=Average<br>Weekly Revenue=%{x}<br>Average Order Value=%{y}<extra></extra>",
         "legendgroup": "01940-00007 | Mobile",
         "marker": {
          "color": "#FFA15A",
          "opacity": 0.7,
          "size": 10,
          "symbol": "circle"
         },
         "mode": "markers",
         "name": "01940-00007 | Mobile",
         "orientation": "v",
         "showlegend": true,
         "type": "scatter",
         "x": {
          "bdata": "4XoUrjcx7UA=",
          "dtype": "f8"
         },
         "xaxis": "x",
         "y": {
          "bdata": "hetRuB5FNkA=",
          "dtype": "f8"
         },
         "yaxis": "y"
        },
        {
         "hovertemplate": "Label=01940-00007 | Grubhub<br>Performance Group=Average<br>Weekly Revenue=%{x}<br>Average Order Value=%{y}<extra></extra>",
         "legendgroup": "01940-00007 | Grubhub",
         "marker": {
          "color": "#19d3f3",
          "opacity": 0.7,
          "size": 10,
          "symbol": "circle"
         },
         "mode": "markers",
         "name": "01940-00007 | Grubhub",
         "orientation": "v",
         "showlegend": true,
         "type": "scatter",
         "x": {
          "bdata": "uB6F69H0pUA=",
          "dtype": "f8"
         },
         "xaxis": "x",
         "y": {
          "bdata": "mpmZmZkZNkA=",
          "dtype": "f8"
         },
         "yaxis": "y"
        },
        {
         "hovertemplate": "Label=01940-00007 | DoorDash<br>Performance Group=Average<br>Weekly Revenue=%{x}<br>Average Order Value=%{y}<extra></extra>",
         "legendgroup": "01940-00007 | DoorDash",
         "marker": {
          "color": "#FF6692",
          "opacity": 0.7,
          "size": 10,
          "symbol": "circle"
         },
         "mode": "markers",
         "name": "01940-00007 | DoorDash",
         "orientation": "v",
         "showlegend": true,
         "type": "scatter",
         "x": {
          "bdata": "cT0K11Nv5kA=",
          "dtype": "f8"
         },
         "xaxis": "x",
         "y": {
          "bdata": "cT0K16PwNEA=",
          "dtype": "f8"
         },
         "yaxis": "y"
        },
        {
         "hovertemplate": "Label=01940-00009 | UberEats<br>Performance Group=Average<br>Weekly Revenue=%{x}<br>Average Order Value=%{y}<extra></extra>",
         "legendgroup": "01940-00009 | UberEats",
         "marker": {
          "color": "#B6E880",
          "opacity": 0.7,
          "size": 10,
          "symbol": "circle"
         },
         "mode": "markers",
         "name": "01940-00009 | UberEats",
         "orientation": "v",
         "showlegend": true,
         "type": "scatter",
         "x": {
          "bdata": "mpmZmYmv0UA=",
          "dtype": "f8"
         },
         "xaxis": "x",
         "y": {
          "bdata": "AAAAAAAANkA=",
          "dtype": "f8"
         },
         "yaxis": "y"
        },
        {
         "hovertemplate": "Label=01940-00009 | DoorDash<br>Performance Group=Average<br>Weekly Revenue=%{x}<br>Average Order Value=%{y}<extra></extra>",
         "legendgroup": "01940-00009 | DoorDash",
         "marker": {
          "color": "#FF97FF",
          "opacity": 0.7,
          "size": 10,
          "symbol": "circle"
         },
         "mode": "markers",
         "name": "01940-00009 | DoorDash",
         "orientation": "v",
         "showlegend": true,
         "type": "scatter",
         "x": {
          "bdata": "zczMzOzI10A=",
          "dtype": "f8"
         },
         "xaxis": "x",
         "y": {
          "bdata": "UrgehetRNEA=",
          "dtype": "f8"
         },
         "yaxis": "y"
        },
        {
         "hovertemplate": "Label=01940-00009 | Grubhub<br>Performance Group=Average<br>Weekly Revenue=%{x}<br>Average Order Value=%{y}<extra></extra>",
         "legendgroup": "01940-00009 | Grubhub",
         "marker": {
          "color": "#FECB52",
          "opacity": 0.7,
          "size": 10,
          "symbol": "circle"
         },
         "mode": "markers",
         "name": "01940-00009 | Grubhub",
         "orientation": "v",
         "showlegend": true,
         "type": "scatter",
         "x": {
          "bdata": "rkfhehSSmUA=",
          "dtype": "f8"
         },
         "xaxis": "x",
         "y": {
          "bdata": "16NwPQrXM0A=",
          "dtype": "f8"
         },
         "yaxis": "y"
        },
        {
         "hovertemplate": "Label=01940-00009 | Website<br>Performance Group=Average<br>Weekly Revenue=%{x}<br>Average Order Value=%{y}<extra></extra>",
         "legendgroup": "01940-00009 | Website",
         "marker": {
          "color": "#636efa",
          "opacity": 0.7,
          "size": 10,
          "symbol": "circle"
         },
         "mode": "markers",
         "name": "01940-00009 | Website",
         "orientation": "v",
         "showlegend": true,
         "type": "scatter",
         "x": {
          "bdata": "9ihcjzLl3kA=",
          "dtype": "f8"
         },
         "xaxis": "x",
         "y": {
          "bdata": "w/UoXI9CM0A=",
          "dtype": "f8"
         },
         "yaxis": "y"
        },
        {
         "hovertemplate": "Label=01940-00009 | Mobile<br>Performance Group=Average<br>Weekly Revenue=%{x}<br>Average Order Value=%{y}<extra></extra>",
         "legendgroup": "01940-00009 | Mobile",
         "marker": {
          "color": "#EF553B",
          "opacity": 0.7,
          "size": 10,
          "symbol": "circle"
         },
         "mode": "markers",
         "name": "01940-00009 | Mobile",
         "orientation": "v",
         "showlegend": true,
         "type": "scatter",
         "x": {
          "bdata": "j8L1KNSb5UA=",
          "dtype": "f8"
         },
         "xaxis": "x",
         "y": {
          "bdata": "PQrXo3D9MUA=",
          "dtype": "f8"
         },
         "yaxis": "y"
        },
        {
         "hovertemplate": "Label=01940-00010 | UberEats<br>Performance Group=Average<br>Weekly Revenue=%{x}<br>Average Order Value=%{y}<extra></extra>",
         "legendgroup": "01940-00010 | UberEats",
         "marker": {
          "color": "#00cc96",
          "opacity": 0.7,
          "size": 10,
          "symbol": "circle"
         },
         "mode": "markers",
         "name": "01940-00010 | UberEats",
         "orientation": "v",
         "showlegend": true,
         "type": "scatter",
         "x": {
          "bdata": "cT0K19NL3UA=",
          "dtype": "f8"
         },
         "xaxis": "x",
         "y": {
          "bdata": "SOF6FK4HN0A=",
          "dtype": "f8"
         },
         "yaxis": "y"
        },
        {
         "hovertemplate": "Label=01940-00010 | Website<br>Performance Group=Average<br>Weekly Revenue=%{x}<br>Average Order Value=%{y}<extra></extra>",
         "legendgroup": "01940-00010 | Website",
         "marker": {
          "color": "#ab63fa",
          "opacity": 0.7,
          "size": 10,
          "symbol": "circle"
         },
         "mode": "markers",
         "name": "01940-00010 | Website",
         "orientation": "v",
         "showlegend": true,
         "type": "scatter",
         "x": {
          "bdata": "AAAAADhC40A=",
          "dtype": "f8"
         },
         "xaxis": "x",
         "y": {
          "bdata": "MzMzMzOzNkA=",
          "dtype": "f8"
         },
         "yaxis": "y"
        },
        {
         "hovertemplate": "Label=01940-00010 | Mobile<br>Performance Group=Average<br>Weekly Revenue=%{x}<br>Average Order Value=%{y}<extra></extra>",
         "legendgroup": "01940-00010 | Mobile",
         "marker": {
          "color": "#FFA15A",
          "opacity": 0.7,
          "size": 10,
          "symbol": "circle"
         },
         "mode": "markers",
         "name": "01940-00010 | Mobile",
         "orientation": "v",
         "showlegend": true,
         "type": "scatter",
         "x": {
          "bdata": "4XoUrmcf8EA=",
          "dtype": "f8"
         },
         "xaxis": "x",
         "y": {
          "bdata": "pHA9CtcjNUA=",
          "dtype": "f8"
         },
         "yaxis": "y"
        },
        {
         "hovertemplate": "Label=01940-00010 | DoorDash<br>Performance Group=Average<br>Weekly Revenue=%{x}<br>Average Order Value=%{y}<extra></extra>",
         "legendgroup": "01940-00010 | DoorDash",
         "marker": {
          "color": "#19d3f3",
          "opacity": 0.7,
          "size": 10,
          "symbol": "circle"
         },
         "mode": "markers",
         "name": "01940-00010 | DoorDash",
         "orientation": "v",
         "showlegend": true,
         "type": "scatter",
         "x": {
          "bdata": "XI/C9dg56EA=",
          "dtype": "f8"
         },
         "xaxis": "x",
         "y": {
          "bdata": "cT0K16PwM0A=",
          "dtype": "f8"
         },
         "yaxis": "y"
        },
        {
         "hovertemplate": "Label=01940-00010 | Grubhub<br>Performance Group=Average<br>Weekly Revenue=%{x}<br>Average Order Value=%{y}<extra></extra>",
         "legendgroup": "01940-00010 | Grubhub",
         "marker": {
          "color": "#FF6692",
          "opacity": 0.7,
          "size": 10,
          "symbol": "circle"
         },
         "mode": "markers",
         "name": "01940-00010 | Grubhub",
         "orientation": "v",
         "showlegend": true,
         "type": "scatter",
         "x": {
          "bdata": "UrgehetkqkA=",
          "dtype": "f8"
         },
         "xaxis": "x",
         "y": {
          "bdata": "7FG4HoWrMUA=",
          "dtype": "f8"
         },
         "yaxis": "y"
        },
        {
         "hovertemplate": "Label=01940-00011 | Website<br>Performance Group=Average<br>Weekly Revenue=%{x}<br>Average Order Value=%{y}<extra></extra>",
         "legendgroup": "01940-00011 | Website",
         "marker": {
          "color": "#B6E880",
          "opacity": 0.7,
          "size": 10,
          "symbol": "circle"
         },
         "mode": "markers",
         "name": "01940-00011 | Website",
         "orientation": "v",
         "showlegend": true,
         "type": "scatter",
         "x": {
          "bdata": "mpmZmYmy2EA=",
          "dtype": "f8"
         },
         "xaxis": "x",
         "y": {
          "bdata": "hetRuB5FN0A=",
          "dtype": "f8"
         },
         "yaxis": "y"
        },
        {
         "hovertemplate": "Label=01940-00011 | Mobile<br>Performance Group=Top Performer<br>Weekly Revenue=%{x}<br>Average Order Value=%{y}<extra></extra>",
         "legendgroup": "01940-00011 | Mobile",
         "marker": {
          "color": "#FF97FF",
          "opacity": 0.7,
          "size": 10,
          "symbol": "circle"
         },
         "mode": "markers",
         "name": "01940-00011 | Mobile",
         "orientation": "v",
         "showlegend": true,
         "type": "scatter",
         "x": {
          "bdata": "PQrXowhD7EA=",
          "dtype": "f8"
         },
         "xaxis": "x3",
         "y": {
          "bdata": "CtejcD3KNkA=",
          "dtype": "f8"
         },
         "yaxis": "y3"
        },
        {
         "hovertemplate": "Label=01940-00011 | UberEats<br>Performance Group=Average<br>Weekly Revenue=%{x}<br>Average Order Value=%{y}<extra></extra>",
         "legendgroup": "01940-00011 | UberEats",
         "marker": {
          "color": "#FECB52",
          "opacity": 0.7,
          "size": 10,
          "symbol": "circle"
         },
         "mode": "markers",
         "name": "01940-00011 | UberEats",
         "orientation": "v",
         "showlegend": true,
         "type": "scatter",
         "x": {
          "bdata": "XI/C9Th83EA=",
          "dtype": "f8"
         },
         "xaxis": "x",
         "y": {
          "bdata": "j8L1KFyPNkA=",
          "dtype": "f8"
         },
         "yaxis": "y"
        },
        {
         "hovertemplate": "Label=01940-00011 | DoorDash<br>Performance Group=Average<br>Weekly Revenue=%{x}<br>Average Order Value=%{y}<extra></extra>",
         "legendgroup": "01940-00011 | DoorDash",
         "marker": {
          "color": "#636efa",
          "opacity": 0.7,
          "size": 10,
          "symbol": "circle"
         },
         "mode": "markers",
         "name": "01940-00011 | DoorDash",
         "orientation": "v",
         "showlegend": true,
         "type": "scatter",
         "x": {
          "bdata": "XI/C9RhT5UA=",
          "dtype": "f8"
         },
         "xaxis": "x",
         "y": {
          "bdata": "zczMzMzMNEA=",
          "dtype": "f8"
         },
         "yaxis": "y"
        },
        {
         "hovertemplate": "Label=01940-00011 | Grubhub<br>Performance Group=Average<br>Weekly Revenue=%{x}<br>Average Order Value=%{y}<extra></extra>",
         "legendgroup": "01940-00011 | Grubhub",
         "marker": {
          "color": "#EF553B",
          "opacity": 0.7,
          "size": 10,
          "symbol": "circle"
         },
         "mode": "markers",
         "name": "01940-00011 | Grubhub",
         "orientation": "v",
         "showlegend": true,
         "type": "scatter",
         "x": {
          "bdata": "pHA9CteWqkA=",
          "dtype": "f8"
         },
         "xaxis": "x",
         "y": {
          "bdata": "pHA9CtdjNEA=",
          "dtype": "f8"
         },
         "yaxis": "y"
        },
        {
         "hovertemplate": "Label=01940-00014 | UberEats<br>Performance Group=Average<br>Weekly Revenue=%{x}<br>Average Order Value=%{y}<extra></extra>",
         "legendgroup": "01940-00014 | UberEats",
         "marker": {
          "color": "#00cc96",
          "opacity": 0.7,
          "size": 10,
          "symbol": "circle"
         },
         "mode": "markers",
         "name": "01940-00014 | UberEats",
         "orientation": "v",
         "showlegend": true,
         "type": "scatter",
         "x": {
          "bdata": "mpmZmSlk20A=",
          "dtype": "f8"
         },
         "xaxis": "x",
         "y": {
          "bdata": "4XoUrkchN0A=",
          "dtype": "f8"
         },
         "yaxis": "y"
        },
        {
         "hovertemplate": "Label=01940-00014 | DoorDash<br>Performance Group=Average<br>Weekly Revenue=%{x}<br>Average Order Value=%{y}<extra></extra>",
         "legendgroup": "01940-00014 | DoorDash",
         "marker": {
          "color": "#ab63fa",
          "opacity": 0.7,
          "size": 10,
          "symbol": "circle"
         },
         "mode": "markers",
         "name": "01940-00014 | DoorDash",
         "orientation": "v",
         "showlegend": true,
         "type": "scatter",
         "x": {
          "bdata": "j8L1KFx95kA=",
          "dtype": "f8"
         },
         "xaxis": "x",
         "y": {
          "bdata": "rkfhehTuNEA=",
          "dtype": "f8"
         },
         "yaxis": "y"
        },
        {
         "hovertemplate": "Label=01940-00014 | Website<br>Performance Group=Average<br>Weekly Revenue=%{x}<br>Average Order Value=%{y}<extra></extra>",
         "legendgroup": "01940-00014 | Website",
         "marker": {
          "color": "#FFA15A",
          "opacity": 0.7,
          "size": 10,
          "symbol": "circle"
         },
         "mode": "markers",
         "name": "01940-00014 | Website",
         "orientation": "v",
         "showlegend": true,
         "type": "scatter",
         "x": {
          "bdata": "exSuR9n35EA=",
          "dtype": "f8"
         },
         "xaxis": "x",
         "y": {
          "bdata": "9ihcj8K1NEA=",
          "dtype": "f8"
         },
         "yaxis": "y"
        },
        {
         "hovertemplate": "Label=01940-00014 | Mobile<br>Performance Group=Average<br>Weekly Revenue=%{x}<br>Average Order Value=%{y}<extra></extra>",
         "legendgroup": "01940-00014 | Mobile",
         "marker": {
          "color": "#19d3f3",
          "opacity": 0.7,
          "size": 10,
          "symbol": "circle"
         },
         "mode": "markers",
         "name": "01940-00014 | Mobile",
         "orientation": "v",
         "showlegend": true,
         "type": "scatter",
         "x": {
          "bdata": "exSuR13s8UA=",
          "dtype": "f8"
         },
         "xaxis": "x",
         "y": {
          "bdata": "hetRuB4FNEA=",
          "dtype": "f8"
         },
         "yaxis": "y"
        },
        {
         "hovertemplate": "Label=01940-00014 | Grubhub<br>Performance Group=Average<br>Weekly Revenue=%{x}<br>Average Order Value=%{y}<extra></extra>",
         "legendgroup": "01940-00014 | Grubhub",
         "marker": {
          "color": "#FF6692",
          "opacity": 0.7,
          "size": 10,
          "symbol": "circle"
         },
         "mode": "markers",
         "name": "01940-00014 | Grubhub",
         "orientation": "v",
         "showlegend": true,
         "type": "scatter",
         "x": {
          "bdata": "4XoUrsf1rEA=",
          "dtype": "f8"
         },
         "xaxis": "x",
         "y": {
          "bdata": "mpmZmZnZM0A=",
          "dtype": "f8"
         },
         "yaxis": "y"
        },
        {
         "hovertemplate": "Label=01940-00021 | UberEats<br>Performance Group=Average<br>Weekly Revenue=%{x}<br>Average Order Value=%{y}<extra></extra>",
         "legendgroup": "01940-00021 | UberEats",
         "marker": {
          "color": "#B6E880",
          "opacity": 0.7,
          "size": 10,
          "symbol": "circle"
         },
         "mode": "markers",
         "name": "01940-00021 | UberEats",
         "orientation": "v",
         "showlegend": true,
         "type": "scatter",
         "x": {
          "bdata": "4XoUrmdn1kA=",
          "dtype": "f8"
         },
         "xaxis": "x",
         "y": {
          "bdata": "cT0K16PwNUA=",
          "dtype": "f8"
         },
         "yaxis": "y"
        },
        {
         "hovertemplate": "Label=01940-00021 | DoorDash<br>Performance Group=Average<br>Weekly Revenue=%{x}<br>Average Order Value=%{y}<extra></extra>",
         "legendgroup": "01940-00021 | DoorDash",
         "marker": {
          "color": "#FF97FF",
          "opacity": 0.7,
          "size": 10,
          "symbol": "circle"
         },
         "mode": "markers",
         "name": "01940-00021 | DoorDash",
         "orientation": "v",
         "showlegend": true,
         "type": "scatter",
         "x": {
          "bdata": "mpmZmcks3kA=",
          "dtype": "f8"
         },
         "xaxis": "x",
         "y": {
          "bdata": "FK5H4XrUM0A=",
          "dtype": "f8"
         },
         "yaxis": "y"
        },
        {
         "hovertemplate": "Label=01940-00021 | Website<br>Performance Group=Average<br>Weekly Revenue=%{x}<br>Average Order Value=%{y}<extra></extra>",
         "legendgroup": "01940-00021 | Website",
         "marker": {
          "color": "#FECB52",
          "opacity": 0.7,
          "size": 10,
          "symbol": "circle"
         },
         "mode": "markers",
         "name": "01940-00021 | Website",
         "orientation": "v",
         "showlegend": true,
         "type": "scatter",
         "x": {
          "bdata": "uB6F61GO3UA=",
          "dtype": "f8"
         },
         "xaxis": "x",
         "y": {
          "bdata": "cT0K16PwMkA=",
          "dtype": "f8"
         },
         "yaxis": "y"
        },
        {
         "hovertemplate": "Label=01940-00021 | Mobile<br>Performance Group=Average<br>Weekly Revenue=%{x}<br>Average Order Value=%{y}<extra></extra>",
         "legendgroup": "01940-00021 | Mobile",
         "marker": {
          "color": "#636efa",
          "opacity": 0.7,
          "size": 10,
          "symbol": "circle"
         },
         "mode": "markers",
         "name": "01940-00021 | Mobile",
         "orientation": "v",
         "showlegend": true,
         "type": "scatter",
         "x": {
          "bdata": "CtejcEVc6kA=",
          "dtype": "f8"
         },
         "xaxis": "x",
         "y": {
          "bdata": "uB6F61G4MkA=",
          "dtype": "f8"
         },
         "yaxis": "y"
        },
        {
         "hovertemplate": "Label=01940-00021 | Grubhub<br>Performance Group=Average<br>Weekly Revenue=%{x}<br>Average Order Value=%{y}<extra></extra>",
         "legendgroup": "01940-00021 | Grubhub",
         "marker": {
          "color": "#EF553B",
          "opacity": 0.7,
          "size": 10,
          "symbol": "circle"
         },
         "mode": "markers",
         "name": "01940-00021 | Grubhub",
         "orientation": "v",
         "showlegend": true,
         "type": "scatter",
         "x": {
          "bdata": "ZmZmZmaEmEA=",
          "dtype": "f8"
         },
         "xaxis": "x",
         "y": {
          "bdata": "mpmZmZkZMUA=",
          "dtype": "f8"
         },
         "yaxis": "y"
        },
        {
         "hovertemplate": "Label=01944-00001 | Website<br>Performance Group=Average<br>Weekly Revenue=%{x}<br>Average Order Value=%{y}<extra></extra>",
         "legendgroup": "01944-00001 | Website",
         "marker": {
          "color": "#00cc96",
          "opacity": 0.7,
          "size": 10,
          "symbol": "circle"
         },
         "mode": "markers",
         "name": "01944-00001 | Website",
         "orientation": "v",
         "showlegend": true,
         "type": "scatter",
         "x": {
          "bdata": "CtejcD3/2EA=",
          "dtype": "f8"
         },
         "xaxis": "x",
         "y": {
          "bdata": "hetRuB6FNkA=",
          "dtype": "f8"
         },
         "yaxis": "y"
        },
        {
         "hovertemplate": "Label=01944-00001 | Mobile<br>Performance Group=Average<br>Weekly Revenue=%{x}<br>Average Order Value=%{y}<extra></extra>",
         "legendgroup": "01944-00001 | Mobile",
         "marker": {
          "color": "#ab63fa",
          "opacity": 0.7,
          "size": 10,
          "symbol": "circle"
         },
         "mode": "markers",
         "name": "01944-00001 | Mobile",
         "orientation": "v",
         "showlegend": true,
         "type": "scatter",
         "x": {
          "bdata": "7FG4Hs3h8UA=",
          "dtype": "f8"
         },
         "xaxis": "x",
         "y": {
          "bdata": "rkfhehRuNEA=",
          "dtype": "f8"
         },
         "yaxis": "y"
        },
        {
         "hovertemplate": "Label=01944-00001 | DoorDash<br>Performance Group=Average<br>Weekly Revenue=%{x}<br>Average Order Value=%{y}<extra></extra>",
         "legendgroup": "01944-00001 | DoorDash",
         "marker": {
          "color": "#FFA15A",
          "opacity": 0.7,
          "size": 10,
          "symbol": "circle"
         },
         "mode": "markers",
         "name": "01944-00001 | DoorDash",
         "orientation": "v",
         "showlegend": true,
         "type": "scatter",
         "x": {
          "bdata": "cT0K12Mw2kA=",
          "dtype": "f8"
         },
         "xaxis": "x",
         "y": {
          "bdata": "SOF6FK6HM0A=",
          "dtype": "f8"
         },
         "yaxis": "y"
        },
        {
         "hovertemplate": "Label=01944-00001 | UberEats<br>Performance Group=Underperformer<br>Weekly Revenue=%{x}<br>Average Order Value=%{y}<extra></extra>",
         "legendgroup": "01944-00001 | UberEats",
         "marker": {
          "color": "#19d3f3",
          "opacity": 0.7,
          "size": 10,
          "symbol": "circle"
         },
         "mode": "markers",
         "name": "01944-00001 | UberEats",
         "orientation": "v",
         "showlegend": true,
         "type": "scatter",
         "x": {
          "bdata": "cT0K16MWgEA=",
          "dtype": "f8"
         },
         "xaxis": "x2",
         "y": {
          "bdata": "ZmZmZmbmMUA=",
          "dtype": "f8"
         },
         "yaxis": "y2"
        },
        {
         "hovertemplate": "Label=01944-00003 | Website<br>Performance Group=Average<br>Weekly Revenue=%{x}<br>Average Order Value=%{y}<extra></extra>",
         "legendgroup": "01944-00003 | Website",
         "marker": {
          "color": "#FF6692",
          "opacity": 0.7,
          "size": 10,
          "symbol": "circle"
         },
         "mode": "markers",
         "name": "01944-00003 | Website",
         "orientation": "v",
         "showlegend": true,
         "type": "scatter",
         "x": {
          "bdata": "exSuR3HW2EA=",
          "dtype": "f8"
         },
         "xaxis": "x",
         "y": {
          "bdata": "pHA9CtcjOUA=",
          "dtype": "f8"
         },
         "yaxis": "y"
        },
        {
         "hovertemplate": "Label=01944-00003 | UberEats<br>Performance Group=Average<br>Weekly Revenue=%{x}<br>Average Order Value=%{y}<extra></extra>",
         "legendgroup": "01944-00003 | UberEats",
         "marker": {
          "color": "#B6E880",
          "opacity": 0.7,
          "size": 10,
          "symbol": "circle"
         },
         "mode": "markers",
         "name": "01944-00003 | UberEats",
         "orientation": "v",
         "showlegend": true,
         "type": "scatter",
         "x": {
          "bdata": "ZmZmZmayjEA=",
          "dtype": "f8"
         },
         "xaxis": "x",
         "y": {
          "bdata": "j8L1KFxPN0A=",
          "dtype": "f8"
         },
         "yaxis": "y"
        },
        {
         "hovertemplate": "Label=01944-00003 | Grubhub<br>Performance Group=Average<br>Weekly Revenue=%{x}<br>Average Order Value=%{y}<extra></extra>",
         "legendgroup": "01944-00003 | Grubhub",
         "marker": {
          "color": "#FF97FF",
          "opacity": 0.7,
          "size": 10,
          "symbol": "circle"
         },
         "mode": "markers",
         "name": "01944-00003 | Grubhub",
         "orientation": "v",
         "showlegend": true,
         "type": "scatter",
         "x": {
          "bdata": "MzMzMzMfdkA=",
          "dtype": "f8"
         },
         "xaxis": "x",
         "y": {
          "bdata": "AAAAAAAANkA=",
          "dtype": "f8"
         },
         "yaxis": "y"
        },
        {
         "hovertemplate": "Label=01944-00003 | Mobile<br>Performance Group=Average<br>Weekly Revenue=%{x}<br>Average Order Value=%{y}<extra></extra>",
         "legendgroup": "01944-00003 | Mobile",
         "marker": {
          "color": "#FECB52",
          "opacity": 0.7,
          "size": 10,
          "symbol": "circle"
         },
         "mode": "markers",
         "name": "01944-00003 | Mobile",
         "orientation": "v",
         "showlegend": true,
         "type": "scatter",
         "x": {
          "bdata": "SOF6FM6I6UA=",
          "dtype": "f8"
         },
         "xaxis": "x",
         "y": {
          "bdata": "KVyPwvUoNUA=",
          "dtype": "f8"
         },
         "yaxis": "y"
        },
        {
         "hovertemplate": "Label=01944-00003 | DoorDash<br>Performance Group=Average<br>Weekly Revenue=%{x}<br>Average Order Value=%{y}<extra></extra>",
         "legendgroup": "01944-00003 | DoorDash",
         "marker": {
          "color": "#636efa",
          "opacity": 0.7,
          "size": 10,
          "symbol": "circle"
         },
         "mode": "markers",
         "name": "01944-00003 | DoorDash",
         "orientation": "v",
         "showlegend": true,
         "type": "scatter",
         "x": {
          "bdata": "uB6F65HVy0A=",
          "dtype": "f8"
         },
         "xaxis": "x",
         "y": {
          "bdata": "KVyPwvXoM0A=",
          "dtype": "f8"
         },
         "yaxis": "y"
        },
        {
         "hovertemplate": "Label=01944-00004 | Grubhub<br>Performance Group=Average<br>Weekly Revenue=%{x}<br>Average Order Value=%{y}<extra></extra>",
         "legendgroup": "01944-00004 | Grubhub",
         "marker": {
          "color": "#EF553B",
          "opacity": 0.7,
          "size": 10,
          "symbol": "circle"
         },
         "mode": "markers",
         "name": "01944-00004 | Grubhub",
         "orientation": "v",
         "showlegend": true,
         "type": "scatter",
         "x": {
          "bdata": "ZmZmZmbydEA=",
          "dtype": "f8"
         },
         "xaxis": "x",
         "y": {
          "bdata": "mpmZmZlZOEA=",
          "dtype": "f8"
         },
         "yaxis": "y"
        },
        {
         "hovertemplate": "Label=01944-00004 | Website<br>Performance Group=Average<br>Weekly Revenue=%{x}<br>Average Order Value=%{y}<extra></extra>",
         "legendgroup": "01944-00004 | Website",
         "marker": {
          "color": "#00cc96",
          "opacity": 0.7,
          "size": 10,
          "symbol": "circle"
         },
         "mode": "markers",
         "name": "01944-00004 | Website",
         "orientation": "v",
         "showlegend": true,
         "type": "scatter",
         "x": {
          "bdata": "PQrXoyC830A=",
          "dtype": "f8"
         },
         "xaxis": "x",
         "y": {
          "bdata": "exSuR+H6N0A=",
          "dtype": "f8"
         },
         "yaxis": "y"
        },
        {
         "hovertemplate": "Label=01944-00004 | UberEats<br>Performance Group=Average<br>Weekly Revenue=%{x}<br>Average Order Value=%{y}<extra></extra>",
         "legendgroup": "01944-00004 | UberEats",
         "marker": {
          "color": "#ab63fa",
          "opacity": 0.7,
          "size": 10,
          "symbol": "circle"
         },
         "mode": "markers",
         "name": "01944-00004 | UberEats",
         "orientation": "v",
         "showlegend": true,
         "type": "scatter",
         "x": {
          "bdata": "UrgeheuVlUA=",
          "dtype": "f8"
         },
         "xaxis": "x",
         "y": {
          "bdata": "4XoUrkchN0A=",
          "dtype": "f8"
         },
         "yaxis": "y"
        },
        {
         "hovertemplate": "Label=01944-00004 | DoorDash<br>Performance Group=Average<br>Weekly Revenue=%{x}<br>Average Order Value=%{y}<extra></extra>",
         "legendgroup": "01944-00004 | DoorDash",
         "marker": {
          "color": "#FFA15A",
          "opacity": 0.7,
          "size": 10,
          "symbol": "circle"
         },
         "mode": "markers",
         "name": "01944-00004 | DoorDash",
         "orientation": "v",
         "showlegend": true,
         "type": "scatter",
         "x": {
          "bdata": "FK5H4bpd0EA=",
          "dtype": "f8"
         },
         "xaxis": "x",
         "y": {
          "bdata": "AAAAAACANEA=",
          "dtype": "f8"
         },
         "yaxis": "y"
        },
        {
         "hovertemplate": "Label=01944-00004 | Mobile<br>Performance Group=Average<br>Weekly Revenue=%{x}<br>Average Order Value=%{y}<extra></extra>",
         "legendgroup": "01944-00004 | Mobile",
         "marker": {
          "color": "#19d3f3",
          "opacity": 0.7,
          "size": 10,
          "symbol": "circle"
         },
         "mode": "markers",
         "name": "01944-00004 | Mobile",
         "orientation": "v",
         "showlegend": true,
         "type": "scatter",
         "x": {
          "bdata": "pHA9Cl+p50A=",
          "dtype": "f8"
         },
         "xaxis": "x",
         "y": {
          "bdata": "rkfhehRuNEA=",
          "dtype": "f8"
         },
         "yaxis": "y"
        },
        {
         "hovertemplate": "Label=01944-00005 | Website<br>Performance Group=Average<br>Weekly Revenue=%{x}<br>Average Order Value=%{y}<extra></extra>",
         "legendgroup": "01944-00005 | Website",
         "marker": {
          "color": "#FF6692",
          "opacity": 0.7,
          "size": 10,
          "symbol": "circle"
         },
         "mode": "markers",
         "name": "01944-00005 | Website",
         "orientation": "v",
         "showlegend": true,
         "type": "scatter",
         "x": {
          "bdata": "16NwPfqA0UA=",
          "dtype": "f8"
         },
         "xaxis": "x",
         "y": {
          "bdata": "UrgehetRNkA=",
          "dtype": "f8"
         },
         "yaxis": "y"
        },
        {
         "hovertemplate": "Label=01944-00005 | Mobile<br>Performance Group=Average<br>Weekly Revenue=%{x}<br>Average Order Value=%{y}<extra></extra>",
         "legendgroup": "01944-00005 | Mobile",
         "marker": {
          "color": "#B6E880",
          "opacity": 0.7,
          "size": 10,
          "symbol": "circle"
         },
         "mode": "markers",
         "name": "01944-00005 | Mobile",
         "orientation": "v",
         "showlegend": true,
         "type": "scatter",
         "x": {
          "bdata": "MzMzM+PL50A=",
          "dtype": "f8"
         },
         "xaxis": "x",
         "y": {
          "bdata": "16NwPQrXNUA=",
          "dtype": "f8"
         },
         "yaxis": "y"
        },
        {
         "hovertemplate": "Label=01944-00005 | DoorDash<br>Performance Group=Average<br>Weekly Revenue=%{x}<br>Average Order Value=%{y}<extra></extra>",
         "legendgroup": "01944-00005 | DoorDash",
         "marker": {
          "color": "#FF97FF",
          "opacity": 0.7,
          "size": 10,
          "symbol": "circle"
         },
         "mode": "markers",
         "name": "01944-00005 | DoorDash",
         "orientation": "v",
         "showlegend": true,
         "type": "scatter",
         "x": {
          "bdata": "w/UoXK+xzUA=",
          "dtype": "f8"
         },
         "xaxis": "x",
         "y": {
          "bdata": "UrgehetRNEA=",
          "dtype": "f8"
         },
         "yaxis": "y"
        },
        {
         "hovertemplate": "Label=01944-00005 | UberEats<br>Performance Group=Underperformer<br>Weekly Revenue=%{x}<br>Average Order Value=%{y}<extra></extra>",
         "legendgroup": "01944-00005 | UberEats",
         "marker": {
          "color": "#FECB52",
          "opacity": 0.7,
          "size": 10,
          "symbol": "circle"
         },
         "mode": "markers",
         "name": "01944-00005 | UberEats",
         "orientation": "v",
         "showlegend": true,
         "type": "scatter",
         "x": {
          "bdata": "j8L1KFzNi0A=",
          "dtype": "f8"
         },
         "xaxis": "x2",
         "y": {
          "bdata": "hetRuB6FMkA=",
          "dtype": "f8"
         },
         "yaxis": "y2"
        },
        {
         "hovertemplate": "Label=01944-00006 | Website<br>Performance Group=Average<br>Weekly Revenue=%{x}<br>Average Order Value=%{y}<extra></extra>",
         "legendgroup": "01944-00006 | Website",
         "marker": {
          "color": "#636efa",
          "opacity": 0.7,
          "size": 10,
          "symbol": "circle"
         },
         "mode": "markers",
         "name": "01944-00006 | Website",
         "orientation": "v",
         "showlegend": true,
         "type": "scatter",
         "x": {
          "bdata": "XI/C9biB2kA=",
          "dtype": "f8"
         },
         "xaxis": "x",
         "y": {
          "bdata": "mpmZmZnZNUA=",
          "dtype": "f8"
         },
         "yaxis": "y"
        },
        {
         "hovertemplate": "Label=01944-00006 | UberEats<br>Performance Group=Average<br>Weekly Revenue=%{x}<br>Average Order Value=%{y}<extra></extra>",
         "legendgroup": "01944-00006 | UberEats",
         "marker": {
          "color": "#EF553B",
          "opacity": 0.7,
          "size": 10,
          "symbol": "circle"
         },
         "mode": "markers",
         "name": "01944-00006 | UberEats",
         "orientation": "v",
         "showlegend": true,
         "type": "scatter",
         "x": {
          "bdata": "j8L1KFzwkkA=",
          "dtype": "f8"
         },
         "xaxis": "x",
         "y": {
          "bdata": "w/UoXI+CNUA=",
          "dtype": "f8"
         },
         "yaxis": "y"
        },
        {
         "hovertemplate": "Label=01944-00006 | Mobile<br>Performance Group=Average<br>Weekly Revenue=%{x}<br>Average Order Value=%{y}<extra></extra>",
         "legendgroup": "01944-00006 | Mobile",
         "marker": {
          "color": "#00cc96",
          "opacity": 0.7,
          "size": 10,
          "symbol": "circle"
         },
         "mode": "markers",
         "name": "01944-00006 | Mobile",
         "orientation": "v",
         "showlegend": true,
         "type": "scatter",
         "x": {
          "bdata": "ZmZmZraW8EA=",
          "dtype": "f8"
         },
         "xaxis": "x",
         "y": {
          "bdata": "zczMzMyMNEA=",
          "dtype": "f8"
         },
         "yaxis": "y"
        },
        {
         "hovertemplate": "Label=01944-00006 | DoorDash<br>Performance Group=Average<br>Weekly Revenue=%{x}<br>Average Order Value=%{y}<extra></extra>",
         "legendgroup": "01944-00006 | DoorDash",
         "marker": {
          "color": "#ab63fa",
          "opacity": 0.7,
          "size": 10,
          "symbol": "circle"
         },
         "mode": "markers",
         "name": "01944-00006 | DoorDash",
         "orientation": "v",
         "showlegend": true,
         "type": "scatter",
         "x": {
          "bdata": "zczMzIxx0UA=",
          "dtype": "f8"
         },
         "xaxis": "x",
         "y": {
          "bdata": "16NwPQoXM0A=",
          "dtype": "f8"
         },
         "yaxis": "y"
        },
        {
         "hovertemplate": "Label=01978-00002 | UberEats<br>Performance Group=Average<br>Weekly Revenue=%{x}<br>Average Order Value=%{y}<extra></extra>",
         "legendgroup": "01978-00002 | UberEats",
         "marker": {
          "color": "#FFA15A",
          "opacity": 0.7,
          "size": 10,
          "symbol": "circle"
         },
         "mode": "markers",
         "name": "01978-00002 | UberEats",
         "orientation": "v",
         "showlegend": true,
         "type": "scatter",
         "x": {
          "bdata": "16NwPbqc0UA=",
          "dtype": "f8"
         },
         "xaxis": "x",
         "y": {
          "bdata": "XI/C9SgcNkA=",
          "dtype": "f8"
         },
         "yaxis": "y"
        },
        {
         "hovertemplate": "Label=01978-00002 | Website<br>Performance Group=Average<br>Weekly Revenue=%{x}<br>Average Order Value=%{y}<extra></extra>",
         "legendgroup": "01978-00002 | Website",
         "marker": {
          "color": "#19d3f3",
          "opacity": 0.7,
          "size": 10,
          "symbol": "circle"
         },
         "mode": "markers",
         "name": "01978-00002 | Website",
         "orientation": "v",
         "showlegend": true,
         "type": "scatter",
         "x": {
          "bdata": "9ihcj6JH3kA=",
          "dtype": "f8"
         },
         "xaxis": "x",
         "y": {
          "bdata": "uB6F61H4NUA=",
          "dtype": "f8"
         },
         "yaxis": "y"
        },
        {
         "hovertemplate": "Label=01978-00002 | Grubhub<br>Performance Group=Average<br>Weekly Revenue=%{x}<br>Average Order Value=%{y}<extra></extra>",
         "legendgroup": "01978-00002 | Grubhub",
         "marker": {
          "color": "#FF6692",
          "opacity": 0.7,
          "size": 10,
          "symbol": "circle"
         },
         "mode": "markers",
         "name": "01978-00002 | Grubhub",
         "orientation": "v",
         "showlegend": true,
         "type": "scatter",
         "x": {
          "bdata": "XI/C9SgSrUA=",
          "dtype": "f8"
         },
         "xaxis": "x",
         "y": {
          "bdata": "H4XrUbieNEA=",
          "dtype": "f8"
         },
         "yaxis": "y"
        },
        {
         "hovertemplate": "Label=01978-00002 | DoorDash<br>Performance Group=Average<br>Weekly Revenue=%{x}<br>Average Order Value=%{y}<extra></extra>",
         "legendgroup": "01978-00002 | DoorDash",
         "marker": {
          "color": "#B6E880",
          "opacity": 0.7,
          "size": 10,
          "symbol": "circle"
         },
         "mode": "markers",
         "name": "01978-00002 | DoorDash",
         "orientation": "v",
         "showlegend": true,
         "type": "scatter",
         "x": {
          "bdata": "zczMzHze2UA=",
          "dtype": "f8"
         },
         "xaxis": "x",
         "y": {
          "bdata": "MzMzMzMzNEA=",
          "dtype": "f8"
         },
         "yaxis": "y"
        },
        {
         "hovertemplate": "Label=01978-00002 | Mobile<br>Performance Group=Average<br>Weekly Revenue=%{x}<br>Average Order Value=%{y}<extra></extra>",
         "legendgroup": "01978-00002 | Mobile",
         "marker": {
          "color": "#FF97FF",
          "opacity": 0.7,
          "size": 10,
          "symbol": "circle"
         },
         "mode": "markers",
         "name": "01978-00002 | Mobile",
         "orientation": "v",
         "showlegend": true,
         "type": "scatter",
         "x": {
          "bdata": "mpmZmek55UA=",
          "dtype": "f8"
         },
         "xaxis": "x",
         "y": {
          "bdata": "UrgeheuRM0A=",
          "dtype": "f8"
         },
         "yaxis": "y"
        },
        {
         "hovertemplate": "Label=01978-00005 | UberEats<br>Performance Group=Average<br>Weekly Revenue=%{x}<br>Average Order Value=%{y}<extra></extra>",
         "legendgroup": "01978-00005 | UberEats",
         "marker": {
          "color": "#FECB52",
          "opacity": 0.7,
          "size": 10,
          "symbol": "circle"
         },
         "mode": "markers",
         "name": "01978-00005 | UberEats",
         "orientation": "v",
         "showlegend": true,
         "type": "scatter",
         "x": {
          "bdata": "FK5H4bo13EA=",
          "dtype": "f8"
         },
         "xaxis": "x",
         "y": {
          "bdata": "SOF6FK5HNkA=",
          "dtype": "f8"
         },
         "yaxis": "y"
        },
        {
         "hovertemplate": "Label=01978-00005 | Website<br>Performance Group=Average<br>Weekly Revenue=%{x}<br>Average Order Value=%{y}<extra></extra>",
         "legendgroup": "01978-00005 | Website",
         "marker": {
          "color": "#636efa",
          "opacity": 0.7,
          "size": 10,
          "symbol": "circle"
         },
         "mode": "markers",
         "name": "01978-00005 | Website",
         "orientation": "v",
         "showlegend": true,
         "type": "scatter",
         "x": {
          "bdata": "FK5H4bpn3UA=",
          "dtype": "f8"
         },
         "xaxis": "x",
         "y": {
          "bdata": "7FG4HoWrNUA=",
          "dtype": "f8"
         },
         "yaxis": "y"
        },
        {
         "hovertemplate": "Label=01978-00005 | Mobile<br>Performance Group=Average<br>Weekly Revenue=%{x}<br>Average Order Value=%{y}<extra></extra>",
         "legendgroup": "01978-00005 | Mobile",
         "marker": {
          "color": "#EF553B",
          "opacity": 0.7,
          "size": 10,
          "symbol": "circle"
         },
         "mode": "markers",
         "name": "01978-00005 | Mobile",
         "orientation": "v",
         "showlegend": true,
         "type": "scatter",
         "x": {
          "bdata": "PQrXo9jx50A=",
          "dtype": "f8"
         },
         "xaxis": "x",
         "y": {
          "bdata": "w/UoXI9CNEA=",
          "dtype": "f8"
         },
         "yaxis": "y"
        },
        {
         "hovertemplate": "Label=01978-00005 | Grubhub<br>Performance Group=Average<br>Weekly Revenue=%{x}<br>Average Order Value=%{y}<extra></extra>",
         "legendgroup": "01978-00005 | Grubhub",
         "marker": {
          "color": "#00cc96",
          "opacity": 0.7,
          "size": 10,
          "symbol": "circle"
         },
         "mode": "markers",
         "name": "01978-00005 | Grubhub",
         "orientation": "v",
         "showlegend": true,
         "type": "scatter",
         "x": {
          "bdata": "uB6F69HHsEA=",
          "dtype": "f8"
         },
         "xaxis": "x",
         "y": {
          "bdata": "UrgeheuRM0A=",
          "dtype": "f8"
         },
         "yaxis": "y"
        },
        {
         "hovertemplate": "Label=01978-00005 | DoorDash<br>Performance Group=Average<br>Weekly Revenue=%{x}<br>Average Order Value=%{y}<extra></extra>",
         "legendgroup": "01978-00005 | DoorDash",
         "marker": {
          "color": "#ab63fa",
          "opacity": 0.7,
          "size": 10,
          "symbol": "circle"
         },
         "mode": "markers",
         "name": "01978-00005 | DoorDash",
         "orientation": "v",
         "showlegend": true,
         "type": "scatter",
         "x": {
          "bdata": "4XoUrmeH4kA=",
          "dtype": "f8"
         },
         "xaxis": "x",
         "y": {
          "bdata": "SOF6FK6HM0A=",
          "dtype": "f8"
         },
         "yaxis": "y"
        },
        {
         "hovertemplate": "Label=03222-00001 | UberEats<br>Performance Group=Average<br>Weekly Revenue=%{x}<br>Average Order Value=%{y}<extra></extra>",
         "legendgroup": "03222-00001 | UberEats",
         "marker": {
          "color": "#FFA15A",
          "opacity": 0.7,
          "size": 10,
          "symbol": "circle"
         },
         "mode": "markers",
         "name": "03222-00001 | UberEats",
         "orientation": "v",
         "showlegend": true,
         "type": "scatter",
         "x": {
          "bdata": "XI/C9ahqo0A=",
          "dtype": "f8"
         },
         "xaxis": "x",
         "y": {
          "bdata": "KVyPwvVoN0A=",
          "dtype": "f8"
         },
         "yaxis": "y"
        },
        {
         "hovertemplate": "Label=03222-00001 | Website<br>Performance Group=Average<br>Weekly Revenue=%{x}<br>Average Order Value=%{y}<extra></extra>",
         "legendgroup": "03222-00001 | Website",
         "marker": {
          "color": "#19d3f3",
          "opacity": 0.7,
          "size": 10,
          "symbol": "circle"
         },
         "mode": "markers",
         "name": "03222-00001 | Website",
         "orientation": "v",
         "showlegend": true,
         "type": "scatter",
         "x": {
          "bdata": "cT0K11Nw4UA=",
          "dtype": "f8"
         },
         "xaxis": "x",
         "y": {
          "bdata": "XI/C9SicNUA=",
          "dtype": "f8"
         },
         "yaxis": "y"
        },
        {
         "hovertemplate": "Label=03222-00001 | DoorDash<br>Performance Group=Average<br>Weekly Revenue=%{x}<br>Average Order Value=%{y}<extra></extra>",
         "legendgroup": "03222-00001 | DoorDash",
         "marker": {
          "color": "#FF6692",
          "opacity": 0.7,
          "size": 10,
          "symbol": "circle"
         },
         "mode": "markers",
         "name": "03222-00001 | DoorDash",
         "orientation": "v",
         "showlegend": true,
         "type": "scatter",
         "x": {
          "bdata": "w/UoXG+o1kA=",
          "dtype": "f8"
         },
         "xaxis": "x",
         "y": {
          "bdata": "FK5H4XqUNEA=",
          "dtype": "f8"
         },
         "yaxis": "y"
        },
        {
         "hovertemplate": "Label=03222-00001 | Mobile<br>Performance Group=Average<br>Weekly Revenue=%{x}<br>Average Order Value=%{y}<extra></extra>",
         "legendgroup": "03222-00001 | Mobile",
         "marker": {
          "color": "#B6E880",
          "opacity": 0.7,
          "size": 10,
          "symbol": "circle"
         },
         "mode": "markers",
         "name": "03222-00001 | Mobile",
         "orientation": "v",
         "showlegend": true,
         "type": "scatter",
         "x": {
          "bdata": "uB6F60V48UA=",
          "dtype": "f8"
         },
         "xaxis": "x",
         "y": {
          "bdata": "H4XrUbieM0A=",
          "dtype": "f8"
         },
         "yaxis": "y"
        },
        {
         "hovertemplate": "Label=03222-00001 | Grubhub<br>Performance Group=Underperformer<br>Weekly Revenue=%{x}<br>Average Order Value=%{y}<extra></extra>",
         "legendgroup": "03222-00001 | Grubhub",
         "marker": {
          "color": "#FF97FF",
          "opacity": 0.7,
          "size": 10,
          "symbol": "circle"
         },
         "mode": "markers",
         "name": "03222-00001 | Grubhub",
         "orientation": "v",
         "showlegend": true,
         "type": "scatter",
         "x": {
          "bdata": "XI/C9Sj4fkA=",
          "dtype": "f8"
         },
         "xaxis": "x2",
         "y": {
          "bdata": "w/UoXI/CMUA=",
          "dtype": "f8"
         },
         "yaxis": "y2"
        },
        {
         "hovertemplate": "Label=03222-00002 | Grubhub<br>Performance Group=Average<br>Weekly Revenue=%{x}<br>Average Order Value=%{y}<extra></extra>",
         "legendgroup": "03222-00002 | Grubhub",
         "marker": {
          "color": "#FECB52",
          "opacity": 0.7,
          "size": 10,
          "symbol": "circle"
         },
         "mode": "markers",
         "name": "03222-00002 | Grubhub",
         "orientation": "v",
         "showlegend": true,
         "type": "scatter",
         "x": {
          "bdata": "FK5H4XoEhUA=",
          "dtype": "f8"
         },
         "xaxis": "x",
         "y": {
          "bdata": "rkfhehTuO0A=",
          "dtype": "f8"
         },
         "yaxis": "y"
        },
        {
         "hovertemplate": "Label=03222-00002 | Website<br>Performance Group=Average<br>Weekly Revenue=%{x}<br>Average Order Value=%{y}<extra></extra>",
         "legendgroup": "03222-00002 | Website",
         "marker": {
          "color": "#636efa",
          "opacity": 0.7,
          "size": 10,
          "symbol": "circle"
         },
         "mode": "markers",
         "name": "03222-00002 | Website",
         "orientation": "v",
         "showlegend": true,
         "type": "scatter",
         "x": {
          "bdata": "CtejcN0K2EA=",
          "dtype": "f8"
         },
         "xaxis": "x",
         "y": {
          "bdata": "FK5H4XoUNUA=",
          "dtype": "f8"
         },
         "yaxis": "y"
        },
        {
         "hovertemplate": "Label=03222-00002 | UberEats<br>Performance Group=Average<br>Weekly Revenue=%{x}<br>Average Order Value=%{y}<extra></extra>",
         "legendgroup": "03222-00002 | UberEats",
         "marker": {
          "color": "#EF553B",
          "opacity": 0.7,
          "size": 10,
          "symbol": "circle"
         },
         "mode": "markers",
         "name": "03222-00002 | UberEats",
         "orientation": "v",
         "showlegend": true,
         "type": "scatter",
         "x": {
          "bdata": "SOF6FK6fpkA=",
          "dtype": "f8"
         },
         "xaxis": "x",
         "y": {
          "bdata": "w/UoXI/CNEA=",
          "dtype": "f8"
         },
         "yaxis": "y"
        },
        {
         "hovertemplate": "Label=03222-00002 | DoorDash<br>Performance Group=Average<br>Weekly Revenue=%{x}<br>Average Order Value=%{y}<extra></extra>",
         "legendgroup": "03222-00002 | DoorDash",
         "marker": {
          "color": "#00cc96",
          "opacity": 0.7,
          "size": 10,
          "symbol": "circle"
         },
         "mode": "markers",
         "name": "03222-00002 | DoorDash",
         "orientation": "v",
         "showlegend": true,
         "type": "scatter",
         "x": {
          "bdata": "exSuR8ES1kA=",
          "dtype": "f8"
         },
         "xaxis": "x",
         "y": {
          "bdata": "FK5H4XoUM0A=",
          "dtype": "f8"
         },
         "yaxis": "y"
        },
        {
         "hovertemplate": "Label=03222-00002 | Mobile<br>Performance Group=Average<br>Weekly Revenue=%{x}<br>Average Order Value=%{y}<extra></extra>",
         "legendgroup": "03222-00002 | Mobile",
         "marker": {
          "color": "#ab63fa",
          "opacity": 0.7,
          "size": 10,
          "symbol": "circle"
         },
         "mode": "markers",
         "name": "03222-00002 | Mobile",
         "orientation": "v",
         "showlegend": true,
         "type": "scatter",
         "x": {
          "bdata": "FK5H4VLK50A=",
          "dtype": "f8"
         },
         "xaxis": "x",
         "y": {
          "bdata": "hetRuB4FM0A=",
          "dtype": "f8"
         },
         "yaxis": "y"
        },
        {
         "hovertemplate": "Label=03222-00003 | Website<br>Performance Group=Average<br>Weekly Revenue=%{x}<br>Average Order Value=%{y}<extra></extra>",
         "legendgroup": "03222-00003 | Website",
         "marker": {
          "color": "#FFA15A",
          "opacity": 0.7,
          "size": 10,
          "symbol": "circle"
         },
         "mode": "markers",
         "name": "03222-00003 | Website",
         "orientation": "v",
         "showlegend": true,
         "type": "scatter",
         "x": {
          "bdata": "PQrXo7Av2EA=",
          "dtype": "f8"
         },
         "xaxis": "x",
         "y": {
          "bdata": "pHA9CtcjOEA=",
          "dtype": "f8"
         },
         "yaxis": "y"
        },
        {
         "hovertemplate": "Label=03222-00003 | Grubhub<br>Performance Group=Average<br>Weekly Revenue=%{x}<br>Average Order Value=%{y}<extra></extra>",
         "legendgroup": "03222-00003 | Grubhub",
         "marker": {
          "color": "#19d3f3",
          "opacity": 0.7,
          "size": 10,
          "symbol": "circle"
         },
         "mode": "markers",
         "name": "03222-00003 | Grubhub",
         "orientation": "v",
         "showlegend": true,
         "type": "scatter",
         "x": {
          "bdata": "Urgehes5hkA=",
          "dtype": "f8"
         },
         "xaxis": "x",
         "y": {
          "bdata": "KVyPwvXoNkA=",
          "dtype": "f8"
         },
         "yaxis": "y"
        },
        {
         "hovertemplate": "Label=03222-00003 | Mobile<br>Performance Group=Average<br>Weekly Revenue=%{x}<br>Average Order Value=%{y}<extra></extra>",
         "legendgroup": "03222-00003 | Mobile",
         "marker": {
          "color": "#FF6692",
          "opacity": 0.7,
          "size": 10,
          "symbol": "circle"
         },
         "mode": "markers",
         "name": "03222-00003 | Mobile",
         "orientation": "v",
         "showlegend": true,
         "type": "scatter",
         "x": {
          "bdata": "PQrXo+gs6EA=",
          "dtype": "f8"
         },
         "xaxis": "x",
         "y": {
          "bdata": "pHA9CtfjNEA=",
          "dtype": "f8"
         },
         "yaxis": "y"
        },
        {
         "hovertemplate": "Label=03222-00003 | DoorDash<br>Performance Group=Average<br>Weekly Revenue=%{x}<br>Average Order Value=%{y}<extra></extra>",
         "legendgroup": "03222-00003 | DoorDash",
         "marker": {
          "color": "#B6E880",
          "opacity": 0.7,
          "size": 10,
          "symbol": "circle"
         },
         "mode": "markers",
         "name": "03222-00003 | DoorDash",
         "orientation": "v",
         "showlegend": true,
         "type": "scatter",
         "x": {
          "bdata": "w/UoXD/e0EA=",
          "dtype": "f8"
         },
         "xaxis": "x",
         "y": {
          "bdata": "16NwPQpXNEA=",
          "dtype": "f8"
         },
         "yaxis": "y"
        },
        {
         "hovertemplate": "Label=03222-00003 | UberEats<br>Performance Group=Average<br>Weekly Revenue=%{x}<br>Average Order Value=%{y}<extra></extra>",
         "legendgroup": "03222-00003 | UberEats",
         "marker": {
          "color": "#FF97FF",
          "opacity": 0.7,
          "size": 10,
          "symbol": "circle"
         },
         "mode": "markers",
         "name": "03222-00003 | UberEats",
         "orientation": "v",
         "showlegend": true,
         "type": "scatter",
         "x": {
          "bdata": "KVyPwvUsjUA=",
          "dtype": "f8"
         },
         "xaxis": "x",
         "y": {
          "bdata": "rkfhehTuM0A=",
          "dtype": "f8"
         },
         "yaxis": "y"
        },
        {
         "hovertemplate": "Label=03222-00004 | Website<br>Performance Group=Average<br>Weekly Revenue=%{x}<br>Average Order Value=%{y}<extra></extra>",
         "legendgroup": "03222-00004 | Website",
         "marker": {
          "color": "#FECB52",
          "opacity": 0.7,
          "size": 10,
          "symbol": "circle"
         },
         "mode": "markers",
         "name": "03222-00004 | Website",
         "orientation": "v",
         "showlegend": true,
         "type": "scatter",
         "x": {
          "bdata": "uB6F63Gf10A=",
          "dtype": "f8"
         },
         "xaxis": "x",
         "y": {
          "bdata": "MzMzMzOzNEA=",
          "dtype": "f8"
         },
         "yaxis": "y"
        },
        {
         "hovertemplate": "Label=03222-00004 | Mobile<br>Performance Group=Average<br>Weekly Revenue=%{x}<br>Average Order Value=%{y}<extra></extra>",
         "legendgroup": "03222-00004 | Mobile",
         "marker": {
          "color": "#636efa",
          "opacity": 0.7,
          "size": 10,
          "symbol": "circle"
         },
         "mode": "markers",
         "name": "03222-00004 | Mobile",
         "orientation": "v",
         "showlegend": true,
         "type": "scatter",
         "x": {
          "bdata": "cT0K12tG50A=",
          "dtype": "f8"
         },
         "xaxis": "x",
         "y": {
          "bdata": "PQrXo3B9M0A=",
          "dtype": "f8"
         },
         "yaxis": "y"
        },
        {
         "hovertemplate": "Label=03222-00004 | UberEats<br>Performance Group=Average<br>Weekly Revenue=%{x}<br>Average Order Value=%{y}<extra></extra>",
         "legendgroup": "03222-00004 | UberEats",
         "marker": {
          "color": "#EF553B",
          "opacity": 0.7,
          "size": 10,
          "symbol": "circle"
         },
         "mode": "markers",
         "name": "03222-00004 | UberEats",
         "orientation": "v",
         "showlegend": true,
         "type": "scatter",
         "x": {
          "bdata": "pHA9Cpf0sEA=",
          "dtype": "f8"
         },
         "xaxis": "x",
         "y": {
          "bdata": "XI/C9ShcM0A=",
          "dtype": "f8"
         },
         "yaxis": "y"
        },
        {
         "hovertemplate": "Label=03222-00004 | DoorDash<br>Performance Group=Average<br>Weekly Revenue=%{x}<br>Average Order Value=%{y}<extra></extra>",
         "legendgroup": "03222-00004 | DoorDash",
         "marker": {
          "color": "#00cc96",
          "opacity": 0.7,
          "size": 10,
          "symbol": "circle"
         },
         "mode": "markers",
         "name": "03222-00004 | DoorDash",
         "orientation": "v",
         "showlegend": true,
         "type": "scatter",
         "x": {
          "bdata": "hetRuI483kA=",
          "dtype": "f8"
         },
         "xaxis": "x",
         "y": {
          "bdata": "XI/C9SgcM0A=",
          "dtype": "f8"
         },
         "yaxis": "y"
        },
        {
         "hovertemplate": "Label=03222-00004 | Grubhub<br>Performance Group=Underperformer<br>Weekly Revenue=%{x}<br>Average Order Value=%{y}<extra></extra>",
         "legendgroup": "03222-00004 | Grubhub",
         "marker": {
          "color": "#ab63fa",
          "opacity": 0.7,
          "size": 10,
          "symbol": "circle"
         },
         "mode": "markers",
         "name": "03222-00004 | Grubhub",
         "orientation": "v",
         "showlegend": true,
         "type": "scatter",
         "x": {
          "bdata": "KVyPwvU8kkA=",
          "dtype": "f8"
         },
         "xaxis": "x2",
         "y": {
          "bdata": "SOF6FK5HMkA=",
          "dtype": "f8"
         },
         "yaxis": "y2"
        },
        {
         "hovertemplate": "Label=03222-00006 | Grubhub<br>Performance Group=Average<br>Weekly Revenue=%{x}<br>Average Order Value=%{y}<extra></extra>",
         "legendgroup": "03222-00006 | Grubhub",
         "marker": {
          "color": "#FFA15A",
          "opacity": 0.7,
          "size": 10,
          "symbol": "circle"
         },
         "mode": "markers",
         "name": "03222-00006 | Grubhub",
         "orientation": "v",
         "showlegend": true,
         "type": "scatter",
         "x": {
          "bdata": "H4XrUbhsgEA=",
          "dtype": "f8"
         },
         "xaxis": "x",
         "y": {
          "bdata": "9ihcj8K1NkA=",
          "dtype": "f8"
         },
         "yaxis": "y"
        },
        {
         "hovertemplate": "Label=03222-00006 | DoorDash<br>Performance Group=Average<br>Weekly Revenue=%{x}<br>Average Order Value=%{y}<extra></extra>",
         "legendgroup": "03222-00006 | DoorDash",
         "marker": {
          "color": "#19d3f3",
          "opacity": 0.7,
          "size": 10,
          "symbol": "circle"
         },
         "mode": "markers",
         "name": "03222-00006 | DoorDash",
         "orientation": "v",
         "showlegend": true,
         "type": "scatter",
         "x": {
          "bdata": "zczMzHxG1EA=",
          "dtype": "f8"
         },
         "xaxis": "x",
         "y": {
          "bdata": "j8L1KFzPNUA=",
          "dtype": "f8"
         },
         "yaxis": "y"
        },
        {
         "hovertemplate": "Label=03222-00006 | Website<br>Performance Group=Average<br>Weekly Revenue=%{x}<br>Average Order Value=%{y}<extra></extra>",
         "legendgroup": "03222-00006 | Website",
         "marker": {
          "color": "#FF6692",
          "opacity": 0.7,
          "size": 10,
          "symbol": "circle"
         },
         "mode": "markers",
         "name": "03222-00006 | Website",
         "orientation": "v",
         "showlegend": true,
         "type": "scatter",
         "x": {
          "bdata": "PQrXo8CS3UA=",
          "dtype": "f8"
         },
         "xaxis": "x",
         "y": {
          "bdata": "PQrXo3B9NUA=",
          "dtype": "f8"
         },
         "yaxis": "y"
        },
        {
         "hovertemplate": "Label=03222-00006 | UberEats<br>Performance Group=Average<br>Weekly Revenue=%{x}<br>Average Order Value=%{y}<extra></extra>",
         "legendgroup": "03222-00006 | UberEats",
         "marker": {
          "color": "#B6E880",
          "opacity": 0.7,
          "size": 10,
          "symbol": "circle"
         },
         "mode": "markers",
         "name": "03222-00006 | UberEats",
         "orientation": "v",
         "showlegend": true,
         "type": "scatter",
         "x": {
          "bdata": "j8L1KFytnEA=",
          "dtype": "f8"
         },
         "xaxis": "x",
         "y": {
          "bdata": "hetRuB5FNUA=",
          "dtype": "f8"
         },
         "yaxis": "y"
        },
        {
         "hovertemplate": "Label=03222-00006 | Mobile<br>Performance Group=Average<br>Weekly Revenue=%{x}<br>Average Order Value=%{y}<extra></extra>",
         "legendgroup": "03222-00006 | Mobile",
         "marker": {
          "color": "#FF97FF",
          "opacity": 0.7,
          "size": 10,
          "symbol": "circle"
         },
         "mode": "markers",
         "name": "03222-00006 | Mobile",
         "orientation": "v",
         "showlegend": true,
         "type": "scatter",
         "x": {
          "bdata": "ZmZmZt5u8kA=",
          "dtype": "f8"
         },
         "xaxis": "x",
         "y": {
          "bdata": "uB6F61G4NEA=",
          "dtype": "f8"
         },
         "yaxis": "y"
        },
        {
         "hovertemplate": "Label=03222-00007 | Website<br>Performance Group=Average<br>Weekly Revenue=%{x}<br>Average Order Value=%{y}<extra></extra>",
         "legendgroup": "03222-00007 | Website",
         "marker": {
          "color": "#FECB52",
          "opacity": 0.7,
          "size": 10,
          "symbol": "circle"
         },
         "mode": "markers",
         "name": "03222-00007 | Website",
         "orientation": "v",
         "showlegend": true,
         "type": "scatter",
         "x": {
          "bdata": "zczMzByD1EA=",
          "dtype": "f8"
         },
         "xaxis": "x",
         "y": {
          "bdata": "hetRuB7FN0A=",
          "dtype": "f8"
         },
         "yaxis": "y"
        },
        {
         "hovertemplate": "Label=03222-00007 | UberEats<br>Performance Group=Average<br>Weekly Revenue=%{x}<br>Average Order Value=%{y}<extra></extra>",
         "legendgroup": "03222-00007 | UberEats",
         "marker": {
          "color": "#636efa",
          "opacity": 0.7,
          "size": 10,
          "symbol": "circle"
         },
         "mode": "markers",
         "name": "03222-00007 | UberEats",
         "orientation": "v",
         "showlegend": true,
         "type": "scatter",
         "x": {
          "bdata": "UrgeheuFg0A=",
          "dtype": "f8"
         },
         "xaxis": "x",
         "y": {
          "bdata": "UrgeheuRNkA=",
          "dtype": "f8"
         },
         "yaxis": "y"
        },
        {
         "hovertemplate": "Label=03222-00007 | Mobile<br>Performance Group=Average<br>Weekly Revenue=%{x}<br>Average Order Value=%{y}<extra></extra>",
         "legendgroup": "03222-00007 | Mobile",
         "marker": {
          "color": "#EF553B",
          "opacity": 0.7,
          "size": 10,
          "symbol": "circle"
         },
         "mode": "markers",
         "name": "03222-00007 | Mobile",
         "orientation": "v",
         "showlegend": true,
         "type": "scatter",
         "x": {
          "bdata": "zczMzPwJ6kA=",
          "dtype": "f8"
         },
         "xaxis": "x",
         "y": {
          "bdata": "FK5H4XrUNEA=",
          "dtype": "f8"
         },
         "yaxis": "y"
        },
        {
         "hovertemplate": "Label=03222-00007 | DoorDash<br>Performance Group=Average<br>Weekly Revenue=%{x}<br>Average Order Value=%{y}<extra></extra>",
         "legendgroup": "03222-00007 | DoorDash",
         "marker": {
          "color": "#00cc96",
          "opacity": 0.7,
          "size": 10,
          "symbol": "circle"
         },
         "mode": "markers",
         "name": "03222-00007 | DoorDash",
         "orientation": "v",
         "showlegend": true,
         "type": "scatter",
         "x": {
          "bdata": "CtejcH2L0kA=",
          "dtype": "f8"
         },
         "xaxis": "x",
         "y": {
          "bdata": "SOF6FK4HNEA=",
          "dtype": "f8"
         },
         "yaxis": "y"
        },
        {
         "hovertemplate": "Label=03222-00008 | UberEats<br>Performance Group=Average<br>Weekly Revenue=%{x}<br>Average Order Value=%{y}<extra></extra>",
         "legendgroup": "03222-00008 | UberEats",
         "marker": {
          "color": "#ab63fa",
          "opacity": 0.7,
          "size": 10,
          "symbol": "circle"
         },
         "mode": "markers",
         "name": "03222-00008 | UberEats",
         "orientation": "v",
         "showlegend": true,
         "type": "scatter",
         "x": {
          "bdata": "UrgehevhiUA=",
          "dtype": "f8"
         },
         "xaxis": "x",
         "y": {
          "bdata": "pHA9CtdjOEA=",
          "dtype": "f8"
         },
         "yaxis": "y"
        },
        {
         "hovertemplate": "Label=03222-00008 | Website<br>Performance Group=Average<br>Weekly Revenue=%{x}<br>Average Order Value=%{y}<extra></extra>",
         "legendgroup": "03222-00008 | Website",
         "marker": {
          "color": "#FFA15A",
          "opacity": 0.7,
          "size": 10,
          "symbol": "circle"
         },
         "mode": "markers",
         "name": "03222-00008 | Website",
         "orientation": "v",
         "showlegend": true,
         "type": "scatter",
         "x": {
          "bdata": "7FG4HtX53UA=",
          "dtype": "f8"
         },
         "xaxis": "x",
         "y": {
          "bdata": "H4XrUbieNkA=",
          "dtype": "f8"
         },
         "yaxis": "y"
        },
        {
         "hovertemplate": "Label=03222-00008 | DoorDash<br>Performance Group=Average<br>Weekly Revenue=%{x}<br>Average Order Value=%{y}<extra></extra>",
         "legendgroup": "03222-00008 | DoorDash",
         "marker": {
          "color": "#19d3f3",
          "opacity": 0.7,
          "size": 10,
          "symbol": "circle"
         },
         "mode": "markers",
         "name": "03222-00008 | DoorDash",
         "orientation": "v",
         "showlegend": true,
         "type": "scatter",
         "x": {
          "bdata": "pHA9Cocs00A=",
          "dtype": "f8"
         },
         "xaxis": "x",
         "y": {
          "bdata": "CtejcD1KNEA=",
          "dtype": "f8"
         },
         "yaxis": "y"
        },
        {
         "hovertemplate": "Label=03222-00008 | Mobile<br>Performance Group=Average<br>Weekly Revenue=%{x}<br>Average Order Value=%{y}<extra></extra>",
         "legendgroup": "03222-00008 | Mobile",
         "marker": {
          "color": "#FF6692",
          "opacity": 0.7,
          "size": 10,
          "symbol": "circle"
         },
         "mode": "markers",
         "name": "03222-00008 | Mobile",
         "orientation": "v",
         "showlegend": true,
         "type": "scatter",
         "x": {
          "bdata": "hetRuEqT8EA=",
          "dtype": "f8"
         },
         "xaxis": "x",
         "y": {
          "bdata": "j8L1KFzPM0A=",
          "dtype": "f8"
         },
         "yaxis": "y"
        },
        {
         "hovertemplate": "Label=03222-00009 | Website<br>Performance Group=Average<br>Weekly Revenue=%{x}<br>Average Order Value=%{y}<extra></extra>",
         "legendgroup": "03222-00009 | Website",
         "marker": {
          "color": "#B6E880",
          "opacity": 0.7,
          "size": 10,
          "symbol": "circle"
         },
         "mode": "markers",
         "name": "03222-00009 | Website",
         "orientation": "v",
         "showlegend": true,
         "type": "scatter",
         "x": {
          "bdata": "cT0K18O2zUA=",
          "dtype": "f8"
         },
         "xaxis": "x",
         "y": {
          "bdata": "cT0K16OwNkA=",
          "dtype": "f8"
         },
         "yaxis": "y"
        },
        {
         "hovertemplate": "Label=03222-00009 | UberEats<br>Performance Group=Average<br>Weekly Revenue=%{x}<br>Average Order Value=%{y}<extra></extra>",
         "legendgroup": "03222-00009 | UberEats",
         "marker": {
          "color": "#FF97FF",
          "opacity": 0.7,
          "size": 10,
          "symbol": "circle"
         },
         "mode": "markers",
         "name": "03222-00009 | UberEats",
         "orientation": "v",
         "showlegend": true,
         "type": "scatter",
         "x": {
          "bdata": "hetRuB5lfkA=",
          "dtype": "f8"
         },
         "xaxis": "x",
         "y": {
          "bdata": "H4XrUbjeNUA=",
          "dtype": "f8"
         },
         "yaxis": "y"
        },
        {
         "hovertemplate": "Label=03222-00009 | Mobile<br>Performance Group=Average<br>Weekly Revenue=%{x}<br>Average Order Value=%{y}<extra></extra>",
         "legendgroup": "03222-00009 | Mobile",
         "marker": {
          "color": "#FECB52",
          "opacity": 0.7,
          "size": 10,
          "symbol": "circle"
         },
         "mode": "markers",
         "name": "03222-00009 | Mobile",
         "orientation": "v",
         "showlegend": true,
         "type": "scatter",
         "x": {
          "bdata": "SOF6FB5o3EA=",
          "dtype": "f8"
         },
         "xaxis": "x",
         "y": {
          "bdata": "4XoUrkfhM0A=",
          "dtype": "f8"
         },
         "yaxis": "y"
        },
        {
         "hovertemplate": "Label=03222-00009 | DoorDash<br>Performance Group=Average<br>Weekly Revenue=%{x}<br>Average Order Value=%{y}<extra></extra>",
         "legendgroup": "03222-00009 | DoorDash",
         "marker": {
          "color": "#636efa",
          "opacity": 0.7,
          "size": 10,
          "symbol": "circle"
         },
         "mode": "markers",
         "name": "03222-00009 | DoorDash",
         "orientation": "v",
         "showlegend": true,
         "type": "scatter",
         "x": {
          "bdata": "4XoUrmcFxUA=",
          "dtype": "f8"
         },
         "xaxis": "x",
         "y": {
          "bdata": "ZmZmZmamM0A=",
          "dtype": "f8"
         },
         "yaxis": "y"
        },
        {
         "hovertemplate": "Label=03222-00010 | UberEats<br>Performance Group=Average<br>Weekly Revenue=%{x}<br>Average Order Value=%{y}<extra></extra>",
         "legendgroup": "03222-00010 | UberEats",
         "marker": {
          "color": "#EF553B",
          "opacity": 0.7,
          "size": 10,
          "symbol": "circle"
         },
         "mode": "markers",
         "name": "03222-00010 | UberEats",
         "orientation": "v",
         "showlegend": true,
         "type": "scatter",
         "x": {
          "bdata": "4XoUrkc7h0A=",
          "dtype": "f8"
         },
         "xaxis": "x",
         "y": {
          "bdata": "16NwPQpXN0A=",
          "dtype": "f8"
         },
         "yaxis": "y"
        },
        {
         "hovertemplate": "Label=03222-00010 | Website<br>Performance Group=Average<br>Weekly Revenue=%{x}<br>Average Order Value=%{y}<extra></extra>",
         "legendgroup": "03222-00010 | Website",
         "marker": {
          "color": "#00cc96",
          "opacity": 0.7,
          "size": 10,
          "symbol": "circle"
         },
         "mode": "markers",
         "name": "03222-00010 | Website",
         "orientation": "v",
         "showlegend": true,
         "type": "scatter",
         "x": {
          "bdata": "SOF6FI5iy0A=",
          "dtype": "f8"
         },
         "xaxis": "x",
         "y": {
          "bdata": "exSuR+F6NkA=",
          "dtype": "f8"
         },
         "yaxis": "y"
        },
        {
         "hovertemplate": "Label=03222-00010 | Mobile<br>Performance Group=Average<br>Weekly Revenue=%{x}<br>Average Order Value=%{y}<extra></extra>",
         "legendgroup": "03222-00010 | Mobile",
         "marker": {
          "color": "#ab63fa",
          "opacity": 0.7,
          "size": 10,
          "symbol": "circle"
         },
         "mode": "markers",
         "name": "03222-00010 | Mobile",
         "orientation": "v",
         "showlegend": true,
         "type": "scatter",
         "x": {
          "bdata": "j8L1KJzW30A=",
          "dtype": "f8"
         },
         "xaxis": "x",
         "y": {
          "bdata": "PQrXo3D9NEA=",
          "dtype": "f8"
         },
         "yaxis": "y"
        },
        {
         "hovertemplate": "Label=03222-00010 | DoorDash<br>Performance Group=Average<br>Weekly Revenue=%{x}<br>Average Order Value=%{y}<extra></extra>",
         "legendgroup": "03222-00010 | DoorDash",
         "marker": {
          "color": "#FFA15A",
          "opacity": 0.7,
          "size": 10,
          "symbol": "circle"
         },
         "mode": "markers",
         "name": "03222-00010 | DoorDash",
         "orientation": "v",
         "showlegend": true,
         "type": "scatter",
         "x": {
          "bdata": "16NwPUpZukA=",
          "dtype": "f8"
         },
         "xaxis": "x",
         "y": {
          "bdata": "9ihcj8J1M0A=",
          "dtype": "f8"
         },
         "yaxis": "y"
        },
        {
         "hovertemplate": "Label=03222-00012 | Website<br>Performance Group=Average<br>Weekly Revenue=%{x}<br>Average Order Value=%{y}<extra></extra>",
         "legendgroup": "03222-00012 | Website",
         "marker": {
          "color": "#19d3f3",
          "opacity": 0.7,
          "size": 10,
          "symbol": "circle"
         },
         "mode": "markers",
         "name": "03222-00012 | Website",
         "orientation": "v",
         "showlegend": true,
         "type": "scatter",
         "x": {
          "bdata": "exSuR+GaVUA=",
          "dtype": "f8"
         },
         "xaxis": "x",
         "y": {
          "bdata": "j8L1KFzPPEA=",
          "dtype": "f8"
         },
         "yaxis": "y"
        },
        {
         "hovertemplate": "Label=03222-00012 | Mobile<br>Performance Group=Underperformer<br>Weekly Revenue=%{x}<br>Average Order Value=%{y}<extra></extra>",
         "legendgroup": "03222-00012 | Mobile",
         "marker": {
          "color": "#FF6692",
          "opacity": 0.7,
          "size": 10,
          "symbol": "circle"
         },
         "mode": "markers",
         "name": "03222-00012 | Mobile",
         "orientation": "v",
         "showlegend": true,
         "type": "scatter",
         "x": {
          "bdata": "MzMzMzN7c0A=",
          "dtype": "f8"
         },
         "xaxis": "x2",
         "y": {
          "bdata": "16NwPQpXMkA=",
          "dtype": "f8"
         },
         "yaxis": "y2"
        },
        {
         "hovertemplate": "Label=03222-00012 | DoorDash<br>Performance Group=Underperformer<br>Weekly Revenue=%{x}<br>Average Order Value=%{y}<extra></extra>",
         "legendgroup": "03222-00012 | DoorDash",
         "marker": {
          "color": "#B6E880",
          "opacity": 0.7,
          "size": 10,
          "symbol": "circle"
         },
         "mode": "markers",
         "name": "03222-00012 | DoorDash",
         "orientation": "v",
         "showlegend": true,
         "type": "scatter",
         "x": {
          "bdata": "FK5H4XqMakA=",
          "dtype": "f8"
         },
         "xaxis": "x2",
         "y": {
          "bdata": "MzMzMzOzMUA=",
          "dtype": "f8"
         },
         "yaxis": "y2"
        },
        {
         "hovertemplate": "Label=03222-00013 | Mobile<br>Performance Group=Average<br>Weekly Revenue=%{x}<br>Average Order Value=%{y}<extra></extra>",
         "legendgroup": "03222-00013 | Mobile",
         "marker": {
          "color": "#FF97FF",
          "opacity": 0.7,
          "size": 10,
          "symbol": "circle"
         },
         "mode": "markers",
         "name": "03222-00013 | Mobile",
         "orientation": "v",
         "showlegend": true,
         "type": "scatter",
         "x": {
          "bdata": "w/UoXI/6dkA=",
          "dtype": "f8"
         },
         "xaxis": "x",
         "y": {
          "bdata": "rkfhehRuNEA=",
          "dtype": "f8"
         },
         "yaxis": "y"
        },
        {
         "hovertemplate": "Label=03222-00013 | DoorDash<br>Performance Group=Average<br>Weekly Revenue=%{x}<br>Average Order Value=%{y}<extra></extra>",
         "legendgroup": "03222-00013 | DoorDash",
         "marker": {
          "color": "#FECB52",
          "opacity": 0.7,
          "size": 10,
          "symbol": "circle"
         },
         "mode": "markers",
         "name": "03222-00013 | DoorDash",
         "orientation": "v",
         "showlegend": true,
         "type": "scatter",
         "x": {
          "bdata": "16NwPQobdkA=",
          "dtype": "f8"
         },
         "xaxis": "x",
         "y": {
          "bdata": "ZmZmZmamM0A=",
          "dtype": "f8"
         },
         "yaxis": "y"
        },
        {
         "hovertemplate": "Label=03222-00013 | Website<br>Performance Group=Underperformer<br>Weekly Revenue=%{x}<br>Average Order Value=%{y}<extra></extra>",
         "legendgroup": "03222-00013 | Website",
         "marker": {
          "color": "#636efa",
          "opacity": 0.7,
          "size": 10,
          "symbol": "circle"
         },
         "mode": "markers",
         "name": "03222-00013 | Website",
         "orientation": "v",
         "showlegend": true,
         "type": "scatter",
         "x": {
          "bdata": "KVyPwvXgakA=",
          "dtype": "f8"
         },
         "xaxis": "x2",
         "y": {
          "bdata": "7FG4HoXrMUA=",
          "dtype": "f8"
         },
         "yaxis": "y2"
        },
        {
         "hovertemplate": "Label=03222-00014 | DoorDash<br>Performance Group=Average<br>Weekly Revenue=%{x}<br>Average Order Value=%{y}<extra></extra>",
         "legendgroup": "03222-00014 | DoorDash",
         "marker": {
          "color": "#EF553B",
          "opacity": 0.7,
          "size": 10,
          "symbol": "circle"
         },
         "mode": "markers",
         "name": "03222-00014 | DoorDash",
         "orientation": "v",
         "showlegend": true,
         "type": "scatter",
         "x": {
          "bdata": "j8L1KFyvT0A=",
          "dtype": "f8"
         },
         "xaxis": "x",
         "y": {
          "bdata": "H4XrUbgeNUA=",
          "dtype": "f8"
         },
         "yaxis": "y"
        },
        {
         "hovertemplate": "Label=03222-00014 | Website<br>Performance Group=Average<br>Weekly Revenue=%{x}<br>Average Order Value=%{y}<extra></extra>",
         "legendgroup": "03222-00014 | Website",
         "marker": {
          "color": "#00cc96",
          "opacity": 0.7,
          "size": 10,
          "symbol": "circle"
         },
         "mode": "markers",
         "name": "03222-00014 | Website",
         "orientation": "v",
         "showlegend": true,
         "type": "scatter",
         "x": {
          "bdata": "pHA9CtfTZkA=",
          "dtype": "f8"
         },
         "xaxis": "x",
         "y": {
          "bdata": "CtejcD1KNEA=",
          "dtype": "f8"
         },
         "yaxis": "y"
        },
        {
         "hovertemplate": "Label=03222-00014 | Mobile<br>Performance Group=Average<br>Weekly Revenue=%{x}<br>Average Order Value=%{y}<extra></extra>",
         "legendgroup": "03222-00014 | Mobile",
         "marker": {
          "color": "#ab63fa",
          "opacity": 0.7,
          "size": 10,
          "symbol": "circle"
         },
         "mode": "markers",
         "name": "03222-00014 | Mobile",
         "orientation": "v",
         "showlegend": true,
         "type": "scatter",
         "x": {
          "bdata": "pHA9CtcPdkA=",
          "dtype": "f8"
         },
         "xaxis": "x",
         "y": {
          "bdata": "XI/C9SicM0A=",
          "dtype": "f8"
         },
         "yaxis": "y"
        },
        {
         "hovertemplate": "Label=03222-00015 | Website<br>Performance Group=Top Performer<br>Weekly Revenue=%{x}<br>Average Order Value=%{y}<extra></extra>",
         "legendgroup": "03222-00015 | Website",
         "marker": {
          "color": "#FFA15A",
          "opacity": 0.7,
          "size": 10,
          "symbol": "circle"
         },
         "mode": "markers",
         "name": "03222-00015 | Website",
         "orientation": "v",
         "showlegend": true,
         "type": "scatter",
         "x": {
          "bdata": "KVyPwv0z60A=",
          "dtype": "f8"
         },
         "xaxis": "x3",
         "y": {
          "bdata": "16NwPQrXN0A=",
          "dtype": "f8"
         },
         "yaxis": "y3"
        },
        {
         "hovertemplate": "Label=03222-00015 | UberEats<br>Performance Group=Average<br>Weekly Revenue=%{x}<br>Average Order Value=%{y}<extra></extra>",
         "legendgroup": "03222-00015 | UberEats",
         "marker": {
          "color": "#19d3f3",
          "opacity": 0.7,
          "size": 10,
          "symbol": "circle"
         },
         "mode": "markers",
         "name": "03222-00015 | UberEats",
         "orientation": "v",
         "showlegend": true,
         "type": "scatter",
         "x": {
          "bdata": "rkfhehSBlkA=",
          "dtype": "f8"
         },
         "xaxis": "x",
         "y": {
          "bdata": "SOF6FK7HN0A=",
          "dtype": "f8"
         },
         "yaxis": "y"
        },
        {
         "hovertemplate": "Label=03222-00015 | Mobile<br>Performance Group=Average<br>Weekly Revenue=%{x}<br>Average Order Value=%{y}<extra></extra>",
         "legendgroup": "03222-00015 | Mobile",
         "marker": {
          "color": "#FF6692",
          "opacity": 0.7,
          "size": 10,
          "symbol": "circle"
         },
         "mode": "markers",
         "name": "03222-00015 | Mobile",
         "orientation": "v",
         "showlegend": true,
         "type": "scatter",
         "x": {
          "bdata": "SOF6FCrU+UA=",
          "dtype": "f8"
         },
         "xaxis": "x",
         "y": {
          "bdata": "mpmZmZlZNUA=",
          "dtype": "f8"
         },
         "yaxis": "y"
        },
        {
         "hovertemplate": "Label=03222-00015 | DoorDash<br>Performance Group=Average<br>Weekly Revenue=%{x}<br>Average Order Value=%{y}<extra></extra>",
         "legendgroup": "03222-00015 | DoorDash",
         "marker": {
          "color": "#B6E880",
          "opacity": 0.7,
          "size": 10,
          "symbol": "circle"
         },
         "mode": "markers",
         "name": "03222-00015 | DoorDash",
         "orientation": "v",
         "showlegend": true,
         "type": "scatter",
         "x": {
          "bdata": "pHA9Cu8X4UA=",
          "dtype": "f8"
         },
         "xaxis": "x",
         "y": {
          "bdata": "FK5H4XoUNEA=",
          "dtype": "f8"
         },
         "yaxis": "y"
        },
        {
         "hovertemplate": "Label=03222-00015 | Grubhub<br>Performance Group=Underperformer<br>Weekly Revenue=%{x}<br>Average Order Value=%{y}<extra></extra>",
         "legendgroup": "03222-00015 | Grubhub",
         "marker": {
          "color": "#FF97FF",
          "opacity": 0.7,
          "size": 10,
          "symbol": "circle"
         },
         "mode": "markers",
         "name": "03222-00015 | Grubhub",
         "orientation": "v",
         "showlegend": true,
         "type": "scatter",
         "x": {
          "bdata": "j8L1KFz3YUA=",
          "dtype": "f8"
         },
         "xaxis": "x2",
         "y": {
          "bdata": "SOF6FK7HMUA=",
          "dtype": "f8"
         },
         "yaxis": "y2"
        },
        {
         "hovertemplate": "Label=03222-00016 | UberEats<br>Performance Group=Average<br>Weekly Revenue=%{x}<br>Average Order Value=%{y}<extra></extra>",
         "legendgroup": "03222-00016 | UberEats",
         "marker": {
          "color": "#FECB52",
          "opacity": 0.7,
          "size": 10,
          "symbol": "circle"
         },
         "mode": "markers",
         "name": "03222-00016 | UberEats",
         "orientation": "v",
         "showlegend": true,
         "type": "scatter",
         "x": {
          "bdata": "16NwPQp9jEA=",
          "dtype": "f8"
         },
         "xaxis": "x",
         "y": {
          "bdata": "KVyPwvUoNkA=",
          "dtype": "f8"
         },
         "yaxis": "y"
        },
        {
         "hovertemplate": "Label=03222-00016 | Website<br>Performance Group=Average<br>Weekly Revenue=%{x}<br>Average Order Value=%{y}<extra></extra>",
         "legendgroup": "03222-00016 | Website",
         "marker": {
          "color": "#636efa",
          "opacity": 0.7,
          "size": 10,
          "symbol": "circle"
         },
         "mode": "markers",
         "name": "03222-00016 | Website",
         "orientation": "v",
         "showlegend": true,
         "type": "scatter",
         "x": {
          "bdata": "SOF6FKZX5EA=",
          "dtype": "f8"
         },
         "xaxis": "x",
         "y": {
          "bdata": "mpmZmZkZNUA=",
          "dtype": "f8"
         },
         "yaxis": "y"
        },
        {
         "hovertemplate": "Label=03222-00016 | Mobile<br>Performance Group=Average<br>Weekly Revenue=%{x}<br>Average Order Value=%{y}<extra></extra>",
         "legendgroup": "03222-00016 | Mobile",
         "marker": {
          "color": "#EF553B",
          "opacity": 0.7,
          "size": 10,
          "symbol": "circle"
         },
         "mode": "markers",
         "name": "03222-00016 | Mobile",
         "orientation": "v",
         "showlegend": true,
         "type": "scatter",
         "x": {
          "bdata": "FK5H4fKS70A=",
          "dtype": "f8"
         },
         "xaxis": "x",
         "y": {
          "bdata": "rkfhehRuM0A=",
          "dtype": "f8"
         },
         "yaxis": "y"
        },
        {
         "hovertemplate": "Label=03222-00016 | DoorDash<br>Performance Group=Average<br>Weekly Revenue=%{x}<br>Average Order Value=%{y}<extra></extra>",
         "legendgroup": "03222-00016 | DoorDash",
         "marker": {
          "color": "#00cc96",
          "opacity": 0.7,
          "size": 10,
          "symbol": "circle"
         },
         "mode": "markers",
         "name": "03222-00016 | DoorDash",
         "orientation": "v",
         "showlegend": true,
         "type": "scatter",
         "x": {
          "bdata": "KVyPwlXU2EA=",
          "dtype": "f8"
         },
         "xaxis": "x",
         "y": {
          "bdata": "XI/C9ShcM0A=",
          "dtype": "f8"
         },
         "yaxis": "y"
        },
        {
         "hovertemplate": "Label=03222-00017 | UberEats<br>Performance Group=Average<br>Weekly Revenue=%{x}<br>Average Order Value=%{y}<extra></extra>",
         "legendgroup": "03222-00017 | UberEats",
         "marker": {
          "color": "#ab63fa",
          "opacity": 0.7,
          "size": 10,
          "symbol": "circle"
         },
         "mode": "markers",
         "name": "03222-00017 | UberEats",
         "orientation": "v",
         "showlegend": true,
         "type": "scatter",
         "x": {
          "bdata": "XI/C9SilmEA=",
          "dtype": "f8"
         },
         "xaxis": "x",
         "y": {
          "bdata": "KVyPwvWoOEA=",
          "dtype": "f8"
         },
         "yaxis": "y"
        },
        {
         "hovertemplate": "Label=03222-00017 | Website<br>Performance Group=Top Performer<br>Weekly Revenue=%{x}<br>Average Order Value=%{y}<extra></extra>",
         "legendgroup": "03222-00017 | Website",
         "marker": {
          "color": "#FFA15A",
          "opacity": 0.7,
          "size": 10,
          "symbol": "circle"
         },
         "mode": "markers",
         "name": "03222-00017 | Website",
         "orientation": "v",
         "showlegend": true,
         "type": "scatter",
         "x": {
          "bdata": "rkfhenzM5UA=",
          "dtype": "f8"
         },
         "xaxis": "x3",
         "y": {
          "bdata": "hetRuB6FOEA=",
          "dtype": "f8"
         },
         "yaxis": "y3"
        },
        {
         "hovertemplate": "Label=03222-00017 | Mobile<br>Performance Group=Top Performer<br>Weekly Revenue=%{x}<br>Average Order Value=%{y}<extra></extra>",
         "legendgroup": "03222-00017 | Mobile",
         "marker": {
          "color": "#19d3f3",
          "opacity": 0.7,
          "size": 10,
          "symbol": "circle"
         },
         "mode": "markers",
         "name": "03222-00017 | Mobile",
         "orientation": "v",
         "showlegend": true,
         "type": "scatter",
         "x": {
          "bdata": "SOF6FP4w80A=",
          "dtype": "f8"
         },
         "xaxis": "x3",
         "y": {
          "bdata": "CtejcD2KNkA=",
          "dtype": "f8"
         },
         "yaxis": "y3"
        },
        {
         "hovertemplate": "Label=03222-00017 | DoorDash<br>Performance Group=Average<br>Weekly Revenue=%{x}<br>Average Order Value=%{y}<extra></extra>",
         "legendgroup": "03222-00017 | DoorDash",
         "marker": {
          "color": "#FF6692",
          "opacity": 0.7,
          "size": 10,
          "symbol": "circle"
         },
         "mode": "markers",
         "name": "03222-00017 | DoorDash",
         "orientation": "v",
         "showlegend": true,
         "type": "scatter",
         "x": {
          "bdata": "MzMzMzMZ6EA=",
          "dtype": "f8"
         },
         "xaxis": "x",
         "y": {
          "bdata": "cT0K16MwNkA=",
          "dtype": "f8"
         },
         "yaxis": "y"
        },
        {
         "hovertemplate": "Label=03222-00018 | Website<br>Performance Group=Average<br>Weekly Revenue=%{x}<br>Average Order Value=%{y}<extra></extra>",
         "legendgroup": "03222-00018 | Website",
         "marker": {
          "color": "#B6E880",
          "opacity": 0.7,
          "size": 10,
          "symbol": "circle"
         },
         "mode": "markers",
         "name": "03222-00018 | Website",
         "orientation": "v",
         "showlegend": true,
         "type": "scatter",
         "x": {
          "bdata": "w/UoXP+Z10A=",
          "dtype": "f8"
         },
         "xaxis": "x",
         "y": {
          "bdata": "CtejcD0KOEA=",
          "dtype": "f8"
         },
         "yaxis": "y"
        },
        {
         "hovertemplate": "Label=03222-00018 | Mobile<br>Performance Group=Average<br>Weekly Revenue=%{x}<br>Average Order Value=%{y}<extra></extra>",
         "legendgroup": "03222-00018 | Mobile",
         "marker": {
          "color": "#FF97FF",
          "opacity": 0.7,
          "size": 10,
          "symbol": "circle"
         },
         "mode": "markers",
         "name": "03222-00018 | Mobile",
         "orientation": "v",
         "showlegend": true,
         "type": "scatter",
         "x": {
          "bdata": "cT0K1yti7kA=",
          "dtype": "f8"
         },
         "xaxis": "x",
         "y": {
          "bdata": "w/UoXI9CNUA=",
          "dtype": "f8"
         },
         "yaxis": "y"
        },
        {
         "hovertemplate": "Label=03222-00018 | DoorDash<br>Performance Group=Average<br>Weekly Revenue=%{x}<br>Average Order Value=%{y}<extra></extra>",
         "legendgroup": "03222-00018 | DoorDash",
         "marker": {
          "color": "#FECB52",
          "opacity": 0.7,
          "size": 10,
          "symbol": "circle"
         },
         "mode": "markers",
         "name": "03222-00018 | DoorDash",
         "orientation": "v",
         "showlegend": true,
         "type": "scatter",
         "x": {
          "bdata": "exSuR6Ft2UA=",
          "dtype": "f8"
         },
         "xaxis": "x",
         "y": {
          "bdata": "j8L1KFyPNEA=",
          "dtype": "f8"
         },
         "yaxis": "y"
        },
        {
         "hovertemplate": "Label=03222-00018 | UberEats<br>Performance Group=Average<br>Weekly Revenue=%{x}<br>Average Order Value=%{y}<extra></extra>",
         "legendgroup": "03222-00018 | UberEats",
         "marker": {
          "color": "#636efa",
          "opacity": 0.7,
          "size": 10,
          "symbol": "circle"
         },
         "mode": "markers",
         "name": "03222-00018 | UberEats",
         "orientation": "v",
         "showlegend": true,
         "type": "scatter",
         "x": {
          "bdata": "XI/C9SgsZkA=",
          "dtype": "f8"
         },
         "xaxis": "x",
         "y": {
          "bdata": "rkfhehTuM0A=",
          "dtype": "f8"
         },
         "yaxis": "y"
        },
        {
         "hovertemplate": "Label=03222-00019 | Website<br>Performance Group=Average<br>Weekly Revenue=%{x}<br>Average Order Value=%{y}<extra></extra>",
         "legendgroup": "03222-00019 | Website",
         "marker": {
          "color": "#EF553B",
          "opacity": 0.7,
          "size": 10,
          "symbol": "circle"
         },
         "mode": "markers",
         "name": "03222-00019 | Website",
         "orientation": "v",
         "showlegend": true,
         "type": "scatter",
         "x": {
          "bdata": "AAAAAMCe0UA=",
          "dtype": "f8"
         },
         "xaxis": "x",
         "y": {
          "bdata": "zczMzMxMOEA=",
          "dtype": "f8"
         },
         "yaxis": "y"
        },
        {
         "hovertemplate": "Label=03222-00019 | Mobile<br>Performance Group=Average<br>Weekly Revenue=%{x}<br>Average Order Value=%{y}<extra></extra>",
         "legendgroup": "03222-00019 | Mobile",
         "marker": {
          "color": "#00cc96",
          "opacity": 0.7,
          "size": 10,
          "symbol": "circle"
         },
         "mode": "markers",
         "name": "03222-00019 | Mobile",
         "orientation": "v",
         "showlegend": true,
         "type": "scatter",
         "x": {
          "bdata": "AAAAAAhr4kA=",
          "dtype": "f8"
         },
         "xaxis": "x",
         "y": {
          "bdata": "mpmZmZkZNkA=",
          "dtype": "f8"
         },
         "yaxis": "y"
        },
        {
         "hovertemplate": "Label=03222-00019 | DoorDash<br>Performance Group=Average<br>Weekly Revenue=%{x}<br>Average Order Value=%{y}<extra></extra>",
         "legendgroup": "03222-00019 | DoorDash",
         "marker": {
          "color": "#ab63fa",
          "opacity": 0.7,
          "size": 10,
          "symbol": "circle"
         },
         "mode": "markers",
         "name": "03222-00019 | DoorDash",
         "orientation": "v",
         "showlegend": true,
         "type": "scatter",
         "x": {
          "bdata": "PQrXozCu0kA=",
          "dtype": "f8"
         },
         "xaxis": "x",
         "y": {
          "bdata": "mpmZmZmZM0A=",
          "dtype": "f8"
         },
         "yaxis": "y"
        },
        {
         "hovertemplate": "Label=03222-00019 | Grubhub<br>Performance Group=Underperformer<br>Weekly Revenue=%{x}<br>Average Order Value=%{y}<extra></extra>",
         "legendgroup": "03222-00019 | Grubhub",
         "marker": {
          "color": "#FFA15A",
          "opacity": 0.7,
          "size": 10,
          "symbol": "circle"
         },
         "mode": "markers",
         "name": "03222-00019 | Grubhub",
         "orientation": "v",
         "showlegend": true,
         "type": "scatter",
         "x": {
          "bdata": "9ihcj8K1QEA=",
          "dtype": "f8"
         },
         "xaxis": "x2",
         "y": {
          "bdata": "9ihcj8K1MEA=",
          "dtype": "f8"
         },
         "yaxis": "y2"
        },
        {
         "hovertemplate": "Label=03222-00019 | UberEats<br>Performance Group=Underperformer<br>Weekly Revenue=%{x}<br>Average Order Value=%{y}<extra></extra>",
         "legendgroup": "03222-00019 | UberEats",
         "marker": {
          "color": "#19d3f3",
          "opacity": 0.7,
          "size": 10,
          "symbol": "circle"
         },
         "mode": "markers",
         "name": "03222-00019 | UberEats",
         "orientation": "v",
         "showlegend": true,
         "type": "scatter",
         "x": {
          "bdata": "XI/C9Sg8ZUA=",
          "dtype": "f8"
         },
         "xaxis": "x2",
         "y": {
          "bdata": "mpmZmZmZLkA=",
          "dtype": "f8"
         },
         "yaxis": "y2"
        },
        {
         "hovertemplate": "Label=03222-00021 | UberEats<br>Performance Group=Average<br>Weekly Revenue=%{x}<br>Average Order Value=%{y}<extra></extra>",
         "legendgroup": "03222-00021 | UberEats",
         "marker": {
          "color": "#FF6692",
          "opacity": 0.7,
          "size": 10,
          "symbol": "circle"
         },
         "mode": "markers",
         "name": "03222-00021 | UberEats",
         "orientation": "v",
         "showlegend": true,
         "type": "scatter",
         "x": {
          "bdata": "16NwPQoze0A=",
          "dtype": "f8"
         },
         "xaxis": "x",
         "y": {
          "bdata": "hetRuB6FNkA=",
          "dtype": "f8"
         },
         "yaxis": "y"
        },
        {
         "hovertemplate": "Label=03222-00021 | Website<br>Performance Group=Average<br>Weekly Revenue=%{x}<br>Average Order Value=%{y}<extra></extra>",
         "legendgroup": "03222-00021 | Website",
         "marker": {
          "color": "#B6E880",
          "opacity": 0.7,
          "size": 10,
          "symbol": "circle"
         },
         "mode": "markers",
         "name": "03222-00021 | Website",
         "orientation": "v",
         "showlegend": true,
         "type": "scatter",
         "x": {
          "bdata": "j8L1KCyU20A=",
          "dtype": "f8"
         },
         "xaxis": "x",
         "y": {
          "bdata": "4XoUrkfhNEA=",
          "dtype": "f8"
         },
         "yaxis": "y"
        },
        {
         "hovertemplate": "Label=03222-00021 | Mobile<br>Performance Group=Average<br>Weekly Revenue=%{x}<br>Average Order Value=%{y}<extra></extra>",
         "legendgroup": "03222-00021 | Mobile",
         "marker": {
          "color": "#FF97FF",
          "opacity": 0.7,
          "size": 10,
          "symbol": "circle"
         },
         "mode": "markers",
         "name": "03222-00021 | Mobile",
         "orientation": "v",
         "showlegend": true,
         "type": "scatter",
         "x": {
          "bdata": "4XoUrn+Y7EA=",
          "dtype": "f8"
         },
         "xaxis": "x",
         "y": {
          "bdata": "hetRuB7FMkA=",
          "dtype": "f8"
         },
         "yaxis": "y"
        },
        {
         "hovertemplate": "Label=03222-00021 | DoorDash<br>Performance Group=Average<br>Weekly Revenue=%{x}<br>Average Order Value=%{y}<extra></extra>",
         "legendgroup": "03222-00021 | DoorDash",
         "marker": {
          "color": "#FECB52",
          "opacity": 0.7,
          "size": 10,
          "symbol": "circle"
         },
         "mode": "markers",
         "name": "03222-00021 | DoorDash",
         "orientation": "v",
         "showlegend": true,
         "type": "scatter",
         "x": {
          "bdata": "H4XrUdj6ykA=",
          "dtype": "f8"
         },
         "xaxis": "x",
         "y": {
          "bdata": "UrgehetRMkA=",
          "dtype": "f8"
         },
         "yaxis": "y"
        },
        {
         "hovertemplate": "Label=03222-00022 | Website<br>Performance Group=Average<br>Weekly Revenue=%{x}<br>Average Order Value=%{y}<extra></extra>",
         "legendgroup": "03222-00022 | Website",
         "marker": {
          "color": "#636efa",
          "opacity": 0.7,
          "size": 10,
          "symbol": "circle"
         },
         "mode": "markers",
         "name": "03222-00022 | Website",
         "orientation": "v",
         "showlegend": true,
         "type": "scatter",
         "x": {
          "bdata": "4XoUrtcX0UA=",
          "dtype": "f8"
         },
         "xaxis": "x",
         "y": {
          "bdata": "cT0K16NwN0A=",
          "dtype": "f8"
         },
         "yaxis": "y"
        },
        {
         "hovertemplate": "Label=03222-00022 | Grubhub<br>Performance Group=Average<br>Weekly Revenue=%{x}<br>Average Order Value=%{y}<extra></extra>",
         "legendgroup": "03222-00022 | Grubhub",
         "marker": {
          "color": "#EF553B",
          "opacity": 0.7,
          "size": 10,
          "symbol": "circle"
         },
         "mode": "markers",
         "name": "03222-00022 | Grubhub",
         "orientation": "v",
         "showlegend": true,
         "type": "scatter",
         "x": {
          "bdata": "pHA9Ctd7aEA=",
          "dtype": "f8"
         },
         "xaxis": "x",
         "y": {
          "bdata": "rkfhehSuNEA=",
          "dtype": "f8"
         },
         "yaxis": "y"
        },
        {
         "hovertemplate": "Label=03222-00022 | Mobile<br>Performance Group=Average<br>Weekly Revenue=%{x}<br>Average Order Value=%{y}<extra></extra>",
         "legendgroup": "03222-00022 | Mobile",
         "marker": {
          "color": "#00cc96",
          "opacity": 0.7,
          "size": 10,
          "symbol": "circle"
         },
         "mode": "markers",
         "name": "03222-00022 | Mobile",
         "orientation": "v",
         "showlegend": true,
         "type": "scatter",
         "x": {
          "bdata": "7FG4Hk0M4EA=",
          "dtype": "f8"
         },
         "xaxis": "x",
         "y": {
          "bdata": "MzMzMzMzNEA=",
          "dtype": "f8"
         },
         "yaxis": "y"
        },
        {
         "hovertemplate": "Label=03222-00022 | DoorDash<br>Performance Group=Average<br>Weekly Revenue=%{x}<br>Average Order Value=%{y}<extra></extra>",
         "legendgroup": "03222-00022 | DoorDash",
         "marker": {
          "color": "#ab63fa",
          "opacity": 0.7,
          "size": 10,
          "symbol": "circle"
         },
         "mode": "markers",
         "name": "03222-00022 | DoorDash",
         "orientation": "v",
         "showlegend": true,
         "type": "scatter",
         "x": {
          "bdata": "MzMzM3Nb1EA=",
          "dtype": "f8"
         },
         "xaxis": "x",
         "y": {
          "bdata": "CtejcD3KMkA=",
          "dtype": "f8"
         },
         "yaxis": "y"
        },
        {
         "hovertemplate": "Label=03222-00022 | UberEats<br>Performance Group=Underperformer<br>Weekly Revenue=%{x}<br>Average Order Value=%{y}<extra></extra>",
         "legendgroup": "03222-00022 | UberEats",
         "marker": {
          "color": "#FFA15A",
          "opacity": 0.7,
          "size": 10,
          "symbol": "circle"
         },
         "mode": "markers",
         "name": "03222-00022 | UberEats",
         "orientation": "v",
         "showlegend": true,
         "type": "scatter",
         "x": {
          "bdata": "AAAAAADcgEA=",
          "dtype": "f8"
         },
         "xaxis": "x2",
         "y": {
          "bdata": "rkfhehQuMUA=",
          "dtype": "f8"
         },
         "yaxis": "y2"
        },
        {
         "hovertemplate": "Label=03222-00023 | UberEats<br>Performance Group=Average<br>Weekly Revenue=%{x}<br>Average Order Value=%{y}<extra></extra>",
         "legendgroup": "03222-00023 | UberEats",
         "marker": {
          "color": "#19d3f3",
          "opacity": 0.7,
          "size": 10,
          "symbol": "circle"
         },
         "mode": "markers",
         "name": "03222-00023 | UberEats",
         "orientation": "v",
         "showlegend": true,
         "type": "scatter",
         "x": {
          "bdata": "uB6F61G4SkA=",
          "dtype": "f8"
         },
         "xaxis": "x",
         "y": {
          "bdata": "uB6F61G4OkA=",
          "dtype": "f8"
         },
         "yaxis": "y"
        },
        {
         "hovertemplate": "Label=03222-00023 | Website<br>Performance Group=Average<br>Weekly Revenue=%{x}<br>Average Order Value=%{y}<extra></extra>",
         "legendgroup": "03222-00023 | Website",
         "marker": {
          "color": "#FF6692",
          "opacity": 0.7,
          "size": 10,
          "symbol": "circle"
         },
         "mode": "markers",
         "name": "03222-00023 | Website",
         "orientation": "v",
         "showlegend": true,
         "type": "scatter",
         "x": {
          "bdata": "zczMzPyQ00A=",
          "dtype": "f8"
         },
         "xaxis": "x",
         "y": {
          "bdata": "j8L1KFyPN0A=",
          "dtype": "f8"
         },
         "yaxis": "y"
        },
        {
         "hovertemplate": "Label=03222-00023 | Mobile<br>Performance Group=Average<br>Weekly Revenue=%{x}<br>Average Order Value=%{y}<extra></extra>",
         "legendgroup": "03222-00023 | Mobile",
         "marker": {
          "color": "#B6E880",
          "opacity": 0.7,
          "size": 10,
          "symbol": "circle"
         },
         "mode": "markers",
         "name": "03222-00023 | Mobile",
         "orientation": "v",
         "showlegend": true,
         "type": "scatter",
         "x": {
          "bdata": "UrgehaOS4UA=",
          "dtype": "f8"
         },
         "xaxis": "x",
         "y": {
          "bdata": "XI/C9SgcNkA=",
          "dtype": "f8"
         },
         "yaxis": "y"
        },
        {
         "hovertemplate": "Label=03222-00023 | DoorDash<br>Performance Group=Average<br>Weekly Revenue=%{x}<br>Average Order Value=%{y}<extra></extra>",
         "legendgroup": "03222-00023 | DoorDash",
         "marker": {
          "color": "#FF97FF",
          "opacity": 0.7,
          "size": 10,
          "symbol": "circle"
         },
         "mode": "markers",
         "name": "03222-00023 | DoorDash",
         "orientation": "v",
         "showlegend": true,
         "type": "scatter",
         "x": {
          "bdata": "9ihcj4IKz0A=",
          "dtype": "f8"
         },
         "xaxis": "x",
         "y": {
          "bdata": "XI/C9SgcNEA=",
          "dtype": "f8"
         },
         "yaxis": "y"
        },
        {
         "hovertemplate": "Label=03222-00024 | UberEats<br>Performance Group=Average<br>Weekly Revenue=%{x}<br>Average Order Value=%{y}<extra></extra>",
         "legendgroup": "03222-00024 | UberEats",
         "marker": {
          "color": "#FECB52",
          "opacity": 0.7,
          "size": 10,
          "symbol": "circle"
         },
         "mode": "markers",
         "name": "03222-00024 | UberEats",
         "orientation": "v",
         "showlegend": true,
         "type": "scatter",
         "x": {
          "bdata": "SOF6FK6fmEA=",
          "dtype": "f8"
         },
         "xaxis": "x",
         "y": {
          "bdata": "H4XrUbjeOkA=",
          "dtype": "f8"
         },
         "yaxis": "y"
        },
        {
         "hovertemplate": "Label=03222-00024 | Website<br>Performance Group=Average<br>Weekly Revenue=%{x}<br>Average Order Value=%{y}<extra></extra>",
         "legendgroup": "03222-00024 | Website",
         "marker": {
          "color": "#636efa",
          "opacity": 0.7,
          "size": 10,
          "symbol": "circle"
         },
         "mode": "markers",
         "name": "03222-00024 | Website",
         "orientation": "v",
         "showlegend": true,
         "type": "scatter",
         "x": {
          "bdata": "FK5H4Xp83kA=",
          "dtype": "f8"
         },
         "xaxis": "x",
         "y": {
          "bdata": "uB6F61E4NkA=",
          "dtype": "f8"
         },
         "yaxis": "y"
        },
        {
         "hovertemplate": "Label=03222-00024 | Mobile<br>Performance Group=Average<br>Weekly Revenue=%{x}<br>Average Order Value=%{y}<extra></extra>",
         "legendgroup": "03222-00024 | Mobile",
         "marker": {
          "color": "#EF553B",
          "opacity": 0.7,
          "size": 10,
          "symbol": "circle"
         },
         "mode": "markers",
         "name": "03222-00024 | Mobile",
         "orientation": "v",
         "showlegend": true,
         "type": "scatter",
         "x": {
          "bdata": "ZmZmZi777UA=",
          "dtype": "f8"
         },
         "xaxis": "x",
         "y": {
          "bdata": "7FG4HoVrNEA=",
          "dtype": "f8"
         },
         "yaxis": "y"
        },
        {
         "hovertemplate": "Label=03222-00024 | DoorDash<br>Performance Group=Average<br>Weekly Revenue=%{x}<br>Average Order Value=%{y}<extra></extra>",
         "legendgroup": "03222-00024 | DoorDash",
         "marker": {
          "color": "#00cc96",
          "opacity": 0.7,
          "size": 10,
          "symbol": "circle"
         },
         "mode": "markers",
         "name": "03222-00024 | DoorDash",
         "orientation": "v",
         "showlegend": true,
         "type": "scatter",
         "x": {
          "bdata": "AAAAADCQ0kA=",
          "dtype": "f8"
         },
         "xaxis": "x",
         "y": {
          "bdata": "PQrXo3D9MkA=",
          "dtype": "f8"
         },
         "yaxis": "y"
        },
        {
         "hovertemplate": "Label=03222-00025 | UberEats<br>Performance Group=Average<br>Weekly Revenue=%{x}<br>Average Order Value=%{y}<extra></extra>",
         "legendgroup": "03222-00025 | UberEats",
         "marker": {
          "color": "#ab63fa",
          "opacity": 0.7,
          "size": 10,
          "symbol": "circle"
         },
         "mode": "markers",
         "name": "03222-00025 | UberEats",
         "orientation": "v",
         "showlegend": true,
         "type": "scatter",
         "x": {
          "bdata": "4XoUrkdxe0A=",
          "dtype": "f8"
         },
         "xaxis": "x",
         "y": {
          "bdata": "FK5H4XqUOkA=",
          "dtype": "f8"
         },
         "yaxis": "y"
        },
        {
         "hovertemplate": "Label=03222-00025 | Website<br>Performance Group=Average<br>Weekly Revenue=%{x}<br>Average Order Value=%{y}<extra></extra>",
         "legendgroup": "03222-00025 | Website",
         "marker": {
          "color": "#FFA15A",
          "opacity": 0.7,
          "size": 10,
          "symbol": "circle"
         },
         "mode": "markers",
         "name": "03222-00025 | Website",
         "orientation": "v",
         "showlegend": true,
         "type": "scatter",
         "x": {
          "bdata": "zczMzAySykA=",
          "dtype": "f8"
         },
         "xaxis": "x",
         "y": {
          "bdata": "w/UoXI9CNUA=",
          "dtype": "f8"
         },
         "yaxis": "y"
        },
        {
         "hovertemplate": "Label=03222-00025 | DoorDash<br>Performance Group=Average<br>Weekly Revenue=%{x}<br>Average Order Value=%{y}<extra></extra>",
         "legendgroup": "03222-00025 | DoorDash",
         "marker": {
          "color": "#19d3f3",
          "opacity": 0.7,
          "size": 10,
          "symbol": "circle"
         },
         "mode": "markers",
         "name": "03222-00025 | DoorDash",
         "orientation": "v",
         "showlegend": true,
         "type": "scatter",
         "x": {
          "bdata": "16NwPUojzEA=",
          "dtype": "f8"
         },
         "xaxis": "x",
         "y": {
          "bdata": "CtejcD2KMkA=",
          "dtype": "f8"
         },
         "yaxis": "y"
        },
        {
         "hovertemplate": "Label=03222-00025 | Mobile<br>Performance Group=Average<br>Weekly Revenue=%{x}<br>Average Order Value=%{y}<extra></extra>",
         "legendgroup": "03222-00025 | Mobile",
         "marker": {
          "color": "#FF6692",
          "opacity": 0.7,
          "size": 10,
          "symbol": "circle"
         },
         "mode": "markers",
         "name": "03222-00025 | Mobile",
         "orientation": "v",
         "showlegend": true,
         "type": "scatter",
         "x": {
          "bdata": "j8L1KJxr5kA=",
          "dtype": "f8"
         },
         "xaxis": "x",
         "y": {
          "bdata": "zczMzMxMMkA=",
          "dtype": "f8"
         },
         "yaxis": "y"
        },
        {
         "hovertemplate": "Label=03222-00026 | Website<br>Performance Group=Average<br>Weekly Revenue=%{x}<br>Average Order Value=%{y}<extra></extra>",
         "legendgroup": "03222-00026 | Website",
         "marker": {
          "color": "#B6E880",
          "opacity": 0.7,
          "size": 10,
          "symbol": "circle"
         },
         "mode": "markers",
         "name": "03222-00026 | Website",
         "orientation": "v",
         "showlegend": true,
         "type": "scatter",
         "x": {
          "bdata": "FK5H4YK+7EA=",
          "dtype": "f8"
         },
         "xaxis": "x",
         "y": {
          "bdata": "KVyPwvWoNUA=",
          "dtype": "f8"
         },
         "yaxis": "y"
        },
        {
         "hovertemplate": "Label=03222-00026 | UberEats<br>Performance Group=Average<br>Weekly Revenue=%{x}<br>Average Order Value=%{y}<extra></extra>",
         "legendgroup": "03222-00026 | UberEats",
         "marker": {
          "color": "#FF97FF",
          "opacity": 0.7,
          "size": 10,
          "symbol": "circle"
         },
         "mode": "markers",
         "name": "03222-00026 | UberEats",
         "orientation": "v",
         "showlegend": true,
         "type": "scatter",
         "x": {
          "bdata": "AAAAAEB6sUA=",
          "dtype": "f8"
         },
         "xaxis": "x",
         "y": {
          "bdata": "uB6F61G4M0A=",
          "dtype": "f8"
         },
         "yaxis": "y"
        },
        {
         "hovertemplate": "Label=03222-00026 | Grubhub<br>Performance Group=Underperformer<br>Weekly Revenue=%{x}<br>Average Order Value=%{y}<extra></extra>",
         "legendgroup": "03222-00026 | Grubhub",
         "marker": {
          "color": "#FECB52",
          "opacity": 0.7,
          "size": 10,
          "symbol": "circle"
         },
         "mode": "markers",
         "name": "03222-00026 | Grubhub",
         "orientation": "v",
         "showlegend": true,
         "type": "scatter",
         "x": {
          "bdata": "uB6F61FQfkA=",
          "dtype": "f8"
         },
         "xaxis": "x2",
         "y": {
          "bdata": "j8L1KFwPMkA=",
          "dtype": "f8"
         },
         "yaxis": "y2"
        },
        {
         "hovertemplate": "Label=03222-00026 | DoorDash<br>Performance Group=Average<br>Weekly Revenue=%{x}<br>Average Order Value=%{y}<extra></extra>",
         "legendgroup": "03222-00026 | DoorDash",
         "marker": {
          "color": "#636efa",
          "opacity": 0.7,
          "size": 10,
          "symbol": "circle"
         },
         "mode": "markers",
         "name": "03222-00026 | DoorDash",
         "orientation": "v",
         "showlegend": true,
         "type": "scatter",
         "x": {
          "bdata": "4XoUrjcj4UA=",
          "dtype": "f8"
         },
         "xaxis": "x",
         "y": {
          "bdata": "j8L1KFzPMUA=",
          "dtype": "f8"
         },
         "yaxis": "y"
        },
        {
         "hovertemplate": "Label=03222-00026 | Mobile<br>Performance Group=Average<br>Weekly Revenue=%{x}<br>Average Order Value=%{y}<extra></extra>",
         "legendgroup": "03222-00026 | Mobile",
         "marker": {
          "color": "#EF553B",
          "opacity": 0.7,
          "size": 10,
          "symbol": "circle"
         },
         "mode": "markers",
         "name": "03222-00026 | Mobile",
         "orientation": "v",
         "showlegend": true,
         "type": "scatter",
         "x": {
          "bdata": "uB6F6yGy+UA=",
          "dtype": "f8"
         },
         "xaxis": "x",
         "y": {
          "bdata": "cT0K16NwMUA=",
          "dtype": "f8"
         },
         "yaxis": "y"
        },
        {
         "hovertemplate": "Label=03222-00027 | Website<br>Performance Group=Average<br>Weekly Revenue=%{x}<br>Average Order Value=%{y}<extra></extra>",
         "legendgroup": "03222-00027 | Website",
         "marker": {
          "color": "#00cc96",
          "opacity": 0.7,
          "size": 10,
          "symbol": "circle"
         },
         "mode": "markers",
         "name": "03222-00027 | Website",
         "orientation": "v",
         "showlegend": true,
         "type": "scatter",
         "x": {
          "bdata": "16NwPVIC4UA=",
          "dtype": "f8"
         },
         "xaxis": "x",
         "y": {
          "bdata": "UrgehetRNkA=",
          "dtype": "f8"
         },
         "yaxis": "y"
        },
        {
         "hovertemplate": "Label=03222-00027 | Mobile<br>Performance Group=Average<br>Weekly Revenue=%{x}<br>Average Order Value=%{y}<extra></extra>",
         "legendgroup": "03222-00027 | Mobile",
         "marker": {
          "color": "#ab63fa",
          "opacity": 0.7,
          "size": 10,
          "symbol": "circle"
         },
         "mode": "markers",
         "name": "03222-00027 | Mobile",
         "orientation": "v",
         "showlegend": true,
         "type": "scatter",
         "x": {
          "bdata": "hetRuDaP6kA=",
          "dtype": "f8"
         },
         "xaxis": "x",
         "y": {
          "bdata": "4XoUrkehNUA=",
          "dtype": "f8"
         },
         "yaxis": "y"
        },
        {
         "hovertemplate": "Label=03222-00027 | UberEats<br>Performance Group=Average<br>Weekly Revenue=%{x}<br>Average Order Value=%{y}<extra></extra>",
         "legendgroup": "03222-00027 | UberEats",
         "marker": {
          "color": "#FFA15A",
          "opacity": 0.7,
          "size": 10,
          "symbol": "circle"
         },
         "mode": "markers",
         "name": "03222-00027 | UberEats",
         "orientation": "v",
         "showlegend": true,
         "type": "scatter",
         "x": {
          "bdata": "FK5H4foIxUA=",
          "dtype": "f8"
         },
         "xaxis": "x",
         "y": {
          "bdata": "UrgeheuRNUA=",
          "dtype": "f8"
         },
         "yaxis": "y"
        },
        {
         "hovertemplate": "Label=03222-00027 | DoorDash<br>Performance Group=Average<br>Weekly Revenue=%{x}<br>Average Order Value=%{y}<extra></extra>",
         "legendgroup": "03222-00027 | DoorDash",
         "marker": {
          "color": "#19d3f3",
          "opacity": 0.7,
          "size": 10,
          "symbol": "circle"
         },
         "mode": "markers",
         "name": "03222-00027 | DoorDash",
         "orientation": "v",
         "showlegend": true,
         "type": "scatter",
         "x": {
          "bdata": "w/UoXH9h2EA=",
          "dtype": "f8"
         },
         "xaxis": "x",
         "y": {
          "bdata": "UrgeheuRM0A=",
          "dtype": "f8"
         },
         "yaxis": "y"
        },
        {
         "hovertemplate": "Label=03222-00028 | Grubhub<br>Performance Group=Average<br>Weekly Revenue=%{x}<br>Average Order Value=%{y}<extra></extra>",
         "legendgroup": "03222-00028 | Grubhub",
         "marker": {
          "color": "#FF6692",
          "opacity": 0.7,
          "size": 10,
          "symbol": "circle"
         },
         "mode": "markers",
         "name": "03222-00028 | Grubhub",
         "orientation": "v",
         "showlegend": true,
         "type": "scatter",
         "x": {
          "bdata": "exSuR+Gec0A=",
          "dtype": "f8"
         },
         "xaxis": "x",
         "y": {
          "bdata": "exSuR+EaQkA=",
          "dtype": "f8"
         },
         "yaxis": "y"
        },
        {
         "hovertemplate": "Label=03222-00028 | Website<br>Performance Group=Average<br>Weekly Revenue=%{x}<br>Average Order Value=%{y}<extra></extra>",
         "legendgroup": "03222-00028 | Website",
         "marker": {
          "color": "#B6E880",
          "opacity": 0.7,
          "size": 10,
          "symbol": "circle"
         },
         "mode": "markers",
         "name": "03222-00028 | Website",
         "orientation": "v",
         "showlegend": true,
         "type": "scatter",
         "x": {
          "bdata": "7FG4Hr2d40A=",
          "dtype": "f8"
         },
         "xaxis": "x",
         "y": {
          "bdata": "MzMzMzNzOkA=",
          "dtype": "f8"
         },
         "yaxis": "y"
        },
        {
         "hovertemplate": "Label=03222-00028 | UberEats<br>Performance Group=Average<br>Weekly Revenue=%{x}<br>Average Order Value=%{y}<extra></extra>",
         "legendgroup": "03222-00028 | UberEats",
         "marker": {
          "color": "#FF97FF",
          "opacity": 0.7,
          "size": 10,
          "symbol": "circle"
         },
         "mode": "markers",
         "name": "03222-00028 | UberEats",
         "orientation": "v",
         "showlegend": true,
         "type": "scatter",
         "x": {
          "bdata": "mpmZmdk+wEA=",
          "dtype": "f8"
         },
         "xaxis": "x",
         "y": {
          "bdata": "AAAAAAAAOUA=",
          "dtype": "f8"
         },
         "yaxis": "y"
        },
        {
         "hovertemplate": "Label=03222-00028 | DoorDash<br>Performance Group=Average<br>Weekly Revenue=%{x}<br>Average Order Value=%{y}<extra></extra>",
         "legendgroup": "03222-00028 | DoorDash",
         "marker": {
          "color": "#FECB52",
          "opacity": 0.7,
          "size": 10,
          "symbol": "circle"
         },
         "mode": "markers",
         "name": "03222-00028 | DoorDash",
         "orientation": "v",
         "showlegend": true,
         "type": "scatter",
         "x": {
          "bdata": "rkfheiSB0UA=",
          "dtype": "f8"
         },
         "xaxis": "x",
         "y": {
          "bdata": "AAAAAAAANkA=",
          "dtype": "f8"
         },
         "yaxis": "y"
        },
        {
         "hovertemplate": "Label=03222-00028 | Mobile<br>Performance Group=Average<br>Weekly Revenue=%{x}<br>Average Order Value=%{y}<extra></extra>",
         "legendgroup": "03222-00028 | Mobile",
         "marker": {
          "color": "#636efa",
          "opacity": 0.7,
          "size": 10,
          "symbol": "circle"
         },
         "mode": "markers",
         "name": "03222-00028 | Mobile",
         "orientation": "v",
         "showlegend": true,
         "type": "scatter",
         "x": {
          "bdata": "PQrXo/DarUA=",
          "dtype": "f8"
         },
         "xaxis": "x",
         "y": {
          "bdata": "zczMzMxMNEA=",
          "dtype": "f8"
         },
         "yaxis": "y"
        },
        {
         "hovertemplate": "Label=03222-00032 | UberEats<br>Performance Group=Average<br>Weekly Revenue=%{x}<br>Average Order Value=%{y}<extra></extra>",
         "legendgroup": "03222-00032 | UberEats",
         "marker": {
          "color": "#EF553B",
          "opacity": 0.7,
          "size": 10,
          "symbol": "circle"
         },
         "mode": "markers",
         "name": "03222-00032 | UberEats",
         "orientation": "v",
         "showlegend": true,
         "type": "scatter",
         "x": {
          "bdata": "CtejcD2ir0A=",
          "dtype": "f8"
         },
         "xaxis": "x",
         "y": {
          "bdata": "SOF6FK4HNkA=",
          "dtype": "f8"
         },
         "yaxis": "y"
        },
        {
         "hovertemplate": "Label=03222-00032 | Website<br>Performance Group=Average<br>Weekly Revenue=%{x}<br>Average Order Value=%{y}<extra></extra>",
         "legendgroup": "03222-00032 | Website",
         "marker": {
          "color": "#00cc96",
          "opacity": 0.7,
          "size": 10,
          "symbol": "circle"
         },
         "mode": "markers",
         "name": "03222-00032 | Website",
         "orientation": "v",
         "showlegend": true,
         "type": "scatter",
         "x": {
          "bdata": "mpmZmZmI20A=",
          "dtype": "f8"
         },
         "xaxis": "x",
         "y": {
          "bdata": "XI/C9SgcNUA=",
          "dtype": "f8"
         },
         "yaxis": "y"
        },
        {
         "hovertemplate": "Label=03222-00032 | Grubhub<br>Performance Group=Average<br>Weekly Revenue=%{x}<br>Average Order Value=%{y}<extra></extra>",
         "legendgroup": "03222-00032 | Grubhub",
         "marker": {
          "color": "#ab63fa",
          "opacity": 0.7,
          "size": 10,
          "symbol": "circle"
         },
         "mode": "markers",
         "name": "03222-00032 | Grubhub",
         "orientation": "v",
         "showlegend": true,
         "type": "scatter",
         "x": {
          "bdata": "pHA9CtfLhEA=",
          "dtype": "f8"
         },
         "xaxis": "x",
         "y": {
          "bdata": "exSuR+H6M0A=",
          "dtype": "f8"
         },
         "yaxis": "y"
        },
        {
         "hovertemplate": "Label=03222-00032 | Mobile<br>Performance Group=Average<br>Weekly Revenue=%{x}<br>Average Order Value=%{y}<extra></extra>",
         "legendgroup": "03222-00032 | Mobile",
         "marker": {
          "color": "#FFA15A",
          "opacity": 0.7,
          "size": 10,
          "symbol": "circle"
         },
         "mode": "markers",
         "name": "03222-00032 | Mobile",
         "orientation": "v",
         "showlegend": true,
         "type": "scatter",
         "x": {
          "bdata": "ZmZmZsaZ5EA=",
          "dtype": "f8"
         },
         "xaxis": "x",
         "y": {
          "bdata": "4XoUrkehM0A=",
          "dtype": "f8"
         },
         "yaxis": "y"
        },
        {
         "hovertemplate": "Label=03222-00032 | DoorDash<br>Performance Group=Average<br>Weekly Revenue=%{x}<br>Average Order Value=%{y}<extra></extra>",
         "legendgroup": "03222-00032 | DoorDash",
         "marker": {
          "color": "#19d3f3",
          "opacity": 0.7,
          "size": 10,
          "symbol": "circle"
         },
         "mode": "markers",
         "name": "03222-00032 | DoorDash",
         "orientation": "v",
         "showlegend": true,
         "type": "scatter",
         "x": {
          "bdata": "7FG4HmWYzkA=",
          "dtype": "f8"
         },
         "xaxis": "x",
         "y": {
          "bdata": "zczMzMxMM0A=",
          "dtype": "f8"
         },
         "yaxis": "y"
        },
        {
         "hovertemplate": "Label=03222-00033 | Website<br>Performance Group=Average<br>Weekly Revenue=%{x}<br>Average Order Value=%{y}<extra></extra>",
         "legendgroup": "03222-00033 | Website",
         "marker": {
          "color": "#FF6692",
          "opacity": 0.7,
          "size": 10,
          "symbol": "circle"
         },
         "mode": "markers",
         "name": "03222-00033 | Website",
         "orientation": "v",
         "showlegend": true,
         "type": "scatter",
         "x": {
          "bdata": "cT0K1zNI3kA=",
          "dtype": "f8"
         },
         "xaxis": "x",
         "y": {
          "bdata": "pHA9CtdjOEA=",
          "dtype": "f8"
         },
         "yaxis": "y"
        },
        {
         "hovertemplate": "Label=03222-00033 | Grubhub<br>Performance Group=Average<br>Weekly Revenue=%{x}<br>Average Order Value=%{y}<extra></extra>",
         "legendgroup": "03222-00033 | Grubhub",
         "marker": {
          "color": "#B6E880",
          "opacity": 0.7,
          "size": 10,
          "symbol": "circle"
         },
         "mode": "markers",
         "name": "03222-00033 | Grubhub",
         "orientation": "v",
         "showlegend": true,
         "type": "scatter",
         "x": {
          "bdata": "9ihcj8KlfUA=",
          "dtype": "f8"
         },
         "xaxis": "x",
         "y": {
          "bdata": "cT0K16MwOEA=",
          "dtype": "f8"
         },
         "yaxis": "y"
        },
        {
         "hovertemplate": "Label=03222-00033 | UberEats<br>Performance Group=Average<br>Weekly Revenue=%{x}<br>Average Order Value=%{y}<extra></extra>",
         "legendgroup": "03222-00033 | UberEats",
         "marker": {
          "color": "#FF97FF",
          "opacity": 0.7,
          "size": 10,
          "symbol": "circle"
         },
         "mode": "markers",
         "name": "03222-00033 | UberEats",
         "orientation": "v",
         "showlegend": true,
         "type": "scatter",
         "x": {
          "bdata": "16NwPUrjsEA=",
          "dtype": "f8"
         },
         "xaxis": "x",
         "y": {
          "bdata": "mpmZmZlZNkA=",
          "dtype": "f8"
         },
         "yaxis": "y"
        },
        {
         "hovertemplate": "Label=03222-00033 | Mobile<br>Performance Group=Average<br>Weekly Revenue=%{x}<br>Average Order Value=%{y}<extra></extra>",
         "legendgroup": "03222-00033 | Mobile",
         "marker": {
          "color": "#FECB52",
          "opacity": 0.7,
          "size": 10,
          "symbol": "circle"
         },
         "mode": "markers",
         "name": "03222-00033 | Mobile",
         "orientation": "v",
         "showlegend": true,
         "type": "scatter",
         "x": {
          "bdata": "UrgehRM/5UA=",
          "dtype": "f8"
         },
         "xaxis": "x",
         "y": {
          "bdata": "ZmZmZmZmNUA=",
          "dtype": "f8"
         },
         "yaxis": "y"
        },
        {
         "hovertemplate": "Label=03222-00033 | DoorDash<br>Performance Group=Average<br>Weekly Revenue=%{x}<br>Average Order Value=%{y}<extra></extra>",
         "legendgroup": "03222-00033 | DoorDash",
         "marker": {
          "color": "#636efa",
          "opacity": 0.7,
          "size": 10,
          "symbol": "circle"
         },
         "mode": "markers",
         "name": "03222-00033 | DoorDash",
         "orientation": "v",
         "showlegend": true,
         "type": "scatter",
         "x": {
          "bdata": "exSuRzFD10A=",
          "dtype": "f8"
         },
         "xaxis": "x",
         "y": {
          "bdata": "KVyPwvUoNEA=",
          "dtype": "f8"
         },
         "yaxis": "y"
        },
        {
         "hovertemplate": "Label=03222-00034 | UberEats<br>Performance Group=Average<br>Weekly Revenue=%{x}<br>Average Order Value=%{y}<extra></extra>",
         "legendgroup": "03222-00034 | UberEats",
         "marker": {
          "color": "#EF553B",
          "opacity": 0.7,
          "size": 10,
          "symbol": "circle"
         },
         "mode": "markers",
         "name": "03222-00034 | UberEats",
         "orientation": "v",
         "showlegend": true,
         "type": "scatter",
         "x": {
          "bdata": "4XoUrkd2wEA=",
          "dtype": "f8"
         },
         "xaxis": "x",
         "y": {
          "bdata": "16NwPQrXNUA=",
          "dtype": "f8"
         },
         "yaxis": "y"
        },
        {
         "hovertemplate": "Label=03222-00034 | Website<br>Performance Group=Average<br>Weekly Revenue=%{x}<br>Average Order Value=%{y}<extra></extra>",
         "legendgroup": "03222-00034 | Website",
         "marker": {
          "color": "#00cc96",
          "opacity": 0.7,
          "size": 10,
          "symbol": "circle"
         },
         "mode": "markers",
         "name": "03222-00034 | Website",
         "orientation": "v",
         "showlegend": true,
         "type": "scatter",
         "x": {
          "bdata": "9ihcjyqZ6EA=",
          "dtype": "f8"
         },
         "xaxis": "x",
         "y": {
          "bdata": "4XoUrkehNUA=",
          "dtype": "f8"
         },
         "yaxis": "y"
        },
        {
         "hovertemplate": "Label=03222-00034 | Mobile<br>Performance Group=Average<br>Weekly Revenue=%{x}<br>Average Order Value=%{y}<extra></extra>",
         "legendgroup": "03222-00034 | Mobile",
         "marker": {
          "color": "#ab63fa",
          "opacity": 0.7,
          "size": 10,
          "symbol": "circle"
         },
         "mode": "markers",
         "name": "03222-00034 | Mobile",
         "orientation": "v",
         "showlegend": true,
         "type": "scatter",
         "x": {
          "bdata": "4XoUrm9u80A=",
          "dtype": "f8"
         },
         "xaxis": "x",
         "y": {
          "bdata": "9ihcj8L1M0A=",
          "dtype": "f8"
         },
         "yaxis": "y"
        },
        {
         "hovertemplate": "Label=03222-00034 | DoorDash<br>Performance Group=Average<br>Weekly Revenue=%{x}<br>Average Order Value=%{y}<extra></extra>",
         "legendgroup": "03222-00034 | DoorDash",
         "marker": {
          "color": "#FFA15A",
          "opacity": 0.7,
          "size": 10,
          "symbol": "circle"
         },
         "mode": "markers",
         "name": "03222-00034 | DoorDash",
         "orientation": "v",
         "showlegend": true,
         "type": "scatter",
         "x": {
          "bdata": "16NwPZIf4kA=",
          "dtype": "f8"
         },
         "xaxis": "x",
         "y": {
          "bdata": "4XoUrkdhM0A=",
          "dtype": "f8"
         },
         "yaxis": "y"
        },
        {
         "hovertemplate": "Label=03222-00034 | Grubhub<br>Performance Group=Underperformer<br>Weekly Revenue=%{x}<br>Average Order Value=%{y}<extra></extra>",
         "legendgroup": "03222-00034 | Grubhub",
         "marker": {
          "color": "#19d3f3",
          "opacity": 0.7,
          "size": 10,
          "symbol": "circle"
         },
         "mode": "markers",
         "name": "03222-00034 | Grubhub",
         "orientation": "v",
         "showlegend": true,
         "type": "scatter",
         "x": {
          "bdata": "rkfhehSajEA=",
          "dtype": "f8"
         },
         "xaxis": "x2",
         "y": {
          "bdata": "XI/C9SicMkA=",
          "dtype": "f8"
         },
         "yaxis": "y2"
        },
        {
         "hovertemplate": "Label=03222-00035 | Grubhub<br>Performance Group=Average<br>Weekly Revenue=%{x}<br>Average Order Value=%{y}<extra></extra>",
         "legendgroup": "03222-00035 | Grubhub",
         "marker": {
          "color": "#FF6692",
          "opacity": 0.7,
          "size": 10,
          "symbol": "circle"
         },
         "mode": "markers",
         "name": "03222-00035 | Grubhub",
         "orientation": "v",
         "showlegend": true,
         "type": "scatter",
         "x": {
          "bdata": "FK5H4XpUc0A=",
          "dtype": "f8"
         },
         "xaxis": "x",
         "y": {
          "bdata": "exSuR+F6OUA=",
          "dtype": "f8"
         },
         "yaxis": "y"
        },
        {
         "hovertemplate": "Label=03222-00035 | Website<br>Performance Group=Average<br>Weekly Revenue=%{x}<br>Average Order Value=%{y}<extra></extra>",
         "legendgroup": "03222-00035 | Website",
         "marker": {
          "color": "#B6E880",
          "opacity": 0.7,
          "size": 10,
          "symbol": "circle"
         },
         "mode": "markers",
         "name": "03222-00035 | Website",
         "orientation": "v",
         "showlegend": true,
         "type": "scatter",
         "x": {
          "bdata": "hetRuC5b4EA=",
          "dtype": "f8"
         },
         "xaxis": "x",
         "y": {
          "bdata": "CtejcD2KNkA=",
          "dtype": "f8"
         },
         "yaxis": "y"
        },
        {
         "hovertemplate": "Label=03222-00035 | Mobile<br>Performance Group=Average<br>Weekly Revenue=%{x}<br>Average Order Value=%{y}<extra></extra>",
         "legendgroup": "03222-00035 | Mobile",
         "marker": {
          "color": "#FF97FF",
          "opacity": 0.7,
          "size": 10,
          "symbol": "circle"
         },
         "mode": "markers",
         "name": "03222-00035 | Mobile",
         "orientation": "v",
         "showlegend": true,
         "type": "scatter",
         "x": {
          "bdata": "PQrXo1Ag6EA=",
          "dtype": "f8"
         },
         "xaxis": "x",
         "y": {
          "bdata": "AAAAAABANUA=",
          "dtype": "f8"
         },
         "yaxis": "y"
        },
        {
         "hovertemplate": "Label=03222-00035 | UberEats<br>Performance Group=Average<br>Weekly Revenue=%{x}<br>Average Order Value=%{y}<extra></extra>",
         "legendgroup": "03222-00035 | UberEats",
         "marker": {
          "color": "#FECB52",
          "opacity": 0.7,
          "size": 10,
          "symbol": "circle"
         },
         "mode": "markers",
         "name": "03222-00035 | UberEats",
         "orientation": "v",
         "showlegend": true,
         "type": "scatter",
         "x": {
          "bdata": "j8L1KFwVpEA=",
          "dtype": "f8"
         },
         "xaxis": "x",
         "y": {
          "bdata": "4XoUrkchNEA=",
          "dtype": "f8"
         },
         "yaxis": "y"
        },
        {
         "hovertemplate": "Label=03222-00035 | DoorDash<br>Performance Group=Average<br>Weekly Revenue=%{x}<br>Average Order Value=%{y}<extra></extra>",
         "legendgroup": "03222-00035 | DoorDash",
         "marker": {
          "color": "#636efa",
          "opacity": 0.7,
          "size": 10,
          "symbol": "circle"
         },
         "mode": "markers",
         "name": "03222-00035 | DoorDash",
         "orientation": "v",
         "showlegend": true,
         "type": "scatter",
         "x": {
          "bdata": "MzMzM5Nq1kA=",
          "dtype": "f8"
         },
         "xaxis": "x",
         "y": {
          "bdata": "AAAAAAAANEA=",
          "dtype": "f8"
         },
         "yaxis": "y"
        },
        {
         "hovertemplate": "Label=03222-00036 | Grubhub<br>Performance Group=Average<br>Weekly Revenue=%{x}<br>Average Order Value=%{y}<extra></extra>",
         "legendgroup": "03222-00036 | Grubhub",
         "marker": {
          "color": "#EF553B",
          "opacity": 0.7,
          "size": 10,
          "symbol": "circle"
         },
         "mode": "markers",
         "name": "03222-00036 | Grubhub",
         "orientation": "v",
         "showlegend": true,
         "type": "scatter",
         "x": {
          "bdata": "ZmZmZmZvlkA=",
          "dtype": "f8"
         },
         "xaxis": "x",
         "y": {
          "bdata": "mpmZmZkZNkA=",
          "dtype": "f8"
         },
         "yaxis": "y"
        },
        {
         "hovertemplate": "Label=03222-00036 | UberEats<br>Performance Group=Average<br>Weekly Revenue=%{x}<br>Average Order Value=%{y}<extra></extra>",
         "legendgroup": "03222-00036 | UberEats",
         "marker": {
          "color": "#00cc96",
          "opacity": 0.7,
          "size": 10,
          "symbol": "circle"
         },
         "mode": "markers",
         "name": "03222-00036 | UberEats",
         "orientation": "v",
         "showlegend": true,
         "type": "scatter",
         "x": {
          "bdata": "H4XrUTj0yUA=",
          "dtype": "f8"
         },
         "xaxis": "x",
         "y": {
          "bdata": "j8L1KFzPNEA=",
          "dtype": "f8"
         },
         "yaxis": "y"
        },
        {
         "hovertemplate": "Label=03222-00036 | Website<br>Performance Group=Average<br>Weekly Revenue=%{x}<br>Average Order Value=%{y}<extra></extra>",
         "legendgroup": "03222-00036 | Website",
         "marker": {
          "color": "#ab63fa",
          "opacity": 0.7,
          "size": 10,
          "symbol": "circle"
         },
         "mode": "markers",
         "name": "03222-00036 | Website",
         "orientation": "v",
         "showlegend": true,
         "type": "scatter",
         "x": {
          "bdata": "exSuR1mC6UA=",
          "dtype": "f8"
         },
         "xaxis": "x",
         "y": {
          "bdata": "FK5H4XrUM0A=",
          "dtype": "f8"
         },
         "yaxis": "y"
        },
        {
         "hovertemplate": "Label=03222-00036 | Mobile<br>Performance Group=Average<br>Weekly Revenue=%{x}<br>Average Order Value=%{y}<extra></extra>",
         "legendgroup": "03222-00036 | Mobile",
         "marker": {
          "color": "#FFA15A",
          "opacity": 0.7,
          "size": 10,
          "symbol": "circle"
         },
         "mode": "markers",
         "name": "03222-00036 | Mobile",
         "orientation": "v",
         "showlegend": true,
         "type": "scatter",
         "x": {
          "bdata": "ZmZmZmJ4+UA=",
          "dtype": "f8"
         },
         "xaxis": "x",
         "y": {
          "bdata": "7FG4HoWrM0A=",
          "dtype": "f8"
         },
         "yaxis": "y"
        },
        {
         "hovertemplate": "Label=03222-00036 | DoorDash<br>Performance Group=Average<br>Weekly Revenue=%{x}<br>Average Order Value=%{y}<extra></extra>",
         "legendgroup": "03222-00036 | DoorDash",
         "marker": {
          "color": "#19d3f3",
          "opacity": 0.7,
          "size": 10,
          "symbol": "circle"
         },
         "mode": "markers",
         "name": "03222-00036 | DoorDash",
         "orientation": "v",
         "showlegend": true,
         "type": "scatter",
         "x": {
          "bdata": "exSuR7m25UA=",
          "dtype": "f8"
         },
         "xaxis": "x",
         "y": {
          "bdata": "XI/C9SgcM0A=",
          "dtype": "f8"
         },
         "yaxis": "y"
        },
        {
         "hovertemplate": "Label=03222-00038 | UberEats<br>Performance Group=Average<br>Weekly Revenue=%{x}<br>Average Order Value=%{y}<extra></extra>",
         "legendgroup": "03222-00038 | UberEats",
         "marker": {
          "color": "#FF6692",
          "opacity": 0.7,
          "size": 10,
          "symbol": "circle"
         },
         "mode": "markers",
         "name": "03222-00038 | UberEats",
         "orientation": "v",
         "showlegend": true,
         "type": "scatter",
         "x": {
          "bdata": "ZmZmZta61kA=",
          "dtype": "f8"
         },
         "xaxis": "x",
         "y": {
          "bdata": "AAAAAACANEA=",
          "dtype": "f8"
         },
         "yaxis": "y"
        },
        {
         "hovertemplate": "Label=03222-00038 | Website<br>Performance Group=Average<br>Weekly Revenue=%{x}<br>Average Order Value=%{y}<extra></extra>",
         "legendgroup": "03222-00038 | Website",
         "marker": {
          "color": "#B6E880",
          "opacity": 0.7,
          "size": 10,
          "symbol": "circle"
         },
         "mode": "markers",
         "name": "03222-00038 | Website",
         "orientation": "v",
         "showlegend": true,
         "type": "scatter",
         "x": {
          "bdata": "hetRuN7H4kA=",
          "dtype": "f8"
         },
         "xaxis": "x",
         "y": {
          "bdata": "MzMzMzPzM0A=",
          "dtype": "f8"
         },
         "yaxis": "y"
        },
        {
         "hovertemplate": "Label=03222-00038 | Mobile<br>Performance Group=Average<br>Weekly Revenue=%{x}<br>Average Order Value=%{y}<extra></extra>",
         "legendgroup": "03222-00038 | Mobile",
         "marker": {
          "color": "#FF97FF",
          "opacity": 0.7,
          "size": 10,
          "symbol": "circle"
         },
         "mode": "markers",
         "name": "03222-00038 | Mobile",
         "orientation": "v",
         "showlegend": true,
         "type": "scatter",
         "x": {
          "bdata": "MzMzM2MI8kA=",
          "dtype": "f8"
         },
         "xaxis": "x",
         "y": {
          "bdata": "uB6F61E4M0A=",
          "dtype": "f8"
         },
         "yaxis": "y"
        },
        {
         "hovertemplate": "Label=03222-00038 | Grubhub<br>Performance Group=Underperformer<br>Weekly Revenue=%{x}<br>Average Order Value=%{y}<extra></extra>",
         "legendgroup": "03222-00038 | Grubhub",
         "marker": {
          "color": "#FECB52",
          "opacity": 0.7,
          "size": 10,
          "symbol": "circle"
         },
         "mode": "markers",
         "name": "03222-00038 | Grubhub",
         "orientation": "v",
         "showlegend": true,
         "type": "scatter",
         "x": {
          "bdata": "exSuR+GslUA=",
          "dtype": "f8"
         },
         "xaxis": "x2",
         "y": {
          "bdata": "7FG4HoXrMkA=",
          "dtype": "f8"
         },
         "yaxis": "y2"
        },
        {
         "hovertemplate": "Label=03222-00038 | DoorDash<br>Performance Group=Average<br>Weekly Revenue=%{x}<br>Average Order Value=%{y}<extra></extra>",
         "legendgroup": "03222-00038 | DoorDash",
         "marker": {
          "color": "#636efa",
          "opacity": 0.7,
          "size": 10,
          "symbol": "circle"
         },
         "mode": "markers",
         "name": "03222-00038 | DoorDash",
         "orientation": "v",
         "showlegend": true,
         "type": "scatter",
         "x": {
          "bdata": "zczMzGTs6kA=",
          "dtype": "f8"
         },
         "xaxis": "x",
         "y": {
          "bdata": "cT0K16OwMkA=",
          "dtype": "f8"
         },
         "yaxis": "y"
        },
        {
         "hovertemplate": "Label=03222-00039 | UberEats<br>Performance Group=Average<br>Weekly Revenue=%{x}<br>Average Order Value=%{y}<extra></extra>",
         "legendgroup": "03222-00039 | UberEats",
         "marker": {
          "color": "#EF553B",
          "opacity": 0.7,
          "size": 10,
          "symbol": "circle"
         },
         "mode": "markers",
         "name": "03222-00039 | UberEats",
         "orientation": "v",
         "showlegend": true,
         "type": "scatter",
         "x": {
          "bdata": "uB6F61HBnEA=",
          "dtype": "f8"
         },
         "xaxis": "x",
         "y": {
          "bdata": "j8L1KFxPPEA=",
          "dtype": "f8"
         },
         "yaxis": "y"
        },
        {
         "hovertemplate": "Label=03222-00039 | Website<br>Performance Group=Average<br>Weekly Revenue=%{x}<br>Average Order Value=%{y}<extra></extra>",
         "legendgroup": "03222-00039 | Website",
         "marker": {
          "color": "#00cc96",
          "opacity": 0.7,
          "size": 10,
          "symbol": "circle"
         },
         "mode": "markers",
         "name": "03222-00039 | Website",
         "orientation": "v",
         "showlegend": true,
         "type": "scatter",
         "x": {
          "bdata": "uB6F63G91EA=",
          "dtype": "f8"
         },
         "xaxis": "x",
         "y": {
          "bdata": "zczMzMwMOEA=",
          "dtype": "f8"
         },
         "yaxis": "y"
        },
        {
         "hovertemplate": "Label=03222-00039 | Grubhub<br>Performance Group=Average<br>Weekly Revenue=%{x}<br>Average Order Value=%{y}<extra></extra>",
         "legendgroup": "03222-00039 | Grubhub",
         "marker": {
          "color": "#ab63fa",
          "opacity": 0.7,
          "size": 10,
          "symbol": "circle"
         },
         "mode": "markers",
         "name": "03222-00039 | Grubhub",
         "orientation": "v",
         "showlegend": true,
         "type": "scatter",
         "x": {
          "bdata": "PQrXo3DxdUA=",
          "dtype": "f8"
         },
         "xaxis": "x",
         "y": {
          "bdata": "SOF6FK5HNkA=",
          "dtype": "f8"
         },
         "yaxis": "y"
        },
        {
         "hovertemplate": "Label=03222-00039 | DoorDash<br>Performance Group=Average<br>Weekly Revenue=%{x}<br>Average Order Value=%{y}<extra></extra>",
         "legendgroup": "03222-00039 | DoorDash",
         "marker": {
          "color": "#FFA15A",
          "opacity": 0.7,
          "size": 10,
          "symbol": "circle"
         },
         "mode": "markers",
         "name": "03222-00039 | DoorDash",
         "orientation": "v",
         "showlegend": true,
         "type": "scatter",
         "x": {
          "bdata": "ZmZmZgZjyEA=",
          "dtype": "f8"
         },
         "xaxis": "x",
         "y": {
          "bdata": "9ihcj8J1NUA=",
          "dtype": "f8"
         },
         "yaxis": "y"
        },
        {
         "hovertemplate": "Label=03222-00039 | Mobile<br>Performance Group=Average<br>Weekly Revenue=%{x}<br>Average Order Value=%{y}<extra></extra>",
         "legendgroup": "03222-00039 | Mobile",
         "marker": {
          "color": "#19d3f3",
          "opacity": 0.7,
          "size": 10,
          "symbol": "circle"
         },
         "mode": "markers",
         "name": "03222-00039 | Mobile",
         "orientation": "v",
         "showlegend": true,
         "type": "scatter",
         "x": {
          "bdata": "j8L1KMy/3UA=",
          "dtype": "f8"
         },
         "xaxis": "x",
         "y": {
          "bdata": "cT0K16PwNEA=",
          "dtype": "f8"
         },
         "yaxis": "y"
        },
        {
         "hovertemplate": "Label=03222-00043 | Website<br>Performance Group=Average<br>Weekly Revenue=%{x}<br>Average Order Value=%{y}<extra></extra>",
         "legendgroup": "03222-00043 | Website",
         "marker": {
          "color": "#FF6692",
          "opacity": 0.7,
          "size": 10,
          "symbol": "circle"
         },
         "mode": "markers",
         "name": "03222-00043 | Website",
         "orientation": "v",
         "showlegend": true,
         "type": "scatter",
         "x": {
          "bdata": "XI/C9dgS4UA=",
          "dtype": "f8"
         },
         "xaxis": "x",
         "y": {
          "bdata": "MzMzMzOzNEA=",
          "dtype": "f8"
         },
         "yaxis": "y"
        },
        {
         "hovertemplate": "Label=03222-00043 | UberEats<br>Performance Group=Average<br>Weekly Revenue=%{x}<br>Average Order Value=%{y}<extra></extra>",
         "legendgroup": "03222-00043 | UberEats",
         "marker": {
          "color": "#B6E880",
          "opacity": 0.7,
          "size": 10,
          "symbol": "circle"
         },
         "mode": "markers",
         "name": "03222-00043 | UberEats",
         "orientation": "v",
         "showlegend": true,
         "type": "scatter",
         "x": {
          "bdata": "ZmZmZmZ7qEA=",
          "dtype": "f8"
         },
         "xaxis": "x",
         "y": {
          "bdata": "4XoUrkdhNEA=",
          "dtype": "f8"
         },
         "yaxis": "y"
        },
        {
         "hovertemplate": "Label=03222-00043 | Grubhub<br>Performance Group=Underperformer<br>Weekly Revenue=%{x}<br>Average Order Value=%{y}<extra></extra>",
         "legendgroup": "03222-00043 | Grubhub",
         "marker": {
          "color": "#FF97FF",
          "opacity": 0.7,
          "size": 10,
          "symbol": "circle"
         },
         "mode": "markers",
         "name": "03222-00043 | Grubhub",
         "orientation": "v",
         "showlegend": true,
         "type": "scatter",
         "x": {
          "bdata": "AAAAAAAUk0A=",
          "dtype": "f8"
         },
         "xaxis": "x2",
         "y": {
          "bdata": "zczMzMzMMkA=",
          "dtype": "f8"
         },
         "yaxis": "y2"
        },
        {
         "hovertemplate": "Label=03222-00043 | DoorDash<br>Performance Group=Average<br>Weekly Revenue=%{x}<br>Average Order Value=%{y}<extra></extra>",
         "legendgroup": "03222-00043 | DoorDash",
         "marker": {
          "color": "#FECB52",
          "opacity": 0.7,
          "size": 10,
          "symbol": "circle"
         },
         "mode": "markers",
         "name": "03222-00043 | DoorDash",
         "orientation": "v",
         "showlegend": true,
         "type": "scatter",
         "x": {
          "bdata": "cT0K19MN0UA=",
          "dtype": "f8"
         },
         "xaxis": "x",
         "y": {
          "bdata": "ZmZmZmamMkA=",
          "dtype": "f8"
         },
         "yaxis": "y"
        },
        {
         "hovertemplate": "Label=03222-00043 | Mobile<br>Performance Group=Average<br>Weekly Revenue=%{x}<br>Average Order Value=%{y}<extra></extra>",
         "legendgroup": "03222-00043 | Mobile",
         "marker": {
          "color": "#636efa",
          "opacity": 0.7,
          "size": 10,
          "symbol": "circle"
         },
         "mode": "markers",
         "name": "03222-00043 | Mobile",
         "orientation": "v",
         "showlegend": true,
         "type": "scatter",
         "x": {
          "bdata": "exSuR3mx7UA=",
          "dtype": "f8"
         },
         "xaxis": "x",
         "y": {
          "bdata": "7FG4HoUrMkA=",
          "dtype": "f8"
         },
         "yaxis": "y"
        },
        {
         "hovertemplate": "Label=03222-00044 | Grubhub<br>Performance Group=Average<br>Weekly Revenue=%{x}<br>Average Order Value=%{y}<extra></extra>",
         "legendgroup": "03222-00044 | Grubhub",
         "marker": {
          "color": "#EF553B",
          "opacity": 0.7,
          "size": 10,
          "symbol": "circle"
         },
         "mode": "markers",
         "name": "03222-00044 | Grubhub",
         "orientation": "v",
         "showlegend": true,
         "type": "scatter",
         "x": {
          "bdata": "4XoUrkfPhEA=",
          "dtype": "f8"
         },
         "xaxis": "x",
         "y": {
          "bdata": "exSuR+E6OUA=",
          "dtype": "f8"
         },
         "yaxis": "y"
        },
        {
         "hovertemplate": "Label=03222-00044 | Website<br>Performance Group=Average<br>Weekly Revenue=%{x}<br>Average Order Value=%{y}<extra></extra>",
         "legendgroup": "03222-00044 | Website",
         "marker": {
          "color": "#00cc96",
          "opacity": 0.7,
          "size": 10,
          "symbol": "circle"
         },
         "mode": "markers",
         "name": "03222-00044 | Website",
         "orientation": "v",
         "showlegend": true,
         "type": "scatter",
         "x": {
          "bdata": "H4XrUTia20A=",
          "dtype": "f8"
         },
         "xaxis": "x",
         "y": {
          "bdata": "H4XrUbjeNUA=",
          "dtype": "f8"
         },
         "yaxis": "y"
        },
        {
         "hovertemplate": "Label=03222-00044 | UberEats<br>Performance Group=Average<br>Weekly Revenue=%{x}<br>Average Order Value=%{y}<extra></extra>",
         "legendgroup": "03222-00044 | UberEats",
         "marker": {
          "color": "#ab63fa",
          "opacity": 0.7,
          "size": 10,
          "symbol": "circle"
         },
         "mode": "markers",
         "name": "03222-00044 | UberEats",
         "orientation": "v",
         "showlegend": true,
         "type": "scatter",
         "x": {
          "bdata": "16NwPQrJlEA=",
          "dtype": "f8"
         },
         "xaxis": "x",
         "y": {
          "bdata": "MzMzMzMzNUA=",
          "dtype": "f8"
         },
         "yaxis": "y"
        },
        {
         "hovertemplate": "Label=03222-00044 | DoorDash<br>Performance Group=Average<br>Weekly Revenue=%{x}<br>Average Order Value=%{y}<extra></extra>",
         "legendgroup": "03222-00044 | DoorDash",
         "marker": {
          "color": "#FFA15A",
          "opacity": 0.7,
          "size": 10,
          "symbol": "circle"
         },
         "mode": "markers",
         "name": "03222-00044 | DoorDash",
         "orientation": "v",
         "showlegend": true,
         "type": "scatter",
         "x": {
          "bdata": "mpmZmZnRw0A=",
          "dtype": "f8"
         },
         "xaxis": "x",
         "y": {
          "bdata": "cT0K16PwM0A=",
          "dtype": "f8"
         },
         "yaxis": "y"
        },
        {
         "hovertemplate": "Label=03222-00044 | Mobile<br>Performance Group=Average<br>Weekly Revenue=%{x}<br>Average Order Value=%{y}<extra></extra>",
         "legendgroup": "03222-00044 | Mobile",
         "marker": {
          "color": "#19d3f3",
          "opacity": 0.7,
          "size": 10,
          "symbol": "circle"
         },
         "mode": "markers",
         "name": "03222-00044 | Mobile",
         "orientation": "v",
         "showlegend": true,
         "type": "scatter",
         "x": {
          "bdata": "7FG4Hp1f6EA=",
          "dtype": "f8"
         },
         "xaxis": "x",
         "y": {
          "bdata": "uB6F61G4M0A=",
          "dtype": "f8"
         },
         "yaxis": "y"
        },
        {
         "hovertemplate": "Label=03222-00045 | Grubhub<br>Performance Group=Average<br>Weekly Revenue=%{x}<br>Average Order Value=%{y}<extra></extra>",
         "legendgroup": "03222-00045 | Grubhub",
         "marker": {
          "color": "#FF6692",
          "opacity": 0.7,
          "size": 10,
          "symbol": "circle"
         },
         "mode": "markers",
         "name": "03222-00045 | Grubhub",
         "orientation": "v",
         "showlegend": true,
         "type": "scatter",
         "x": {
          "bdata": "9ihcj8Imk0A=",
          "dtype": "f8"
         },
         "xaxis": "x",
         "y": {
          "bdata": "KVyPwvXoN0A=",
          "dtype": "f8"
         },
         "yaxis": "y"
        },
        {
         "hovertemplate": "Label=03222-00045 | Website<br>Performance Group=Average<br>Weekly Revenue=%{x}<br>Average Order Value=%{y}<extra></extra>",
         "legendgroup": "03222-00045 | Website",
         "marker": {
          "color": "#B6E880",
          "opacity": 0.7,
          "size": 10,
          "symbol": "circle"
         },
         "mode": "markers",
         "name": "03222-00045 | Website",
         "orientation": "v",
         "showlegend": true,
         "type": "scatter",
         "x": {
          "bdata": "pHA9Cif45kA=",
          "dtype": "f8"
         },
         "xaxis": "x",
         "y": {
          "bdata": "w/UoXI9CNUA=",
          "dtype": "f8"
         },
         "yaxis": "y"
        },
        {
         "hovertemplate": "Label=03222-00045 | UberEats<br>Performance Group=Average<br>Weekly Revenue=%{x}<br>Average Order Value=%{y}<extra></extra>",
         "legendgroup": "03222-00045 | UberEats",
         "marker": {
          "color": "#FF97FF",
          "opacity": 0.7,
          "size": 10,
          "symbol": "circle"
         },
         "mode": "markers",
         "name": "03222-00045 | UberEats",
         "orientation": "v",
         "showlegend": true,
         "type": "scatter",
         "x": {
          "bdata": "pHA9Ctf6n0A=",
          "dtype": "f8"
         },
         "xaxis": "x",
         "y": {
          "bdata": "w/UoXI9CNEA=",
          "dtype": "f8"
         },
         "yaxis": "y"
        },
        {
         "hovertemplate": "Label=03222-00045 | DoorDash<br>Performance Group=Average<br>Weekly Revenue=%{x}<br>Average Order Value=%{y}<extra></extra>",
         "legendgroup": "03222-00045 | DoorDash",
         "marker": {
          "color": "#FECB52",
          "opacity": 0.7,
          "size": 10,
          "symbol": "circle"
         },
         "mode": "markers",
         "name": "03222-00045 | DoorDash",
         "orientation": "v",
         "showlegend": true,
         "type": "scatter",
         "x": {
          "bdata": "MzMzMxOsz0A=",
          "dtype": "f8"
         },
         "xaxis": "x",
         "y": {
          "bdata": "pHA9CtejM0A=",
          "dtype": "f8"
         },
         "yaxis": "y"
        },
        {
         "hovertemplate": "Label=03222-00045 | Mobile<br>Performance Group=Average<br>Weekly Revenue=%{x}<br>Average Order Value=%{y}<extra></extra>",
         "legendgroup": "03222-00045 | Mobile",
         "marker": {
          "color": "#636efa",
          "opacity": 0.7,
          "size": 10,
          "symbol": "circle"
         },
         "mode": "markers",
         "name": "03222-00045 | Mobile",
         "orientation": "v",
         "showlegend": true,
         "type": "scatter",
         "x": {
          "bdata": "mpmZmSGn8UA=",
          "dtype": "f8"
         },
         "xaxis": "x",
         "y": {
          "bdata": "MzMzMzNzM0A=",
          "dtype": "f8"
         },
         "yaxis": "y"
        },
        {
         "hovertemplate": "Label=03222-00046 | Grubhub<br>Performance Group=Average<br>Weekly Revenue=%{x}<br>Average Order Value=%{y}<extra></extra>",
         "legendgroup": "03222-00046 | Grubhub",
         "marker": {
          "color": "#EF553B",
          "opacity": 0.7,
          "size": 10,
          "symbol": "circle"
         },
         "mode": "markers",
         "name": "03222-00046 | Grubhub",
         "orientation": "v",
         "showlegend": true,
         "type": "scatter",
         "x": {
          "bdata": "9ihcj8IYkUA=",
          "dtype": "f8"
         },
         "xaxis": "x",
         "y": {
          "bdata": "FK5H4XrUOUA=",
          "dtype": "f8"
         },
         "yaxis": "y"
        },
        {
         "hovertemplate": "Label=03222-00046 | UberEats<br>Performance Group=Average<br>Weekly Revenue=%{x}<br>Average Order Value=%{y}<extra></extra>",
         "legendgroup": "03222-00046 | UberEats",
         "marker": {
          "color": "#00cc96",
          "opacity": 0.7,
          "size": 10,
          "symbol": "circle"
         },
         "mode": "markers",
         "name": "03222-00046 | UberEats",
         "orientation": "v",
         "showlegend": true,
         "type": "scatter",
         "x": {
          "bdata": "7FG4HgULr0A=",
          "dtype": "f8"
         },
         "xaxis": "x",
         "y": {
          "bdata": "j8L1KFwPN0A=",
          "dtype": "f8"
         },
         "yaxis": "y"
        },
        {
         "hovertemplate": "Label=03222-00046 | DoorDash<br>Performance Group=Average<br>Weekly Revenue=%{x}<br>Average Order Value=%{y}<extra></extra>",
         "legendgroup": "03222-00046 | DoorDash",
         "marker": {
          "color": "#ab63fa",
          "opacity": 0.7,
          "size": 10,
          "symbol": "circle"
         },
         "mode": "markers",
         "name": "03222-00046 | DoorDash",
         "orientation": "v",
         "showlegend": true,
         "type": "scatter",
         "x": {
          "bdata": "KVyPwmWq0UA=",
          "dtype": "f8"
         },
         "xaxis": "x",
         "y": {
          "bdata": "hetRuB5FNEA=",
          "dtype": "f8"
         },
         "yaxis": "y"
        },
        {
         "hovertemplate": "Label=03222-00046 | Website<br>Performance Group=Average<br>Weekly Revenue=%{x}<br>Average Order Value=%{y}<extra></extra>",
         "legendgroup": "03222-00046 | Website",
         "marker": {
          "color": "#FFA15A",
          "opacity": 0.7,
          "size": 10,
          "symbol": "circle"
         },
         "mode": "markers",
         "name": "03222-00046 | Website",
         "orientation": "v",
         "showlegend": true,
         "type": "scatter",
         "x": {
          "bdata": "9ihcj6K920A=",
          "dtype": "f8"
         },
         "xaxis": "x",
         "y": {
          "bdata": "AAAAAACAMkA=",
          "dtype": "f8"
         },
         "yaxis": "y"
        },
        {
         "hovertemplate": "Label=03222-00046 | Mobile<br>Performance Group=Average<br>Weekly Revenue=%{x}<br>Average Order Value=%{y}<extra></extra>",
         "legendgroup": "03222-00046 | Mobile",
         "marker": {
          "color": "#19d3f3",
          "opacity": 0.7,
          "size": 10,
          "symbol": "circle"
         },
         "mode": "markers",
         "name": "03222-00046 | Mobile",
         "orientation": "v",
         "showlegend": true,
         "type": "scatter",
         "x": {
          "bdata": "9ihcj+J86EA=",
          "dtype": "f8"
         },
         "xaxis": "x",
         "y": {
          "bdata": "H4XrUbieMEA=",
          "dtype": "f8"
         },
         "yaxis": "y"
        },
        {
         "hovertemplate": "Label=03222-00047 | Grubhub<br>Performance Group=Average<br>Weekly Revenue=%{x}<br>Average Order Value=%{y}<extra></extra>",
         "legendgroup": "03222-00047 | Grubhub",
         "marker": {
          "color": "#FF6692",
          "opacity": 0.7,
          "size": 10,
          "symbol": "circle"
         },
         "mode": "markers",
         "name": "03222-00047 | Grubhub",
         "orientation": "v",
         "showlegend": true,
         "type": "scatter",
         "x": {
          "bdata": "AAAAAABIiEA=",
          "dtype": "f8"
         },
         "xaxis": "x",
         "y": {
          "bdata": "zczMzMxMNkA=",
          "dtype": "f8"
         },
         "yaxis": "y"
        },
        {
         "hovertemplate": "Label=03222-00047 | UberEats<br>Performance Group=Average<br>Weekly Revenue=%{x}<br>Average Order Value=%{y}<extra></extra>",
         "legendgroup": "03222-00047 | UberEats",
         "marker": {
          "color": "#B6E880",
          "opacity": 0.7,
          "size": 10,
          "symbol": "circle"
         },
         "mode": "markers",
         "name": "03222-00047 | UberEats",
         "orientation": "v",
         "showlegend": true,
         "type": "scatter",
         "x": {
          "bdata": "mpmZmZkEpEA=",
          "dtype": "f8"
         },
         "xaxis": "x",
         "y": {
          "bdata": "CtejcD3KNEA=",
          "dtype": "f8"
         },
         "yaxis": "y"
        },
        {
         "hovertemplate": "Label=03222-00047 | Website<br>Performance Group=Average<br>Weekly Revenue=%{x}<br>Average Order Value=%{y}<extra></extra>",
         "legendgroup": "03222-00047 | Website",
         "marker": {
          "color": "#FF97FF",
          "opacity": 0.7,
          "size": 10,
          "symbol": "circle"
         },
         "mode": "markers",
         "name": "03222-00047 | Website",
         "orientation": "v",
         "showlegend": true,
         "type": "scatter",
         "x": {
          "bdata": "CtejcO2f1kA=",
          "dtype": "f8"
         },
         "xaxis": "x",
         "y": {
          "bdata": "XI/C9ShcM0A=",
          "dtype": "f8"
         },
         "yaxis": "y"
        },
        {
         "hovertemplate": "Label=03222-00047 | DoorDash<br>Performance Group=Average<br>Weekly Revenue=%{x}<br>Average Order Value=%{y}<extra></extra>",
         "legendgroup": "03222-00047 | DoorDash",
         "marker": {
          "color": "#FECB52",
          "opacity": 0.7,
          "size": 10,
          "symbol": "circle"
         },
         "mode": "markers",
         "name": "03222-00047 | DoorDash",
         "orientation": "v",
         "showlegend": true,
         "type": "scatter",
         "x": {
          "bdata": "w/UoXG/bzUA=",
          "dtype": "f8"
         },
         "xaxis": "x",
         "y": {
          "bdata": "ZmZmZmbmMkA=",
          "dtype": "f8"
         },
         "yaxis": "y"
        },
        {
         "hovertemplate": "Label=03222-00047 | Mobile<br>Performance Group=Average<br>Weekly Revenue=%{x}<br>Average Order Value=%{y}<extra></extra>",
         "legendgroup": "03222-00047 | Mobile",
         "marker": {
          "color": "#636efa",
          "opacity": 0.7,
          "size": 10,
          "symbol": "circle"
         },
         "mode": "markers",
         "name": "03222-00047 | Mobile",
         "orientation": "v",
         "showlegend": true,
         "type": "scatter",
         "x": {
          "bdata": "PQrXo9BN5kA=",
          "dtype": "f8"
         },
         "xaxis": "x",
         "y": {
          "bdata": "PQrXo3D9MUA=",
          "dtype": "f8"
         },
         "yaxis": "y"
        },
        {
         "hovertemplate": "Label=03646-00001 | Website<br>Performance Group=Average<br>Weekly Revenue=%{x}<br>Average Order Value=%{y}<extra></extra>",
         "legendgroup": "03646-00001 | Website",
         "marker": {
          "color": "#EF553B",
          "opacity": 0.7,
          "size": 10,
          "symbol": "circle"
         },
         "mode": "markers",
         "name": "03646-00001 | Website",
         "orientation": "v",
         "showlegend": true,
         "type": "scatter",
         "x": {
          "bdata": "PQrXoxjE4EA=",
          "dtype": "f8"
         },
         "xaxis": "x",
         "y": {
          "bdata": "hetRuB5FNkA=",
          "dtype": "f8"
         },
         "yaxis": "y"
        },
        {
         "hovertemplate": "Label=03646-00001 | UberEats<br>Performance Group=Average<br>Weekly Revenue=%{x}<br>Average Order Value=%{y}<extra></extra>",
         "legendgroup": "03646-00001 | UberEats",
         "marker": {
          "color": "#00cc96",
          "opacity": 0.7,
          "size": 10,
          "symbol": "circle"
         },
         "mode": "markers",
         "name": "03646-00001 | UberEats",
         "orientation": "v",
         "showlegend": true,
         "type": "scatter",
         "x": {
          "bdata": "PQrXo3B5nEA=",
          "dtype": "f8"
         },
         "xaxis": "x",
         "y": {
          "bdata": "KVyPwvUoNUA=",
          "dtype": "f8"
         },
         "yaxis": "y"
        },
        {
         "hovertemplate": "Label=03646-00001 | Mobile<br>Performance Group=Average<br>Weekly Revenue=%{x}<br>Average Order Value=%{y}<extra></extra>",
         "legendgroup": "03646-00001 | Mobile",
         "marker": {
          "color": "#ab63fa",
          "opacity": 0.7,
          "size": 10,
          "symbol": "circle"
         },
         "mode": "markers",
         "name": "03646-00001 | Mobile",
         "orientation": "v",
         "showlegend": true,
         "type": "scatter",
         "x": {
          "bdata": "16NwPQo67EA=",
          "dtype": "f8"
         },
         "xaxis": "x",
         "y": {
          "bdata": "zczMzMwMNEA=",
          "dtype": "f8"
         },
         "yaxis": "y"
        },
        {
         "hovertemplate": "Label=03646-00001 | DoorDash<br>Performance Group=Average<br>Weekly Revenue=%{x}<br>Average Order Value=%{y}<extra></extra>",
         "legendgroup": "03646-00001 | DoorDash",
         "marker": {
          "color": "#FFA15A",
          "opacity": 0.7,
          "size": 10,
          "symbol": "circle"
         },
         "mode": "markers",
         "name": "03646-00001 | DoorDash",
         "orientation": "v",
         "showlegend": true,
         "type": "scatter",
         "x": {
          "bdata": "cT0K1yN8zkA=",
          "dtype": "f8"
         },
         "xaxis": "x",
         "y": {
          "bdata": "pHA9CtejMkA=",
          "dtype": "f8"
         },
         "yaxis": "y"
        },
        {
         "hovertemplate": "Label=03646-00001 | Grubhub<br>Performance Group=Underperformer<br>Weekly Revenue=%{x}<br>Average Order Value=%{y}<extra></extra>",
         "legendgroup": "03646-00001 | Grubhub",
         "marker": {
          "color": "#19d3f3",
          "opacity": 0.7,
          "size": 10,
          "symbol": "circle"
         },
         "mode": "markers",
         "name": "03646-00001 | Grubhub",
         "orientation": "v",
         "showlegend": true,
         "type": "scatter",
         "x": {
          "bdata": "9ihcj8K9akA=",
          "dtype": "f8"
         },
         "xaxis": "x2",
         "y": {
          "bdata": "rkfhehQuMkA=",
          "dtype": "f8"
         },
         "yaxis": "y2"
        },
        {
         "hovertemplate": "Label=03646-00002 | UberEats<br>Performance Group=Average<br>Weekly Revenue=%{x}<br>Average Order Value=%{y}<extra></extra>",
         "legendgroup": "03646-00002 | UberEats",
         "marker": {
          "color": "#FF6692",
          "opacity": 0.7,
          "size": 10,
          "symbol": "circle"
         },
         "mode": "markers",
         "name": "03646-00002 | UberEats",
         "orientation": "v",
         "showlegend": true,
         "type": "scatter",
         "x": {
          "bdata": "KVyPwvUDuEA=",
          "dtype": "f8"
         },
         "xaxis": "x",
         "y": {
          "bdata": "mpmZmZkZNkA=",
          "dtype": "f8"
         },
         "yaxis": "y"
        },
        {
         "hovertemplate": "Label=03646-00002 | Website<br>Performance Group=Average<br>Weekly Revenue=%{x}<br>Average Order Value=%{y}<extra></extra>",
         "legendgroup": "03646-00002 | Website",
         "marker": {
          "color": "#B6E880",
          "opacity": 0.7,
          "size": 10,
          "symbol": "circle"
         },
         "mode": "markers",
         "name": "03646-00002 | Website",
         "orientation": "v",
         "showlegend": true,
         "type": "scatter",
         "x": {
          "bdata": "cT0K15Og40A=",
          "dtype": "f8"
         },
         "xaxis": "x",
         "y": {
          "bdata": "exSuR+E6NEA=",
          "dtype": "f8"
         },
         "yaxis": "y"
        },
        {
         "hovertemplate": "Label=03646-00002 | Mobile<br>Performance Group=Average<br>Weekly Revenue=%{x}<br>Average Order Value=%{y}<extra></extra>",
         "legendgroup": "03646-00002 | Mobile",
         "marker": {
          "color": "#FF97FF",
          "opacity": 0.7,
          "size": 10,
          "symbol": "circle"
         },
         "mode": "markers",
         "name": "03646-00002 | Mobile",
         "orientation": "v",
         "showlegend": true,
         "type": "scatter",
         "x": {
          "bdata": "mpmZmd1i8UA=",
          "dtype": "f8"
         },
         "xaxis": "x",
         "y": {
          "bdata": "j8L1KFwPNEA=",
          "dtype": "f8"
         },
         "yaxis": "y"
        },
        {
         "hovertemplate": "Label=03646-00002 | DoorDash<br>Performance Group=Average<br>Weekly Revenue=%{x}<br>Average Order Value=%{y}<extra></extra>",
         "legendgroup": "03646-00002 | DoorDash",
         "marker": {
          "color": "#FECB52",
          "opacity": 0.7,
          "size": 10,
          "symbol": "circle"
         },
         "mode": "markers",
         "name": "03646-00002 | DoorDash",
         "orientation": "v",
         "showlegend": true,
         "type": "scatter",
         "x": {
          "bdata": "SOF6FI6o3UA=",
          "dtype": "f8"
         },
         "xaxis": "x",
         "y": {
          "bdata": "rkfhehTuMkA=",
          "dtype": "f8"
         },
         "yaxis": "y"
        },
        {
         "hovertemplate": "Label=03646-00002 | Grubhub<br>Performance Group=Underperformer<br>Weekly Revenue=%{x}<br>Average Order Value=%{y}<extra></extra>",
         "legendgroup": "03646-00002 | Grubhub",
         "marker": {
          "color": "#636efa",
          "opacity": 0.7,
          "size": 10,
          "symbol": "circle"
         },
         "mode": "markers",
         "name": "03646-00002 | Grubhub",
         "orientation": "v",
         "showlegend": true,
         "type": "scatter",
         "x": {
          "bdata": "j8L1KFzikUA=",
          "dtype": "f8"
         },
         "xaxis": "x2",
         "y": {
          "bdata": "rkfhehSuMUA=",
          "dtype": "f8"
         },
         "yaxis": "y2"
        },
        {
         "hovertemplate": "Label=03646-00003 | Grubhub<br>Performance Group=Average<br>Weekly Revenue=%{x}<br>Average Order Value=%{y}<extra></extra>",
         "legendgroup": "03646-00003 | Grubhub",
         "marker": {
          "color": "#EF553B",
          "opacity": 0.7,
          "size": 10,
          "symbol": "circle"
         },
         "mode": "markers",
         "name": "03646-00003 | Grubhub",
         "orientation": "v",
         "showlegend": true,
         "type": "scatter",
         "x": {
          "bdata": "rkfhehQMlkA=",
          "dtype": "f8"
         },
         "xaxis": "x",
         "y": {
          "bdata": "16NwPQoXOEA=",
          "dtype": "f8"
         },
         "yaxis": "y"
        },
        {
         "hovertemplate": "Label=03646-00003 | UberEats<br>Performance Group=Average<br>Weekly Revenue=%{x}<br>Average Order Value=%{y}<extra></extra>",
         "legendgroup": "03646-00003 | UberEats",
         "marker": {
          "color": "#00cc96",
          "opacity": 0.7,
          "size": 10,
          "symbol": "circle"
         },
         "mode": "markers",
         "name": "03646-00003 | UberEats",
         "orientation": "v",
         "showlegend": true,
         "type": "scatter",
         "x": {
          "bdata": "w/UoXE/5tkA=",
          "dtype": "f8"
         },
         "xaxis": "x",
         "y": {
          "bdata": "cT0K16MwNUA=",
          "dtype": "f8"
         },
         "yaxis": "y"
        },
        {
         "hovertemplate": "Label=03646-00003 | Website<br>Performance Group=Average<br>Weekly Revenue=%{x}<br>Average Order Value=%{y}<extra></extra>",
         "legendgroup": "03646-00003 | Website",
         "marker": {
          "color": "#ab63fa",
          "opacity": 0.7,
          "size": 10,
          "symbol": "circle"
         },
         "mode": "markers",
         "name": "03646-00003 | Website",
         "orientation": "v",
         "showlegend": true,
         "type": "scatter",
         "x": {
          "bdata": "MzMzMxtg50A=",
          "dtype": "f8"
         },
         "xaxis": "x",
         "y": {
          "bdata": "exSuR+G6NEA=",
          "dtype": "f8"
         },
         "yaxis": "y"
        },
        {
         "hovertemplate": "Label=03646-00003 | Mobile<br>Performance Group=Average<br>Weekly Revenue=%{x}<br>Average Order Value=%{y}<extra></extra>",
         "legendgroup": "03646-00003 | Mobile",
         "marker": {
          "color": "#FFA15A",
          "opacity": 0.7,
          "size": 10,
          "symbol": "circle"
         },
         "mode": "markers",
         "name": "03646-00003 | Mobile",
         "orientation": "v",
         "showlegend": true,
         "type": "scatter",
         "x": {
          "bdata": "9ihcj5749EA=",
          "dtype": "f8"
         },
         "xaxis": "x",
         "y": {
          "bdata": "PQrXo3B9M0A=",
          "dtype": "f8"
         },
         "yaxis": "y"
        },
        {
         "hovertemplate": "Label=03646-00003 | DoorDash<br>Performance Group=Average<br>Weekly Revenue=%{x}<br>Average Order Value=%{y}<extra></extra>",
         "legendgroup": "03646-00003 | DoorDash",
         "marker": {
          "color": "#19d3f3",
          "opacity": 0.7,
          "size": 10,
          "symbol": "circle"
         },
         "mode": "markers",
         "name": "03646-00003 | DoorDash",
         "orientation": "v",
         "showlegend": true,
         "type": "scatter",
         "x": {
          "bdata": "SOF6FF4C3kA=",
          "dtype": "f8"
         },
         "xaxis": "x",
         "y": {
          "bdata": "SOF6FK4HM0A=",
          "dtype": "f8"
         },
         "yaxis": "y"
        },
        {
         "hovertemplate": "Label=03646-00004 | Website<br>Performance Group=Average<br>Weekly Revenue=%{x}<br>Average Order Value=%{y}<extra></extra>",
         "legendgroup": "03646-00004 | Website",
         "marker": {
          "color": "#FF6692",
          "opacity": 0.7,
          "size": 10,
          "symbol": "circle"
         },
         "mode": "markers",
         "name": "03646-00004 | Website",
         "orientation": "v",
         "showlegend": true,
         "type": "scatter",
         "x": {
          "bdata": "pHA9CveVxkA=",
          "dtype": "f8"
         },
         "xaxis": "x",
         "y": {
          "bdata": "zczMzMwMNEA=",
          "dtype": "f8"
         },
         "yaxis": "y"
        },
        {
         "hovertemplate": "Label=03646-00004 | DoorDash<br>Performance Group=Average<br>Weekly Revenue=%{x}<br>Average Order Value=%{y}<extra></extra>",
         "legendgroup": "03646-00004 | DoorDash",
         "marker": {
          "color": "#B6E880",
          "opacity": 0.7,
          "size": 10,
          "symbol": "circle"
         },
         "mode": "markers",
         "name": "03646-00004 | DoorDash",
         "orientation": "v",
         "showlegend": true,
         "type": "scatter",
         "x": {
          "bdata": "H4XrUfjowUA=",
          "dtype": "f8"
         },
         "xaxis": "x",
         "y": {
          "bdata": "7FG4HoWrM0A=",
          "dtype": "f8"
         },
         "yaxis": "y"
        },
        {
         "hovertemplate": "Label=03646-00004 | Mobile<br>Performance Group=Average<br>Weekly Revenue=%{x}<br>Average Order Value=%{y}<extra></extra>",
         "legendgroup": "03646-00004 | Mobile",
         "marker": {
          "color": "#FF97FF",
          "opacity": 0.7,
          "size": 10,
          "symbol": "circle"
         },
         "mode": "markers",
         "name": "03646-00004 | Mobile",
         "orientation": "v",
         "showlegend": true,
         "type": "scatter",
         "x": {
          "bdata": "16NwPcoi1kA=",
          "dtype": "f8"
         },
         "xaxis": "x",
         "y": {
          "bdata": "w/UoXI+CMkA=",
          "dtype": "f8"
         },
         "yaxis": "y"
        },
        {
         "hovertemplate": "Label=03646-00004 | UberEats<br>Performance Group=Underperformer<br>Weekly Revenue=%{x}<br>Average Order Value=%{y}<extra></extra>",
         "legendgroup": "03646-00004 | UberEats",
         "marker": {
          "color": "#FECB52",
          "opacity": 0.7,
          "size": 10,
          "symbol": "circle"
         },
         "mode": "markers",
         "name": "03646-00004 | UberEats",
         "orientation": "v",
         "showlegend": true,
         "type": "scatter",
         "x": {
          "bdata": "16NwPQpPYkA=",
          "dtype": "f8"
         },
         "xaxis": "x2",
         "y": {
          "bdata": "hetRuB5FMEA=",
          "dtype": "f8"
         },
         "yaxis": "y2"
        }
       ],
       "layout": {
        "annotations": [
         {
          "font": {},
          "showarrow": false,
          "text": "Performance Group=Average",
          "x": 0.15999999999999998,
          "xanchor": "center",
          "xref": "paper",
          "y": 1,
          "yanchor": "bottom",
          "yref": "paper"
         },
         {
          "font": {},
          "showarrow": false,
          "text": "Performance Group=Underperformer",
          "x": 0.49999999999999994,
          "xanchor": "center",
          "xref": "paper",
          "y": 1,
          "yanchor": "bottom",
          "yref": "paper"
         },
         {
          "font": {},
          "showarrow": false,
          "text": "Performance Group=Top Performer",
          "x": 0.8399999999999999,
          "xanchor": "center",
          "xref": "paper",
          "y": 1,
          "yanchor": "bottom",
          "yref": "paper"
         }
        ],
        "legend": {
         "title": {
          "text": "Label"
         },
         "tracegroupgap": 0
        },
        "margin": {
         "b": 30,
         "l": 30,
         "r": 30,
         "t": 60
        },
        "template": {
         "data": {
          "bar": [
           {
            "error_x": {
             "color": "#2a3f5f"
            },
            "error_y": {
             "color": "#2a3f5f"
            },
            "marker": {
             "line": {
              "color": "white",
              "width": 0.5
             },
             "pattern": {
              "fillmode": "overlay",
              "size": 10,
              "solidity": 0.2
             }
            },
            "type": "bar"
           }
          ],
          "barpolar": [
           {
            "marker": {
             "line": {
              "color": "white",
              "width": 0.5
             },
             "pattern": {
              "fillmode": "overlay",
              "size": 10,
              "solidity": 0.2
             }
            },
            "type": "barpolar"
           }
          ],
          "carpet": [
           {
            "aaxis": {
             "endlinecolor": "#2a3f5f",
             "gridcolor": "#C8D4E3",
             "linecolor": "#C8D4E3",
             "minorgridcolor": "#C8D4E3",
             "startlinecolor": "#2a3f5f"
            },
            "baxis": {
             "endlinecolor": "#2a3f5f",
             "gridcolor": "#C8D4E3",
             "linecolor": "#C8D4E3",
             "minorgridcolor": "#C8D4E3",
             "startlinecolor": "#2a3f5f"
            },
            "type": "carpet"
           }
          ],
          "choropleth": [
           {
            "colorbar": {
             "outlinewidth": 0,
             "ticks": ""
            },
            "type": "choropleth"
           }
          ],
          "contour": [
           {
            "colorbar": {
             "outlinewidth": 0,
             "ticks": ""
            },
            "colorscale": [
             [
              0,
              "#0d0887"
             ],
             [
              0.1111111111111111,
              "#46039f"
             ],
             [
              0.2222222222222222,
              "#7201a8"
             ],
             [
              0.3333333333333333,
              "#9c179e"
             ],
             [
              0.4444444444444444,
              "#bd3786"
             ],
             [
              0.5555555555555556,
              "#d8576b"
             ],
             [
              0.6666666666666666,
              "#ed7953"
             ],
             [
              0.7777777777777778,
              "#fb9f3a"
             ],
             [
              0.8888888888888888,
              "#fdca26"
             ],
             [
              1,
              "#f0f921"
             ]
            ],
            "type": "contour"
           }
          ],
          "contourcarpet": [
           {
            "colorbar": {
             "outlinewidth": 0,
             "ticks": ""
            },
            "type": "contourcarpet"
           }
          ],
          "heatmap": [
           {
            "colorbar": {
             "outlinewidth": 0,
             "ticks": ""
            },
            "colorscale": [
             [
              0,
              "#0d0887"
             ],
             [
              0.1111111111111111,
              "#46039f"
             ],
             [
              0.2222222222222222,
              "#7201a8"
             ],
             [
              0.3333333333333333,
              "#9c179e"
             ],
             [
              0.4444444444444444,
              "#bd3786"
             ],
             [
              0.5555555555555556,
              "#d8576b"
             ],
             [
              0.6666666666666666,
              "#ed7953"
             ],
             [
              0.7777777777777778,
              "#fb9f3a"
             ],
             [
              0.8888888888888888,
              "#fdca26"
             ],
             [
              1,
              "#f0f921"
             ]
            ],
            "type": "heatmap"
           }
          ],
          "histogram": [
           {
            "marker": {
             "pattern": {
              "fillmode": "overlay",
              "size": 10,
              "solidity": 0.2
             }
            },
            "type": "histogram"
           }
          ],
          "histogram2d": [
           {
            "colorbar": {
             "outlinewidth": 0,
             "ticks": ""
            },
            "colorscale": [
             [
              0,
              "#0d0887"
             ],
             [
              0.1111111111111111,
              "#46039f"
             ],
             [
              0.2222222222222222,
              "#7201a8"
             ],
             [
              0.3333333333333333,
              "#9c179e"
             ],
             [
              0.4444444444444444,
              "#bd3786"
             ],
             [
              0.5555555555555556,
              "#d8576b"
             ],
             [
              0.6666666666666666,
              "#ed7953"
             ],
             [
              0.7777777777777778,
              "#fb9f3a"
             ],
             [
              0.8888888888888888,
              "#fdca26"
             ],
             [
              1,
              "#f0f921"
             ]
            ],
            "type": "histogram2d"
           }
          ],
          "histogram2dcontour": [
           {
            "colorbar": {
             "outlinewidth": 0,
             "ticks": ""
            },
            "colorscale": [
             [
              0,
              "#0d0887"
             ],
             [
              0.1111111111111111,
              "#46039f"
             ],
             [
              0.2222222222222222,
              "#7201a8"
             ],
             [
              0.3333333333333333,
              "#9c179e"
             ],
             [
              0.4444444444444444,
              "#bd3786"
             ],
             [
              0.5555555555555556,
              "#d8576b"
             ],
             [
              0.6666666666666666,
              "#ed7953"
             ],
             [
              0.7777777777777778,
              "#fb9f3a"
             ],
             [
              0.8888888888888888,
              "#fdca26"
             ],
             [
              1,
              "#f0f921"
             ]
            ],
            "type": "histogram2dcontour"
           }
          ],
          "mesh3d": [
           {
            "colorbar": {
             "outlinewidth": 0,
             "ticks": ""
            },
            "type": "mesh3d"
           }
          ],
          "parcoords": [
           {
            "line": {
             "colorbar": {
              "outlinewidth": 0,
              "ticks": ""
             }
            },
            "type": "parcoords"
           }
          ],
          "pie": [
           {
            "automargin": true,
            "type": "pie"
           }
          ],
          "scatter": [
           {
            "fillpattern": {
             "fillmode": "overlay",
             "size": 10,
             "solidity": 0.2
            },
            "type": "scatter"
           }
          ],
          "scatter3d": [
           {
            "line": {
             "colorbar": {
              "outlinewidth": 0,
              "ticks": ""
             }
            },
            "marker": {
             "colorbar": {
              "outlinewidth": 0,
              "ticks": ""
             }
            },
            "type": "scatter3d"
           }
          ],
          "scattercarpet": [
           {
            "marker": {
             "colorbar": {
              "outlinewidth": 0,
              "ticks": ""
             }
            },
            "type": "scattercarpet"
           }
          ],
          "scattergeo": [
           {
            "marker": {
             "colorbar": {
              "outlinewidth": 0,
              "ticks": ""
             }
            },
            "type": "scattergeo"
           }
          ],
          "scattergl": [
           {
            "marker": {
             "colorbar": {
              "outlinewidth": 0,
              "ticks": ""
             }
            },
            "type": "scattergl"
           }
          ],
          "scattermap": [
           {
            "marker": {
             "colorbar": {
              "outlinewidth": 0,
              "ticks": ""
             }
            },
            "type": "scattermap"
           }
          ],
          "scattermapbox": [
           {
            "marker": {
             "colorbar": {
              "outlinewidth": 0,
              "ticks": ""
             }
            },
            "type": "scattermapbox"
           }
          ],
          "scatterpolar": [
           {
            "marker": {
             "colorbar": {
              "outlinewidth": 0,
              "ticks": ""
             }
            },
            "type": "scatterpolar"
           }
          ],
          "scatterpolargl": [
           {
            "marker": {
             "colorbar": {
              "outlinewidth": 0,
              "ticks": ""
             }
            },
            "type": "scatterpolargl"
           }
          ],
          "scatterternary": [
           {
            "marker": {
             "colorbar": {
              "outlinewidth": 0,
              "ticks": ""
             }
            },
            "type": "scatterternary"
           }
          ],
          "surface": [
           {
            "colorbar": {
             "outlinewidth": 0,
             "ticks": ""
            },
            "colorscale": [
             [
              0,
              "#0d0887"
             ],
             [
              0.1111111111111111,
              "#46039f"
             ],
             [
              0.2222222222222222,
              "#7201a8"
             ],
             [
              0.3333333333333333,
              "#9c179e"
             ],
             [
              0.4444444444444444,
              "#bd3786"
             ],
             [
              0.5555555555555556,
              "#d8576b"
             ],
             [
              0.6666666666666666,
              "#ed7953"
             ],
             [
              0.7777777777777778,
              "#fb9f3a"
             ],
             [
              0.8888888888888888,
              "#fdca26"
             ],
             [
              1,
              "#f0f921"
             ]
            ],
            "type": "surface"
           }
          ],
          "table": [
           {
            "cells": {
             "fill": {
              "color": "#EBF0F8"
             },
             "line": {
              "color": "white"
             }
            },
            "header": {
             "fill": {
              "color": "#C8D4E3"
             },
             "line": {
              "color": "white"
             }
            },
            "type": "table"
           }
          ]
         },
         "layout": {
          "annotationdefaults": {
           "arrowcolor": "#2a3f5f",
           "arrowhead": 0,
           "arrowwidth": 1
          },
          "autotypenumbers": "strict",
          "coloraxis": {
           "colorbar": {
            "outlinewidth": 0,
            "ticks": ""
           }
          },
          "colorscale": {
           "diverging": [
            [
             0,
             "#8e0152"
            ],
            [
             0.1,
             "#c51b7d"
            ],
            [
             0.2,
             "#de77ae"
            ],
            [
             0.3,
             "#f1b6da"
            ],
            [
             0.4,
             "#fde0ef"
            ],
            [
             0.5,
             "#f7f7f7"
            ],
            [
             0.6,
             "#e6f5d0"
            ],
            [
             0.7,
             "#b8e186"
            ],
            [
             0.8,
             "#7fbc41"
            ],
            [
             0.9,
             "#4d9221"
            ],
            [
             1,
             "#276419"
            ]
           ],
           "sequential": [
            [
             0,
             "#0d0887"
            ],
            [
             0.1111111111111111,
             "#46039f"
            ],
            [
             0.2222222222222222,
             "#7201a8"
            ],
            [
             0.3333333333333333,
             "#9c179e"
            ],
            [
             0.4444444444444444,
             "#bd3786"
            ],
            [
             0.5555555555555556,
             "#d8576b"
            ],
            [
             0.6666666666666666,
             "#ed7953"
            ],
            [
             0.7777777777777778,
             "#fb9f3a"
            ],
            [
             0.8888888888888888,
             "#fdca26"
            ],
            [
             1,
             "#f0f921"
            ]
           ],
           "sequentialminus": [
            [
             0,
             "#0d0887"
            ],
            [
             0.1111111111111111,
             "#46039f"
            ],
            [
             0.2222222222222222,
             "#7201a8"
            ],
            [
             0.3333333333333333,
             "#9c179e"
            ],
            [
             0.4444444444444444,
             "#bd3786"
            ],
            [
             0.5555555555555556,
             "#d8576b"
            ],
            [
             0.6666666666666666,
             "#ed7953"
            ],
            [
             0.7777777777777778,
             "#fb9f3a"
            ],
            [
             0.8888888888888888,
             "#fdca26"
            ],
            [
             1,
             "#f0f921"
            ]
           ]
          },
          "colorway": [
           "#636efa",
           "#EF553B",
           "#00cc96",
           "#ab63fa",
           "#FFA15A",
           "#19d3f3",
           "#FF6692",
           "#B6E880",
           "#FF97FF",
           "#FECB52"
          ],
          "font": {
           "color": "#2a3f5f"
          },
          "geo": {
           "bgcolor": "white",
           "lakecolor": "white",
           "landcolor": "white",
           "showlakes": true,
           "showland": true,
           "subunitcolor": "#C8D4E3"
          },
          "hoverlabel": {
           "align": "left"
          },
          "hovermode": "closest",
          "mapbox": {
           "style": "light"
          },
          "paper_bgcolor": "white",
          "plot_bgcolor": "white",
          "polar": {
           "angularaxis": {
            "gridcolor": "#EBF0F8",
            "linecolor": "#EBF0F8",
            "ticks": ""
           },
           "bgcolor": "white",
           "radialaxis": {
            "gridcolor": "#EBF0F8",
            "linecolor": "#EBF0F8",
            "ticks": ""
           }
          },
          "scene": {
           "xaxis": {
            "backgroundcolor": "white",
            "gridcolor": "#DFE8F3",
            "gridwidth": 2,
            "linecolor": "#EBF0F8",
            "showbackground": true,
            "ticks": "",
            "zerolinecolor": "#EBF0F8"
           },
           "yaxis": {
            "backgroundcolor": "white",
            "gridcolor": "#DFE8F3",
            "gridwidth": 2,
            "linecolor": "#EBF0F8",
            "showbackground": true,
            "ticks": "",
            "zerolinecolor": "#EBF0F8"
           },
           "zaxis": {
            "backgroundcolor": "white",
            "gridcolor": "#DFE8F3",
            "gridwidth": 2,
            "linecolor": "#EBF0F8",
            "showbackground": true,
            "ticks": "",
            "zerolinecolor": "#EBF0F8"
           }
          },
          "shapedefaults": {
           "line": {
            "color": "#2a3f5f"
           }
          },
          "ternary": {
           "aaxis": {
            "gridcolor": "#DFE8F3",
            "linecolor": "#A2B1C6",
            "ticks": ""
           },
           "baxis": {
            "gridcolor": "#DFE8F3",
            "linecolor": "#A2B1C6",
            "ticks": ""
           },
           "bgcolor": "white",
           "caxis": {
            "gridcolor": "#DFE8F3",
            "linecolor": "#A2B1C6",
            "ticks": ""
           }
          },
          "title": {
           "x": 0.05
          },
          "xaxis": {
           "automargin": true,
           "gridcolor": "#EBF0F8",
           "linecolor": "#EBF0F8",
           "ticks": "",
           "title": {
            "standoff": 15
           },
           "zerolinecolor": "#EBF0F8",
           "zerolinewidth": 2
          },
          "yaxis": {
           "automargin": true,
           "gridcolor": "#EBF0F8",
           "linecolor": "#EBF0F8",
           "ticks": "",
           "title": {
            "standoff": 15
           },
           "zerolinecolor": "#EBF0F8",
           "zerolinewidth": 2
          }
         }
        },
        "title": {
         "text": "AOV vs Weekly Revenue by Performance Group"
        },
        "xaxis": {
         "anchor": "y",
         "domain": [
          0,
          0.31999999999999995
         ],
         "title": {
          "text": "Weekly Revenue"
         }
        },
        "xaxis2": {
         "anchor": "y2",
         "domain": [
          0.33999999999999997,
          0.6599999999999999
         ],
         "matches": "x",
         "title": {
          "text": "Weekly Revenue"
         }
        },
        "xaxis3": {
         "anchor": "y3",
         "domain": [
          0.6799999999999999,
          0.9999999999999999
         ],
         "matches": "x",
         "title": {
          "text": "Weekly Revenue"
         }
        },
        "yaxis": {
         "anchor": "x",
         "domain": [
          0,
          1
         ],
         "title": {
          "text": "Average Order Value"
         }
        },
        "yaxis2": {
         "anchor": "x2",
         "domain": [
          0,
          1
         ],
         "matches": "y",
         "showticklabels": false
        },
        "yaxis3": {
         "anchor": "x3",
         "domain": [
          0,
          1
         ],
         "matches": "y",
         "showticklabels": false
        }
       }
      }
     },
     "metadata": {},
     "output_type": "display_data"
    }
   ],
   "source": [
    "import plotly.express as px\n",
    "\n",
    "# Assume your DataFrame is named df and has columns:\n",
    "# 'WeeklyRevenue', 'AOV', 'label', and 'Performance'\n",
    "\n",
    "fig = px.scatter(\n",
    "   conversion_quality,\n",
    "    x=\"WeeklyRevenue\",\n",
    "    y=\"AOV\",\n",
    "    color=\"Label\",\n",
    "    facet_col=\"Performance\",\n",
    "    title=\"AOV vs Weekly Revenue by Performance Group\",\n",
    "    labels={\n",
    "        \"WeeklyRevenue\": \"Weekly Revenue\",\n",
    "        \"AOV\": \"Average Order Value\",\n",
    "        \"label\": \"Label\",\n",
    "        \"Performance\": \"Performance Group\"\n",
    "    },\n",
    "    template=\"plotly_white\"\n",
    ")\n",
    "\n",
    "fig.update_traces(marker=dict(size=10, opacity=0.7), selector=dict(mode='markers'))\n",
    "fig.update_layout(margin=dict(t=60, l=30, r=30, b=30))\n",
    "fig.show()\n"
   ]
  },
  {
   "cell_type": "code",
   "execution_count": 512,
   "metadata": {},
   "outputs": [
    {
     "data": {
      "application/vnd.plotly.v1+json": {
       "config": {
        "plotlyServerURL": "https://plot.ly"
       },
       "data": [
        {
         "hovertemplate": "Label=01389-00001 | Website<br>Weekly Revenue=%{x}<br>Average Order Value=%{y}<extra></extra>",
         "legendgroup": "01389-00001 | Website",
         "marker": {
          "color": "#636efa",
          "opacity": 0.7,
          "size": 10,
          "symbol": "circle"
         },
         "mode": "markers",
         "name": "01389-00001 | Website",
         "orientation": "v",
         "showlegend": true,
         "type": "scatter",
         "x": {
          "bdata": "AAAAACAX5kA=",
          "dtype": "f8"
         },
         "xaxis": "x",
         "y": {
          "bdata": "16NwPQpXNUA=",
          "dtype": "f8"
         },
         "yaxis": "y"
        },
        {
         "hovertemplate": "Label=01389-00001 | Grubhub<br>Weekly Revenue=%{x}<br>Average Order Value=%{y}<extra></extra>",
         "legendgroup": "01389-00001 | Grubhub",
         "marker": {
          "color": "#EF553B",
          "opacity": 0.7,
          "size": 10,
          "symbol": "circle"
         },
         "mode": "markers",
         "name": "01389-00001 | Grubhub",
         "orientation": "v",
         "showlegend": true,
         "type": "scatter",
         "x": {
          "bdata": "w/UoXI+CbUA=",
          "dtype": "f8"
         },
         "xaxis": "x",
         "y": {
          "bdata": "PQrXo3A9NUA=",
          "dtype": "f8"
         },
         "yaxis": "y"
        },
        {
         "hovertemplate": "Label=01389-00001 | UberEats<br>Weekly Revenue=%{x}<br>Average Order Value=%{y}<extra></extra>",
         "legendgroup": "01389-00001 | UberEats",
         "marker": {
          "color": "#00cc96",
          "opacity": 0.7,
          "size": 10,
          "symbol": "circle"
         },
         "mode": "markers",
         "name": "01389-00001 | UberEats",
         "orientation": "v",
         "showlegend": true,
         "type": "scatter",
         "x": {
          "bdata": "XI/C9ah/q0A=",
          "dtype": "f8"
         },
         "xaxis": "x",
         "y": {
          "bdata": "SOF6FK5HNEA=",
          "dtype": "f8"
         },
         "yaxis": "y"
        },
        {
         "hovertemplate": "Label=01389-00001 | DoorDash<br>Weekly Revenue=%{x}<br>Average Order Value=%{y}<extra></extra>",
         "legendgroup": "01389-00001 | DoorDash",
         "marker": {
          "color": "#ab63fa",
          "opacity": 0.7,
          "size": 10,
          "symbol": "circle"
         },
         "mode": "markers",
         "name": "01389-00001 | DoorDash",
         "orientation": "v",
         "showlegend": true,
         "type": "scatter",
         "x": {
          "bdata": "CtejcIUb4kA=",
          "dtype": "f8"
         },
         "xaxis": "x",
         "y": {
          "bdata": "rkfhehSuMkA=",
          "dtype": "f8"
         },
         "yaxis": "y"
        },
        {
         "hovertemplate": "Label=01389-00001 | Mobile<br>Weekly Revenue=%{x}<br>Average Order Value=%{y}<extra></extra>",
         "legendgroup": "01389-00001 | Mobile",
         "marker": {
          "color": "#FFA15A",
          "opacity": 0.7,
          "size": 10,
          "symbol": "circle"
         },
         "mode": "markers",
         "name": "01389-00001 | Mobile",
         "orientation": "v",
         "showlegend": true,
         "type": "scatter",
         "x": {
          "bdata": "SOF6FOrk9kA=",
          "dtype": "f8"
         },
         "xaxis": "x",
         "y": {
          "bdata": "zczMzMxMMkA=",
          "dtype": "f8"
         },
         "yaxis": "y"
        },
        {
         "hovertemplate": "Label=01389-00002 | UberEats<br>Weekly Revenue=%{x}<br>Average Order Value=%{y}<extra></extra>",
         "legendgroup": "01389-00002 | UberEats",
         "marker": {
          "color": "#19d3f3",
          "opacity": 0.7,
          "size": 10,
          "symbol": "circle"
         },
         "mode": "markers",
         "name": "01389-00002 | UberEats",
         "orientation": "v",
         "showlegend": true,
         "type": "scatter",
         "x": {
          "bdata": "PQrXo3AumEA=",
          "dtype": "f8"
         },
         "xaxis": "x",
         "y": {
          "bdata": "hetRuB7FNUA=",
          "dtype": "f8"
         },
         "yaxis": "y"
        },
        {
         "hovertemplate": "Label=01389-00002 | Grubhub<br>Weekly Revenue=%{x}<br>Average Order Value=%{y}<extra></extra>",
         "legendgroup": "01389-00002 | Grubhub",
         "marker": {
          "color": "#FF6692",
          "opacity": 0.7,
          "size": 10,
          "symbol": "circle"
         },
         "mode": "markers",
         "name": "01389-00002 | Grubhub",
         "orientation": "v",
         "showlegend": true,
         "type": "scatter",
         "x": {
          "bdata": "AAAAAAC0eUA=",
          "dtype": "f8"
         },
         "xaxis": "x",
         "y": {
          "bdata": "PQrXo3B9NUA=",
          "dtype": "f8"
         },
         "yaxis": "y"
        },
        {
         "hovertemplate": "Label=01389-00002 | Website<br>Weekly Revenue=%{x}<br>Average Order Value=%{y}<extra></extra>",
         "legendgroup": "01389-00002 | Website",
         "marker": {
          "color": "#B6E880",
          "opacity": 0.7,
          "size": 10,
          "symbol": "circle"
         },
         "mode": "markers",
         "name": "01389-00002 | Website",
         "orientation": "v",
         "showlegend": true,
         "type": "scatter",
         "x": {
          "bdata": "9ihcjyIP1UA=",
          "dtype": "f8"
         },
         "xaxis": "x",
         "y": {
          "bdata": "rkfhehRuNEA=",
          "dtype": "f8"
         },
         "yaxis": "y"
        },
        {
         "hovertemplate": "Label=01389-00002 | Mobile<br>Weekly Revenue=%{x}<br>Average Order Value=%{y}<extra></extra>",
         "legendgroup": "01389-00002 | Mobile",
         "marker": {
          "color": "#FF97FF",
          "opacity": 0.7,
          "size": 10,
          "symbol": "circle"
         },
         "mode": "markers",
         "name": "01389-00002 | Mobile",
         "orientation": "v",
         "showlegend": true,
         "type": "scatter",
         "x": {
          "bdata": "cT0K17u46UA=",
          "dtype": "f8"
         },
         "xaxis": "x",
         "y": {
          "bdata": "7FG4HoXrMkA=",
          "dtype": "f8"
         },
         "yaxis": "y"
        },
        {
         "hovertemplate": "Label=01389-00002 | DoorDash<br>Weekly Revenue=%{x}<br>Average Order Value=%{y}<extra></extra>",
         "legendgroup": "01389-00002 | DoorDash",
         "marker": {
          "color": "#FECB52",
          "opacity": 0.7,
          "size": 10,
          "symbol": "circle"
         },
         "mode": "markers",
         "name": "01389-00002 | DoorDash",
         "orientation": "v",
         "showlegend": true,
         "type": "scatter",
         "x": {
          "bdata": "AAAAAEA+y0A=",
          "dtype": "f8"
         },
         "xaxis": "x",
         "y": {
          "bdata": "zczMzMwMMkA=",
          "dtype": "f8"
         },
         "yaxis": "y"
        },
        {
         "hovertemplate": "Label=01389-00003 | Grubhub<br>Weekly Revenue=%{x}<br>Average Order Value=%{y}<extra></extra>",
         "legendgroup": "01389-00003 | Grubhub",
         "marker": {
          "color": "#636efa",
          "opacity": 0.7,
          "size": 10,
          "symbol": "circle"
         },
         "mode": "markers",
         "name": "01389-00003 | Grubhub",
         "orientation": "v",
         "showlegend": true,
         "type": "scatter",
         "x": {
          "bdata": "zczMzMwQf0A=",
          "dtype": "f8"
         },
         "xaxis": "x",
         "y": {
          "bdata": "pHA9CtcjOEA=",
          "dtype": "f8"
         },
         "yaxis": "y"
        },
        {
         "hovertemplate": "Label=01389-00003 | UberEats<br>Weekly Revenue=%{x}<br>Average Order Value=%{y}<extra></extra>",
         "legendgroup": "01389-00003 | UberEats",
         "marker": {
          "color": "#EF553B",
          "opacity": 0.7,
          "size": 10,
          "symbol": "circle"
         },
         "mode": "markers",
         "name": "01389-00003 | UberEats",
         "orientation": "v",
         "showlegend": true,
         "type": "scatter",
         "x": {
          "bdata": "mpmZmZlYo0A=",
          "dtype": "f8"
         },
         "xaxis": "x",
         "y": {
          "bdata": "rkfhehQuNUA=",
          "dtype": "f8"
         },
         "yaxis": "y"
        },
        {
         "hovertemplate": "Label=01389-00003 | Website<br>Weekly Revenue=%{x}<br>Average Order Value=%{y}<extra></extra>",
         "legendgroup": "01389-00003 | Website",
         "marker": {
          "color": "#00cc96",
          "opacity": 0.7,
          "size": 10,
          "symbol": "circle"
         },
         "mode": "markers",
         "name": "01389-00003 | Website",
         "orientation": "v",
         "showlegend": true,
         "type": "scatter",
         "x": {
          "bdata": "SOF6FB4300A=",
          "dtype": "f8"
         },
         "xaxis": "x",
         "y": {
          "bdata": "rkfhehQuNEA=",
          "dtype": "f8"
         },
         "yaxis": "y"
        },
        {
         "hovertemplate": "Label=01389-00003 | DoorDash<br>Weekly Revenue=%{x}<br>Average Order Value=%{y}<extra></extra>",
         "legendgroup": "01389-00003 | DoorDash",
         "marker": {
          "color": "#ab63fa",
          "opacity": 0.7,
          "size": 10,
          "symbol": "circle"
         },
         "mode": "markers",
         "name": "01389-00003 | DoorDash",
         "orientation": "v",
         "showlegend": true,
         "type": "scatter",
         "x": {
          "bdata": "H4XrUXgI0kA=",
          "dtype": "f8"
         },
         "xaxis": "x",
         "y": {
          "bdata": "SOF6FK6HMkA=",
          "dtype": "f8"
         },
         "yaxis": "y"
        },
        {
         "hovertemplate": "Label=01389-00003 | Mobile<br>Weekly Revenue=%{x}<br>Average Order Value=%{y}<extra></extra>",
         "legendgroup": "01389-00003 | Mobile",
         "marker": {
          "color": "#FFA15A",
          "opacity": 0.7,
          "size": 10,
          "symbol": "circle"
         },
         "mode": "markers",
         "name": "01389-00003 | Mobile",
         "orientation": "v",
         "showlegend": true,
         "type": "scatter",
         "x": {
          "bdata": "exSuR4lR4UA=",
          "dtype": "f8"
         },
         "xaxis": "x",
         "y": {
          "bdata": "AAAAAACAMkA=",
          "dtype": "f8"
         },
         "yaxis": "y"
        },
        {
         "hovertemplate": "Label=01389-00004 | UberEats<br>Weekly Revenue=%{x}<br>Average Order Value=%{y}<extra></extra>",
         "legendgroup": "01389-00004 | UberEats",
         "marker": {
          "color": "#19d3f3",
          "opacity": 0.7,
          "size": 10,
          "symbol": "circle"
         },
         "mode": "markers",
         "name": "01389-00004 | UberEats",
         "orientation": "v",
         "showlegend": true,
         "type": "scatter",
         "x": {
          "bdata": "SOF6FK7ZgkA=",
          "dtype": "f8"
         },
         "xaxis": "x",
         "y": {
          "bdata": "16NwPQrXNkA=",
          "dtype": "f8"
         },
         "yaxis": "y"
        },
        {
         "hovertemplate": "Label=01389-00004 | Website<br>Weekly Revenue=%{x}<br>Average Order Value=%{y}<extra></extra>",
         "legendgroup": "01389-00004 | Website",
         "marker": {
          "color": "#FF6692",
          "opacity": 0.7,
          "size": 10,
          "symbol": "circle"
         },
         "mode": "markers",
         "name": "01389-00004 | Website",
         "orientation": "v",
         "showlegend": true,
         "type": "scatter",
         "x": {
          "bdata": "9ihcj7K420A=",
          "dtype": "f8"
         },
         "xaxis": "x",
         "y": {
          "bdata": "AAAAAABANkA=",
          "dtype": "f8"
         },
         "yaxis": "y"
        },
        {
         "hovertemplate": "Label=01389-00004 | Mobile<br>Weekly Revenue=%{x}<br>Average Order Value=%{y}<extra></extra>",
         "legendgroup": "01389-00004 | Mobile",
         "marker": {
          "color": "#B6E880",
          "opacity": 0.7,
          "size": 10,
          "symbol": "circle"
         },
         "mode": "markers",
         "name": "01389-00004 | Mobile",
         "orientation": "v",
         "showlegend": true,
         "type": "scatter",
         "x": {
          "bdata": "KVyPwt1D70A=",
          "dtype": "f8"
         },
         "xaxis": "x",
         "y": {
          "bdata": "ZmZmZmYmNUA=",
          "dtype": "f8"
         },
         "yaxis": "y"
        },
        {
         "hovertemplate": "Label=01389-00004 | DoorDash<br>Weekly Revenue=%{x}<br>Average Order Value=%{y}<extra></extra>",
         "legendgroup": "01389-00004 | DoorDash",
         "marker": {
          "color": "#FF97FF",
          "opacity": 0.7,
          "size": 10,
          "symbol": "circle"
         },
         "mode": "markers",
         "name": "01389-00004 | DoorDash",
         "orientation": "v",
         "showlegend": true,
         "type": "scatter",
         "x": {
          "bdata": "uB6F62Fa2EA=",
          "dtype": "f8"
         },
         "xaxis": "x",
         "y": {
          "bdata": "j8L1KFwPNEA=",
          "dtype": "f8"
         },
         "yaxis": "y"
        },
        {
         "hovertemplate": "Label=01389-00005 | UberEats<br>Weekly Revenue=%{x}<br>Average Order Value=%{y}<extra></extra>",
         "legendgroup": "01389-00005 | UberEats",
         "marker": {
          "color": "#FECB52",
          "opacity": 0.7,
          "size": 10,
          "symbol": "circle"
         },
         "mode": "markers",
         "name": "01389-00005 | UberEats",
         "orientation": "v",
         "showlegend": true,
         "type": "scatter",
         "x": {
          "bdata": "w/UoXI9+kUA=",
          "dtype": "f8"
         },
         "xaxis": "x",
         "y": {
          "bdata": "UrgehesROEA=",
          "dtype": "f8"
         },
         "yaxis": "y"
        },
        {
         "hovertemplate": "Label=01389-00005 | Website<br>Weekly Revenue=%{x}<br>Average Order Value=%{y}<extra></extra>",
         "legendgroup": "01389-00005 | Website",
         "marker": {
          "color": "#636efa",
          "opacity": 0.7,
          "size": 10,
          "symbol": "circle"
         },
         "mode": "markers",
         "name": "01389-00005 | Website",
         "orientation": "v",
         "showlegend": true,
         "type": "scatter",
         "x": {
          "bdata": "zczMzMxm3kA=",
          "dtype": "f8"
         },
         "xaxis": "x",
         "y": {
          "bdata": "exSuR+F6NkA=",
          "dtype": "f8"
         },
         "yaxis": "y"
        },
        {
         "hovertemplate": "Label=01389-00005 | Mobile<br>Weekly Revenue=%{x}<br>Average Order Value=%{y}<extra></extra>",
         "legendgroup": "01389-00005 | Mobile",
         "marker": {
          "color": "#EF553B",
          "opacity": 0.7,
          "size": 10,
          "symbol": "circle"
         },
         "mode": "markers",
         "name": "01389-00005 | Mobile",
         "orientation": "v",
         "showlegend": true,
         "type": "scatter",
         "x": {
          "bdata": "9ihcj9Jq8kA=",
          "dtype": "f8"
         },
         "xaxis": "x",
         "y": {
          "bdata": "4XoUrkdhNEA=",
          "dtype": "f8"
         },
         "yaxis": "y"
        },
        {
         "hovertemplate": "Label=01389-00005 | DoorDash<br>Weekly Revenue=%{x}<br>Average Order Value=%{y}<extra></extra>",
         "legendgroup": "01389-00005 | DoorDash",
         "marker": {
          "color": "#00cc96",
          "opacity": 0.7,
          "size": 10,
          "symbol": "circle"
         },
         "mode": "markers",
         "name": "01389-00005 | DoorDash",
         "orientation": "v",
         "showlegend": true,
         "type": "scatter",
         "x": {
          "bdata": "ZmZmZpbf1UA=",
          "dtype": "f8"
         },
         "xaxis": "x",
         "y": {
          "bdata": "KVyPwvXoMkA=",
          "dtype": "f8"
         },
         "yaxis": "y"
        },
        {
         "hovertemplate": "Label=01389-00008 | UberEats<br>Weekly Revenue=%{x}<br>Average Order Value=%{y}<extra></extra>",
         "legendgroup": "01389-00008 | UberEats",
         "marker": {
          "color": "#ab63fa",
          "opacity": 0.7,
          "size": 10,
          "symbol": "circle"
         },
         "mode": "markers",
         "name": "01389-00008 | UberEats",
         "orientation": "v",
         "showlegend": true,
         "type": "scatter",
         "x": {
          "bdata": "ZmZmZmbHkEA=",
          "dtype": "f8"
         },
         "xaxis": "x",
         "y": {
          "bdata": "mpmZmZlZN0A=",
          "dtype": "f8"
         },
         "yaxis": "y"
        },
        {
         "hovertemplate": "Label=01389-00008 | Website<br>Weekly Revenue=%{x}<br>Average Order Value=%{y}<extra></extra>",
         "legendgroup": "01389-00008 | Website",
         "marker": {
          "color": "#FFA15A",
          "opacity": 0.7,
          "size": 10,
          "symbol": "circle"
         },
         "mode": "markers",
         "name": "01389-00008 | Website",
         "orientation": "v",
         "showlegend": true,
         "type": "scatter",
         "x": {
          "bdata": "16NwPXqD3UA=",
          "dtype": "f8"
         },
         "xaxis": "x",
         "y": {
          "bdata": "H4XrUbgeNUA=",
          "dtype": "f8"
         },
         "yaxis": "y"
        },
        {
         "hovertemplate": "Label=01389-00008 | Mobile<br>Weekly Revenue=%{x}<br>Average Order Value=%{y}<extra></extra>",
         "legendgroup": "01389-00008 | Mobile",
         "marker": {
          "color": "#19d3f3",
          "opacity": 0.7,
          "size": 10,
          "symbol": "circle"
         },
         "mode": "markers",
         "name": "01389-00008 | Mobile",
         "orientation": "v",
         "showlegend": true,
         "type": "scatter",
         "x": {
          "bdata": "7FG4HjUK8UA=",
          "dtype": "f8"
         },
         "xaxis": "x",
         "y": {
          "bdata": "PQrXo3D9MkA=",
          "dtype": "f8"
         },
         "yaxis": "y"
        },
        {
         "hovertemplate": "Label=01389-00008 | DoorDash<br>Weekly Revenue=%{x}<br>Average Order Value=%{y}<extra></extra>",
         "legendgroup": "01389-00008 | DoorDash",
         "marker": {
          "color": "#FF6692",
          "opacity": 0.7,
          "size": 10,
          "symbol": "circle"
         },
         "mode": "markers",
         "name": "01389-00008 | DoorDash",
         "orientation": "v",
         "showlegend": true,
         "type": "scatter",
         "x": {
          "bdata": "CtejcP0z0EA=",
          "dtype": "f8"
         },
         "xaxis": "x",
         "y": {
          "bdata": "rkfhehTuMEA=",
          "dtype": "f8"
         },
         "yaxis": "y"
        },
        {
         "hovertemplate": "Label=01389-00010 | UberEats<br>Weekly Revenue=%{x}<br>Average Order Value=%{y}<extra></extra>",
         "legendgroup": "01389-00010 | UberEats",
         "marker": {
          "color": "#B6E880",
          "opacity": 0.7,
          "size": 10,
          "symbol": "circle"
         },
         "mode": "markers",
         "name": "01389-00010 | UberEats",
         "orientation": "v",
         "showlegend": true,
         "type": "scatter",
         "x": {
          "bdata": "7FG4HoVIk0A=",
          "dtype": "f8"
         },
         "xaxis": "x",
         "y": {
          "bdata": "9ihcj8I1OUA=",
          "dtype": "f8"
         },
         "yaxis": "y"
        },
        {
         "hovertemplate": "Label=01389-00010 | Website<br>Weekly Revenue=%{x}<br>Average Order Value=%{y}<extra></extra>",
         "legendgroup": "01389-00010 | Website",
         "marker": {
          "color": "#FF97FF",
          "opacity": 0.7,
          "size": 10,
          "symbol": "circle"
         },
         "mode": "markers",
         "name": "01389-00010 | Website",
         "orientation": "v",
         "showlegend": true,
         "type": "scatter",
         "x": {
          "bdata": "exSuR3FR3EA=",
          "dtype": "f8"
         },
         "xaxis": "x",
         "y": {
          "bdata": "9ihcj8J1N0A=",
          "dtype": "f8"
         },
         "yaxis": "y"
        },
        {
         "hovertemplate": "Label=01389-00010 | Mobile<br>Weekly Revenue=%{x}<br>Average Order Value=%{y}<extra></extra>",
         "legendgroup": "01389-00010 | Mobile",
         "marker": {
          "color": "#FECB52",
          "opacity": 0.7,
          "size": 10,
          "symbol": "circle"
         },
         "mode": "markers",
         "name": "01389-00010 | Mobile",
         "orientation": "v",
         "showlegend": true,
         "type": "scatter",
         "x": {
          "bdata": "Urgehfsb6UA=",
          "dtype": "f8"
         },
         "xaxis": "x",
         "y": {
          "bdata": "PQrXo3C9NEA=",
          "dtype": "f8"
         },
         "yaxis": "y"
        },
        {
         "hovertemplate": "Label=01389-00010 | DoorDash<br>Weekly Revenue=%{x}<br>Average Order Value=%{y}<extra></extra>",
         "legendgroup": "01389-00010 | DoorDash",
         "marker": {
          "color": "#636efa",
          "opacity": 0.7,
          "size": 10,
          "symbol": "circle"
         },
         "mode": "markers",
         "name": "01389-00010 | DoorDash",
         "orientation": "v",
         "showlegend": true,
         "type": "scatter",
         "x": {
          "bdata": "uB6F65GJ2EA=",
          "dtype": "f8"
         },
         "xaxis": "x",
         "y": {
          "bdata": "4XoUrkehM0A=",
          "dtype": "f8"
         },
         "yaxis": "y"
        },
        {
         "hovertemplate": "Label=01389-00011 | Website<br>Weekly Revenue=%{x}<br>Average Order Value=%{y}<extra></extra>",
         "legendgroup": "01389-00011 | Website",
         "marker": {
          "color": "#EF553B",
          "opacity": 0.7,
          "size": 10,
          "symbol": "circle"
         },
         "mode": "markers",
         "name": "01389-00011 | Website",
         "orientation": "v",
         "showlegend": true,
         "type": "scatter",
         "x": {
          "bdata": "cT0K17tu4kA=",
          "dtype": "f8"
         },
         "xaxis": "x",
         "y": {
          "bdata": "FK5H4XoUNEA=",
          "dtype": "f8"
         },
         "yaxis": "y"
        },
        {
         "hovertemplate": "Label=01389-00011 | UberEats<br>Weekly Revenue=%{x}<br>Average Order Value=%{y}<extra></extra>",
         "legendgroup": "01389-00011 | UberEats",
         "marker": {
          "color": "#00cc96",
          "opacity": 0.7,
          "size": 10,
          "symbol": "circle"
         },
         "mode": "markers",
         "name": "01389-00011 | UberEats",
         "orientation": "v",
         "showlegend": true,
         "type": "scatter",
         "x": {
          "bdata": "hetRuN6StEA=",
          "dtype": "f8"
         },
         "xaxis": "x",
         "y": {
          "bdata": "MzMzMzPzMkA=",
          "dtype": "f8"
         },
         "yaxis": "y"
        },
        {
         "hovertemplate": "Label=01389-00011 | Mobile<br>Weekly Revenue=%{x}<br>Average Order Value=%{y}<extra></extra>",
         "legendgroup": "01389-00011 | Mobile",
         "marker": {
          "color": "#ab63fa",
          "opacity": 0.7,
          "size": 10,
          "symbol": "circle"
         },
         "mode": "markers",
         "name": "01389-00011 | Mobile",
         "orientation": "v",
         "showlegend": true,
         "type": "scatter",
         "x": {
          "bdata": "4XoUrp/48UA=",
          "dtype": "f8"
         },
         "xaxis": "x",
         "y": {
          "bdata": "H4XrUbjeMkA=",
          "dtype": "f8"
         },
         "yaxis": "y"
        },
        {
         "hovertemplate": "Label=01389-00011 | DoorDash<br>Weekly Revenue=%{x}<br>Average Order Value=%{y}<extra></extra>",
         "legendgroup": "01389-00011 | DoorDash",
         "marker": {
          "color": "#FFA15A",
          "opacity": 0.7,
          "size": 10,
          "symbol": "circle"
         },
         "mode": "markers",
         "name": "01389-00011 | DoorDash",
         "orientation": "v",
         "showlegend": true,
         "type": "scatter",
         "x": {
          "bdata": "SOF6FG7k3UA=",
          "dtype": "f8"
         },
         "xaxis": "x",
         "y": {
          "bdata": "SOF6FK4HMkA=",
          "dtype": "f8"
         },
         "yaxis": "y"
        },
        {
         "hovertemplate": "Label=01389-00011 | Grubhub<br>Weekly Revenue=%{x}<br>Average Order Value=%{y}<extra></extra>",
         "legendgroup": "01389-00011 | Grubhub",
         "marker": {
          "color": "#19d3f3",
          "opacity": 0.7,
          "size": 10,
          "symbol": "circle"
         },
         "mode": "markers",
         "name": "01389-00011 | Grubhub",
         "orientation": "v",
         "showlegend": true,
         "type": "scatter",
         "x": {
          "bdata": "CtejcD1yeEA=",
          "dtype": "f8"
         },
         "xaxis": "x",
         "y": {
          "bdata": "XI/C9SjcL0A=",
          "dtype": "f8"
         },
         "yaxis": "y"
        },
        {
         "hovertemplate": "Label=01389-00012 | Website<br>Weekly Revenue=%{x}<br>Average Order Value=%{y}<extra></extra>",
         "legendgroup": "01389-00012 | Website",
         "marker": {
          "color": "#FF6692",
          "opacity": 0.7,
          "size": 10,
          "symbol": "circle"
         },
         "mode": "markers",
         "name": "01389-00012 | Website",
         "orientation": "v",
         "showlegend": true,
         "type": "scatter",
         "x": {
          "bdata": "SOF6FH7X1UA=",
          "dtype": "f8"
         },
         "xaxis": "x",
         "y": {
          "bdata": "w/UoXI8CNUA=",
          "dtype": "f8"
         },
         "yaxis": "y"
        },
        {
         "hovertemplate": "Label=01389-00012 | Mobile<br>Weekly Revenue=%{x}<br>Average Order Value=%{y}<extra></extra>",
         "legendgroup": "01389-00012 | Mobile",
         "marker": {
          "color": "#B6E880",
          "opacity": 0.7,
          "size": 10,
          "symbol": "circle"
         },
         "mode": "markers",
         "name": "01389-00012 | Mobile",
         "orientation": "v",
         "showlegend": true,
         "type": "scatter",
         "x": {
          "bdata": "w/UoXI/C4kA=",
          "dtype": "f8"
         },
         "xaxis": "x",
         "y": {
          "bdata": "cT0K16OwNEA=",
          "dtype": "f8"
         },
         "yaxis": "y"
        },
        {
         "hovertemplate": "Label=01389-00012 | UberEats<br>Weekly Revenue=%{x}<br>Average Order Value=%{y}<extra></extra>",
         "legendgroup": "01389-00012 | UberEats",
         "marker": {
          "color": "#FF97FF",
          "opacity": 0.7,
          "size": 10,
          "symbol": "circle"
         },
         "mode": "markers",
         "name": "01389-00012 | UberEats",
         "orientation": "v",
         "showlegend": true,
         "type": "scatter",
         "x": {
          "bdata": "MzMzMzNDmkA=",
          "dtype": "f8"
         },
         "xaxis": "x",
         "y": {
          "bdata": "SOF6FK4HM0A=",
          "dtype": "f8"
         },
         "yaxis": "y"
        },
        {
         "hovertemplate": "Label=01389-00012 | DoorDash<br>Weekly Revenue=%{x}<br>Average Order Value=%{y}<extra></extra>",
         "legendgroup": "01389-00012 | DoorDash",
         "marker": {
          "color": "#FECB52",
          "opacity": 0.7,
          "size": 10,
          "symbol": "circle"
         },
         "mode": "markers",
         "name": "01389-00012 | DoorDash",
         "orientation": "v",
         "showlegend": true,
         "type": "scatter",
         "x": {
          "bdata": "H4XrUXg+zkA=",
          "dtype": "f8"
         },
         "xaxis": "x",
         "y": {
          "bdata": "exSuR+G6MkA=",
          "dtype": "f8"
         },
         "yaxis": "y"
        },
        {
         "hovertemplate": "Label=01389-00013 | Grubhub<br>Weekly Revenue=%{x}<br>Average Order Value=%{y}<extra></extra>",
         "legendgroup": "01389-00013 | Grubhub",
         "marker": {
          "color": "#636efa",
          "opacity": 0.7,
          "size": 10,
          "symbol": "circle"
         },
         "mode": "markers",
         "name": "01389-00013 | Grubhub",
         "orientation": "v",
         "showlegend": true,
         "type": "scatter",
         "x": {
          "bdata": "AAAAAACwbUA=",
          "dtype": "f8"
         },
         "xaxis": "x",
         "y": {
          "bdata": "j8L1KFyPNEA=",
          "dtype": "f8"
         },
         "yaxis": "y"
        },
        {
         "hovertemplate": "Label=01389-00013 | Website<br>Weekly Revenue=%{x}<br>Average Order Value=%{y}<extra></extra>",
         "legendgroup": "01389-00013 | Website",
         "marker": {
          "color": "#EF553B",
          "opacity": 0.7,
          "size": 10,
          "symbol": "circle"
         },
         "mode": "markers",
         "name": "01389-00013 | Website",
         "orientation": "v",
         "showlegend": true,
         "type": "scatter",
         "x": {
          "bdata": "4XoUrn9Z4EA=",
          "dtype": "f8"
         },
         "xaxis": "x",
         "y": {
          "bdata": "mpmZmZnZMkA=",
          "dtype": "f8"
         },
         "yaxis": "y"
        },
        {
         "hovertemplate": "Label=01389-00013 | UberEats<br>Weekly Revenue=%{x}<br>Average Order Value=%{y}<extra></extra>",
         "legendgroup": "01389-00013 | UberEats",
         "marker": {
          "color": "#00cc96",
          "opacity": 0.7,
          "size": 10,
          "symbol": "circle"
         },
         "mode": "markers",
         "name": "01389-00013 | UberEats",
         "orientation": "v",
         "showlegend": true,
         "type": "scatter",
         "x": {
          "bdata": "MzMzM7NcrkA=",
          "dtype": "f8"
         },
         "xaxis": "x",
         "y": {
          "bdata": "SOF6FK4HMkA=",
          "dtype": "f8"
         },
         "yaxis": "y"
        },
        {
         "hovertemplate": "Label=01389-00013 | DoorDash<br>Weekly Revenue=%{x}<br>Average Order Value=%{y}<extra></extra>",
         "legendgroup": "01389-00013 | DoorDash",
         "marker": {
          "color": "#ab63fa",
          "opacity": 0.7,
          "size": 10,
          "symbol": "circle"
         },
         "mode": "markers",
         "name": "01389-00013 | DoorDash",
         "orientation": "v",
         "showlegend": true,
         "type": "scatter",
         "x": {
          "bdata": "CtejcD2z0EA=",
          "dtype": "f8"
         },
         "xaxis": "x",
         "y": {
          "bdata": "FK5H4XqUMUA=",
          "dtype": "f8"
         },
         "yaxis": "y"
        },
        {
         "hovertemplate": "Label=01389-00013 | Mobile<br>Weekly Revenue=%{x}<br>Average Order Value=%{y}<extra></extra>",
         "legendgroup": "01389-00013 | Mobile",
         "marker": {
          "color": "#FFA15A",
          "opacity": 0.7,
          "size": 10,
          "symbol": "circle"
         },
         "mode": "markers",
         "name": "01389-00013 | Mobile",
         "orientation": "v",
         "showlegend": true,
         "type": "scatter",
         "x": {
          "bdata": "AAAAAGDu7EA=",
          "dtype": "f8"
         },
         "xaxis": "x",
         "y": {
          "bdata": "16NwPQrXL0A=",
          "dtype": "f8"
         },
         "yaxis": "y"
        },
        {
         "hovertemplate": "Label=01389-00014 | UberEats<br>Weekly Revenue=%{x}<br>Average Order Value=%{y}<extra></extra>",
         "legendgroup": "01389-00014 | UberEats",
         "marker": {
          "color": "#19d3f3",
          "opacity": 0.7,
          "size": 10,
          "symbol": "circle"
         },
         "mode": "markers",
         "name": "01389-00014 | UberEats",
         "orientation": "v",
         "showlegend": true,
         "type": "scatter",
         "x": {
          "bdata": "uB6F61G8eUA=",
          "dtype": "f8"
         },
         "xaxis": "x",
         "y": {
          "bdata": "hetRuB5FOEA=",
          "dtype": "f8"
         },
         "yaxis": "y"
        },
        {
         "hovertemplate": "Label=01389-00014 | Website<br>Weekly Revenue=%{x}<br>Average Order Value=%{y}<extra></extra>",
         "legendgroup": "01389-00014 | Website",
         "marker": {
          "color": "#FF6692",
          "opacity": 0.7,
          "size": 10,
          "symbol": "circle"
         },
         "mode": "markers",
         "name": "01389-00014 | Website",
         "orientation": "v",
         "showlegend": true,
         "type": "scatter",
         "x": {
          "bdata": "AAAAAIAY2UA=",
          "dtype": "f8"
         },
         "xaxis": "x",
         "y": {
          "bdata": "zczMzMxMNkA=",
          "dtype": "f8"
         },
         "yaxis": "y"
        },
        {
         "hovertemplate": "Label=01389-00014 | Mobile<br>Weekly Revenue=%{x}<br>Average Order Value=%{y}<extra></extra>",
         "legendgroup": "01389-00014 | Mobile",
         "marker": {
          "color": "#B6E880",
          "opacity": 0.7,
          "size": 10,
          "symbol": "circle"
         },
         "mode": "markers",
         "name": "01389-00014 | Mobile",
         "orientation": "v",
         "showlegend": true,
         "type": "scatter",
         "x": {
          "bdata": "XI/C9ejU50A=",
          "dtype": "f8"
         },
         "xaxis": "x",
         "y": {
          "bdata": "exSuR+F6NEA=",
          "dtype": "f8"
         },
         "yaxis": "y"
        },
        {
         "hovertemplate": "Label=01389-00014 | DoorDash<br>Weekly Revenue=%{x}<br>Average Order Value=%{y}<extra></extra>",
         "legendgroup": "01389-00014 | DoorDash",
         "marker": {
          "color": "#FF97FF",
          "opacity": 0.7,
          "size": 10,
          "symbol": "circle"
         },
         "mode": "markers",
         "name": "01389-00014 | DoorDash",
         "orientation": "v",
         "showlegend": true,
         "type": "scatter",
         "x": {
          "bdata": "9ihcj6KHzkA=",
          "dtype": "f8"
         },
         "xaxis": "x",
         "y": {
          "bdata": "ZmZmZmamM0A=",
          "dtype": "f8"
         },
         "yaxis": "y"
        },
        {
         "hovertemplate": "Label=01494-00001 | UberEats<br>Weekly Revenue=%{x}<br>Average Order Value=%{y}<extra></extra>",
         "legendgroup": "01494-00001 | UberEats",
         "marker": {
          "color": "#FECB52",
          "opacity": 0.7,
          "size": 10,
          "symbol": "circle"
         },
         "mode": "markers",
         "name": "01494-00001 | UberEats",
         "orientation": "v",
         "showlegend": true,
         "type": "scatter",
         "x": {
          "bdata": "H4XrUfi5skA=",
          "dtype": "f8"
         },
         "xaxis": "x",
         "y": {
          "bdata": "SOF6FK6HNkA=",
          "dtype": "f8"
         },
         "yaxis": "y"
        },
        {
         "hovertemplate": "Label=01494-00001 | Website<br>Weekly Revenue=%{x}<br>Average Order Value=%{y}<extra></extra>",
         "legendgroup": "01494-00001 | Website",
         "marker": {
          "color": "#636efa",
          "opacity": 0.7,
          "size": 10,
          "symbol": "circle"
         },
         "mode": "markers",
         "name": "01494-00001 | Website",
         "orientation": "v",
         "showlegend": true,
         "type": "scatter",
         "x": {
          "bdata": "FK5H4fpl3kA=",
          "dtype": "f8"
         },
         "xaxis": "x",
         "y": {
          "bdata": "mpmZmZlZNUA=",
          "dtype": "f8"
         },
         "yaxis": "y"
        },
        {
         "hovertemplate": "Label=01494-00001 | Grubhub<br>Weekly Revenue=%{x}<br>Average Order Value=%{y}<extra></extra>",
         "legendgroup": "01494-00001 | Grubhub",
         "marker": {
          "color": "#EF553B",
          "opacity": 0.7,
          "size": 10,
          "symbol": "circle"
         },
         "mode": "markers",
         "name": "01494-00001 | Grubhub",
         "orientation": "v",
         "showlegend": true,
         "type": "scatter",
         "x": {
          "bdata": "CtejcD2WeUA=",
          "dtype": "f8"
         },
         "xaxis": "x",
         "y": {
          "bdata": "MzMzMzMzNUA=",
          "dtype": "f8"
         },
         "yaxis": "y"
        },
        {
         "hovertemplate": "Label=01494-00001 | Mobile<br>Weekly Revenue=%{x}<br>Average Order Value=%{y}<extra></extra>",
         "legendgroup": "01494-00001 | Mobile",
         "marker": {
          "color": "#00cc96",
          "opacity": 0.7,
          "size": 10,
          "symbol": "circle"
         },
         "mode": "markers",
         "name": "01494-00001 | Mobile",
         "orientation": "v",
         "showlegend": true,
         "type": "scatter",
         "x": {
          "bdata": "cT0K12NI40A=",
          "dtype": "f8"
         },
         "xaxis": "x",
         "y": {
          "bdata": "H4XrUbieM0A=",
          "dtype": "f8"
         },
         "yaxis": "y"
        },
        {
         "hovertemplate": "Label=01494-00001 | DoorDash<br>Weekly Revenue=%{x}<br>Average Order Value=%{y}<extra></extra>",
         "legendgroup": "01494-00001 | DoorDash",
         "marker": {
          "color": "#ab63fa",
          "opacity": 0.7,
          "size": 10,
          "symbol": "circle"
         },
         "mode": "markers",
         "name": "01494-00001 | DoorDash",
         "orientation": "v",
         "showlegend": true,
         "type": "scatter",
         "x": {
          "bdata": "cT0K13tW4EA=",
          "dtype": "f8"
         },
         "xaxis": "x",
         "y": {
          "bdata": "exSuR+H6MkA=",
          "dtype": "f8"
         },
         "yaxis": "y"
        },
        {
         "hovertemplate": "Label=01494-00002 | UberEats<br>Weekly Revenue=%{x}<br>Average Order Value=%{y}<extra></extra>",
         "legendgroup": "01494-00002 | UberEats",
         "marker": {
          "color": "#FFA15A",
          "opacity": 0.7,
          "size": 10,
          "symbol": "circle"
         },
         "mode": "markers",
         "name": "01494-00002 | UberEats",
         "orientation": "v",
         "showlegend": true,
         "type": "scatter",
         "x": {
          "bdata": "hetRuB7LhkA=",
          "dtype": "f8"
         },
         "xaxis": "x",
         "y": {
          "bdata": "16NwPQrXN0A=",
          "dtype": "f8"
         },
         "yaxis": "y"
        },
        {
         "hovertemplate": "Label=01494-00002 | Mobile<br>Weekly Revenue=%{x}<br>Average Order Value=%{y}<extra></extra>",
         "legendgroup": "01494-00002 | Mobile",
         "marker": {
          "color": "#19d3f3",
          "opacity": 0.7,
          "size": 10,
          "symbol": "circle"
         },
         "mode": "markers",
         "name": "01494-00002 | Mobile",
         "orientation": "v",
         "showlegend": true,
         "type": "scatter",
         "x": {
          "bdata": "16NwPXqx3EA=",
          "dtype": "f8"
         },
         "xaxis": "x",
         "y": {
          "bdata": "9ihcj8K1M0A=",
          "dtype": "f8"
         },
         "yaxis": "y"
        },
        {
         "hovertemplate": "Label=01494-00002 | Website<br>Weekly Revenue=%{x}<br>Average Order Value=%{y}<extra></extra>",
         "legendgroup": "01494-00002 | Website",
         "marker": {
          "color": "#FF6692",
          "opacity": 0.7,
          "size": 10,
          "symbol": "circle"
         },
         "mode": "markers",
         "name": "01494-00002 | Website",
         "orientation": "v",
         "showlegend": true,
         "type": "scatter",
         "x": {
          "bdata": "H4XrUXjdy0A=",
          "dtype": "f8"
         },
         "xaxis": "x",
         "y": {
          "bdata": "4XoUrkdhMkA=",
          "dtype": "f8"
         },
         "yaxis": "y"
        },
        {
         "hovertemplate": "Label=01494-00002 | DoorDash<br>Weekly Revenue=%{x}<br>Average Order Value=%{y}<extra></extra>",
         "legendgroup": "01494-00002 | DoorDash",
         "marker": {
          "color": "#B6E880",
          "opacity": 0.7,
          "size": 10,
          "symbol": "circle"
         },
         "mode": "markers",
         "name": "01494-00002 | DoorDash",
         "orientation": "v",
         "showlegend": true,
         "type": "scatter",
         "x": {
          "bdata": "4XoUrkfS0kA=",
          "dtype": "f8"
         },
         "xaxis": "x",
         "y": {
          "bdata": "ZmZmZmZmMUA=",
          "dtype": "f8"
         },
         "yaxis": "y"
        },
        {
         "hovertemplate": "Label=01494-00004 | UberEats<br>Weekly Revenue=%{x}<br>Average Order Value=%{y}<extra></extra>",
         "legendgroup": "01494-00004 | UberEats",
         "marker": {
          "color": "#FF97FF",
          "opacity": 0.7,
          "size": 10,
          "symbol": "circle"
         },
         "mode": "markers",
         "name": "01494-00004 | UberEats",
         "orientation": "v",
         "showlegend": true,
         "type": "scatter",
         "x": {
          "bdata": "FK5H4XpCmkA=",
          "dtype": "f8"
         },
         "xaxis": "x",
         "y": {
          "bdata": "mpmZmZlZOUA=",
          "dtype": "f8"
         },
         "yaxis": "y"
        },
        {
         "hovertemplate": "Label=01494-00004 | Website<br>Weekly Revenue=%{x}<br>Average Order Value=%{y}<extra></extra>",
         "legendgroup": "01494-00004 | Website",
         "marker": {
          "color": "#FECB52",
          "opacity": 0.7,
          "size": 10,
          "symbol": "circle"
         },
         "mode": "markers",
         "name": "01494-00004 | Website",
         "orientation": "v",
         "showlegend": true,
         "type": "scatter",
         "x": {
          "bdata": "16NwPfpf20A=",
          "dtype": "f8"
         },
         "xaxis": "x",
         "y": {
          "bdata": "zczMzMwMOUA=",
          "dtype": "f8"
         },
         "yaxis": "y"
        },
        {
         "hovertemplate": "Label=01494-00004 | Mobile<br>Weekly Revenue=%{x}<br>Average Order Value=%{y}<extra></extra>",
         "legendgroup": "01494-00004 | Mobile",
         "marker": {
          "color": "#636efa",
          "opacity": 0.7,
          "size": 10,
          "symbol": "circle"
         },
         "mode": "markers",
         "name": "01494-00004 | Mobile",
         "orientation": "v",
         "showlegend": true,
         "type": "scatter",
         "x": {
          "bdata": "H4XrUZCP60A=",
          "dtype": "f8"
         },
         "xaxis": "x",
         "y": {
          "bdata": "KVyPwvWoNUA=",
          "dtype": "f8"
         },
         "yaxis": "y"
        },
        {
         "hovertemplate": "Label=01494-00004 | DoorDash<br>Weekly Revenue=%{x}<br>Average Order Value=%{y}<extra></extra>",
         "legendgroup": "01494-00004 | DoorDash",
         "marker": {
          "color": "#EF553B",
          "opacity": 0.7,
          "size": 10,
          "symbol": "circle"
         },
         "mode": "markers",
         "name": "01494-00004 | DoorDash",
         "orientation": "v",
         "showlegend": true,
         "type": "scatter",
         "x": {
          "bdata": "AAAAAFDF1kA=",
          "dtype": "f8"
         },
         "xaxis": "x",
         "y": {
          "bdata": "CtejcD3KM0A=",
          "dtype": "f8"
         },
         "yaxis": "y"
        },
        {
         "hovertemplate": "Label=01494-00005 | UberEats<br>Weekly Revenue=%{x}<br>Average Order Value=%{y}<extra></extra>",
         "legendgroup": "01494-00005 | UberEats",
         "marker": {
          "color": "#00cc96",
          "opacity": 0.7,
          "size": 10,
          "symbol": "circle"
         },
         "mode": "markers",
         "name": "01494-00005 | UberEats",
         "orientation": "v",
         "showlegend": true,
         "type": "scatter",
         "x": {
          "bdata": "ZmZmZma2fUA=",
          "dtype": "f8"
         },
         "xaxis": "x",
         "y": {
          "bdata": "KVyPwvXoNkA=",
          "dtype": "f8"
         },
         "yaxis": "y"
        },
        {
         "hovertemplate": "Label=01494-00005 | Website<br>Weekly Revenue=%{x}<br>Average Order Value=%{y}<extra></extra>",
         "legendgroup": "01494-00005 | Website",
         "marker": {
          "color": "#ab63fa",
          "opacity": 0.7,
          "size": 10,
          "symbol": "circle"
         },
         "mode": "markers",
         "name": "01494-00005 | Website",
         "orientation": "v",
         "showlegend": true,
         "type": "scatter",
         "x": {
          "bdata": "AAAAANAi0kA=",
          "dtype": "f8"
         },
         "xaxis": "x",
         "y": {
          "bdata": "H4XrUbgeNkA=",
          "dtype": "f8"
         },
         "yaxis": "y"
        },
        {
         "hovertemplate": "Label=01494-00005 | Mobile<br>Weekly Revenue=%{x}<br>Average Order Value=%{y}<extra></extra>",
         "legendgroup": "01494-00005 | Mobile",
         "marker": {
          "color": "#FFA15A",
          "opacity": 0.7,
          "size": 10,
          "symbol": "circle"
         },
         "mode": "markers",
         "name": "01494-00005 | Mobile",
         "orientation": "v",
         "showlegend": true,
         "type": "scatter",
         "x": {
          "bdata": "mpmZmeGh5EA=",
          "dtype": "f8"
         },
         "xaxis": "x",
         "y": {
          "bdata": "exSuR+F6M0A=",
          "dtype": "f8"
         },
         "yaxis": "y"
        },
        {
         "hovertemplate": "Label=01494-00005 | DoorDash<br>Weekly Revenue=%{x}<br>Average Order Value=%{y}<extra></extra>",
         "legendgroup": "01494-00005 | DoorDash",
         "marker": {
          "color": "#19d3f3",
          "opacity": 0.7,
          "size": 10,
          "symbol": "circle"
         },
         "mode": "markers",
         "name": "01494-00005 | DoorDash",
         "orientation": "v",
         "showlegend": true,
         "type": "scatter",
         "x": {
          "bdata": "CtejcN3Sy0A=",
          "dtype": "f8"
         },
         "xaxis": "x",
         "y": {
          "bdata": "w/UoXI9CM0A=",
          "dtype": "f8"
         },
         "yaxis": "y"
        },
        {
         "hovertemplate": "Label=01826-00001 | UberEats<br>Weekly Revenue=%{x}<br>Average Order Value=%{y}<extra></extra>",
         "legendgroup": "01826-00001 | UberEats",
         "marker": {
          "color": "#FF6692",
          "opacity": 0.7,
          "size": 10,
          "symbol": "circle"
         },
         "mode": "markers",
         "name": "01826-00001 | UberEats",
         "orientation": "v",
         "showlegend": true,
         "type": "scatter",
         "x": {
          "bdata": "exSuR+GlnUA=",
          "dtype": "f8"
         },
         "xaxis": "x",
         "y": {
          "bdata": "rkfhehTuNUA=",
          "dtype": "f8"
         },
         "yaxis": "y"
        },
        {
         "hovertemplate": "Label=01826-00001 | Website<br>Weekly Revenue=%{x}<br>Average Order Value=%{y}<extra></extra>",
         "legendgroup": "01826-00001 | Website",
         "marker": {
          "color": "#B6E880",
          "opacity": 0.7,
          "size": 10,
          "symbol": "circle"
         },
         "mode": "markers",
         "name": "01826-00001 | Website",
         "orientation": "v",
         "showlegend": true,
         "type": "scatter",
         "x": {
          "bdata": "AAAAANBh3UA=",
          "dtype": "f8"
         },
         "xaxis": "x",
         "y": {
          "bdata": "16NwPQqXNUA=",
          "dtype": "f8"
         },
         "yaxis": "y"
        },
        {
         "hovertemplate": "Label=01826-00001 | Mobile<br>Weekly Revenue=%{x}<br>Average Order Value=%{y}<extra></extra>",
         "legendgroup": "01826-00001 | Mobile",
         "marker": {
          "color": "#FF97FF",
          "opacity": 0.7,
          "size": 10,
          "symbol": "circle"
         },
         "mode": "markers",
         "name": "01826-00001 | Mobile",
         "orientation": "v",
         "showlegend": true,
         "type": "scatter",
         "x": {
          "bdata": "hetRuEZT80A=",
          "dtype": "f8"
         },
         "xaxis": "x",
         "y": {
          "bdata": "w/UoXI+CNEA=",
          "dtype": "f8"
         },
         "yaxis": "y"
        },
        {
         "hovertemplate": "Label=01826-00001 | DoorDash<br>Weekly Revenue=%{x}<br>Average Order Value=%{y}<extra></extra>",
         "legendgroup": "01826-00001 | DoorDash",
         "marker": {
          "color": "#FECB52",
          "opacity": 0.7,
          "size": 10,
          "symbol": "circle"
         },
         "mode": "markers",
         "name": "01826-00001 | DoorDash",
         "orientation": "v",
         "showlegend": true,
         "type": "scatter",
         "x": {
          "bdata": "SOF6FA7N1UA=",
          "dtype": "f8"
         },
         "xaxis": "x",
         "y": {
          "bdata": "AAAAAAAANEA=",
          "dtype": "f8"
         },
         "yaxis": "y"
        },
        {
         "hovertemplate": "Label=01826-00002 | Website<br>Weekly Revenue=%{x}<br>Average Order Value=%{y}<extra></extra>",
         "legendgroup": "01826-00002 | Website",
         "marker": {
          "color": "#636efa",
          "opacity": 0.7,
          "size": 10,
          "symbol": "circle"
         },
         "mode": "markers",
         "name": "01826-00002 | Website",
         "orientation": "v",
         "showlegend": true,
         "type": "scatter",
         "x": {
          "bdata": "zczMzFyx4kA=",
          "dtype": "f8"
         },
         "xaxis": "x",
         "y": {
          "bdata": "UrgehevROEA=",
          "dtype": "f8"
         },
         "yaxis": "y"
        },
        {
         "hovertemplate": "Label=01826-00002 | Mobile<br>Weekly Revenue=%{x}<br>Average Order Value=%{y}<extra></extra>",
         "legendgroup": "01826-00002 | Mobile",
         "marker": {
          "color": "#EF553B",
          "opacity": 0.7,
          "size": 10,
          "symbol": "circle"
         },
         "mode": "markers",
         "name": "01826-00002 | Mobile",
         "orientation": "v",
         "showlegend": true,
         "type": "scatter",
         "x": {
          "bdata": "w/UoXMfj9EA=",
          "dtype": "f8"
         },
         "xaxis": "x",
         "y": {
          "bdata": "hetRuB7FNUA=",
          "dtype": "f8"
         },
         "yaxis": "y"
        },
        {
         "hovertemplate": "Label=01826-00002 | DoorDash<br>Weekly Revenue=%{x}<br>Average Order Value=%{y}<extra></extra>",
         "legendgroup": "01826-00002 | DoorDash",
         "marker": {
          "color": "#00cc96",
          "opacity": 0.7,
          "size": 10,
          "symbol": "circle"
         },
         "mode": "markers",
         "name": "01826-00002 | DoorDash",
         "orientation": "v",
         "showlegend": true,
         "type": "scatter",
         "x": {
          "bdata": "w/UoXB/G4EA=",
          "dtype": "f8"
         },
         "xaxis": "x",
         "y": {
          "bdata": "zczMzMwMNUA=",
          "dtype": "f8"
         },
         "yaxis": "y"
        },
        {
         "hovertemplate": "Label=01826-00002 | UberEats<br>Weekly Revenue=%{x}<br>Average Order Value=%{y}<extra></extra>",
         "legendgroup": "01826-00002 | UberEats",
         "marker": {
          "color": "#ab63fa",
          "opacity": 0.7,
          "size": 10,
          "symbol": "circle"
         },
         "mode": "markers",
         "name": "01826-00002 | UberEats",
         "orientation": "v",
         "showlegend": true,
         "type": "scatter",
         "x": {
          "bdata": "SOF6FC7Ko0A=",
          "dtype": "f8"
         },
         "xaxis": "x",
         "y": {
          "bdata": "H4XrUbjeNEA=",
          "dtype": "f8"
         },
         "yaxis": "y"
        },
        {
         "hovertemplate": "Label=01826-00003 | Website<br>Weekly Revenue=%{x}<br>Average Order Value=%{y}<extra></extra>",
         "legendgroup": "01826-00003 | Website",
         "marker": {
          "color": "#FFA15A",
          "opacity": 0.7,
          "size": 10,
          "symbol": "circle"
         },
         "mode": "markers",
         "name": "01826-00003 | Website",
         "orientation": "v",
         "showlegend": true,
         "type": "scatter",
         "x": {
          "bdata": "CtejcO1S00A=",
          "dtype": "f8"
         },
         "xaxis": "x",
         "y": {
          "bdata": "hetRuB6FOUA=",
          "dtype": "f8"
         },
         "yaxis": "y"
        },
        {
         "hovertemplate": "Label=01826-00003 | UberEats<br>Weekly Revenue=%{x}<br>Average Order Value=%{y}<extra></extra>",
         "legendgroup": "01826-00003 | UberEats",
         "marker": {
          "color": "#19d3f3",
          "opacity": 0.7,
          "size": 10,
          "symbol": "circle"
         },
         "mode": "markers",
         "name": "01826-00003 | UberEats",
         "orientation": "v",
         "showlegend": true,
         "type": "scatter",
         "x": {
          "bdata": "16NwPQpzd0A=",
          "dtype": "f8"
         },
         "xaxis": "x",
         "y": {
          "bdata": "XI/C9ShcNkA=",
          "dtype": "f8"
         },
         "yaxis": "y"
        },
        {
         "hovertemplate": "Label=01826-00003 | Mobile<br>Weekly Revenue=%{x}<br>Average Order Value=%{y}<extra></extra>",
         "legendgroup": "01826-00003 | Mobile",
         "marker": {
          "color": "#FF6692",
          "opacity": 0.7,
          "size": 10,
          "symbol": "circle"
         },
         "mode": "markers",
         "name": "01826-00003 | Mobile",
         "orientation": "v",
         "showlegend": true,
         "type": "scatter",
         "x": {
          "bdata": "9ihcj+qM50A=",
          "dtype": "f8"
         },
         "xaxis": "x",
         "y": {
          "bdata": "AAAAAAAANUA=",
          "dtype": "f8"
         },
         "yaxis": "y"
        },
        {
         "hovertemplate": "Label=01826-00003 | DoorDash<br>Weekly Revenue=%{x}<br>Average Order Value=%{y}<extra></extra>",
         "legendgroup": "01826-00003 | DoorDash",
         "marker": {
          "color": "#B6E880",
          "opacity": 0.7,
          "size": 10,
          "symbol": "circle"
         },
         "mode": "markers",
         "name": "01826-00003 | DoorDash",
         "orientation": "v",
         "showlegend": true,
         "type": "scatter",
         "x": {
          "bdata": "XI/C9ciOyUA=",
          "dtype": "f8"
         },
         "xaxis": "x",
         "y": {
          "bdata": "rkfhehRuM0A=",
          "dtype": "f8"
         },
         "yaxis": "y"
        },
        {
         "hovertemplate": "Label=01893-00001 | UberEats<br>Weekly Revenue=%{x}<br>Average Order Value=%{y}<extra></extra>",
         "legendgroup": "01893-00001 | UberEats",
         "marker": {
          "color": "#FF97FF",
          "opacity": 0.7,
          "size": 10,
          "symbol": "circle"
         },
         "mode": "markers",
         "name": "01893-00001 | UberEats",
         "orientation": "v",
         "showlegend": true,
         "type": "scatter",
         "x": {
          "bdata": "PQrXo/BVpEA=",
          "dtype": "f8"
         },
         "xaxis": "x",
         "y": {
          "bdata": "uB6F61H4N0A=",
          "dtype": "f8"
         },
         "yaxis": "y"
        },
        {
         "hovertemplate": "Label=01893-00001 | Website<br>Weekly Revenue=%{x}<br>Average Order Value=%{y}<extra></extra>",
         "legendgroup": "01893-00001 | Website",
         "marker": {
          "color": "#FECB52",
          "opacity": 0.7,
          "size": 10,
          "symbol": "circle"
         },
         "mode": "markers",
         "name": "01893-00001 | Website",
         "orientation": "v",
         "showlegend": true,
         "type": "scatter",
         "x": {
          "bdata": "9ihcj5IP4EA=",
          "dtype": "f8"
         },
         "xaxis": "x",
         "y": {
          "bdata": "mpmZmZlZNkA=",
          "dtype": "f8"
         },
         "yaxis": "y"
        },
        {
         "hovertemplate": "Label=01893-00001 | DoorDash<br>Weekly Revenue=%{x}<br>Average Order Value=%{y}<extra></extra>",
         "legendgroup": "01893-00001 | DoorDash",
         "marker": {
          "color": "#636efa",
          "opacity": 0.7,
          "size": 10,
          "symbol": "circle"
         },
         "mode": "markers",
         "name": "01893-00001 | DoorDash",
         "orientation": "v",
         "showlegend": true,
         "type": "scatter",
         "x": {
          "bdata": "uB6F63Fn0UA=",
          "dtype": "f8"
         },
         "xaxis": "x",
         "y": {
          "bdata": "j8L1KFyPNEA=",
          "dtype": "f8"
         },
         "yaxis": "y"
        },
        {
         "hovertemplate": "Label=01893-00001 | Mobile<br>Weekly Revenue=%{x}<br>Average Order Value=%{y}<extra></extra>",
         "legendgroup": "01893-00001 | Mobile",
         "marker": {
          "color": "#EF553B",
          "opacity": 0.7,
          "size": 10,
          "symbol": "circle"
         },
         "mode": "markers",
         "name": "01893-00001 | Mobile",
         "orientation": "v",
         "showlegend": true,
         "type": "scatter",
         "x": {
          "bdata": "hetRuGZL9EA=",
          "dtype": "f8"
         },
         "xaxis": "x",
         "y": {
          "bdata": "CtejcD1KNEA=",
          "dtype": "f8"
         },
         "yaxis": "y"
        },
        {
         "hovertemplate": "Label=01893-00002 | Grubhub<br>Weekly Revenue=%{x}<br>Average Order Value=%{y}<extra></extra>",
         "legendgroup": "01893-00002 | Grubhub",
         "marker": {
          "color": "#00cc96",
          "opacity": 0.7,
          "size": 10,
          "symbol": "circle"
         },
         "mode": "markers",
         "name": "01893-00002 | Grubhub",
         "orientation": "v",
         "showlegend": true,
         "type": "scatter",
         "x": {
          "bdata": "j8L1KFzLgUA=",
          "dtype": "f8"
         },
         "xaxis": "x",
         "y": {
          "bdata": "j8L1KFyPN0A=",
          "dtype": "f8"
         },
         "yaxis": "y"
        },
        {
         "hovertemplate": "Label=01893-00002 | UberEats<br>Weekly Revenue=%{x}<br>Average Order Value=%{y}<extra></extra>",
         "legendgroup": "01893-00002 | UberEats",
         "marker": {
          "color": "#ab63fa",
          "opacity": 0.7,
          "size": 10,
          "symbol": "circle"
         },
         "mode": "markers",
         "name": "01893-00002 | UberEats",
         "orientation": "v",
         "showlegend": true,
         "type": "scatter",
         "x": {
          "bdata": "MzMzM3PQs0A=",
          "dtype": "f8"
         },
         "xaxis": "x",
         "y": {
          "bdata": "9ihcj8K1NEA=",
          "dtype": "f8"
         },
         "yaxis": "y"
        },
        {
         "hovertemplate": "Label=01893-00002 | Website<br>Weekly Revenue=%{x}<br>Average Order Value=%{y}<extra></extra>",
         "legendgroup": "01893-00002 | Website",
         "marker": {
          "color": "#FFA15A",
          "opacity": 0.7,
          "size": 10,
          "symbol": "circle"
         },
         "mode": "markers",
         "name": "01893-00002 | Website",
         "orientation": "v",
         "showlegend": true,
         "type": "scatter",
         "x": {
          "bdata": "4XoUrg/B4UA=",
          "dtype": "f8"
         },
         "xaxis": "x",
         "y": {
          "bdata": "cT0K16NwNEA=",
          "dtype": "f8"
         },
         "yaxis": "y"
        },
        {
         "hovertemplate": "Label=01893-00002 | DoorDash<br>Weekly Revenue=%{x}<br>Average Order Value=%{y}<extra></extra>",
         "legendgroup": "01893-00002 | DoorDash",
         "marker": {
          "color": "#19d3f3",
          "opacity": 0.7,
          "size": 10,
          "symbol": "circle"
         },
         "mode": "markers",
         "name": "01893-00002 | DoorDash",
         "orientation": "v",
         "showlegend": true,
         "type": "scatter",
         "x": {
          "bdata": "rkfherSozkA=",
          "dtype": "f8"
         },
         "xaxis": "x",
         "y": {
          "bdata": "7FG4HoXrMkA=",
          "dtype": "f8"
         },
         "yaxis": "y"
        },
        {
         "hovertemplate": "Label=01893-00002 | Mobile<br>Weekly Revenue=%{x}<br>Average Order Value=%{y}<extra></extra>",
         "legendgroup": "01893-00002 | Mobile",
         "marker": {
          "color": "#FF6692",
          "opacity": 0.7,
          "size": 10,
          "symbol": "circle"
         },
         "mode": "markers",
         "name": "01893-00002 | Mobile",
         "orientation": "v",
         "showlegend": true,
         "type": "scatter",
         "x": {
          "bdata": "w/UoXIur8EA=",
          "dtype": "f8"
         },
         "xaxis": "x",
         "y": {
          "bdata": "XI/C9ShcMkA=",
          "dtype": "f8"
         },
         "yaxis": "y"
        },
        {
         "hovertemplate": "Label=01940-00001 | UberEats<br>Weekly Revenue=%{x}<br>Average Order Value=%{y}<extra></extra>",
         "legendgroup": "01940-00001 | UberEats",
         "marker": {
          "color": "#B6E880",
          "opacity": 0.7,
          "size": 10,
          "symbol": "circle"
         },
         "mode": "markers",
         "name": "01940-00001 | UberEats",
         "orientation": "v",
         "showlegend": true,
         "type": "scatter",
         "x": {
          "bdata": "UrgehbuF1UA=",
          "dtype": "f8"
         },
         "xaxis": "x",
         "y": {
          "bdata": "mpmZmZnZNUA=",
          "dtype": "f8"
         },
         "yaxis": "y"
        },
        {
         "hovertemplate": "Label=01940-00001 | Mobile<br>Weekly Revenue=%{x}<br>Average Order Value=%{y}<extra></extra>",
         "legendgroup": "01940-00001 | Mobile",
         "marker": {
          "color": "#FF97FF",
          "opacity": 0.7,
          "size": 10,
          "symbol": "circle"
         },
         "mode": "markers",
         "name": "01940-00001 | Mobile",
         "orientation": "v",
         "showlegend": true,
         "type": "scatter",
         "x": {
          "bdata": "SOF6FB6x6UA=",
          "dtype": "f8"
         },
         "xaxis": "x",
         "y": {
          "bdata": "AAAAAADANEA=",
          "dtype": "f8"
         },
         "yaxis": "y"
        },
        {
         "hovertemplate": "Label=01940-00001 | DoorDash<br>Weekly Revenue=%{x}<br>Average Order Value=%{y}<extra></extra>",
         "legendgroup": "01940-00001 | DoorDash",
         "marker": {
          "color": "#FECB52",
          "opacity": 0.7,
          "size": 10,
          "symbol": "circle"
         },
         "mode": "markers",
         "name": "01940-00001 | DoorDash",
         "orientation": "v",
         "showlegend": true,
         "type": "scatter",
         "x": {
          "bdata": "7FG4HtXJ4UA=",
          "dtype": "f8"
         },
         "xaxis": "x",
         "y": {
          "bdata": "MzMzMzNzNEA=",
          "dtype": "f8"
         },
         "yaxis": "y"
        },
        {
         "hovertemplate": "Label=01940-00001 | Website<br>Weekly Revenue=%{x}<br>Average Order Value=%{y}<extra></extra>",
         "legendgroup": "01940-00001 | Website",
         "marker": {
          "color": "#636efa",
          "opacity": 0.7,
          "size": 10,
          "symbol": "circle"
         },
         "mode": "markers",
         "name": "01940-00001 | Website",
         "orientation": "v",
         "showlegend": true,
         "type": "scatter",
         "x": {
          "bdata": "exSuR4Hj30A=",
          "dtype": "f8"
         },
         "xaxis": "x",
         "y": {
          "bdata": "XI/C9ShcNEA=",
          "dtype": "f8"
         },
         "yaxis": "y"
        },
        {
         "hovertemplate": "Label=01940-00001 | Grubhub<br>Weekly Revenue=%{x}<br>Average Order Value=%{y}<extra></extra>",
         "legendgroup": "01940-00001 | Grubhub",
         "marker": {
          "color": "#EF553B",
          "opacity": 0.7,
          "size": 10,
          "symbol": "circle"
         },
         "mode": "markers",
         "name": "01940-00001 | Grubhub",
         "orientation": "v",
         "showlegend": true,
         "type": "scatter",
         "x": {
          "bdata": "j8L1KFxwoUA=",
          "dtype": "f8"
         },
         "xaxis": "x",
         "y": {
          "bdata": "9ihcj8K1M0A=",
          "dtype": "f8"
         },
         "yaxis": "y"
        },
        {
         "hovertemplate": "Label=01940-00007 | UberEats<br>Weekly Revenue=%{x}<br>Average Order Value=%{y}<extra></extra>",
         "legendgroup": "01940-00007 | UberEats",
         "marker": {
          "color": "#00cc96",
          "opacity": 0.7,
          "size": 10,
          "symbol": "circle"
         },
         "mode": "markers",
         "name": "01940-00007 | UberEats",
         "orientation": "v",
         "showlegend": true,
         "type": "scatter",
         "x": {
          "bdata": "9ihcj6IF30A=",
          "dtype": "f8"
         },
         "xaxis": "x",
         "y": {
          "bdata": "MzMzMzOzN0A=",
          "dtype": "f8"
         },
         "yaxis": "y"
        },
        {
         "hovertemplate": "Label=01940-00007 | Website<br>Weekly Revenue=%{x}<br>Average Order Value=%{y}<extra></extra>",
         "legendgroup": "01940-00007 | Website",
         "marker": {
          "color": "#ab63fa",
          "opacity": 0.7,
          "size": 10,
          "symbol": "circle"
         },
         "mode": "markers",
         "name": "01940-00007 | Website",
         "orientation": "v",
         "showlegend": true,
         "type": "scatter",
         "x": {
          "bdata": "exSuR0Gx2kA=",
          "dtype": "f8"
         },
         "xaxis": "x",
         "y": {
          "bdata": "AAAAAABAN0A=",
          "dtype": "f8"
         },
         "yaxis": "y"
        },
        {
         "hovertemplate": "Label=01940-00007 | Mobile<br>Weekly Revenue=%{x}<br>Average Order Value=%{y}<extra></extra>",
         "legendgroup": "01940-00007 | Mobile",
         "marker": {
          "color": "#FFA15A",
          "opacity": 0.7,
          "size": 10,
          "symbol": "circle"
         },
         "mode": "markers",
         "name": "01940-00007 | Mobile",
         "orientation": "v",
         "showlegend": true,
         "type": "scatter",
         "x": {
          "bdata": "4XoUrjcx7UA=",
          "dtype": "f8"
         },
         "xaxis": "x",
         "y": {
          "bdata": "hetRuB5FNkA=",
          "dtype": "f8"
         },
         "yaxis": "y"
        },
        {
         "hovertemplate": "Label=01940-00007 | Grubhub<br>Weekly Revenue=%{x}<br>Average Order Value=%{y}<extra></extra>",
         "legendgroup": "01940-00007 | Grubhub",
         "marker": {
          "color": "#19d3f3",
          "opacity": 0.7,
          "size": 10,
          "symbol": "circle"
         },
         "mode": "markers",
         "name": "01940-00007 | Grubhub",
         "orientation": "v",
         "showlegend": true,
         "type": "scatter",
         "x": {
          "bdata": "uB6F69H0pUA=",
          "dtype": "f8"
         },
         "xaxis": "x",
         "y": {
          "bdata": "mpmZmZkZNkA=",
          "dtype": "f8"
         },
         "yaxis": "y"
        },
        {
         "hovertemplate": "Label=01940-00007 | DoorDash<br>Weekly Revenue=%{x}<br>Average Order Value=%{y}<extra></extra>",
         "legendgroup": "01940-00007 | DoorDash",
         "marker": {
          "color": "#FF6692",
          "opacity": 0.7,
          "size": 10,
          "symbol": "circle"
         },
         "mode": "markers",
         "name": "01940-00007 | DoorDash",
         "orientation": "v",
         "showlegend": true,
         "type": "scatter",
         "x": {
          "bdata": "cT0K11Nv5kA=",
          "dtype": "f8"
         },
         "xaxis": "x",
         "y": {
          "bdata": "cT0K16PwNEA=",
          "dtype": "f8"
         },
         "yaxis": "y"
        },
        {
         "hovertemplate": "Label=01940-00009 | UberEats<br>Weekly Revenue=%{x}<br>Average Order Value=%{y}<extra></extra>",
         "legendgroup": "01940-00009 | UberEats",
         "marker": {
          "color": "#B6E880",
          "opacity": 0.7,
          "size": 10,
          "symbol": "circle"
         },
         "mode": "markers",
         "name": "01940-00009 | UberEats",
         "orientation": "v",
         "showlegend": true,
         "type": "scatter",
         "x": {
          "bdata": "mpmZmYmv0UA=",
          "dtype": "f8"
         },
         "xaxis": "x",
         "y": {
          "bdata": "AAAAAAAANkA=",
          "dtype": "f8"
         },
         "yaxis": "y"
        },
        {
         "hovertemplate": "Label=01940-00009 | DoorDash<br>Weekly Revenue=%{x}<br>Average Order Value=%{y}<extra></extra>",
         "legendgroup": "01940-00009 | DoorDash",
         "marker": {
          "color": "#FF97FF",
          "opacity": 0.7,
          "size": 10,
          "symbol": "circle"
         },
         "mode": "markers",
         "name": "01940-00009 | DoorDash",
         "orientation": "v",
         "showlegend": true,
         "type": "scatter",
         "x": {
          "bdata": "zczMzOzI10A=",
          "dtype": "f8"
         },
         "xaxis": "x",
         "y": {
          "bdata": "UrgehetRNEA=",
          "dtype": "f8"
         },
         "yaxis": "y"
        },
        {
         "hovertemplate": "Label=01940-00009 | Grubhub<br>Weekly Revenue=%{x}<br>Average Order Value=%{y}<extra></extra>",
         "legendgroup": "01940-00009 | Grubhub",
         "marker": {
          "color": "#FECB52",
          "opacity": 0.7,
          "size": 10,
          "symbol": "circle"
         },
         "mode": "markers",
         "name": "01940-00009 | Grubhub",
         "orientation": "v",
         "showlegend": true,
         "type": "scatter",
         "x": {
          "bdata": "rkfhehSSmUA=",
          "dtype": "f8"
         },
         "xaxis": "x",
         "y": {
          "bdata": "16NwPQrXM0A=",
          "dtype": "f8"
         },
         "yaxis": "y"
        },
        {
         "hovertemplate": "Label=01940-00009 | Website<br>Weekly Revenue=%{x}<br>Average Order Value=%{y}<extra></extra>",
         "legendgroup": "01940-00009 | Website",
         "marker": {
          "color": "#636efa",
          "opacity": 0.7,
          "size": 10,
          "symbol": "circle"
         },
         "mode": "markers",
         "name": "01940-00009 | Website",
         "orientation": "v",
         "showlegend": true,
         "type": "scatter",
         "x": {
          "bdata": "9ihcjzLl3kA=",
          "dtype": "f8"
         },
         "xaxis": "x",
         "y": {
          "bdata": "w/UoXI9CM0A=",
          "dtype": "f8"
         },
         "yaxis": "y"
        },
        {
         "hovertemplate": "Label=01940-00009 | Mobile<br>Weekly Revenue=%{x}<br>Average Order Value=%{y}<extra></extra>",
         "legendgroup": "01940-00009 | Mobile",
         "marker": {
          "color": "#EF553B",
          "opacity": 0.7,
          "size": 10,
          "symbol": "circle"
         },
         "mode": "markers",
         "name": "01940-00009 | Mobile",
         "orientation": "v",
         "showlegend": true,
         "type": "scatter",
         "x": {
          "bdata": "j8L1KNSb5UA=",
          "dtype": "f8"
         },
         "xaxis": "x",
         "y": {
          "bdata": "PQrXo3D9MUA=",
          "dtype": "f8"
         },
         "yaxis": "y"
        },
        {
         "hovertemplate": "Label=01940-00010 | UberEats<br>Weekly Revenue=%{x}<br>Average Order Value=%{y}<extra></extra>",
         "legendgroup": "01940-00010 | UberEats",
         "marker": {
          "color": "#00cc96",
          "opacity": 0.7,
          "size": 10,
          "symbol": "circle"
         },
         "mode": "markers",
         "name": "01940-00010 | UberEats",
         "orientation": "v",
         "showlegend": true,
         "type": "scatter",
         "x": {
          "bdata": "cT0K19NL3UA=",
          "dtype": "f8"
         },
         "xaxis": "x",
         "y": {
          "bdata": "SOF6FK4HN0A=",
          "dtype": "f8"
         },
         "yaxis": "y"
        },
        {
         "hovertemplate": "Label=01940-00010 | Website<br>Weekly Revenue=%{x}<br>Average Order Value=%{y}<extra></extra>",
         "legendgroup": "01940-00010 | Website",
         "marker": {
          "color": "#ab63fa",
          "opacity": 0.7,
          "size": 10,
          "symbol": "circle"
         },
         "mode": "markers",
         "name": "01940-00010 | Website",
         "orientation": "v",
         "showlegend": true,
         "type": "scatter",
         "x": {
          "bdata": "AAAAADhC40A=",
          "dtype": "f8"
         },
         "xaxis": "x",
         "y": {
          "bdata": "MzMzMzOzNkA=",
          "dtype": "f8"
         },
         "yaxis": "y"
        },
        {
         "hovertemplate": "Label=01940-00010 | Mobile<br>Weekly Revenue=%{x}<br>Average Order Value=%{y}<extra></extra>",
         "legendgroup": "01940-00010 | Mobile",
         "marker": {
          "color": "#FFA15A",
          "opacity": 0.7,
          "size": 10,
          "symbol": "circle"
         },
         "mode": "markers",
         "name": "01940-00010 | Mobile",
         "orientation": "v",
         "showlegend": true,
         "type": "scatter",
         "x": {
          "bdata": "4XoUrmcf8EA=",
          "dtype": "f8"
         },
         "xaxis": "x",
         "y": {
          "bdata": "pHA9CtcjNUA=",
          "dtype": "f8"
         },
         "yaxis": "y"
        },
        {
         "hovertemplate": "Label=01940-00010 | DoorDash<br>Weekly Revenue=%{x}<br>Average Order Value=%{y}<extra></extra>",
         "legendgroup": "01940-00010 | DoorDash",
         "marker": {
          "color": "#19d3f3",
          "opacity": 0.7,
          "size": 10,
          "symbol": "circle"
         },
         "mode": "markers",
         "name": "01940-00010 | DoorDash",
         "orientation": "v",
         "showlegend": true,
         "type": "scatter",
         "x": {
          "bdata": "XI/C9dg56EA=",
          "dtype": "f8"
         },
         "xaxis": "x",
         "y": {
          "bdata": "cT0K16PwM0A=",
          "dtype": "f8"
         },
         "yaxis": "y"
        },
        {
         "hovertemplate": "Label=01940-00010 | Grubhub<br>Weekly Revenue=%{x}<br>Average Order Value=%{y}<extra></extra>",
         "legendgroup": "01940-00010 | Grubhub",
         "marker": {
          "color": "#FF6692",
          "opacity": 0.7,
          "size": 10,
          "symbol": "circle"
         },
         "mode": "markers",
         "name": "01940-00010 | Grubhub",
         "orientation": "v",
         "showlegend": true,
         "type": "scatter",
         "x": {
          "bdata": "UrgehetkqkA=",
          "dtype": "f8"
         },
         "xaxis": "x",
         "y": {
          "bdata": "7FG4HoWrMUA=",
          "dtype": "f8"
         },
         "yaxis": "y"
        },
        {
         "hovertemplate": "Label=01940-00011 | Website<br>Weekly Revenue=%{x}<br>Average Order Value=%{y}<extra></extra>",
         "legendgroup": "01940-00011 | Website",
         "marker": {
          "color": "#B6E880",
          "opacity": 0.7,
          "size": 10,
          "symbol": "circle"
         },
         "mode": "markers",
         "name": "01940-00011 | Website",
         "orientation": "v",
         "showlegend": true,
         "type": "scatter",
         "x": {
          "bdata": "mpmZmYmy2EA=",
          "dtype": "f8"
         },
         "xaxis": "x",
         "y": {
          "bdata": "hetRuB5FN0A=",
          "dtype": "f8"
         },
         "yaxis": "y"
        },
        {
         "hovertemplate": "Label=01940-00011 | Mobile<br>Weekly Revenue=%{x}<br>Average Order Value=%{y}<extra></extra>",
         "legendgroup": "01940-00011 | Mobile",
         "marker": {
          "color": "#FF97FF",
          "opacity": 0.7,
          "size": 10,
          "symbol": "circle"
         },
         "mode": "markers",
         "name": "01940-00011 | Mobile",
         "orientation": "v",
         "showlegend": true,
         "type": "scatter",
         "x": {
          "bdata": "PQrXowhD7EA=",
          "dtype": "f8"
         },
         "xaxis": "x",
         "y": {
          "bdata": "CtejcD3KNkA=",
          "dtype": "f8"
         },
         "yaxis": "y"
        },
        {
         "hovertemplate": "Label=01940-00011 | UberEats<br>Weekly Revenue=%{x}<br>Average Order Value=%{y}<extra></extra>",
         "legendgroup": "01940-00011 | UberEats",
         "marker": {
          "color": "#FECB52",
          "opacity": 0.7,
          "size": 10,
          "symbol": "circle"
         },
         "mode": "markers",
         "name": "01940-00011 | UberEats",
         "orientation": "v",
         "showlegend": true,
         "type": "scatter",
         "x": {
          "bdata": "XI/C9Th83EA=",
          "dtype": "f8"
         },
         "xaxis": "x",
         "y": {
          "bdata": "j8L1KFyPNkA=",
          "dtype": "f8"
         },
         "yaxis": "y"
        },
        {
         "hovertemplate": "Label=01940-00011 | DoorDash<br>Weekly Revenue=%{x}<br>Average Order Value=%{y}<extra></extra>",
         "legendgroup": "01940-00011 | DoorDash",
         "marker": {
          "color": "#636efa",
          "opacity": 0.7,
          "size": 10,
          "symbol": "circle"
         },
         "mode": "markers",
         "name": "01940-00011 | DoorDash",
         "orientation": "v",
         "showlegend": true,
         "type": "scatter",
         "x": {
          "bdata": "XI/C9RhT5UA=",
          "dtype": "f8"
         },
         "xaxis": "x",
         "y": {
          "bdata": "zczMzMzMNEA=",
          "dtype": "f8"
         },
         "yaxis": "y"
        },
        {
         "hovertemplate": "Label=01940-00011 | Grubhub<br>Weekly Revenue=%{x}<br>Average Order Value=%{y}<extra></extra>",
         "legendgroup": "01940-00011 | Grubhub",
         "marker": {
          "color": "#EF553B",
          "opacity": 0.7,
          "size": 10,
          "symbol": "circle"
         },
         "mode": "markers",
         "name": "01940-00011 | Grubhub",
         "orientation": "v",
         "showlegend": true,
         "type": "scatter",
         "x": {
          "bdata": "pHA9CteWqkA=",
          "dtype": "f8"
         },
         "xaxis": "x",
         "y": {
          "bdata": "pHA9CtdjNEA=",
          "dtype": "f8"
         },
         "yaxis": "y"
        },
        {
         "hovertemplate": "Label=01940-00014 | UberEats<br>Weekly Revenue=%{x}<br>Average Order Value=%{y}<extra></extra>",
         "legendgroup": "01940-00014 | UberEats",
         "marker": {
          "color": "#00cc96",
          "opacity": 0.7,
          "size": 10,
          "symbol": "circle"
         },
         "mode": "markers",
         "name": "01940-00014 | UberEats",
         "orientation": "v",
         "showlegend": true,
         "type": "scatter",
         "x": {
          "bdata": "mpmZmSlk20A=",
          "dtype": "f8"
         },
         "xaxis": "x",
         "y": {
          "bdata": "4XoUrkchN0A=",
          "dtype": "f8"
         },
         "yaxis": "y"
        },
        {
         "hovertemplate": "Label=01940-00014 | DoorDash<br>Weekly Revenue=%{x}<br>Average Order Value=%{y}<extra></extra>",
         "legendgroup": "01940-00014 | DoorDash",
         "marker": {
          "color": "#ab63fa",
          "opacity": 0.7,
          "size": 10,
          "symbol": "circle"
         },
         "mode": "markers",
         "name": "01940-00014 | DoorDash",
         "orientation": "v",
         "showlegend": true,
         "type": "scatter",
         "x": {
          "bdata": "j8L1KFx95kA=",
          "dtype": "f8"
         },
         "xaxis": "x",
         "y": {
          "bdata": "rkfhehTuNEA=",
          "dtype": "f8"
         },
         "yaxis": "y"
        },
        {
         "hovertemplate": "Label=01940-00014 | Website<br>Weekly Revenue=%{x}<br>Average Order Value=%{y}<extra></extra>",
         "legendgroup": "01940-00014 | Website",
         "marker": {
          "color": "#FFA15A",
          "opacity": 0.7,
          "size": 10,
          "symbol": "circle"
         },
         "mode": "markers",
         "name": "01940-00014 | Website",
         "orientation": "v",
         "showlegend": true,
         "type": "scatter",
         "x": {
          "bdata": "exSuR9n35EA=",
          "dtype": "f8"
         },
         "xaxis": "x",
         "y": {
          "bdata": "9ihcj8K1NEA=",
          "dtype": "f8"
         },
         "yaxis": "y"
        },
        {
         "hovertemplate": "Label=01940-00014 | Mobile<br>Weekly Revenue=%{x}<br>Average Order Value=%{y}<extra></extra>",
         "legendgroup": "01940-00014 | Mobile",
         "marker": {
          "color": "#19d3f3",
          "opacity": 0.7,
          "size": 10,
          "symbol": "circle"
         },
         "mode": "markers",
         "name": "01940-00014 | Mobile",
         "orientation": "v",
         "showlegend": true,
         "type": "scatter",
         "x": {
          "bdata": "exSuR13s8UA=",
          "dtype": "f8"
         },
         "xaxis": "x",
         "y": {
          "bdata": "hetRuB4FNEA=",
          "dtype": "f8"
         },
         "yaxis": "y"
        },
        {
         "hovertemplate": "Label=01940-00014 | Grubhub<br>Weekly Revenue=%{x}<br>Average Order Value=%{y}<extra></extra>",
         "legendgroup": "01940-00014 | Grubhub",
         "marker": {
          "color": "#FF6692",
          "opacity": 0.7,
          "size": 10,
          "symbol": "circle"
         },
         "mode": "markers",
         "name": "01940-00014 | Grubhub",
         "orientation": "v",
         "showlegend": true,
         "type": "scatter",
         "x": {
          "bdata": "4XoUrsf1rEA=",
          "dtype": "f8"
         },
         "xaxis": "x",
         "y": {
          "bdata": "mpmZmZnZM0A=",
          "dtype": "f8"
         },
         "yaxis": "y"
        },
        {
         "hovertemplate": "Label=01940-00021 | UberEats<br>Weekly Revenue=%{x}<br>Average Order Value=%{y}<extra></extra>",
         "legendgroup": "01940-00021 | UberEats",
         "marker": {
          "color": "#B6E880",
          "opacity": 0.7,
          "size": 10,
          "symbol": "circle"
         },
         "mode": "markers",
         "name": "01940-00021 | UberEats",
         "orientation": "v",
         "showlegend": true,
         "type": "scatter",
         "x": {
          "bdata": "4XoUrmdn1kA=",
          "dtype": "f8"
         },
         "xaxis": "x",
         "y": {
          "bdata": "cT0K16PwNUA=",
          "dtype": "f8"
         },
         "yaxis": "y"
        },
        {
         "hovertemplate": "Label=01940-00021 | DoorDash<br>Weekly Revenue=%{x}<br>Average Order Value=%{y}<extra></extra>",
         "legendgroup": "01940-00021 | DoorDash",
         "marker": {
          "color": "#FF97FF",
          "opacity": 0.7,
          "size": 10,
          "symbol": "circle"
         },
         "mode": "markers",
         "name": "01940-00021 | DoorDash",
         "orientation": "v",
         "showlegend": true,
         "type": "scatter",
         "x": {
          "bdata": "mpmZmcks3kA=",
          "dtype": "f8"
         },
         "xaxis": "x",
         "y": {
          "bdata": "FK5H4XrUM0A=",
          "dtype": "f8"
         },
         "yaxis": "y"
        },
        {
         "hovertemplate": "Label=01940-00021 | Website<br>Weekly Revenue=%{x}<br>Average Order Value=%{y}<extra></extra>",
         "legendgroup": "01940-00021 | Website",
         "marker": {
          "color": "#FECB52",
          "opacity": 0.7,
          "size": 10,
          "symbol": "circle"
         },
         "mode": "markers",
         "name": "01940-00021 | Website",
         "orientation": "v",
         "showlegend": true,
         "type": "scatter",
         "x": {
          "bdata": "uB6F61GO3UA=",
          "dtype": "f8"
         },
         "xaxis": "x",
         "y": {
          "bdata": "cT0K16PwMkA=",
          "dtype": "f8"
         },
         "yaxis": "y"
        },
        {
         "hovertemplate": "Label=01940-00021 | Mobile<br>Weekly Revenue=%{x}<br>Average Order Value=%{y}<extra></extra>",
         "legendgroup": "01940-00021 | Mobile",
         "marker": {
          "color": "#636efa",
          "opacity": 0.7,
          "size": 10,
          "symbol": "circle"
         },
         "mode": "markers",
         "name": "01940-00021 | Mobile",
         "orientation": "v",
         "showlegend": true,
         "type": "scatter",
         "x": {
          "bdata": "CtejcEVc6kA=",
          "dtype": "f8"
         },
         "xaxis": "x",
         "y": {
          "bdata": "uB6F61G4MkA=",
          "dtype": "f8"
         },
         "yaxis": "y"
        },
        {
         "hovertemplate": "Label=01940-00021 | Grubhub<br>Weekly Revenue=%{x}<br>Average Order Value=%{y}<extra></extra>",
         "legendgroup": "01940-00021 | Grubhub",
         "marker": {
          "color": "#EF553B",
          "opacity": 0.7,
          "size": 10,
          "symbol": "circle"
         },
         "mode": "markers",
         "name": "01940-00021 | Grubhub",
         "orientation": "v",
         "showlegend": true,
         "type": "scatter",
         "x": {
          "bdata": "ZmZmZmaEmEA=",
          "dtype": "f8"
         },
         "xaxis": "x",
         "y": {
          "bdata": "mpmZmZkZMUA=",
          "dtype": "f8"
         },
         "yaxis": "y"
        },
        {
         "hovertemplate": "Label=01944-00001 | Website<br>Weekly Revenue=%{x}<br>Average Order Value=%{y}<extra></extra>",
         "legendgroup": "01944-00001 | Website",
         "marker": {
          "color": "#00cc96",
          "opacity": 0.7,
          "size": 10,
          "symbol": "circle"
         },
         "mode": "markers",
         "name": "01944-00001 | Website",
         "orientation": "v",
         "showlegend": true,
         "type": "scatter",
         "x": {
          "bdata": "CtejcD3/2EA=",
          "dtype": "f8"
         },
         "xaxis": "x",
         "y": {
          "bdata": "hetRuB6FNkA=",
          "dtype": "f8"
         },
         "yaxis": "y"
        },
        {
         "hovertemplate": "Label=01944-00001 | Mobile<br>Weekly Revenue=%{x}<br>Average Order Value=%{y}<extra></extra>",
         "legendgroup": "01944-00001 | Mobile",
         "marker": {
          "color": "#ab63fa",
          "opacity": 0.7,
          "size": 10,
          "symbol": "circle"
         },
         "mode": "markers",
         "name": "01944-00001 | Mobile",
         "orientation": "v",
         "showlegend": true,
         "type": "scatter",
         "x": {
          "bdata": "7FG4Hs3h8UA=",
          "dtype": "f8"
         },
         "xaxis": "x",
         "y": {
          "bdata": "rkfhehRuNEA=",
          "dtype": "f8"
         },
         "yaxis": "y"
        },
        {
         "hovertemplate": "Label=01944-00001 | DoorDash<br>Weekly Revenue=%{x}<br>Average Order Value=%{y}<extra></extra>",
         "legendgroup": "01944-00001 | DoorDash",
         "marker": {
          "color": "#FFA15A",
          "opacity": 0.7,
          "size": 10,
          "symbol": "circle"
         },
         "mode": "markers",
         "name": "01944-00001 | DoorDash",
         "orientation": "v",
         "showlegend": true,
         "type": "scatter",
         "x": {
          "bdata": "cT0K12Mw2kA=",
          "dtype": "f8"
         },
         "xaxis": "x",
         "y": {
          "bdata": "SOF6FK6HM0A=",
          "dtype": "f8"
         },
         "yaxis": "y"
        },
        {
         "hovertemplate": "Label=01944-00001 | UberEats<br>Weekly Revenue=%{x}<br>Average Order Value=%{y}<extra></extra>",
         "legendgroup": "01944-00001 | UberEats",
         "marker": {
          "color": "#19d3f3",
          "opacity": 0.7,
          "size": 10,
          "symbol": "circle"
         },
         "mode": "markers",
         "name": "01944-00001 | UberEats",
         "orientation": "v",
         "showlegend": true,
         "type": "scatter",
         "x": {
          "bdata": "cT0K16MWgEA=",
          "dtype": "f8"
         },
         "xaxis": "x",
         "y": {
          "bdata": "ZmZmZmbmMUA=",
          "dtype": "f8"
         },
         "yaxis": "y"
        },
        {
         "hovertemplate": "Label=01944-00003 | Website<br>Weekly Revenue=%{x}<br>Average Order Value=%{y}<extra></extra>",
         "legendgroup": "01944-00003 | Website",
         "marker": {
          "color": "#FF6692",
          "opacity": 0.7,
          "size": 10,
          "symbol": "circle"
         },
         "mode": "markers",
         "name": "01944-00003 | Website",
         "orientation": "v",
         "showlegend": true,
         "type": "scatter",
         "x": {
          "bdata": "exSuR3HW2EA=",
          "dtype": "f8"
         },
         "xaxis": "x",
         "y": {
          "bdata": "pHA9CtcjOUA=",
          "dtype": "f8"
         },
         "yaxis": "y"
        },
        {
         "hovertemplate": "Label=01944-00003 | UberEats<br>Weekly Revenue=%{x}<br>Average Order Value=%{y}<extra></extra>",
         "legendgroup": "01944-00003 | UberEats",
         "marker": {
          "color": "#B6E880",
          "opacity": 0.7,
          "size": 10,
          "symbol": "circle"
         },
         "mode": "markers",
         "name": "01944-00003 | UberEats",
         "orientation": "v",
         "showlegend": true,
         "type": "scatter",
         "x": {
          "bdata": "ZmZmZmayjEA=",
          "dtype": "f8"
         },
         "xaxis": "x",
         "y": {
          "bdata": "j8L1KFxPN0A=",
          "dtype": "f8"
         },
         "yaxis": "y"
        },
        {
         "hovertemplate": "Label=01944-00003 | Grubhub<br>Weekly Revenue=%{x}<br>Average Order Value=%{y}<extra></extra>",
         "legendgroup": "01944-00003 | Grubhub",
         "marker": {
          "color": "#FF97FF",
          "opacity": 0.7,
          "size": 10,
          "symbol": "circle"
         },
         "mode": "markers",
         "name": "01944-00003 | Grubhub",
         "orientation": "v",
         "showlegend": true,
         "type": "scatter",
         "x": {
          "bdata": "MzMzMzMfdkA=",
          "dtype": "f8"
         },
         "xaxis": "x",
         "y": {
          "bdata": "AAAAAAAANkA=",
          "dtype": "f8"
         },
         "yaxis": "y"
        },
        {
         "hovertemplate": "Label=01944-00003 | Mobile<br>Weekly Revenue=%{x}<br>Average Order Value=%{y}<extra></extra>",
         "legendgroup": "01944-00003 | Mobile",
         "marker": {
          "color": "#FECB52",
          "opacity": 0.7,
          "size": 10,
          "symbol": "circle"
         },
         "mode": "markers",
         "name": "01944-00003 | Mobile",
         "orientation": "v",
         "showlegend": true,
         "type": "scatter",
         "x": {
          "bdata": "SOF6FM6I6UA=",
          "dtype": "f8"
         },
         "xaxis": "x",
         "y": {
          "bdata": "KVyPwvUoNUA=",
          "dtype": "f8"
         },
         "yaxis": "y"
        },
        {
         "hovertemplate": "Label=01944-00003 | DoorDash<br>Weekly Revenue=%{x}<br>Average Order Value=%{y}<extra></extra>",
         "legendgroup": "01944-00003 | DoorDash",
         "marker": {
          "color": "#636efa",
          "opacity": 0.7,
          "size": 10,
          "symbol": "circle"
         },
         "mode": "markers",
         "name": "01944-00003 | DoorDash",
         "orientation": "v",
         "showlegend": true,
         "type": "scatter",
         "x": {
          "bdata": "uB6F65HVy0A=",
          "dtype": "f8"
         },
         "xaxis": "x",
         "y": {
          "bdata": "KVyPwvXoM0A=",
          "dtype": "f8"
         },
         "yaxis": "y"
        },
        {
         "hovertemplate": "Label=01944-00004 | Grubhub<br>Weekly Revenue=%{x}<br>Average Order Value=%{y}<extra></extra>",
         "legendgroup": "01944-00004 | Grubhub",
         "marker": {
          "color": "#EF553B",
          "opacity": 0.7,
          "size": 10,
          "symbol": "circle"
         },
         "mode": "markers",
         "name": "01944-00004 | Grubhub",
         "orientation": "v",
         "showlegend": true,
         "type": "scatter",
         "x": {
          "bdata": "ZmZmZmbydEA=",
          "dtype": "f8"
         },
         "xaxis": "x",
         "y": {
          "bdata": "mpmZmZlZOEA=",
          "dtype": "f8"
         },
         "yaxis": "y"
        },
        {
         "hovertemplate": "Label=01944-00004 | Website<br>Weekly Revenue=%{x}<br>Average Order Value=%{y}<extra></extra>",
         "legendgroup": "01944-00004 | Website",
         "marker": {
          "color": "#00cc96",
          "opacity": 0.7,
          "size": 10,
          "symbol": "circle"
         },
         "mode": "markers",
         "name": "01944-00004 | Website",
         "orientation": "v",
         "showlegend": true,
         "type": "scatter",
         "x": {
          "bdata": "PQrXoyC830A=",
          "dtype": "f8"
         },
         "xaxis": "x",
         "y": {
          "bdata": "exSuR+H6N0A=",
          "dtype": "f8"
         },
         "yaxis": "y"
        },
        {
         "hovertemplate": "Label=01944-00004 | UberEats<br>Weekly Revenue=%{x}<br>Average Order Value=%{y}<extra></extra>",
         "legendgroup": "01944-00004 | UberEats",
         "marker": {
          "color": "#ab63fa",
          "opacity": 0.7,
          "size": 10,
          "symbol": "circle"
         },
         "mode": "markers",
         "name": "01944-00004 | UberEats",
         "orientation": "v",
         "showlegend": true,
         "type": "scatter",
         "x": {
          "bdata": "UrgeheuVlUA=",
          "dtype": "f8"
         },
         "xaxis": "x",
         "y": {
          "bdata": "4XoUrkchN0A=",
          "dtype": "f8"
         },
         "yaxis": "y"
        },
        {
         "hovertemplate": "Label=01944-00004 | DoorDash<br>Weekly Revenue=%{x}<br>Average Order Value=%{y}<extra></extra>",
         "legendgroup": "01944-00004 | DoorDash",
         "marker": {
          "color": "#FFA15A",
          "opacity": 0.7,
          "size": 10,
          "symbol": "circle"
         },
         "mode": "markers",
         "name": "01944-00004 | DoorDash",
         "orientation": "v",
         "showlegend": true,
         "type": "scatter",
         "x": {
          "bdata": "FK5H4bpd0EA=",
          "dtype": "f8"
         },
         "xaxis": "x",
         "y": {
          "bdata": "AAAAAACANEA=",
          "dtype": "f8"
         },
         "yaxis": "y"
        },
        {
         "hovertemplate": "Label=01944-00004 | Mobile<br>Weekly Revenue=%{x}<br>Average Order Value=%{y}<extra></extra>",
         "legendgroup": "01944-00004 | Mobile",
         "marker": {
          "color": "#19d3f3",
          "opacity": 0.7,
          "size": 10,
          "symbol": "circle"
         },
         "mode": "markers",
         "name": "01944-00004 | Mobile",
         "orientation": "v",
         "showlegend": true,
         "type": "scatter",
         "x": {
          "bdata": "pHA9Cl+p50A=",
          "dtype": "f8"
         },
         "xaxis": "x",
         "y": {
          "bdata": "rkfhehRuNEA=",
          "dtype": "f8"
         },
         "yaxis": "y"
        },
        {
         "hovertemplate": "Label=01944-00005 | Website<br>Weekly Revenue=%{x}<br>Average Order Value=%{y}<extra></extra>",
         "legendgroup": "01944-00005 | Website",
         "marker": {
          "color": "#FF6692",
          "opacity": 0.7,
          "size": 10,
          "symbol": "circle"
         },
         "mode": "markers",
         "name": "01944-00005 | Website",
         "orientation": "v",
         "showlegend": true,
         "type": "scatter",
         "x": {
          "bdata": "16NwPfqA0UA=",
          "dtype": "f8"
         },
         "xaxis": "x",
         "y": {
          "bdata": "UrgehetRNkA=",
          "dtype": "f8"
         },
         "yaxis": "y"
        },
        {
         "hovertemplate": "Label=01944-00005 | Mobile<br>Weekly Revenue=%{x}<br>Average Order Value=%{y}<extra></extra>",
         "legendgroup": "01944-00005 | Mobile",
         "marker": {
          "color": "#B6E880",
          "opacity": 0.7,
          "size": 10,
          "symbol": "circle"
         },
         "mode": "markers",
         "name": "01944-00005 | Mobile",
         "orientation": "v",
         "showlegend": true,
         "type": "scatter",
         "x": {
          "bdata": "MzMzM+PL50A=",
          "dtype": "f8"
         },
         "xaxis": "x",
         "y": {
          "bdata": "16NwPQrXNUA=",
          "dtype": "f8"
         },
         "yaxis": "y"
        },
        {
         "hovertemplate": "Label=01944-00005 | DoorDash<br>Weekly Revenue=%{x}<br>Average Order Value=%{y}<extra></extra>",
         "legendgroup": "01944-00005 | DoorDash",
         "marker": {
          "color": "#FF97FF",
          "opacity": 0.7,
          "size": 10,
          "symbol": "circle"
         },
         "mode": "markers",
         "name": "01944-00005 | DoorDash",
         "orientation": "v",
         "showlegend": true,
         "type": "scatter",
         "x": {
          "bdata": "w/UoXK+xzUA=",
          "dtype": "f8"
         },
         "xaxis": "x",
         "y": {
          "bdata": "UrgehetRNEA=",
          "dtype": "f8"
         },
         "yaxis": "y"
        },
        {
         "hovertemplate": "Label=01944-00005 | UberEats<br>Weekly Revenue=%{x}<br>Average Order Value=%{y}<extra></extra>",
         "legendgroup": "01944-00005 | UberEats",
         "marker": {
          "color": "#FECB52",
          "opacity": 0.7,
          "size": 10,
          "symbol": "circle"
         },
         "mode": "markers",
         "name": "01944-00005 | UberEats",
         "orientation": "v",
         "showlegend": true,
         "type": "scatter",
         "x": {
          "bdata": "j8L1KFzNi0A=",
          "dtype": "f8"
         },
         "xaxis": "x",
         "y": {
          "bdata": "hetRuB6FMkA=",
          "dtype": "f8"
         },
         "yaxis": "y"
        },
        {
         "hovertemplate": "Label=01944-00006 | Website<br>Weekly Revenue=%{x}<br>Average Order Value=%{y}<extra></extra>",
         "legendgroup": "01944-00006 | Website",
         "marker": {
          "color": "#636efa",
          "opacity": 0.7,
          "size": 10,
          "symbol": "circle"
         },
         "mode": "markers",
         "name": "01944-00006 | Website",
         "orientation": "v",
         "showlegend": true,
         "type": "scatter",
         "x": {
          "bdata": "XI/C9biB2kA=",
          "dtype": "f8"
         },
         "xaxis": "x",
         "y": {
          "bdata": "mpmZmZnZNUA=",
          "dtype": "f8"
         },
         "yaxis": "y"
        },
        {
         "hovertemplate": "Label=01944-00006 | UberEats<br>Weekly Revenue=%{x}<br>Average Order Value=%{y}<extra></extra>",
         "legendgroup": "01944-00006 | UberEats",
         "marker": {
          "color": "#EF553B",
          "opacity": 0.7,
          "size": 10,
          "symbol": "circle"
         },
         "mode": "markers",
         "name": "01944-00006 | UberEats",
         "orientation": "v",
         "showlegend": true,
         "type": "scatter",
         "x": {
          "bdata": "j8L1KFzwkkA=",
          "dtype": "f8"
         },
         "xaxis": "x",
         "y": {
          "bdata": "w/UoXI+CNUA=",
          "dtype": "f8"
         },
         "yaxis": "y"
        },
        {
         "hovertemplate": "Label=01944-00006 | Mobile<br>Weekly Revenue=%{x}<br>Average Order Value=%{y}<extra></extra>",
         "legendgroup": "01944-00006 | Mobile",
         "marker": {
          "color": "#00cc96",
          "opacity": 0.7,
          "size": 10,
          "symbol": "circle"
         },
         "mode": "markers",
         "name": "01944-00006 | Mobile",
         "orientation": "v",
         "showlegend": true,
         "type": "scatter",
         "x": {
          "bdata": "ZmZmZraW8EA=",
          "dtype": "f8"
         },
         "xaxis": "x",
         "y": {
          "bdata": "zczMzMyMNEA=",
          "dtype": "f8"
         },
         "yaxis": "y"
        },
        {
         "hovertemplate": "Label=01944-00006 | DoorDash<br>Weekly Revenue=%{x}<br>Average Order Value=%{y}<extra></extra>",
         "legendgroup": "01944-00006 | DoorDash",
         "marker": {
          "color": "#ab63fa",
          "opacity": 0.7,
          "size": 10,
          "symbol": "circle"
         },
         "mode": "markers",
         "name": "01944-00006 | DoorDash",
         "orientation": "v",
         "showlegend": true,
         "type": "scatter",
         "x": {
          "bdata": "zczMzIxx0UA=",
          "dtype": "f8"
         },
         "xaxis": "x",
         "y": {
          "bdata": "16NwPQoXM0A=",
          "dtype": "f8"
         },
         "yaxis": "y"
        },
        {
         "hovertemplate": "Label=01978-00002 | UberEats<br>Weekly Revenue=%{x}<br>Average Order Value=%{y}<extra></extra>",
         "legendgroup": "01978-00002 | UberEats",
         "marker": {
          "color": "#FFA15A",
          "opacity": 0.7,
          "size": 10,
          "symbol": "circle"
         },
         "mode": "markers",
         "name": "01978-00002 | UberEats",
         "orientation": "v",
         "showlegend": true,
         "type": "scatter",
         "x": {
          "bdata": "16NwPbqc0UA=",
          "dtype": "f8"
         },
         "xaxis": "x",
         "y": {
          "bdata": "XI/C9SgcNkA=",
          "dtype": "f8"
         },
         "yaxis": "y"
        },
        {
         "hovertemplate": "Label=01978-00002 | Website<br>Weekly Revenue=%{x}<br>Average Order Value=%{y}<extra></extra>",
         "legendgroup": "01978-00002 | Website",
         "marker": {
          "color": "#19d3f3",
          "opacity": 0.7,
          "size": 10,
          "symbol": "circle"
         },
         "mode": "markers",
         "name": "01978-00002 | Website",
         "orientation": "v",
         "showlegend": true,
         "type": "scatter",
         "x": {
          "bdata": "9ihcj6JH3kA=",
          "dtype": "f8"
         },
         "xaxis": "x",
         "y": {
          "bdata": "uB6F61H4NUA=",
          "dtype": "f8"
         },
         "yaxis": "y"
        },
        {
         "hovertemplate": "Label=01978-00002 | Grubhub<br>Weekly Revenue=%{x}<br>Average Order Value=%{y}<extra></extra>",
         "legendgroup": "01978-00002 | Grubhub",
         "marker": {
          "color": "#FF6692",
          "opacity": 0.7,
          "size": 10,
          "symbol": "circle"
         },
         "mode": "markers",
         "name": "01978-00002 | Grubhub",
         "orientation": "v",
         "showlegend": true,
         "type": "scatter",
         "x": {
          "bdata": "XI/C9SgSrUA=",
          "dtype": "f8"
         },
         "xaxis": "x",
         "y": {
          "bdata": "H4XrUbieNEA=",
          "dtype": "f8"
         },
         "yaxis": "y"
        },
        {
         "hovertemplate": "Label=01978-00002 | DoorDash<br>Weekly Revenue=%{x}<br>Average Order Value=%{y}<extra></extra>",
         "legendgroup": "01978-00002 | DoorDash",
         "marker": {
          "color": "#B6E880",
          "opacity": 0.7,
          "size": 10,
          "symbol": "circle"
         },
         "mode": "markers",
         "name": "01978-00002 | DoorDash",
         "orientation": "v",
         "showlegend": true,
         "type": "scatter",
         "x": {
          "bdata": "zczMzHze2UA=",
          "dtype": "f8"
         },
         "xaxis": "x",
         "y": {
          "bdata": "MzMzMzMzNEA=",
          "dtype": "f8"
         },
         "yaxis": "y"
        },
        {
         "hovertemplate": "Label=01978-00002 | Mobile<br>Weekly Revenue=%{x}<br>Average Order Value=%{y}<extra></extra>",
         "legendgroup": "01978-00002 | Mobile",
         "marker": {
          "color": "#FF97FF",
          "opacity": 0.7,
          "size": 10,
          "symbol": "circle"
         },
         "mode": "markers",
         "name": "01978-00002 | Mobile",
         "orientation": "v",
         "showlegend": true,
         "type": "scatter",
         "x": {
          "bdata": "mpmZmek55UA=",
          "dtype": "f8"
         },
         "xaxis": "x",
         "y": {
          "bdata": "UrgeheuRM0A=",
          "dtype": "f8"
         },
         "yaxis": "y"
        },
        {
         "hovertemplate": "Label=01978-00005 | UberEats<br>Weekly Revenue=%{x}<br>Average Order Value=%{y}<extra></extra>",
         "legendgroup": "01978-00005 | UberEats",
         "marker": {
          "color": "#FECB52",
          "opacity": 0.7,
          "size": 10,
          "symbol": "circle"
         },
         "mode": "markers",
         "name": "01978-00005 | UberEats",
         "orientation": "v",
         "showlegend": true,
         "type": "scatter",
         "x": {
          "bdata": "FK5H4bo13EA=",
          "dtype": "f8"
         },
         "xaxis": "x",
         "y": {
          "bdata": "SOF6FK5HNkA=",
          "dtype": "f8"
         },
         "yaxis": "y"
        },
        {
         "hovertemplate": "Label=01978-00005 | Website<br>Weekly Revenue=%{x}<br>Average Order Value=%{y}<extra></extra>",
         "legendgroup": "01978-00005 | Website",
         "marker": {
          "color": "#636efa",
          "opacity": 0.7,
          "size": 10,
          "symbol": "circle"
         },
         "mode": "markers",
         "name": "01978-00005 | Website",
         "orientation": "v",
         "showlegend": true,
         "type": "scatter",
         "x": {
          "bdata": "FK5H4bpn3UA=",
          "dtype": "f8"
         },
         "xaxis": "x",
         "y": {
          "bdata": "7FG4HoWrNUA=",
          "dtype": "f8"
         },
         "yaxis": "y"
        },
        {
         "hovertemplate": "Label=01978-00005 | Mobile<br>Weekly Revenue=%{x}<br>Average Order Value=%{y}<extra></extra>",
         "legendgroup": "01978-00005 | Mobile",
         "marker": {
          "color": "#EF553B",
          "opacity": 0.7,
          "size": 10,
          "symbol": "circle"
         },
         "mode": "markers",
         "name": "01978-00005 | Mobile",
         "orientation": "v",
         "showlegend": true,
         "type": "scatter",
         "x": {
          "bdata": "PQrXo9jx50A=",
          "dtype": "f8"
         },
         "xaxis": "x",
         "y": {
          "bdata": "w/UoXI9CNEA=",
          "dtype": "f8"
         },
         "yaxis": "y"
        },
        {
         "hovertemplate": "Label=01978-00005 | Grubhub<br>Weekly Revenue=%{x}<br>Average Order Value=%{y}<extra></extra>",
         "legendgroup": "01978-00005 | Grubhub",
         "marker": {
          "color": "#00cc96",
          "opacity": 0.7,
          "size": 10,
          "symbol": "circle"
         },
         "mode": "markers",
         "name": "01978-00005 | Grubhub",
         "orientation": "v",
         "showlegend": true,
         "type": "scatter",
         "x": {
          "bdata": "uB6F69HHsEA=",
          "dtype": "f8"
         },
         "xaxis": "x",
         "y": {
          "bdata": "UrgeheuRM0A=",
          "dtype": "f8"
         },
         "yaxis": "y"
        },
        {
         "hovertemplate": "Label=01978-00005 | DoorDash<br>Weekly Revenue=%{x}<br>Average Order Value=%{y}<extra></extra>",
         "legendgroup": "01978-00005 | DoorDash",
         "marker": {
          "color": "#ab63fa",
          "opacity": 0.7,
          "size": 10,
          "symbol": "circle"
         },
         "mode": "markers",
         "name": "01978-00005 | DoorDash",
         "orientation": "v",
         "showlegend": true,
         "type": "scatter",
         "x": {
          "bdata": "4XoUrmeH4kA=",
          "dtype": "f8"
         },
         "xaxis": "x",
         "y": {
          "bdata": "SOF6FK6HM0A=",
          "dtype": "f8"
         },
         "yaxis": "y"
        },
        {
         "hovertemplate": "Label=03222-00001 | UberEats<br>Weekly Revenue=%{x}<br>Average Order Value=%{y}<extra></extra>",
         "legendgroup": "03222-00001 | UberEats",
         "marker": {
          "color": "#FFA15A",
          "opacity": 0.7,
          "size": 10,
          "symbol": "circle"
         },
         "mode": "markers",
         "name": "03222-00001 | UberEats",
         "orientation": "v",
         "showlegend": true,
         "type": "scatter",
         "x": {
          "bdata": "XI/C9ahqo0A=",
          "dtype": "f8"
         },
         "xaxis": "x",
         "y": {
          "bdata": "KVyPwvVoN0A=",
          "dtype": "f8"
         },
         "yaxis": "y"
        },
        {
         "hovertemplate": "Label=03222-00001 | Website<br>Weekly Revenue=%{x}<br>Average Order Value=%{y}<extra></extra>",
         "legendgroup": "03222-00001 | Website",
         "marker": {
          "color": "#19d3f3",
          "opacity": 0.7,
          "size": 10,
          "symbol": "circle"
         },
         "mode": "markers",
         "name": "03222-00001 | Website",
         "orientation": "v",
         "showlegend": true,
         "type": "scatter",
         "x": {
          "bdata": "cT0K11Nw4UA=",
          "dtype": "f8"
         },
         "xaxis": "x",
         "y": {
          "bdata": "XI/C9SicNUA=",
          "dtype": "f8"
         },
         "yaxis": "y"
        },
        {
         "hovertemplate": "Label=03222-00001 | DoorDash<br>Weekly Revenue=%{x}<br>Average Order Value=%{y}<extra></extra>",
         "legendgroup": "03222-00001 | DoorDash",
         "marker": {
          "color": "#FF6692",
          "opacity": 0.7,
          "size": 10,
          "symbol": "circle"
         },
         "mode": "markers",
         "name": "03222-00001 | DoorDash",
         "orientation": "v",
         "showlegend": true,
         "type": "scatter",
         "x": {
          "bdata": "w/UoXG+o1kA=",
          "dtype": "f8"
         },
         "xaxis": "x",
         "y": {
          "bdata": "FK5H4XqUNEA=",
          "dtype": "f8"
         },
         "yaxis": "y"
        },
        {
         "hovertemplate": "Label=03222-00001 | Mobile<br>Weekly Revenue=%{x}<br>Average Order Value=%{y}<extra></extra>",
         "legendgroup": "03222-00001 | Mobile",
         "marker": {
          "color": "#B6E880",
          "opacity": 0.7,
          "size": 10,
          "symbol": "circle"
         },
         "mode": "markers",
         "name": "03222-00001 | Mobile",
         "orientation": "v",
         "showlegend": true,
         "type": "scatter",
         "x": {
          "bdata": "uB6F60V48UA=",
          "dtype": "f8"
         },
         "xaxis": "x",
         "y": {
          "bdata": "H4XrUbieM0A=",
          "dtype": "f8"
         },
         "yaxis": "y"
        },
        {
         "hovertemplate": "Label=03222-00001 | Grubhub<br>Weekly Revenue=%{x}<br>Average Order Value=%{y}<extra></extra>",
         "legendgroup": "03222-00001 | Grubhub",
         "marker": {
          "color": "#FF97FF",
          "opacity": 0.7,
          "size": 10,
          "symbol": "circle"
         },
         "mode": "markers",
         "name": "03222-00001 | Grubhub",
         "orientation": "v",
         "showlegend": true,
         "type": "scatter",
         "x": {
          "bdata": "XI/C9Sj4fkA=",
          "dtype": "f8"
         },
         "xaxis": "x",
         "y": {
          "bdata": "w/UoXI/CMUA=",
          "dtype": "f8"
         },
         "yaxis": "y"
        },
        {
         "hovertemplate": "Label=03222-00002 | Grubhub<br>Weekly Revenue=%{x}<br>Average Order Value=%{y}<extra></extra>",
         "legendgroup": "03222-00002 | Grubhub",
         "marker": {
          "color": "#FECB52",
          "opacity": 0.7,
          "size": 10,
          "symbol": "circle"
         },
         "mode": "markers",
         "name": "03222-00002 | Grubhub",
         "orientation": "v",
         "showlegend": true,
         "type": "scatter",
         "x": {
          "bdata": "FK5H4XoEhUA=",
          "dtype": "f8"
         },
         "xaxis": "x",
         "y": {
          "bdata": "rkfhehTuO0A=",
          "dtype": "f8"
         },
         "yaxis": "y"
        },
        {
         "hovertemplate": "Label=03222-00002 | Website<br>Weekly Revenue=%{x}<br>Average Order Value=%{y}<extra></extra>",
         "legendgroup": "03222-00002 | Website",
         "marker": {
          "color": "#636efa",
          "opacity": 0.7,
          "size": 10,
          "symbol": "circle"
         },
         "mode": "markers",
         "name": "03222-00002 | Website",
         "orientation": "v",
         "showlegend": true,
         "type": "scatter",
         "x": {
          "bdata": "CtejcN0K2EA=",
          "dtype": "f8"
         },
         "xaxis": "x",
         "y": {
          "bdata": "FK5H4XoUNUA=",
          "dtype": "f8"
         },
         "yaxis": "y"
        },
        {
         "hovertemplate": "Label=03222-00002 | UberEats<br>Weekly Revenue=%{x}<br>Average Order Value=%{y}<extra></extra>",
         "legendgroup": "03222-00002 | UberEats",
         "marker": {
          "color": "#EF553B",
          "opacity": 0.7,
          "size": 10,
          "symbol": "circle"
         },
         "mode": "markers",
         "name": "03222-00002 | UberEats",
         "orientation": "v",
         "showlegend": true,
         "type": "scatter",
         "x": {
          "bdata": "SOF6FK6fpkA=",
          "dtype": "f8"
         },
         "xaxis": "x",
         "y": {
          "bdata": "w/UoXI/CNEA=",
          "dtype": "f8"
         },
         "yaxis": "y"
        },
        {
         "hovertemplate": "Label=03222-00002 | DoorDash<br>Weekly Revenue=%{x}<br>Average Order Value=%{y}<extra></extra>",
         "legendgroup": "03222-00002 | DoorDash",
         "marker": {
          "color": "#00cc96",
          "opacity": 0.7,
          "size": 10,
          "symbol": "circle"
         },
         "mode": "markers",
         "name": "03222-00002 | DoorDash",
         "orientation": "v",
         "showlegend": true,
         "type": "scatter",
         "x": {
          "bdata": "exSuR8ES1kA=",
          "dtype": "f8"
         },
         "xaxis": "x",
         "y": {
          "bdata": "FK5H4XoUM0A=",
          "dtype": "f8"
         },
         "yaxis": "y"
        },
        {
         "hovertemplate": "Label=03222-00002 | Mobile<br>Weekly Revenue=%{x}<br>Average Order Value=%{y}<extra></extra>",
         "legendgroup": "03222-00002 | Mobile",
         "marker": {
          "color": "#ab63fa",
          "opacity": 0.7,
          "size": 10,
          "symbol": "circle"
         },
         "mode": "markers",
         "name": "03222-00002 | Mobile",
         "orientation": "v",
         "showlegend": true,
         "type": "scatter",
         "x": {
          "bdata": "FK5H4VLK50A=",
          "dtype": "f8"
         },
         "xaxis": "x",
         "y": {
          "bdata": "hetRuB4FM0A=",
          "dtype": "f8"
         },
         "yaxis": "y"
        },
        {
         "hovertemplate": "Label=03222-00003 | Website<br>Weekly Revenue=%{x}<br>Average Order Value=%{y}<extra></extra>",
         "legendgroup": "03222-00003 | Website",
         "marker": {
          "color": "#FFA15A",
          "opacity": 0.7,
          "size": 10,
          "symbol": "circle"
         },
         "mode": "markers",
         "name": "03222-00003 | Website",
         "orientation": "v",
         "showlegend": true,
         "type": "scatter",
         "x": {
          "bdata": "PQrXo7Av2EA=",
          "dtype": "f8"
         },
         "xaxis": "x",
         "y": {
          "bdata": "pHA9CtcjOEA=",
          "dtype": "f8"
         },
         "yaxis": "y"
        },
        {
         "hovertemplate": "Label=03222-00003 | Grubhub<br>Weekly Revenue=%{x}<br>Average Order Value=%{y}<extra></extra>",
         "legendgroup": "03222-00003 | Grubhub",
         "marker": {
          "color": "#19d3f3",
          "opacity": 0.7,
          "size": 10,
          "symbol": "circle"
         },
         "mode": "markers",
         "name": "03222-00003 | Grubhub",
         "orientation": "v",
         "showlegend": true,
         "type": "scatter",
         "x": {
          "bdata": "Urgehes5hkA=",
          "dtype": "f8"
         },
         "xaxis": "x",
         "y": {
          "bdata": "KVyPwvXoNkA=",
          "dtype": "f8"
         },
         "yaxis": "y"
        },
        {
         "hovertemplate": "Label=03222-00003 | Mobile<br>Weekly Revenue=%{x}<br>Average Order Value=%{y}<extra></extra>",
         "legendgroup": "03222-00003 | Mobile",
         "marker": {
          "color": "#FF6692",
          "opacity": 0.7,
          "size": 10,
          "symbol": "circle"
         },
         "mode": "markers",
         "name": "03222-00003 | Mobile",
         "orientation": "v",
         "showlegend": true,
         "type": "scatter",
         "x": {
          "bdata": "PQrXo+gs6EA=",
          "dtype": "f8"
         },
         "xaxis": "x",
         "y": {
          "bdata": "pHA9CtfjNEA=",
          "dtype": "f8"
         },
         "yaxis": "y"
        },
        {
         "hovertemplate": "Label=03222-00003 | DoorDash<br>Weekly Revenue=%{x}<br>Average Order Value=%{y}<extra></extra>",
         "legendgroup": "03222-00003 | DoorDash",
         "marker": {
          "color": "#B6E880",
          "opacity": 0.7,
          "size": 10,
          "symbol": "circle"
         },
         "mode": "markers",
         "name": "03222-00003 | DoorDash",
         "orientation": "v",
         "showlegend": true,
         "type": "scatter",
         "x": {
          "bdata": "w/UoXD/e0EA=",
          "dtype": "f8"
         },
         "xaxis": "x",
         "y": {
          "bdata": "16NwPQpXNEA=",
          "dtype": "f8"
         },
         "yaxis": "y"
        },
        {
         "hovertemplate": "Label=03222-00003 | UberEats<br>Weekly Revenue=%{x}<br>Average Order Value=%{y}<extra></extra>",
         "legendgroup": "03222-00003 | UberEats",
         "marker": {
          "color": "#FF97FF",
          "opacity": 0.7,
          "size": 10,
          "symbol": "circle"
         },
         "mode": "markers",
         "name": "03222-00003 | UberEats",
         "orientation": "v",
         "showlegend": true,
         "type": "scatter",
         "x": {
          "bdata": "KVyPwvUsjUA=",
          "dtype": "f8"
         },
         "xaxis": "x",
         "y": {
          "bdata": "rkfhehTuM0A=",
          "dtype": "f8"
         },
         "yaxis": "y"
        },
        {
         "hovertemplate": "Label=03222-00004 | Website<br>Weekly Revenue=%{x}<br>Average Order Value=%{y}<extra></extra>",
         "legendgroup": "03222-00004 | Website",
         "marker": {
          "color": "#FECB52",
          "opacity": 0.7,
          "size": 10,
          "symbol": "circle"
         },
         "mode": "markers",
         "name": "03222-00004 | Website",
         "orientation": "v",
         "showlegend": true,
         "type": "scatter",
         "x": {
          "bdata": "uB6F63Gf10A=",
          "dtype": "f8"
         },
         "xaxis": "x",
         "y": {
          "bdata": "MzMzMzOzNEA=",
          "dtype": "f8"
         },
         "yaxis": "y"
        },
        {
         "hovertemplate": "Label=03222-00004 | Mobile<br>Weekly Revenue=%{x}<br>Average Order Value=%{y}<extra></extra>",
         "legendgroup": "03222-00004 | Mobile",
         "marker": {
          "color": "#636efa",
          "opacity": 0.7,
          "size": 10,
          "symbol": "circle"
         },
         "mode": "markers",
         "name": "03222-00004 | Mobile",
         "orientation": "v",
         "showlegend": true,
         "type": "scatter",
         "x": {
          "bdata": "cT0K12tG50A=",
          "dtype": "f8"
         },
         "xaxis": "x",
         "y": {
          "bdata": "PQrXo3B9M0A=",
          "dtype": "f8"
         },
         "yaxis": "y"
        },
        {
         "hovertemplate": "Label=03222-00004 | UberEats<br>Weekly Revenue=%{x}<br>Average Order Value=%{y}<extra></extra>",
         "legendgroup": "03222-00004 | UberEats",
         "marker": {
          "color": "#EF553B",
          "opacity": 0.7,
          "size": 10,
          "symbol": "circle"
         },
         "mode": "markers",
         "name": "03222-00004 | UberEats",
         "orientation": "v",
         "showlegend": true,
         "type": "scatter",
         "x": {
          "bdata": "pHA9Cpf0sEA=",
          "dtype": "f8"
         },
         "xaxis": "x",
         "y": {
          "bdata": "XI/C9ShcM0A=",
          "dtype": "f8"
         },
         "yaxis": "y"
        },
        {
         "hovertemplate": "Label=03222-00004 | DoorDash<br>Weekly Revenue=%{x}<br>Average Order Value=%{y}<extra></extra>",
         "legendgroup": "03222-00004 | DoorDash",
         "marker": {
          "color": "#00cc96",
          "opacity": 0.7,
          "size": 10,
          "symbol": "circle"
         },
         "mode": "markers",
         "name": "03222-00004 | DoorDash",
         "orientation": "v",
         "showlegend": true,
         "type": "scatter",
         "x": {
          "bdata": "hetRuI483kA=",
          "dtype": "f8"
         },
         "xaxis": "x",
         "y": {
          "bdata": "XI/C9SgcM0A=",
          "dtype": "f8"
         },
         "yaxis": "y"
        },
        {
         "hovertemplate": "Label=03222-00004 | Grubhub<br>Weekly Revenue=%{x}<br>Average Order Value=%{y}<extra></extra>",
         "legendgroup": "03222-00004 | Grubhub",
         "marker": {
          "color": "#ab63fa",
          "opacity": 0.7,
          "size": 10,
          "symbol": "circle"
         },
         "mode": "markers",
         "name": "03222-00004 | Grubhub",
         "orientation": "v",
         "showlegend": true,
         "type": "scatter",
         "x": {
          "bdata": "KVyPwvU8kkA=",
          "dtype": "f8"
         },
         "xaxis": "x",
         "y": {
          "bdata": "SOF6FK5HMkA=",
          "dtype": "f8"
         },
         "yaxis": "y"
        },
        {
         "hovertemplate": "Label=03222-00006 | Grubhub<br>Weekly Revenue=%{x}<br>Average Order Value=%{y}<extra></extra>",
         "legendgroup": "03222-00006 | Grubhub",
         "marker": {
          "color": "#FFA15A",
          "opacity": 0.7,
          "size": 10,
          "symbol": "circle"
         },
         "mode": "markers",
         "name": "03222-00006 | Grubhub",
         "orientation": "v",
         "showlegend": true,
         "type": "scatter",
         "x": {
          "bdata": "H4XrUbhsgEA=",
          "dtype": "f8"
         },
         "xaxis": "x",
         "y": {
          "bdata": "9ihcj8K1NkA=",
          "dtype": "f8"
         },
         "yaxis": "y"
        },
        {
         "hovertemplate": "Label=03222-00006 | DoorDash<br>Weekly Revenue=%{x}<br>Average Order Value=%{y}<extra></extra>",
         "legendgroup": "03222-00006 | DoorDash",
         "marker": {
          "color": "#19d3f3",
          "opacity": 0.7,
          "size": 10,
          "symbol": "circle"
         },
         "mode": "markers",
         "name": "03222-00006 | DoorDash",
         "orientation": "v",
         "showlegend": true,
         "type": "scatter",
         "x": {
          "bdata": "zczMzHxG1EA=",
          "dtype": "f8"
         },
         "xaxis": "x",
         "y": {
          "bdata": "j8L1KFzPNUA=",
          "dtype": "f8"
         },
         "yaxis": "y"
        },
        {
         "hovertemplate": "Label=03222-00006 | Website<br>Weekly Revenue=%{x}<br>Average Order Value=%{y}<extra></extra>",
         "legendgroup": "03222-00006 | Website",
         "marker": {
          "color": "#FF6692",
          "opacity": 0.7,
          "size": 10,
          "symbol": "circle"
         },
         "mode": "markers",
         "name": "03222-00006 | Website",
         "orientation": "v",
         "showlegend": true,
         "type": "scatter",
         "x": {
          "bdata": "PQrXo8CS3UA=",
          "dtype": "f8"
         },
         "xaxis": "x",
         "y": {
          "bdata": "PQrXo3B9NUA=",
          "dtype": "f8"
         },
         "yaxis": "y"
        },
        {
         "hovertemplate": "Label=03222-00006 | UberEats<br>Weekly Revenue=%{x}<br>Average Order Value=%{y}<extra></extra>",
         "legendgroup": "03222-00006 | UberEats",
         "marker": {
          "color": "#B6E880",
          "opacity": 0.7,
          "size": 10,
          "symbol": "circle"
         },
         "mode": "markers",
         "name": "03222-00006 | UberEats",
         "orientation": "v",
         "showlegend": true,
         "type": "scatter",
         "x": {
          "bdata": "j8L1KFytnEA=",
          "dtype": "f8"
         },
         "xaxis": "x",
         "y": {
          "bdata": "hetRuB5FNUA=",
          "dtype": "f8"
         },
         "yaxis": "y"
        },
        {
         "hovertemplate": "Label=03222-00006 | Mobile<br>Weekly Revenue=%{x}<br>Average Order Value=%{y}<extra></extra>",
         "legendgroup": "03222-00006 | Mobile",
         "marker": {
          "color": "#FF97FF",
          "opacity": 0.7,
          "size": 10,
          "symbol": "circle"
         },
         "mode": "markers",
         "name": "03222-00006 | Mobile",
         "orientation": "v",
         "showlegend": true,
         "type": "scatter",
         "x": {
          "bdata": "ZmZmZt5u8kA=",
          "dtype": "f8"
         },
         "xaxis": "x",
         "y": {
          "bdata": "uB6F61G4NEA=",
          "dtype": "f8"
         },
         "yaxis": "y"
        },
        {
         "hovertemplate": "Label=03222-00007 | Website<br>Weekly Revenue=%{x}<br>Average Order Value=%{y}<extra></extra>",
         "legendgroup": "03222-00007 | Website",
         "marker": {
          "color": "#FECB52",
          "opacity": 0.7,
          "size": 10,
          "symbol": "circle"
         },
         "mode": "markers",
         "name": "03222-00007 | Website",
         "orientation": "v",
         "showlegend": true,
         "type": "scatter",
         "x": {
          "bdata": "zczMzByD1EA=",
          "dtype": "f8"
         },
         "xaxis": "x",
         "y": {
          "bdata": "hetRuB7FN0A=",
          "dtype": "f8"
         },
         "yaxis": "y"
        },
        {
         "hovertemplate": "Label=03222-00007 | UberEats<br>Weekly Revenue=%{x}<br>Average Order Value=%{y}<extra></extra>",
         "legendgroup": "03222-00007 | UberEats",
         "marker": {
          "color": "#636efa",
          "opacity": 0.7,
          "size": 10,
          "symbol": "circle"
         },
         "mode": "markers",
         "name": "03222-00007 | UberEats",
         "orientation": "v",
         "showlegend": true,
         "type": "scatter",
         "x": {
          "bdata": "UrgeheuFg0A=",
          "dtype": "f8"
         },
         "xaxis": "x",
         "y": {
          "bdata": "UrgeheuRNkA=",
          "dtype": "f8"
         },
         "yaxis": "y"
        },
        {
         "hovertemplate": "Label=03222-00007 | Mobile<br>Weekly Revenue=%{x}<br>Average Order Value=%{y}<extra></extra>",
         "legendgroup": "03222-00007 | Mobile",
         "marker": {
          "color": "#EF553B",
          "opacity": 0.7,
          "size": 10,
          "symbol": "circle"
         },
         "mode": "markers",
         "name": "03222-00007 | Mobile",
         "orientation": "v",
         "showlegend": true,
         "type": "scatter",
         "x": {
          "bdata": "zczMzPwJ6kA=",
          "dtype": "f8"
         },
         "xaxis": "x",
         "y": {
          "bdata": "FK5H4XrUNEA=",
          "dtype": "f8"
         },
         "yaxis": "y"
        },
        {
         "hovertemplate": "Label=03222-00007 | DoorDash<br>Weekly Revenue=%{x}<br>Average Order Value=%{y}<extra></extra>",
         "legendgroup": "03222-00007 | DoorDash",
         "marker": {
          "color": "#00cc96",
          "opacity": 0.7,
          "size": 10,
          "symbol": "circle"
         },
         "mode": "markers",
         "name": "03222-00007 | DoorDash",
         "orientation": "v",
         "showlegend": true,
         "type": "scatter",
         "x": {
          "bdata": "CtejcH2L0kA=",
          "dtype": "f8"
         },
         "xaxis": "x",
         "y": {
          "bdata": "SOF6FK4HNEA=",
          "dtype": "f8"
         },
         "yaxis": "y"
        },
        {
         "hovertemplate": "Label=03222-00008 | UberEats<br>Weekly Revenue=%{x}<br>Average Order Value=%{y}<extra></extra>",
         "legendgroup": "03222-00008 | UberEats",
         "marker": {
          "color": "#ab63fa",
          "opacity": 0.7,
          "size": 10,
          "symbol": "circle"
         },
         "mode": "markers",
         "name": "03222-00008 | UberEats",
         "orientation": "v",
         "showlegend": true,
         "type": "scatter",
         "x": {
          "bdata": "UrgehevhiUA=",
          "dtype": "f8"
         },
         "xaxis": "x",
         "y": {
          "bdata": "pHA9CtdjOEA=",
          "dtype": "f8"
         },
         "yaxis": "y"
        },
        {
         "hovertemplate": "Label=03222-00008 | Website<br>Weekly Revenue=%{x}<br>Average Order Value=%{y}<extra></extra>",
         "legendgroup": "03222-00008 | Website",
         "marker": {
          "color": "#FFA15A",
          "opacity": 0.7,
          "size": 10,
          "symbol": "circle"
         },
         "mode": "markers",
         "name": "03222-00008 | Website",
         "orientation": "v",
         "showlegend": true,
         "type": "scatter",
         "x": {
          "bdata": "7FG4HtX53UA=",
          "dtype": "f8"
         },
         "xaxis": "x",
         "y": {
          "bdata": "H4XrUbieNkA=",
          "dtype": "f8"
         },
         "yaxis": "y"
        },
        {
         "hovertemplate": "Label=03222-00008 | DoorDash<br>Weekly Revenue=%{x}<br>Average Order Value=%{y}<extra></extra>",
         "legendgroup": "03222-00008 | DoorDash",
         "marker": {
          "color": "#19d3f3",
          "opacity": 0.7,
          "size": 10,
          "symbol": "circle"
         },
         "mode": "markers",
         "name": "03222-00008 | DoorDash",
         "orientation": "v",
         "showlegend": true,
         "type": "scatter",
         "x": {
          "bdata": "pHA9Cocs00A=",
          "dtype": "f8"
         },
         "xaxis": "x",
         "y": {
          "bdata": "CtejcD1KNEA=",
          "dtype": "f8"
         },
         "yaxis": "y"
        },
        {
         "hovertemplate": "Label=03222-00008 | Mobile<br>Weekly Revenue=%{x}<br>Average Order Value=%{y}<extra></extra>",
         "legendgroup": "03222-00008 | Mobile",
         "marker": {
          "color": "#FF6692",
          "opacity": 0.7,
          "size": 10,
          "symbol": "circle"
         },
         "mode": "markers",
         "name": "03222-00008 | Mobile",
         "orientation": "v",
         "showlegend": true,
         "type": "scatter",
         "x": {
          "bdata": "hetRuEqT8EA=",
          "dtype": "f8"
         },
         "xaxis": "x",
         "y": {
          "bdata": "j8L1KFzPM0A=",
          "dtype": "f8"
         },
         "yaxis": "y"
        },
        {
         "hovertemplate": "Label=03222-00009 | Website<br>Weekly Revenue=%{x}<br>Average Order Value=%{y}<extra></extra>",
         "legendgroup": "03222-00009 | Website",
         "marker": {
          "color": "#B6E880",
          "opacity": 0.7,
          "size": 10,
          "symbol": "circle"
         },
         "mode": "markers",
         "name": "03222-00009 | Website",
         "orientation": "v",
         "showlegend": true,
         "type": "scatter",
         "x": {
          "bdata": "cT0K18O2zUA=",
          "dtype": "f8"
         },
         "xaxis": "x",
         "y": {
          "bdata": "cT0K16OwNkA=",
          "dtype": "f8"
         },
         "yaxis": "y"
        },
        {
         "hovertemplate": "Label=03222-00009 | UberEats<br>Weekly Revenue=%{x}<br>Average Order Value=%{y}<extra></extra>",
         "legendgroup": "03222-00009 | UberEats",
         "marker": {
          "color": "#FF97FF",
          "opacity": 0.7,
          "size": 10,
          "symbol": "circle"
         },
         "mode": "markers",
         "name": "03222-00009 | UberEats",
         "orientation": "v",
         "showlegend": true,
         "type": "scatter",
         "x": {
          "bdata": "hetRuB5lfkA=",
          "dtype": "f8"
         },
         "xaxis": "x",
         "y": {
          "bdata": "H4XrUbjeNUA=",
          "dtype": "f8"
         },
         "yaxis": "y"
        },
        {
         "hovertemplate": "Label=03222-00009 | Mobile<br>Weekly Revenue=%{x}<br>Average Order Value=%{y}<extra></extra>",
         "legendgroup": "03222-00009 | Mobile",
         "marker": {
          "color": "#FECB52",
          "opacity": 0.7,
          "size": 10,
          "symbol": "circle"
         },
         "mode": "markers",
         "name": "03222-00009 | Mobile",
         "orientation": "v",
         "showlegend": true,
         "type": "scatter",
         "x": {
          "bdata": "SOF6FB5o3EA=",
          "dtype": "f8"
         },
         "xaxis": "x",
         "y": {
          "bdata": "4XoUrkfhM0A=",
          "dtype": "f8"
         },
         "yaxis": "y"
        },
        {
         "hovertemplate": "Label=03222-00009 | DoorDash<br>Weekly Revenue=%{x}<br>Average Order Value=%{y}<extra></extra>",
         "legendgroup": "03222-00009 | DoorDash",
         "marker": {
          "color": "#636efa",
          "opacity": 0.7,
          "size": 10,
          "symbol": "circle"
         },
         "mode": "markers",
         "name": "03222-00009 | DoorDash",
         "orientation": "v",
         "showlegend": true,
         "type": "scatter",
         "x": {
          "bdata": "4XoUrmcFxUA=",
          "dtype": "f8"
         },
         "xaxis": "x",
         "y": {
          "bdata": "ZmZmZmamM0A=",
          "dtype": "f8"
         },
         "yaxis": "y"
        },
        {
         "hovertemplate": "Label=03222-00010 | UberEats<br>Weekly Revenue=%{x}<br>Average Order Value=%{y}<extra></extra>",
         "legendgroup": "03222-00010 | UberEats",
         "marker": {
          "color": "#EF553B",
          "opacity": 0.7,
          "size": 10,
          "symbol": "circle"
         },
         "mode": "markers",
         "name": "03222-00010 | UberEats",
         "orientation": "v",
         "showlegend": true,
         "type": "scatter",
         "x": {
          "bdata": "4XoUrkc7h0A=",
          "dtype": "f8"
         },
         "xaxis": "x",
         "y": {
          "bdata": "16NwPQpXN0A=",
          "dtype": "f8"
         },
         "yaxis": "y"
        },
        {
         "hovertemplate": "Label=03222-00010 | Website<br>Weekly Revenue=%{x}<br>Average Order Value=%{y}<extra></extra>",
         "legendgroup": "03222-00010 | Website",
         "marker": {
          "color": "#00cc96",
          "opacity": 0.7,
          "size": 10,
          "symbol": "circle"
         },
         "mode": "markers",
         "name": "03222-00010 | Website",
         "orientation": "v",
         "showlegend": true,
         "type": "scatter",
         "x": {
          "bdata": "SOF6FI5iy0A=",
          "dtype": "f8"
         },
         "xaxis": "x",
         "y": {
          "bdata": "exSuR+F6NkA=",
          "dtype": "f8"
         },
         "yaxis": "y"
        },
        {
         "hovertemplate": "Label=03222-00010 | Mobile<br>Weekly Revenue=%{x}<br>Average Order Value=%{y}<extra></extra>",
         "legendgroup": "03222-00010 | Mobile",
         "marker": {
          "color": "#ab63fa",
          "opacity": 0.7,
          "size": 10,
          "symbol": "circle"
         },
         "mode": "markers",
         "name": "03222-00010 | Mobile",
         "orientation": "v",
         "showlegend": true,
         "type": "scatter",
         "x": {
          "bdata": "j8L1KJzW30A=",
          "dtype": "f8"
         },
         "xaxis": "x",
         "y": {
          "bdata": "PQrXo3D9NEA=",
          "dtype": "f8"
         },
         "yaxis": "y"
        },
        {
         "hovertemplate": "Label=03222-00010 | DoorDash<br>Weekly Revenue=%{x}<br>Average Order Value=%{y}<extra></extra>",
         "legendgroup": "03222-00010 | DoorDash",
         "marker": {
          "color": "#FFA15A",
          "opacity": 0.7,
          "size": 10,
          "symbol": "circle"
         },
         "mode": "markers",
         "name": "03222-00010 | DoorDash",
         "orientation": "v",
         "showlegend": true,
         "type": "scatter",
         "x": {
          "bdata": "16NwPUpZukA=",
          "dtype": "f8"
         },
         "xaxis": "x",
         "y": {
          "bdata": "9ihcj8J1M0A=",
          "dtype": "f8"
         },
         "yaxis": "y"
        },
        {
         "hovertemplate": "Label=03222-00012 | Website<br>Weekly Revenue=%{x}<br>Average Order Value=%{y}<extra></extra>",
         "legendgroup": "03222-00012 | Website",
         "marker": {
          "color": "#19d3f3",
          "opacity": 0.7,
          "size": 10,
          "symbol": "circle"
         },
         "mode": "markers",
         "name": "03222-00012 | Website",
         "orientation": "v",
         "showlegend": true,
         "type": "scatter",
         "x": {
          "bdata": "exSuR+GaVUA=",
          "dtype": "f8"
         },
         "xaxis": "x",
         "y": {
          "bdata": "j8L1KFzPPEA=",
          "dtype": "f8"
         },
         "yaxis": "y"
        },
        {
         "hovertemplate": "Label=03222-00012 | Mobile<br>Weekly Revenue=%{x}<br>Average Order Value=%{y}<extra></extra>",
         "legendgroup": "03222-00012 | Mobile",
         "marker": {
          "color": "#FF6692",
          "opacity": 0.7,
          "size": 10,
          "symbol": "circle"
         },
         "mode": "markers",
         "name": "03222-00012 | Mobile",
         "orientation": "v",
         "showlegend": true,
         "type": "scatter",
         "x": {
          "bdata": "MzMzMzN7c0A=",
          "dtype": "f8"
         },
         "xaxis": "x",
         "y": {
          "bdata": "16NwPQpXMkA=",
          "dtype": "f8"
         },
         "yaxis": "y"
        },
        {
         "hovertemplate": "Label=03222-00012 | DoorDash<br>Weekly Revenue=%{x}<br>Average Order Value=%{y}<extra></extra>",
         "legendgroup": "03222-00012 | DoorDash",
         "marker": {
          "color": "#B6E880",
          "opacity": 0.7,
          "size": 10,
          "symbol": "circle"
         },
         "mode": "markers",
         "name": "03222-00012 | DoorDash",
         "orientation": "v",
         "showlegend": true,
         "type": "scatter",
         "x": {
          "bdata": "FK5H4XqMakA=",
          "dtype": "f8"
         },
         "xaxis": "x",
         "y": {
          "bdata": "MzMzMzOzMUA=",
          "dtype": "f8"
         },
         "yaxis": "y"
        },
        {
         "hovertemplate": "Label=03222-00013 | Mobile<br>Weekly Revenue=%{x}<br>Average Order Value=%{y}<extra></extra>",
         "legendgroup": "03222-00013 | Mobile",
         "marker": {
          "color": "#FF97FF",
          "opacity": 0.7,
          "size": 10,
          "symbol": "circle"
         },
         "mode": "markers",
         "name": "03222-00013 | Mobile",
         "orientation": "v",
         "showlegend": true,
         "type": "scatter",
         "x": {
          "bdata": "w/UoXI/6dkA=",
          "dtype": "f8"
         },
         "xaxis": "x",
         "y": {
          "bdata": "rkfhehRuNEA=",
          "dtype": "f8"
         },
         "yaxis": "y"
        },
        {
         "hovertemplate": "Label=03222-00013 | DoorDash<br>Weekly Revenue=%{x}<br>Average Order Value=%{y}<extra></extra>",
         "legendgroup": "03222-00013 | DoorDash",
         "marker": {
          "color": "#FECB52",
          "opacity": 0.7,
          "size": 10,
          "symbol": "circle"
         },
         "mode": "markers",
         "name": "03222-00013 | DoorDash",
         "orientation": "v",
         "showlegend": true,
         "type": "scatter",
         "x": {
          "bdata": "16NwPQobdkA=",
          "dtype": "f8"
         },
         "xaxis": "x",
         "y": {
          "bdata": "ZmZmZmamM0A=",
          "dtype": "f8"
         },
         "yaxis": "y"
        },
        {
         "hovertemplate": "Label=03222-00013 | Website<br>Weekly Revenue=%{x}<br>Average Order Value=%{y}<extra></extra>",
         "legendgroup": "03222-00013 | Website",
         "marker": {
          "color": "#636efa",
          "opacity": 0.7,
          "size": 10,
          "symbol": "circle"
         },
         "mode": "markers",
         "name": "03222-00013 | Website",
         "orientation": "v",
         "showlegend": true,
         "type": "scatter",
         "x": {
          "bdata": "KVyPwvXgakA=",
          "dtype": "f8"
         },
         "xaxis": "x",
         "y": {
          "bdata": "7FG4HoXrMUA=",
          "dtype": "f8"
         },
         "yaxis": "y"
        },
        {
         "hovertemplate": "Label=03222-00014 | DoorDash<br>Weekly Revenue=%{x}<br>Average Order Value=%{y}<extra></extra>",
         "legendgroup": "03222-00014 | DoorDash",
         "marker": {
          "color": "#EF553B",
          "opacity": 0.7,
          "size": 10,
          "symbol": "circle"
         },
         "mode": "markers",
         "name": "03222-00014 | DoorDash",
         "orientation": "v",
         "showlegend": true,
         "type": "scatter",
         "x": {
          "bdata": "j8L1KFyvT0A=",
          "dtype": "f8"
         },
         "xaxis": "x",
         "y": {
          "bdata": "H4XrUbgeNUA=",
          "dtype": "f8"
         },
         "yaxis": "y"
        },
        {
         "hovertemplate": "Label=03222-00014 | Website<br>Weekly Revenue=%{x}<br>Average Order Value=%{y}<extra></extra>",
         "legendgroup": "03222-00014 | Website",
         "marker": {
          "color": "#00cc96",
          "opacity": 0.7,
          "size": 10,
          "symbol": "circle"
         },
         "mode": "markers",
         "name": "03222-00014 | Website",
         "orientation": "v",
         "showlegend": true,
         "type": "scatter",
         "x": {
          "bdata": "pHA9CtfTZkA=",
          "dtype": "f8"
         },
         "xaxis": "x",
         "y": {
          "bdata": "CtejcD1KNEA=",
          "dtype": "f8"
         },
         "yaxis": "y"
        },
        {
         "hovertemplate": "Label=03222-00014 | Mobile<br>Weekly Revenue=%{x}<br>Average Order Value=%{y}<extra></extra>",
         "legendgroup": "03222-00014 | Mobile",
         "marker": {
          "color": "#ab63fa",
          "opacity": 0.7,
          "size": 10,
          "symbol": "circle"
         },
         "mode": "markers",
         "name": "03222-00014 | Mobile",
         "orientation": "v",
         "showlegend": true,
         "type": "scatter",
         "x": {
          "bdata": "pHA9CtcPdkA=",
          "dtype": "f8"
         },
         "xaxis": "x",
         "y": {
          "bdata": "XI/C9SicM0A=",
          "dtype": "f8"
         },
         "yaxis": "y"
        },
        {
         "hovertemplate": "Label=03222-00015 | Website<br>Weekly Revenue=%{x}<br>Average Order Value=%{y}<extra></extra>",
         "legendgroup": "03222-00015 | Website",
         "marker": {
          "color": "#FFA15A",
          "opacity": 0.7,
          "size": 10,
          "symbol": "circle"
         },
         "mode": "markers",
         "name": "03222-00015 | Website",
         "orientation": "v",
         "showlegend": true,
         "type": "scatter",
         "x": {
          "bdata": "KVyPwv0z60A=",
          "dtype": "f8"
         },
         "xaxis": "x",
         "y": {
          "bdata": "16NwPQrXN0A=",
          "dtype": "f8"
         },
         "yaxis": "y"
        },
        {
         "hovertemplate": "Label=03222-00015 | UberEats<br>Weekly Revenue=%{x}<br>Average Order Value=%{y}<extra></extra>",
         "legendgroup": "03222-00015 | UberEats",
         "marker": {
          "color": "#19d3f3",
          "opacity": 0.7,
          "size": 10,
          "symbol": "circle"
         },
         "mode": "markers",
         "name": "03222-00015 | UberEats",
         "orientation": "v",
         "showlegend": true,
         "type": "scatter",
         "x": {
          "bdata": "rkfhehSBlkA=",
          "dtype": "f8"
         },
         "xaxis": "x",
         "y": {
          "bdata": "SOF6FK7HN0A=",
          "dtype": "f8"
         },
         "yaxis": "y"
        },
        {
         "hovertemplate": "Label=03222-00015 | Mobile<br>Weekly Revenue=%{x}<br>Average Order Value=%{y}<extra></extra>",
         "legendgroup": "03222-00015 | Mobile",
         "marker": {
          "color": "#FF6692",
          "opacity": 0.7,
          "size": 10,
          "symbol": "circle"
         },
         "mode": "markers",
         "name": "03222-00015 | Mobile",
         "orientation": "v",
         "showlegend": true,
         "type": "scatter",
         "x": {
          "bdata": "SOF6FCrU+UA=",
          "dtype": "f8"
         },
         "xaxis": "x",
         "y": {
          "bdata": "mpmZmZlZNUA=",
          "dtype": "f8"
         },
         "yaxis": "y"
        },
        {
         "hovertemplate": "Label=03222-00015 | DoorDash<br>Weekly Revenue=%{x}<br>Average Order Value=%{y}<extra></extra>",
         "legendgroup": "03222-00015 | DoorDash",
         "marker": {
          "color": "#B6E880",
          "opacity": 0.7,
          "size": 10,
          "symbol": "circle"
         },
         "mode": "markers",
         "name": "03222-00015 | DoorDash",
         "orientation": "v",
         "showlegend": true,
         "type": "scatter",
         "x": {
          "bdata": "pHA9Cu8X4UA=",
          "dtype": "f8"
         },
         "xaxis": "x",
         "y": {
          "bdata": "FK5H4XoUNEA=",
          "dtype": "f8"
         },
         "yaxis": "y"
        },
        {
         "hovertemplate": "Label=03222-00015 | Grubhub<br>Weekly Revenue=%{x}<br>Average Order Value=%{y}<extra></extra>",
         "legendgroup": "03222-00015 | Grubhub",
         "marker": {
          "color": "#FF97FF",
          "opacity": 0.7,
          "size": 10,
          "symbol": "circle"
         },
         "mode": "markers",
         "name": "03222-00015 | Grubhub",
         "orientation": "v",
         "showlegend": true,
         "type": "scatter",
         "x": {
          "bdata": "j8L1KFz3YUA=",
          "dtype": "f8"
         },
         "xaxis": "x",
         "y": {
          "bdata": "SOF6FK7HMUA=",
          "dtype": "f8"
         },
         "yaxis": "y"
        },
        {
         "hovertemplate": "Label=03222-00016 | UberEats<br>Weekly Revenue=%{x}<br>Average Order Value=%{y}<extra></extra>",
         "legendgroup": "03222-00016 | UberEats",
         "marker": {
          "color": "#FECB52",
          "opacity": 0.7,
          "size": 10,
          "symbol": "circle"
         },
         "mode": "markers",
         "name": "03222-00016 | UberEats",
         "orientation": "v",
         "showlegend": true,
         "type": "scatter",
         "x": {
          "bdata": "16NwPQp9jEA=",
          "dtype": "f8"
         },
         "xaxis": "x",
         "y": {
          "bdata": "KVyPwvUoNkA=",
          "dtype": "f8"
         },
         "yaxis": "y"
        },
        {
         "hovertemplate": "Label=03222-00016 | Website<br>Weekly Revenue=%{x}<br>Average Order Value=%{y}<extra></extra>",
         "legendgroup": "03222-00016 | Website",
         "marker": {
          "color": "#636efa",
          "opacity": 0.7,
          "size": 10,
          "symbol": "circle"
         },
         "mode": "markers",
         "name": "03222-00016 | Website",
         "orientation": "v",
         "showlegend": true,
         "type": "scatter",
         "x": {
          "bdata": "SOF6FKZX5EA=",
          "dtype": "f8"
         },
         "xaxis": "x",
         "y": {
          "bdata": "mpmZmZkZNUA=",
          "dtype": "f8"
         },
         "yaxis": "y"
        },
        {
         "hovertemplate": "Label=03222-00016 | Mobile<br>Weekly Revenue=%{x}<br>Average Order Value=%{y}<extra></extra>",
         "legendgroup": "03222-00016 | Mobile",
         "marker": {
          "color": "#EF553B",
          "opacity": 0.7,
          "size": 10,
          "symbol": "circle"
         },
         "mode": "markers",
         "name": "03222-00016 | Mobile",
         "orientation": "v",
         "showlegend": true,
         "type": "scatter",
         "x": {
          "bdata": "FK5H4fKS70A=",
          "dtype": "f8"
         },
         "xaxis": "x",
         "y": {
          "bdata": "rkfhehRuM0A=",
          "dtype": "f8"
         },
         "yaxis": "y"
        },
        {
         "hovertemplate": "Label=03222-00016 | DoorDash<br>Weekly Revenue=%{x}<br>Average Order Value=%{y}<extra></extra>",
         "legendgroup": "03222-00016 | DoorDash",
         "marker": {
          "color": "#00cc96",
          "opacity": 0.7,
          "size": 10,
          "symbol": "circle"
         },
         "mode": "markers",
         "name": "03222-00016 | DoorDash",
         "orientation": "v",
         "showlegend": true,
         "type": "scatter",
         "x": {
          "bdata": "KVyPwlXU2EA=",
          "dtype": "f8"
         },
         "xaxis": "x",
         "y": {
          "bdata": "XI/C9ShcM0A=",
          "dtype": "f8"
         },
         "yaxis": "y"
        },
        {
         "hovertemplate": "Label=03222-00017 | UberEats<br>Weekly Revenue=%{x}<br>Average Order Value=%{y}<extra></extra>",
         "legendgroup": "03222-00017 | UberEats",
         "marker": {
          "color": "#ab63fa",
          "opacity": 0.7,
          "size": 10,
          "symbol": "circle"
         },
         "mode": "markers",
         "name": "03222-00017 | UberEats",
         "orientation": "v",
         "showlegend": true,
         "type": "scatter",
         "x": {
          "bdata": "XI/C9SilmEA=",
          "dtype": "f8"
         },
         "xaxis": "x",
         "y": {
          "bdata": "KVyPwvWoOEA=",
          "dtype": "f8"
         },
         "yaxis": "y"
        },
        {
         "hovertemplate": "Label=03222-00017 | Website<br>Weekly Revenue=%{x}<br>Average Order Value=%{y}<extra></extra>",
         "legendgroup": "03222-00017 | Website",
         "marker": {
          "color": "#FFA15A",
          "opacity": 0.7,
          "size": 10,
          "symbol": "circle"
         },
         "mode": "markers",
         "name": "03222-00017 | Website",
         "orientation": "v",
         "showlegend": true,
         "type": "scatter",
         "x": {
          "bdata": "rkfhenzM5UA=",
          "dtype": "f8"
         },
         "xaxis": "x",
         "y": {
          "bdata": "hetRuB6FOEA=",
          "dtype": "f8"
         },
         "yaxis": "y"
        },
        {
         "hovertemplate": "Label=03222-00017 | Mobile<br>Weekly Revenue=%{x}<br>Average Order Value=%{y}<extra></extra>",
         "legendgroup": "03222-00017 | Mobile",
         "marker": {
          "color": "#19d3f3",
          "opacity": 0.7,
          "size": 10,
          "symbol": "circle"
         },
         "mode": "markers",
         "name": "03222-00017 | Mobile",
         "orientation": "v",
         "showlegend": true,
         "type": "scatter",
         "x": {
          "bdata": "SOF6FP4w80A=",
          "dtype": "f8"
         },
         "xaxis": "x",
         "y": {
          "bdata": "CtejcD2KNkA=",
          "dtype": "f8"
         },
         "yaxis": "y"
        },
        {
         "hovertemplate": "Label=03222-00017 | DoorDash<br>Weekly Revenue=%{x}<br>Average Order Value=%{y}<extra></extra>",
         "legendgroup": "03222-00017 | DoorDash",
         "marker": {
          "color": "#FF6692",
          "opacity": 0.7,
          "size": 10,
          "symbol": "circle"
         },
         "mode": "markers",
         "name": "03222-00017 | DoorDash",
         "orientation": "v",
         "showlegend": true,
         "type": "scatter",
         "x": {
          "bdata": "MzMzMzMZ6EA=",
          "dtype": "f8"
         },
         "xaxis": "x",
         "y": {
          "bdata": "cT0K16MwNkA=",
          "dtype": "f8"
         },
         "yaxis": "y"
        },
        {
         "hovertemplate": "Label=03222-00018 | Website<br>Weekly Revenue=%{x}<br>Average Order Value=%{y}<extra></extra>",
         "legendgroup": "03222-00018 | Website",
         "marker": {
          "color": "#B6E880",
          "opacity": 0.7,
          "size": 10,
          "symbol": "circle"
         },
         "mode": "markers",
         "name": "03222-00018 | Website",
         "orientation": "v",
         "showlegend": true,
         "type": "scatter",
         "x": {
          "bdata": "w/UoXP+Z10A=",
          "dtype": "f8"
         },
         "xaxis": "x",
         "y": {
          "bdata": "CtejcD0KOEA=",
          "dtype": "f8"
         },
         "yaxis": "y"
        },
        {
         "hovertemplate": "Label=03222-00018 | Mobile<br>Weekly Revenue=%{x}<br>Average Order Value=%{y}<extra></extra>",
         "legendgroup": "03222-00018 | Mobile",
         "marker": {
          "color": "#FF97FF",
          "opacity": 0.7,
          "size": 10,
          "symbol": "circle"
         },
         "mode": "markers",
         "name": "03222-00018 | Mobile",
         "orientation": "v",
         "showlegend": true,
         "type": "scatter",
         "x": {
          "bdata": "cT0K1yti7kA=",
          "dtype": "f8"
         },
         "xaxis": "x",
         "y": {
          "bdata": "w/UoXI9CNUA=",
          "dtype": "f8"
         },
         "yaxis": "y"
        },
        {
         "hovertemplate": "Label=03222-00018 | DoorDash<br>Weekly Revenue=%{x}<br>Average Order Value=%{y}<extra></extra>",
         "legendgroup": "03222-00018 | DoorDash",
         "marker": {
          "color": "#FECB52",
          "opacity": 0.7,
          "size": 10,
          "symbol": "circle"
         },
         "mode": "markers",
         "name": "03222-00018 | DoorDash",
         "orientation": "v",
         "showlegend": true,
         "type": "scatter",
         "x": {
          "bdata": "exSuR6Ft2UA=",
          "dtype": "f8"
         },
         "xaxis": "x",
         "y": {
          "bdata": "j8L1KFyPNEA=",
          "dtype": "f8"
         },
         "yaxis": "y"
        },
        {
         "hovertemplate": "Label=03222-00018 | UberEats<br>Weekly Revenue=%{x}<br>Average Order Value=%{y}<extra></extra>",
         "legendgroup": "03222-00018 | UberEats",
         "marker": {
          "color": "#636efa",
          "opacity": 0.7,
          "size": 10,
          "symbol": "circle"
         },
         "mode": "markers",
         "name": "03222-00018 | UberEats",
         "orientation": "v",
         "showlegend": true,
         "type": "scatter",
         "x": {
          "bdata": "XI/C9SgsZkA=",
          "dtype": "f8"
         },
         "xaxis": "x",
         "y": {
          "bdata": "rkfhehTuM0A=",
          "dtype": "f8"
         },
         "yaxis": "y"
        },
        {
         "hovertemplate": "Label=03222-00019 | Website<br>Weekly Revenue=%{x}<br>Average Order Value=%{y}<extra></extra>",
         "legendgroup": "03222-00019 | Website",
         "marker": {
          "color": "#EF553B",
          "opacity": 0.7,
          "size": 10,
          "symbol": "circle"
         },
         "mode": "markers",
         "name": "03222-00019 | Website",
         "orientation": "v",
         "showlegend": true,
         "type": "scatter",
         "x": {
          "bdata": "AAAAAMCe0UA=",
          "dtype": "f8"
         },
         "xaxis": "x",
         "y": {
          "bdata": "zczMzMxMOEA=",
          "dtype": "f8"
         },
         "yaxis": "y"
        },
        {
         "hovertemplate": "Label=03222-00019 | Mobile<br>Weekly Revenue=%{x}<br>Average Order Value=%{y}<extra></extra>",
         "legendgroup": "03222-00019 | Mobile",
         "marker": {
          "color": "#00cc96",
          "opacity": 0.7,
          "size": 10,
          "symbol": "circle"
         },
         "mode": "markers",
         "name": "03222-00019 | Mobile",
         "orientation": "v",
         "showlegend": true,
         "type": "scatter",
         "x": {
          "bdata": "AAAAAAhr4kA=",
          "dtype": "f8"
         },
         "xaxis": "x",
         "y": {
          "bdata": "mpmZmZkZNkA=",
          "dtype": "f8"
         },
         "yaxis": "y"
        },
        {
         "hovertemplate": "Label=03222-00019 | DoorDash<br>Weekly Revenue=%{x}<br>Average Order Value=%{y}<extra></extra>",
         "legendgroup": "03222-00019 | DoorDash",
         "marker": {
          "color": "#ab63fa",
          "opacity": 0.7,
          "size": 10,
          "symbol": "circle"
         },
         "mode": "markers",
         "name": "03222-00019 | DoorDash",
         "orientation": "v",
         "showlegend": true,
         "type": "scatter",
         "x": {
          "bdata": "PQrXozCu0kA=",
          "dtype": "f8"
         },
         "xaxis": "x",
         "y": {
          "bdata": "mpmZmZmZM0A=",
          "dtype": "f8"
         },
         "yaxis": "y"
        },
        {
         "hovertemplate": "Label=03222-00019 | Grubhub<br>Weekly Revenue=%{x}<br>Average Order Value=%{y}<extra></extra>",
         "legendgroup": "03222-00019 | Grubhub",
         "marker": {
          "color": "#FFA15A",
          "opacity": 0.7,
          "size": 10,
          "symbol": "circle"
         },
         "mode": "markers",
         "name": "03222-00019 | Grubhub",
         "orientation": "v",
         "showlegend": true,
         "type": "scatter",
         "x": {
          "bdata": "9ihcj8K1QEA=",
          "dtype": "f8"
         },
         "xaxis": "x",
         "y": {
          "bdata": "9ihcj8K1MEA=",
          "dtype": "f8"
         },
         "yaxis": "y"
        },
        {
         "hovertemplate": "Label=03222-00019 | UberEats<br>Weekly Revenue=%{x}<br>Average Order Value=%{y}<extra></extra>",
         "legendgroup": "03222-00019 | UberEats",
         "marker": {
          "color": "#19d3f3",
          "opacity": 0.7,
          "size": 10,
          "symbol": "circle"
         },
         "mode": "markers",
         "name": "03222-00019 | UberEats",
         "orientation": "v",
         "showlegend": true,
         "type": "scatter",
         "x": {
          "bdata": "XI/C9Sg8ZUA=",
          "dtype": "f8"
         },
         "xaxis": "x",
         "y": {
          "bdata": "mpmZmZmZLkA=",
          "dtype": "f8"
         },
         "yaxis": "y"
        },
        {
         "hovertemplate": "Label=03222-00021 | UberEats<br>Weekly Revenue=%{x}<br>Average Order Value=%{y}<extra></extra>",
         "legendgroup": "03222-00021 | UberEats",
         "marker": {
          "color": "#FF6692",
          "opacity": 0.7,
          "size": 10,
          "symbol": "circle"
         },
         "mode": "markers",
         "name": "03222-00021 | UberEats",
         "orientation": "v",
         "showlegend": true,
         "type": "scatter",
         "x": {
          "bdata": "16NwPQoze0A=",
          "dtype": "f8"
         },
         "xaxis": "x",
         "y": {
          "bdata": "hetRuB6FNkA=",
          "dtype": "f8"
         },
         "yaxis": "y"
        },
        {
         "hovertemplate": "Label=03222-00021 | Website<br>Weekly Revenue=%{x}<br>Average Order Value=%{y}<extra></extra>",
         "legendgroup": "03222-00021 | Website",
         "marker": {
          "color": "#B6E880",
          "opacity": 0.7,
          "size": 10,
          "symbol": "circle"
         },
         "mode": "markers",
         "name": "03222-00021 | Website",
         "orientation": "v",
         "showlegend": true,
         "type": "scatter",
         "x": {
          "bdata": "j8L1KCyU20A=",
          "dtype": "f8"
         },
         "xaxis": "x",
         "y": {
          "bdata": "4XoUrkfhNEA=",
          "dtype": "f8"
         },
         "yaxis": "y"
        },
        {
         "hovertemplate": "Label=03222-00021 | Mobile<br>Weekly Revenue=%{x}<br>Average Order Value=%{y}<extra></extra>",
         "legendgroup": "03222-00021 | Mobile",
         "marker": {
          "color": "#FF97FF",
          "opacity": 0.7,
          "size": 10,
          "symbol": "circle"
         },
         "mode": "markers",
         "name": "03222-00021 | Mobile",
         "orientation": "v",
         "showlegend": true,
         "type": "scatter",
         "x": {
          "bdata": "4XoUrn+Y7EA=",
          "dtype": "f8"
         },
         "xaxis": "x",
         "y": {
          "bdata": "hetRuB7FMkA=",
          "dtype": "f8"
         },
         "yaxis": "y"
        },
        {
         "hovertemplate": "Label=03222-00021 | DoorDash<br>Weekly Revenue=%{x}<br>Average Order Value=%{y}<extra></extra>",
         "legendgroup": "03222-00021 | DoorDash",
         "marker": {
          "color": "#FECB52",
          "opacity": 0.7,
          "size": 10,
          "symbol": "circle"
         },
         "mode": "markers",
         "name": "03222-00021 | DoorDash",
         "orientation": "v",
         "showlegend": true,
         "type": "scatter",
         "x": {
          "bdata": "H4XrUdj6ykA=",
          "dtype": "f8"
         },
         "xaxis": "x",
         "y": {
          "bdata": "UrgehetRMkA=",
          "dtype": "f8"
         },
         "yaxis": "y"
        },
        {
         "hovertemplate": "Label=03222-00022 | Website<br>Weekly Revenue=%{x}<br>Average Order Value=%{y}<extra></extra>",
         "legendgroup": "03222-00022 | Website",
         "marker": {
          "color": "#636efa",
          "opacity": 0.7,
          "size": 10,
          "symbol": "circle"
         },
         "mode": "markers",
         "name": "03222-00022 | Website",
         "orientation": "v",
         "showlegend": true,
         "type": "scatter",
         "x": {
          "bdata": "4XoUrtcX0UA=",
          "dtype": "f8"
         },
         "xaxis": "x",
         "y": {
          "bdata": "cT0K16NwN0A=",
          "dtype": "f8"
         },
         "yaxis": "y"
        },
        {
         "hovertemplate": "Label=03222-00022 | Grubhub<br>Weekly Revenue=%{x}<br>Average Order Value=%{y}<extra></extra>",
         "legendgroup": "03222-00022 | Grubhub",
         "marker": {
          "color": "#EF553B",
          "opacity": 0.7,
          "size": 10,
          "symbol": "circle"
         },
         "mode": "markers",
         "name": "03222-00022 | Grubhub",
         "orientation": "v",
         "showlegend": true,
         "type": "scatter",
         "x": {
          "bdata": "pHA9Ctd7aEA=",
          "dtype": "f8"
         },
         "xaxis": "x",
         "y": {
          "bdata": "rkfhehSuNEA=",
          "dtype": "f8"
         },
         "yaxis": "y"
        },
        {
         "hovertemplate": "Label=03222-00022 | Mobile<br>Weekly Revenue=%{x}<br>Average Order Value=%{y}<extra></extra>",
         "legendgroup": "03222-00022 | Mobile",
         "marker": {
          "color": "#00cc96",
          "opacity": 0.7,
          "size": 10,
          "symbol": "circle"
         },
         "mode": "markers",
         "name": "03222-00022 | Mobile",
         "orientation": "v",
         "showlegend": true,
         "type": "scatter",
         "x": {
          "bdata": "7FG4Hk0M4EA=",
          "dtype": "f8"
         },
         "xaxis": "x",
         "y": {
          "bdata": "MzMzMzMzNEA=",
          "dtype": "f8"
         },
         "yaxis": "y"
        },
        {
         "hovertemplate": "Label=03222-00022 | DoorDash<br>Weekly Revenue=%{x}<br>Average Order Value=%{y}<extra></extra>",
         "legendgroup": "03222-00022 | DoorDash",
         "marker": {
          "color": "#ab63fa",
          "opacity": 0.7,
          "size": 10,
          "symbol": "circle"
         },
         "mode": "markers",
         "name": "03222-00022 | DoorDash",
         "orientation": "v",
         "showlegend": true,
         "type": "scatter",
         "x": {
          "bdata": "MzMzM3Nb1EA=",
          "dtype": "f8"
         },
         "xaxis": "x",
         "y": {
          "bdata": "CtejcD3KMkA=",
          "dtype": "f8"
         },
         "yaxis": "y"
        },
        {
         "hovertemplate": "Label=03222-00022 | UberEats<br>Weekly Revenue=%{x}<br>Average Order Value=%{y}<extra></extra>",
         "legendgroup": "03222-00022 | UberEats",
         "marker": {
          "color": "#FFA15A",
          "opacity": 0.7,
          "size": 10,
          "symbol": "circle"
         },
         "mode": "markers",
         "name": "03222-00022 | UberEats",
         "orientation": "v",
         "showlegend": true,
         "type": "scatter",
         "x": {
          "bdata": "AAAAAADcgEA=",
          "dtype": "f8"
         },
         "xaxis": "x",
         "y": {
          "bdata": "rkfhehQuMUA=",
          "dtype": "f8"
         },
         "yaxis": "y"
        },
        {
         "hovertemplate": "Label=03222-00023 | UberEats<br>Weekly Revenue=%{x}<br>Average Order Value=%{y}<extra></extra>",
         "legendgroup": "03222-00023 | UberEats",
         "marker": {
          "color": "#19d3f3",
          "opacity": 0.7,
          "size": 10,
          "symbol": "circle"
         },
         "mode": "markers",
         "name": "03222-00023 | UberEats",
         "orientation": "v",
         "showlegend": true,
         "type": "scatter",
         "x": {
          "bdata": "uB6F61G4SkA=",
          "dtype": "f8"
         },
         "xaxis": "x",
         "y": {
          "bdata": "uB6F61G4OkA=",
          "dtype": "f8"
         },
         "yaxis": "y"
        },
        {
         "hovertemplate": "Label=03222-00023 | Website<br>Weekly Revenue=%{x}<br>Average Order Value=%{y}<extra></extra>",
         "legendgroup": "03222-00023 | Website",
         "marker": {
          "color": "#FF6692",
          "opacity": 0.7,
          "size": 10,
          "symbol": "circle"
         },
         "mode": "markers",
         "name": "03222-00023 | Website",
         "orientation": "v",
         "showlegend": true,
         "type": "scatter",
         "x": {
          "bdata": "zczMzPyQ00A=",
          "dtype": "f8"
         },
         "xaxis": "x",
         "y": {
          "bdata": "j8L1KFyPN0A=",
          "dtype": "f8"
         },
         "yaxis": "y"
        },
        {
         "hovertemplate": "Label=03222-00023 | Mobile<br>Weekly Revenue=%{x}<br>Average Order Value=%{y}<extra></extra>",
         "legendgroup": "03222-00023 | Mobile",
         "marker": {
          "color": "#B6E880",
          "opacity": 0.7,
          "size": 10,
          "symbol": "circle"
         },
         "mode": "markers",
         "name": "03222-00023 | Mobile",
         "orientation": "v",
         "showlegend": true,
         "type": "scatter",
         "x": {
          "bdata": "UrgehaOS4UA=",
          "dtype": "f8"
         },
         "xaxis": "x",
         "y": {
          "bdata": "XI/C9SgcNkA=",
          "dtype": "f8"
         },
         "yaxis": "y"
        },
        {
         "hovertemplate": "Label=03222-00023 | DoorDash<br>Weekly Revenue=%{x}<br>Average Order Value=%{y}<extra></extra>",
         "legendgroup": "03222-00023 | DoorDash",
         "marker": {
          "color": "#FF97FF",
          "opacity": 0.7,
          "size": 10,
          "symbol": "circle"
         },
         "mode": "markers",
         "name": "03222-00023 | DoorDash",
         "orientation": "v",
         "showlegend": true,
         "type": "scatter",
         "x": {
          "bdata": "9ihcj4IKz0A=",
          "dtype": "f8"
         },
         "xaxis": "x",
         "y": {
          "bdata": "XI/C9SgcNEA=",
          "dtype": "f8"
         },
         "yaxis": "y"
        },
        {
         "hovertemplate": "Label=03222-00024 | UberEats<br>Weekly Revenue=%{x}<br>Average Order Value=%{y}<extra></extra>",
         "legendgroup": "03222-00024 | UberEats",
         "marker": {
          "color": "#FECB52",
          "opacity": 0.7,
          "size": 10,
          "symbol": "circle"
         },
         "mode": "markers",
         "name": "03222-00024 | UberEats",
         "orientation": "v",
         "showlegend": true,
         "type": "scatter",
         "x": {
          "bdata": "SOF6FK6fmEA=",
          "dtype": "f8"
         },
         "xaxis": "x",
         "y": {
          "bdata": "H4XrUbjeOkA=",
          "dtype": "f8"
         },
         "yaxis": "y"
        },
        {
         "hovertemplate": "Label=03222-00024 | Website<br>Weekly Revenue=%{x}<br>Average Order Value=%{y}<extra></extra>",
         "legendgroup": "03222-00024 | Website",
         "marker": {
          "color": "#636efa",
          "opacity": 0.7,
          "size": 10,
          "symbol": "circle"
         },
         "mode": "markers",
         "name": "03222-00024 | Website",
         "orientation": "v",
         "showlegend": true,
         "type": "scatter",
         "x": {
          "bdata": "FK5H4Xp83kA=",
          "dtype": "f8"
         },
         "xaxis": "x",
         "y": {
          "bdata": "uB6F61E4NkA=",
          "dtype": "f8"
         },
         "yaxis": "y"
        },
        {
         "hovertemplate": "Label=03222-00024 | Mobile<br>Weekly Revenue=%{x}<br>Average Order Value=%{y}<extra></extra>",
         "legendgroup": "03222-00024 | Mobile",
         "marker": {
          "color": "#EF553B",
          "opacity": 0.7,
          "size": 10,
          "symbol": "circle"
         },
         "mode": "markers",
         "name": "03222-00024 | Mobile",
         "orientation": "v",
         "showlegend": true,
         "type": "scatter",
         "x": {
          "bdata": "ZmZmZi777UA=",
          "dtype": "f8"
         },
         "xaxis": "x",
         "y": {
          "bdata": "7FG4HoVrNEA=",
          "dtype": "f8"
         },
         "yaxis": "y"
        },
        {
         "hovertemplate": "Label=03222-00024 | DoorDash<br>Weekly Revenue=%{x}<br>Average Order Value=%{y}<extra></extra>",
         "legendgroup": "03222-00024 | DoorDash",
         "marker": {
          "color": "#00cc96",
          "opacity": 0.7,
          "size": 10,
          "symbol": "circle"
         },
         "mode": "markers",
         "name": "03222-00024 | DoorDash",
         "orientation": "v",
         "showlegend": true,
         "type": "scatter",
         "x": {
          "bdata": "AAAAADCQ0kA=",
          "dtype": "f8"
         },
         "xaxis": "x",
         "y": {
          "bdata": "PQrXo3D9MkA=",
          "dtype": "f8"
         },
         "yaxis": "y"
        },
        {
         "hovertemplate": "Label=03222-00025 | UberEats<br>Weekly Revenue=%{x}<br>Average Order Value=%{y}<extra></extra>",
         "legendgroup": "03222-00025 | UberEats",
         "marker": {
          "color": "#ab63fa",
          "opacity": 0.7,
          "size": 10,
          "symbol": "circle"
         },
         "mode": "markers",
         "name": "03222-00025 | UberEats",
         "orientation": "v",
         "showlegend": true,
         "type": "scatter",
         "x": {
          "bdata": "4XoUrkdxe0A=",
          "dtype": "f8"
         },
         "xaxis": "x",
         "y": {
          "bdata": "FK5H4XqUOkA=",
          "dtype": "f8"
         },
         "yaxis": "y"
        },
        {
         "hovertemplate": "Label=03222-00025 | Website<br>Weekly Revenue=%{x}<br>Average Order Value=%{y}<extra></extra>",
         "legendgroup": "03222-00025 | Website",
         "marker": {
          "color": "#FFA15A",
          "opacity": 0.7,
          "size": 10,
          "symbol": "circle"
         },
         "mode": "markers",
         "name": "03222-00025 | Website",
         "orientation": "v",
         "showlegend": true,
         "type": "scatter",
         "x": {
          "bdata": "zczMzAySykA=",
          "dtype": "f8"
         },
         "xaxis": "x",
         "y": {
          "bdata": "w/UoXI9CNUA=",
          "dtype": "f8"
         },
         "yaxis": "y"
        },
        {
         "hovertemplate": "Label=03222-00025 | DoorDash<br>Weekly Revenue=%{x}<br>Average Order Value=%{y}<extra></extra>",
         "legendgroup": "03222-00025 | DoorDash",
         "marker": {
          "color": "#19d3f3",
          "opacity": 0.7,
          "size": 10,
          "symbol": "circle"
         },
         "mode": "markers",
         "name": "03222-00025 | DoorDash",
         "orientation": "v",
         "showlegend": true,
         "type": "scatter",
         "x": {
          "bdata": "16NwPUojzEA=",
          "dtype": "f8"
         },
         "xaxis": "x",
         "y": {
          "bdata": "CtejcD2KMkA=",
          "dtype": "f8"
         },
         "yaxis": "y"
        },
        {
         "hovertemplate": "Label=03222-00025 | Mobile<br>Weekly Revenue=%{x}<br>Average Order Value=%{y}<extra></extra>",
         "legendgroup": "03222-00025 | Mobile",
         "marker": {
          "color": "#FF6692",
          "opacity": 0.7,
          "size": 10,
          "symbol": "circle"
         },
         "mode": "markers",
         "name": "03222-00025 | Mobile",
         "orientation": "v",
         "showlegend": true,
         "type": "scatter",
         "x": {
          "bdata": "j8L1KJxr5kA=",
          "dtype": "f8"
         },
         "xaxis": "x",
         "y": {
          "bdata": "zczMzMxMMkA=",
          "dtype": "f8"
         },
         "yaxis": "y"
        },
        {
         "hovertemplate": "Label=03222-00026 | Website<br>Weekly Revenue=%{x}<br>Average Order Value=%{y}<extra></extra>",
         "legendgroup": "03222-00026 | Website",
         "marker": {
          "color": "#B6E880",
          "opacity": 0.7,
          "size": 10,
          "symbol": "circle"
         },
         "mode": "markers",
         "name": "03222-00026 | Website",
         "orientation": "v",
         "showlegend": true,
         "type": "scatter",
         "x": {
          "bdata": "FK5H4YK+7EA=",
          "dtype": "f8"
         },
         "xaxis": "x",
         "y": {
          "bdata": "KVyPwvWoNUA=",
          "dtype": "f8"
         },
         "yaxis": "y"
        },
        {
         "hovertemplate": "Label=03222-00026 | UberEats<br>Weekly Revenue=%{x}<br>Average Order Value=%{y}<extra></extra>",
         "legendgroup": "03222-00026 | UberEats",
         "marker": {
          "color": "#FF97FF",
          "opacity": 0.7,
          "size": 10,
          "symbol": "circle"
         },
         "mode": "markers",
         "name": "03222-00026 | UberEats",
         "orientation": "v",
         "showlegend": true,
         "type": "scatter",
         "x": {
          "bdata": "AAAAAEB6sUA=",
          "dtype": "f8"
         },
         "xaxis": "x",
         "y": {
          "bdata": "uB6F61G4M0A=",
          "dtype": "f8"
         },
         "yaxis": "y"
        },
        {
         "hovertemplate": "Label=03222-00026 | Grubhub<br>Weekly Revenue=%{x}<br>Average Order Value=%{y}<extra></extra>",
         "legendgroup": "03222-00026 | Grubhub",
         "marker": {
          "color": "#FECB52",
          "opacity": 0.7,
          "size": 10,
          "symbol": "circle"
         },
         "mode": "markers",
         "name": "03222-00026 | Grubhub",
         "orientation": "v",
         "showlegend": true,
         "type": "scatter",
         "x": {
          "bdata": "uB6F61FQfkA=",
          "dtype": "f8"
         },
         "xaxis": "x",
         "y": {
          "bdata": "j8L1KFwPMkA=",
          "dtype": "f8"
         },
         "yaxis": "y"
        },
        {
         "hovertemplate": "Label=03222-00026 | DoorDash<br>Weekly Revenue=%{x}<br>Average Order Value=%{y}<extra></extra>",
         "legendgroup": "03222-00026 | DoorDash",
         "marker": {
          "color": "#636efa",
          "opacity": 0.7,
          "size": 10,
          "symbol": "circle"
         },
         "mode": "markers",
         "name": "03222-00026 | DoorDash",
         "orientation": "v",
         "showlegend": true,
         "type": "scatter",
         "x": {
          "bdata": "4XoUrjcj4UA=",
          "dtype": "f8"
         },
         "xaxis": "x",
         "y": {
          "bdata": "j8L1KFzPMUA=",
          "dtype": "f8"
         },
         "yaxis": "y"
        },
        {
         "hovertemplate": "Label=03222-00026 | Mobile<br>Weekly Revenue=%{x}<br>Average Order Value=%{y}<extra></extra>",
         "legendgroup": "03222-00026 | Mobile",
         "marker": {
          "color": "#EF553B",
          "opacity": 0.7,
          "size": 10,
          "symbol": "circle"
         },
         "mode": "markers",
         "name": "03222-00026 | Mobile",
         "orientation": "v",
         "showlegend": true,
         "type": "scatter",
         "x": {
          "bdata": "uB6F6yGy+UA=",
          "dtype": "f8"
         },
         "xaxis": "x",
         "y": {
          "bdata": "cT0K16NwMUA=",
          "dtype": "f8"
         },
         "yaxis": "y"
        },
        {
         "hovertemplate": "Label=03222-00027 | Website<br>Weekly Revenue=%{x}<br>Average Order Value=%{y}<extra></extra>",
         "legendgroup": "03222-00027 | Website",
         "marker": {
          "color": "#00cc96",
          "opacity": 0.7,
          "size": 10,
          "symbol": "circle"
         },
         "mode": "markers",
         "name": "03222-00027 | Website",
         "orientation": "v",
         "showlegend": true,
         "type": "scatter",
         "x": {
          "bdata": "16NwPVIC4UA=",
          "dtype": "f8"
         },
         "xaxis": "x",
         "y": {
          "bdata": "UrgehetRNkA=",
          "dtype": "f8"
         },
         "yaxis": "y"
        },
        {
         "hovertemplate": "Label=03222-00027 | Mobile<br>Weekly Revenue=%{x}<br>Average Order Value=%{y}<extra></extra>",
         "legendgroup": "03222-00027 | Mobile",
         "marker": {
          "color": "#ab63fa",
          "opacity": 0.7,
          "size": 10,
          "symbol": "circle"
         },
         "mode": "markers",
         "name": "03222-00027 | Mobile",
         "orientation": "v",
         "showlegend": true,
         "type": "scatter",
         "x": {
          "bdata": "hetRuDaP6kA=",
          "dtype": "f8"
         },
         "xaxis": "x",
         "y": {
          "bdata": "4XoUrkehNUA=",
          "dtype": "f8"
         },
         "yaxis": "y"
        },
        {
         "hovertemplate": "Label=03222-00027 | UberEats<br>Weekly Revenue=%{x}<br>Average Order Value=%{y}<extra></extra>",
         "legendgroup": "03222-00027 | UberEats",
         "marker": {
          "color": "#FFA15A",
          "opacity": 0.7,
          "size": 10,
          "symbol": "circle"
         },
         "mode": "markers",
         "name": "03222-00027 | UberEats",
         "orientation": "v",
         "showlegend": true,
         "type": "scatter",
         "x": {
          "bdata": "FK5H4foIxUA=",
          "dtype": "f8"
         },
         "xaxis": "x",
         "y": {
          "bdata": "UrgeheuRNUA=",
          "dtype": "f8"
         },
         "yaxis": "y"
        },
        {
         "hovertemplate": "Label=03222-00027 | DoorDash<br>Weekly Revenue=%{x}<br>Average Order Value=%{y}<extra></extra>",
         "legendgroup": "03222-00027 | DoorDash",
         "marker": {
          "color": "#19d3f3",
          "opacity": 0.7,
          "size": 10,
          "symbol": "circle"
         },
         "mode": "markers",
         "name": "03222-00027 | DoorDash",
         "orientation": "v",
         "showlegend": true,
         "type": "scatter",
         "x": {
          "bdata": "w/UoXH9h2EA=",
          "dtype": "f8"
         },
         "xaxis": "x",
         "y": {
          "bdata": "UrgeheuRM0A=",
          "dtype": "f8"
         },
         "yaxis": "y"
        },
        {
         "hovertemplate": "Label=03222-00028 | Grubhub<br>Weekly Revenue=%{x}<br>Average Order Value=%{y}<extra></extra>",
         "legendgroup": "03222-00028 | Grubhub",
         "marker": {
          "color": "#FF6692",
          "opacity": 0.7,
          "size": 10,
          "symbol": "circle"
         },
         "mode": "markers",
         "name": "03222-00028 | Grubhub",
         "orientation": "v",
         "showlegend": true,
         "type": "scatter",
         "x": {
          "bdata": "exSuR+Gec0A=",
          "dtype": "f8"
         },
         "xaxis": "x",
         "y": {
          "bdata": "exSuR+EaQkA=",
          "dtype": "f8"
         },
         "yaxis": "y"
        },
        {
         "hovertemplate": "Label=03222-00028 | Website<br>Weekly Revenue=%{x}<br>Average Order Value=%{y}<extra></extra>",
         "legendgroup": "03222-00028 | Website",
         "marker": {
          "color": "#B6E880",
          "opacity": 0.7,
          "size": 10,
          "symbol": "circle"
         },
         "mode": "markers",
         "name": "03222-00028 | Website",
         "orientation": "v",
         "showlegend": true,
         "type": "scatter",
         "x": {
          "bdata": "7FG4Hr2d40A=",
          "dtype": "f8"
         },
         "xaxis": "x",
         "y": {
          "bdata": "MzMzMzNzOkA=",
          "dtype": "f8"
         },
         "yaxis": "y"
        },
        {
         "hovertemplate": "Label=03222-00028 | UberEats<br>Weekly Revenue=%{x}<br>Average Order Value=%{y}<extra></extra>",
         "legendgroup": "03222-00028 | UberEats",
         "marker": {
          "color": "#FF97FF",
          "opacity": 0.7,
          "size": 10,
          "symbol": "circle"
         },
         "mode": "markers",
         "name": "03222-00028 | UberEats",
         "orientation": "v",
         "showlegend": true,
         "type": "scatter",
         "x": {
          "bdata": "mpmZmdk+wEA=",
          "dtype": "f8"
         },
         "xaxis": "x",
         "y": {
          "bdata": "AAAAAAAAOUA=",
          "dtype": "f8"
         },
         "yaxis": "y"
        },
        {
         "hovertemplate": "Label=03222-00028 | DoorDash<br>Weekly Revenue=%{x}<br>Average Order Value=%{y}<extra></extra>",
         "legendgroup": "03222-00028 | DoorDash",
         "marker": {
          "color": "#FECB52",
          "opacity": 0.7,
          "size": 10,
          "symbol": "circle"
         },
         "mode": "markers",
         "name": "03222-00028 | DoorDash",
         "orientation": "v",
         "showlegend": true,
         "type": "scatter",
         "x": {
          "bdata": "rkfheiSB0UA=",
          "dtype": "f8"
         },
         "xaxis": "x",
         "y": {
          "bdata": "AAAAAAAANkA=",
          "dtype": "f8"
         },
         "yaxis": "y"
        },
        {
         "hovertemplate": "Label=03222-00028 | Mobile<br>Weekly Revenue=%{x}<br>Average Order Value=%{y}<extra></extra>",
         "legendgroup": "03222-00028 | Mobile",
         "marker": {
          "color": "#636efa",
          "opacity": 0.7,
          "size": 10,
          "symbol": "circle"
         },
         "mode": "markers",
         "name": "03222-00028 | Mobile",
         "orientation": "v",
         "showlegend": true,
         "type": "scatter",
         "x": {
          "bdata": "PQrXo/DarUA=",
          "dtype": "f8"
         },
         "xaxis": "x",
         "y": {
          "bdata": "zczMzMxMNEA=",
          "dtype": "f8"
         },
         "yaxis": "y"
        },
        {
         "hovertemplate": "Label=03222-00032 | UberEats<br>Weekly Revenue=%{x}<br>Average Order Value=%{y}<extra></extra>",
         "legendgroup": "03222-00032 | UberEats",
         "marker": {
          "color": "#EF553B",
          "opacity": 0.7,
          "size": 10,
          "symbol": "circle"
         },
         "mode": "markers",
         "name": "03222-00032 | UberEats",
         "orientation": "v",
         "showlegend": true,
         "type": "scatter",
         "x": {
          "bdata": "CtejcD2ir0A=",
          "dtype": "f8"
         },
         "xaxis": "x",
         "y": {
          "bdata": "SOF6FK4HNkA=",
          "dtype": "f8"
         },
         "yaxis": "y"
        },
        {
         "hovertemplate": "Label=03222-00032 | Website<br>Weekly Revenue=%{x}<br>Average Order Value=%{y}<extra></extra>",
         "legendgroup": "03222-00032 | Website",
         "marker": {
          "color": "#00cc96",
          "opacity": 0.7,
          "size": 10,
          "symbol": "circle"
         },
         "mode": "markers",
         "name": "03222-00032 | Website",
         "orientation": "v",
         "showlegend": true,
         "type": "scatter",
         "x": {
          "bdata": "mpmZmZmI20A=",
          "dtype": "f8"
         },
         "xaxis": "x",
         "y": {
          "bdata": "XI/C9SgcNUA=",
          "dtype": "f8"
         },
         "yaxis": "y"
        },
        {
         "hovertemplate": "Label=03222-00032 | Grubhub<br>Weekly Revenue=%{x}<br>Average Order Value=%{y}<extra></extra>",
         "legendgroup": "03222-00032 | Grubhub",
         "marker": {
          "color": "#ab63fa",
          "opacity": 0.7,
          "size": 10,
          "symbol": "circle"
         },
         "mode": "markers",
         "name": "03222-00032 | Grubhub",
         "orientation": "v",
         "showlegend": true,
         "type": "scatter",
         "x": {
          "bdata": "pHA9CtfLhEA=",
          "dtype": "f8"
         },
         "xaxis": "x",
         "y": {
          "bdata": "exSuR+H6M0A=",
          "dtype": "f8"
         },
         "yaxis": "y"
        },
        {
         "hovertemplate": "Label=03222-00032 | Mobile<br>Weekly Revenue=%{x}<br>Average Order Value=%{y}<extra></extra>",
         "legendgroup": "03222-00032 | Mobile",
         "marker": {
          "color": "#FFA15A",
          "opacity": 0.7,
          "size": 10,
          "symbol": "circle"
         },
         "mode": "markers",
         "name": "03222-00032 | Mobile",
         "orientation": "v",
         "showlegend": true,
         "type": "scatter",
         "x": {
          "bdata": "ZmZmZsaZ5EA=",
          "dtype": "f8"
         },
         "xaxis": "x",
         "y": {
          "bdata": "4XoUrkehM0A=",
          "dtype": "f8"
         },
         "yaxis": "y"
        },
        {
         "hovertemplate": "Label=03222-00032 | DoorDash<br>Weekly Revenue=%{x}<br>Average Order Value=%{y}<extra></extra>",
         "legendgroup": "03222-00032 | DoorDash",
         "marker": {
          "color": "#19d3f3",
          "opacity": 0.7,
          "size": 10,
          "symbol": "circle"
         },
         "mode": "markers",
         "name": "03222-00032 | DoorDash",
         "orientation": "v",
         "showlegend": true,
         "type": "scatter",
         "x": {
          "bdata": "7FG4HmWYzkA=",
          "dtype": "f8"
         },
         "xaxis": "x",
         "y": {
          "bdata": "zczMzMxMM0A=",
          "dtype": "f8"
         },
         "yaxis": "y"
        },
        {
         "hovertemplate": "Label=03222-00033 | Website<br>Weekly Revenue=%{x}<br>Average Order Value=%{y}<extra></extra>",
         "legendgroup": "03222-00033 | Website",
         "marker": {
          "color": "#FF6692",
          "opacity": 0.7,
          "size": 10,
          "symbol": "circle"
         },
         "mode": "markers",
         "name": "03222-00033 | Website",
         "orientation": "v",
         "showlegend": true,
         "type": "scatter",
         "x": {
          "bdata": "cT0K1zNI3kA=",
          "dtype": "f8"
         },
         "xaxis": "x",
         "y": {
          "bdata": "pHA9CtdjOEA=",
          "dtype": "f8"
         },
         "yaxis": "y"
        },
        {
         "hovertemplate": "Label=03222-00033 | Grubhub<br>Weekly Revenue=%{x}<br>Average Order Value=%{y}<extra></extra>",
         "legendgroup": "03222-00033 | Grubhub",
         "marker": {
          "color": "#B6E880",
          "opacity": 0.7,
          "size": 10,
          "symbol": "circle"
         },
         "mode": "markers",
         "name": "03222-00033 | Grubhub",
         "orientation": "v",
         "showlegend": true,
         "type": "scatter",
         "x": {
          "bdata": "9ihcj8KlfUA=",
          "dtype": "f8"
         },
         "xaxis": "x",
         "y": {
          "bdata": "cT0K16MwOEA=",
          "dtype": "f8"
         },
         "yaxis": "y"
        },
        {
         "hovertemplate": "Label=03222-00033 | UberEats<br>Weekly Revenue=%{x}<br>Average Order Value=%{y}<extra></extra>",
         "legendgroup": "03222-00033 | UberEats",
         "marker": {
          "color": "#FF97FF",
          "opacity": 0.7,
          "size": 10,
          "symbol": "circle"
         },
         "mode": "markers",
         "name": "03222-00033 | UberEats",
         "orientation": "v",
         "showlegend": true,
         "type": "scatter",
         "x": {
          "bdata": "16NwPUrjsEA=",
          "dtype": "f8"
         },
         "xaxis": "x",
         "y": {
          "bdata": "mpmZmZlZNkA=",
          "dtype": "f8"
         },
         "yaxis": "y"
        },
        {
         "hovertemplate": "Label=03222-00033 | Mobile<br>Weekly Revenue=%{x}<br>Average Order Value=%{y}<extra></extra>",
         "legendgroup": "03222-00033 | Mobile",
         "marker": {
          "color": "#FECB52",
          "opacity": 0.7,
          "size": 10,
          "symbol": "circle"
         },
         "mode": "markers",
         "name": "03222-00033 | Mobile",
         "orientation": "v",
         "showlegend": true,
         "type": "scatter",
         "x": {
          "bdata": "UrgehRM/5UA=",
          "dtype": "f8"
         },
         "xaxis": "x",
         "y": {
          "bdata": "ZmZmZmZmNUA=",
          "dtype": "f8"
         },
         "yaxis": "y"
        },
        {
         "hovertemplate": "Label=03222-00033 | DoorDash<br>Weekly Revenue=%{x}<br>Average Order Value=%{y}<extra></extra>",
         "legendgroup": "03222-00033 | DoorDash",
         "marker": {
          "color": "#636efa",
          "opacity": 0.7,
          "size": 10,
          "symbol": "circle"
         },
         "mode": "markers",
         "name": "03222-00033 | DoorDash",
         "orientation": "v",
         "showlegend": true,
         "type": "scatter",
         "x": {
          "bdata": "exSuRzFD10A=",
          "dtype": "f8"
         },
         "xaxis": "x",
         "y": {
          "bdata": "KVyPwvUoNEA=",
          "dtype": "f8"
         },
         "yaxis": "y"
        },
        {
         "hovertemplate": "Label=03222-00034 | UberEats<br>Weekly Revenue=%{x}<br>Average Order Value=%{y}<extra></extra>",
         "legendgroup": "03222-00034 | UberEats",
         "marker": {
          "color": "#EF553B",
          "opacity": 0.7,
          "size": 10,
          "symbol": "circle"
         },
         "mode": "markers",
         "name": "03222-00034 | UberEats",
         "orientation": "v",
         "showlegend": true,
         "type": "scatter",
         "x": {
          "bdata": "4XoUrkd2wEA=",
          "dtype": "f8"
         },
         "xaxis": "x",
         "y": {
          "bdata": "16NwPQrXNUA=",
          "dtype": "f8"
         },
         "yaxis": "y"
        },
        {
         "hovertemplate": "Label=03222-00034 | Website<br>Weekly Revenue=%{x}<br>Average Order Value=%{y}<extra></extra>",
         "legendgroup": "03222-00034 | Website",
         "marker": {
          "color": "#00cc96",
          "opacity": 0.7,
          "size": 10,
          "symbol": "circle"
         },
         "mode": "markers",
         "name": "03222-00034 | Website",
         "orientation": "v",
         "showlegend": true,
         "type": "scatter",
         "x": {
          "bdata": "9ihcjyqZ6EA=",
          "dtype": "f8"
         },
         "xaxis": "x",
         "y": {
          "bdata": "4XoUrkehNUA=",
          "dtype": "f8"
         },
         "yaxis": "y"
        },
        {
         "hovertemplate": "Label=03222-00034 | Mobile<br>Weekly Revenue=%{x}<br>Average Order Value=%{y}<extra></extra>",
         "legendgroup": "03222-00034 | Mobile",
         "marker": {
          "color": "#ab63fa",
          "opacity": 0.7,
          "size": 10,
          "symbol": "circle"
         },
         "mode": "markers",
         "name": "03222-00034 | Mobile",
         "orientation": "v",
         "showlegend": true,
         "type": "scatter",
         "x": {
          "bdata": "4XoUrm9u80A=",
          "dtype": "f8"
         },
         "xaxis": "x",
         "y": {
          "bdata": "9ihcj8L1M0A=",
          "dtype": "f8"
         },
         "yaxis": "y"
        },
        {
         "hovertemplate": "Label=03222-00034 | DoorDash<br>Weekly Revenue=%{x}<br>Average Order Value=%{y}<extra></extra>",
         "legendgroup": "03222-00034 | DoorDash",
         "marker": {
          "color": "#FFA15A",
          "opacity": 0.7,
          "size": 10,
          "symbol": "circle"
         },
         "mode": "markers",
         "name": "03222-00034 | DoorDash",
         "orientation": "v",
         "showlegend": true,
         "type": "scatter",
         "x": {
          "bdata": "16NwPZIf4kA=",
          "dtype": "f8"
         },
         "xaxis": "x",
         "y": {
          "bdata": "4XoUrkdhM0A=",
          "dtype": "f8"
         },
         "yaxis": "y"
        },
        {
         "hovertemplate": "Label=03222-00034 | Grubhub<br>Weekly Revenue=%{x}<br>Average Order Value=%{y}<extra></extra>",
         "legendgroup": "03222-00034 | Grubhub",
         "marker": {
          "color": "#19d3f3",
          "opacity": 0.7,
          "size": 10,
          "symbol": "circle"
         },
         "mode": "markers",
         "name": "03222-00034 | Grubhub",
         "orientation": "v",
         "showlegend": true,
         "type": "scatter",
         "x": {
          "bdata": "rkfhehSajEA=",
          "dtype": "f8"
         },
         "xaxis": "x",
         "y": {
          "bdata": "XI/C9SicMkA=",
          "dtype": "f8"
         },
         "yaxis": "y"
        },
        {
         "hovertemplate": "Label=03222-00035 | Grubhub<br>Weekly Revenue=%{x}<br>Average Order Value=%{y}<extra></extra>",
         "legendgroup": "03222-00035 | Grubhub",
         "marker": {
          "color": "#FF6692",
          "opacity": 0.7,
          "size": 10,
          "symbol": "circle"
         },
         "mode": "markers",
         "name": "03222-00035 | Grubhub",
         "orientation": "v",
         "showlegend": true,
         "type": "scatter",
         "x": {
          "bdata": "FK5H4XpUc0A=",
          "dtype": "f8"
         },
         "xaxis": "x",
         "y": {
          "bdata": "exSuR+F6OUA=",
          "dtype": "f8"
         },
         "yaxis": "y"
        },
        {
         "hovertemplate": "Label=03222-00035 | Website<br>Weekly Revenue=%{x}<br>Average Order Value=%{y}<extra></extra>",
         "legendgroup": "03222-00035 | Website",
         "marker": {
          "color": "#B6E880",
          "opacity": 0.7,
          "size": 10,
          "symbol": "circle"
         },
         "mode": "markers",
         "name": "03222-00035 | Website",
         "orientation": "v",
         "showlegend": true,
         "type": "scatter",
         "x": {
          "bdata": "hetRuC5b4EA=",
          "dtype": "f8"
         },
         "xaxis": "x",
         "y": {
          "bdata": "CtejcD2KNkA=",
          "dtype": "f8"
         },
         "yaxis": "y"
        },
        {
         "hovertemplate": "Label=03222-00035 | Mobile<br>Weekly Revenue=%{x}<br>Average Order Value=%{y}<extra></extra>",
         "legendgroup": "03222-00035 | Mobile",
         "marker": {
          "color": "#FF97FF",
          "opacity": 0.7,
          "size": 10,
          "symbol": "circle"
         },
         "mode": "markers",
         "name": "03222-00035 | Mobile",
         "orientation": "v",
         "showlegend": true,
         "type": "scatter",
         "x": {
          "bdata": "PQrXo1Ag6EA=",
          "dtype": "f8"
         },
         "xaxis": "x",
         "y": {
          "bdata": "AAAAAABANUA=",
          "dtype": "f8"
         },
         "yaxis": "y"
        },
        {
         "hovertemplate": "Label=03222-00035 | UberEats<br>Weekly Revenue=%{x}<br>Average Order Value=%{y}<extra></extra>",
         "legendgroup": "03222-00035 | UberEats",
         "marker": {
          "color": "#FECB52",
          "opacity": 0.7,
          "size": 10,
          "symbol": "circle"
         },
         "mode": "markers",
         "name": "03222-00035 | UberEats",
         "orientation": "v",
         "showlegend": true,
         "type": "scatter",
         "x": {
          "bdata": "j8L1KFwVpEA=",
          "dtype": "f8"
         },
         "xaxis": "x",
         "y": {
          "bdata": "4XoUrkchNEA=",
          "dtype": "f8"
         },
         "yaxis": "y"
        },
        {
         "hovertemplate": "Label=03222-00035 | DoorDash<br>Weekly Revenue=%{x}<br>Average Order Value=%{y}<extra></extra>",
         "legendgroup": "03222-00035 | DoorDash",
         "marker": {
          "color": "#636efa",
          "opacity": 0.7,
          "size": 10,
          "symbol": "circle"
         },
         "mode": "markers",
         "name": "03222-00035 | DoorDash",
         "orientation": "v",
         "showlegend": true,
         "type": "scatter",
         "x": {
          "bdata": "MzMzM5Nq1kA=",
          "dtype": "f8"
         },
         "xaxis": "x",
         "y": {
          "bdata": "AAAAAAAANEA=",
          "dtype": "f8"
         },
         "yaxis": "y"
        },
        {
         "hovertemplate": "Label=03222-00036 | Grubhub<br>Weekly Revenue=%{x}<br>Average Order Value=%{y}<extra></extra>",
         "legendgroup": "03222-00036 | Grubhub",
         "marker": {
          "color": "#EF553B",
          "opacity": 0.7,
          "size": 10,
          "symbol": "circle"
         },
         "mode": "markers",
         "name": "03222-00036 | Grubhub",
         "orientation": "v",
         "showlegend": true,
         "type": "scatter",
         "x": {
          "bdata": "ZmZmZmZvlkA=",
          "dtype": "f8"
         },
         "xaxis": "x",
         "y": {
          "bdata": "mpmZmZkZNkA=",
          "dtype": "f8"
         },
         "yaxis": "y"
        },
        {
         "hovertemplate": "Label=03222-00036 | UberEats<br>Weekly Revenue=%{x}<br>Average Order Value=%{y}<extra></extra>",
         "legendgroup": "03222-00036 | UberEats",
         "marker": {
          "color": "#00cc96",
          "opacity": 0.7,
          "size": 10,
          "symbol": "circle"
         },
         "mode": "markers",
         "name": "03222-00036 | UberEats",
         "orientation": "v",
         "showlegend": true,
         "type": "scatter",
         "x": {
          "bdata": "H4XrUTj0yUA=",
          "dtype": "f8"
         },
         "xaxis": "x",
         "y": {
          "bdata": "j8L1KFzPNEA=",
          "dtype": "f8"
         },
         "yaxis": "y"
        },
        {
         "hovertemplate": "Label=03222-00036 | Website<br>Weekly Revenue=%{x}<br>Average Order Value=%{y}<extra></extra>",
         "legendgroup": "03222-00036 | Website",
         "marker": {
          "color": "#ab63fa",
          "opacity": 0.7,
          "size": 10,
          "symbol": "circle"
         },
         "mode": "markers",
         "name": "03222-00036 | Website",
         "orientation": "v",
         "showlegend": true,
         "type": "scatter",
         "x": {
          "bdata": "exSuR1mC6UA=",
          "dtype": "f8"
         },
         "xaxis": "x",
         "y": {
          "bdata": "FK5H4XrUM0A=",
          "dtype": "f8"
         },
         "yaxis": "y"
        },
        {
         "hovertemplate": "Label=03222-00036 | Mobile<br>Weekly Revenue=%{x}<br>Average Order Value=%{y}<extra></extra>",
         "legendgroup": "03222-00036 | Mobile",
         "marker": {
          "color": "#FFA15A",
          "opacity": 0.7,
          "size": 10,
          "symbol": "circle"
         },
         "mode": "markers",
         "name": "03222-00036 | Mobile",
         "orientation": "v",
         "showlegend": true,
         "type": "scatter",
         "x": {
          "bdata": "ZmZmZmJ4+UA=",
          "dtype": "f8"
         },
         "xaxis": "x",
         "y": {
          "bdata": "7FG4HoWrM0A=",
          "dtype": "f8"
         },
         "yaxis": "y"
        },
        {
         "hovertemplate": "Label=03222-00036 | DoorDash<br>Weekly Revenue=%{x}<br>Average Order Value=%{y}<extra></extra>",
         "legendgroup": "03222-00036 | DoorDash",
         "marker": {
          "color": "#19d3f3",
          "opacity": 0.7,
          "size": 10,
          "symbol": "circle"
         },
         "mode": "markers",
         "name": "03222-00036 | DoorDash",
         "orientation": "v",
         "showlegend": true,
         "type": "scatter",
         "x": {
          "bdata": "exSuR7m25UA=",
          "dtype": "f8"
         },
         "xaxis": "x",
         "y": {
          "bdata": "XI/C9SgcM0A=",
          "dtype": "f8"
         },
         "yaxis": "y"
        },
        {
         "hovertemplate": "Label=03222-00038 | UberEats<br>Weekly Revenue=%{x}<br>Average Order Value=%{y}<extra></extra>",
         "legendgroup": "03222-00038 | UberEats",
         "marker": {
          "color": "#FF6692",
          "opacity": 0.7,
          "size": 10,
          "symbol": "circle"
         },
         "mode": "markers",
         "name": "03222-00038 | UberEats",
         "orientation": "v",
         "showlegend": true,
         "type": "scatter",
         "x": {
          "bdata": "ZmZmZta61kA=",
          "dtype": "f8"
         },
         "xaxis": "x",
         "y": {
          "bdata": "AAAAAACANEA=",
          "dtype": "f8"
         },
         "yaxis": "y"
        },
        {
         "hovertemplate": "Label=03222-00038 | Website<br>Weekly Revenue=%{x}<br>Average Order Value=%{y}<extra></extra>",
         "legendgroup": "03222-00038 | Website",
         "marker": {
          "color": "#B6E880",
          "opacity": 0.7,
          "size": 10,
          "symbol": "circle"
         },
         "mode": "markers",
         "name": "03222-00038 | Website",
         "orientation": "v",
         "showlegend": true,
         "type": "scatter",
         "x": {
          "bdata": "hetRuN7H4kA=",
          "dtype": "f8"
         },
         "xaxis": "x",
         "y": {
          "bdata": "MzMzMzPzM0A=",
          "dtype": "f8"
         },
         "yaxis": "y"
        },
        {
         "hovertemplate": "Label=03222-00038 | Mobile<br>Weekly Revenue=%{x}<br>Average Order Value=%{y}<extra></extra>",
         "legendgroup": "03222-00038 | Mobile",
         "marker": {
          "color": "#FF97FF",
          "opacity": 0.7,
          "size": 10,
          "symbol": "circle"
         },
         "mode": "markers",
         "name": "03222-00038 | Mobile",
         "orientation": "v",
         "showlegend": true,
         "type": "scatter",
         "x": {
          "bdata": "MzMzM2MI8kA=",
          "dtype": "f8"
         },
         "xaxis": "x",
         "y": {
          "bdata": "uB6F61E4M0A=",
          "dtype": "f8"
         },
         "yaxis": "y"
        },
        {
         "hovertemplate": "Label=03222-00038 | Grubhub<br>Weekly Revenue=%{x}<br>Average Order Value=%{y}<extra></extra>",
         "legendgroup": "03222-00038 | Grubhub",
         "marker": {
          "color": "#FECB52",
          "opacity": 0.7,
          "size": 10,
          "symbol": "circle"
         },
         "mode": "markers",
         "name": "03222-00038 | Grubhub",
         "orientation": "v",
         "showlegend": true,
         "type": "scatter",
         "x": {
          "bdata": "exSuR+GslUA=",
          "dtype": "f8"
         },
         "xaxis": "x",
         "y": {
          "bdata": "7FG4HoXrMkA=",
          "dtype": "f8"
         },
         "yaxis": "y"
        },
        {
         "hovertemplate": "Label=03222-00038 | DoorDash<br>Weekly Revenue=%{x}<br>Average Order Value=%{y}<extra></extra>",
         "legendgroup": "03222-00038 | DoorDash",
         "marker": {
          "color": "#636efa",
          "opacity": 0.7,
          "size": 10,
          "symbol": "circle"
         },
         "mode": "markers",
         "name": "03222-00038 | DoorDash",
         "orientation": "v",
         "showlegend": true,
         "type": "scatter",
         "x": {
          "bdata": "zczMzGTs6kA=",
          "dtype": "f8"
         },
         "xaxis": "x",
         "y": {
          "bdata": "cT0K16OwMkA=",
          "dtype": "f8"
         },
         "yaxis": "y"
        },
        {
         "hovertemplate": "Label=03222-00039 | UberEats<br>Weekly Revenue=%{x}<br>Average Order Value=%{y}<extra></extra>",
         "legendgroup": "03222-00039 | UberEats",
         "marker": {
          "color": "#EF553B",
          "opacity": 0.7,
          "size": 10,
          "symbol": "circle"
         },
         "mode": "markers",
         "name": "03222-00039 | UberEats",
         "orientation": "v",
         "showlegend": true,
         "type": "scatter",
         "x": {
          "bdata": "uB6F61HBnEA=",
          "dtype": "f8"
         },
         "xaxis": "x",
         "y": {
          "bdata": "j8L1KFxPPEA=",
          "dtype": "f8"
         },
         "yaxis": "y"
        },
        {
         "hovertemplate": "Label=03222-00039 | Website<br>Weekly Revenue=%{x}<br>Average Order Value=%{y}<extra></extra>",
         "legendgroup": "03222-00039 | Website",
         "marker": {
          "color": "#00cc96",
          "opacity": 0.7,
          "size": 10,
          "symbol": "circle"
         },
         "mode": "markers",
         "name": "03222-00039 | Website",
         "orientation": "v",
         "showlegend": true,
         "type": "scatter",
         "x": {
          "bdata": "uB6F63G91EA=",
          "dtype": "f8"
         },
         "xaxis": "x",
         "y": {
          "bdata": "zczMzMwMOEA=",
          "dtype": "f8"
         },
         "yaxis": "y"
        },
        {
         "hovertemplate": "Label=03222-00039 | Grubhub<br>Weekly Revenue=%{x}<br>Average Order Value=%{y}<extra></extra>",
         "legendgroup": "03222-00039 | Grubhub",
         "marker": {
          "color": "#ab63fa",
          "opacity": 0.7,
          "size": 10,
          "symbol": "circle"
         },
         "mode": "markers",
         "name": "03222-00039 | Grubhub",
         "orientation": "v",
         "showlegend": true,
         "type": "scatter",
         "x": {
          "bdata": "PQrXo3DxdUA=",
          "dtype": "f8"
         },
         "xaxis": "x",
         "y": {
          "bdata": "SOF6FK5HNkA=",
          "dtype": "f8"
         },
         "yaxis": "y"
        },
        {
         "hovertemplate": "Label=03222-00039 | DoorDash<br>Weekly Revenue=%{x}<br>Average Order Value=%{y}<extra></extra>",
         "legendgroup": "03222-00039 | DoorDash",
         "marker": {
          "color": "#FFA15A",
          "opacity": 0.7,
          "size": 10,
          "symbol": "circle"
         },
         "mode": "markers",
         "name": "03222-00039 | DoorDash",
         "orientation": "v",
         "showlegend": true,
         "type": "scatter",
         "x": {
          "bdata": "ZmZmZgZjyEA=",
          "dtype": "f8"
         },
         "xaxis": "x",
         "y": {
          "bdata": "9ihcj8J1NUA=",
          "dtype": "f8"
         },
         "yaxis": "y"
        },
        {
         "hovertemplate": "Label=03222-00039 | Mobile<br>Weekly Revenue=%{x}<br>Average Order Value=%{y}<extra></extra>",
         "legendgroup": "03222-00039 | Mobile",
         "marker": {
          "color": "#19d3f3",
          "opacity": 0.7,
          "size": 10,
          "symbol": "circle"
         },
         "mode": "markers",
         "name": "03222-00039 | Mobile",
         "orientation": "v",
         "showlegend": true,
         "type": "scatter",
         "x": {
          "bdata": "j8L1KMy/3UA=",
          "dtype": "f8"
         },
         "xaxis": "x",
         "y": {
          "bdata": "cT0K16PwNEA=",
          "dtype": "f8"
         },
         "yaxis": "y"
        },
        {
         "hovertemplate": "Label=03222-00043 | Website<br>Weekly Revenue=%{x}<br>Average Order Value=%{y}<extra></extra>",
         "legendgroup": "03222-00043 | Website",
         "marker": {
          "color": "#FF6692",
          "opacity": 0.7,
          "size": 10,
          "symbol": "circle"
         },
         "mode": "markers",
         "name": "03222-00043 | Website",
         "orientation": "v",
         "showlegend": true,
         "type": "scatter",
         "x": {
          "bdata": "XI/C9dgS4UA=",
          "dtype": "f8"
         },
         "xaxis": "x",
         "y": {
          "bdata": "MzMzMzOzNEA=",
          "dtype": "f8"
         },
         "yaxis": "y"
        },
        {
         "hovertemplate": "Label=03222-00043 | UberEats<br>Weekly Revenue=%{x}<br>Average Order Value=%{y}<extra></extra>",
         "legendgroup": "03222-00043 | UberEats",
         "marker": {
          "color": "#B6E880",
          "opacity": 0.7,
          "size": 10,
          "symbol": "circle"
         },
         "mode": "markers",
         "name": "03222-00043 | UberEats",
         "orientation": "v",
         "showlegend": true,
         "type": "scatter",
         "x": {
          "bdata": "ZmZmZmZ7qEA=",
          "dtype": "f8"
         },
         "xaxis": "x",
         "y": {
          "bdata": "4XoUrkdhNEA=",
          "dtype": "f8"
         },
         "yaxis": "y"
        },
        {
         "hovertemplate": "Label=03222-00043 | Grubhub<br>Weekly Revenue=%{x}<br>Average Order Value=%{y}<extra></extra>",
         "legendgroup": "03222-00043 | Grubhub",
         "marker": {
          "color": "#FF97FF",
          "opacity": 0.7,
          "size": 10,
          "symbol": "circle"
         },
         "mode": "markers",
         "name": "03222-00043 | Grubhub",
         "orientation": "v",
         "showlegend": true,
         "type": "scatter",
         "x": {
          "bdata": "AAAAAAAUk0A=",
          "dtype": "f8"
         },
         "xaxis": "x",
         "y": {
          "bdata": "zczMzMzMMkA=",
          "dtype": "f8"
         },
         "yaxis": "y"
        },
        {
         "hovertemplate": "Label=03222-00043 | DoorDash<br>Weekly Revenue=%{x}<br>Average Order Value=%{y}<extra></extra>",
         "legendgroup": "03222-00043 | DoorDash",
         "marker": {
          "color": "#FECB52",
          "opacity": 0.7,
          "size": 10,
          "symbol": "circle"
         },
         "mode": "markers",
         "name": "03222-00043 | DoorDash",
         "orientation": "v",
         "showlegend": true,
         "type": "scatter",
         "x": {
          "bdata": "cT0K19MN0UA=",
          "dtype": "f8"
         },
         "xaxis": "x",
         "y": {
          "bdata": "ZmZmZmamMkA=",
          "dtype": "f8"
         },
         "yaxis": "y"
        },
        {
         "hovertemplate": "Label=03222-00043 | Mobile<br>Weekly Revenue=%{x}<br>Average Order Value=%{y}<extra></extra>",
         "legendgroup": "03222-00043 | Mobile",
         "marker": {
          "color": "#636efa",
          "opacity": 0.7,
          "size": 10,
          "symbol": "circle"
         },
         "mode": "markers",
         "name": "03222-00043 | Mobile",
         "orientation": "v",
         "showlegend": true,
         "type": "scatter",
         "x": {
          "bdata": "exSuR3mx7UA=",
          "dtype": "f8"
         },
         "xaxis": "x",
         "y": {
          "bdata": "7FG4HoUrMkA=",
          "dtype": "f8"
         },
         "yaxis": "y"
        },
        {
         "hovertemplate": "Label=03222-00044 | Grubhub<br>Weekly Revenue=%{x}<br>Average Order Value=%{y}<extra></extra>",
         "legendgroup": "03222-00044 | Grubhub",
         "marker": {
          "color": "#EF553B",
          "opacity": 0.7,
          "size": 10,
          "symbol": "circle"
         },
         "mode": "markers",
         "name": "03222-00044 | Grubhub",
         "orientation": "v",
         "showlegend": true,
         "type": "scatter",
         "x": {
          "bdata": "4XoUrkfPhEA=",
          "dtype": "f8"
         },
         "xaxis": "x",
         "y": {
          "bdata": "exSuR+E6OUA=",
          "dtype": "f8"
         },
         "yaxis": "y"
        },
        {
         "hovertemplate": "Label=03222-00044 | Website<br>Weekly Revenue=%{x}<br>Average Order Value=%{y}<extra></extra>",
         "legendgroup": "03222-00044 | Website",
         "marker": {
          "color": "#00cc96",
          "opacity": 0.7,
          "size": 10,
          "symbol": "circle"
         },
         "mode": "markers",
         "name": "03222-00044 | Website",
         "orientation": "v",
         "showlegend": true,
         "type": "scatter",
         "x": {
          "bdata": "H4XrUTia20A=",
          "dtype": "f8"
         },
         "xaxis": "x",
         "y": {
          "bdata": "H4XrUbjeNUA=",
          "dtype": "f8"
         },
         "yaxis": "y"
        },
        {
         "hovertemplate": "Label=03222-00044 | UberEats<br>Weekly Revenue=%{x}<br>Average Order Value=%{y}<extra></extra>",
         "legendgroup": "03222-00044 | UberEats",
         "marker": {
          "color": "#ab63fa",
          "opacity": 0.7,
          "size": 10,
          "symbol": "circle"
         },
         "mode": "markers",
         "name": "03222-00044 | UberEats",
         "orientation": "v",
         "showlegend": true,
         "type": "scatter",
         "x": {
          "bdata": "16NwPQrJlEA=",
          "dtype": "f8"
         },
         "xaxis": "x",
         "y": {
          "bdata": "MzMzMzMzNUA=",
          "dtype": "f8"
         },
         "yaxis": "y"
        },
        {
         "hovertemplate": "Label=03222-00044 | DoorDash<br>Weekly Revenue=%{x}<br>Average Order Value=%{y}<extra></extra>",
         "legendgroup": "03222-00044 | DoorDash",
         "marker": {
          "color": "#FFA15A",
          "opacity": 0.7,
          "size": 10,
          "symbol": "circle"
         },
         "mode": "markers",
         "name": "03222-00044 | DoorDash",
         "orientation": "v",
         "showlegend": true,
         "type": "scatter",
         "x": {
          "bdata": "mpmZmZnRw0A=",
          "dtype": "f8"
         },
         "xaxis": "x",
         "y": {
          "bdata": "cT0K16PwM0A=",
          "dtype": "f8"
         },
         "yaxis": "y"
        },
        {
         "hovertemplate": "Label=03222-00044 | Mobile<br>Weekly Revenue=%{x}<br>Average Order Value=%{y}<extra></extra>",
         "legendgroup": "03222-00044 | Mobile",
         "marker": {
          "color": "#19d3f3",
          "opacity": 0.7,
          "size": 10,
          "symbol": "circle"
         },
         "mode": "markers",
         "name": "03222-00044 | Mobile",
         "orientation": "v",
         "showlegend": true,
         "type": "scatter",
         "x": {
          "bdata": "7FG4Hp1f6EA=",
          "dtype": "f8"
         },
         "xaxis": "x",
         "y": {
          "bdata": "uB6F61G4M0A=",
          "dtype": "f8"
         },
         "yaxis": "y"
        },
        {
         "hovertemplate": "Label=03222-00045 | Grubhub<br>Weekly Revenue=%{x}<br>Average Order Value=%{y}<extra></extra>",
         "legendgroup": "03222-00045 | Grubhub",
         "marker": {
          "color": "#FF6692",
          "opacity": 0.7,
          "size": 10,
          "symbol": "circle"
         },
         "mode": "markers",
         "name": "03222-00045 | Grubhub",
         "orientation": "v",
         "showlegend": true,
         "type": "scatter",
         "x": {
          "bdata": "9ihcj8Imk0A=",
          "dtype": "f8"
         },
         "xaxis": "x",
         "y": {
          "bdata": "KVyPwvXoN0A=",
          "dtype": "f8"
         },
         "yaxis": "y"
        },
        {
         "hovertemplate": "Label=03222-00045 | Website<br>Weekly Revenue=%{x}<br>Average Order Value=%{y}<extra></extra>",
         "legendgroup": "03222-00045 | Website",
         "marker": {
          "color": "#B6E880",
          "opacity": 0.7,
          "size": 10,
          "symbol": "circle"
         },
         "mode": "markers",
         "name": "03222-00045 | Website",
         "orientation": "v",
         "showlegend": true,
         "type": "scatter",
         "x": {
          "bdata": "pHA9Cif45kA=",
          "dtype": "f8"
         },
         "xaxis": "x",
         "y": {
          "bdata": "w/UoXI9CNUA=",
          "dtype": "f8"
         },
         "yaxis": "y"
        },
        {
         "hovertemplate": "Label=03222-00045 | UberEats<br>Weekly Revenue=%{x}<br>Average Order Value=%{y}<extra></extra>",
         "legendgroup": "03222-00045 | UberEats",
         "marker": {
          "color": "#FF97FF",
          "opacity": 0.7,
          "size": 10,
          "symbol": "circle"
         },
         "mode": "markers",
         "name": "03222-00045 | UberEats",
         "orientation": "v",
         "showlegend": true,
         "type": "scatter",
         "x": {
          "bdata": "pHA9Ctf6n0A=",
          "dtype": "f8"
         },
         "xaxis": "x",
         "y": {
          "bdata": "w/UoXI9CNEA=",
          "dtype": "f8"
         },
         "yaxis": "y"
        },
        {
         "hovertemplate": "Label=03222-00045 | DoorDash<br>Weekly Revenue=%{x}<br>Average Order Value=%{y}<extra></extra>",
         "legendgroup": "03222-00045 | DoorDash",
         "marker": {
          "color": "#FECB52",
          "opacity": 0.7,
          "size": 10,
          "symbol": "circle"
         },
         "mode": "markers",
         "name": "03222-00045 | DoorDash",
         "orientation": "v",
         "showlegend": true,
         "type": "scatter",
         "x": {
          "bdata": "MzMzMxOsz0A=",
          "dtype": "f8"
         },
         "xaxis": "x",
         "y": {
          "bdata": "pHA9CtejM0A=",
          "dtype": "f8"
         },
         "yaxis": "y"
        },
        {
         "hovertemplate": "Label=03222-00045 | Mobile<br>Weekly Revenue=%{x}<br>Average Order Value=%{y}<extra></extra>",
         "legendgroup": "03222-00045 | Mobile",
         "marker": {
          "color": "#636efa",
          "opacity": 0.7,
          "size": 10,
          "symbol": "circle"
         },
         "mode": "markers",
         "name": "03222-00045 | Mobile",
         "orientation": "v",
         "showlegend": true,
         "type": "scatter",
         "x": {
          "bdata": "mpmZmSGn8UA=",
          "dtype": "f8"
         },
         "xaxis": "x",
         "y": {
          "bdata": "MzMzMzNzM0A=",
          "dtype": "f8"
         },
         "yaxis": "y"
        },
        {
         "hovertemplate": "Label=03222-00046 | Grubhub<br>Weekly Revenue=%{x}<br>Average Order Value=%{y}<extra></extra>",
         "legendgroup": "03222-00046 | Grubhub",
         "marker": {
          "color": "#EF553B",
          "opacity": 0.7,
          "size": 10,
          "symbol": "circle"
         },
         "mode": "markers",
         "name": "03222-00046 | Grubhub",
         "orientation": "v",
         "showlegend": true,
         "type": "scatter",
         "x": {
          "bdata": "9ihcj8IYkUA=",
          "dtype": "f8"
         },
         "xaxis": "x",
         "y": {
          "bdata": "FK5H4XrUOUA=",
          "dtype": "f8"
         },
         "yaxis": "y"
        },
        {
         "hovertemplate": "Label=03222-00046 | UberEats<br>Weekly Revenue=%{x}<br>Average Order Value=%{y}<extra></extra>",
         "legendgroup": "03222-00046 | UberEats",
         "marker": {
          "color": "#00cc96",
          "opacity": 0.7,
          "size": 10,
          "symbol": "circle"
         },
         "mode": "markers",
         "name": "03222-00046 | UberEats",
         "orientation": "v",
         "showlegend": true,
         "type": "scatter",
         "x": {
          "bdata": "7FG4HgULr0A=",
          "dtype": "f8"
         },
         "xaxis": "x",
         "y": {
          "bdata": "j8L1KFwPN0A=",
          "dtype": "f8"
         },
         "yaxis": "y"
        },
        {
         "hovertemplate": "Label=03222-00046 | DoorDash<br>Weekly Revenue=%{x}<br>Average Order Value=%{y}<extra></extra>",
         "legendgroup": "03222-00046 | DoorDash",
         "marker": {
          "color": "#ab63fa",
          "opacity": 0.7,
          "size": 10,
          "symbol": "circle"
         },
         "mode": "markers",
         "name": "03222-00046 | DoorDash",
         "orientation": "v",
         "showlegend": true,
         "type": "scatter",
         "x": {
          "bdata": "KVyPwmWq0UA=",
          "dtype": "f8"
         },
         "xaxis": "x",
         "y": {
          "bdata": "hetRuB5FNEA=",
          "dtype": "f8"
         },
         "yaxis": "y"
        },
        {
         "hovertemplate": "Label=03222-00046 | Website<br>Weekly Revenue=%{x}<br>Average Order Value=%{y}<extra></extra>",
         "legendgroup": "03222-00046 | Website",
         "marker": {
          "color": "#FFA15A",
          "opacity": 0.7,
          "size": 10,
          "symbol": "circle"
         },
         "mode": "markers",
         "name": "03222-00046 | Website",
         "orientation": "v",
         "showlegend": true,
         "type": "scatter",
         "x": {
          "bdata": "9ihcj6K920A=",
          "dtype": "f8"
         },
         "xaxis": "x",
         "y": {
          "bdata": "AAAAAACAMkA=",
          "dtype": "f8"
         },
         "yaxis": "y"
        },
        {
         "hovertemplate": "Label=03222-00046 | Mobile<br>Weekly Revenue=%{x}<br>Average Order Value=%{y}<extra></extra>",
         "legendgroup": "03222-00046 | Mobile",
         "marker": {
          "color": "#19d3f3",
          "opacity": 0.7,
          "size": 10,
          "symbol": "circle"
         },
         "mode": "markers",
         "name": "03222-00046 | Mobile",
         "orientation": "v",
         "showlegend": true,
         "type": "scatter",
         "x": {
          "bdata": "9ihcj+J86EA=",
          "dtype": "f8"
         },
         "xaxis": "x",
         "y": {
          "bdata": "H4XrUbieMEA=",
          "dtype": "f8"
         },
         "yaxis": "y"
        },
        {
         "hovertemplate": "Label=03222-00047 | Grubhub<br>Weekly Revenue=%{x}<br>Average Order Value=%{y}<extra></extra>",
         "legendgroup": "03222-00047 | Grubhub",
         "marker": {
          "color": "#FF6692",
          "opacity": 0.7,
          "size": 10,
          "symbol": "circle"
         },
         "mode": "markers",
         "name": "03222-00047 | Grubhub",
         "orientation": "v",
         "showlegend": true,
         "type": "scatter",
         "x": {
          "bdata": "AAAAAABIiEA=",
          "dtype": "f8"
         },
         "xaxis": "x",
         "y": {
          "bdata": "zczMzMxMNkA=",
          "dtype": "f8"
         },
         "yaxis": "y"
        },
        {
         "hovertemplate": "Label=03222-00047 | UberEats<br>Weekly Revenue=%{x}<br>Average Order Value=%{y}<extra></extra>",
         "legendgroup": "03222-00047 | UberEats",
         "marker": {
          "color": "#B6E880",
          "opacity": 0.7,
          "size": 10,
          "symbol": "circle"
         },
         "mode": "markers",
         "name": "03222-00047 | UberEats",
         "orientation": "v",
         "showlegend": true,
         "type": "scatter",
         "x": {
          "bdata": "mpmZmZkEpEA=",
          "dtype": "f8"
         },
         "xaxis": "x",
         "y": {
          "bdata": "CtejcD3KNEA=",
          "dtype": "f8"
         },
         "yaxis": "y"
        },
        {
         "hovertemplate": "Label=03222-00047 | Website<br>Weekly Revenue=%{x}<br>Average Order Value=%{y}<extra></extra>",
         "legendgroup": "03222-00047 | Website",
         "marker": {
          "color": "#FF97FF",
          "opacity": 0.7,
          "size": 10,
          "symbol": "circle"
         },
         "mode": "markers",
         "name": "03222-00047 | Website",
         "orientation": "v",
         "showlegend": true,
         "type": "scatter",
         "x": {
          "bdata": "CtejcO2f1kA=",
          "dtype": "f8"
         },
         "xaxis": "x",
         "y": {
          "bdata": "XI/C9ShcM0A=",
          "dtype": "f8"
         },
         "yaxis": "y"
        },
        {
         "hovertemplate": "Label=03222-00047 | DoorDash<br>Weekly Revenue=%{x}<br>Average Order Value=%{y}<extra></extra>",
         "legendgroup": "03222-00047 | DoorDash",
         "marker": {
          "color": "#FECB52",
          "opacity": 0.7,
          "size": 10,
          "symbol": "circle"
         },
         "mode": "markers",
         "name": "03222-00047 | DoorDash",
         "orientation": "v",
         "showlegend": true,
         "type": "scatter",
         "x": {
          "bdata": "w/UoXG/bzUA=",
          "dtype": "f8"
         },
         "xaxis": "x",
         "y": {
          "bdata": "ZmZmZmbmMkA=",
          "dtype": "f8"
         },
         "yaxis": "y"
        },
        {
         "hovertemplate": "Label=03222-00047 | Mobile<br>Weekly Revenue=%{x}<br>Average Order Value=%{y}<extra></extra>",
         "legendgroup": "03222-00047 | Mobile",
         "marker": {
          "color": "#636efa",
          "opacity": 0.7,
          "size": 10,
          "symbol": "circle"
         },
         "mode": "markers",
         "name": "03222-00047 | Mobile",
         "orientation": "v",
         "showlegend": true,
         "type": "scatter",
         "x": {
          "bdata": "PQrXo9BN5kA=",
          "dtype": "f8"
         },
         "xaxis": "x",
         "y": {
          "bdata": "PQrXo3D9MUA=",
          "dtype": "f8"
         },
         "yaxis": "y"
        },
        {
         "hovertemplate": "Label=03646-00001 | Website<br>Weekly Revenue=%{x}<br>Average Order Value=%{y}<extra></extra>",
         "legendgroup": "03646-00001 | Website",
         "marker": {
          "color": "#EF553B",
          "opacity": 0.7,
          "size": 10,
          "symbol": "circle"
         },
         "mode": "markers",
         "name": "03646-00001 | Website",
         "orientation": "v",
         "showlegend": true,
         "type": "scatter",
         "x": {
          "bdata": "PQrXoxjE4EA=",
          "dtype": "f8"
         },
         "xaxis": "x",
         "y": {
          "bdata": "hetRuB5FNkA=",
          "dtype": "f8"
         },
         "yaxis": "y"
        },
        {
         "hovertemplate": "Label=03646-00001 | UberEats<br>Weekly Revenue=%{x}<br>Average Order Value=%{y}<extra></extra>",
         "legendgroup": "03646-00001 | UberEats",
         "marker": {
          "color": "#00cc96",
          "opacity": 0.7,
          "size": 10,
          "symbol": "circle"
         },
         "mode": "markers",
         "name": "03646-00001 | UberEats",
         "orientation": "v",
         "showlegend": true,
         "type": "scatter",
         "x": {
          "bdata": "PQrXo3B5nEA=",
          "dtype": "f8"
         },
         "xaxis": "x",
         "y": {
          "bdata": "KVyPwvUoNUA=",
          "dtype": "f8"
         },
         "yaxis": "y"
        },
        {
         "hovertemplate": "Label=03646-00001 | Mobile<br>Weekly Revenue=%{x}<br>Average Order Value=%{y}<extra></extra>",
         "legendgroup": "03646-00001 | Mobile",
         "marker": {
          "color": "#ab63fa",
          "opacity": 0.7,
          "size": 10,
          "symbol": "circle"
         },
         "mode": "markers",
         "name": "03646-00001 | Mobile",
         "orientation": "v",
         "showlegend": true,
         "type": "scatter",
         "x": {
          "bdata": "16NwPQo67EA=",
          "dtype": "f8"
         },
         "xaxis": "x",
         "y": {
          "bdata": "zczMzMwMNEA=",
          "dtype": "f8"
         },
         "yaxis": "y"
        },
        {
         "hovertemplate": "Label=03646-00001 | DoorDash<br>Weekly Revenue=%{x}<br>Average Order Value=%{y}<extra></extra>",
         "legendgroup": "03646-00001 | DoorDash",
         "marker": {
          "color": "#FFA15A",
          "opacity": 0.7,
          "size": 10,
          "symbol": "circle"
         },
         "mode": "markers",
         "name": "03646-00001 | DoorDash",
         "orientation": "v",
         "showlegend": true,
         "type": "scatter",
         "x": {
          "bdata": "cT0K1yN8zkA=",
          "dtype": "f8"
         },
         "xaxis": "x",
         "y": {
          "bdata": "pHA9CtejMkA=",
          "dtype": "f8"
         },
         "yaxis": "y"
        },
        {
         "hovertemplate": "Label=03646-00001 | Grubhub<br>Weekly Revenue=%{x}<br>Average Order Value=%{y}<extra></extra>",
         "legendgroup": "03646-00001 | Grubhub",
         "marker": {
          "color": "#19d3f3",
          "opacity": 0.7,
          "size": 10,
          "symbol": "circle"
         },
         "mode": "markers",
         "name": "03646-00001 | Grubhub",
         "orientation": "v",
         "showlegend": true,
         "type": "scatter",
         "x": {
          "bdata": "9ihcj8K9akA=",
          "dtype": "f8"
         },
         "xaxis": "x",
         "y": {
          "bdata": "rkfhehQuMkA=",
          "dtype": "f8"
         },
         "yaxis": "y"
        },
        {
         "hovertemplate": "Label=03646-00002 | UberEats<br>Weekly Revenue=%{x}<br>Average Order Value=%{y}<extra></extra>",
         "legendgroup": "03646-00002 | UberEats",
         "marker": {
          "color": "#FF6692",
          "opacity": 0.7,
          "size": 10,
          "symbol": "circle"
         },
         "mode": "markers",
         "name": "03646-00002 | UberEats",
         "orientation": "v",
         "showlegend": true,
         "type": "scatter",
         "x": {
          "bdata": "KVyPwvUDuEA=",
          "dtype": "f8"
         },
         "xaxis": "x",
         "y": {
          "bdata": "mpmZmZkZNkA=",
          "dtype": "f8"
         },
         "yaxis": "y"
        },
        {
         "hovertemplate": "Label=03646-00002 | Website<br>Weekly Revenue=%{x}<br>Average Order Value=%{y}<extra></extra>",
         "legendgroup": "03646-00002 | Website",
         "marker": {
          "color": "#B6E880",
          "opacity": 0.7,
          "size": 10,
          "symbol": "circle"
         },
         "mode": "markers",
         "name": "03646-00002 | Website",
         "orientation": "v",
         "showlegend": true,
         "type": "scatter",
         "x": {
          "bdata": "cT0K15Og40A=",
          "dtype": "f8"
         },
         "xaxis": "x",
         "y": {
          "bdata": "exSuR+E6NEA=",
          "dtype": "f8"
         },
         "yaxis": "y"
        },
        {
         "hovertemplate": "Label=03646-00002 | Mobile<br>Weekly Revenue=%{x}<br>Average Order Value=%{y}<extra></extra>",
         "legendgroup": "03646-00002 | Mobile",
         "marker": {
          "color": "#FF97FF",
          "opacity": 0.7,
          "size": 10,
          "symbol": "circle"
         },
         "mode": "markers",
         "name": "03646-00002 | Mobile",
         "orientation": "v",
         "showlegend": true,
         "type": "scatter",
         "x": {
          "bdata": "mpmZmd1i8UA=",
          "dtype": "f8"
         },
         "xaxis": "x",
         "y": {
          "bdata": "j8L1KFwPNEA=",
          "dtype": "f8"
         },
         "yaxis": "y"
        },
        {
         "hovertemplate": "Label=03646-00002 | DoorDash<br>Weekly Revenue=%{x}<br>Average Order Value=%{y}<extra></extra>",
         "legendgroup": "03646-00002 | DoorDash",
         "marker": {
          "color": "#FECB52",
          "opacity": 0.7,
          "size": 10,
          "symbol": "circle"
         },
         "mode": "markers",
         "name": "03646-00002 | DoorDash",
         "orientation": "v",
         "showlegend": true,
         "type": "scatter",
         "x": {
          "bdata": "SOF6FI6o3UA=",
          "dtype": "f8"
         },
         "xaxis": "x",
         "y": {
          "bdata": "rkfhehTuMkA=",
          "dtype": "f8"
         },
         "yaxis": "y"
        },
        {
         "hovertemplate": "Label=03646-00002 | Grubhub<br>Weekly Revenue=%{x}<br>Average Order Value=%{y}<extra></extra>",
         "legendgroup": "03646-00002 | Grubhub",
         "marker": {
          "color": "#636efa",
          "opacity": 0.7,
          "size": 10,
          "symbol": "circle"
         },
         "mode": "markers",
         "name": "03646-00002 | Grubhub",
         "orientation": "v",
         "showlegend": true,
         "type": "scatter",
         "x": {
          "bdata": "j8L1KFzikUA=",
          "dtype": "f8"
         },
         "xaxis": "x",
         "y": {
          "bdata": "rkfhehSuMUA=",
          "dtype": "f8"
         },
         "yaxis": "y"
        },
        {
         "hovertemplate": "Label=03646-00003 | Grubhub<br>Weekly Revenue=%{x}<br>Average Order Value=%{y}<extra></extra>",
         "legendgroup": "03646-00003 | Grubhub",
         "marker": {
          "color": "#EF553B",
          "opacity": 0.7,
          "size": 10,
          "symbol": "circle"
         },
         "mode": "markers",
         "name": "03646-00003 | Grubhub",
         "orientation": "v",
         "showlegend": true,
         "type": "scatter",
         "x": {
          "bdata": "rkfhehQMlkA=",
          "dtype": "f8"
         },
         "xaxis": "x",
         "y": {
          "bdata": "16NwPQoXOEA=",
          "dtype": "f8"
         },
         "yaxis": "y"
        },
        {
         "hovertemplate": "Label=03646-00003 | UberEats<br>Weekly Revenue=%{x}<br>Average Order Value=%{y}<extra></extra>",
         "legendgroup": "03646-00003 | UberEats",
         "marker": {
          "color": "#00cc96",
          "opacity": 0.7,
          "size": 10,
          "symbol": "circle"
         },
         "mode": "markers",
         "name": "03646-00003 | UberEats",
         "orientation": "v",
         "showlegend": true,
         "type": "scatter",
         "x": {
          "bdata": "w/UoXE/5tkA=",
          "dtype": "f8"
         },
         "xaxis": "x",
         "y": {
          "bdata": "cT0K16MwNUA=",
          "dtype": "f8"
         },
         "yaxis": "y"
        },
        {
         "hovertemplate": "Label=03646-00003 | Website<br>Weekly Revenue=%{x}<br>Average Order Value=%{y}<extra></extra>",
         "legendgroup": "03646-00003 | Website",
         "marker": {
          "color": "#ab63fa",
          "opacity": 0.7,
          "size": 10,
          "symbol": "circle"
         },
         "mode": "markers",
         "name": "03646-00003 | Website",
         "orientation": "v",
         "showlegend": true,
         "type": "scatter",
         "x": {
          "bdata": "MzMzMxtg50A=",
          "dtype": "f8"
         },
         "xaxis": "x",
         "y": {
          "bdata": "exSuR+G6NEA=",
          "dtype": "f8"
         },
         "yaxis": "y"
        },
        {
         "hovertemplate": "Label=03646-00003 | Mobile<br>Weekly Revenue=%{x}<br>Average Order Value=%{y}<extra></extra>",
         "legendgroup": "03646-00003 | Mobile",
         "marker": {
          "color": "#FFA15A",
          "opacity": 0.7,
          "size": 10,
          "symbol": "circle"
         },
         "mode": "markers",
         "name": "03646-00003 | Mobile",
         "orientation": "v",
         "showlegend": true,
         "type": "scatter",
         "x": {
          "bdata": "9ihcj5749EA=",
          "dtype": "f8"
         },
         "xaxis": "x",
         "y": {
          "bdata": "PQrXo3B9M0A=",
          "dtype": "f8"
         },
         "yaxis": "y"
        },
        {
         "hovertemplate": "Label=03646-00003 | DoorDash<br>Weekly Revenue=%{x}<br>Average Order Value=%{y}<extra></extra>",
         "legendgroup": "03646-00003 | DoorDash",
         "marker": {
          "color": "#19d3f3",
          "opacity": 0.7,
          "size": 10,
          "symbol": "circle"
         },
         "mode": "markers",
         "name": "03646-00003 | DoorDash",
         "orientation": "v",
         "showlegend": true,
         "type": "scatter",
         "x": {
          "bdata": "SOF6FF4C3kA=",
          "dtype": "f8"
         },
         "xaxis": "x",
         "y": {
          "bdata": "SOF6FK4HM0A=",
          "dtype": "f8"
         },
         "yaxis": "y"
        },
        {
         "hovertemplate": "Label=03646-00004 | Website<br>Weekly Revenue=%{x}<br>Average Order Value=%{y}<extra></extra>",
         "legendgroup": "03646-00004 | Website",
         "marker": {
          "color": "#FF6692",
          "opacity": 0.7,
          "size": 10,
          "symbol": "circle"
         },
         "mode": "markers",
         "name": "03646-00004 | Website",
         "orientation": "v",
         "showlegend": true,
         "type": "scatter",
         "x": {
          "bdata": "pHA9CveVxkA=",
          "dtype": "f8"
         },
         "xaxis": "x",
         "y": {
          "bdata": "zczMzMwMNEA=",
          "dtype": "f8"
         },
         "yaxis": "y"
        },
        {
         "hovertemplate": "Label=03646-00004 | DoorDash<br>Weekly Revenue=%{x}<br>Average Order Value=%{y}<extra></extra>",
         "legendgroup": "03646-00004 | DoorDash",
         "marker": {
          "color": "#B6E880",
          "opacity": 0.7,
          "size": 10,
          "symbol": "circle"
         },
         "mode": "markers",
         "name": "03646-00004 | DoorDash",
         "orientation": "v",
         "showlegend": true,
         "type": "scatter",
         "x": {
          "bdata": "H4XrUfjowUA=",
          "dtype": "f8"
         },
         "xaxis": "x",
         "y": {
          "bdata": "7FG4HoWrM0A=",
          "dtype": "f8"
         },
         "yaxis": "y"
        },
        {
         "hovertemplate": "Label=03646-00004 | Mobile<br>Weekly Revenue=%{x}<br>Average Order Value=%{y}<extra></extra>",
         "legendgroup": "03646-00004 | Mobile",
         "marker": {
          "color": "#FF97FF",
          "opacity": 0.7,
          "size": 10,
          "symbol": "circle"
         },
         "mode": "markers",
         "name": "03646-00004 | Mobile",
         "orientation": "v",
         "showlegend": true,
         "type": "scatter",
         "x": {
          "bdata": "16NwPcoi1kA=",
          "dtype": "f8"
         },
         "xaxis": "x",
         "y": {
          "bdata": "w/UoXI+CMkA=",
          "dtype": "f8"
         },
         "yaxis": "y"
        },
        {
         "hovertemplate": "Label=03646-00004 | UberEats<br>Weekly Revenue=%{x}<br>Average Order Value=%{y}<extra></extra>",
         "legendgroup": "03646-00004 | UberEats",
         "marker": {
          "color": "#FECB52",
          "opacity": 0.7,
          "size": 10,
          "symbol": "circle"
         },
         "mode": "markers",
         "name": "03646-00004 | UberEats",
         "orientation": "v",
         "showlegend": true,
         "type": "scatter",
         "x": {
          "bdata": "16NwPQpPYkA=",
          "dtype": "f8"
         },
         "xaxis": "x",
         "y": {
          "bdata": "hetRuB5FMEA=",
          "dtype": "f8"
         },
         "yaxis": "y"
        }
       ],
       "layout": {
        "legend": {
         "title": {
          "text": "Label"
         },
         "tracegroupgap": 0
        },
        "margin": {
         "b": 30,
         "l": 30,
         "r": 30,
         "t": 60
        },
        "template": {
         "data": {
          "bar": [
           {
            "error_x": {
             "color": "#2a3f5f"
            },
            "error_y": {
             "color": "#2a3f5f"
            },
            "marker": {
             "line": {
              "color": "white",
              "width": 0.5
             },
             "pattern": {
              "fillmode": "overlay",
              "size": 10,
              "solidity": 0.2
             }
            },
            "type": "bar"
           }
          ],
          "barpolar": [
           {
            "marker": {
             "line": {
              "color": "white",
              "width": 0.5
             },
             "pattern": {
              "fillmode": "overlay",
              "size": 10,
              "solidity": 0.2
             }
            },
            "type": "barpolar"
           }
          ],
          "carpet": [
           {
            "aaxis": {
             "endlinecolor": "#2a3f5f",
             "gridcolor": "#C8D4E3",
             "linecolor": "#C8D4E3",
             "minorgridcolor": "#C8D4E3",
             "startlinecolor": "#2a3f5f"
            },
            "baxis": {
             "endlinecolor": "#2a3f5f",
             "gridcolor": "#C8D4E3",
             "linecolor": "#C8D4E3",
             "minorgridcolor": "#C8D4E3",
             "startlinecolor": "#2a3f5f"
            },
            "type": "carpet"
           }
          ],
          "choropleth": [
           {
            "colorbar": {
             "outlinewidth": 0,
             "ticks": ""
            },
            "type": "choropleth"
           }
          ],
          "contour": [
           {
            "colorbar": {
             "outlinewidth": 0,
             "ticks": ""
            },
            "colorscale": [
             [
              0,
              "#0d0887"
             ],
             [
              0.1111111111111111,
              "#46039f"
             ],
             [
              0.2222222222222222,
              "#7201a8"
             ],
             [
              0.3333333333333333,
              "#9c179e"
             ],
             [
              0.4444444444444444,
              "#bd3786"
             ],
             [
              0.5555555555555556,
              "#d8576b"
             ],
             [
              0.6666666666666666,
              "#ed7953"
             ],
             [
              0.7777777777777778,
              "#fb9f3a"
             ],
             [
              0.8888888888888888,
              "#fdca26"
             ],
             [
              1,
              "#f0f921"
             ]
            ],
            "type": "contour"
           }
          ],
          "contourcarpet": [
           {
            "colorbar": {
             "outlinewidth": 0,
             "ticks": ""
            },
            "type": "contourcarpet"
           }
          ],
          "heatmap": [
           {
            "colorbar": {
             "outlinewidth": 0,
             "ticks": ""
            },
            "colorscale": [
             [
              0,
              "#0d0887"
             ],
             [
              0.1111111111111111,
              "#46039f"
             ],
             [
              0.2222222222222222,
              "#7201a8"
             ],
             [
              0.3333333333333333,
              "#9c179e"
             ],
             [
              0.4444444444444444,
              "#bd3786"
             ],
             [
              0.5555555555555556,
              "#d8576b"
             ],
             [
              0.6666666666666666,
              "#ed7953"
             ],
             [
              0.7777777777777778,
              "#fb9f3a"
             ],
             [
              0.8888888888888888,
              "#fdca26"
             ],
             [
              1,
              "#f0f921"
             ]
            ],
            "type": "heatmap"
           }
          ],
          "histogram": [
           {
            "marker": {
             "pattern": {
              "fillmode": "overlay",
              "size": 10,
              "solidity": 0.2
             }
            },
            "type": "histogram"
           }
          ],
          "histogram2d": [
           {
            "colorbar": {
             "outlinewidth": 0,
             "ticks": ""
            },
            "colorscale": [
             [
              0,
              "#0d0887"
             ],
             [
              0.1111111111111111,
              "#46039f"
             ],
             [
              0.2222222222222222,
              "#7201a8"
             ],
             [
              0.3333333333333333,
              "#9c179e"
             ],
             [
              0.4444444444444444,
              "#bd3786"
             ],
             [
              0.5555555555555556,
              "#d8576b"
             ],
             [
              0.6666666666666666,
              "#ed7953"
             ],
             [
              0.7777777777777778,
              "#fb9f3a"
             ],
             [
              0.8888888888888888,
              "#fdca26"
             ],
             [
              1,
              "#f0f921"
             ]
            ],
            "type": "histogram2d"
           }
          ],
          "histogram2dcontour": [
           {
            "colorbar": {
             "outlinewidth": 0,
             "ticks": ""
            },
            "colorscale": [
             [
              0,
              "#0d0887"
             ],
             [
              0.1111111111111111,
              "#46039f"
             ],
             [
              0.2222222222222222,
              "#7201a8"
             ],
             [
              0.3333333333333333,
              "#9c179e"
             ],
             [
              0.4444444444444444,
              "#bd3786"
             ],
             [
              0.5555555555555556,
              "#d8576b"
             ],
             [
              0.6666666666666666,
              "#ed7953"
             ],
             [
              0.7777777777777778,
              "#fb9f3a"
             ],
             [
              0.8888888888888888,
              "#fdca26"
             ],
             [
              1,
              "#f0f921"
             ]
            ],
            "type": "histogram2dcontour"
           }
          ],
          "mesh3d": [
           {
            "colorbar": {
             "outlinewidth": 0,
             "ticks": ""
            },
            "type": "mesh3d"
           }
          ],
          "parcoords": [
           {
            "line": {
             "colorbar": {
              "outlinewidth": 0,
              "ticks": ""
             }
            },
            "type": "parcoords"
           }
          ],
          "pie": [
           {
            "automargin": true,
            "type": "pie"
           }
          ],
          "scatter": [
           {
            "fillpattern": {
             "fillmode": "overlay",
             "size": 10,
             "solidity": 0.2
            },
            "type": "scatter"
           }
          ],
          "scatter3d": [
           {
            "line": {
             "colorbar": {
              "outlinewidth": 0,
              "ticks": ""
             }
            },
            "marker": {
             "colorbar": {
              "outlinewidth": 0,
              "ticks": ""
             }
            },
            "type": "scatter3d"
           }
          ],
          "scattercarpet": [
           {
            "marker": {
             "colorbar": {
              "outlinewidth": 0,
              "ticks": ""
             }
            },
            "type": "scattercarpet"
           }
          ],
          "scattergeo": [
           {
            "marker": {
             "colorbar": {
              "outlinewidth": 0,
              "ticks": ""
             }
            },
            "type": "scattergeo"
           }
          ],
          "scattergl": [
           {
            "marker": {
             "colorbar": {
              "outlinewidth": 0,
              "ticks": ""
             }
            },
            "type": "scattergl"
           }
          ],
          "scattermap": [
           {
            "marker": {
             "colorbar": {
              "outlinewidth": 0,
              "ticks": ""
             }
            },
            "type": "scattermap"
           }
          ],
          "scattermapbox": [
           {
            "marker": {
             "colorbar": {
              "outlinewidth": 0,
              "ticks": ""
             }
            },
            "type": "scattermapbox"
           }
          ],
          "scatterpolar": [
           {
            "marker": {
             "colorbar": {
              "outlinewidth": 0,
              "ticks": ""
             }
            },
            "type": "scatterpolar"
           }
          ],
          "scatterpolargl": [
           {
            "marker": {
             "colorbar": {
              "outlinewidth": 0,
              "ticks": ""
             }
            },
            "type": "scatterpolargl"
           }
          ],
          "scatterternary": [
           {
            "marker": {
             "colorbar": {
              "outlinewidth": 0,
              "ticks": ""
             }
            },
            "type": "scatterternary"
           }
          ],
          "surface": [
           {
            "colorbar": {
             "outlinewidth": 0,
             "ticks": ""
            },
            "colorscale": [
             [
              0,
              "#0d0887"
             ],
             [
              0.1111111111111111,
              "#46039f"
             ],
             [
              0.2222222222222222,
              "#7201a8"
             ],
             [
              0.3333333333333333,
              "#9c179e"
             ],
             [
              0.4444444444444444,
              "#bd3786"
             ],
             [
              0.5555555555555556,
              "#d8576b"
             ],
             [
              0.6666666666666666,
              "#ed7953"
             ],
             [
              0.7777777777777778,
              "#fb9f3a"
             ],
             [
              0.8888888888888888,
              "#fdca26"
             ],
             [
              1,
              "#f0f921"
             ]
            ],
            "type": "surface"
           }
          ],
          "table": [
           {
            "cells": {
             "fill": {
              "color": "#EBF0F8"
             },
             "line": {
              "color": "white"
             }
            },
            "header": {
             "fill": {
              "color": "#C8D4E3"
             },
             "line": {
              "color": "white"
             }
            },
            "type": "table"
           }
          ]
         },
         "layout": {
          "annotationdefaults": {
           "arrowcolor": "#2a3f5f",
           "arrowhead": 0,
           "arrowwidth": 1
          },
          "autotypenumbers": "strict",
          "coloraxis": {
           "colorbar": {
            "outlinewidth": 0,
            "ticks": ""
           }
          },
          "colorscale": {
           "diverging": [
            [
             0,
             "#8e0152"
            ],
            [
             0.1,
             "#c51b7d"
            ],
            [
             0.2,
             "#de77ae"
            ],
            [
             0.3,
             "#f1b6da"
            ],
            [
             0.4,
             "#fde0ef"
            ],
            [
             0.5,
             "#f7f7f7"
            ],
            [
             0.6,
             "#e6f5d0"
            ],
            [
             0.7,
             "#b8e186"
            ],
            [
             0.8,
             "#7fbc41"
            ],
            [
             0.9,
             "#4d9221"
            ],
            [
             1,
             "#276419"
            ]
           ],
           "sequential": [
            [
             0,
             "#0d0887"
            ],
            [
             0.1111111111111111,
             "#46039f"
            ],
            [
             0.2222222222222222,
             "#7201a8"
            ],
            [
             0.3333333333333333,
             "#9c179e"
            ],
            [
             0.4444444444444444,
             "#bd3786"
            ],
            [
             0.5555555555555556,
             "#d8576b"
            ],
            [
             0.6666666666666666,
             "#ed7953"
            ],
            [
             0.7777777777777778,
             "#fb9f3a"
            ],
            [
             0.8888888888888888,
             "#fdca26"
            ],
            [
             1,
             "#f0f921"
            ]
           ],
           "sequentialminus": [
            [
             0,
             "#0d0887"
            ],
            [
             0.1111111111111111,
             "#46039f"
            ],
            [
             0.2222222222222222,
             "#7201a8"
            ],
            [
             0.3333333333333333,
             "#9c179e"
            ],
            [
             0.4444444444444444,
             "#bd3786"
            ],
            [
             0.5555555555555556,
             "#d8576b"
            ],
            [
             0.6666666666666666,
             "#ed7953"
            ],
            [
             0.7777777777777778,
             "#fb9f3a"
            ],
            [
             0.8888888888888888,
             "#fdca26"
            ],
            [
             1,
             "#f0f921"
            ]
           ]
          },
          "colorway": [
           "#636efa",
           "#EF553B",
           "#00cc96",
           "#ab63fa",
           "#FFA15A",
           "#19d3f3",
           "#FF6692",
           "#B6E880",
           "#FF97FF",
           "#FECB52"
          ],
          "font": {
           "color": "#2a3f5f"
          },
          "geo": {
           "bgcolor": "white",
           "lakecolor": "white",
           "landcolor": "white",
           "showlakes": true,
           "showland": true,
           "subunitcolor": "#C8D4E3"
          },
          "hoverlabel": {
           "align": "left"
          },
          "hovermode": "closest",
          "mapbox": {
           "style": "light"
          },
          "paper_bgcolor": "white",
          "plot_bgcolor": "white",
          "polar": {
           "angularaxis": {
            "gridcolor": "#EBF0F8",
            "linecolor": "#EBF0F8",
            "ticks": ""
           },
           "bgcolor": "white",
           "radialaxis": {
            "gridcolor": "#EBF0F8",
            "linecolor": "#EBF0F8",
            "ticks": ""
           }
          },
          "scene": {
           "xaxis": {
            "backgroundcolor": "white",
            "gridcolor": "#DFE8F3",
            "gridwidth": 2,
            "linecolor": "#EBF0F8",
            "showbackground": true,
            "ticks": "",
            "zerolinecolor": "#EBF0F8"
           },
           "yaxis": {
            "backgroundcolor": "white",
            "gridcolor": "#DFE8F3",
            "gridwidth": 2,
            "linecolor": "#EBF0F8",
            "showbackground": true,
            "ticks": "",
            "zerolinecolor": "#EBF0F8"
           },
           "zaxis": {
            "backgroundcolor": "white",
            "gridcolor": "#DFE8F3",
            "gridwidth": 2,
            "linecolor": "#EBF0F8",
            "showbackground": true,
            "ticks": "",
            "zerolinecolor": "#EBF0F8"
           }
          },
          "shapedefaults": {
           "line": {
            "color": "#2a3f5f"
           }
          },
          "ternary": {
           "aaxis": {
            "gridcolor": "#DFE8F3",
            "linecolor": "#A2B1C6",
            "ticks": ""
           },
           "baxis": {
            "gridcolor": "#DFE8F3",
            "linecolor": "#A2B1C6",
            "ticks": ""
           },
           "bgcolor": "white",
           "caxis": {
            "gridcolor": "#DFE8F3",
            "linecolor": "#A2B1C6",
            "ticks": ""
           }
          },
          "title": {
           "x": 0.05
          },
          "xaxis": {
           "automargin": true,
           "gridcolor": "#EBF0F8",
           "linecolor": "#EBF0F8",
           "ticks": "",
           "title": {
            "standoff": 15
           },
           "zerolinecolor": "#EBF0F8",
           "zerolinewidth": 2
          },
          "yaxis": {
           "automargin": true,
           "gridcolor": "#EBF0F8",
           "linecolor": "#EBF0F8",
           "ticks": "",
           "title": {
            "standoff": 15
           },
           "zerolinecolor": "#EBF0F8",
           "zerolinewidth": 2
          }
         }
        },
        "title": {
         "text": "AOV vs Weekly Revenue by Performance Group"
        },
        "xaxis": {
         "anchor": "y",
         "domain": [
          0,
          1
         ],
         "title": {
          "text": "Weekly Revenue"
         }
        },
        "yaxis": {
         "anchor": "x",
         "domain": [
          0,
          1
         ],
         "title": {
          "text": "Average Order Value"
         }
        }
       }
      }
     },
     "metadata": {},
     "output_type": "display_data"
    }
   ],
   "source": [
    "import plotly.express as px\n",
    "\n",
    "# Assume your DataFrame is named df and has columns:\n",
    "# 'WeeklyRevenue', 'AOV', 'label', and 'Performance'\n",
    "\n",
    "fig = px.scatter(\n",
    "   conversion_quality,\n",
    "    x=\"WeeklyRevenue\",\n",
    "    y=\"AOV\",\n",
    "    color=\"Label\",\n",
    "\n",
    "    title=\"AOV vs Weekly Revenue by Performance Group\",\n",
    "    labels={\n",
    "        \"WeeklyRevenue\": \"Weekly Revenue\",\n",
    "        \"AOV\": \"Average Order Value\",\n",
    "        \"label\": \"Label\",\n",
    "        \"Performance\": \"Performance Group\"\n",
    "    },\n",
    "    template=\"plotly_white\"\n",
    ")\n",
    "\n",
    "fig.update_traces(marker=dict(size=10, opacity=0.7), selector=dict(mode='markers'))\n",
    "fig.update_layout(margin=dict(t=60, l=30, r=30, b=30))\n",
    "fig.show()\n"
   ]
  },
  {
   "cell_type": "code",
   "execution_count": null,
   "metadata": {},
   "outputs": [],
   "source": []
  }
 ],
 "metadata": {
  "kernelspec": {
   "display_name": "hm",
   "language": "python",
   "name": "python3"
  },
  "language_info": {
   "codemirror_mode": {
    "name": "ipython",
    "version": 3
   },
   "file_extension": ".py",
   "mimetype": "text/x-python",
   "name": "python",
   "nbconvert_exporter": "python",
   "pygments_lexer": "ipython3",
   "version": "3.12.2"
  }
 },
 "nbformat": 4,
 "nbformat_minor": 2
}
