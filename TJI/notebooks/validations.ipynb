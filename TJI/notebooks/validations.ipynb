{
 "cells": [
  {
   "cell_type": "code",
   "execution_count": 1,
   "metadata": {},
   "outputs": [],
   "source": [
    "import pandas as pd\n",
    "import numpy as np\n"
   ]
  },
  {
   "cell_type": "code",
   "execution_count": 27,
   "metadata": {},
   "outputs": [
    {
     "name": "stderr",
     "output_type": "stream",
     "text": [
      "/var/folders/lg/b8pw7x296y397cn0g302yt680000gp/T/ipykernel_839/3936155120.py:2: DtypeWarning: Columns (1,10,14,15,16) have mixed types. Specify dtype option on import or set low_memory=False.\n",
      "  loyalty_df = pd.read_csv(\"../data/receipt_item-2025010915-fe8603095238452290775091f1eabc2f.csv\", skiprows=1)\n",
      "/var/folders/lg/b8pw7x296y397cn0g302yt680000gp/T/ipykernel_839/3936155120.py:3: DtypeWarning: Columns (14) have mixed types. Specify dtype option on import or set low_memory=False.\n",
      "  transctional_df=pd.read_csv('../data/2023 to 2024 Corp by stores ticket level.csv')\n",
      "/var/folders/lg/b8pw7x296y397cn0g302yt680000gp/T/ipykernel_839/3936155120.py:13: FutureWarning: Parsed string \"January 01, 2023 09:58 AM MST\" included an un-recognized timezone \"MST\". Dropping unrecognized timezones is deprecated; in a future version this will raise. Instead pass the string without the timezone, then use .tz_localize to convert to a recognized timezone.\n",
      "  loyalty_df[datetime_col] = loyalty_df[datetime_col].apply(pd.to_datetime, errors='coerce')\n"
     ]
    },
    {
     "name": "stdout",
     "output_type": "stream",
     "text": [
      "[1008. 1031. 1006. 1003. 1052. 1005. 2609. 1001. 2620. 1036. 1051. 2616.]\n",
      "[1008. 1006. 1003. 1052. 1005. 1001. 1051.]\n"
     ]
    },
    {
     "name": "stderr",
     "output_type": "stream",
     "text": [
      "/var/folders/lg/b8pw7x296y397cn0g302yt680000gp/T/ipykernel_839/3936155120.py:50: UserWarning: Could not infer format, so each element will be parsed individually, falling back to `dateutil`. To ensure parsing is consistent and as-expected, please specify a format.\n",
      "  transctional_df[datetime_col] = transctional_df[datetime_col].apply(pd.to_datetime, errors='coerce')\n"
     ]
    }
   ],
   "source": [
    "\n",
    "# IMPORT DATA\n",
    "loyalty_df = pd.read_csv(\"../data/receipt_item-2025010915-fe8603095238452290775091f1eabc2f.csv\", skiprows=1)\n",
    "transctional_df=pd.read_csv('../data/2023 to 2024 Corp by stores ticket level.csv')\n",
    "\n",
    "# LOYALTY PREPROCESS\n",
    "\n",
    "\n",
    "datetime_col=['Receipt DateTime']\n",
    "float_col=['Menu Item ID','Quantity','Rate','Transaction Number',\n",
    "'Bar Code','Guest ID','Location ID','Checkin ID','Revenue ID',\n",
    "'Store Number']\n",
    "\n",
    "loyalty_df[datetime_col] = loyalty_df[datetime_col].apply(pd.to_datetime, errors='coerce')\n",
    "loyalty_df[float_col] =loyalty_df[float_col] .apply(pd.to_numeric, errors='coerce')\n",
    "loyalty_df['date']=loyalty_df['Receipt DateTime'].dt.date\n",
    "# loyalty_df['time']=loyalty_df['Receipt DateTime'].dt.time\n",
    "\n",
    "\n",
    "loyalty_df=loyalty_df[loyalty_df['Location Name']!='(CLOSED) Windsor (Royal Vista Cir)']\n",
    "\n",
    "loyalty_df['StoreId'] = loyalty_df['Location Name'].str[-4:]\n",
    "loyalty_df['StoreId']=loyalty_df['StoreId'].astype(float)\n",
    "\n",
    "loyalty_df['time'] = np.where(loyalty_df['StoreId'].isin([1051,1052]),loyalty_df['Receipt DateTime'] + pd.Timedelta(hours=1),loyalty_df['Receipt DateTime'])\n",
    "loyalty_df['time']=pd.to_datetime(loyalty_df['time'])\n",
    "loyalty_df['hour']=loyalty_df['time'].dt.hour\n",
    "loyalty_df['time'] = loyalty_df['time'].dt.time\n",
    "loyalty_df['month']=loyalty_df['Receipt DateTime'].dt.month\n",
    "loyalty_df['year']=loyalty_df['Receipt DateTime'].dt.year\n",
    "\n",
    "\n",
    "loyalty_df=loyalty_df[loyalty_df['Menu Item Type']=='M']\n",
    "store_ids=loyalty_df['StoreId'].unique()\n",
    "print(loyalty_df['StoreId'].unique())\n",
    "loyalty_df=loyalty_df[loyalty_df['StoreId'].isin([1001, 1003, 1005, 1006, 1008, 1051,1052])]\n",
    "print(loyalty_df['StoreId'].unique())\n",
    "\n",
    "# # Concatenate 'StoreID', 'Date', and 'CheckTime' to create 'Key'\n",
    "loyalty_df['Key'] = loyalty_df['StoreId'].astype(str) + \"_\" + loyalty_df['date'].astype(str) + \"_\" + loyalty_df['time'].astype(str)\n",
    "\n",
    "# MAKING SUMMARY TABLE FROM LOYALTY TABLE\n",
    "summary_loyal=loyalty_df.groupby(['Key', 'Checkin ID'])['Menu Item ID'].unique().reset_index()\n",
    "# TRANSACTIONAL DATA PRE_PROCESS\n",
    "\n",
    "datetime_col=['Date','CheckTime']\n",
    "float_col=['StoreId','UniqueCheckId','MenuItemId','PLU']\n",
    "\n",
    "\n",
    "\n",
    "transctional_df[datetime_col] = transctional_df[datetime_col].apply(pd.to_datetime, errors='coerce')\n",
    "transctional_df[float_col] =transctional_df[float_col] .apply(pd.to_numeric, errors='coerce')\n",
    "\n",
    "transctional_df['date']=transctional_df['Date'].dt.date\n",
    "# transctional_df['time']=transctional_df['CheckTime'].dt.time\n",
    "\n",
    "\n",
    "# Add one hour\n",
    "transctional_df['time'] = transctional_df['CheckTime'] + pd.Timedelta(hours=1)\n",
    "transctional_df['hour']=transctional_df['Date'].dt.hour\n",
    "transctional_df['month']=transctional_df['Date'].dt.month\n",
    "transctional_df['year']=transctional_df['Date'].dt.year\n",
    "transctional_df['time'] = transctional_df['CheckTime'].dt.time\n",
    "\n",
    "# Concatenate 'StoreID', 'Date', and 'CheckTime' to create 'Key'\n",
    "transctional_df['Key'] = transctional_df['StoreId'].astype(str) + \"_\" + transctional_df['date'].astype(str) + \"_\" + transctional_df['time'].astype(str)\n",
    "\n",
    "summary_trans=transctional_df.groupby(['Key', 'UniqueCheckId'])['PLU'].unique().reset_index()\n"
   ]
  },
  {
   "cell_type": "code",
   "execution_count": 49,
   "metadata": {},
   "outputs": [
    {
     "data": {
      "text/plain": [
       "Index(['Key', 'Checkin ID', 'list_of_items'], dtype='object')"
      ]
     },
     "execution_count": 49,
     "metadata": {},
     "output_type": "execute_result"
    }
   ],
   "source": [
    "import pandas as pd\n",
    "\n",
    "# Sample DataFrames\n",
    "df1 = summary_loyal.copy()\n",
    "df2 = summary_trans.copy()\n",
    "\n",
    "df1.rename(columns={'Menu Item ID':'list_of_items'},inplace=True)\n",
    "\n",
    "df2.rename(columns={'PLU':'list_of_items'},inplace=True)\n",
    "df1.columns\n"
   ]
  },
  {
   "cell_type": "code",
   "execution_count": 50,
   "metadata": {},
   "outputs": [
    {
     "ename": "KeyboardInterrupt",
     "evalue": "",
     "output_type": "error",
     "traceback": [
      "\u001b[0;31m---------------------------------------------------------------------------\u001b[0m",
      "\u001b[0;31mKeyboardInterrupt\u001b[0m                         Traceback (most recent call last)",
      "Cell \u001b[0;32mIn[50], line 19\u001b[0m\n\u001b[1;32m     16\u001b[0m     \u001b[38;5;28;01mreturn\u001b[39;00m \u001b[38;5;124m'\u001b[39m\u001b[38;5;124mno\u001b[39m\u001b[38;5;124m'\u001b[39m\n\u001b[1;32m     18\u001b[0m \u001b[38;5;66;03m# Apply function to df2\u001b[39;00m\n\u001b[0;32m---> 19\u001b[0m df2[\u001b[38;5;124m'\u001b[39m\u001b[38;5;124mmember\u001b[39m\u001b[38;5;124m'\u001b[39m] \u001b[38;5;241m=\u001b[39m \u001b[43mdf2\u001b[49m\u001b[38;5;241;43m.\u001b[39;49m\u001b[43mapply\u001b[49m\u001b[43m(\u001b[49m\u001b[43mis_subset\u001b[49m\u001b[43m,\u001b[49m\u001b[43m \u001b[49m\u001b[43maxis\u001b[49m\u001b[38;5;241;43m=\u001b[39;49m\u001b[38;5;241;43m1\u001b[39;49m\u001b[43m)\u001b[49m\n\u001b[1;32m     21\u001b[0m \u001b[38;5;66;03m# Drop helper column\u001b[39;00m\n\u001b[1;32m     22\u001b[0m df2\u001b[38;5;241m.\u001b[39mdrop(columns\u001b[38;5;241m=\u001b[39m[\u001b[38;5;124m'\u001b[39m\u001b[38;5;124mlist_of_items_set\u001b[39m\u001b[38;5;124m'\u001b[39m], inplace\u001b[38;5;241m=\u001b[39m\u001b[38;5;28;01mTrue\u001b[39;00m)\n",
      "File \u001b[0;32m~/Desktop/High margin/hm/lib/python3.12/site-packages/pandas/core/frame.py:10374\u001b[0m, in \u001b[0;36mDataFrame.apply\u001b[0;34m(self, func, axis, raw, result_type, args, by_row, engine, engine_kwargs, **kwargs)\u001b[0m\n\u001b[1;32m  10360\u001b[0m \u001b[38;5;28;01mfrom\u001b[39;00m\u001b[38;5;250m \u001b[39m\u001b[38;5;21;01mpandas\u001b[39;00m\u001b[38;5;21;01m.\u001b[39;00m\u001b[38;5;21;01mcore\u001b[39;00m\u001b[38;5;21;01m.\u001b[39;00m\u001b[38;5;21;01mapply\u001b[39;00m\u001b[38;5;250m \u001b[39m\u001b[38;5;28;01mimport\u001b[39;00m frame_apply\n\u001b[1;32m  10362\u001b[0m op \u001b[38;5;241m=\u001b[39m frame_apply(\n\u001b[1;32m  10363\u001b[0m     \u001b[38;5;28mself\u001b[39m,\n\u001b[1;32m  10364\u001b[0m     func\u001b[38;5;241m=\u001b[39mfunc,\n\u001b[0;32m   (...)\u001b[0m\n\u001b[1;32m  10372\u001b[0m     kwargs\u001b[38;5;241m=\u001b[39mkwargs,\n\u001b[1;32m  10373\u001b[0m )\n\u001b[0;32m> 10374\u001b[0m \u001b[38;5;28;01mreturn\u001b[39;00m \u001b[43mop\u001b[49m\u001b[38;5;241;43m.\u001b[39;49m\u001b[43mapply\u001b[49m\u001b[43m(\u001b[49m\u001b[43m)\u001b[49m\u001b[38;5;241m.\u001b[39m__finalize__(\u001b[38;5;28mself\u001b[39m, method\u001b[38;5;241m=\u001b[39m\u001b[38;5;124m\"\u001b[39m\u001b[38;5;124mapply\u001b[39m\u001b[38;5;124m\"\u001b[39m)\n",
      "File \u001b[0;32m~/Desktop/High margin/hm/lib/python3.12/site-packages/pandas/core/apply.py:916\u001b[0m, in \u001b[0;36mFrameApply.apply\u001b[0;34m(self)\u001b[0m\n\u001b[1;32m    913\u001b[0m \u001b[38;5;28;01melif\u001b[39;00m \u001b[38;5;28mself\u001b[39m\u001b[38;5;241m.\u001b[39mraw:\n\u001b[1;32m    914\u001b[0m     \u001b[38;5;28;01mreturn\u001b[39;00m \u001b[38;5;28mself\u001b[39m\u001b[38;5;241m.\u001b[39mapply_raw(engine\u001b[38;5;241m=\u001b[39m\u001b[38;5;28mself\u001b[39m\u001b[38;5;241m.\u001b[39mengine, engine_kwargs\u001b[38;5;241m=\u001b[39m\u001b[38;5;28mself\u001b[39m\u001b[38;5;241m.\u001b[39mengine_kwargs)\n\u001b[0;32m--> 916\u001b[0m \u001b[38;5;28;01mreturn\u001b[39;00m \u001b[38;5;28;43mself\u001b[39;49m\u001b[38;5;241;43m.\u001b[39;49m\u001b[43mapply_standard\u001b[49m\u001b[43m(\u001b[49m\u001b[43m)\u001b[49m\n",
      "File \u001b[0;32m~/Desktop/High margin/hm/lib/python3.12/site-packages/pandas/core/apply.py:1063\u001b[0m, in \u001b[0;36mFrameApply.apply_standard\u001b[0;34m(self)\u001b[0m\n\u001b[1;32m   1061\u001b[0m \u001b[38;5;28;01mdef\u001b[39;00m\u001b[38;5;250m \u001b[39m\u001b[38;5;21mapply_standard\u001b[39m(\u001b[38;5;28mself\u001b[39m):\n\u001b[1;32m   1062\u001b[0m     \u001b[38;5;28;01mif\u001b[39;00m \u001b[38;5;28mself\u001b[39m\u001b[38;5;241m.\u001b[39mengine \u001b[38;5;241m==\u001b[39m \u001b[38;5;124m\"\u001b[39m\u001b[38;5;124mpython\u001b[39m\u001b[38;5;124m\"\u001b[39m:\n\u001b[0;32m-> 1063\u001b[0m         results, res_index \u001b[38;5;241m=\u001b[39m \u001b[38;5;28;43mself\u001b[39;49m\u001b[38;5;241;43m.\u001b[39;49m\u001b[43mapply_series_generator\u001b[49m\u001b[43m(\u001b[49m\u001b[43m)\u001b[49m\n\u001b[1;32m   1064\u001b[0m     \u001b[38;5;28;01melse\u001b[39;00m:\n\u001b[1;32m   1065\u001b[0m         results, res_index \u001b[38;5;241m=\u001b[39m \u001b[38;5;28mself\u001b[39m\u001b[38;5;241m.\u001b[39mapply_series_numba()\n",
      "File \u001b[0;32m~/Desktop/High margin/hm/lib/python3.12/site-packages/pandas/core/apply.py:1081\u001b[0m, in \u001b[0;36mFrameApply.apply_series_generator\u001b[0;34m(self)\u001b[0m\n\u001b[1;32m   1078\u001b[0m \u001b[38;5;28;01mwith\u001b[39;00m option_context(\u001b[38;5;124m\"\u001b[39m\u001b[38;5;124mmode.chained_assignment\u001b[39m\u001b[38;5;124m\"\u001b[39m, \u001b[38;5;28;01mNone\u001b[39;00m):\n\u001b[1;32m   1079\u001b[0m     \u001b[38;5;28;01mfor\u001b[39;00m i, v \u001b[38;5;129;01min\u001b[39;00m \u001b[38;5;28menumerate\u001b[39m(series_gen):\n\u001b[1;32m   1080\u001b[0m         \u001b[38;5;66;03m# ignore SettingWithCopy here in case the user mutates\u001b[39;00m\n\u001b[0;32m-> 1081\u001b[0m         results[i] \u001b[38;5;241m=\u001b[39m \u001b[38;5;28;43mself\u001b[39;49m\u001b[38;5;241;43m.\u001b[39;49m\u001b[43mfunc\u001b[49m\u001b[43m(\u001b[49m\u001b[43mv\u001b[49m\u001b[43m,\u001b[49m\u001b[43m \u001b[49m\u001b[38;5;241;43m*\u001b[39;49m\u001b[38;5;28;43mself\u001b[39;49m\u001b[38;5;241;43m.\u001b[39;49m\u001b[43margs\u001b[49m\u001b[43m,\u001b[49m\u001b[43m \u001b[49m\u001b[38;5;241;43m*\u001b[39;49m\u001b[38;5;241;43m*\u001b[39;49m\u001b[38;5;28;43mself\u001b[39;49m\u001b[38;5;241;43m.\u001b[39;49m\u001b[43mkwargs\u001b[49m\u001b[43m)\u001b[49m\n\u001b[1;32m   1082\u001b[0m         \u001b[38;5;28;01mif\u001b[39;00m \u001b[38;5;28misinstance\u001b[39m(results[i], ABCSeries):\n\u001b[1;32m   1083\u001b[0m             \u001b[38;5;66;03m# If we have a view on v, we need to make a copy because\u001b[39;00m\n\u001b[1;32m   1084\u001b[0m             \u001b[38;5;66;03m#  series_generator will swap out the underlying data\u001b[39;00m\n\u001b[1;32m   1085\u001b[0m             results[i] \u001b[38;5;241m=\u001b[39m results[i]\u001b[38;5;241m.\u001b[39mcopy(deep\u001b[38;5;241m=\u001b[39m\u001b[38;5;28;01mFalse\u001b[39;00m)\n",
      "Cell \u001b[0;32mIn[50], line 13\u001b[0m, in \u001b[0;36mis_subset\u001b[0;34m(row)\u001b[0m\n\u001b[1;32m     12\u001b[0m \u001b[38;5;28;01mdef\u001b[39;00m\u001b[38;5;250m \u001b[39m\u001b[38;5;21mis_subset\u001b[39m(row):\n\u001b[0;32m---> 13\u001b[0m     \u001b[38;5;28;01mfor\u001b[39;00m _, df1_row \u001b[38;5;129;01min\u001b[39;00m df1[\u001b[43mdf1\u001b[49m\u001b[43m[\u001b[49m\u001b[38;5;124;43m'\u001b[39;49m\u001b[38;5;124;43mKey\u001b[39;49m\u001b[38;5;124;43m'\u001b[39;49m\u001b[43m]\u001b[49m\u001b[43m \u001b[49m\u001b[38;5;241;43m==\u001b[39;49m\u001b[43m \u001b[49m\u001b[43mrow\u001b[49m\u001b[43m[\u001b[49m\u001b[38;5;124;43m'\u001b[39;49m\u001b[38;5;124;43mKey\u001b[39;49m\u001b[38;5;124;43m'\u001b[39;49m\u001b[43m]\u001b[49m]\u001b[38;5;241m.\u001b[39miterrows():\n\u001b[1;32m     14\u001b[0m         \u001b[38;5;28;01mif\u001b[39;00m df1_row[\u001b[38;5;124m'\u001b[39m\u001b[38;5;124mlist_of_items_set\u001b[39m\u001b[38;5;124m'\u001b[39m]\u001b[38;5;241m.\u001b[39missubset(row[\u001b[38;5;124m'\u001b[39m\u001b[38;5;124mlist_of_items_set\u001b[39m\u001b[38;5;124m'\u001b[39m]):\n\u001b[1;32m     15\u001b[0m             \u001b[38;5;28;01mreturn\u001b[39;00m \u001b[38;5;124m'\u001b[39m\u001b[38;5;124myes\u001b[39m\u001b[38;5;124m'\u001b[39m\n",
      "File \u001b[0;32m~/Desktop/High margin/hm/lib/python3.12/site-packages/pandas/core/ops/common.py:76\u001b[0m, in \u001b[0;36m_unpack_zerodim_and_defer.<locals>.new_method\u001b[0;34m(self, other)\u001b[0m\n\u001b[1;32m     72\u001b[0m             \u001b[38;5;28;01mreturn\u001b[39;00m \u001b[38;5;28mNotImplemented\u001b[39m\n\u001b[1;32m     74\u001b[0m other \u001b[38;5;241m=\u001b[39m item_from_zerodim(other)\n\u001b[0;32m---> 76\u001b[0m \u001b[38;5;28;01mreturn\u001b[39;00m \u001b[43mmethod\u001b[49m\u001b[43m(\u001b[49m\u001b[38;5;28;43mself\u001b[39;49m\u001b[43m,\u001b[49m\u001b[43m \u001b[49m\u001b[43mother\u001b[49m\u001b[43m)\u001b[49m\n",
      "File \u001b[0;32m~/Desktop/High margin/hm/lib/python3.12/site-packages/pandas/core/arraylike.py:40\u001b[0m, in \u001b[0;36mOpsMixin.__eq__\u001b[0;34m(self, other)\u001b[0m\n\u001b[1;32m     38\u001b[0m \u001b[38;5;129m@unpack_zerodim_and_defer\u001b[39m(\u001b[38;5;124m\"\u001b[39m\u001b[38;5;124m__eq__\u001b[39m\u001b[38;5;124m\"\u001b[39m)\n\u001b[1;32m     39\u001b[0m \u001b[38;5;28;01mdef\u001b[39;00m\u001b[38;5;250m \u001b[39m\u001b[38;5;21m__eq__\u001b[39m(\u001b[38;5;28mself\u001b[39m, other):\n\u001b[0;32m---> 40\u001b[0m     \u001b[38;5;28;01mreturn\u001b[39;00m \u001b[38;5;28;43mself\u001b[39;49m\u001b[38;5;241;43m.\u001b[39;49m\u001b[43m_cmp_method\u001b[49m\u001b[43m(\u001b[49m\u001b[43mother\u001b[49m\u001b[43m,\u001b[49m\u001b[43m \u001b[49m\u001b[43moperator\u001b[49m\u001b[38;5;241;43m.\u001b[39;49m\u001b[43meq\u001b[49m\u001b[43m)\u001b[49m\n",
      "File \u001b[0;32m~/Desktop/High margin/hm/lib/python3.12/site-packages/pandas/core/series.py:6119\u001b[0m, in \u001b[0;36mSeries._cmp_method\u001b[0;34m(self, other, op)\u001b[0m\n\u001b[1;32m   6116\u001b[0m lvalues \u001b[38;5;241m=\u001b[39m \u001b[38;5;28mself\u001b[39m\u001b[38;5;241m.\u001b[39m_values\n\u001b[1;32m   6117\u001b[0m rvalues \u001b[38;5;241m=\u001b[39m extract_array(other, extract_numpy\u001b[38;5;241m=\u001b[39m\u001b[38;5;28;01mTrue\u001b[39;00m, extract_range\u001b[38;5;241m=\u001b[39m\u001b[38;5;28;01mTrue\u001b[39;00m)\n\u001b[0;32m-> 6119\u001b[0m res_values \u001b[38;5;241m=\u001b[39m \u001b[43mops\u001b[49m\u001b[38;5;241;43m.\u001b[39;49m\u001b[43mcomparison_op\u001b[49m\u001b[43m(\u001b[49m\u001b[43mlvalues\u001b[49m\u001b[43m,\u001b[49m\u001b[43m \u001b[49m\u001b[43mrvalues\u001b[49m\u001b[43m,\u001b[49m\u001b[43m \u001b[49m\u001b[43mop\u001b[49m\u001b[43m)\u001b[49m\n\u001b[1;32m   6121\u001b[0m \u001b[38;5;28;01mreturn\u001b[39;00m \u001b[38;5;28mself\u001b[39m\u001b[38;5;241m.\u001b[39m_construct_result(res_values, name\u001b[38;5;241m=\u001b[39mres_name)\n",
      "File \u001b[0;32m~/Desktop/High margin/hm/lib/python3.12/site-packages/pandas/core/ops/array_ops.py:344\u001b[0m, in \u001b[0;36mcomparison_op\u001b[0;34m(left, right, op)\u001b[0m\n\u001b[1;32m    341\u001b[0m     \u001b[38;5;28;01mreturn\u001b[39;00m invalid_comparison(lvalues, rvalues, op)\n\u001b[1;32m    343\u001b[0m \u001b[38;5;28;01melif\u001b[39;00m lvalues\u001b[38;5;241m.\u001b[39mdtype \u001b[38;5;241m==\u001b[39m \u001b[38;5;28mobject\u001b[39m \u001b[38;5;129;01mor\u001b[39;00m \u001b[38;5;28misinstance\u001b[39m(rvalues, \u001b[38;5;28mstr\u001b[39m):\n\u001b[0;32m--> 344\u001b[0m     res_values \u001b[38;5;241m=\u001b[39m \u001b[43mcomp_method_OBJECT_ARRAY\u001b[49m\u001b[43m(\u001b[49m\u001b[43mop\u001b[49m\u001b[43m,\u001b[49m\u001b[43m \u001b[49m\u001b[43mlvalues\u001b[49m\u001b[43m,\u001b[49m\u001b[43m \u001b[49m\u001b[43mrvalues\u001b[49m\u001b[43m)\u001b[49m\n\u001b[1;32m    346\u001b[0m \u001b[38;5;28;01melse\u001b[39;00m:\n\u001b[1;32m    347\u001b[0m     res_values \u001b[38;5;241m=\u001b[39m _na_arithmetic_op(lvalues, rvalues, op, is_cmp\u001b[38;5;241m=\u001b[39m\u001b[38;5;28;01mTrue\u001b[39;00m)\n",
      "File \u001b[0;32m~/Desktop/High margin/hm/lib/python3.12/site-packages/pandas/core/ops/array_ops.py:129\u001b[0m, in \u001b[0;36mcomp_method_OBJECT_ARRAY\u001b[0;34m(op, x, y)\u001b[0m\n\u001b[1;32m    127\u001b[0m     result \u001b[38;5;241m=\u001b[39m libops\u001b[38;5;241m.\u001b[39mvec_compare(x\u001b[38;5;241m.\u001b[39mravel(), y\u001b[38;5;241m.\u001b[39mravel(), op)\n\u001b[1;32m    128\u001b[0m \u001b[38;5;28;01melse\u001b[39;00m:\n\u001b[0;32m--> 129\u001b[0m     result \u001b[38;5;241m=\u001b[39m \u001b[43mlibops\u001b[49m\u001b[38;5;241;43m.\u001b[39;49m\u001b[43mscalar_compare\u001b[49m\u001b[43m(\u001b[49m\u001b[43mx\u001b[49m\u001b[38;5;241;43m.\u001b[39;49m\u001b[43mravel\u001b[49m\u001b[43m(\u001b[49m\u001b[43m)\u001b[49m\u001b[43m,\u001b[49m\u001b[43m \u001b[49m\u001b[43my\u001b[49m\u001b[43m,\u001b[49m\u001b[43m \u001b[49m\u001b[43mop\u001b[49m\u001b[43m)\u001b[49m\n\u001b[1;32m    130\u001b[0m \u001b[38;5;28;01mreturn\u001b[39;00m result\u001b[38;5;241m.\u001b[39mreshape(x\u001b[38;5;241m.\u001b[39mshape)\n",
      "\u001b[0;31mKeyboardInterrupt\u001b[0m: "
     ]
    }
   ],
   "source": [
    "import pandas as pd\n",
    "\n",
    "# Sample DataFrames\n",
    "\n",
    "# df1=df1[df1['Key']=='1005.0_2024-04-10_13:35:00']\n",
    "# df2=df2[df2['Key']=='1005.0_2024-04-10_13:35:00']\n",
    "# Convert list_of_items to sets for subset checking\n",
    "df1['list_of_items_set'] = df1['list_of_items'].apply(set)\n",
    "df2['list_of_items_set'] = df2['list_of_items'].apply(set)\n",
    "\n",
    "# Function to check if any key-list combination from df1 is a subset in df2\n",
    "def is_subset(row):\n",
    "    for _, df1_row in df1[df1['Key'] == row['Key']].iterrows():\n",
    "        if df1_row['list_of_items_set'].issubset(row['list_of_items_set']):\n",
    "            return 'yes'\n",
    "    return 'no'\n",
    "\n",
    "# Apply function to df2\n",
    "df2['member'] = df2.apply(is_subset, axis=1)\n",
    "\n",
    "# Drop helper column\n",
    "df2.drop(columns=['list_of_items_set'], inplace=True)\n",
    "\n",
    "# Display result\n",
    "df2.shape\n"
   ]
  },
  {
   "cell_type": "code",
   "execution_count": 48,
   "metadata": {},
   "outputs": [
    {
     "data": {
      "text/html": [
       "<div>\n",
       "<style scoped>\n",
       "    .dataframe tbody tr th:only-of-type {\n",
       "        vertical-align: middle;\n",
       "    }\n",
       "\n",
       "    .dataframe tbody tr th {\n",
       "        vertical-align: top;\n",
       "    }\n",
       "\n",
       "    .dataframe thead th {\n",
       "        text-align: right;\n",
       "    }\n",
       "</style>\n",
       "<table border=\"1\" class=\"dataframe\">\n",
       "  <thead>\n",
       "    <tr style=\"text-align: right;\">\n",
       "      <th></th>\n",
       "      <th>Key</th>\n",
       "      <th>UniqueCheckId</th>\n",
       "      <th>list_of_items</th>\n",
       "      <th>member</th>\n",
       "    </tr>\n",
       "  </thead>\n",
       "  <tbody>\n",
       "    <tr>\n",
       "      <th>669082</th>\n",
       "      <td>1005.0_2024-04-10_13:35:00</td>\n",
       "      <td>10124010052040</td>\n",
       "      <td>[58843.0, 59388.0]</td>\n",
       "      <td>no</td>\n",
       "    </tr>\n",
       "    <tr>\n",
       "      <th>669083</th>\n",
       "      <td>1005.0_2024-04-10_13:35:00</td>\n",
       "      <td>10124010053191</td>\n",
       "      <td>[52075.0, 51893.0]</td>\n",
       "      <td>yes</td>\n",
       "    </tr>\n",
       "  </tbody>\n",
       "</table>\n",
       "</div>"
      ],
      "text/plain": [
       "                               Key   UniqueCheckId       list_of_items member\n",
       "669082  1005.0_2024-04-10_13:35:00  10124010052040  [58843.0, 59388.0]     no\n",
       "669083  1005.0_2024-04-10_13:35:00  10124010053191  [52075.0, 51893.0]    yes"
      ]
     },
     "execution_count": 48,
     "metadata": {},
     "output_type": "execute_result"
    }
   ],
   "source": [
    "df2\n",
    "\n"
   ]
  },
  {
   "cell_type": "code",
   "execution_count": null,
   "metadata": {},
   "outputs": [],
   "source": [
    "df2[df2['Key']=='1005.0_2024-04-10_13:35:00']\n"
   ]
  },
  {
   "cell_type": "code",
   "execution_count": null,
   "metadata": {},
   "outputs": [],
   "source": []
  },
  {
   "cell_type": "code",
   "execution_count": 3,
   "metadata": {},
   "outputs": [],
   "source": [
    "A = set(loyalty_df['Key'].unique())\n",
    "B = set(transctional_df['Key'].unique())\n",
    "\n",
    "# Compute the difference\n",
    "difference = list(A - B)\n",
    "\n"
   ]
  },
  {
   "cell_type": "code",
   "execution_count": 4,
   "metadata": {},
   "outputs": [
    {
     "name": "stderr",
     "output_type": "stream",
     "text": [
      "/var/folders/lg/b8pw7x296y397cn0g302yt680000gp/T/ipykernel_839/233877256.py:1: DtypeWarning: Columns (0,3,4,5,7,8,9,10,13,17,18,21,22,23) have mixed types. Specify dtype option on import or set low_memory=False.\n",
      "  processed_df= pd.read_csv(\"output1.csv\")\n"
     ]
    }
   ],
   "source": [
    "processed_df= pd.read_csv(\"output1.csv\") \n"
   ]
  },
  {
   "cell_type": "code",
   "execution_count": 5,
   "metadata": {},
   "outputs": [
    {
     "data": {
      "text/plain": [
       "(8448883, 25)"
      ]
     },
     "execution_count": 5,
     "metadata": {},
     "output_type": "execute_result"
    }
   ],
   "source": [
    "transctional_df[\"Key\"].nunique()\n",
    "transctional_df.shape\n"
   ]
  },
  {
   "cell_type": "code",
   "execution_count": 6,
   "metadata": {},
   "outputs": [
    {
     "data": {
      "text/plain": [
       "(307173, 26)"
      ]
     },
     "execution_count": 6,
     "metadata": {},
     "output_type": "execute_result"
    }
   ],
   "source": [
    "processed_df[\"Key\"].nunique()\n",
    "processed_df.shape\n"
   ]
  },
  {
   "cell_type": "code",
   "execution_count": 7,
   "metadata": {},
   "outputs": [
    {
     "name": "stderr",
     "output_type": "stream",
     "text": [
      "/var/folders/lg/b8pw7x296y397cn0g302yt680000gp/T/ipykernel_839/4019314980.py:3: SettingWithCopyWarning: \n",
      "A value is trying to be set on a copy of a slice from a DataFrame.\n",
      "Try using .loc[row_indexer,col_indexer] = value instead\n",
      "\n",
      "See the caveats in the documentation: https://pandas.pydata.org/pandas-docs/stable/user_guide/indexing.html#returning-a-view-versus-a-copy\n",
      "  df['loyal_member']=\"yes\"\n"
     ]
    },
    {
     "data": {
      "text/plain": [
       "(385336, 26)"
      ]
     },
     "execution_count": 7,
     "metadata": {},
     "output_type": "execute_result"
    }
   ],
   "source": [
    "df=transctional_df[transctional_df['Key'].isin(list(processed_df['Key']))]\n",
    "df[\"Key\"].nunique()\n",
    "df['loyal_member']=\"yes\"\n",
    "df.shape\n"
   ]
  },
  {
   "cell_type": "code",
   "execution_count": 8,
   "metadata": {},
   "outputs": [
    {
     "name": "stderr",
     "output_type": "stream",
     "text": [
      "/var/folders/lg/b8pw7x296y397cn0g302yt680000gp/T/ipykernel_839/3256302345.py:3: SettingWithCopyWarning: \n",
      "A value is trying to be set on a copy of a slice from a DataFrame.\n",
      "Try using .loc[row_indexer,col_indexer] = value instead\n",
      "\n",
      "See the caveats in the documentation: https://pandas.pydata.org/pandas-docs/stable/user_guide/indexing.html#returning-a-view-versus-a-copy\n",
      "  df1['loyal_member']=\"no\"\n"
     ]
    },
    {
     "data": {
      "text/plain": [
       "(8063547, 26)"
      ]
     },
     "execution_count": 8,
     "metadata": {},
     "output_type": "execute_result"
    }
   ],
   "source": [
    "df1=transctional_df[~transctional_df['Key'].isin(list(processed_df['Key']))]\n",
    "df1[\"Key\"].nunique()\n",
    "df1['loyal_member']=\"no\"\n",
    "df1.shape\n"
   ]
  },
  {
   "cell_type": "code",
   "execution_count": 9,
   "metadata": {},
   "outputs": [
    {
     "data": {
      "text/plain": [
       "8448883"
      ]
     },
     "execution_count": 9,
     "metadata": {},
     "output_type": "execute_result"
    }
   ],
   "source": [
    "8063547+385336\n"
   ]
  },
  {
   "cell_type": "code",
   "execution_count": 10,
   "metadata": {},
   "outputs": [
    {
     "data": {
      "text/plain": [
       "(8448883, 26)"
      ]
     },
     "execution_count": 10,
     "metadata": {},
     "output_type": "execute_result"
    }
   ],
   "source": [
    "\n",
    "result = pd.concat([df, df1])\n",
    "result.shape\n"
   ]
  },
  {
   "cell_type": "code",
   "execution_count": 11,
   "metadata": {},
   "outputs": [
    {
     "data": {
      "text/plain": [
       "10556"
      ]
     },
     "execution_count": 11,
     "metadata": {},
     "output_type": "execute_result"
    }
   ],
   "source": [
    "len(difference)\n"
   ]
  },
  {
   "cell_type": "code",
   "execution_count": 12,
   "metadata": {},
   "outputs": [
    {
     "data": {
      "text/html": [
       "<div>\n",
       "<style scoped>\n",
       "    .dataframe tbody tr th:only-of-type {\n",
       "        vertical-align: middle;\n",
       "    }\n",
       "\n",
       "    .dataframe tbody tr th {\n",
       "        vertical-align: top;\n",
       "    }\n",
       "\n",
       "    .dataframe thead th {\n",
       "        text-align: right;\n",
       "    }\n",
       "</style>\n",
       "<table border=\"1\" class=\"dataframe\">\n",
       "  <thead>\n",
       "    <tr style=\"text-align: right;\">\n",
       "      <th></th>\n",
       "      <th>StoreId</th>\n",
       "      <th>Date</th>\n",
       "      <th>CheckTime</th>\n",
       "      <th>UniqueCheckId</th>\n",
       "      <th>PLU</th>\n",
       "      <th>MenuItemId</th>\n",
       "      <th>MenuItemName</th>\n",
       "      <th>ItemCount</th>\n",
       "      <th>Amount</th>\n",
       "      <th>Tax</th>\n",
       "      <th>...</th>\n",
       "      <th>Order_type</th>\n",
       "      <th>discount_amt</th>\n",
       "      <th>DiscountName</th>\n",
       "      <th>date</th>\n",
       "      <th>time</th>\n",
       "      <th>hour</th>\n",
       "      <th>month</th>\n",
       "      <th>year</th>\n",
       "      <th>Key</th>\n",
       "      <th>loyal_member</th>\n",
       "    </tr>\n",
       "  </thead>\n",
       "  <tbody>\n",
       "    <tr>\n",
       "      <th>111</th>\n",
       "      <td>1006.0</td>\n",
       "      <td>2023-01-05</td>\n",
       "      <td>2025-02-12 09:31:00</td>\n",
       "      <td>523010063</td>\n",
       "      <td>49760.0</td>\n",
       "      <td>843.0</td>\n",
       "      <td>Remove Potato Oles</td>\n",
       "      <td>1.0</td>\n",
       "      <td>0.00</td>\n",
       "      <td>0.00</td>\n",
       "      <td>...</td>\n",
       "      <td>Dine</td>\n",
       "      <td>NaN</td>\n",
       "      <td>NaN</td>\n",
       "      <td>2023-01-05</td>\n",
       "      <td>09:31:00</td>\n",
       "      <td>0.0</td>\n",
       "      <td>1.0</td>\n",
       "      <td>2023.0</td>\n",
       "      <td>1006.0_2023-01-05_09:31:00</td>\n",
       "      <td>yes</td>\n",
       "    </tr>\n",
       "    <tr>\n",
       "      <th>112</th>\n",
       "      <td>1006.0</td>\n",
       "      <td>2023-01-05</td>\n",
       "      <td>2025-02-12 09:31:00</td>\n",
       "      <td>523010063</td>\n",
       "      <td>49762.0</td>\n",
       "      <td>19.0</td>\n",
       "      <td>Meat &amp; Potato Breakfast Burrito - Sausage</td>\n",
       "      <td>1.0</td>\n",
       "      <td>3.79</td>\n",
       "      <td>0.23</td>\n",
       "      <td>...</td>\n",
       "      <td>Dine</td>\n",
       "      <td>NaN</td>\n",
       "      <td>NaN</td>\n",
       "      <td>2023-01-05</td>\n",
       "      <td>09:31:00</td>\n",
       "      <td>0.0</td>\n",
       "      <td>1.0</td>\n",
       "      <td>2023.0</td>\n",
       "      <td>1006.0_2023-01-05_09:31:00</td>\n",
       "      <td>yes</td>\n",
       "    </tr>\n",
       "    <tr>\n",
       "      <th>113</th>\n",
       "      <td>1006.0</td>\n",
       "      <td>2023-01-05</td>\n",
       "      <td>2025-02-12 09:31:00</td>\n",
       "      <td>523010063</td>\n",
       "      <td>50254.0</td>\n",
       "      <td>10.0</td>\n",
       "      <td>Junior Breakfast Burrito - Sausage</td>\n",
       "      <td>1.0</td>\n",
       "      <td>1.69</td>\n",
       "      <td>0.10</td>\n",
       "      <td>...</td>\n",
       "      <td>Dine</td>\n",
       "      <td>NaN</td>\n",
       "      <td>NaN</td>\n",
       "      <td>2023-01-05</td>\n",
       "      <td>09:31:00</td>\n",
       "      <td>0.0</td>\n",
       "      <td>1.0</td>\n",
       "      <td>2023.0</td>\n",
       "      <td>1006.0_2023-01-05_09:31:00</td>\n",
       "      <td>yes</td>\n",
       "    </tr>\n",
       "    <tr>\n",
       "      <th>281</th>\n",
       "      <td>1005.0</td>\n",
       "      <td>2023-02-04</td>\n",
       "      <td>2025-02-12 10:17:00</td>\n",
       "      <td>3523010052</td>\n",
       "      <td>49762.0</td>\n",
       "      <td>19.0</td>\n",
       "      <td>Meat &amp; Potato Breakfast Burrito - Sausage</td>\n",
       "      <td>1.0</td>\n",
       "      <td>3.79</td>\n",
       "      <td>0.18</td>\n",
       "      <td>...</td>\n",
       "      <td>Take</td>\n",
       "      <td>NaN</td>\n",
       "      <td>NaN</td>\n",
       "      <td>2023-02-04</td>\n",
       "      <td>10:17:00</td>\n",
       "      <td>0.0</td>\n",
       "      <td>2.0</td>\n",
       "      <td>2023.0</td>\n",
       "      <td>1005.0_2023-02-04_10:17:00</td>\n",
       "      <td>yes</td>\n",
       "    </tr>\n",
       "    <tr>\n",
       "      <th>282</th>\n",
       "      <td>1005.0</td>\n",
       "      <td>2023-02-04</td>\n",
       "      <td>2025-02-12 10:17:00</td>\n",
       "      <td>3523010052</td>\n",
       "      <td>51893.0</td>\n",
       "      <td>384.0</td>\n",
       "      <td>Large, Drink</td>\n",
       "      <td>1.0</td>\n",
       "      <td>2.69</td>\n",
       "      <td>0.12</td>\n",
       "      <td>...</td>\n",
       "      <td>Take</td>\n",
       "      <td>NaN</td>\n",
       "      <td>NaN</td>\n",
       "      <td>2023-02-04</td>\n",
       "      <td>10:17:00</td>\n",
       "      <td>0.0</td>\n",
       "      <td>2.0</td>\n",
       "      <td>2023.0</td>\n",
       "      <td>1005.0_2023-02-04_10:17:00</td>\n",
       "      <td>yes</td>\n",
       "    </tr>\n",
       "  </tbody>\n",
       "</table>\n",
       "<p>5 rows × 26 columns</p>\n",
       "</div>"
      ],
      "text/plain": [
       "     StoreId       Date           CheckTime  UniqueCheckId      PLU  \\\n",
       "111   1006.0 2023-01-05 2025-02-12 09:31:00      523010063  49760.0   \n",
       "112   1006.0 2023-01-05 2025-02-12 09:31:00      523010063  49762.0   \n",
       "113   1006.0 2023-01-05 2025-02-12 09:31:00      523010063  50254.0   \n",
       "281   1005.0 2023-02-04 2025-02-12 10:17:00     3523010052  49762.0   \n",
       "282   1005.0 2023-02-04 2025-02-12 10:17:00     3523010052  51893.0   \n",
       "\n",
       "     MenuItemId                               MenuItemName  ItemCount  Amount  \\\n",
       "111       843.0                         Remove Potato Oles        1.0    0.00   \n",
       "112        19.0  Meat & Potato Breakfast Burrito - Sausage        1.0    3.79   \n",
       "113        10.0         Junior Breakfast Burrito - Sausage        1.0    1.69   \n",
       "281        19.0  Meat & Potato Breakfast Burrito - Sausage        1.0    3.79   \n",
       "282       384.0                               Large, Drink        1.0    2.69   \n",
       "\n",
       "      Tax  ...  Order_type discount_amt DiscountName        date      time  \\\n",
       "111  0.00  ...        Dine          NaN          NaN  2023-01-05  09:31:00   \n",
       "112  0.23  ...        Dine          NaN          NaN  2023-01-05  09:31:00   \n",
       "113  0.10  ...        Dine          NaN          NaN  2023-01-05  09:31:00   \n",
       "281  0.18  ...        Take          NaN          NaN  2023-02-04  10:17:00   \n",
       "282  0.12  ...        Take          NaN          NaN  2023-02-04  10:17:00   \n",
       "\n",
       "    hour month    year                         Key loyal_member  \n",
       "111  0.0   1.0  2023.0  1006.0_2023-01-05_09:31:00          yes  \n",
       "112  0.0   1.0  2023.0  1006.0_2023-01-05_09:31:00          yes  \n",
       "113  0.0   1.0  2023.0  1006.0_2023-01-05_09:31:00          yes  \n",
       "281  0.0   2.0  2023.0  1005.0_2023-02-04_10:17:00          yes  \n",
       "282  0.0   2.0  2023.0  1005.0_2023-02-04_10:17:00          yes  \n",
       "\n",
       "[5 rows x 26 columns]"
      ]
     },
     "execution_count": 12,
     "metadata": {},
     "output_type": "execute_result"
    }
   ],
   "source": [
    "result.head()\n"
   ]
  },
  {
   "cell_type": "code",
   "execution_count": 13,
   "metadata": {},
   "outputs": [
    {
     "name": "stdout",
     "output_type": "stream",
     "text": [
      "initil no of keys 93573\n",
      "number of common keys 83017\n",
      "keys found in transactional 62617\n",
      "keys found in transactional 75.42671982846886\n"
     ]
    }
   ],
   "source": [
    "# Reduction of datasets\n",
    "#filter keys in loyalty tble that are present in transactionl df, this way we reduce search for non existed keys.=list(set(receipt_item_summary['Key'].unique()) & set(transctional_df['Key'].unique()))\n",
    "#step1: find intersaction of keys bwtween transaction and loyal\n",
    "loyalty_keys=list(set(loyalty_df['Key'].unique()) & set(transctional_df['Key'].unique()))\n",
    "\n",
    "# #step 2: keep only keys that are in transation\n",
    "summary_loyal_filtered=loyalty_df[loyalty_df['Key'].isin(loyalty_keys)]\n",
    "\n",
    "# step 3: check the unique keys\n",
    "print('initil no of keys',loyalty_df['Key'].nunique())\n",
    "print('number of common keys',summary_loyal_filtered['Key'].nunique())\n",
    "\n",
    "# print('within common keys, no of unique Checkin ID in loyalty table are:', summary_loyal['Checkin ID'].nunique())\n",
    "# print('within common keys, no of unique UniqueCheckId in transactional table are:', transctional_df[transctional_df['Key'].isin(loyalty_keys)]['UniqueCheckId'].nunique())\n",
    "\n",
    "\n",
    "print('keys found in transactional',result[result['loyal_member']=='yes']['Key'].nunique())\n",
    "print('keys found in transactional',((result[result['loyal_member']=='yes']['Key'].nunique())/83017)*100)\n"
   ]
  },
  {
   "cell_type": "code",
   "execution_count": 14,
   "metadata": {},
   "outputs": [],
   "source": [
    "# set(result[result['loyal_member']=='yes']['Key'].unique()) - set(summary_loyal_filtered['Key'].unique())\n",
    "\n"
   ]
  },
  {
   "cell_type": "code",
   "execution_count": 15,
   "metadata": {},
   "outputs": [],
   "source": [
    "# result.to_csv('result.csv')\n"
   ]
  },
  {
   "cell_type": "code",
   "execution_count": 16,
   "metadata": {},
   "outputs": [],
   "source": [
    "import csv\n",
    "with open('result.csv', 'w', newline='') as f:\n",
    "    writer = csv.writer(f)\n",
    "    writer.writerow(result.columns)  # Write header\n",
    "    for index, row in result.iterrows():\n",
    "        writer.writerow(row.astype(str))  # Convert row to string before writing\n"
   ]
  },
  {
   "cell_type": "code",
   "execution_count": 17,
   "metadata": {},
   "outputs": [
    {
     "name": "stderr",
     "output_type": "stream",
     "text": [
      "/var/folders/lg/b8pw7x296y397cn0g302yt680000gp/T/ipykernel_839/1668785167.py:1: DtypeWarning: Columns (14,18) have mixed types. Specify dtype option on import or set low_memory=False.\n",
      "  d=pd.read_csv('result.csv')\n"
     ]
    }
   ],
   "source": [
    "d=pd.read_csv('result.csv')\n"
   ]
  },
  {
   "cell_type": "code",
   "execution_count": 18,
   "metadata": {},
   "outputs": [
    {
     "data": {
      "text/plain": [
       "array(['yes', 'no'], dtype=object)"
      ]
     },
     "execution_count": 18,
     "metadata": {},
     "output_type": "execute_result"
    }
   ],
   "source": [
    "d['loyal_member'].unique()\n"
   ]
  },
  {
   "cell_type": "code",
   "execution_count": 38,
   "metadata": {},
   "outputs": [
    {
     "data": {
      "text/plain": [
       "80375"
      ]
     },
     "execution_count": 38,
     "metadata": {},
     "output_type": "execute_result"
    }
   ],
   "source": [
    "result[result['loyal_member']=='yes']['UniqueCheckId'].nunique()\n"
   ]
  },
  {
   "cell_type": "code",
   "execution_count": 20,
   "metadata": {},
   "outputs": [
    {
     "data": {
      "text/html": [
       "<div>\n",
       "<style scoped>\n",
       "    .dataframe tbody tr th:only-of-type {\n",
       "        vertical-align: middle;\n",
       "    }\n",
       "\n",
       "    .dataframe tbody tr th {\n",
       "        vertical-align: top;\n",
       "    }\n",
       "\n",
       "    .dataframe thead th {\n",
       "        text-align: right;\n",
       "    }\n",
       "</style>\n",
       "<table border=\"1\" class=\"dataframe\">\n",
       "  <thead>\n",
       "    <tr style=\"text-align: right;\">\n",
       "      <th></th>\n",
       "      <th>Key</th>\n",
       "      <th>UniqueCheckId</th>\n",
       "      <th>loyal_member</th>\n",
       "      <th>PLU</th>\n",
       "    </tr>\n",
       "  </thead>\n",
       "  <tbody>\n",
       "    <tr>\n",
       "      <th>0</th>\n",
       "      <td>1001.0_2023-01-01_09:57:00</td>\n",
       "      <td>123010012000</td>\n",
       "      <td>no</td>\n",
       "      <td>[51892.0, 51891.0, 49098.0, 50420.0]</td>\n",
       "    </tr>\n",
       "    <tr>\n",
       "      <th>1</th>\n",
       "      <td>1001.0_2023-01-01_10:01:00</td>\n",
       "      <td>123010014000</td>\n",
       "      <td>no</td>\n",
       "      <td>[50064.0, 47478.0]</td>\n",
       "    </tr>\n",
       "    <tr>\n",
       "      <th>2</th>\n",
       "      <td>1001.0_2023-01-01_10:02:00</td>\n",
       "      <td>123010014001</td>\n",
       "      <td>no</td>\n",
       "      <td>[49016.0, 49762.0, 47478.0, 49761.0, 50064.0]</td>\n",
       "    </tr>\n",
       "    <tr>\n",
       "      <th>3</th>\n",
       "      <td>1001.0_2023-01-01_10:04:00</td>\n",
       "      <td>123010014002</td>\n",
       "      <td>no</td>\n",
       "      <td>[51892.0, 47478.0, 52071.0]</td>\n",
       "    </tr>\n",
       "    <tr>\n",
       "      <th>4</th>\n",
       "      <td>1001.0_2023-01-01_10:05:00</td>\n",
       "      <td>123010013000</td>\n",
       "      <td>no</td>\n",
       "      <td>[52061.0, 51891.0, 50396.0, 49083.0, 52588.0]</td>\n",
       "    </tr>\n",
       "    <tr>\n",
       "      <th>...</th>\n",
       "      <td>...</td>\n",
       "      <td>...</td>\n",
       "      <td>...</td>\n",
       "      <td>...</td>\n",
       "    </tr>\n",
       "    <tr>\n",
       "      <th>1817388</th>\n",
       "      <td>nan_NaT_NaT</td>\n",
       "      <td>3662401052140329385</td>\n",
       "      <td>no</td>\n",
       "      <td>[nan]</td>\n",
       "    </tr>\n",
       "    <tr>\n",
       "      <th>1817389</th>\n",
       "      <td>nan_NaT_NaT</td>\n",
       "      <td>3662401052160209971</td>\n",
       "      <td>no</td>\n",
       "      <td>[nan]</td>\n",
       "    </tr>\n",
       "    <tr>\n",
       "      <th>1817390</th>\n",
       "      <td>nan_NaT_NaT</td>\n",
       "      <td>3662401052174231602</td>\n",
       "      <td>no</td>\n",
       "      <td>[nan]</td>\n",
       "    </tr>\n",
       "    <tr>\n",
       "      <th>1817391</th>\n",
       "      <td>nan_NaT_NaT</td>\n",
       "      <td>3662401052175922941</td>\n",
       "      <td>no</td>\n",
       "      <td>[nan]</td>\n",
       "    </tr>\n",
       "    <tr>\n",
       "      <th>1817392</th>\n",
       "      <td>nan_NaT_NaT</td>\n",
       "      <td>3662401052193022041</td>\n",
       "      <td>no</td>\n",
       "      <td>[nan]</td>\n",
       "    </tr>\n",
       "  </tbody>\n",
       "</table>\n",
       "<p>1817393 rows × 4 columns</p>\n",
       "</div>"
      ],
      "text/plain": [
       "                                Key        UniqueCheckId loyal_member  \\\n",
       "0        1001.0_2023-01-01_09:57:00         123010012000           no   \n",
       "1        1001.0_2023-01-01_10:01:00         123010014000           no   \n",
       "2        1001.0_2023-01-01_10:02:00         123010014001           no   \n",
       "3        1001.0_2023-01-01_10:04:00         123010014002           no   \n",
       "4        1001.0_2023-01-01_10:05:00         123010013000           no   \n",
       "...                             ...                  ...          ...   \n",
       "1817388                 nan_NaT_NaT  3662401052140329385           no   \n",
       "1817389                 nan_NaT_NaT  3662401052160209971           no   \n",
       "1817390                 nan_NaT_NaT  3662401052174231602           no   \n",
       "1817391                 nan_NaT_NaT  3662401052175922941           no   \n",
       "1817392                 nan_NaT_NaT  3662401052193022041           no   \n",
       "\n",
       "                                                   PLU  \n",
       "0                 [51892.0, 51891.0, 49098.0, 50420.0]  \n",
       "1                                   [50064.0, 47478.0]  \n",
       "2        [49016.0, 49762.0, 47478.0, 49761.0, 50064.0]  \n",
       "3                          [51892.0, 47478.0, 52071.0]  \n",
       "4        [52061.0, 51891.0, 50396.0, 49083.0, 52588.0]  \n",
       "...                                                ...  \n",
       "1817388                                          [nan]  \n",
       "1817389                                          [nan]  \n",
       "1817390                                          [nan]  \n",
       "1817391                                          [nan]  \n",
       "1817392                                          [nan]  \n",
       "\n",
       "[1817393 rows x 4 columns]"
      ]
     },
     "execution_count": 20,
     "metadata": {},
     "output_type": "execute_result"
    }
   ],
   "source": [
    "\n",
    "summary_processed=result.groupby(['Key', 'UniqueCheckId','loyal_member'])['PLU'].unique().reset_index()\n",
    "summary_processed\n"
   ]
  },
  {
   "cell_type": "code",
   "execution_count": 33,
   "metadata": {},
   "outputs": [
    {
     "data": {
      "text/html": [
       "<div>\n",
       "<style scoped>\n",
       "    .dataframe tbody tr th:only-of-type {\n",
       "        vertical-align: middle;\n",
       "    }\n",
       "\n",
       "    .dataframe tbody tr th {\n",
       "        vertical-align: top;\n",
       "    }\n",
       "\n",
       "    .dataframe thead th {\n",
       "        text-align: right;\n",
       "    }\n",
       "</style>\n",
       "<table border=\"1\" class=\"dataframe\">\n",
       "  <thead>\n",
       "    <tr style=\"text-align: right;\">\n",
       "      <th></th>\n",
       "      <th>Key</th>\n",
       "      <th>UniqueCheckId</th>\n",
       "      <th>loyal_member</th>\n",
       "      <th>PLU</th>\n",
       "    </tr>\n",
       "  </thead>\n",
       "  <tbody>\n",
       "    <tr>\n",
       "      <th>669082</th>\n",
       "      <td>1005.0_2024-04-10_13:35:00</td>\n",
       "      <td>10124010052040</td>\n",
       "      <td>yes</td>\n",
       "      <td>[58843.0, 59388.0]</td>\n",
       "    </tr>\n",
       "    <tr>\n",
       "      <th>669083</th>\n",
       "      <td>1005.0_2024-04-10_13:35:00</td>\n",
       "      <td>10124010053191</td>\n",
       "      <td>yes</td>\n",
       "      <td>[52075.0, 51893.0]</td>\n",
       "    </tr>\n",
       "  </tbody>\n",
       "</table>\n",
       "</div>"
      ],
      "text/plain": [
       "                               Key   UniqueCheckId loyal_member  \\\n",
       "669082  1005.0_2024-04-10_13:35:00  10124010052040          yes   \n",
       "669083  1005.0_2024-04-10_13:35:00  10124010053191          yes   \n",
       "\n",
       "                       PLU  \n",
       "669082  [58843.0, 59388.0]  \n",
       "669083  [52075.0, 51893.0]  "
      ]
     },
     "execution_count": 33,
     "metadata": {},
     "output_type": "execute_result"
    }
   ],
   "source": [
    "summary_processed[summary_processed['Key']=='1005.0_2024-04-10_13:35:00']\n",
    "\n",
    "\n"
   ]
  },
  {
   "cell_type": "code",
   "execution_count": 34,
   "metadata": {},
   "outputs": [
    {
     "data": {
      "text/html": [
       "<div>\n",
       "<style scoped>\n",
       "    .dataframe tbody tr th:only-of-type {\n",
       "        vertical-align: middle;\n",
       "    }\n",
       "\n",
       "    .dataframe tbody tr th {\n",
       "        vertical-align: top;\n",
       "    }\n",
       "\n",
       "    .dataframe thead th {\n",
       "        text-align: right;\n",
       "    }\n",
       "</style>\n",
       "<table border=\"1\" class=\"dataframe\">\n",
       "  <thead>\n",
       "    <tr style=\"text-align: right;\">\n",
       "      <th></th>\n",
       "      <th>Key</th>\n",
       "      <th>UniqueCheckId</th>\n",
       "      <th>PLU</th>\n",
       "    </tr>\n",
       "  </thead>\n",
       "  <tbody>\n",
       "    <tr>\n",
       "      <th>669082</th>\n",
       "      <td>1005.0_2024-04-10_13:35:00</td>\n",
       "      <td>10124010052040</td>\n",
       "      <td>[58843.0, 59388.0]</td>\n",
       "    </tr>\n",
       "    <tr>\n",
       "      <th>669083</th>\n",
       "      <td>1005.0_2024-04-10_13:35:00</td>\n",
       "      <td>10124010053191</td>\n",
       "      <td>[52075.0, 51893.0]</td>\n",
       "    </tr>\n",
       "  </tbody>\n",
       "</table>\n",
       "</div>"
      ],
      "text/plain": [
       "                               Key   UniqueCheckId                 PLU\n",
       "669082  1005.0_2024-04-10_13:35:00  10124010052040  [58843.0, 59388.0]\n",
       "669083  1005.0_2024-04-10_13:35:00  10124010053191  [52075.0, 51893.0]"
      ]
     },
     "execution_count": 34,
     "metadata": {},
     "output_type": "execute_result"
    }
   ],
   "source": [
    "\n",
    "summary_trans[summary_trans['Key']=='1005.0_2024-04-10_13:35:00']\n"
   ]
  },
  {
   "cell_type": "code",
   "execution_count": 35,
   "metadata": {},
   "outputs": [
    {
     "data": {
      "text/html": [
       "<div>\n",
       "<style scoped>\n",
       "    .dataframe tbody tr th:only-of-type {\n",
       "        vertical-align: middle;\n",
       "    }\n",
       "\n",
       "    .dataframe tbody tr th {\n",
       "        vertical-align: top;\n",
       "    }\n",
       "\n",
       "    .dataframe thead th {\n",
       "        text-align: right;\n",
       "    }\n",
       "</style>\n",
       "<table border=\"1\" class=\"dataframe\">\n",
       "  <thead>\n",
       "    <tr style=\"text-align: right;\">\n",
       "      <th></th>\n",
       "      <th>Key</th>\n",
       "      <th>Checkin ID</th>\n",
       "      <th>Menu Item ID</th>\n",
       "    </tr>\n",
       "  </thead>\n",
       "  <tbody>\n",
       "    <tr>\n",
       "      <th>39942</th>\n",
       "      <td>1005.0_2024-04-10_13:35:00</td>\n",
       "      <td>1358440598</td>\n",
       "      <td>[51893.0, 52075.0]</td>\n",
       "    </tr>\n",
       "  </tbody>\n",
       "</table>\n",
       "</div>"
      ],
      "text/plain": [
       "                              Key  Checkin ID        Menu Item ID\n",
       "39942  1005.0_2024-04-10_13:35:00  1358440598  [51893.0, 52075.0]"
      ]
     },
     "execution_count": 35,
     "metadata": {},
     "output_type": "execute_result"
    }
   ],
   "source": [
    "\n",
    "summary_loyal[summary_loyal['Key']=='1005.0_2024-04-10_13:35:00']\n",
    "\n"
   ]
  },
  {
   "cell_type": "code",
   "execution_count": 30,
   "metadata": {},
   "outputs": [
    {
     "data": {
      "text/html": [
       "<div>\n",
       "<style scoped>\n",
       "    .dataframe tbody tr th:only-of-type {\n",
       "        vertical-align: middle;\n",
       "    }\n",
       "\n",
       "    .dataframe tbody tr th {\n",
       "        vertical-align: top;\n",
       "    }\n",
       "\n",
       "    .dataframe thead th {\n",
       "        text-align: right;\n",
       "    }\n",
       "</style>\n",
       "<table border=\"1\" class=\"dataframe\">\n",
       "  <thead>\n",
       "    <tr style=\"text-align: right;\">\n",
       "      <th></th>\n",
       "      <th>Transaction Number</th>\n",
       "      <th>Bar Code</th>\n",
       "      <th>Guest ID</th>\n",
       "      <th>Location ID</th>\n",
       "      <th>Checkin ID</th>\n",
       "      <th>Receipt DateTime</th>\n",
       "      <th>Revenue ID</th>\n",
       "      <th>Revenue Code</th>\n",
       "      <th>Location Name</th>\n",
       "      <th>Store Number</th>\n",
       "      <th>...</th>\n",
       "      <th>Menu Item Group</th>\n",
       "      <th>Quantity</th>\n",
       "      <th>Rate</th>\n",
       "      <th>date</th>\n",
       "      <th>StoreId</th>\n",
       "      <th>time</th>\n",
       "      <th>hour</th>\n",
       "      <th>month</th>\n",
       "      <th>year</th>\n",
       "      <th>Key</th>\n",
       "    </tr>\n",
       "  </thead>\n",
       "  <tbody>\n",
       "  </tbody>\n",
       "</table>\n",
       "<p>0 rows × 25 columns</p>\n",
       "</div>"
      ],
      "text/plain": [
       "Empty DataFrame\n",
       "Columns: [Transaction Number, Bar Code, Guest ID, Location ID, Checkin ID, Receipt DateTime, Revenue ID, Revenue Code, Location Name, Store Number, Menu Item ID, Menu Item Name, Amount, Menu Item Type, Menu Item Family, Menu Item Group, Quantity, Rate, date, StoreId, time, hour, month, year, Key]\n",
       "Index: []\n",
       "\n",
       "[0 rows x 25 columns]"
      ]
     },
     "execution_count": 30,
     "metadata": {},
     "output_type": "execute_result"
    }
   ],
   "source": [
    "loyalty_df[loyalty_df['Key']=='1001.0_2023-01-01_10:05:00']\n"
   ]
  },
  {
   "cell_type": "code",
   "execution_count": 28,
   "metadata": {},
   "outputs": [
    {
     "data": {
      "text/html": [
       "<div>\n",
       "<style scoped>\n",
       "    .dataframe tbody tr th:only-of-type {\n",
       "        vertical-align: middle;\n",
       "    }\n",
       "\n",
       "    .dataframe tbody tr th {\n",
       "        vertical-align: top;\n",
       "    }\n",
       "\n",
       "    .dataframe thead th {\n",
       "        text-align: right;\n",
       "    }\n",
       "</style>\n",
       "<table border=\"1\" class=\"dataframe\">\n",
       "  <thead>\n",
       "    <tr style=\"text-align: right;\">\n",
       "      <th></th>\n",
       "      <th>Key</th>\n",
       "      <th>UniqueCheckId</th>\n",
       "      <th>PLU</th>\n",
       "    </tr>\n",
       "  </thead>\n",
       "  <tbody>\n",
       "    <tr>\n",
       "      <th>0</th>\n",
       "      <td>1006.0_2023-01-05_09:31:00</td>\n",
       "      <td>523010063</td>\n",
       "      <td>[49760.0, 49762.0, 50254.0]</td>\n",
       "    </tr>\n",
       "    <tr>\n",
       "      <th>1</th>\n",
       "      <td>1006.0_2023-01-05_09:31:00</td>\n",
       "      <td>523010063067</td>\n",
       "      <td>[51892.0, 49204.0, 47478.0, 52065.0]</td>\n",
       "    </tr>\n",
       "  </tbody>\n",
       "</table>\n",
       "</div>"
      ],
      "text/plain": [
       "                          Key  UniqueCheckId  \\\n",
       "0  1006.0_2023-01-05_09:31:00      523010063   \n",
       "1  1006.0_2023-01-05_09:31:00   523010063067   \n",
       "\n",
       "                                    PLU  \n",
       "0           [49760.0, 49762.0, 50254.0]  \n",
       "1  [51892.0, 49204.0, 47478.0, 52065.0]  "
      ]
     },
     "execution_count": 28,
     "metadata": {},
     "output_type": "execute_result"
    }
   ],
   "source": [
    "\n",
    "transctional_df[transctional_df['Key']== '1006.0_2023-01-05_09:31:00'].groupby(['Key', 'UniqueCheckId'])['PLU'].unique().reset_index()\n",
    "\n"
   ]
  }
 ],
 "metadata": {
  "kernelspec": {
   "display_name": "Python 3",
   "language": "python",
   "name": "python3"
  },
  "language_info": {
   "codemirror_mode": {
    "name": "ipython",
    "version": 3
   },
   "file_extension": ".py",
   "mimetype": "text/x-python",
   "name": "python",
   "nbconvert_exporter": "python",
   "pygments_lexer": "ipython3",
   "version": "3.12.2"
  }
 },
 "nbformat": 4,
 "nbformat_minor": 2
}
