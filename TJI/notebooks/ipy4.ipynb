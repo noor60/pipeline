{
 "cells": [
  {
   "cell_type": "code",
   "execution_count": 6,
   "metadata": {},
   "outputs": [
    {
     "name": "stderr",
     "output_type": "stream",
     "text": [
      "/var/folders/lg/b8pw7x296y397cn0g302yt680000gp/T/ipykernel_6782/1932133118.py:4: DtypeWarning: Columns (15) have mixed types. Specify dtype option on import or set low_memory=False.\n",
      "  transctional_df=pd.read_csv('transctional_df.csv')\n"
     ]
    }
   ],
   "source": [
    "import pandas as pd\n",
    "import numpy as np\n",
    "receipt_item_summary=pd.read_csv('receipt_item_summary.csv')\n",
    "transctional_df=pd.read_csv('transctional_df.csv')\n"
   ]
  },
  {
   "cell_type": "code",
   "execution_count": null,
   "metadata": {},
   "outputs": [],
   "source": [
    "receipt_item_summary=receipt_item_summary[30000:40000]\n",
    "transctional_df['member']='0'\n"
   ]
  },
  {
   "cell_type": "code",
   "execution_count": null,
   "metadata": {},
   "outputs": [
    {
     "name": "stdout",
     "output_type": "stream",
     "text": [
      "Processing complete!\n"
     ]
    }
   ],
   "source": [
    "\n",
    "import numpy as np\n",
    "import pandas as pd\n",
    "\n",
    "aux = transctional_df.copy()  # Create a copy for filtering\n",
    "total_rows = len(receipt_item_summary)  # Get total number of rows\n",
    "\n",
    "for index, (i, row) in enumerate(receipt_item_summary.iterrows(), start=1):\n",
    "\n",
    "    loyalty_key = row['Key']\n",
    "    loyalty_ids_list=row['CheckItems']\n",
    "  \n",
    "    # Filter group based on the key\n",
    "    group = aux[aux['Key'] == loyalty_key]\n",
    "    tran_unique_ids= group['UniqueCheckId'].nunique()\n",
    "    \n",
    "    tran_ids_list=list(group['PLU'].unique())\n",
    "\n",
    "\n",
    "    if (group.shape[0] > 0) & (group['UniqueCheckId'].nunique() == 1)&(tran_ids_list==loyalty_ids_list):\n",
    "        unique_id=group['UniqueCheckId'].unique()\n",
    "        print('loyal member')\n",
    "        matching_indices = group.index  \n",
    "\n",
    "        # Update 'member' column in 't' for the preserved indices\n",
    "        aux.loc[matching_indices, 'member'] = 1        \n",
    "        \n",
    "    print(f\"Processing row {i+1}/{total_rows} ({(i+1)/total_rows:.2%} done)\")\n",
    "\n",
    "print(\"Processing complete!\")\n"
   ]
  },
  {
   "cell_type": "code",
   "execution_count": null,
   "metadata": {},
   "outputs": [],
   "source": [
    "aux.to_csv('four.csv')\n"
   ]
  },
  {
   "cell_type": "code",
   "execution_count": null,
   "metadata": {},
   "outputs": [],
   "source": []
  }
 ],
 "metadata": {
  "kernelspec": {
   "display_name": "hm",
   "language": "python",
   "name": "python3"
  },
  "language_info": {
   "codemirror_mode": {
    "name": "ipython",
    "version": 3
   },
   "file_extension": ".py",
   "mimetype": "text/x-python",
   "name": "python",
   "nbconvert_exporter": "python",
   "pygments_lexer": "ipython3",
   "version": "3.12.2"
  }
 },
 "nbformat": 4,
 "nbformat_minor": 2
}
