{
 "cells": [
  {
   "cell_type": "code",
   "execution_count": 40,
   "metadata": {},
   "outputs": [
    {
     "name": "stderr",
     "output_type": "stream",
     "text": [
      "/var/folders/lg/b8pw7x296y397cn0g302yt680000gp/T/ipykernel_95860/3880818882.py:17: SettingWithCopyWarning:\n",
      "\n",
      "\n",
      "A value is trying to be set on a copy of a slice from a DataFrame.\n",
      "Try using .loc[row_indexer,col_indexer] = value instead\n",
      "\n",
      "See the caveats in the documentation: https://pandas.pydata.org/pandas-docs/stable/user_guide/indexing.html#returning-a-view-versus-a-copy\n",
      "\n"
     ]
    },
    {
     "data": {
      "text/plain": [
       "OrderType\n",
       "Dine In                     18841\n",
       "Take Out                    17510\n",
       "UEats-Delivery              15995\n",
       "Online-Pickup               13062\n",
       "UEats-Pickup                 6183\n",
       "Online-Dispatch              5994\n",
       "Telephone-Pickup             2845\n",
       "Google Online Ordering       2831\n",
       "TimeShark (Pickup)           1193\n",
       "UberEats                       23\n",
       "Postmates Ordering             20\n",
       "Ritual Ordering                16\n",
       "Grubhub (Courier)               6\n",
       "Uber Eats - Takeout!            3\n",
       "Google Online (Dispatch)        2\n",
       "Name: count, dtype: int64"
      ]
     },
     "execution_count": 40,
     "metadata": {},
     "output_type": "execute_result"
    }
   ],
   "source": [
    "import pandas as pd\n",
    "import plotly.express as px\n",
    "import math\n",
    "\n",
    "\n",
    "items=pd.read_csv('./data/weekly_item.csv')\n",
    "items['WeekStartDate']=pd.to_datetime (items['WeekStartDate'])\n",
    "remove_ordertypes=['SimpleCater','EZ Cater (Pickup)','Catering (Pickup)', 'EZ Cater (Delivery)','Olo Catering (Self-Delivery))','Olo Catering (Pickup)']\n",
    "items=items[~items['OrderType'].isin(remove_ordertypes)]\n",
    "items.OrderType.unique()\n",
    "\n",
    "\n",
    "# remove items starting with google order as they  are not clear, can't get info from their item id, same ids are used for differtn items\n",
    "items1=items[~items['MenuItemName'].str.contains('Google Order')]\n",
    "items1['MenuItemName'].nunique()\n",
    "\n",
    "items1['OrderType'] =items1['OrderType'].replace( {\n",
    "'Uber Eats - Delivery!':'UEats-Delivery',\n",
    "'Online Ordering (Pickup) *': 'Online-Pickup',\n",
    "'UberEats (Pickup)': 'UEats-Pickup',\n",
    "'Online Ordering (Dispatch) *': 'Online-Dispatch',\n",
    "'Telephone - Pickup':'Telephone-Pickup',\n",
    " 'Dine In, Dine In':'Dine In',\n",
    " 'Take Out, Take Out':'Take Out',\n",
    " })\n",
    "\n",
    "items1['MenuItemName'].nunique()\n",
    "items1['OrderType'].value_counts()\n"
   ]
  },
  {
   "cell_type": "code",
   "execution_count": 41,
   "metadata": {},
   "outputs": [
    {
     "name": "stderr",
     "output_type": "stream",
     "text": [
      "/var/folders/lg/b8pw7x296y397cn0g302yt680000gp/T/ipykernel_95860/1682272198.py:10: SettingWithCopyWarning:\n",
      "\n",
      "\n",
      "A value is trying to be set on a copy of a slice from a DataFrame\n",
      "\n",
      "See the caveats in the documentation: https://pandas.pydata.org/pandas-docs/stable/user_guide/indexing.html#returning-a-view-versus-a-copy\n",
      "\n"
     ]
    },
    {
     "name": "stdout",
     "output_type": "stream",
     "text": [
      "count    22431.000000\n",
      "mean        14.001204\n",
      "std         15.160598\n",
      "min          6.000000\n",
      "25%          7.000000\n",
      "50%         10.000000\n",
      "75%         15.000000\n",
      "max        285.000000\n",
      "Name: item_weekly_volumn, dtype: float64\n"
     ]
    },
    {
     "name": "stderr",
     "output_type": "stream",
     "text": [
      "/var/folders/lg/b8pw7x296y397cn0g302yt680000gp/T/ipykernel_95860/1682272198.py:82: DeprecationWarning:\n",
      "\n",
      "DataFrameGroupBy.apply operated on the grouping columns. This behavior is deprecated, and in a future version of pandas the grouping columns will be excluded from the operation. Either pass `include_groups=False` to exclude the groupings or explicitly select the grouping columns after groupby to silence this warning.\n",
      "\n"
     ]
    },
    {
     "data": {
      "application/vnd.plotly.v1+json": {
       "config": {
        "plotlyServerURL": "https://plot.ly"
       },
       "data": [
        {
         "hovertemplate": "MenuItemName=AMERICANO<br>StoreId=963260<br>OrderType=Dine In<br>WeekStartDate=%{x}<br>item_weekly_volumn=%{y}<extra></extra>",
         "legendgroup": "AMERICANO",
         "line": {
          "color": "#636efa",
          "dash": "solid"
         },
         "marker": {
          "symbol": "circle"
         },
         "mode": "lines+markers",
         "name": "AMERICANO",
         "orientation": "v",
         "showlegend": true,
         "type": "scatter",
         "x": [
          "2025-03-03T00:00:00.000000000",
          "2025-03-10T00:00:00.000000000",
          "2025-03-17T00:00:00.000000000",
          "2025-03-24T00:00:00.000000000",
          "2025-03-31T00:00:00.000000000",
          "2025-04-07T00:00:00.000000000",
          "2025-04-14T00:00:00.000000000",
          "2025-04-21T00:00:00.000000000"
         ],
         "xaxis": "x4",
         "y": {
          "bdata": "Gg8PNgsKBwY=",
          "dtype": "i1"
         },
         "yaxis": "y4"
        },
        {
         "hovertemplate": "MenuItemName=STRAWBERRY PASSION<br>StoreId=963260<br>OrderType=Dine In<br>WeekStartDate=%{x}<br>item_weekly_volumn=%{y}<extra></extra>",
         "legendgroup": "STRAWBERRY PASSION",
         "line": {
          "color": "#EF553B",
          "dash": "solid"
         },
         "marker": {
          "symbol": "circle"
         },
         "mode": "lines+markers",
         "name": "STRAWBERRY PASSION",
         "orientation": "v",
         "showlegend": true,
         "type": "scatter",
         "x": [
          "2025-02-03T00:00:00.000000000",
          "2025-02-10T00:00:00.000000000",
          "2025-02-17T00:00:00.000000000",
          "2025-02-24T00:00:00.000000000",
          "2025-03-03T00:00:00.000000000",
          "2025-03-10T00:00:00.000000000",
          "2025-03-17T00:00:00.000000000",
          "2025-03-24T00:00:00.000000000",
          "2025-03-31T00:00:00.000000000",
          "2025-04-07T00:00:00.000000000",
          "2025-04-14T00:00:00.000000000",
          "2025-04-21T00:00:00.000000000"
         ],
         "xaxis": "x4",
         "y": {
          "bdata": "BhQSEAkHDw0RBw4I",
          "dtype": "i1"
         },
         "yaxis": "y4"
        },
        {
         "hovertemplate": "MenuItemName=CARROT CAKE<br>StoreId=963260<br>OrderType=Take Out<br>WeekStartDate=%{x}<br>item_weekly_volumn=%{y}<extra></extra>",
         "legendgroup": "CARROT CAKE",
         "line": {
          "color": "#00cc96",
          "dash": "solid"
         },
         "marker": {
          "symbol": "circle"
         },
         "mode": "lines+markers",
         "name": "CARROT CAKE",
         "orientation": "v",
         "showlegend": true,
         "type": "scatter",
         "x": [
          "2025-02-03T00:00:00.000000000",
          "2025-02-10T00:00:00.000000000",
          "2025-02-17T00:00:00.000000000",
          "2025-02-24T00:00:00.000000000",
          "2025-03-03T00:00:00.000000000",
          "2025-03-10T00:00:00.000000000",
          "2025-03-17T00:00:00.000000000",
          "2025-03-24T00:00:00.000000000",
          "2025-03-31T00:00:00.000000000",
          "2025-04-07T00:00:00.000000000",
          "2025-04-14T00:00:00.000000000",
          "2025-04-21T00:00:00.000000000"
         ],
         "xaxis": "x5",
         "y": {
          "bdata": "JBU2KicYFhorFScc",
          "dtype": "i1"
         },
         "yaxis": "y5"
        },
        {
         "hovertemplate": "MenuItemName=CHICKEN CAESAR WRAP<br>StoreId=963260<br>OrderType=UEats-Delivery<br>WeekStartDate=%{x}<br>item_weekly_volumn=%{y}<extra></extra>",
         "legendgroup": "CHICKEN CAESAR WRAP",
         "line": {
          "color": "#ab63fa",
          "dash": "solid"
         },
         "marker": {
          "symbol": "circle"
         },
         "mode": "lines+markers",
         "name": "CHICKEN CAESAR WRAP",
         "orientation": "v",
         "showlegend": true,
         "type": "scatter",
         "x": [
          "2025-02-03T00:00:00.000000000",
          "2025-02-10T00:00:00.000000000",
          "2025-02-17T00:00:00.000000000",
          "2025-02-24T00:00:00.000000000",
          "2025-03-03T00:00:00.000000000",
          "2025-03-10T00:00:00.000000000",
          "2025-03-17T00:00:00.000000000",
          "2025-03-24T00:00:00.000000000",
          "2025-03-31T00:00:00.000000000",
          "2025-04-07T00:00:00.000000000",
          "2025-04-14T00:00:00.000000000",
          "2025-04-21T00:00:00.000000000"
         ],
         "xaxis": "x6",
         "y": {
          "bdata": "Y1pOHBsfFygZHhkc",
          "dtype": "i1"
         },
         "yaxis": "y6"
        },
        {
         "hovertemplate": "MenuItemName=CHICKEN CAESAR WRAP<br>StoreId=963290<br>OrderType=UEats-Delivery<br>WeekStartDate=%{x}<br>item_weekly_volumn=%{y}<extra></extra>",
         "legendgroup": "CHICKEN CAESAR WRAP",
         "line": {
          "color": "#ab63fa",
          "dash": "solid"
         },
         "marker": {
          "symbol": "circle"
         },
         "mode": "lines+markers",
         "name": "CHICKEN CAESAR WRAP",
         "orientation": "v",
         "showlegend": false,
         "type": "scatter",
         "x": [
          "2025-02-03T00:00:00.000000000",
          "2025-02-10T00:00:00.000000000",
          "2025-02-17T00:00:00.000000000",
          "2025-02-24T00:00:00.000000000",
          "2025-03-03T00:00:00.000000000",
          "2025-03-10T00:00:00.000000000",
          "2025-03-17T00:00:00.000000000",
          "2025-03-24T00:00:00.000000000",
          "2025-03-31T00:00:00.000000000",
          "2025-04-07T00:00:00.000000000",
          "2025-04-14T00:00:00.000000000",
          "2025-04-21T00:00:00.000000000"
         ],
         "xaxis": "x3",
         "y": {
          "bdata": "nACWAFMAMgAtACwANAAwACkAMgAkACAA",
          "dtype": "i2"
         },
         "yaxis": "y3"
        },
        {
         "hovertemplate": "MenuItemName=GREEN GODDESS SALAD<br>StoreId=963260<br>OrderType=UEats-Delivery<br>WeekStartDate=%{x}<br>item_weekly_volumn=%{y}<extra></extra>",
         "legendgroup": "GREEN GODDESS SALAD",
         "line": {
          "color": "#FFA15A",
          "dash": "solid"
         },
         "marker": {
          "symbol": "circle"
         },
         "mode": "lines+markers",
         "name": "GREEN GODDESS SALAD",
         "orientation": "v",
         "showlegend": true,
         "type": "scatter",
         "x": [
          "2025-03-10T00:00:00.000000000",
          "2025-03-17T00:00:00.000000000",
          "2025-03-24T00:00:00.000000000",
          "2025-03-31T00:00:00.000000000",
          "2025-04-07T00:00:00.000000000",
          "2025-04-14T00:00:00.000000000",
          "2025-04-21T00:00:00.000000000"
         ],
         "xaxis": "x6",
         "y": {
          "bdata": "ExscGhYUDQ==",
          "dtype": "i1"
         },
         "yaxis": "y6"
        },
        {
         "hovertemplate": "MenuItemName=LENTIL & KALE SOUP<br>StoreId=963260<br>OrderType=UEats-Delivery<br>WeekStartDate=%{x}<br>item_weekly_volumn=%{y}<extra></extra>",
         "legendgroup": "LENTIL & KALE SOUP",
         "line": {
          "color": "#19d3f3",
          "dash": "solid"
         },
         "marker": {
          "symbol": "circle"
         },
         "mode": "lines+markers",
         "name": "LENTIL & KALE SOUP",
         "orientation": "v",
         "showlegend": true,
         "type": "scatter",
         "x": [
          "2025-02-03T00:00:00.000000000",
          "2025-02-10T00:00:00.000000000",
          "2025-02-17T00:00:00.000000000",
          "2025-02-24T00:00:00.000000000",
          "2025-03-03T00:00:00.000000000",
          "2025-03-10T00:00:00.000000000",
          "2025-03-17T00:00:00.000000000",
          "2025-03-24T00:00:00.000000000",
          "2025-03-31T00:00:00.000000000",
          "2025-04-07T00:00:00.000000000",
          "2025-04-14T00:00:00.000000000",
          "2025-04-21T00:00:00.000000000"
         ],
         "xaxis": "x6",
         "y": {
          "bdata": "IBYQEBwcFxUTERsR",
          "dtype": "i1"
         },
         "yaxis": "y6"
        },
        {
         "hovertemplate": "MenuItemName=LENTIL & KALE SOUP<br>StoreId=963290<br>OrderType=Take Out<br>WeekStartDate=%{x}<br>item_weekly_volumn=%{y}<extra></extra>",
         "legendgroup": "LENTIL & KALE SOUP",
         "line": {
          "color": "#19d3f3",
          "dash": "solid"
         },
         "marker": {
          "symbol": "circle"
         },
         "mode": "lines+markers",
         "name": "LENTIL & KALE SOUP",
         "orientation": "v",
         "showlegend": false,
         "type": "scatter",
         "x": [
          "2025-02-03T00:00:00.000000000",
          "2025-02-10T00:00:00.000000000",
          "2025-02-17T00:00:00.000000000",
          "2025-02-24T00:00:00.000000000",
          "2025-03-03T00:00:00.000000000",
          "2025-03-10T00:00:00.000000000",
          "2025-03-17T00:00:00.000000000",
          "2025-03-24T00:00:00.000000000",
          "2025-03-31T00:00:00.000000000",
          "2025-04-07T00:00:00.000000000",
          "2025-04-21T00:00:00.000000000"
         ],
         "xaxis": "x2",
         "y": {
          "bdata": "Cw4LDgwLCgkRCQ8=",
          "dtype": "i1"
         },
         "yaxis": "y2"
        },
        {
         "hovertemplate": "MenuItemName=LIV WRAP<br>StoreId=963260<br>OrderType=UEats-Delivery<br>WeekStartDate=%{x}<br>item_weekly_volumn=%{y}<extra></extra>",
         "legendgroup": "LIV WRAP",
         "line": {
          "color": "#FF6692",
          "dash": "solid"
         },
         "marker": {
          "symbol": "circle"
         },
         "mode": "lines+markers",
         "name": "LIV WRAP",
         "orientation": "v",
         "showlegend": true,
         "type": "scatter",
         "x": [
          "2025-02-03T00:00:00.000000000",
          "2025-02-10T00:00:00.000000000",
          "2025-02-17T00:00:00.000000000",
          "2025-02-24T00:00:00.000000000",
          "2025-03-03T00:00:00.000000000",
          "2025-03-10T00:00:00.000000000",
          "2025-03-17T00:00:00.000000000",
          "2025-03-24T00:00:00.000000000",
          "2025-03-31T00:00:00.000000000",
          "2025-04-07T00:00:00.000000000",
          "2025-04-14T00:00:00.000000000",
          "2025-04-21T00:00:00.000000000"
         ],
         "xaxis": "x6",
         "y": {
          "bdata": "ND0wR1kdFRIJBwsI",
          "dtype": "i1"
         },
         "yaxis": "y6"
        },
        {
         "hovertemplate": "MenuItemName=LIV WRAP<br>StoreId=963290<br>OrderType=UEats-Delivery<br>WeekStartDate=%{x}<br>item_weekly_volumn=%{y}<extra></extra>",
         "legendgroup": "LIV WRAP",
         "line": {
          "color": "#FF6692",
          "dash": "solid"
         },
         "marker": {
          "symbol": "circle"
         },
         "mode": "lines+markers",
         "name": "LIV WRAP",
         "orientation": "v",
         "showlegend": false,
         "type": "scatter",
         "x": [
          "2025-02-03T00:00:00.000000000",
          "2025-02-10T00:00:00.000000000",
          "2025-02-17T00:00:00.000000000",
          "2025-02-24T00:00:00.000000000",
          "2025-03-03T00:00:00.000000000",
          "2025-03-10T00:00:00.000000000",
          "2025-03-17T00:00:00.000000000",
          "2025-03-24T00:00:00.000000000",
          "2025-03-31T00:00:00.000000000",
          "2025-04-07T00:00:00.000000000",
          "2025-04-14T00:00:00.000000000",
          "2025-04-21T00:00:00.000000000"
         ],
         "xaxis": "x3",
         "y": {
          "bdata": "YABiAG0AggCQACwAGAAQAAwADwAOABAA",
          "dtype": "i2"
         },
         "yaxis": "y3"
        },
        {
         "hovertemplate": "MenuItemName=GRILLED CHICKEN PLATTER<br>StoreId=963290<br>OrderType=Dine In<br>WeekStartDate=%{x}<br>item_weekly_volumn=%{y}<extra></extra>",
         "legendgroup": "GRILLED CHICKEN PLATTER",
         "line": {
          "color": "#B6E880",
          "dash": "solid"
         },
         "marker": {
          "symbol": "circle"
         },
         "mode": "lines+markers",
         "name": "GRILLED CHICKEN PLATTER",
         "orientation": "v",
         "showlegend": true,
         "type": "scatter",
         "x": [
          "2025-02-03T00:00:00.000000000",
          "2025-02-10T00:00:00.000000000",
          "2025-02-17T00:00:00.000000000",
          "2025-02-24T00:00:00.000000000",
          "2025-03-03T00:00:00.000000000",
          "2025-03-10T00:00:00.000000000",
          "2025-03-17T00:00:00.000000000",
          "2025-03-24T00:00:00.000000000",
          "2025-03-31T00:00:00.000000000",
          "2025-04-07T00:00:00.000000000",
          "2025-04-14T00:00:00.000000000",
          "2025-04-21T00:00:00.000000000"
         ],
         "xaxis": "x",
         "y": {
          "bdata": "Eg0SFREOCQgODBMI",
          "dtype": "i1"
         },
         "yaxis": "y"
        },
        {
         "hovertemplate": "MenuItemName=SWEET POTATO FRIES<br>StoreId=963290<br>OrderType=Dine In<br>WeekStartDate=%{x}<br>item_weekly_volumn=%{y}<extra></extra>",
         "legendgroup": "SWEET POTATO FRIES",
         "line": {
          "color": "#FF97FF",
          "dash": "solid"
         },
         "marker": {
          "symbol": "circle"
         },
         "mode": "lines+markers",
         "name": "SWEET POTATO FRIES",
         "orientation": "v",
         "showlegend": true,
         "type": "scatter",
         "x": [
          "2025-02-03T00:00:00.000000000",
          "2025-02-10T00:00:00.000000000",
          "2025-02-17T00:00:00.000000000",
          "2025-02-24T00:00:00.000000000",
          "2025-03-03T00:00:00.000000000",
          "2025-03-10T00:00:00.000000000",
          "2025-03-17T00:00:00.000000000",
          "2025-03-24T00:00:00.000000000",
          "2025-03-31T00:00:00.000000000",
          "2025-04-07T00:00:00.000000000",
          "2025-04-14T00:00:00.000000000",
          "2025-04-21T00:00:00.000000000"
         ],
         "xaxis": "x",
         "y": {
          "bdata": "ERAOCQgPDQkPCxIN",
          "dtype": "i1"
         },
         "yaxis": "y"
        }
       ],
       "layout": {
        "annotations": [
         {
          "font": {},
          "showarrow": false,
          "text": "Dine In",
          "x": 0.15666666666666665,
          "xanchor": "center",
          "xref": "paper",
          "y": 1,
          "yanchor": "bottom",
          "yref": "paper"
         },
         {
          "font": {},
          "showarrow": false,
          "text": "Take Out",
          "x": 0.49,
          "xanchor": "center",
          "xref": "paper",
          "y": 1,
          "yanchor": "bottom",
          "yref": "paper"
         },
         {
          "font": {},
          "showarrow": false,
          "text": "UEats-Delivery",
          "x": 0.8233333333333333,
          "xanchor": "center",
          "xref": "paper",
          "y": 1,
          "yanchor": "bottom",
          "yref": "paper"
         },
         {
          "font": {},
          "showarrow": false,
          "text": "963290",
          "textangle": 90,
          "x": 0.98,
          "xanchor": "left",
          "xref": "paper",
          "y": 0.2425,
          "yanchor": "middle",
          "yref": "paper"
         },
         {
          "font": {},
          "showarrow": false,
          "text": "963260",
          "textangle": 90,
          "x": 0.98,
          "xanchor": "left",
          "xref": "paper",
          "y": 0.7575000000000001,
          "yanchor": "middle",
          "yref": "paper"
         }
        ],
        "legend": {
         "title": {
          "text": "MenuItemName"
         },
         "tracegroupgap": 0
        },
        "template": {
         "data": {
          "bar": [
           {
            "error_x": {
             "color": "#2a3f5f"
            },
            "error_y": {
             "color": "#2a3f5f"
            },
            "marker": {
             "line": {
              "color": "#E5ECF6",
              "width": 0.5
             },
             "pattern": {
              "fillmode": "overlay",
              "size": 10,
              "solidity": 0.2
             }
            },
            "type": "bar"
           }
          ],
          "barpolar": [
           {
            "marker": {
             "line": {
              "color": "#E5ECF6",
              "width": 0.5
             },
             "pattern": {
              "fillmode": "overlay",
              "size": 10,
              "solidity": 0.2
             }
            },
            "type": "barpolar"
           }
          ],
          "carpet": [
           {
            "aaxis": {
             "endlinecolor": "#2a3f5f",
             "gridcolor": "white",
             "linecolor": "white",
             "minorgridcolor": "white",
             "startlinecolor": "#2a3f5f"
            },
            "baxis": {
             "endlinecolor": "#2a3f5f",
             "gridcolor": "white",
             "linecolor": "white",
             "minorgridcolor": "white",
             "startlinecolor": "#2a3f5f"
            },
            "type": "carpet"
           }
          ],
          "choropleth": [
           {
            "colorbar": {
             "outlinewidth": 0,
             "ticks": ""
            },
            "type": "choropleth"
           }
          ],
          "contour": [
           {
            "colorbar": {
             "outlinewidth": 0,
             "ticks": ""
            },
            "colorscale": [
             [
              0,
              "#0d0887"
             ],
             [
              0.1111111111111111,
              "#46039f"
             ],
             [
              0.2222222222222222,
              "#7201a8"
             ],
             [
              0.3333333333333333,
              "#9c179e"
             ],
             [
              0.4444444444444444,
              "#bd3786"
             ],
             [
              0.5555555555555556,
              "#d8576b"
             ],
             [
              0.6666666666666666,
              "#ed7953"
             ],
             [
              0.7777777777777778,
              "#fb9f3a"
             ],
             [
              0.8888888888888888,
              "#fdca26"
             ],
             [
              1,
              "#f0f921"
             ]
            ],
            "type": "contour"
           }
          ],
          "contourcarpet": [
           {
            "colorbar": {
             "outlinewidth": 0,
             "ticks": ""
            },
            "type": "contourcarpet"
           }
          ],
          "heatmap": [
           {
            "colorbar": {
             "outlinewidth": 0,
             "ticks": ""
            },
            "colorscale": [
             [
              0,
              "#0d0887"
             ],
             [
              0.1111111111111111,
              "#46039f"
             ],
             [
              0.2222222222222222,
              "#7201a8"
             ],
             [
              0.3333333333333333,
              "#9c179e"
             ],
             [
              0.4444444444444444,
              "#bd3786"
             ],
             [
              0.5555555555555556,
              "#d8576b"
             ],
             [
              0.6666666666666666,
              "#ed7953"
             ],
             [
              0.7777777777777778,
              "#fb9f3a"
             ],
             [
              0.8888888888888888,
              "#fdca26"
             ],
             [
              1,
              "#f0f921"
             ]
            ],
            "type": "heatmap"
           }
          ],
          "histogram": [
           {
            "marker": {
             "pattern": {
              "fillmode": "overlay",
              "size": 10,
              "solidity": 0.2
             }
            },
            "type": "histogram"
           }
          ],
          "histogram2d": [
           {
            "colorbar": {
             "outlinewidth": 0,
             "ticks": ""
            },
            "colorscale": [
             [
              0,
              "#0d0887"
             ],
             [
              0.1111111111111111,
              "#46039f"
             ],
             [
              0.2222222222222222,
              "#7201a8"
             ],
             [
              0.3333333333333333,
              "#9c179e"
             ],
             [
              0.4444444444444444,
              "#bd3786"
             ],
             [
              0.5555555555555556,
              "#d8576b"
             ],
             [
              0.6666666666666666,
              "#ed7953"
             ],
             [
              0.7777777777777778,
              "#fb9f3a"
             ],
             [
              0.8888888888888888,
              "#fdca26"
             ],
             [
              1,
              "#f0f921"
             ]
            ],
            "type": "histogram2d"
           }
          ],
          "histogram2dcontour": [
           {
            "colorbar": {
             "outlinewidth": 0,
             "ticks": ""
            },
            "colorscale": [
             [
              0,
              "#0d0887"
             ],
             [
              0.1111111111111111,
              "#46039f"
             ],
             [
              0.2222222222222222,
              "#7201a8"
             ],
             [
              0.3333333333333333,
              "#9c179e"
             ],
             [
              0.4444444444444444,
              "#bd3786"
             ],
             [
              0.5555555555555556,
              "#d8576b"
             ],
             [
              0.6666666666666666,
              "#ed7953"
             ],
             [
              0.7777777777777778,
              "#fb9f3a"
             ],
             [
              0.8888888888888888,
              "#fdca26"
             ],
             [
              1,
              "#f0f921"
             ]
            ],
            "type": "histogram2dcontour"
           }
          ],
          "mesh3d": [
           {
            "colorbar": {
             "outlinewidth": 0,
             "ticks": ""
            },
            "type": "mesh3d"
           }
          ],
          "parcoords": [
           {
            "line": {
             "colorbar": {
              "outlinewidth": 0,
              "ticks": ""
             }
            },
            "type": "parcoords"
           }
          ],
          "pie": [
           {
            "automargin": true,
            "type": "pie"
           }
          ],
          "scatter": [
           {
            "fillpattern": {
             "fillmode": "overlay",
             "size": 10,
             "solidity": 0.2
            },
            "type": "scatter"
           }
          ],
          "scatter3d": [
           {
            "line": {
             "colorbar": {
              "outlinewidth": 0,
              "ticks": ""
             }
            },
            "marker": {
             "colorbar": {
              "outlinewidth": 0,
              "ticks": ""
             }
            },
            "type": "scatter3d"
           }
          ],
          "scattercarpet": [
           {
            "marker": {
             "colorbar": {
              "outlinewidth": 0,
              "ticks": ""
             }
            },
            "type": "scattercarpet"
           }
          ],
          "scattergeo": [
           {
            "marker": {
             "colorbar": {
              "outlinewidth": 0,
              "ticks": ""
             }
            },
            "type": "scattergeo"
           }
          ],
          "scattergl": [
           {
            "marker": {
             "colorbar": {
              "outlinewidth": 0,
              "ticks": ""
             }
            },
            "type": "scattergl"
           }
          ],
          "scattermap": [
           {
            "marker": {
             "colorbar": {
              "outlinewidth": 0,
              "ticks": ""
             }
            },
            "type": "scattermap"
           }
          ],
          "scattermapbox": [
           {
            "marker": {
             "colorbar": {
              "outlinewidth": 0,
              "ticks": ""
             }
            },
            "type": "scattermapbox"
           }
          ],
          "scatterpolar": [
           {
            "marker": {
             "colorbar": {
              "outlinewidth": 0,
              "ticks": ""
             }
            },
            "type": "scatterpolar"
           }
          ],
          "scatterpolargl": [
           {
            "marker": {
             "colorbar": {
              "outlinewidth": 0,
              "ticks": ""
             }
            },
            "type": "scatterpolargl"
           }
          ],
          "scatterternary": [
           {
            "marker": {
             "colorbar": {
              "outlinewidth": 0,
              "ticks": ""
             }
            },
            "type": "scatterternary"
           }
          ],
          "surface": [
           {
            "colorbar": {
             "outlinewidth": 0,
             "ticks": ""
            },
            "colorscale": [
             [
              0,
              "#0d0887"
             ],
             [
              0.1111111111111111,
              "#46039f"
             ],
             [
              0.2222222222222222,
              "#7201a8"
             ],
             [
              0.3333333333333333,
              "#9c179e"
             ],
             [
              0.4444444444444444,
              "#bd3786"
             ],
             [
              0.5555555555555556,
              "#d8576b"
             ],
             [
              0.6666666666666666,
              "#ed7953"
             ],
             [
              0.7777777777777778,
              "#fb9f3a"
             ],
             [
              0.8888888888888888,
              "#fdca26"
             ],
             [
              1,
              "#f0f921"
             ]
            ],
            "type": "surface"
           }
          ],
          "table": [
           {
            "cells": {
             "fill": {
              "color": "#EBF0F8"
             },
             "line": {
              "color": "white"
             }
            },
            "header": {
             "fill": {
              "color": "#C8D4E3"
             },
             "line": {
              "color": "white"
             }
            },
            "type": "table"
           }
          ]
         },
         "layout": {
          "annotationdefaults": {
           "arrowcolor": "#2a3f5f",
           "arrowhead": 0,
           "arrowwidth": 1
          },
          "autotypenumbers": "strict",
          "coloraxis": {
           "colorbar": {
            "outlinewidth": 0,
            "ticks": ""
           }
          },
          "colorscale": {
           "diverging": [
            [
             0,
             "#8e0152"
            ],
            [
             0.1,
             "#c51b7d"
            ],
            [
             0.2,
             "#de77ae"
            ],
            [
             0.3,
             "#f1b6da"
            ],
            [
             0.4,
             "#fde0ef"
            ],
            [
             0.5,
             "#f7f7f7"
            ],
            [
             0.6,
             "#e6f5d0"
            ],
            [
             0.7,
             "#b8e186"
            ],
            [
             0.8,
             "#7fbc41"
            ],
            [
             0.9,
             "#4d9221"
            ],
            [
             1,
             "#276419"
            ]
           ],
           "sequential": [
            [
             0,
             "#0d0887"
            ],
            [
             0.1111111111111111,
             "#46039f"
            ],
            [
             0.2222222222222222,
             "#7201a8"
            ],
            [
             0.3333333333333333,
             "#9c179e"
            ],
            [
             0.4444444444444444,
             "#bd3786"
            ],
            [
             0.5555555555555556,
             "#d8576b"
            ],
            [
             0.6666666666666666,
             "#ed7953"
            ],
            [
             0.7777777777777778,
             "#fb9f3a"
            ],
            [
             0.8888888888888888,
             "#fdca26"
            ],
            [
             1,
             "#f0f921"
            ]
           ],
           "sequentialminus": [
            [
             0,
             "#0d0887"
            ],
            [
             0.1111111111111111,
             "#46039f"
            ],
            [
             0.2222222222222222,
             "#7201a8"
            ],
            [
             0.3333333333333333,
             "#9c179e"
            ],
            [
             0.4444444444444444,
             "#bd3786"
            ],
            [
             0.5555555555555556,
             "#d8576b"
            ],
            [
             0.6666666666666666,
             "#ed7953"
            ],
            [
             0.7777777777777778,
             "#fb9f3a"
            ],
            [
             0.8888888888888888,
             "#fdca26"
            ],
            [
             1,
             "#f0f921"
            ]
           ]
          },
          "colorway": [
           "#636efa",
           "#EF553B",
           "#00cc96",
           "#ab63fa",
           "#FFA15A",
           "#19d3f3",
           "#FF6692",
           "#B6E880",
           "#FF97FF",
           "#FECB52"
          ],
          "font": {
           "color": "#2a3f5f"
          },
          "geo": {
           "bgcolor": "white",
           "lakecolor": "white",
           "landcolor": "#E5ECF6",
           "showlakes": true,
           "showland": true,
           "subunitcolor": "white"
          },
          "hoverlabel": {
           "align": "left"
          },
          "hovermode": "closest",
          "mapbox": {
           "style": "light"
          },
          "paper_bgcolor": "white",
          "plot_bgcolor": "#E5ECF6",
          "polar": {
           "angularaxis": {
            "gridcolor": "white",
            "linecolor": "white",
            "ticks": ""
           },
           "bgcolor": "#E5ECF6",
           "radialaxis": {
            "gridcolor": "white",
            "linecolor": "white",
            "ticks": ""
           }
          },
          "scene": {
           "xaxis": {
            "backgroundcolor": "#E5ECF6",
            "gridcolor": "white",
            "gridwidth": 2,
            "linecolor": "white",
            "showbackground": true,
            "ticks": "",
            "zerolinecolor": "white"
           },
           "yaxis": {
            "backgroundcolor": "#E5ECF6",
            "gridcolor": "white",
            "gridwidth": 2,
            "linecolor": "white",
            "showbackground": true,
            "ticks": "",
            "zerolinecolor": "white"
           },
           "zaxis": {
            "backgroundcolor": "#E5ECF6",
            "gridcolor": "white",
            "gridwidth": 2,
            "linecolor": "white",
            "showbackground": true,
            "ticks": "",
            "zerolinecolor": "white"
           }
          },
          "shapedefaults": {
           "line": {
            "color": "#2a3f5f"
           }
          },
          "ternary": {
           "aaxis": {
            "gridcolor": "white",
            "linecolor": "white",
            "ticks": ""
           },
           "baxis": {
            "gridcolor": "white",
            "linecolor": "white",
            "ticks": ""
           },
           "bgcolor": "#E5ECF6",
           "caxis": {
            "gridcolor": "white",
            "linecolor": "white",
            "ticks": ""
           }
          },
          "title": {
           "x": 0.05
          },
          "xaxis": {
           "automargin": true,
           "gridcolor": "white",
           "linecolor": "white",
           "ticks": "",
           "title": {
            "standoff": 15
           },
           "zerolinecolor": "white",
           "zerolinewidth": 2
          },
          "yaxis": {
           "automargin": true,
           "gridcolor": "white",
           "linecolor": "white",
           "ticks": "",
           "title": {
            "standoff": 15
           },
           "zerolinecolor": "white",
           "zerolinewidth": 2
          }
         }
        },
        "title": {
         "text": "Consective 4-Week Declining Volume Over Last 3-Months"
        },
        "xaxis": {
         "anchor": "y",
         "domain": [
          0,
          0.3133333333333333
         ],
         "title": {
          "text": "WeekStartDate"
         }
        },
        "xaxis2": {
         "anchor": "y2",
         "domain": [
          0.3333333333333333,
          0.6466666666666666
         ],
         "matches": "x",
         "title": {
          "text": "WeekStartDate"
         }
        },
        "xaxis3": {
         "anchor": "y3",
         "domain": [
          0.6666666666666666,
          0.98
         ],
         "matches": "x",
         "title": {
          "text": "WeekStartDate"
         }
        },
        "xaxis4": {
         "anchor": "y4",
         "domain": [
          0,
          0.3133333333333333
         ],
         "matches": "x",
         "showticklabels": false
        },
        "xaxis5": {
         "anchor": "y5",
         "domain": [
          0.3333333333333333,
          0.6466666666666666
         ],
         "matches": "x",
         "showticklabels": false
        },
        "xaxis6": {
         "anchor": "y6",
         "domain": [
          0.6666666666666666,
          0.98
         ],
         "matches": "x",
         "showticklabels": false
        },
        "yaxis": {
         "anchor": "x",
         "domain": [
          0,
          0.485
         ],
         "title": {}
        },
        "yaxis2": {
         "anchor": "x2",
         "domain": [
          0,
          0.485
         ],
         "showticklabels": false
        },
        "yaxis3": {
         "anchor": "x3",
         "domain": [
          0,
          0.485
         ],
         "showticklabels": false
        },
        "yaxis4": {
         "anchor": "x4",
         "domain": [
          0.515,
          1
         ],
         "title": {
          "text": "item_weekly_volumn"
         }
        },
        "yaxis5": {
         "anchor": "x5",
         "domain": [
          0.515,
          1
         ],
         "showticklabels": false
        },
        "yaxis6": {
         "anchor": "x6",
         "domain": [
          0.515,
          1
         ],
         "showticklabels": false
        }
       }
      }
     },
     "metadata": {},
     "output_type": "display_data"
    }
   ],
   "source": [
    "\n",
    "item_volume=items1.groupby(['StoreId',\t'OrderType','WeekStartDate','MenuItemName']).sum().reset_index()\n",
    "\n",
    "\n",
    "# # when we set thrshold >50 only ubereats filters=> the high irder volumn is from ubereats, so we use >0.85 to capture other orderlines\n",
    "threshold = item_volume['item_weekly_volumn'].quantile(0.75)\n",
    "# threshold=40\n",
    "high_volume_items = item_volume[item_volume['item_weekly_volumn'] >= threshold]\n",
    "print(high_volume_items['item_weekly_volumn'].describe())\n",
    "high_volume_items.sort_values(by='item_weekly_volumn',ascending=False,inplace=True)\n",
    "high_volume_items.MenuItemName.nunique()\n",
    "high_volume_items=high_volume_items[high_volume_items['MenuItemName']!='IMMUNITY SHOT*']\n",
    "# 4 weeks exective dclined \n",
    "import pandas as pd\n",
    "def show_graph(filtered_df,weeks,months):\n",
    "    fig = px.line(\n",
    "        filtered_df,\n",
    "        x='WeekStartDate',\n",
    "        y='item_weekly_volumn',\n",
    "        color='MenuItemName',  # Highlights decline segment vs normal\n",
    "\n",
    "        facet_col='OrderType',\n",
    "        facet_row='StoreId',\n",
    "        markers=True,\n",
    "        title=f'Consective {weeks}-Week Declining Volume Over Last {months}-Months'\n",
    "    )\n",
    "\n",
    "    # Clean subplot labels\n",
    "    fig.for_each_annotation(lambda a: a.update(text=a.text.split(\"=\")[-1]))\n",
    "    fig.update_layout(\n",
    "        annotations=[a for a in fig.layout.annotations if a.text not in ['StoreId', 'OrderType']],\n",
    "        yaxis_title=None\n",
    "    )\n",
    "    fig.update_yaxes(matches=None)\n",
    "    fig.show()\n",
    "\n",
    "def x_weeks_consecutive_decline_y_month(df, weeks=4, months=3,show_graphs=True):\n",
    "    \"\"\"\n",
    "    Flags each week's data for menu items that had `weeks` consecutive declines\n",
    "    in the last `months` months.\n",
    "\n",
    "    Returns original DataFrame with an added column 'DeclineFlag' = 'decline' or 'normal'\n",
    "    \"\"\"\n",
    "\n",
    "    df = df.copy()\n",
    "    df['WeekStartDate'] = pd.to_datetime(df['WeekStartDate'])\n",
    "\n",
    "    # Time window: last Y months excluding the latest week\n",
    "    max_week = df['WeekStartDate'].max()\n",
    "    cutoff = max_week - pd.DateOffset(months=months)\n",
    "    df_recent = df[\n",
    "        (df['WeekStartDate'] >= cutoff) &\n",
    "        (df['WeekStartDate'] < max_week)\n",
    "    ].copy()\n",
    "\n",
    "    # Sort for reliable comparison\n",
    "    df_recent = df_recent.sort_values(['StoreId', 'OrderType', 'MenuItemName', 'WeekStartDate'])\n",
    "\n",
    "    # Initialize flag column\n",
    "    df_recent['DeclineFlag'] = 'normal'\n",
    "\n",
    "    # Define logic to find and flag X consecutive declining weeks\n",
    "    def flag_consecutive_declines(group):\n",
    "        vols = group['item_weekly_volumn'].values\n",
    "        flags = ['normal'] * len(vols)\n",
    "        count = 0\n",
    "\n",
    "        for i in range(1, len(vols)):\n",
    "            if vols[i] < vols[i - 1]:\n",
    "                count += 1\n",
    "                if count >= weeks:\n",
    "                    # Mark the last `weeks` rows as 'decline'\n",
    "                    for j in range(i - weeks + 1, i + 1):\n",
    "                        flags[j] = 'decline'\n",
    "            else:\n",
    "                count = 0\n",
    "\n",
    "        group['DeclineFlag'] = flags\n",
    "        return group\n",
    "\n",
    "    # Apply per item\n",
    "    flagged_df = df_recent.groupby(['StoreId', 'OrderType', 'MenuItemName'], group_keys=False).apply(flag_consecutive_declines)\n",
    "    # Filter for rows where is_decline_segment == 'decline'\n",
    "    decline_rows = flagged_df[flagged_df['DeclineFlag'] == 'decline']\n",
    "\n",
    "    # Get unique combinations that have any decline\n",
    "    decline_combinations = decline_rows[['StoreId', 'OrderType', 'MenuItemName']].drop_duplicates()\n",
    "\n",
    "    # Now filter the original DataFrame to only include those combinations\n",
    "    filtered_df = flagged_df.merge(decline_combinations, on=['StoreId', 'OrderType', 'MenuItemName'], how='inner')\n",
    "    \n",
    "    if show_graphs:\n",
    "        show_graph(filtered_df,weeks,months)\n",
    "    \n",
    "    return filtered_df\n",
    "weeks=4\n",
    "months=3\n",
    "show_graphs=True\n",
    "filtered_df=x_weeks_consecutive_decline_y_month(high_volume_items, weeks, months,show_graphs)\n"
   ]
  },
  {
   "cell_type": "code",
   "execution_count": 62,
   "metadata": {},
   "outputs": [
    {
     "data": {
      "text/html": [
       "<div>\n",
       "<style scoped>\n",
       "    .dataframe tbody tr th:only-of-type {\n",
       "        vertical-align: middle;\n",
       "    }\n",
       "\n",
       "    .dataframe tbody tr th {\n",
       "        vertical-align: top;\n",
       "    }\n",
       "\n",
       "    .dataframe thead th {\n",
       "        text-align: right;\n",
       "    }\n",
       "</style>\n",
       "<table border=\"1\" class=\"dataframe\">\n",
       "  <thead>\n",
       "    <tr style=\"text-align: right;\">\n",
       "      <th></th>\n",
       "      <th>StoreId</th>\n",
       "      <th>OrderType</th>\n",
       "      <th>WeekStartDate</th>\n",
       "      <th>MenuItemName</th>\n",
       "      <th>item_weekly_volumn</th>\n",
       "      <th>item_weekly_revenue</th>\n",
       "    </tr>\n",
       "  </thead>\n",
       "  <tbody>\n",
       "    <tr>\n",
       "      <th>32</th>\n",
       "      <td>963260</td>\n",
       "      <td>UEats-Delivery</td>\n",
       "      <td>2025-02-03</td>\n",
       "      <td>CHICKEN CAESAR WRAP</td>\n",
       "      <td>99</td>\n",
       "      <td>2134.01</td>\n",
       "    </tr>\n",
       "    <tr>\n",
       "      <th>33</th>\n",
       "      <td>963260</td>\n",
       "      <td>UEats-Delivery</td>\n",
       "      <td>2025-02-10</td>\n",
       "      <td>CHICKEN CAESAR WRAP</td>\n",
       "      <td>90</td>\n",
       "      <td>1939.10</td>\n",
       "    </tr>\n",
       "    <tr>\n",
       "      <th>34</th>\n",
       "      <td>963260</td>\n",
       "      <td>UEats-Delivery</td>\n",
       "      <td>2025-02-17</td>\n",
       "      <td>CHICKEN CAESAR WRAP</td>\n",
       "      <td>78</td>\n",
       "      <td>1623.22</td>\n",
       "    </tr>\n",
       "    <tr>\n",
       "      <th>35</th>\n",
       "      <td>963260</td>\n",
       "      <td>UEats-Delivery</td>\n",
       "      <td>2025-02-24</td>\n",
       "      <td>CHICKEN CAESAR WRAP</td>\n",
       "      <td>28</td>\n",
       "      <td>546.22</td>\n",
       "    </tr>\n",
       "    <tr>\n",
       "      <th>36</th>\n",
       "      <td>963260</td>\n",
       "      <td>UEats-Delivery</td>\n",
       "      <td>2025-03-03</td>\n",
       "      <td>CHICKEN CAESAR WRAP</td>\n",
       "      <td>27</td>\n",
       "      <td>534.73</td>\n",
       "    </tr>\n",
       "    <tr>\n",
       "      <th>37</th>\n",
       "      <td>963260</td>\n",
       "      <td>UEats-Delivery</td>\n",
       "      <td>2025-03-10</td>\n",
       "      <td>CHICKEN CAESAR WRAP</td>\n",
       "      <td>31</td>\n",
       "      <td>611.69</td>\n",
       "    </tr>\n",
       "    <tr>\n",
       "      <th>38</th>\n",
       "      <td>963260</td>\n",
       "      <td>UEats-Delivery</td>\n",
       "      <td>2025-03-17</td>\n",
       "      <td>CHICKEN CAESAR WRAP</td>\n",
       "      <td>23</td>\n",
       "      <td>468.27</td>\n",
       "    </tr>\n",
       "    <tr>\n",
       "      <th>39</th>\n",
       "      <td>963260</td>\n",
       "      <td>UEats-Delivery</td>\n",
       "      <td>2025-03-24</td>\n",
       "      <td>CHICKEN CAESAR WRAP</td>\n",
       "      <td>40</td>\n",
       "      <td>787.60</td>\n",
       "    </tr>\n",
       "    <tr>\n",
       "      <th>40</th>\n",
       "      <td>963260</td>\n",
       "      <td>UEats-Delivery</td>\n",
       "      <td>2025-03-31</td>\n",
       "      <td>CHICKEN CAESAR WRAP</td>\n",
       "      <td>25</td>\n",
       "      <td>533.25</td>\n",
       "    </tr>\n",
       "    <tr>\n",
       "      <th>41</th>\n",
       "      <td>963260</td>\n",
       "      <td>UEats-Delivery</td>\n",
       "      <td>2025-04-07</td>\n",
       "      <td>CHICKEN CAESAR WRAP</td>\n",
       "      <td>30</td>\n",
       "      <td>601.20</td>\n",
       "    </tr>\n",
       "    <tr>\n",
       "      <th>42</th>\n",
       "      <td>963260</td>\n",
       "      <td>UEats-Delivery</td>\n",
       "      <td>2025-04-14</td>\n",
       "      <td>CHICKEN CAESAR WRAP</td>\n",
       "      <td>25</td>\n",
       "      <td>495.75</td>\n",
       "    </tr>\n",
       "    <tr>\n",
       "      <th>43</th>\n",
       "      <td>963260</td>\n",
       "      <td>UEats-Delivery</td>\n",
       "      <td>2025-04-21</td>\n",
       "      <td>CHICKEN CAESAR WRAP</td>\n",
       "      <td>28</td>\n",
       "      <td>556.22</td>\n",
       "    </tr>\n",
       "  </tbody>\n",
       "</table>\n",
       "</div>"
      ],
      "text/plain": [
       "    StoreId       OrderType WeekStartDate         MenuItemName  \\\n",
       "32   963260  UEats-Delivery    2025-02-03  CHICKEN CAESAR WRAP   \n",
       "33   963260  UEats-Delivery    2025-02-10  CHICKEN CAESAR WRAP   \n",
       "34   963260  UEats-Delivery    2025-02-17  CHICKEN CAESAR WRAP   \n",
       "35   963260  UEats-Delivery    2025-02-24  CHICKEN CAESAR WRAP   \n",
       "36   963260  UEats-Delivery    2025-03-03  CHICKEN CAESAR WRAP   \n",
       "37   963260  UEats-Delivery    2025-03-10  CHICKEN CAESAR WRAP   \n",
       "38   963260  UEats-Delivery    2025-03-17  CHICKEN CAESAR WRAP   \n",
       "39   963260  UEats-Delivery    2025-03-24  CHICKEN CAESAR WRAP   \n",
       "40   963260  UEats-Delivery    2025-03-31  CHICKEN CAESAR WRAP   \n",
       "41   963260  UEats-Delivery    2025-04-07  CHICKEN CAESAR WRAP   \n",
       "42   963260  UEats-Delivery    2025-04-14  CHICKEN CAESAR WRAP   \n",
       "43   963260  UEats-Delivery    2025-04-21  CHICKEN CAESAR WRAP   \n",
       "\n",
       "    item_weekly_volumn  item_weekly_revenue  \n",
       "32                  99              2134.01  \n",
       "33                  90              1939.10  \n",
       "34                  78              1623.22  \n",
       "35                  28               546.22  \n",
       "36                  27               534.73  \n",
       "37                  31               611.69  \n",
       "38                  23               468.27  \n",
       "39                  40               787.60  \n",
       "40                  25               533.25  \n",
       "41                  30               601.20  \n",
       "42                  25               495.75  \n",
       "43                  28               556.22  "
      ]
     },
     "execution_count": 62,
     "metadata": {},
     "output_type": "execute_result"
    }
   ],
   "source": [
    "ccw=filtered_df[(filtered_df['StoreId']==963260) & (filtered_df['OrderType']=='UEats-Delivery') &(filtered_df['MenuItemName']=='CHICKEN CAESAR WRAP')].sort_values(by='WeekStartDate')[['StoreId','OrderType','WeekStartDate','MenuItemName','item_weekly_volumn','item_weekly_revenue']]\n",
    "ccw               \n"
   ]
  },
  {
   "cell_type": "code",
   "execution_count": 60,
   "metadata": {},
   "outputs": [
    {
     "name": "stdout",
     "output_type": "stream",
     "text": [
      "Item volume decreased by 68% from the high period to the low period\n"
     ]
    }
   ],
   "source": [
    "# Chicken Caesar Wrap \n",
    "# First 3 weeks: High period \n",
    "avg_high_period = ccw['item_weekly_volumn'].iloc[0:3].mean()\n",
    "\n",
    "# Remaining 9 weeks: Low period\n",
    "avg_low_period = ccw['item_weekly_volumn'].iloc[3:].mean()\n",
    "\n",
    "pct_change = math.ceil(((avg_high_period-avg_low_period) / avg_high_period)*100)\n",
    "\n",
    "print(f'Item volume decreased by {pct_change}% from the high period to the low period')\n"
   ]
  },
  {
   "cell_type": "code",
   "execution_count": 53,
   "metadata": {},
   "outputs": [
    {
     "name": "stdout",
     "output_type": "stream",
     "text": [
      "60.44444444444444\n"
     ]
    }
   ],
   "source": [
    "print(avg_high_period-avg_low_period)\n"
   ]
  },
  {
   "cell_type": "code",
   "execution_count": 44,
   "metadata": {},
   "outputs": [
    {
     "data": {
      "text/html": [
       "<div>\n",
       "<style scoped>\n",
       "    .dataframe tbody tr th:only-of-type {\n",
       "        vertical-align: middle;\n",
       "    }\n",
       "\n",
       "    .dataframe tbody tr th {\n",
       "        vertical-align: top;\n",
       "    }\n",
       "\n",
       "    .dataframe thead th {\n",
       "        text-align: right;\n",
       "    }\n",
       "</style>\n",
       "<table border=\"1\" class=\"dataframe\">\n",
       "  <thead>\n",
       "    <tr style=\"text-align: right;\">\n",
       "      <th></th>\n",
       "      <th>WeekStartDate</th>\n",
       "      <th>item_weekly_volumn</th>\n",
       "      <th>OrderType</th>\n",
       "    </tr>\n",
       "  </thead>\n",
       "  <tbody>\n",
       "    <tr>\n",
       "      <th>122</th>\n",
       "      <td>2025-02-03</td>\n",
       "      <td>96</td>\n",
       "      <td>UEats-Delivery</td>\n",
       "    </tr>\n",
       "    <tr>\n",
       "      <th>123</th>\n",
       "      <td>2025-02-10</td>\n",
       "      <td>98</td>\n",
       "      <td>UEats-Delivery</td>\n",
       "    </tr>\n",
       "    <tr>\n",
       "      <th>124</th>\n",
       "      <td>2025-02-17</td>\n",
       "      <td>109</td>\n",
       "      <td>UEats-Delivery</td>\n",
       "    </tr>\n",
       "    <tr>\n",
       "      <th>125</th>\n",
       "      <td>2025-02-24</td>\n",
       "      <td>130</td>\n",
       "      <td>UEats-Delivery</td>\n",
       "    </tr>\n",
       "    <tr>\n",
       "      <th>126</th>\n",
       "      <td>2025-03-03</td>\n",
       "      <td>144</td>\n",
       "      <td>UEats-Delivery</td>\n",
       "    </tr>\n",
       "    <tr>\n",
       "      <th>127</th>\n",
       "      <td>2025-03-10</td>\n",
       "      <td>44</td>\n",
       "      <td>UEats-Delivery</td>\n",
       "    </tr>\n",
       "    <tr>\n",
       "      <th>128</th>\n",
       "      <td>2025-03-17</td>\n",
       "      <td>24</td>\n",
       "      <td>UEats-Delivery</td>\n",
       "    </tr>\n",
       "    <tr>\n",
       "      <th>129</th>\n",
       "      <td>2025-03-24</td>\n",
       "      <td>16</td>\n",
       "      <td>UEats-Delivery</td>\n",
       "    </tr>\n",
       "    <tr>\n",
       "      <th>130</th>\n",
       "      <td>2025-03-31</td>\n",
       "      <td>12</td>\n",
       "      <td>UEats-Delivery</td>\n",
       "    </tr>\n",
       "    <tr>\n",
       "      <th>131</th>\n",
       "      <td>2025-04-07</td>\n",
       "      <td>15</td>\n",
       "      <td>UEats-Delivery</td>\n",
       "    </tr>\n",
       "    <tr>\n",
       "      <th>132</th>\n",
       "      <td>2025-04-14</td>\n",
       "      <td>14</td>\n",
       "      <td>UEats-Delivery</td>\n",
       "    </tr>\n",
       "    <tr>\n",
       "      <th>133</th>\n",
       "      <td>2025-04-21</td>\n",
       "      <td>16</td>\n",
       "      <td>UEats-Delivery</td>\n",
       "    </tr>\n",
       "  </tbody>\n",
       "</table>\n",
       "</div>"
      ],
      "text/plain": [
       "    WeekStartDate  item_weekly_volumn       OrderType\n",
       "122    2025-02-03                  96  UEats-Delivery\n",
       "123    2025-02-10                  98  UEats-Delivery\n",
       "124    2025-02-17                 109  UEats-Delivery\n",
       "125    2025-02-24                 130  UEats-Delivery\n",
       "126    2025-03-03                 144  UEats-Delivery\n",
       "127    2025-03-10                  44  UEats-Delivery\n",
       "128    2025-03-17                  24  UEats-Delivery\n",
       "129    2025-03-24                  16  UEats-Delivery\n",
       "130    2025-03-31                  12  UEats-Delivery\n",
       "131    2025-04-07                  15  UEats-Delivery\n",
       "132    2025-04-14                  14  UEats-Delivery\n",
       "133    2025-04-21                  16  UEats-Delivery"
      ]
     },
     "execution_count": 44,
     "metadata": {},
     "output_type": "execute_result"
    }
   ],
   "source": [
    "liv_wrap=filtered_df[(filtered_df['StoreId']==963290) & (filtered_df['OrderType']=='UEats-Delivery') &(filtered_df['MenuItemName']=='LIV WRAP')].sort_values(by='WeekStartDate')[['WeekStartDate','item_weekly_volumn','OrderType']]\n",
    "liv_wrap\n"
   ]
  },
  {
   "cell_type": "code",
   "execution_count": 57,
   "metadata": {},
   "outputs": [
    {
     "name": "stdout",
     "output_type": "stream",
     "text": [
      "Item volume decreased by 83% from the high period to the low period\n"
     ]
    }
   ],
   "source": [
    "#LIV WRAP\n",
    "# First 5 weeks: High period\n",
    "avg_high_period = liv_wrap['item_weekly_volumn'].iloc[0:5].mean()\n",
    "\n",
    "# Remaining 7 weeks: Low period\n",
    "avg_low_period = liv_wrap['item_weekly_volumn'].iloc[5:].mean()\n",
    "\n",
    "pct_change = math.ceil(((avg_low_period- avg_high_period) / avg_high_period)*100)\n",
    "\n",
    "print(f'Item volume decreased by {pct_change}% from the high period to the low period')\n"
   ]
  },
  {
   "cell_type": "code",
   "execution_count": 46,
   "metadata": {},
   "outputs": [
    {
     "data": {
      "application/vnd.plotly.v1+json": {
       "config": {
        "plotlyServerURL": "https://plot.ly"
       },
       "data": [
        {
         "hovertemplate": "StoreId=963260<br>MenuItemName=CHICKEN CAESAR WRAP<br>WeekStartDate=%{x}<br>item_weekly_volumn=%{y}<extra></extra>",
         "legendgroup": "",
         "line": {
          "color": "#636efa",
          "dash": "solid"
         },
         "marker": {
          "symbol": "circle"
         },
         "mode": "lines+markers",
         "name": "",
         "orientation": "v",
         "showlegend": false,
         "type": "scatter",
         "x": [
          "2024-04-01T00:00:00.000000000",
          "2024-04-08T00:00:00.000000000",
          "2024-04-15T00:00:00.000000000",
          "2024-04-22T00:00:00.000000000",
          "2024-04-29T00:00:00.000000000",
          "2024-05-06T00:00:00.000000000",
          "2024-05-27T00:00:00.000000000",
          "2024-06-03T00:00:00.000000000",
          "2024-06-10T00:00:00.000000000",
          "2024-06-17T00:00:00.000000000",
          "2024-06-24T00:00:00.000000000",
          "2024-07-01T00:00:00.000000000",
          "2024-07-08T00:00:00.000000000",
          "2024-07-15T00:00:00.000000000",
          "2024-07-22T00:00:00.000000000",
          "2024-07-29T00:00:00.000000000",
          "2024-08-05T00:00:00.000000000",
          "2024-08-12T00:00:00.000000000",
          "2024-08-19T00:00:00.000000000",
          "2024-08-26T00:00:00.000000000",
          "2024-09-02T00:00:00.000000000",
          "2024-09-09T00:00:00.000000000",
          "2024-09-16T00:00:00.000000000",
          "2024-09-23T00:00:00.000000000",
          "2024-09-30T00:00:00.000000000",
          "2024-10-07T00:00:00.000000000",
          "2024-10-14T00:00:00.000000000",
          "2024-10-21T00:00:00.000000000",
          "2024-10-28T00:00:00.000000000",
          "2024-11-04T00:00:00.000000000",
          "2024-11-11T00:00:00.000000000",
          "2024-11-18T00:00:00.000000000",
          "2024-11-25T00:00:00.000000000",
          "2024-12-02T00:00:00.000000000",
          "2024-12-09T00:00:00.000000000",
          "2024-12-16T00:00:00.000000000",
          "2024-12-23T00:00:00.000000000",
          "2024-12-30T00:00:00.000000000",
          "2025-01-06T00:00:00.000000000",
          "2025-01-13T00:00:00.000000000",
          "2025-01-20T00:00:00.000000000",
          "2025-01-27T00:00:00.000000000",
          "2025-02-03T00:00:00.000000000",
          "2025-02-10T00:00:00.000000000",
          "2025-02-17T00:00:00.000000000",
          "2025-02-24T00:00:00.000000000",
          "2025-03-03T00:00:00.000000000",
          "2025-03-10T00:00:00.000000000",
          "2025-03-17T00:00:00.000000000",
          "2025-03-24T00:00:00.000000000",
          "2025-03-31T00:00:00.000000000",
          "2025-04-07T00:00:00.000000000",
          "2025-04-14T00:00:00.000000000",
          "2025-04-21T00:00:00.000000000",
          "2025-04-28T00:00:00.000000000"
         ],
         "xaxis": "x5",
         "y": {
          "bdata": "PwCDAK8AfwBHAAsAHAAzACEAHAA+ABcAGwAbABAADgA2AHsAYABkAGUAigBzAH8ALwATABwAIAAnABUAEwAXABsANQAZABoAEgAWABMAGQBjAGQAYwBaAE4AHAAbAB8AFwAoABkAHgAZABwADQA=",
          "dtype": "i2"
         },
         "yaxis": "y5"
        },
        {
         "hovertemplate": "StoreId=963260<br>MenuItemName=LIV WRAP<br>WeekStartDate=%{x}<br>item_weekly_volumn=%{y}<extra></extra>",
         "legendgroup": "",
         "line": {
          "color": "#636efa",
          "dash": "solid"
         },
         "marker": {
          "symbol": "circle"
         },
         "mode": "lines+markers",
         "name": "",
         "orientation": "v",
         "showlegend": false,
         "type": "scatter",
         "x": [
          "2024-04-01T00:00:00.000000000",
          "2024-04-08T00:00:00.000000000",
          "2024-04-15T00:00:00.000000000",
          "2024-04-22T00:00:00.000000000",
          "2024-04-29T00:00:00.000000000",
          "2024-05-06T00:00:00.000000000",
          "2024-05-27T00:00:00.000000000",
          "2024-06-03T00:00:00.000000000",
          "2024-06-10T00:00:00.000000000",
          "2024-06-17T00:00:00.000000000",
          "2024-06-24T00:00:00.000000000",
          "2024-07-01T00:00:00.000000000",
          "2024-07-08T00:00:00.000000000",
          "2024-07-15T00:00:00.000000000",
          "2024-07-22T00:00:00.000000000",
          "2024-07-29T00:00:00.000000000",
          "2024-08-05T00:00:00.000000000",
          "2024-08-12T00:00:00.000000000",
          "2024-08-19T00:00:00.000000000",
          "2024-08-26T00:00:00.000000000",
          "2024-09-02T00:00:00.000000000",
          "2024-09-09T00:00:00.000000000",
          "2024-09-16T00:00:00.000000000",
          "2024-09-23T00:00:00.000000000",
          "2024-09-30T00:00:00.000000000",
          "2024-10-07T00:00:00.000000000",
          "2024-10-14T00:00:00.000000000",
          "2024-10-21T00:00:00.000000000",
          "2024-10-28T00:00:00.000000000",
          "2024-11-04T00:00:00.000000000",
          "2024-11-11T00:00:00.000000000",
          "2024-11-18T00:00:00.000000000",
          "2024-11-25T00:00:00.000000000",
          "2024-12-02T00:00:00.000000000",
          "2024-12-09T00:00:00.000000000",
          "2024-12-16T00:00:00.000000000",
          "2024-12-23T00:00:00.000000000",
          "2024-12-30T00:00:00.000000000",
          "2025-01-06T00:00:00.000000000",
          "2025-01-13T00:00:00.000000000",
          "2025-01-20T00:00:00.000000000",
          "2025-01-27T00:00:00.000000000",
          "2025-02-03T00:00:00.000000000",
          "2025-02-10T00:00:00.000000000",
          "2025-02-17T00:00:00.000000000",
          "2025-02-24T00:00:00.000000000",
          "2025-03-03T00:00:00.000000000",
          "2025-03-10T00:00:00.000000000",
          "2025-03-17T00:00:00.000000000",
          "2025-03-24T00:00:00.000000000",
          "2025-03-31T00:00:00.000000000",
          "2025-04-07T00:00:00.000000000",
          "2025-04-14T00:00:00.000000000",
          "2025-04-21T00:00:00.000000000",
          "2025-04-28T00:00:00.000000000"
         ],
         "xaxis": "x6",
         "y": {
          "bdata": "GxcRDBoPDBpuSTk1LjxANiE/OD4FCwcIDQwNAyFROE03PDdSPEZVZC48ND0wR1kdFRIJBwsIAg==",
          "dtype": "i1"
         },
         "yaxis": "y6"
        },
        {
         "hovertemplate": "StoreId=963280<br>MenuItemName=CHICKEN CAESAR WRAP<br>WeekStartDate=%{x}<br>item_weekly_volumn=%{y}<extra></extra>",
         "legendgroup": "",
         "line": {
          "color": "#636efa",
          "dash": "solid"
         },
         "marker": {
          "symbol": "circle"
         },
         "mode": "lines+markers",
         "name": "",
         "orientation": "v",
         "showlegend": false,
         "type": "scatter",
         "x": [
          "2024-04-01T00:00:00.000000000",
          "2024-04-08T00:00:00.000000000",
          "2024-04-15T00:00:00.000000000",
          "2024-04-22T00:00:00.000000000",
          "2024-04-29T00:00:00.000000000",
          "2024-05-06T00:00:00.000000000",
          "2024-05-13T00:00:00.000000000",
          "2024-05-20T00:00:00.000000000",
          "2024-05-27T00:00:00.000000000",
          "2024-06-03T00:00:00.000000000",
          "2024-06-10T00:00:00.000000000",
          "2024-06-17T00:00:00.000000000",
          "2024-06-24T00:00:00.000000000",
          "2024-07-01T00:00:00.000000000",
          "2024-07-08T00:00:00.000000000",
          "2024-07-15T00:00:00.000000000",
          "2024-07-22T00:00:00.000000000",
          "2024-07-29T00:00:00.000000000",
          "2024-08-05T00:00:00.000000000",
          "2024-08-12T00:00:00.000000000",
          "2024-08-19T00:00:00.000000000",
          "2024-08-26T00:00:00.000000000",
          "2024-09-02T00:00:00.000000000",
          "2024-09-09T00:00:00.000000000",
          "2024-09-16T00:00:00.000000000",
          "2024-09-23T00:00:00.000000000",
          "2024-09-30T00:00:00.000000000",
          "2024-10-07T00:00:00.000000000",
          "2024-10-14T00:00:00.000000000",
          "2024-10-21T00:00:00.000000000",
          "2024-10-28T00:00:00.000000000",
          "2024-11-04T00:00:00.000000000",
          "2024-11-11T00:00:00.000000000",
          "2024-11-18T00:00:00.000000000",
          "2024-11-25T00:00:00.000000000",
          "2024-12-02T00:00:00.000000000",
          "2024-12-09T00:00:00.000000000",
          "2024-12-16T00:00:00.000000000",
          "2024-12-23T00:00:00.000000000",
          "2024-12-30T00:00:00.000000000",
          "2025-01-06T00:00:00.000000000",
          "2025-01-13T00:00:00.000000000",
          "2025-01-20T00:00:00.000000000",
          "2025-01-27T00:00:00.000000000",
          "2025-02-03T00:00:00.000000000",
          "2025-02-10T00:00:00.000000000",
          "2025-02-17T00:00:00.000000000",
          "2025-02-24T00:00:00.000000000",
          "2025-03-03T00:00:00.000000000",
          "2025-03-10T00:00:00.000000000",
          "2025-03-17T00:00:00.000000000",
          "2025-03-24T00:00:00.000000000",
          "2025-03-31T00:00:00.000000000"
         ],
         "xaxis": "x3",
         "y": {
          "bdata": "SAC0AKwAggBeACAAFAApADAASgAZABwAUAAZACAAHQARABUANAByAGMAYwBkAHMAfAB6ADkAIgAoACUAJgAwACkAJgAeACMAIwAcABUAIAAaABkAawB3AGIARgA2ABUAGgAZAA8AGAAEAA==",
          "dtype": "i2"
         },
         "yaxis": "y3"
        },
        {
         "hovertemplate": "StoreId=963280<br>MenuItemName=LIV WRAP<br>WeekStartDate=%{x}<br>item_weekly_volumn=%{y}<extra></extra>",
         "legendgroup": "",
         "line": {
          "color": "#636efa",
          "dash": "solid"
         },
         "marker": {
          "symbol": "circle"
         },
         "mode": "lines+markers",
         "name": "",
         "orientation": "v",
         "showlegend": false,
         "type": "scatter",
         "x": [
          "2024-04-01T00:00:00.000000000",
          "2024-04-08T00:00:00.000000000",
          "2024-04-15T00:00:00.000000000",
          "2024-04-22T00:00:00.000000000",
          "2024-04-29T00:00:00.000000000",
          "2024-05-06T00:00:00.000000000",
          "2024-05-13T00:00:00.000000000",
          "2024-05-20T00:00:00.000000000",
          "2024-05-27T00:00:00.000000000",
          "2024-06-03T00:00:00.000000000",
          "2024-06-10T00:00:00.000000000",
          "2024-06-17T00:00:00.000000000",
          "2024-06-24T00:00:00.000000000",
          "2024-07-01T00:00:00.000000000",
          "2024-07-08T00:00:00.000000000",
          "2024-07-15T00:00:00.000000000",
          "2024-07-22T00:00:00.000000000",
          "2024-07-29T00:00:00.000000000",
          "2024-08-05T00:00:00.000000000",
          "2024-08-12T00:00:00.000000000",
          "2024-08-19T00:00:00.000000000",
          "2024-08-26T00:00:00.000000000",
          "2024-09-02T00:00:00.000000000",
          "2024-09-09T00:00:00.000000000",
          "2024-09-16T00:00:00.000000000",
          "2024-09-23T00:00:00.000000000",
          "2024-09-30T00:00:00.000000000",
          "2024-10-07T00:00:00.000000000",
          "2024-10-14T00:00:00.000000000",
          "2024-10-21T00:00:00.000000000",
          "2024-10-28T00:00:00.000000000",
          "2024-11-04T00:00:00.000000000",
          "2024-11-11T00:00:00.000000000",
          "2024-11-18T00:00:00.000000000",
          "2024-11-25T00:00:00.000000000",
          "2024-12-02T00:00:00.000000000",
          "2024-12-09T00:00:00.000000000",
          "2024-12-16T00:00:00.000000000",
          "2024-12-23T00:00:00.000000000",
          "2024-12-30T00:00:00.000000000",
          "2025-01-06T00:00:00.000000000",
          "2025-01-13T00:00:00.000000000",
          "2025-01-20T00:00:00.000000000",
          "2025-01-27T00:00:00.000000000",
          "2025-02-03T00:00:00.000000000",
          "2025-02-10T00:00:00.000000000",
          "2025-02-17T00:00:00.000000000",
          "2025-02-24T00:00:00.000000000",
          "2025-03-03T00:00:00.000000000",
          "2025-03-10T00:00:00.000000000",
          "2025-03-17T00:00:00.000000000",
          "2025-03-24T00:00:00.000000000",
          "2025-03-31T00:00:00.000000000"
         ],
         "xaxis": "x4",
         "y": {
          "bdata": "HQAoABsAJwAmACQAMwApACcAIQBGAF4AKwAkAC4APwBGACIAHwBJADoAQAANABQAEAAVAA8ADAATABUAJQBLAEsAQABNADkAMABvAEQAUgCSAGYAVQBgAF0AQwBYAGIAVQAfABMAIAAHAA==",
          "dtype": "i2"
         },
         "yaxis": "y4"
        },
        {
         "hovertemplate": "StoreId=963290<br>MenuItemName=CHICKEN CAESAR WRAP<br>WeekStartDate=%{x}<br>item_weekly_volumn=%{y}<extra></extra>",
         "legendgroup": "",
         "line": {
          "color": "#636efa",
          "dash": "solid"
         },
         "marker": {
          "symbol": "circle"
         },
         "mode": "lines+markers",
         "name": "",
         "orientation": "v",
         "showlegend": false,
         "type": "scatter",
         "x": [
          "2024-04-01T00:00:00.000000000",
          "2024-04-08T00:00:00.000000000",
          "2024-04-15T00:00:00.000000000",
          "2024-04-22T00:00:00.000000000",
          "2024-04-29T00:00:00.000000000",
          "2024-05-06T00:00:00.000000000",
          "2024-05-13T00:00:00.000000000",
          "2024-05-20T00:00:00.000000000",
          "2024-05-27T00:00:00.000000000",
          "2024-06-03T00:00:00.000000000",
          "2024-06-10T00:00:00.000000000",
          "2024-06-17T00:00:00.000000000",
          "2024-06-24T00:00:00.000000000",
          "2024-07-01T00:00:00.000000000",
          "2024-07-08T00:00:00.000000000",
          "2024-07-15T00:00:00.000000000",
          "2024-07-22T00:00:00.000000000",
          "2024-07-29T00:00:00.000000000",
          "2024-08-05T00:00:00.000000000",
          "2024-08-12T00:00:00.000000000",
          "2024-08-19T00:00:00.000000000",
          "2024-08-26T00:00:00.000000000",
          "2024-09-02T00:00:00.000000000",
          "2024-09-09T00:00:00.000000000",
          "2024-09-16T00:00:00.000000000",
          "2024-09-23T00:00:00.000000000",
          "2024-09-30T00:00:00.000000000",
          "2024-10-07T00:00:00.000000000",
          "2024-10-14T00:00:00.000000000",
          "2024-10-21T00:00:00.000000000",
          "2024-10-28T00:00:00.000000000",
          "2024-11-04T00:00:00.000000000",
          "2024-11-11T00:00:00.000000000",
          "2024-11-18T00:00:00.000000000",
          "2024-11-25T00:00:00.000000000",
          "2024-12-02T00:00:00.000000000",
          "2024-12-09T00:00:00.000000000",
          "2024-12-16T00:00:00.000000000",
          "2024-12-23T00:00:00.000000000",
          "2024-12-30T00:00:00.000000000",
          "2025-01-06T00:00:00.000000000",
          "2025-01-13T00:00:00.000000000",
          "2025-01-20T00:00:00.000000000",
          "2025-01-27T00:00:00.000000000",
          "2025-02-03T00:00:00.000000000",
          "2025-02-10T00:00:00.000000000",
          "2025-02-17T00:00:00.000000000",
          "2025-02-24T00:00:00.000000000",
          "2025-03-03T00:00:00.000000000",
          "2025-03-10T00:00:00.000000000",
          "2025-03-17T00:00:00.000000000",
          "2025-03-24T00:00:00.000000000",
          "2025-03-31T00:00:00.000000000",
          "2025-04-07T00:00:00.000000000",
          "2025-04-14T00:00:00.000000000",
          "2025-04-21T00:00:00.000000000",
          "2025-04-28T00:00:00.000000000"
         ],
         "xaxis": "x",
         "y": {
          "bdata": "aQDbALAA6QBHADQAQwAnAEUAdgAnACgAWgAeACMAGwAhACEARgCoAGcAlwDsAOEArQD3ADsAJgAtACYAJwAnADUAIgAhACcALAAdACAAHwAqAC4AjQCGAJwAlgBTADIALQAsADQAMAApADIAJAAgABIA",
          "dtype": "i2"
         },
         "yaxis": "y"
        },
        {
         "hovertemplate": "StoreId=963290<br>MenuItemName=LIV WRAP<br>WeekStartDate=%{x}<br>item_weekly_volumn=%{y}<extra></extra>",
         "legendgroup": "",
         "line": {
          "color": "#636efa",
          "dash": "solid"
         },
         "marker": {
          "symbol": "circle"
         },
         "mode": "lines+markers",
         "name": "",
         "orientation": "v",
         "showlegend": false,
         "type": "scatter",
         "x": [
          "2024-04-01T00:00:00.000000000",
          "2024-04-08T00:00:00.000000000",
          "2024-04-15T00:00:00.000000000",
          "2024-04-22T00:00:00.000000000",
          "2024-04-29T00:00:00.000000000",
          "2024-05-06T00:00:00.000000000",
          "2024-05-13T00:00:00.000000000",
          "2024-05-20T00:00:00.000000000",
          "2024-05-27T00:00:00.000000000",
          "2024-06-03T00:00:00.000000000",
          "2024-06-10T00:00:00.000000000",
          "2024-06-17T00:00:00.000000000",
          "2024-06-24T00:00:00.000000000",
          "2024-07-01T00:00:00.000000000",
          "2024-07-08T00:00:00.000000000",
          "2024-07-15T00:00:00.000000000",
          "2024-07-22T00:00:00.000000000",
          "2024-07-29T00:00:00.000000000",
          "2024-08-05T00:00:00.000000000",
          "2024-08-12T00:00:00.000000000",
          "2024-08-19T00:00:00.000000000",
          "2024-08-26T00:00:00.000000000",
          "2024-09-02T00:00:00.000000000",
          "2024-09-09T00:00:00.000000000",
          "2024-09-16T00:00:00.000000000",
          "2024-09-23T00:00:00.000000000",
          "2024-09-30T00:00:00.000000000",
          "2024-10-07T00:00:00.000000000",
          "2024-10-14T00:00:00.000000000",
          "2024-10-21T00:00:00.000000000",
          "2024-10-28T00:00:00.000000000",
          "2024-11-04T00:00:00.000000000",
          "2024-11-11T00:00:00.000000000",
          "2024-11-18T00:00:00.000000000",
          "2024-11-25T00:00:00.000000000",
          "2024-12-02T00:00:00.000000000",
          "2024-12-09T00:00:00.000000000",
          "2024-12-16T00:00:00.000000000",
          "2024-12-23T00:00:00.000000000",
          "2024-12-30T00:00:00.000000000",
          "2025-01-06T00:00:00.000000000",
          "2025-01-13T00:00:00.000000000",
          "2025-01-20T00:00:00.000000000",
          "2025-01-27T00:00:00.000000000",
          "2025-02-03T00:00:00.000000000",
          "2025-02-10T00:00:00.000000000",
          "2025-02-17T00:00:00.000000000",
          "2025-02-24T00:00:00.000000000",
          "2025-03-03T00:00:00.000000000",
          "2025-03-10T00:00:00.000000000",
          "2025-03-17T00:00:00.000000000",
          "2025-03-24T00:00:00.000000000",
          "2025-03-31T00:00:00.000000000",
          "2025-04-07T00:00:00.000000000",
          "2025-04-14T00:00:00.000000000",
          "2025-04-21T00:00:00.000000000",
          "2025-04-28T00:00:00.000000000"
         ],
         "xaxis": "x2",
         "y": {
          "bdata": "LwAqAC0AEwBQAD0ASgBMAEkAUQCRAHEATABAAFcASABYADYARQB8AGUAhAAYABAAEgAOABoAFAAZAAoAUQBqAG4AZABmAFQAXQCyAF0AlgCWAIMAVABwAGAAYgBtAIIAkAAsABgAEAAMAA8ADgAQAAgA",
          "dtype": "i2"
         },
         "yaxis": "y2"
        }
       ],
       "layout": {
        "annotations": [
         {
          "font": {},
          "showarrow": false,
          "text": "CHICKEN CAESAR WRAP",
          "x": 0.24,
          "xanchor": "center",
          "xref": "paper",
          "y": 0.9999999999999998,
          "yanchor": "bottom",
          "yref": "paper"
         },
         {
          "font": {},
          "showarrow": false,
          "text": "LIV WRAP",
          "x": 0.74,
          "xanchor": "center",
          "xref": "paper",
          "y": 0.9999999999999998,
          "yanchor": "bottom",
          "yref": "paper"
         },
         {
          "font": {},
          "showarrow": false,
          "text": "963290",
          "textangle": 90,
          "x": 0.98,
          "xanchor": "left",
          "xref": "paper",
          "y": 0.15666666666666665,
          "yanchor": "middle",
          "yref": "paper"
         },
         {
          "font": {},
          "showarrow": false,
          "text": "963280",
          "textangle": 90,
          "x": 0.98,
          "xanchor": "left",
          "xref": "paper",
          "y": 0.4999999999999999,
          "yanchor": "middle",
          "yref": "paper"
         },
         {
          "font": {},
          "showarrow": false,
          "text": "963260",
          "textangle": 90,
          "x": 0.98,
          "xanchor": "left",
          "xref": "paper",
          "y": 0.8433333333333332,
          "yanchor": "middle",
          "yref": "paper"
         }
        ],
        "legend": {
         "tracegroupgap": 0
        },
        "template": {
         "data": {
          "bar": [
           {
            "error_x": {
             "color": "#2a3f5f"
            },
            "error_y": {
             "color": "#2a3f5f"
            },
            "marker": {
             "line": {
              "color": "#E5ECF6",
              "width": 0.5
             },
             "pattern": {
              "fillmode": "overlay",
              "size": 10,
              "solidity": 0.2
             }
            },
            "type": "bar"
           }
          ],
          "barpolar": [
           {
            "marker": {
             "line": {
              "color": "#E5ECF6",
              "width": 0.5
             },
             "pattern": {
              "fillmode": "overlay",
              "size": 10,
              "solidity": 0.2
             }
            },
            "type": "barpolar"
           }
          ],
          "carpet": [
           {
            "aaxis": {
             "endlinecolor": "#2a3f5f",
             "gridcolor": "white",
             "linecolor": "white",
             "minorgridcolor": "white",
             "startlinecolor": "#2a3f5f"
            },
            "baxis": {
             "endlinecolor": "#2a3f5f",
             "gridcolor": "white",
             "linecolor": "white",
             "minorgridcolor": "white",
             "startlinecolor": "#2a3f5f"
            },
            "type": "carpet"
           }
          ],
          "choropleth": [
           {
            "colorbar": {
             "outlinewidth": 0,
             "ticks": ""
            },
            "type": "choropleth"
           }
          ],
          "contour": [
           {
            "colorbar": {
             "outlinewidth": 0,
             "ticks": ""
            },
            "colorscale": [
             [
              0,
              "#0d0887"
             ],
             [
              0.1111111111111111,
              "#46039f"
             ],
             [
              0.2222222222222222,
              "#7201a8"
             ],
             [
              0.3333333333333333,
              "#9c179e"
             ],
             [
              0.4444444444444444,
              "#bd3786"
             ],
             [
              0.5555555555555556,
              "#d8576b"
             ],
             [
              0.6666666666666666,
              "#ed7953"
             ],
             [
              0.7777777777777778,
              "#fb9f3a"
             ],
             [
              0.8888888888888888,
              "#fdca26"
             ],
             [
              1,
              "#f0f921"
             ]
            ],
            "type": "contour"
           }
          ],
          "contourcarpet": [
           {
            "colorbar": {
             "outlinewidth": 0,
             "ticks": ""
            },
            "type": "contourcarpet"
           }
          ],
          "heatmap": [
           {
            "colorbar": {
             "outlinewidth": 0,
             "ticks": ""
            },
            "colorscale": [
             [
              0,
              "#0d0887"
             ],
             [
              0.1111111111111111,
              "#46039f"
             ],
             [
              0.2222222222222222,
              "#7201a8"
             ],
             [
              0.3333333333333333,
              "#9c179e"
             ],
             [
              0.4444444444444444,
              "#bd3786"
             ],
             [
              0.5555555555555556,
              "#d8576b"
             ],
             [
              0.6666666666666666,
              "#ed7953"
             ],
             [
              0.7777777777777778,
              "#fb9f3a"
             ],
             [
              0.8888888888888888,
              "#fdca26"
             ],
             [
              1,
              "#f0f921"
             ]
            ],
            "type": "heatmap"
           }
          ],
          "histogram": [
           {
            "marker": {
             "pattern": {
              "fillmode": "overlay",
              "size": 10,
              "solidity": 0.2
             }
            },
            "type": "histogram"
           }
          ],
          "histogram2d": [
           {
            "colorbar": {
             "outlinewidth": 0,
             "ticks": ""
            },
            "colorscale": [
             [
              0,
              "#0d0887"
             ],
             [
              0.1111111111111111,
              "#46039f"
             ],
             [
              0.2222222222222222,
              "#7201a8"
             ],
             [
              0.3333333333333333,
              "#9c179e"
             ],
             [
              0.4444444444444444,
              "#bd3786"
             ],
             [
              0.5555555555555556,
              "#d8576b"
             ],
             [
              0.6666666666666666,
              "#ed7953"
             ],
             [
              0.7777777777777778,
              "#fb9f3a"
             ],
             [
              0.8888888888888888,
              "#fdca26"
             ],
             [
              1,
              "#f0f921"
             ]
            ],
            "type": "histogram2d"
           }
          ],
          "histogram2dcontour": [
           {
            "colorbar": {
             "outlinewidth": 0,
             "ticks": ""
            },
            "colorscale": [
             [
              0,
              "#0d0887"
             ],
             [
              0.1111111111111111,
              "#46039f"
             ],
             [
              0.2222222222222222,
              "#7201a8"
             ],
             [
              0.3333333333333333,
              "#9c179e"
             ],
             [
              0.4444444444444444,
              "#bd3786"
             ],
             [
              0.5555555555555556,
              "#d8576b"
             ],
             [
              0.6666666666666666,
              "#ed7953"
             ],
             [
              0.7777777777777778,
              "#fb9f3a"
             ],
             [
              0.8888888888888888,
              "#fdca26"
             ],
             [
              1,
              "#f0f921"
             ]
            ],
            "type": "histogram2dcontour"
           }
          ],
          "mesh3d": [
           {
            "colorbar": {
             "outlinewidth": 0,
             "ticks": ""
            },
            "type": "mesh3d"
           }
          ],
          "parcoords": [
           {
            "line": {
             "colorbar": {
              "outlinewidth": 0,
              "ticks": ""
             }
            },
            "type": "parcoords"
           }
          ],
          "pie": [
           {
            "automargin": true,
            "type": "pie"
           }
          ],
          "scatter": [
           {
            "fillpattern": {
             "fillmode": "overlay",
             "size": 10,
             "solidity": 0.2
            },
            "type": "scatter"
           }
          ],
          "scatter3d": [
           {
            "line": {
             "colorbar": {
              "outlinewidth": 0,
              "ticks": ""
             }
            },
            "marker": {
             "colorbar": {
              "outlinewidth": 0,
              "ticks": ""
             }
            },
            "type": "scatter3d"
           }
          ],
          "scattercarpet": [
           {
            "marker": {
             "colorbar": {
              "outlinewidth": 0,
              "ticks": ""
             }
            },
            "type": "scattercarpet"
           }
          ],
          "scattergeo": [
           {
            "marker": {
             "colorbar": {
              "outlinewidth": 0,
              "ticks": ""
             }
            },
            "type": "scattergeo"
           }
          ],
          "scattergl": [
           {
            "marker": {
             "colorbar": {
              "outlinewidth": 0,
              "ticks": ""
             }
            },
            "type": "scattergl"
           }
          ],
          "scattermap": [
           {
            "marker": {
             "colorbar": {
              "outlinewidth": 0,
              "ticks": ""
             }
            },
            "type": "scattermap"
           }
          ],
          "scattermapbox": [
           {
            "marker": {
             "colorbar": {
              "outlinewidth": 0,
              "ticks": ""
             }
            },
            "type": "scattermapbox"
           }
          ],
          "scatterpolar": [
           {
            "marker": {
             "colorbar": {
              "outlinewidth": 0,
              "ticks": ""
             }
            },
            "type": "scatterpolar"
           }
          ],
          "scatterpolargl": [
           {
            "marker": {
             "colorbar": {
              "outlinewidth": 0,
              "ticks": ""
             }
            },
            "type": "scatterpolargl"
           }
          ],
          "scatterternary": [
           {
            "marker": {
             "colorbar": {
              "outlinewidth": 0,
              "ticks": ""
             }
            },
            "type": "scatterternary"
           }
          ],
          "surface": [
           {
            "colorbar": {
             "outlinewidth": 0,
             "ticks": ""
            },
            "colorscale": [
             [
              0,
              "#0d0887"
             ],
             [
              0.1111111111111111,
              "#46039f"
             ],
             [
              0.2222222222222222,
              "#7201a8"
             ],
             [
              0.3333333333333333,
              "#9c179e"
             ],
             [
              0.4444444444444444,
              "#bd3786"
             ],
             [
              0.5555555555555556,
              "#d8576b"
             ],
             [
              0.6666666666666666,
              "#ed7953"
             ],
             [
              0.7777777777777778,
              "#fb9f3a"
             ],
             [
              0.8888888888888888,
              "#fdca26"
             ],
             [
              1,
              "#f0f921"
             ]
            ],
            "type": "surface"
           }
          ],
          "table": [
           {
            "cells": {
             "fill": {
              "color": "#EBF0F8"
             },
             "line": {
              "color": "white"
             }
            },
            "header": {
             "fill": {
              "color": "#C8D4E3"
             },
             "line": {
              "color": "white"
             }
            },
            "type": "table"
           }
          ]
         },
         "layout": {
          "annotationdefaults": {
           "arrowcolor": "#2a3f5f",
           "arrowhead": 0,
           "arrowwidth": 1
          },
          "autotypenumbers": "strict",
          "coloraxis": {
           "colorbar": {
            "outlinewidth": 0,
            "ticks": ""
           }
          },
          "colorscale": {
           "diverging": [
            [
             0,
             "#8e0152"
            ],
            [
             0.1,
             "#c51b7d"
            ],
            [
             0.2,
             "#de77ae"
            ],
            [
             0.3,
             "#f1b6da"
            ],
            [
             0.4,
             "#fde0ef"
            ],
            [
             0.5,
             "#f7f7f7"
            ],
            [
             0.6,
             "#e6f5d0"
            ],
            [
             0.7,
             "#b8e186"
            ],
            [
             0.8,
             "#7fbc41"
            ],
            [
             0.9,
             "#4d9221"
            ],
            [
             1,
             "#276419"
            ]
           ],
           "sequential": [
            [
             0,
             "#0d0887"
            ],
            [
             0.1111111111111111,
             "#46039f"
            ],
            [
             0.2222222222222222,
             "#7201a8"
            ],
            [
             0.3333333333333333,
             "#9c179e"
            ],
            [
             0.4444444444444444,
             "#bd3786"
            ],
            [
             0.5555555555555556,
             "#d8576b"
            ],
            [
             0.6666666666666666,
             "#ed7953"
            ],
            [
             0.7777777777777778,
             "#fb9f3a"
            ],
            [
             0.8888888888888888,
             "#fdca26"
            ],
            [
             1,
             "#f0f921"
            ]
           ],
           "sequentialminus": [
            [
             0,
             "#0d0887"
            ],
            [
             0.1111111111111111,
             "#46039f"
            ],
            [
             0.2222222222222222,
             "#7201a8"
            ],
            [
             0.3333333333333333,
             "#9c179e"
            ],
            [
             0.4444444444444444,
             "#bd3786"
            ],
            [
             0.5555555555555556,
             "#d8576b"
            ],
            [
             0.6666666666666666,
             "#ed7953"
            ],
            [
             0.7777777777777778,
             "#fb9f3a"
            ],
            [
             0.8888888888888888,
             "#fdca26"
            ],
            [
             1,
             "#f0f921"
            ]
           ]
          },
          "colorway": [
           "#636efa",
           "#EF553B",
           "#00cc96",
           "#ab63fa",
           "#FFA15A",
           "#19d3f3",
           "#FF6692",
           "#B6E880",
           "#FF97FF",
           "#FECB52"
          ],
          "font": {
           "color": "#2a3f5f"
          },
          "geo": {
           "bgcolor": "white",
           "lakecolor": "white",
           "landcolor": "#E5ECF6",
           "showlakes": true,
           "showland": true,
           "subunitcolor": "white"
          },
          "hoverlabel": {
           "align": "left"
          },
          "hovermode": "closest",
          "mapbox": {
           "style": "light"
          },
          "paper_bgcolor": "white",
          "plot_bgcolor": "#E5ECF6",
          "polar": {
           "angularaxis": {
            "gridcolor": "white",
            "linecolor": "white",
            "ticks": ""
           },
           "bgcolor": "#E5ECF6",
           "radialaxis": {
            "gridcolor": "white",
            "linecolor": "white",
            "ticks": ""
           }
          },
          "scene": {
           "xaxis": {
            "backgroundcolor": "#E5ECF6",
            "gridcolor": "white",
            "gridwidth": 2,
            "linecolor": "white",
            "showbackground": true,
            "ticks": "",
            "zerolinecolor": "white"
           },
           "yaxis": {
            "backgroundcolor": "#E5ECF6",
            "gridcolor": "white",
            "gridwidth": 2,
            "linecolor": "white",
            "showbackground": true,
            "ticks": "",
            "zerolinecolor": "white"
           },
           "zaxis": {
            "backgroundcolor": "#E5ECF6",
            "gridcolor": "white",
            "gridwidth": 2,
            "linecolor": "white",
            "showbackground": true,
            "ticks": "",
            "zerolinecolor": "white"
           }
          },
          "shapedefaults": {
           "line": {
            "color": "#2a3f5f"
           }
          },
          "ternary": {
           "aaxis": {
            "gridcolor": "white",
            "linecolor": "white",
            "ticks": ""
           },
           "baxis": {
            "gridcolor": "white",
            "linecolor": "white",
            "ticks": ""
           },
           "bgcolor": "#E5ECF6",
           "caxis": {
            "gridcolor": "white",
            "linecolor": "white",
            "ticks": ""
           }
          },
          "title": {
           "x": 0.05
          },
          "xaxis": {
           "automargin": true,
           "gridcolor": "white",
           "linecolor": "white",
           "ticks": "",
           "title": {
            "standoff": 15
           },
           "zerolinecolor": "white",
           "zerolinewidth": 2
          },
          "yaxis": {
           "automargin": true,
           "gridcolor": "white",
           "linecolor": "white",
           "ticks": "",
           "title": {
            "standoff": 15
           },
           "zerolinecolor": "white",
           "zerolinewidth": 2
          }
         }
        },
        "title": {
         "text": "Weekly Volume on Uber Eats - Delivery"
        },
        "xaxis": {
         "anchor": "y",
         "domain": [
          0,
          0.48
         ],
         "title": {
          "text": "WeekStartDate"
         }
        },
        "xaxis2": {
         "anchor": "y2",
         "domain": [
          0.5,
          0.98
         ],
         "matches": "x",
         "title": {
          "text": "WeekStartDate"
         }
        },
        "xaxis3": {
         "anchor": "y3",
         "domain": [
          0,
          0.48
         ],
         "matches": "x",
         "showticklabels": false
        },
        "xaxis4": {
         "anchor": "y4",
         "domain": [
          0.5,
          0.98
         ],
         "matches": "x",
         "showticklabels": false
        },
        "xaxis5": {
         "anchor": "y5",
         "domain": [
          0,
          0.48
         ],
         "matches": "x",
         "showticklabels": false
        },
        "xaxis6": {
         "anchor": "y6",
         "domain": [
          0.5,
          0.98
         ],
         "matches": "x",
         "showticklabels": false
        },
        "yaxis": {
         "anchor": "x",
         "domain": [
          0,
          0.3133333333333333
         ],
         "title": {}
        },
        "yaxis2": {
         "anchor": "x2",
         "domain": [
          0,
          0.3133333333333333
         ],
         "showticklabels": false
        },
        "yaxis3": {
         "anchor": "x3",
         "domain": [
          0.34333333333333327,
          0.6566666666666665
         ],
         "title": {
          "text": "item_weekly_volumn"
         }
        },
        "yaxis4": {
         "anchor": "x4",
         "domain": [
          0.34333333333333327,
          0.6566666666666665
         ],
         "showticklabels": false
        },
        "yaxis5": {
         "anchor": "x5",
         "domain": [
          0.6866666666666665,
          0.9999999999999998
         ],
         "title": {
          "text": "item_weekly_volumn"
         }
        },
        "yaxis6": {
         "anchor": "x6",
         "domain": [
          0.6866666666666665,
          0.9999999999999998
         ],
         "showticklabels": false
        }
       }
      }
     },
     "metadata": {},
     "output_type": "display_data"
    }
   ],
   "source": [
    "aux=items1[items1['MenuItemName'].isin(['LIV WRAP','CHICKEN CAESAR WRAP']) & (items1['OrderType']=='UEats-Delivery')].dropna()\n",
    "fig = px.line(\n",
    "    aux,\n",
    "    x='WeekStartDate',\n",
    "    y='item_weekly_volumn',\n",
    "  # Highlights decline segment vs normal\n",
    "\n",
    "    facet_col='MenuItemName',\n",
    "    facet_row='StoreId',\n",
    "    markers=True,\n",
    "    title=f'Weekly Volume on Uber Eats - Delivery'\n",
    ")\n",
    "\n",
    "# Clean subplot labels\n",
    "fig.for_each_annotation(lambda a: a.update(text=a.text.split(\"=\")[-1]))\n",
    "fig.update_layout(\n",
    "    annotations=[a for a in fig.layout.annotations if a.text not in ['StoreId', 'OrderType','item_weekly_volumn']],\n",
    "    yaxis_title=None\n",
    ")\n",
    "fig.update_yaxes(matches=None)\n",
    "fig.show()\n"
   ]
  },
  {
   "cell_type": "code",
   "execution_count": null,
   "metadata": {},
   "outputs": [],
   "source": []
  },
  {
   "cell_type": "code",
   "execution_count": null,
   "metadata": {},
   "outputs": [],
   "source": []
  }
 ],
 "metadata": {
  "kernelspec": {
   "display_name": "hm",
   "language": "python",
   "name": "python3"
  },
  "language_info": {
   "codemirror_mode": {
    "name": "ipython",
    "version": 3
   },
   "file_extension": ".py",
   "mimetype": "text/x-python",
   "name": "python",
   "nbconvert_exporter": "python",
   "pygments_lexer": "ipython3",
   "version": "3.12.2"
  }
 },
 "nbformat": 4,
 "nbformat_minor": 2
}
