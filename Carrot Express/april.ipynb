{
 "cells": [
  {
   "cell_type": "code",
   "execution_count": 274,
   "metadata": {},
   "outputs": [],
   "source": [
    "import pandas as pd\n",
    "import plotly.express as px\n",
    "from datetime import timedelta\n",
    "from sklearn.linear_model import LinearRegression\n",
    "import numpy as np\n"
   ]
  },
  {
   "cell_type": "code",
   "execution_count": 275,
   "metadata": {},
   "outputs": [
    {
     "name": "stdout",
     "output_type": "stream",
     "text": [
      "2025-04-28 00:00:00\n"
     ]
    },
    {
     "data": {
      "text/plain": [
       "Timestamp('2025-06-02 00:00:00')"
      ]
     },
     "execution_count": 275,
     "metadata": {},
     "output_type": "execute_result"
    }
   ],
   "source": [
    "items=pd.read_csv('./data/april_28_new.csv',parse_dates=['WeekStartDate'])\n",
    "\n",
    "max_date = items['WeekStartDate'].max()\n",
    "\n",
    "# Drop rows with the max date\n",
    "items = items[items['WeekStartDate'] != max_date]\n",
    "print(items['WeekStartDate'].min())\n",
    "items['WeekStartDate'].max()\n"
   ]
  },
  {
   "cell_type": "code",
   "execution_count": 276,
   "metadata": {},
   "outputs": [
    {
     "data": {
      "text/plain": [
       "196"
      ]
     },
     "execution_count": 276,
     "metadata": {},
     "output_type": "execute_result"
    }
   ],
   "source": [
    "\n",
    "\n",
    "remove_ordertypes=['SimpleCater','EZ Cater (Pickup)','Catering (Pickup)', 'EZ Cater (Delivery)','Olo Catering (Self-Delivery))','Olo Catering (Pickup)']\n",
    "items=items[~items['OrderType'].isin(remove_ordertypes)]\n",
    "items.OrderType.unique()\n",
    "\n",
    "\n",
    "# remove items starting with google order as they  are not clear, can't get info from their item id, same ids are used for differtn items\n",
    "items1=items[~items['MenuItemName'].str.contains('Google Order')]\n",
    "items1['MenuItemName'].nunique()\n",
    "\n",
    "items1['OrderType'] =items1['OrderType'].replace( {\n",
    "'Uber Eats - Delivery!':'UEats-Delivery',\n",
    "'Online Ordering (Pickup) *': 'Online-Pickup',\n",
    "'UberEats (Pickup)': 'UEats-Pickup',\n",
    "'Online Ordering (Dispatch) *': 'Online-Dispatch',\n",
    "'Telephone - Pickup':'Telephone-Pickup',\n",
    " 'Dine In, Dine In':'Dine In',\n",
    " 'Take Out, Take Out':'Take Out',\n",
    " })\n",
    "\n",
    "items1['MenuItemName'].nunique()\n",
    "# items1[(items1['StoreId']==963260) & (items1['OrderType']=='Dine In') &(items1['MenuItemName']=='2 EGGS ANY STYLE')]\n"
   ]
  },
  {
   "cell_type": "code",
   "execution_count": 277,
   "metadata": {},
   "outputs": [
    {
     "data": {
      "text/html": [
       "<div>\n",
       "<style scoped>\n",
       "    .dataframe tbody tr th:only-of-type {\n",
       "        vertical-align: middle;\n",
       "    }\n",
       "\n",
       "    .dataframe tbody tr th {\n",
       "        vertical-align: top;\n",
       "    }\n",
       "\n",
       "    .dataframe thead th {\n",
       "        text-align: right;\n",
       "    }\n",
       "</style>\n",
       "<table border=\"1\" class=\"dataframe\">\n",
       "  <thead>\n",
       "    <tr style=\"text-align: right;\">\n",
       "      <th></th>\n",
       "      <th>StoreId</th>\n",
       "      <th>OrderType</th>\n",
       "      <th>MenuItemName</th>\n",
       "      <th>WeekStartDate</th>\n",
       "      <th>item_weekly_volumn</th>\n",
       "      <th>item_weekly_revenue</th>\n",
       "    </tr>\n",
       "  </thead>\n",
       "  <tbody>\n",
       "    <tr>\n",
       "      <th>0</th>\n",
       "      <td>963260</td>\n",
       "      <td>Dine In</td>\n",
       "      <td>2 EGGS ANY STYLE</td>\n",
       "      <td>2025-05-26</td>\n",
       "      <td>9</td>\n",
       "      <td>127.91</td>\n",
       "    </tr>\n",
       "    <tr>\n",
       "      <th>1</th>\n",
       "      <td>963260</td>\n",
       "      <td>Dine In</td>\n",
       "      <td>2 EGGS ANY STYLE</td>\n",
       "      <td>2025-06-02</td>\n",
       "      <td>8</td>\n",
       "      <td>126.86</td>\n",
       "    </tr>\n",
       "    <tr>\n",
       "      <th>3</th>\n",
       "      <td>963260</td>\n",
       "      <td>Dine In</td>\n",
       "      <td>2 EGGS ANY STYLE</td>\n",
       "      <td>2025-05-12</td>\n",
       "      <td>7</td>\n",
       "      <td>110.87</td>\n",
       "    </tr>\n",
       "    <tr>\n",
       "      <th>4</th>\n",
       "      <td>963260</td>\n",
       "      <td>Dine In</td>\n",
       "      <td>2 EGGS ANY STYLE</td>\n",
       "      <td>2025-05-19</td>\n",
       "      <td>6</td>\n",
       "      <td>82.98</td>\n",
       "    </tr>\n",
       "    <tr>\n",
       "      <th>5</th>\n",
       "      <td>963260</td>\n",
       "      <td>Dine In</td>\n",
       "      <td>2 EGGS ANY STYLE</td>\n",
       "      <td>2025-04-28</td>\n",
       "      <td>5</td>\n",
       "      <td>69.95</td>\n",
       "    </tr>\n",
       "    <tr>\n",
       "      <th>...</th>\n",
       "      <td>...</td>\n",
       "      <td>...</td>\n",
       "      <td>...</td>\n",
       "      <td>...</td>\n",
       "      <td>...</td>\n",
       "      <td>...</td>\n",
       "    </tr>\n",
       "    <tr>\n",
       "      <th>11347</th>\n",
       "      <td>963290</td>\n",
       "      <td>UEats-Delivery</td>\n",
       "      <td>ZEUS</td>\n",
       "      <td>2025-05-05</td>\n",
       "      <td>18</td>\n",
       "      <td>215.82</td>\n",
       "    </tr>\n",
       "    <tr>\n",
       "      <th>11348</th>\n",
       "      <td>963290</td>\n",
       "      <td>UEats-Delivery</td>\n",
       "      <td>ZEUS</td>\n",
       "      <td>2025-05-12</td>\n",
       "      <td>3</td>\n",
       "      <td>35.97</td>\n",
       "    </tr>\n",
       "    <tr>\n",
       "      <th>11349</th>\n",
       "      <td>963290</td>\n",
       "      <td>UEats-Delivery</td>\n",
       "      <td>ZEUS</td>\n",
       "      <td>2025-05-19</td>\n",
       "      <td>15</td>\n",
       "      <td>179.85</td>\n",
       "    </tr>\n",
       "    <tr>\n",
       "      <th>11350</th>\n",
       "      <td>963290</td>\n",
       "      <td>UEats-Delivery</td>\n",
       "      <td>ZEUS</td>\n",
       "      <td>2025-05-26</td>\n",
       "      <td>12</td>\n",
       "      <td>143.88</td>\n",
       "    </tr>\n",
       "    <tr>\n",
       "      <th>11351</th>\n",
       "      <td>963290</td>\n",
       "      <td>UEats-Delivery</td>\n",
       "      <td>ZEUS</td>\n",
       "      <td>2025-06-02</td>\n",
       "      <td>3</td>\n",
       "      <td>35.97</td>\n",
       "    </tr>\n",
       "  </tbody>\n",
       "</table>\n",
       "<p>10123 rows × 6 columns</p>\n",
       "</div>"
      ],
      "text/plain": [
       "       StoreId       OrderType      MenuItemName WeekStartDate  \\\n",
       "0       963260         Dine In  2 EGGS ANY STYLE    2025-05-26   \n",
       "1       963260         Dine In  2 EGGS ANY STYLE    2025-06-02   \n",
       "3       963260         Dine In  2 EGGS ANY STYLE    2025-05-12   \n",
       "4       963260         Dine In  2 EGGS ANY STYLE    2025-05-19   \n",
       "5       963260         Dine In  2 EGGS ANY STYLE    2025-04-28   \n",
       "...        ...             ...               ...           ...   \n",
       "11347   963290  UEats-Delivery              ZEUS    2025-05-05   \n",
       "11348   963290  UEats-Delivery              ZEUS    2025-05-12   \n",
       "11349   963290  UEats-Delivery              ZEUS    2025-05-19   \n",
       "11350   963290  UEats-Delivery              ZEUS    2025-05-26   \n",
       "11351   963290  UEats-Delivery              ZEUS    2025-06-02   \n",
       "\n",
       "       item_weekly_volumn  item_weekly_revenue  \n",
       "0                       9               127.91  \n",
       "1                       8               126.86  \n",
       "3                       7               110.87  \n",
       "4                       6                82.98  \n",
       "5                       5                69.95  \n",
       "...                   ...                  ...  \n",
       "11347                  18               215.82  \n",
       "11348                   3                35.97  \n",
       "11349                  15               179.85  \n",
       "11350                  12               143.88  \n",
       "11351                   3                35.97  \n",
       "\n",
       "[10123 rows x 6 columns]"
      ]
     },
     "execution_count": 277,
     "metadata": {},
     "output_type": "execute_result"
    }
   ],
   "source": [
    "items1.groupby('StoreId')['WeekStartDate'].agg(['min', 'max']).reset_index()\n",
    "items1\n",
    "# 9 week has 3 days\n"
   ]
  },
  {
   "cell_type": "code",
   "execution_count": 278,
   "metadata": {},
   "outputs": [
    {
     "data": {
      "text/plain": [
       "Dine In                     2271\n",
       "Take Out                    2162\n",
       "UEats-Delivery              1955\n",
       "Online-Pickup               1644\n",
       "UEats-Pickup                 673\n",
       "Online-Dispatch              659\n",
       "Google Online Ordering       378\n",
       "Telephone-Pickup             254\n",
       "TimeShark (Pickup)           116\n",
       "UberEats                       4\n",
       "Uber Eats - Takeout!           3\n",
       "Ritual Ordering                2\n",
       "Postmates Ordering             1\n",
       "Google Online (Dispatch)       1\n",
       "Name: OrderType, dtype: int64"
      ]
     },
     "execution_count": 278,
     "metadata": {},
     "output_type": "execute_result"
    }
   ],
   "source": [
    "items1['OrderType'].value_counts()\n"
   ]
  },
  {
   "cell_type": "code",
   "execution_count": 279,
   "metadata": {},
   "outputs": [],
   "source": [
    "# volume share of each item per StoreId  is better metric to look for high moving items\n",
    "df=items1.copy()\n",
    "# Group by StoreId, OrderType, WeekStartDate and compute total volume\n",
    "df['total_volume'] = df.groupby(['StoreId', 'OrderType', 'WeekStartDate'])['item_weekly_volumn'].transform('sum')\n",
    "# Calculate volume share\n",
    "df['volume_share'] = df['item_weekly_volumn'] / df['total_volume']\n",
    "\n",
    "# Group by StoreId, OrderType, WeekStartDate and compute total volume\n",
    "df['total_rev'] = df.groupby(['StoreId', 'OrderType', 'WeekStartDate'])['item_weekly_revenue'].transform('sum')\n",
    "\n",
    "# Calculate volume share\n",
    "df['rev_share'] = df['item_weekly_revenue'] / df['total_rev']\n",
    "\n",
    "\n",
    "# Optionally, drop the helper column\n",
    "df.drop(columns=['total_volume','total_rev'], inplace=True)\n",
    "vol_share=df.copy()\n"
   ]
  },
  {
   "cell_type": "code",
   "execution_count": 280,
   "metadata": {},
   "outputs": [
    {
     "data": {
      "text/html": [
       "<div>\n",
       "<style scoped>\n",
       "    .dataframe tbody tr th:only-of-type {\n",
       "        vertical-align: middle;\n",
       "    }\n",
       "\n",
       "    .dataframe tbody tr th {\n",
       "        vertical-align: top;\n",
       "    }\n",
       "\n",
       "    .dataframe thead th {\n",
       "        text-align: right;\n",
       "    }\n",
       "</style>\n",
       "<table border=\"1\" class=\"dataframe\">\n",
       "  <thead>\n",
       "    <tr style=\"text-align: right;\">\n",
       "      <th></th>\n",
       "      <th>StoreId</th>\n",
       "      <th>OrderType</th>\n",
       "      <th>MenuItemName</th>\n",
       "      <th>WeekStartDate</th>\n",
       "      <th>item_weekly_volumn</th>\n",
       "      <th>item_weekly_revenue</th>\n",
       "      <th>volume_share</th>\n",
       "      <th>rev_share</th>\n",
       "    </tr>\n",
       "  </thead>\n",
       "  <tbody>\n",
       "    <tr>\n",
       "      <th>0</th>\n",
       "      <td>963260</td>\n",
       "      <td>Dine In</td>\n",
       "      <td>2 EGGS ANY STYLE</td>\n",
       "      <td>2025-05-26</td>\n",
       "      <td>9</td>\n",
       "      <td>127.91</td>\n",
       "      <td>0.013139</td>\n",
       "      <td>0.014574</td>\n",
       "    </tr>\n",
       "    <tr>\n",
       "      <th>1</th>\n",
       "      <td>963260</td>\n",
       "      <td>Dine In</td>\n",
       "      <td>2 EGGS ANY STYLE</td>\n",
       "      <td>2025-06-02</td>\n",
       "      <td>8</td>\n",
       "      <td>126.86</td>\n",
       "      <td>0.010568</td>\n",
       "      <td>0.013238</td>\n",
       "    </tr>\n",
       "    <tr>\n",
       "      <th>3</th>\n",
       "      <td>963260</td>\n",
       "      <td>Dine In</td>\n",
       "      <td>2 EGGS ANY STYLE</td>\n",
       "      <td>2025-05-12</td>\n",
       "      <td>7</td>\n",
       "      <td>110.87</td>\n",
       "      <td>0.010558</td>\n",
       "      <td>0.013352</td>\n",
       "    </tr>\n",
       "    <tr>\n",
       "      <th>4</th>\n",
       "      <td>963260</td>\n",
       "      <td>Dine In</td>\n",
       "      <td>2 EGGS ANY STYLE</td>\n",
       "      <td>2025-05-19</td>\n",
       "      <td>6</td>\n",
       "      <td>82.98</td>\n",
       "      <td>0.008559</td>\n",
       "      <td>0.009810</td>\n",
       "    </tr>\n",
       "    <tr>\n",
       "      <th>5</th>\n",
       "      <td>963260</td>\n",
       "      <td>Dine In</td>\n",
       "      <td>2 EGGS ANY STYLE</td>\n",
       "      <td>2025-04-28</td>\n",
       "      <td>5</td>\n",
       "      <td>69.95</td>\n",
       "      <td>0.007474</td>\n",
       "      <td>0.008531</td>\n",
       "    </tr>\n",
       "    <tr>\n",
       "      <th>...</th>\n",
       "      <td>...</td>\n",
       "      <td>...</td>\n",
       "      <td>...</td>\n",
       "      <td>...</td>\n",
       "      <td>...</td>\n",
       "      <td>...</td>\n",
       "      <td>...</td>\n",
       "      <td>...</td>\n",
       "    </tr>\n",
       "    <tr>\n",
       "      <th>11347</th>\n",
       "      <td>963290</td>\n",
       "      <td>UEats-Delivery</td>\n",
       "      <td>ZEUS</td>\n",
       "      <td>2025-05-05</td>\n",
       "      <td>18</td>\n",
       "      <td>215.82</td>\n",
       "      <td>0.005150</td>\n",
       "      <td>0.003445</td>\n",
       "    </tr>\n",
       "    <tr>\n",
       "      <th>11348</th>\n",
       "      <td>963290</td>\n",
       "      <td>UEats-Delivery</td>\n",
       "      <td>ZEUS</td>\n",
       "      <td>2025-05-12</td>\n",
       "      <td>3</td>\n",
       "      <td>35.97</td>\n",
       "      <td>0.000788</td>\n",
       "      <td>0.000532</td>\n",
       "    </tr>\n",
       "    <tr>\n",
       "      <th>11349</th>\n",
       "      <td>963290</td>\n",
       "      <td>UEats-Delivery</td>\n",
       "      <td>ZEUS</td>\n",
       "      <td>2025-05-19</td>\n",
       "      <td>15</td>\n",
       "      <td>179.85</td>\n",
       "      <td>0.004794</td>\n",
       "      <td>0.003251</td>\n",
       "    </tr>\n",
       "    <tr>\n",
       "      <th>11350</th>\n",
       "      <td>963290</td>\n",
       "      <td>UEats-Delivery</td>\n",
       "      <td>ZEUS</td>\n",
       "      <td>2025-05-26</td>\n",
       "      <td>12</td>\n",
       "      <td>143.88</td>\n",
       "      <td>0.003854</td>\n",
       "      <td>0.002730</td>\n",
       "    </tr>\n",
       "    <tr>\n",
       "      <th>11351</th>\n",
       "      <td>963290</td>\n",
       "      <td>UEats-Delivery</td>\n",
       "      <td>ZEUS</td>\n",
       "      <td>2025-06-02</td>\n",
       "      <td>3</td>\n",
       "      <td>35.97</td>\n",
       "      <td>0.002600</td>\n",
       "      <td>0.001775</td>\n",
       "    </tr>\n",
       "  </tbody>\n",
       "</table>\n",
       "<p>10123 rows × 8 columns</p>\n",
       "</div>"
      ],
      "text/plain": [
       "       StoreId       OrderType      MenuItemName WeekStartDate  \\\n",
       "0       963260         Dine In  2 EGGS ANY STYLE    2025-05-26   \n",
       "1       963260         Dine In  2 EGGS ANY STYLE    2025-06-02   \n",
       "3       963260         Dine In  2 EGGS ANY STYLE    2025-05-12   \n",
       "4       963260         Dine In  2 EGGS ANY STYLE    2025-05-19   \n",
       "5       963260         Dine In  2 EGGS ANY STYLE    2025-04-28   \n",
       "...        ...             ...               ...           ...   \n",
       "11347   963290  UEats-Delivery              ZEUS    2025-05-05   \n",
       "11348   963290  UEats-Delivery              ZEUS    2025-05-12   \n",
       "11349   963290  UEats-Delivery              ZEUS    2025-05-19   \n",
       "11350   963290  UEats-Delivery              ZEUS    2025-05-26   \n",
       "11351   963290  UEats-Delivery              ZEUS    2025-06-02   \n",
       "\n",
       "       item_weekly_volumn  item_weekly_revenue  volume_share  rev_share  \n",
       "0                       9               127.91      0.013139   0.014574  \n",
       "1                       8               126.86      0.010568   0.013238  \n",
       "3                       7               110.87      0.010558   0.013352  \n",
       "4                       6                82.98      0.008559   0.009810  \n",
       "5                       5                69.95      0.007474   0.008531  \n",
       "...                   ...                  ...           ...        ...  \n",
       "11347                  18               215.82      0.005150   0.003445  \n",
       "11348                   3                35.97      0.000788   0.000532  \n",
       "11349                  15               179.85      0.004794   0.003251  \n",
       "11350                  12               143.88      0.003854   0.002730  \n",
       "11351                   3                35.97      0.002600   0.001775  \n",
       "\n",
       "[10123 rows x 8 columns]"
      ]
     },
     "execution_count": 280,
     "metadata": {},
     "output_type": "execute_result"
    }
   ],
   "source": [
    "vol_share\n"
   ]
  },
  {
   "cell_type": "code",
   "execution_count": 281,
   "metadata": {},
   "outputs": [
    {
     "data": {
      "application/vnd.plotly.v1+json": {
       "config": {
        "plotlyServerURL": "https://plot.ly"
       },
       "data": [
        {
         "alignmentgroup": "True",
         "hovertemplate": "Total Volume Share=%{marker.color}<br>Menu Item=%{y}<extra></extra>",
         "legendgroup": "",
         "marker": {
          "color": [
           12.76100790189724,
           6.760291820917841,
           6.223612382363094,
           5.32837538916634,
           4.378778558942264,
           4.224789429760406,
           4.106780520058746,
           3.290425386387792,
           3.289342382265511,
           3.000576137065136,
           2.7448980216805063,
           2.634961597256081,
           2.5917200974106573,
           2.1965421582879157,
           2.0841361732270576,
           2.072843522614161,
           2.0701252101333223,
           2.033824610637122,
           2.027089879376614,
           2.0070422437295394,
           1.9881950571337608,
           1.9476859846368557,
           1.937970270954249,
           1.885835204530208,
           1.8695249638458074,
           1.6723823902011503,
           1.6620642670787151,
           1.5596076128057725,
           1.5576448810518964,
           1.545670426382709
          ],
          "coloraxis": "coloraxis",
          "pattern": {
           "shape": ""
          }
         },
         "name": "",
         "offsetgroup": "",
         "orientation": "h",
         "showlegend": false,
         "textposition": "auto",
         "type": "bar",
         "x": [
          12.76100790189724,
          6.760291820917841,
          6.223612382363094,
          5.32837538916634,
          4.378778558942264,
          4.224789429760406,
          4.106780520058746,
          3.290425386387792,
          3.289342382265511,
          3.000576137065136,
          2.7448980216805063,
          2.634961597256081,
          2.5917200974106573,
          2.1965421582879157,
          2.0841361732270576,
          2.072843522614161,
          2.0701252101333223,
          2.033824610637122,
          2.027089879376614,
          2.0070422437295394,
          1.9881950571337608,
          1.9476859846368557,
          1.937970270954249,
          1.885835204530208,
          1.8695249638458074,
          1.6723823902011503,
          1.6620642670787151,
          1.5596076128057725,
          1.5576448810518964,
          1.545670426382709
         ],
         "xaxis": "x",
         "y": [
          "LEGAL WRAP",
          "CHICKEN CAESAR WRAP",
          "LIV WRAP",
          "PARADISE ACAI BOWL",
          "POKE BOWL",
          "LENTIL & KALE SOUP",
          "ALMOND BUTTER ACAI BOWL",
          "SWEET POTATO FRIES",
          "CARROT CAKE",
          "CHICKEN GODDESS",
          "SOUP AND 1/2 WRAP",
          "JULIE'S SMOOTHIE",
          "GRILLED CHICKEN PLATTER",
          "ORIENTAL CRUNCH SALAD",
          "OMG! TURKEY BURGER",
          "PLANTAIN CHIPS",
          "SALAD AND 1/2 WRAP",
          "HUEVOS RANCHEROS BURRITO",
          "CRUNCHY AVOCADO TOAST",
          "SKINNY GREEN",
          "LA MEXICANA",
          "MARIO'S FAVORITE CHICKEN BOWL",
          "STRAWBERRY PASSION",
          "Cilantro-Lime Dressing",
          "JOSH'S OVERNIGHT OATS",
          "SALMON BUDDHA BOWL",
          "AQUA PANNA",
          "HOMEMADE VEGAN BANANA BREAD",
          "YES - Plastic Silverware",
          "PEANUT BUTTER CUP"
         ],
         "yaxis": "y"
        }
       ],
       "layout": {
        "barmode": "relative",
        "coloraxis": {
         "colorbar": {
          "title": {
           "text": "Total Volume Share"
          }
         },
         "colorscale": [
          [
           0,
           "rgb(247,251,255)"
          ],
          [
           0.125,
           "rgb(222,235,247)"
          ],
          [
           0.25,
           "rgb(198,219,239)"
          ],
          [
           0.375,
           "rgb(158,202,225)"
          ],
          [
           0.5,
           "rgb(107,174,214)"
          ],
          [
           0.625,
           "rgb(66,146,198)"
          ],
          [
           0.75,
           "rgb(33,113,181)"
          ],
          [
           0.875,
           "rgb(8,81,156)"
          ],
          [
           1,
           "rgb(8,48,107)"
          ]
         ]
        },
        "legend": {
         "tracegroupgap": 0
        },
        "template": {
         "data": {
          "bar": [
           {
            "error_x": {
             "color": "#2a3f5f"
            },
            "error_y": {
             "color": "#2a3f5f"
            },
            "marker": {
             "line": {
              "color": "#E5ECF6",
              "width": 0.5
             },
             "pattern": {
              "fillmode": "overlay",
              "size": 10,
              "solidity": 0.2
             }
            },
            "type": "bar"
           }
          ],
          "barpolar": [
           {
            "marker": {
             "line": {
              "color": "#E5ECF6",
              "width": 0.5
             },
             "pattern": {
              "fillmode": "overlay",
              "size": 10,
              "solidity": 0.2
             }
            },
            "type": "barpolar"
           }
          ],
          "carpet": [
           {
            "aaxis": {
             "endlinecolor": "#2a3f5f",
             "gridcolor": "white",
             "linecolor": "white",
             "minorgridcolor": "white",
             "startlinecolor": "#2a3f5f"
            },
            "baxis": {
             "endlinecolor": "#2a3f5f",
             "gridcolor": "white",
             "linecolor": "white",
             "minorgridcolor": "white",
             "startlinecolor": "#2a3f5f"
            },
            "type": "carpet"
           }
          ],
          "choropleth": [
           {
            "colorbar": {
             "outlinewidth": 0,
             "ticks": ""
            },
            "type": "choropleth"
           }
          ],
          "contour": [
           {
            "colorbar": {
             "outlinewidth": 0,
             "ticks": ""
            },
            "colorscale": [
             [
              0,
              "#0d0887"
             ],
             [
              0.1111111111111111,
              "#46039f"
             ],
             [
              0.2222222222222222,
              "#7201a8"
             ],
             [
              0.3333333333333333,
              "#9c179e"
             ],
             [
              0.4444444444444444,
              "#bd3786"
             ],
             [
              0.5555555555555556,
              "#d8576b"
             ],
             [
              0.6666666666666666,
              "#ed7953"
             ],
             [
              0.7777777777777778,
              "#fb9f3a"
             ],
             [
              0.8888888888888888,
              "#fdca26"
             ],
             [
              1,
              "#f0f921"
             ]
            ],
            "type": "contour"
           }
          ],
          "contourcarpet": [
           {
            "colorbar": {
             "outlinewidth": 0,
             "ticks": ""
            },
            "type": "contourcarpet"
           }
          ],
          "heatmap": [
           {
            "colorbar": {
             "outlinewidth": 0,
             "ticks": ""
            },
            "colorscale": [
             [
              0,
              "#0d0887"
             ],
             [
              0.1111111111111111,
              "#46039f"
             ],
             [
              0.2222222222222222,
              "#7201a8"
             ],
             [
              0.3333333333333333,
              "#9c179e"
             ],
             [
              0.4444444444444444,
              "#bd3786"
             ],
             [
              0.5555555555555556,
              "#d8576b"
             ],
             [
              0.6666666666666666,
              "#ed7953"
             ],
             [
              0.7777777777777778,
              "#fb9f3a"
             ],
             [
              0.8888888888888888,
              "#fdca26"
             ],
             [
              1,
              "#f0f921"
             ]
            ],
            "type": "heatmap"
           }
          ],
          "heatmapgl": [
           {
            "colorbar": {
             "outlinewidth": 0,
             "ticks": ""
            },
            "colorscale": [
             [
              0,
              "#0d0887"
             ],
             [
              0.1111111111111111,
              "#46039f"
             ],
             [
              0.2222222222222222,
              "#7201a8"
             ],
             [
              0.3333333333333333,
              "#9c179e"
             ],
             [
              0.4444444444444444,
              "#bd3786"
             ],
             [
              0.5555555555555556,
              "#d8576b"
             ],
             [
              0.6666666666666666,
              "#ed7953"
             ],
             [
              0.7777777777777778,
              "#fb9f3a"
             ],
             [
              0.8888888888888888,
              "#fdca26"
             ],
             [
              1,
              "#f0f921"
             ]
            ],
            "type": "heatmapgl"
           }
          ],
          "histogram": [
           {
            "marker": {
             "pattern": {
              "fillmode": "overlay",
              "size": 10,
              "solidity": 0.2
             }
            },
            "type": "histogram"
           }
          ],
          "histogram2d": [
           {
            "colorbar": {
             "outlinewidth": 0,
             "ticks": ""
            },
            "colorscale": [
             [
              0,
              "#0d0887"
             ],
             [
              0.1111111111111111,
              "#46039f"
             ],
             [
              0.2222222222222222,
              "#7201a8"
             ],
             [
              0.3333333333333333,
              "#9c179e"
             ],
             [
              0.4444444444444444,
              "#bd3786"
             ],
             [
              0.5555555555555556,
              "#d8576b"
             ],
             [
              0.6666666666666666,
              "#ed7953"
             ],
             [
              0.7777777777777778,
              "#fb9f3a"
             ],
             [
              0.8888888888888888,
              "#fdca26"
             ],
             [
              1,
              "#f0f921"
             ]
            ],
            "type": "histogram2d"
           }
          ],
          "histogram2dcontour": [
           {
            "colorbar": {
             "outlinewidth": 0,
             "ticks": ""
            },
            "colorscale": [
             [
              0,
              "#0d0887"
             ],
             [
              0.1111111111111111,
              "#46039f"
             ],
             [
              0.2222222222222222,
              "#7201a8"
             ],
             [
              0.3333333333333333,
              "#9c179e"
             ],
             [
              0.4444444444444444,
              "#bd3786"
             ],
             [
              0.5555555555555556,
              "#d8576b"
             ],
             [
              0.6666666666666666,
              "#ed7953"
             ],
             [
              0.7777777777777778,
              "#fb9f3a"
             ],
             [
              0.8888888888888888,
              "#fdca26"
             ],
             [
              1,
              "#f0f921"
             ]
            ],
            "type": "histogram2dcontour"
           }
          ],
          "mesh3d": [
           {
            "colorbar": {
             "outlinewidth": 0,
             "ticks": ""
            },
            "type": "mesh3d"
           }
          ],
          "parcoords": [
           {
            "line": {
             "colorbar": {
              "outlinewidth": 0,
              "ticks": ""
             }
            },
            "type": "parcoords"
           }
          ],
          "pie": [
           {
            "automargin": true,
            "type": "pie"
           }
          ],
          "scatter": [
           {
            "fillpattern": {
             "fillmode": "overlay",
             "size": 10,
             "solidity": 0.2
            },
            "type": "scatter"
           }
          ],
          "scatter3d": [
           {
            "line": {
             "colorbar": {
              "outlinewidth": 0,
              "ticks": ""
             }
            },
            "marker": {
             "colorbar": {
              "outlinewidth": 0,
              "ticks": ""
             }
            },
            "type": "scatter3d"
           }
          ],
          "scattercarpet": [
           {
            "marker": {
             "colorbar": {
              "outlinewidth": 0,
              "ticks": ""
             }
            },
            "type": "scattercarpet"
           }
          ],
          "scattergeo": [
           {
            "marker": {
             "colorbar": {
              "outlinewidth": 0,
              "ticks": ""
             }
            },
            "type": "scattergeo"
           }
          ],
          "scattergl": [
           {
            "marker": {
             "colorbar": {
              "outlinewidth": 0,
              "ticks": ""
             }
            },
            "type": "scattergl"
           }
          ],
          "scattermapbox": [
           {
            "marker": {
             "colorbar": {
              "outlinewidth": 0,
              "ticks": ""
             }
            },
            "type": "scattermapbox"
           }
          ],
          "scatterpolar": [
           {
            "marker": {
             "colorbar": {
              "outlinewidth": 0,
              "ticks": ""
             }
            },
            "type": "scatterpolar"
           }
          ],
          "scatterpolargl": [
           {
            "marker": {
             "colorbar": {
              "outlinewidth": 0,
              "ticks": ""
             }
            },
            "type": "scatterpolargl"
           }
          ],
          "scatterternary": [
           {
            "marker": {
             "colorbar": {
              "outlinewidth": 0,
              "ticks": ""
             }
            },
            "type": "scatterternary"
           }
          ],
          "surface": [
           {
            "colorbar": {
             "outlinewidth": 0,
             "ticks": ""
            },
            "colorscale": [
             [
              0,
              "#0d0887"
             ],
             [
              0.1111111111111111,
              "#46039f"
             ],
             [
              0.2222222222222222,
              "#7201a8"
             ],
             [
              0.3333333333333333,
              "#9c179e"
             ],
             [
              0.4444444444444444,
              "#bd3786"
             ],
             [
              0.5555555555555556,
              "#d8576b"
             ],
             [
              0.6666666666666666,
              "#ed7953"
             ],
             [
              0.7777777777777778,
              "#fb9f3a"
             ],
             [
              0.8888888888888888,
              "#fdca26"
             ],
             [
              1,
              "#f0f921"
             ]
            ],
            "type": "surface"
           }
          ],
          "table": [
           {
            "cells": {
             "fill": {
              "color": "#EBF0F8"
             },
             "line": {
              "color": "white"
             }
            },
            "header": {
             "fill": {
              "color": "#C8D4E3"
             },
             "line": {
              "color": "white"
             }
            },
            "type": "table"
           }
          ]
         },
         "layout": {
          "annotationdefaults": {
           "arrowcolor": "#2a3f5f",
           "arrowhead": 0,
           "arrowwidth": 1
          },
          "autotypenumbers": "strict",
          "coloraxis": {
           "colorbar": {
            "outlinewidth": 0,
            "ticks": ""
           }
          },
          "colorscale": {
           "diverging": [
            [
             0,
             "#8e0152"
            ],
            [
             0.1,
             "#c51b7d"
            ],
            [
             0.2,
             "#de77ae"
            ],
            [
             0.3,
             "#f1b6da"
            ],
            [
             0.4,
             "#fde0ef"
            ],
            [
             0.5,
             "#f7f7f7"
            ],
            [
             0.6,
             "#e6f5d0"
            ],
            [
             0.7,
             "#b8e186"
            ],
            [
             0.8,
             "#7fbc41"
            ],
            [
             0.9,
             "#4d9221"
            ],
            [
             1,
             "#276419"
            ]
           ],
           "sequential": [
            [
             0,
             "#0d0887"
            ],
            [
             0.1111111111111111,
             "#46039f"
            ],
            [
             0.2222222222222222,
             "#7201a8"
            ],
            [
             0.3333333333333333,
             "#9c179e"
            ],
            [
             0.4444444444444444,
             "#bd3786"
            ],
            [
             0.5555555555555556,
             "#d8576b"
            ],
            [
             0.6666666666666666,
             "#ed7953"
            ],
            [
             0.7777777777777778,
             "#fb9f3a"
            ],
            [
             0.8888888888888888,
             "#fdca26"
            ],
            [
             1,
             "#f0f921"
            ]
           ],
           "sequentialminus": [
            [
             0,
             "#0d0887"
            ],
            [
             0.1111111111111111,
             "#46039f"
            ],
            [
             0.2222222222222222,
             "#7201a8"
            ],
            [
             0.3333333333333333,
             "#9c179e"
            ],
            [
             0.4444444444444444,
             "#bd3786"
            ],
            [
             0.5555555555555556,
             "#d8576b"
            ],
            [
             0.6666666666666666,
             "#ed7953"
            ],
            [
             0.7777777777777778,
             "#fb9f3a"
            ],
            [
             0.8888888888888888,
             "#fdca26"
            ],
            [
             1,
             "#f0f921"
            ]
           ]
          },
          "colorway": [
           "#636efa",
           "#EF553B",
           "#00cc96",
           "#ab63fa",
           "#FFA15A",
           "#19d3f3",
           "#FF6692",
           "#B6E880",
           "#FF97FF",
           "#FECB52"
          ],
          "font": {
           "color": "#2a3f5f"
          },
          "geo": {
           "bgcolor": "white",
           "lakecolor": "white",
           "landcolor": "#E5ECF6",
           "showlakes": true,
           "showland": true,
           "subunitcolor": "white"
          },
          "hoverlabel": {
           "align": "left"
          },
          "hovermode": "closest",
          "mapbox": {
           "style": "light"
          },
          "paper_bgcolor": "white",
          "plot_bgcolor": "#E5ECF6",
          "polar": {
           "angularaxis": {
            "gridcolor": "white",
            "linecolor": "white",
            "ticks": ""
           },
           "bgcolor": "#E5ECF6",
           "radialaxis": {
            "gridcolor": "white",
            "linecolor": "white",
            "ticks": ""
           }
          },
          "scene": {
           "xaxis": {
            "backgroundcolor": "#E5ECF6",
            "gridcolor": "white",
            "gridwidth": 2,
            "linecolor": "white",
            "showbackground": true,
            "ticks": "",
            "zerolinecolor": "white"
           },
           "yaxis": {
            "backgroundcolor": "#E5ECF6",
            "gridcolor": "white",
            "gridwidth": 2,
            "linecolor": "white",
            "showbackground": true,
            "ticks": "",
            "zerolinecolor": "white"
           },
           "zaxis": {
            "backgroundcolor": "#E5ECF6",
            "gridcolor": "white",
            "gridwidth": 2,
            "linecolor": "white",
            "showbackground": true,
            "ticks": "",
            "zerolinecolor": "white"
           }
          },
          "shapedefaults": {
           "line": {
            "color": "#2a3f5f"
           }
          },
          "ternary": {
           "aaxis": {
            "gridcolor": "white",
            "linecolor": "white",
            "ticks": ""
           },
           "baxis": {
            "gridcolor": "white",
            "linecolor": "white",
            "ticks": ""
           },
           "bgcolor": "#E5ECF6",
           "caxis": {
            "gridcolor": "white",
            "linecolor": "white",
            "ticks": ""
           }
          },
          "title": {
           "x": 0.05
          },
          "xaxis": {
           "automargin": true,
           "gridcolor": "white",
           "linecolor": "white",
           "ticks": "",
           "title": {
            "standoff": 15
           },
           "zerolinecolor": "white",
           "zerolinewidth": 2
          },
          "yaxis": {
           "automargin": true,
           "gridcolor": "white",
           "linecolor": "white",
           "ticks": "",
           "title": {
            "standoff": 15
           },
           "zerolinecolor": "white",
           "zerolinewidth": 2
          }
         }
        },
        "title": {
         "text": "Top 30 Menu Items by Total Volume Share"
        },
        "xaxis": {
         "anchor": "y",
         "domain": [
          0,
          1
         ],
         "title": {
          "text": "Total Volume Share"
         }
        },
        "yaxis": {
         "anchor": "x",
         "autorange": "reversed",
         "domain": [
          0,
          1
         ],
         "title": {
          "text": "Menu Item"
         }
        }
       }
      }
     },
     "metadata": {},
     "output_type": "display_data"
    }
   ],
   "source": [
    "\n",
    "# Aggregate volume share per MenuItemName across all weeks and stores\n",
    "item_volume_share = df.groupby('MenuItemName')['volume_share'].sum().reset_index()\n",
    "item_volume_share\n",
    "# # Get top 30 items\n",
    "top_items_all = item_volume_share.sort_values(by='volume_share', ascending=False)\n",
    "\n",
    "top_items = item_volume_share.sort_values(by='volume_share', ascending=False).head(30)\n",
    "# top_items=item_volume_share[item_volume_share['volume_share']>10].sort_values(by='volume_share', ascending=False)\n",
    "# # Plot horizontal bar chart\n",
    "fig = px.bar(\n",
    "    top_items,\n",
    "    x='volume_share',\n",
    "    y='MenuItemName',\n",
    "    orientation='h',\n",
    "    title='Top 30 Menu Items by Total Volume Share',\n",
    "    labels={'volume_share': 'Total Volume Share', 'MenuItemName': 'Menu Item'},\n",
    "    color='volume_share',\n",
    "    color_continuous_scale='Blues'\n",
    ")\n",
    "\n",
    "# Reverse y-axis so top item is at the top\n",
    "fig.update_layout(yaxis=dict(autorange='reversed'))\n",
    "\n",
    "fig.show()\n"
   ]
  },
  {
   "cell_type": "code",
   "execution_count": null,
   "metadata": {},
   "outputs": [],
   "source": []
  },
  {
   "cell_type": "code",
   "execution_count": 282,
   "metadata": {},
   "outputs": [
    {
     "data": {
      "text/plain": [
       "168.00000000000003"
      ]
     },
     "execution_count": 282,
     "metadata": {},
     "output_type": "execute_result"
    }
   ],
   "source": [
    "top_items_all['volume_share'].sum()\n"
   ]
  },
  {
   "cell_type": "code",
   "execution_count": 283,
   "metadata": {},
   "outputs": [],
   "source": [
    "# NOTE: here is one insight\n",
    "\n"
   ]
  },
  {
   "cell_type": "code",
   "execution_count": 284,
   "metadata": {},
   "outputs": [
    {
     "data": {
      "text/plain": [
       "167.99999999999997"
      ]
     },
     "execution_count": 284,
     "metadata": {},
     "output_type": "execute_result"
    }
   ],
   "source": [
    "item_volume_share['volume_share'].sum()\n"
   ]
  },
  {
   "cell_type": "code",
   "execution_count": 285,
   "metadata": {},
   "outputs": [
    {
     "data": {
      "text/html": [
       "<div>\n",
       "<style scoped>\n",
       "    .dataframe tbody tr th:only-of-type {\n",
       "        vertical-align: middle;\n",
       "    }\n",
       "\n",
       "    .dataframe tbody tr th {\n",
       "        vertical-align: top;\n",
       "    }\n",
       "\n",
       "    .dataframe thead th {\n",
       "        text-align: right;\n",
       "    }\n",
       "</style>\n",
       "<table border=\"1\" class=\"dataframe\">\n",
       "  <thead>\n",
       "    <tr style=\"text-align: right;\">\n",
       "      <th></th>\n",
       "      <th>MenuItemName</th>\n",
       "      <th>volume_share</th>\n",
       "    </tr>\n",
       "  </thead>\n",
       "  <tbody>\n",
       "    <tr>\n",
       "      <th>96</th>\n",
       "      <td>LEGAL WRAP</td>\n",
       "      <td>12.761008</td>\n",
       "    </tr>\n",
       "    <tr>\n",
       "      <th>25</th>\n",
       "      <td>CHICKEN CAESAR WRAP</td>\n",
       "      <td>6.760292</td>\n",
       "    </tr>\n",
       "    <tr>\n",
       "      <th>98</th>\n",
       "      <td>LIV WRAP</td>\n",
       "      <td>6.223612</td>\n",
       "    </tr>\n",
       "    <tr>\n",
       "      <th>125</th>\n",
       "      <td>PARADISE ACAI BOWL</td>\n",
       "      <td>5.328375</td>\n",
       "    </tr>\n",
       "    <tr>\n",
       "      <th>138</th>\n",
       "      <td>POKE BOWL</td>\n",
       "      <td>4.378779</td>\n",
       "    </tr>\n",
       "    <tr>\n",
       "      <th>97</th>\n",
       "      <td>LENTIL &amp; KALE SOUP</td>\n",
       "      <td>4.224789</td>\n",
       "    </tr>\n",
       "    <tr>\n",
       "      <th>2</th>\n",
       "      <td>ALMOND BUTTER ACAI BOWL</td>\n",
       "      <td>4.106781</td>\n",
       "    </tr>\n",
       "    <tr>\n",
       "      <th>160</th>\n",
       "      <td>SWEET POTATO FRIES</td>\n",
       "      <td>3.290425</td>\n",
       "    </tr>\n",
       "    <tr>\n",
       "      <th>22</th>\n",
       "      <td>CARROT CAKE</td>\n",
       "      <td>3.289342</td>\n",
       "    </tr>\n",
       "    <tr>\n",
       "      <th>26</th>\n",
       "      <td>CHICKEN GODDESS</td>\n",
       "      <td>3.000576</td>\n",
       "    </tr>\n",
       "    <tr>\n",
       "      <th>155</th>\n",
       "      <td>SOUP AND 1/2 WRAP</td>\n",
       "      <td>2.744898</td>\n",
       "    </tr>\n",
       "    <tr>\n",
       "      <th>89</th>\n",
       "      <td>JULIE'S SMOOTHIE</td>\n",
       "      <td>2.634962</td>\n",
       "    </tr>\n",
       "    <tr>\n",
       "      <th>55</th>\n",
       "      <td>GRILLED CHICKEN PLATTER</td>\n",
       "      <td>2.591720</td>\n",
       "    </tr>\n",
       "    <tr>\n",
       "      <th>124</th>\n",
       "      <td>ORIENTAL CRUNCH SALAD</td>\n",
       "      <td>2.196542</td>\n",
       "    </tr>\n",
       "    <tr>\n",
       "      <th>122</th>\n",
       "      <td>OMG! TURKEY BURGER</td>\n",
       "      <td>2.084136</td>\n",
       "    </tr>\n",
       "    <tr>\n",
       "      <th>137</th>\n",
       "      <td>PLANTAIN CHIPS</td>\n",
       "      <td>2.072844</td>\n",
       "    </tr>\n",
       "    <tr>\n",
       "      <th>150</th>\n",
       "      <td>SALAD AND 1/2 WRAP</td>\n",
       "      <td>2.070125</td>\n",
       "    </tr>\n",
       "    <tr>\n",
       "      <th>69</th>\n",
       "      <td>HUEVOS RANCHEROS BURRITO</td>\n",
       "      <td>2.033825</td>\n",
       "    </tr>\n",
       "    <tr>\n",
       "      <th>35</th>\n",
       "      <td>CRUNCHY AVOCADO TOAST</td>\n",
       "      <td>2.027090</td>\n",
       "    </tr>\n",
       "    <tr>\n",
       "      <th>154</th>\n",
       "      <td>SKINNY GREEN</td>\n",
       "      <td>2.007042</td>\n",
       "    </tr>\n",
       "    <tr>\n",
       "      <th>93</th>\n",
       "      <td>LA MEXICANA</td>\n",
       "      <td>1.988195</td>\n",
       "    </tr>\n",
       "    <tr>\n",
       "      <th>104</th>\n",
       "      <td>MARIO'S FAVORITE CHICKEN BOWL</td>\n",
       "      <td>1.947686</td>\n",
       "    </tr>\n",
       "    <tr>\n",
       "      <th>157</th>\n",
       "      <td>STRAWBERRY PASSION</td>\n",
       "      <td>1.937970</td>\n",
       "    </tr>\n",
       "    <tr>\n",
       "      <th>39</th>\n",
       "      <td>Cilantro-Lime Dressing</td>\n",
       "      <td>1.885835</td>\n",
       "    </tr>\n",
       "    <tr>\n",
       "      <th>88</th>\n",
       "      <td>JOSH'S OVERNIGHT OATS</td>\n",
       "      <td>1.869525</td>\n",
       "    </tr>\n",
       "    <tr>\n",
       "      <th>151</th>\n",
       "      <td>SALMON BUDDHA BOWL</td>\n",
       "      <td>1.672382</td>\n",
       "    </tr>\n",
       "    <tr>\n",
       "      <th>6</th>\n",
       "      <td>AQUA PANNA</td>\n",
       "      <td>1.662064</td>\n",
       "    </tr>\n",
       "    <tr>\n",
       "      <th>64</th>\n",
       "      <td>HOMEMADE VEGAN BANANA BREAD</td>\n",
       "      <td>1.559608</td>\n",
       "    </tr>\n",
       "    <tr>\n",
       "      <th>193</th>\n",
       "      <td>YES - Plastic Silverware</td>\n",
       "      <td>1.557645</td>\n",
       "    </tr>\n",
       "    <tr>\n",
       "      <th>126</th>\n",
       "      <td>PEANUT BUTTER CUP</td>\n",
       "      <td>1.545670</td>\n",
       "    </tr>\n",
       "  </tbody>\n",
       "</table>\n",
       "</div>"
      ],
      "text/plain": [
       "                      MenuItemName  volume_share\n",
       "96                      LEGAL WRAP     12.761008\n",
       "25             CHICKEN CAESAR WRAP      6.760292\n",
       "98                        LIV WRAP      6.223612\n",
       "125             PARADISE ACAI BOWL      5.328375\n",
       "138                      POKE BOWL      4.378779\n",
       "97              LENTIL & KALE SOUP      4.224789\n",
       "2          ALMOND BUTTER ACAI BOWL      4.106781\n",
       "160             SWEET POTATO FRIES      3.290425\n",
       "22                     CARROT CAKE      3.289342\n",
       "26                 CHICKEN GODDESS      3.000576\n",
       "155              SOUP AND 1/2 WRAP      2.744898\n",
       "89                JULIE'S SMOOTHIE      2.634962\n",
       "55         GRILLED CHICKEN PLATTER      2.591720\n",
       "124          ORIENTAL CRUNCH SALAD      2.196542\n",
       "122             OMG! TURKEY BURGER      2.084136\n",
       "137                 PLANTAIN CHIPS      2.072844\n",
       "150             SALAD AND 1/2 WRAP      2.070125\n",
       "69        HUEVOS RANCHEROS BURRITO      2.033825\n",
       "35           CRUNCHY AVOCADO TOAST      2.027090\n",
       "154                   SKINNY GREEN      2.007042\n",
       "93                     LA MEXICANA      1.988195\n",
       "104  MARIO'S FAVORITE CHICKEN BOWL      1.947686\n",
       "157             STRAWBERRY PASSION      1.937970\n",
       "39          Cilantro-Lime Dressing      1.885835\n",
       "88           JOSH'S OVERNIGHT OATS      1.869525\n",
       "151             SALMON BUDDHA BOWL      1.672382\n",
       "6                       AQUA PANNA      1.662064\n",
       "64     HOMEMADE VEGAN BANANA BREAD      1.559608\n",
       "193       YES - Plastic Silverware      1.557645\n",
       "126              PEANUT BUTTER CUP      1.545670"
      ]
     },
     "execution_count": 285,
     "metadata": {},
     "output_type": "execute_result"
    }
   ],
   "source": [
    "top_items\n"
   ]
  },
  {
   "cell_type": "code",
   "execution_count": 286,
   "metadata": {},
   "outputs": [
    {
     "data": {
      "text/plain": [
       "array(['LEGAL WRAP', 'CHICKEN CAESAR WRAP', 'LIV WRAP',\n",
       "       'PARADISE ACAI BOWL', 'POKE BOWL', 'LENTIL & KALE SOUP',\n",
       "       'ALMOND BUTTER ACAI BOWL', 'SWEET POTATO FRIES', 'CARROT CAKE',\n",
       "       'CHICKEN GODDESS', 'SOUP AND 1/2 WRAP', \"JULIE'S SMOOTHIE\",\n",
       "       'GRILLED CHICKEN PLATTER', 'ORIENTAL CRUNCH SALAD',\n",
       "       'OMG! TURKEY BURGER', 'PLANTAIN CHIPS', 'SALAD AND 1/2 WRAP',\n",
       "       'HUEVOS RANCHEROS BURRITO', 'CRUNCHY AVOCADO TOAST',\n",
       "       'SKINNY GREEN', 'LA MEXICANA', \"MARIO'S FAVORITE CHICKEN BOWL\",\n",
       "       'STRAWBERRY PASSION', 'Cilantro-Lime Dressing',\n",
       "       \"JOSH'S OVERNIGHT OATS\", 'SALMON BUDDHA BOWL', 'AQUA PANNA',\n",
       "       'HOMEMADE VEGAN BANANA BREAD', 'YES - Plastic Silverware',\n",
       "       'PEANUT BUTTER CUP'], dtype=object)"
      ]
     },
     "execution_count": 286,
     "metadata": {},
     "output_type": "execute_result"
    }
   ],
   "source": [
    "top_items.MenuItemName.unique()\n"
   ]
  },
  {
   "cell_type": "code",
   "execution_count": 287,
   "metadata": {},
   "outputs": [
    {
     "data": {
      "text/plain": [
       "MenuItemName\n",
       "CARROT JUICE             0.780593\n",
       "ORIENTAL CRUNCH SALAD    3.354252\n",
       "Name: rev_share, dtype: float64"
      ]
     },
     "execution_count": 287,
     "metadata": {},
     "output_type": "execute_result"
    }
   ],
   "source": [
    "a=df[df['MenuItemName'].isin(['CARROT JUICE','ORIENTAL CRUNCH SALAD'])]\n",
    "a.groupby('MenuItemName')['rev_share'].sum()\n"
   ]
  },
  {
   "cell_type": "code",
   "execution_count": 288,
   "metadata": {},
   "outputs": [
    {
     "data": {
      "application/vnd.plotly.v1+json": {
       "config": {
        "plotlyServerURL": "https://plot.ly"
       },
       "data": [
        {
         "hovertemplate": "Volume Share=%{x}<br>Revenue Share=%{marker.color}<br>MenuItemName=%{text}<extra></extra>",
         "legendgroup": "",
         "marker": {
          "color": [
           0.0391526255249328,
           0.025826300032293397,
           0.014933153927488708,
           0.013979627962756673,
           0.019766793026470046,
           0.01718656703048222,
           0.010548559156403873,
           0.058328236432171054,
           0.037505405198910845,
           0.0269678391087593,
           0.024168764728369305,
           0.02269033736595964,
           0.01763498925002889,
           0.021649255338533506,
           0.03871044553843623,
           0.025042414848702375,
           0.022697280317922668,
           0.013300817646943016,
           0.0165497732223513,
           0.024693780174854234,
           0.030606696286136645,
           0.12682309578227813,
           0.021283669244205407,
           0.05973831140186424,
           0.024522086213782622,
           0.028792311077526344,
           0.03248547196646623,
           0.024688053193370307,
           0.020106043984324747,
           0.037521937305006706,
           0.03288482651150165,
           0.04527382764896686,
           0.013600759208096896,
           0.021575304661784086,
           0.010719724146901073,
           0.06141792511427104,
           0.026743952711581094,
           0.023560287780720404,
           0.0270993890525618,
           0.017045553120380252,
           0.02870993728975826,
           0.015427781601301068,
           0.0119263358201234,
           0.013829714738407408,
           0.023584017597935977,
           0.0164959207207793,
           0.05961893135352953,
           0.02126403600815818,
           0.019140411293878886,
           0.013855124798078775,
           0.0170127431261348
          ],
          "coloraxis": "coloraxis",
          "size": [
           0.0391526255249328,
           0.025826300032293397,
           0.014933153927488708,
           0.013979627962756673,
           0.019766793026470046,
           0.01718656703048222,
           0.010548559156403873,
           0.058328236432171054,
           0.037505405198910845,
           0.0269678391087593,
           0.024168764728369305,
           0.02269033736595964,
           0.01763498925002889,
           0.021649255338533506,
           0.03871044553843623,
           0.025042414848702375,
           0.022697280317922668,
           0.013300817646943016,
           0.0165497732223513,
           0.024693780174854234,
           0.030606696286136645,
           0.12682309578227813,
           0.021283669244205407,
           0.05973831140186424,
           0.024522086213782622,
           0.028792311077526344,
           0.03248547196646623,
           0.024688053193370307,
           0.020106043984324747,
           0.037521937305006706,
           0.03288482651150165,
           0.04527382764896686,
           0.013600759208096896,
           0.021575304661784086,
           0.010719724146901073,
           0.06141792511427104,
           0.026743952711581094,
           0.023560287780720404,
           0.0270993890525618,
           0.017045553120380252,
           0.02870993728975826,
           0.015427781601301068,
           0.0119263358201234,
           0.013829714738407408,
           0.023584017597935977,
           0.0164959207207793,
           0.05961893135352953,
           0.02126403600815818,
           0.019140411293878886,
           0.013855124798078775,
           0.0170127431261348
          ],
          "sizemode": "area",
          "sizeref": 0.00031705773945569534,
          "symbol": "circle"
         },
         "mode": "markers+text",
         "name": "",
         "orientation": "v",
         "showlegend": false,
         "text": [
          "ALMOND BUTTER ACAI BOWL",
          "AMERICANO",
          "BERRY WILD",
          "BLUE MAGIC",
          "CAESAR SALAD",
          "CARROT CAKE",
          "CARROT JUICE",
          "CHICKEN CAESAR WRAP",
          "CHICKEN GODDESS",
          "CORTADO",
          "CRISPY CHICKEN PLATTER",
          "CRUNCHY AVOCADO TOAST",
          "GREEK SALAD",
          "GREEN GODDESS SALAD",
          "GRILLED CHICKEN PLATTER",
          "HEALTHY BURGER BOWL",
          "HUEVOS RANCHEROS BURRITO",
          "JESSIE'S BREAKFAST BOWL",
          "JOSH'S OVERNIGHT OATS",
          "JULIE'S SMOOTHIE",
          "LA MEXICANA",
          "LEGAL WRAP",
          "LENTIL & KALE SOUP",
          "LIV WRAP",
          "MAHI-MAHI WRAP",
          "MARIO'S FAVORITE CHICKEN BOWL",
          "MIAMI VEGAN BOWL",
          "MIAMI VEGAN BOWL",
          "Mediterranean Herb Salad",
          "OMG! TURKEY BURGER",
          "ORIENTAL CRUNCH SALAD",
          "PARADISE ACAI BOWL",
          "PEANUT BUTTER CUP",
          "PESTO CHICKEN BOWL",
          "PLAIN SWEET POTATO (OR MAKE IT LOADED)",
          "POKE BOWL",
          "POKE WRAP",
          "SALAD AND 1/2 WRAP",
          "SALMON BUDDHA BOWL",
          "SKINNY GREEN",
          "SOUP AND 1/2 WRAP",
          "STRAWBERRY PASSION",
          "SUNRISE CROISSANT",
          "SWEET POTATO FRIES",
          "SWEET POTATO W/GRILLED CHICKEN",
          "THE EXPRESS BOWL",
          "THE EXPRESS BOWL \"create your own\"",
          "TUNA-CADO or CHICKEN-CADO",
          "TURKEY BURGER",
          "ULTIMATE CROISSANT EGGWICH",
          "VEGGIE BURGER (*contains walnuts)"
         ],
         "textposition": "top center",
         "type": "scatter",
         "x": [
          0.03571113495703258,
          0.030120100587215707,
          0.015484091223010225,
          0.016409110742328488,
          0.013962523962768467,
          0.03045687390986584,
          0.014347083855414989,
          0.05121433197665031,
          0.026790858366652997,
          0.0320116939880495,
          0.014810183129501116,
          0.020684590605883815,
          0.011987821649687687,
          0.015409389486731557,
          0.025162331042821916,
          0.016215482679393385,
          0.021636432028054486,
          0.012202025409963322,
          0.01907678534536538,
          0.029277351080623123,
          0.020710365178476676,
          0.09452598445849808,
          0.03379831543808325,
          0.05059847465335849,
          0.01714767739850314,
          0.019476859846368558,
          0.022614692800983247,
          0.016948510419865795,
          0.013139629296927297,
          0.0277884823096941,
          0.02153472704203839,
          0.044403128243052835,
          0.015772147207986826,
          0.01514358806318028,
          0.012567502377636899,
          0.03679645847850642,
          0.01628431026885052,
          0.021341497011683735,
          0.016723823902011502,
          0.019676884742446464,
          0.026910764918436338,
          0.019979074958291227,
          0.01228258236671545,
          0.027650633499057074,
          0.020714692916853582,
          0.020980947260018187,
          0.040960996700347,
          0.01569619768773105,
          0.01486949308117917,
          0.013376559792064485,
          0.012835593607616125
         ],
         "xaxis": "x",
         "y": [
          0.0391526255249328,
          0.025826300032293397,
          0.014933153927488708,
          0.013979627962756673,
          0.019766793026470046,
          0.01718656703048222,
          0.010548559156403873,
          0.058328236432171054,
          0.037505405198910845,
          0.0269678391087593,
          0.024168764728369305,
          0.02269033736595964,
          0.01763498925002889,
          0.021649255338533506,
          0.03871044553843623,
          0.025042414848702375,
          0.022697280317922668,
          0.013300817646943016,
          0.0165497732223513,
          0.024693780174854234,
          0.030606696286136645,
          0.12682309578227813,
          0.021283669244205407,
          0.05973831140186424,
          0.024522086213782622,
          0.028792311077526344,
          0.03248547196646623,
          0.024688053193370307,
          0.020106043984324747,
          0.037521937305006706,
          0.03288482651150165,
          0.04527382764896686,
          0.013600759208096896,
          0.021575304661784086,
          0.010719724146901073,
          0.06141792511427104,
          0.026743952711581094,
          0.023560287780720404,
          0.0270993890525618,
          0.017045553120380252,
          0.02870993728975826,
          0.015427781601301068,
          0.0119263358201234,
          0.013829714738407408,
          0.023584017597935977,
          0.0164959207207793,
          0.05961893135352953,
          0.02126403600815818,
          0.019140411293878886,
          0.013855124798078775,
          0.0170127431261348
         ],
         "yaxis": "y"
        }
       ],
       "layout": {
        "coloraxis": {
         "colorbar": {
          "title": {
           "text": "Revenue Share"
          }
         },
         "colorscale": [
          [
           0,
           "#440154"
          ],
          [
           0.1111111111111111,
           "#482878"
          ],
          [
           0.2222222222222222,
           "#3e4989"
          ],
          [
           0.3333333333333333,
           "#31688e"
          ],
          [
           0.4444444444444444,
           "#26828e"
          ],
          [
           0.5555555555555556,
           "#1f9e89"
          ],
          [
           0.6666666666666666,
           "#35b779"
          ],
          [
           0.7777777777777778,
           "#6ece58"
          ],
          [
           0.8888888888888888,
           "#b5de2b"
          ],
          [
           1,
           "#fde725"
          ]
         ]
        },
        "legend": {
         "itemsizing": "constant",
         "tracegroupgap": 0
        },
        "template": {
         "data": {
          "bar": [
           {
            "error_x": {
             "color": "#2a3f5f"
            },
            "error_y": {
             "color": "#2a3f5f"
            },
            "marker": {
             "line": {
              "color": "#E5ECF6",
              "width": 0.5
             },
             "pattern": {
              "fillmode": "overlay",
              "size": 10,
              "solidity": 0.2
             }
            },
            "type": "bar"
           }
          ],
          "barpolar": [
           {
            "marker": {
             "line": {
              "color": "#E5ECF6",
              "width": 0.5
             },
             "pattern": {
              "fillmode": "overlay",
              "size": 10,
              "solidity": 0.2
             }
            },
            "type": "barpolar"
           }
          ],
          "carpet": [
           {
            "aaxis": {
             "endlinecolor": "#2a3f5f",
             "gridcolor": "white",
             "linecolor": "white",
             "minorgridcolor": "white",
             "startlinecolor": "#2a3f5f"
            },
            "baxis": {
             "endlinecolor": "#2a3f5f",
             "gridcolor": "white",
             "linecolor": "white",
             "minorgridcolor": "white",
             "startlinecolor": "#2a3f5f"
            },
            "type": "carpet"
           }
          ],
          "choropleth": [
           {
            "colorbar": {
             "outlinewidth": 0,
             "ticks": ""
            },
            "type": "choropleth"
           }
          ],
          "contour": [
           {
            "colorbar": {
             "outlinewidth": 0,
             "ticks": ""
            },
            "colorscale": [
             [
              0,
              "#0d0887"
             ],
             [
              0.1111111111111111,
              "#46039f"
             ],
             [
              0.2222222222222222,
              "#7201a8"
             ],
             [
              0.3333333333333333,
              "#9c179e"
             ],
             [
              0.4444444444444444,
              "#bd3786"
             ],
             [
              0.5555555555555556,
              "#d8576b"
             ],
             [
              0.6666666666666666,
              "#ed7953"
             ],
             [
              0.7777777777777778,
              "#fb9f3a"
             ],
             [
              0.8888888888888888,
              "#fdca26"
             ],
             [
              1,
              "#f0f921"
             ]
            ],
            "type": "contour"
           }
          ],
          "contourcarpet": [
           {
            "colorbar": {
             "outlinewidth": 0,
             "ticks": ""
            },
            "type": "contourcarpet"
           }
          ],
          "heatmap": [
           {
            "colorbar": {
             "outlinewidth": 0,
             "ticks": ""
            },
            "colorscale": [
             [
              0,
              "#0d0887"
             ],
             [
              0.1111111111111111,
              "#46039f"
             ],
             [
              0.2222222222222222,
              "#7201a8"
             ],
             [
              0.3333333333333333,
              "#9c179e"
             ],
             [
              0.4444444444444444,
              "#bd3786"
             ],
             [
              0.5555555555555556,
              "#d8576b"
             ],
             [
              0.6666666666666666,
              "#ed7953"
             ],
             [
              0.7777777777777778,
              "#fb9f3a"
             ],
             [
              0.8888888888888888,
              "#fdca26"
             ],
             [
              1,
              "#f0f921"
             ]
            ],
            "type": "heatmap"
           }
          ],
          "heatmapgl": [
           {
            "colorbar": {
             "outlinewidth": 0,
             "ticks": ""
            },
            "colorscale": [
             [
              0,
              "#0d0887"
             ],
             [
              0.1111111111111111,
              "#46039f"
             ],
             [
              0.2222222222222222,
              "#7201a8"
             ],
             [
              0.3333333333333333,
              "#9c179e"
             ],
             [
              0.4444444444444444,
              "#bd3786"
             ],
             [
              0.5555555555555556,
              "#d8576b"
             ],
             [
              0.6666666666666666,
              "#ed7953"
             ],
             [
              0.7777777777777778,
              "#fb9f3a"
             ],
             [
              0.8888888888888888,
              "#fdca26"
             ],
             [
              1,
              "#f0f921"
             ]
            ],
            "type": "heatmapgl"
           }
          ],
          "histogram": [
           {
            "marker": {
             "pattern": {
              "fillmode": "overlay",
              "size": 10,
              "solidity": 0.2
             }
            },
            "type": "histogram"
           }
          ],
          "histogram2d": [
           {
            "colorbar": {
             "outlinewidth": 0,
             "ticks": ""
            },
            "colorscale": [
             [
              0,
              "#0d0887"
             ],
             [
              0.1111111111111111,
              "#46039f"
             ],
             [
              0.2222222222222222,
              "#7201a8"
             ],
             [
              0.3333333333333333,
              "#9c179e"
             ],
             [
              0.4444444444444444,
              "#bd3786"
             ],
             [
              0.5555555555555556,
              "#d8576b"
             ],
             [
              0.6666666666666666,
              "#ed7953"
             ],
             [
              0.7777777777777778,
              "#fb9f3a"
             ],
             [
              0.8888888888888888,
              "#fdca26"
             ],
             [
              1,
              "#f0f921"
             ]
            ],
            "type": "histogram2d"
           }
          ],
          "histogram2dcontour": [
           {
            "colorbar": {
             "outlinewidth": 0,
             "ticks": ""
            },
            "colorscale": [
             [
              0,
              "#0d0887"
             ],
             [
              0.1111111111111111,
              "#46039f"
             ],
             [
              0.2222222222222222,
              "#7201a8"
             ],
             [
              0.3333333333333333,
              "#9c179e"
             ],
             [
              0.4444444444444444,
              "#bd3786"
             ],
             [
              0.5555555555555556,
              "#d8576b"
             ],
             [
              0.6666666666666666,
              "#ed7953"
             ],
             [
              0.7777777777777778,
              "#fb9f3a"
             ],
             [
              0.8888888888888888,
              "#fdca26"
             ],
             [
              1,
              "#f0f921"
             ]
            ],
            "type": "histogram2dcontour"
           }
          ],
          "mesh3d": [
           {
            "colorbar": {
             "outlinewidth": 0,
             "ticks": ""
            },
            "type": "mesh3d"
           }
          ],
          "parcoords": [
           {
            "line": {
             "colorbar": {
              "outlinewidth": 0,
              "ticks": ""
             }
            },
            "type": "parcoords"
           }
          ],
          "pie": [
           {
            "automargin": true,
            "type": "pie"
           }
          ],
          "scatter": [
           {
            "fillpattern": {
             "fillmode": "overlay",
             "size": 10,
             "solidity": 0.2
            },
            "type": "scatter"
           }
          ],
          "scatter3d": [
           {
            "line": {
             "colorbar": {
              "outlinewidth": 0,
              "ticks": ""
             }
            },
            "marker": {
             "colorbar": {
              "outlinewidth": 0,
              "ticks": ""
             }
            },
            "type": "scatter3d"
           }
          ],
          "scattercarpet": [
           {
            "marker": {
             "colorbar": {
              "outlinewidth": 0,
              "ticks": ""
             }
            },
            "type": "scattercarpet"
           }
          ],
          "scattergeo": [
           {
            "marker": {
             "colorbar": {
              "outlinewidth": 0,
              "ticks": ""
             }
            },
            "type": "scattergeo"
           }
          ],
          "scattergl": [
           {
            "marker": {
             "colorbar": {
              "outlinewidth": 0,
              "ticks": ""
             }
            },
            "type": "scattergl"
           }
          ],
          "scattermapbox": [
           {
            "marker": {
             "colorbar": {
              "outlinewidth": 0,
              "ticks": ""
             }
            },
            "type": "scattermapbox"
           }
          ],
          "scatterpolar": [
           {
            "marker": {
             "colorbar": {
              "outlinewidth": 0,
              "ticks": ""
             }
            },
            "type": "scatterpolar"
           }
          ],
          "scatterpolargl": [
           {
            "marker": {
             "colorbar": {
              "outlinewidth": 0,
              "ticks": ""
             }
            },
            "type": "scatterpolargl"
           }
          ],
          "scatterternary": [
           {
            "marker": {
             "colorbar": {
              "outlinewidth": 0,
              "ticks": ""
             }
            },
            "type": "scatterternary"
           }
          ],
          "surface": [
           {
            "colorbar": {
             "outlinewidth": 0,
             "ticks": ""
            },
            "colorscale": [
             [
              0,
              "#0d0887"
             ],
             [
              0.1111111111111111,
              "#46039f"
             ],
             [
              0.2222222222222222,
              "#7201a8"
             ],
             [
              0.3333333333333333,
              "#9c179e"
             ],
             [
              0.4444444444444444,
              "#bd3786"
             ],
             [
              0.5555555555555556,
              "#d8576b"
             ],
             [
              0.6666666666666666,
              "#ed7953"
             ],
             [
              0.7777777777777778,
              "#fb9f3a"
             ],
             [
              0.8888888888888888,
              "#fdca26"
             ],
             [
              1,
              "#f0f921"
             ]
            ],
            "type": "surface"
           }
          ],
          "table": [
           {
            "cells": {
             "fill": {
              "color": "#EBF0F8"
             },
             "line": {
              "color": "white"
             }
            },
            "header": {
             "fill": {
              "color": "#C8D4E3"
             },
             "line": {
              "color": "white"
             }
            },
            "type": "table"
           }
          ]
         },
         "layout": {
          "annotationdefaults": {
           "arrowcolor": "#2a3f5f",
           "arrowhead": 0,
           "arrowwidth": 1
          },
          "autotypenumbers": "strict",
          "coloraxis": {
           "colorbar": {
            "outlinewidth": 0,
            "ticks": ""
           }
          },
          "colorscale": {
           "diverging": [
            [
             0,
             "#8e0152"
            ],
            [
             0.1,
             "#c51b7d"
            ],
            [
             0.2,
             "#de77ae"
            ],
            [
             0.3,
             "#f1b6da"
            ],
            [
             0.4,
             "#fde0ef"
            ],
            [
             0.5,
             "#f7f7f7"
            ],
            [
             0.6,
             "#e6f5d0"
            ],
            [
             0.7,
             "#b8e186"
            ],
            [
             0.8,
             "#7fbc41"
            ],
            [
             0.9,
             "#4d9221"
            ],
            [
             1,
             "#276419"
            ]
           ],
           "sequential": [
            [
             0,
             "#0d0887"
            ],
            [
             0.1111111111111111,
             "#46039f"
            ],
            [
             0.2222222222222222,
             "#7201a8"
            ],
            [
             0.3333333333333333,
             "#9c179e"
            ],
            [
             0.4444444444444444,
             "#bd3786"
            ],
            [
             0.5555555555555556,
             "#d8576b"
            ],
            [
             0.6666666666666666,
             "#ed7953"
            ],
            [
             0.7777777777777778,
             "#fb9f3a"
            ],
            [
             0.8888888888888888,
             "#fdca26"
            ],
            [
             1,
             "#f0f921"
            ]
           ],
           "sequentialminus": [
            [
             0,
             "#0d0887"
            ],
            [
             0.1111111111111111,
             "#46039f"
            ],
            [
             0.2222222222222222,
             "#7201a8"
            ],
            [
             0.3333333333333333,
             "#9c179e"
            ],
            [
             0.4444444444444444,
             "#bd3786"
            ],
            [
             0.5555555555555556,
             "#d8576b"
            ],
            [
             0.6666666666666666,
             "#ed7953"
            ],
            [
             0.7777777777777778,
             "#fb9f3a"
            ],
            [
             0.8888888888888888,
             "#fdca26"
            ],
            [
             1,
             "#f0f921"
            ]
           ]
          },
          "colorway": [
           "#636efa",
           "#EF553B",
           "#00cc96",
           "#ab63fa",
           "#FFA15A",
           "#19d3f3",
           "#FF6692",
           "#B6E880",
           "#FF97FF",
           "#FECB52"
          ],
          "font": {
           "color": "#2a3f5f"
          },
          "geo": {
           "bgcolor": "white",
           "lakecolor": "white",
           "landcolor": "#E5ECF6",
           "showlakes": true,
           "showland": true,
           "subunitcolor": "white"
          },
          "hoverlabel": {
           "align": "left"
          },
          "hovermode": "closest",
          "mapbox": {
           "style": "light"
          },
          "paper_bgcolor": "white",
          "plot_bgcolor": "#E5ECF6",
          "polar": {
           "angularaxis": {
            "gridcolor": "white",
            "linecolor": "white",
            "ticks": ""
           },
           "bgcolor": "#E5ECF6",
           "radialaxis": {
            "gridcolor": "white",
            "linecolor": "white",
            "ticks": ""
           }
          },
          "scene": {
           "xaxis": {
            "backgroundcolor": "#E5ECF6",
            "gridcolor": "white",
            "gridwidth": 2,
            "linecolor": "white",
            "showbackground": true,
            "ticks": "",
            "zerolinecolor": "white"
           },
           "yaxis": {
            "backgroundcolor": "#E5ECF6",
            "gridcolor": "white",
            "gridwidth": 2,
            "linecolor": "white",
            "showbackground": true,
            "ticks": "",
            "zerolinecolor": "white"
           },
           "zaxis": {
            "backgroundcolor": "#E5ECF6",
            "gridcolor": "white",
            "gridwidth": 2,
            "linecolor": "white",
            "showbackground": true,
            "ticks": "",
            "zerolinecolor": "white"
           }
          },
          "shapedefaults": {
           "line": {
            "color": "#2a3f5f"
           }
          },
          "ternary": {
           "aaxis": {
            "gridcolor": "white",
            "linecolor": "white",
            "ticks": ""
           },
           "baxis": {
            "gridcolor": "white",
            "linecolor": "white",
            "ticks": ""
           },
           "bgcolor": "#E5ECF6",
           "caxis": {
            "gridcolor": "white",
            "linecolor": "white",
            "ticks": ""
           }
          },
          "title": {
           "x": 0.05
          },
          "xaxis": {
           "automargin": true,
           "gridcolor": "white",
           "linecolor": "white",
           "ticks": "",
           "title": {
            "standoff": 15
           },
           "zerolinecolor": "white",
           "zerolinewidth": 2
          },
          "yaxis": {
           "automargin": true,
           "gridcolor": "white",
           "linecolor": "white",
           "ticks": "",
           "title": {
            "standoff": 15
           },
           "zerolinecolor": "white",
           "zerolinewidth": 2
          }
         }
        },
        "title": {
         "text": "High Performing Menu Items (Volume vs Revenue Share)"
        },
        "xaxis": {
         "anchor": "y",
         "domain": [
          0,
          1
         ],
         "title": {
          "text": "Volume Share"
         }
        },
        "yaxis": {
         "anchor": "x",
         "domain": [
          0,
          1
         ],
         "title": {
          "text": "Revenue Share"
         }
        }
       }
      }
     },
     "metadata": {},
     "output_type": "display_data"
    }
   ],
   "source": [
    "import pandas as pd\n",
    "import plotly.express as px\n",
    "\n",
    "# Assuming df has the necessary columns\n",
    "\n",
    "# Step 1: Compute total volume & revenue per group (e.g., per StoreId, OrderType, WeekStartDate)\n",
    "df['total_volume'] = df.groupby(['StoreId', 'OrderType', 'WeekStartDate'])['item_weekly_volumn'].transform('sum')\n",
    "df['total_revenue'] = df.groupby(['StoreId', 'OrderType', 'WeekStartDate'])['item_weekly_revenue'].transform('sum')\n",
    "\n",
    "# Step 2: Calculate share columns\n",
    "df['volume_share'] = df['item_weekly_volumn'] / df['total_volume']\n",
    "df['revenue_share'] = df['item_weekly_revenue'] / df['total_revenue']\n",
    "\n",
    "# Step 3: Aggregate over time to get average share per MenuItem\n",
    "agg_df = df.groupby('MenuItemName')[['volume_share', 'revenue_share']].mean().reset_index()\n",
    "\n",
    "# Step 4: Filter items where both volume and revenue shares are above average\n",
    "mean_volume_share = agg_df['volume_share'].mean()\n",
    "mean_revenue_share = agg_df['revenue_share'].mean()\n",
    "\n",
    "high_performers = agg_df[\n",
    "    (agg_df['volume_share'] > mean_volume_share) &\n",
    "    (agg_df['revenue_share'] > mean_revenue_share)\n",
    "]\n",
    "\n",
    "# Step 5: Plot\n",
    "fig = px.scatter(\n",
    "    high_performers,\n",
    "    x='volume_share',\n",
    "    y='revenue_share',\n",
    "    text='MenuItemName',\n",
    "    title='High Performing Menu Items (Volume vs Revenue Share)',\n",
    "    labels={\n",
    "        'volume_share': 'Volume Share',\n",
    "        'revenue_share': 'Revenue Share'\n",
    "    },\n",
    "    size='revenue_share',\n",
    "    color='revenue_share',\n",
    "    color_continuous_scale='Viridis'\n",
    ")\n",
    "\n",
    "fig.update_traces(textposition='top center')\n",
    "fig.show()\n"
   ]
  },
  {
   "cell_type": "code",
   "execution_count": 289,
   "metadata": {},
   "outputs": [],
   "source": [
    "# NOTE: here is one insight the ones with hig volm hig\n",
    "\n"
   ]
  },
  {
   "cell_type": "code",
   "execution_count": 290,
   "metadata": {},
   "outputs": [
    {
     "data": {
      "text/html": [
       "<div>\n",
       "<style scoped>\n",
       "    .dataframe tbody tr th:only-of-type {\n",
       "        vertical-align: middle;\n",
       "    }\n",
       "\n",
       "    .dataframe tbody tr th {\n",
       "        vertical-align: top;\n",
       "    }\n",
       "\n",
       "    .dataframe thead th {\n",
       "        text-align: right;\n",
       "    }\n",
       "</style>\n",
       "<table border=\"1\" class=\"dataframe\">\n",
       "  <thead>\n",
       "    <tr style=\"text-align: right;\">\n",
       "      <th></th>\n",
       "      <th>MenuItemName</th>\n",
       "      <th>volume_share</th>\n",
       "    </tr>\n",
       "  </thead>\n",
       "  <tbody>\n",
       "    <tr>\n",
       "      <th>0</th>\n",
       "      <td>2 EGGS ANY STYLE</td>\n",
       "      <td>0.677686</td>\n",
       "    </tr>\n",
       "    <tr>\n",
       "      <th>1</th>\n",
       "      <td>ALFAJORES</td>\n",
       "      <td>0.220158</td>\n",
       "    </tr>\n",
       "    <tr>\n",
       "      <th>2</th>\n",
       "      <td>ALMOND BUTTER ACAI BOWL</td>\n",
       "      <td>4.106781</td>\n",
       "    </tr>\n",
       "    <tr>\n",
       "      <th>3</th>\n",
       "      <td>ALMOND BUTTER CHOCOLATE CHIP POWER BITES (GF)(V)</td>\n",
       "      <td>0.309969</td>\n",
       "    </tr>\n",
       "    <tr>\n",
       "      <th>4</th>\n",
       "      <td>AMERICANO</td>\n",
       "      <td>1.234924</td>\n",
       "    </tr>\n",
       "    <tr>\n",
       "      <th>...</th>\n",
       "      <td>...</td>\n",
       "      <td>...</td>\n",
       "    </tr>\n",
       "    <tr>\n",
       "      <th>191</th>\n",
       "      <td>WRAPS PLATTER (choose 2)</td>\n",
       "      <td>0.001389</td>\n",
       "    </tr>\n",
       "    <tr>\n",
       "      <th>192</th>\n",
       "      <td>YES - PLASTIC SILVERWARE</td>\n",
       "      <td>0.811830</td>\n",
       "    </tr>\n",
       "    <tr>\n",
       "      <th>193</th>\n",
       "      <td>YES - Plastic Silverware</td>\n",
       "      <td>1.557645</td>\n",
       "    </tr>\n",
       "    <tr>\n",
       "      <th>194</th>\n",
       "      <td>YUCA CHIPS</td>\n",
       "      <td>0.487477</td>\n",
       "    </tr>\n",
       "    <tr>\n",
       "      <th>195</th>\n",
       "      <td>ZEUS</td>\n",
       "      <td>0.238379</td>\n",
       "    </tr>\n",
       "  </tbody>\n",
       "</table>\n",
       "<p>196 rows × 2 columns</p>\n",
       "</div>"
      ],
      "text/plain": [
       "                                         MenuItemName  volume_share\n",
       "0                                    2 EGGS ANY STYLE      0.677686\n",
       "1                                           ALFAJORES      0.220158\n",
       "2                             ALMOND BUTTER ACAI BOWL      4.106781\n",
       "3    ALMOND BUTTER CHOCOLATE CHIP POWER BITES (GF)(V)      0.309969\n",
       "4                                           AMERICANO      1.234924\n",
       "..                                                ...           ...\n",
       "191                          WRAPS PLATTER (choose 2)      0.001389\n",
       "192                          YES - PLASTIC SILVERWARE      0.811830\n",
       "193                          YES - Plastic Silverware      1.557645\n",
       "194                                        YUCA CHIPS      0.487477\n",
       "195                                              ZEUS      0.238379\n",
       "\n",
       "[196 rows x 2 columns]"
      ]
     },
     "execution_count": 290,
     "metadata": {},
     "output_type": "execute_result"
    }
   ],
   "source": [
    "item_volume_share\n"
   ]
  },
  {
   "cell_type": "code",
   "execution_count": 291,
   "metadata": {},
   "outputs": [
    {
     "data": {
      "text/html": [
       "<div>\n",
       "<style scoped>\n",
       "    .dataframe tbody tr th:only-of-type {\n",
       "        vertical-align: middle;\n",
       "    }\n",
       "\n",
       "    .dataframe tbody tr th {\n",
       "        vertical-align: top;\n",
       "    }\n",
       "\n",
       "    .dataframe thead th {\n",
       "        text-align: right;\n",
       "    }\n",
       "</style>\n",
       "<table border=\"1\" class=\"dataframe\">\n",
       "  <thead>\n",
       "    <tr style=\"text-align: right;\">\n",
       "      <th></th>\n",
       "      <th>MenuItemName</th>\n",
       "      <th>volume_share</th>\n",
       "    </tr>\n",
       "  </thead>\n",
       "  <tbody>\n",
       "    <tr>\n",
       "      <th>0</th>\n",
       "      <td>2 EGGS ANY STYLE</td>\n",
       "      <td>0.677686</td>\n",
       "    </tr>\n",
       "    <tr>\n",
       "      <th>1</th>\n",
       "      <td>ALFAJORES</td>\n",
       "      <td>0.220158</td>\n",
       "    </tr>\n",
       "    <tr>\n",
       "      <th>2</th>\n",
       "      <td>ALMOND BUTTER ACAI BOWL</td>\n",
       "      <td>4.106781</td>\n",
       "    </tr>\n",
       "    <tr>\n",
       "      <th>3</th>\n",
       "      <td>ALMOND BUTTER CHOCOLATE CHIP POWER BITES (GF)(V)</td>\n",
       "      <td>0.309969</td>\n",
       "    </tr>\n",
       "    <tr>\n",
       "      <th>4</th>\n",
       "      <td>AMERICANO</td>\n",
       "      <td>1.234924</td>\n",
       "    </tr>\n",
       "    <tr>\n",
       "      <th>...</th>\n",
       "      <td>...</td>\n",
       "      <td>...</td>\n",
       "    </tr>\n",
       "    <tr>\n",
       "      <th>191</th>\n",
       "      <td>WRAPS PLATTER (choose 2)</td>\n",
       "      <td>0.001389</td>\n",
       "    </tr>\n",
       "    <tr>\n",
       "      <th>192</th>\n",
       "      <td>YES - PLASTIC SILVERWARE</td>\n",
       "      <td>0.811830</td>\n",
       "    </tr>\n",
       "    <tr>\n",
       "      <th>193</th>\n",
       "      <td>YES - Plastic Silverware</td>\n",
       "      <td>1.557645</td>\n",
       "    </tr>\n",
       "    <tr>\n",
       "      <th>194</th>\n",
       "      <td>YUCA CHIPS</td>\n",
       "      <td>0.487477</td>\n",
       "    </tr>\n",
       "    <tr>\n",
       "      <th>195</th>\n",
       "      <td>ZEUS</td>\n",
       "      <td>0.238379</td>\n",
       "    </tr>\n",
       "  </tbody>\n",
       "</table>\n",
       "<p>196 rows × 2 columns</p>\n",
       "</div>"
      ],
      "text/plain": [
       "                                         MenuItemName  volume_share\n",
       "0                                    2 EGGS ANY STYLE      0.677686\n",
       "1                                           ALFAJORES      0.220158\n",
       "2                             ALMOND BUTTER ACAI BOWL      4.106781\n",
       "3    ALMOND BUTTER CHOCOLATE CHIP POWER BITES (GF)(V)      0.309969\n",
       "4                                           AMERICANO      1.234924\n",
       "..                                                ...           ...\n",
       "191                          WRAPS PLATTER (choose 2)      0.001389\n",
       "192                          YES - PLASTIC SILVERWARE      0.811830\n",
       "193                          YES - Plastic Silverware      1.557645\n",
       "194                                        YUCA CHIPS      0.487477\n",
       "195                                              ZEUS      0.238379\n",
       "\n",
       "[196 rows x 2 columns]"
      ]
     },
     "execution_count": 291,
     "metadata": {},
     "output_type": "execute_result"
    }
   ],
   "source": [
    "item_volume_share\n"
   ]
  },
  {
   "cell_type": "code",
   "execution_count": 292,
   "metadata": {},
   "outputs": [
    {
     "data": {
      "text/html": [
       "<div>\n",
       "<style scoped>\n",
       "    .dataframe tbody tr th:only-of-type {\n",
       "        vertical-align: middle;\n",
       "    }\n",
       "\n",
       "    .dataframe tbody tr th {\n",
       "        vertical-align: top;\n",
       "    }\n",
       "\n",
       "    .dataframe thead th {\n",
       "        text-align: right;\n",
       "    }\n",
       "</style>\n",
       "<table border=\"1\" class=\"dataframe\">\n",
       "  <thead>\n",
       "    <tr style=\"text-align: right;\">\n",
       "      <th></th>\n",
       "      <th>StoreId</th>\n",
       "      <th>OrderType</th>\n",
       "      <th>MenuItemName</th>\n",
       "      <th>WeekStartDate</th>\n",
       "      <th>item_weekly_volumn</th>\n",
       "      <th>item_weekly_revenue</th>\n",
       "    </tr>\n",
       "  </thead>\n",
       "  <tbody>\n",
       "    <tr>\n",
       "      <th>45</th>\n",
       "      <td>963260</td>\n",
       "      <td>Dine In</td>\n",
       "      <td>ALMOND BUTTER ACAI BOWL</td>\n",
       "      <td>2025-05-26</td>\n",
       "      <td>6</td>\n",
       "      <td>95.94</td>\n",
       "    </tr>\n",
       "    <tr>\n",
       "      <th>46</th>\n",
       "      <td>963260</td>\n",
       "      <td>Dine In</td>\n",
       "      <td>ALMOND BUTTER ACAI BOWL</td>\n",
       "      <td>2025-06-02</td>\n",
       "      <td>11</td>\n",
       "      <td>173.49</td>\n",
       "    </tr>\n",
       "    <tr>\n",
       "      <th>47</th>\n",
       "      <td>963260</td>\n",
       "      <td>Dine In</td>\n",
       "      <td>ALMOND BUTTER ACAI BOWL</td>\n",
       "      <td>2025-05-12</td>\n",
       "      <td>12</td>\n",
       "      <td>194.88</td>\n",
       "    </tr>\n",
       "    <tr>\n",
       "      <th>48</th>\n",
       "      <td>963260</td>\n",
       "      <td>Dine In</td>\n",
       "      <td>ALMOND BUTTER ACAI BOWL</td>\n",
       "      <td>2025-05-05</td>\n",
       "      <td>3</td>\n",
       "      <td>47.97</td>\n",
       "    </tr>\n",
       "    <tr>\n",
       "      <th>49</th>\n",
       "      <td>963260</td>\n",
       "      <td>Dine In</td>\n",
       "      <td>ALMOND BUTTER ACAI BOWL</td>\n",
       "      <td>2025-04-28</td>\n",
       "      <td>3</td>\n",
       "      <td>47.97</td>\n",
       "    </tr>\n",
       "    <tr>\n",
       "      <th>...</th>\n",
       "      <td>...</td>\n",
       "      <td>...</td>\n",
       "      <td>...</td>\n",
       "      <td>...</td>\n",
       "      <td>...</td>\n",
       "      <td>...</td>\n",
       "    </tr>\n",
       "    <tr>\n",
       "      <th>11303</th>\n",
       "      <td>963290</td>\n",
       "      <td>Online-Pickup</td>\n",
       "      <td>YES - Plastic Silverware</td>\n",
       "      <td>2025-04-28</td>\n",
       "      <td>8</td>\n",
       "      <td>0.00</td>\n",
       "    </tr>\n",
       "    <tr>\n",
       "      <th>11304</th>\n",
       "      <td>963290</td>\n",
       "      <td>Online-Pickup</td>\n",
       "      <td>YES - Plastic Silverware</td>\n",
       "      <td>2025-05-05</td>\n",
       "      <td>18</td>\n",
       "      <td>0.00</td>\n",
       "    </tr>\n",
       "    <tr>\n",
       "      <th>11305</th>\n",
       "      <td>963290</td>\n",
       "      <td>Online-Pickup</td>\n",
       "      <td>YES - Plastic Silverware</td>\n",
       "      <td>2025-05-12</td>\n",
       "      <td>33</td>\n",
       "      <td>0.00</td>\n",
       "    </tr>\n",
       "    <tr>\n",
       "      <th>11306</th>\n",
       "      <td>963290</td>\n",
       "      <td>Online-Pickup</td>\n",
       "      <td>YES - Plastic Silverware</td>\n",
       "      <td>2025-05-26</td>\n",
       "      <td>15</td>\n",
       "      <td>0.00</td>\n",
       "    </tr>\n",
       "    <tr>\n",
       "      <th>11307</th>\n",
       "      <td>963290</td>\n",
       "      <td>Online-Pickup</td>\n",
       "      <td>YES - Plastic Silverware</td>\n",
       "      <td>2025-06-02</td>\n",
       "      <td>2</td>\n",
       "      <td>0.00</td>\n",
       "    </tr>\n",
       "  </tbody>\n",
       "</table>\n",
       "<p>4510 rows × 6 columns</p>\n",
       "</div>"
      ],
      "text/plain": [
       "       StoreId      OrderType              MenuItemName WeekStartDate  \\\n",
       "45      963260        Dine In   ALMOND BUTTER ACAI BOWL    2025-05-26   \n",
       "46      963260        Dine In   ALMOND BUTTER ACAI BOWL    2025-06-02   \n",
       "47      963260        Dine In   ALMOND BUTTER ACAI BOWL    2025-05-12   \n",
       "48      963260        Dine In   ALMOND BUTTER ACAI BOWL    2025-05-05   \n",
       "49      963260        Dine In   ALMOND BUTTER ACAI BOWL    2025-04-28   \n",
       "...        ...            ...                       ...           ...   \n",
       "11303   963290  Online-Pickup  YES - Plastic Silverware    2025-04-28   \n",
       "11304   963290  Online-Pickup  YES - Plastic Silverware    2025-05-05   \n",
       "11305   963290  Online-Pickup  YES - Plastic Silverware    2025-05-12   \n",
       "11306   963290  Online-Pickup  YES - Plastic Silverware    2025-05-26   \n",
       "11307   963290  Online-Pickup  YES - Plastic Silverware    2025-06-02   \n",
       "\n",
       "       item_weekly_volumn  item_weekly_revenue  \n",
       "45                      6                95.94  \n",
       "46                     11               173.49  \n",
       "47                     12               194.88  \n",
       "48                      3                47.97  \n",
       "49                      3                47.97  \n",
       "...                   ...                  ...  \n",
       "11303                   8                 0.00  \n",
       "11304                  18                 0.00  \n",
       "11305                  33                 0.00  \n",
       "11306                  15                 0.00  \n",
       "11307                   2                 0.00  \n",
       "\n",
       "[4510 rows x 6 columns]"
      ]
     },
     "execution_count": 292,
     "metadata": {},
     "output_type": "execute_result"
    }
   ],
   "source": [
    "\n",
    "threshold = item_volume_share['volume_share'].quantile(0.75)\n",
    "high_items = item_volume_share[item_volume_share['volume_share'] >= threshold]\n",
    "high_items.MenuItemName.nunique()\n",
    "high_volume_items=items1[items1['MenuItemName'].isin(high_items['MenuItemName'])]\n",
    "high_volume_items.MenuItemName.nunique()\n",
    "high_volume_items\n"
   ]
  },
  {
   "cell_type": "code",
   "execution_count": 293,
   "metadata": {},
   "outputs": [
    {
     "data": {
      "text/html": [
       "<div>\n",
       "<style scoped>\n",
       "    .dataframe tbody tr th:only-of-type {\n",
       "        vertical-align: middle;\n",
       "    }\n",
       "\n",
       "    .dataframe tbody tr th {\n",
       "        vertical-align: top;\n",
       "    }\n",
       "\n",
       "    .dataframe thead th {\n",
       "        text-align: right;\n",
       "    }\n",
       "</style>\n",
       "<table border=\"1\" class=\"dataframe\">\n",
       "  <thead>\n",
       "    <tr style=\"text-align: right;\">\n",
       "      <th></th>\n",
       "      <th>StoreId</th>\n",
       "      <th>OrderType</th>\n",
       "      <th>MenuItemName</th>\n",
       "      <th>WeekStartDate</th>\n",
       "      <th>item_weekly_volumn</th>\n",
       "      <th>item_weekly_revenue</th>\n",
       "    </tr>\n",
       "  </thead>\n",
       "  <tbody>\n",
       "    <tr>\n",
       "      <th>45</th>\n",
       "      <td>963260</td>\n",
       "      <td>Dine In</td>\n",
       "      <td>ALMOND BUTTER ACAI BOWL</td>\n",
       "      <td>2025-05-26</td>\n",
       "      <td>6</td>\n",
       "      <td>95.94</td>\n",
       "    </tr>\n",
       "    <tr>\n",
       "      <th>46</th>\n",
       "      <td>963260</td>\n",
       "      <td>Dine In</td>\n",
       "      <td>ALMOND BUTTER ACAI BOWL</td>\n",
       "      <td>2025-06-02</td>\n",
       "      <td>11</td>\n",
       "      <td>173.49</td>\n",
       "    </tr>\n",
       "    <tr>\n",
       "      <th>47</th>\n",
       "      <td>963260</td>\n",
       "      <td>Dine In</td>\n",
       "      <td>ALMOND BUTTER ACAI BOWL</td>\n",
       "      <td>2025-05-12</td>\n",
       "      <td>12</td>\n",
       "      <td>194.88</td>\n",
       "    </tr>\n",
       "    <tr>\n",
       "      <th>48</th>\n",
       "      <td>963260</td>\n",
       "      <td>Dine In</td>\n",
       "      <td>ALMOND BUTTER ACAI BOWL</td>\n",
       "      <td>2025-05-05</td>\n",
       "      <td>3</td>\n",
       "      <td>47.97</td>\n",
       "    </tr>\n",
       "    <tr>\n",
       "      <th>49</th>\n",
       "      <td>963260</td>\n",
       "      <td>Dine In</td>\n",
       "      <td>ALMOND BUTTER ACAI BOWL</td>\n",
       "      <td>2025-04-28</td>\n",
       "      <td>3</td>\n",
       "      <td>47.97</td>\n",
       "    </tr>\n",
       "    <tr>\n",
       "      <th>...</th>\n",
       "      <td>...</td>\n",
       "      <td>...</td>\n",
       "      <td>...</td>\n",
       "      <td>...</td>\n",
       "      <td>...</td>\n",
       "      <td>...</td>\n",
       "    </tr>\n",
       "    <tr>\n",
       "      <th>11303</th>\n",
       "      <td>963290</td>\n",
       "      <td>Online-Pickup</td>\n",
       "      <td>YES - Plastic Silverware</td>\n",
       "      <td>2025-04-28</td>\n",
       "      <td>8</td>\n",
       "      <td>0.00</td>\n",
       "    </tr>\n",
       "    <tr>\n",
       "      <th>11304</th>\n",
       "      <td>963290</td>\n",
       "      <td>Online-Pickup</td>\n",
       "      <td>YES - Plastic Silverware</td>\n",
       "      <td>2025-05-05</td>\n",
       "      <td>18</td>\n",
       "      <td>0.00</td>\n",
       "    </tr>\n",
       "    <tr>\n",
       "      <th>11305</th>\n",
       "      <td>963290</td>\n",
       "      <td>Online-Pickup</td>\n",
       "      <td>YES - Plastic Silverware</td>\n",
       "      <td>2025-05-12</td>\n",
       "      <td>33</td>\n",
       "      <td>0.00</td>\n",
       "    </tr>\n",
       "    <tr>\n",
       "      <th>11306</th>\n",
       "      <td>963290</td>\n",
       "      <td>Online-Pickup</td>\n",
       "      <td>YES - Plastic Silverware</td>\n",
       "      <td>2025-05-26</td>\n",
       "      <td>15</td>\n",
       "      <td>0.00</td>\n",
       "    </tr>\n",
       "    <tr>\n",
       "      <th>11307</th>\n",
       "      <td>963290</td>\n",
       "      <td>Online-Pickup</td>\n",
       "      <td>YES - Plastic Silverware</td>\n",
       "      <td>2025-06-02</td>\n",
       "      <td>2</td>\n",
       "      <td>0.00</td>\n",
       "    </tr>\n",
       "  </tbody>\n",
       "</table>\n",
       "<p>4510 rows × 6 columns</p>\n",
       "</div>"
      ],
      "text/plain": [
       "       StoreId      OrderType              MenuItemName WeekStartDate  \\\n",
       "45      963260        Dine In   ALMOND BUTTER ACAI BOWL    2025-05-26   \n",
       "46      963260        Dine In   ALMOND BUTTER ACAI BOWL    2025-06-02   \n",
       "47      963260        Dine In   ALMOND BUTTER ACAI BOWL    2025-05-12   \n",
       "48      963260        Dine In   ALMOND BUTTER ACAI BOWL    2025-05-05   \n",
       "49      963260        Dine In   ALMOND BUTTER ACAI BOWL    2025-04-28   \n",
       "...        ...            ...                       ...           ...   \n",
       "11303   963290  Online-Pickup  YES - Plastic Silverware    2025-04-28   \n",
       "11304   963290  Online-Pickup  YES - Plastic Silverware    2025-05-05   \n",
       "11305   963290  Online-Pickup  YES - Plastic Silverware    2025-05-12   \n",
       "11306   963290  Online-Pickup  YES - Plastic Silverware    2025-05-26   \n",
       "11307   963290  Online-Pickup  YES - Plastic Silverware    2025-06-02   \n",
       "\n",
       "       item_weekly_volumn  item_weekly_revenue  \n",
       "45                      6                95.94  \n",
       "46                     11               173.49  \n",
       "47                     12               194.88  \n",
       "48                      3                47.97  \n",
       "49                      3                47.97  \n",
       "...                   ...                  ...  \n",
       "11303                   8                 0.00  \n",
       "11304                  18                 0.00  \n",
       "11305                  33                 0.00  \n",
       "11306                  15                 0.00  \n",
       "11307                   2                 0.00  \n",
       "\n",
       "[4510 rows x 6 columns]"
      ]
     },
     "execution_count": 293,
     "metadata": {},
     "output_type": "execute_result"
    }
   ],
   "source": [
    "import pandas as pd\n",
    "from datetime import timedelta\n",
    "from sklearn.linear_model import LinearRegression\n",
    "import numpy as np\n",
    "\n",
    "\n",
    "df=high_volume_items.copy()\n",
    "\n",
    "# Ensure WeekStartDate is datetime\n",
    "df['WeekStartDate'] = pd.to_datetime(df['WeekStartDate'])\n",
    "\n",
    "# Filter to last 3 months\n",
    "latest_date = df['WeekStartDate'].max()\n",
    "cutoff_date = latest_date - pd.DateOffset(months=3)\n",
    "df_3m = df[df['WeekStartDate'] >= cutoff_date].copy()\n",
    "df_3m\n"
   ]
  },
  {
   "cell_type": "code",
   "execution_count": 294,
   "metadata": {},
   "outputs": [
    {
     "data": {
      "text/html": [
       "<div>\n",
       "<style scoped>\n",
       "    .dataframe tbody tr th:only-of-type {\n",
       "        vertical-align: middle;\n",
       "    }\n",
       "\n",
       "    .dataframe tbody tr th {\n",
       "        vertical-align: top;\n",
       "    }\n",
       "\n",
       "    .dataframe thead th {\n",
       "        text-align: right;\n",
       "    }\n",
       "</style>\n",
       "<table border=\"1\" class=\"dataframe\">\n",
       "  <thead>\n",
       "    <tr style=\"text-align: right;\">\n",
       "      <th></th>\n",
       "      <th>StoreId</th>\n",
       "      <th>OrderType</th>\n",
       "      <th>MenuItemName</th>\n",
       "      <th>TrendSlope</th>\n",
       "    </tr>\n",
       "  </thead>\n",
       "  <tbody>\n",
       "    <tr>\n",
       "      <th>0</th>\n",
       "      <td>963260</td>\n",
       "      <td>Dine In</td>\n",
       "      <td>SALAD AND 1/2 WRAP</td>\n",
       "      <td>-0.200000</td>\n",
       "    </tr>\n",
       "    <tr>\n",
       "      <th>1</th>\n",
       "      <td>963260</td>\n",
       "      <td>Dine In</td>\n",
       "      <td>ORIENTAL CRUNCH SALAD</td>\n",
       "      <td>-0.155102</td>\n",
       "    </tr>\n",
       "    <tr>\n",
       "      <th>2</th>\n",
       "      <td>963260</td>\n",
       "      <td>Dine In</td>\n",
       "      <td>SOUP AND 1/2 WRAP</td>\n",
       "      <td>-0.146939</td>\n",
       "    </tr>\n",
       "    <tr>\n",
       "      <th>3</th>\n",
       "      <td>963260</td>\n",
       "      <td>Dine In</td>\n",
       "      <td>MARIO'S FAVORITE CHICKEN BOWL</td>\n",
       "      <td>-0.142857</td>\n",
       "    </tr>\n",
       "    <tr>\n",
       "      <th>4</th>\n",
       "      <td>963260</td>\n",
       "      <td>Dine In</td>\n",
       "      <td>AQUA PANNA</td>\n",
       "      <td>-0.135504</td>\n",
       "    </tr>\n",
       "    <tr>\n",
       "      <th>...</th>\n",
       "      <td>...</td>\n",
       "      <td>...</td>\n",
       "      <td>...</td>\n",
       "      <td>...</td>\n",
       "    </tr>\n",
       "    <tr>\n",
       "      <th>120</th>\n",
       "      <td>963290</td>\n",
       "      <td>UEats-Pickup</td>\n",
       "      <td>LEGAL WRAP</td>\n",
       "      <td>-1.873469</td>\n",
       "    </tr>\n",
       "    <tr>\n",
       "      <th>121</th>\n",
       "      <td>963290</td>\n",
       "      <td>UEats-Pickup</td>\n",
       "      <td>THE EXPRESS BOWL \"create your own\"</td>\n",
       "      <td>-0.273469</td>\n",
       "    </tr>\n",
       "    <tr>\n",
       "      <th>122</th>\n",
       "      <td>963290</td>\n",
       "      <td>UEats-Pickup</td>\n",
       "      <td>HOMEMADE VEGAN BANANA BREAD</td>\n",
       "      <td>-0.183673</td>\n",
       "    </tr>\n",
       "    <tr>\n",
       "      <th>123</th>\n",
       "      <td>963290</td>\n",
       "      <td>UEats-Pickup</td>\n",
       "      <td>PEANUT BUTTER CUP</td>\n",
       "      <td>-0.171429</td>\n",
       "    </tr>\n",
       "    <tr>\n",
       "      <th>124</th>\n",
       "      <td>963290</td>\n",
       "      <td>UEats-Pickup</td>\n",
       "      <td>CHICKEN CAESAR WRAP</td>\n",
       "      <td>-0.163265</td>\n",
       "    </tr>\n",
       "  </tbody>\n",
       "</table>\n",
       "<p>125 rows × 4 columns</p>\n",
       "</div>"
      ],
      "text/plain": [
       "     StoreId     OrderType                        MenuItemName  TrendSlope\n",
       "0     963260       Dine In                  SALAD AND 1/2 WRAP   -0.200000\n",
       "1     963260       Dine In               ORIENTAL CRUNCH SALAD   -0.155102\n",
       "2     963260       Dine In                   SOUP AND 1/2 WRAP   -0.146939\n",
       "3     963260       Dine In       MARIO'S FAVORITE CHICKEN BOWL   -0.142857\n",
       "4     963260       Dine In                          AQUA PANNA   -0.135504\n",
       "..       ...           ...                                 ...         ...\n",
       "120   963290  UEats-Pickup                          LEGAL WRAP   -1.873469\n",
       "121   963290  UEats-Pickup  THE EXPRESS BOWL \"create your own\"   -0.273469\n",
       "122   963290  UEats-Pickup         HOMEMADE VEGAN BANANA BREAD   -0.183673\n",
       "123   963290  UEats-Pickup                   PEANUT BUTTER CUP   -0.171429\n",
       "124   963290  UEats-Pickup                 CHICKEN CAESAR WRAP   -0.163265\n",
       "\n",
       "[125 rows x 4 columns]"
      ]
     },
     "execution_count": 294,
     "metadata": {},
     "output_type": "execute_result"
    }
   ],
   "source": [
    "\n",
    "# Prepare a results list\n",
    "results = []\n",
    "\n",
    "# Group by StoreId and OrderType\n",
    "for (store_id, order_type), group in df_3m.groupby(['StoreId', 'OrderType']):\n",
    "    trend_data = []\n",
    "  \n",
    "    # Further group by MenuItemName\n",
    "    for menu_item, item_group in group.groupby('MenuItemName'):\n",
    "        item_group = item_group.sort_values('WeekStartDate')\n",
    "        \n",
    "        # Encode time as numeric (e.g., week number)\n",
    "        item_group['week_num'] = (item_group['WeekStartDate'] - item_group['WeekStartDate'].min()).dt.days\n",
    "        \n",
    "        # Need at least 4 data points to compute a meaningful trend\n",
    "        if len(item_group) >=3:\n",
    "            X = item_group['week_num'].values.reshape(-1, 1)\n",
    "            y = item_group['item_weekly_volumn'].values\n",
    "            model = LinearRegression()\n",
    "            model.fit(X, y)\n",
    "            slope = model.coef_[0]\n",
    "            # print(f\"Menu Item: {menu_item}, Slope: {slope}\")\n",
    "            \n",
    "            # Append slope\n",
    "            trend_data.append((menu_item, slope))\n",
    "    \n",
    "    # Sort by most negative slope (strongest downward trend)\n",
    "    trend_data.sort(key=lambda x: x[1])\n",
    "    \n",
    "    # Take top 5\n",
    "    top_5_negative = trend_data[:5]\n",
    "    \n",
    "    for menu_item, slope in top_5_negative:\n",
    "        results.append({\n",
    "            'StoreId': store_id,\n",
    "            'OrderType': order_type,\n",
    "            'MenuItemName': menu_item,\n",
    "            'TrendSlope': slope\n",
    "        })\n",
    "\n",
    "# Convert results to DataFrame\n",
    "top_declining_items = pd.DataFrame(results)\n",
    "\n",
    "top_declining_items\n"
   ]
  },
  {
   "cell_type": "code",
   "execution_count": 295,
   "metadata": {},
   "outputs": [
    {
     "data": {
      "text/plain": [
       "40"
      ]
     },
     "execution_count": 295,
     "metadata": {},
     "output_type": "execute_result"
    }
   ],
   "source": [
    "top_declining_items['MenuItemName'].nunique()\n"
   ]
  },
  {
   "cell_type": "code",
   "execution_count": 296,
   "metadata": {},
   "outputs": [
    {
     "data": {
      "text/html": [
       "<div>\n",
       "<style scoped>\n",
       "    .dataframe tbody tr th:only-of-type {\n",
       "        vertical-align: middle;\n",
       "    }\n",
       "\n",
       "    .dataframe tbody tr th {\n",
       "        vertical-align: top;\n",
       "    }\n",
       "\n",
       "    .dataframe thead th {\n",
       "        text-align: right;\n",
       "    }\n",
       "</style>\n",
       "<table border=\"1\" class=\"dataframe\">\n",
       "  <thead>\n",
       "    <tr style=\"text-align: right;\">\n",
       "      <th></th>\n",
       "      <th>StoreId</th>\n",
       "      <th>OrderType</th>\n",
       "      <th>MenuItemName</th>\n",
       "      <th>WeekStartDate</th>\n",
       "      <th>item_weekly_volumn</th>\n",
       "      <th>item_weekly_revenue</th>\n",
       "      <th>TrendSlope</th>\n",
       "    </tr>\n",
       "  </thead>\n",
       "  <tbody>\n",
       "    <tr>\n",
       "      <th>0</th>\n",
       "      <td>963260</td>\n",
       "      <td>Google Online Ordering</td>\n",
       "      <td>ALMOND BUTTER ACAI BOWL</td>\n",
       "      <td>2025-05-12</td>\n",
       "      <td>2</td>\n",
       "      <td>0.00</td>\n",
       "      <td>-0.071429</td>\n",
       "    </tr>\n",
       "    <tr>\n",
       "      <th>1</th>\n",
       "      <td>963260</td>\n",
       "      <td>Google Online Ordering</td>\n",
       "      <td>ALMOND BUTTER ACAI BOWL</td>\n",
       "      <td>2025-05-19</td>\n",
       "      <td>1</td>\n",
       "      <td>15.99</td>\n",
       "      <td>-0.071429</td>\n",
       "    </tr>\n",
       "    <tr>\n",
       "      <th>2</th>\n",
       "      <td>963260</td>\n",
       "      <td>Google Online Ordering</td>\n",
       "      <td>ALMOND BUTTER ACAI BOWL</td>\n",
       "      <td>2025-05-05</td>\n",
       "      <td>2</td>\n",
       "      <td>31.98</td>\n",
       "      <td>-0.071429</td>\n",
       "    </tr>\n",
       "    <tr>\n",
       "      <th>3</th>\n",
       "      <td>963260</td>\n",
       "      <td>Online-Dispatch</td>\n",
       "      <td>ALMOND BUTTER ACAI BOWL</td>\n",
       "      <td>2025-05-26</td>\n",
       "      <td>7</td>\n",
       "      <td>110.08</td>\n",
       "      <td>-0.162791</td>\n",
       "    </tr>\n",
       "    <tr>\n",
       "      <th>4</th>\n",
       "      <td>963260</td>\n",
       "      <td>Online-Dispatch</td>\n",
       "      <td>ALMOND BUTTER ACAI BOWL</td>\n",
       "      <td>2025-06-02</td>\n",
       "      <td>2</td>\n",
       "      <td>34.98</td>\n",
       "      <td>-0.162791</td>\n",
       "    </tr>\n",
       "  </tbody>\n",
       "</table>\n",
       "</div>"
      ],
      "text/plain": [
       "   StoreId               OrderType             MenuItemName WeekStartDate  \\\n",
       "0   963260  Google Online Ordering  ALMOND BUTTER ACAI BOWL    2025-05-12   \n",
       "1   963260  Google Online Ordering  ALMOND BUTTER ACAI BOWL    2025-05-19   \n",
       "2   963260  Google Online Ordering  ALMOND BUTTER ACAI BOWL    2025-05-05   \n",
       "3   963260         Online-Dispatch  ALMOND BUTTER ACAI BOWL    2025-05-26   \n",
       "4   963260         Online-Dispatch  ALMOND BUTTER ACAI BOWL    2025-06-02   \n",
       "\n",
       "   item_weekly_volumn  item_weekly_revenue  TrendSlope  \n",
       "0                   2                 0.00   -0.071429  \n",
       "1                   1                15.99   -0.071429  \n",
       "2                   2                31.98   -0.071429  \n",
       "3                   7               110.08   -0.162791  \n",
       "4                   2                34.98   -0.162791  "
      ]
     },
     "execution_count": 296,
     "metadata": {},
     "output_type": "execute_result"
    }
   ],
   "source": [
    "df_tren = df_3m.merge(top_declining_items, on=['StoreId', 'OrderType', 'MenuItemName'])\n",
    "df_tren.head(5)\n"
   ]
  },
  {
   "cell_type": "code",
   "execution_count": 297,
   "metadata": {},
   "outputs": [
    {
     "data": {
      "text/html": [
       "<div>\n",
       "<style scoped>\n",
       "    .dataframe tbody tr th:only-of-type {\n",
       "        vertical-align: middle;\n",
       "    }\n",
       "\n",
       "    .dataframe tbody tr th {\n",
       "        vertical-align: top;\n",
       "    }\n",
       "\n",
       "    .dataframe thead th {\n",
       "        text-align: right;\n",
       "    }\n",
       "</style>\n",
       "<table border=\"1\" class=\"dataframe\">\n",
       "  <thead>\n",
       "    <tr style=\"text-align: right;\">\n",
       "      <th></th>\n",
       "      <th>StoreId</th>\n",
       "      <th>OrderType</th>\n",
       "      <th>MenuItemName</th>\n",
       "      <th>WeekStartDate</th>\n",
       "      <th>item_weekly_volumn</th>\n",
       "      <th>item_weekly_revenue</th>\n",
       "      <th>TrendSlope</th>\n",
       "    </tr>\n",
       "  </thead>\n",
       "  <tbody>\n",
       "    <tr>\n",
       "      <th>0</th>\n",
       "      <td>963260</td>\n",
       "      <td>Online-Pickup</td>\n",
       "      <td>LEGAL WRAP</td>\n",
       "      <td>2025-06-02</td>\n",
       "      <td>18</td>\n",
       "      <td>294.02</td>\n",
       "      <td>-0.187755</td>\n",
       "    </tr>\n",
       "    <tr>\n",
       "      <th>1</th>\n",
       "      <td>963260</td>\n",
       "      <td>Online-Pickup</td>\n",
       "      <td>LEGAL WRAP</td>\n",
       "      <td>2025-05-19</td>\n",
       "      <td>20</td>\n",
       "      <td>309.95</td>\n",
       "      <td>-0.187755</td>\n",
       "    </tr>\n",
       "    <tr>\n",
       "      <th>2</th>\n",
       "      <td>963260</td>\n",
       "      <td>Online-Pickup</td>\n",
       "      <td>LEGAL WRAP</td>\n",
       "      <td>2025-05-05</td>\n",
       "      <td>29</td>\n",
       "      <td>493.39</td>\n",
       "      <td>-0.187755</td>\n",
       "    </tr>\n",
       "    <tr>\n",
       "      <th>3</th>\n",
       "      <td>963260</td>\n",
       "      <td>Online-Pickup</td>\n",
       "      <td>LEGAL WRAP</td>\n",
       "      <td>2025-05-26</td>\n",
       "      <td>10</td>\n",
       "      <td>166.54</td>\n",
       "      <td>-0.187755</td>\n",
       "    </tr>\n",
       "    <tr>\n",
       "      <th>4</th>\n",
       "      <td>963260</td>\n",
       "      <td>Online-Pickup</td>\n",
       "      <td>LEGAL WRAP</td>\n",
       "      <td>2025-05-12</td>\n",
       "      <td>19</td>\n",
       "      <td>336.48</td>\n",
       "      <td>-0.187755</td>\n",
       "    </tr>\n",
       "    <tr>\n",
       "      <th>...</th>\n",
       "      <td>...</td>\n",
       "      <td>...</td>\n",
       "      <td>...</td>\n",
       "      <td>...</td>\n",
       "      <td>...</td>\n",
       "      <td>...</td>\n",
       "      <td>...</td>\n",
       "    </tr>\n",
       "    <tr>\n",
       "      <th>66</th>\n",
       "      <td>963290</td>\n",
       "      <td>Dine In</td>\n",
       "      <td>SOUP AND 1/2 WRAP</td>\n",
       "      <td>2025-05-19</td>\n",
       "      <td>57</td>\n",
       "      <td>887.40</td>\n",
       "      <td>-0.979592</td>\n",
       "    </tr>\n",
       "    <tr>\n",
       "      <th>67</th>\n",
       "      <td>963290</td>\n",
       "      <td>Dine In</td>\n",
       "      <td>SOUP AND 1/2 WRAP</td>\n",
       "      <td>2025-05-05</td>\n",
       "      <td>57</td>\n",
       "      <td>832.53</td>\n",
       "      <td>-0.979592</td>\n",
       "    </tr>\n",
       "    <tr>\n",
       "      <th>68</th>\n",
       "      <td>963290</td>\n",
       "      <td>Dine In</td>\n",
       "      <td>SOUP AND 1/2 WRAP</td>\n",
       "      <td>2025-04-28</td>\n",
       "      <td>58</td>\n",
       "      <td>864.92</td>\n",
       "      <td>-0.979592</td>\n",
       "    </tr>\n",
       "    <tr>\n",
       "      <th>69</th>\n",
       "      <td>963290</td>\n",
       "      <td>Dine In</td>\n",
       "      <td>SOUP AND 1/2 WRAP</td>\n",
       "      <td>2025-05-26</td>\n",
       "      <td>38</td>\n",
       "      <td>569.62</td>\n",
       "      <td>-0.979592</td>\n",
       "    </tr>\n",
       "    <tr>\n",
       "      <th>70</th>\n",
       "      <td>963290</td>\n",
       "      <td>Dine In</td>\n",
       "      <td>SOUP AND 1/2 WRAP</td>\n",
       "      <td>2025-06-02</td>\n",
       "      <td>19</td>\n",
       "      <td>287.76</td>\n",
       "      <td>-0.979592</td>\n",
       "    </tr>\n",
       "  </tbody>\n",
       "</table>\n",
       "<p>71 rows × 7 columns</p>\n",
       "</div>"
      ],
      "text/plain": [
       "    StoreId      OrderType       MenuItemName WeekStartDate  \\\n",
       "0    963260  Online-Pickup         LEGAL WRAP    2025-06-02   \n",
       "1    963260  Online-Pickup         LEGAL WRAP    2025-05-19   \n",
       "2    963260  Online-Pickup         LEGAL WRAP    2025-05-05   \n",
       "3    963260  Online-Pickup         LEGAL WRAP    2025-05-26   \n",
       "4    963260  Online-Pickup         LEGAL WRAP    2025-05-12   \n",
       "..      ...            ...                ...           ...   \n",
       "66   963290        Dine In  SOUP AND 1/2 WRAP    2025-05-19   \n",
       "67   963290        Dine In  SOUP AND 1/2 WRAP    2025-05-05   \n",
       "68   963290        Dine In  SOUP AND 1/2 WRAP    2025-04-28   \n",
       "69   963290        Dine In  SOUP AND 1/2 WRAP    2025-05-26   \n",
       "70   963290        Dine In  SOUP AND 1/2 WRAP    2025-06-02   \n",
       "\n",
       "    item_weekly_volumn  item_weekly_revenue  TrendSlope  \n",
       "0                   18               294.02   -0.187755  \n",
       "1                   20               309.95   -0.187755  \n",
       "2                   29               493.39   -0.187755  \n",
       "3                   10               166.54   -0.187755  \n",
       "4                   19               336.48   -0.187755  \n",
       "..                 ...                  ...         ...  \n",
       "66                  57               887.40   -0.979592  \n",
       "67                  57               832.53   -0.979592  \n",
       "68                  58               864.92   -0.979592  \n",
       "69                  38               569.62   -0.979592  \n",
       "70                  19               287.76   -0.979592  \n",
       "\n",
       "[71 rows x 7 columns]"
      ]
     },
     "execution_count": 297,
     "metadata": {},
     "output_type": "execute_result"
    }
   ],
   "source": [
    "# Step 1: Filter only items with negative TrendSlope\n",
    "neg_trend = df_tren[df_tren['TrendSlope'] < 0]\n",
    "\n",
    "# Step 2: Count how many stores each MenuItemName appears in (with a negative slope)\n",
    "decline_counts = (\n",
    "    neg_trend\n",
    "    .groupby(['OrderType', 'MenuItemName'])['StoreId']\n",
    "    .nunique()\n",
    "    .reset_index(name='DecliningStoreCount')\n",
    ")\n",
    "\n",
    "# Step 3: Total number of stores\n",
    "total_stores = df['StoreId'].nunique()\n",
    "\n",
    "# Step 4: Keep only those items that declined in *all* stores\n",
    "items_declined_everywhere = decline_counts[decline_counts['DecliningStoreCount'] == total_stores]\n",
    "\n",
    "# Step 5: Merge back to get full info\n",
    "result = neg_trend.merge(items_declined_everywhere[['OrderType', 'MenuItemName']], \n",
    "                  on=['OrderType', 'MenuItemName'], \n",
    "                  how='inner')\n",
    "\n"
   ]
  },
  {
   "cell_type": "code",
   "execution_count": 301,
   "metadata": {},
   "outputs": [
    {
     "data": {
      "text/html": [
       "<div>\n",
       "<style scoped>\n",
       "    .dataframe tbody tr th:only-of-type {\n",
       "        vertical-align: middle;\n",
       "    }\n",
       "\n",
       "    .dataframe tbody tr th {\n",
       "        vertical-align: top;\n",
       "    }\n",
       "\n",
       "    .dataframe thead th {\n",
       "        text-align: right;\n",
       "    }\n",
       "</style>\n",
       "<table border=\"1\" class=\"dataframe\">\n",
       "  <thead>\n",
       "    <tr style=\"text-align: right;\">\n",
       "      <th></th>\n",
       "      <th>StoreId</th>\n",
       "      <th>OrderType</th>\n",
       "      <th>MenuItemName</th>\n",
       "      <th>WeekStartDate</th>\n",
       "      <th>item_weekly_volumn</th>\n",
       "      <th>item_weekly_revenue</th>\n",
       "      <th>TrendSlope</th>\n",
       "    </tr>\n",
       "  </thead>\n",
       "  <tbody>\n",
       "    <tr>\n",
       "      <th>30</th>\n",
       "      <td>963290</td>\n",
       "      <td>UEats-Delivery</td>\n",
       "      <td>LEGAL WRAP</td>\n",
       "      <td>2025-05-26</td>\n",
       "      <td>443</td>\n",
       "      <td>11959.49</td>\n",
       "      <td>-8.783673</td>\n",
       "    </tr>\n",
       "    <tr>\n",
       "      <th>31</th>\n",
       "      <td>963290</td>\n",
       "      <td>UEats-Delivery</td>\n",
       "      <td>LEGAL WRAP</td>\n",
       "      <td>2025-04-28</td>\n",
       "      <td>392</td>\n",
       "      <td>10906.14</td>\n",
       "      <td>-8.783673</td>\n",
       "    </tr>\n",
       "    <tr>\n",
       "      <th>32</th>\n",
       "      <td>963290</td>\n",
       "      <td>UEats-Delivery</td>\n",
       "      <td>LEGAL WRAP</td>\n",
       "      <td>2025-05-05</td>\n",
       "      <td>546</td>\n",
       "      <td>14645.91</td>\n",
       "      <td>-8.783673</td>\n",
       "    </tr>\n",
       "    <tr>\n",
       "      <th>33</th>\n",
       "      <td>963290</td>\n",
       "      <td>UEats-Delivery</td>\n",
       "      <td>LEGAL WRAP</td>\n",
       "      <td>2025-05-12</td>\n",
       "      <td>645</td>\n",
       "      <td>17200.41</td>\n",
       "      <td>-8.783673</td>\n",
       "    </tr>\n",
       "    <tr>\n",
       "      <th>34</th>\n",
       "      <td>963290</td>\n",
       "      <td>UEats-Delivery</td>\n",
       "      <td>LEGAL WRAP</td>\n",
       "      <td>2025-05-19</td>\n",
       "      <td>492</td>\n",
       "      <td>13312.71</td>\n",
       "      <td>-8.783673</td>\n",
       "    </tr>\n",
       "    <tr>\n",
       "      <th>35</th>\n",
       "      <td>963290</td>\n",
       "      <td>UEats-Delivery</td>\n",
       "      <td>LEGAL WRAP</td>\n",
       "      <td>2025-06-02</td>\n",
       "      <td>54</td>\n",
       "      <td>1178.35</td>\n",
       "      <td>-8.783673</td>\n",
       "    </tr>\n",
       "  </tbody>\n",
       "</table>\n",
       "</div>"
      ],
      "text/plain": [
       "    StoreId       OrderType MenuItemName WeekStartDate  item_weekly_volumn  \\\n",
       "30   963290  UEats-Delivery   LEGAL WRAP    2025-05-26                 443   \n",
       "31   963290  UEats-Delivery   LEGAL WRAP    2025-04-28                 392   \n",
       "32   963290  UEats-Delivery   LEGAL WRAP    2025-05-05                 546   \n",
       "33   963290  UEats-Delivery   LEGAL WRAP    2025-05-12                 645   \n",
       "34   963290  UEats-Delivery   LEGAL WRAP    2025-05-19                 492   \n",
       "35   963290  UEats-Delivery   LEGAL WRAP    2025-06-02                  54   \n",
       "\n",
       "    item_weekly_revenue  TrendSlope  \n",
       "30             11959.49   -8.783673  \n",
       "31             10906.14   -8.783673  \n",
       "32             14645.91   -8.783673  \n",
       "33             17200.41   -8.783673  \n",
       "34             13312.71   -8.783673  \n",
       "35              1178.35   -8.783673  "
      ]
     },
     "execution_count": 301,
     "metadata": {},
     "output_type": "execute_result"
    }
   ],
   "source": [
    "result['TrendSlope'].min()\n",
    "result[result['TrendSlope'] == result['TrendSlope'].min()]\n"
   ]
  },
  {
   "cell_type": "code",
   "execution_count": null,
   "metadata": {},
   "outputs": [],
   "source": []
  },
  {
   "cell_type": "code",
   "execution_count": null,
   "metadata": {},
   "outputs": [],
   "source": []
  },
  {
   "cell_type": "code",
   "execution_count": 298,
   "metadata": {},
   "outputs": [
    {
     "name": "stderr",
     "output_type": "stream",
     "text": [
      "/Library/Frameworks/Python.framework/Versions/3.7/lib/python3.7/site-packages/ipykernel_launcher.py:15: SettingWithCopyWarning:\n",
      "\n",
      "\n",
      "A value is trying to be set on a copy of a slice from a DataFrame.\n",
      "Try using .loc[row_indexer,col_indexer] = value instead\n",
      "\n",
      "See the caveats in the documentation: https://pandas.pydata.org/pandas-docs/stable/user_guide/indexing.html#returning-a-view-versus-a-copy\n",
      "\n"
     ]
    },
    {
     "data": {
      "application/vnd.plotly.v1+json": {
       "config": {
        "plotlyServerURL": "https://plot.ly"
       },
       "data": [
        {
         "hoverinfo": "name+x+y",
         "legendgroup": "LEGAL WRAP",
         "mode": "lines+markers",
         "name": "LEGAL WRAP",
         "showlegend": true,
         "type": "scatter",
         "x": [
          "2025-04-28T00:00:00",
          "2025-05-05T00:00:00",
          "2025-05-12T00:00:00",
          "2025-05-19T00:00:00",
          "2025-05-26T00:00:00",
          "2025-06-02T00:00:00"
         ],
         "xaxis": "x",
         "y": [
          25,
          11,
          22,
          20,
          20,
          11
         ],
         "yaxis": "y"
        },
        {
         "hoverinfo": "none",
         "line": {
          "color": "green",
          "dash": "dash"
         },
         "mode": "lines",
         "showlegend": false,
         "type": "scatter",
         "x": [
          "2025-04-28T00:00:00",
          "2025-05-05T00:00:00",
          "2025-05-12T00:00:00",
          "2025-05-19T00:00:00",
          "2025-05-26T00:00:00",
          "2025-06-02T00:00:00"
         ],
         "xaxis": "x",
         "y": [
          21.380952381005045,
          20.095238095265813,
          18.809523809555685,
          17.523809523816453,
          16.238095238106325,
          14.952380952367093
         ],
         "yaxis": "y"
        },
        {
         "hoverinfo": "name+x+y",
         "legendgroup": "LEGAL WRAP",
         "mode": "lines+markers",
         "name": "LEGAL WRAP",
         "showlegend": false,
         "type": "scatter",
         "x": [
          "2025-04-28T00:00:00",
          "2025-05-05T00:00:00",
          "2025-05-12T00:00:00",
          "2025-05-19T00:00:00",
          "2025-05-26T00:00:00",
          "2025-06-02T00:00:00"
         ],
         "xaxis": "x2",
         "y": [
          112,
          130,
          130,
          131,
          157,
          61
         ],
         "yaxis": "y2"
        },
        {
         "hoverinfo": "none",
         "line": {
          "color": "green",
          "dash": "dash"
         },
         "mode": "lines",
         "showlegend": false,
         "type": "scatter",
         "x": [
          "2025-04-28T00:00:00",
          "2025-05-05T00:00:00",
          "2025-05-12T00:00:00",
          "2025-05-19T00:00:00",
          "2025-05-26T00:00:00",
          "2025-06-02T00:00:00"
         ],
         "xaxis": "x2",
         "y": [
          132.52380952396197,
          127.58095238101669,
          122.63809523812961,
          117.69523809518432,
          112.75238095223904,
          107.80952380935196
         ],
         "yaxis": "y2"
        },
        {
         "hoverinfo": "name+x+y",
         "legendgroup": "LEGAL WRAP",
         "mode": "lines+markers",
         "name": "LEGAL WRAP",
         "showlegend": false,
         "type": "scatter",
         "x": [
          "2025-04-28T00:00:00",
          "2025-05-05T00:00:00",
          "2025-05-12T00:00:00",
          "2025-05-19T00:00:00",
          "2025-05-26T00:00:00"
         ],
         "xaxis": "x3",
         "y": [
          42,
          40,
          33,
          39,
          33
         ],
         "yaxis": "y3"
        },
        {
         "hoverinfo": "none",
         "line": {
          "color": "green",
          "dash": "dash"
         },
         "mode": "lines",
         "showlegend": false,
         "type": "scatter",
         "x": [
          "2025-04-28T00:00:00",
          "2025-05-05T00:00:00",
          "2025-05-12T00:00:00",
          "2025-05-19T00:00:00",
          "2025-05-26T00:00:00"
         ],
         "xaxis": "x3",
         "y": [
          41.199999999807915,
          39.299999999813735,
          37.39999999984866,
          35.499999999883585,
          33.599999999889405
         ],
         "yaxis": "y3"
        },
        {
         "hoverinfo": "name+x+y",
         "legendgroup": "SOUP AND 1/2 WRAP",
         "mode": "lines+markers",
         "name": "SOUP AND 1/2 WRAP",
         "showlegend": true,
         "type": "scatter",
         "x": [
          "2025-04-28T00:00:00",
          "2025-05-05T00:00:00",
          "2025-05-12T00:00:00",
          "2025-05-19T00:00:00",
          "2025-05-26T00:00:00",
          "2025-06-02T00:00:00"
         ],
         "xaxis": "x4",
         "y": [
          22,
          15,
          14,
          20,
          11,
          15
         ],
         "yaxis": "y4"
        },
        {
         "hoverinfo": "none",
         "line": {
          "color": "green",
          "dash": "dash"
         },
         "mode": "lines",
         "showlegend": false,
         "type": "scatter",
         "x": [
          "2025-04-28T00:00:00",
          "2025-05-05T00:00:00",
          "2025-05-12T00:00:00",
          "2025-05-19T00:00:00",
          "2025-05-26T00:00:00",
          "2025-06-02T00:00:00"
         ],
         "xaxis": "x4",
         "y": [
          19.095238095280365,
          17.92380952385429,
          16.75238095241366,
          15.580952380987583,
          14.409523809546954,
          13.238095238106325
         ],
         "yaxis": "y4"
        }
       ],
       "layout": {
        "annotations": [
         {
          "font": {
           "size": 16
          },
          "showarrow": false,
          "text": "963280 — Online-Pickup",
          "x": 0.09875,
          "xanchor": "center",
          "xref": "paper",
          "y": 1,
          "yanchor": "bottom",
          "yref": "paper"
         },
         {
          "font": {
           "size": 16
          },
          "showarrow": false,
          "text": "963280 — UEats-Delivery",
          "x": 0.36625,
          "xanchor": "center",
          "xref": "paper",
          "y": 1,
          "yanchor": "bottom",
          "yref": "paper"
         },
         {
          "font": {
           "size": 16
          },
          "showarrow": false,
          "text": "963280 — UEats-Pickup",
          "x": 0.63375,
          "xanchor": "center",
          "xref": "paper",
          "y": 1,
          "yanchor": "bottom",
          "yref": "paper"
         },
         {
          "font": {
           "size": 16
          },
          "showarrow": false,
          "text": "963280 — Dine In",
          "x": 0.90125,
          "xanchor": "center",
          "xref": "paper",
          "y": 1,
          "yanchor": "bottom",
          "yref": "paper"
         },
         {
          "bgcolor": "rgba(255,255,255,0.7)",
          "font": {
           "color": "black",
           "size": 9
          },
          "showarrow": false,
          "text": "LEGAL WRAP<br>slope=-0.18<br>R²=0.17",
          "x": "2025-04-28T00:00:00",
          "xanchor": "left",
          "xref": "x",
          "y": 21.380952381005045,
          "yanchor": "top",
          "yref": "y"
         },
         {
          "bgcolor": "rgba(255,255,255,0.7)",
          "font": {
           "color": "black",
           "size": 9
          },
          "showarrow": false,
          "text": "LEGAL WRAP<br>slope=-0.71<br>R²=0.08",
          "x": "2025-04-28T00:00:00",
          "xanchor": "left",
          "xref": "x2",
          "y": 132.52380952396197,
          "yanchor": "top",
          "yref": "y2"
         },
         {
          "bgcolor": "rgba(255,255,255,0.7)",
          "font": {
           "color": "black",
           "size": 9
          },
          "showarrow": false,
          "text": "LEGAL WRAP<br>slope=-0.27<br>R²=0.52",
          "x": "2025-04-28T00:00:00",
          "xanchor": "left",
          "xref": "x3",
          "y": 41.199999999807915,
          "yanchor": "top",
          "yref": "y3"
         },
         {
          "bgcolor": "rgba(255,255,255,0.7)",
          "font": {
           "color": "black",
           "size": 9
          },
          "showarrow": false,
          "text": "SOUP AND 1/2 WRAP<br>slope=-0.17<br>R²=0.29",
          "x": "2025-04-28T00:00:00",
          "xanchor": "left",
          "xref": "x4",
          "y": 19.095238095280365,
          "yanchor": "top",
          "yref": "y4"
         }
        ],
        "height": 400,
        "hovermode": "x unified",
        "legend": {
         "title": {
          "text": "MenuItemName"
         }
        },
        "template": {
         "data": {
          "bar": [
           {
            "error_x": {
             "color": "#2a3f5f"
            },
            "error_y": {
             "color": "#2a3f5f"
            },
            "marker": {
             "line": {
              "color": "#E5ECF6",
              "width": 0.5
             },
             "pattern": {
              "fillmode": "overlay",
              "size": 10,
              "solidity": 0.2
             }
            },
            "type": "bar"
           }
          ],
          "barpolar": [
           {
            "marker": {
             "line": {
              "color": "#E5ECF6",
              "width": 0.5
             },
             "pattern": {
              "fillmode": "overlay",
              "size": 10,
              "solidity": 0.2
             }
            },
            "type": "barpolar"
           }
          ],
          "carpet": [
           {
            "aaxis": {
             "endlinecolor": "#2a3f5f",
             "gridcolor": "white",
             "linecolor": "white",
             "minorgridcolor": "white",
             "startlinecolor": "#2a3f5f"
            },
            "baxis": {
             "endlinecolor": "#2a3f5f",
             "gridcolor": "white",
             "linecolor": "white",
             "minorgridcolor": "white",
             "startlinecolor": "#2a3f5f"
            },
            "type": "carpet"
           }
          ],
          "choropleth": [
           {
            "colorbar": {
             "outlinewidth": 0,
             "ticks": ""
            },
            "type": "choropleth"
           }
          ],
          "contour": [
           {
            "colorbar": {
             "outlinewidth": 0,
             "ticks": ""
            },
            "colorscale": [
             [
              0,
              "#0d0887"
             ],
             [
              0.1111111111111111,
              "#46039f"
             ],
             [
              0.2222222222222222,
              "#7201a8"
             ],
             [
              0.3333333333333333,
              "#9c179e"
             ],
             [
              0.4444444444444444,
              "#bd3786"
             ],
             [
              0.5555555555555556,
              "#d8576b"
             ],
             [
              0.6666666666666666,
              "#ed7953"
             ],
             [
              0.7777777777777778,
              "#fb9f3a"
             ],
             [
              0.8888888888888888,
              "#fdca26"
             ],
             [
              1,
              "#f0f921"
             ]
            ],
            "type": "contour"
           }
          ],
          "contourcarpet": [
           {
            "colorbar": {
             "outlinewidth": 0,
             "ticks": ""
            },
            "type": "contourcarpet"
           }
          ],
          "heatmap": [
           {
            "colorbar": {
             "outlinewidth": 0,
             "ticks": ""
            },
            "colorscale": [
             [
              0,
              "#0d0887"
             ],
             [
              0.1111111111111111,
              "#46039f"
             ],
             [
              0.2222222222222222,
              "#7201a8"
             ],
             [
              0.3333333333333333,
              "#9c179e"
             ],
             [
              0.4444444444444444,
              "#bd3786"
             ],
             [
              0.5555555555555556,
              "#d8576b"
             ],
             [
              0.6666666666666666,
              "#ed7953"
             ],
             [
              0.7777777777777778,
              "#fb9f3a"
             ],
             [
              0.8888888888888888,
              "#fdca26"
             ],
             [
              1,
              "#f0f921"
             ]
            ],
            "type": "heatmap"
           }
          ],
          "heatmapgl": [
           {
            "colorbar": {
             "outlinewidth": 0,
             "ticks": ""
            },
            "colorscale": [
             [
              0,
              "#0d0887"
             ],
             [
              0.1111111111111111,
              "#46039f"
             ],
             [
              0.2222222222222222,
              "#7201a8"
             ],
             [
              0.3333333333333333,
              "#9c179e"
             ],
             [
              0.4444444444444444,
              "#bd3786"
             ],
             [
              0.5555555555555556,
              "#d8576b"
             ],
             [
              0.6666666666666666,
              "#ed7953"
             ],
             [
              0.7777777777777778,
              "#fb9f3a"
             ],
             [
              0.8888888888888888,
              "#fdca26"
             ],
             [
              1,
              "#f0f921"
             ]
            ],
            "type": "heatmapgl"
           }
          ],
          "histogram": [
           {
            "marker": {
             "pattern": {
              "fillmode": "overlay",
              "size": 10,
              "solidity": 0.2
             }
            },
            "type": "histogram"
           }
          ],
          "histogram2d": [
           {
            "colorbar": {
             "outlinewidth": 0,
             "ticks": ""
            },
            "colorscale": [
             [
              0,
              "#0d0887"
             ],
             [
              0.1111111111111111,
              "#46039f"
             ],
             [
              0.2222222222222222,
              "#7201a8"
             ],
             [
              0.3333333333333333,
              "#9c179e"
             ],
             [
              0.4444444444444444,
              "#bd3786"
             ],
             [
              0.5555555555555556,
              "#d8576b"
             ],
             [
              0.6666666666666666,
              "#ed7953"
             ],
             [
              0.7777777777777778,
              "#fb9f3a"
             ],
             [
              0.8888888888888888,
              "#fdca26"
             ],
             [
              1,
              "#f0f921"
             ]
            ],
            "type": "histogram2d"
           }
          ],
          "histogram2dcontour": [
           {
            "colorbar": {
             "outlinewidth": 0,
             "ticks": ""
            },
            "colorscale": [
             [
              0,
              "#0d0887"
             ],
             [
              0.1111111111111111,
              "#46039f"
             ],
             [
              0.2222222222222222,
              "#7201a8"
             ],
             [
              0.3333333333333333,
              "#9c179e"
             ],
             [
              0.4444444444444444,
              "#bd3786"
             ],
             [
              0.5555555555555556,
              "#d8576b"
             ],
             [
              0.6666666666666666,
              "#ed7953"
             ],
             [
              0.7777777777777778,
              "#fb9f3a"
             ],
             [
              0.8888888888888888,
              "#fdca26"
             ],
             [
              1,
              "#f0f921"
             ]
            ],
            "type": "histogram2dcontour"
           }
          ],
          "mesh3d": [
           {
            "colorbar": {
             "outlinewidth": 0,
             "ticks": ""
            },
            "type": "mesh3d"
           }
          ],
          "parcoords": [
           {
            "line": {
             "colorbar": {
              "outlinewidth": 0,
              "ticks": ""
             }
            },
            "type": "parcoords"
           }
          ],
          "pie": [
           {
            "automargin": true,
            "type": "pie"
           }
          ],
          "scatter": [
           {
            "fillpattern": {
             "fillmode": "overlay",
             "size": 10,
             "solidity": 0.2
            },
            "type": "scatter"
           }
          ],
          "scatter3d": [
           {
            "line": {
             "colorbar": {
              "outlinewidth": 0,
              "ticks": ""
             }
            },
            "marker": {
             "colorbar": {
              "outlinewidth": 0,
              "ticks": ""
             }
            },
            "type": "scatter3d"
           }
          ],
          "scattercarpet": [
           {
            "marker": {
             "colorbar": {
              "outlinewidth": 0,
              "ticks": ""
             }
            },
            "type": "scattercarpet"
           }
          ],
          "scattergeo": [
           {
            "marker": {
             "colorbar": {
              "outlinewidth": 0,
              "ticks": ""
             }
            },
            "type": "scattergeo"
           }
          ],
          "scattergl": [
           {
            "marker": {
             "colorbar": {
              "outlinewidth": 0,
              "ticks": ""
             }
            },
            "type": "scattergl"
           }
          ],
          "scattermapbox": [
           {
            "marker": {
             "colorbar": {
              "outlinewidth": 0,
              "ticks": ""
             }
            },
            "type": "scattermapbox"
           }
          ],
          "scatterpolar": [
           {
            "marker": {
             "colorbar": {
              "outlinewidth": 0,
              "ticks": ""
             }
            },
            "type": "scatterpolar"
           }
          ],
          "scatterpolargl": [
           {
            "marker": {
             "colorbar": {
              "outlinewidth": 0,
              "ticks": ""
             }
            },
            "type": "scatterpolargl"
           }
          ],
          "scatterternary": [
           {
            "marker": {
             "colorbar": {
              "outlinewidth": 0,
              "ticks": ""
             }
            },
            "type": "scatterternary"
           }
          ],
          "surface": [
           {
            "colorbar": {
             "outlinewidth": 0,
             "ticks": ""
            },
            "colorscale": [
             [
              0,
              "#0d0887"
             ],
             [
              0.1111111111111111,
              "#46039f"
             ],
             [
              0.2222222222222222,
              "#7201a8"
             ],
             [
              0.3333333333333333,
              "#9c179e"
             ],
             [
              0.4444444444444444,
              "#bd3786"
             ],
             [
              0.5555555555555556,
              "#d8576b"
             ],
             [
              0.6666666666666666,
              "#ed7953"
             ],
             [
              0.7777777777777778,
              "#fb9f3a"
             ],
             [
              0.8888888888888888,
              "#fdca26"
             ],
             [
              1,
              "#f0f921"
             ]
            ],
            "type": "surface"
           }
          ],
          "table": [
           {
            "cells": {
             "fill": {
              "color": "#EBF0F8"
             },
             "line": {
              "color": "white"
             }
            },
            "header": {
             "fill": {
              "color": "#C8D4E3"
             },
             "line": {
              "color": "white"
             }
            },
            "type": "table"
           }
          ]
         },
         "layout": {
          "annotationdefaults": {
           "arrowcolor": "#2a3f5f",
           "arrowhead": 0,
           "arrowwidth": 1
          },
          "autotypenumbers": "strict",
          "coloraxis": {
           "colorbar": {
            "outlinewidth": 0,
            "ticks": ""
           }
          },
          "colorscale": {
           "diverging": [
            [
             0,
             "#8e0152"
            ],
            [
             0.1,
             "#c51b7d"
            ],
            [
             0.2,
             "#de77ae"
            ],
            [
             0.3,
             "#f1b6da"
            ],
            [
             0.4,
             "#fde0ef"
            ],
            [
             0.5,
             "#f7f7f7"
            ],
            [
             0.6,
             "#e6f5d0"
            ],
            [
             0.7,
             "#b8e186"
            ],
            [
             0.8,
             "#7fbc41"
            ],
            [
             0.9,
             "#4d9221"
            ],
            [
             1,
             "#276419"
            ]
           ],
           "sequential": [
            [
             0,
             "#0d0887"
            ],
            [
             0.1111111111111111,
             "#46039f"
            ],
            [
             0.2222222222222222,
             "#7201a8"
            ],
            [
             0.3333333333333333,
             "#9c179e"
            ],
            [
             0.4444444444444444,
             "#bd3786"
            ],
            [
             0.5555555555555556,
             "#d8576b"
            ],
            [
             0.6666666666666666,
             "#ed7953"
            ],
            [
             0.7777777777777778,
             "#fb9f3a"
            ],
            [
             0.8888888888888888,
             "#fdca26"
            ],
            [
             1,
             "#f0f921"
            ]
           ],
           "sequentialminus": [
            [
             0,
             "#0d0887"
            ],
            [
             0.1111111111111111,
             "#46039f"
            ],
            [
             0.2222222222222222,
             "#7201a8"
            ],
            [
             0.3333333333333333,
             "#9c179e"
            ],
            [
             0.4444444444444444,
             "#bd3786"
            ],
            [
             0.5555555555555556,
             "#d8576b"
            ],
            [
             0.6666666666666666,
             "#ed7953"
            ],
            [
             0.7777777777777778,
             "#fb9f3a"
            ],
            [
             0.8888888888888888,
             "#fdca26"
            ],
            [
             1,
             "#f0f921"
            ]
           ]
          },
          "colorway": [
           "#636efa",
           "#EF553B",
           "#00cc96",
           "#ab63fa",
           "#FFA15A",
           "#19d3f3",
           "#FF6692",
           "#B6E880",
           "#FF97FF",
           "#FECB52"
          ],
          "font": {
           "color": "#2a3f5f"
          },
          "geo": {
           "bgcolor": "white",
           "lakecolor": "white",
           "landcolor": "#E5ECF6",
           "showlakes": true,
           "showland": true,
           "subunitcolor": "white"
          },
          "hoverlabel": {
           "align": "left"
          },
          "hovermode": "closest",
          "mapbox": {
           "style": "light"
          },
          "paper_bgcolor": "white",
          "plot_bgcolor": "#E5ECF6",
          "polar": {
           "angularaxis": {
            "gridcolor": "white",
            "linecolor": "white",
            "ticks": ""
           },
           "bgcolor": "#E5ECF6",
           "radialaxis": {
            "gridcolor": "white",
            "linecolor": "white",
            "ticks": ""
           }
          },
          "scene": {
           "xaxis": {
            "backgroundcolor": "#E5ECF6",
            "gridcolor": "white",
            "gridwidth": 2,
            "linecolor": "white",
            "showbackground": true,
            "ticks": "",
            "zerolinecolor": "white"
           },
           "yaxis": {
            "backgroundcolor": "#E5ECF6",
            "gridcolor": "white",
            "gridwidth": 2,
            "linecolor": "white",
            "showbackground": true,
            "ticks": "",
            "zerolinecolor": "white"
           },
           "zaxis": {
            "backgroundcolor": "#E5ECF6",
            "gridcolor": "white",
            "gridwidth": 2,
            "linecolor": "white",
            "showbackground": true,
            "ticks": "",
            "zerolinecolor": "white"
           }
          },
          "shapedefaults": {
           "line": {
            "color": "#2a3f5f"
           }
          },
          "ternary": {
           "aaxis": {
            "gridcolor": "white",
            "linecolor": "white",
            "ticks": ""
           },
           "baxis": {
            "gridcolor": "white",
            "linecolor": "white",
            "ticks": ""
           },
           "bgcolor": "#E5ECF6",
           "caxis": {
            "gridcolor": "white",
            "linecolor": "white",
            "ticks": ""
           }
          },
          "title": {
           "x": 0.05
          },
          "xaxis": {
           "automargin": true,
           "gridcolor": "white",
           "linecolor": "white",
           "ticks": "",
           "title": {
            "standoff": 15
           },
           "zerolinecolor": "white",
           "zerolinewidth": 2
          },
          "yaxis": {
           "automargin": true,
           "gridcolor": "white",
           "linecolor": "white",
           "ticks": "",
           "title": {
            "standoff": 15
           },
           "zerolinecolor": "white",
           "zerolinewidth": 2
          }
         }
        },
        "title": {
         "text": "Weekly Item Volume with Trend Lines & Score Value by StoreId and OrderType"
        },
        "width": 2000,
        "xaxis": {
         "anchor": "y",
         "domain": [
          0,
          0.1975
         ]
        },
        "xaxis2": {
         "anchor": "y2",
         "domain": [
          0.2675,
          0.465
         ]
        },
        "xaxis3": {
         "anchor": "y3",
         "domain": [
          0.535,
          0.7325
         ]
        },
        "xaxis4": {
         "anchor": "y4",
         "domain": [
          0.8025,
          1
         ]
        },
        "yaxis": {
         "anchor": "x",
         "domain": [
          0,
          1
         ]
        },
        "yaxis2": {
         "anchor": "x2",
         "domain": [
          0,
          1
         ]
        },
        "yaxis3": {
         "anchor": "x3",
         "domain": [
          0,
          1
         ]
        },
        "yaxis4": {
         "anchor": "x4",
         "domain": [
          0,
          1
         ]
        }
       }
      }
     },
     "metadata": {},
     "output_type": "display_data"
    },
    {
     "name": "stderr",
     "output_type": "stream",
     "text": [
      "/Library/Frameworks/Python.framework/Versions/3.7/lib/python3.7/site-packages/ipykernel_launcher.py:15: SettingWithCopyWarning:\n",
      "\n",
      "\n",
      "A value is trying to be set on a copy of a slice from a DataFrame.\n",
      "Try using .loc[row_indexer,col_indexer] = value instead\n",
      "\n",
      "See the caveats in the documentation: https://pandas.pydata.org/pandas-docs/stable/user_guide/indexing.html#returning-a-view-versus-a-copy\n",
      "\n"
     ]
    },
    {
     "data": {
      "application/vnd.plotly.v1+json": {
       "config": {
        "plotlyServerURL": "https://plot.ly"
       },
       "data": [
        {
         "hoverinfo": "name+x+y",
         "legendgroup": "LEGAL WRAP",
         "mode": "lines+markers",
         "name": "LEGAL WRAP",
         "showlegend": true,
         "type": "scatter",
         "x": [
          "2025-04-28T00:00:00",
          "2025-05-05T00:00:00",
          "2025-05-12T00:00:00",
          "2025-05-19T00:00:00",
          "2025-05-26T00:00:00",
          "2025-06-02T00:00:00"
         ],
         "xaxis": "x",
         "y": [
          16,
          29,
          19,
          20,
          10,
          18
         ],
         "yaxis": "y"
        },
        {
         "hoverinfo": "none",
         "line": {
          "color": "green",
          "dash": "dash"
         },
         "mode": "lines",
         "showlegend": false,
         "type": "scatter",
         "x": [
          "2025-04-28T00:00:00",
          "2025-05-05T00:00:00",
          "2025-05-12T00:00:00",
          "2025-05-19T00:00:00",
          "2025-05-26T00:00:00",
          "2025-06-02T00:00:00"
         ],
         "xaxis": "x",
         "y": [
          21.952380952396197,
          20.638095238100505,
          19.32380952380481,
          18.00952380950912,
          16.695238095213426,
          15.380952380917734
         ],
         "yaxis": "y"
        },
        {
         "hoverinfo": "name+x+y",
         "legendgroup": "LEGAL WRAP",
         "mode": "lines+markers",
         "name": "LEGAL WRAP",
         "showlegend": false,
         "type": "scatter",
         "x": [
          "2025-04-28T00:00:00",
          "2025-05-05T00:00:00",
          "2025-05-12T00:00:00",
          "2025-05-19T00:00:00",
          "2025-05-26T00:00:00",
          "2025-06-02T00:00:00"
         ],
         "xaxis": "x2",
         "y": [
          106,
          122,
          82,
          114,
          84,
          28
         ],
         "yaxis": "y2"
        },
        {
         "hoverinfo": "none",
         "line": {
          "color": "green",
          "dash": "dash"
         },
         "mode": "lines",
         "showlegend": false,
         "type": "scatter",
         "x": [
          "2025-04-28T00:00:00",
          "2025-05-05T00:00:00",
          "2025-05-12T00:00:00",
          "2025-05-19T00:00:00",
          "2025-05-26T00:00:00",
          "2025-06-02T00:00:00"
         ],
         "xaxis": "x2",
         "y": [
          123.04761904780753,
          109.56190476194024,
          96.07619047607295,
          82.59047619020566,
          69.1047619045712,
          55.61904761870392
         ],
         "yaxis": "y2"
        },
        {
         "hoverinfo": "name+x+y",
         "legendgroup": "LEGAL WRAP",
         "mode": "lines+markers",
         "name": "LEGAL WRAP",
         "showlegend": false,
         "type": "scatter",
         "x": [
          "2025-04-28T00:00:00",
          "2025-05-05T00:00:00",
          "2025-05-12T00:00:00",
          "2025-05-19T00:00:00",
          "2025-05-26T00:00:00",
          "2025-06-02T00:00:00"
         ],
         "xaxis": "x3",
         "y": [
          22,
          24,
          33,
          26,
          19,
          1
         ],
         "yaxis": "y3"
        },
        {
         "hoverinfo": "none",
         "line": {
          "color": "green",
          "dash": "dash"
         },
         "mode": "lines",
         "showlegend": false,
         "type": "scatter",
         "x": [
          "2025-04-28T00:00:00",
          "2025-05-05T00:00:00",
          "2025-05-12T00:00:00",
          "2025-05-19T00:00:00",
          "2025-05-26T00:00:00",
          "2025-06-02T00:00:00"
         ],
         "xaxis": "x3",
         "y": [
          29.904761904967017,
          26.276190476375632,
          22.64761904772604,
          19.019047619134653,
          15.390476190543268,
          11.761904761951882
         ],
         "yaxis": "y3"
        },
        {
         "hoverinfo": "name+x+y",
         "legendgroup": "SOUP AND 1/2 WRAP",
         "mode": "lines+markers",
         "name": "SOUP AND 1/2 WRAP",
         "showlegend": true,
         "type": "scatter",
         "x": [
          "2025-04-28T00:00:00",
          "2025-05-05T00:00:00",
          "2025-05-12T00:00:00",
          "2025-05-19T00:00:00",
          "2025-05-26T00:00:00",
          "2025-06-02T00:00:00"
         ],
         "xaxis": "x4",
         "y": [
          16,
          25,
          15,
          18,
          7,
          19
         ],
         "yaxis": "y4"
        },
        {
         "hoverinfo": "none",
         "line": {
          "color": "green",
          "dash": "dash"
         },
         "mode": "lines",
         "showlegend": false,
         "type": "scatter",
         "x": [
          "2025-04-28T00:00:00",
          "2025-05-05T00:00:00",
          "2025-05-12T00:00:00",
          "2025-05-19T00:00:00",
          "2025-05-26T00:00:00",
          "2025-06-02T00:00:00"
         ],
         "xaxis": "x4",
         "y": [
          19.238095238106325,
          18.209523809535312,
          17.180952380949748,
          16.152380952378735,
          15.123809523807722,
          14.095238095222157
         ],
         "yaxis": "y4"
        }
       ],
       "layout": {
        "annotations": [
         {
          "font": {
           "size": 16
          },
          "showarrow": false,
          "text": "963260 — Online-Pickup",
          "x": 0.09875,
          "xanchor": "center",
          "xref": "paper",
          "y": 1,
          "yanchor": "bottom",
          "yref": "paper"
         },
         {
          "font": {
           "size": 16
          },
          "showarrow": false,
          "text": "963260 — UEats-Delivery",
          "x": 0.36625,
          "xanchor": "center",
          "xref": "paper",
          "y": 1,
          "yanchor": "bottom",
          "yref": "paper"
         },
         {
          "font": {
           "size": 16
          },
          "showarrow": false,
          "text": "963260 — UEats-Pickup",
          "x": 0.63375,
          "xanchor": "center",
          "xref": "paper",
          "y": 1,
          "yanchor": "bottom",
          "yref": "paper"
         },
         {
          "font": {
           "size": 16
          },
          "showarrow": false,
          "text": "963260 — Dine In",
          "x": 0.90125,
          "xanchor": "center",
          "xref": "paper",
          "y": 1,
          "yanchor": "bottom",
          "yref": "paper"
         },
         {
          "bgcolor": "rgba(255,255,255,0.7)",
          "font": {
           "color": "black",
           "size": 9
          },
          "showarrow": false,
          "text": "LEGAL WRAP<br>slope=-0.19<br>R²=0.16",
          "x": "2025-04-28T00:00:00",
          "xanchor": "left",
          "xref": "x",
          "y": 21.952380952396197,
          "yanchor": "top",
          "yref": "y"
         },
         {
          "bgcolor": "rgba(255,255,255,0.7)",
          "font": {
           "color": "black",
           "size": 9
          },
          "showarrow": false,
          "text": "LEGAL WRAP<br>slope=-1.93<br>R²=0.55",
          "x": "2025-04-28T00:00:00",
          "xanchor": "left",
          "xref": "x2",
          "y": 123.04761904780753,
          "yanchor": "top",
          "yref": "y2"
         },
         {
          "bgcolor": "rgba(255,255,255,0.7)",
          "font": {
           "color": "black",
           "size": 9
          },
          "showarrow": false,
          "text": "LEGAL WRAP<br>slope=-0.52<br>R²=0.40",
          "x": "2025-04-28T00:00:00",
          "xanchor": "left",
          "xref": "x3",
          "y": 29.904761904967017,
          "yanchor": "top",
          "yref": "y3"
         },
         {
          "bgcolor": "rgba(255,255,255,0.7)",
          "font": {
           "color": "black",
           "size": 9
          },
          "showarrow": false,
          "text": "SOUP AND 1/2 WRAP<br>slope=-0.15<br>R²=0.11",
          "x": "2025-04-28T00:00:00",
          "xanchor": "left",
          "xref": "x4",
          "y": 19.238095238106325,
          "yanchor": "top",
          "yref": "y4"
         }
        ],
        "height": 400,
        "hovermode": "x unified",
        "legend": {
         "title": {
          "text": "MenuItemName"
         }
        },
        "template": {
         "data": {
          "bar": [
           {
            "error_x": {
             "color": "#2a3f5f"
            },
            "error_y": {
             "color": "#2a3f5f"
            },
            "marker": {
             "line": {
              "color": "#E5ECF6",
              "width": 0.5
             },
             "pattern": {
              "fillmode": "overlay",
              "size": 10,
              "solidity": 0.2
             }
            },
            "type": "bar"
           }
          ],
          "barpolar": [
           {
            "marker": {
             "line": {
              "color": "#E5ECF6",
              "width": 0.5
             },
             "pattern": {
              "fillmode": "overlay",
              "size": 10,
              "solidity": 0.2
             }
            },
            "type": "barpolar"
           }
          ],
          "carpet": [
           {
            "aaxis": {
             "endlinecolor": "#2a3f5f",
             "gridcolor": "white",
             "linecolor": "white",
             "minorgridcolor": "white",
             "startlinecolor": "#2a3f5f"
            },
            "baxis": {
             "endlinecolor": "#2a3f5f",
             "gridcolor": "white",
             "linecolor": "white",
             "minorgridcolor": "white",
             "startlinecolor": "#2a3f5f"
            },
            "type": "carpet"
           }
          ],
          "choropleth": [
           {
            "colorbar": {
             "outlinewidth": 0,
             "ticks": ""
            },
            "type": "choropleth"
           }
          ],
          "contour": [
           {
            "colorbar": {
             "outlinewidth": 0,
             "ticks": ""
            },
            "colorscale": [
             [
              0,
              "#0d0887"
             ],
             [
              0.1111111111111111,
              "#46039f"
             ],
             [
              0.2222222222222222,
              "#7201a8"
             ],
             [
              0.3333333333333333,
              "#9c179e"
             ],
             [
              0.4444444444444444,
              "#bd3786"
             ],
             [
              0.5555555555555556,
              "#d8576b"
             ],
             [
              0.6666666666666666,
              "#ed7953"
             ],
             [
              0.7777777777777778,
              "#fb9f3a"
             ],
             [
              0.8888888888888888,
              "#fdca26"
             ],
             [
              1,
              "#f0f921"
             ]
            ],
            "type": "contour"
           }
          ],
          "contourcarpet": [
           {
            "colorbar": {
             "outlinewidth": 0,
             "ticks": ""
            },
            "type": "contourcarpet"
           }
          ],
          "heatmap": [
           {
            "colorbar": {
             "outlinewidth": 0,
             "ticks": ""
            },
            "colorscale": [
             [
              0,
              "#0d0887"
             ],
             [
              0.1111111111111111,
              "#46039f"
             ],
             [
              0.2222222222222222,
              "#7201a8"
             ],
             [
              0.3333333333333333,
              "#9c179e"
             ],
             [
              0.4444444444444444,
              "#bd3786"
             ],
             [
              0.5555555555555556,
              "#d8576b"
             ],
             [
              0.6666666666666666,
              "#ed7953"
             ],
             [
              0.7777777777777778,
              "#fb9f3a"
             ],
             [
              0.8888888888888888,
              "#fdca26"
             ],
             [
              1,
              "#f0f921"
             ]
            ],
            "type": "heatmap"
           }
          ],
          "heatmapgl": [
           {
            "colorbar": {
             "outlinewidth": 0,
             "ticks": ""
            },
            "colorscale": [
             [
              0,
              "#0d0887"
             ],
             [
              0.1111111111111111,
              "#46039f"
             ],
             [
              0.2222222222222222,
              "#7201a8"
             ],
             [
              0.3333333333333333,
              "#9c179e"
             ],
             [
              0.4444444444444444,
              "#bd3786"
             ],
             [
              0.5555555555555556,
              "#d8576b"
             ],
             [
              0.6666666666666666,
              "#ed7953"
             ],
             [
              0.7777777777777778,
              "#fb9f3a"
             ],
             [
              0.8888888888888888,
              "#fdca26"
             ],
             [
              1,
              "#f0f921"
             ]
            ],
            "type": "heatmapgl"
           }
          ],
          "histogram": [
           {
            "marker": {
             "pattern": {
              "fillmode": "overlay",
              "size": 10,
              "solidity": 0.2
             }
            },
            "type": "histogram"
           }
          ],
          "histogram2d": [
           {
            "colorbar": {
             "outlinewidth": 0,
             "ticks": ""
            },
            "colorscale": [
             [
              0,
              "#0d0887"
             ],
             [
              0.1111111111111111,
              "#46039f"
             ],
             [
              0.2222222222222222,
              "#7201a8"
             ],
             [
              0.3333333333333333,
              "#9c179e"
             ],
             [
              0.4444444444444444,
              "#bd3786"
             ],
             [
              0.5555555555555556,
              "#d8576b"
             ],
             [
              0.6666666666666666,
              "#ed7953"
             ],
             [
              0.7777777777777778,
              "#fb9f3a"
             ],
             [
              0.8888888888888888,
              "#fdca26"
             ],
             [
              1,
              "#f0f921"
             ]
            ],
            "type": "histogram2d"
           }
          ],
          "histogram2dcontour": [
           {
            "colorbar": {
             "outlinewidth": 0,
             "ticks": ""
            },
            "colorscale": [
             [
              0,
              "#0d0887"
             ],
             [
              0.1111111111111111,
              "#46039f"
             ],
             [
              0.2222222222222222,
              "#7201a8"
             ],
             [
              0.3333333333333333,
              "#9c179e"
             ],
             [
              0.4444444444444444,
              "#bd3786"
             ],
             [
              0.5555555555555556,
              "#d8576b"
             ],
             [
              0.6666666666666666,
              "#ed7953"
             ],
             [
              0.7777777777777778,
              "#fb9f3a"
             ],
             [
              0.8888888888888888,
              "#fdca26"
             ],
             [
              1,
              "#f0f921"
             ]
            ],
            "type": "histogram2dcontour"
           }
          ],
          "mesh3d": [
           {
            "colorbar": {
             "outlinewidth": 0,
             "ticks": ""
            },
            "type": "mesh3d"
           }
          ],
          "parcoords": [
           {
            "line": {
             "colorbar": {
              "outlinewidth": 0,
              "ticks": ""
             }
            },
            "type": "parcoords"
           }
          ],
          "pie": [
           {
            "automargin": true,
            "type": "pie"
           }
          ],
          "scatter": [
           {
            "fillpattern": {
             "fillmode": "overlay",
             "size": 10,
             "solidity": 0.2
            },
            "type": "scatter"
           }
          ],
          "scatter3d": [
           {
            "line": {
             "colorbar": {
              "outlinewidth": 0,
              "ticks": ""
             }
            },
            "marker": {
             "colorbar": {
              "outlinewidth": 0,
              "ticks": ""
             }
            },
            "type": "scatter3d"
           }
          ],
          "scattercarpet": [
           {
            "marker": {
             "colorbar": {
              "outlinewidth": 0,
              "ticks": ""
             }
            },
            "type": "scattercarpet"
           }
          ],
          "scattergeo": [
           {
            "marker": {
             "colorbar": {
              "outlinewidth": 0,
              "ticks": ""
             }
            },
            "type": "scattergeo"
           }
          ],
          "scattergl": [
           {
            "marker": {
             "colorbar": {
              "outlinewidth": 0,
              "ticks": ""
             }
            },
            "type": "scattergl"
           }
          ],
          "scattermapbox": [
           {
            "marker": {
             "colorbar": {
              "outlinewidth": 0,
              "ticks": ""
             }
            },
            "type": "scattermapbox"
           }
          ],
          "scatterpolar": [
           {
            "marker": {
             "colorbar": {
              "outlinewidth": 0,
              "ticks": ""
             }
            },
            "type": "scatterpolar"
           }
          ],
          "scatterpolargl": [
           {
            "marker": {
             "colorbar": {
              "outlinewidth": 0,
              "ticks": ""
             }
            },
            "type": "scatterpolargl"
           }
          ],
          "scatterternary": [
           {
            "marker": {
             "colorbar": {
              "outlinewidth": 0,
              "ticks": ""
             }
            },
            "type": "scatterternary"
           }
          ],
          "surface": [
           {
            "colorbar": {
             "outlinewidth": 0,
             "ticks": ""
            },
            "colorscale": [
             [
              0,
              "#0d0887"
             ],
             [
              0.1111111111111111,
              "#46039f"
             ],
             [
              0.2222222222222222,
              "#7201a8"
             ],
             [
              0.3333333333333333,
              "#9c179e"
             ],
             [
              0.4444444444444444,
              "#bd3786"
             ],
             [
              0.5555555555555556,
              "#d8576b"
             ],
             [
              0.6666666666666666,
              "#ed7953"
             ],
             [
              0.7777777777777778,
              "#fb9f3a"
             ],
             [
              0.8888888888888888,
              "#fdca26"
             ],
             [
              1,
              "#f0f921"
             ]
            ],
            "type": "surface"
           }
          ],
          "table": [
           {
            "cells": {
             "fill": {
              "color": "#EBF0F8"
             },
             "line": {
              "color": "white"
             }
            },
            "header": {
             "fill": {
              "color": "#C8D4E3"
             },
             "line": {
              "color": "white"
             }
            },
            "type": "table"
           }
          ]
         },
         "layout": {
          "annotationdefaults": {
           "arrowcolor": "#2a3f5f",
           "arrowhead": 0,
           "arrowwidth": 1
          },
          "autotypenumbers": "strict",
          "coloraxis": {
           "colorbar": {
            "outlinewidth": 0,
            "ticks": ""
           }
          },
          "colorscale": {
           "diverging": [
            [
             0,
             "#8e0152"
            ],
            [
             0.1,
             "#c51b7d"
            ],
            [
             0.2,
             "#de77ae"
            ],
            [
             0.3,
             "#f1b6da"
            ],
            [
             0.4,
             "#fde0ef"
            ],
            [
             0.5,
             "#f7f7f7"
            ],
            [
             0.6,
             "#e6f5d0"
            ],
            [
             0.7,
             "#b8e186"
            ],
            [
             0.8,
             "#7fbc41"
            ],
            [
             0.9,
             "#4d9221"
            ],
            [
             1,
             "#276419"
            ]
           ],
           "sequential": [
            [
             0,
             "#0d0887"
            ],
            [
             0.1111111111111111,
             "#46039f"
            ],
            [
             0.2222222222222222,
             "#7201a8"
            ],
            [
             0.3333333333333333,
             "#9c179e"
            ],
            [
             0.4444444444444444,
             "#bd3786"
            ],
            [
             0.5555555555555556,
             "#d8576b"
            ],
            [
             0.6666666666666666,
             "#ed7953"
            ],
            [
             0.7777777777777778,
             "#fb9f3a"
            ],
            [
             0.8888888888888888,
             "#fdca26"
            ],
            [
             1,
             "#f0f921"
            ]
           ],
           "sequentialminus": [
            [
             0,
             "#0d0887"
            ],
            [
             0.1111111111111111,
             "#46039f"
            ],
            [
             0.2222222222222222,
             "#7201a8"
            ],
            [
             0.3333333333333333,
             "#9c179e"
            ],
            [
             0.4444444444444444,
             "#bd3786"
            ],
            [
             0.5555555555555556,
             "#d8576b"
            ],
            [
             0.6666666666666666,
             "#ed7953"
            ],
            [
             0.7777777777777778,
             "#fb9f3a"
            ],
            [
             0.8888888888888888,
             "#fdca26"
            ],
            [
             1,
             "#f0f921"
            ]
           ]
          },
          "colorway": [
           "#636efa",
           "#EF553B",
           "#00cc96",
           "#ab63fa",
           "#FFA15A",
           "#19d3f3",
           "#FF6692",
           "#B6E880",
           "#FF97FF",
           "#FECB52"
          ],
          "font": {
           "color": "#2a3f5f"
          },
          "geo": {
           "bgcolor": "white",
           "lakecolor": "white",
           "landcolor": "#E5ECF6",
           "showlakes": true,
           "showland": true,
           "subunitcolor": "white"
          },
          "hoverlabel": {
           "align": "left"
          },
          "hovermode": "closest",
          "mapbox": {
           "style": "light"
          },
          "paper_bgcolor": "white",
          "plot_bgcolor": "#E5ECF6",
          "polar": {
           "angularaxis": {
            "gridcolor": "white",
            "linecolor": "white",
            "ticks": ""
           },
           "bgcolor": "#E5ECF6",
           "radialaxis": {
            "gridcolor": "white",
            "linecolor": "white",
            "ticks": ""
           }
          },
          "scene": {
           "xaxis": {
            "backgroundcolor": "#E5ECF6",
            "gridcolor": "white",
            "gridwidth": 2,
            "linecolor": "white",
            "showbackground": true,
            "ticks": "",
            "zerolinecolor": "white"
           },
           "yaxis": {
            "backgroundcolor": "#E5ECF6",
            "gridcolor": "white",
            "gridwidth": 2,
            "linecolor": "white",
            "showbackground": true,
            "ticks": "",
            "zerolinecolor": "white"
           },
           "zaxis": {
            "backgroundcolor": "#E5ECF6",
            "gridcolor": "white",
            "gridwidth": 2,
            "linecolor": "white",
            "showbackground": true,
            "ticks": "",
            "zerolinecolor": "white"
           }
          },
          "shapedefaults": {
           "line": {
            "color": "#2a3f5f"
           }
          },
          "ternary": {
           "aaxis": {
            "gridcolor": "white",
            "linecolor": "white",
            "ticks": ""
           },
           "baxis": {
            "gridcolor": "white",
            "linecolor": "white",
            "ticks": ""
           },
           "bgcolor": "#E5ECF6",
           "caxis": {
            "gridcolor": "white",
            "linecolor": "white",
            "ticks": ""
           }
          },
          "title": {
           "x": 0.05
          },
          "xaxis": {
           "automargin": true,
           "gridcolor": "white",
           "linecolor": "white",
           "ticks": "",
           "title": {
            "standoff": 15
           },
           "zerolinecolor": "white",
           "zerolinewidth": 2
          },
          "yaxis": {
           "automargin": true,
           "gridcolor": "white",
           "linecolor": "white",
           "ticks": "",
           "title": {
            "standoff": 15
           },
           "zerolinecolor": "white",
           "zerolinewidth": 2
          }
         }
        },
        "title": {
         "text": "Weekly Item Volume with Trend Lines & Score Value by StoreId and OrderType"
        },
        "width": 2000,
        "xaxis": {
         "anchor": "y",
         "domain": [
          0,
          0.1975
         ]
        },
        "xaxis2": {
         "anchor": "y2",
         "domain": [
          0.2675,
          0.465
         ]
        },
        "xaxis3": {
         "anchor": "y3",
         "domain": [
          0.535,
          0.7325
         ]
        },
        "xaxis4": {
         "anchor": "y4",
         "domain": [
          0.8025,
          1
         ]
        },
        "yaxis": {
         "anchor": "x",
         "domain": [
          0,
          1
         ]
        },
        "yaxis2": {
         "anchor": "x2",
         "domain": [
          0,
          1
         ]
        },
        "yaxis3": {
         "anchor": "x3",
         "domain": [
          0,
          1
         ]
        },
        "yaxis4": {
         "anchor": "x4",
         "domain": [
          0,
          1
         ]
        }
       }
      }
     },
     "metadata": {},
     "output_type": "display_data"
    },
    {
     "name": "stderr",
     "output_type": "stream",
     "text": [
      "/Library/Frameworks/Python.framework/Versions/3.7/lib/python3.7/site-packages/ipykernel_launcher.py:15: SettingWithCopyWarning:\n",
      "\n",
      "\n",
      "A value is trying to be set on a copy of a slice from a DataFrame.\n",
      "Try using .loc[row_indexer,col_indexer] = value instead\n",
      "\n",
      "See the caveats in the documentation: https://pandas.pydata.org/pandas-docs/stable/user_guide/indexing.html#returning-a-view-versus-a-copy\n",
      "\n"
     ]
    },
    {
     "data": {
      "application/vnd.plotly.v1+json": {
       "config": {
        "plotlyServerURL": "https://plot.ly"
       },
       "data": [
        {
         "hoverinfo": "name+x+y",
         "legendgroup": "LEGAL WRAP",
         "mode": "lines+markers",
         "name": "LEGAL WRAP",
         "showlegend": true,
         "type": "scatter",
         "x": [
          "2025-04-28T00:00:00",
          "2025-05-05T00:00:00",
          "2025-05-12T00:00:00",
          "2025-05-19T00:00:00",
          "2025-05-26T00:00:00",
          "2025-06-02T00:00:00"
         ],
         "xaxis": "x",
         "y": [
          33,
          42,
          39,
          12,
          29,
          5
         ],
         "yaxis": "y"
        },
        {
         "hoverinfo": "none",
         "line": {
          "color": "green",
          "dash": "dash"
         },
         "mode": "lines",
         "showlegend": false,
         "type": "scatter",
         "x": [
          "2025-04-28T00:00:00",
          "2025-05-05T00:00:00",
          "2025-05-12T00:00:00",
          "2025-05-19T00:00:00",
          "2025-05-26T00:00:00",
          "2025-06-02T00:00:00"
         ],
         "xaxis": "x",
         "y": [
          41.38095238117967,
          35.49523809540551,
          29.60952380974777,
          23.723809523973614,
          17.838095238199458,
          11.952380952425301
         ],
         "yaxis": "y"
        },
        {
         "hoverinfo": "name+x+y",
         "legendgroup": "LEGAL WRAP",
         "mode": "lines+markers",
         "name": "LEGAL WRAP",
         "showlegend": false,
         "type": "scatter",
         "x": [
          "2025-04-28T00:00:00",
          "2025-05-05T00:00:00",
          "2025-05-12T00:00:00",
          "2025-05-19T00:00:00",
          "2025-05-26T00:00:00",
          "2025-06-02T00:00:00"
         ],
         "xaxis": "x2",
         "y": [
          392,
          546,
          645,
          492,
          443,
          54
         ],
         "yaxis": "y2"
        },
        {
         "hoverinfo": "none",
         "line": {
          "color": "green",
          "dash": "dash"
         },
         "mode": "lines",
         "showlegend": false,
         "type": "scatter",
         "x": [
          "2025-04-28T00:00:00",
          "2025-05-05T00:00:00",
          "2025-05-12T00:00:00",
          "2025-05-19T00:00:00",
          "2025-05-26T00:00:00",
          "2025-06-02T00:00:00"
         ],
         "xaxis": "x2",
         "y": [
          582.3809523824602,
          520.8952380968258,
          459.40952381026,
          397.9238095236942,
          336.43809523712844,
          274.952380951494
         ],
         "yaxis": "y2"
        },
        {
         "hoverinfo": "name+x+y",
         "legendgroup": "LEGAL WRAP",
         "mode": "lines+markers",
         "name": "LEGAL WRAP",
         "showlegend": false,
         "type": "scatter",
         "x": [
          "2025-04-28T00:00:00",
          "2025-05-05T00:00:00",
          "2025-05-12T00:00:00",
          "2025-05-19T00:00:00",
          "2025-05-26T00:00:00",
          "2025-06-02T00:00:00"
         ],
         "xaxis": "x3",
         "y": [
          58,
          135,
          108,
          78,
          87,
          1
         ],
         "yaxis": "y3"
        },
        {
         "hoverinfo": "none",
         "line": {
          "color": "green",
          "dash": "dash"
         },
         "mode": "lines",
         "showlegend": false,
         "type": "scatter",
         "x": [
          "2025-04-28T00:00:00",
          "2025-05-05T00:00:00",
          "2025-05-12T00:00:00",
          "2025-05-19T00:00:00",
          "2025-05-26T00:00:00",
          "2025-06-02T00:00:00"
         ],
         "xaxis": "x3",
         "y": [
          110.61904761963524,
          97.50476190517657,
          84.39047619071789,
          71.27619047625922,
          58.16190476203337,
          45.0476190475747
         ],
         "yaxis": "y3"
        },
        {
         "hoverinfo": "name+x+y",
         "legendgroup": "SOUP AND 1/2 WRAP",
         "mode": "lines+markers",
         "name": "SOUP AND 1/2 WRAP",
         "showlegend": true,
         "type": "scatter",
         "x": [
          "2025-04-28T00:00:00",
          "2025-05-05T00:00:00",
          "2025-05-12T00:00:00",
          "2025-05-19T00:00:00",
          "2025-05-26T00:00:00",
          "2025-06-02T00:00:00"
         ],
         "xaxis": "x4",
         "y": [
          58,
          57,
          45,
          57,
          38,
          19
         ],
         "yaxis": "y4"
        },
        {
         "hoverinfo": "none",
         "line": {
          "color": "green",
          "dash": "dash"
         },
         "mode": "lines",
         "showlegend": false,
         "type": "scatter",
         "x": [
          "2025-04-28T00:00:00",
          "2025-05-05T00:00:00",
          "2025-05-12T00:00:00",
          "2025-05-19T00:00:00",
          "2025-05-26T00:00:00",
          "2025-06-02T00:00:00"
         ],
         "xaxis": "x4",
         "y": [
          62.80952380981762,
          55.952380952541716,
          49.09523809538223,
          42.23809523822274,
          35.38095238106325,
          28.52380952378735
         ],
         "yaxis": "y4"
        }
       ],
       "layout": {
        "annotations": [
         {
          "font": {
           "size": 16
          },
          "showarrow": false,
          "text": "963290 — Online-Pickup",
          "x": 0.09875,
          "xanchor": "center",
          "xref": "paper",
          "y": 1,
          "yanchor": "bottom",
          "yref": "paper"
         },
         {
          "font": {
           "size": 16
          },
          "showarrow": false,
          "text": "963290 — UEats-Delivery",
          "x": 0.36625,
          "xanchor": "center",
          "xref": "paper",
          "y": 1,
          "yanchor": "bottom",
          "yref": "paper"
         },
         {
          "font": {
           "size": 16
          },
          "showarrow": false,
          "text": "963290 — UEats-Pickup",
          "x": 0.63375,
          "xanchor": "center",
          "xref": "paper",
          "y": 1,
          "yanchor": "bottom",
          "yref": "paper"
         },
         {
          "font": {
           "size": 16
          },
          "showarrow": false,
          "text": "963290 — Dine In",
          "x": 0.90125,
          "xanchor": "center",
          "xref": "paper",
          "y": 1,
          "yanchor": "bottom",
          "yref": "paper"
         },
         {
          "bgcolor": "rgba(255,255,255,0.7)",
          "font": {
           "color": "black",
           "size": 9
          },
          "showarrow": false,
          "text": "LEGAL WRAP<br>slope=-0.84<br>R²=0.54",
          "x": "2025-04-28T00:00:00",
          "xanchor": "left",
          "xref": "x",
          "y": 41.38095238117967,
          "yanchor": "top",
          "yref": "y"
         },
         {
          "bgcolor": "rgba(255,255,255,0.7)",
          "font": {
           "color": "black",
           "size": 9
          },
          "showarrow": false,
          "text": "LEGAL WRAP<br>slope=-8.78<br>R²=0.32",
          "x": "2025-04-28T00:00:00",
          "xanchor": "left",
          "xref": "x2",
          "y": 582.3809523824602,
          "yanchor": "top",
          "yref": "y2"
         },
         {
          "bgcolor": "rgba(255,255,255,0.7)",
          "font": {
           "color": "black",
           "size": 9
          },
          "showarrow": false,
          "text": "LEGAL WRAP<br>slope=-1.87<br>R²=0.29",
          "x": "2025-04-28T00:00:00",
          "xanchor": "left",
          "xref": "x3",
          "y": 110.61904761963524,
          "yanchor": "top",
          "yref": "y3"
         },
         {
          "bgcolor": "rgba(255,255,255,0.7)",
          "font": {
           "color": "black",
           "size": 9
          },
          "showarrow": false,
          "text": "SOUP AND 1/2 WRAP<br>slope=-0.98<br>R²=0.70",
          "x": "2025-04-28T00:00:00",
          "xanchor": "left",
          "xref": "x4",
          "y": 62.80952380981762,
          "yanchor": "top",
          "yref": "y4"
         }
        ],
        "height": 400,
        "hovermode": "x unified",
        "legend": {
         "title": {
          "text": "MenuItemName"
         }
        },
        "template": {
         "data": {
          "bar": [
           {
            "error_x": {
             "color": "#2a3f5f"
            },
            "error_y": {
             "color": "#2a3f5f"
            },
            "marker": {
             "line": {
              "color": "#E5ECF6",
              "width": 0.5
             },
             "pattern": {
              "fillmode": "overlay",
              "size": 10,
              "solidity": 0.2
             }
            },
            "type": "bar"
           }
          ],
          "barpolar": [
           {
            "marker": {
             "line": {
              "color": "#E5ECF6",
              "width": 0.5
             },
             "pattern": {
              "fillmode": "overlay",
              "size": 10,
              "solidity": 0.2
             }
            },
            "type": "barpolar"
           }
          ],
          "carpet": [
           {
            "aaxis": {
             "endlinecolor": "#2a3f5f",
             "gridcolor": "white",
             "linecolor": "white",
             "minorgridcolor": "white",
             "startlinecolor": "#2a3f5f"
            },
            "baxis": {
             "endlinecolor": "#2a3f5f",
             "gridcolor": "white",
             "linecolor": "white",
             "minorgridcolor": "white",
             "startlinecolor": "#2a3f5f"
            },
            "type": "carpet"
           }
          ],
          "choropleth": [
           {
            "colorbar": {
             "outlinewidth": 0,
             "ticks": ""
            },
            "type": "choropleth"
           }
          ],
          "contour": [
           {
            "colorbar": {
             "outlinewidth": 0,
             "ticks": ""
            },
            "colorscale": [
             [
              0,
              "#0d0887"
             ],
             [
              0.1111111111111111,
              "#46039f"
             ],
             [
              0.2222222222222222,
              "#7201a8"
             ],
             [
              0.3333333333333333,
              "#9c179e"
             ],
             [
              0.4444444444444444,
              "#bd3786"
             ],
             [
              0.5555555555555556,
              "#d8576b"
             ],
             [
              0.6666666666666666,
              "#ed7953"
             ],
             [
              0.7777777777777778,
              "#fb9f3a"
             ],
             [
              0.8888888888888888,
              "#fdca26"
             ],
             [
              1,
              "#f0f921"
             ]
            ],
            "type": "contour"
           }
          ],
          "contourcarpet": [
           {
            "colorbar": {
             "outlinewidth": 0,
             "ticks": ""
            },
            "type": "contourcarpet"
           }
          ],
          "heatmap": [
           {
            "colorbar": {
             "outlinewidth": 0,
             "ticks": ""
            },
            "colorscale": [
             [
              0,
              "#0d0887"
             ],
             [
              0.1111111111111111,
              "#46039f"
             ],
             [
              0.2222222222222222,
              "#7201a8"
             ],
             [
              0.3333333333333333,
              "#9c179e"
             ],
             [
              0.4444444444444444,
              "#bd3786"
             ],
             [
              0.5555555555555556,
              "#d8576b"
             ],
             [
              0.6666666666666666,
              "#ed7953"
             ],
             [
              0.7777777777777778,
              "#fb9f3a"
             ],
             [
              0.8888888888888888,
              "#fdca26"
             ],
             [
              1,
              "#f0f921"
             ]
            ],
            "type": "heatmap"
           }
          ],
          "heatmapgl": [
           {
            "colorbar": {
             "outlinewidth": 0,
             "ticks": ""
            },
            "colorscale": [
             [
              0,
              "#0d0887"
             ],
             [
              0.1111111111111111,
              "#46039f"
             ],
             [
              0.2222222222222222,
              "#7201a8"
             ],
             [
              0.3333333333333333,
              "#9c179e"
             ],
             [
              0.4444444444444444,
              "#bd3786"
             ],
             [
              0.5555555555555556,
              "#d8576b"
             ],
             [
              0.6666666666666666,
              "#ed7953"
             ],
             [
              0.7777777777777778,
              "#fb9f3a"
             ],
             [
              0.8888888888888888,
              "#fdca26"
             ],
             [
              1,
              "#f0f921"
             ]
            ],
            "type": "heatmapgl"
           }
          ],
          "histogram": [
           {
            "marker": {
             "pattern": {
              "fillmode": "overlay",
              "size": 10,
              "solidity": 0.2
             }
            },
            "type": "histogram"
           }
          ],
          "histogram2d": [
           {
            "colorbar": {
             "outlinewidth": 0,
             "ticks": ""
            },
            "colorscale": [
             [
              0,
              "#0d0887"
             ],
             [
              0.1111111111111111,
              "#46039f"
             ],
             [
              0.2222222222222222,
              "#7201a8"
             ],
             [
              0.3333333333333333,
              "#9c179e"
             ],
             [
              0.4444444444444444,
              "#bd3786"
             ],
             [
              0.5555555555555556,
              "#d8576b"
             ],
             [
              0.6666666666666666,
              "#ed7953"
             ],
             [
              0.7777777777777778,
              "#fb9f3a"
             ],
             [
              0.8888888888888888,
              "#fdca26"
             ],
             [
              1,
              "#f0f921"
             ]
            ],
            "type": "histogram2d"
           }
          ],
          "histogram2dcontour": [
           {
            "colorbar": {
             "outlinewidth": 0,
             "ticks": ""
            },
            "colorscale": [
             [
              0,
              "#0d0887"
             ],
             [
              0.1111111111111111,
              "#46039f"
             ],
             [
              0.2222222222222222,
              "#7201a8"
             ],
             [
              0.3333333333333333,
              "#9c179e"
             ],
             [
              0.4444444444444444,
              "#bd3786"
             ],
             [
              0.5555555555555556,
              "#d8576b"
             ],
             [
              0.6666666666666666,
              "#ed7953"
             ],
             [
              0.7777777777777778,
              "#fb9f3a"
             ],
             [
              0.8888888888888888,
              "#fdca26"
             ],
             [
              1,
              "#f0f921"
             ]
            ],
            "type": "histogram2dcontour"
           }
          ],
          "mesh3d": [
           {
            "colorbar": {
             "outlinewidth": 0,
             "ticks": ""
            },
            "type": "mesh3d"
           }
          ],
          "parcoords": [
           {
            "line": {
             "colorbar": {
              "outlinewidth": 0,
              "ticks": ""
             }
            },
            "type": "parcoords"
           }
          ],
          "pie": [
           {
            "automargin": true,
            "type": "pie"
           }
          ],
          "scatter": [
           {
            "fillpattern": {
             "fillmode": "overlay",
             "size": 10,
             "solidity": 0.2
            },
            "type": "scatter"
           }
          ],
          "scatter3d": [
           {
            "line": {
             "colorbar": {
              "outlinewidth": 0,
              "ticks": ""
             }
            },
            "marker": {
             "colorbar": {
              "outlinewidth": 0,
              "ticks": ""
             }
            },
            "type": "scatter3d"
           }
          ],
          "scattercarpet": [
           {
            "marker": {
             "colorbar": {
              "outlinewidth": 0,
              "ticks": ""
             }
            },
            "type": "scattercarpet"
           }
          ],
          "scattergeo": [
           {
            "marker": {
             "colorbar": {
              "outlinewidth": 0,
              "ticks": ""
             }
            },
            "type": "scattergeo"
           }
          ],
          "scattergl": [
           {
            "marker": {
             "colorbar": {
              "outlinewidth": 0,
              "ticks": ""
             }
            },
            "type": "scattergl"
           }
          ],
          "scattermapbox": [
           {
            "marker": {
             "colorbar": {
              "outlinewidth": 0,
              "ticks": ""
             }
            },
            "type": "scattermapbox"
           }
          ],
          "scatterpolar": [
           {
            "marker": {
             "colorbar": {
              "outlinewidth": 0,
              "ticks": ""
             }
            },
            "type": "scatterpolar"
           }
          ],
          "scatterpolargl": [
           {
            "marker": {
             "colorbar": {
              "outlinewidth": 0,
              "ticks": ""
             }
            },
            "type": "scatterpolargl"
           }
          ],
          "scatterternary": [
           {
            "marker": {
             "colorbar": {
              "outlinewidth": 0,
              "ticks": ""
             }
            },
            "type": "scatterternary"
           }
          ],
          "surface": [
           {
            "colorbar": {
             "outlinewidth": 0,
             "ticks": ""
            },
            "colorscale": [
             [
              0,
              "#0d0887"
             ],
             [
              0.1111111111111111,
              "#46039f"
             ],
             [
              0.2222222222222222,
              "#7201a8"
             ],
             [
              0.3333333333333333,
              "#9c179e"
             ],
             [
              0.4444444444444444,
              "#bd3786"
             ],
             [
              0.5555555555555556,
              "#d8576b"
             ],
             [
              0.6666666666666666,
              "#ed7953"
             ],
             [
              0.7777777777777778,
              "#fb9f3a"
             ],
             [
              0.8888888888888888,
              "#fdca26"
             ],
             [
              1,
              "#f0f921"
             ]
            ],
            "type": "surface"
           }
          ],
          "table": [
           {
            "cells": {
             "fill": {
              "color": "#EBF0F8"
             },
             "line": {
              "color": "white"
             }
            },
            "header": {
             "fill": {
              "color": "#C8D4E3"
             },
             "line": {
              "color": "white"
             }
            },
            "type": "table"
           }
          ]
         },
         "layout": {
          "annotationdefaults": {
           "arrowcolor": "#2a3f5f",
           "arrowhead": 0,
           "arrowwidth": 1
          },
          "autotypenumbers": "strict",
          "coloraxis": {
           "colorbar": {
            "outlinewidth": 0,
            "ticks": ""
           }
          },
          "colorscale": {
           "diverging": [
            [
             0,
             "#8e0152"
            ],
            [
             0.1,
             "#c51b7d"
            ],
            [
             0.2,
             "#de77ae"
            ],
            [
             0.3,
             "#f1b6da"
            ],
            [
             0.4,
             "#fde0ef"
            ],
            [
             0.5,
             "#f7f7f7"
            ],
            [
             0.6,
             "#e6f5d0"
            ],
            [
             0.7,
             "#b8e186"
            ],
            [
             0.8,
             "#7fbc41"
            ],
            [
             0.9,
             "#4d9221"
            ],
            [
             1,
             "#276419"
            ]
           ],
           "sequential": [
            [
             0,
             "#0d0887"
            ],
            [
             0.1111111111111111,
             "#46039f"
            ],
            [
             0.2222222222222222,
             "#7201a8"
            ],
            [
             0.3333333333333333,
             "#9c179e"
            ],
            [
             0.4444444444444444,
             "#bd3786"
            ],
            [
             0.5555555555555556,
             "#d8576b"
            ],
            [
             0.6666666666666666,
             "#ed7953"
            ],
            [
             0.7777777777777778,
             "#fb9f3a"
            ],
            [
             0.8888888888888888,
             "#fdca26"
            ],
            [
             1,
             "#f0f921"
            ]
           ],
           "sequentialminus": [
            [
             0,
             "#0d0887"
            ],
            [
             0.1111111111111111,
             "#46039f"
            ],
            [
             0.2222222222222222,
             "#7201a8"
            ],
            [
             0.3333333333333333,
             "#9c179e"
            ],
            [
             0.4444444444444444,
             "#bd3786"
            ],
            [
             0.5555555555555556,
             "#d8576b"
            ],
            [
             0.6666666666666666,
             "#ed7953"
            ],
            [
             0.7777777777777778,
             "#fb9f3a"
            ],
            [
             0.8888888888888888,
             "#fdca26"
            ],
            [
             1,
             "#f0f921"
            ]
           ]
          },
          "colorway": [
           "#636efa",
           "#EF553B",
           "#00cc96",
           "#ab63fa",
           "#FFA15A",
           "#19d3f3",
           "#FF6692",
           "#B6E880",
           "#FF97FF",
           "#FECB52"
          ],
          "font": {
           "color": "#2a3f5f"
          },
          "geo": {
           "bgcolor": "white",
           "lakecolor": "white",
           "landcolor": "#E5ECF6",
           "showlakes": true,
           "showland": true,
           "subunitcolor": "white"
          },
          "hoverlabel": {
           "align": "left"
          },
          "hovermode": "closest",
          "mapbox": {
           "style": "light"
          },
          "paper_bgcolor": "white",
          "plot_bgcolor": "#E5ECF6",
          "polar": {
           "angularaxis": {
            "gridcolor": "white",
            "linecolor": "white",
            "ticks": ""
           },
           "bgcolor": "#E5ECF6",
           "radialaxis": {
            "gridcolor": "white",
            "linecolor": "white",
            "ticks": ""
           }
          },
          "scene": {
           "xaxis": {
            "backgroundcolor": "#E5ECF6",
            "gridcolor": "white",
            "gridwidth": 2,
            "linecolor": "white",
            "showbackground": true,
            "ticks": "",
            "zerolinecolor": "white"
           },
           "yaxis": {
            "backgroundcolor": "#E5ECF6",
            "gridcolor": "white",
            "gridwidth": 2,
            "linecolor": "white",
            "showbackground": true,
            "ticks": "",
            "zerolinecolor": "white"
           },
           "zaxis": {
            "backgroundcolor": "#E5ECF6",
            "gridcolor": "white",
            "gridwidth": 2,
            "linecolor": "white",
            "showbackground": true,
            "ticks": "",
            "zerolinecolor": "white"
           }
          },
          "shapedefaults": {
           "line": {
            "color": "#2a3f5f"
           }
          },
          "ternary": {
           "aaxis": {
            "gridcolor": "white",
            "linecolor": "white",
            "ticks": ""
           },
           "baxis": {
            "gridcolor": "white",
            "linecolor": "white",
            "ticks": ""
           },
           "bgcolor": "#E5ECF6",
           "caxis": {
            "gridcolor": "white",
            "linecolor": "white",
            "ticks": ""
           }
          },
          "title": {
           "x": 0.05
          },
          "xaxis": {
           "automargin": true,
           "gridcolor": "white",
           "linecolor": "white",
           "ticks": "",
           "title": {
            "standoff": 15
           },
           "zerolinecolor": "white",
           "zerolinewidth": 2
          },
          "yaxis": {
           "automargin": true,
           "gridcolor": "white",
           "linecolor": "white",
           "ticks": "",
           "title": {
            "standoff": 15
           },
           "zerolinecolor": "white",
           "zerolinewidth": 2
          }
         }
        },
        "title": {
         "text": "Weekly Item Volume with Trend Lines & Score Value by StoreId and OrderType"
        },
        "width": 2000,
        "xaxis": {
         "anchor": "y",
         "domain": [
          0,
          0.1975
         ]
        },
        "xaxis2": {
         "anchor": "y2",
         "domain": [
          0.2675,
          0.465
         ]
        },
        "xaxis3": {
         "anchor": "y3",
         "domain": [
          0.535,
          0.7325
         ]
        },
        "xaxis4": {
         "anchor": "y4",
         "domain": [
          0.8025,
          1
         ]
        },
        "yaxis": {
         "anchor": "x",
         "domain": [
          0,
          1
         ]
        },
        "yaxis2": {
         "anchor": "x2",
         "domain": [
          0,
          1
         ]
        },
        "yaxis3": {
         "anchor": "x3",
         "domain": [
          0,
          1
         ]
        },
        "yaxis4": {
         "anchor": "x4",
         "domain": [
          0,
          1
         ]
        }
       }
      }
     },
     "metadata": {},
     "output_type": "display_data"
    }
   ],
   "source": [
    "import pandas as pd\n",
    "import numpy as np\n",
    "import plotly.graph_objects as go\n",
    "from plotly.subplots import make_subplots\n",
    "\n",
    "\n",
    "\n",
    "result = result.copy()\n",
    "\n",
    "for i in [963280, 963260, 963290]:\n",
    "\n",
    "    df=result[result['StoreId']==i]\n",
    "\n",
    "    # Ensure WeekStartDate is datetime\n",
    "    df['WeekStartDate'] = pd.to_datetime(df['WeekStartDate'])\n",
    "\n",
    "    # Get unique StoreIds and OrderTypes for subplot grid\n",
    "    store_ids = df['StoreId'].unique().tolist()\n",
    "    order_types = df['OrderType'].unique().tolist()\n",
    "\n",
    "    n_rows, n_cols = len(store_ids), len(order_types)\n",
    "\n",
    "    # Create subplot grid\n",
    "    fig = make_subplots(\n",
    "        rows=n_rows,\n",
    "        cols=n_cols,\n",
    "        shared_xaxes=False,\n",
    "        shared_yaxes=False,\n",
    "        subplot_titles=[f\"{store} — {order}\" for store in store_ids for order in order_types],\n",
    "        vertical_spacing=0.1,\n",
    "        horizontal_spacing=0.07\n",
    "    )\n",
    "\n",
    "    # Keep track of shown legend items for MenuItemName\n",
    "    shown_items = set()\n",
    "\n",
    "    for i, store in enumerate(store_ids, start=1):\n",
    "        for j, order in enumerate(order_types, start=1):\n",
    "            sub_df = df[(df['StoreId'] == store) & (df['OrderType'] == order)]\n",
    "            if sub_df.empty:\n",
    "                continue\n",
    "            \n",
    "            for item in sub_df['MenuItemName'].unique():\n",
    "                item_df = sub_df[sub_df['MenuItemName'] == item].sort_values('WeekStartDate')\n",
    "                x = item_df['WeekStartDate']\n",
    "                y = item_df['item_weekly_volumn']\n",
    "                \n",
    "                if len(item_df) < 2:\n",
    "                    continue  # skip if not enough points\n",
    "                \n",
    "                # Show legend only once per MenuItemName globally\n",
    "                show_leg = item not in shown_items\n",
    "                shown_items.add(item)\n",
    "                \n",
    "                # 1) Plot actual weekly volume line\n",
    "                fig.add_trace(\n",
    "                    go.Scatter(\n",
    "                        x=x,\n",
    "                        y=y,\n",
    "                        mode='lines+markers',\n",
    "                        name=item,\n",
    "                        showlegend=show_leg,\n",
    "                        legendgroup=item,\n",
    "                        hoverinfo='name+x+y'\n",
    "                    ),\n",
    "                    row=i,\n",
    "                    col=j\n",
    "                )\n",
    "                \n",
    "                # 2) Compute linear regression for trend line\n",
    "                x_ord = x.map(pd.Timestamp.toordinal).values\n",
    "                slope, intercept = np.polyfit(x_ord, y, 1)\n",
    "                y_hat = slope * x_ord + intercept\n",
    "                \n",
    "                # Calculate R^2\n",
    "                ss_res = np.sum((y - y_hat) ** 2)\n",
    "                ss_tot = np.sum((y - np.mean(y)) ** 2)\n",
    "                r2 = 1 - ss_res / ss_tot if ss_tot != 0 else np.nan\n",
    "                \n",
    "                # 3) Plot trend line (dashed)\n",
    "                fig.add_trace(\n",
    "                    go.Scatter(\n",
    "                        x=x,\n",
    "                        y=y_hat,\n",
    "                        mode='lines',\n",
    "                        line=dict(dash='dash', color='green'),\n",
    "                        showlegend=False,\n",
    "                        hoverinfo='none'\n",
    "                    ),\n",
    "                    row=i,\n",
    "                    col=j\n",
    "                )\n",
    "                \n",
    "                # 4) Add slope and R^2 annotation (top left corner of subplot)\n",
    "                sp_idx = (i - 1) * n_cols + j\n",
    "                xref = f\"x{sp_idx}\" if sp_idx > 1 else \"x\"\n",
    "                yref = f\"y{sp_idx}\" if sp_idx > 1 else \"y\"\n",
    "                \n",
    "                fig.add_annotation(\n",
    "                    xref=xref,\n",
    "                    yref=yref,\n",
    "                    x=min(x),\n",
    "                    y=max(y_hat),\n",
    "                    text=f\"{item}<br>slope={slope:.2f}<br>R²={r2:.2f}\",\n",
    "                    #  text=f\"{item}:{slope:.2f}\",\n",
    "                    showarrow=False,\n",
    "                    font=dict(size=9, color=\"black\"),\n",
    "                    bgcolor=\"rgba(255,255,255,0.7)\",\n",
    "                    xanchor=\"left\",\n",
    "                    yanchor=\"top\"\n",
    "                )\n",
    "\n",
    "    # Final layout tweaks\n",
    "    fig.update_yaxes(matches=None)\n",
    "    fig.update_layout(\n",
    "        height=400 * n_rows,\n",
    "        width=500 * n_cols,\n",
    "        title=\"Weekly Item Volume with Trend Lines & Score Value by StoreId and OrderType\",\n",
    "        legend_title_text=\"MenuItemName\",\n",
    "        hovermode='x unified'\n",
    "    )\n",
    "\n",
    "    fig.show()\n"
   ]
  },
  {
   "cell_type": "code",
   "execution_count": 265,
   "metadata": {},
   "outputs": [
    {
     "data": {
      "text/html": [
       "<div>\n",
       "<style scoped>\n",
       "    .dataframe tbody tr th:only-of-type {\n",
       "        vertical-align: middle;\n",
       "    }\n",
       "\n",
       "    .dataframe tbody tr th {\n",
       "        vertical-align: top;\n",
       "    }\n",
       "\n",
       "    .dataframe thead th {\n",
       "        text-align: right;\n",
       "    }\n",
       "</style>\n",
       "<table border=\"1\" class=\"dataframe\">\n",
       "  <thead>\n",
       "    <tr style=\"text-align: right;\">\n",
       "      <th></th>\n",
       "      <th>StoreId</th>\n",
       "      <th>OrderType</th>\n",
       "      <th>MenuItemName</th>\n",
       "      <th>WeekStartDate</th>\n",
       "      <th>item_weekly_volumn</th>\n",
       "      <th>item_weekly_revenue</th>\n",
       "      <th>TrendSlope</th>\n",
       "    </tr>\n",
       "  </thead>\n",
       "  <tbody>\n",
       "    <tr>\n",
       "      <th>23</th>\n",
       "      <td>963260</td>\n",
       "      <td>UEats-Delivery</td>\n",
       "      <td>LEGAL WRAP</td>\n",
       "      <td>2025-04-28</td>\n",
       "      <td>106</td>\n",
       "      <td>2822.30</td>\n",
       "      <td>-1.926531</td>\n",
       "    </tr>\n",
       "    <tr>\n",
       "      <th>21</th>\n",
       "      <td>963260</td>\n",
       "      <td>UEats-Delivery</td>\n",
       "      <td>LEGAL WRAP</td>\n",
       "      <td>2025-05-05</td>\n",
       "      <td>122</td>\n",
       "      <td>3252.14</td>\n",
       "      <td>-1.926531</td>\n",
       "    </tr>\n",
       "    <tr>\n",
       "      <th>22</th>\n",
       "      <td>963260</td>\n",
       "      <td>UEats-Delivery</td>\n",
       "      <td>LEGAL WRAP</td>\n",
       "      <td>2025-05-12</td>\n",
       "      <td>82</td>\n",
       "      <td>2219.55</td>\n",
       "      <td>-1.926531</td>\n",
       "    </tr>\n",
       "    <tr>\n",
       "      <th>20</th>\n",
       "      <td>963260</td>\n",
       "      <td>UEats-Delivery</td>\n",
       "      <td>LEGAL WRAP</td>\n",
       "      <td>2025-05-19</td>\n",
       "      <td>114</td>\n",
       "      <td>3056.46</td>\n",
       "      <td>-1.926531</td>\n",
       "    </tr>\n",
       "    <tr>\n",
       "      <th>18</th>\n",
       "      <td>963260</td>\n",
       "      <td>UEats-Delivery</td>\n",
       "      <td>LEGAL WRAP</td>\n",
       "      <td>2025-05-26</td>\n",
       "      <td>84</td>\n",
       "      <td>2280.51</td>\n",
       "      <td>-1.926531</td>\n",
       "    </tr>\n",
       "    <tr>\n",
       "      <th>19</th>\n",
       "      <td>963260</td>\n",
       "      <td>UEats-Delivery</td>\n",
       "      <td>LEGAL WRAP</td>\n",
       "      <td>2025-06-02</td>\n",
       "      <td>28</td>\n",
       "      <td>636.58</td>\n",
       "      <td>-1.926531</td>\n",
       "    </tr>\n",
       "  </tbody>\n",
       "</table>\n",
       "</div>"
      ],
      "text/plain": [
       "    StoreId       OrderType MenuItemName WeekStartDate  item_weekly_volumn  \\\n",
       "23   963260  UEats-Delivery   LEGAL WRAP    2025-04-28                 106   \n",
       "21   963260  UEats-Delivery   LEGAL WRAP    2025-05-05                 122   \n",
       "22   963260  UEats-Delivery   LEGAL WRAP    2025-05-12                  82   \n",
       "20   963260  UEats-Delivery   LEGAL WRAP    2025-05-19                 114   \n",
       "18   963260  UEats-Delivery   LEGAL WRAP    2025-05-26                  84   \n",
       "19   963260  UEats-Delivery   LEGAL WRAP    2025-06-02                  28   \n",
       "\n",
       "    item_weekly_revenue  TrendSlope  \n",
       "23              2822.30   -1.926531  \n",
       "21              3252.14   -1.926531  \n",
       "22              2219.55   -1.926531  \n",
       "20              3056.46   -1.926531  \n",
       "18              2280.51   -1.926531  \n",
       "19               636.58   -1.926531  "
      ]
     },
     "execution_count": 265,
     "metadata": {},
     "output_type": "execute_result"
    }
   ],
   "source": [
    "result[(result['MenuItemName']=='LEGAL WRAP') & (result['StoreId']==963260) & (result['OrderType']=='UEats-Delivery')].sort_values('WeekStartDate')\n"
   ]
  },
  {
   "cell_type": "code",
   "execution_count": 178,
   "metadata": {},
   "outputs": [],
   "source": [
    "# The average item volume of LEGAL WRAP at Weston on UEats-Delivery has decreased by 47%, dropping from 106 units to 56 units over the observed period.\n"
   ]
  },
  {
   "cell_type": "code",
   "execution_count": 161,
   "metadata": {},
   "outputs": [
    {
     "data": {
      "text/plain": [
       "106.0"
      ]
     },
     "execution_count": 161,
     "metadata": {},
     "output_type": "execute_result"
    }
   ],
   "source": [
    "(106+122+82+114)/4\n"
   ]
  },
  {
   "cell_type": "code",
   "execution_count": 162,
   "metadata": {},
   "outputs": [
    {
     "data": {
      "text/plain": [
       "56.0"
      ]
     },
     "execution_count": 162,
     "metadata": {},
     "output_type": "execute_result"
    }
   ],
   "source": [
    "\n",
    "\n",
    "(84+28)/2 \n"
   ]
  },
  {
   "cell_type": "code",
   "execution_count": 163,
   "metadata": {},
   "outputs": [
    {
     "data": {
      "text/plain": [
       "-47.16981132075472"
      ]
     },
     "execution_count": 163,
     "metadata": {},
     "output_type": "execute_result"
    }
   ],
   "source": [
    "(56.0-106.0)/106.0 * 100\n"
   ]
  },
  {
   "cell_type": "code",
   "execution_count": 152,
   "metadata": {},
   "outputs": [
    {
     "data": {
      "text/html": [
       "<div>\n",
       "<style scoped>\n",
       "    .dataframe tbody tr th:only-of-type {\n",
       "        vertical-align: middle;\n",
       "    }\n",
       "\n",
       "    .dataframe tbody tr th {\n",
       "        vertical-align: top;\n",
       "    }\n",
       "\n",
       "    .dataframe thead th {\n",
       "        text-align: right;\n",
       "    }\n",
       "</style>\n",
       "<table border=\"1\" class=\"dataframe\">\n",
       "  <thead>\n",
       "    <tr style=\"text-align: right;\">\n",
       "      <th></th>\n",
       "      <th>StoreId</th>\n",
       "      <th>OrderType</th>\n",
       "      <th>MenuItemName</th>\n",
       "      <th>WeekStartDate</th>\n",
       "      <th>item_weekly_volumn</th>\n",
       "      <th>item_weekly_revenue</th>\n",
       "      <th>TrendSlope</th>\n",
       "    </tr>\n",
       "  </thead>\n",
       "  <tbody>\n",
       "    <tr>\n",
       "      <th>23</th>\n",
       "      <td>963260</td>\n",
       "      <td>UEats-Delivery</td>\n",
       "      <td>LEGAL WRAP</td>\n",
       "      <td>2025-04-28</td>\n",
       "      <td>106</td>\n",
       "      <td>2822.30</td>\n",
       "      <td>-1.926531</td>\n",
       "    </tr>\n",
       "    <tr>\n",
       "      <th>21</th>\n",
       "      <td>963260</td>\n",
       "      <td>UEats-Delivery</td>\n",
       "      <td>LEGAL WRAP</td>\n",
       "      <td>2025-05-05</td>\n",
       "      <td>122</td>\n",
       "      <td>3252.14</td>\n",
       "      <td>-1.926531</td>\n",
       "    </tr>\n",
       "    <tr>\n",
       "      <th>22</th>\n",
       "      <td>963260</td>\n",
       "      <td>UEats-Delivery</td>\n",
       "      <td>LEGAL WRAP</td>\n",
       "      <td>2025-05-12</td>\n",
       "      <td>82</td>\n",
       "      <td>2219.55</td>\n",
       "      <td>-1.926531</td>\n",
       "    </tr>\n",
       "    <tr>\n",
       "      <th>20</th>\n",
       "      <td>963260</td>\n",
       "      <td>UEats-Delivery</td>\n",
       "      <td>LEGAL WRAP</td>\n",
       "      <td>2025-05-19</td>\n",
       "      <td>114</td>\n",
       "      <td>3056.46</td>\n",
       "      <td>-1.926531</td>\n",
       "    </tr>\n",
       "    <tr>\n",
       "      <th>18</th>\n",
       "      <td>963260</td>\n",
       "      <td>UEats-Delivery</td>\n",
       "      <td>LEGAL WRAP</td>\n",
       "      <td>2025-05-26</td>\n",
       "      <td>84</td>\n",
       "      <td>2280.51</td>\n",
       "      <td>-1.926531</td>\n",
       "    </tr>\n",
       "    <tr>\n",
       "      <th>19</th>\n",
       "      <td>963260</td>\n",
       "      <td>UEats-Delivery</td>\n",
       "      <td>LEGAL WRAP</td>\n",
       "      <td>2025-06-02</td>\n",
       "      <td>28</td>\n",
       "      <td>636.58</td>\n",
       "      <td>-1.926531</td>\n",
       "    </tr>\n",
       "  </tbody>\n",
       "</table>\n",
       "</div>"
      ],
      "text/plain": [
       "    StoreId       OrderType MenuItemName WeekStartDate  item_weekly_volumn  \\\n",
       "23   963260  UEats-Delivery   LEGAL WRAP    2025-04-28                 106   \n",
       "21   963260  UEats-Delivery   LEGAL WRAP    2025-05-05                 122   \n",
       "22   963260  UEats-Delivery   LEGAL WRAP    2025-05-12                  82   \n",
       "20   963260  UEats-Delivery   LEGAL WRAP    2025-05-19                 114   \n",
       "18   963260  UEats-Delivery   LEGAL WRAP    2025-05-26                  84   \n",
       "19   963260  UEats-Delivery   LEGAL WRAP    2025-06-02                  28   \n",
       "\n",
       "    item_weekly_revenue  TrendSlope  \n",
       "23              2822.30   -1.926531  \n",
       "21              3252.14   -1.926531  \n",
       "22              2219.55   -1.926531  \n",
       "20              3056.46   -1.926531  \n",
       "18              2280.51   -1.926531  \n",
       "19               636.58   -1.926531  "
      ]
     },
     "execution_count": 152,
     "metadata": {},
     "output_type": "execute_result"
    }
   ],
   "source": [
    "result[(result['MenuItemName']=='LEGAL WRAP') & (result['StoreId']==963260) & (result['OrderType']=='UEats-Delivery')].sort_values('WeekStartDate').plot()\n"
   ]
  },
  {
   "cell_type": "code",
   "execution_count": 268,
   "metadata": {},
   "outputs": [
    {
     "data": {
      "text/html": [
       "<div>\n",
       "<style scoped>\n",
       "    .dataframe tbody tr th:only-of-type {\n",
       "        vertical-align: middle;\n",
       "    }\n",
       "\n",
       "    .dataframe tbody tr th {\n",
       "        vertical-align: top;\n",
       "    }\n",
       "\n",
       "    .dataframe thead th {\n",
       "        text-align: right;\n",
       "    }\n",
       "</style>\n",
       "<table border=\"1\" class=\"dataframe\">\n",
       "  <thead>\n",
       "    <tr style=\"text-align: right;\">\n",
       "      <th></th>\n",
       "      <th>StoreId</th>\n",
       "      <th>OrderType</th>\n",
       "      <th>MenuItemName</th>\n",
       "      <th>WeekStartDate</th>\n",
       "      <th>item_weekly_volumn</th>\n",
       "      <th>item_weekly_revenue</th>\n",
       "      <th>TrendSlope</th>\n",
       "    </tr>\n",
       "  </thead>\n",
       "  <tbody>\n",
       "    <tr>\n",
       "      <th>23</th>\n",
       "      <td>963260</td>\n",
       "      <td>UEats-Delivery</td>\n",
       "      <td>LEGAL WRAP</td>\n",
       "      <td>2025-04-28</td>\n",
       "      <td>106</td>\n",
       "      <td>2822.30</td>\n",
       "      <td>-1.926531</td>\n",
       "    </tr>\n",
       "    <tr>\n",
       "      <th>21</th>\n",
       "      <td>963260</td>\n",
       "      <td>UEats-Delivery</td>\n",
       "      <td>LEGAL WRAP</td>\n",
       "      <td>2025-05-05</td>\n",
       "      <td>122</td>\n",
       "      <td>3252.14</td>\n",
       "      <td>-1.926531</td>\n",
       "    </tr>\n",
       "    <tr>\n",
       "      <th>22</th>\n",
       "      <td>963260</td>\n",
       "      <td>UEats-Delivery</td>\n",
       "      <td>LEGAL WRAP</td>\n",
       "      <td>2025-05-12</td>\n",
       "      <td>82</td>\n",
       "      <td>2219.55</td>\n",
       "      <td>-1.926531</td>\n",
       "    </tr>\n",
       "    <tr>\n",
       "      <th>20</th>\n",
       "      <td>963260</td>\n",
       "      <td>UEats-Delivery</td>\n",
       "      <td>LEGAL WRAP</td>\n",
       "      <td>2025-05-19</td>\n",
       "      <td>114</td>\n",
       "      <td>3056.46</td>\n",
       "      <td>-1.926531</td>\n",
       "    </tr>\n",
       "    <tr>\n",
       "      <th>18</th>\n",
       "      <td>963260</td>\n",
       "      <td>UEats-Delivery</td>\n",
       "      <td>LEGAL WRAP</td>\n",
       "      <td>2025-05-26</td>\n",
       "      <td>84</td>\n",
       "      <td>2280.51</td>\n",
       "      <td>-1.926531</td>\n",
       "    </tr>\n",
       "    <tr>\n",
       "      <th>19</th>\n",
       "      <td>963260</td>\n",
       "      <td>UEats-Delivery</td>\n",
       "      <td>LEGAL WRAP</td>\n",
       "      <td>2025-06-02</td>\n",
       "      <td>28</td>\n",
       "      <td>636.58</td>\n",
       "      <td>-1.926531</td>\n",
       "    </tr>\n",
       "  </tbody>\n",
       "</table>\n",
       "</div>"
      ],
      "text/plain": [
       "    StoreId       OrderType MenuItemName WeekStartDate  item_weekly_volumn  \\\n",
       "23   963260  UEats-Delivery   LEGAL WRAP    2025-04-28                 106   \n",
       "21   963260  UEats-Delivery   LEGAL WRAP    2025-05-05                 122   \n",
       "22   963260  UEats-Delivery   LEGAL WRAP    2025-05-12                  82   \n",
       "20   963260  UEats-Delivery   LEGAL WRAP    2025-05-19                 114   \n",
       "18   963260  UEats-Delivery   LEGAL WRAP    2025-05-26                  84   \n",
       "19   963260  UEats-Delivery   LEGAL WRAP    2025-06-02                  28   \n",
       "\n",
       "    item_weekly_revenue  TrendSlope  \n",
       "23              2822.30   -1.926531  \n",
       "21              3252.14   -1.926531  \n",
       "22              2219.55   -1.926531  \n",
       "20              3056.46   -1.926531  \n",
       "18              2280.51   -1.926531  \n",
       "19               636.58   -1.926531  "
      ]
     },
     "execution_count": 268,
     "metadata": {},
     "output_type": "execute_result"
    }
   ],
   "source": [
    "df\n"
   ]
  },
  {
   "cell_type": "code",
   "execution_count": 244,
   "metadata": {},
   "outputs": [
    {
     "data": {
      "application/vnd.plotly.v1+json": {
       "config": {
        "plotlyServerURL": "https://plot.ly"
       },
       "data": [
        {
         "line": {
          "color": "royalblue",
          "dash": "dash",
          "width": 2
         },
         "mode": "lines",
         "name": "Trendline",
         "showlegend": true,
         "type": "scatter",
         "x": [
          "2025-04-28T00:00:00",
          "2025-05-05T00:00:00",
          "2025-05-12T00:00:00",
          "2025-05-19T00:00:00",
          "2025-05-26T00:00:00",
          "2025-06-02T00:00:00"
         ],
         "xaxis": "x",
         "y": [
          106,
          92.51428571436554,
          79.02857142849825,
          65.5428571428638,
          52.05714285722934,
          38.57142857136205
         ],
         "yaxis": "y"
        },
        {
         "line": {
          "color": "royalblue",
          "width": 2
         },
         "marker": {
          "size": 6
         },
         "mode": "lines+markers+text",
         "name": "Volume",
         "showlegend": true,
         "textfont": {
          "size": 10
         },
         "textposition": "top center",
         "type": "scatter",
         "x": [
          "2025-04-28T00:00:00",
          "2025-05-05T00:00:00",
          "2025-05-12T00:00:00",
          "2025-05-19T00:00:00",
          "2025-05-26T00:00:00",
          "2025-06-02T00:00:00"
         ],
         "xaxis": "x",
         "y": [
          106,
          122,
          82,
          114,
          84,
          28
         ],
         "yaxis": "y"
        },
        {
         "line": {
          "color": "forestgreen",
          "width": 2
         },
         "marker": {
          "size": 6
         },
         "mode": "lines+markers+text",
         "name": "Revenue",
         "showlegend": true,
         "textfont": {
          "size": 10
         },
         "type": "scatter",
         "x": [
          "2025-04-28T00:00:00",
          "2025-05-05T00:00:00",
          "2025-05-12T00:00:00",
          "2025-05-19T00:00:00",
          "2025-05-26T00:00:00",
          "2025-06-02T00:00:00"
         ],
         "xaxis": "x",
         "y": [
          2822.3,
          3252.14,
          2219.55,
          3056.46,
          2280.51,
          636.58
         ],
         "yaxis": "y2"
        }
       ],
       "layout": {
        "annotations": [
         {
          "align": "right",
          "font": {
           "color": "gray",
           "size": 11
          },
          "showarrow": false,
          "text": "Slope: -1.93",
          "x": 0.95,
          "xref": "paper",
          "y": 1.05,
          "yref": "paper"
         }
        ],
        "font": {
         "size": 10
        },
        "height": 450,
        "legend": {
         "font": {
          "size": 10
         },
         "orientation": "h",
         "x": 1,
         "xanchor": "right",
         "y": 1.02,
         "yanchor": "bottom"
        },
        "margin": {
         "b": 60,
         "t": 100
        },
        "template": {
         "data": {
          "bar": [
           {
            "error_x": {
             "color": "#2a3f5f"
            },
            "error_y": {
             "color": "#2a3f5f"
            },
            "marker": {
             "line": {
              "color": "white",
              "width": 0.5
             },
             "pattern": {
              "fillmode": "overlay",
              "size": 10,
              "solidity": 0.2
             }
            },
            "type": "bar"
           }
          ],
          "barpolar": [
           {
            "marker": {
             "line": {
              "color": "white",
              "width": 0.5
             },
             "pattern": {
              "fillmode": "overlay",
              "size": 10,
              "solidity": 0.2
             }
            },
            "type": "barpolar"
           }
          ],
          "carpet": [
           {
            "aaxis": {
             "endlinecolor": "#2a3f5f",
             "gridcolor": "#C8D4E3",
             "linecolor": "#C8D4E3",
             "minorgridcolor": "#C8D4E3",
             "startlinecolor": "#2a3f5f"
            },
            "baxis": {
             "endlinecolor": "#2a3f5f",
             "gridcolor": "#C8D4E3",
             "linecolor": "#C8D4E3",
             "minorgridcolor": "#C8D4E3",
             "startlinecolor": "#2a3f5f"
            },
            "type": "carpet"
           }
          ],
          "choropleth": [
           {
            "colorbar": {
             "outlinewidth": 0,
             "ticks": ""
            },
            "type": "choropleth"
           }
          ],
          "contour": [
           {
            "colorbar": {
             "outlinewidth": 0,
             "ticks": ""
            },
            "colorscale": [
             [
              0,
              "#0d0887"
             ],
             [
              0.1111111111111111,
              "#46039f"
             ],
             [
              0.2222222222222222,
              "#7201a8"
             ],
             [
              0.3333333333333333,
              "#9c179e"
             ],
             [
              0.4444444444444444,
              "#bd3786"
             ],
             [
              0.5555555555555556,
              "#d8576b"
             ],
             [
              0.6666666666666666,
              "#ed7953"
             ],
             [
              0.7777777777777778,
              "#fb9f3a"
             ],
             [
              0.8888888888888888,
              "#fdca26"
             ],
             [
              1,
              "#f0f921"
             ]
            ],
            "type": "contour"
           }
          ],
          "contourcarpet": [
           {
            "colorbar": {
             "outlinewidth": 0,
             "ticks": ""
            },
            "type": "contourcarpet"
           }
          ],
          "heatmap": [
           {
            "colorbar": {
             "outlinewidth": 0,
             "ticks": ""
            },
            "colorscale": [
             [
              0,
              "#0d0887"
             ],
             [
              0.1111111111111111,
              "#46039f"
             ],
             [
              0.2222222222222222,
              "#7201a8"
             ],
             [
              0.3333333333333333,
              "#9c179e"
             ],
             [
              0.4444444444444444,
              "#bd3786"
             ],
             [
              0.5555555555555556,
              "#d8576b"
             ],
             [
              0.6666666666666666,
              "#ed7953"
             ],
             [
              0.7777777777777778,
              "#fb9f3a"
             ],
             [
              0.8888888888888888,
              "#fdca26"
             ],
             [
              1,
              "#f0f921"
             ]
            ],
            "type": "heatmap"
           }
          ],
          "heatmapgl": [
           {
            "colorbar": {
             "outlinewidth": 0,
             "ticks": ""
            },
            "colorscale": [
             [
              0,
              "#0d0887"
             ],
             [
              0.1111111111111111,
              "#46039f"
             ],
             [
              0.2222222222222222,
              "#7201a8"
             ],
             [
              0.3333333333333333,
              "#9c179e"
             ],
             [
              0.4444444444444444,
              "#bd3786"
             ],
             [
              0.5555555555555556,
              "#d8576b"
             ],
             [
              0.6666666666666666,
              "#ed7953"
             ],
             [
              0.7777777777777778,
              "#fb9f3a"
             ],
             [
              0.8888888888888888,
              "#fdca26"
             ],
             [
              1,
              "#f0f921"
             ]
            ],
            "type": "heatmapgl"
           }
          ],
          "histogram": [
           {
            "marker": {
             "pattern": {
              "fillmode": "overlay",
              "size": 10,
              "solidity": 0.2
             }
            },
            "type": "histogram"
           }
          ],
          "histogram2d": [
           {
            "colorbar": {
             "outlinewidth": 0,
             "ticks": ""
            },
            "colorscale": [
             [
              0,
              "#0d0887"
             ],
             [
              0.1111111111111111,
              "#46039f"
             ],
             [
              0.2222222222222222,
              "#7201a8"
             ],
             [
              0.3333333333333333,
              "#9c179e"
             ],
             [
              0.4444444444444444,
              "#bd3786"
             ],
             [
              0.5555555555555556,
              "#d8576b"
             ],
             [
              0.6666666666666666,
              "#ed7953"
             ],
             [
              0.7777777777777778,
              "#fb9f3a"
             ],
             [
              0.8888888888888888,
              "#fdca26"
             ],
             [
              1,
              "#f0f921"
             ]
            ],
            "type": "histogram2d"
           }
          ],
          "histogram2dcontour": [
           {
            "colorbar": {
             "outlinewidth": 0,
             "ticks": ""
            },
            "colorscale": [
             [
              0,
              "#0d0887"
             ],
             [
              0.1111111111111111,
              "#46039f"
             ],
             [
              0.2222222222222222,
              "#7201a8"
             ],
             [
              0.3333333333333333,
              "#9c179e"
             ],
             [
              0.4444444444444444,
              "#bd3786"
             ],
             [
              0.5555555555555556,
              "#d8576b"
             ],
             [
              0.6666666666666666,
              "#ed7953"
             ],
             [
              0.7777777777777778,
              "#fb9f3a"
             ],
             [
              0.8888888888888888,
              "#fdca26"
             ],
             [
              1,
              "#f0f921"
             ]
            ],
            "type": "histogram2dcontour"
           }
          ],
          "mesh3d": [
           {
            "colorbar": {
             "outlinewidth": 0,
             "ticks": ""
            },
            "type": "mesh3d"
           }
          ],
          "parcoords": [
           {
            "line": {
             "colorbar": {
              "outlinewidth": 0,
              "ticks": ""
             }
            },
            "type": "parcoords"
           }
          ],
          "pie": [
           {
            "automargin": true,
            "type": "pie"
           }
          ],
          "scatter": [
           {
            "fillpattern": {
             "fillmode": "overlay",
             "size": 10,
             "solidity": 0.2
            },
            "type": "scatter"
           }
          ],
          "scatter3d": [
           {
            "line": {
             "colorbar": {
              "outlinewidth": 0,
              "ticks": ""
             }
            },
            "marker": {
             "colorbar": {
              "outlinewidth": 0,
              "ticks": ""
             }
            },
            "type": "scatter3d"
           }
          ],
          "scattercarpet": [
           {
            "marker": {
             "colorbar": {
              "outlinewidth": 0,
              "ticks": ""
             }
            },
            "type": "scattercarpet"
           }
          ],
          "scattergeo": [
           {
            "marker": {
             "colorbar": {
              "outlinewidth": 0,
              "ticks": ""
             }
            },
            "type": "scattergeo"
           }
          ],
          "scattergl": [
           {
            "marker": {
             "colorbar": {
              "outlinewidth": 0,
              "ticks": ""
             }
            },
            "type": "scattergl"
           }
          ],
          "scattermapbox": [
           {
            "marker": {
             "colorbar": {
              "outlinewidth": 0,
              "ticks": ""
             }
            },
            "type": "scattermapbox"
           }
          ],
          "scatterpolar": [
           {
            "marker": {
             "colorbar": {
              "outlinewidth": 0,
              "ticks": ""
             }
            },
            "type": "scatterpolar"
           }
          ],
          "scatterpolargl": [
           {
            "marker": {
             "colorbar": {
              "outlinewidth": 0,
              "ticks": ""
             }
            },
            "type": "scatterpolargl"
           }
          ],
          "scatterternary": [
           {
            "marker": {
             "colorbar": {
              "outlinewidth": 0,
              "ticks": ""
             }
            },
            "type": "scatterternary"
           }
          ],
          "surface": [
           {
            "colorbar": {
             "outlinewidth": 0,
             "ticks": ""
            },
            "colorscale": [
             [
              0,
              "#0d0887"
             ],
             [
              0.1111111111111111,
              "#46039f"
             ],
             [
              0.2222222222222222,
              "#7201a8"
             ],
             [
              0.3333333333333333,
              "#9c179e"
             ],
             [
              0.4444444444444444,
              "#bd3786"
             ],
             [
              0.5555555555555556,
              "#d8576b"
             ],
             [
              0.6666666666666666,
              "#ed7953"
             ],
             [
              0.7777777777777778,
              "#fb9f3a"
             ],
             [
              0.8888888888888888,
              "#fdca26"
             ],
             [
              1,
              "#f0f921"
             ]
            ],
            "type": "surface"
           }
          ],
          "table": [
           {
            "cells": {
             "fill": {
              "color": "#EBF0F8"
             },
             "line": {
              "color": "white"
             }
            },
            "header": {
             "fill": {
              "color": "#C8D4E3"
             },
             "line": {
              "color": "white"
             }
            },
            "type": "table"
           }
          ]
         },
         "layout": {
          "annotationdefaults": {
           "arrowcolor": "#2a3f5f",
           "arrowhead": 0,
           "arrowwidth": 1
          },
          "autotypenumbers": "strict",
          "coloraxis": {
           "colorbar": {
            "outlinewidth": 0,
            "ticks": ""
           }
          },
          "colorscale": {
           "diverging": [
            [
             0,
             "#8e0152"
            ],
            [
             0.1,
             "#c51b7d"
            ],
            [
             0.2,
             "#de77ae"
            ],
            [
             0.3,
             "#f1b6da"
            ],
            [
             0.4,
             "#fde0ef"
            ],
            [
             0.5,
             "#f7f7f7"
            ],
            [
             0.6,
             "#e6f5d0"
            ],
            [
             0.7,
             "#b8e186"
            ],
            [
             0.8,
             "#7fbc41"
            ],
            [
             0.9,
             "#4d9221"
            ],
            [
             1,
             "#276419"
            ]
           ],
           "sequential": [
            [
             0,
             "#0d0887"
            ],
            [
             0.1111111111111111,
             "#46039f"
            ],
            [
             0.2222222222222222,
             "#7201a8"
            ],
            [
             0.3333333333333333,
             "#9c179e"
            ],
            [
             0.4444444444444444,
             "#bd3786"
            ],
            [
             0.5555555555555556,
             "#d8576b"
            ],
            [
             0.6666666666666666,
             "#ed7953"
            ],
            [
             0.7777777777777778,
             "#fb9f3a"
            ],
            [
             0.8888888888888888,
             "#fdca26"
            ],
            [
             1,
             "#f0f921"
            ]
           ],
           "sequentialminus": [
            [
             0,
             "#0d0887"
            ],
            [
             0.1111111111111111,
             "#46039f"
            ],
            [
             0.2222222222222222,
             "#7201a8"
            ],
            [
             0.3333333333333333,
             "#9c179e"
            ],
            [
             0.4444444444444444,
             "#bd3786"
            ],
            [
             0.5555555555555556,
             "#d8576b"
            ],
            [
             0.6666666666666666,
             "#ed7953"
            ],
            [
             0.7777777777777778,
             "#fb9f3a"
            ],
            [
             0.8888888888888888,
             "#fdca26"
            ],
            [
             1,
             "#f0f921"
            ]
           ]
          },
          "colorway": [
           "#636efa",
           "#EF553B",
           "#00cc96",
           "#ab63fa",
           "#FFA15A",
           "#19d3f3",
           "#FF6692",
           "#B6E880",
           "#FF97FF",
           "#FECB52"
          ],
          "font": {
           "color": "#2a3f5f"
          },
          "geo": {
           "bgcolor": "white",
           "lakecolor": "white",
           "landcolor": "white",
           "showlakes": true,
           "showland": true,
           "subunitcolor": "#C8D4E3"
          },
          "hoverlabel": {
           "align": "left"
          },
          "hovermode": "closest",
          "mapbox": {
           "style": "light"
          },
          "paper_bgcolor": "white",
          "plot_bgcolor": "white",
          "polar": {
           "angularaxis": {
            "gridcolor": "#EBF0F8",
            "linecolor": "#EBF0F8",
            "ticks": ""
           },
           "bgcolor": "white",
           "radialaxis": {
            "gridcolor": "#EBF0F8",
            "linecolor": "#EBF0F8",
            "ticks": ""
           }
          },
          "scene": {
           "xaxis": {
            "backgroundcolor": "white",
            "gridcolor": "#DFE8F3",
            "gridwidth": 2,
            "linecolor": "#EBF0F8",
            "showbackground": true,
            "ticks": "",
            "zerolinecolor": "#EBF0F8"
           },
           "yaxis": {
            "backgroundcolor": "white",
            "gridcolor": "#DFE8F3",
            "gridwidth": 2,
            "linecolor": "#EBF0F8",
            "showbackground": true,
            "ticks": "",
            "zerolinecolor": "#EBF0F8"
           },
           "zaxis": {
            "backgroundcolor": "white",
            "gridcolor": "#DFE8F3",
            "gridwidth": 2,
            "linecolor": "#EBF0F8",
            "showbackground": true,
            "ticks": "",
            "zerolinecolor": "#EBF0F8"
           }
          },
          "shapedefaults": {
           "line": {
            "color": "#2a3f5f"
           }
          },
          "ternary": {
           "aaxis": {
            "gridcolor": "#DFE8F3",
            "linecolor": "#A2B1C6",
            "ticks": ""
           },
           "baxis": {
            "gridcolor": "#DFE8F3",
            "linecolor": "#A2B1C6",
            "ticks": ""
           },
           "bgcolor": "white",
           "caxis": {
            "gridcolor": "#DFE8F3",
            "linecolor": "#A2B1C6",
            "ticks": ""
           }
          },
          "title": {
           "x": 0.05
          },
          "xaxis": {
           "automargin": true,
           "gridcolor": "#EBF0F8",
           "linecolor": "#EBF0F8",
           "ticks": "",
           "title": {
            "standoff": 15
           },
           "zerolinecolor": "#EBF0F8",
           "zerolinewidth": 2
          },
          "yaxis": {
           "automargin": true,
           "gridcolor": "#EBF0F8",
           "linecolor": "#EBF0F8",
           "ticks": "",
           "title": {
            "standoff": 15
           },
           "zerolinecolor": "#EBF0F8",
           "zerolinewidth": 2
          }
         }
        },
        "title": {
         "font": {
          "size": 14
         },
         "text": "Weekly Volume & Revenue with Trendline for LEGAL WRAP (Store 963260 - UEats Delivery)",
         "x": 0.5,
         "xanchor": "center"
        },
        "width": 750,
        "xaxis": {
         "anchor": "y",
         "domain": [
          0,
          0.94
         ],
         "tickformat": "%Y-%m-%d",
         "title": {
          "font": {
           "size": 12
          },
          "text": "Week Start Date"
         }
        },
        "yaxis": {
         "anchor": "x",
         "domain": [
          0,
          1
         ],
         "title": {
          "font": {
           "size": 12
          },
          "text": "Volume"
         },
         "zeroline": true,
         "zerolinecolor": "lightgray"
        },
        "yaxis2": {
         "anchor": "x",
         "overlaying": "y",
         "side": "right",
         "tickprefix": "$",
         "title": {
          "font": {
           "size": 12
          },
          "text": "Revenue ($)"
         },
         "zeroline": true,
         "zerolinecolor": "lightgray"
        }
       }
      }
     },
     "metadata": {},
     "output_type": "display_data"
    }
   ],
   "source": [
    "import pandas as pd\n",
    "import plotly.graph_objects as go\n",
    "from plotly.subplots import make_subplots\n",
    "\n",
    "# Filter and sort data\n",
    "df = result[(result['MenuItemName'] == 'LEGAL WRAP') &\n",
    "            (result['StoreId'] == 963260) &\n",
    "            (result['OrderType'] == 'UEats-Delivery')].sort_values('WeekStartDate')\n",
    "\n",
    "# Group data\n",
    "groups = df.groupby(['StoreId', 'OrderType'])\n",
    "n = len(groups)\n",
    "\n",
    "# Create subplots with secondary y-axis\n",
    "fig = make_subplots(\n",
    "    rows=n, cols=1, shared_xaxes=False,\n",
    "    specs=[[{\"secondary_y\": True}] for _ in range(n)],\n",
    "    # subplot_titles=[f\"Store {store} - {order}\" for (store, order) in groups.groups.keys()],\n",
    "    vertical_spacing=0.12\n",
    ")\n",
    "\n",
    "for i, ((store, order), group) in enumerate(groups, start=1):\n",
    "    group = group.sort_values('WeekStartDate')\n",
    "    \n",
    "    # Prepare trendline\n",
    "    x_ord = group['WeekStartDate'].map(pd.Timestamp.toordinal)\n",
    "    slope = group['TrendSlope'].iloc[0]\n",
    "    intercept = group['item_weekly_volumn'].iloc[0] - slope * x_ord.iloc[0]\n",
    "    trend_y = slope * x_ord + intercept\n",
    "\n",
    "\n",
    "    \n",
    "        # Trendline (blue dashed)\n",
    "    fig.add_trace(go.Scatter(\n",
    "        x=group['WeekStartDate'],\n",
    "        y=trend_y,\n",
    "        mode='lines',\n",
    "        name='Trendline',\n",
    "        line=dict(color='royalblue', dash='dash', width=2),\n",
    "        showlegend=(i == 1)\n",
    "    ), row=i, col=1, secondary_y=False)\n",
    "\n",
    "    # Volume line with labels slightly above\n",
    "    fig.add_trace(go.Scatter(\n",
    "        x=group['WeekStartDate'],\n",
    "        y=group['item_weekly_volumn'],\n",
    "        mode='lines+markers+text',\n",
    "        name='Volume',\n",
    "        line=dict(color='royalblue', width=2),\n",
    "        marker=dict(size=6),\n",
    "        # text=[str(v) for v in group['item_weekly_volumn']],\n",
    "        textposition='top center',\n",
    "        textfont=dict(size=10),\n",
    "        showlegend=(i == 1)\n",
    "    ), row=i, col=1, secondary_y=False)\n",
    "\n",
    "    # Revenue line with labels further below\n",
    "    fig.add_trace(go.Scatter(\n",
    "        x=group['WeekStartDate'],\n",
    "        y=group['item_weekly_revenue'],\n",
    "        mode='lines+markers+text',\n",
    "        name='Revenue',\n",
    "        line=dict(color='forestgreen', width=2),\n",
    "        marker=dict(size=6),\n",
    "        # text=[f\"${v:,.0f}\\n\" for v in group['item_weekly_revenue']],  # add newline for spacing hack\n",
    "        # textposition='bottom center',\n",
    "        textfont=dict(size=10),\n",
    "        showlegend=(i == 1)\n",
    "    ), row=i, col=1, secondary_y=True)\n",
    "    fig.add_annotation(\n",
    "        text=f\"Slope: {slope:.2f}\",\n",
    "        xref=\"paper\", yref=\"paper\",\n",
    "        x=0.95, y=1 - (i - 1) / n + 0.05,\n",
    "        showarrow=False,\n",
    "        font=dict(color=\"gray\", size=11),\n",
    "        align=\"right\"\n",
    "    )\n",
    "\n",
    "# Layout settings\n",
    "fig.update_layout(\n",
    "    height=450 * n,\n",
    "    width=750,\n",
    "    title_text=\"Weekly Volume & Revenue with Trendline for LEGAL WRAP (Store 963260 - UEats Delivery)\",\n",
    "    template='plotly_white',\n",
    "    legend=dict(\n",
    "        orientation='h',\n",
    "        yanchor='bottom',\n",
    "        y=1.02,\n",
    "        xanchor='right',\n",
    "        x=1\n",
    "    ),\n",
    "    margin=dict(t=100, b=60)\n",
    ")\n",
    "fig.update_layout(\n",
    "    title_font=dict(size=16),          # smaller main title font\n",
    "    legend_font=dict(size=10),         # smaller legend font\n",
    "    font=dict(size=10),                # default font size for tick labels, axis titles, etc.\n",
    ")\n",
    "\n",
    "fig.update_xaxes( title_font=dict(size=12))\n",
    "fig.update_yaxes( title_font=dict(size=12))\n",
    "\n",
    "# Axis titles and formatting\n",
    "fig.update_yaxes(title_text=\"Volume\", secondary_y=False, zeroline=True, zerolinecolor='lightgray')\n",
    "fig.update_yaxes(title_text=\"Revenue ($)\", secondary_y=True, tickprefix=\"$\", zeroline=True, zerolinecolor='lightgray')\n",
    "\n",
    "fig.update_xaxes(title_text=\"Week Start Date\", tickformat=\"%Y-%m-%d\")\n",
    "fig.update_layout(\n",
    "    title={\n",
    "        'text': \"Weekly Volume & Revenue with Trendline for LEGAL WRAP (Store 963260 - UEats Delivery)\",\n",
    "        'font': {'size': 14},   # smaller size here (default is bigger)\n",
    "        'x': 0.5,               # center title horizontally\n",
    "        'xanchor': 'center'\n",
    "    }\n",
    ")\n",
    "\n",
    "fig.show()\n"
   ]
  },
  {
   "cell_type": "code",
   "execution_count": null,
   "metadata": {},
   "outputs": [],
   "source": [
    "\n"
   ]
  },
  {
   "cell_type": "code",
   "execution_count": null,
   "metadata": {},
   "outputs": [],
   "source": [
    "# NOTE: insight 3\n"
   ]
  },
  {
   "cell_type": "code",
   "execution_count": 302,
   "metadata": {},
   "outputs": [
    {
     "data": {
      "text/html": [
       "<div>\n",
       "<style scoped>\n",
       "    .dataframe tbody tr th:only-of-type {\n",
       "        vertical-align: middle;\n",
       "    }\n",
       "\n",
       "    .dataframe tbody tr th {\n",
       "        vertical-align: top;\n",
       "    }\n",
       "\n",
       "    .dataframe thead th {\n",
       "        text-align: right;\n",
       "    }\n",
       "</style>\n",
       "<table border=\"1\" class=\"dataframe\">\n",
       "  <thead>\n",
       "    <tr style=\"text-align: right;\">\n",
       "      <th></th>\n",
       "      <th>StoreId</th>\n",
       "      <th>OrderType</th>\n",
       "      <th>MenuItemName</th>\n",
       "      <th>TrendSlope</th>\n",
       "    </tr>\n",
       "  </thead>\n",
       "  <tbody>\n",
       "    <tr>\n",
       "      <th>0</th>\n",
       "      <td>963260</td>\n",
       "      <td>Dine In</td>\n",
       "      <td>JULIE'S SMOOTHIE</td>\n",
       "      <td>0.281633</td>\n",
       "    </tr>\n",
       "    <tr>\n",
       "      <th>1</th>\n",
       "      <td>963260</td>\n",
       "      <td>Dine In</td>\n",
       "      <td>POKE BOWL</td>\n",
       "      <td>0.216327</td>\n",
       "    </tr>\n",
       "    <tr>\n",
       "      <th>2</th>\n",
       "      <td>963260</td>\n",
       "      <td>Dine In</td>\n",
       "      <td>PESTO CHICKEN BOWL</td>\n",
       "      <td>0.191837</td>\n",
       "    </tr>\n",
       "    <tr>\n",
       "      <th>3</th>\n",
       "      <td>963260</td>\n",
       "      <td>Dine In</td>\n",
       "      <td>GRILLED CHICKEN PLATTER</td>\n",
       "      <td>0.167347</td>\n",
       "    </tr>\n",
       "    <tr>\n",
       "      <th>4</th>\n",
       "      <td>963260</td>\n",
       "      <td>Dine In</td>\n",
       "      <td>ALMOND BUTTER ACAI BOWL</td>\n",
       "      <td>0.163265</td>\n",
       "    </tr>\n",
       "    <tr>\n",
       "      <th>...</th>\n",
       "      <td>...</td>\n",
       "      <td>...</td>\n",
       "      <td>...</td>\n",
       "      <td>...</td>\n",
       "    </tr>\n",
       "    <tr>\n",
       "      <th>120</th>\n",
       "      <td>963290</td>\n",
       "      <td>UEats-Pickup</td>\n",
       "      <td>LIV WRAP</td>\n",
       "      <td>1.642857</td>\n",
       "    </tr>\n",
       "    <tr>\n",
       "      <th>121</th>\n",
       "      <td>963290</td>\n",
       "      <td>UEats-Pickup</td>\n",
       "      <td>HUEVOS RANCHEROS BURRITO</td>\n",
       "      <td>0.242857</td>\n",
       "    </tr>\n",
       "    <tr>\n",
       "      <th>122</th>\n",
       "      <td>963290</td>\n",
       "      <td>UEats-Pickup</td>\n",
       "      <td>CHICKEN GODDESS</td>\n",
       "      <td>0.126374</td>\n",
       "    </tr>\n",
       "    <tr>\n",
       "      <th>123</th>\n",
       "      <td>963290</td>\n",
       "      <td>UEats-Pickup</td>\n",
       "      <td>LA MEXICANA</td>\n",
       "      <td>0.109890</td>\n",
       "    </tr>\n",
       "    <tr>\n",
       "      <th>124</th>\n",
       "      <td>963290</td>\n",
       "      <td>UEats-Pickup</td>\n",
       "      <td>Cilantro-Lime Dressing</td>\n",
       "      <td>0.042857</td>\n",
       "    </tr>\n",
       "  </tbody>\n",
       "</table>\n",
       "<p>125 rows × 4 columns</p>\n",
       "</div>"
      ],
      "text/plain": [
       "     StoreId     OrderType              MenuItemName  TrendSlope\n",
       "0     963260       Dine In          JULIE'S SMOOTHIE    0.281633\n",
       "1     963260       Dine In                 POKE BOWL    0.216327\n",
       "2     963260       Dine In        PESTO CHICKEN BOWL    0.191837\n",
       "3     963260       Dine In   GRILLED CHICKEN PLATTER    0.167347\n",
       "4     963260       Dine In   ALMOND BUTTER ACAI BOWL    0.163265\n",
       "..       ...           ...                       ...         ...\n",
       "120   963290  UEats-Pickup                  LIV WRAP    1.642857\n",
       "121   963290  UEats-Pickup  HUEVOS RANCHEROS BURRITO    0.242857\n",
       "122   963290  UEats-Pickup           CHICKEN GODDESS    0.126374\n",
       "123   963290  UEats-Pickup               LA MEXICANA    0.109890\n",
       "124   963290  UEats-Pickup    Cilantro-Lime Dressing    0.042857\n",
       "\n",
       "[125 rows x 4 columns]"
      ]
     },
     "execution_count": 302,
     "metadata": {},
     "output_type": "execute_result"
    }
   ],
   "source": [
    "# trnd increasing\n",
    "\n",
    "import pandas as pd\n",
    "from datetime import timedelta\n",
    "from sklearn.linear_model import LinearRegression\n",
    "import numpy as np\n",
    "\n",
    "df = high_volume_items.copy()\n",
    "\n",
    "# Ensure WeekStartDate is datetime\n",
    "df['WeekStartDate'] = pd.to_datetime(df['WeekStartDate'])\n",
    "\n",
    "# Filter to last 3 months\n",
    "latest_date = df['WeekStartDate'].max()\n",
    "cutoff_date = latest_date - pd.DateOffset(months=3)\n",
    "df_3m = df[df['WeekStartDate'] >= cutoff_date].copy()\n",
    "\n",
    "# Prepare a results list\n",
    "results = []\n",
    "\n",
    "# Group by StoreId and OrderType\n",
    "for (store_id, order_type), group in df_3m.groupby(['StoreId', 'OrderType']):\n",
    "    trend_data = []\n",
    "\n",
    "    # Further group by MenuItemName\n",
    "    for menu_item, item_group in group.groupby('MenuItemName'):\n",
    "        item_group = item_group.sort_values('WeekStartDate')\n",
    "        \n",
    "        # Encode time as numeric (e.g., week number)\n",
    "        item_group['week_num'] = (item_group['WeekStartDate'] - item_group['WeekStartDate'].min()).dt.days\n",
    "        \n",
    "        # Need at least 4 data points to compute a meaningful trend\n",
    "        if len(item_group) >= 3:\n",
    "            X = item_group['week_num'].values.reshape(-1, 1)\n",
    "            y = item_group['item_weekly_volumn'].values\n",
    "            model = LinearRegression()\n",
    "            model.fit(X, y)\n",
    "            slope = model.coef_[0]\n",
    "            \n",
    "            # Append slope\n",
    "            trend_data.append((menu_item, slope))\n",
    "    \n",
    "    # Sort by most positive slope (strongest upward trend)\n",
    "    trend_data.sort(key=lambda x: x[1], reverse=True)\n",
    "    \n",
    "    # Take top 5 increasing items\n",
    "    top_5_positive = trend_data[:5]\n",
    "    \n",
    "    for menu_item, slope in top_5_positive:\n",
    "        results.append({\n",
    "            'StoreId': store_id,\n",
    "            'OrderType': order_type,\n",
    "            'MenuItemName': menu_item,\n",
    "            'TrendSlope': slope\n",
    "        })\n",
    "\n",
    "# Convert results to DataFrame\n",
    "top_increasing_items = pd.DataFrame(results)\n",
    "top_increasing_items\n"
   ]
  },
  {
   "cell_type": "code",
   "execution_count": 303,
   "metadata": {},
   "outputs": [
    {
     "data": {
      "text/html": [
       "<div>\n",
       "<style scoped>\n",
       "    .dataframe tbody tr th:only-of-type {\n",
       "        vertical-align: middle;\n",
       "    }\n",
       "\n",
       "    .dataframe tbody tr th {\n",
       "        vertical-align: top;\n",
       "    }\n",
       "\n",
       "    .dataframe thead th {\n",
       "        text-align: right;\n",
       "    }\n",
       "</style>\n",
       "<table border=\"1\" class=\"dataframe\">\n",
       "  <thead>\n",
       "    <tr style=\"text-align: right;\">\n",
       "      <th></th>\n",
       "      <th>StoreId</th>\n",
       "      <th>OrderType</th>\n",
       "      <th>MenuItemName</th>\n",
       "      <th>WeekStartDate</th>\n",
       "      <th>item_weekly_volumn</th>\n",
       "      <th>item_weekly_revenue</th>\n",
       "      <th>TrendSlope</th>\n",
       "    </tr>\n",
       "  </thead>\n",
       "  <tbody>\n",
       "    <tr>\n",
       "      <th>0</th>\n",
       "      <td>963260</td>\n",
       "      <td>Dine In</td>\n",
       "      <td>ALMOND BUTTER ACAI BOWL</td>\n",
       "      <td>2025-05-26</td>\n",
       "      <td>6</td>\n",
       "      <td>95.94</td>\n",
       "      <td>0.163265</td>\n",
       "    </tr>\n",
       "    <tr>\n",
       "      <th>1</th>\n",
       "      <td>963260</td>\n",
       "      <td>Dine In</td>\n",
       "      <td>ALMOND BUTTER ACAI BOWL</td>\n",
       "      <td>2025-06-02</td>\n",
       "      <td>11</td>\n",
       "      <td>173.49</td>\n",
       "      <td>0.163265</td>\n",
       "    </tr>\n",
       "    <tr>\n",
       "      <th>2</th>\n",
       "      <td>963260</td>\n",
       "      <td>Dine In</td>\n",
       "      <td>ALMOND BUTTER ACAI BOWL</td>\n",
       "      <td>2025-05-12</td>\n",
       "      <td>12</td>\n",
       "      <td>194.88</td>\n",
       "      <td>0.163265</td>\n",
       "    </tr>\n",
       "    <tr>\n",
       "      <th>3</th>\n",
       "      <td>963260</td>\n",
       "      <td>Dine In</td>\n",
       "      <td>ALMOND BUTTER ACAI BOWL</td>\n",
       "      <td>2025-05-05</td>\n",
       "      <td>3</td>\n",
       "      <td>47.97</td>\n",
       "      <td>0.163265</td>\n",
       "    </tr>\n",
       "    <tr>\n",
       "      <th>4</th>\n",
       "      <td>963260</td>\n",
       "      <td>Dine In</td>\n",
       "      <td>ALMOND BUTTER ACAI BOWL</td>\n",
       "      <td>2025-04-28</td>\n",
       "      <td>3</td>\n",
       "      <td>47.97</td>\n",
       "      <td>0.163265</td>\n",
       "    </tr>\n",
       "    <tr>\n",
       "      <th>...</th>\n",
       "      <td>...</td>\n",
       "      <td>...</td>\n",
       "      <td>...</td>\n",
       "      <td>...</td>\n",
       "      <td>...</td>\n",
       "      <td>...</td>\n",
       "      <td>...</td>\n",
       "    </tr>\n",
       "    <tr>\n",
       "      <th>586</th>\n",
       "      <td>963290</td>\n",
       "      <td>Take Out</td>\n",
       "      <td>SWEET POTATO W/GRILLED CHICKEN</td>\n",
       "      <td>2025-04-28</td>\n",
       "      <td>2</td>\n",
       "      <td>29.98</td>\n",
       "      <td>0.469388</td>\n",
       "    </tr>\n",
       "    <tr>\n",
       "      <th>587</th>\n",
       "      <td>963290</td>\n",
       "      <td>Online-Pickup</td>\n",
       "      <td>TUNA-CADO or CHICKEN-CADO</td>\n",
       "      <td>2025-05-26</td>\n",
       "      <td>9</td>\n",
       "      <td>181.14</td>\n",
       "      <td>0.220408</td>\n",
       "    </tr>\n",
       "    <tr>\n",
       "      <th>588</th>\n",
       "      <td>963290</td>\n",
       "      <td>Online-Pickup</td>\n",
       "      <td>TUNA-CADO or CHICKEN-CADO</td>\n",
       "      <td>2025-05-12</td>\n",
       "      <td>3</td>\n",
       "      <td>56.97</td>\n",
       "      <td>0.220408</td>\n",
       "    </tr>\n",
       "    <tr>\n",
       "      <th>589</th>\n",
       "      <td>963290</td>\n",
       "      <td>Online-Pickup</td>\n",
       "      <td>TUNA-CADO or CHICKEN-CADO</td>\n",
       "      <td>2025-05-05</td>\n",
       "      <td>3</td>\n",
       "      <td>62.97</td>\n",
       "      <td>0.220408</td>\n",
       "    </tr>\n",
       "    <tr>\n",
       "      <th>590</th>\n",
       "      <td>963290</td>\n",
       "      <td>Online-Pickup</td>\n",
       "      <td>TUNA-CADO or CHICKEN-CADO</td>\n",
       "      <td>2025-04-28</td>\n",
       "      <td>3</td>\n",
       "      <td>61.47</td>\n",
       "      <td>0.220408</td>\n",
       "    </tr>\n",
       "  </tbody>\n",
       "</table>\n",
       "<p>534 rows × 7 columns</p>\n",
       "</div>"
      ],
      "text/plain": [
       "     StoreId      OrderType                    MenuItemName WeekStartDate  \\\n",
       "0     963260        Dine In         ALMOND BUTTER ACAI BOWL    2025-05-26   \n",
       "1     963260        Dine In         ALMOND BUTTER ACAI BOWL    2025-06-02   \n",
       "2     963260        Dine In         ALMOND BUTTER ACAI BOWL    2025-05-12   \n",
       "3     963260        Dine In         ALMOND BUTTER ACAI BOWL    2025-05-05   \n",
       "4     963260        Dine In         ALMOND BUTTER ACAI BOWL    2025-04-28   \n",
       "..       ...            ...                             ...           ...   \n",
       "586   963290       Take Out  SWEET POTATO W/GRILLED CHICKEN    2025-04-28   \n",
       "587   963290  Online-Pickup       TUNA-CADO or CHICKEN-CADO    2025-05-26   \n",
       "588   963290  Online-Pickup       TUNA-CADO or CHICKEN-CADO    2025-05-12   \n",
       "589   963290  Online-Pickup       TUNA-CADO or CHICKEN-CADO    2025-05-05   \n",
       "590   963290  Online-Pickup       TUNA-CADO or CHICKEN-CADO    2025-04-28   \n",
       "\n",
       "     item_weekly_volumn  item_weekly_revenue  TrendSlope  \n",
       "0                     6                95.94    0.163265  \n",
       "1                    11               173.49    0.163265  \n",
       "2                    12               194.88    0.163265  \n",
       "3                     3                47.97    0.163265  \n",
       "4                     3                47.97    0.163265  \n",
       "..                  ...                  ...         ...  \n",
       "586                   2                29.98    0.469388  \n",
       "587                   9               181.14    0.220408  \n",
       "588                   3                56.97    0.220408  \n",
       "589                   3                62.97    0.220408  \n",
       "590                   3                61.47    0.220408  \n",
       "\n",
       "[534 rows x 7 columns]"
      ]
     },
     "execution_count": 303,
     "metadata": {},
     "output_type": "execute_result"
    }
   ],
   "source": [
    "df_tren_pos = df_3m.merge(top_increasing_items, on=['StoreId', 'OrderType', 'MenuItemName'])\n",
    "df_tren_pos\n",
    "# Step 1: Filter only items with po TrendSlope\n",
    "pos_trend = df_tren_pos[df_tren_pos['TrendSlope'] >0]\n",
    "pos_trend\n"
   ]
  },
  {
   "cell_type": "code",
   "execution_count": 304,
   "metadata": {},
   "outputs": [
    {
     "data": {
      "text/plain": [
       "array(['ALMOND BUTTER ACAI BOWL', 'CHICKEN CAESAR WRAP',\n",
       "       'CRISPY CHICKEN PLATTER', 'GREEN GODDESS SALAD',\n",
       "       'GRILLED CHICKEN PLATTER', 'HEALTHY BURGER BOWL',\n",
       "       'HOMEMADE VEGAN BANANA BREAD', 'HUEVOS RANCHEROS BURRITO',\n",
       "       \"JULIE'S SMOOTHIE\", 'LA MEXICANA', 'LEGAL WRAP',\n",
       "       'LENTIL & KALE SOUP', 'LIV WRAP', \"MARIO'S FAVORITE CHICKEN BOWL\",\n",
       "       'PARADISE ACAI BOWL', 'PESTO CHICKEN BOWL', 'POKE BOWL',\n",
       "       'SALAD AND 1/2 WRAP', 'SKINNY GREEN', 'SOUP AND 1/2 WRAP',\n",
       "       'STRAWBERRY PASSION', 'SWEET POTATO FRIES', 'TOSTONES',\n",
       "       'TUNA-CADO or CHICKEN-CADO', 'AQUA PANNA', 'BERRY WILD',\n",
       "       'BLUE MAGIC', 'CARROT CAKE', 'CHICKEN GODDESS',\n",
       "       'CHOCOLATE CHUNK WALNUT COOKIE', 'CRUNCHY AVOCADO TOAST',\n",
       "       'Cilantro-Lime Dressing', 'MIAMI\\xa0VEGAN\\xa0BOWL',\n",
       "       'PLANTAIN CHIPS', 'SWEET POTATO W/GRILLED CHICKEN',\n",
       "       'THE EXPRESS BOWL \"create your own\"', 'ULTIMATE CROISSANT EGGWICH',\n",
       "       'CAESAR SALAD', 'CORTADO', 'OMG! TURKEY BURGER',\n",
       "       'ORIENTAL CRUNCH SALAD', 'PEANUT BUTTER CUP'], dtype=object)"
      ]
     },
     "execution_count": 304,
     "metadata": {},
     "output_type": "execute_result"
    }
   ],
   "source": [
    "pos_trend.MenuItemName.unique()\n"
   ]
  },
  {
   "cell_type": "code",
   "execution_count": 305,
   "metadata": {},
   "outputs": [
    {
     "name": "stderr",
     "output_type": "stream",
     "text": [
      "/Library/Frameworks/Python.framework/Versions/3.7/lib/python3.7/site-packages/pandas/util/_decorators.py:311: SettingWithCopyWarning:\n",
      "\n",
      "\n",
      "A value is trying to be set on a copy of a slice from a DataFrame\n",
      "\n",
      "See the caveats in the documentation: https://pandas.pydata.org/pandas-docs/stable/user_guide/indexing.html#returning-a-view-versus-a-copy\n",
      "\n",
      "/Library/Frameworks/Python.framework/Versions/3.7/lib/python3.7/site-packages/ipykernel_launcher.py:13: SettingWithCopyWarning:\n",
      "\n",
      "\n",
      "A value is trying to be set on a copy of a slice from a DataFrame.\n",
      "Try using .loc[row_indexer,col_indexer] = value instead\n",
      "\n",
      "See the caveats in the documentation: https://pandas.pydata.org/pandas-docs/stable/user_guide/indexing.html#returning-a-view-versus-a-copy\n",
      "\n"
     ]
    },
    {
     "data": {
      "application/vnd.plotly.v1+json": {
       "config": {
        "plotlyServerURL": "https://plot.ly"
       },
       "data": [
        {
         "hoverinfo": "name+x+y",
         "legendgroup": "ALMOND BUTTER ACAI BOWL",
         "mode": "lines+markers",
         "name": "ALMOND BUTTER ACAI BOWL",
         "showlegend": true,
         "type": "scatter",
         "x": [
          "2025-05-05T00:00:00",
          "2025-05-26T00:00:00",
          "2025-06-02T00:00:00"
         ],
         "xaxis": "x",
         "y": [
          1,
          1,
          2
         ],
         "yaxis": "y"
        },
        {
         "hoverinfo": "none",
         "line": {
          "color": "green",
          "dash": "dash"
         },
         "mode": "lines",
         "showlegend": false,
         "type": "scatter",
         "x": [
          "2025-05-05T00:00:00",
          "2025-05-26T00:00:00",
          "2025-06-02T00:00:00"
         ],
         "xaxis": "x",
         "y": [
          0.8846153846025118,
          1.4615384615281073,
          1.6538461538366391
         ],
         "yaxis": "y"
        },
        {
         "hoverinfo": "name+x+y",
         "legendgroup": "CHICKEN GODDESS",
         "mode": "lines+markers",
         "name": "CHICKEN GODDESS",
         "showlegend": true,
         "type": "scatter",
         "x": [
          "2025-05-05T00:00:00",
          "2025-05-12T00:00:00",
          "2025-05-19T00:00:00",
          "2025-05-26T00:00:00",
          "2025-06-02T00:00:00"
         ],
         "xaxis": "x",
         "y": [
          1,
          4,
          2,
          2,
          4
         ],
         "yaxis": "y"
        },
        {
         "hoverinfo": "none",
         "line": {
          "color": "green",
          "dash": "dash"
         },
         "mode": "lines",
         "showlegend": false,
         "type": "scatter",
         "x": [
          "2025-05-05T00:00:00",
          "2025-05-12T00:00:00",
          "2025-05-19T00:00:00",
          "2025-05-26T00:00:00",
          "2025-06-02T00:00:00"
         ],
         "xaxis": "x",
         "y": [
          1.8000000000174623,
          2.2000000000189175,
          2.6000000000203727,
          3.000000000014552,
          3.400000000016007
         ],
         "yaxis": "y"
        },
        {
         "hoverinfo": "name+x+y",
         "legendgroup": "CRISPY CHICKEN PLATTER",
         "mode": "lines+markers",
         "name": "CRISPY CHICKEN PLATTER",
         "showlegend": true,
         "type": "scatter",
         "x": [
          "2025-04-28T00:00:00",
          "2025-05-05T00:00:00",
          "2025-05-19T00:00:00"
         ],
         "xaxis": "x",
         "y": [
          1,
          1,
          2
         ],
         "yaxis": "y"
        },
        {
         "hoverinfo": "none",
         "line": {
          "color": "green",
          "dash": "dash"
         },
         "mode": "lines",
         "showlegend": false,
         "type": "scatter",
         "x": [
          "2025-04-28T00:00:00",
          "2025-05-05T00:00:00",
          "2025-05-19T00:00:00"
         ],
         "xaxis": "x",
         "y": [
          0.8571428571594879,
          1.214285714297148,
          1.928571428572468
         ],
         "yaxis": "y"
        },
        {
         "hoverinfo": "name+x+y",
         "legendgroup": "LIV WRAP",
         "mode": "lines+markers",
         "name": "LIV WRAP",
         "showlegend": true,
         "type": "scatter",
         "x": [
          "2025-04-28T00:00:00",
          "2025-05-05T00:00:00",
          "2025-05-12T00:00:00",
          "2025-05-19T00:00:00",
          "2025-05-26T00:00:00",
          "2025-06-02T00:00:00"
         ],
         "xaxis": "x",
         "y": [
          1,
          1,
          1,
          1,
          1,
          4
         ],
         "yaxis": "y"
        },
        {
         "hoverinfo": "none",
         "line": {
          "color": "green",
          "dash": "dash"
         },
         "mode": "lines",
         "showlegend": false,
         "type": "scatter",
         "x": [
          "2025-04-28T00:00:00",
          "2025-05-05T00:00:00",
          "2025-05-12T00:00:00",
          "2025-05-19T00:00:00",
          "2025-05-26T00:00:00",
          "2025-06-02T00:00:00"
         ],
         "xaxis": "x",
         "y": [
          0.4285714285506401,
          0.8571428571303841,
          1.285714285702852,
          1.714285714282596,
          2.142857142855064,
          2.571428571427532
         ],
         "yaxis": "y"
        },
        {
         "hoverinfo": "name+x+y",
         "legendgroup": "PARADISE ACAI BOWL",
         "mode": "lines+markers",
         "name": "PARADISE ACAI BOWL",
         "showlegend": true,
         "type": "scatter",
         "x": [
          "2025-04-28T00:00:00",
          "2025-05-05T00:00:00",
          "2025-05-12T00:00:00",
          "2025-05-19T00:00:00",
          "2025-05-26T00:00:00"
         ],
         "xaxis": "x",
         "y": [
          2,
          2,
          2,
          2,
          3
         ],
         "yaxis": "y"
        },
        {
         "hoverinfo": "none",
         "line": {
          "color": "green",
          "dash": "dash"
         },
         "mode": "lines",
         "showlegend": false,
         "type": "scatter",
         "x": [
          "2025-04-28T00:00:00",
          "2025-05-05T00:00:00",
          "2025-05-12T00:00:00",
          "2025-05-19T00:00:00",
          "2025-05-26T00:00:00"
         ],
         "xaxis": "x",
         "y": [
          1.8000000000247383,
          2.00000000001819,
          2.2000000000116415,
          2.400000000008731,
          2.600000000002183
         ],
         "yaxis": "y"
        },
        {
         "hoverinfo": "name+x+y",
         "legendgroup": "AQUA PANNA",
         "mode": "lines+markers",
         "name": "AQUA PANNA",
         "showlegend": true,
         "type": "scatter",
         "x": [
          "2025-04-28T00:00:00",
          "2025-05-05T00:00:00",
          "2025-05-12T00:00:00",
          "2025-05-19T00:00:00",
          "2025-05-26T00:00:00",
          "2025-06-02T00:00:00"
         ],
         "xaxis": "x2",
         "y": [
          25,
          36,
          30,
          28,
          36,
          29
         ],
         "yaxis": "y2"
        },
        {
         "hoverinfo": "none",
         "line": {
          "color": "green",
          "dash": "dash"
         },
         "mode": "lines",
         "showlegend": false,
         "type": "scatter",
         "x": [
          "2025-04-28T00:00:00",
          "2025-05-05T00:00:00",
          "2025-05-12T00:00:00",
          "2025-05-19T00:00:00",
          "2025-05-26T00:00:00",
          "2025-06-02T00:00:00"
         ],
         "xaxis": "x2",
         "y": [
          29.380952380946837,
          29.895238095232344,
          30.40952380951785,
          30.923809523810633,
          31.43809523809614,
          31.952380952381645
         ],
         "yaxis": "y2"
        },
        {
         "hoverinfo": "name+x+y",
         "legendgroup": "BERRY WILD",
         "mode": "lines+markers",
         "name": "BERRY WILD",
         "showlegend": true,
         "type": "scatter",
         "x": [
          "2025-04-28T00:00:00",
          "2025-05-05T00:00:00",
          "2025-05-12T00:00:00",
          "2025-05-19T00:00:00",
          "2025-05-26T00:00:00",
          "2025-06-02T00:00:00"
         ],
         "xaxis": "x2",
         "y": [
          1,
          3,
          5,
          4,
          7,
          4
         ],
         "yaxis": "y2"
        },
        {
         "hoverinfo": "none",
         "line": {
          "color": "green",
          "dash": "dash"
         },
         "mode": "lines",
         "showlegend": false,
         "type": "scatter",
         "x": [
          "2025-04-28T00:00:00",
          "2025-05-05T00:00:00",
          "2025-05-12T00:00:00",
          "2025-05-19T00:00:00",
          "2025-05-26T00:00:00",
          "2025-06-02T00:00:00"
         ],
         "xaxis": "x2",
         "y": [
          2.142857142840512,
          2.885714285701397,
          3.6285714285477297,
          4.3714285714086145,
          5.114285714269499,
          5.857142857130384
         ],
         "yaxis": "y2"
        },
        {
         "hoverinfo": "name+x+y",
         "legendgroup": "CHICKEN GODDESS",
         "mode": "lines+markers",
         "name": "CHICKEN GODDESS",
         "showlegend": false,
         "type": "scatter",
         "x": [
          "2025-04-28T00:00:00",
          "2025-05-05T00:00:00",
          "2025-05-12T00:00:00",
          "2025-05-19T00:00:00",
          "2025-05-26T00:00:00",
          "2025-06-02T00:00:00"
         ],
         "xaxis": "x2",
         "y": [
          2,
          9,
          12,
          4,
          10,
          8
         ],
         "yaxis": "y2"
        },
        {
         "hoverinfo": "none",
         "line": {
          "color": "green",
          "dash": "dash"
         },
         "mode": "lines",
         "showlegend": false,
         "type": "scatter",
         "x": [
          "2025-04-28T00:00:00",
          "2025-05-05T00:00:00",
          "2025-05-12T00:00:00",
          "2025-05-19T00:00:00",
          "2025-05-26T00:00:00",
          "2025-06-02T00:00:00"
         ],
         "xaxis": "x2",
         "y": [
          5.71428571427532,
          6.428571428565192,
          7.142857142855064,
          7.857142857144936,
          8.571428571434808,
          9.28571428572468
         ],
         "yaxis": "y2"
        },
        {
         "hoverinfo": "name+x+y",
         "legendgroup": "LA MEXICANA",
         "mode": "lines+markers",
         "name": "LA MEXICANA",
         "showlegend": true,
         "type": "scatter",
         "x": [
          "2025-04-28T00:00:00",
          "2025-05-05T00:00:00",
          "2025-05-12T00:00:00",
          "2025-05-19T00:00:00",
          "2025-05-26T00:00:00",
          "2025-06-02T00:00:00"
         ],
         "xaxis": "x2",
         "y": [
          5,
          5,
          4,
          6,
          5,
          8
         ],
         "yaxis": "y2"
        },
        {
         "hoverinfo": "none",
         "line": {
          "color": "green",
          "dash": "dash"
         },
         "mode": "lines",
         "showlegend": false,
         "type": "scatter",
         "x": [
          "2025-04-28T00:00:00",
          "2025-05-05T00:00:00",
          "2025-05-12T00:00:00",
          "2025-05-19T00:00:00",
          "2025-05-26T00:00:00",
          "2025-06-02T00:00:00"
         ],
         "xaxis": "x2",
         "y": [
          4.285714285702852,
          4.771428571424622,
          5.257142857139115,
          5.742857142860885,
          6.228571428575378,
          6.714285714297148
         ],
         "yaxis": "y2"
        },
        {
         "hoverinfo": "name+x+y",
         "legendgroup": "PESTO CHICKEN BOWL",
         "mode": "lines+markers",
         "name": "PESTO CHICKEN BOWL",
         "showlegend": true,
         "type": "scatter",
         "x": [
          "2025-04-28T00:00:00",
          "2025-05-05T00:00:00",
          "2025-05-12T00:00:00",
          "2025-05-19T00:00:00",
          "2025-05-26T00:00:00",
          "2025-06-02T00:00:00"
         ],
         "xaxis": "x2",
         "y": [
          8,
          5,
          3,
          6,
          11,
          10
         ],
         "yaxis": "y2"
        },
        {
         "hoverinfo": "none",
         "line": {
          "color": "green",
          "dash": "dash"
         },
         "mode": "lines",
         "showlegend": false,
         "type": "scatter",
         "x": [
          "2025-04-28T00:00:00",
          "2025-05-05T00:00:00",
          "2025-05-12T00:00:00",
          "2025-05-19T00:00:00",
          "2025-05-26T00:00:00",
          "2025-06-02T00:00:00"
         ],
         "xaxis": "x2",
         "y": [
          4.9523809523525415,
          5.83809523806849,
          6.723809523784439,
          7.60952380951494,
          8.495238095230889,
          9.38095238096139
         ],
         "yaxis": "y2"
        },
        {
         "hoverinfo": "name+x+y",
         "legendgroup": "BLUE MAGIC",
         "mode": "lines+markers",
         "name": "BLUE MAGIC",
         "showlegend": true,
         "type": "scatter",
         "x": [
          "2025-04-28T00:00:00",
          "2025-05-05T00:00:00",
          "2025-05-12T00:00:00",
          "2025-05-19T00:00:00",
          "2025-05-26T00:00:00",
          "2025-06-02T00:00:00"
         ],
         "xaxis": "x3",
         "y": [
          9,
          2,
          6,
          12,
          20,
          16
         ],
         "yaxis": "y3"
        },
        {
         "hoverinfo": "none",
         "line": {
          "color": "green",
          "dash": "dash"
         },
         "mode": "lines",
         "showlegend": false,
         "type": "scatter",
         "x": [
          "2025-04-28T00:00:00",
          "2025-05-05T00:00:00",
          "2025-05-12T00:00:00",
          "2025-05-19T00:00:00",
          "2025-05-26T00:00:00",
          "2025-06-02T00:00:00"
         ],
         "xaxis": "x3",
         "y": [
          4.047619047574699,
          6.761904761835467,
          9.476190476154443,
          12.190476190473419,
          14.904761904792394,
          17.619047619053163
         ],
         "yaxis": "y3"
        },
        {
         "hoverinfo": "name+x+y",
         "legendgroup": "CARROT CAKE",
         "mode": "lines+markers",
         "name": "CARROT CAKE",
         "showlegend": true,
         "type": "scatter",
         "x": [
          "2025-04-28T00:00:00",
          "2025-05-05T00:00:00",
          "2025-05-12T00:00:00",
          "2025-05-19T00:00:00",
          "2025-05-26T00:00:00",
          "2025-06-02T00:00:00"
         ],
         "xaxis": "x3",
         "y": [
          17,
          10,
          20,
          28,
          18,
          20
         ],
         "yaxis": "y3"
        },
        {
         "hoverinfo": "none",
         "line": {
          "color": "green",
          "dash": "dash"
         },
         "mode": "lines",
         "showlegend": false,
         "type": "scatter",
         "x": [
          "2025-04-28T00:00:00",
          "2025-05-05T00:00:00",
          "2025-05-12T00:00:00",
          "2025-05-19T00:00:00",
          "2025-05-26T00:00:00",
          "2025-06-02T00:00:00"
         ],
         "xaxis": "x3",
         "y": [
          15.476190476154443,
          16.819047619006597,
          18.16190476185875,
          19.504761904710904,
          20.847619047563057,
          22.190476190444315
         ],
         "yaxis": "y3"
        },
        {
         "hoverinfo": "name+x+y",
         "legendgroup": "PARADISE ACAI BOWL",
         "mode": "lines+markers",
         "name": "PARADISE ACAI BOWL",
         "showlegend": false,
         "type": "scatter",
         "x": [
          "2025-04-28T00:00:00",
          "2025-05-05T00:00:00",
          "2025-05-12T00:00:00",
          "2025-05-19T00:00:00",
          "2025-05-26T00:00:00",
          "2025-06-02T00:00:00"
         ],
         "xaxis": "x3",
         "y": [
          17,
          13,
          41,
          20,
          31,
          31
         ],
         "yaxis": "y3"
        },
        {
         "hoverinfo": "none",
         "line": {
          "color": "green",
          "dash": "dash"
         },
         "mode": "lines",
         "showlegend": false,
         "type": "scatter",
         "x": [
          "2025-04-28T00:00:00",
          "2025-05-05T00:00:00",
          "2025-05-12T00:00:00",
          "2025-05-19T00:00:00",
          "2025-05-26T00:00:00",
          "2025-06-02T00:00:00"
         ],
         "xaxis": "x3",
         "y": [
          18.142857142782304,
          21.085714285669383,
          24.02857142855646,
          26.97142857138533,
          29.91428571427241,
          32.85714285715949
         ],
         "yaxis": "y3"
        },
        {
         "hoverinfo": "name+x+y",
         "legendgroup": "SKINNY GREEN",
         "mode": "lines+markers",
         "name": "SKINNY GREEN",
         "showlegend": true,
         "type": "scatter",
         "x": [
          "2025-04-28T00:00:00",
          "2025-05-05T00:00:00",
          "2025-05-12T00:00:00",
          "2025-05-19T00:00:00",
          "2025-05-26T00:00:00",
          "2025-06-02T00:00:00"
         ],
         "xaxis": "x3",
         "y": [
          15,
          15,
          8,
          23,
          20,
          19
         ],
         "yaxis": "y3"
        },
        {
         "hoverinfo": "none",
         "line": {
          "color": "green",
          "dash": "dash"
         },
         "mode": "lines",
         "showlegend": false,
         "type": "scatter",
         "x": [
          "2025-04-28T00:00:00",
          "2025-05-05T00:00:00",
          "2025-05-12T00:00:00",
          "2025-05-19T00:00:00",
          "2025-05-26T00:00:00",
          "2025-06-02T00:00:00"
         ],
         "xaxis": "x3",
         "y": [
          13.095238095207606,
          14.52380952378735,
          15.952380952367093,
          17.380952380946837,
          18.80952380952658,
          20.238095238106325
         ],
         "yaxis": "y3"
        },
        {
         "hoverinfo": "name+x+y",
         "legendgroup": "ULTIMATE CROISSANT EGGWICH",
         "mode": "lines+markers",
         "name": "ULTIMATE CROISSANT EGGWICH",
         "showlegend": true,
         "type": "scatter",
         "x": [
          "2025-04-28T00:00:00",
          "2025-05-12T00:00:00",
          "2025-05-19T00:00:00",
          "2025-05-26T00:00:00",
          "2025-06-02T00:00:00"
         ],
         "xaxis": "x3",
         "y": [
          2,
          2,
          3,
          6,
          7
         ],
         "yaxis": "y3"
        },
        {
         "hoverinfo": "none",
         "line": {
          "color": "green",
          "dash": "dash"
         },
         "mode": "lines",
         "showlegend": false,
         "type": "scatter",
         "x": [
          "2025-04-28T00:00:00",
          "2025-05-12T00:00:00",
          "2025-05-19T00:00:00",
          "2025-05-26T00:00:00",
          "2025-06-02T00:00:00"
         ],
         "xaxis": "x3",
         "y": [
          0.9729729729442624,
          3.1351351351186167,
          4.216216216198518,
          5.297297297278419,
          6.378378378372872
         ],
         "yaxis": "y3"
        },
        {
         "hoverinfo": "name+x+y",
         "legendgroup": "BLUE MAGIC",
         "mode": "lines+markers",
         "name": "BLUE MAGIC",
         "showlegend": false,
         "type": "scatter",
         "x": [
          "2025-04-28T00:00:00",
          "2025-05-05T00:00:00",
          "2025-05-12T00:00:00",
          "2025-05-19T00:00:00",
          "2025-05-26T00:00:00",
          "2025-06-02T00:00:00"
         ],
         "xaxis": "x4",
         "y": [
          3,
          6,
          5,
          5,
          7,
          8
         ],
         "yaxis": "y4"
        },
        {
         "hoverinfo": "none",
         "line": {
          "color": "green",
          "dash": "dash"
         },
         "mode": "lines",
         "showlegend": false,
         "type": "scatter",
         "x": [
          "2025-04-28T00:00:00",
          "2025-05-05T00:00:00",
          "2025-05-12T00:00:00",
          "2025-05-19T00:00:00",
          "2025-05-26T00:00:00",
          "2025-06-02T00:00:00"
         ],
         "xaxis": "x4",
         "y": [
          3.6666666666569654,
          4.466666666659876,
          5.266666666662786,
          6.0666666666656965,
          6.866666666668607,
          7.666666666671517
         ],
         "yaxis": "y4"
        },
        {
         "hoverinfo": "name+x+y",
         "legendgroup": "Cilantro-Lime Dressing",
         "mode": "lines+markers",
         "name": "Cilantro-Lime Dressing",
         "showlegend": true,
         "type": "scatter",
         "x": [
          "2025-04-28T00:00:00",
          "2025-05-05T00:00:00",
          "2025-05-12T00:00:00",
          "2025-05-19T00:00:00",
          "2025-05-26T00:00:00",
          "2025-06-02T00:00:00"
         ],
         "xaxis": "x4",
         "y": [
          6,
          4,
          7,
          7,
          7,
          13
         ],
         "yaxis": "y4"
        },
        {
         "hoverinfo": "none",
         "line": {
          "color": "green",
          "dash": "dash"
         },
         "mode": "lines",
         "showlegend": false,
         "type": "scatter",
         "x": [
          "2025-04-28T00:00:00",
          "2025-05-05T00:00:00",
          "2025-05-12T00:00:00",
          "2025-05-19T00:00:00",
          "2025-05-26T00:00:00",
          "2025-06-02T00:00:00"
         ],
         "xaxis": "x4",
         "y": [
          4.190476190444315,
          5.447619047568878,
          6.704761904722545,
          7.961904761876212,
          9.21904761902988,
          10.476190476183547
         ],
         "yaxis": "y4"
        },
        {
         "hoverinfo": "name+x+y",
         "legendgroup": "LA MEXICANA",
         "mode": "lines+markers",
         "name": "LA MEXICANA",
         "showlegend": false,
         "type": "scatter",
         "x": [
          "2025-04-28T00:00:00",
          "2025-05-05T00:00:00",
          "2025-05-12T00:00:00",
          "2025-05-19T00:00:00",
          "2025-05-26T00:00:00"
         ],
         "xaxis": "x4",
         "y": [
          2,
          2,
          7,
          4,
          5
         ],
         "yaxis": "y4"
        },
        {
         "hoverinfo": "none",
         "line": {
          "color": "green",
          "dash": "dash"
         },
         "mode": "lines",
         "showlegend": false,
         "type": "scatter",
         "x": [
          "2025-04-28T00:00:00",
          "2025-05-05T00:00:00",
          "2025-05-12T00:00:00",
          "2025-05-19T00:00:00",
          "2025-05-26T00:00:00"
         ],
         "xaxis": "x4",
         "y": [
          2.400000000066939,
          3.200000000069849,
          4.000000000058208,
          4.800000000046566,
          5.6000000000494765
         ],
         "yaxis": "y4"
        },
        {
         "hoverinfo": "name+x+y",
         "legendgroup": "MIAMI VEGAN BOWL",
         "mode": "lines+markers",
         "name": "MIAMI VEGAN BOWL",
         "showlegend": true,
         "type": "scatter",
         "x": [
          "2025-04-28T00:00:00",
          "2025-05-05T00:00:00",
          "2025-05-12T00:00:00",
          "2025-05-19T00:00:00",
          "2025-05-26T00:00:00",
          "2025-06-02T00:00:00"
         ],
         "xaxis": "x4",
         "y": [
          4,
          3,
          6,
          2,
          12,
          8
         ],
         "yaxis": "y4"
        },
        {
         "hoverinfo": "none",
         "line": {
          "color": "green",
          "dash": "dash"
         },
         "mode": "lines",
         "showlegend": false,
         "type": "scatter",
         "x": [
          "2025-04-28T00:00:00",
          "2025-05-05T00:00:00",
          "2025-05-12T00:00:00",
          "2025-05-19T00:00:00",
          "2025-05-26T00:00:00",
          "2025-06-02T00:00:00"
         ],
         "xaxis": "x4",
         "y": [
          2.761904761879123,
          3.990476190461777,
          5.2190476190444315,
          6.447619047612534,
          7.676190476195188,
          8.904761904777843
         ],
         "yaxis": "y4"
        },
        {
         "hoverinfo": "name+x+y",
         "legendgroup": "SWEET POTATO W/GRILLED CHICKEN",
         "mode": "lines+markers",
         "name": "SWEET POTATO W/GRILLED CHICKEN",
         "showlegend": true,
         "type": "scatter",
         "x": [
          "2025-04-28T00:00:00",
          "2025-05-05T00:00:00",
          "2025-05-12T00:00:00",
          "2025-05-19T00:00:00",
          "2025-05-26T00:00:00",
          "2025-06-02T00:00:00"
         ],
         "xaxis": "x4",
         "y": [
          1,
          2,
          4,
          2,
          11,
          3
         ],
         "yaxis": "y4"
        },
        {
         "hoverinfo": "none",
         "line": {
          "color": "green",
          "dash": "dash"
         },
         "mode": "lines",
         "showlegend": false,
         "type": "scatter",
         "x": [
          "2025-04-28T00:00:00",
          "2025-05-05T00:00:00",
          "2025-05-12T00:00:00",
          "2025-05-19T00:00:00",
          "2025-05-26T00:00:00",
          "2025-06-02T00:00:00"
         ],
         "xaxis": "x4",
         "y": [
          1.3333333333139308,
          2.333333333313931,
          3.3333333333284827,
          4.333333333328483,
          5.333333333328483,
          6.333333333343035
         ],
         "yaxis": "y4"
        },
        {
         "hoverinfo": "name+x+y",
         "legendgroup": "BLUE MAGIC",
         "mode": "lines+markers",
         "name": "BLUE MAGIC",
         "showlegend": false,
         "type": "scatter",
         "x": [
          "2025-05-12T00:00:00",
          "2025-05-19T00:00:00",
          "2025-05-26T00:00:00"
         ],
         "xaxis": "x5",
         "y": [
          1,
          2,
          2
         ],
         "yaxis": "y5"
        },
        {
         "hoverinfo": "none",
         "line": {
          "color": "green",
          "dash": "dash"
         },
         "mode": "lines",
         "showlegend": false,
         "type": "scatter",
         "x": [
          "2025-05-12T00:00:00",
          "2025-05-19T00:00:00",
          "2025-05-26T00:00:00"
         ],
         "xaxis": "x5",
         "y": [
          1.1666666666787933,
          1.6666666666787933,
          2.1666666666787933
         ],
         "yaxis": "y5"
        },
        {
         "hoverinfo": "name+x+y",
         "legendgroup": "CHOCOLATE CHUNK WALNUT COOKIE",
         "mode": "lines+markers",
         "name": "CHOCOLATE CHUNK WALNUT COOKIE",
         "showlegend": true,
         "type": "scatter",
         "x": [
          "2025-05-12T00:00:00",
          "2025-05-19T00:00:00",
          "2025-05-26T00:00:00"
         ],
         "xaxis": "x5",
         "y": [
          1,
          3,
          3
         ],
         "yaxis": "y5"
        },
        {
         "hoverinfo": "none",
         "line": {
          "color": "green",
          "dash": "dash"
         },
         "mode": "lines",
         "showlegend": false,
         "type": "scatter",
         "x": [
          "2025-05-12T00:00:00",
          "2025-05-19T00:00:00",
          "2025-05-26T00:00:00"
         ],
         "xaxis": "x5",
         "y": [
          1.3333333333721384,
          2.3333333333721384,
          3.3333333333575865
         ],
         "yaxis": "y5"
        },
        {
         "hoverinfo": "name+x+y",
         "legendgroup": "HEALTHY BURGER BOWL",
         "mode": "lines+markers",
         "name": "HEALTHY BURGER BOWL",
         "showlegend": true,
         "type": "scatter",
         "x": [
          "2025-04-28T00:00:00",
          "2025-05-05T00:00:00",
          "2025-05-12T00:00:00",
          "2025-05-19T00:00:00"
         ],
         "xaxis": "x5",
         "y": [
          1,
          1,
          1,
          3
         ],
         "yaxis": "y5"
        },
        {
         "hoverinfo": "none",
         "line": {
          "color": "green",
          "dash": "dash"
         },
         "mode": "lines",
         "showlegend": false,
         "type": "scatter",
         "x": [
          "2025-04-28T00:00:00",
          "2025-05-05T00:00:00",
          "2025-05-12T00:00:00",
          "2025-05-19T00:00:00"
         ],
         "xaxis": "x5",
         "y": [
          0.5999999999767169,
          1.1999999999898137,
          1.7999999999956344,
          2.400000000008731
         ],
         "yaxis": "y5"
        },
        {
         "hoverinfo": "name+x+y",
         "legendgroup": "LEGAL WRAP",
         "mode": "lines+markers",
         "name": "LEGAL WRAP",
         "showlegend": true,
         "type": "scatter",
         "x": [
          "2025-04-28T00:00:00",
          "2025-05-05T00:00:00",
          "2025-05-12T00:00:00",
          "2025-05-19T00:00:00",
          "2025-05-26T00:00:00",
          "2025-06-02T00:00:00"
         ],
         "xaxis": "x5",
         "y": [
          3,
          6,
          2,
          2,
          10,
          3
         ],
         "yaxis": "y5"
        },
        {
         "hoverinfo": "none",
         "line": {
          "color": "green",
          "dash": "dash"
         },
         "mode": "lines",
         "showlegend": false,
         "type": "scatter",
         "x": [
          "2025-04-28T00:00:00",
          "2025-05-05T00:00:00",
          "2025-05-12T00:00:00",
          "2025-05-19T00:00:00",
          "2025-05-26T00:00:00",
          "2025-06-02T00:00:00"
         ],
         "xaxis": "x5",
         "y": [
          3.4761904761762707,
          3.8190476190429763,
          4.161904761902406,
          4.5047619047618355,
          4.847619047621265,
          5.190476190480695
         ],
         "yaxis": "y5"
        },
        {
         "hoverinfo": "name+x+y",
         "legendgroup": "MARIO'S FAVORITE CHICKEN BOWL",
         "mode": "lines+markers",
         "name": "MARIO'S FAVORITE CHICKEN BOWL",
         "showlegend": true,
         "type": "scatter",
         "x": [
          "2025-04-28T00:00:00",
          "2025-05-12T00:00:00",
          "2025-05-26T00:00:00"
         ],
         "xaxis": "x5",
         "y": [
          1,
          1,
          5
         ],
         "yaxis": "y5"
        },
        {
         "hoverinfo": "none",
         "line": {
          "color": "green",
          "dash": "dash"
         },
         "mode": "lines",
         "showlegend": false,
         "type": "scatter",
         "x": [
          "2025-04-28T00:00:00",
          "2025-05-12T00:00:00",
          "2025-05-26T00:00:00"
         ],
         "xaxis": "x5",
         "y": [
          0.3333333333430346,
          2.3333333333284827,
          4.333333333299379
         ],
         "yaxis": "y5"
        },
        {
         "hoverinfo": "name+x+y",
         "legendgroup": "CHICKEN CAESAR WRAP",
         "mode": "lines+markers",
         "name": "CHICKEN CAESAR WRAP",
         "showlegend": true,
         "type": "scatter",
         "x": [
          "2025-05-05T00:00:00",
          "2025-05-12T00:00:00",
          "2025-05-26T00:00:00"
         ],
         "xaxis": "x6",
         "y": [
          2,
          1,
          2
         ],
         "yaxis": "y6"
        },
        {
         "hoverinfo": "none",
         "line": {
          "color": "green",
          "dash": "dash"
         },
         "mode": "lines",
         "showlegend": false,
         "type": "scatter",
         "x": [
          "2025-05-05T00:00:00",
          "2025-05-12T00:00:00",
          "2025-05-26T00:00:00"
         ],
         "xaxis": "x6",
         "y": [
          1.5714285714302605,
          1.642857142858702,
          1.7857142857146755
         ],
         "yaxis": "y6"
        },
        {
         "hoverinfo": "name+x+y",
         "legendgroup": "PLANTAIN CHIPS",
         "mode": "lines+markers",
         "name": "PLANTAIN CHIPS",
         "showlegend": true,
         "type": "scatter",
         "x": [
          "2025-04-28T00:00:00",
          "2025-05-05T00:00:00",
          "2025-05-12T00:00:00",
          "2025-05-19T00:00:00",
          "2025-06-02T00:00:00"
         ],
         "xaxis": "x6",
         "y": [
          4,
          2,
          2,
          4,
          4
         ],
         "yaxis": "y6"
        },
        {
         "hoverinfo": "none",
         "line": {
          "color": "green",
          "dash": "dash"
         },
         "mode": "lines",
         "showlegend": false,
         "type": "scatter",
         "x": [
          "2025-04-28T00:00:00",
          "2025-05-05T00:00:00",
          "2025-05-12T00:00:00",
          "2025-05-19T00:00:00",
          "2025-06-02T00:00:00"
         ],
         "xaxis": "x6",
         "y": [
          2.783783783776016,
          2.9729729729697283,
          3.1621621621598024,
          3.3513513513498765,
          3.7297297297336627
         ],
         "yaxis": "y6"
        },
        {
         "hoverinfo": "name+x+y",
         "legendgroup": "CRUNCHY AVOCADO TOAST",
         "mode": "lines+markers",
         "name": "CRUNCHY AVOCADO TOAST",
         "showlegend": true,
         "type": "scatter",
         "x": [
          "2025-04-28T00:00:00",
          "2025-05-05T00:00:00",
          "2025-05-12T00:00:00",
          "2025-05-19T00:00:00"
         ],
         "xaxis": "x7",
         "y": [
          2,
          2,
          1,
          5
         ],
         "yaxis": "y7"
        },
        {
         "hoverinfo": "none",
         "line": {
          "color": "green",
          "dash": "dash"
         },
         "mode": "lines",
         "showlegend": false,
         "type": "scatter",
         "x": [
          "2025-04-28T00:00:00",
          "2025-05-05T00:00:00",
          "2025-05-12T00:00:00",
          "2025-05-19T00:00:00"
         ],
         "xaxis": "x7",
         "y": [
          1.2999999999738066,
          2.099999999991269,
          2.900000000008731,
          3.7000000000116415
         ],
         "yaxis": "y7"
        },
        {
         "hoverinfo": "name+x+y",
         "legendgroup": "GREEN GODDESS SALAD",
         "mode": "lines+markers",
         "name": "GREEN GODDESS SALAD",
         "showlegend": true,
         "type": "scatter",
         "x": [
          "2025-04-28T00:00:00",
          "2025-05-19T00:00:00",
          "2025-05-26T00:00:00",
          "2025-06-02T00:00:00"
         ],
         "xaxis": "x7",
         "y": [
          1,
          2,
          3,
          10
         ],
         "yaxis": "y7"
        },
        {
         "hoverinfo": "none",
         "line": {
          "color": "green",
          "dash": "dash"
         },
         "mode": "lines",
         "showlegend": false,
         "type": "scatter",
         "x": [
          "2025-04-28T00:00:00",
          "2025-05-19T00:00:00",
          "2025-05-26T00:00:00",
          "2025-06-02T00:00:00"
         ],
         "xaxis": "x7",
         "y": [
          -0.28571428556460887,
          4.000000000058208,
          5.428571428608848,
          6.857142857130384
         ],
         "yaxis": "y7"
        },
        {
         "hoverinfo": "name+x+y",
         "legendgroup": "HUEVOS RANCHEROS BURRITO",
         "mode": "lines+markers",
         "name": "HUEVOS RANCHEROS BURRITO",
         "showlegend": true,
         "type": "scatter",
         "x": [
          "2025-04-28T00:00:00",
          "2025-05-05T00:00:00",
          "2025-05-26T00:00:00",
          "2025-06-02T00:00:00"
         ],
         "xaxis": "x7",
         "y": [
          2,
          2,
          3,
          12
         ],
         "yaxis": "y7"
        },
        {
         "hoverinfo": "none",
         "line": {
          "color": "green",
          "dash": "dash"
         },
         "mode": "lines",
         "showlegend": false,
         "type": "scatter",
         "x": [
          "2025-04-28T00:00:00",
          "2025-05-05T00:00:00",
          "2025-05-26T00:00:00",
          "2025-06-02T00:00:00"
         ],
         "xaxis": "x7",
         "y": [
          0.8529411765921395,
          2.4117647059902083,
          7.088235294184415,
          8.647058823582483
         ],
         "yaxis": "y7"
        },
        {
         "hoverinfo": "name+x+y",
         "legendgroup": "LENTIL & KALE SOUP",
         "mode": "lines+markers",
         "name": "LENTIL & KALE SOUP",
         "showlegend": true,
         "type": "scatter",
         "x": [
          "2025-05-05T00:00:00",
          "2025-05-19T00:00:00",
          "2025-06-02T00:00:00"
         ],
         "xaxis": "x7",
         "y": [
          1,
          2,
          5
         ],
         "yaxis": "y7"
        },
        {
         "hoverinfo": "none",
         "line": {
          "color": "green",
          "dash": "dash"
         },
         "mode": "lines",
         "showlegend": false,
         "type": "scatter",
         "x": [
          "2025-05-05T00:00:00",
          "2025-05-19T00:00:00",
          "2025-06-02T00:00:00"
         ],
         "xaxis": "x7",
         "y": [
          0.6666666667006211,
          2.666666666686069,
          4.666666666671517
         ],
         "yaxis": "y7"
        },
        {
         "hoverinfo": "name+x+y",
         "legendgroup": "LIV WRAP",
         "mode": "lines+markers",
         "name": "LIV WRAP",
         "showlegend": false,
         "type": "scatter",
         "x": [
          "2025-04-28T00:00:00",
          "2025-05-05T00:00:00",
          "2025-05-12T00:00:00",
          "2025-05-19T00:00:00",
          "2025-05-26T00:00:00",
          "2025-06-02T00:00:00"
         ],
         "xaxis": "x7",
         "y": [
          1,
          3,
          2,
          1,
          14,
          42
         ],
         "yaxis": "y7"
        },
        {
         "hoverinfo": "none",
         "line": {
          "color": "green",
          "dash": "dash"
         },
         "mode": "lines",
         "showlegend": false,
         "type": "scatter",
         "x": [
          "2025-04-28T00:00:00",
          "2025-05-05T00:00:00",
          "2025-05-12T00:00:00",
          "2025-05-19T00:00:00",
          "2025-05-26T00:00:00",
          "2025-06-02T00:00:00"
         ],
         "xaxis": "x7",
         "y": [
          -6.428571428754367,
          0.34285714279394597,
          7.1142857142258435,
          13.885714285657741,
          20.657142857206054,
          27.42857142863795
         ],
         "yaxis": "y7"
        },
        {
         "hoverinfo": "name+x+y",
         "legendgroup": "Cilantro-Lime Dressing",
         "mode": "lines+markers",
         "name": "Cilantro-Lime Dressing",
         "showlegend": false,
         "type": "scatter",
         "x": [
          "2025-04-28T00:00:00",
          "2025-05-05T00:00:00",
          "2025-05-12T00:00:00",
          "2025-05-19T00:00:00",
          "2025-05-26T00:00:00",
          "2025-06-02T00:00:00"
         ],
         "xaxis": "x8",
         "y": [
          25,
          7,
          23,
          17,
          30,
          33
         ],
         "yaxis": "y8"
        },
        {
         "hoverinfo": "none",
         "line": {
          "color": "green",
          "dash": "dash"
         },
         "mode": "lines",
         "showlegend": false,
         "type": "scatter",
         "x": [
          "2025-04-28T00:00:00",
          "2025-05-05T00:00:00",
          "2025-05-12T00:00:00",
          "2025-05-19T00:00:00",
          "2025-05-26T00:00:00",
          "2025-06-02T00:00:00"
         ],
         "xaxis": "x8",
         "y": [
          15.142857142782304,
          18.085714285611175,
          21.028571428498253,
          23.97142857138533,
          26.91428571427241,
          29.857142857159488
         ],
         "yaxis": "y8"
        },
        {
         "hoverinfo": "name+x+y",
         "legendgroup": "HOMEMADE VEGAN BANANA BREAD",
         "mode": "lines+markers",
         "name": "HOMEMADE VEGAN BANANA BREAD",
         "showlegend": true,
         "type": "scatter",
         "x": [
          "2025-04-28T00:00:00",
          "2025-05-05T00:00:00",
          "2025-05-12T00:00:00",
          "2025-05-19T00:00:00",
          "2025-05-26T00:00:00",
          "2025-06-02T00:00:00"
         ],
         "xaxis": "x8",
         "y": [
          12,
          12,
          25,
          13,
          29,
          45
         ],
         "yaxis": "y8"
        },
        {
         "hoverinfo": "none",
         "line": {
          "color": "green",
          "dash": "dash"
         },
         "mode": "lines",
         "showlegend": false,
         "type": "scatter",
         "x": [
          "2025-04-28T00:00:00",
          "2025-05-05T00:00:00",
          "2025-05-12T00:00:00",
          "2025-05-19T00:00:00",
          "2025-05-26T00:00:00",
          "2025-06-02T00:00:00"
         ],
         "xaxis": "x8",
         "y": [
          8.095238095149398,
          13.923809523810633,
          19.752380952355452,
          25.580952381016687,
          31.409523809561506,
          37.23809523822274
         ],
         "yaxis": "y8"
        },
        {
         "hoverinfo": "name+x+y",
         "legendgroup": "HUEVOS RANCHEROS BURRITO",
         "mode": "lines+markers",
         "name": "HUEVOS RANCHEROS BURRITO",
         "showlegend": false,
         "type": "scatter",
         "x": [
          "2025-04-28T00:00:00",
          "2025-05-05T00:00:00",
          "2025-05-12T00:00:00",
          "2025-05-19T00:00:00",
          "2025-05-26T00:00:00",
          "2025-06-02T00:00:00"
         ],
         "xaxis": "x8",
         "y": [
          13,
          9,
          13,
          10,
          26,
          41
         ],
         "yaxis": "y8"
        },
        {
         "hoverinfo": "none",
         "line": {
          "color": "green",
          "dash": "dash"
         },
         "mode": "lines",
         "showlegend": false,
         "type": "scatter",
         "x": [
          "2025-04-28T00:00:00",
          "2025-05-05T00:00:00",
          "2025-05-12T00:00:00",
          "2025-05-19T00:00:00",
          "2025-05-26T00:00:00",
          "2025-06-02T00:00:00"
         ],
         "xaxis": "x8",
         "y": [
          5.238095237757079,
          10.60952380928211,
          15.980952380807139,
          21.352380952215753,
          26.723809523740783,
          32.0952380951494
         ],
         "yaxis": "y8"
        },
        {
         "hoverinfo": "name+x+y",
         "legendgroup": "LIV WRAP",
         "mode": "lines+markers",
         "name": "LIV WRAP",
         "showlegend": false,
         "type": "scatter",
         "x": [
          "2025-04-28T00:00:00",
          "2025-05-05T00:00:00",
          "2025-05-12T00:00:00",
          "2025-05-19T00:00:00",
          "2025-05-26T00:00:00",
          "2025-06-02T00:00:00"
         ],
         "xaxis": "x8",
         "y": [
          16,
          18,
          18,
          18,
          33,
          75
         ],
         "yaxis": "y8"
        },
        {
         "hoverinfo": "none",
         "line": {
          "color": "green",
          "dash": "dash"
         },
         "mode": "lines",
         "showlegend": false,
         "type": "scatter",
         "x": [
          "2025-04-28T00:00:00",
          "2025-05-05T00:00:00",
          "2025-05-12T00:00:00",
          "2025-05-19T00:00:00",
          "2025-05-26T00:00:00",
          "2025-06-02T00:00:00"
         ],
         "xaxis": "x8",
         "y": [
          5.380952380714007,
          15.095238095149398,
          24.809523809468374,
          34.523809523903765,
          44.23809523822274,
          53.952380952541716
         ],
         "yaxis": "y8"
        },
        {
         "hoverinfo": "name+x+y",
         "legendgroup": "THE EXPRESS BOWL \"create your own\"",
         "mode": "lines+markers",
         "name": "THE EXPRESS BOWL \"create your own\"",
         "showlegend": true,
         "type": "scatter",
         "x": [
          "2025-04-28T00:00:00",
          "2025-05-05T00:00:00",
          "2025-05-12T00:00:00",
          "2025-05-19T00:00:00",
          "2025-05-26T00:00:00",
          "2025-06-02T00:00:00"
         ],
         "xaxis": "x8",
         "y": [
          15,
          16,
          16,
          12,
          19,
          34
         ],
         "yaxis": "y8"
        },
        {
         "hoverinfo": "none",
         "line": {
          "color": "green",
          "dash": "dash"
         },
         "mode": "lines",
         "showlegend": false,
         "type": "scatter",
         "x": [
          "2025-04-28T00:00:00",
          "2025-05-05T00:00:00",
          "2025-05-12T00:00:00",
          "2025-05-19T00:00:00",
          "2025-05-26T00:00:00",
          "2025-06-02T00:00:00"
         ],
         "xaxis": "x8",
         "y": [
          11.523809523729142,
          14.38095238088863,
          17.238095238106325,
          20.095238095265813,
          22.9523809524253,
          25.80952380958479
         ],
         "yaxis": "y8"
        },
        {
         "hoverinfo": "name+x+y",
         "legendgroup": "SKINNY GREEN",
         "mode": "lines+markers",
         "name": "SKINNY GREEN",
         "showlegend": false,
         "type": "scatter",
         "x": [
          "2025-04-28T00:00:00",
          "2025-05-12T00:00:00",
          "2025-05-19T00:00:00"
         ],
         "xaxis": "x9",
         "y": [
          1,
          3,
          1
         ],
         "yaxis": "y9"
        },
        {
         "hoverinfo": "none",
         "line": {
          "color": "green",
          "dash": "dash"
         },
         "mode": "lines",
         "showlegend": false,
         "type": "scatter",
         "x": [
          "2025-04-28T00:00:00",
          "2025-05-12T00:00:00",
          "2025-05-19T00:00:00"
         ],
         "xaxis": "x9",
         "y": [
          1.428571428574287,
          1.714285714291691,
          1.857142857150393
         ],
         "yaxis": "y9"
        }
       ],
       "layout": {
        "annotations": [
         {
          "font": {
           "size": 16
          },
          "showarrow": false,
          "text": "963280 — Google Online Ordering",
          "x": 0.04666666666666666,
          "xanchor": "center",
          "xref": "paper",
          "y": 1,
          "yanchor": "bottom",
          "yref": "paper"
         },
         {
          "font": {
           "size": 16
          },
          "showarrow": false,
          "text": "963280 — Dine In",
          "x": 0.16,
          "xanchor": "center",
          "xref": "paper",
          "y": 1,
          "yanchor": "bottom",
          "yref": "paper"
         },
         {
          "font": {
           "size": 16
          },
          "showarrow": false,
          "text": "963280 — Take Out",
          "x": 0.2733333333333333,
          "xanchor": "center",
          "xref": "paper",
          "y": 1,
          "yanchor": "bottom",
          "yref": "paper"
         },
         {
          "font": {
           "size": 16
          },
          "showarrow": false,
          "text": "963280 — Online-Pickup",
          "x": 0.3866666666666666,
          "xanchor": "center",
          "xref": "paper",
          "y": 1,
          "yanchor": "bottom",
          "yref": "paper"
         },
         {
          "font": {
           "size": 16
          },
          "showarrow": false,
          "text": "963280 — Online-Dispatch",
          "x": 0.5,
          "xanchor": "center",
          "xref": "paper",
          "y": 1,
          "yanchor": "bottom",
          "yref": "paper"
         },
         {
          "font": {
           "size": 16
          },
          "showarrow": false,
          "text": "963280 — TimeShark (Pickup)",
          "x": 0.6133333333333333,
          "xanchor": "center",
          "xref": "paper",
          "y": 1,
          "yanchor": "bottom",
          "yref": "paper"
         },
         {
          "font": {
           "size": 16
          },
          "showarrow": false,
          "text": "963280 — UEats-Pickup",
          "x": 0.7266666666666666,
          "xanchor": "center",
          "xref": "paper",
          "y": 1,
          "yanchor": "bottom",
          "yref": "paper"
         },
         {
          "font": {
           "size": 16
          },
          "showarrow": false,
          "text": "963280 — UEats-Delivery",
          "x": 0.8400000000000001,
          "xanchor": "center",
          "xref": "paper",
          "y": 1,
          "yanchor": "bottom",
          "yref": "paper"
         },
         {
          "font": {
           "size": 16
          },
          "showarrow": false,
          "text": "963280 — Telephone-Pickup",
          "x": 0.9533333333333334,
          "xanchor": "center",
          "xref": "paper",
          "y": 1,
          "yanchor": "bottom",
          "yref": "paper"
         },
         {
          "bgcolor": "rgba(255,255,255,0.7)",
          "font": {
           "color": "black",
           "size": 9
          },
          "showarrow": false,
          "text": "ALM_0.03",
          "x": "2025-05-05T00:00:00",
          "xanchor": "left",
          "xref": "x",
          "y": 1.6538461538366391,
          "yanchor": "top",
          "yref": "y"
         },
         {
          "bgcolor": "rgba(255,255,255,0.7)",
          "font": {
           "color": "black",
           "size": 9
          },
          "showarrow": false,
          "text": "CHI_0.06",
          "x": "2025-05-05T00:00:00",
          "xanchor": "left",
          "xref": "x",
          "y": 3.400000000016007,
          "yanchor": "top",
          "yref": "y"
         },
         {
          "bgcolor": "rgba(255,255,255,0.7)",
          "font": {
           "color": "black",
           "size": 9
          },
          "showarrow": false,
          "text": "CRI_0.05",
          "x": "2025-04-28T00:00:00",
          "xanchor": "left",
          "xref": "x",
          "y": 1.928571428572468,
          "yanchor": "top",
          "yref": "y"
         },
         {
          "bgcolor": "rgba(255,255,255,0.7)",
          "font": {
           "color": "black",
           "size": 9
          },
          "showarrow": false,
          "text": "LIV_0.06",
          "x": "2025-04-28T00:00:00",
          "xanchor": "left",
          "xref": "x",
          "y": 2.571428571427532,
          "yanchor": "top",
          "yref": "y"
         },
         {
          "bgcolor": "rgba(255,255,255,0.7)",
          "font": {
           "color": "black",
           "size": 9
          },
          "showarrow": false,
          "text": "PAR_0.03",
          "x": "2025-04-28T00:00:00",
          "xanchor": "left",
          "xref": "x",
          "y": 2.600000000002183,
          "yanchor": "top",
          "yref": "y"
         },
         {
          "bgcolor": "rgba(255,255,255,0.7)",
          "font": {
           "color": "black",
           "size": 9
          },
          "showarrow": false,
          "text": "AQU_0.07",
          "x": "2025-04-28T00:00:00",
          "xanchor": "left",
          "xref": "x2",
          "y": 31.952380952381645,
          "yanchor": "top",
          "yref": "y2"
         },
         {
          "bgcolor": "rgba(255,255,255,0.7)",
          "font": {
           "color": "black",
           "size": 9
          },
          "showarrow": false,
          "text": "BER_0.11",
          "x": "2025-04-28T00:00:00",
          "xanchor": "left",
          "xref": "x2",
          "y": 5.857142857130384,
          "yanchor": "top",
          "yref": "y2"
         },
         {
          "bgcolor": "rgba(255,255,255,0.7)",
          "font": {
           "color": "black",
           "size": 9
          },
          "showarrow": false,
          "text": "CHI_0.10",
          "x": "2025-04-28T00:00:00",
          "xanchor": "left",
          "xref": "x2",
          "y": 9.28571428572468,
          "yanchor": "top",
          "yref": "y2"
         },
         {
          "bgcolor": "rgba(255,255,255,0.7)",
          "font": {
           "color": "black",
           "size": 9
          },
          "showarrow": false,
          "text": "LA _0.07",
          "x": "2025-04-28T00:00:00",
          "xanchor": "left",
          "xref": "x2",
          "y": 6.714285714297148,
          "yanchor": "top",
          "yref": "y2"
         },
         {
          "bgcolor": "rgba(255,255,255,0.7)",
          "font": {
           "color": "black",
           "size": 9
          },
          "showarrow": false,
          "text": "PES_0.13",
          "x": "2025-04-28T00:00:00",
          "xanchor": "left",
          "xref": "x2",
          "y": 9.38095238096139,
          "yanchor": "top",
          "yref": "y2"
         },
         {
          "bgcolor": "rgba(255,255,255,0.7)",
          "font": {
           "color": "black",
           "size": 9
          },
          "showarrow": false,
          "text": "BLU_0.39",
          "x": "2025-04-28T00:00:00",
          "xanchor": "left",
          "xref": "x3",
          "y": 17.619047619053163,
          "yanchor": "top",
          "yref": "y3"
         },
         {
          "bgcolor": "rgba(255,255,255,0.7)",
          "font": {
           "color": "black",
           "size": 9
          },
          "showarrow": false,
          "text": "CAR_0.19",
          "x": "2025-04-28T00:00:00",
          "xanchor": "left",
          "xref": "x3",
          "y": 22.190476190444315,
          "yanchor": "top",
          "yref": "y3"
         },
         {
          "bgcolor": "rgba(255,255,255,0.7)",
          "font": {
           "color": "black",
           "size": 9
          },
          "showarrow": false,
          "text": "PAR_0.42",
          "x": "2025-04-28T00:00:00",
          "xanchor": "left",
          "xref": "x3",
          "y": 32.85714285715949,
          "yanchor": "top",
          "yref": "y3"
         },
         {
          "bgcolor": "rgba(255,255,255,0.7)",
          "font": {
           "color": "black",
           "size": 9
          },
          "showarrow": false,
          "text": "SKI_0.20",
          "x": "2025-04-28T00:00:00",
          "xanchor": "left",
          "xref": "x3",
          "y": 20.238095238106325,
          "yanchor": "top",
          "yref": "y3"
         },
         {
          "bgcolor": "rgba(255,255,255,0.7)",
          "font": {
           "color": "black",
           "size": 9
          },
          "showarrow": false,
          "text": "ULT_0.15",
          "x": "2025-04-28T00:00:00",
          "xanchor": "left",
          "xref": "x3",
          "y": 6.378378378372872,
          "yanchor": "top",
          "yref": "y3"
         },
         {
          "bgcolor": "rgba(255,255,255,0.7)",
          "font": {
           "color": "black",
           "size": 9
          },
          "showarrow": false,
          "text": "BLU_0.11",
          "x": "2025-04-28T00:00:00",
          "xanchor": "left",
          "xref": "x4",
          "y": 7.666666666671517,
          "yanchor": "top",
          "yref": "y4"
         },
         {
          "bgcolor": "rgba(255,255,255,0.7)",
          "font": {
           "color": "black",
           "size": 9
          },
          "showarrow": false,
          "text": "Cil_0.18",
          "x": "2025-04-28T00:00:00",
          "xanchor": "left",
          "xref": "x4",
          "y": 10.476190476183547,
          "yanchor": "top",
          "yref": "y4"
         },
         {
          "bgcolor": "rgba(255,255,255,0.7)",
          "font": {
           "color": "black",
           "size": 9
          },
          "showarrow": false,
          "text": "LA _0.11",
          "x": "2025-04-28T00:00:00",
          "xanchor": "left",
          "xref": "x4",
          "y": 5.6000000000494765,
          "yanchor": "top",
          "yref": "y4"
         },
         {
          "bgcolor": "rgba(255,255,255,0.7)",
          "font": {
           "color": "black",
           "size": 9
          },
          "showarrow": false,
          "text": "MIA_0.18",
          "x": "2025-04-28T00:00:00",
          "xanchor": "left",
          "xref": "x4",
          "y": 8.904761904777843,
          "yanchor": "top",
          "yref": "y4"
         },
         {
          "bgcolor": "rgba(255,255,255,0.7)",
          "font": {
           "color": "black",
           "size": 9
          },
          "showarrow": false,
          "text": "SWE_0.14",
          "x": "2025-04-28T00:00:00",
          "xanchor": "left",
          "xref": "x4",
          "y": 6.333333333343035,
          "yanchor": "top",
          "yref": "y4"
         },
         {
          "bgcolor": "rgba(255,255,255,0.7)",
          "font": {
           "color": "black",
           "size": 9
          },
          "showarrow": false,
          "text": "BLU_0.07",
          "x": "2025-05-12T00:00:00",
          "xanchor": "left",
          "xref": "x5",
          "y": 2.1666666666787933,
          "yanchor": "top",
          "yref": "y5"
         },
         {
          "bgcolor": "rgba(255,255,255,0.7)",
          "font": {
           "color": "black",
           "size": 9
          },
          "showarrow": false,
          "text": "CHO_0.14",
          "x": "2025-05-12T00:00:00",
          "xanchor": "left",
          "xref": "x5",
          "y": 3.3333333333575865,
          "yanchor": "top",
          "yref": "y5"
         },
         {
          "bgcolor": "rgba(255,255,255,0.7)",
          "font": {
           "color": "black",
           "size": 9
          },
          "showarrow": false,
          "text": "HEA_0.09",
          "x": "2025-04-28T00:00:00",
          "xanchor": "left",
          "xref": "x5",
          "y": 2.400000000008731,
          "yanchor": "top",
          "yref": "y5"
         },
         {
          "bgcolor": "rgba(255,255,255,0.7)",
          "font": {
           "color": "black",
           "size": 9
          },
          "showarrow": false,
          "text": "LEG_0.05",
          "x": "2025-04-28T00:00:00",
          "xanchor": "left",
          "xref": "x5",
          "y": 5.190476190480695,
          "yanchor": "top",
          "yref": "y5"
         },
         {
          "bgcolor": "rgba(255,255,255,0.7)",
          "font": {
           "color": "black",
           "size": 9
          },
          "showarrow": false,
          "text": "MAR_0.14",
          "x": "2025-04-28T00:00:00",
          "xanchor": "left",
          "xref": "x5",
          "y": 4.333333333299379,
          "yanchor": "top",
          "yref": "y5"
         },
         {
          "bgcolor": "rgba(255,255,255,0.7)",
          "font": {
           "color": "black",
           "size": 9
          },
          "showarrow": false,
          "text": "CHI_0.01",
          "x": "2025-05-05T00:00:00",
          "xanchor": "left",
          "xref": "x6",
          "y": 1.7857142857146755,
          "yanchor": "top",
          "yref": "y6"
         },
         {
          "bgcolor": "rgba(255,255,255,0.7)",
          "font": {
           "color": "black",
           "size": 9
          },
          "showarrow": false,
          "text": "PLA_0.03",
          "x": "2025-04-28T00:00:00",
          "xanchor": "left",
          "xref": "x6",
          "y": 3.7297297297336627,
          "yanchor": "top",
          "yref": "y6"
         },
         {
          "bgcolor": "rgba(255,255,255,0.7)",
          "font": {
           "color": "black",
           "size": 9
          },
          "showarrow": false,
          "text": "CRU_0.11",
          "x": "2025-04-28T00:00:00",
          "xanchor": "left",
          "xref": "x7",
          "y": 3.7000000000116415,
          "yanchor": "top",
          "yref": "y7"
         },
         {
          "bgcolor": "rgba(255,255,255,0.7)",
          "font": {
           "color": "black",
           "size": 9
          },
          "showarrow": false,
          "text": "GRE_0.20",
          "x": "2025-04-28T00:00:00",
          "xanchor": "left",
          "xref": "x7",
          "y": 6.857142857130384,
          "yanchor": "top",
          "yref": "y7"
         },
         {
          "bgcolor": "rgba(255,255,255,0.7)",
          "font": {
           "color": "black",
           "size": 9
          },
          "showarrow": false,
          "text": "HUE_0.22",
          "x": "2025-04-28T00:00:00",
          "xanchor": "left",
          "xref": "x7",
          "y": 8.647058823582483,
          "yanchor": "top",
          "yref": "y7"
         },
         {
          "bgcolor": "rgba(255,255,255,0.7)",
          "font": {
           "color": "black",
           "size": 9
          },
          "showarrow": false,
          "text": "LEN_0.14",
          "x": "2025-05-05T00:00:00",
          "xanchor": "left",
          "xref": "x7",
          "y": 4.666666666671517,
          "yanchor": "top",
          "yref": "y7"
         },
         {
          "bgcolor": "rgba(255,255,255,0.7)",
          "font": {
           "color": "black",
           "size": 9
          },
          "showarrow": false,
          "text": "LIV_0.97",
          "x": "2025-04-28T00:00:00",
          "xanchor": "left",
          "xref": "x7",
          "y": 27.42857142863795,
          "yanchor": "top",
          "yref": "y7"
         },
         {
          "bgcolor": "rgba(255,255,255,0.7)",
          "font": {
           "color": "black",
           "size": 9
          },
          "showarrow": false,
          "text": "Cil_0.42",
          "x": "2025-04-28T00:00:00",
          "xanchor": "left",
          "xref": "x8",
          "y": 29.857142857159488,
          "yanchor": "top",
          "yref": "y8"
         },
         {
          "bgcolor": "rgba(255,255,255,0.7)",
          "font": {
           "color": "black",
           "size": 9
          },
          "showarrow": false,
          "text": "HOM_0.83",
          "x": "2025-04-28T00:00:00",
          "xanchor": "left",
          "xref": "x8",
          "y": 37.23809523822274,
          "yanchor": "top",
          "yref": "y8"
         },
         {
          "bgcolor": "rgba(255,255,255,0.7)",
          "font": {
           "color": "black",
           "size": 9
          },
          "showarrow": false,
          "text": "HUE_0.77",
          "x": "2025-04-28T00:00:00",
          "xanchor": "left",
          "xref": "x8",
          "y": 32.0952380951494,
          "yanchor": "top",
          "yref": "y8"
         },
         {
          "bgcolor": "rgba(255,255,255,0.7)",
          "font": {
           "color": "black",
           "size": 9
          },
          "showarrow": false,
          "text": "LIV_1.39",
          "x": "2025-04-28T00:00:00",
          "xanchor": "left",
          "xref": "x8",
          "y": 53.952380952541716,
          "yanchor": "top",
          "yref": "y8"
         },
         {
          "bgcolor": "rgba(255,255,255,0.7)",
          "font": {
           "color": "black",
           "size": 9
          },
          "showarrow": false,
          "text": "THE_0.41",
          "x": "2025-04-28T00:00:00",
          "xanchor": "left",
          "xref": "x8",
          "y": 25.80952380958479,
          "yanchor": "top",
          "yref": "y8"
         },
         {
          "bgcolor": "rgba(255,255,255,0.7)",
          "font": {
           "color": "black",
           "size": 9
          },
          "showarrow": false,
          "text": "SKI_0.02",
          "x": "2025-04-28T00:00:00",
          "xanchor": "left",
          "xref": "x9",
          "y": 1.857142857150393,
          "yanchor": "top",
          "yref": "y9"
         }
        ],
        "height": 400,
        "hovermode": "x unified",
        "legend": {
         "title": {
          "text": "MenuItemName"
         }
        },
        "template": {
         "data": {
          "bar": [
           {
            "error_x": {
             "color": "#2a3f5f"
            },
            "error_y": {
             "color": "#2a3f5f"
            },
            "marker": {
             "line": {
              "color": "#E5ECF6",
              "width": 0.5
             },
             "pattern": {
              "fillmode": "overlay",
              "size": 10,
              "solidity": 0.2
             }
            },
            "type": "bar"
           }
          ],
          "barpolar": [
           {
            "marker": {
             "line": {
              "color": "#E5ECF6",
              "width": 0.5
             },
             "pattern": {
              "fillmode": "overlay",
              "size": 10,
              "solidity": 0.2
             }
            },
            "type": "barpolar"
           }
          ],
          "carpet": [
           {
            "aaxis": {
             "endlinecolor": "#2a3f5f",
             "gridcolor": "white",
             "linecolor": "white",
             "minorgridcolor": "white",
             "startlinecolor": "#2a3f5f"
            },
            "baxis": {
             "endlinecolor": "#2a3f5f",
             "gridcolor": "white",
             "linecolor": "white",
             "minorgridcolor": "white",
             "startlinecolor": "#2a3f5f"
            },
            "type": "carpet"
           }
          ],
          "choropleth": [
           {
            "colorbar": {
             "outlinewidth": 0,
             "ticks": ""
            },
            "type": "choropleth"
           }
          ],
          "contour": [
           {
            "colorbar": {
             "outlinewidth": 0,
             "ticks": ""
            },
            "colorscale": [
             [
              0,
              "#0d0887"
             ],
             [
              0.1111111111111111,
              "#46039f"
             ],
             [
              0.2222222222222222,
              "#7201a8"
             ],
             [
              0.3333333333333333,
              "#9c179e"
             ],
             [
              0.4444444444444444,
              "#bd3786"
             ],
             [
              0.5555555555555556,
              "#d8576b"
             ],
             [
              0.6666666666666666,
              "#ed7953"
             ],
             [
              0.7777777777777778,
              "#fb9f3a"
             ],
             [
              0.8888888888888888,
              "#fdca26"
             ],
             [
              1,
              "#f0f921"
             ]
            ],
            "type": "contour"
           }
          ],
          "contourcarpet": [
           {
            "colorbar": {
             "outlinewidth": 0,
             "ticks": ""
            },
            "type": "contourcarpet"
           }
          ],
          "heatmap": [
           {
            "colorbar": {
             "outlinewidth": 0,
             "ticks": ""
            },
            "colorscale": [
             [
              0,
              "#0d0887"
             ],
             [
              0.1111111111111111,
              "#46039f"
             ],
             [
              0.2222222222222222,
              "#7201a8"
             ],
             [
              0.3333333333333333,
              "#9c179e"
             ],
             [
              0.4444444444444444,
              "#bd3786"
             ],
             [
              0.5555555555555556,
              "#d8576b"
             ],
             [
              0.6666666666666666,
              "#ed7953"
             ],
             [
              0.7777777777777778,
              "#fb9f3a"
             ],
             [
              0.8888888888888888,
              "#fdca26"
             ],
             [
              1,
              "#f0f921"
             ]
            ],
            "type": "heatmap"
           }
          ],
          "heatmapgl": [
           {
            "colorbar": {
             "outlinewidth": 0,
             "ticks": ""
            },
            "colorscale": [
             [
              0,
              "#0d0887"
             ],
             [
              0.1111111111111111,
              "#46039f"
             ],
             [
              0.2222222222222222,
              "#7201a8"
             ],
             [
              0.3333333333333333,
              "#9c179e"
             ],
             [
              0.4444444444444444,
              "#bd3786"
             ],
             [
              0.5555555555555556,
              "#d8576b"
             ],
             [
              0.6666666666666666,
              "#ed7953"
             ],
             [
              0.7777777777777778,
              "#fb9f3a"
             ],
             [
              0.8888888888888888,
              "#fdca26"
             ],
             [
              1,
              "#f0f921"
             ]
            ],
            "type": "heatmapgl"
           }
          ],
          "histogram": [
           {
            "marker": {
             "pattern": {
              "fillmode": "overlay",
              "size": 10,
              "solidity": 0.2
             }
            },
            "type": "histogram"
           }
          ],
          "histogram2d": [
           {
            "colorbar": {
             "outlinewidth": 0,
             "ticks": ""
            },
            "colorscale": [
             [
              0,
              "#0d0887"
             ],
             [
              0.1111111111111111,
              "#46039f"
             ],
             [
              0.2222222222222222,
              "#7201a8"
             ],
             [
              0.3333333333333333,
              "#9c179e"
             ],
             [
              0.4444444444444444,
              "#bd3786"
             ],
             [
              0.5555555555555556,
              "#d8576b"
             ],
             [
              0.6666666666666666,
              "#ed7953"
             ],
             [
              0.7777777777777778,
              "#fb9f3a"
             ],
             [
              0.8888888888888888,
              "#fdca26"
             ],
             [
              1,
              "#f0f921"
             ]
            ],
            "type": "histogram2d"
           }
          ],
          "histogram2dcontour": [
           {
            "colorbar": {
             "outlinewidth": 0,
             "ticks": ""
            },
            "colorscale": [
             [
              0,
              "#0d0887"
             ],
             [
              0.1111111111111111,
              "#46039f"
             ],
             [
              0.2222222222222222,
              "#7201a8"
             ],
             [
              0.3333333333333333,
              "#9c179e"
             ],
             [
              0.4444444444444444,
              "#bd3786"
             ],
             [
              0.5555555555555556,
              "#d8576b"
             ],
             [
              0.6666666666666666,
              "#ed7953"
             ],
             [
              0.7777777777777778,
              "#fb9f3a"
             ],
             [
              0.8888888888888888,
              "#fdca26"
             ],
             [
              1,
              "#f0f921"
             ]
            ],
            "type": "histogram2dcontour"
           }
          ],
          "mesh3d": [
           {
            "colorbar": {
             "outlinewidth": 0,
             "ticks": ""
            },
            "type": "mesh3d"
           }
          ],
          "parcoords": [
           {
            "line": {
             "colorbar": {
              "outlinewidth": 0,
              "ticks": ""
             }
            },
            "type": "parcoords"
           }
          ],
          "pie": [
           {
            "automargin": true,
            "type": "pie"
           }
          ],
          "scatter": [
           {
            "fillpattern": {
             "fillmode": "overlay",
             "size": 10,
             "solidity": 0.2
            },
            "type": "scatter"
           }
          ],
          "scatter3d": [
           {
            "line": {
             "colorbar": {
              "outlinewidth": 0,
              "ticks": ""
             }
            },
            "marker": {
             "colorbar": {
              "outlinewidth": 0,
              "ticks": ""
             }
            },
            "type": "scatter3d"
           }
          ],
          "scattercarpet": [
           {
            "marker": {
             "colorbar": {
              "outlinewidth": 0,
              "ticks": ""
             }
            },
            "type": "scattercarpet"
           }
          ],
          "scattergeo": [
           {
            "marker": {
             "colorbar": {
              "outlinewidth": 0,
              "ticks": ""
             }
            },
            "type": "scattergeo"
           }
          ],
          "scattergl": [
           {
            "marker": {
             "colorbar": {
              "outlinewidth": 0,
              "ticks": ""
             }
            },
            "type": "scattergl"
           }
          ],
          "scattermapbox": [
           {
            "marker": {
             "colorbar": {
              "outlinewidth": 0,
              "ticks": ""
             }
            },
            "type": "scattermapbox"
           }
          ],
          "scatterpolar": [
           {
            "marker": {
             "colorbar": {
              "outlinewidth": 0,
              "ticks": ""
             }
            },
            "type": "scatterpolar"
           }
          ],
          "scatterpolargl": [
           {
            "marker": {
             "colorbar": {
              "outlinewidth": 0,
              "ticks": ""
             }
            },
            "type": "scatterpolargl"
           }
          ],
          "scatterternary": [
           {
            "marker": {
             "colorbar": {
              "outlinewidth": 0,
              "ticks": ""
             }
            },
            "type": "scatterternary"
           }
          ],
          "surface": [
           {
            "colorbar": {
             "outlinewidth": 0,
             "ticks": ""
            },
            "colorscale": [
             [
              0,
              "#0d0887"
             ],
             [
              0.1111111111111111,
              "#46039f"
             ],
             [
              0.2222222222222222,
              "#7201a8"
             ],
             [
              0.3333333333333333,
              "#9c179e"
             ],
             [
              0.4444444444444444,
              "#bd3786"
             ],
             [
              0.5555555555555556,
              "#d8576b"
             ],
             [
              0.6666666666666666,
              "#ed7953"
             ],
             [
              0.7777777777777778,
              "#fb9f3a"
             ],
             [
              0.8888888888888888,
              "#fdca26"
             ],
             [
              1,
              "#f0f921"
             ]
            ],
            "type": "surface"
           }
          ],
          "table": [
           {
            "cells": {
             "fill": {
              "color": "#EBF0F8"
             },
             "line": {
              "color": "white"
             }
            },
            "header": {
             "fill": {
              "color": "#C8D4E3"
             },
             "line": {
              "color": "white"
             }
            },
            "type": "table"
           }
          ]
         },
         "layout": {
          "annotationdefaults": {
           "arrowcolor": "#2a3f5f",
           "arrowhead": 0,
           "arrowwidth": 1
          },
          "autotypenumbers": "strict",
          "coloraxis": {
           "colorbar": {
            "outlinewidth": 0,
            "ticks": ""
           }
          },
          "colorscale": {
           "diverging": [
            [
             0,
             "#8e0152"
            ],
            [
             0.1,
             "#c51b7d"
            ],
            [
             0.2,
             "#de77ae"
            ],
            [
             0.3,
             "#f1b6da"
            ],
            [
             0.4,
             "#fde0ef"
            ],
            [
             0.5,
             "#f7f7f7"
            ],
            [
             0.6,
             "#e6f5d0"
            ],
            [
             0.7,
             "#b8e186"
            ],
            [
             0.8,
             "#7fbc41"
            ],
            [
             0.9,
             "#4d9221"
            ],
            [
             1,
             "#276419"
            ]
           ],
           "sequential": [
            [
             0,
             "#0d0887"
            ],
            [
             0.1111111111111111,
             "#46039f"
            ],
            [
             0.2222222222222222,
             "#7201a8"
            ],
            [
             0.3333333333333333,
             "#9c179e"
            ],
            [
             0.4444444444444444,
             "#bd3786"
            ],
            [
             0.5555555555555556,
             "#d8576b"
            ],
            [
             0.6666666666666666,
             "#ed7953"
            ],
            [
             0.7777777777777778,
             "#fb9f3a"
            ],
            [
             0.8888888888888888,
             "#fdca26"
            ],
            [
             1,
             "#f0f921"
            ]
           ],
           "sequentialminus": [
            [
             0,
             "#0d0887"
            ],
            [
             0.1111111111111111,
             "#46039f"
            ],
            [
             0.2222222222222222,
             "#7201a8"
            ],
            [
             0.3333333333333333,
             "#9c179e"
            ],
            [
             0.4444444444444444,
             "#bd3786"
            ],
            [
             0.5555555555555556,
             "#d8576b"
            ],
            [
             0.6666666666666666,
             "#ed7953"
            ],
            [
             0.7777777777777778,
             "#fb9f3a"
            ],
            [
             0.8888888888888888,
             "#fdca26"
            ],
            [
             1,
             "#f0f921"
            ]
           ]
          },
          "colorway": [
           "#636efa",
           "#EF553B",
           "#00cc96",
           "#ab63fa",
           "#FFA15A",
           "#19d3f3",
           "#FF6692",
           "#B6E880",
           "#FF97FF",
           "#FECB52"
          ],
          "font": {
           "color": "#2a3f5f"
          },
          "geo": {
           "bgcolor": "white",
           "lakecolor": "white",
           "landcolor": "#E5ECF6",
           "showlakes": true,
           "showland": true,
           "subunitcolor": "white"
          },
          "hoverlabel": {
           "align": "left"
          },
          "hovermode": "closest",
          "mapbox": {
           "style": "light"
          },
          "paper_bgcolor": "white",
          "plot_bgcolor": "#E5ECF6",
          "polar": {
           "angularaxis": {
            "gridcolor": "white",
            "linecolor": "white",
            "ticks": ""
           },
           "bgcolor": "#E5ECF6",
           "radialaxis": {
            "gridcolor": "white",
            "linecolor": "white",
            "ticks": ""
           }
          },
          "scene": {
           "xaxis": {
            "backgroundcolor": "#E5ECF6",
            "gridcolor": "white",
            "gridwidth": 2,
            "linecolor": "white",
            "showbackground": true,
            "ticks": "",
            "zerolinecolor": "white"
           },
           "yaxis": {
            "backgroundcolor": "#E5ECF6",
            "gridcolor": "white",
            "gridwidth": 2,
            "linecolor": "white",
            "showbackground": true,
            "ticks": "",
            "zerolinecolor": "white"
           },
           "zaxis": {
            "backgroundcolor": "#E5ECF6",
            "gridcolor": "white",
            "gridwidth": 2,
            "linecolor": "white",
            "showbackground": true,
            "ticks": "",
            "zerolinecolor": "white"
           }
          },
          "shapedefaults": {
           "line": {
            "color": "#2a3f5f"
           }
          },
          "ternary": {
           "aaxis": {
            "gridcolor": "white",
            "linecolor": "white",
            "ticks": ""
           },
           "baxis": {
            "gridcolor": "white",
            "linecolor": "white",
            "ticks": ""
           },
           "bgcolor": "#E5ECF6",
           "caxis": {
            "gridcolor": "white",
            "linecolor": "white",
            "ticks": ""
           }
          },
          "title": {
           "x": 0.05
          },
          "xaxis": {
           "automargin": true,
           "gridcolor": "white",
           "linecolor": "white",
           "ticks": "",
           "title": {
            "standoff": 15
           },
           "zerolinecolor": "white",
           "zerolinewidth": 2
          },
          "yaxis": {
           "automargin": true,
           "gridcolor": "white",
           "linecolor": "white",
           "ticks": "",
           "title": {
            "standoff": 15
           },
           "zerolinecolor": "white",
           "zerolinewidth": 2
          }
         }
        },
        "title": {
         "text": "Weekly Item Volume with Increasing Trend Lines by StoreId and OrderType"
        },
        "width": 2700,
        "xaxis": {
         "anchor": "y",
         "domain": [
          0,
          0.09333333333333332
         ]
        },
        "xaxis2": {
         "anchor": "y2",
         "domain": [
          0.11333333333333333,
          0.20666666666666667
         ]
        },
        "xaxis3": {
         "anchor": "y3",
         "domain": [
          0.22666666666666666,
          0.31999999999999995
         ]
        },
        "xaxis4": {
         "anchor": "y4",
         "domain": [
          0.33999999999999997,
          0.4333333333333333
         ]
        },
        "xaxis5": {
         "anchor": "y5",
         "domain": [
          0.4533333333333333,
          0.5466666666666666
         ]
        },
        "xaxis6": {
         "anchor": "y6",
         "domain": [
          0.5666666666666667,
          0.6599999999999999
         ]
        },
        "xaxis7": {
         "anchor": "y7",
         "domain": [
          0.6799999999999999,
          0.7733333333333332
         ]
        },
        "xaxis8": {
         "anchor": "y8",
         "domain": [
          0.7933333333333333,
          0.8866666666666667
         ]
        },
        "xaxis9": {
         "anchor": "y9",
         "domain": [
          0.9066666666666666,
          1
         ]
        },
        "yaxis": {
         "anchor": "x",
         "domain": [
          0,
          1
         ]
        },
        "yaxis2": {
         "anchor": "x2",
         "domain": [
          0,
          1
         ]
        },
        "yaxis3": {
         "anchor": "x3",
         "domain": [
          0,
          1
         ]
        },
        "yaxis4": {
         "anchor": "x4",
         "domain": [
          0,
          1
         ]
        },
        "yaxis5": {
         "anchor": "x5",
         "domain": [
          0,
          1
         ]
        },
        "yaxis6": {
         "anchor": "x6",
         "domain": [
          0,
          1
         ]
        },
        "yaxis7": {
         "anchor": "x7",
         "domain": [
          0,
          1
         ]
        },
        "yaxis8": {
         "anchor": "x8",
         "domain": [
          0,
          1
         ]
        },
        "yaxis9": {
         "anchor": "x9",
         "domain": [
          0,
          1
         ]
        }
       }
      }
     },
     "metadata": {},
     "output_type": "display_data"
    },
    {
     "name": "stderr",
     "output_type": "stream",
     "text": [
      "/Library/Frameworks/Python.framework/Versions/3.7/lib/python3.7/site-packages/pandas/util/_decorators.py:311: SettingWithCopyWarning:\n",
      "\n",
      "\n",
      "A value is trying to be set on a copy of a slice from a DataFrame\n",
      "\n",
      "See the caveats in the documentation: https://pandas.pydata.org/pandas-docs/stable/user_guide/indexing.html#returning-a-view-versus-a-copy\n",
      "\n",
      "/Library/Frameworks/Python.framework/Versions/3.7/lib/python3.7/site-packages/ipykernel_launcher.py:13: SettingWithCopyWarning:\n",
      "\n",
      "\n",
      "A value is trying to be set on a copy of a slice from a DataFrame.\n",
      "Try using .loc[row_indexer,col_indexer] = value instead\n",
      "\n",
      "See the caveats in the documentation: https://pandas.pydata.org/pandas-docs/stable/user_guide/indexing.html#returning-a-view-versus-a-copy\n",
      "\n"
     ]
    },
    {
     "data": {
      "application/vnd.plotly.v1+json": {
       "config": {
        "plotlyServerURL": "https://plot.ly"
       },
       "data": [
        {
         "hoverinfo": "name+x+y",
         "legendgroup": "ALMOND BUTTER ACAI BOWL",
         "mode": "lines+markers",
         "name": "ALMOND BUTTER ACAI BOWL",
         "showlegend": true,
         "type": "scatter",
         "x": [
          "2025-04-28T00:00:00",
          "2025-05-05T00:00:00",
          "2025-05-12T00:00:00",
          "2025-05-19T00:00:00",
          "2025-05-26T00:00:00",
          "2025-06-02T00:00:00"
         ],
         "xaxis": "x",
         "y": [
          3,
          3,
          12,
          3,
          6,
          11
         ],
         "yaxis": "y"
        },
        {
         "hoverinfo": "none",
         "line": {
          "color": "green",
          "dash": "dash"
         },
         "mode": "lines",
         "showlegend": false,
         "type": "scatter",
         "x": [
          "2025-04-28T00:00:00",
          "2025-05-05T00:00:00",
          "2025-05-12T00:00:00",
          "2025-05-19T00:00:00",
          "2025-05-26T00:00:00",
          "2025-06-02T00:00:00"
         ],
         "xaxis": "x",
         "y": [
          3.476190476139891,
          4.619047618994955,
          5.761904761864571,
          6.904761904734187,
          8.04761904758925,
          9.190476190458867
         ],
         "yaxis": "y"
        },
        {
         "hoverinfo": "name+x+y",
         "legendgroup": "GRILLED CHICKEN PLATTER",
         "mode": "lines+markers",
         "name": "GRILLED CHICKEN PLATTER",
         "showlegend": true,
         "type": "scatter",
         "x": [
          "2025-04-28T00:00:00",
          "2025-05-05T00:00:00",
          "2025-05-12T00:00:00",
          "2025-05-19T00:00:00",
          "2025-05-26T00:00:00",
          "2025-06-02T00:00:00"
         ],
         "xaxis": "x",
         "y": [
          8,
          3,
          12,
          5,
          9,
          14
         ],
         "yaxis": "y"
        },
        {
         "hoverinfo": "none",
         "line": {
          "color": "green",
          "dash": "dash"
         },
         "mode": "lines",
         "showlegend": false,
         "type": "scatter",
         "x": [
          "2025-04-28T00:00:00",
          "2025-05-05T00:00:00",
          "2025-05-12T00:00:00",
          "2025-05-19T00:00:00",
          "2025-05-26T00:00:00",
          "2025-06-02T00:00:00"
         ],
         "xaxis": "x",
         "y": [
          5.5714285713766,
          6.742857142817229,
          7.914285714257858,
          9.085714285683935,
          10.257142857124563,
          11.428571428565192
         ],
         "yaxis": "y"
        },
        {
         "hoverinfo": "name+x+y",
         "legendgroup": "JULIE'S SMOOTHIE",
         "mode": "lines+markers",
         "name": "JULIE'S SMOOTHIE",
         "showlegend": true,
         "type": "scatter",
         "x": [
          "2025-04-28T00:00:00",
          "2025-05-05T00:00:00",
          "2025-05-12T00:00:00",
          "2025-05-19T00:00:00",
          "2025-05-26T00:00:00",
          "2025-06-02T00:00:00"
         ],
         "xaxis": "x",
         "y": [
          7,
          2,
          8,
          16,
          9,
          15
         ],
         "yaxis": "y"
        },
        {
         "hoverinfo": "none",
         "line": {
          "color": "green",
          "dash": "dash"
         },
         "mode": "lines",
         "showlegend": false,
         "type": "scatter",
         "x": [
          "2025-04-28T00:00:00",
          "2025-05-05T00:00:00",
          "2025-05-12T00:00:00",
          "2025-05-19T00:00:00",
          "2025-05-26T00:00:00",
          "2025-06-02T00:00:00"
         ],
         "xaxis": "x",
         "y": [
          4.571428571391152,
          6.542857142834691,
          8.51428571427823,
          10.485714285692666,
          12.457142857136205,
          14.428571428579744
         ],
         "yaxis": "y"
        },
        {
         "hoverinfo": "name+x+y",
         "legendgroup": "PESTO CHICKEN BOWL",
         "mode": "lines+markers",
         "name": "PESTO CHICKEN BOWL",
         "showlegend": true,
         "type": "scatter",
         "x": [
          "2025-04-28T00:00:00",
          "2025-05-05T00:00:00",
          "2025-05-12T00:00:00",
          "2025-05-19T00:00:00",
          "2025-05-26T00:00:00",
          "2025-06-02T00:00:00"
         ],
         "xaxis": "x",
         "y": [
          9,
          8,
          10,
          6,
          15,
          15
         ],
         "yaxis": "y"
        },
        {
         "hoverinfo": "none",
         "line": {
          "color": "green",
          "dash": "dash"
         },
         "mode": "lines",
         "showlegend": false,
         "type": "scatter",
         "x": [
          "2025-04-28T00:00:00",
          "2025-05-05T00:00:00",
          "2025-05-12T00:00:00",
          "2025-05-19T00:00:00",
          "2025-05-26T00:00:00",
          "2025-06-02T00:00:00"
         ],
         "xaxis": "x",
         "y": [
          7.142857142811408,
          8.485714285663562,
          9.82857142854482,
          11.171428571396973,
          12.51428571427823,
          13.857142857130384
         ],
         "yaxis": "y"
        },
        {
         "hoverinfo": "name+x+y",
         "legendgroup": "POKE BOWL",
         "mode": "lines+markers",
         "name": "POKE BOWL",
         "showlegend": true,
         "type": "scatter",
         "x": [
          "2025-04-28T00:00:00",
          "2025-05-05T00:00:00",
          "2025-05-12T00:00:00",
          "2025-05-19T00:00:00",
          "2025-05-26T00:00:00",
          "2025-06-02T00:00:00"
         ],
         "xaxis": "x",
         "y": [
          21,
          18,
          27,
          26,
          16,
          33
         ],
         "yaxis": "y"
        },
        {
         "hoverinfo": "none",
         "line": {
          "color": "green",
          "dash": "dash"
         },
         "mode": "lines",
         "showlegend": false,
         "type": "scatter",
         "x": [
          "2025-04-28T00:00:00",
          "2025-05-05T00:00:00",
          "2025-05-12T00:00:00",
          "2025-05-19T00:00:00",
          "2025-05-26T00:00:00",
          "2025-06-02T00:00:00"
         ],
         "xaxis": "x",
         "y": [
          19.714285714231664,
          21.228571428539,
          22.74285714281723,
          24.257142857124563,
          25.771428571402794,
          27.285714285710128
         ],
         "yaxis": "y"
        },
        {
         "hoverinfo": "name+x+y",
         "legendgroup": "CHICKEN CAESAR WRAP",
         "mode": "lines+markers",
         "name": "CHICKEN CAESAR WRAP",
         "showlegend": true,
         "type": "scatter",
         "x": [
          "2025-04-28T00:00:00",
          "2025-05-12T00:00:00",
          "2025-05-19T00:00:00"
         ],
         "xaxis": "x2",
         "y": [
          1,
          5,
          1
         ],
         "yaxis": "y2"
        },
        {
         "hoverinfo": "none",
         "line": {
          "color": "green",
          "dash": "dash"
         },
         "mode": "lines",
         "showlegend": false,
         "type": "scatter",
         "x": [
          "2025-04-28T00:00:00",
          "2025-05-12T00:00:00",
          "2025-05-19T00:00:00"
         ],
         "xaxis": "x2",
         "y": [
          1.857142857152212,
          2.42857142858702,
          2.714285714304424
         ],
         "yaxis": "y2"
        },
        {
         "hoverinfo": "name+x+y",
         "legendgroup": "LEGAL WRAP",
         "mode": "lines+markers",
         "name": "LEGAL WRAP",
         "showlegend": true,
         "type": "scatter",
         "x": [
          "2025-04-28T00:00:00",
          "2025-05-05T00:00:00",
          "2025-05-12T00:00:00",
          "2025-05-19T00:00:00"
         ],
         "xaxis": "x2",
         "y": [
          2,
          2,
          2,
          3
         ],
         "yaxis": "y2"
        },
        {
         "hoverinfo": "none",
         "line": {
          "color": "green",
          "dash": "dash"
         },
         "mode": "lines",
         "showlegend": false,
         "type": "scatter",
         "x": [
          "2025-04-28T00:00:00",
          "2025-05-05T00:00:00",
          "2025-05-12T00:00:00",
          "2025-05-19T00:00:00"
         ],
         "xaxis": "x2",
         "y": [
          1.7999999999847205,
          2.099999999987631,
          2.3999999999941792,
          2.6999999999970896
         ],
         "yaxis": "y2"
        },
        {
         "hoverinfo": "name+x+y",
         "legendgroup": "SOUP AND 1/2 WRAP",
         "mode": "lines+markers",
         "name": "SOUP AND 1/2 WRAP",
         "showlegend": true,
         "type": "scatter",
         "x": [
          "2025-04-28T00:00:00",
          "2025-05-12T00:00:00",
          "2025-05-26T00:00:00",
          "2025-06-02T00:00:00"
         ],
         "xaxis": "x2",
         "y": [
          1,
          1,
          1,
          2
         ],
         "yaxis": "y2"
        },
        {
         "hoverinfo": "none",
         "line": {
          "color": "green",
          "dash": "dash"
         },
         "mode": "lines",
         "showlegend": false,
         "type": "scatter",
         "x": [
          "2025-04-28T00:00:00",
          "2025-05-12T00:00:00",
          "2025-05-26T00:00:00",
          "2025-06-02T00:00:00"
         ],
         "xaxis": "x2",
         "y": [
          0.8305084745679778,
          1.1355932203332486,
          1.4406779660985194,
          1.5932203389802453
         ],
         "yaxis": "y2"
        },
        {
         "hoverinfo": "name+x+y",
         "legendgroup": "CHICKEN CAESAR WRAP",
         "mode": "lines+markers",
         "name": "CHICKEN CAESAR WRAP",
         "showlegend": false,
         "type": "scatter",
         "x": [
          "2025-04-28T00:00:00",
          "2025-05-05T00:00:00",
          "2025-05-12T00:00:00",
          "2025-05-19T00:00:00",
          "2025-06-02T00:00:00"
         ],
         "xaxis": "x3",
         "y": [
          1,
          3,
          6,
          13,
          1
         ],
         "yaxis": "y3"
        },
        {
         "hoverinfo": "none",
         "line": {
          "color": "green",
          "dash": "dash"
         },
         "mode": "lines",
         "showlegend": false,
         "type": "scatter",
         "x": [
          "2025-04-28T00:00:00",
          "2025-05-05T00:00:00",
          "2025-05-12T00:00:00",
          "2025-05-19T00:00:00",
          "2025-06-02T00:00:00"
         ],
         "xaxis": "x3",
         "y": [
          3.878378378387424,
          4.297297297300247,
          4.716216216220346,
          5.135135135133169,
          5.97297297296609
         ],
         "yaxis": "y3"
        },
        {
         "hoverinfo": "name+x+y",
         "legendgroup": "JULIE'S SMOOTHIE",
         "mode": "lines+markers",
         "name": "JULIE'S SMOOTHIE",
         "showlegend": false,
         "type": "scatter",
         "x": [
          "2025-04-28T00:00:00",
          "2025-05-05T00:00:00",
          "2025-05-19T00:00:00"
         ],
         "xaxis": "x3",
         "y": [
          1,
          1,
          2
         ],
         "yaxis": "y3"
        },
        {
         "hoverinfo": "none",
         "line": {
          "color": "green",
          "dash": "dash"
         },
         "mode": "lines",
         "showlegend": false,
         "type": "scatter",
         "x": [
          "2025-04-28T00:00:00",
          "2025-05-05T00:00:00",
          "2025-05-19T00:00:00"
         ],
         "xaxis": "x3",
         "y": [
          0.8571428571594879,
          1.214285714297148,
          1.928571428572468
         ],
         "yaxis": "y3"
        },
        {
         "hoverinfo": "name+x+y",
         "legendgroup": "LENTIL & KALE SOUP",
         "mode": "lines+markers",
         "name": "LENTIL & KALE SOUP",
         "showlegend": true,
         "type": "scatter",
         "x": [
          "2025-04-28T00:00:00",
          "2025-05-05T00:00:00",
          "2025-05-12T00:00:00",
          "2025-05-19T00:00:00",
          "2025-05-26T00:00:00"
         ],
         "xaxis": "x3",
         "y": [
          1,
          1,
          2,
          3,
          3
         ],
         "yaxis": "y3"
        },
        {
         "hoverinfo": "none",
         "line": {
          "color": "green",
          "dash": "dash"
         },
         "mode": "lines",
         "showlegend": false,
         "type": "scatter",
         "x": [
          "2025-04-28T00:00:00",
          "2025-05-05T00:00:00",
          "2025-05-12T00:00:00",
          "2025-05-19T00:00:00",
          "2025-05-26T00:00:00"
         ],
         "xaxis": "x3",
         "y": [
          0.800000000068394,
          1.4000000000596629,
          2.0000000000509317,
          2.6000000000349246,
          3.2000000000261934
         ],
         "yaxis": "y3"
        },
        {
         "hoverinfo": "name+x+y",
         "legendgroup": "LIV WRAP",
         "mode": "lines+markers",
         "name": "LIV WRAP",
         "showlegend": true,
         "type": "scatter",
         "x": [
          "2025-04-28T00:00:00",
          "2025-05-12T00:00:00",
          "2025-05-26T00:00:00",
          "2025-06-02T00:00:00"
         ],
         "xaxis": "x3",
         "y": [
          1,
          1,
          14,
          20
         ],
         "yaxis": "y3"
        },
        {
         "hoverinfo": "none",
         "line": {
          "color": "green",
          "dash": "dash"
         },
         "mode": "lines",
         "showlegend": false,
         "type": "scatter",
         "x": [
          "2025-04-28T00:00:00",
          "2025-05-12T00:00:00",
          "2025-05-26T00:00:00",
          "2025-06-02T00:00:00"
         ],
         "xaxis": "x3",
         "y": [
          -2.0000000000582077,
          5.999999999941792,
          13.999999999941792,
          17.999999999941792
         ],
         "yaxis": "y3"
        },
        {
         "hoverinfo": "name+x+y",
         "legendgroup": "SKINNY GREEN",
         "mode": "lines+markers",
         "name": "SKINNY GREEN",
         "showlegend": true,
         "type": "scatter",
         "x": [
          "2025-04-28T00:00:00",
          "2025-05-05T00:00:00",
          "2025-05-19T00:00:00",
          "2025-05-26T00:00:00",
          "2025-06-02T00:00:00"
         ],
         "xaxis": "x3",
         "y": [
          1,
          1,
          1,
          2,
          2
         ],
         "yaxis": "y3"
        },
        {
         "hoverinfo": "none",
         "line": {
          "color": "green",
          "dash": "dash"
         },
         "mode": "lines",
         "showlegend": false,
         "type": "scatter",
         "x": [
          "2025-04-28T00:00:00",
          "2025-05-05T00:00:00",
          "2025-05-19T00:00:00",
          "2025-05-26T00:00:00",
          "2025-06-02T00:00:00"
         ],
         "xaxis": "x3",
         "y": [
          0.8255813953510369,
          1.0465116279083304,
          1.4883720930265554,
          1.7093023255838489,
          1.9302325581411424
         ],
         "yaxis": "y3"
        },
        {
         "hoverinfo": "name+x+y",
         "legendgroup": "CRISPY CHICKEN PLATTER",
         "mode": "lines+markers",
         "name": "CRISPY CHICKEN PLATTER",
         "showlegend": true,
         "type": "scatter",
         "x": [
          "2025-04-28T00:00:00",
          "2025-05-05T00:00:00",
          "2025-05-12T00:00:00",
          "2025-05-19T00:00:00",
          "2025-05-26T00:00:00",
          "2025-06-02T00:00:00"
         ],
         "xaxis": "x4",
         "y": [
          1,
          3,
          1,
          8,
          2,
          5
         ],
         "yaxis": "y4"
        },
        {
         "hoverinfo": "none",
         "line": {
          "color": "green",
          "dash": "dash"
         },
         "mode": "lines",
         "showlegend": false,
         "type": "scatter",
         "x": [
          "2025-04-28T00:00:00",
          "2025-05-05T00:00:00",
          "2025-05-12T00:00:00",
          "2025-05-19T00:00:00",
          "2025-05-26T00:00:00",
          "2025-06-02T00:00:00"
         ],
         "xaxis": "x4",
         "y": [
          1.6190476190386107,
          2.30476190475747,
          2.990476190476329,
          3.6761904761806363,
          4.3619047618994955,
          5.047619047618355
         ],
         "yaxis": "y4"
        },
        {
         "hoverinfo": "name+x+y",
         "legendgroup": "LA MEXICANA",
         "mode": "lines+markers",
         "name": "LA MEXICANA",
         "showlegend": true,
         "type": "scatter",
         "x": [
          "2025-04-28T00:00:00",
          "2025-05-05T00:00:00",
          "2025-05-12T00:00:00",
          "2025-05-19T00:00:00",
          "2025-05-26T00:00:00",
          "2025-06-02T00:00:00"
         ],
         "xaxis": "x4",
         "y": [
          6,
          4,
          5,
          3,
          7,
          10
         ],
         "yaxis": "y4"
        },
        {
         "hoverinfo": "none",
         "line": {
          "color": "green",
          "dash": "dash"
         },
         "mode": "lines",
         "showlegend": false,
         "type": "scatter",
         "x": [
          "2025-04-28T00:00:00",
          "2025-05-05T00:00:00",
          "2025-05-12T00:00:00",
          "2025-05-19T00:00:00",
          "2025-05-26T00:00:00",
          "2025-06-02T00:00:00"
         ],
         "xaxis": "x4",
         "y": [
          3.904761904734187,
          4.676190476166084,
          5.447619047597982,
          6.21904761902988,
          6.990476190476329,
          7.761904761908227
         ],
         "yaxis": "y4"
        },
        {
         "hoverinfo": "name+x+y",
         "legendgroup": "SKINNY GREEN",
         "mode": "lines+markers",
         "name": "SKINNY GREEN",
         "showlegend": false,
         "type": "scatter",
         "x": [
          "2025-04-28T00:00:00",
          "2025-05-05T00:00:00",
          "2025-05-12T00:00:00",
          "2025-05-19T00:00:00",
          "2025-05-26T00:00:00",
          "2025-06-02T00:00:00"
         ],
         "xaxis": "x4",
         "y": [
          6,
          2,
          2,
          5,
          4,
          9
         ],
         "yaxis": "y4"
        },
        {
         "hoverinfo": "none",
         "line": {
          "color": "green",
          "dash": "dash"
         },
         "mode": "lines",
         "showlegend": false,
         "type": "scatter",
         "x": [
          "2025-04-28T00:00:00",
          "2025-05-05T00:00:00",
          "2025-05-12T00:00:00",
          "2025-05-19T00:00:00",
          "2025-05-26T00:00:00",
          "2025-06-02T00:00:00"
         ],
         "xaxis": "x4",
         "y": [
          2.9523809523670934,
          3.6380952380859526,
          4.323809523804812,
          5.009523809523671,
          5.69523809524253,
          6.380952380961389
         ],
         "yaxis": "y4"
        },
        {
         "hoverinfo": "name+x+y",
         "legendgroup": "STRAWBERRY PASSION",
         "mode": "lines+markers",
         "name": "STRAWBERRY PASSION",
         "showlegend": true,
         "type": "scatter",
         "x": [
          "2025-04-28T00:00:00",
          "2025-05-05T00:00:00",
          "2025-05-12T00:00:00",
          "2025-05-19T00:00:00",
          "2025-05-26T00:00:00",
          "2025-06-02T00:00:00"
         ],
         "xaxis": "x4",
         "y": [
          1,
          4,
          3,
          5,
          6,
          8
         ],
         "yaxis": "y4"
        },
        {
         "hoverinfo": "none",
         "line": {
          "color": "green",
          "dash": "dash"
         },
         "mode": "lines",
         "showlegend": false,
         "type": "scatter",
         "x": [
          "2025-04-28T00:00:00",
          "2025-05-05T00:00:00",
          "2025-05-12T00:00:00",
          "2025-05-19T00:00:00",
          "2025-05-26T00:00:00",
          "2025-06-02T00:00:00"
         ],
         "xaxis": "x4",
         "y": [
          1.4285714285069844,
          2.6571428570896387,
          3.885714285657741,
          5.1142857142403955,
          6.34285714282305,
          7.571428571405704
         ],
         "yaxis": "y4"
        },
        {
         "hoverinfo": "name+x+y",
         "legendgroup": "SWEET POTATO FRIES",
         "mode": "lines+markers",
         "name": "SWEET POTATO FRIES",
         "showlegend": true,
         "type": "scatter",
         "x": [
          "2025-04-28T00:00:00",
          "2025-05-05T00:00:00",
          "2025-05-12T00:00:00",
          "2025-05-19T00:00:00",
          "2025-05-26T00:00:00",
          "2025-06-02T00:00:00"
         ],
         "xaxis": "x4",
         "y": [
          2,
          11,
          4,
          9,
          9,
          14
         ],
         "yaxis": "y4"
        },
        {
         "hoverinfo": "none",
         "line": {
          "color": "green",
          "dash": "dash"
         },
         "mode": "lines",
         "showlegend": false,
         "type": "scatter",
         "x": [
          "2025-04-28T00:00:00",
          "2025-05-05T00:00:00",
          "2025-05-12T00:00:00",
          "2025-05-19T00:00:00",
          "2025-05-26T00:00:00",
          "2025-06-02T00:00:00"
         ],
         "xaxis": "x4",
         "y": [
          3.9523809523379896,
          5.638095238071401,
          7.323809523804812,
          9.009523809538223,
          10.69523809524253,
          12.380952380975941
         ],
         "yaxis": "y4"
        },
        {
         "hoverinfo": "name+x+y",
         "legendgroup": "GREEN GODDESS SALAD",
         "mode": "lines+markers",
         "name": "GREEN GODDESS SALAD",
         "showlegend": true,
         "type": "scatter",
         "x": [
          "2025-04-28T00:00:00",
          "2025-05-05T00:00:00",
          "2025-05-12T00:00:00",
          "2025-05-19T00:00:00",
          "2025-05-26T00:00:00",
          "2025-06-02T00:00:00"
         ],
         "xaxis": "x5",
         "y": [
          5,
          4,
          4,
          7,
          6,
          22
         ],
         "yaxis": "y5"
        },
        {
         "hoverinfo": "none",
         "line": {
          "color": "green",
          "dash": "dash"
         },
         "mode": "lines",
         "showlegend": false,
         "type": "scatter",
         "x": [
          "2025-04-28T00:00:00",
          "2025-05-05T00:00:00",
          "2025-05-12T00:00:00",
          "2025-05-19T00:00:00",
          "2025-05-26T00:00:00",
          "2025-06-02T00:00:00"
         ],
         "xaxis": "x5",
         "y": [
          1.2857142856810242,
          3.9714285713853315,
          6.657142857147846,
          9.342857142852154,
          12.028571428614669,
          14.714285714377183
         ],
         "yaxis": "y5"
        },
        {
         "hoverinfo": "name+x+y",
         "legendgroup": "HOMEMADE VEGAN BANANA BREAD",
         "mode": "lines+markers",
         "name": "HOMEMADE VEGAN BANANA BREAD",
         "showlegend": true,
         "type": "scatter",
         "x": [
          "2025-04-28T00:00:00",
          "2025-05-05T00:00:00",
          "2025-05-12T00:00:00",
          "2025-05-19T00:00:00",
          "2025-05-26T00:00:00",
          "2025-06-02T00:00:00"
         ],
         "xaxis": "x5",
         "y": [
          13,
          11,
          10,
          22,
          14,
          31
         ],
         "yaxis": "y5"
        },
        {
         "hoverinfo": "none",
         "line": {
          "color": "green",
          "dash": "dash"
         },
         "mode": "lines",
         "showlegend": false,
         "type": "scatter",
         "x": [
          "2025-04-28T00:00:00",
          "2025-05-05T00:00:00",
          "2025-05-12T00:00:00",
          "2025-05-19T00:00:00",
          "2025-05-26T00:00:00",
          "2025-06-02T00:00:00"
         ],
         "xaxis": "x5",
         "y": [
          8.90476190467598,
          12.07619047613116,
          15.24761904758634,
          18.419047618983313,
          21.590476190438494,
          24.761904761893675
         ],
         "yaxis": "y5"
        },
        {
         "hoverinfo": "name+x+y",
         "legendgroup": "HUEVOS RANCHEROS BURRITO",
         "mode": "lines+markers",
         "name": "HUEVOS RANCHEROS BURRITO",
         "showlegend": true,
         "type": "scatter",
         "x": [
          "2025-04-28T00:00:00",
          "2025-05-05T00:00:00",
          "2025-05-12T00:00:00",
          "2025-05-19T00:00:00",
          "2025-05-26T00:00:00",
          "2025-06-02T00:00:00"
         ],
         "xaxis": "x5",
         "y": [
          16,
          5,
          4,
          8,
          12,
          23
         ],
         "yaxis": "y5"
        },
        {
         "hoverinfo": "none",
         "line": {
          "color": "green",
          "dash": "dash"
         },
         "mode": "lines",
         "showlegend": false,
         "type": "scatter",
         "x": [
          "2025-04-28T00:00:00",
          "2025-05-05T00:00:00",
          "2025-05-12T00:00:00",
          "2025-05-19T00:00:00",
          "2025-05-26T00:00:00",
          "2025-06-02T00:00:00"
         ],
         "xaxis": "x5",
         "y": [
          7.047619047545595,
          8.761904761835467,
          10.476190476154443,
          12.190476190444315,
          13.90476190476329,
          15.619047619053163
         ],
         "yaxis": "y5"
        },
        {
         "hoverinfo": "name+x+y",
         "legendgroup": "LIV WRAP",
         "mode": "lines+markers",
         "name": "LIV WRAP",
         "showlegend": false,
         "type": "scatter",
         "x": [
          "2025-04-28T00:00:00",
          "2025-05-05T00:00:00",
          "2025-05-12T00:00:00",
          "2025-05-19T00:00:00",
          "2025-05-26T00:00:00",
          "2025-06-02T00:00:00"
         ],
         "xaxis": "x5",
         "y": [
          8,
          9,
          14,
          8,
          29,
          76
         ],
         "yaxis": "y5"
        },
        {
         "hoverinfo": "none",
         "line": {
          "color": "green",
          "dash": "dash"
         },
         "mode": "lines",
         "showlegend": false,
         "type": "scatter",
         "x": [
          "2025-04-28T00:00:00",
          "2025-05-05T00:00:00",
          "2025-05-12T00:00:00",
          "2025-05-19T00:00:00",
          "2025-05-26T00:00:00",
          "2025-06-02T00:00:00"
         ],
         "xaxis": "x5",
         "y": [
          -4.142857143422589,
          7.114285713760182,
          18.371428570942953,
          29.628571428358555,
          40.885714285541326,
          52.1428571427241
         ],
         "yaxis": "y5"
        },
        {
         "hoverinfo": "name+x+y",
         "legendgroup": "TUNA-CADO or CHICKEN-CADO",
         "mode": "lines+markers",
         "name": "TUNA-CADO or CHICKEN-CADO",
         "showlegend": true,
         "type": "scatter",
         "x": [
          "2025-04-28T00:00:00",
          "2025-05-05T00:00:00",
          "2025-05-12T00:00:00",
          "2025-05-19T00:00:00",
          "2025-05-26T00:00:00",
          "2025-06-02T00:00:00"
         ],
         "xaxis": "x5",
         "y": [
          6,
          8,
          7,
          7,
          11,
          14
         ],
         "yaxis": "y5"
        },
        {
         "hoverinfo": "none",
         "line": {
          "color": "green",
          "dash": "dash"
         },
         "mode": "lines",
         "showlegend": false,
         "type": "scatter",
         "x": [
          "2025-04-28T00:00:00",
          "2025-05-05T00:00:00",
          "2025-05-12T00:00:00",
          "2025-05-19T00:00:00",
          "2025-05-26T00:00:00",
          "2025-06-02T00:00:00"
         ],
         "xaxis": "x5",
         "y": [
          5.333333333284827,
          6.73333333330811,
          8.13333333330229,
          9.533333333325572,
          10.933333333319752,
          12.333333333343035
         ],
         "yaxis": "y5"
        },
        {
         "hoverinfo": "name+x+y",
         "legendgroup": "HEALTHY BURGER BOWL",
         "mode": "lines+markers",
         "name": "HEALTHY BURGER BOWL",
         "showlegend": true,
         "type": "scatter",
         "x": [
          "2025-05-12T00:00:00",
          "2025-05-19T00:00:00",
          "2025-05-26T00:00:00"
         ],
         "xaxis": "x6",
         "y": [
          1,
          6,
          1
         ],
         "yaxis": "y6"
        },
        {
         "hoverinfo": "none",
         "line": {
          "color": "green",
          "dash": "dash"
         },
         "mode": "lines",
         "showlegend": false,
         "type": "scatter",
         "x": [
          "2025-05-12T00:00:00",
          "2025-05-19T00:00:00",
          "2025-05-26T00:00:00"
         ],
         "xaxis": "x6",
         "y": [
          2.6666666666622354,
          2.6666666666666674,
          2.6666666666710994
         ],
         "yaxis": "y6"
        },
        {
         "hoverinfo": "name+x+y",
         "legendgroup": "LENTIL & KALE SOUP",
         "mode": "lines+markers",
         "name": "LENTIL & KALE SOUP",
         "showlegend": false,
         "type": "scatter",
         "x": [
          "2025-04-28T00:00:00",
          "2025-05-12T00:00:00",
          "2025-05-19T00:00:00",
          "2025-05-26T00:00:00"
         ],
         "xaxis": "x6",
         "y": [
          1,
          3,
          2,
          1
         ],
         "yaxis": "y6"
        },
        {
         "hoverinfo": "none",
         "line": {
          "color": "green",
          "dash": "dash"
         },
         "mode": "lines",
         "showlegend": false,
         "type": "scatter",
         "x": [
          "2025-04-28T00:00:00",
          "2025-05-12T00:00:00",
          "2025-05-19T00:00:00",
          "2025-05-26T00:00:00"
         ],
         "xaxis": "x6",
         "y": [
          1.6857142857084,
          1.7428571428577015,
          1.7714285714323523,
          1.8000000000074579
         ],
         "yaxis": "y6"
        },
        {
         "hoverinfo": "name+x+y",
         "legendgroup": "MARIO'S FAVORITE CHICKEN BOWL",
         "mode": "lines+markers",
         "name": "MARIO'S FAVORITE CHICKEN BOWL",
         "showlegend": true,
         "type": "scatter",
         "x": [
          "2025-05-05T00:00:00",
          "2025-05-12T00:00:00",
          "2025-05-26T00:00:00"
         ],
         "xaxis": "x6",
         "y": [
          1,
          2,
          2
         ],
         "yaxis": "y6"
        },
        {
         "hoverinfo": "none",
         "line": {
          "color": "green",
          "dash": "dash"
         },
         "mode": "lines",
         "showlegend": false,
         "type": "scatter",
         "x": [
          "2025-05-05T00:00:00",
          "2025-05-12T00:00:00",
          "2025-05-26T00:00:00"
         ],
         "xaxis": "x6",
         "y": [
          1.285714285721042,
          1.571428571434808,
          2.14285714286234
         ],
         "yaxis": "y6"
        },
        {
         "hoverinfo": "name+x+y",
         "legendgroup": "PARADISE ACAI BOWL",
         "mode": "lines+markers",
         "name": "PARADISE ACAI BOWL",
         "showlegend": true,
         "type": "scatter",
         "x": [
          "2025-05-12T00:00:00",
          "2025-05-19T00:00:00",
          "2025-05-26T00:00:00",
          "2025-06-02T00:00:00"
         ],
         "xaxis": "x6",
         "y": [
          1,
          1,
          1,
          2
         ],
         "yaxis": "y6"
        },
        {
         "hoverinfo": "none",
         "line": {
          "color": "green",
          "dash": "dash"
         },
         "mode": "lines",
         "showlegend": false,
         "type": "scatter",
         "x": [
          "2025-05-12T00:00:00",
          "2025-05-19T00:00:00",
          "2025-05-26T00:00:00",
          "2025-06-02T00:00:00"
         ],
         "xaxis": "x6",
         "y": [
          0.7999999999701686,
          1.099999999976717,
          1.3999999999869033,
          1.6999999999970896
         ],
         "yaxis": "y6"
        },
        {
         "hoverinfo": "name+x+y",
         "legendgroup": "TOSTONES",
         "mode": "lines+markers",
         "name": "TOSTONES",
         "showlegend": true,
         "type": "scatter",
         "x": [
          "2025-05-05T00:00:00",
          "2025-05-12T00:00:00",
          "2025-05-19T00:00:00",
          "2025-05-26T00:00:00"
         ],
         "xaxis": "x6",
         "y": [
          1,
          1,
          4,
          1
         ],
         "yaxis": "y6"
        },
        {
         "hoverinfo": "none",
         "line": {
          "color": "green",
          "dash": "dash"
         },
         "mode": "lines",
         "showlegend": false,
         "type": "scatter",
         "x": [
          "2025-05-05T00:00:00",
          "2025-05-12T00:00:00",
          "2025-05-19T00:00:00",
          "2025-05-26T00:00:00"
         ],
         "xaxis": "x6",
         "y": [
          1.3000000000101863,
          1.6000000000130967,
          1.9000000000123691,
          2.2000000000116415
         ],
         "yaxis": "y6"
        },
        {
         "hoverinfo": "name+x+y",
         "legendgroup": "HOMEMADE VEGAN BANANA BREAD",
         "mode": "lines+markers",
         "name": "HOMEMADE VEGAN BANANA BREAD",
         "showlegend": false,
         "type": "scatter",
         "x": [
          "2025-04-28T00:00:00",
          "2025-05-05T00:00:00",
          "2025-05-12T00:00:00",
          "2025-05-19T00:00:00",
          "2025-05-26T00:00:00",
          "2025-06-02T00:00:00"
         ],
         "xaxis": "x7",
         "y": [
          2,
          5,
          10,
          13,
          13,
          9
         ],
         "yaxis": "y7"
        },
        {
         "hoverinfo": "none",
         "line": {
          "color": "green",
          "dash": "dash"
         },
         "mode": "lines",
         "showlegend": false,
         "type": "scatter",
         "x": [
          "2025-04-28T00:00:00",
          "2025-05-05T00:00:00",
          "2025-05-12T00:00:00",
          "2025-05-19T00:00:00",
          "2025-05-26T00:00:00",
          "2025-06-02T00:00:00"
         ],
         "xaxis": "x7",
         "y": [
          4.238095238077221,
          6.009523809509119,
          7.780952380941017,
          9.552380952372914,
          11.323809523804812,
          13.09523809523671
         ],
         "yaxis": "y7"
        },
        {
         "hoverinfo": "name+x+y",
         "legendgroup": "JULIE'S SMOOTHIE",
         "mode": "lines+markers",
         "name": "JULIE'S SMOOTHIE",
         "showlegend": false,
         "type": "scatter",
         "x": [
          "2025-04-28T00:00:00",
          "2025-05-05T00:00:00",
          "2025-05-12T00:00:00",
          "2025-05-19T00:00:00",
          "2025-05-26T00:00:00",
          "2025-06-02T00:00:00"
         ],
         "xaxis": "x7",
         "y": [
          5,
          9,
          7,
          9,
          12,
          16
         ],
         "yaxis": "y7"
        },
        {
         "hoverinfo": "none",
         "line": {
          "color": "green",
          "dash": "dash"
         },
         "mode": "lines",
         "showlegend": false,
         "type": "scatter",
         "x": [
          "2025-04-28T00:00:00",
          "2025-05-05T00:00:00",
          "2025-05-12T00:00:00",
          "2025-05-19T00:00:00",
          "2025-05-26T00:00:00",
          "2025-06-02T00:00:00"
         ],
         "xaxis": "x7",
         "y": [
          4.952380952308886,
          6.838095238053938,
          8.723809523769887,
          10.609523809485836,
          12.495238095230889,
          14.380952380946837
         ],
         "yaxis": "y7"
        },
        {
         "hoverinfo": "name+x+y",
         "legendgroup": "LEGAL WRAP",
         "mode": "lines+markers",
         "name": "LEGAL WRAP",
         "showlegend": false,
         "type": "scatter",
         "x": [
          "2025-04-28T00:00:00",
          "2025-05-05T00:00:00",
          "2025-05-12T00:00:00",
          "2025-05-19T00:00:00",
          "2025-05-26T00:00:00",
          "2025-06-02T00:00:00"
         ],
         "xaxis": "x7",
         "y": [
          22,
          15,
          16,
          16,
          14,
          31
         ],
         "yaxis": "y7"
        },
        {
         "hoverinfo": "none",
         "line": {
          "color": "green",
          "dash": "dash"
         },
         "mode": "lines",
         "showlegend": false,
         "type": "scatter",
         "x": [
          "2025-04-28T00:00:00",
          "2025-05-05T00:00:00",
          "2025-05-12T00:00:00",
          "2025-05-19T00:00:00",
          "2025-05-26T00:00:00",
          "2025-06-02T00:00:00"
         ],
         "xaxis": "x7",
         "y": [
          15.999999999985448,
          17.19999999999709,
          18.40000000000873,
          19.600000000020373,
          20.800000000046566,
          22.000000000058208
         ],
         "yaxis": "y7"
        },
        {
         "hoverinfo": "name+x+y",
         "legendgroup": "PESTO CHICKEN BOWL",
         "mode": "lines+markers",
         "name": "PESTO CHICKEN BOWL",
         "showlegend": false,
         "type": "scatter",
         "x": [
          "2025-04-28T00:00:00",
          "2025-05-05T00:00:00",
          "2025-05-12T00:00:00",
          "2025-05-19T00:00:00",
          "2025-05-26T00:00:00",
          "2025-06-02T00:00:00"
         ],
         "xaxis": "x7",
         "y": [
          4,
          4,
          9,
          9,
          11,
          10
         ],
         "yaxis": "y7"
        },
        {
         "hoverinfo": "none",
         "line": {
          "color": "green",
          "dash": "dash"
         },
         "mode": "lines",
         "showlegend": false,
         "type": "scatter",
         "x": [
          "2025-04-28T00:00:00",
          "2025-05-05T00:00:00",
          "2025-05-12T00:00:00",
          "2025-05-19T00:00:00",
          "2025-05-26T00:00:00",
          "2025-06-02T00:00:00"
         ],
         "xaxis": "x7",
         "y": [
          4.190476190415211,
          5.647619047551416,
          7.104761904687621,
          8.56190476185293,
          10.019047618989134,
          11.476190476154443
         ],
         "yaxis": "y7"
        },
        {
         "hoverinfo": "name+x+y",
         "legendgroup": "SOUP AND 1/2 WRAP",
         "mode": "lines+markers",
         "name": "SOUP AND 1/2 WRAP",
         "showlegend": false,
         "type": "scatter",
         "x": [
          "2025-04-28T00:00:00",
          "2025-05-05T00:00:00",
          "2025-05-12T00:00:00",
          "2025-05-19T00:00:00",
          "2025-05-26T00:00:00",
          "2025-06-02T00:00:00"
         ],
         "xaxis": "x7",
         "y": [
          5,
          5,
          3,
          4,
          7,
          15
         ],
         "yaxis": "y7"
        },
        {
         "hoverinfo": "none",
         "line": {
          "color": "green",
          "dash": "dash"
         },
         "mode": "lines",
         "showlegend": false,
         "type": "scatter",
         "x": [
          "2025-04-28T00:00:00",
          "2025-05-05T00:00:00",
          "2025-05-12T00:00:00",
          "2025-05-19T00:00:00",
          "2025-05-26T00:00:00",
          "2025-06-02T00:00:00"
         ],
         "xaxis": "x7",
         "y": [
          2.4285714285215363,
          4.057142857112922,
          5.685714285675203,
          7.314285714266589,
          8.942857142857974,
          10.57142857144936
         ],
         "yaxis": "y7"
        },
        {
         "hoverinfo": "name+x+y",
         "legendgroup": "LA MEXICANA",
         "mode": "lines+markers",
         "name": "LA MEXICANA",
         "showlegend": false,
         "type": "scatter",
         "x": [
          "2025-05-05T00:00:00",
          "2025-05-19T00:00:00",
          "2025-05-26T00:00:00",
          "2025-06-02T00:00:00"
         ],
         "xaxis": "x8",
         "y": [
          1,
          1,
          1,
          2
         ],
         "yaxis": "y8"
        },
        {
         "hoverinfo": "none",
         "line": {
          "color": "green",
          "dash": "dash"
         },
         "mode": "lines",
         "showlegend": false,
         "type": "scatter",
         "x": [
          "2025-05-05T00:00:00",
          "2025-05-19T00:00:00",
          "2025-05-26T00:00:00",
          "2025-06-02T00:00:00"
         ],
         "xaxis": "x8",
         "y": [
          0.7999999999919964,
          1.1999999999934516,
          1.3999999999941792,
          1.5999999999912689
         ],
         "yaxis": "y8"
        },
        {
         "hoverinfo": "name+x+y",
         "legendgroup": "SALAD AND 1/2 WRAP",
         "mode": "lines+markers",
         "name": "SALAD AND 1/2 WRAP",
         "showlegend": true,
         "type": "scatter",
         "x": [
          "2025-04-28T00:00:00",
          "2025-05-05T00:00:00",
          "2025-05-12T00:00:00",
          "2025-05-19T00:00:00",
          "2025-05-26T00:00:00"
         ],
         "xaxis": "x8",
         "y": [
          3,
          1,
          1,
          3,
          3
         ],
         "yaxis": "y8"
        },
        {
         "hoverinfo": "none",
         "line": {
          "color": "green",
          "dash": "dash"
         },
         "mode": "lines",
         "showlegend": false,
         "type": "scatter",
         "x": [
          "2025-04-28T00:00:00",
          "2025-05-05T00:00:00",
          "2025-05-12T00:00:00",
          "2025-05-19T00:00:00",
          "2025-05-26T00:00:00"
         ],
         "xaxis": "x8",
         "y": [
          1.8000000000356522,
          2.000000000021828,
          2.2000000000116415,
          2.399999999997817,
          2.599999999987631
         ],
         "yaxis": "y8"
        },
        {
         "hoverinfo": "name+x+y",
         "legendgroup": "SKINNY GREEN",
         "mode": "lines+markers",
         "name": "SKINNY GREEN",
         "showlegend": false,
         "type": "scatter",
         "x": [
          "2025-04-28T00:00:00",
          "2025-05-12T00:00:00",
          "2025-05-26T00:00:00"
         ],
         "xaxis": "x8",
         "y": [
          1,
          1,
          2
         ],
         "yaxis": "y8"
        },
        {
         "hoverinfo": "none",
         "line": {
          "color": "green",
          "dash": "dash"
         },
         "mode": "lines",
         "showlegend": false,
         "type": "scatter",
         "x": [
          "2025-04-28T00:00:00",
          "2025-05-12T00:00:00",
          "2025-05-26T00:00:00"
         ],
         "xaxis": "x8",
         "y": [
          0.8333333333430346,
          1.3333333333393966,
          1.8333333333321207
         ],
         "yaxis": "y8"
        },
        {
         "hoverinfo": "name+x+y",
         "legendgroup": "SWEET POTATO FRIES",
         "mode": "lines+markers",
         "name": "SWEET POTATO FRIES",
         "showlegend": false,
         "type": "scatter",
         "x": [
          "2025-04-28T00:00:00",
          "2025-05-12T00:00:00",
          "2025-05-26T00:00:00",
          "2025-06-02T00:00:00"
         ],
         "xaxis": "x8",
         "y": [
          1,
          2,
          4,
          1
         ],
         "yaxis": "y8"
        },
        {
         "hoverinfo": "none",
         "line": {
          "color": "green",
          "dash": "dash"
         },
         "mode": "lines",
         "showlegend": false,
         "type": "scatter",
         "x": [
          "2025-04-28T00:00:00",
          "2025-05-12T00:00:00",
          "2025-05-26T00:00:00",
          "2025-06-02T00:00:00"
         ],
         "xaxis": "x8",
         "y": [
          1.4406779661039764,
          1.8474576271146361,
          2.254237288125296,
          2.4576271186306258
         ],
         "yaxis": "y8"
        },
        {
         "hoverinfo": "name+x+y",
         "legendgroup": "TUNA-CADO or CHICKEN-CADO",
         "mode": "lines+markers",
         "name": "TUNA-CADO or CHICKEN-CADO",
         "showlegend": false,
         "type": "scatter",
         "x": [
          "2025-04-28T00:00:00",
          "2025-05-05T00:00:00",
          "2025-05-12T00:00:00"
         ],
         "xaxis": "x8",
         "y": [
          2,
          3,
          4
         ],
         "yaxis": "y8"
        },
        {
         "hoverinfo": "none",
         "line": {
          "color": "green",
          "dash": "dash"
         },
         "mode": "lines",
         "showlegend": false,
         "type": "scatter",
         "x": [
          "2025-04-28T00:00:00",
          "2025-05-05T00:00:00",
          "2025-05-12T00:00:00"
         ],
         "xaxis": "x8",
         "y": [
          2.0000000000436557,
          3.0000000000436557,
          4.000000000043656
         ],
         "yaxis": "y8"
        },
        {
         "hoverinfo": "name+x+y",
         "legendgroup": "LENTIL & KALE SOUP",
         "mode": "lines+markers",
         "name": "LENTIL & KALE SOUP",
         "showlegend": false,
         "type": "scatter",
         "x": [
          "2025-04-28T00:00:00",
          "2025-05-05T00:00:00",
          "2025-05-12T00:00:00",
          "2025-05-26T00:00:00"
         ],
         "xaxis": "x9",
         "y": [
          1,
          1,
          3,
          1
         ],
         "yaxis": "y9"
        },
        {
         "hoverinfo": "none",
         "line": {
          "color": "green",
          "dash": "dash"
         },
         "mode": "lines",
         "showlegend": false,
         "type": "scatter",
         "x": [
          "2025-04-28T00:00:00",
          "2025-05-05T00:00:00",
          "2025-05-12T00:00:00",
          "2025-05-26T00:00:00"
         ],
         "xaxis": "x9",
         "y": [
          1.4000000000069122,
          1.4571428571452998,
          1.514285714284597,
          1.6285714285613722
         ],
         "yaxis": "y9"
        }
       ],
       "layout": {
        "annotations": [
         {
          "font": {
           "size": 16
          },
          "showarrow": false,
          "text": "963260 — Dine In",
          "x": 0.04666666666666666,
          "xanchor": "center",
          "xref": "paper",
          "y": 1,
          "yanchor": "bottom",
          "yref": "paper"
         },
         {
          "font": {
           "size": 16
          },
          "showarrow": false,
          "text": "963260 — Telephone-Pickup",
          "x": 0.16,
          "xanchor": "center",
          "xref": "paper",
          "y": 1,
          "yanchor": "bottom",
          "yref": "paper"
         },
         {
          "font": {
           "size": 16
          },
          "showarrow": false,
          "text": "963260 — UEats-Pickup",
          "x": 0.2733333333333333,
          "xanchor": "center",
          "xref": "paper",
          "y": 1,
          "yanchor": "bottom",
          "yref": "paper"
         },
         {
          "font": {
           "size": 16
          },
          "showarrow": false,
          "text": "963260 — Online-Pickup",
          "x": 0.3866666666666666,
          "xanchor": "center",
          "xref": "paper",
          "y": 1,
          "yanchor": "bottom",
          "yref": "paper"
         },
         {
          "font": {
           "size": 16
          },
          "showarrow": false,
          "text": "963260 — UEats-Delivery",
          "x": 0.5,
          "xanchor": "center",
          "xref": "paper",
          "y": 1,
          "yanchor": "bottom",
          "yref": "paper"
         },
         {
          "font": {
           "size": 16
          },
          "showarrow": false,
          "text": "963260 — Google Online Ordering",
          "x": 0.6133333333333333,
          "xanchor": "center",
          "xref": "paper",
          "y": 1,
          "yanchor": "bottom",
          "yref": "paper"
         },
         {
          "font": {
           "size": 16
          },
          "showarrow": false,
          "text": "963260 — Take Out",
          "x": 0.7266666666666666,
          "xanchor": "center",
          "xref": "paper",
          "y": 1,
          "yanchor": "bottom",
          "yref": "paper"
         },
         {
          "font": {
           "size": 16
          },
          "showarrow": false,
          "text": "963260 — Online-Dispatch",
          "x": 0.8400000000000001,
          "xanchor": "center",
          "xref": "paper",
          "y": 1,
          "yanchor": "bottom",
          "yref": "paper"
         },
         {
          "font": {
           "size": 16
          },
          "showarrow": false,
          "text": "963260 — TimeShark (Pickup)",
          "x": 0.9533333333333334,
          "xanchor": "center",
          "xref": "paper",
          "y": 1,
          "yanchor": "bottom",
          "yref": "paper"
         },
         {
          "bgcolor": "rgba(255,255,255,0.7)",
          "font": {
           "color": "black",
           "size": 9
          },
          "showarrow": false,
          "text": "ALM_0.16",
          "x": "2025-04-28T00:00:00",
          "xanchor": "left",
          "xref": "x",
          "y": 9.190476190458867,
          "yanchor": "top",
          "yref": "y"
         },
         {
          "bgcolor": "rgba(255,255,255,0.7)",
          "font": {
           "color": "black",
           "size": 9
          },
          "showarrow": false,
          "text": "GRI_0.17",
          "x": "2025-04-28T00:00:00",
          "xanchor": "left",
          "xref": "x",
          "y": 11.428571428565192,
          "yanchor": "top",
          "yref": "y"
         },
         {
          "bgcolor": "rgba(255,255,255,0.7)",
          "font": {
           "color": "black",
           "size": 9
          },
          "showarrow": false,
          "text": "JUL_0.28",
          "x": "2025-04-28T00:00:00",
          "xanchor": "left",
          "xref": "x",
          "y": 14.428571428579744,
          "yanchor": "top",
          "yref": "y"
         },
         {
          "bgcolor": "rgba(255,255,255,0.7)",
          "font": {
           "color": "black",
           "size": 9
          },
          "showarrow": false,
          "text": "PES_0.19",
          "x": "2025-04-28T00:00:00",
          "xanchor": "left",
          "xref": "x",
          "y": 13.857142857130384,
          "yanchor": "top",
          "yref": "y"
         },
         {
          "bgcolor": "rgba(255,255,255,0.7)",
          "font": {
           "color": "black",
           "size": 9
          },
          "showarrow": false,
          "text": "POK_0.22",
          "x": "2025-04-28T00:00:00",
          "xanchor": "left",
          "xref": "x",
          "y": 27.285714285710128,
          "yanchor": "top",
          "yref": "y"
         },
         {
          "bgcolor": "rgba(255,255,255,0.7)",
          "font": {
           "color": "black",
           "size": 9
          },
          "showarrow": false,
          "text": "CHI_0.04",
          "x": "2025-04-28T00:00:00",
          "xanchor": "left",
          "xref": "x2",
          "y": 2.714285714304424,
          "yanchor": "top",
          "yref": "y2"
         },
         {
          "bgcolor": "rgba(255,255,255,0.7)",
          "font": {
           "color": "black",
           "size": 9
          },
          "showarrow": false,
          "text": "LEG_0.04",
          "x": "2025-04-28T00:00:00",
          "xanchor": "left",
          "xref": "x2",
          "y": 2.6999999999970896,
          "yanchor": "top",
          "yref": "y2"
         },
         {
          "bgcolor": "rgba(255,255,255,0.7)",
          "font": {
           "color": "black",
           "size": 9
          },
          "showarrow": false,
          "text": "SOU_0.02",
          "x": "2025-04-28T00:00:00",
          "xanchor": "left",
          "xref": "x2",
          "y": 1.5932203389802453,
          "yanchor": "top",
          "yref": "y2"
         },
         {
          "bgcolor": "rgba(255,255,255,0.7)",
          "font": {
           "color": "black",
           "size": 9
          },
          "showarrow": false,
          "text": "CHI_0.06",
          "x": "2025-04-28T00:00:00",
          "xanchor": "left",
          "xref": "x3",
          "y": 5.97297297296609,
          "yanchor": "top",
          "yref": "y3"
         },
         {
          "bgcolor": "rgba(255,255,255,0.7)",
          "font": {
           "color": "black",
           "size": 9
          },
          "showarrow": false,
          "text": "JUL_0.05",
          "x": "2025-04-28T00:00:00",
          "xanchor": "left",
          "xref": "x3",
          "y": 1.928571428572468,
          "yanchor": "top",
          "yref": "y3"
         },
         {
          "bgcolor": "rgba(255,255,255,0.7)",
          "font": {
           "color": "black",
           "size": 9
          },
          "showarrow": false,
          "text": "LEN_0.09",
          "x": "2025-04-28T00:00:00",
          "xanchor": "left",
          "xref": "x3",
          "y": 3.2000000000261934,
          "yanchor": "top",
          "yref": "y3"
         },
         {
          "bgcolor": "rgba(255,255,255,0.7)",
          "font": {
           "color": "black",
           "size": 9
          },
          "showarrow": false,
          "text": "LIV_0.57",
          "x": "2025-04-28T00:00:00",
          "xanchor": "left",
          "xref": "x3",
          "y": 17.999999999941792,
          "yanchor": "top",
          "yref": "y3"
         },
         {
          "bgcolor": "rgba(255,255,255,0.7)",
          "font": {
           "color": "black",
           "size": 9
          },
          "showarrow": false,
          "text": "SKI_0.03",
          "x": "2025-04-28T00:00:00",
          "xanchor": "left",
          "xref": "x3",
          "y": 1.9302325581411424,
          "yanchor": "top",
          "yref": "y3"
         },
         {
          "bgcolor": "rgba(255,255,255,0.7)",
          "font": {
           "color": "black",
           "size": 9
          },
          "showarrow": false,
          "text": "CRI_0.10",
          "x": "2025-04-28T00:00:00",
          "xanchor": "left",
          "xref": "x4",
          "y": 5.047619047618355,
          "yanchor": "top",
          "yref": "y4"
         },
         {
          "bgcolor": "rgba(255,255,255,0.7)",
          "font": {
           "color": "black",
           "size": 9
          },
          "showarrow": false,
          "text": "LA _0.11",
          "x": "2025-04-28T00:00:00",
          "xanchor": "left",
          "xref": "x4",
          "y": 7.761904761908227,
          "yanchor": "top",
          "yref": "y4"
         },
         {
          "bgcolor": "rgba(255,255,255,0.7)",
          "font": {
           "color": "black",
           "size": 9
          },
          "showarrow": false,
          "text": "SKI_0.10",
          "x": "2025-04-28T00:00:00",
          "xanchor": "left",
          "xref": "x4",
          "y": 6.380952380961389,
          "yanchor": "top",
          "yref": "y4"
         },
         {
          "bgcolor": "rgba(255,255,255,0.7)",
          "font": {
           "color": "black",
           "size": 9
          },
          "showarrow": false,
          "text": "STR_0.18",
          "x": "2025-04-28T00:00:00",
          "xanchor": "left",
          "xref": "x4",
          "y": 7.571428571405704,
          "yanchor": "top",
          "yref": "y4"
         },
         {
          "bgcolor": "rgba(255,255,255,0.7)",
          "font": {
           "color": "black",
           "size": 9
          },
          "showarrow": false,
          "text": "SWE_0.24",
          "x": "2025-04-28T00:00:00",
          "xanchor": "left",
          "xref": "x4",
          "y": 12.380952380975941,
          "yanchor": "top",
          "yref": "y4"
         },
         {
          "bgcolor": "rgba(255,255,255,0.7)",
          "font": {
           "color": "black",
           "size": 9
          },
          "showarrow": false,
          "text": "GRE_0.38",
          "x": "2025-04-28T00:00:00",
          "xanchor": "left",
          "xref": "x5",
          "y": 14.714285714377183,
          "yanchor": "top",
          "yref": "y5"
         },
         {
          "bgcolor": "rgba(255,255,255,0.7)",
          "font": {
           "color": "black",
           "size": 9
          },
          "showarrow": false,
          "text": "HOM_0.45",
          "x": "2025-04-28T00:00:00",
          "xanchor": "left",
          "xref": "x5",
          "y": 24.761904761893675,
          "yanchor": "top",
          "yref": "y5"
         },
         {
          "bgcolor": "rgba(255,255,255,0.7)",
          "font": {
           "color": "black",
           "size": 9
          },
          "showarrow": false,
          "text": "HUE_0.24",
          "x": "2025-04-28T00:00:00",
          "xanchor": "left",
          "xref": "x5",
          "y": 15.619047619053163,
          "yanchor": "top",
          "yref": "y5"
         },
         {
          "bgcolor": "rgba(255,255,255,0.7)",
          "font": {
           "color": "black",
           "size": 9
          },
          "showarrow": false,
          "text": "LIV_1.61",
          "x": "2025-04-28T00:00:00",
          "xanchor": "left",
          "xref": "x5",
          "y": 52.1428571427241,
          "yanchor": "top",
          "yref": "y5"
         },
         {
          "bgcolor": "rgba(255,255,255,0.7)",
          "font": {
           "color": "black",
           "size": 9
          },
          "showarrow": false,
          "text": "TUN_0.20",
          "x": "2025-04-28T00:00:00",
          "xanchor": "left",
          "xref": "x5",
          "y": 12.333333333343035,
          "yanchor": "top",
          "yref": "y5"
         },
         {
          "bgcolor": "rgba(255,255,255,0.7)",
          "font": {
           "color": "black",
           "size": 9
          },
          "showarrow": false,
          "text": "HEA_0.00",
          "x": "2025-05-12T00:00:00",
          "xanchor": "left",
          "xref": "x6",
          "y": 2.6666666666710994,
          "yanchor": "top",
          "yref": "y6"
         },
         {
          "bgcolor": "rgba(255,255,255,0.7)",
          "font": {
           "color": "black",
           "size": 9
          },
          "showarrow": false,
          "text": "LEN_0.00",
          "x": "2025-04-28T00:00:00",
          "xanchor": "left",
          "xref": "x6",
          "y": 1.8000000000074579,
          "yanchor": "top",
          "yref": "y6"
         },
         {
          "bgcolor": "rgba(255,255,255,0.7)",
          "font": {
           "color": "black",
           "size": 9
          },
          "showarrow": false,
          "text": "MAR_0.04",
          "x": "2025-05-05T00:00:00",
          "xanchor": "left",
          "xref": "x6",
          "y": 2.14285714286234,
          "yanchor": "top",
          "yref": "y6"
         },
         {
          "bgcolor": "rgba(255,255,255,0.7)",
          "font": {
           "color": "black",
           "size": 9
          },
          "showarrow": false,
          "text": "PAR_0.04",
          "x": "2025-05-12T00:00:00",
          "xanchor": "left",
          "xref": "x6",
          "y": 1.6999999999970896,
          "yanchor": "top",
          "yref": "y6"
         },
         {
          "bgcolor": "rgba(255,255,255,0.7)",
          "font": {
           "color": "black",
           "size": 9
          },
          "showarrow": false,
          "text": "TOS_0.04",
          "x": "2025-05-05T00:00:00",
          "xanchor": "left",
          "xref": "x6",
          "y": 2.2000000000116415,
          "yanchor": "top",
          "yref": "y6"
         },
         {
          "bgcolor": "rgba(255,255,255,0.7)",
          "font": {
           "color": "black",
           "size": 9
          },
          "showarrow": false,
          "text": "HOM_0.25",
          "x": "2025-04-28T00:00:00",
          "xanchor": "left",
          "xref": "x7",
          "y": 13.09523809523671,
          "yanchor": "top",
          "yref": "y7"
         },
         {
          "bgcolor": "rgba(255,255,255,0.7)",
          "font": {
           "color": "black",
           "size": 9
          },
          "showarrow": false,
          "text": "JUL_0.27",
          "x": "2025-04-28T00:00:00",
          "xanchor": "left",
          "xref": "x7",
          "y": 14.380952380946837,
          "yanchor": "top",
          "yref": "y7"
         },
         {
          "bgcolor": "rgba(255,255,255,0.7)",
          "font": {
           "color": "black",
           "size": 9
          },
          "showarrow": false,
          "text": "LEG_0.17",
          "x": "2025-04-28T00:00:00",
          "xanchor": "left",
          "xref": "x7",
          "y": 22.000000000058208,
          "yanchor": "top",
          "yref": "y7"
         },
         {
          "bgcolor": "rgba(255,255,255,0.7)",
          "font": {
           "color": "black",
           "size": 9
          },
          "showarrow": false,
          "text": "PES_0.21",
          "x": "2025-04-28T00:00:00",
          "xanchor": "left",
          "xref": "x7",
          "y": 11.476190476154443,
          "yanchor": "top",
          "yref": "y7"
         },
         {
          "bgcolor": "rgba(255,255,255,0.7)",
          "font": {
           "color": "black",
           "size": 9
          },
          "showarrow": false,
          "text": "SOU_0.23",
          "x": "2025-04-28T00:00:00",
          "xanchor": "left",
          "xref": "x7",
          "y": 10.57142857144936,
          "yanchor": "top",
          "yref": "y7"
         },
         {
          "bgcolor": "rgba(255,255,255,0.7)",
          "font": {
           "color": "black",
           "size": 9
          },
          "showarrow": false,
          "text": "LA _0.03",
          "x": "2025-05-05T00:00:00",
          "xanchor": "left",
          "xref": "x8",
          "y": 1.5999999999912689,
          "yanchor": "top",
          "yref": "y8"
         },
         {
          "bgcolor": "rgba(255,255,255,0.7)",
          "font": {
           "color": "black",
           "size": 9
          },
          "showarrow": false,
          "text": "SAL_0.03",
          "x": "2025-04-28T00:00:00",
          "xanchor": "left",
          "xref": "x8",
          "y": 2.599999999987631,
          "yanchor": "top",
          "yref": "y8"
         },
         {
          "bgcolor": "rgba(255,255,255,0.7)",
          "font": {
           "color": "black",
           "size": 9
          },
          "showarrow": false,
          "text": "SKI_0.04",
          "x": "2025-04-28T00:00:00",
          "xanchor": "left",
          "xref": "x8",
          "y": 1.8333333333321207,
          "yanchor": "top",
          "yref": "y8"
         },
         {
          "bgcolor": "rgba(255,255,255,0.7)",
          "font": {
           "color": "black",
           "size": 9
          },
          "showarrow": false,
          "text": "SWE_0.03",
          "x": "2025-04-28T00:00:00",
          "xanchor": "left",
          "xref": "x8",
          "y": 2.4576271186306258,
          "yanchor": "top",
          "yref": "y8"
         },
         {
          "bgcolor": "rgba(255,255,255,0.7)",
          "font": {
           "color": "black",
           "size": 9
          },
          "showarrow": false,
          "text": "TUN_0.14",
          "x": "2025-04-28T00:00:00",
          "xanchor": "left",
          "xref": "x8",
          "y": 4.000000000043656,
          "yanchor": "top",
          "yref": "y8"
         },
         {
          "bgcolor": "rgba(255,255,255,0.7)",
          "font": {
           "color": "black",
           "size": 9
          },
          "showarrow": false,
          "text": "LEN_0.01",
          "x": "2025-04-28T00:00:00",
          "xanchor": "left",
          "xref": "x9",
          "y": 1.6285714285613722,
          "yanchor": "top",
          "yref": "y9"
         }
        ],
        "height": 400,
        "hovermode": "x unified",
        "legend": {
         "title": {
          "text": "MenuItemName"
         }
        },
        "template": {
         "data": {
          "bar": [
           {
            "error_x": {
             "color": "#2a3f5f"
            },
            "error_y": {
             "color": "#2a3f5f"
            },
            "marker": {
             "line": {
              "color": "#E5ECF6",
              "width": 0.5
             },
             "pattern": {
              "fillmode": "overlay",
              "size": 10,
              "solidity": 0.2
             }
            },
            "type": "bar"
           }
          ],
          "barpolar": [
           {
            "marker": {
             "line": {
              "color": "#E5ECF6",
              "width": 0.5
             },
             "pattern": {
              "fillmode": "overlay",
              "size": 10,
              "solidity": 0.2
             }
            },
            "type": "barpolar"
           }
          ],
          "carpet": [
           {
            "aaxis": {
             "endlinecolor": "#2a3f5f",
             "gridcolor": "white",
             "linecolor": "white",
             "minorgridcolor": "white",
             "startlinecolor": "#2a3f5f"
            },
            "baxis": {
             "endlinecolor": "#2a3f5f",
             "gridcolor": "white",
             "linecolor": "white",
             "minorgridcolor": "white",
             "startlinecolor": "#2a3f5f"
            },
            "type": "carpet"
           }
          ],
          "choropleth": [
           {
            "colorbar": {
             "outlinewidth": 0,
             "ticks": ""
            },
            "type": "choropleth"
           }
          ],
          "contour": [
           {
            "colorbar": {
             "outlinewidth": 0,
             "ticks": ""
            },
            "colorscale": [
             [
              0,
              "#0d0887"
             ],
             [
              0.1111111111111111,
              "#46039f"
             ],
             [
              0.2222222222222222,
              "#7201a8"
             ],
             [
              0.3333333333333333,
              "#9c179e"
             ],
             [
              0.4444444444444444,
              "#bd3786"
             ],
             [
              0.5555555555555556,
              "#d8576b"
             ],
             [
              0.6666666666666666,
              "#ed7953"
             ],
             [
              0.7777777777777778,
              "#fb9f3a"
             ],
             [
              0.8888888888888888,
              "#fdca26"
             ],
             [
              1,
              "#f0f921"
             ]
            ],
            "type": "contour"
           }
          ],
          "contourcarpet": [
           {
            "colorbar": {
             "outlinewidth": 0,
             "ticks": ""
            },
            "type": "contourcarpet"
           }
          ],
          "heatmap": [
           {
            "colorbar": {
             "outlinewidth": 0,
             "ticks": ""
            },
            "colorscale": [
             [
              0,
              "#0d0887"
             ],
             [
              0.1111111111111111,
              "#46039f"
             ],
             [
              0.2222222222222222,
              "#7201a8"
             ],
             [
              0.3333333333333333,
              "#9c179e"
             ],
             [
              0.4444444444444444,
              "#bd3786"
             ],
             [
              0.5555555555555556,
              "#d8576b"
             ],
             [
              0.6666666666666666,
              "#ed7953"
             ],
             [
              0.7777777777777778,
              "#fb9f3a"
             ],
             [
              0.8888888888888888,
              "#fdca26"
             ],
             [
              1,
              "#f0f921"
             ]
            ],
            "type": "heatmap"
           }
          ],
          "heatmapgl": [
           {
            "colorbar": {
             "outlinewidth": 0,
             "ticks": ""
            },
            "colorscale": [
             [
              0,
              "#0d0887"
             ],
             [
              0.1111111111111111,
              "#46039f"
             ],
             [
              0.2222222222222222,
              "#7201a8"
             ],
             [
              0.3333333333333333,
              "#9c179e"
             ],
             [
              0.4444444444444444,
              "#bd3786"
             ],
             [
              0.5555555555555556,
              "#d8576b"
             ],
             [
              0.6666666666666666,
              "#ed7953"
             ],
             [
              0.7777777777777778,
              "#fb9f3a"
             ],
             [
              0.8888888888888888,
              "#fdca26"
             ],
             [
              1,
              "#f0f921"
             ]
            ],
            "type": "heatmapgl"
           }
          ],
          "histogram": [
           {
            "marker": {
             "pattern": {
              "fillmode": "overlay",
              "size": 10,
              "solidity": 0.2
             }
            },
            "type": "histogram"
           }
          ],
          "histogram2d": [
           {
            "colorbar": {
             "outlinewidth": 0,
             "ticks": ""
            },
            "colorscale": [
             [
              0,
              "#0d0887"
             ],
             [
              0.1111111111111111,
              "#46039f"
             ],
             [
              0.2222222222222222,
              "#7201a8"
             ],
             [
              0.3333333333333333,
              "#9c179e"
             ],
             [
              0.4444444444444444,
              "#bd3786"
             ],
             [
              0.5555555555555556,
              "#d8576b"
             ],
             [
              0.6666666666666666,
              "#ed7953"
             ],
             [
              0.7777777777777778,
              "#fb9f3a"
             ],
             [
              0.8888888888888888,
              "#fdca26"
             ],
             [
              1,
              "#f0f921"
             ]
            ],
            "type": "histogram2d"
           }
          ],
          "histogram2dcontour": [
           {
            "colorbar": {
             "outlinewidth": 0,
             "ticks": ""
            },
            "colorscale": [
             [
              0,
              "#0d0887"
             ],
             [
              0.1111111111111111,
              "#46039f"
             ],
             [
              0.2222222222222222,
              "#7201a8"
             ],
             [
              0.3333333333333333,
              "#9c179e"
             ],
             [
              0.4444444444444444,
              "#bd3786"
             ],
             [
              0.5555555555555556,
              "#d8576b"
             ],
             [
              0.6666666666666666,
              "#ed7953"
             ],
             [
              0.7777777777777778,
              "#fb9f3a"
             ],
             [
              0.8888888888888888,
              "#fdca26"
             ],
             [
              1,
              "#f0f921"
             ]
            ],
            "type": "histogram2dcontour"
           }
          ],
          "mesh3d": [
           {
            "colorbar": {
             "outlinewidth": 0,
             "ticks": ""
            },
            "type": "mesh3d"
           }
          ],
          "parcoords": [
           {
            "line": {
             "colorbar": {
              "outlinewidth": 0,
              "ticks": ""
             }
            },
            "type": "parcoords"
           }
          ],
          "pie": [
           {
            "automargin": true,
            "type": "pie"
           }
          ],
          "scatter": [
           {
            "fillpattern": {
             "fillmode": "overlay",
             "size": 10,
             "solidity": 0.2
            },
            "type": "scatter"
           }
          ],
          "scatter3d": [
           {
            "line": {
             "colorbar": {
              "outlinewidth": 0,
              "ticks": ""
             }
            },
            "marker": {
             "colorbar": {
              "outlinewidth": 0,
              "ticks": ""
             }
            },
            "type": "scatter3d"
           }
          ],
          "scattercarpet": [
           {
            "marker": {
             "colorbar": {
              "outlinewidth": 0,
              "ticks": ""
             }
            },
            "type": "scattercarpet"
           }
          ],
          "scattergeo": [
           {
            "marker": {
             "colorbar": {
              "outlinewidth": 0,
              "ticks": ""
             }
            },
            "type": "scattergeo"
           }
          ],
          "scattergl": [
           {
            "marker": {
             "colorbar": {
              "outlinewidth": 0,
              "ticks": ""
             }
            },
            "type": "scattergl"
           }
          ],
          "scattermapbox": [
           {
            "marker": {
             "colorbar": {
              "outlinewidth": 0,
              "ticks": ""
             }
            },
            "type": "scattermapbox"
           }
          ],
          "scatterpolar": [
           {
            "marker": {
             "colorbar": {
              "outlinewidth": 0,
              "ticks": ""
             }
            },
            "type": "scatterpolar"
           }
          ],
          "scatterpolargl": [
           {
            "marker": {
             "colorbar": {
              "outlinewidth": 0,
              "ticks": ""
             }
            },
            "type": "scatterpolargl"
           }
          ],
          "scatterternary": [
           {
            "marker": {
             "colorbar": {
              "outlinewidth": 0,
              "ticks": ""
             }
            },
            "type": "scatterternary"
           }
          ],
          "surface": [
           {
            "colorbar": {
             "outlinewidth": 0,
             "ticks": ""
            },
            "colorscale": [
             [
              0,
              "#0d0887"
             ],
             [
              0.1111111111111111,
              "#46039f"
             ],
             [
              0.2222222222222222,
              "#7201a8"
             ],
             [
              0.3333333333333333,
              "#9c179e"
             ],
             [
              0.4444444444444444,
              "#bd3786"
             ],
             [
              0.5555555555555556,
              "#d8576b"
             ],
             [
              0.6666666666666666,
              "#ed7953"
             ],
             [
              0.7777777777777778,
              "#fb9f3a"
             ],
             [
              0.8888888888888888,
              "#fdca26"
             ],
             [
              1,
              "#f0f921"
             ]
            ],
            "type": "surface"
           }
          ],
          "table": [
           {
            "cells": {
             "fill": {
              "color": "#EBF0F8"
             },
             "line": {
              "color": "white"
             }
            },
            "header": {
             "fill": {
              "color": "#C8D4E3"
             },
             "line": {
              "color": "white"
             }
            },
            "type": "table"
           }
          ]
         },
         "layout": {
          "annotationdefaults": {
           "arrowcolor": "#2a3f5f",
           "arrowhead": 0,
           "arrowwidth": 1
          },
          "autotypenumbers": "strict",
          "coloraxis": {
           "colorbar": {
            "outlinewidth": 0,
            "ticks": ""
           }
          },
          "colorscale": {
           "diverging": [
            [
             0,
             "#8e0152"
            ],
            [
             0.1,
             "#c51b7d"
            ],
            [
             0.2,
             "#de77ae"
            ],
            [
             0.3,
             "#f1b6da"
            ],
            [
             0.4,
             "#fde0ef"
            ],
            [
             0.5,
             "#f7f7f7"
            ],
            [
             0.6,
             "#e6f5d0"
            ],
            [
             0.7,
             "#b8e186"
            ],
            [
             0.8,
             "#7fbc41"
            ],
            [
             0.9,
             "#4d9221"
            ],
            [
             1,
             "#276419"
            ]
           ],
           "sequential": [
            [
             0,
             "#0d0887"
            ],
            [
             0.1111111111111111,
             "#46039f"
            ],
            [
             0.2222222222222222,
             "#7201a8"
            ],
            [
             0.3333333333333333,
             "#9c179e"
            ],
            [
             0.4444444444444444,
             "#bd3786"
            ],
            [
             0.5555555555555556,
             "#d8576b"
            ],
            [
             0.6666666666666666,
             "#ed7953"
            ],
            [
             0.7777777777777778,
             "#fb9f3a"
            ],
            [
             0.8888888888888888,
             "#fdca26"
            ],
            [
             1,
             "#f0f921"
            ]
           ],
           "sequentialminus": [
            [
             0,
             "#0d0887"
            ],
            [
             0.1111111111111111,
             "#46039f"
            ],
            [
             0.2222222222222222,
             "#7201a8"
            ],
            [
             0.3333333333333333,
             "#9c179e"
            ],
            [
             0.4444444444444444,
             "#bd3786"
            ],
            [
             0.5555555555555556,
             "#d8576b"
            ],
            [
             0.6666666666666666,
             "#ed7953"
            ],
            [
             0.7777777777777778,
             "#fb9f3a"
            ],
            [
             0.8888888888888888,
             "#fdca26"
            ],
            [
             1,
             "#f0f921"
            ]
           ]
          },
          "colorway": [
           "#636efa",
           "#EF553B",
           "#00cc96",
           "#ab63fa",
           "#FFA15A",
           "#19d3f3",
           "#FF6692",
           "#B6E880",
           "#FF97FF",
           "#FECB52"
          ],
          "font": {
           "color": "#2a3f5f"
          },
          "geo": {
           "bgcolor": "white",
           "lakecolor": "white",
           "landcolor": "#E5ECF6",
           "showlakes": true,
           "showland": true,
           "subunitcolor": "white"
          },
          "hoverlabel": {
           "align": "left"
          },
          "hovermode": "closest",
          "mapbox": {
           "style": "light"
          },
          "paper_bgcolor": "white",
          "plot_bgcolor": "#E5ECF6",
          "polar": {
           "angularaxis": {
            "gridcolor": "white",
            "linecolor": "white",
            "ticks": ""
           },
           "bgcolor": "#E5ECF6",
           "radialaxis": {
            "gridcolor": "white",
            "linecolor": "white",
            "ticks": ""
           }
          },
          "scene": {
           "xaxis": {
            "backgroundcolor": "#E5ECF6",
            "gridcolor": "white",
            "gridwidth": 2,
            "linecolor": "white",
            "showbackground": true,
            "ticks": "",
            "zerolinecolor": "white"
           },
           "yaxis": {
            "backgroundcolor": "#E5ECF6",
            "gridcolor": "white",
            "gridwidth": 2,
            "linecolor": "white",
            "showbackground": true,
            "ticks": "",
            "zerolinecolor": "white"
           },
           "zaxis": {
            "backgroundcolor": "#E5ECF6",
            "gridcolor": "white",
            "gridwidth": 2,
            "linecolor": "white",
            "showbackground": true,
            "ticks": "",
            "zerolinecolor": "white"
           }
          },
          "shapedefaults": {
           "line": {
            "color": "#2a3f5f"
           }
          },
          "ternary": {
           "aaxis": {
            "gridcolor": "white",
            "linecolor": "white",
            "ticks": ""
           },
           "baxis": {
            "gridcolor": "white",
            "linecolor": "white",
            "ticks": ""
           },
           "bgcolor": "#E5ECF6",
           "caxis": {
            "gridcolor": "white",
            "linecolor": "white",
            "ticks": ""
           }
          },
          "title": {
           "x": 0.05
          },
          "xaxis": {
           "automargin": true,
           "gridcolor": "white",
           "linecolor": "white",
           "ticks": "",
           "title": {
            "standoff": 15
           },
           "zerolinecolor": "white",
           "zerolinewidth": 2
          },
          "yaxis": {
           "automargin": true,
           "gridcolor": "white",
           "linecolor": "white",
           "ticks": "",
           "title": {
            "standoff": 15
           },
           "zerolinecolor": "white",
           "zerolinewidth": 2
          }
         }
        },
        "title": {
         "text": "Weekly Item Volume with Increasing Trend Lines by StoreId and OrderType"
        },
        "width": 2700,
        "xaxis": {
         "anchor": "y",
         "domain": [
          0,
          0.09333333333333332
         ]
        },
        "xaxis2": {
         "anchor": "y2",
         "domain": [
          0.11333333333333333,
          0.20666666666666667
         ]
        },
        "xaxis3": {
         "anchor": "y3",
         "domain": [
          0.22666666666666666,
          0.31999999999999995
         ]
        },
        "xaxis4": {
         "anchor": "y4",
         "domain": [
          0.33999999999999997,
          0.4333333333333333
         ]
        },
        "xaxis5": {
         "anchor": "y5",
         "domain": [
          0.4533333333333333,
          0.5466666666666666
         ]
        },
        "xaxis6": {
         "anchor": "y6",
         "domain": [
          0.5666666666666667,
          0.6599999999999999
         ]
        },
        "xaxis7": {
         "anchor": "y7",
         "domain": [
          0.6799999999999999,
          0.7733333333333332
         ]
        },
        "xaxis8": {
         "anchor": "y8",
         "domain": [
          0.7933333333333333,
          0.8866666666666667
         ]
        },
        "xaxis9": {
         "anchor": "y9",
         "domain": [
          0.9066666666666666,
          1
         ]
        },
        "yaxis": {
         "anchor": "x",
         "domain": [
          0,
          1
         ]
        },
        "yaxis2": {
         "anchor": "x2",
         "domain": [
          0,
          1
         ]
        },
        "yaxis3": {
         "anchor": "x3",
         "domain": [
          0,
          1
         ]
        },
        "yaxis4": {
         "anchor": "x4",
         "domain": [
          0,
          1
         ]
        },
        "yaxis5": {
         "anchor": "x5",
         "domain": [
          0,
          1
         ]
        },
        "yaxis6": {
         "anchor": "x6",
         "domain": [
          0,
          1
         ]
        },
        "yaxis7": {
         "anchor": "x7",
         "domain": [
          0,
          1
         ]
        },
        "yaxis8": {
         "anchor": "x8",
         "domain": [
          0,
          1
         ]
        },
        "yaxis9": {
         "anchor": "x9",
         "domain": [
          0,
          1
         ]
        }
       }
      }
     },
     "metadata": {},
     "output_type": "display_data"
    },
    {
     "name": "stderr",
     "output_type": "stream",
     "text": [
      "/Library/Frameworks/Python.framework/Versions/3.7/lib/python3.7/site-packages/pandas/util/_decorators.py:311: SettingWithCopyWarning:\n",
      "\n",
      "\n",
      "A value is trying to be set on a copy of a slice from a DataFrame\n",
      "\n",
      "See the caveats in the documentation: https://pandas.pydata.org/pandas-docs/stable/user_guide/indexing.html#returning-a-view-versus-a-copy\n",
      "\n",
      "/Library/Frameworks/Python.framework/Versions/3.7/lib/python3.7/site-packages/ipykernel_launcher.py:13: SettingWithCopyWarning:\n",
      "\n",
      "\n",
      "A value is trying to be set on a copy of a slice from a DataFrame.\n",
      "Try using .loc[row_indexer,col_indexer] = value instead\n",
      "\n",
      "See the caveats in the documentation: https://pandas.pydata.org/pandas-docs/stable/user_guide/indexing.html#returning-a-view-versus-a-copy\n",
      "\n"
     ]
    },
    {
     "data": {
      "application/vnd.plotly.v1+json": {
       "config": {
        "plotlyServerURL": "https://plot.ly"
       },
       "data": [
        {
         "hoverinfo": "name+x+y",
         "legendgroup": "AQUA PANNA",
         "mode": "lines+markers",
         "name": "AQUA PANNA",
         "showlegend": true,
         "type": "scatter",
         "x": [
          "2025-04-28T00:00:00",
          "2025-05-05T00:00:00",
          "2025-05-12T00:00:00",
          "2025-05-19T00:00:00",
          "2025-05-26T00:00:00",
          "2025-06-02T00:00:00"
         ],
         "xaxis": "x",
         "y": [
          17,
          24,
          15,
          54,
          24,
          18
         ],
         "yaxis": "y"
        },
        {
         "hoverinfo": "none",
         "line": {
          "color": "green",
          "dash": "dash"
         },
         "mode": "lines",
         "showlegend": false,
         "type": "scatter",
         "x": [
          "2025-04-28T00:00:00",
          "2025-05-05T00:00:00",
          "2025-05-12T00:00:00",
          "2025-05-19T00:00:00",
          "2025-05-26T00:00:00",
          "2025-06-02T00:00:00"
         ],
         "xaxis": "x",
         "y": [
          22.19047619047342,
          23.447619047597982,
          24.704761904722545,
          25.961904761876212,
          27.219047619000776,
          28.47619047612534
         ],
         "yaxis": "y"
        },
        {
         "hoverinfo": "name+x+y",
         "legendgroup": "CORTADO",
         "mode": "lines+markers",
         "name": "CORTADO",
         "showlegend": true,
         "type": "scatter",
         "x": [
          "2025-04-28T00:00:00",
          "2025-05-05T00:00:00",
          "2025-05-12T00:00:00",
          "2025-05-26T00:00:00"
         ],
         "xaxis": "x",
         "y": [
          1,
          3,
          6,
          3
         ],
         "yaxis": "y"
        },
        {
         "hoverinfo": "none",
         "line": {
          "color": "green",
          "dash": "dash"
         },
         "mode": "lines",
         "showlegend": false,
         "type": "scatter",
         "x": [
          "2025-04-28T00:00:00",
          "2025-05-05T00:00:00",
          "2025-05-12T00:00:00",
          "2025-05-26T00:00:00"
         ],
         "xaxis": "x",
         "y": [
          2.400000000008731,
          2.885714285715949,
          3.3714285714231664,
          4.342857142837602
         ],
         "yaxis": "y"
        },
        {
         "hoverinfo": "name+x+y",
         "legendgroup": "LENTIL & KALE SOUP",
         "mode": "lines+markers",
         "name": "LENTIL & KALE SOUP",
         "showlegend": true,
         "type": "scatter",
         "x": [
          "2025-04-28T00:00:00",
          "2025-05-05T00:00:00",
          "2025-05-12T00:00:00",
          "2025-05-19T00:00:00",
          "2025-05-26T00:00:00",
          "2025-06-02T00:00:00"
         ],
         "xaxis": "x",
         "y": [
          25,
          21,
          48,
          42,
          64,
          16
         ],
         "yaxis": "y"
        },
        {
         "hoverinfo": "none",
         "line": {
          "color": "green",
          "dash": "dash"
         },
         "mode": "lines",
         "showlegend": false,
         "type": "scatter",
         "x": [
          "2025-04-28T00:00:00",
          "2025-05-05T00:00:00",
          "2025-05-12T00:00:00",
          "2025-05-19T00:00:00",
          "2025-05-26T00:00:00",
          "2025-06-02T00:00:00"
         ],
         "xaxis": "x",
         "y": [
          30.428571428579744,
          32.657142857147846,
          34.885714285686845,
          37.11428571425495,
          39.34285714282305,
          41.57142857139115
         ],
         "yaxis": "y"
        },
        {
         "hoverinfo": "name+x+y",
         "legendgroup": "LIV WRAP",
         "mode": "lines+markers",
         "name": "LIV WRAP",
         "showlegend": true,
         "type": "scatter",
         "x": [
          "2025-04-28T00:00:00",
          "2025-05-05T00:00:00",
          "2025-05-12T00:00:00",
          "2025-05-19T00:00:00",
          "2025-05-26T00:00:00",
          "2025-06-02T00:00:00"
         ],
         "xaxis": "x",
         "y": [
          10,
          9,
          15,
          18,
          25,
          10
         ],
         "yaxis": "y"
        },
        {
         "hoverinfo": "none",
         "line": {
          "color": "green",
          "dash": "dash"
         },
         "mode": "lines",
         "showlegend": false,
         "type": "scatter",
         "x": [
          "2025-04-28T00:00:00",
          "2025-05-05T00:00:00",
          "2025-05-12T00:00:00",
          "2025-05-19T00:00:00",
          "2025-05-26T00:00:00",
          "2025-06-02T00:00:00"
         ],
         "xaxis": "x",
         "y": [
          10.857142857130384,
          12.314285714266589,
          13.771428571431898,
          15.228571428568102,
          16.685714285704307,
          18.142857142840512
         ],
         "yaxis": "y"
        },
        {
         "hoverinfo": "name+x+y",
         "legendgroup": "SWEET POTATO W/GRILLED CHICKEN",
         "mode": "lines+markers",
         "name": "SWEET POTATO W/GRILLED CHICKEN",
         "showlegend": true,
         "type": "scatter",
         "x": [
          "2025-04-28T00:00:00",
          "2025-05-05T00:00:00",
          "2025-05-19T00:00:00"
         ],
         "xaxis": "x",
         "y": [
          2,
          6,
          12
         ],
         "yaxis": "y"
        },
        {
         "hoverinfo": "none",
         "line": {
          "color": "green",
          "dash": "dash"
         },
         "mode": "lines",
         "showlegend": false,
         "type": "scatter",
         "x": [
          "2025-04-28T00:00:00",
          "2025-05-05T00:00:00",
          "2025-05-19T00:00:00"
         ],
         "xaxis": "x",
         "y": [
          2.2857142857974395,
          5.571428571478464,
          12.142857142840512
         ],
         "yaxis": "y"
        },
        {
         "hoverinfo": "name+x+y",
         "legendgroup": "BERRY WILD",
         "mode": "lines+markers",
         "name": "BERRY WILD",
         "showlegend": true,
         "type": "scatter",
         "x": [
          "2025-05-05T00:00:00",
          "2025-05-19T00:00:00",
          "2025-05-26T00:00:00",
          "2025-06-02T00:00:00"
         ],
         "xaxis": "x2",
         "y": [
          3,
          6,
          6,
          4
         ],
         "yaxis": "y2"
        },
        {
         "hoverinfo": "none",
         "line": {
          "color": "green",
          "dash": "dash"
         },
         "mode": "lines",
         "showlegend": false,
         "type": "scatter",
         "x": [
          "2025-05-05T00:00:00",
          "2025-05-19T00:00:00",
          "2025-05-26T00:00:00",
          "2025-06-02T00:00:00"
         ],
         "xaxis": "x2",
         "y": [
          3.9142857142869616,
          4.65714285714057,
          5.028571428571013,
          5.400000000001455
         ],
         "yaxis": "y2"
        },
        {
         "hoverinfo": "name+x+y",
         "legendgroup": "JULIE'S SMOOTHIE",
         "mode": "lines+markers",
         "name": "JULIE'S SMOOTHIE",
         "showlegend": true,
         "type": "scatter",
         "x": [
          "2025-04-28T00:00:00",
          "2025-05-05T00:00:00",
          "2025-05-12T00:00:00",
          "2025-05-19T00:00:00",
          "2025-05-26T00:00:00",
          "2025-06-02T00:00:00"
         ],
         "xaxis": "x2",
         "y": [
          1,
          3,
          9,
          6,
          10,
          1
         ],
         "yaxis": "y2"
        },
        {
         "hoverinfo": "none",
         "line": {
          "color": "green",
          "dash": "dash"
         },
         "mode": "lines",
         "showlegend": false,
         "type": "scatter",
         "x": [
          "2025-04-28T00:00:00",
          "2025-05-05T00:00:00",
          "2025-05-12T00:00:00",
          "2025-05-19T00:00:00",
          "2025-05-26T00:00:00",
          "2025-06-02T00:00:00"
         ],
         "xaxis": "x2",
         "y": [
          3.714285714282596,
          4.228571428568102,
          4.742857142853609,
          5.257142857139115,
          5.771428571417346,
          6.285714285702852
         ],
         "yaxis": "y2"
        },
        {
         "hoverinfo": "name+x+y",
         "legendgroup": "LIV WRAP",
         "mode": "lines+markers",
         "name": "LIV WRAP",
         "showlegend": false,
         "type": "scatter",
         "x": [
          "2025-04-28T00:00:00",
          "2025-05-05T00:00:00",
          "2025-05-12T00:00:00",
          "2025-05-19T00:00:00",
          "2025-05-26T00:00:00",
          "2025-06-02T00:00:00"
         ],
         "xaxis": "x2",
         "y": [
          3,
          15,
          24,
          15,
          21,
          12
         ],
         "yaxis": "y2"
        },
        {
         "hoverinfo": "none",
         "line": {
          "color": "green",
          "dash": "dash"
         },
         "mode": "lines",
         "showlegend": false,
         "type": "scatter",
         "x": [
          "2025-04-28T00:00:00",
          "2025-05-05T00:00:00",
          "2025-05-12T00:00:00",
          "2025-05-19T00:00:00",
          "2025-05-26T00:00:00",
          "2025-06-02T00:00:00"
         ],
         "xaxis": "x2",
         "y": [
          11.142857142811408,
          12.685714285675203,
          14.228571428538999,
          15.771428571402794,
          17.314285714237485,
          18.85714285710128
         ],
         "yaxis": "y2"
        },
        {
         "hoverinfo": "name+x+y",
         "legendgroup": "SALAD AND 1/2 WRAP",
         "mode": "lines+markers",
         "name": "SALAD AND 1/2 WRAP",
         "showlegend": true,
         "type": "scatter",
         "x": [
          "2025-04-28T00:00:00",
          "2025-05-05T00:00:00",
          "2025-05-12T00:00:00",
          "2025-05-19T00:00:00",
          "2025-05-26T00:00:00",
          "2025-06-02T00:00:00"
         ],
         "xaxis": "x2",
         "y": [
          6,
          12,
          9,
          36,
          18,
          7
         ],
         "yaxis": "y2"
        },
        {
         "hoverinfo": "none",
         "line": {
          "color": "green",
          "dash": "dash"
         },
         "mode": "lines",
         "showlegend": false,
         "type": "scatter",
         "x": [
          "2025-04-28T00:00:00",
          "2025-05-05T00:00:00",
          "2025-05-12T00:00:00",
          "2025-05-19T00:00:00",
          "2025-05-26T00:00:00",
          "2025-06-02T00:00:00"
         ],
         "xaxis": "x2",
         "y": [
          11.09523809523671,
          12.523809523816453,
          13.952380952367093,
          15.380952380946837,
          16.809523809497477,
          18.238095238048118
         ],
         "yaxis": "y2"
        },
        {
         "hoverinfo": "name+x+y",
         "legendgroup": "TUNA-CADO or CHICKEN-CADO",
         "mode": "lines+markers",
         "name": "TUNA-CADO or CHICKEN-CADO",
         "showlegend": true,
         "type": "scatter",
         "x": [
          "2025-04-28T00:00:00",
          "2025-05-05T00:00:00",
          "2025-05-12T00:00:00",
          "2025-05-26T00:00:00"
         ],
         "xaxis": "x2",
         "y": [
          3,
          3,
          3,
          9
         ],
         "yaxis": "y2"
        },
        {
         "hoverinfo": "none",
         "line": {
          "color": "green",
          "dash": "dash"
         },
         "mode": "lines",
         "showlegend": false,
         "type": "scatter",
         "x": [
          "2025-04-28T00:00:00",
          "2025-05-05T00:00:00",
          "2025-05-12T00:00:00",
          "2025-05-26T00:00:00"
         ],
         "xaxis": "x2",
         "y": [
          1.7999999999592546,
          3.3428571428521536,
          4.885714285715949,
          7.971428571472643
         ],
         "yaxis": "y2"
        },
        {
         "hoverinfo": "name+x+y",
         "legendgroup": "BLUE MAGIC",
         "mode": "lines+markers",
         "name": "BLUE MAGIC",
         "showlegend": true,
         "type": "scatter",
         "x": [
          "2025-04-28T00:00:00",
          "2025-05-05T00:00:00",
          "2025-05-12T00:00:00",
          "2025-05-19T00:00:00",
          "2025-05-26T00:00:00",
          "2025-06-02T00:00:00"
         ],
         "xaxis": "x3",
         "y": [
          11,
          6,
          12,
          3,
          44,
          10
         ],
         "yaxis": "y3"
        },
        {
         "hoverinfo": "none",
         "line": {
          "color": "green",
          "dash": "dash"
         },
         "mode": "lines",
         "showlegend": false,
         "type": "scatter",
         "x": [
          "2025-04-28T00:00:00",
          "2025-05-05T00:00:00",
          "2025-05-12T00:00:00",
          "2025-05-19T00:00:00",
          "2025-05-26T00:00:00",
          "2025-06-02T00:00:00"
         ],
         "xaxis": "x3",
         "y": [
          7.190476190415211,
          10.047619047574699,
          12.904761904734187,
          15.761904761893675,
          18.619047619053163,
          21.47619047621265
         ],
         "yaxis": "y3"
        },
        {
         "hoverinfo": "name+x+y",
         "legendgroup": "Cilantro-Lime Dressing",
         "mode": "lines+markers",
         "name": "Cilantro-Lime Dressing",
         "showlegend": true,
         "type": "scatter",
         "x": [
          "2025-04-28T00:00:00",
          "2025-05-05T00:00:00",
          "2025-05-12T00:00:00",
          "2025-05-19T00:00:00",
          "2025-05-26T00:00:00",
          "2025-06-02T00:00:00"
         ],
         "xaxis": "x3",
         "y": [
          74,
          48,
          120,
          120,
          109,
          50
         ],
         "yaxis": "y3"
        },
        {
         "hoverinfo": "none",
         "line": {
          "color": "green",
          "dash": "dash"
         },
         "mode": "lines",
         "showlegend": false,
         "type": "scatter",
         "x": [
          "2025-04-28T00:00:00",
          "2025-05-05T00:00:00",
          "2025-05-12T00:00:00",
          "2025-05-19T00:00:00",
          "2025-05-26T00:00:00",
          "2025-06-02T00:00:00"
         ],
         "xaxis": "x3",
         "y": [
          82.33333333340124,
          84.1333333333605,
          85.93333333331975,
          87.733333333279,
          89.53333333323826,
          91.33333333319752
         ],
         "yaxis": "y3"
        },
        {
         "hoverinfo": "name+x+y",
         "legendgroup": "GREEN GODDESS SALAD",
         "mode": "lines+markers",
         "name": "GREEN GODDESS SALAD",
         "showlegend": true,
         "type": "scatter",
         "x": [
          "2025-04-28T00:00:00",
          "2025-05-05T00:00:00",
          "2025-05-12T00:00:00",
          "2025-05-19T00:00:00",
          "2025-05-26T00:00:00",
          "2025-06-02T00:00:00"
         ],
         "xaxis": "x3",
         "y": [
          4,
          15,
          9,
          24,
          17,
          31
         ],
         "yaxis": "y3"
        },
        {
         "hoverinfo": "none",
         "line": {
          "color": "green",
          "dash": "dash"
         },
         "mode": "lines",
         "showlegend": false,
         "type": "scatter",
         "x": [
          "2025-04-28T00:00:00",
          "2025-05-05T00:00:00",
          "2025-05-12T00:00:00",
          "2025-05-19T00:00:00",
          "2025-05-26T00:00:00",
          "2025-06-02T00:00:00"
         ],
         "xaxis": "x3",
         "y": [
          5.5238095237873495,
          9.980952380981762,
          14.438095238176174,
          18.89523809531238,
          23.352380952506792,
          27.809523809642997
         ],
         "yaxis": "y3"
        },
        {
         "hoverinfo": "name+x+y",
         "legendgroup": "HUEVOS RANCHEROS BURRITO",
         "mode": "lines+markers",
         "name": "HUEVOS RANCHEROS BURRITO",
         "showlegend": true,
         "type": "scatter",
         "x": [
          "2025-04-28T00:00:00",
          "2025-05-05T00:00:00",
          "2025-05-12T00:00:00",
          "2025-05-19T00:00:00",
          "2025-05-26T00:00:00",
          "2025-06-02T00:00:00"
         ],
         "xaxis": "x3",
         "y": [
          27,
          21,
          15,
          18,
          36,
          66
         ],
         "yaxis": "y3"
        },
        {
         "hoverinfo": "none",
         "line": {
          "color": "green",
          "dash": "dash"
         },
         "mode": "lines",
         "showlegend": false,
         "type": "scatter",
         "x": [
          "2025-04-28T00:00:00",
          "2025-05-05T00:00:00",
          "2025-05-12T00:00:00",
          "2025-05-19T00:00:00",
          "2025-05-26T00:00:00",
          "2025-06-02T00:00:00"
         ],
         "xaxis": "x3",
         "y": [
          13.142857142607681,
          20.08571428549476,
          27.028571428498253,
          33.97142857138533,
          40.91428571427241,
          47.8571428572759
         ],
         "yaxis": "y3"
        },
        {
         "hoverinfo": "name+x+y",
         "legendgroup": "LIV WRAP",
         "mode": "lines+markers",
         "name": "LIV WRAP",
         "showlegend": false,
         "type": "scatter",
         "x": [
          "2025-04-28T00:00:00",
          "2025-05-05T00:00:00",
          "2025-05-12T00:00:00",
          "2025-05-19T00:00:00",
          "2025-05-26T00:00:00",
          "2025-06-02T00:00:00"
         ],
         "xaxis": "x3",
         "y": [
          59,
          42,
          72,
          42,
          56,
          111
         ],
         "yaxis": "y3"
        },
        {
         "hoverinfo": "none",
         "line": {
          "color": "green",
          "dash": "dash"
         },
         "mode": "lines",
         "showlegend": false,
         "type": "scatter",
         "x": [
          "2025-04-28T00:00:00",
          "2025-05-05T00:00:00",
          "2025-05-12T00:00:00",
          "2025-05-19T00:00:00",
          "2025-05-26T00:00:00",
          "2025-06-02T00:00:00"
         ],
         "xaxis": "x3",
         "y": [
          44.23809523775708,
          52.00952380930539,
          59.780952380853705,
          67.5523809522856,
          75.32380952383392,
          83.09523809526581
         ],
         "yaxis": "y3"
        },
        {
         "hoverinfo": "name+x+y",
         "legendgroup": "CAESAR SALAD",
         "mode": "lines+markers",
         "name": "CAESAR SALAD",
         "showlegend": true,
         "type": "scatter",
         "x": [
          "2025-05-05T00:00:00",
          "2025-05-12T00:00:00",
          "2025-05-19T00:00:00",
          "2025-05-26T00:00:00",
          "2025-06-02T00:00:00"
         ],
         "xaxis": "x4",
         "y": [
          9,
          3,
          6,
          15,
          5
         ],
         "yaxis": "y4"
        },
        {
         "hoverinfo": "none",
         "line": {
          "color": "green",
          "dash": "dash"
         },
         "mode": "lines",
         "showlegend": false,
         "type": "scatter",
         "x": [
          "2025-05-05T00:00:00",
          "2025-05-12T00:00:00",
          "2025-05-19T00:00:00",
          "2025-05-26T00:00:00",
          "2025-06-02T00:00:00"
         ],
         "xaxis": "x4",
         "y": [
          6.800000000017462,
          7.2000000000116415,
          7.600000000013097,
          8.000000000007276,
          8.400000000001455
         ],
         "yaxis": "y4"
        },
        {
         "hoverinfo": "name+x+y",
         "legendgroup": "CARROT CAKE",
         "mode": "lines+markers",
         "name": "CARROT CAKE",
         "showlegend": true,
         "type": "scatter",
         "x": [
          "2025-04-28T00:00:00",
          "2025-05-05T00:00:00",
          "2025-05-12T00:00:00",
          "2025-05-19T00:00:00",
          "2025-05-26T00:00:00",
          "2025-06-02T00:00:00"
         ],
         "xaxis": "x4",
         "y": [
          30,
          33,
          36,
          54,
          56,
          17
         ],
         "yaxis": "y4"
        },
        {
         "hoverinfo": "none",
         "line": {
          "color": "green",
          "dash": "dash"
         },
         "mode": "lines",
         "showlegend": false,
         "type": "scatter",
         "x": [
          "2025-04-28T00:00:00",
          "2025-05-05T00:00:00",
          "2025-05-12T00:00:00",
          "2025-05-19T00:00:00",
          "2025-05-26T00:00:00",
          "2025-06-02T00:00:00"
         ],
         "xaxis": "x4",
         "y": [
          36.09523809526581,
          36.723809523828095,
          37.352380952375825,
          37.980952380923554,
          38.609523809485836,
          39.238095238033566
         ],
         "yaxis": "y4"
        },
        {
         "hoverinfo": "name+x+y",
         "legendgroup": "LENTIL & KALE SOUP",
         "mode": "lines+markers",
         "name": "LENTIL & KALE SOUP",
         "showlegend": false,
         "type": "scatter",
         "x": [
          "2025-04-28T00:00:00",
          "2025-05-05T00:00:00",
          "2025-05-12T00:00:00",
          "2025-05-19T00:00:00",
          "2025-05-26T00:00:00",
          "2025-06-02T00:00:00"
         ],
         "xaxis": "x4",
         "y": [
          12,
          30,
          54,
          39,
          48,
          13
         ],
         "yaxis": "y4"
        },
        {
         "hoverinfo": "none",
         "line": {
          "color": "green",
          "dash": "dash"
         },
         "mode": "lines",
         "showlegend": false,
         "type": "scatter",
         "x": [
          "2025-04-28T00:00:00",
          "2025-05-05T00:00:00",
          "2025-05-12T00:00:00",
          "2025-05-19T00:00:00",
          "2025-05-26T00:00:00",
          "2025-06-02T00:00:00"
         ],
         "xaxis": "x4",
         "y": [
          29.523809523845557,
          30.78095238097012,
          32.038095238094684,
          33.29523809521925,
          34.55238095234381,
          35.809523809468374
         ],
         "yaxis": "y4"
        },
        {
         "hoverinfo": "name+x+y",
         "legendgroup": "PEANUT BUTTER CUP",
         "mode": "lines+markers",
         "name": "PEANUT BUTTER CUP",
         "showlegend": true,
         "type": "scatter",
         "x": [
          "2025-04-28T00:00:00",
          "2025-05-05T00:00:00",
          "2025-05-12T00:00:00",
          "2025-05-19T00:00:00",
          "2025-05-26T00:00:00",
          "2025-06-02T00:00:00"
         ],
         "xaxis": "x4",
         "y": [
          5,
          9,
          9,
          15,
          15,
          6
         ],
         "yaxis": "y4"
        },
        {
         "hoverinfo": "none",
         "line": {
          "color": "green",
          "dash": "dash"
         },
         "mode": "lines",
         "showlegend": false,
         "type": "scatter",
         "x": [
          "2025-04-28T00:00:00",
          "2025-05-05T00:00:00",
          "2025-05-12T00:00:00",
          "2025-05-19T00:00:00",
          "2025-05-26T00:00:00",
          "2025-06-02T00:00:00"
         ],
         "xaxis": "x4",
         "y": [
          7.761904761908227,
          8.590476190467598,
          9.419047619041521,
          10.247619047615444,
          11.076190476174816,
          11.904761904748739
         ],
         "yaxis": "y4"
        },
        {
         "hoverinfo": "name+x+y",
         "legendgroup": "SALAD AND 1/2 WRAP",
         "mode": "lines+markers",
         "name": "SALAD AND 1/2 WRAP",
         "showlegend": false,
         "type": "scatter",
         "x": [
          "2025-04-28T00:00:00",
          "2025-05-05T00:00:00",
          "2025-05-12T00:00:00",
          "2025-05-19T00:00:00",
          "2025-05-26T00:00:00",
          "2025-06-02T00:00:00"
         ],
         "xaxis": "x4",
         "y": [
          10,
          24,
          48,
          69,
          30,
          9
         ],
         "yaxis": "y4"
        },
        {
         "hoverinfo": "none",
         "line": {
          "color": "green",
          "dash": "dash"
         },
         "mode": "lines",
         "showlegend": false,
         "type": "scatter",
         "x": [
          "2025-04-28T00:00:00",
          "2025-05-05T00:00:00",
          "2025-05-12T00:00:00",
          "2025-05-19T00:00:00",
          "2025-05-26T00:00:00",
          "2025-06-02T00:00:00"
         ],
         "xaxis": "x4",
         "y": [
          29.238095238164533,
          30.209523809564416,
          31.180952380949748,
          32.15238095233508,
          33.12380952373496,
          34.095238095120294
         ],
         "yaxis": "y4"
        },
        {
         "hoverinfo": "name+x+y",
         "legendgroup": "CHICKEN GODDESS",
         "mode": "lines+markers",
         "name": "CHICKEN GODDESS",
         "showlegend": true,
         "type": "scatter",
         "x": [
          "2025-04-28T00:00:00",
          "2025-05-19T00:00:00",
          "2025-05-26T00:00:00"
         ],
         "xaxis": "x5",
         "y": [
          4,
          3,
          9
         ],
         "yaxis": "y5"
        },
        {
         "hoverinfo": "none",
         "line": {
          "color": "green",
          "dash": "dash"
         },
         "mode": "lines",
         "showlegend": false,
         "type": "scatter",
         "x": [
          "2025-04-28T00:00:00",
          "2025-05-19T00:00:00",
          "2025-05-26T00:00:00"
         ],
         "xaxis": "x5",
         "y": [
          3.269230769161368,
          5.9230769230634905,
          6.807692307702382
         ],
         "yaxis": "y5"
        },
        {
         "hoverinfo": "name+x+y",
         "legendgroup": "Cilantro-Lime Dressing",
         "mode": "lines+markers",
         "name": "Cilantro-Lime Dressing",
         "showlegend": false,
         "type": "scatter",
         "x": [
          "2025-04-28T00:00:00",
          "2025-05-05T00:00:00",
          "2025-05-12T00:00:00",
          "2025-05-19T00:00:00",
          "2025-05-26T00:00:00"
         ],
         "xaxis": "x5",
         "y": [
          3,
          9,
          3,
          6,
          6
         ],
         "yaxis": "y5"
        },
        {
         "hoverinfo": "none",
         "line": {
          "color": "green",
          "dash": "dash"
         },
         "mode": "lines",
         "showlegend": false,
         "type": "scatter",
         "x": [
          "2025-04-28T00:00:00",
          "2025-05-05T00:00:00",
          "2025-05-12T00:00:00",
          "2025-05-19T00:00:00",
          "2025-05-26T00:00:00"
         ],
         "xaxis": "x5",
         "y": [
          4.800000000013824,
          5.100000000016735,
          5.400000000023283,
          5.700000000029831,
          6.000000000032742
         ],
         "yaxis": "y5"
        },
        {
         "hoverinfo": "name+x+y",
         "legendgroup": "HUEVOS RANCHEROS BURRITO",
         "mode": "lines+markers",
         "name": "HUEVOS RANCHEROS BURRITO",
         "showlegend": false,
         "type": "scatter",
         "x": [
          "2025-05-05T00:00:00",
          "2025-05-12T00:00:00",
          "2025-05-26T00:00:00",
          "2025-06-02T00:00:00"
         ],
         "xaxis": "x5",
         "y": [
          6,
          3,
          12,
          10
         ],
         "yaxis": "y5"
        },
        {
         "hoverinfo": "none",
         "line": {
          "color": "green",
          "dash": "dash"
         },
         "mode": "lines",
         "showlegend": false,
         "type": "scatter",
         "x": [
          "2025-05-05T00:00:00",
          "2025-05-12T00:00:00",
          "2025-05-26T00:00:00",
          "2025-06-02T00:00:00"
         ],
         "xaxis": "x5",
         "y": [
          4.349999999918509,
          6.049999999930151,
          9.449999999953434,
          11.149999999965075
         ],
         "yaxis": "y5"
        },
        {
         "hoverinfo": "name+x+y",
         "legendgroup": "LA MEXICANA",
         "mode": "lines+markers",
         "name": "LA MEXICANA",
         "showlegend": true,
         "type": "scatter",
         "x": [
          "2025-04-28T00:00:00",
          "2025-05-19T00:00:00",
          "2025-05-26T00:00:00"
         ],
         "xaxis": "x5",
         "y": [
          1,
          6,
          3
         ],
         "yaxis": "y5"
        },
        {
         "hoverinfo": "none",
         "line": {
          "color": "green",
          "dash": "dash"
         },
         "mode": "lines",
         "showlegend": false,
         "type": "scatter",
         "x": [
          "2025-04-28T00:00:00",
          "2025-05-19T00:00:00",
          "2025-05-26T00:00:00"
         ],
         "xaxis": "x5",
         "y": [
          1.538461538439151,
          3.846153846126981,
          4.6153846153611084
         ],
         "yaxis": "y5"
        },
        {
         "hoverinfo": "name+x+y",
         "legendgroup": "LIV WRAP",
         "mode": "lines+markers",
         "name": "LIV WRAP",
         "showlegend": false,
         "type": "scatter",
         "x": [
          "2025-05-19T00:00:00",
          "2025-05-26T00:00:00",
          "2025-06-02T00:00:00"
         ],
         "xaxis": "x5",
         "y": [
          3,
          3,
          26
         ],
         "yaxis": "y5"
        },
        {
         "hoverinfo": "none",
         "line": {
          "color": "green",
          "dash": "dash"
         },
         "mode": "lines",
         "showlegend": false,
         "type": "scatter",
         "x": [
          "2025-05-19T00:00:00",
          "2025-05-26T00:00:00",
          "2025-06-02T00:00:00"
         ],
         "xaxis": "x5",
         "y": [
          -0.8333333337213844,
          10.666666666511446,
          22.166666666511446
         ],
         "yaxis": "y5"
        },
        {
         "hoverinfo": "name+x+y",
         "legendgroup": "CRISPY CHICKEN PLATTER",
         "mode": "lines+markers",
         "name": "CRISPY CHICKEN PLATTER",
         "showlegend": true,
         "type": "scatter",
         "x": [
          "2025-04-28T00:00:00",
          "2025-05-19T00:00:00",
          "2025-06-02T00:00:00"
         ],
         "xaxis": "x6",
         "y": [
          1,
          3,
          4
         ],
         "yaxis": "y6"
        },
        {
         "hoverinfo": "none",
         "line": {
          "color": "green",
          "dash": "dash"
         },
         "mode": "lines",
         "showlegend": false,
         "type": "scatter",
         "x": [
          "2025-04-28T00:00:00",
          "2025-05-19T00:00:00",
          "2025-06-02T00:00:00"
         ],
         "xaxis": "x6",
         "y": [
          1.0526315789247747,
          2.8684210526262177,
          4.07894736842718
         ],
         "yaxis": "y6"
        },
        {
         "hoverinfo": "name+x+y",
         "legendgroup": "OMG! TURKEY BURGER",
         "mode": "lines+markers",
         "name": "OMG! TURKEY BURGER",
         "showlegend": true,
         "type": "scatter",
         "x": [
          "2025-04-28T00:00:00",
          "2025-05-05T00:00:00",
          "2025-05-19T00:00:00"
         ],
         "xaxis": "x6",
         "y": [
          1,
          3,
          9
         ],
         "yaxis": "y6"
        },
        {
         "hoverinfo": "none",
         "line": {
          "color": "green",
          "dash": "dash"
         },
         "mode": "lines",
         "showlegend": false,
         "type": "scatter",
         "x": [
          "2025-04-28T00:00:00",
          "2025-05-05T00:00:00",
          "2025-05-19T00:00:00"
         ],
         "xaxis": "x6",
         "y": [
          0.7142857143771835,
          3.4285714286379516,
          8.857142857159488
         ],
         "yaxis": "y6"
        },
        {
         "hoverinfo": "name+x+y",
         "legendgroup": "SALAD AND 1/2 WRAP",
         "mode": "lines+markers",
         "name": "SALAD AND 1/2 WRAP",
         "showlegend": false,
         "type": "scatter",
         "x": [
          "2025-04-28T00:00:00",
          "2025-05-05T00:00:00",
          "2025-05-12T00:00:00"
         ],
         "xaxis": "x6",
         "y": [
          3,
          6,
          3
         ],
         "yaxis": "y6"
        },
        {
         "hoverinfo": "none",
         "line": {
          "color": "green",
          "dash": "dash"
         },
         "mode": "lines",
         "showlegend": false,
         "type": "scatter",
         "x": [
          "2025-04-28T00:00:00",
          "2025-05-05T00:00:00",
          "2025-05-12T00:00:00"
         ],
         "xaxis": "x6",
         "y": [
          3.9999999999816436,
          3.9999999999999996,
          4.000000000018356
         ],
         "yaxis": "y6"
        },
        {
         "hoverinfo": "name+x+y",
         "legendgroup": "Cilantro-Lime Dressing",
         "mode": "lines+markers",
         "name": "Cilantro-Lime Dressing",
         "showlegend": false,
         "type": "scatter",
         "x": [
          "2025-04-28T00:00:00",
          "2025-05-12T00:00:00",
          "2025-06-02T00:00:00"
         ],
         "xaxis": "x7",
         "y": [
          3,
          3,
          5
         ],
         "yaxis": "y7"
        },
        {
         "hoverinfo": "none",
         "line": {
          "color": "green",
          "dash": "dash"
         },
         "mode": "lines",
         "showlegend": false,
         "type": "scatter",
         "x": [
          "2025-04-28T00:00:00",
          "2025-05-12T00:00:00",
          "2025-06-02T00:00:00"
         ],
         "xaxis": "x7",
         "y": [
          2.6842105263349367,
          3.526315789495129,
          4.789473684235418
         ],
         "yaxis": "y7"
        },
        {
         "hoverinfo": "name+x+y",
         "legendgroup": "LEGAL WRAP",
         "mode": "lines+markers",
         "name": "LEGAL WRAP",
         "showlegend": true,
         "type": "scatter",
         "x": [
          "2025-04-28T00:00:00",
          "2025-05-05T00:00:00",
          "2025-05-19T00:00:00"
         ],
         "xaxis": "x7",
         "y": [
          3,
          3,
          6
         ],
         "yaxis": "y7"
        },
        {
         "hoverinfo": "none",
         "line": {
          "color": "green",
          "dash": "dash"
         },
         "mode": "lines",
         "showlegend": false,
         "type": "scatter",
         "x": [
          "2025-04-28T00:00:00",
          "2025-05-05T00:00:00",
          "2025-05-19T00:00:00"
         ],
         "xaxis": "x7",
         "y": [
          2.5714285714930156,
          3.6428571429132717,
          5.785714285739232
         ],
         "yaxis": "y7"
        },
        {
         "hoverinfo": "name+x+y",
         "legendgroup": "ORIENTAL CRUNCH SALAD",
         "mode": "lines+markers",
         "name": "ORIENTAL CRUNCH SALAD",
         "showlegend": true,
         "type": "scatter",
         "x": [
          "2025-04-28T00:00:00",
          "2025-05-12T00:00:00",
          "2025-05-19T00:00:00"
         ],
         "xaxis": "x7",
         "y": [
          1,
          3,
          3
         ],
         "yaxis": "y7"
        },
        {
         "hoverinfo": "none",
         "line": {
          "color": "green",
          "dash": "dash"
         },
         "mode": "lines",
         "showlegend": false,
         "type": "scatter",
         "x": [
          "2025-04-28T00:00:00",
          "2025-05-12T00:00:00",
          "2025-05-19T00:00:00"
         ],
         "xaxis": "x7",
         "y": [
          1.1428571429132717,
          2.57142857144936,
          3.28571428572468
         ],
         "yaxis": "y7"
        },
        {
         "hoverinfo": "name+x+y",
         "legendgroup": "SKINNY GREEN",
         "mode": "lines+markers",
         "name": "SKINNY GREEN",
         "showlegend": true,
         "type": "scatter",
         "x": [
          "2025-04-28T00:00:00",
          "2025-05-05T00:00:00",
          "2025-05-26T00:00:00"
         ],
         "xaxis": "x8",
         "y": [
          1,
          6,
          3
         ],
         "yaxis": "y8"
        },
        {
         "hoverinfo": "none",
         "line": {
          "color": "green",
          "dash": "dash"
         },
         "mode": "lines",
         "showlegend": false,
         "type": "scatter",
         "x": [
          "2025-04-28T00:00:00",
          "2025-05-05T00:00:00",
          "2025-05-26T00:00:00"
         ],
         "xaxis": "x8",
         "y": [
          3.0769230769255955,
          3.2307692307676916,
          3.69230769229398
         ],
         "yaxis": "y8"
        }
       ],
       "layout": {
        "annotations": [
         {
          "font": {
           "size": 16
          },
          "showarrow": false,
          "text": "963290 — Take Out",
          "x": 0.05375,
          "xanchor": "center",
          "xref": "paper",
          "y": 1,
          "yanchor": "bottom",
          "yref": "paper"
         },
         {
          "font": {
           "size": 16
          },
          "showarrow": false,
          "text": "963290 — Online-Pickup",
          "x": 0.18125,
          "xanchor": "center",
          "xref": "paper",
          "y": 1,
          "yanchor": "bottom",
          "yref": "paper"
         },
         {
          "font": {
           "size": 16
          },
          "showarrow": false,
          "text": "963290 — UEats-Delivery",
          "x": 0.30874999999999997,
          "xanchor": "center",
          "xref": "paper",
          "y": 1,
          "yanchor": "bottom",
          "yref": "paper"
         },
         {
          "font": {
           "size": 16
          },
          "showarrow": false,
          "text": "963290 — Dine In",
          "x": 0.43625,
          "xanchor": "center",
          "xref": "paper",
          "y": 1,
          "yanchor": "bottom",
          "yref": "paper"
         },
         {
          "font": {
           "size": 16
          },
          "showarrow": false,
          "text": "963290 — UEats-Pickup",
          "x": 0.56375,
          "xanchor": "center",
          "xref": "paper",
          "y": 1,
          "yanchor": "bottom",
          "yref": "paper"
         },
         {
          "font": {
           "size": 16
          },
          "showarrow": false,
          "text": "963290 — Online-Dispatch",
          "x": 0.6912499999999999,
          "xanchor": "center",
          "xref": "paper",
          "y": 1,
          "yanchor": "bottom",
          "yref": "paper"
         },
         {
          "font": {
           "size": 16
          },
          "showarrow": false,
          "text": "963290 — Google Online Ordering",
          "x": 0.8187500000000001,
          "xanchor": "center",
          "xref": "paper",
          "y": 1,
          "yanchor": "bottom",
          "yref": "paper"
         },
         {
          "font": {
           "size": 16
          },
          "showarrow": false,
          "text": "963290 — Telephone-Pickup",
          "x": 0.94625,
          "xanchor": "center",
          "xref": "paper",
          "y": 1,
          "yanchor": "bottom",
          "yref": "paper"
         },
         {
          "bgcolor": "rgba(255,255,255,0.7)",
          "font": {
           "color": "black",
           "size": 9
          },
          "showarrow": false,
          "text": "AQU_0.18",
          "x": "2025-04-28T00:00:00",
          "xanchor": "left",
          "xref": "x",
          "y": 28.47619047612534,
          "yanchor": "top",
          "yref": "y"
         },
         {
          "bgcolor": "rgba(255,255,255,0.7)",
          "font": {
           "color": "black",
           "size": 9
          },
          "showarrow": false,
          "text": "COR_0.07",
          "x": "2025-04-28T00:00:00",
          "xanchor": "left",
          "xref": "x",
          "y": 4.342857142837602,
          "yanchor": "top",
          "yref": "y"
         },
         {
          "bgcolor": "rgba(255,255,255,0.7)",
          "font": {
           "color": "black",
           "size": 9
          },
          "showarrow": false,
          "text": "LEN_0.32",
          "x": "2025-04-28T00:00:00",
          "xanchor": "left",
          "xref": "x",
          "y": 41.57142857139115,
          "yanchor": "top",
          "yref": "y"
         },
         {
          "bgcolor": "rgba(255,255,255,0.7)",
          "font": {
           "color": "black",
           "size": 9
          },
          "showarrow": false,
          "text": "LIV_0.21",
          "x": "2025-04-28T00:00:00",
          "xanchor": "left",
          "xref": "x",
          "y": 18.142857142840512,
          "yanchor": "top",
          "yref": "y"
         },
         {
          "bgcolor": "rgba(255,255,255,0.7)",
          "font": {
           "color": "black",
           "size": 9
          },
          "showarrow": false,
          "text": "SWE_0.47",
          "x": "2025-04-28T00:00:00",
          "xanchor": "left",
          "xref": "x",
          "y": 12.142857142840512,
          "yanchor": "top",
          "yref": "y"
         },
         {
          "bgcolor": "rgba(255,255,255,0.7)",
          "font": {
           "color": "black",
           "size": 9
          },
          "showarrow": false,
          "text": "BER_0.05",
          "x": "2025-05-05T00:00:00",
          "xanchor": "left",
          "xref": "x2",
          "y": 5.400000000001455,
          "yanchor": "top",
          "yref": "y2"
         },
         {
          "bgcolor": "rgba(255,255,255,0.7)",
          "font": {
           "color": "black",
           "size": 9
          },
          "showarrow": false,
          "text": "JUL_0.07",
          "x": "2025-04-28T00:00:00",
          "xanchor": "left",
          "xref": "x2",
          "y": 6.285714285702852,
          "yanchor": "top",
          "yref": "y2"
         },
         {
          "bgcolor": "rgba(255,255,255,0.7)",
          "font": {
           "color": "black",
           "size": 9
          },
          "showarrow": false,
          "text": "LIV_0.22",
          "x": "2025-04-28T00:00:00",
          "xanchor": "left",
          "xref": "x2",
          "y": 18.85714285710128,
          "yanchor": "top",
          "yref": "y2"
         },
         {
          "bgcolor": "rgba(255,255,255,0.7)",
          "font": {
           "color": "black",
           "size": 9
          },
          "showarrow": false,
          "text": "SAL_0.20",
          "x": "2025-04-28T00:00:00",
          "xanchor": "left",
          "xref": "x2",
          "y": 18.238095238048118,
          "yanchor": "top",
          "yref": "y2"
         },
         {
          "bgcolor": "rgba(255,255,255,0.7)",
          "font": {
           "color": "black",
           "size": 9
          },
          "showarrow": false,
          "text": "TUN_0.22",
          "x": "2025-04-28T00:00:00",
          "xanchor": "left",
          "xref": "x2",
          "y": 7.971428571472643,
          "yanchor": "top",
          "yref": "y2"
         },
         {
          "bgcolor": "rgba(255,255,255,0.7)",
          "font": {
           "color": "black",
           "size": 9
          },
          "showarrow": false,
          "text": "BLU_0.41",
          "x": "2025-04-28T00:00:00",
          "xanchor": "left",
          "xref": "x3",
          "y": 21.47619047621265,
          "yanchor": "top",
          "yref": "y3"
         },
         {
          "bgcolor": "rgba(255,255,255,0.7)",
          "font": {
           "color": "black",
           "size": 9
          },
          "showarrow": false,
          "text": "Cil_0.26",
          "x": "2025-04-28T00:00:00",
          "xanchor": "left",
          "xref": "x3",
          "y": 91.33333333319752,
          "yanchor": "top",
          "yref": "y3"
         },
         {
          "bgcolor": "rgba(255,255,255,0.7)",
          "font": {
           "color": "black",
           "size": 9
          },
          "showarrow": false,
          "text": "GRE_0.64",
          "x": "2025-04-28T00:00:00",
          "xanchor": "left",
          "xref": "x3",
          "y": 27.809523809642997,
          "yanchor": "top",
          "yref": "y3"
         },
         {
          "bgcolor": "rgba(255,255,255,0.7)",
          "font": {
           "color": "black",
           "size": 9
          },
          "showarrow": false,
          "text": "HUE_0.99",
          "x": "2025-04-28T00:00:00",
          "xanchor": "left",
          "xref": "x3",
          "y": 47.8571428572759,
          "yanchor": "top",
          "yref": "y3"
         },
         {
          "bgcolor": "rgba(255,255,255,0.7)",
          "font": {
           "color": "black",
           "size": 9
          },
          "showarrow": false,
          "text": "LIV_1.11",
          "x": "2025-04-28T00:00:00",
          "xanchor": "left",
          "xref": "x3",
          "y": 83.09523809526581,
          "yanchor": "top",
          "yref": "y3"
         },
         {
          "bgcolor": "rgba(255,255,255,0.7)",
          "font": {
           "color": "black",
           "size": 9
          },
          "showarrow": false,
          "text": "CAE_0.06",
          "x": "2025-05-05T00:00:00",
          "xanchor": "left",
          "xref": "x4",
          "y": 8.400000000001455,
          "yanchor": "top",
          "yref": "y4"
         },
         {
          "bgcolor": "rgba(255,255,255,0.7)",
          "font": {
           "color": "black",
           "size": 9
          },
          "showarrow": false,
          "text": "CAR_0.09",
          "x": "2025-04-28T00:00:00",
          "xanchor": "left",
          "xref": "x4",
          "y": 39.238095238033566,
          "yanchor": "top",
          "yref": "y4"
         },
         {
          "bgcolor": "rgba(255,255,255,0.7)",
          "font": {
           "color": "black",
           "size": 9
          },
          "showarrow": false,
          "text": "LEN_0.18",
          "x": "2025-04-28T00:00:00",
          "xanchor": "left",
          "xref": "x4",
          "y": 35.809523809468374,
          "yanchor": "top",
          "yref": "y4"
         },
         {
          "bgcolor": "rgba(255,255,255,0.7)",
          "font": {
           "color": "black",
           "size": 9
          },
          "showarrow": false,
          "text": "PEA_0.12",
          "x": "2025-04-28T00:00:00",
          "xanchor": "left",
          "xref": "x4",
          "y": 11.904761904748739,
          "yanchor": "top",
          "yref": "y4"
         },
         {
          "bgcolor": "rgba(255,255,255,0.7)",
          "font": {
           "color": "black",
           "size": 9
          },
          "showarrow": false,
          "text": "SAL_0.14",
          "x": "2025-04-28T00:00:00",
          "xanchor": "left",
          "xref": "x4",
          "y": 34.095238095120294,
          "yanchor": "top",
          "yref": "y4"
         },
         {
          "bgcolor": "rgba(255,255,255,0.7)",
          "font": {
           "color": "black",
           "size": 9
          },
          "showarrow": false,
          "text": "CHI_0.13",
          "x": "2025-04-28T00:00:00",
          "xanchor": "left",
          "xref": "x5",
          "y": 6.807692307702382,
          "yanchor": "top",
          "yref": "y5"
         },
         {
          "bgcolor": "rgba(255,255,255,0.7)",
          "font": {
           "color": "black",
           "size": 9
          },
          "showarrow": false,
          "text": "Cil_0.04",
          "x": "2025-04-28T00:00:00",
          "xanchor": "left",
          "xref": "x5",
          "y": 6.000000000032742,
          "yanchor": "top",
          "yref": "y5"
         },
         {
          "bgcolor": "rgba(255,255,255,0.7)",
          "font": {
           "color": "black",
           "size": 9
          },
          "showarrow": false,
          "text": "HUE_0.24",
          "x": "2025-05-05T00:00:00",
          "xanchor": "left",
          "xref": "x5",
          "y": 11.149999999965075,
          "yanchor": "top",
          "yref": "y5"
         },
         {
          "bgcolor": "rgba(255,255,255,0.7)",
          "font": {
           "color": "black",
           "size": 9
          },
          "showarrow": false,
          "text": "LA _0.11",
          "x": "2025-04-28T00:00:00",
          "xanchor": "left",
          "xref": "x5",
          "y": 4.6153846153611084,
          "yanchor": "top",
          "yref": "y5"
         },
         {
          "bgcolor": "rgba(255,255,255,0.7)",
          "font": {
           "color": "black",
           "size": 9
          },
          "showarrow": false,
          "text": "LIV_1.64",
          "x": "2025-05-19T00:00:00",
          "xanchor": "left",
          "xref": "x5",
          "y": 22.166666666511446,
          "yanchor": "top",
          "yref": "y5"
         },
         {
          "bgcolor": "rgba(255,255,255,0.7)",
          "font": {
           "color": "black",
           "size": 9
          },
          "showarrow": false,
          "text": "CRI_0.09",
          "x": "2025-04-28T00:00:00",
          "xanchor": "left",
          "xref": "x6",
          "y": 4.07894736842718,
          "yanchor": "top",
          "yref": "y6"
         },
         {
          "bgcolor": "rgba(255,255,255,0.7)",
          "font": {
           "color": "black",
           "size": 9
          },
          "showarrow": false,
          "text": "OMG_0.39",
          "x": "2025-04-28T00:00:00",
          "xanchor": "left",
          "xref": "x6",
          "y": 8.857142857159488,
          "yanchor": "top",
          "yref": "y6"
         },
         {
          "bgcolor": "rgba(255,255,255,0.7)",
          "font": {
           "color": "black",
           "size": 9
          },
          "showarrow": false,
          "text": "SAL_0.00",
          "x": "2025-04-28T00:00:00",
          "xanchor": "left",
          "xref": "x6",
          "y": 4.000000000018356,
          "yanchor": "top",
          "yref": "y6"
         },
         {
          "bgcolor": "rgba(255,255,255,0.7)",
          "font": {
           "color": "black",
           "size": 9
          },
          "showarrow": false,
          "text": "Cil_0.06",
          "x": "2025-04-28T00:00:00",
          "xanchor": "left",
          "xref": "x7",
          "y": 4.789473684235418,
          "yanchor": "top",
          "yref": "y7"
         },
         {
          "bgcolor": "rgba(255,255,255,0.7)",
          "font": {
           "color": "black",
           "size": 9
          },
          "showarrow": false,
          "text": "LEG_0.15",
          "x": "2025-04-28T00:00:00",
          "xanchor": "left",
          "xref": "x7",
          "y": 5.785714285739232,
          "yanchor": "top",
          "yref": "y7"
         },
         {
          "bgcolor": "rgba(255,255,255,0.7)",
          "font": {
           "color": "black",
           "size": 9
          },
          "showarrow": false,
          "text": "ORI_0.10",
          "x": "2025-04-28T00:00:00",
          "xanchor": "left",
          "xref": "x7",
          "y": 3.28571428572468,
          "yanchor": "top",
          "yref": "y7"
         },
         {
          "bgcolor": "rgba(255,255,255,0.7)",
          "font": {
           "color": "black",
           "size": 9
          },
          "showarrow": false,
          "text": "SKI_0.02",
          "x": "2025-04-28T00:00:00",
          "xanchor": "left",
          "xref": "x8",
          "y": 3.69230769229398,
          "yanchor": "top",
          "yref": "y8"
         }
        ],
        "height": 400,
        "hovermode": "x unified",
        "legend": {
         "title": {
          "text": "MenuItemName"
         }
        },
        "template": {
         "data": {
          "bar": [
           {
            "error_x": {
             "color": "#2a3f5f"
            },
            "error_y": {
             "color": "#2a3f5f"
            },
            "marker": {
             "line": {
              "color": "#E5ECF6",
              "width": 0.5
             },
             "pattern": {
              "fillmode": "overlay",
              "size": 10,
              "solidity": 0.2
             }
            },
            "type": "bar"
           }
          ],
          "barpolar": [
           {
            "marker": {
             "line": {
              "color": "#E5ECF6",
              "width": 0.5
             },
             "pattern": {
              "fillmode": "overlay",
              "size": 10,
              "solidity": 0.2
             }
            },
            "type": "barpolar"
           }
          ],
          "carpet": [
           {
            "aaxis": {
             "endlinecolor": "#2a3f5f",
             "gridcolor": "white",
             "linecolor": "white",
             "minorgridcolor": "white",
             "startlinecolor": "#2a3f5f"
            },
            "baxis": {
             "endlinecolor": "#2a3f5f",
             "gridcolor": "white",
             "linecolor": "white",
             "minorgridcolor": "white",
             "startlinecolor": "#2a3f5f"
            },
            "type": "carpet"
           }
          ],
          "choropleth": [
           {
            "colorbar": {
             "outlinewidth": 0,
             "ticks": ""
            },
            "type": "choropleth"
           }
          ],
          "contour": [
           {
            "colorbar": {
             "outlinewidth": 0,
             "ticks": ""
            },
            "colorscale": [
             [
              0,
              "#0d0887"
             ],
             [
              0.1111111111111111,
              "#46039f"
             ],
             [
              0.2222222222222222,
              "#7201a8"
             ],
             [
              0.3333333333333333,
              "#9c179e"
             ],
             [
              0.4444444444444444,
              "#bd3786"
             ],
             [
              0.5555555555555556,
              "#d8576b"
             ],
             [
              0.6666666666666666,
              "#ed7953"
             ],
             [
              0.7777777777777778,
              "#fb9f3a"
             ],
             [
              0.8888888888888888,
              "#fdca26"
             ],
             [
              1,
              "#f0f921"
             ]
            ],
            "type": "contour"
           }
          ],
          "contourcarpet": [
           {
            "colorbar": {
             "outlinewidth": 0,
             "ticks": ""
            },
            "type": "contourcarpet"
           }
          ],
          "heatmap": [
           {
            "colorbar": {
             "outlinewidth": 0,
             "ticks": ""
            },
            "colorscale": [
             [
              0,
              "#0d0887"
             ],
             [
              0.1111111111111111,
              "#46039f"
             ],
             [
              0.2222222222222222,
              "#7201a8"
             ],
             [
              0.3333333333333333,
              "#9c179e"
             ],
             [
              0.4444444444444444,
              "#bd3786"
             ],
             [
              0.5555555555555556,
              "#d8576b"
             ],
             [
              0.6666666666666666,
              "#ed7953"
             ],
             [
              0.7777777777777778,
              "#fb9f3a"
             ],
             [
              0.8888888888888888,
              "#fdca26"
             ],
             [
              1,
              "#f0f921"
             ]
            ],
            "type": "heatmap"
           }
          ],
          "heatmapgl": [
           {
            "colorbar": {
             "outlinewidth": 0,
             "ticks": ""
            },
            "colorscale": [
             [
              0,
              "#0d0887"
             ],
             [
              0.1111111111111111,
              "#46039f"
             ],
             [
              0.2222222222222222,
              "#7201a8"
             ],
             [
              0.3333333333333333,
              "#9c179e"
             ],
             [
              0.4444444444444444,
              "#bd3786"
             ],
             [
              0.5555555555555556,
              "#d8576b"
             ],
             [
              0.6666666666666666,
              "#ed7953"
             ],
             [
              0.7777777777777778,
              "#fb9f3a"
             ],
             [
              0.8888888888888888,
              "#fdca26"
             ],
             [
              1,
              "#f0f921"
             ]
            ],
            "type": "heatmapgl"
           }
          ],
          "histogram": [
           {
            "marker": {
             "pattern": {
              "fillmode": "overlay",
              "size": 10,
              "solidity": 0.2
             }
            },
            "type": "histogram"
           }
          ],
          "histogram2d": [
           {
            "colorbar": {
             "outlinewidth": 0,
             "ticks": ""
            },
            "colorscale": [
             [
              0,
              "#0d0887"
             ],
             [
              0.1111111111111111,
              "#46039f"
             ],
             [
              0.2222222222222222,
              "#7201a8"
             ],
             [
              0.3333333333333333,
              "#9c179e"
             ],
             [
              0.4444444444444444,
              "#bd3786"
             ],
             [
              0.5555555555555556,
              "#d8576b"
             ],
             [
              0.6666666666666666,
              "#ed7953"
             ],
             [
              0.7777777777777778,
              "#fb9f3a"
             ],
             [
              0.8888888888888888,
              "#fdca26"
             ],
             [
              1,
              "#f0f921"
             ]
            ],
            "type": "histogram2d"
           }
          ],
          "histogram2dcontour": [
           {
            "colorbar": {
             "outlinewidth": 0,
             "ticks": ""
            },
            "colorscale": [
             [
              0,
              "#0d0887"
             ],
             [
              0.1111111111111111,
              "#46039f"
             ],
             [
              0.2222222222222222,
              "#7201a8"
             ],
             [
              0.3333333333333333,
              "#9c179e"
             ],
             [
              0.4444444444444444,
              "#bd3786"
             ],
             [
              0.5555555555555556,
              "#d8576b"
             ],
             [
              0.6666666666666666,
              "#ed7953"
             ],
             [
              0.7777777777777778,
              "#fb9f3a"
             ],
             [
              0.8888888888888888,
              "#fdca26"
             ],
             [
              1,
              "#f0f921"
             ]
            ],
            "type": "histogram2dcontour"
           }
          ],
          "mesh3d": [
           {
            "colorbar": {
             "outlinewidth": 0,
             "ticks": ""
            },
            "type": "mesh3d"
           }
          ],
          "parcoords": [
           {
            "line": {
             "colorbar": {
              "outlinewidth": 0,
              "ticks": ""
             }
            },
            "type": "parcoords"
           }
          ],
          "pie": [
           {
            "automargin": true,
            "type": "pie"
           }
          ],
          "scatter": [
           {
            "fillpattern": {
             "fillmode": "overlay",
             "size": 10,
             "solidity": 0.2
            },
            "type": "scatter"
           }
          ],
          "scatter3d": [
           {
            "line": {
             "colorbar": {
              "outlinewidth": 0,
              "ticks": ""
             }
            },
            "marker": {
             "colorbar": {
              "outlinewidth": 0,
              "ticks": ""
             }
            },
            "type": "scatter3d"
           }
          ],
          "scattercarpet": [
           {
            "marker": {
             "colorbar": {
              "outlinewidth": 0,
              "ticks": ""
             }
            },
            "type": "scattercarpet"
           }
          ],
          "scattergeo": [
           {
            "marker": {
             "colorbar": {
              "outlinewidth": 0,
              "ticks": ""
             }
            },
            "type": "scattergeo"
           }
          ],
          "scattergl": [
           {
            "marker": {
             "colorbar": {
              "outlinewidth": 0,
              "ticks": ""
             }
            },
            "type": "scattergl"
           }
          ],
          "scattermapbox": [
           {
            "marker": {
             "colorbar": {
              "outlinewidth": 0,
              "ticks": ""
             }
            },
            "type": "scattermapbox"
           }
          ],
          "scatterpolar": [
           {
            "marker": {
             "colorbar": {
              "outlinewidth": 0,
              "ticks": ""
             }
            },
            "type": "scatterpolar"
           }
          ],
          "scatterpolargl": [
           {
            "marker": {
             "colorbar": {
              "outlinewidth": 0,
              "ticks": ""
             }
            },
            "type": "scatterpolargl"
           }
          ],
          "scatterternary": [
           {
            "marker": {
             "colorbar": {
              "outlinewidth": 0,
              "ticks": ""
             }
            },
            "type": "scatterternary"
           }
          ],
          "surface": [
           {
            "colorbar": {
             "outlinewidth": 0,
             "ticks": ""
            },
            "colorscale": [
             [
              0,
              "#0d0887"
             ],
             [
              0.1111111111111111,
              "#46039f"
             ],
             [
              0.2222222222222222,
              "#7201a8"
             ],
             [
              0.3333333333333333,
              "#9c179e"
             ],
             [
              0.4444444444444444,
              "#bd3786"
             ],
             [
              0.5555555555555556,
              "#d8576b"
             ],
             [
              0.6666666666666666,
              "#ed7953"
             ],
             [
              0.7777777777777778,
              "#fb9f3a"
             ],
             [
              0.8888888888888888,
              "#fdca26"
             ],
             [
              1,
              "#f0f921"
             ]
            ],
            "type": "surface"
           }
          ],
          "table": [
           {
            "cells": {
             "fill": {
              "color": "#EBF0F8"
             },
             "line": {
              "color": "white"
             }
            },
            "header": {
             "fill": {
              "color": "#C8D4E3"
             },
             "line": {
              "color": "white"
             }
            },
            "type": "table"
           }
          ]
         },
         "layout": {
          "annotationdefaults": {
           "arrowcolor": "#2a3f5f",
           "arrowhead": 0,
           "arrowwidth": 1
          },
          "autotypenumbers": "strict",
          "coloraxis": {
           "colorbar": {
            "outlinewidth": 0,
            "ticks": ""
           }
          },
          "colorscale": {
           "diverging": [
            [
             0,
             "#8e0152"
            ],
            [
             0.1,
             "#c51b7d"
            ],
            [
             0.2,
             "#de77ae"
            ],
            [
             0.3,
             "#f1b6da"
            ],
            [
             0.4,
             "#fde0ef"
            ],
            [
             0.5,
             "#f7f7f7"
            ],
            [
             0.6,
             "#e6f5d0"
            ],
            [
             0.7,
             "#b8e186"
            ],
            [
             0.8,
             "#7fbc41"
            ],
            [
             0.9,
             "#4d9221"
            ],
            [
             1,
             "#276419"
            ]
           ],
           "sequential": [
            [
             0,
             "#0d0887"
            ],
            [
             0.1111111111111111,
             "#46039f"
            ],
            [
             0.2222222222222222,
             "#7201a8"
            ],
            [
             0.3333333333333333,
             "#9c179e"
            ],
            [
             0.4444444444444444,
             "#bd3786"
            ],
            [
             0.5555555555555556,
             "#d8576b"
            ],
            [
             0.6666666666666666,
             "#ed7953"
            ],
            [
             0.7777777777777778,
             "#fb9f3a"
            ],
            [
             0.8888888888888888,
             "#fdca26"
            ],
            [
             1,
             "#f0f921"
            ]
           ],
           "sequentialminus": [
            [
             0,
             "#0d0887"
            ],
            [
             0.1111111111111111,
             "#46039f"
            ],
            [
             0.2222222222222222,
             "#7201a8"
            ],
            [
             0.3333333333333333,
             "#9c179e"
            ],
            [
             0.4444444444444444,
             "#bd3786"
            ],
            [
             0.5555555555555556,
             "#d8576b"
            ],
            [
             0.6666666666666666,
             "#ed7953"
            ],
            [
             0.7777777777777778,
             "#fb9f3a"
            ],
            [
             0.8888888888888888,
             "#fdca26"
            ],
            [
             1,
             "#f0f921"
            ]
           ]
          },
          "colorway": [
           "#636efa",
           "#EF553B",
           "#00cc96",
           "#ab63fa",
           "#FFA15A",
           "#19d3f3",
           "#FF6692",
           "#B6E880",
           "#FF97FF",
           "#FECB52"
          ],
          "font": {
           "color": "#2a3f5f"
          },
          "geo": {
           "bgcolor": "white",
           "lakecolor": "white",
           "landcolor": "#E5ECF6",
           "showlakes": true,
           "showland": true,
           "subunitcolor": "white"
          },
          "hoverlabel": {
           "align": "left"
          },
          "hovermode": "closest",
          "mapbox": {
           "style": "light"
          },
          "paper_bgcolor": "white",
          "plot_bgcolor": "#E5ECF6",
          "polar": {
           "angularaxis": {
            "gridcolor": "white",
            "linecolor": "white",
            "ticks": ""
           },
           "bgcolor": "#E5ECF6",
           "radialaxis": {
            "gridcolor": "white",
            "linecolor": "white",
            "ticks": ""
           }
          },
          "scene": {
           "xaxis": {
            "backgroundcolor": "#E5ECF6",
            "gridcolor": "white",
            "gridwidth": 2,
            "linecolor": "white",
            "showbackground": true,
            "ticks": "",
            "zerolinecolor": "white"
           },
           "yaxis": {
            "backgroundcolor": "#E5ECF6",
            "gridcolor": "white",
            "gridwidth": 2,
            "linecolor": "white",
            "showbackground": true,
            "ticks": "",
            "zerolinecolor": "white"
           },
           "zaxis": {
            "backgroundcolor": "#E5ECF6",
            "gridcolor": "white",
            "gridwidth": 2,
            "linecolor": "white",
            "showbackground": true,
            "ticks": "",
            "zerolinecolor": "white"
           }
          },
          "shapedefaults": {
           "line": {
            "color": "#2a3f5f"
           }
          },
          "ternary": {
           "aaxis": {
            "gridcolor": "white",
            "linecolor": "white",
            "ticks": ""
           },
           "baxis": {
            "gridcolor": "white",
            "linecolor": "white",
            "ticks": ""
           },
           "bgcolor": "#E5ECF6",
           "caxis": {
            "gridcolor": "white",
            "linecolor": "white",
            "ticks": ""
           }
          },
          "title": {
           "x": 0.05
          },
          "xaxis": {
           "automargin": true,
           "gridcolor": "white",
           "linecolor": "white",
           "ticks": "",
           "title": {
            "standoff": 15
           },
           "zerolinecolor": "white",
           "zerolinewidth": 2
          },
          "yaxis": {
           "automargin": true,
           "gridcolor": "white",
           "linecolor": "white",
           "ticks": "",
           "title": {
            "standoff": 15
           },
           "zerolinecolor": "white",
           "zerolinewidth": 2
          }
         }
        },
        "title": {
         "text": "Weekly Item Volume with Increasing Trend Lines by StoreId and OrderType"
        },
        "width": 2400,
        "xaxis": {
         "anchor": "y",
         "domain": [
          0,
          0.1075
         ]
        },
        "xaxis2": {
         "anchor": "y2",
         "domain": [
          0.1275,
          0.235
         ]
        },
        "xaxis3": {
         "anchor": "y3",
         "domain": [
          0.255,
          0.3625
         ]
        },
        "xaxis4": {
         "anchor": "y4",
         "domain": [
          0.3825,
          0.49
         ]
        },
        "xaxis5": {
         "anchor": "y5",
         "domain": [
          0.51,
          0.6175
         ]
        },
        "xaxis6": {
         "anchor": "y6",
         "domain": [
          0.6375,
          0.745
         ]
        },
        "xaxis7": {
         "anchor": "y7",
         "domain": [
          0.765,
          0.8725
         ]
        },
        "xaxis8": {
         "anchor": "y8",
         "domain": [
          0.8925000000000001,
          1
         ]
        },
        "yaxis": {
         "anchor": "x",
         "domain": [
          0,
          1
         ]
        },
        "yaxis2": {
         "anchor": "x2",
         "domain": [
          0,
          1
         ]
        },
        "yaxis3": {
         "anchor": "x3",
         "domain": [
          0,
          1
         ]
        },
        "yaxis4": {
         "anchor": "x4",
         "domain": [
          0,
          1
         ]
        },
        "yaxis5": {
         "anchor": "x5",
         "domain": [
          0,
          1
         ]
        },
        "yaxis6": {
         "anchor": "x6",
         "domain": [
          0,
          1
         ]
        },
        "yaxis7": {
         "anchor": "x7",
         "domain": [
          0,
          1
         ]
        },
        "yaxis8": {
         "anchor": "x8",
         "domain": [
          0,
          1
         ]
        }
       }
      }
     },
     "metadata": {},
     "output_type": "display_data"
    }
   ],
   "source": [
    "import pandas as pd\n",
    "import numpy as np\n",
    "import plotly.graph_objects as go\n",
    "from plotly.subplots import make_subplots\n",
    "\n",
    "# df=pos_trend.copy()\n",
    "for i in [963280, 963260, 963290]:\n",
    "    \n",
    "    df=pos_trend[pos_trend['StoreId']==i]\n",
    "    df.sort_values(by=['MenuItemName'],inplace=True)\n",
    "\n",
    "    # Ensure WeekStartDate is datetime\n",
    "    df['WeekStartDate'] = pd.to_datetime(df['WeekStartDate'])\n",
    "\n",
    "    # Get unique StoreIds and OrderTypes for subplot grid\n",
    "    store_ids = df['StoreId'].unique().tolist()\n",
    "    order_types = df['OrderType'].unique().tolist()\n",
    "\n",
    "    n_rows, n_cols = len(store_ids), len(order_types)\n",
    "\n",
    "    # Create subplot grid\n",
    "    fig = make_subplots(\n",
    "        rows=n_rows,\n",
    "        cols=n_cols,\n",
    "        shared_xaxes=False,\n",
    "        shared_yaxes=False,\n",
    "        subplot_titles=[f\"{store} — {order}\" for store in store_ids for order in order_types],\n",
    "        # vertical_spacing=0.1,\n",
    "        # horizontal_spacing=0.07\n",
    "        vertical_spacing=0.04,  # reduced spacing\n",
    "    horizontal_spacing=0.02  # reduced spacing\n",
    "    )\n",
    "\n",
    "    # Keep track of shown legend items for MenuItemName\n",
    "    shown_items = set()\n",
    "\n",
    "    for i, store in enumerate(store_ids, start=1):\n",
    "        for j, order in enumerate(order_types, start=1):\n",
    "            sub_df = df[(df['StoreId'] == store) & (df['OrderType'] == order)]\n",
    "            if sub_df.empty:\n",
    "                continue\n",
    "            \n",
    "            for item in sub_df['MenuItemName'].unique():\n",
    "                item_df = sub_df[sub_df['MenuItemName'] == item].sort_values('WeekStartDate')\n",
    "                x = item_df['WeekStartDate']\n",
    "                y = item_df['item_weekly_volumn']\n",
    "                \n",
    "                if len(item_df) < 2:\n",
    "                    continue  # skip if not enough points\n",
    "                \n",
    "                # Show legend only once per MenuItemName globally\n",
    "                show_leg = item not in shown_items\n",
    "                shown_items.add(item)\n",
    "                \n",
    "                # 1) Plot actual weekly volume line\n",
    "                fig.add_trace(\n",
    "                    go.Scatter(\n",
    "                        x=x,\n",
    "                        y=y,\n",
    "                        mode='lines+markers',\n",
    "                        name=item,\n",
    "                        showlegend=show_leg,\n",
    "                        legendgroup=item,\n",
    "                        hoverinfo='name+x+y'\n",
    "                    ),\n",
    "                    row=i,\n",
    "                    col=j\n",
    "                )\n",
    "                \n",
    "                # 2) Compute linear regression for trend line\n",
    "                x_ord = x.map(pd.Timestamp.toordinal).values\n",
    "                slope, intercept = np.polyfit(x_ord, y, 1)\n",
    "                y_hat = slope * x_ord + intercept\n",
    "                \n",
    "                # Calculate R^2\n",
    "                ss_res = np.sum((y - y_hat) ** 2)\n",
    "                ss_tot = np.sum((y - np.mean(y)) ** 2)\n",
    "                r2 = 1 - ss_res / ss_tot if ss_tot != 0 else np.nan\n",
    "                \n",
    "                # 3) Plot trend line (dashed)\n",
    "                fig.add_trace(\n",
    "                    go.Scatter(\n",
    "                        x=x,\n",
    "                        y=y_hat,\n",
    "                        mode='lines',\n",
    "                        line=dict(dash='dash', color='green'),\n",
    "                        showlegend=False,\n",
    "                        hoverinfo='none'\n",
    "                    ),\n",
    "                    row=i,\n",
    "                    col=j\n",
    "                )\n",
    "                \n",
    "                # 4) Add slope and R^2 annotation (top left corner of subplot)\n",
    "                sp_idx = (i - 1) * n_cols + j\n",
    "                xref = f\"x{sp_idx}\" if sp_idx > 1 else \"x\"\n",
    "                yref = f\"y{sp_idx}\" if sp_idx > 1 else \"y\"\n",
    "                \n",
    "                fig.add_annotation(\n",
    "                    xref=xref,\n",
    "                    yref=yref,\n",
    "                    x=min(x),\n",
    "                    y=max(y_hat),\n",
    "                    text=f\"{item[0:3]}_{slope:.2f}\",\n",
    "                    showarrow=False,\n",
    "                    font=dict(size=9, color=\"black\"),\n",
    "                    bgcolor=\"rgba(255,255,255,0.7)\",\n",
    "                    xanchor=\"left\",\n",
    "                    yanchor=\"top\"\n",
    "                )\n",
    "\n",
    "    # Final layout tweaks\n",
    "    fig.update_yaxes(matches=None)\n",
    "    fig.update_layout(\n",
    "        height=400 * n_rows,\n",
    "        width=300 * n_cols,\n",
    "        title=\"Weekly Item Volume with Increasing Trend Lines by StoreId and OrderType\",\n",
    "        legend_title_text=\"MenuItemName\",\n",
    "        hovermode='x unified'\n",
    "    )\n",
    "\n",
    "    fig.show()\n"
   ]
  },
  {
   "cell_type": "code",
   "execution_count": 314,
   "metadata": {},
   "outputs": [
    {
     "data": {
      "text/html": [
       "<div>\n",
       "<style scoped>\n",
       "    .dataframe tbody tr th:only-of-type {\n",
       "        vertical-align: middle;\n",
       "    }\n",
       "\n",
       "    .dataframe tbody tr th {\n",
       "        vertical-align: top;\n",
       "    }\n",
       "\n",
       "    .dataframe thead th {\n",
       "        text-align: right;\n",
       "    }\n",
       "</style>\n",
       "<table border=\"1\" class=\"dataframe\">\n",
       "  <thead>\n",
       "    <tr style=\"text-align: right;\">\n",
       "      <th></th>\n",
       "      <th>StoreId</th>\n",
       "      <th>OrderType</th>\n",
       "      <th>MenuItemName</th>\n",
       "      <th>WeekStartDate</th>\n",
       "      <th>item_weekly_volumn</th>\n",
       "      <th>item_weekly_revenue</th>\n",
       "      <th>TrendSlope</th>\n",
       "    </tr>\n",
       "  </thead>\n",
       "  <tbody>\n",
       "    <tr>\n",
       "      <th>108</th>\n",
       "      <td>963260</td>\n",
       "      <td>UEats-Delivery</td>\n",
       "      <td>LIV WRAP</td>\n",
       "      <td>2025-04-28</td>\n",
       "      <td>8</td>\n",
       "      <td>182.65</td>\n",
       "      <td>1.608163</td>\n",
       "    </tr>\n",
       "    <tr>\n",
       "      <th>109</th>\n",
       "      <td>963260</td>\n",
       "      <td>UEats-Delivery</td>\n",
       "      <td>LIV WRAP</td>\n",
       "      <td>2025-05-05</td>\n",
       "      <td>9</td>\n",
       "      <td>192.80</td>\n",
       "      <td>1.608163</td>\n",
       "    </tr>\n",
       "    <tr>\n",
       "      <th>107</th>\n",
       "      <td>963260</td>\n",
       "      <td>UEats-Delivery</td>\n",
       "      <td>LIV WRAP</td>\n",
       "      <td>2025-05-12</td>\n",
       "      <td>14</td>\n",
       "      <td>292.25</td>\n",
       "      <td>1.608163</td>\n",
       "    </tr>\n",
       "    <tr>\n",
       "      <th>110</th>\n",
       "      <td>963260</td>\n",
       "      <td>UEats-Delivery</td>\n",
       "      <td>LIV WRAP</td>\n",
       "      <td>2025-05-19</td>\n",
       "      <td>8</td>\n",
       "      <td>166.71</td>\n",
       "      <td>1.608163</td>\n",
       "    </tr>\n",
       "    <tr>\n",
       "      <th>105</th>\n",
       "      <td>963260</td>\n",
       "      <td>UEats-Delivery</td>\n",
       "      <td>LIV WRAP</td>\n",
       "      <td>2025-05-26</td>\n",
       "      <td>29</td>\n",
       "      <td>598.56</td>\n",
       "      <td>1.608163</td>\n",
       "    </tr>\n",
       "    <tr>\n",
       "      <th>106</th>\n",
       "      <td>963260</td>\n",
       "      <td>UEats-Delivery</td>\n",
       "      <td>LIV WRAP</td>\n",
       "      <td>2025-06-02</td>\n",
       "      <td>76</td>\n",
       "      <td>1867.15</td>\n",
       "      <td>1.608163</td>\n",
       "    </tr>\n",
       "    <tr>\n",
       "      <th>346</th>\n",
       "      <td>963280</td>\n",
       "      <td>UEats-Delivery</td>\n",
       "      <td>LIV WRAP</td>\n",
       "      <td>2025-04-28</td>\n",
       "      <td>16</td>\n",
       "      <td>349.16</td>\n",
       "      <td>1.387755</td>\n",
       "    </tr>\n",
       "    <tr>\n",
       "      <th>347</th>\n",
       "      <td>963280</td>\n",
       "      <td>UEats-Delivery</td>\n",
       "      <td>LIV WRAP</td>\n",
       "      <td>2025-05-05</td>\n",
       "      <td>18</td>\n",
       "      <td>404.52</td>\n",
       "      <td>1.387755</td>\n",
       "    </tr>\n",
       "    <tr>\n",
       "      <th>348</th>\n",
       "      <td>963280</td>\n",
       "      <td>UEats-Delivery</td>\n",
       "      <td>LIV WRAP</td>\n",
       "      <td>2025-05-12</td>\n",
       "      <td>18</td>\n",
       "      <td>371.61</td>\n",
       "      <td>1.387755</td>\n",
       "    </tr>\n",
       "    <tr>\n",
       "      <th>349</th>\n",
       "      <td>963280</td>\n",
       "      <td>UEats-Delivery</td>\n",
       "      <td>LIV WRAP</td>\n",
       "      <td>2025-05-19</td>\n",
       "      <td>18</td>\n",
       "      <td>371.61</td>\n",
       "      <td>1.387755</td>\n",
       "    </tr>\n",
       "    <tr>\n",
       "      <th>350</th>\n",
       "      <td>963280</td>\n",
       "      <td>UEats-Delivery</td>\n",
       "      <td>LIV WRAP</td>\n",
       "      <td>2025-05-26</td>\n",
       "      <td>33</td>\n",
       "      <td>686.96</td>\n",
       "      <td>1.387755</td>\n",
       "    </tr>\n",
       "    <tr>\n",
       "      <th>351</th>\n",
       "      <td>963280</td>\n",
       "      <td>UEats-Delivery</td>\n",
       "      <td>LIV WRAP</td>\n",
       "      <td>2025-06-02</td>\n",
       "      <td>75</td>\n",
       "      <td>1754.25</td>\n",
       "      <td>1.387755</td>\n",
       "    </tr>\n",
       "    <tr>\n",
       "      <th>542</th>\n",
       "      <td>963290</td>\n",
       "      <td>UEats-Delivery</td>\n",
       "      <td>LIV WRAP</td>\n",
       "      <td>2025-04-28</td>\n",
       "      <td>59</td>\n",
       "      <td>1304.24</td>\n",
       "      <td>1.110204</td>\n",
       "    </tr>\n",
       "    <tr>\n",
       "      <th>541</th>\n",
       "      <td>963290</td>\n",
       "      <td>UEats-Delivery</td>\n",
       "      <td>LIV WRAP</td>\n",
       "      <td>2025-05-05</td>\n",
       "      <td>42</td>\n",
       "      <td>861.60</td>\n",
       "      <td>1.110204</td>\n",
       "    </tr>\n",
       "    <tr>\n",
       "      <th>543</th>\n",
       "      <td>963290</td>\n",
       "      <td>UEats-Delivery</td>\n",
       "      <td>LIV WRAP</td>\n",
       "      <td>2025-05-12</td>\n",
       "      <td>72</td>\n",
       "      <td>1468.92</td>\n",
       "      <td>1.110204</td>\n",
       "    </tr>\n",
       "    <tr>\n",
       "      <th>544</th>\n",
       "      <td>963290</td>\n",
       "      <td>UEats-Delivery</td>\n",
       "      <td>LIV WRAP</td>\n",
       "      <td>2025-05-19</td>\n",
       "      <td>42</td>\n",
       "      <td>864.72</td>\n",
       "      <td>1.110204</td>\n",
       "    </tr>\n",
       "    <tr>\n",
       "      <th>545</th>\n",
       "      <td>963290</td>\n",
       "      <td>UEats-Delivery</td>\n",
       "      <td>LIV WRAP</td>\n",
       "      <td>2025-05-26</td>\n",
       "      <td>56</td>\n",
       "      <td>1165.48</td>\n",
       "      <td>1.110204</td>\n",
       "    </tr>\n",
       "    <tr>\n",
       "      <th>546</th>\n",
       "      <td>963290</td>\n",
       "      <td>UEats-Delivery</td>\n",
       "      <td>LIV WRAP</td>\n",
       "      <td>2025-06-02</td>\n",
       "      <td>111</td>\n",
       "      <td>2685.83</td>\n",
       "      <td>1.110204</td>\n",
       "    </tr>\n",
       "    <tr>\n",
       "      <th>548</th>\n",
       "      <td>963290</td>\n",
       "      <td>UEats-Pickup</td>\n",
       "      <td>LIV WRAP</td>\n",
       "      <td>2025-05-19</td>\n",
       "      <td>3</td>\n",
       "      <td>63.27</td>\n",
       "      <td>1.642857</td>\n",
       "    </tr>\n",
       "    <tr>\n",
       "      <th>547</th>\n",
       "      <td>963290</td>\n",
       "      <td>UEats-Pickup</td>\n",
       "      <td>LIV WRAP</td>\n",
       "      <td>2025-05-26</td>\n",
       "      <td>3</td>\n",
       "      <td>58.77</td>\n",
       "      <td>1.642857</td>\n",
       "    </tr>\n",
       "    <tr>\n",
       "      <th>549</th>\n",
       "      <td>963290</td>\n",
       "      <td>UEats-Pickup</td>\n",
       "      <td>LIV WRAP</td>\n",
       "      <td>2025-06-02</td>\n",
       "      <td>26</td>\n",
       "      <td>607.73</td>\n",
       "      <td>1.642857</td>\n",
       "    </tr>\n",
       "  </tbody>\n",
       "</table>\n",
       "</div>"
      ],
      "text/plain": [
       "     StoreId       OrderType MenuItemName WeekStartDate  item_weekly_volumn  \\\n",
       "108   963260  UEats-Delivery     LIV WRAP    2025-04-28                   8   \n",
       "109   963260  UEats-Delivery     LIV WRAP    2025-05-05                   9   \n",
       "107   963260  UEats-Delivery     LIV WRAP    2025-05-12                  14   \n",
       "110   963260  UEats-Delivery     LIV WRAP    2025-05-19                   8   \n",
       "105   963260  UEats-Delivery     LIV WRAP    2025-05-26                  29   \n",
       "106   963260  UEats-Delivery     LIV WRAP    2025-06-02                  76   \n",
       "346   963280  UEats-Delivery     LIV WRAP    2025-04-28                  16   \n",
       "347   963280  UEats-Delivery     LIV WRAP    2025-05-05                  18   \n",
       "348   963280  UEats-Delivery     LIV WRAP    2025-05-12                  18   \n",
       "349   963280  UEats-Delivery     LIV WRAP    2025-05-19                  18   \n",
       "350   963280  UEats-Delivery     LIV WRAP    2025-05-26                  33   \n",
       "351   963280  UEats-Delivery     LIV WRAP    2025-06-02                  75   \n",
       "542   963290  UEats-Delivery     LIV WRAP    2025-04-28                  59   \n",
       "541   963290  UEats-Delivery     LIV WRAP    2025-05-05                  42   \n",
       "543   963290  UEats-Delivery     LIV WRAP    2025-05-12                  72   \n",
       "544   963290  UEats-Delivery     LIV WRAP    2025-05-19                  42   \n",
       "545   963290  UEats-Delivery     LIV WRAP    2025-05-26                  56   \n",
       "546   963290  UEats-Delivery     LIV WRAP    2025-06-02                 111   \n",
       "548   963290    UEats-Pickup     LIV WRAP    2025-05-19                   3   \n",
       "547   963290    UEats-Pickup     LIV WRAP    2025-05-26                   3   \n",
       "549   963290    UEats-Pickup     LIV WRAP    2025-06-02                  26   \n",
       "\n",
       "     item_weekly_revenue  TrendSlope  \n",
       "108               182.65    1.608163  \n",
       "109               192.80    1.608163  \n",
       "107               292.25    1.608163  \n",
       "110               166.71    1.608163  \n",
       "105               598.56    1.608163  \n",
       "106              1867.15    1.608163  \n",
       "346               349.16    1.387755  \n",
       "347               404.52    1.387755  \n",
       "348               371.61    1.387755  \n",
       "349               371.61    1.387755  \n",
       "350               686.96    1.387755  \n",
       "351              1754.25    1.387755  \n",
       "542              1304.24    1.110204  \n",
       "541               861.60    1.110204  \n",
       "543              1468.92    1.110204  \n",
       "544               864.72    1.110204  \n",
       "545              1165.48    1.110204  \n",
       "546              2685.83    1.110204  \n",
       "548                63.27    1.642857  \n",
       "547                58.77    1.642857  \n",
       "549               607.73    1.642857  "
      ]
     },
     "execution_count": 314,
     "metadata": {},
     "output_type": "execute_result"
    }
   ],
   "source": [
    "pos_trend['TrendSlope'].max()\n",
    "pos_trend[pos_trend['TrendSlope'] >=1].sort_values(by=['StoreId', 'OrderType', 'MenuItemName','WeekStartDate'])\n"
   ]
  },
  {
   "cell_type": "code",
   "execution_count": 307,
   "metadata": {},
   "outputs": [
    {
     "data": {
      "text/html": [
       "<div>\n",
       "<style scoped>\n",
       "    .dataframe tbody tr th:only-of-type {\n",
       "        vertical-align: middle;\n",
       "    }\n",
       "\n",
       "    .dataframe tbody tr th {\n",
       "        vertical-align: top;\n",
       "    }\n",
       "\n",
       "    .dataframe thead th {\n",
       "        text-align: right;\n",
       "    }\n",
       "</style>\n",
       "<table border=\"1\" class=\"dataframe\">\n",
       "  <thead>\n",
       "    <tr style=\"text-align: right;\">\n",
       "      <th></th>\n",
       "      <th>StoreId</th>\n",
       "      <th>OrderType</th>\n",
       "      <th>MenuItemName</th>\n",
       "      <th>WeekStartDate</th>\n",
       "      <th>item_weekly_volumn</th>\n",
       "      <th>item_weekly_revenue</th>\n",
       "      <th>TrendSlope</th>\n",
       "    </tr>\n",
       "  </thead>\n",
       "  <tbody>\n",
       "    <tr>\n",
       "      <th>542</th>\n",
       "      <td>963290</td>\n",
       "      <td>UEats-Delivery</td>\n",
       "      <td>LIV WRAP</td>\n",
       "      <td>2025-04-28</td>\n",
       "      <td>59</td>\n",
       "      <td>1304.24</td>\n",
       "      <td>1.110204</td>\n",
       "    </tr>\n",
       "    <tr>\n",
       "      <th>541</th>\n",
       "      <td>963290</td>\n",
       "      <td>UEats-Delivery</td>\n",
       "      <td>LIV WRAP</td>\n",
       "      <td>2025-05-05</td>\n",
       "      <td>42</td>\n",
       "      <td>861.60</td>\n",
       "      <td>1.110204</td>\n",
       "    </tr>\n",
       "    <tr>\n",
       "      <th>543</th>\n",
       "      <td>963290</td>\n",
       "      <td>UEats-Delivery</td>\n",
       "      <td>LIV WRAP</td>\n",
       "      <td>2025-05-12</td>\n",
       "      <td>72</td>\n",
       "      <td>1468.92</td>\n",
       "      <td>1.110204</td>\n",
       "    </tr>\n",
       "    <tr>\n",
       "      <th>544</th>\n",
       "      <td>963290</td>\n",
       "      <td>UEats-Delivery</td>\n",
       "      <td>LIV WRAP</td>\n",
       "      <td>2025-05-19</td>\n",
       "      <td>42</td>\n",
       "      <td>864.72</td>\n",
       "      <td>1.110204</td>\n",
       "    </tr>\n",
       "    <tr>\n",
       "      <th>545</th>\n",
       "      <td>963290</td>\n",
       "      <td>UEats-Delivery</td>\n",
       "      <td>LIV WRAP</td>\n",
       "      <td>2025-05-26</td>\n",
       "      <td>56</td>\n",
       "      <td>1165.48</td>\n",
       "      <td>1.110204</td>\n",
       "    </tr>\n",
       "    <tr>\n",
       "      <th>546</th>\n",
       "      <td>963290</td>\n",
       "      <td>UEats-Delivery</td>\n",
       "      <td>LIV WRAP</td>\n",
       "      <td>2025-06-02</td>\n",
       "      <td>111</td>\n",
       "      <td>2685.83</td>\n",
       "      <td>1.110204</td>\n",
       "    </tr>\n",
       "  </tbody>\n",
       "</table>\n",
       "</div>"
      ],
      "text/plain": [
       "     StoreId       OrderType MenuItemName WeekStartDate  item_weekly_volumn  \\\n",
       "542   963290  UEats-Delivery     LIV WRAP    2025-04-28                  59   \n",
       "541   963290  UEats-Delivery     LIV WRAP    2025-05-05                  42   \n",
       "543   963290  UEats-Delivery     LIV WRAP    2025-05-12                  72   \n",
       "544   963290  UEats-Delivery     LIV WRAP    2025-05-19                  42   \n",
       "545   963290  UEats-Delivery     LIV WRAP    2025-05-26                  56   \n",
       "546   963290  UEats-Delivery     LIV WRAP    2025-06-02                 111   \n",
       "\n",
       "     item_weekly_revenue  TrendSlope  \n",
       "542              1304.24    1.110204  \n",
       "541               861.60    1.110204  \n",
       "543              1468.92    1.110204  \n",
       "544               864.72    1.110204  \n",
       "545              1165.48    1.110204  \n",
       "546              2685.83    1.110204  "
      ]
     },
     "execution_count": 307,
     "metadata": {},
     "output_type": "execute_result"
    }
   ],
   "source": [
    "# NOTE: insight 3 4\n",
    "# First Alert: The weekly order volume of the LIV Wrap declined by 86% on Uber Eats at the West Kendall (London Square) 963290 location.\n",
    "\n",
    "pos_trend[(pos_trend['MenuItemName']=='LIV WRAP') & (pos_trend['StoreId']==963290) & (pos_trend['OrderType']=='UEats-Delivery')].sort_values('WeekStartDate')\n",
    "\n"
   ]
  },
  {
   "cell_type": "code",
   "execution_count": null,
   "metadata": {},
   "outputs": [],
   "source": []
  }
 ],
 "metadata": {
  "kernelspec": {
   "display_name": "hm",
   "language": "python",
   "name": "python3"
  },
  "language_info": {
   "codemirror_mode": {
    "name": "ipython",
    "version": 3
   },
   "file_extension": ".py",
   "mimetype": "text/x-python",
   "name": "python",
   "nbconvert_exporter": "python",
   "pygments_lexer": "ipython3",
   "version": "3.7.9"
  }
 },
 "nbformat": 4,
 "nbformat_minor": 2
}
